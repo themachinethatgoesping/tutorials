{
 "cells": [
  {
   "cell_type": "code",
   "execution_count": 3,
   "id": "9f46fee5-7235-48a7-a273-c73ee37fe7d7",
   "metadata": {
    "execution": {
     "iopub.execute_input": "2024-11-20T12:17:59.217465Z",
     "iopub.status.busy": "2024-11-20T12:17:59.217227Z",
     "iopub.status.idle": "2024-11-20T12:17:59.220650Z",
     "shell.execute_reply": "2024-11-20T12:17:59.220328Z",
     "shell.execute_reply.started": "2024-11-20T12:17:59.217451Z"
    }
   },
   "outputs": [],
   "source": [
    "%matplotlib widget\n",
    "\n",
    "from matplotlib import pyplot as plt\n",
    "import numpy as np\n",
    "import pandas as pd\n",
    "\n",
    "import pickle\n",
    "\n",
    "import themachinethatgoesping as Ping"
   ]
  },
  {
   "cell_type": "code",
   "execution_count": 4,
   "id": "9c8b5843-f57b-425e-8f37-5ca0ee610fc5",
   "metadata": {
    "execution": {
     "iopub.execute_input": "2024-11-20T12:18:10.253003Z",
     "iopub.status.busy": "2024-11-20T12:18:10.252815Z",
     "iopub.status.idle": "2024-11-20T12:18:10.383243Z",
     "shell.execute_reply": "2024-11-20T12:18:10.382820Z",
     "shell.execute_reply.started": "2024-11-20T12:18:10.252990Z"
    }
   },
   "outputs": [
    {
     "name": "stdout",
     "output_type": "stream",
     "text": [
      "/ssd/src/themachinethatgoesping/tutorials\n"
     ]
    }
   ],
   "source": [
    "!pwd"
   ]
  },
  {
   "cell_type": "code",
   "execution_count": 2,
   "id": "d7c61ef4-1220-49fc-8d84-768eca0aa211",
   "metadata": {
    "execution": {
     "iopub.execute_input": "2024-11-20T12:17:44.022598Z",
     "iopub.status.busy": "2024-11-20T12:17:44.022411Z",
     "iopub.status.idle": "2024-11-20T12:17:44.671250Z",
     "shell.execute_reply": "2024-11-20T12:17:44.670346Z",
     "shell.execute_reply.started": "2024-11-20T12:17:44.022587Z"
    }
   },
   "outputs": [
    {
     "name": "stdout",
     "output_type": "stream",
     "text": [
      "Found 23 files + 1 duplicates (discarded)\n",
      "Found 435 files\n"
     ]
    },
    {
     "ename": "FileNotFoundError",
     "evalue": "[Errno 2] No such file or directory: 'files.pcl'",
     "output_type": "error",
     "traceback": [
      "\u001b[0;31m---------------------------------------------------------------------------\u001b[0m",
      "\u001b[0;31mFileNotFoundError\u001b[0m                         Traceback (most recent call last)",
      "Cell \u001b[0;32mIn[2], line 5\u001b[0m\n\u001b[1;32m      1\u001b[0m files \u001b[38;5;241m=\u001b[39m Ping\u001b[38;5;241m.\u001b[39mechosounders\u001b[38;5;241m.\u001b[39mindex_functions\u001b[38;5;241m.\u001b[39mfind_files(\u001b[38;5;124m'\u001b[39m\u001b[38;5;124m.\u001b[39m\u001b[38;5;124m'\u001b[39m,\u001b[38;5;124m'\u001b[39m\u001b[38;5;124m.all\u001b[39m\u001b[38;5;124m'\u001b[39m)\n\u001b[1;32m      2\u001b[0m files \u001b[38;5;241m=\u001b[39m Ping\u001b[38;5;241m.\u001b[39mechosounders\u001b[38;5;241m.\u001b[39mindex_functions\u001b[38;5;241m.\u001b[39mfind_files(\n\u001b[1;32m      3\u001b[0m     \u001b[38;5;124m'\u001b[39m\u001b[38;5;124m/home/users/data/no_backup/GEOMAR/Meteor-M143/MBES/M143_EM710_raw/\u001b[39m\u001b[38;5;124m'\u001b[39m,[\u001b[38;5;124m'\u001b[39m\u001b[38;5;124m.all\u001b[39m\u001b[38;5;124m'\u001b[39m,\u001b[38;5;124m'\u001b[39m\u001b[38;5;124m.wcd\u001b[39m\u001b[38;5;124m'\u001b[39m]\n\u001b[1;32m      4\u001b[0m )\n\u001b[0;32m----> 5\u001b[0m files \u001b[38;5;241m=\u001b[39m pickle\u001b[38;5;241m.\u001b[39mload(\u001b[38;5;28;43mopen\u001b[39;49m\u001b[43m(\u001b[49m\u001b[38;5;124;43m'\u001b[39;49m\u001b[38;5;124;43mfiles.pcl\u001b[39;49m\u001b[38;5;124;43m'\u001b[39;49m\u001b[43m,\u001b[49m\u001b[38;5;124;43m'\u001b[39;49m\u001b[38;5;124;43mrb\u001b[39;49m\u001b[38;5;124;43m'\u001b[39;49m\u001b[43m)\u001b[49m)\n\u001b[1;32m      7\u001b[0m \u001b[38;5;66;03m#files = Ping.echosounders.index_functions.find_files(\u001b[39;00m\n\u001b[1;32m      8\u001b[0m \u001b[38;5;66;03m#    '/home/data/test_data/Egmont_Key/dotall/',['.all','.wcd']\u001b[39;00m\n\u001b[1;32m      9\u001b[0m \u001b[38;5;66;03m#)\u001b[39;00m\n\u001b[0;32m   (...)\u001b[0m\n\u001b[1;32m     20\u001b[0m \u001b[38;5;66;03m#     '/home/ssd/src/themachinethatgoesping/tutorials/unittest_data/',['.wcd']\u001b[39;00m\n\u001b[1;32m     21\u001b[0m \u001b[38;5;66;03m# )\u001b[39;00m\n\u001b[1;32m     24\u001b[0m cache_files \u001b[38;5;241m=\u001b[39m Ping\u001b[38;5;241m.\u001b[39mechosounders\u001b[38;5;241m.\u001b[39mindex_functions\u001b[38;5;241m.\u001b[39mget_index_paths(files)\n",
      "File \u001b[0;32m/ssd/opt/miniforge3/envs/dev/lib/python3.12/site-packages/IPython/core/interactiveshell.py:324\u001b[0m, in \u001b[0;36m_modified_open\u001b[0;34m(file, *args, **kwargs)\u001b[0m\n\u001b[1;32m    317\u001b[0m \u001b[38;5;28;01mif\u001b[39;00m file \u001b[38;5;129;01min\u001b[39;00m {\u001b[38;5;241m0\u001b[39m, \u001b[38;5;241m1\u001b[39m, \u001b[38;5;241m2\u001b[39m}:\n\u001b[1;32m    318\u001b[0m     \u001b[38;5;28;01mraise\u001b[39;00m \u001b[38;5;167;01mValueError\u001b[39;00m(\n\u001b[1;32m    319\u001b[0m         \u001b[38;5;124mf\u001b[39m\u001b[38;5;124m\"\u001b[39m\u001b[38;5;124mIPython won\u001b[39m\u001b[38;5;124m'\u001b[39m\u001b[38;5;124mt let you open fd=\u001b[39m\u001b[38;5;132;01m{\u001b[39;00mfile\u001b[38;5;132;01m}\u001b[39;00m\u001b[38;5;124m by default \u001b[39m\u001b[38;5;124m\"\u001b[39m\n\u001b[1;32m    320\u001b[0m         \u001b[38;5;124m\"\u001b[39m\u001b[38;5;124mas it is likely to crash IPython. If you know what you are doing, \u001b[39m\u001b[38;5;124m\"\u001b[39m\n\u001b[1;32m    321\u001b[0m         \u001b[38;5;124m\"\u001b[39m\u001b[38;5;124myou can use builtins\u001b[39m\u001b[38;5;124m'\u001b[39m\u001b[38;5;124m open.\u001b[39m\u001b[38;5;124m\"\u001b[39m\n\u001b[1;32m    322\u001b[0m     )\n\u001b[0;32m--> 324\u001b[0m \u001b[38;5;28;01mreturn\u001b[39;00m \u001b[43mio_open\u001b[49m\u001b[43m(\u001b[49m\u001b[43mfile\u001b[49m\u001b[43m,\u001b[49m\u001b[43m \u001b[49m\u001b[38;5;241;43m*\u001b[39;49m\u001b[43margs\u001b[49m\u001b[43m,\u001b[49m\u001b[43m \u001b[49m\u001b[38;5;241;43m*\u001b[39;49m\u001b[38;5;241;43m*\u001b[39;49m\u001b[43mkwargs\u001b[49m\u001b[43m)\u001b[49m\n",
      "\u001b[0;31mFileNotFoundError\u001b[0m: [Errno 2] No such file or directory: 'files.pcl'"
     ]
    }
   ],
   "source": [
    "files = Ping.echosounders.index_functions.find_files('.','.all')\n",
    "files = Ping.echosounders.index_functions.find_files(\n",
    "    '/home/users/data/no_backup/GEOMAR/Meteor-M143/MBES/M143_EM710_raw/',['.all','.wcd']\n",
    ")\n",
    "files = pickle.load(open('files.pcl','rb'))\n",
    "\n",
    "#files = Ping.echosounders.index_functions.find_files(\n",
    "#    '/home/data/test_data/Egmont_Key/dotall/',['.all','.wcd']\n",
    "#)\n",
    "\n",
    "# files = Ping.echosounders.index_functions.find_files(\n",
    "#     '/home/data/turbeams/TURBEAMS_data_crunshing/campaigns/TURBEAMS_December_2023_25/',['.all','.wcd']\n",
    "# )\n",
    "\n",
    "    \n",
    "# files = Ping.echosounders.index_functions.find_files(\n",
    "#     '/home/ssd/src/themachinethatgoesping/tutorials/unittest_data/',['.all','.wcd']\n",
    "# )\n",
    "# files = Ping.echosounders.index_functions.find_files(\n",
    "#     '/home/ssd/src/themachinethatgoesping/tutorials/unittest_data/',['.wcd']\n",
    "# )\n",
    "\n",
    "                                                    \n",
    "cache_files = Ping.echosounders.index_functions.get_index_paths(files)\n",
    "\n",
    "fh = Ping.echosounders.kongsbergall.KongsbergAllFileHandler(files,cache_files)"
   ]
  },
  {
   "cell_type": "code",
   "execution_count": null,
   "id": "f1b0971c-cd11-4b9d-9d76-133e195d6995",
   "metadata": {
    "execution": {
     "iopub.status.busy": "2024-11-20T12:17:44.671494Z",
     "iopub.status.idle": "2024-11-20T12:17:44.671618Z",
     "shell.execute_reply": "2024-11-20T12:17:44.671562Z",
     "shell.execute_reply.started": "2024-11-20T12:17:44.671557Z"
    }
   },
   "outputs": [],
   "source": [
    "print(fh)"
   ]
  },
  {
   "cell_type": "code",
   "execution_count": null,
   "id": "411bcc66-393b-476c-9e56-2e662867e83c",
   "metadata": {
    "execution": {
     "iopub.status.busy": "2024-11-20T12:17:44.672399Z",
     "iopub.status.idle": "2024-11-20T12:17:44.672620Z",
     "shell.execute_reply": "2024-11-20T12:17:44.672516Z",
     "shell.execute_reply.started": "2024-11-20T12:17:44.672508Z"
    }
   },
   "outputs": [],
   "source": [
    "pings = fh.get_pings()\n",
    "len(pings)"
   ]
  },
  {
   "cell_type": "code",
   "execution_count": null,
   "id": "c072fc6f-1f98-4c8a-8187-38deb150a0bf",
   "metadata": {
    "execution": {
     "iopub.status.busy": "2024-11-20T12:17:44.672895Z",
     "iopub.status.idle": "2024-11-20T12:17:44.673017Z",
     "shell.execute_reply": "2024-11-20T12:17:44.672961Z",
     "shell.execute_reply.started": "2024-11-20T12:17:44.672956Z"
    }
   },
   "outputs": [],
   "source": [
    "all_pings = Ping.pingprocessing.filter_pings.by_features(fh.get_pings(),['watercolumn.amplitudes'])\n",
    "pings_per_survey = Ping.pingprocessing.split_pings.by_time_difference(all_pings,10*60)\n",
    "\n",
    "for k, p in pings_per_survey.items():\n",
    "    print(k,len(p))                                                        "
   ]
  },
  {
   "cell_type": "code",
   "execution_count": null,
   "id": "6eeb1d21-65cb-4230-ab20-4d5151ba5aa0",
   "metadata": {
    "execution": {
     "iopub.status.busy": "2024-11-20T12:17:44.673407Z",
     "iopub.status.idle": "2024-11-20T12:17:44.673513Z",
     "shell.execute_reply": "2024-11-20T12:17:44.673466Z",
     "shell.execute_reply.started": "2024-11-20T12:17:44.673461Z"
    }
   },
   "outputs": [],
   "source": [
    "fig_nav, ax_nav = Ping.pingprocessing.overview.nav_plot.create_figure(\n",
    "    'Surveys',                                                                      \n",
    "    #background_image_path='/home/users/data/no_backup/GEOMAR/Meteor-M143/gis/flaremap_export/indication/-77_5_individual-indication-supermap-downsampled-3-1-center-sector-1mxy-1mz-downsampled-3-[4].tiff',\n",
    "\n",
    ")\n",
    "\n",
    "for k, pings in pings_per_survey.items():\n",
    "    overview = Ping.pingprocessing.overview.get_ping_overview(pings)\n",
    "    overview.plot_navigation(ax_nav, label=k)\n",
    "\n",
    "ax_nav.legend()"
   ]
  },
  {
   "cell_type": "code",
   "execution_count": null,
   "id": "fc6c78e0-e100-4b75-a0e8-ed1f0f01ef0a",
   "metadata": {
    "execution": {
     "iopub.status.busy": "2024-11-20T12:17:44.673815Z",
     "iopub.status.idle": "2024-11-20T12:17:44.673918Z",
     "shell.execute_reply": "2024-11-20T12:17:44.673873Z",
     "shell.execute_reply.started": "2024-11-20T12:17:44.673868Z"
    }
   },
   "outputs": [],
   "source": [
    "from tqdm.auto import tqdm\n",
    "for ping in tqdm(all_pings):\n",
    "    pass"
   ]
  },
  {
   "cell_type": "code",
   "execution_count": null,
   "id": "660157fa-941c-4e61-9bc4-177704f6e9bb",
   "metadata": {
    "execution": {
     "iopub.status.busy": "2024-11-20T12:17:44.674513Z",
     "iopub.status.idle": "2024-11-20T12:17:44.674652Z",
     "shell.execute_reply": "2024-11-20T12:17:44.674595Z",
     "shell.execute_reply.started": "2024-11-20T12:17:44.674589Z"
    }
   },
   "outputs": [],
   "source": [
    "ping.watercolumn.get_amplitudes()"
   ]
  },
  {
   "cell_type": "code",
   "execution_count": null,
   "id": "f6b0484a-ef92-40d2-a8ae-52113c987372",
   "metadata": {
    "execution": {
     "iopub.status.busy": "2024-11-20T12:17:44.675109Z",
     "iopub.status.idle": "2024-11-20T12:17:44.675214Z",
     "shell.execute_reply": "2024-11-20T12:17:44.675167Z",
     "shell.execute_reply.started": "2024-11-20T12:17:44.675162Z"
    }
   },
   "outputs": [],
   "source": [
    "pings = pings_per_survey[5]\n",
    "pings = all_pings\n",
    "\n",
    "pss = Ping.echosounders.pingtools.PingSampleSelector()\n",
    "pss.select_beam_range_by_angles(-3,3,1)\n",
    "echodata = Ping.pingprocessing.watercolumn.echograms.EchogramBuilder.from_pings(pings,pss=pss)"
   ]
  },
  {
   "cell_type": "code",
   "execution_count": null,
   "id": "e1a77cab-6680-4a5f-b2ac-eb9f2016ee5c",
   "metadata": {
    "execution": {
     "iopub.status.busy": "2024-11-20T12:17:44.675544Z",
     "iopub.status.idle": "2024-11-20T12:17:44.675654Z",
     "shell.execute_reply": "2024-11-20T12:17:44.675606Z",
     "shell.execute_reply.started": "2024-11-20T12:17:44.675601Z"
    }
   },
   "outputs": [],
   "source": [
    "ping.get_geolocation().print()"
   ]
  },
  {
   "cell_type": "code",
   "execution_count": null,
   "id": "0ac8c4a1-c8ca-4fe0-9d43-007f15a0541a",
   "metadata": {
    "execution": {
     "iopub.status.busy": "2024-11-20T12:17:44.676072Z",
     "iopub.status.idle": "2024-11-20T12:17:44.676178Z",
     "shell.execute_reply": "2024-11-20T12:17:44.676130Z",
     "shell.execute_reply.started": "2024-11-20T12:17:44.676126Z"
    }
   },
   "outputs": [],
   "source": [
    "from IPython.display import display\n",
    "import ipywidgets as widgets\n",
    "\n",
    "viewer = Ping.pingprocessing.widgets.WCIViewer(pings, show=False)\n",
    "\n",
    "output = widgets.Output()\n",
    "update_button = widgets.Button(description=\"update\")\n",
    "clear_button = widgets.Button(description=\"clear output\")\n",
    "\n",
    "max_x_steps = 2048\n",
    "max_y_steps = 512\n",
    "date_time = True\n",
    "\n",
    "if date_time:\n",
    "    echodata.set_x_axis_date_time(max_steps=max_x_steps)\n",
    "else:\n",
    "    echodata.set_x_axis_ping_nr(max_steps=max_x_steps)\n",
    "echodata.set_y_axis_depth(max_samples=max_y_steps)\n",
    "\n",
    "image_background, extent_background = echodata.build_image()\n",
    "\n",
    "plt.ioff()\n",
    "fig_eg,ax_eg = Ping.pingprocessing.core.create_figure('echogram')\n",
    "#fig_eg.set_size_inches(10,5)\n",
    "plt.ion()\n",
    "\n",
    "\n",
    "if ('high_res_image' in globals()) and ('high_res_extent' in globals()) and ('high_res_images' in globals()):\n",
    "    del high_res_image, high_res_extent, high_res_images\n",
    "\n",
    "show_nav = True\n",
    "def set_nav(event):\n",
    "    if not show_nav:\n",
    "        return\n",
    "    global latlon\n",
    "    if 'latlon' in globals():\n",
    "        latlon.remove()\n",
    "    geo = viewer.imagebuilder.pings[viewer.w_index.value].get_geolocation()\n",
    "    latlon = ax_nav.scatter(geo.longitude, geo.latitude,c='black',s=300,zorder=1000)\n",
    "\n",
    "def update_background(event):\n",
    "    with output:\n",
    "        print(viewer.w_vmin.value,viewer.w_vmax.value,)\n",
    "        global background, high_res_images\n",
    "        if 'background' in globals():\n",
    "            background.remove()\n",
    "        background = ax_eg.imshow(image_background.transpose(), extent=extent_background, cmap = 'YlGnBu_r', vmin = viewer.w_vmin.value, vmax = viewer.w_vmax.value, aspect='auto')\n",
    "        fig_eg.canvas.flush_events()\n",
    "\n",
    "        if ('high_res_image' in globals()) and ('high_res_extent' in globals()) and ('high_res_images' in globals()):\n",
    "            high_res_images.append(ax_eg.imshow(high_res_image.transpose(), extent=high_res_extent, cmap = 'YlGnBu_r', vmin = viewer.w_vmin.value, vmax = viewer.w_vmax.value, aspect='auto'))\n",
    "            if len(high_res_images) > 3:\n",
    "                for im in high_res_images[:-3]:\n",
    "                    im.remove()\n",
    "                high_res_images = high_res_images[-3:]\n",
    "\n",
    "update_background(0)\n",
    "\n",
    "viewer.w_vmin.on_trait_change(update_background)\n",
    "viewer.w_vmax.on_trait_change(update_background)\n",
    "viewer.w_index.on_trait_change(set_nav)\n",
    "\n",
    "def update_ping_line(event):\n",
    "    with output:\n",
    "        global ping_line\n",
    "        if 'ping_line' in globals():\n",
    "            try:\n",
    "                ping_line.remove()\n",
    "            except:\n",
    "                pass\n",
    "        ping_line = ax_eg.axvline(viewer.imagebuilder.pings[viewer.w_index.value].get_datetime(),c='black',linestyle='dashed')\n",
    "\n",
    "\n",
    "viewer.w_index.on_trait_change(update_ping_line)\n",
    "\n",
    "if date_time:\n",
    "    Ping.pingprocessing.core.set_ax_timeformat(ax_eg)\n",
    "\n",
    "viewer.button_layout = widgets.VBox(children = viewer.layout.children[1:])\n",
    "\n",
    "\n",
    "display(\n",
    "    widgets.HBox(children=[viewer.fig.canvas, fig_nav.canvas]),\n",
    "    widgets.HBox(children=[fig_eg.canvas]),\n",
    "    widgets.HBox(children=[viewer.button_layout]),\n",
    "    widgets.HBox(children=[update_button, clear_button]), \n",
    "    output\n",
    ")"
   ]
  },
  {
   "cell_type": "code",
   "execution_count": null,
   "id": "ecde72c5-288c-47c4-9922-e19e6b50f2ee",
   "metadata": {
    "execution": {
     "iopub.status.busy": "2024-11-20T12:17:44.676407Z",
     "iopub.status.idle": "2024-11-20T12:17:44.676514Z",
     "shell.execute_reply": "2024-11-20T12:17:44.676464Z",
     "shell.execute_reply.started": "2024-11-20T12:17:44.676459Z"
    }
   },
   "outputs": [],
   "source": [
    "from matplotlib import dates as mdates\n",
    "\n",
    "if 'fig_events' in globals():\n",
    "    for fig, e in fig_events.values():\n",
    "       fig_eg.canvas.mpl_disconnect(e)\n",
    "if 'high_res_images' in globals():\n",
    "    for e in high_res_images:\n",
    "        e.remove()\n",
    "        \n",
    "fig_events = {}\n",
    "high_res_images = []\n",
    "\n",
    "def clear_output(event):\n",
    "    with output:\n",
    "        output.clear_output()\n",
    "def update_echogram(event):\n",
    "    with output:\n",
    "        global high_res_images, high_res_image, high_res_extent\n",
    "        print('update')\n",
    "        \n",
    "        xmin,xmax = ax_eg.get_xlim()\n",
    "        ymin,ymax = sorted(ax_eg.get_ylim())\n",
    "        \n",
    "        if date_time:\n",
    "            tmin,tmax = mdates.num2date(xmin).timestamp(),mdates.num2date(xmax).timestamp()\n",
    "            echodata.set_x_axis_date_time(max_steps=max_x_steps, min_ping_time=tmin, max_ping_time=tmax)\n",
    "        else:\n",
    "            echodata.set_x_axis_ping_nr(max_steps=max_x_steps, min_ping_nr=xmin, max_ping_nr=xmax)\n",
    "        echodata.set_y_axis_depth(max_samples=max_y_steps, min_depth=ymin, max_depth=ymax)\n",
    "        \n",
    "        high_res_image, high_res_extent = echodata.build_image()\n",
    "        high_res_images.append(ax_eg.imshow(high_res_image.transpose(), extent=high_res_extent, cmap = 'YlGnBu_r', vmin = viewer.w_vmin.value, vmax = viewer.w_vmax.value, aspect='auto'))\n",
    "        if len(high_res_images) > 3:\n",
    "            for im in high_res_images[:-3]:\n",
    "                im.remove()\n",
    "            high_res_images = high_res_images[-3:]\n",
    "\n",
    "        \n",
    "def click_echogram(event):\n",
    "    global e\n",
    "    e = event\n",
    "    with output:\n",
    "        #print(event)\n",
    "        if event.button == 1:\n",
    "            t = mdates.num2date(event.xdata).timestamp()\n",
    "            for pn,ping in enumerate(viewer.imagebuilder.pings):\n",
    "                if ping.get_timestamp() > t:\n",
    "                    if pn > 0:\n",
    "                        pn -= 1\n",
    "                    break\n",
    "                    \n",
    "            print('Ping nr:', pn, 'time:', ping.get_timestamp(), 'date:', ping.get_datetime())\n",
    "            viewer.w_index.value = pn\n",
    "            \n",
    "fig_events['on_click'] = fig_eg, fig_eg.canvas.mpl_connect(\"button_press_event\", click_echogram)\n",
    "\n",
    "update_button._click_handlers.callbacks = []\n",
    "clear_button._click_handlers.callbacks = []\n",
    "update_button.on_click(update_echogram)\n",
    "clear_button.on_click(clear_output)"
   ]
  },
  {
   "cell_type": "code",
   "execution_count": null,
   "id": "0f077b9a-88bb-4ed0-b674-e3c81d66e697",
   "metadata": {},
   "outputs": [],
   "source": []
  }
 ],
 "metadata": {
  "kernelspec": {
   "display_name": "Python 3 (ipykernel)",
   "language": "python",
   "name": "python3"
  },
  "language_info": {
   "codemirror_mode": {
    "name": "ipython",
    "version": 3
   },
   "file_extension": ".py",
   "mimetype": "text/x-python",
   "name": "python",
   "nbconvert_exporter": "python",
   "pygments_lexer": "ipython3",
   "version": "3.12.7"
  },
  "widgets": {
   "application/vnd.jupyter.widget-state+json": {
    "state": {
     "01ee6366f4e844d18d530c7a76181a80": {
      "model_module": "@jupyter-widgets/controls",
      "model_module_version": "1.5.0",
      "model_name": "HTMLModel",
      "state": {
       "layout": "IPY_MODEL_c72533dbfe4345178f8d1cd8882a1b8e",
       "style": "IPY_MODEL_af31f35153d24c3f87b72bb3305286eb",
       "value": "removing duplicates: 100%"
      }
     },
     "13d8bab863364ef0811d7a6e63d00298": {
      "model_module": "@jupyter-widgets/controls",
      "model_module_version": "1.5.0",
      "model_name": "FloatProgressModel",
      "state": {
       "bar_style": "success",
       "layout": "IPY_MODEL_51b8293c2dcb4cb7bea3c31837cfb698",
       "max": 22,
       "style": "IPY_MODEL_d08109c5a17447aebb0d8fc11c2b69e1",
       "value": 22
      }
     },
     "28d6739efd9b4295b84087edf2961f8d": {
      "model_module": "@jupyter-widgets/controls",
      "model_module_version": "1.5.0",
      "model_name": "HBoxModel",
      "state": {
       "children": [
        "IPY_MODEL_81c35d0db8ed4ac8a0648fe33a942098",
        "IPY_MODEL_6e1df86c1c0d4c49b4da602ce5efd261",
        "IPY_MODEL_ac4a43d623aa4464a595a9593446872b"
       ],
       "layout": "IPY_MODEL_87792b883df041bd80ef3b29c8fb14dd"
      }
     },
     "3c03c8a52d73466fa57b1ed8c95f0038": {
      "model_module": "@jupyter-widgets/controls",
      "model_module_version": "1.5.0",
      "model_name": "DescriptionStyleModel",
      "state": {
       "description_width": ""
      }
     },
     "51b8293c2dcb4cb7bea3c31837cfb698": {
      "model_module": "@jupyter-widgets/base",
      "model_module_version": "1.2.0",
      "model_name": "LayoutModel",
      "state": {}
     },
     "5ffd66bb33414ee3ba4fe9c53669844c": {
      "model_module": "@jupyter-widgets/base",
      "model_module_version": "1.2.0",
      "model_name": "LayoutModel",
      "state": {}
     },
     "6c1d2df9d0314bd89c3a68d6767147a6": {
      "model_module": "@jupyter-widgets/base",
      "model_module_version": "1.2.0",
      "model_name": "LayoutModel",
      "state": {}
     },
     "6e1df86c1c0d4c49b4da602ce5efd261": {
      "model_module": "@jupyter-widgets/controls",
      "model_module_version": "1.5.0",
      "model_name": "FloatProgressModel",
      "state": {
       "bar_style": "success",
       "layout": "IPY_MODEL_6c1d2df9d0314bd89c3a68d6767147a6",
       "max": 435,
       "style": "IPY_MODEL_a8bb86f5b0de489f8d319a951b07d257",
       "value": 435
      }
     },
     "81c35d0db8ed4ac8a0648fe33a942098": {
      "model_module": "@jupyter-widgets/controls",
      "model_module_version": "1.5.0",
      "model_name": "HTMLModel",
      "state": {
       "layout": "IPY_MODEL_5ffd66bb33414ee3ba4fe9c53669844c",
       "style": "IPY_MODEL_fd3a33a732b74d09b340425b3b8fede8",
       "value": "removing duplicates: 100%"
      }
     },
     "872351fa9a694064aedf220607e476af": {
      "model_module": "@jupyter-widgets/controls",
      "model_module_version": "1.5.0",
      "model_name": "DescriptionStyleModel",
      "state": {
       "description_width": ""
      }
     },
     "87792b883df041bd80ef3b29c8fb14dd": {
      "model_module": "@jupyter-widgets/base",
      "model_module_version": "1.2.0",
      "model_name": "LayoutModel",
      "state": {}
     },
     "902a124d9dcd4dbcab842987ffb79d2e": {
      "model_module": "@jupyter-widgets/base",
      "model_module_version": "1.2.0",
      "model_name": "LayoutModel",
      "state": {}
     },
     "93805c4f97924680a185cb8a5a54926c": {
      "model_module": "@jupyter-widgets/controls",
      "model_module_version": "1.5.0",
      "model_name": "HBoxModel",
      "state": {
       "children": [
        "IPY_MODEL_01ee6366f4e844d18d530c7a76181a80",
        "IPY_MODEL_13d8bab863364ef0811d7a6e63d00298",
        "IPY_MODEL_b5ad31a97f66491e8c3a7ca308e1b4bd"
       ],
       "layout": "IPY_MODEL_97e1bd0047a64af3bcfbaaedd71e7730"
      }
     },
     "97e1bd0047a64af3bcfbaaedd71e7730": {
      "model_module": "@jupyter-widgets/base",
      "model_module_version": "1.2.0",
      "model_name": "LayoutModel",
      "state": {}
     },
     "a8bb86f5b0de489f8d319a951b07d257": {
      "model_module": "@jupyter-widgets/controls",
      "model_module_version": "1.5.0",
      "model_name": "ProgressStyleModel",
      "state": {
       "description_width": ""
      }
     },
     "ac4a43d623aa4464a595a9593446872b": {
      "model_module": "@jupyter-widgets/controls",
      "model_module_version": "1.5.0",
      "model_name": "HTMLModel",
      "state": {
       "layout": "IPY_MODEL_c9ac78bb9c2b4e35a4913935ac249bfb",
       "style": "IPY_MODEL_872351fa9a694064aedf220607e476af",
       "value": " 435/435 [00:00&lt;00:00, 147938.23it/s]"
      }
     },
     "af31f35153d24c3f87b72bb3305286eb": {
      "model_module": "@jupyter-widgets/controls",
      "model_module_version": "1.5.0",
      "model_name": "DescriptionStyleModel",
      "state": {
       "description_width": ""
      }
     },
     "b5ad31a97f66491e8c3a7ca308e1b4bd": {
      "model_module": "@jupyter-widgets/controls",
      "model_module_version": "1.5.0",
      "model_name": "HTMLModel",
      "state": {
       "layout": "IPY_MODEL_902a124d9dcd4dbcab842987ffb79d2e",
       "style": "IPY_MODEL_3c03c8a52d73466fa57b1ed8c95f0038",
       "value": " 22/22 [00:00&lt;00:00, 53.51it/s]"
      }
     },
     "c72533dbfe4345178f8d1cd8882a1b8e": {
      "model_module": "@jupyter-widgets/base",
      "model_module_version": "1.2.0",
      "model_name": "LayoutModel",
      "state": {}
     },
     "c9ac78bb9c2b4e35a4913935ac249bfb": {
      "model_module": "@jupyter-widgets/base",
      "model_module_version": "1.2.0",
      "model_name": "LayoutModel",
      "state": {}
     },
     "d08109c5a17447aebb0d8fc11c2b69e1": {
      "model_module": "@jupyter-widgets/controls",
      "model_module_version": "1.5.0",
      "model_name": "ProgressStyleModel",
      "state": {
       "description_width": ""
      }
     },
     "fd3a33a732b74d09b340425b3b8fede8": {
      "model_module": "@jupyter-widgets/controls",
      "model_module_version": "1.5.0",
      "model_name": "DescriptionStyleModel",
      "state": {
       "description_width": ""
      }
     }
    },
    "version_major": 2,
    "version_minor": 0
   }
  }
 },
 "nbformat": 4,
 "nbformat_minor": 5
}
