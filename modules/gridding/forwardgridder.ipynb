{
 "cells": [
  {
   "cell_type": "code",
   "execution_count": 1,
   "id": "9f46fee5-7235-48a7-a273-c73ee37fe7d7",
   "metadata": {},
   "outputs": [
    {
     "data": {
      "text/plain": [
       "<module 'themachinethatgoesping.gridding' from '/ssd/src/themachinethatgoesping/themachinethatgoesping/subprojects/meta/..//gridding/python/themachinethatgoesping/gridding/__init__.py'>"
      ]
     },
     "execution_count": 1,
     "metadata": {},
     "output_type": "execute_result"
    }
   ],
   "source": [
    "%matplotlib widget\n",
    "from matplotlib import pyplot as plt\n",
    "from importlib import reload\n",
    "import themachinethatgoesping as ping\n",
    "import themachinethatgoesping.gridding as grd\n",
    "import numpy as np\n",
    "from time import time\n",
    "reload(grd)\n"
   ]
  },
  {
   "cell_type": "code",
   "execution_count": 2,
   "id": "d6bfbea7-c813-4338-a5ac-17e5d8d3568f",
   "metadata": {},
   "outputs": [],
   "source": [
    "size=1000000\n",
    "\n",
    "sx = np.random.random(size)*100\n",
    "sy = np.random.random(size)*100\n",
    "sz = np.random.random(size)*100\n",
    "sv = np.random.random(size)*1"
   ]
  },
  {
   "cell_type": "code",
   "execution_count": 3,
   "id": "3319626c-50af-4c07-a228-c9b1e487c509",
   "metadata": {},
   "outputs": [],
   "source": [
    "def get_minmax(sx,sy,sz):\n",
    "    return np.min(sx),np.max(sx), np.min(sy),np.max(sy), np.min(sz),np.max(sz)"
   ]
  },
  {
   "cell_type": "code",
   "execution_count": 4,
   "id": "18bd25e3-9912-4112-b856-4f383256faf0",
   "metadata": {},
   "outputs": [
    {
     "name": "stdout",
     "output_type": "stream",
     "text": [
      "157 ms ± 0 ns per loop (mean ± std. dev. of 1 run, 1 loop each)\n",
      "2.67 ms ± 0 ns per loop (mean ± std. dev. of 1 run, 1 loop each)\n"
     ]
    }
   ],
   "source": [
    "reload(ping)\n",
    "%timeit -n 1 -r 1  ping.gridding.functions.gridfunctions.get_minmax(sx,sy,sz);\n",
    "%timeit -n 1 -r 1  get_minmax(sx,sy,sz);"
   ]
  },
  {
   "cell_type": "code",
   "execution_count": 5,
   "id": "11d9fd65-36d8-49e2-959c-11867aac21b3",
   "metadata": {},
   "outputs": [],
   "source": [
    "import gc\n",
    "import matplotlib as mpl\n",
    "\n",
    "mpl.rcParams['figure.dpi'] = 100\n",
    "close_plots = True\n",
    "\n",
    "\n",
    "def create_figure(name):\n",
    "    if close_plots: plt.close(name)\n",
    "    fig = plt.figure(name)\n",
    "    fig.suptitle = name\n",
    "    \n",
    "    return fig\n"
   ]
  },
  {
   "cell_type": "code",
   "execution_count": 6,
   "id": "79a33480-1a7f-4968-be92-cf975164659a",
   "metadata": {},
   "outputs": [
    {
     "name": "stdout",
     "output_type": "stream",
     "text": [
      "(2.286177369636988e-06, 99.99997112135198, 1.0388105564640426e-05, 99.99996115677494, 0.00017764995342561818, 99.9998278590636)\n"
     ]
    }
   ],
   "source": [
    "#get min and max from xyz vectors\n",
    "minmax_xyz = grd.ForwardGridder.get_minmax(\n",
    "    sx = sx,\n",
    "    sy = sy,\n",
    "    sz = sz)\n",
    "\n",
    "print(minmax_xyz)"
   ]
  },
  {
   "cell_type": "code",
   "execution_count": 7,
   "id": "b7b3201e-bb0c-49a1-8980-907add35f8ae",
   "metadata": {},
   "outputs": [
    {
     "name": "stdout",
     "output_type": "stream",
     "text": [
      "0.225 s\n",
      "0.831 s\n"
     ]
    }
   ],
   "source": [
    "#initialize gridder\n",
    "grid_res = 1\n",
    "\n",
    "gridder = grd.ForwardGridder.from_data(grid_res,sx,sy,sz)\n",
    "\n",
    "t1 = time()\n",
    "ival, iweight = gridder.interpolate_block_mean(sx,sy,sz,sv)\n",
    "t2 = time()\n",
    "print(round(t2-t1,3),'s')\n",
    "ival, iweight = gridder.interpolate_weighted_mean(sx,sy,sz,sv)\n",
    "print(round(time()-t2,3),'s')"
   ]
  },
  {
   "cell_type": "code",
   "execution_count": 8,
   "id": "867e8e2f-88c3-4e47-a628-71b4861ca8a9",
   "metadata": {},
   "outputs": [
    {
     "data": {
      "text/plain": [
       "(101, 101, 101)"
      ]
     },
     "execution_count": 8,
     "metadata": {},
     "output_type": "execute_result"
    }
   ],
   "source": [
    "ival.shape"
   ]
  },
  {
   "cell_type": "code",
   "execution_count": 9,
   "id": "d6fc3658-8581-4e91-961b-754810dfff6a",
   "metadata": {},
   "outputs": [
    {
     "name": "stdout",
     "output_type": "stream",
     "text": [
      "514564.9508744794\n"
     ]
    }
   ],
   "source": [
    "#convert to a scattergrid for convenience\n",
    "egrd = grd.EchoGrid(ival,iweight,gridder)\n",
    "result_image = egrd.get_image(toDb=True,minDbVal=-50) #this is the image you want\n",
    "total_sv = egrd.total_value #this is the total backscattering cross-section\n",
    "total_sv_layer = egrd.total_value_layer #about this we talk when you do layer slicing\n",
    "print(total_sv)"
   ]
  },
  {
   "cell_type": "code",
   "execution_count": 11,
   "id": "3f41b46d-ba97-46ab-b3e7-0159dc859138",
   "metadata": {},
   "outputs": [
    {
     "name": "stdout",
     "output_type": "stream",
     "text": [
      "51177.60581315316\n",
      "51236.94773294367\n"
     ]
    }
   ],
   "source": [
    "egrd = egrd.cut_by_layer_size(40,10)\n",
    "result_image = egrd.get_image(toDb=True,minDbVal=-50) #this is the image you want\n",
    "total_sv = egrd.total_value #this is the total backscattering cross-section\n",
    "total_sv_layer = egrd.total_value_layer #about this we talk when you do layer slicing\n",
    "print(total_sv)\n",
    "print(total_sv_layer)"
   ]
  },
  {
   "cell_type": "code",
   "execution_count": 12,
   "id": "b42b2851-7332-4db5-945c-8ce324ac06e0",
   "metadata": {},
   "outputs": [
    {
     "data": {
      "text/plain": [
       "np.float64(51177.60581315316)"
      ]
     },
     "execution_count": 12,
     "metadata": {},
     "output_type": "execute_result"
    }
   ],
   "source": [
    "#sum voxels\n",
    "map_image_layer = np.nansum(egrd.get_image(toDb=False),axis=2)*gridder.xres*gridder.yres*gridder.zres\n",
    "np.nansum(map_image_layer)"
   ]
  },
  {
   "cell_type": "code",
   "execution_count": 13,
   "id": "83ada4d3-bd72-45e6-b48d-0cc331059db2",
   "metadata": {},
   "outputs": [
    {
     "data": {
      "text/plain": [
       "np.float64(51236.94773294367)"
      ]
     },
     "execution_count": 13,
     "metadata": {},
     "output_type": "execute_result"
    }
   ],
   "source": [
    "#sum pixels\n",
    "map_image_layer_vertical = np.nanmean(egrd.image_avg, axis=2)*gridder.xres * gridder.yres * egrd.ZDiff\n",
    "np.nansum(map_image_layer_vertical)"
   ]
  },
  {
   "cell_type": "code",
   "execution_count": 14,
   "id": "9c42b60f-9168-4b3d-9ce1-dbcdacd75489",
   "metadata": {},
   "outputs": [],
   "source": [
    "cmap = 'YlGnBu'"
   ]
  },
  {
   "cell_type": "code",
   "execution_count": 16,
   "id": "c4a8c497-43a0-4d88-9415-896f07a1457c",
   "metadata": {},
   "outputs": [
    {
     "name": "stdout",
     "output_type": "stream",
     "text": [
      "-39.37886547751905 -0.007094806845631414\n"
     ]
    },
    {
     "data": {
      "application/vnd.jupyter.widget-view+json": {
       "model_id": "e95595ca535c40929e652504cc5d9088",
       "version_major": 2,
       "version_minor": 0
      },
      "text/plain": [
       "interactive(children=(FloatSlider(value=-20.0, description='cmin', max=0.0, min=-40.0, step=0.5), Checkbox(val…"
      ]
     },
     "metadata": {},
     "output_type": "display_data"
    },
    {
     "data": {
      "application/vnd.jupyter.widget-view+json": {
       "model_id": "1111ebb5881942f397f621d24f276027",
       "version_major": 2,
       "version_minor": 0
      },
      "image/png": "[encoded data removed]",
      "text/html": [
       "\n",
       "            <div style=\"display: inline-block;\">\n",
       "                <div class=\"jupyter-widgets widget-label\" style=\"text-align: center;\">\n",
       "                    axes sum\n",
       "                </div>\n",
       "                <img src='data:image/png;base64,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' width=640.0/>\n",
       "            </div>\n",
       "        "
      ],
      "text/plain": [
       "Canvas(toolbar=Toolbar(toolitems=[('Home', 'Reset original view', 'home', 'home'), ('Back', 'Back to previous …"
      ]
     },
     "metadata": {},
     "output_type": "display_data"
    }
   ],
   "source": [
    "#plot scatter grid\n",
    "\n",
    "from ipywidgets import *\n",
    "import numpy as np\n",
    "import matplotlib.pyplot as plt\n",
    "import math\n",
    "\n",
    "#get min max\n",
    "image = egrd.image_avg.copy()\n",
    "image[egrd.image_nums == 0] = np.nan\n",
    "image[image==0] = np.nan\n",
    "tmp = 10 * np.log10(image)\n",
    "egrdCmin = np.nanmin(tmp)\n",
    "egrdCmax = np.nanmax(tmp)\n",
    "print(egrdCmin,egrdCmax)\n",
    "\n",
    "fig_slices = create_figure('axes sum')\n",
    "\n",
    "def update(cmin = (math.floor(egrdCmin),\n",
    "                   math.ceil(egrdCmax),\n",
    "                  0.5),\n",
    "          show_indices=False,\n",
    "           show_colorbar=False,\n",
    "           wci_index=(-1,egrd.image_avg.shape[0]-1),\n",
    "           echo_index=(-1,egrd.image_avg.shape[1]-1),\n",
    "           depth_index=(-1,egrd.image_avg.shape[2]-1),\n",
    "           show_wci=True,\n",
    "           show_echo=False,\n",
    "           show_map=False):\n",
    "            \n",
    "    if wci_index == -1: wci_index = None\n",
    "    if echo_index == -1: echo_index = None\n",
    "    if depth_index == -1: depth_index = None\n",
    "    \n",
    "    global fig_slices, local_image\n",
    "    \n",
    "    try:\n",
    "        \n",
    "        fig_slices, ax, local_image = egrd.plot(\n",
    "            fig_slices,\n",
    "            show_wci  = show_wci,\n",
    "            show_echo = show_echo,\n",
    "            show_map  = show_map,\n",
    "            show_colorbar = show_colorbar,\n",
    "            toDb      = True,\n",
    "            minDbVal  = cmin,\n",
    "            xindex = wci_index,\n",
    "            yindex = echo_index,\n",
    "            zindex = depth_index,\n",
    "                kwargs={\n",
    "                    'cmap' : cmap,\n",
    "                    #'vmin' : egrdCmin,\n",
    "                    'vmax' : egrdCmax\n",
    "                },\n",
    "            colorbar_kwargs = {\n",
    "                'orientation' : 'horizontal'\n",
    "            }\n",
    "        )\n",
    "    except Exception as e:\n",
    "        print(e)\n",
    "        pass\n",
    "    \n",
    "    grd = egrd.getGridder()\n",
    "    \n",
    "    \n",
    "    if wci_index is not None:\n",
    "        wci_index_m   = grd.get_x_value(wci_index)    \n",
    "    if echo_index is not None:\n",
    "        echo_index_m  = grd.get_y_value(echo_index)\n",
    "    if depth_index is not None:\n",
    "        depth_index_m = grd.get_z_value(depth_index)\n",
    "\n",
    "    axes = iter(fig_slices.get_axes())\n",
    "    if show_wci:\n",
    "        ax = next(axes)        \n",
    "        if show_indices:\n",
    "            if depth_index is not None and show_map:\n",
    "                ax.plot(grd.get_extent_y(),[depth_index_m,depth_index_m],c='grey',linewidth=2)\n",
    "            if echo_index is not None and show_echo:\n",
    "                ax.plot([echo_index_m,echo_index_m],grd.get_extent_z(),c='grey',linewidth=2)\n",
    "        \n",
    "    if show_echo:\n",
    "        ax = next(axes)\n",
    "            \n",
    "        if show_indices:\n",
    "            if wci_index is not None and show_wci:\n",
    "                ax.plot([wci_index_m,wci_index_m],grd.get_extent_z(),c='grey',linewidth=2)\n",
    "            if depth_index is not None and show_map:\n",
    "                ax.plot(grd.get_extent_x(),[depth_index_m,depth_index_m],c='grey',linewidth=2)\n",
    "    if show_map:\n",
    "        ax = next(axes)\n",
    "        if show_indices:\n",
    "            if wci_index is not None and show_wci:\n",
    "                ax.plot(grd.get_extent_x(),[wci_index_m,wci_index_m],c='grey',linewidth=2)\n",
    "            if echo_index is not None and show_echo:\n",
    "                ax.plot([echo_index_m,echo_index_m],grd.get_extent_y(),c='grey',linewidth=2)\n",
    "    \n",
    "            \n",
    "   \n",
    "    fig_slices.canvas.draw_idle()\n",
    "    #fig.savefig(\"../fig_yz.svg\",dpi=300)\n",
    "    \n",
    "    \n",
    "\n",
    "interact(update);"
   ]
  },
  {
   "cell_type": "code",
   "execution_count": null,
   "id": "923c51be-94db-4c44-aaa9-56668ad186c6",
   "metadata": {},
   "outputs": [],
   "source": []
  },
  {
   "cell_type": "code",
   "execution_count": null,
   "id": "b9496687-130e-4e08-96d5-dae834c5a16c",
   "metadata": {},
   "outputs": [],
   "source": []
  }
 ],
 "metadata": {
  "kernelspec": {
   "display_name": "dev",
   "language": "python",
   "name": "python3"
  },
  "language_info": {
   "codemirror_mode": {
    "name": "ipython",
    "version": 3
   },
   "file_extension": ".py",
   "mimetype": "text/x-python",
   "name": "python",
   "nbconvert_exporter": "python",
   "pygments_lexer": "ipython3",
   "version": "3.13.2"
  }
 },
 "nbformat": 4,
 "nbformat_minor": 5
}
