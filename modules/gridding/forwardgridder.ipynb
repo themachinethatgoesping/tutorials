{
 "cells": [
  {
   "cell_type": "code",
   "execution_count": 1,
   "id": "9f46fee5-7235-48a7-a273-c73ee37fe7d7",
   "metadata": {
    "execution": {
     "iopub.execute_input": "2025-06-16T10:03:45.786744Z",
     "iopub.status.busy": "2025-06-16T10:03:45.786512Z",
     "iopub.status.idle": "2025-06-16T10:03:46.760134Z",
     "shell.execute_reply": "2025-06-16T10:03:46.759785Z",
     "shell.execute_reply.started": "2025-06-16T10:03:45.786725Z"
    }
   },
   "outputs": [],
   "source": [
    "%matplotlib widget\n",
    "from matplotlib import pyplot as plt\n",
    "from importlib import reload\n",
    "import themachinethatgoesping as theping\n",
    "import themachinethatgoesping.gridding as grd\n",
    "import numpy as np\n",
    "from time import time\n"
   ]
  },
  {
   "cell_type": "code",
   "execution_count": 12,
   "id": "418df599-012e-4684-97e6-50e27b9829db",
   "metadata": {
    "execution": {
     "iopub.execute_input": "2025-06-16T10:05:15.352436Z",
     "iopub.status.busy": "2025-06-16T10:05:15.352135Z",
     "iopub.status.idle": "2025-06-16T10:05:15.355058Z",
     "shell.execute_reply": "2025-06-16T10:05:15.354670Z",
     "shell.execute_reply.started": "2025-06-16T10:05:15.352420Z"
    }
   },
   "outputs": [
    {
     "name": "stdout",
     "output_type": "stream",
     "text": [
      "themachinethatgoesping\n",
      "- version:       0.30.1\n",
      "\n",
      "modules:\n",
      "- tools_cppy     0.28.7\n",
      "- tools          @PROJECT_VERSION@\n",
      "- scripts        @PROJECT_VERSION@\n",
      "- algorithms     0.9.2\n",
      "- navigation     0.17.4\n",
      "- echosounders_cppy 0.45.1\n",
      "- echosounders   0.45.1\n",
      "- pingprocessing_cppy 0.11.3\n",
      "- pingprocessing @PROJECT_VERSION@\n",
      "- gridding       @PROJECT_VERSION@\n"
     ]
    }
   ],
   "source": [
    "theping.version()"
   ]
  },
  {
   "cell_type": "code",
   "execution_count": 2,
   "id": "d6bfbea7-c813-4338-a5ac-17e5d8d3568f",
   "metadata": {
    "execution": {
     "iopub.execute_input": "2025-06-16T10:03:46.760936Z",
     "iopub.status.busy": "2025-06-16T10:03:46.760619Z",
     "iopub.status.idle": "2025-06-16T10:03:46.786702Z",
     "shell.execute_reply": "2025-06-16T10:03:46.786379Z",
     "shell.execute_reply.started": "2025-06-16T10:03:46.760924Z"
    }
   },
   "outputs": [],
   "source": [
    "size=1000000\n",
    "\n",
    "sx = np.random.random(size)*100\n",
    "sy = np.random.random(size)*100\n",
    "sz = np.random.random(size)*100\n",
    "sv = np.random.random(size)*1"
   ]
  },
  {
   "cell_type": "code",
   "execution_count": 3,
   "id": "3319626c-50af-4c07-a228-c9b1e487c509",
   "metadata": {
    "execution": {
     "iopub.execute_input": "2025-06-16T10:03:47.051811Z",
     "iopub.status.busy": "2025-06-16T10:03:47.051291Z",
     "iopub.status.idle": "2025-06-16T10:03:47.054056Z",
     "shell.execute_reply": "2025-06-16T10:03:47.053683Z",
     "shell.execute_reply.started": "2025-06-16T10:03:47.051786Z"
    }
   },
   "outputs": [],
   "source": [
    "def get_minmax(sx,sy,sz):\n",
    "    return np.min(sx),np.max(sx), np.min(sy),np.max(sy), np.min(sz),np.max(sz)"
   ]
  },
  {
   "cell_type": "code",
   "execution_count": 4,
   "id": "18bd25e3-9912-4112-b856-4f383256faf0",
   "metadata": {
    "execution": {
     "iopub.execute_input": "2025-06-16T10:03:47.431134Z",
     "iopub.status.busy": "2025-06-16T10:03:47.430628Z",
     "iopub.status.idle": "2025-06-16T10:03:47.611771Z",
     "shell.execute_reply": "2025-06-16T10:03:47.611435Z",
     "shell.execute_reply.started": "2025-06-16T10:03:47.431105Z"
    }
   },
   "outputs": [
    {
     "name": "stdout",
     "output_type": "stream",
     "text": [
      "163 ms ± 0 ns per loop (mean ± std. dev. of 1 run, 1 loop each)\n",
      "2.77 ms ± 0 ns per loop (mean ± std. dev. of 1 run, 1 loop each)\n"
     ]
    }
   ],
   "source": [
    "reload(theping)\n",
    "%timeit -n 1 -r 1  theping.gridding.functions.gridfunctions.get_minmax(sx,sy,sz);\n",
    "%timeit -n 1 -r 1  get_minmax(sx,sy,sz);"
   ]
  },
  {
   "cell_type": "code",
   "execution_count": 5,
   "id": "11d9fd65-36d8-49e2-959c-11867aac21b3",
   "metadata": {
    "execution": {
     "iopub.execute_input": "2025-06-16T10:03:48.039108Z",
     "iopub.status.busy": "2025-06-16T10:03:48.038842Z",
     "iopub.status.idle": "2025-06-16T10:03:48.041567Z",
     "shell.execute_reply": "2025-06-16T10:03:48.041316Z",
     "shell.execute_reply.started": "2025-06-16T10:03:48.039087Z"
    }
   },
   "outputs": [],
   "source": [
    "import gc\n",
    "import matplotlib as mpl\n",
    "\n",
    "mpl.rcParams['figure.dpi'] = 100\n",
    "close_plots = True\n",
    "\n",
    "\n",
    "def create_figure(name):\n",
    "    if close_plots: plt.close(name)\n",
    "    fig = plt.figure(name)\n",
    "    fig.suptitle = name\n",
    "    \n",
    "    return fig\n"
   ]
  },
  {
   "cell_type": "code",
   "execution_count": 6,
   "id": "79a33480-1a7f-4968-be92-cf975164659a",
   "metadata": {
    "execution": {
     "iopub.execute_input": "2025-06-16T10:03:48.582163Z",
     "iopub.status.busy": "2025-06-16T10:03:48.581947Z",
     "iopub.status.idle": "2025-06-16T10:03:48.586404Z",
     "shell.execute_reply": "2025-06-16T10:03:48.586003Z",
     "shell.execute_reply.started": "2025-06-16T10:03:48.582150Z"
    }
   },
   "outputs": [
    {
     "name": "stdout",
     "output_type": "stream",
     "text": [
      "(1.5147999088416242e-05, 99.99992963810894, 0.00013573597645866187, 99.99998408949911, 2.77446446705909e-05, 99.99992257495856)\n"
     ]
    }
   ],
   "source": [
    "#get min and max from xyz vectors\n",
    "minmax_xyz = theping.algorithms.gridding.ForwardGridder3D.get_minmax(\n",
    "    sx = sx,\n",
    "    sy = sy,\n",
    "    sz = sz)\n",
    "\n",
    "print(minmax_xyz)"
   ]
  },
  {
   "cell_type": "code",
   "execution_count": 7,
   "id": "b7b3201e-bb0c-49a1-8980-907add35f8ae",
   "metadata": {
    "execution": {
     "iopub.execute_input": "2025-06-16T10:03:49.023699Z",
     "iopub.status.busy": "2025-06-16T10:03:49.023453Z",
     "iopub.status.idle": "2025-06-16T10:03:49.209435Z",
     "shell.execute_reply": "2025-06-16T10:03:49.209165Z",
     "shell.execute_reply.started": "2025-06-16T10:03:49.023687Z"
    }
   },
   "outputs": [
    {
     "name": "stdout",
     "output_type": "stream",
     "text": [
      "0.071 s\n",
      "0.11 s\n"
     ]
    }
   ],
   "source": [
    "#initialize gridder\n",
    "grid_res = 1\n",
    "\n",
    "gridder = theping.algorithms.gridding.ForwardGridder3D.from_data(grid_res,sx,sy,sz)\n",
    "\n",
    "t1 = time()\n",
    "ival, iweight = gridder.interpolate_block_mean(sx,sy,sz,sv)\n",
    "t2 = time()\n",
    "print(round(t2-t1,3),'s')\n",
    "ival, iweight = gridder.interpolate_weighted_mean(sx,sy,sz,sv)\n",
    "print(round(time()-t2,3),'s')"
   ]
  },
  {
   "cell_type": "code",
   "execution_count": 8,
   "id": "867e8e2f-88c3-4e47-a628-71b4861ca8a9",
   "metadata": {
    "execution": {
     "iopub.execute_input": "2025-06-16T10:03:49.674319Z",
     "iopub.status.busy": "2025-06-16T10:03:49.674060Z",
     "iopub.status.idle": "2025-06-16T10:03:49.677396Z",
     "shell.execute_reply": "2025-06-16T10:03:49.677115Z",
     "shell.execute_reply.started": "2025-06-16T10:03:49.674305Z"
    }
   },
   "outputs": [
    {
     "data": {
      "text/plain": [
       "(101, 101, 101)"
      ]
     },
     "execution_count": 8,
     "metadata": {},
     "output_type": "execute_result"
    }
   ],
   "source": [
    "ival.shape"
   ]
  },
  {
   "cell_type": "code",
   "execution_count": 9,
   "id": "d6fc3658-8581-4e91-961b-754810dfff6a",
   "metadata": {
    "execution": {
     "iopub.execute_input": "2025-06-16T10:03:50.291728Z",
     "iopub.status.busy": "2025-06-16T10:03:50.291220Z",
     "iopub.status.idle": "2025-06-16T10:03:50.318886Z",
     "shell.execute_reply": "2025-06-16T10:03:50.318565Z",
     "shell.execute_reply.started": "2025-06-16T10:03:50.291703Z"
    }
   },
   "outputs": [
    {
     "name": "stdout",
     "output_type": "stream",
     "text": [
      "513632.76794210967\n"
     ]
    }
   ],
   "source": [
    "#convert to a scattergrid for convenience\n",
    "egrd = grd.EchoGrid(ival,iweight,gridder)\n",
    "result_image = egrd.get_image(toDb=True,minDbVal=-50) #this is the image you want\n",
    "total_sv = egrd.total_value #this is the total backscattering cross-section\n",
    "total_sv_layer = egrd.total_value_layer #about this we talk when you do layer slicing\n",
    "print(total_sv)"
   ]
  },
  {
   "cell_type": "code",
   "execution_count": 10,
   "id": "3f41b46d-ba97-46ab-b3e7-0159dc859138",
   "metadata": {
    "execution": {
     "iopub.execute_input": "2025-06-16T10:03:50.772342Z",
     "iopub.status.busy": "2025-06-16T10:03:50.772104Z",
     "iopub.status.idle": "2025-06-16T10:03:50.935789Z",
     "shell.execute_reply": "2025-06-16T10:03:50.935237Z",
     "shell.execute_reply.started": "2025-06-16T10:03:50.772329Z"
    }
   },
   "outputs": [
    {
     "ename": "AttributeError",
     "evalue": "'themachinethatgoesping.algorithms.gridding.ForwardGridder3D' object has no attribute 'zres'",
     "output_type": "error",
     "traceback": [
      "\u001b[31m---------------------------------------------------------------------------\u001b[39m",
      "\u001b[31mAttributeError\u001b[39m                            Traceback (most recent call last)",
      "\u001b[36mCell\u001b[39m\u001b[36m \u001b[39m\u001b[32mIn[10]\u001b[39m\u001b[32m, line 1\u001b[39m\n\u001b[32m----> \u001b[39m\u001b[32m1\u001b[39m egrd = \u001b[43megrd\u001b[49m\u001b[43m.\u001b[49m\u001b[43mcut_by_layer_size\u001b[49m\u001b[43m(\u001b[49m\u001b[32;43m40\u001b[39;49m\u001b[43m,\u001b[49m\u001b[32;43m10\u001b[39;49m\u001b[43m)\u001b[49m\n\u001b[32m      2\u001b[39m result_image = egrd.get_image(toDb=\u001b[38;5;28;01mTrue\u001b[39;00m,minDbVal=-\u001b[32m50\u001b[39m) \u001b[38;5;66;03m#this is the image you want\u001b[39;00m\n\u001b[32m      3\u001b[39m total_sv = egrd.total_value \u001b[38;5;66;03m#this is the total backscattering cross-section\u001b[39;00m\n",
      "\u001b[36mFile \u001b[39m\u001b[32m~/clouds/hasselcloud/share/roland/.pixi/envs/default/lib/python3.13/site-packages/themachinethatgoesping/gridding/echogrid.py:206\u001b[39m, in \u001b[36mEchoGrid.cut_by_layer_size\u001b[39m\u001b[34m(self, layer_z, layer_size)\u001b[39m\n\u001b[32m    202\u001b[39m \u001b[38;5;28;01mdef\u001b[39;00m\u001b[38;5;250m \u001b[39m\u001b[34mcut_by_layer_size\u001b[39m(\u001b[38;5;28mself\u001b[39m, layer_z, layer_size):\n\u001b[32m    203\u001b[39m     gridder_old = \u001b[38;5;28mself\u001b[39m.get_gridder()\n\u001b[32m    205\u001b[39m     min_z = gridder_old.get_z_grd_value(\n\u001b[32m--> \u001b[39m\u001b[32m206\u001b[39m         layer_z - (layer_size - \u001b[43mgridder_old\u001b[49m\u001b[43m.\u001b[49m\u001b[43mzres\u001b[49m) / \u001b[32m2\u001b[39m\n\u001b[32m    207\u001b[39m     )\n\u001b[32m    208\u001b[39m     max_z = gridder_old.get_z_grd_value(\n\u001b[32m    209\u001b[39m         layer_z + (layer_size - gridder_old.zres) / \u001b[32m2\u001b[39m\n\u001b[32m    210\u001b[39m     )\n\u001b[32m    212\u001b[39m     \u001b[38;5;28;01mreturn\u001b[39;00m \u001b[38;5;28mself\u001b[39m.cut_by_layer_extent(min_z, max_z)\n",
      "\u001b[31mAttributeError\u001b[39m: 'themachinethatgoesping.algorithms.gridding.ForwardGridder3D' object has no attribute 'zres'"
     ]
    }
   ],
   "source": [
    "egrd = egrd.cut_by_layer_size(40,10)\n",
    "result_image = egrd.get_image(toDb=True,minDbVal=-50) #this is the image you want\n",
    "total_sv = egrd.total_value #this is the total backscattering cross-section\n",
    "total_sv_layer = egrd.total_value_layer #about this we talk when you do layer slicing\n",
    "print(total_sv)\n",
    "print(total_sv_layer)"
   ]
  },
  {
   "cell_type": "code",
   "execution_count": 11,
   "id": "b42b2851-7332-4db5-945c-8ce324ac06e0",
   "metadata": {},
   "outputs": [
    {
     "data": {
      "text/plain": [
       "np.float64(50918.730627626916)"
      ]
     },
     "execution_count": 11,
     "metadata": {},
     "output_type": "execute_result"
    }
   ],
   "source": [
    "#sum voxels\n",
    "map_image_layer = np.nansum(egrd.get_image(toDb=False),axis=2)*gridder.get_xres()*gridder.get_yres()*gridder.get_zres()\n",
    "np.nansum(map_image_layer)"
   ]
  },
  {
   "cell_type": "code",
   "execution_count": 12,
   "id": "83ada4d3-bd72-45e6-b48d-0cc331059db2",
   "metadata": {},
   "outputs": [
    {
     "data": {
      "text/plain": [
       "np.float64(50971.899928083294)"
      ]
     },
     "execution_count": 12,
     "metadata": {},
     "output_type": "execute_result"
    }
   ],
   "source": [
    "#sum pixels\n",
    "map_image_layer_vertical = np.nanmean(egrd.image_avg, axis=2)*gridder.get_xres() * gridder.get_yres() * egrd.ZDiff\n",
    "np.nansum(map_image_layer_vertical)"
   ]
  },
  {
   "cell_type": "code",
   "execution_count": 13,
   "id": "9c42b60f-9168-4b3d-9ce1-dbcdacd75489",
   "metadata": {},
   "outputs": [],
   "source": [
    "cmap = 'YlGnBu'"
   ]
  },
  {
   "cell_type": "code",
   "execution_count": null,
   "id": "c4a8c497-43a0-4d88-9415-896f07a1457c",
   "metadata": {},
   "outputs": [
    {
     "name": "stdout",
     "output_type": "stream",
     "text": [
      "-30.752532960848583 -0.01276011064453725\n"
     ]
    },
    {
     "data": {
      "application/vnd.jupyter.widget-view+json": {
       "model_id": "d4afdee27b0c4156805197614c14db52",
       "version_major": 2,
       "version_minor": 0
      },
      "text/plain": [
       "interactive(children=(FloatSlider(value=-16.0, description='cmin', max=0.0, min=-31.0, step=0.5), Checkbox(val…"
      ]
     },
     "metadata": {},
     "output_type": "display_data"
    },
    {
     "data": {
      "application/vnd.jupyter.widget-view+json": {
       "model_id": "b54e275771834a1581bf74ec28227b45",
       "version_major": 2,
       "version_minor": 0
      },
      "image/png": "[encoded data removed]",
      "text/html": [
       "\n",
       "            <div style=\"display: inline-block;\">\n",
       "                <div class=\"jupyter-widgets widget-label\" style=\"text-align: center;\">\n",
       "                    axes sum\n",
       "                </div>\n",
       "                <img src='data:image/png;base64,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' width=640.0/>\n",
       "            </div>\n",
       "        "
      ],
      "text/plain": [
       "Canvas(toolbar=Toolbar(toolitems=[('Home', 'Reset original view', 'home', 'home'), ('Back', 'Back to previous …"
      ]
     },
     "metadata": {},
     "output_type": "display_data"
    }
   ],
   "source": [
    "#plot scatter grid\n",
    "\n",
    "from ipywidgets import *\n",
    "import numpy as np\n",
    "import matplotlib.pyplot as plt\n",
    "import math\n",
    "\n",
    "#get min max\n",
    "image = egrd.image_avg.copy()\n",
    "image[egrd.image_nums == 0] = np.nan\n",
    "image[image==0] = np.nan\n",
    "tmp = 10 * np.log10(image)\n",
    "egrdCmin = np.nanmin(tmp)\n",
    "egrdCmax = np.nanmax(tmp)\n",
    "print(egrdCmin,egrdCmax)\n",
    "\n",
    "fig_slices = create_figure('axes sum')\n",
    "\n",
    "def update(cmin = (math.floor(egrdCmin),\n",
    "                   math.ceil(egrdCmax),\n",
    "                  0.5),\n",
    "          show_indices=False,\n",
    "           show_colorbar=False,\n",
    "           wci_index=(-1,egrd.image_avg.shape[0]-1),\n",
    "           echo_index=(-1,egrd.image_avg.shape[1]-1),\n",
    "           depth_index=(-1,egrd.image_avg.shape[2]-1),\n",
    "           show_wci=True,\n",
    "           show_echo=False,\n",
    "           show_map=False):\n",
    "            \n",
    "    if wci_index == -1: wci_index = None\n",
    "    if echo_index == -1: echo_index = None\n",
    "    if depth_index == -1: depth_index = None\n",
    "    \n",
    "    global fig_slices, local_image\n",
    "    \n",
    "    try:\n",
    "        \n",
    "        fig_slices, ax, local_image = egrd.plot(\n",
    "            fig_slices,\n",
    "            show_wci  = show_wci,\n",
    "            show_echo = show_echo,\n",
    "            show_map  = show_map,\n",
    "            show_colorbar = show_colorbar,\n",
    "            toDb      = True,\n",
    "            minDbVal  = cmin,\n",
    "            xindex = wci_index,\n",
    "            yindex = echo_index,\n",
    "            zindex = depth_index,\n",
    "                kwargs={\n",
    "                    'cmap' : cmap,\n",
    "                    #'vmin' : egrdCmin,\n",
    "                    'vmax' : egrdCmax\n",
    "                },\n",
    "            colorbar_kwargs = {\n",
    "                'orientation' : 'horizontal'\n",
    "            }\n",
    "        )\n",
    "    except Exception as e:\n",
    "        print(e)\n",
    "        #raise e\n",
    "    \n",
    "    grd = egrd.get_gridder()\n",
    "    \n",
    "    \n",
    "    if wci_index is not None:\n",
    "        wci_index_m   = grd.get_x_value(wci_index)    \n",
    "    if echo_index is not None:\n",
    "        echo_index_m  = grd.get_y_value(echo_index)\n",
    "    if depth_index is not None:\n",
    "        depth_index_m = grd.get_z_value(depth_index)\n",
    "\n",
    "    axes = iter(fig_slices.get_axes())\n",
    "    if show_wci:\n",
    "        ax = next(axes)        \n",
    "        if show_indices:\n",
    "            if depth_index is not None and show_map:\n",
    "                ax.plot(grd.get_extent_y(),[depth_index_m,depth_index_m],c='grey',linewidth=2)\n",
    "            if echo_index is not None and show_echo:\n",
    "                ax.plot([echo_index_m,echo_index_m],grd.get_extent_z(),c='grey',linewidth=2)\n",
    "        \n",
    "    if show_echo:\n",
    "        ax = next(axes)\n",
    "            \n",
    "        if show_indices:\n",
    "            if wci_index is not None and show_wci:\n",
    "                ax.plot([wci_index_m,wci_index_m],grd.get_extent_z(),c='grey',linewidth=2)\n",
    "            if depth_index is not None and show_map:\n",
    "                ax.plot(grd.get_extent_x(),[depth_index_m,depth_index_m],c='grey',linewidth=2)\n",
    "    if show_map:\n",
    "        ax = next(axes)\n",
    "        if show_indices:\n",
    "            if wci_index is not None and show_wci:\n",
    "                ax.plot(grd.get_extent_x(),[wci_index_m,wci_index_m],c='grey',linewidth=2)\n",
    "            if echo_index is not None and show_echo:\n",
    "                ax.plot([echo_index_m,echo_index_m],grd.get_extent_y(),c='grey',linewidth=2)\n",
    "    \n",
    "            \n",
    "   \n",
    "    fig_slices.canvas.draw_idle()\n",
    "    #fig.savefig(\"../fig_yz.svg\",dpi=300)\n",
    "    \n",
    "    \n",
    "\n",
    "interact(update);"
   ]
  }
 ],
 "metadata": {
  "kernelspec": {
   "display_name": "Python 3 (ipykernel)",
   "language": "python",
   "name": "python3"
  },
  "language_info": {
   "codemirror_mode": {
    "name": "ipython",
    "version": 3
   },
   "file_extension": ".py",
   "mimetype": "text/x-python",
   "name": "python",
   "nbconvert_exporter": "python",
   "pygments_lexer": "ipython3",
   "version": "3.13.3"
  },
  "widgets": {
   "application/vnd.jupyter.widget-state+json": {
    "state": {},
    "version_major": 2,
    "version_minor": 0
   }
  }
 },
 "nbformat": 4,
 "nbformat_minor": 5
}
