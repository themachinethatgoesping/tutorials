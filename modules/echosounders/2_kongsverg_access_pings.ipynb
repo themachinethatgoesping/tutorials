{
 "cells": [
  {
   "cell_type": "code",
   "execution_count": null,
   "id": "90e09156-bd22-420c-b094-99edf94b3100",
   "metadata": {},
   "outputs": [],
   "source": [
    "# use widgets as matplotlib backend\n",
    "%matplotlib widget\n",
    "\n",
    "# imports\n",
    "from matplotlib import pyplot as plt\n",
    "import os\n",
    "import numpy\n",
    "import os, sys\n",
    "from time import time\n",
    "from tqdm.auto import tqdm\n",
    "from collections import defaultdict\n",
    "import numpy as np\n",
    "import matplotlib as mpl\n",
    "\n",
    "# import the file object for opening kongsberg files\n",
    "# Note: function and library naming to be discussed\n",
    "from themachinethatgoesping.echosounders import kongsbergall\n",
    "from themachinethatgoesping.echosounders import index_functions\n",
    "from themachinethatgoesping.pingprocessing import filter_pings\n",
    "\n",
    "#simplify creating figures\n",
    "mpl.rcParams['figure.dpi'] = 100\n",
    "close_plots = True\n",
    "\n",
    "def create_figure(name, return_ax=True):\n",
    "    if close_plots: plt.close(name)\n",
    "    fig = plt.figure(name)\n",
    "    fig.suptitle = name\n",
    "\n",
    "    if return_ax:\n",
    "        return fig, fig.subplots()\n",
    "    return fig"
   ]
  },
  {
   "cell_type": "code",
   "execution_count": null,
   "id": "ce3d4cec-5e1e-4343-9415-61623102df95",
   "metadata": {},
   "outputs": [],
   "source": [
    "# list of folders with kongsberg .all or .wcd files (subfolders will be scanned as well)\n",
    "\n",
    "folder = \"../../unittest_data/\"\n",
    "\n",
    "# list raw data files\n",
    "files = index_functions.find_files(folder, [\".all\",\"wcd\"])\n",
    "cacheFilePaths = index_functions.get_index_paths(file_paths=files)\n",
    "files.sort()\n",
    "            \n",
    "files.sort()\n",
    "file_name = files[0]\n",
    "print(\"files:      \", len(files))"
   ]
  },
  {
   "attachments": {},
   "cell_type": "markdown",
   "id": "b9559102-2af9-4533-9664-e8591bb9dd35",
   "metadata": {},
   "source": [
    "## Open all files\n",
    "The function \n",
    "Notes: \n",
    "1. kongsbergall.KongsbergAllFileHandler(files) scanns and indexes all files and provides access to all files like a combined file stream\n",
    "2. If a .all and a .wcd files with the same name (one .all and one .wcd) are added, they will be matched to a single file\n",
    "3. It is not possible to add two .all or two .wcd with the same name, even if they are within different folders\n",
    "4. Note: if the files are not sorted in time, the datagram packages will not be sorted by time either, however it isi simple to sort the pings at a later stage"
   ]
  },
  {
   "cell_type": "code",
   "execution_count": null,
   "id": "b4cb4179-c080-4e8b-b27f-b7fa34489a53",
   "metadata": {
    "tags": []
   },
   "outputs": [],
   "source": [
    "# Index all files and initialize the file interfaces\n",
    "# fm will be the accessor\n",
    "fm = kongsbergall.KongsbergAllFileHandler(files)\n",
    "\n",
    "#print some information about the files that where indexed\n",
    "print(fm)"
   ]
  },
  {
   "attachments": {},
   "cell_type": "markdown",
   "id": "a2ff8ae2-126d-40d2-8ab4-14f2d30f1d1e",
   "metadata": {},
   "source": [
    "## How to access ping data\n",
    "1. Pings describe the main highlevel interface of Ping\n",
    "2. They are easy to access using fm.get_pings\n",
    "3. Pings combine information from the interfaces (e.g. navigation or configuration) with raw datagrams that where produced for each ping\n",
    "4. Pings implement simple functions to access difficult data (e.g get_sv) However, this is still work in progress\n",
    "5. Pings also provide access to the raw data, this will be used for plotting later"
   ]
  },
  {
   "cell_type": "code",
   "execution_count": null,
   "id": "cbef36ad-70f0-4e6f-bbbc-0ee88a191863",
   "metadata": {},
   "outputs": [],
   "source": [
    "# Extract the 11th single ping for test\n",
    "ping = fm.get_pings()[11]\n",
    "\n",
    "# print the georeferenced position and attitude of the transducer\n",
    "print(ping.get_geolocation())"
   ]
  },
  {
   "cell_type": "code",
   "execution_count": null,
   "id": "c8fd4dfa",
   "metadata": {},
   "outputs": [],
   "source": [
    "# filter pings such that the for example must include water column and bottom detection data\n",
    "pings = filter_pings.by_features(fm.get_pings(),['watercolumn','bottom'])\n",
    "ping = pings[5]"
   ]
  },
  {
   "cell_type": "code",
   "execution_count": null,
   "id": "1b9533ab-ad36-4c0d-bad2-c5397d18f9ec",
   "metadata": {},
   "outputs": [],
   "source": [
    "# get access to the raw data of the specific ping\n",
    "raw = ping.file_data\n",
    "\n",
    "# print / access datagrams associated with the ping\n",
    "print(raw.datagrams())"
   ]
  },
  {
   "cell_type": "code",
   "execution_count": null,
   "id": "bc8b6ef3-adca-4675-8eae-f04f906e07e0",
   "metadata": {},
   "outputs": [],
   "source": [
    "#print the RawRangeAndAngle datagram associated with the ping\n",
    "print(raw.datagrams(\"WatercolumnDatagram\")[0])"
   ]
  },
  {
   "cell_type": "code",
   "execution_count": null,
   "id": "d7039076-1e57-47f9-a57f-5de70a4f9ad6",
   "metadata": {},
   "outputs": [],
   "source": [
    "# You may know that water column datagrams in the wcd/all files are split over multiple packtes.\n",
    "# We therefore implemented a function that combines the split datagrams to a single one\n",
    "wcd = raw.read_merged_watercolumndatagram()\n",
    "\n",
    "print(wcd)"
   ]
  },
  {
   "cell_type": "code",
   "execution_count": null,
   "id": "9e5d7bb4-392c-4342-a3ad-14c761d66ef6",
   "metadata": {},
   "outputs": [],
   "source": [
    "# read_merged_watercolumndatagram() holds a variable that is called skip_data\n",
    "# if the true, the sample data will be skipped\n",
    "# in this case you cannot access sample data, but looping through the data is accelerated \n",
    "# This is usefull to extract e.g statistical information in a first loop\n",
    "# Speedup is not very impressive though (typically factor 2) because of the complicated datagram structure of .wcd files\n",
    "\n",
    "# check if there where different tvgs applied in the datasets\n",
    "tvgs = defaultdict(int)\n",
    "for i,p in enumerate(tqdm(pings)):\n",
    "    try:    \n",
    "        w = p.file_data.read_merged_watercolumndatagram(skip_data = True)\n",
    "        tvgs[w.get_tvg_function_applied()] += 1\n",
    "              \n",
    "    except IndexError as e:\n",
    "        print(\"error:\",i,e,\"|\",type(e))\n",
    "    except ValueError as e:\n",
    "        print(\"error:\",i,e,\"|\",type(e))\n",
    "    except RuntimeError as e:\n",
    "        print(\"error:\",i,e,\"|\",type(e))\n",
    "\n",
    "for k,v in tvgs.items():\n",
    "    print(f\"TVG {k}: {v} pings\")"
   ]
  },
  {
   "cell_type": "code",
   "execution_count": null,
   "id": "7dc00186",
   "metadata": {},
   "outputs": [],
   "source": []
  },
  {
   "cell_type": "code",
   "execution_count": null,
   "id": "30c54297",
   "metadata": {},
   "outputs": [],
   "source": []
  }
 ],
 "metadata": {
  "kernelspec": {
   "display_name": "Python 3 (ipykernel)",
   "language": "python",
   "name": "python3"
  },
  "language_info": {
   "codemirror_mode": {
    "name": "ipython",
    "version": 3
   },
   "file_extension": ".py",
   "mimetype": "text/x-python",
   "name": "python",
   "nbconvert_exporter": "python",
   "pygments_lexer": "ipython3",
   "version": "3.12.2"
  }
 },
 "nbformat": 4,
 "nbformat_minor": 5
}
