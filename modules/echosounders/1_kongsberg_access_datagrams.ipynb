{
 "cells": [
  {
   "cell_type": "code",
   "execution_count": null,
   "id": "90e09156-bd22-420c-b094-99edf94b3100",
   "metadata": {},
   "outputs": [],
   "source": [
    "# use widgets as matplotlib backend\n",
    "%matplotlib widget\n",
    "\n",
    "# imports\n",
    "from matplotlib import pyplot as plt\n",
    "import os\n",
    "import numpy\n",
    "import os, sys\n",
    "from time import time\n",
    "from tqdm.auto import tqdm\n",
    "from collections import defaultdict\n",
    "import numpy as np\n",
    "import matplotlib as mpl\n",
    "\n",
    "# import the file object for opening kongsberg files\n",
    "# Note: function and library naming to be discussed\n",
    "from themachinethatgoesping.echosounders import kongsbergall\n",
    "from themachinethatgoesping.echosounders import index_functions\n",
    "from themachinethatgoesping.pingprocessing import filter_pings\n",
    "\n",
    "#simplify creating figures\n",
    "mpl.rcParams['figure.dpi'] = 100\n",
    "close_plots = True\n",
    "\n",
    "def create_figure(name, return_ax=True):\n",
    "    if close_plots: plt.close(name)\n",
    "    fig = plt.figure(name)\n",
    "    fig.suptitle = name\n",
    "\n",
    "    if return_ax:\n",
    "        return fig, fig.subplots()\n",
    "    return fig"
   ]
  },
  {
   "cell_type": "code",
   "execution_count": null,
   "id": "ce3d4cec-5e1e-4343-9415-61623102df95",
   "metadata": {},
   "outputs": [],
   "source": [
    "# list of folders with kongsberg .all or .wcd files (subfolders will be scanned as well)\n",
    "\n",
    "folder = \"../../unittest_data/\"\n",
    "\n",
    "# list raw data files\n",
    "files = index_functions.find_files(folder, [\".all\",\"wcd\"])\n",
    "cacheFilePaths = index_functions.get_index_paths(file_paths=files)\n",
    "files.sort()\n",
    "            \n",
    "files.sort()\n",
    "file_name = files[0]\n",
    "print(\"files:      \", len(files))"
   ]
  },
  {
   "cell_type": "code",
   "execution_count": null,
   "id": "66924ab1-a3f5-482b-b6e0-20f33cf887e8",
   "metadata": {},
   "outputs": [],
   "source": [
    "import themachinethatgoesping as ping\n",
    "print(ping.__file__)"
   ]
  },
  {
   "attachments": {},
   "cell_type": "markdown",
   "id": "b9559102-2af9-4533-9664-e8591bb9dd35",
   "metadata": {},
   "source": [
    "## Open all files\n",
    "The function \n",
    "Notes: \n",
    "1. kongsbergall.KongsbergAllFileHandler(files) scanns and indexes all files and provides access to all files like a combined file stream\n",
    "2. If a .all and a .wcd files with the same name (one .all and one .wcd) are added, they will be matched to a single file\n",
    "3. It is not possible to add two .all or two .wcd with the same name, even if they are within different folders\n",
    "4. Note: if the files are not sorted in time, the datagram packages will not be sorted by time either, however it isi simple to sort the pings at a later stage"
   ]
  },
  {
   "cell_type": "code",
   "execution_count": null,
   "id": "b4cb4179-c080-4e8b-b27f-b7fa34489a53",
   "metadata": {
    "tags": []
   },
   "outputs": [],
   "source": [
    "# Index all files and initialize the file interfaces\n",
    "# fm will be the accessor\n",
    "fm = kongsbergall.KongsbergAllFileHandler(files,init=True)\n",
    "\n",
    "#print some information about the files that where indexed\n",
    "print(fm)"
   ]
  },
  {
   "attachments": {},
   "cell_type": "markdown",
   "id": "a2ff8ae2-126d-40d2-8ab4-14f2d30f1d1e",
   "metadata": {},
   "source": [
    "## How to access raw datagrams"
   ]
  },
  {
   "cell_type": "code",
   "execution_count": null,
   "id": "1e40d183-0851-4791-8b41-f158c993af4d",
   "metadata": {},
   "outputs": [],
   "source": [
    "# print all datagrams\n",
    "print(fm.datagram_interface)"
   ]
  },
  {
   "cell_type": "code",
   "execution_count": null,
   "id": "6a9bebe1-a882-4531-b425-83204f8be00a",
   "metadata": {},
   "outputs": [],
   "source": [
    "\"\"\" \n",
    "Access some package and print it (note you should be able to use access \n",
    "all variables that are printed can be accessed using get_\"varname\"() function. \n",
    "Try get_ and use tab completition to see which functions are avaliable\n",
    "\"\"\"\n",
    "\n",
    "package = fm.datagram_interface.datagrams()[10]\n",
    "print(package)"
   ]
  },
  {
   "cell_type": "code",
   "execution_count": null,
   "id": "c7e1175b-c550-4f51-be70-cf523dfb8fa2",
   "metadata": {},
   "outputs": [],
   "source": [
    "# You can also access packages by type\n",
    "# print the first RuntimeParameters datagram\n",
    "print(fm.datagram_interface.datagrams(\"RuntimeParameters\")[10])"
   ]
  },
  {
   "cell_type": "code",
   "execution_count": null,
   "id": "2aa5d76e-a7ac-4f87-a540-8705c174fcb7",
   "metadata": {},
   "outputs": [],
   "source": [
    "# The datagrams function returns a containter like type. \n",
    "# Pacakges can be accessed using [index] but it is also possible to e.g. loop through the data using the functions typically used to lists.\n",
    "# note that also standard slicing logic works\n",
    "\n",
    "# loop through every 2nd package between index 2 and 5 and compute the average timestamp\n",
    "timestamps = []\n",
    "for p in tqdm(fm.datagram_interface.datagrams(skip_data=True)[2:5:2]): #skip_data speeds up looping because it ignores water column data samples\n",
    "    timestamps.append(p.get_timestamp())\n",
    "\n",
    "avg = np.nanmean(timestamps)"
   ]
  },
  {
   "cell_type": "code",
   "execution_count": null,
   "id": "74212e55-7945-4fdb-966e-fa60aa164871",
   "metadata": {},
   "outputs": [],
   "source": [
    "# ping has a bunch of more tools avaliable. E.g. convert unixtime to string and the other way around\n",
    "\n",
    "# print the timestamp as text (use ping tools)\n",
    "from themachinethatgoesping.tools.timeconv import unixtime_to_datestring\n",
    "\n",
    "print(unixtime_to_datestring(np.nanmean(timestamps), format=\"%d-%m-%Y %H:%M:%S\")) #try tab completition in the function to access the documentaiton"
   ]
  },
  {
   "cell_type": "code",
   "execution_count": null,
   "id": "61bbe608-5bbc-41bf-b58b-acea3dd2ee7b",
   "metadata": {},
   "outputs": [],
   "source": [
    "# btw. print documentation is also possible like this\n",
    "help(unixtime_to_datestring)"
   ]
  },
  {
   "cell_type": "code",
   "execution_count": null,
   "id": "5069e9ee-8691-4605-af1a-e9ddf5e8c83d",
   "metadata": {},
   "outputs": [],
   "source": []
  },
  {
   "cell_type": "code",
   "execution_count": null,
   "id": "e8b3e99a",
   "metadata": {},
   "outputs": [],
   "source": []
  }
 ],
 "metadata": {
  "kernelspec": {
   "display_name": "Python 3 (ipykernel)",
   "language": "python",
   "name": "python3"
  },
  "language_info": {
   "codemirror_mode": {
    "name": "ipython",
    "version": 3
   },
   "file_extension": ".py",
   "mimetype": "text/x-python",
   "name": "python",
   "nbconvert_exporter": "python",
   "pygments_lexer": "ipython3",
   "version": "3.12.2"
  }
 },
 "nbformat": 4,
 "nbformat_minor": 5
}
