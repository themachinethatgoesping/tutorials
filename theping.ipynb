{
 "cells": [
  {
   "cell_type": "code",
   "execution_count": 1,
   "id": "9f46fee5-7235-48a7-a273-c73ee37fe7d7",
   "metadata": {
    "execution": {
     "iopub.execute_input": "2025-06-06T19:00:19.564174Z",
     "iopub.status.busy": "2025-06-06T19:00:19.563978Z",
     "iopub.status.idle": "2025-06-06T19:00:20.510389Z",
     "shell.execute_reply": "2025-06-06T19:00:20.510022Z",
     "shell.execute_reply.started": "2025-06-06T19:00:19.564161Z"
    }
   },
   "outputs": [],
   "source": [
    "%matplotlib widget\n",
    "\n",
    "from matplotlib import pyplot as plt\n",
    "import numpy as np\n",
    "import pandas as pd\n",
    "from tqdm.auto import tqdm\n",
    "import pickle\n",
    "\n",
    "import themachinethatgoesping as theping"
   ]
  },
  {
   "cell_type": "markdown",
   "id": "250cb096-2693-4bb0-841d-29e0e088cf3a",
   "metadata": {},
   "source": [
    "## Initialize file handler \n",
    "\n",
    "- fh will be the file handler that takes care of interacting with the data from all files you feed it\n",
    "- Files are expected to be .all and/or .wcd for the KongsbergAllFileHandler, there is currently no validity checking for the file types\n",
    "- A 'cache' folder will be created which includes some MB of data that is 'expensive' to read from the raw data. Passing 'cache_files' to the file handler will take care of the caching automatically. 'cache_files' is a dictionary with a cache file path for each .all or .wcd file"
   ]
  },
  {
   "cell_type": "code",
   "execution_count": 2,
   "id": "11442cf8-4684-44e2-a6c2-ed9ee9ccd526",
   "metadata": {
    "execution": {
     "iopub.execute_input": "2025-06-06T19:00:21.619370Z",
     "iopub.status.busy": "2025-06-06T19:00:21.617957Z",
     "iopub.status.idle": "2025-06-06T19:00:21.743994Z",
     "shell.execute_reply": "2025-06-06T19:00:21.743496Z",
     "shell.execute_reply.started": "2025-06-06T19:00:21.619327Z"
    }
   },
   "outputs": [
    {
     "name": "stdout",
     "output_type": "stream",
     "text": [
      "ls: cannot access 'dotall': No such file or directory\n"
     ]
    }
   ],
   "source": [
    "!ls dotall"
   ]
  },
  {
   "cell_type": "code",
   "execution_count": 3,
   "id": "d7c61ef4-1220-49fc-8d84-768eca0aa211",
   "metadata": {
    "execution": {
     "iopub.execute_input": "2025-06-06T19:00:22.413196Z",
     "iopub.status.busy": "2025-06-06T19:00:22.412963Z",
     "iopub.status.idle": "2025-06-06T19:00:30.491231Z",
     "shell.execute_reply": "2025-06-06T19:00:30.490904Z",
     "shell.execute_reply.started": "2025-06-06T19:00:22.413180Z"
    }
   },
   "outputs": [
    {
     "name": "stdout",
     "output_type": "stream",
     "text": [
      "Found 2 files\n",
      "Found 435 files\n",
      "indexing files ⢀ 99% [00m:00s<00m:00s] [Found: 2420926 datagrams in 180 files (26298MB)]                                                 \n",
      "Initializing ping interface ⠂ 98% [00m:05s<00m:00s] [Done]                                                                             \n"
     ]
    }
   ],
   "source": [
    "files = theping.echosounders.index_functions.find_files('.','.all')\n",
    "files = theping.echosounders.index_functions.find_files(\n",
    "    '/home/users/data/no_backup/GEOMAR/Meteor-M143/MBES/M143_EM710_raw/',['.all','.wcd']\n",
    ")\n",
    "files = pickle.load(open('files.pcl','rb'))\n",
    "\n",
    "# files = theping.echosounders.index_functions.find_files(\n",
    "#     '/home/data/test_data/Egmont_Key/dotall/',['.all','.wcd']\n",
    "# )\n",
    "\n",
    "# files = theping.echosounders.index_functions.find_files(\n",
    "#     '/home/data/turbeams/TURBEAMS_data_crunshing/campaigns/TURBEAMS_December_2023_25/',['.all','.wcd']\n",
    "# )\n",
    "\n",
    "    \n",
    "# files = theping.echosounders.index_functions.find_files(\n",
    "#     '/home/ssd/src/themachinethatgoesping/tutorials/unittest_data/',['.all','.wcd']\n",
    "# )\n",
    "# files = theping.echosounders.index_functions.find_files(\n",
    "#     '/home/ssd/src/themachinethatgoesping/tutorials/unittest_data/',['.wcd']\n",
    "# )\n",
    "\n",
    "cache_files = theping.echosounders.index_functions.get_index_paths(files)\n",
    "\n",
    "fh = theping.echosounders.kongsbergall.KongsbergAllFileHandler(files,cache_files,init=True)"
   ]
  },
  {
   "cell_type": "markdown",
   "id": "17973c7d-6909-4d18-9f97-8e14d93d3890",
   "metadata": {},
   "source": [
    "# filter pings"
   ]
  },
  {
   "cell_type": "code",
   "execution_count": 4,
   "id": "18d9ac6d-1f57-48db-bcc3-130609dc08fc",
   "metadata": {
    "execution": {
     "iopub.execute_input": "2025-06-06T19:00:32.447208Z",
     "iopub.status.busy": "2025-06-06T19:00:32.445895Z",
     "iopub.status.idle": "2025-06-06T19:00:35.341793Z",
     "shell.execute_reply": "2025-06-06T19:00:35.341375Z",
     "shell.execute_reply.started": "2025-06-06T19:00:32.447158Z"
    }
   },
   "outputs": [],
   "source": [
    "all_pings = theping.pingprocessing.filter_pings.by_features(fh.get_pings(), ['watercolumn.amplitudes'])"
   ]
  },
  {
   "cell_type": "code",
   "execution_count": 5,
   "id": "d6a074ff-6ca5-498c-9984-586619a368ec",
   "metadata": {
    "execution": {
     "iopub.execute_input": "2025-06-06T19:00:35.342462Z",
     "iopub.status.busy": "2025-06-06T19:00:35.342362Z",
     "iopub.status.idle": "2025-06-06T19:00:35.502108Z",
     "shell.execute_reply": "2025-06-06T19:00:35.501842Z",
     "shell.execute_reply.started": "2025-06-06T19:00:35.342453Z"
    }
   },
   "outputs": [
    {
     "data": {
      "application/vnd.jupyter.widget-view+json": {
       "model_id": "0ad1844a36d24b80a68f5b41c7e608fa",
       "version_major": 2,
       "version_minor": 0
      },
      "text/plain": [
       "VBox(children=(Canvas(toolbar=Toolbar(toolitems=[('Home', 'Reset original view', 'home', 'home'), ('Back', 'Ba…"
      ]
     },
     "metadata": {},
     "output_type": "display_data"
    }
   ],
   "source": [
    "pingviewer = theping.pingprocessing.widgets.WCIViewer(all_pings)"
   ]
  },
  {
   "cell_type": "markdown",
   "id": "1c4f28fa-7e79-4fe0-beca-13f0084768bc",
   "metadata": {},
   "source": [
    "## Get a navigation overview\n",
    "\n",
    "Just a helper function to plott the navigation"
   ]
  },
  {
   "cell_type": "code",
   "execution_count": 11,
   "id": "6eeb1d21-65cb-4230-ab20-4d5151ba5aa0",
   "metadata": {
    "execution": {
     "iopub.execute_input": "2025-01-05T15:07:22.917813Z",
     "iopub.status.busy": "2025-01-05T15:07:22.917233Z",
     "iopub.status.idle": "2025-01-05T15:07:24.963683Z",
     "shell.execute_reply": "2025-01-05T15:07:24.963282Z",
     "shell.execute_reply.started": "2025-01-05T15:07:22.917785Z"
    }
   },
   "outputs": [
    {
     "data": {
      "text/plain": [
       "<matplotlib.legend.Legend at 0x705e4bc70aa0>"
      ]
     },
     "execution_count": 11,
     "metadata": {},
     "output_type": "execute_result"
    },
    {
     "data": {
      "application/vnd.jupyter.widget-view+json": {
       "model_id": "2d1516cd83a346fc8b19c371e0efe3fe",
       "version_major": 2,
       "version_minor": 0
      },
      "image/png": "[encoded data removed]",
      "text/html": [
       "\n",
       "            <div style=\"display: inline-block;\">\n",
       "                <div class=\"jupyter-widgets widget-label\" style=\"text-align: center;\">\n",
       "                    Surveys\n",
       "                </div>\n",
       "                <img src='data:image/png;base64,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' width=640.0/>\n",
       "            </div>\n",
       "        "
      ],
      "text/plain": [
       "Canvas(toolbar=Toolbar(toolitems=[('Home', 'Reset original view', 'home', 'home'), ('Back', 'Back to previous …"
      ]
     },
     "metadata": {},
     "output_type": "display_data"
    }
   ],
   "source": [
    "# helper function to create a figure, it justs call matplotlib.fig and matplotlib.subplots \n",
    "# and it makes sure the figure is closed in case it exists already\n",
    "# additionally, it gives you the option to plot a background geo tiff using rasterio\n",
    "fig_nav, ax_nav = theping.pingprocessing.overview.nav_plot.create_figure(\n",
    "    'Surveys',                                                                      \n",
    "    #background_image_path='path to tiff' #if you have nice geotiff with bathy for your area, add the path here\n",
    ")\n",
    "\n",
    "# a class to extract some basic ping statistics\n",
    "overview = theping.pingprocessing.overview.get_ping_overview(all_pings)\n",
    "\n",
    "#plot the navgigastion data,\n",
    "#automatically downsample the points to max 100000 points\n",
    "overview.plot_navigation(ax_nav, label='nav data')\n",
    "\n",
    "ax_nav.legend()"
   ]
  },
  {
   "cell_type": "code",
   "execution_count": 12,
   "id": "fed99fc8-ffa6-4d37-81a1-8b11807f655b",
   "metadata": {
    "execution": {
     "iopub.execute_input": "2025-01-05T15:08:55.265518Z",
     "iopub.status.busy": "2025-01-05T15:08:55.264847Z",
     "iopub.status.idle": "2025-01-05T15:08:55.278288Z",
     "shell.execute_reply": "2025-01-05T15:08:55.277998Z",
     "shell.execute_reply.started": "2025-01-05T15:08:55.265483Z"
    }
   },
   "outputs": [
    {
     "data": {
      "text/plain": [
       "<module 'themachinethatgoesping.pingprocessing.widgets' from '/ssd/src/themachinethatgoesping/themachinethatgoesping/subprojects/meta/..//pingprocessing/python/themachinethatgoesping/pingprocessing/widgets/__init__.py'>"
      ]
     },
     "execution_count": 12,
     "metadata": {},
     "output_type": "execute_result"
    }
   ],
   "source": [
    "import importlib\n",
    "importlib.reload(theping.pingprocessing.watercolumn.helper)\n",
    "importlib.reload(theping.pingprocessing.widgets)"
   ]
  },
  {
   "cell_type": "code",
   "execution_count": 14,
   "id": "de9b76ca-806f-4553-a4d0-9ee1dbd37be8",
   "metadata": {
    "execution": {
     "iopub.execute_input": "2025-01-05T15:09:01.364044Z",
     "iopub.status.busy": "2025-01-05T15:09:01.363806Z",
     "iopub.status.idle": "2025-01-05T15:09:01.366331Z",
     "shell.execute_reply": "2025-01-05T15:09:01.365991Z",
     "shell.execute_reply.started": "2025-01-05T15:09:01.364031Z"
    }
   },
   "outputs": [],
   "source": [
    "# select pings\n",
    "pings = all_pings\n",
    "\n",
    "pss = theping.echosounders.pingtools.PingSampleSelector()\n",
    "#pss.select_beam_range_by_angles(-3,3)"
   ]
  },
  {
   "cell_type": "code",
   "execution_count": 15,
   "id": "c671f8cd-f993-48a7-b810-b7037c63a983",
   "metadata": {
    "execution": {
     "iopub.execute_input": "2025-01-05T15:09:05.845735Z",
     "iopub.status.busy": "2025-01-05T15:09:05.845526Z",
     "iopub.status.idle": "2025-01-05T15:09:06.111046Z",
     "shell.execute_reply": "2025-01-05T15:09:06.110738Z",
     "shell.execute_reply.started": "2025-01-05T15:09:05.845722Z"
    }
   },
   "outputs": [
    {
     "data": {
      "application/vnd.jupyter.widget-view+json": {
       "model_id": "ba3ae4657a3a43c7b784eecb27b57b64",
       "version_major": 2,
       "version_minor": 0
      },
      "text/plain": [
       "VBox(children=(Canvas(toolbar=Toolbar(toolitems=[('Home', 'Reset original view', 'home', 'home'), ('Back', 'Ba…"
      ]
     },
     "metadata": {},
     "output_type": "display_data"
    }
   ],
   "source": [
    "#view the data\n",
    "\n",
    "viewer = theping.pingprocessing.widgets.WCIViewer(pings, ping_sample_selector = pss)"
   ]
  },
  {
   "cell_type": "code",
   "execution_count": 15,
   "id": "38c5d2e0-355b-4c3a-b037-c2ae9f7bf866",
   "metadata": {
    "execution": {
     "iopub.execute_input": "2024-12-12T19:21:00.908731Z",
     "iopub.status.busy": "2024-12-12T19:21:00.907742Z",
     "iopub.status.idle": "2024-12-12T19:21:01.157840Z",
     "shell.execute_reply": "2024-12-12T19:21:01.157207Z",
     "shell.execute_reply.started": "2024-12-12T19:21:00.908674Z"
    }
   },
   "outputs": [
    {
     "data": {
      "application/vnd.jupyter.widget-view+json": {
       "model_id": "a19d42ac7d2f43ab96bc7c57938c3a33",
       "version_major": 2,
       "version_minor": 0
      },
      "text/plain": [
       "VBox(children=(Canvas(toolbar=Toolbar(toolitems=[('Home', 'Reset original view', 'home', 'home'), ('Back', 'Ba…"
      ]
     },
     "metadata": {},
     "output_type": "display_data"
    }
   ],
   "source": [
    "#view the data\n",
    "\n",
    "viewer = theping.pingprocessing.widgets.WCIViewer(pings,name='2')"
   ]
  },
  {
   "cell_type": "code",
   "execution_count": 8,
   "id": "a657bbd8-041b-4243-8745-5ee3208c0c0a",
   "metadata": {
    "execution": {
     "iopub.execute_input": "2024-11-27T15:54:35.074586Z",
     "iopub.status.busy": "2024-11-27T15:54:35.074379Z",
     "iopub.status.idle": "2024-11-27T15:54:36.915159Z",
     "shell.execute_reply": "2024-11-27T15:54:36.914763Z",
     "shell.execute_reply.started": "2024-11-27T15:54:35.074573Z"
    }
   },
   "outputs": [
    {
     "name": "stdout",
     "output_type": "stream",
     "text": [
      "100\n"
     ]
    }
   ],
   "source": [
    "stack=300\n",
    "step = int(stack / 3) if int(stack / 3) >0 else 1\n",
    "\n",
    "viewer.w_mp_cores.value=8\n",
    "viewer.w_stack.value = stack\n",
    "viewer.w_index.set_trait('step', step)\n",
    "viewer.w_stack_step.value = int(stack / 30) if int(stack / 20) >0 else 1\n",
    "\n",
    "print(step)"
   ]
  },
  {
   "cell_type": "code",
   "execution_count": 9,
   "id": "cc71b093-f692-4743-a694-b04198ab1513",
   "metadata": {
    "execution": {
     "iopub.execute_input": "2024-11-27T15:54:45.657444Z",
     "iopub.status.busy": "2024-11-27T15:54:45.657083Z",
     "iopub.status.idle": "2024-11-27T15:55:03.033498Z",
     "shell.execute_reply": "2024-11-27T15:55:03.032906Z",
     "shell.execute_reply.started": "2024-11-27T15:54:45.657431Z"
    }
   },
   "outputs": [
    {
     "ename": "KeyboardInterrupt",
     "evalue": "",
     "output_type": "error",
     "traceback": [
      "\u001b[0;31m---------------------------------------------------------------------------\u001b[0m",
      "\u001b[0;31mKeyboardInterrupt\u001b[0m                         Traceback (most recent call last)",
      "Cell \u001b[0;32mIn[9], line 7\u001b[0m\n\u001b[1;32m      5\u001b[0m t1\u001b[38;5;241m=\u001b[39mtime\u001b[38;5;241m.\u001b[39mtime()\n\u001b[1;32m      6\u001b[0m \u001b[38;5;28;01mfor\u001b[39;00m pn \u001b[38;5;129;01min\u001b[39;00m \u001b[38;5;28mrange\u001b[39m(start,end\u001b[38;5;241m+\u001b[39m\u001b[38;5;241m1\u001b[39m,step):\n\u001b[0;32m----> 7\u001b[0m     \u001b[43mviewer\u001b[49m\u001b[38;5;241;43m.\u001b[39;49m\u001b[43mw_index\u001b[49m\u001b[38;5;241;43m.\u001b[39;49m\u001b[43mvalue\u001b[49m \u001b[38;5;241m=\u001b[39m pn\n\u001b[1;32m      8\u001b[0m t2\u001b[38;5;241m=\u001b[39mtime\u001b[38;5;241m.\u001b[39mtime()\n\u001b[1;32m      9\u001b[0m \u001b[38;5;28mprint\u001b[39m((t2\u001b[38;5;241m-\u001b[39mt1))\n",
      "File \u001b[0;32m/ssd/opt/miniforge3/envs/dev/lib/python3.13/site-packages/traitlets/traitlets.py:716\u001b[0m, in \u001b[0;36mTraitType.__set__\u001b[0;34m(self, obj, value)\u001b[0m\n\u001b[1;32m    714\u001b[0m \u001b[38;5;28;01mif\u001b[39;00m \u001b[38;5;28mself\u001b[39m\u001b[38;5;241m.\u001b[39mread_only:\n\u001b[1;32m    715\u001b[0m     \u001b[38;5;28;01mraise\u001b[39;00m TraitError(\u001b[38;5;124m'\u001b[39m\u001b[38;5;124mThe \u001b[39m\u001b[38;5;124m\"\u001b[39m\u001b[38;5;132;01m%s\u001b[39;00m\u001b[38;5;124m\"\u001b[39m\u001b[38;5;124m trait is read-only.\u001b[39m\u001b[38;5;124m'\u001b[39m \u001b[38;5;241m%\u001b[39m \u001b[38;5;28mself\u001b[39m\u001b[38;5;241m.\u001b[39mname)\n\u001b[0;32m--> 716\u001b[0m \u001b[38;5;28;43mself\u001b[39;49m\u001b[38;5;241;43m.\u001b[39;49m\u001b[43mset\u001b[49m\u001b[43m(\u001b[49m\u001b[43mobj\u001b[49m\u001b[43m,\u001b[49m\u001b[43m \u001b[49m\u001b[43mvalue\u001b[49m\u001b[43m)\u001b[49m\n",
      "File \u001b[0;32m/ssd/opt/miniforge3/envs/dev/lib/python3.13/site-packages/traitlets/traitlets.py:706\u001b[0m, in \u001b[0;36mTraitType.set\u001b[0;34m(self, obj, value)\u001b[0m\n\u001b[1;32m    702\u001b[0m     silent \u001b[38;5;241m=\u001b[39m \u001b[38;5;28;01mFalse\u001b[39;00m\n\u001b[1;32m    703\u001b[0m \u001b[38;5;28;01mif\u001b[39;00m silent \u001b[38;5;129;01mis\u001b[39;00m \u001b[38;5;129;01mnot\u001b[39;00m \u001b[38;5;28;01mTrue\u001b[39;00m:\n\u001b[1;32m    704\u001b[0m     \u001b[38;5;66;03m# we explicitly compare silent to True just in case the equality\u001b[39;00m\n\u001b[1;32m    705\u001b[0m     \u001b[38;5;66;03m# comparison above returns something other than True/False\u001b[39;00m\n\u001b[0;32m--> 706\u001b[0m     \u001b[43mobj\u001b[49m\u001b[38;5;241;43m.\u001b[39;49m\u001b[43m_notify_trait\u001b[49m\u001b[43m(\u001b[49m\u001b[38;5;28;43mself\u001b[39;49m\u001b[38;5;241;43m.\u001b[39;49m\u001b[43mname\u001b[49m\u001b[43m,\u001b[49m\u001b[43m \u001b[49m\u001b[43mold_value\u001b[49m\u001b[43m,\u001b[49m\u001b[43m \u001b[49m\u001b[43mnew_value\u001b[49m\u001b[43m)\u001b[49m\n",
      "File \u001b[0;32m/ssd/opt/miniforge3/envs/dev/lib/python3.13/site-packages/traitlets/traitlets.py:1513\u001b[0m, in \u001b[0;36mHasTraits._notify_trait\u001b[0;34m(self, name, old_value, new_value)\u001b[0m\n\u001b[1;32m   1512\u001b[0m \u001b[38;5;28;01mdef\u001b[39;00m \u001b[38;5;21m_notify_trait\u001b[39m(\u001b[38;5;28mself\u001b[39m, name: \u001b[38;5;28mstr\u001b[39m, old_value: t\u001b[38;5;241m.\u001b[39mAny, new_value: t\u001b[38;5;241m.\u001b[39mAny) \u001b[38;5;241m-\u001b[39m\u001b[38;5;241m>\u001b[39m \u001b[38;5;28;01mNone\u001b[39;00m:\n\u001b[0;32m-> 1513\u001b[0m     \u001b[38;5;28;43mself\u001b[39;49m\u001b[38;5;241;43m.\u001b[39;49m\u001b[43mnotify_change\u001b[49m\u001b[43m(\u001b[49m\n\u001b[1;32m   1514\u001b[0m \u001b[43m        \u001b[49m\u001b[43mBunch\u001b[49m\u001b[43m(\u001b[49m\n\u001b[1;32m   1515\u001b[0m \u001b[43m            \u001b[49m\u001b[43mname\u001b[49m\u001b[38;5;241;43m=\u001b[39;49m\u001b[43mname\u001b[49m\u001b[43m,\u001b[49m\n\u001b[1;32m   1516\u001b[0m \u001b[43m            \u001b[49m\u001b[43mold\u001b[49m\u001b[38;5;241;43m=\u001b[39;49m\u001b[43mold_value\u001b[49m\u001b[43m,\u001b[49m\n\u001b[1;32m   1517\u001b[0m \u001b[43m            \u001b[49m\u001b[43mnew\u001b[49m\u001b[38;5;241;43m=\u001b[39;49m\u001b[43mnew_value\u001b[49m\u001b[43m,\u001b[49m\n\u001b[1;32m   1518\u001b[0m \u001b[43m            \u001b[49m\u001b[43mowner\u001b[49m\u001b[38;5;241;43m=\u001b[39;49m\u001b[38;5;28;43mself\u001b[39;49m\u001b[43m,\u001b[49m\n\u001b[1;32m   1519\u001b[0m \u001b[43m            \u001b[49m\u001b[38;5;28;43mtype\u001b[39;49m\u001b[38;5;241;43m=\u001b[39;49m\u001b[38;5;124;43m\"\u001b[39;49m\u001b[38;5;124;43mchange\u001b[39;49m\u001b[38;5;124;43m\"\u001b[39;49m\u001b[43m,\u001b[49m\n\u001b[1;32m   1520\u001b[0m \u001b[43m        \u001b[49m\u001b[43m)\u001b[49m\n\u001b[1;32m   1521\u001b[0m \u001b[43m    \u001b[49m\u001b[43m)\u001b[49m\n",
      "File \u001b[0;32m/ssd/opt/miniforge3/envs/dev/lib/python3.13/site-packages/ipywidgets/widgets/widget.py:701\u001b[0m, in \u001b[0;36mWidget.notify_change\u001b[0;34m(self, change)\u001b[0m\n\u001b[1;32m    698\u001b[0m     \u001b[38;5;28;01mif\u001b[39;00m name \u001b[38;5;129;01min\u001b[39;00m \u001b[38;5;28mself\u001b[39m\u001b[38;5;241m.\u001b[39mkeys \u001b[38;5;129;01mand\u001b[39;00m \u001b[38;5;28mself\u001b[39m\u001b[38;5;241m.\u001b[39m_should_send_property(name, \u001b[38;5;28mgetattr\u001b[39m(\u001b[38;5;28mself\u001b[39m, name)):\n\u001b[1;32m    699\u001b[0m         \u001b[38;5;66;03m# Send new state to front-end\u001b[39;00m\n\u001b[1;32m    700\u001b[0m         \u001b[38;5;28mself\u001b[39m\u001b[38;5;241m.\u001b[39msend_state(key\u001b[38;5;241m=\u001b[39mname)\n\u001b[0;32m--> 701\u001b[0m \u001b[38;5;28;43msuper\u001b[39;49m\u001b[43m(\u001b[49m\u001b[43m)\u001b[49m\u001b[38;5;241;43m.\u001b[39;49m\u001b[43mnotify_change\u001b[49m\u001b[43m(\u001b[49m\u001b[43mchange\u001b[49m\u001b[43m)\u001b[49m\n",
      "File \u001b[0;32m/ssd/opt/miniforge3/envs/dev/lib/python3.13/site-packages/traitlets/traitlets.py:1525\u001b[0m, in \u001b[0;36mHasTraits.notify_change\u001b[0;34m(self, change)\u001b[0m\n\u001b[1;32m   1523\u001b[0m \u001b[38;5;28;01mdef\u001b[39;00m \u001b[38;5;21mnotify_change\u001b[39m(\u001b[38;5;28mself\u001b[39m, change: Bunch) \u001b[38;5;241m-\u001b[39m\u001b[38;5;241m>\u001b[39m \u001b[38;5;28;01mNone\u001b[39;00m:\n\u001b[1;32m   1524\u001b[0m \u001b[38;5;250m    \u001b[39m\u001b[38;5;124;03m\"\"\"Notify observers of a change event\"\"\"\u001b[39;00m\n\u001b[0;32m-> 1525\u001b[0m     \u001b[38;5;28;01mreturn\u001b[39;00m \u001b[38;5;28;43mself\u001b[39;49m\u001b[38;5;241;43m.\u001b[39;49m\u001b[43m_notify_observers\u001b[49m\u001b[43m(\u001b[49m\u001b[43mchange\u001b[49m\u001b[43m)\u001b[49m\n",
      "File \u001b[0;32m/ssd/opt/miniforge3/envs/dev/lib/python3.13/site-packages/traitlets/traitlets.py:1568\u001b[0m, in \u001b[0;36mHasTraits._notify_observers\u001b[0;34m(self, event)\u001b[0m\n\u001b[1;32m   1565\u001b[0m \u001b[38;5;28;01melif\u001b[39;00m \u001b[38;5;28misinstance\u001b[39m(c, EventHandler) \u001b[38;5;129;01mand\u001b[39;00m c\u001b[38;5;241m.\u001b[39mname \u001b[38;5;129;01mis\u001b[39;00m \u001b[38;5;129;01mnot\u001b[39;00m \u001b[38;5;28;01mNone\u001b[39;00m:\n\u001b[1;32m   1566\u001b[0m     c \u001b[38;5;241m=\u001b[39m \u001b[38;5;28mgetattr\u001b[39m(\u001b[38;5;28mself\u001b[39m, c\u001b[38;5;241m.\u001b[39mname)\n\u001b[0;32m-> 1568\u001b[0m \u001b[43mc\u001b[49m\u001b[43m(\u001b[49m\u001b[43mevent\u001b[49m\u001b[43m)\u001b[49m\n",
      "File \u001b[0;32m/ssd/src/themachinethatgoesping/themachinethatgoesping/subprojects/meta/..//pingprocessing/python/themachinethatgoesping/pingprocessing/widgets/wciviewer.py:271\u001b[0m, in \u001b[0;36mWCIViewer.update_data\u001b[0;34m(self, w)\u001b[0m\n\u001b[1;32m    268\u001b[0m \u001b[38;5;28mself\u001b[39m\u001b[38;5;241m.\u001b[39mimagebuilder\u001b[38;5;241m.\u001b[39mupdate_args(\u001b[38;5;241m*\u001b[39m\u001b[38;5;241m*\u001b[39m\u001b[38;5;28mself\u001b[39m\u001b[38;5;241m.\u001b[39margs_imagebuilder)\n\u001b[1;32m    270\u001b[0m \u001b[38;5;28;01mtry\u001b[39;00m:\n\u001b[0;32m--> 271\u001b[0m     \u001b[38;5;28mself\u001b[39m\u001b[38;5;241m.\u001b[39mwci, \u001b[38;5;28mself\u001b[39m\u001b[38;5;241m.\u001b[39mextent \u001b[38;5;241m=\u001b[39m \u001b[38;5;28;43mself\u001b[39;49m\u001b[38;5;241;43m.\u001b[39;49m\u001b[43mimagebuilder\u001b[49m\u001b[38;5;241;43m.\u001b[39;49m\u001b[43mbuild\u001b[49m\u001b[43m(\u001b[49m\n\u001b[1;32m    272\u001b[0m \u001b[43m        \u001b[49m\u001b[43mindex\u001b[49m\u001b[38;5;241;43m=\u001b[39;49m\u001b[38;5;28;43mself\u001b[39;49m\u001b[38;5;241;43m.\u001b[39;49m\u001b[43mw_index\u001b[49m\u001b[38;5;241;43m.\u001b[39;49m\u001b[43mvalue\u001b[49m\u001b[43m,\u001b[49m\u001b[43m \u001b[49m\u001b[43mstack\u001b[49m\u001b[38;5;241;43m=\u001b[39;49m\u001b[38;5;28;43mself\u001b[39;49m\u001b[38;5;241;43m.\u001b[39;49m\u001b[43mw_stack\u001b[49m\u001b[38;5;241;43m.\u001b[39;49m\u001b[43mvalue\u001b[49m\u001b[43m,\u001b[49m\u001b[43m \u001b[49m\u001b[43mstack_step\u001b[49m\u001b[38;5;241;43m=\u001b[39;49m\u001b[38;5;28;43mself\u001b[39;49m\u001b[38;5;241;43m.\u001b[39;49m\u001b[43mw_stack_step\u001b[49m\u001b[38;5;241;43m.\u001b[39;49m\u001b[43mvalue\u001b[49m\n\u001b[1;32m    273\u001b[0m \u001b[43m    \u001b[49m\u001b[43m)\u001b[49m\n\u001b[1;32m    274\u001b[0m     \u001b[38;5;28mself\u001b[39m\u001b[38;5;241m.\u001b[39mcallback_data()\n\u001b[1;32m    276\u001b[0m     \u001b[38;5;66;03m# w_text_execution_time.value = str(round(time()-t,3))\u001b[39;00m\n",
      "File \u001b[0;32m/ssd/src/themachinethatgoesping/themachinethatgoesping/subprojects/meta/..//pingprocessing/python/themachinethatgoesping/pingprocessing/watercolumn/image/imagebuilder.py:52\u001b[0m, in \u001b[0;36mImageBuilder.build\u001b[0;34m(self, index, stack, stack_step, **kwargs)\u001b[0m\n\u001b[1;32m     48\u001b[0m         max_index \u001b[38;5;241m=\u001b[39m \u001b[38;5;28mlen\u001b[39m(\u001b[38;5;28mself\u001b[39m\u001b[38;5;241m.\u001b[39mpings)\n\u001b[1;32m     50\u001b[0m     stack_pings \u001b[38;5;241m=\u001b[39m \u001b[38;5;28mself\u001b[39m\u001b[38;5;241m.\u001b[39mpings[index:max_index:stack_step]\n\u001b[0;32m---> 52\u001b[0m     \u001b[38;5;28;01mreturn\u001b[39;00m \u001b[43mmake_wci_stack\u001b[49m\u001b[43m(\u001b[49m\n\u001b[1;32m     53\u001b[0m \u001b[43m        \u001b[49m\u001b[43mstack_pings\u001b[49m\u001b[43m,\u001b[49m\n\u001b[1;32m     54\u001b[0m \u001b[43m        \u001b[49m\u001b[43mprogress\u001b[49m\u001b[38;5;241;43m=\u001b[39;49m\u001b[38;5;28;43mself\u001b[39;49m\u001b[38;5;241;43m.\u001b[39;49m\u001b[43mprogress\u001b[49m\u001b[43m,\u001b[49m\n\u001b[1;32m     55\u001b[0m \u001b[43m        \u001b[49m\u001b[38;5;241;43m*\u001b[39;49m\u001b[38;5;241;43m*\u001b[39;49m\u001b[43m_kwargs\u001b[49m\u001b[43m)\u001b[49m\n\u001b[1;32m     57\u001b[0m \u001b[38;5;28;01mif\u001b[39;00m \u001b[38;5;28mself\u001b[39m\u001b[38;5;241m.\u001b[39mbeam_sample_view:\n\u001b[1;32m     58\u001b[0m     \u001b[38;5;28;01mreturn\u001b[39;00m make_beam_sample_image(\n\u001b[1;32m     59\u001b[0m         \u001b[38;5;28mself\u001b[39m\u001b[38;5;241m.\u001b[39mpings[index],\n\u001b[1;32m     60\u001b[0m         \u001b[38;5;241m*\u001b[39m\u001b[38;5;241m*\u001b[39m_kwargs)\n",
      "File \u001b[0;32m/ssd/src/themachinethatgoesping/themachinethatgoesping/subprojects/meta/..//pingprocessing/python/themachinethatgoesping/pingprocessing/watercolumn/image/make_wci.py:518\u001b[0m, in \u001b[0;36mmake_wci_stack\u001b[0;34m(pings, horizontal_pixels, linear_mean, hmin, hmax, vmin, vmax, from_bottom_xyz, wci_value, ping_sample_selector, progress, mp_cores, **kwargs)\u001b[0m\n\u001b[1;32m    515\u001b[0m \u001b[38;5;66;03m# loop through each ping\u001b[39;00m\n\u001b[1;32m    516\u001b[0m \u001b[38;5;28;01mfor\u001b[39;00m pn, ping \u001b[38;5;129;01min\u001b[39;00m \u001b[38;5;28menumerate\u001b[39m(it):\n\u001b[1;32m    517\u001b[0m     \u001b[38;5;66;03m# create backtracer object\u001b[39;00m\n\u001b[0;32m--> 518\u001b[0m     wci, extent \u001b[38;5;241m=\u001b[39m \u001b[43mmake_wci_dual_head\u001b[49m\u001b[43m(\u001b[49m\n\u001b[1;32m    519\u001b[0m \u001b[43m        \u001b[49m\u001b[43mping\u001b[49m\u001b[43m,\u001b[49m\n\u001b[1;32m    520\u001b[0m \u001b[43m        \u001b[49m\u001b[43mhorizontal_pixels\u001b[49m\u001b[43m \u001b[49m\u001b[38;5;241;43m=\u001b[39;49m\u001b[43m \u001b[49m\u001b[43mhorizontal_pixels\u001b[49m\u001b[43m,\u001b[49m\n\u001b[1;32m    521\u001b[0m \u001b[43m        \u001b[49m\u001b[43my_coordinates\u001b[49m\u001b[38;5;241;43m=\u001b[39;49m\u001b[43m \u001b[49m\u001b[43mscaling_infos\u001b[49m\u001b[38;5;241;43m.\u001b[39;49m\u001b[43my_coordinates\u001b[49m\u001b[43m,\u001b[49m\n\u001b[1;32m    522\u001b[0m \u001b[43m        \u001b[49m\u001b[43mz_coordinates\u001b[49m\u001b[38;5;241;43m=\u001b[39;49m\u001b[43m \u001b[49m\u001b[43mscaling_infos\u001b[49m\u001b[38;5;241;43m.\u001b[39;49m\u001b[43mz_coordinates\u001b[49m\u001b[43m,\u001b[49m\n\u001b[1;32m    523\u001b[0m \u001b[43m        \u001b[49m\u001b[43mfrom_bottom_xyz\u001b[49m\u001b[43m \u001b[49m\u001b[38;5;241;43m=\u001b[39;49m\u001b[43m \u001b[49m\u001b[43mfrom_bottom_xyz\u001b[49m\u001b[43m,\u001b[49m\n\u001b[1;32m    524\u001b[0m \u001b[43m        \u001b[49m\u001b[43mwci_value\u001b[49m\u001b[43m \u001b[49m\u001b[38;5;241;43m=\u001b[39;49m\u001b[43m \u001b[49m\u001b[43mwci_value\u001b[49m\u001b[43m,\u001b[49m\n\u001b[1;32m    525\u001b[0m \u001b[43m        \u001b[49m\u001b[43mping_sample_selector\u001b[49m\u001b[38;5;241;43m=\u001b[39;49m\u001b[43mping_sample_selector\u001b[49m\u001b[43m,\u001b[49m\n\u001b[1;32m    526\u001b[0m \u001b[43m        \u001b[49m\u001b[43mmp_cores\u001b[49m\u001b[38;5;241;43m=\u001b[39;49m\u001b[43mmp_cores\u001b[49m\u001b[43m,\u001b[49m\n\u001b[1;32m    527\u001b[0m \u001b[43m    \u001b[49m\u001b[43m)\u001b[49m\n\u001b[1;32m    529\u001b[0m     use \u001b[38;5;241m=\u001b[39m np\u001b[38;5;241m.\u001b[39misfinite(wci)\u001b[38;5;241m.\u001b[39mastype(\u001b[38;5;28mbool\u001b[39m)\n\u001b[1;32m    531\u001b[0m     \u001b[38;5;66;03m# apply linear mean if specified\u001b[39;00m\n",
      "File \u001b[0;32m/ssd/src/themachinethatgoesping/themachinethatgoesping/subprojects/meta/..//pingprocessing/python/themachinethatgoesping/pingprocessing/watercolumn/image/make_wci.py:392\u001b[0m, in \u001b[0;36mmake_wci_dual_head\u001b[0;34m(ping_group, horizontal_pixels, hmin, hmax, vmin, vmax, y_coordinates, z_coordinates, from_bottom_xyz, wci_value, ping_sample_selector, mp_cores, **kwargs)\u001b[0m\n\u001b[1;32m    375\u001b[0m \u001b[38;5;28;01mdef\u001b[39;00m \u001b[38;5;21mmake_wci_dual_head\u001b[39m(\n\u001b[1;32m    376\u001b[0m     ping_group: es\u001b[38;5;241m.\u001b[39mfiletemplates\u001b[38;5;241m.\u001b[39mI_Ping,\n\u001b[1;32m    377\u001b[0m     horizontal_pixels: \u001b[38;5;28mint\u001b[39m,\n\u001b[0;32m   (...)\u001b[0m\n\u001b[1;32m    388\u001b[0m     \u001b[38;5;241m*\u001b[39m\u001b[38;5;241m*\u001b[39mkwargs,\n\u001b[1;32m    389\u001b[0m ) \u001b[38;5;241m-\u001b[39m\u001b[38;5;241m>\u001b[39m Tuple[np\u001b[38;5;241m.\u001b[39mndarray, Tuple[\u001b[38;5;28mfloat\u001b[39m, \u001b[38;5;28mfloat\u001b[39m, \u001b[38;5;28mfloat\u001b[39m, \u001b[38;5;28mfloat\u001b[39m]]:\n\u001b[1;32m    391\u001b[0m     \u001b[38;5;28;01mif\u001b[39;00m \u001b[38;5;129;01mnot\u001b[39;00m \u001b[38;5;28misinstance\u001b[39m(ping_group, \u001b[38;5;28mdict\u001b[39m):\n\u001b[0;32m--> 392\u001b[0m         \u001b[38;5;28;01mreturn\u001b[39;00m \u001b[43mmake_wci\u001b[49m\u001b[43m(\u001b[49m\u001b[43mping_group\u001b[49m\u001b[43m,\u001b[49m\u001b[43m \u001b[49m\n\u001b[1;32m    393\u001b[0m \u001b[43m        \u001b[49m\u001b[43mhorizontal_pixels\u001b[49m\u001b[43m,\u001b[49m\u001b[43m \u001b[49m\u001b[43mhmin\u001b[49m\u001b[43m,\u001b[49m\u001b[43m \u001b[49m\u001b[43mhmax\u001b[49m\u001b[43m,\u001b[49m\u001b[43m \u001b[49m\u001b[43mvmin\u001b[49m\u001b[43m,\u001b[49m\u001b[43m \u001b[49m\u001b[43mvmax\u001b[49m\u001b[43m,\u001b[49m\u001b[43m \u001b[49m\u001b[43my_coordinates\u001b[49m\u001b[43m,\u001b[49m\u001b[43mz_coordinates\u001b[49m\u001b[43m,\u001b[49m\u001b[43mfrom_bottom_xyz\u001b[49m\u001b[43m,\u001b[49m\u001b[43m \u001b[49m\u001b[43mwci_value\u001b[49m\u001b[43m,\u001b[49m\u001b[43m \u001b[49m\u001b[43mping_sample_selector\u001b[49m\u001b[43m,\u001b[49m\u001b[43m \u001b[49m\u001b[43mmp_cores\u001b[49m\u001b[43m)\u001b[49m\n\u001b[1;32m    395\u001b[0m     pings \u001b[38;5;241m=\u001b[39m \u001b[38;5;28mlist\u001b[39m(ping_group\u001b[38;5;241m.\u001b[39mvalues())\n\u001b[1;32m    396\u001b[0m     \u001b[38;5;28;01mif\u001b[39;00m \u001b[38;5;28mlen\u001b[39m(pings) \u001b[38;5;241m==\u001b[39m \u001b[38;5;241m1\u001b[39m:\n",
      "File \u001b[0;32m/ssd/src/themachinethatgoesping/themachinethatgoesping/subprojects/meta/..//pingprocessing/python/themachinethatgoesping/pingprocessing/watercolumn/image/make_wci.py:292\u001b[0m, in \u001b[0;36mmake_wci\u001b[0;34m(ping, horizontal_pixels, hmin, hmax, vmin, vmax, y_coordinates, z_coordinates, from_bottom_xyz, wci_value, ping_sample_selector, mp_cores, **kwargs)\u001b[0m\n\u001b[1;32m    290\u001b[0m \u001b[38;5;28;01mif\u001b[39;00m y_coordinates \u001b[38;5;129;01mis\u001b[39;00m \u001b[38;5;129;01mnot\u001b[39;00m \u001b[38;5;28;01mNone\u001b[39;00m \u001b[38;5;129;01mand\u001b[39;00m z_coordinates \u001b[38;5;129;01mis\u001b[39;00m \u001b[38;5;129;01mnot\u001b[39;00m \u001b[38;5;28;01mNone\u001b[39;00m:\n\u001b[1;32m    291\u001b[0m     \u001b[38;5;28;01mtry\u001b[39;00m:\n\u001b[0;32m--> 292\u001b[0m         scaling_infos \u001b[38;5;241m=\u001b[39m \u001b[43m__WCI_scaling_infos\u001b[49m\u001b[38;5;241;43m.\u001b[39;49m\u001b[43mfrom_pings_and_coordinates\u001b[49m\u001b[43m(\u001b[49m\n\u001b[1;32m    293\u001b[0m \u001b[43m            \u001b[49m\u001b[43mpings\u001b[49m\u001b[38;5;241;43m=\u001b[39;49m\u001b[43mping\u001b[49m\u001b[43m,\u001b[49m\n\u001b[1;32m    294\u001b[0m \u001b[43m            \u001b[49m\u001b[43my_coordinates\u001b[49m\u001b[38;5;241;43m=\u001b[39;49m\u001b[43my_coordinates\u001b[49m\u001b[43m,\u001b[49m\n\u001b[1;32m    295\u001b[0m \u001b[43m            \u001b[49m\u001b[43mz_coordinates\u001b[49m\u001b[38;5;241;43m=\u001b[39;49m\u001b[43mz_coordinates\u001b[49m\u001b[43m,\u001b[49m\n\u001b[1;32m    296\u001b[0m \u001b[43m            \u001b[49m\u001b[43mfrom_bottom_xyz\u001b[49m\u001b[38;5;241;43m=\u001b[39;49m\u001b[43mfrom_bottom_xyz\u001b[49m\u001b[43m,\u001b[49m\n\u001b[1;32m    297\u001b[0m \u001b[43m            \u001b[49m\u001b[43mping_sample_selector\u001b[49m\u001b[38;5;241;43m=\u001b[39;49m\u001b[43mping_sample_selector\u001b[49m\u001b[43m,\u001b[49m\n\u001b[1;32m    298\u001b[0m \u001b[43m        \u001b[49m\u001b[43m)\u001b[49m\n\u001b[1;32m    299\u001b[0m     \u001b[38;5;28;01mexcept\u001b[39;00m \u001b[38;5;167;01mValueError\u001b[39;00m:\n\u001b[1;32m    300\u001b[0m         y_res \u001b[38;5;241m=\u001b[39m y_coordinates[\u001b[38;5;241m1\u001b[39m] \u001b[38;5;241m-\u001b[39m y_coordinates[\u001b[38;5;241m0\u001b[39m]\n",
      "File \u001b[0;32m/ssd/src/themachinethatgoesping/themachinethatgoesping/subprojects/meta/..//pingprocessing/python/themachinethatgoesping/pingprocessing/watercolumn/image/make_wci.py:82\u001b[0m, in \u001b[0;36m__WCI_scaling_infos.from_pings_and_coordinates\u001b[0;34m(cls, pings, y_coordinates, z_coordinates, from_bottom_xyz, ping_sample_selector)\u001b[0m\n\u001b[1;32m     80\u001b[0m     xyz, bd, bdsn \u001b[38;5;241m=\u001b[39m mi_hlp\u001b[38;5;241m.\u001b[39mget_bottom_directions_bottom(ping, selection\u001b[38;5;241m=\u001b[39mselection)\n\u001b[1;32m     81\u001b[0m \u001b[38;5;28;01melse\u001b[39;00m:\n\u001b[0;32m---> 82\u001b[0m     xyz, bd, bdsn \u001b[38;5;241m=\u001b[39m \u001b[43mmi_hlp\u001b[49m\u001b[38;5;241;43m.\u001b[39;49m\u001b[43mget_bottom_directions_wci\u001b[49m\u001b[43m(\u001b[49m\u001b[43mping\u001b[49m\u001b[43m,\u001b[49m\u001b[43m \u001b[49m\u001b[43mselection\u001b[49m\u001b[38;5;241;43m=\u001b[39;49m\u001b[43mselection\u001b[49m\u001b[43m)\u001b[49m\n\u001b[1;32m     84\u001b[0m xyzs\u001b[38;5;241m.\u001b[39mappend(xyz)\n\u001b[1;32m     85\u001b[0m bottom_directions\u001b[38;5;241m.\u001b[39mappend(bd)\n",
      "File \u001b[0;32m/ssd/src/themachinethatgoesping/themachinethatgoesping/subprojects/meta/..//pingprocessing/python/themachinethatgoesping/pingprocessing/watercolumn/helper/make_image_helper.py:41\u001b[0m, in \u001b[0;36mget_bottom_directions_wci\u001b[0;34m(ping, selection)\u001b[0m\n\u001b[1;32m     38\u001b[0m posoff \u001b[38;5;241m=\u001b[39m sc\u001b[38;5;241m.\u001b[39mget_position_source()\n\u001b[1;32m     39\u001b[0m geolocation \u001b[38;5;241m=\u001b[39m ping\u001b[38;5;241m.\u001b[39mget_geolocation()\n\u001b[0;32m---> 41\u001b[0m bottom_direction_sample_numbers \u001b[38;5;241m=\u001b[39m np\u001b[38;5;241m.\u001b[39marray(\u001b[43mselection\u001b[49m\u001b[38;5;241;43m.\u001b[39;49m\u001b[43mget_last_sample_number_per_beam\u001b[49m\u001b[43m(\u001b[49m\u001b[43m)\u001b[49m)\n\u001b[1;32m     43\u001b[0m bottomdirections \u001b[38;5;241m=\u001b[39m gp\u001b[38;5;241m.\u001b[39mdatastructures\u001b[38;5;241m.\u001b[39mSampleDirectionsTime_1([selection\u001b[38;5;241m.\u001b[39mget_number_of_beams()])\n\u001b[1;32m     44\u001b[0m bottomdirections\u001b[38;5;241m.\u001b[39mcrosstrack_angle \u001b[38;5;241m=\u001b[39m ping\u001b[38;5;241m.\u001b[39mwatercolumn\u001b[38;5;241m.\u001b[39mget_beam_crosstrack_angles(selection) \u001b[38;5;241m-\u001b[39m geolocation\u001b[38;5;241m.\u001b[39mroll\n",
      "\u001b[0;31mKeyboardInterrupt\u001b[0m: "
     ]
    }
   ],
   "source": [
    "import time\n",
    "start = viewer.w_index.value\n",
    "end   = start + 10000\n",
    "\n",
    "t1=time.time()\n",
    "for pn in range(start,end+1,step):\n",
    "    viewer.w_index.value = pn\n",
    "t2=time.time()\n",
    "print((t2-t1))\n",
    "print((t2-t1)/(end-start))\n",
    "print((end-start)/(t2-t1))"
   ]
  },
  {
   "cell_type": "markdown",
   "id": "e253a127-968d-4ce9-800a-3eb4af3107aa",
   "metadata": {
    "execution": {
     "iopub.execute_input": "2024-11-06T14:43:51.562905Z",
     "iopub.status.busy": "2024-11-06T14:43:51.562662Z",
     "iopub.status.idle": "2024-11-06T14:43:51.564745Z",
     "shell.execute_reply": "2024-11-06T14:43:51.564456Z",
     "shell.execute_reply.started": "2024-11-06T14:43:51.562893Z"
    }
   },
   "source": [
    "## Create an echogram"
   ]
  },
  {
   "cell_type": "code",
   "execution_count": 17,
   "id": "f6b0484a-ef92-40d2-a8ae-52113c987372",
   "metadata": {
    "execution": {
     "iopub.execute_input": "2025-01-05T15:10:25.243897Z",
     "iopub.status.busy": "2025-01-05T15:10:25.243622Z",
     "iopub.status.idle": "2025-01-05T15:11:06.772063Z",
     "shell.execute_reply": "2025-01-05T15:11:06.771623Z",
     "shell.execute_reply.started": "2025-01-05T15:10:25.243876Z"
    }
   },
   "outputs": [
    {
     "data": {
      "application/vnd.jupyter.widget-view+json": {
       "model_id": "a1b8a11f836c428cba03b5c08203cb27",
       "version_major": 2,
       "version_minor": 0
      },
      "text/plain": [
       "  5%|5         | 7439/142623 [00:01<00:18, 7438.35it/s]"
      ]
     },
     "metadata": {},
     "output_type": "display_data"
    }
   ],
   "source": [
    "#build the echogram\n",
    "pings = all_pings\n",
    "\n",
    "#a beam selector object, we will only use the beams between +-3° (downward looking beams)\n",
    "pss = theping.echosounders.pingtools.PingSampleSelector()\n",
    "pss.select_beam_range_by_angles(-90,90,int(256/25))\n",
    "pss.select_minslant_range_percent(None,105)\n",
    "\n",
    "echodata = theping.pingprocessing.watercolumn.echograms.EchogramBuilder.from_pings(pings,pss=pss)"
   ]
  },
  {
   "cell_type": "code",
   "execution_count": 19,
   "id": "0ac8c4a1-c8ca-4fe0-9d43-007f15a0541a",
   "metadata": {
    "execution": {
     "iopub.execute_input": "2025-01-05T15:11:22.954055Z",
     "iopub.status.busy": "2025-01-05T15:11:22.953787Z",
     "iopub.status.idle": "2025-01-05T15:11:27.267168Z",
     "shell.execute_reply": "2025-01-05T15:11:27.266754Z",
     "shell.execute_reply.started": "2025-01-05T15:11:22.954035Z"
    }
   },
   "outputs": [
    {
     "data": {
      "application/vnd.jupyter.widget-view+json": {
       "model_id": "2e98f884ef7b469c9d3691537c4439e9",
       "version_major": 2,
       "version_minor": 0
      },
      "text/plain": [
       "VBox(children=(HBox(children=(Canvas(toolbar=Toolbar(toolitems=[('Home', 'Reset original view', 'home', 'home'…"
      ]
     },
     "metadata": {},
     "output_type": "display_data"
    }
   ],
   "source": [
    "echodata.set_x_axis_date_time(max_steps=20000)\n",
    "echodata.set_y_axis_depth(max_samples=1000)\n",
    "echoviewer = theping.pingprocessing.widgets.EchogramViewer(echodata)"
   ]
  },
  {
   "cell_type": "code",
   "execution_count": 24,
   "id": "d879c621-596a-44a7-8bec-e531e1dbd86e",
   "metadata": {
    "execution": {
     "iopub.execute_input": "2024-11-27T13:43:30.400795Z",
     "iopub.status.busy": "2024-11-27T13:43:30.400676Z",
     "iopub.status.idle": "2024-11-27T13:43:30.403739Z",
     "shell.execute_reply": "2024-11-27T13:43:30.403512Z",
     "shell.execute_reply.started": "2024-11-27T13:43:30.400786Z"
    }
   },
   "outputs": [
    {
     "name": "stdout",
     "output_type": "stream",
     "text": [
      "0:10:07.747901 relativedelta(minutes=+5)\n",
      "\n",
      "imagefolder: \"images/sb_timeblocks-0:10:07.747901\"\n"
     ]
    }
   ],
   "source": [
    "from pytimeparse2 import parse as timeparse\n",
    "# get deltaT from figure\n",
    "xmin,xmax = echoviewer.axes[0].get_xlim()\n",
    "deltaT = mdates.num2date(xmax) - mdates.num2date(xmin)\n",
    "\n",
    "# or set deltaT manually\n",
    "#deltaT = timeparse('25min',as_timedelta=True)\n",
    "\n",
    "overlap = timeparse('5min', as_timedelta=True)\n",
    "\n",
    "print(deltaT, overlap)\n",
    "print()\n",
    "imagefolder = f'images/sb_timeblocks-{deltaT}'\n",
    "print(f'imagefolder: \"{imagefolder}\"')"
   ]
  },
  {
   "cell_type": "code",
   "execution_count": 25,
   "id": "2291c242-801a-4b91-9e9c-cb7bd41d4781",
   "metadata": {
    "execution": {
     "iopub.execute_input": "2024-11-27T13:43:31.211451Z",
     "iopub.status.busy": "2024-11-27T13:43:31.211213Z",
     "iopub.status.idle": "2024-11-27T13:43:32.864398Z",
     "shell.execute_reply": "2024-11-27T13:43:32.864105Z",
     "shell.execute_reply.started": "2024-11-27T13:43:31.211432Z"
    }
   },
   "outputs": [
    {
     "data": {
      "application/vnd.jupyter.widget-view+json": {
       "model_id": "0d3b66b6d817491cb8b4a5b56e357d9f",
       "version_major": 2,
       "version_minor": 0
      },
      "text/plain": [
       "HBox(children=(Canvas(toolbar=Toolbar(toolitems=[('Home', 'Reset original view', 'home', 'home'), ('Back', 'Ba…"
      ]
     },
     "metadata": {},
     "output_type": "display_data"
    },
    {
     "data": {
      "application/vnd.jupyter.widget-view+json": {
       "model_id": "17a07d3a530b40a1a3d9e8ff1c6fde73",
       "version_major": 2,
       "version_minor": 0
      },
      "text/plain": [
       "HBox(children=(TqdmWidget(children=(Building echogram image: 100%|##########| 1260/1260 [00:02<00:00, 5575.40i…"
      ]
     },
     "metadata": {},
     "output_type": "display_data"
    },
    {
     "data": {
      "application/vnd.jupyter.widget-view+json": {
       "model_id": "8515335e575044c7b069fdcf21bff489",
       "version_major": 2,
       "version_minor": 0
      },
      "text/plain": [
       "HBox(children=(FloatSlider(value=-100.0, description='vmin', min=-150.0, step=5.0), FloatSlider(value=-25.0, d…"
      ]
     },
     "metadata": {},
     "output_type": "display_data"
    },
    {
     "data": {
      "application/vnd.jupyter.widget-view+json": {
       "model_id": "fc635bb004ab42e7b398efa59659b1e0",
       "version_major": 2,
       "version_minor": 0
      },
      "text/plain": [
       "HBox(children=(Button(description='update', style=ButtonStyle()), Button(description='clear output', style=But…"
      ]
     },
     "metadata": {},
     "output_type": "display_data"
    },
    {
     "data": {
      "application/vnd.jupyter.widget-view+json": {
       "model_id": "13f99369533c4f89aa5ff6b9d10be56c",
       "version_major": 2,
       "version_minor": 0
      },
      "text/plain": [
       "Output()"
      ]
     },
     "metadata": {},
     "output_type": "display_data"
    },
    {
     "data": {
      "application/vnd.jupyter.widget-view+json": {
       "model_id": "0b947337cc4745a583526886597fe5f0",
       "version_major": 2,
       "version_minor": 0
      },
      "text/plain": [
       "HBox(children=(Button(description='Left', style=ButtonStyle()), Button(description='right', style=ButtonStyle(…"
      ]
     },
     "execution_count": 25,
     "metadata": {},
     "output_type": "execute_result"
    }
   ],
   "source": [
    "import ipywidgets\n",
    "import matplotlib.dates as mdates\n",
    "from pytimeparse2 import parse as timeparse\n",
    "\n",
    "bleft = ipywidgets.Button(description=\"Left\")\n",
    "bright = ipywidgets.Button(description=\"right\")\n",
    "navbox = ipywidgets.HBox([bleft,bright])\n",
    "\n",
    "def move(e=0):\n",
    "    echoviewer.output.clear_output()\n",
    "    with echoviewer.output:\n",
    "        print(e)\n",
    "    \n",
    "        xmin,xmax = echoviewer.axes[0].get_xlim()\n",
    "        t1 = mdates.num2date(xmin)\n",
    "        t2 = mdates.num2date(xmax)\n",
    "    \n",
    "        t2 = t1 + 2* deltaT + overlap\n",
    "        t1 = t1 + deltaT - overlap\n",
    "\n",
    "        print(t1,t2)\n",
    "        echoviewer.axes[0].set_xlim(t1,t2)\n",
    "        echoviewer.show_background_zoom()\n",
    "    \n",
    "\n",
    "bleft.on_click(move)\n",
    "bright.on_click(move)\n",
    "\n",
    "echodata.set_x_axis_date_time(max_steps=4000)\n",
    "echodata.set_y_axis_depth(max_samples=1000)\n",
    "echoviewer.show()\n",
    "navbox"
   ]
  },
  {
   "cell_type": "code",
   "execution_count": 29,
   "id": "74613b63-e28a-4daa-9286-3548519455c0",
   "metadata": {
    "execution": {
     "iopub.execute_input": "2024-11-27T13:44:33.975356Z",
     "iopub.status.busy": "2024-11-27T13:44:33.975109Z",
     "iopub.status.idle": "2024-11-27T13:52:37.409811Z",
     "shell.execute_reply": "2024-11-27T13:52:37.409404Z",
     "shell.execute_reply.started": "2024-11-27T13:44:33.975340Z"
    }
   },
   "outputs": [
    {
     "data": {
      "application/vnd.jupyter.widget-view+json": {
       "model_id": "9588452508df4a16ae08f858e3234b5c",
       "version_major": 2,
       "version_minor": 0
      },
      "text/plain": [
       "  0%|          | 0/122 [00:00<?, ?it/s]"
      ]
     },
     "metadata": {},
     "output_type": "display_data"
    },
    {
     "name": "stdout",
     "output_type": "stream",
     "text": [
      "2017-12-15_05:45:52.991823+00:00.png\r"
     ]
    }
   ],
   "source": [
    "from pytimeparse2 import parse as timeparse\n",
    "import os\n",
    "\n",
    "!rm -rf images_time_blocks\n",
    "os.makedirs(imagefolder,exist_ok=True)\n",
    "\n",
    "for k,v in tqdm(theping.pingprocessing.split_pings.into_time_blocks(pings,deltaT,full_hour_base=True, overlap1 = overlap).items()):\n",
    "    t1 = k\n",
    "    t2 = k+deltaT +overlap\n",
    "    echoviewer.axes[0].set_xlim(t1,t2)\n",
    "    echoviewer.show_background_zoom()\n",
    "    name = f'{t1}'.replace(' ','_')+'.png'\n",
    "\n",
    "    print(name, end='\\r')\n",
    "    echoviewer.fig.savefig(os.path.join(imagefolder,name))"
   ]
  },
  {
   "cell_type": "code",
   "execution_count": null,
   "id": "9df5f019-9c08-4d24-b71c-ff2dcb41054f",
   "metadata": {},
   "outputs": [],
   "source": []
  }
 ],
 "metadata": {
  "kernelspec": {
   "display_name": "Python 3 (ipykernel)",
   "language": "python",
   "name": "python3"
  },
  "language_info": {
   "codemirror_mode": {
    "name": "ipython",
    "version": 3
   },
   "file_extension": ".py",
   "mimetype": "text/x-python",
   "name": "python",
   "nbconvert_exporter": "python",
   "pygments_lexer": "ipython3",
   "version": "3.11.13"
  },
  "widgets": {
   "application/vnd.jupyter.widget-state+json": {
    "state": {
     "0030cff912074368ab5878f7ec7bc610": {
      "model_module": "@jupyter-widgets/base",
      "model_module_version": "2.0.0",
      "model_name": "LayoutModel",
      "state": {}
     },
     "01b661f703ef40fa95d19e660034d91a": {
      "model_module": "@jupyter-widgets/controls",
      "model_module_version": "2.0.0",
      "model_name": "ProgressStyleModel",
      "state": {
       "description_width": ""
      }
     },
     "02292629da8b476ea124fc3faa61d7d2": {
      "model_module": "@jupyter-widgets/controls",
      "model_module_version": "2.0.0",
      "model_name": "HTMLStyleModel",
      "state": {
       "description_width": "",
       "font_size": null,
       "text_color": null
      }
     },
     "02de8e4ef6524784809028dd7c471844": {
      "model_module": "@jupyter-widgets/controls",
      "model_module_version": "2.0.0",
      "model_name": "FloatProgressModel",
      "state": {
       "bar_style": "success",
       "layout": "IPY_MODEL_a1b5198571cd4b86ac0fce18af517948",
       "style": "IPY_MODEL_567553bc38ee48a2a9340fe34deba445",
       "value": 100
      }
     },
     "02ed9d22efed466aa3ec4d2bb8c706bb": {
      "model_module": "@jupyter-widgets/controls",
      "model_module_version": "2.0.0",
      "model_name": "DescriptionStyleModel",
      "state": {
       "description_width": ""
      }
     },
     "0360e68c98724a4b9da6c7993ee50a76": {
      "model_module": "@jupyter-widgets/controls",
      "model_module_version": "2.0.0",
      "model_name": "ButtonModel",
      "state": {
       "description": "unfix x/y",
       "layout": "IPY_MODEL_1485320a207c481b9f892e740b8a742c",
       "style": "IPY_MODEL_6c26ddfc10664531b3f0d70f5b1517a4",
       "tooltip": null
      }
     },
     "04250654aa7a4990b1aa29f40403f60d": {
      "model_module": "@jupyter-widgets/base",
      "model_module_version": "2.0.0",
      "model_name": "LayoutModel",
      "state": {}
     },
     "046a53d528ce41778b94b8f00b1d56d2": {
      "model_module": "@jupyter-widgets/base",
      "model_module_version": "2.0.0",
      "model_name": "LayoutModel",
      "state": {}
     },
     "05b34b1d52424a08b5ea5ab74c13df8a": {
      "model_module": "@jupyter-widgets/controls",
      "model_module_version": "2.0.0",
      "model_name": "ProgressStyleModel",
      "state": {
       "description_width": ""
      }
     },
     "062e07896c374d238773c35bf8ac5d4f": {
      "model_module": "@jupyter-widgets/base",
      "model_module_version": "2.0.0",
      "model_name": "LayoutModel",
      "state": {}
     },
     "0ad1844a36d24b80a68f5b41c7e608fa": {
      "model_module": "@jupyter-widgets/controls",
      "model_module_version": "2.0.0",
      "model_name": "VBoxModel",
      "state": {
       "children": [
        "IPY_MODEL_eab5bd3e75aa4279a26224f409eda944",
        "IPY_MODEL_63f3bfa3110a4b1999f66369dcb0383d",
        "IPY_MODEL_a44843fbae0740d2965939be91af8d5c",
        "IPY_MODEL_eccd9ac49a044199a1f109173e898876",
        "IPY_MODEL_b235107fdc8c4dd88000c7adb69979ae",
        "IPY_MODEL_8a077810fd914231b30a58267e940115"
       ],
       "layout": "IPY_MODEL_0030cff912074368ab5878f7ec7bc610"
      }
     },
     "0cd62e4e63ea4a3f8ac21870273f1ac4": {
      "model_module": "@jupyter-widgets/base",
      "model_module_version": "2.0.0",
      "model_name": "LayoutModel",
      "state": {}
     },
     "0dd9e044eee9425fbcf064263a0178d4": {
      "model_module": "@jupyter-widgets/base",
      "model_module_version": "2.0.0",
      "model_name": "LayoutModel",
      "state": {}
     },
     "113197762ce64547a1c9be562b3aff72": {
      "model_module": "@jupyter-widgets/controls",
      "model_module_version": "2.0.0",
      "model_name": "HTMLStyleModel",
      "state": {
       "description_width": "",
       "font_size": null,
       "text_color": null
      }
     },
     "11363078f4b84a4b9ac8278d40a87df2": {
      "model_module": "@jupyter-widgets/controls",
      "model_module_version": "2.0.0",
      "model_name": "IntSliderModel",
      "state": {
       "behavior": "drag-tap",
       "description": "horizontal pixels",
       "layout": "IPY_MODEL_6a1323a2b61a4f0e998989bf9c1b815d",
       "max": 2048,
       "min": 2,
       "style": "IPY_MODEL_46d2cc17972a4fb89853004541efc5a5",
       "value": 1024
      }
     },
     "1146b5f33954477e90ce74dcaf709906": {
      "model_module": "@jupyter-widgets/base",
      "model_module_version": "2.0.0",
      "model_name": "LayoutModel",
      "state": {}
     },
     "11e1982dc3b64818b63f14f6dc84a6c0": {
      "model_module": "@jupyter-widgets/base",
      "model_module_version": "2.0.0",
      "model_name": "LayoutModel",
      "state": {}
     },
     "136c164ca32646ad9ce17fdbfd63af48": {
      "model_module": "@jupyter-widgets/controls",
      "model_module_version": "2.0.0",
      "model_name": "ProgressStyleModel",
      "state": {
       "description_width": ""
      }
     },
     "1485320a207c481b9f892e740b8a742c": {
      "model_module": "@jupyter-widgets/base",
      "model_module_version": "2.0.0",
      "model_name": "LayoutModel",
      "state": {}
     },
     "1516eb4c7eb64104a0c835fc8f7aad7d": {
      "model_module": "@jupyter-widgets/controls",
      "model_module_version": "2.0.0",
      "model_name": "FloatProgressModel",
      "state": {
       "bar_style": "success",
       "layout": "IPY_MODEL_0dd9e044eee9425fbcf064263a0178d4",
       "style": "IPY_MODEL_98be2e98a26a407283e120107283a03a",
       "value": 100
      }
     },
     "155cdac59d9f4c06a5bab561903f4fd4": {
      "model_module": "@jupyter-widgets/base",
      "model_module_version": "2.0.0",
      "model_name": "LayoutModel",
      "state": {}
     },
     "172def1b9d72461fbdf347d752d619e6": {
      "model_module": "@jupyter-widgets/controls",
      "model_module_version": "2.0.0",
      "model_name": "HTMLStyleModel",
      "state": {
       "description_width": "",
       "font_size": null,
       "text_color": null
      }
     },
     "1b2a935bc9fd46caac7b4bfbbf340d02": {
      "model_module": "@jupyter-widgets/controls",
      "model_module_version": "2.0.0",
      "model_name": "HTMLModel",
      "state": {
       "layout": "IPY_MODEL_5a171f20474e4ac681e0f55c4597c55f",
       "style": "IPY_MODEL_436ea05e413b412d980363e38de8bdf5",
       "value": "Stacking pings: 100%"
      }
     },
     "1b8e109299614f2884256a72ea3f5755": {
      "model_module": "@jupyter-widgets/base",
      "model_module_version": "2.0.0",
      "model_name": "LayoutModel",
      "state": {}
     },
     "1b9652c1155a4e4c9fb3db4275c67d7a": {
      "model_module": "@jupyter-widgets/controls",
      "model_module_version": "2.0.0",
      "model_name": "IntSliderModel",
      "state": {
       "behavior": "drag-tap",
       "description": "ping nr",
       "layout": "IPY_MODEL_977888709fba40b3b0e66686dca0a731",
       "max": 142622,
       "style": "IPY_MODEL_631bd4dbc25945cfa54a4999a8f790ce",
       "value": 47570
      }
     },
     "1da4ebd622c94f0293b38a8f3e3e826a": {
      "model_module": "@jupyter-widgets/controls",
      "model_module_version": "2.0.0",
      "model_name": "FloatProgressModel",
      "state": {
       "bar_style": "success",
       "layout": "IPY_MODEL_062e07896c374d238773c35bf8ac5d4f",
       "max": 99,
       "style": "IPY_MODEL_80e3cdf64b254c9184e4d3adb7ba803a",
       "value": 99
      }
     },
     "2092418e1ba1463c9ee5e0c0662d61f3": {
      "model_module": "@jupyter-widgets/controls",
      "model_module_version": "2.0.0",
      "model_name": "HTMLModel",
      "state": {
       "layout": "IPY_MODEL_0cd62e4e63ea4a3f8ac21870273f1ac4",
       "style": "IPY_MODEL_8b7dfa7d1d854873984c3cc2a05dc277",
       "value": "removing duplicates: 100%"
      }
     },
     "20cee2446d044c1e9d795d87d90b03a1": {
      "model_module": "@jupyter-widgets/controls",
      "model_module_version": "2.0.0",
      "model_name": "DescriptionStyleModel",
      "state": {
       "description_width": ""
      }
     },
     "21b2b83d7bc3447e9e2ac385b67e0f15": {
      "model_module": "@jupyter-widgets/controls",
      "model_module_version": "2.0.0",
      "model_name": "HBoxModel",
      "state": {
       "children": [
        "IPY_MODEL_dee58817741e4101a8794c9680c5136e"
       ],
       "layout": "IPY_MODEL_e90300a1f20643708658ea1de1a42e2d"
      }
     },
     "229d13c036324bbd809b4422259e3a04": {
      "model_module": "@jupyter-widgets/controls",
      "model_module_version": "2.0.0",
      "model_name": "FloatProgressModel",
      "state": {
       "bar_style": "success",
       "layout": "IPY_MODEL_92dbdfde1c37499cab69cab936f12ac1",
       "style": "IPY_MODEL_b899ad3c5e4a4691b1ed2611853ea9de",
       "value": 100
      }
     },
     "231550b1488a4d9b88c258ab450f22e5": {
      "model_module": "@jupyter-widgets/base",
      "model_module_version": "2.0.0",
      "model_name": "LayoutModel",
      "state": {}
     },
     "2346f5792d72436c9eebd60d6bb78f69": {
      "model_module": "@jupyter-widgets/controls",
      "model_module_version": "2.0.0",
      "model_name": "DescriptionStyleModel",
      "state": {
       "description_width": ""
      }
     },
     "2387cd5f11cf455583c5ff155c751cc1": {
      "model_module": "@jupyter-widgets/controls",
      "model_module_version": "2.0.0",
      "model_name": "FloatProgressModel",
      "state": {
       "bar_style": "success",
       "layout": "IPY_MODEL_2a34345c33e5448eb106fda88638ea39",
       "max": 99,
       "style": "IPY_MODEL_f8f849624d3c446a90abd400525839b0",
       "value": 99
      }
     },
     "23c189e504ad45fd9c738db4f5e5db9b": {
      "model_module": "@jupyter-widgets/controls",
      "model_module_version": "2.0.0",
      "model_name": "HTMLStyleModel",
      "state": {
       "description_width": "",
       "font_size": null,
       "text_color": null
      }
     },
     "24516238ec0947268e7ffcc008955e35": {
      "model_module": "@jupyter-widgets/controls",
      "model_module_version": "2.0.0",
      "model_name": "FloatSliderModel",
      "state": {
       "behavior": "drag-tap",
       "description": "vmin",
       "layout": "IPY_MODEL_fc9e6992ed284747ab872cc889d8e33e",
       "min": -150,
       "step": 5,
       "style": "IPY_MODEL_a4705f9ed84344ab8c28b51931b88f7c",
       "value": -105
      }
     },
     "25866078a24a46b0ba7d89329adc1657": {
      "model_module": "@jupyter-widgets/controls",
      "model_module_version": "2.0.0",
      "model_name": "HBoxModel",
      "state": {
       "children": [
        "IPY_MODEL_baebd3431da24d0397b5ebccdadf1d6f",
        "IPY_MODEL_1516eb4c7eb64104a0c835fc8f7aad7d",
        "IPY_MODEL_c5623aa966ee4f809e1d20adadc0b27b"
       ],
       "layout": "IPY_MODEL_4809b8bde2e748158f03175aee710eb3"
      }
     },
     "263b51873a80450698adb07aed361752": {
      "model_module": "@jupyter-widgets/base",
      "model_module_version": "2.0.0",
      "model_name": "LayoutModel",
      "state": {}
     },
     "29becbada9cd4d41a20ff84d2eaaaf4b": {
      "model_module": "@jupyter-widgets/base",
      "model_module_version": "2.0.0",
      "model_name": "LayoutModel",
      "state": {}
     },
     "2a34345c33e5448eb106fda88638ea39": {
      "model_module": "@jupyter-widgets/base",
      "model_module_version": "2.0.0",
      "model_name": "LayoutModel",
      "state": {}
     },
     "2a390d7e56554498903e59cdac7d5c8c": {
      "model_module": "@jupyter-widgets/base",
      "model_module_version": "2.0.0",
      "model_name": "LayoutModel",
      "state": {}
     },
     "2c250df2dc3b4871a36939d68d2b259e": {
      "model_module": "@jupyter-widgets/base",
      "model_module_version": "2.0.0",
      "model_name": "LayoutModel",
      "state": {
       "width": "10%"
      }
     },
     "2d3d61304d79471084881eb9de343398": {
      "model_module": "@jupyter-widgets/controls",
      "model_module_version": "2.0.0",
      "model_name": "HTMLStyleModel",
      "state": {
       "description_width": "",
       "font_size": null,
       "text_color": null
      }
     },
     "2ee2a1a22d2344b6a44a20ad22e46ef9": {
      "model_module": "@jupyter-widgets/base",
      "model_module_version": "2.0.0",
      "model_name": "LayoutModel",
      "state": {}
     },
     "2f02b51022a94694ae1aa6400a39a84d": {
      "model_module": "@jupyter-widgets/controls",
      "model_module_version": "2.0.0",
      "model_name": "HTMLModel",
      "state": {
       "layout": "IPY_MODEL_2ee2a1a22d2344b6a44a20ad22e46ef9",
       "style": "IPY_MODEL_8f5c5e0b76ef423f91cecbdce7aba4ce",
       "value": "Stacking pings: 100%"
      }
     },
     "34fb67d640b84e77a3713d4e3c28fa63": {
      "model_module": "@jupyter-widgets/controls",
      "model_module_version": "2.0.0",
      "model_name": "HTMLModel",
      "state": {
       "layout": "IPY_MODEL_b56d929687a54e6bb97d641326ca2d2d",
       "style": "IPY_MODEL_23c189e504ad45fd9c738db4f5e5db9b",
       "value": "Stacking pings: 100%"
      }
     },
     "3679f1c3f158424ab42d70dc738d726a": {
      "model_module": "@jupyter-widgets/controls",
      "model_module_version": "2.0.0",
      "model_name": "HTMLModel",
      "state": {
       "layout": "IPY_MODEL_91f8328326b34c628a189c97eebda637",
       "style": "IPY_MODEL_113197762ce64547a1c9be562b3aff72",
       "value": " 100/100 [00:00&lt;00:00, 235.53it/s]"
      }
     },
     "38b4549dd86e474b9655d7b0e1c93cf1": {
      "model_module": "@jupyter-widgets/base",
      "model_module_version": "2.0.0",
      "model_name": "LayoutModel",
      "state": {}
     },
     "38e038393a794ddfb9ee38e0f0d39b38": {
      "model_module": "@jupyter-widgets/controls",
      "model_module_version": "2.0.0",
      "model_name": "FloatProgressModel",
      "state": {
       "bar_style": "success",
       "layout": "IPY_MODEL_d1ef8bbc7c1a40d48198e30a48bf5d83",
       "style": "IPY_MODEL_05b34b1d52424a08b5ea5ab74c13df8a",
       "value": 100
      }
     },
     "3c360f8846ab451582668ae148fa8b4f": {
      "model_module": "@jupyter-widgets/controls",
      "model_module_version": "2.0.0",
      "model_name": "HTMLModel",
      "state": {
       "layout": "IPY_MODEL_900f445409984a9ba743ce33af4a883d",
       "style": "IPY_MODEL_61f5e9d71f774c31bf7e00caaa3f5fd7",
       "value": " 100/100 [00:00&lt;00:00, 268.18it/s]"
      }
     },
     "3deef67a6a3e481aaff2dd11dd13ad30": {
      "model_module": "@jupyter-widgets/controls",
      "model_module_version": "2.0.0",
      "model_name": "DescriptionStyleModel",
      "state": {
       "description_width": ""
      }
     },
     "42914c5e39ac40408728e0ee204fa5fc": {
      "model_module": "@jupyter-widgets/controls",
      "model_module_version": "2.0.0",
      "model_name": "HTMLStyleModel",
      "state": {
       "description_width": "",
       "font_size": null,
       "text_color": null
      }
     },
     "42df6e5125984c6898465ac2a9368ad3": {
      "model_module": "@jupyter-widgets/controls",
      "model_module_version": "2.0.0",
      "model_name": "HBoxModel",
      "state": {
       "children": [
        "IPY_MODEL_2092418e1ba1463c9ee5e0c0662d61f3",
        "IPY_MODEL_86fd034aceee4b08b551a04a59becfce",
        "IPY_MODEL_cdca58aea5564121b2fd2f3383bb0d71"
       ],
       "layout": "IPY_MODEL_90e655f9de3143fe839e05ef4bb77846"
      }
     },
     "436ea05e413b412d980363e38de8bdf5": {
      "model_module": "@jupyter-widgets/controls",
      "model_module_version": "2.0.0",
      "model_name": "HTMLStyleModel",
      "state": {
       "description_width": "",
       "font_size": null,
       "text_color": null
      }
     },
     "4451b76987994144967c8dae471cf726": {
      "model_module": "@jupyter-widgets/base",
      "model_module_version": "2.0.0",
      "model_name": "LayoutModel",
      "state": {}
     },
     "44cafa2732364356920e1eaf3c2394a6": {
      "model_module": "@jupyter-widgets/base",
      "model_module_version": "2.0.0",
      "model_name": "LayoutModel",
      "state": {
       "width": "15%"
      }
     },
     "46d2cc17972a4fb89853004541efc5a5": {
      "model_module": "@jupyter-widgets/controls",
      "model_module_version": "2.0.0",
      "model_name": "SliderStyleModel",
      "state": {
       "description_width": ""
      }
     },
     "4809b8bde2e748158f03175aee710eb3": {
      "model_module": "@jupyter-widgets/base",
      "model_module_version": "2.0.0",
      "model_name": "LayoutModel",
      "state": {}
     },
     "485e97ae20cd4a53998fcc2f54facbd8": {
      "model_module": "@jupyter-widgets/controls",
      "model_module_version": "2.0.0",
      "model_name": "DescriptionStyleModel",
      "state": {
       "description_width": ""
      }
     },
     "4a61c88508a74da68c6cd9bcfdc0dcf3": {
      "model_module": "@jupyter-widgets/base",
      "model_module_version": "2.0.0",
      "model_name": "LayoutModel",
      "state": {
       "width": "15%"
      }
     },
     "4a68246a921e4a53a78a1c9f3acfcc1a": {
      "model_module": "@jupyter-widgets/controls",
      "model_module_version": "2.0.0",
      "model_name": "HBoxModel",
      "state": {
       "children": [
        "IPY_MODEL_2f02b51022a94694ae1aa6400a39a84d",
        "IPY_MODEL_2387cd5f11cf455583c5ff155c751cc1",
        "IPY_MODEL_cacee179102a4c37bee52039ca9bf8f5"
       ],
       "layout": "IPY_MODEL_acc701b32d6a4bb7af200a2f5e3d293f"
      }
     },
     "4aac0735aab5445a86789b8b1cf038a4": {
      "model_module": "@jupyter-widgets/controls",
      "model_module_version": "2.0.0",
      "model_name": "HTMLStyleModel",
      "state": {
       "description_width": "",
       "font_size": null,
       "text_color": null
      }
     },
     "4b5bb6303f92491fa4f600ac34b2cfcd": {
      "model_module": "@jupyter-widgets/controls",
      "model_module_version": "2.0.0",
      "model_name": "HBoxModel",
      "state": {
       "children": [
        "IPY_MODEL_1b2a935bc9fd46caac7b4bfbbf340d02",
        "IPY_MODEL_a4d5e52f79a24ce8a3e89d52f9ff42e5",
        "IPY_MODEL_d7b3e274f2694e01904c6de6d70e253a"
       ],
       "layout": "IPY_MODEL_ec87091ca690484ebb08cda7362c4c9c"
      }
     },
     "4ef0f152ffa649e6a1c944855b793e2b": {
      "model_module": "@jupyter-widgets/base",
      "model_module_version": "2.0.0",
      "model_name": "LayoutModel",
      "state": {}
     },
     "506eb7dd5cd24002a6da36b34b4c83ce": {
      "model_module": "@jupyter-widgets/controls",
      "model_module_version": "2.0.0",
      "model_name": "FloatProgressModel",
      "state": {
       "bar_style": "success",
       "layout": "IPY_MODEL_b59322fb099149e0a60d89997129c4a0",
       "style": "IPY_MODEL_adf81361314c422384a2b89718190bcd",
       "value": 100
      }
     },
     "515bf43ee31a4dc1a4b98e72ca013541": {
      "model_module": "@jupyter-widgets/controls",
      "model_module_version": "2.0.0",
      "model_name": "HTMLModel",
      "state": {
       "layout": "IPY_MODEL_9421e18f93e4440393f41da3dcc5e0fd",
       "style": "IPY_MODEL_96c5238477a0467b822ab92cf53ae351",
       "value": "Stacking pings: 100%"
      }
     },
     "5280d64afb554cef991825e90cb24008": {
      "model_module": "@jupyter-widgets/controls",
      "model_module_version": "2.0.0",
      "model_name": "TextModel",
      "state": {
       "layout": "IPY_MODEL_2c250df2dc3b4871a36939d68d2b259e",
       "style": "IPY_MODEL_8d4e72b35590493aae9c959af62759ce",
       "value": "2017-12-14"
      }
     },
     "5368382bb85446e2b969d2f6eb338dff": {
      "model_module": "@jupyter-widgets/controls",
      "model_module_version": "2.0.0",
      "model_name": "HTMLStyleModel",
      "state": {
       "description_width": "",
       "font_size": null,
       "text_color": null
      }
     },
     "53a99c982cea48e195705523a90af787": {
      "model_module": "@jupyter-widgets/controls",
      "model_module_version": "2.0.0",
      "model_name": "TextStyleModel",
      "state": {
       "description_width": "",
       "font_size": null,
       "text_color": null
      }
     },
     "55f616256dc04b9e8530f8e085610d5d": {
      "model_module": "@jupyter-widgets/base",
      "model_module_version": "2.0.0",
      "model_name": "LayoutModel",
      "state": {}
     },
     "567553bc38ee48a2a9340fe34deba445": {
      "model_module": "@jupyter-widgets/controls",
      "model_module_version": "2.0.0",
      "model_name": "ProgressStyleModel",
      "state": {
       "description_width": ""
      }
     },
     "58a948c314524ef8b84c153b374fca40": {
      "model_module": "@jupyter-widgets/base",
      "model_module_version": "2.0.0",
      "model_name": "LayoutModel",
      "state": {}
     },
     "58e64e55069d4444bbbbc24869e817a8": {
      "model_module": "@jupyter-widgets/controls",
      "model_module_version": "2.0.0",
      "model_name": "HTMLStyleModel",
      "state": {
       "description_width": "",
       "font_size": null,
       "text_color": null
      }
     },
     "5a171f20474e4ac681e0f55c4597c55f": {
      "model_module": "@jupyter-widgets/base",
      "model_module_version": "2.0.0",
      "model_name": "LayoutModel",
      "state": {}
     },
     "5d28ab00377e44d78bfbbc74b8e9b171": {
      "model_module": "@jupyter-widgets/base",
      "model_module_version": "2.0.0",
      "model_name": "LayoutModel",
      "state": {}
     },
     "5ee5a29ac21d4b1291a94887bfe4bcfb": {
      "model_module": "@jupyter-widgets/base",
      "model_module_version": "2.0.0",
      "model_name": "LayoutModel",
      "state": {}
     },
     "5f552b98864e457db52e624853868c80": {
      "model_module": "@jupyter-widgets/controls",
      "model_module_version": "2.0.0",
      "model_name": "HTMLModel",
      "state": {
       "layout": "IPY_MODEL_876f92c67ab549c984194af8c66499fc",
       "style": "IPY_MODEL_5368382bb85446e2b969d2f6eb338dff",
       "value": " 100/100 [00:00&lt;00:00, 276.14it/s]"
      }
     },
     "60158009ce8940f4bdef039911142145": {
      "model_module": "@jupyter-widgets/controls",
      "model_module_version": "2.0.0",
      "model_name": "ButtonStyleModel",
      "state": {
       "font_family": null,
       "font_size": null,
       "font_style": null,
       "font_variant": null,
       "font_weight": null,
       "text_color": null,
       "text_decoration": null
      }
     },
     "61f5e9d71f774c31bf7e00caaa3f5fd7": {
      "model_module": "@jupyter-widgets/controls",
      "model_module_version": "2.0.0",
      "model_name": "HTMLStyleModel",
      "state": {
       "description_width": "",
       "font_size": null,
       "text_color": null
      }
     },
     "62ac848cbed342adaa432c0d50710352": {
      "model_module": "@jupyter-widgets/base",
      "model_module_version": "2.0.0",
      "model_name": "LayoutModel",
      "state": {}
     },
     "631bd4dbc25945cfa54a4999a8f790ce": {
      "model_module": "@jupyter-widgets/controls",
      "model_module_version": "2.0.0",
      "model_name": "SliderStyleModel",
      "state": {
       "description_width": ""
      }
     },
     "63f3bfa3110a4b1999f66369dcb0383d": {
      "model_module": "@jupyter-widgets/controls",
      "model_module_version": "2.0.0",
      "model_name": "VBoxModel",
      "state": {
       "children": [
        "IPY_MODEL_a3b382dd6f434e0c9da4f8a3270669e4",
        "IPY_MODEL_7f359725ec9343c79f3557c683e9856e"
       ],
       "layout": "IPY_MODEL_a29be32ec5a942c3ba87f7584ba22da5"
      }
     },
     "643ce4552f6e4795a19e57cda08b1fee": {
      "model_module": "@jupyter-widgets/controls",
      "model_module_version": "2.0.0",
      "model_name": "HTMLModel",
      "state": {
       "layout": "IPY_MODEL_5ee5a29ac21d4b1291a94887bfe4bcfb",
       "style": "IPY_MODEL_6bbbf52d33204754abce49e89c464efe",
       "value": " 100/100 [00:00&lt;00:00, 276.06it/s]"
      }
     },
     "659773110a73486d9ee78e65bec6d58b": {
      "model_module": "@jupyter-widgets/controls",
      "model_module_version": "2.0.0",
      "model_name": "HTMLModel",
      "state": {
       "layout": "IPY_MODEL_750ff382f72d4ea2a6488fdedfabaab6",
       "style": "IPY_MODEL_8929988ca0b54960a00397a643738b73",
       "value": " 100/100 [00:00&lt;00:00, 252.91it/s]"
      }
     },
     "66d07bc7a23b44af92a1f0c328244f9f": {
      "model_module": "@jupyter-widgets/controls",
      "model_module_version": "2.0.0",
      "model_name": "HTMLStyleModel",
      "state": {
       "description_width": "",
       "font_size": null,
       "text_color": null
      }
     },
     "694573d215674baeb0a5e6118cf87e10": {
      "model_module": "@jupyter-widgets/base",
      "model_module_version": "2.0.0",
      "model_name": "LayoutModel",
      "state": {}
     },
     "69fac1788d9d46f782c0cbee7fe10c34": {
      "model_module": "@jupyter-widgets/controls",
      "model_module_version": "2.0.0",
      "model_name": "DescriptionStyleModel",
      "state": {
       "description_width": ""
      }
     },
     "6a1323a2b61a4f0e998989bf9c1b815d": {
      "model_module": "@jupyter-widgets/base",
      "model_module_version": "2.0.0",
      "model_name": "LayoutModel",
      "state": {}
     },
     "6a3cb9991fcc4aceaead4db4a1b4c1eb": {
      "model_module": "@jupyter-widgets/controls",
      "model_module_version": "2.0.0",
      "model_name": "HTMLModel",
      "state": {
       "layout": "IPY_MODEL_eb59de6d59d84deaaeb1e3282a3b2838",
       "style": "IPY_MODEL_172def1b9d72461fbdf347d752d619e6",
       "value": "Stacking pings: 100%"
      }
     },
     "6bbbf52d33204754abce49e89c464efe": {
      "model_module": "@jupyter-widgets/controls",
      "model_module_version": "2.0.0",
      "model_name": "HTMLStyleModel",
      "state": {
       "description_width": "",
       "font_size": null,
       "text_color": null
      }
     },
     "6c26ddfc10664531b3f0d70f5b1517a4": {
      "model_module": "@jupyter-widgets/controls",
      "model_module_version": "2.0.0",
      "model_name": "ButtonStyleModel",
      "state": {
       "font_family": null,
       "font_size": null,
       "font_style": null,
       "font_variant": null,
       "font_weight": null,
       "text_color": null,
       "text_decoration": null
      }
     },
     "6c56a98ff51a442780a019dbe0ec7049": {
      "model_module": "@jupyter-widgets/controls",
      "model_module_version": "2.0.0",
      "model_name": "HTMLStyleModel",
      "state": {
       "description_width": "",
       "font_size": null,
       "text_color": null
      }
     },
     "6c625c0aab9c4a3496bed6eaadd0d7f4": {
      "model_module": "@jupyter-widgets/controls",
      "model_module_version": "2.0.0",
      "model_name": "DropdownModel",
      "state": {
       "_options_labels": [
        "antialiased",
        "none",
        "nearest",
        "bilinear",
        "bicubic",
        "spline16",
        "spline36",
        "hanning",
        "hamming",
        "hermite",
        "kaiser",
        "quadric",
        "catrom",
        "gaussian",
        "bessel",
        "mitchell",
        "sinc",
        "lanczos",
        "blackman"
       ],
       "description": "interpolation",
       "index": 2,
       "layout": "IPY_MODEL_98d67161146b48529627f2f3bed60735",
       "style": "IPY_MODEL_20cee2446d044c1e9d795d87d90b03a1"
      }
     },
     "6dd24ed3ce4d4aabada5da91fe14c387": {
      "model_module": "@jupyter-widgets/base",
      "model_module_version": "2.0.0",
      "model_name": "LayoutModel",
      "state": {}
     },
     "70512c399344461295784bc0db3a6fbf": {
      "model_module": "@jupyter-widgets/base",
      "model_module_version": "2.0.0",
      "model_name": "LayoutModel",
      "state": {}
     },
     "70976a344cf24ad4be65a599c21c8203": {
      "model_module": "@jupyter-widgets/controls",
      "model_module_version": "2.0.0",
      "model_name": "HBoxModel",
      "state": {
       "children": [
        "IPY_MODEL_34fb67d640b84e77a3713d4e3c28fa63",
        "IPY_MODEL_c4f7de5116d34caaa12dc30a015bbcd5",
        "IPY_MODEL_c68a726231474963b2379aed152ff4ee"
       ],
       "layout": "IPY_MODEL_04250654aa7a4990b1aa29f40403f60d"
      }
     },
     "70cce323e6194a79bc4d31caed07e837": {
      "model_module": "@jupyter-widgets/base",
      "model_module_version": "2.0.0",
      "model_name": "LayoutModel",
      "state": {}
     },
     "70e041617bf84b28a7f85ad930606852": {
      "model_module": "@jupyter-widgets/controls",
      "model_module_version": "2.0.0",
      "model_name": "HBoxModel",
      "state": {
       "children": [
        "IPY_MODEL_db5a0ffdee684baf840f004ae42938f2",
        "IPY_MODEL_506eb7dd5cd24002a6da36b34b4c83ce",
        "IPY_MODEL_3679f1c3f158424ab42d70dc738d726a"
       ],
       "layout": "IPY_MODEL_2a390d7e56554498903e59cdac7d5c8c"
      }
     },
     "72272be81be044f49fe9c9ba1565060c": {
      "model_module": "@jupyter-widgets/base",
      "model_module_version": "2.0.0",
      "model_name": "LayoutModel",
      "state": {}
     },
     "744163b2be354de3bfbc00b915d6892b": {
      "model_module": "@jupyter-widgets/controls",
      "model_module_version": "2.0.0",
      "model_name": "HTMLModel",
      "state": {
       "layout": "IPY_MODEL_f4952eeb9e044703ae81c2a35671277b",
       "style": "IPY_MODEL_d94696af2cdf413693627bd5dfdd5695",
       "value": " 100/100 [00:01&lt;00:00, 93.61it/s]"
      }
     },
     "746257bb7fb0418e83baa41ccf1fe60e": {
      "model_module": "@jupyter-widgets/controls",
      "model_module_version": "2.0.0",
      "model_name": "HTMLStyleModel",
      "state": {
       "description_width": "",
       "font_size": null,
       "text_color": null
      }
     },
     "750ff382f72d4ea2a6488fdedfabaab6": {
      "model_module": "@jupyter-widgets/base",
      "model_module_version": "2.0.0",
      "model_name": "LayoutModel",
      "state": {}
     },
     "7663f774a9ba483e802570b50925efea": {
      "model_module": "@jupyter-widgets/controls",
      "model_module_version": "2.0.0",
      "model_name": "HTMLModel",
      "state": {
       "layout": "IPY_MODEL_c824fdfc475b433eb6539dea389de6e1",
       "style": "IPY_MODEL_fb99b17169cf4acc8a29e2000ec9d21b",
       "value": "Stacking pings: 100%"
      }
     },
     "7b382d2b51ab4f68b8475bc350caed08": {
      "model_module": "@jupyter-widgets/controls",
      "model_module_version": "2.0.0",
      "model_name": "ButtonModel",
      "state": {
       "button_style": "warning",
       "description": "fix x/y",
       "layout": "IPY_MODEL_9f06631342344386acbd5c9ce14872e9",
       "style": "IPY_MODEL_60158009ce8940f4bdef039911142145",
       "tooltip": null
      }
     },
     "7f359725ec9343c79f3557c683e9856e": {
      "model_module": "@jupyter-widgets/controls",
      "model_module_version": "2.0.0",
      "model_name": "HBoxModel",
      "state": {
       "children": [
        "IPY_MODEL_7b382d2b51ab4f68b8475bc350caed08",
        "IPY_MODEL_0360e68c98724a4b9da6c7993ee50a76",
        "IPY_MODEL_9256c07cd24b450c909e9ad4f1690946",
        "IPY_MODEL_9db1692bf78b4421b10cc8e55e29d9a7"
       ],
       "layout": "IPY_MODEL_70cce323e6194a79bc4d31caed07e837"
      }
     },
     "8084db1e8f5442a9ad4187cdd79d71e5": {
      "model_module": "@jupyter-widgets/controls",
      "model_module_version": "2.0.0",
      "model_name": "TextStyleModel",
      "state": {
       "description_width": "",
       "font_size": null,
       "text_color": null
      }
     },
     "80e3cdf64b254c9184e4d3adb7ba803a": {
      "model_module": "@jupyter-widgets/controls",
      "model_module_version": "2.0.0",
      "model_name": "ProgressStyleModel",
      "state": {
       "description_width": ""
      }
     },
     "81617219c3834179a9962be4c5452959": {
      "model_module": "@jupyter-widgets/controls",
      "model_module_version": "2.0.0",
      "model_name": "FloatSliderModel",
      "state": {
       "behavior": "drag-tap",
       "description": "vmax",
       "layout": "IPY_MODEL_4451b76987994144967c8dae471cf726",
       "min": -150,
       "step": 5,
       "style": "IPY_MODEL_d1fe9752c5b340439b96db08ab2166df",
       "value": -25
      }
     },
     "81802a21a6ef4d518525d0036cd33c31": {
      "model_module": "@jupyter-widgets/base",
      "model_module_version": "2.0.0",
      "model_name": "LayoutModel",
      "state": {}
     },
     "82c399a0e09547ed99bc0488c9367429": {
      "model_module": "@jupyter-widgets/base",
      "model_module_version": "2.0.0",
      "model_name": "LayoutModel",
      "state": {}
     },
     "830eaab161774fd1af2e4ed6d89aa548": {
      "model_module": "@jupyter-widgets/base",
      "model_module_version": "2.0.0",
      "model_name": "LayoutModel",
      "state": {}
     },
     "83f526b7f7a9467ba6c796b60a3a8026": {
      "model_module": "@jupyter-widgets/controls",
      "model_module_version": "2.0.0",
      "model_name": "HTMLStyleModel",
      "state": {
       "description_width": "",
       "font_size": null,
       "text_color": null
      }
     },
     "85a2e6bfd73f44d38580b86f51aedd0e": {
      "model_module": "@jupyter-widgets/controls",
      "model_module_version": "2.0.0",
      "model_name": "TextStyleModel",
      "state": {
       "description_width": "",
       "font_size": null,
       "text_color": null
      }
     },
     "8637758e599b49b5b125226c494b9e63": {
      "model_module": "@jupyter-widgets/controls",
      "model_module_version": "2.0.0",
      "model_name": "HTMLModel",
      "state": {
       "layout": "IPY_MODEL_5d28ab00377e44d78bfbbc74b8e9b171",
       "style": "IPY_MODEL_6c56a98ff51a442780a019dbe0ec7049",
       "value": "Stacking pings: 100%"
      }
     },
     "86fd034aceee4b08b551a04a59becfce": {
      "model_module": "@jupyter-widgets/controls",
      "model_module_version": "2.0.0",
      "model_name": "FloatProgressModel",
      "state": {
       "bar_style": "success",
       "layout": "IPY_MODEL_d8f8b8b9f06a45fe827012986298e3b8",
       "max": 2,
       "style": "IPY_MODEL_aaaa7c5a531a4b709336ef4a4cc1e263",
       "value": 2
      }
     },
     "876f92c67ab549c984194af8c66499fc": {
      "model_module": "@jupyter-widgets/base",
      "model_module_version": "2.0.0",
      "model_name": "LayoutModel",
      "state": {}
     },
     "87b68af9b844440086f72d3158153d4f": {
      "model_module": "@jupyter-widgets/controls",
      "model_module_version": "2.0.0",
      "model_name": "HTMLModel",
      "state": {
       "layout": "IPY_MODEL_55f616256dc04b9e8530f8e085610d5d",
       "style": "IPY_MODEL_fbb2d43ba041433c8644d81cad1a1981",
       "value": " 435/435 [00:00&lt;00:00, 213494.29it/s]"
      }
     },
     "8929988ca0b54960a00397a643738b73": {
      "model_module": "@jupyter-widgets/controls",
      "model_module_version": "2.0.0",
      "model_name": "HTMLStyleModel",
      "state": {
       "description_width": "",
       "font_size": null,
       "text_color": null
      }
     },
     "899080bb21f54e56a77aa649494f105b": {
      "model_module": "@jupyter-widgets/controls",
      "model_module_version": "2.0.0",
      "model_name": "HTMLStyleModel",
      "state": {
       "description_width": "",
       "font_size": null,
       "text_color": null
      }
     },
     "8a077810fd914231b30a58267e940115": {
      "model_module": "@jupyter-widgets/output",
      "model_module_version": "1.0.0",
      "model_name": "OutputModel",
      "state": {
       "layout": "IPY_MODEL_9a373c2009cb4bf49493b2e458b2c72c"
      }
     },
     "8b7dfa7d1d854873984c3cc2a05dc277": {
      "model_module": "@jupyter-widgets/controls",
      "model_module_version": "2.0.0",
      "model_name": "HTMLStyleModel",
      "state": {
       "description_width": "",
       "font_size": null,
       "text_color": null
      }
     },
     "8b9c569511ea4f27a92e4c5eb337a6a4": {
      "model_module": "@jupyter-widgets/controls",
      "model_module_version": "2.0.0",
      "model_name": "HBoxModel",
      "state": {
       "children": [
        "IPY_MODEL_6a3cb9991fcc4aceaead4db4a1b4c1eb",
        "IPY_MODEL_229d13c036324bbd809b4422259e3a04",
        "IPY_MODEL_659773110a73486d9ee78e65bec6d58b"
       ],
       "layout": "IPY_MODEL_4ef0f152ffa649e6a1c944855b793e2b"
      }
     },
     "8d4e72b35590493aae9c959af62759ce": {
      "model_module": "@jupyter-widgets/controls",
      "model_module_version": "2.0.0",
      "model_name": "TextStyleModel",
      "state": {
       "description_width": "",
       "font_size": null,
       "text_color": null
      }
     },
     "8eceafb90f3d48ce866b5c499fb19569": {
      "model_module": "@jupyter-widgets/controls",
      "model_module_version": "2.0.0",
      "model_name": "HTMLModel",
      "state": {
       "layout": "IPY_MODEL_ede65e3c925e4fc5a479ea0a102519f8",
       "style": "IPY_MODEL_02292629da8b476ea124fc3faa61d7d2",
       "value": " 100/100 [00:00&lt;00:00, 219.91it/s]"
      }
     },
     "8f5c5e0b76ef423f91cecbdce7aba4ce": {
      "model_module": "@jupyter-widgets/controls",
      "model_module_version": "2.0.0",
      "model_name": "HTMLStyleModel",
      "state": {
       "description_width": "",
       "font_size": null,
       "text_color": null
      }
     },
     "900f445409984a9ba743ce33af4a883d": {
      "model_module": "@jupyter-widgets/base",
      "model_module_version": "2.0.0",
      "model_name": "LayoutModel",
      "state": {}
     },
     "9097c0996d924a3eae202a46430ded43": {
      "model_module": "@jupyter-widgets/controls",
      "model_module_version": "2.0.0",
      "model_name": "HBoxModel",
      "state": {
       "children": [
        "IPY_MODEL_d04a4d830fb14005b5a0714c4570f448",
        "IPY_MODEL_c516a9a3e68240019206ce4900ae6936",
        "IPY_MODEL_3c360f8846ab451582668ae148fa8b4f"
       ],
       "layout": "IPY_MODEL_aaf11d7d69fc4e20a0cfb4903b12d7b6"
      }
     },
     "90e655f9de3143fe839e05ef4bb77846": {
      "model_module": "@jupyter-widgets/base",
      "model_module_version": "2.0.0",
      "model_name": "LayoutModel",
      "state": {}
     },
     "91b4135332c64a76952dd022239ebbf1": {
      "model_module": "@jupyter-widgets/base",
      "model_module_version": "2.0.0",
      "model_name": "LayoutModel",
      "state": {}
     },
     "91f8328326b34c628a189c97eebda637": {
      "model_module": "@jupyter-widgets/base",
      "model_module_version": "2.0.0",
      "model_name": "LayoutModel",
      "state": {}
     },
     "9256c07cd24b450c909e9ad4f1690946": {
      "model_module": "@jupyter-widgets/controls",
      "model_module_version": "2.0.0",
      "model_name": "TextModel",
      "state": {
       "description": "proc time",
       "layout": "IPY_MODEL_1b8e109299614f2884256a72ea3f5755",
       "style": "IPY_MODEL_8084db1e8f5442a9ad4187cdd79d71e5",
       "value": "0.473 / 0.1 / [0.573] s"
      }
     },
     "92dbdfde1c37499cab69cab936f12ac1": {
      "model_module": "@jupyter-widgets/base",
      "model_module_version": "2.0.0",
      "model_name": "LayoutModel",
      "state": {}
     },
     "93be9607d4ad41ffb2290a0bc8f6b5d6": {
      "model_module": "@jupyter-widgets/controls",
      "model_module_version": "2.0.0",
      "model_name": "HTMLStyleModel",
      "state": {
       "description_width": "",
       "font_size": null,
       "text_color": null
      }
     },
     "9421e18f93e4440393f41da3dcc5e0fd": {
      "model_module": "@jupyter-widgets/base",
      "model_module_version": "2.0.0",
      "model_name": "LayoutModel",
      "state": {}
     },
     "96c5238477a0467b822ab92cf53ae351": {
      "model_module": "@jupyter-widgets/controls",
      "model_module_version": "2.0.0",
      "model_name": "HTMLStyleModel",
      "state": {
       "description_width": "",
       "font_size": null,
       "text_color": null
      }
     },
     "977888709fba40b3b0e66686dca0a731": {
      "model_module": "@jupyter-widgets/base",
      "model_module_version": "2.0.0",
      "model_name": "LayoutModel",
      "state": {
       "width": "50%"
      }
     },
     "98be2e98a26a407283e120107283a03a": {
      "model_module": "@jupyter-widgets/controls",
      "model_module_version": "2.0.0",
      "model_name": "ProgressStyleModel",
      "state": {
       "description_width": ""
      }
     },
     "98d67161146b48529627f2f3bed60735": {
      "model_module": "@jupyter-widgets/base",
      "model_module_version": "2.0.0",
      "model_name": "LayoutModel",
      "state": {}
     },
     "995b9af404f740eabc3ba029f28161f4": {
      "model_module": "@jupyter-widgets/controls",
      "model_module_version": "2.0.0",
      "model_name": "DropdownModel",
      "state": {
       "_options_labels": [
        "sv/av/pv/rv",
        "sv/av/pv",
        "sv/av",
        "sp/ap/pp/rp",
        "sp/ap/pp",
        "sp/ap",
        "power/amp",
        "av",
        "ap",
        "amp",
        "sv",
        "sp",
        "pv",
        "pp",
        "rv",
        "rp",
        "power"
       ],
       "description": "wci value",
       "index": 0,
       "layout": "IPY_MODEL_81802a21a6ef4d518525d0036cd33c31",
       "style": "IPY_MODEL_69fac1788d9d46f782c0cbee7fe10c34"
      }
     },
     "99afd4eec1c7426ca35bfcaf1533fcdb": {
      "model_module": "@jupyter-widgets/controls",
      "model_module_version": "2.0.0",
      "model_name": "HTMLModel",
      "state": {
       "layout": "IPY_MODEL_fd5a6b58fe0043e19ed49c76f7af80cd",
       "style": "IPY_MODEL_da3a82858e0f4639938297244f1f3102",
       "value": " 100/100 [00:00&lt;00:00, 243.45it/s]"
      }
     },
     "99fd85787a9547c3869d2f8fbf19ae99": {
      "model_module": "@jupyter-widgets/controls",
      "model_module_version": "2.0.0",
      "model_name": "HTMLModel",
      "state": {
       "layout": "IPY_MODEL_62ac848cbed342adaa432c0d50710352",
       "style": "IPY_MODEL_42914c5e39ac40408728e0ee204fa5fc",
       "value": "removing duplicates: 100%"
      }
     },
     "9a373c2009cb4bf49493b2e458b2c72c": {
      "model_module": "@jupyter-widgets/base",
      "model_module_version": "2.0.0",
      "model_name": "LayoutModel",
      "state": {}
     },
     "9a4ce14d60b04db1a2b7df19f6015b12": {
      "model_module": "@jupyter-widgets/base",
      "model_module_version": "2.0.0",
      "model_name": "LayoutModel",
      "state": {}
     },
     "9a5a6245460542a685c62c6c84bd0609": {
      "model_module": "@jupyter-widgets/controls",
      "model_module_version": "2.0.0",
      "model_name": "HBoxModel",
      "state": {
       "children": [
        "IPY_MODEL_ec01820317f143b0b7ee640df01fda74",
        "IPY_MODEL_1da4ebd622c94f0293b38a8f3e3e826a",
        "IPY_MODEL_fef0ef03d8ec40de8b963c11cfec7abe"
       ],
       "layout": "IPY_MODEL_a223bd5ccb104128bc9eea08a8529170"
      }
     },
     "9b03e656e63349b58b3a101a4bf5ec68": {
      "model_module": "@jupyter-widgets/controls",
      "model_module_version": "2.0.0",
      "model_name": "ProgressStyleModel",
      "state": {
       "description_width": ""
      }
     },
     "9d5bade33b424a219e0b2cd2b19497d9": {
      "model_module": "@jupyter-widgets/controls",
      "model_module_version": "2.0.0",
      "model_name": "DescriptionStyleModel",
      "state": {
       "description_width": ""
      }
     },
     "9db1692bf78b4421b10cc8e55e29d9a7": {
      "model_module": "@jupyter-widgets/controls",
      "model_module_version": "2.0.0",
      "model_name": "TextModel",
      "state": {
       "description": "proc rate",
       "layout": "IPY_MODEL_ef1f5bee62ac414fbad472b4f32f87b6",
       "style": "IPY_MODEL_53a99c982cea48e195705523a90af787",
       "value": "r1: 2.1 / r2: 10.0 / r3: [1.7] Hz"
      }
     },
     "9e0800a1a62349f1aa407599bf5bb1e1": {
      "model_module": "@jupyter-widgets/base",
      "model_module_version": "2.0.0",
      "model_name": "LayoutModel",
      "state": {
       "width": "10%"
      }
     },
     "9f06631342344386acbd5c9ce14872e9": {
      "model_module": "@jupyter-widgets/base",
      "model_module_version": "2.0.0",
      "model_name": "LayoutModel",
      "state": {}
     },
     "a069ef13169640d8afd24b25f5966211": {
      "model_module": "@jupyter-widgets/base",
      "model_module_version": "2.0.0",
      "model_name": "LayoutModel",
      "state": {}
     },
     "a1b5198571cd4b86ac0fce18af517948": {
      "model_module": "@jupyter-widgets/base",
      "model_module_version": "2.0.0",
      "model_name": "LayoutModel",
      "state": {}
     },
     "a1f3c4b12115417aa91a26d716d98fb9": {
      "model_module": "@jupyter-widgets/controls",
      "model_module_version": "2.0.0",
      "model_name": "HTMLStyleModel",
      "state": {
       "description_width": "",
       "font_size": null,
       "text_color": null
      }
     },
     "a223bd5ccb104128bc9eea08a8529170": {
      "model_module": "@jupyter-widgets/base",
      "model_module_version": "2.0.0",
      "model_name": "LayoutModel",
      "state": {}
     },
     "a29be32ec5a942c3ba87f7584ba22da5": {
      "model_module": "@jupyter-widgets/base",
      "model_module_version": "2.0.0",
      "model_name": "LayoutModel",
      "state": {}
     },
     "a2e0647d4c8b4a76bbd57aa06f27dc3d": {
      "model_module": "@jupyter-widgets/controls",
      "model_module_version": "2.0.0",
      "model_name": "FloatProgressModel",
      "state": {
       "bar_style": "success",
       "layout": "IPY_MODEL_edef9d95d3c84a83bb4c674919bcef67",
       "max": 435,
       "style": "IPY_MODEL_f194c6c0daf643c1a6f15fec8f1a3832",
       "value": 435
      }
     },
     "a3b382dd6f434e0c9da4f8a3270669e4": {
      "model_module": "@jupyter-widgets/controls",
      "model_module_version": "2.0.0",
      "model_name": "HBoxModel",
      "state": {
       "children": [
        "IPY_MODEL_21b2b83d7bc3447e9e2ac385b67e0f15"
       ],
       "layout": "IPY_MODEL_d452919213074f1da9907611c7b3a2a4"
      }
     },
     "a3b779a0109748bc959e5ee40fc0d349": {
      "model_module": "@jupyter-widgets/base",
      "model_module_version": "2.0.0",
      "model_name": "LayoutModel",
      "state": {}
     },
     "a44843fbae0740d2965939be91af8d5c": {
      "model_module": "@jupyter-widgets/controls",
      "model_module_version": "2.0.0",
      "model_name": "HBoxModel",
      "state": {
       "children": [
        "IPY_MODEL_f4df898e9a154aafa0e40eedc6a5790c",
        "IPY_MODEL_995b9af404f740eabc3ba029f28161f4",
        "IPY_MODEL_d649b7f144d6483ca04bf25e0c653651",
        "IPY_MODEL_11363078f4b84a4b9ac8278d40a87df2"
       ],
       "layout": "IPY_MODEL_c3b66a6ec9d24550a57c9b46ac0b962a"
      }
     },
     "a4705f9ed84344ab8c28b51931b88f7c": {
      "model_module": "@jupyter-widgets/controls",
      "model_module_version": "2.0.0",
      "model_name": "SliderStyleModel",
      "state": {
       "description_width": ""
      }
     },
     "a4d5e52f79a24ce8a3e89d52f9ff42e5": {
      "model_module": "@jupyter-widgets/controls",
      "model_module_version": "2.0.0",
      "model_name": "FloatProgressModel",
      "state": {
       "bar_style": "success",
       "layout": "IPY_MODEL_e2c206ceb3a2409d955e908cb6744132",
       "style": "IPY_MODEL_aea4d4011e5a445c9d610c5a6395e249",
       "value": 100
      }
     },
     "a57d4153eedf4c6b8baac4ff7b8b8d46": {
      "model_module": "@jupyter-widgets/controls",
      "model_module_version": "2.0.0",
      "model_name": "HTMLStyleModel",
      "state": {
       "description_width": "",
       "font_size": null,
       "text_color": null
      }
     },
     "a5846931213d4b22bdf58ff96e7f2d02": {
      "model_module": "@jupyter-widgets/controls",
      "model_module_version": "2.0.0",
      "model_name": "HTMLStyleModel",
      "state": {
       "description_width": "",
       "font_size": null,
       "text_color": null
      }
     },
     "a804164e9a4f49a7b985168f7afda8ff": {
      "model_module": "@jupyter-widgets/controls",
      "model_module_version": "2.0.0",
      "model_name": "HBoxModel",
      "state": {
       "children": [
        "IPY_MODEL_515bf43ee31a4dc1a4b98e72ca013541",
        "IPY_MODEL_bdb1008dc49a4393b4d1c5d53d031ef1",
        "IPY_MODEL_99afd4eec1c7426ca35bfcaf1533fcdb"
       ],
       "layout": "IPY_MODEL_bd5a381f6fdf4a3fad6735eace1f9d06"
      }
     },
     "a8bdceb6459d491cb03488eeb5d74bbb": {
      "model_module": "@jupyter-widgets/controls",
      "model_module_version": "2.0.0",
      "model_name": "DropdownModel",
      "state": {
       "_options_labels": [
        "auto",
        "equal"
       ],
       "description": "aspect",
       "index": 1,
       "layout": "IPY_MODEL_f8204ab6bb264125af36303d26bb559f",
       "style": "IPY_MODEL_485e97ae20cd4a53998fcc2f54facbd8"
      }
     },
     "a8ce0bfa907647d49493b8a48e001def": {
      "model_module": "@jupyter-widgets/controls",
      "model_module_version": "2.0.0",
      "model_name": "FloatProgressModel",
      "state": {
       "bar_style": "success",
       "layout": "IPY_MODEL_fc620d43c1bf46449652254104ea7222",
       "style": "IPY_MODEL_136c164ca32646ad9ce17fdbfd63af48",
       "value": 100
      }
     },
     "a9aba85bbbfb4322b57bc3ff2cdf67c0": {
      "model_module": "@jupyter-widgets/base",
      "model_module_version": "2.0.0",
      "model_name": "LayoutModel",
      "state": {}
     },
     "aaaa7c5a531a4b709336ef4a4cc1e263": {
      "model_module": "@jupyter-widgets/controls",
      "model_module_version": "2.0.0",
      "model_name": "ProgressStyleModel",
      "state": {
       "description_width": ""
      }
     },
     "aaf11d7d69fc4e20a0cfb4903b12d7b6": {
      "model_module": "@jupyter-widgets/base",
      "model_module_version": "2.0.0",
      "model_name": "LayoutModel",
      "state": {}
     },
     "acc701b32d6a4bb7af200a2f5e3d293f": {
      "model_module": "@jupyter-widgets/base",
      "model_module_version": "2.0.0",
      "model_name": "LayoutModel",
      "state": {}
     },
     "ad325082b1a54220943490e7ef370205": {
      "model_module": "@jupyter-widgets/controls",
      "model_module_version": "2.0.0",
      "model_name": "IntTextModel",
      "state": {
       "description": "mp_cores:",
       "layout": "IPY_MODEL_e0bd36e64b8446f8aba021448ed4a9ba",
       "step": 1,
       "style": "IPY_MODEL_3deef67a6a3e481aaff2dd11dd13ad30",
       "value": 8
      }
     },
     "adf81361314c422384a2b89718190bcd": {
      "model_module": "@jupyter-widgets/controls",
      "model_module_version": "2.0.0",
      "model_name": "ProgressStyleModel",
      "state": {
       "description_width": ""
      }
     },
     "aea4d4011e5a445c9d610c5a6395e249": {
      "model_module": "@jupyter-widgets/controls",
      "model_module_version": "2.0.0",
      "model_name": "ProgressStyleModel",
      "state": {
       "description_width": ""
      }
     },
     "b192d7a9d96a4881addea9dd0d619737": {
      "model_module": "@jupyter-widgets/controls",
      "model_module_version": "2.0.0",
      "model_name": "TextModel",
      "state": {
       "layout": "IPY_MODEL_9e0800a1a62349f1aa407599bf5bb1e1",
       "style": "IPY_MODEL_85a2e6bfd73f44d38580b86f51aedd0e",
       "value": "16:13:24"
      }
     },
     "b235107fdc8c4dd88000c7adb69979ae": {
      "model_module": "@jupyter-widgets/controls",
      "model_module_version": "2.0.0",
      "model_name": "HBoxModel",
      "state": {
       "children": [
        "IPY_MODEL_1b9652c1155a4e4c9fb3db4275c67d7a",
        "IPY_MODEL_5280d64afb554cef991825e90cb24008",
        "IPY_MODEL_b192d7a9d96a4881addea9dd0d619737",
        "IPY_MODEL_e4406dd7dc4b4473a527cc15e3140bc3",
        "IPY_MODEL_f031fc70d1b944e68489bd8aa119f8c0",
        "IPY_MODEL_ad325082b1a54220943490e7ef370205"
       ],
       "layout": "IPY_MODEL_dac884d0b4484c88b890b9a247aebe2c"
      }
     },
     "b56d929687a54e6bb97d641326ca2d2d": {
      "model_module": "@jupyter-widgets/base",
      "model_module_version": "2.0.0",
      "model_name": "LayoutModel",
      "state": {}
     },
     "b59322fb099149e0a60d89997129c4a0": {
      "model_module": "@jupyter-widgets/base",
      "model_module_version": "2.0.0",
      "model_name": "LayoutModel",
      "state": {}
     },
     "b797a537d50c4a099e4962f694b9ab0d": {
      "model_module": "@jupyter-widgets/controls",
      "model_module_version": "2.0.0",
      "model_name": "ProgressStyleModel",
      "state": {
       "description_width": ""
      }
     },
     "b899ad3c5e4a4691b1ed2611853ea9de": {
      "model_module": "@jupyter-widgets/controls",
      "model_module_version": "2.0.0",
      "model_name": "ProgressStyleModel",
      "state": {
       "description_width": ""
      }
     },
     "baebd3431da24d0397b5ebccdadf1d6f": {
      "model_module": "@jupyter-widgets/controls",
      "model_module_version": "2.0.0",
      "model_name": "HTMLModel",
      "state": {
       "layout": "IPY_MODEL_fa4cae2f6f434b5b8a78ad16ef216720",
       "style": "IPY_MODEL_cd3e13c76f944d17bd282f3d13e4e87f",
       "value": "Stacking pings: 100%"
      }
     },
     "bb4e7a06ba6a405c9dda29692f9c67b3": {
      "model_module": "@jupyter-widgets/controls",
      "model_module_version": "2.0.0",
      "model_name": "HBoxModel",
      "state": {
       "children": [
        "IPY_MODEL_fa5f7afc69664a688479f47243847398",
        "IPY_MODEL_d7bfb58597614521bb31d7e10c62b13c",
        "IPY_MODEL_744163b2be354de3bfbc00b915d6892b"
       ],
       "layout": "IPY_MODEL_a3b779a0109748bc959e5ee40fc0d349"
      }
     },
     "bbf92379fd60426398ba08d9584d5fa6": {
      "model_module": "@jupyter-widgets/base",
      "model_module_version": "2.0.0",
      "model_name": "LayoutModel",
      "state": {}
     },
     "bd5a381f6fdf4a3fad6735eace1f9d06": {
      "model_module": "@jupyter-widgets/base",
      "model_module_version": "2.0.0",
      "model_name": "LayoutModel",
      "state": {}
     },
     "bdb1008dc49a4393b4d1c5d53d031ef1": {
      "model_module": "@jupyter-widgets/controls",
      "model_module_version": "2.0.0",
      "model_name": "FloatProgressModel",
      "state": {
       "bar_style": "success",
       "layout": "IPY_MODEL_70512c399344461295784bc0db3a6fbf",
       "style": "IPY_MODEL_c210ba30b8db4153afc3f7dedcf6c214",
       "value": 100
      }
     },
     "c1b9c321993647a0936131709f009db3": {
      "model_module": "@jupyter-widgets/controls",
      "model_module_version": "2.0.0",
      "model_name": "HBoxModel",
      "state": {
       "children": [
        "IPY_MODEL_99fd85787a9547c3869d2f8fbf19ae99",
        "IPY_MODEL_a2e0647d4c8b4a76bbd57aa06f27dc3d",
        "IPY_MODEL_87b68af9b844440086f72d3158153d4f"
       ],
       "layout": "IPY_MODEL_a069ef13169640d8afd24b25f5966211"
      }
     },
     "c210ba30b8db4153afc3f7dedcf6c214": {
      "model_module": "@jupyter-widgets/controls",
      "model_module_version": "2.0.0",
      "model_name": "ProgressStyleModel",
      "state": {
       "description_width": ""
      }
     },
     "c2c7ac09bddb4f5fac7800536bf2ca8b": {
      "model_module": "@jupyter-widgets/base",
      "model_module_version": "2.0.0",
      "model_name": "LayoutModel",
      "state": {}
     },
     "c33f6fa2804d4778b215e92d0076432a": {
      "model_module": "@jupyter-widgets/base",
      "model_module_version": "2.0.0",
      "model_name": "LayoutModel",
      "state": {}
     },
     "c3b66a6ec9d24550a57c9b46ac0b962a": {
      "model_module": "@jupyter-widgets/base",
      "model_module_version": "2.0.0",
      "model_name": "LayoutModel",
      "state": {}
     },
     "c4f7de5116d34caaa12dc30a015bbcd5": {
      "model_module": "@jupyter-widgets/controls",
      "model_module_version": "2.0.0",
      "model_name": "FloatProgressModel",
      "state": {
       "bar_style": "success",
       "layout": "IPY_MODEL_11e1982dc3b64818b63f14f6dc84a6c0",
       "style": "IPY_MODEL_fea7552b2f2b4ebe8e28b22ff953fff7",
       "value": 100
      }
     },
     "c516a9a3e68240019206ce4900ae6936": {
      "model_module": "@jupyter-widgets/controls",
      "model_module_version": "2.0.0",
      "model_name": "FloatProgressModel",
      "state": {
       "bar_style": "success",
       "layout": "IPY_MODEL_d683a81cb6024d6ab3599eafff3cb13b",
       "style": "IPY_MODEL_9b03e656e63349b58b3a101a4bf5ec68",
       "value": 100
      }
     },
     "c5623aa966ee4f809e1d20adadc0b27b": {
      "model_module": "@jupyter-widgets/controls",
      "model_module_version": "2.0.0",
      "model_name": "HTMLModel",
      "state": {
       "layout": "IPY_MODEL_f7efbd4dd66e46bb9b24b47de90b350a",
       "style": "IPY_MODEL_a5846931213d4b22bdf58ff96e7f2d02",
       "value": " 100/100 [00:00&lt;00:00, 268.11it/s]"
      }
     },
     "c61373b939f94006b7be991e3fc14757": {
      "model_module": "@jupyter-widgets/controls",
      "model_module_version": "2.0.0",
      "model_name": "FloatProgressModel",
      "state": {
       "bar_style": "success",
       "layout": "IPY_MODEL_feae65f5989e45e392b008247a7337b2",
       "style": "IPY_MODEL_b797a537d50c4a099e4962f694b9ab0d",
       "value": 100
      }
     },
     "c68a726231474963b2379aed152ff4ee": {
      "model_module": "@jupyter-widgets/controls",
      "model_module_version": "2.0.0",
      "model_name": "HTMLModel",
      "state": {
       "layout": "IPY_MODEL_263b51873a80450698adb07aed361752",
       "style": "IPY_MODEL_a57d4153eedf4c6b8baac4ff7b8b8d46",
       "value": " 100/100 [00:00&lt;00:00, 280.57it/s]"
      }
     },
     "c824fdfc475b433eb6539dea389de6e1": {
      "model_module": "@jupyter-widgets/base",
      "model_module_version": "2.0.0",
      "model_name": "LayoutModel",
      "state": {}
     },
     "c83aa8cb11964ce8a6283d43a9f07787": {
      "model_module": "@jupyter-widgets/controls",
      "model_module_version": "2.0.0",
      "model_name": "HTMLStyleModel",
      "state": {
       "description_width": "",
       "font_size": null,
       "text_color": null
      }
     },
     "cacee179102a4c37bee52039ca9bf8f5": {
      "model_module": "@jupyter-widgets/controls",
      "model_module_version": "2.0.0",
      "model_name": "HTMLModel",
      "state": {
       "layout": "IPY_MODEL_046a53d528ce41778b94b8f00b1d56d2",
       "style": "IPY_MODEL_4aac0735aab5445a86789b8b1cf038a4",
       "value": " 99/99 [00:01&lt;00:00, 95.66it/s]"
      }
     },
     "cd3e13c76f944d17bd282f3d13e4e87f": {
      "model_module": "@jupyter-widgets/controls",
      "model_module_version": "2.0.0",
      "model_name": "HTMLStyleModel",
      "state": {
       "description_width": "",
       "font_size": null,
       "text_color": null
      }
     },
     "cdca58aea5564121b2fd2f3383bb0d71": {
      "model_module": "@jupyter-widgets/controls",
      "model_module_version": "2.0.0",
      "model_name": "HTMLModel",
      "state": {
       "layout": "IPY_MODEL_58a948c314524ef8b84c153b374fca40",
       "style": "IPY_MODEL_2d3d61304d79471084881eb9de343398",
       "value": " 2/2 [00:00&lt;00:00, 720.42it/s]"
      }
     },
     "d04a4d830fb14005b5a0714c4570f448": {
      "model_module": "@jupyter-widgets/controls",
      "model_module_version": "2.0.0",
      "model_name": "HTMLModel",
      "state": {
       "layout": "IPY_MODEL_c33f6fa2804d4778b215e92d0076432a",
       "style": "IPY_MODEL_58e64e55069d4444bbbbc24869e817a8",
       "value": "Stacking pings: 100%"
      }
     },
     "d1ef8bbc7c1a40d48198e30a48bf5d83": {
      "model_module": "@jupyter-widgets/base",
      "model_module_version": "2.0.0",
      "model_name": "LayoutModel",
      "state": {}
     },
     "d1fe9752c5b340439b96db08ab2166df": {
      "model_module": "@jupyter-widgets/controls",
      "model_module_version": "2.0.0",
      "model_name": "SliderStyleModel",
      "state": {
       "description_width": ""
      }
     },
     "d452919213074f1da9907611c7b3a2a4": {
      "model_module": "@jupyter-widgets/base",
      "model_module_version": "2.0.0",
      "model_name": "LayoutModel",
      "state": {}
     },
     "d62a80cd2a2e4b53a67652d6fa53d50c": {
      "model_module": "@jupyter-widgets/base",
      "model_module_version": "2.0.0",
      "model_name": "LayoutModel",
      "state": {}
     },
     "d649b7f144d6483ca04bf25e0c653651": {
      "model_module": "@jupyter-widgets/controls",
      "model_module_version": "2.0.0",
      "model_name": "DropdownModel",
      "state": {
       "_options_labels": [
        "linear",
        "beamsample"
       ],
       "description": "wci render",
       "index": 0,
       "layout": "IPY_MODEL_bbf92379fd60426398ba08d9584d5fa6",
       "style": "IPY_MODEL_02ed9d22efed466aa3ec4d2bb8c706bb"
      }
     },
     "d683a81cb6024d6ab3599eafff3cb13b": {
      "model_module": "@jupyter-widgets/base",
      "model_module_version": "2.0.0",
      "model_name": "LayoutModel",
      "state": {}
     },
     "d7b3e274f2694e01904c6de6d70e253a": {
      "model_module": "@jupyter-widgets/controls",
      "model_module_version": "2.0.0",
      "model_name": "HTMLModel",
      "state": {
       "layout": "IPY_MODEL_d62a80cd2a2e4b53a67652d6fa53d50c",
       "style": "IPY_MODEL_f734112713034fcd83ce486854d8b3cd",
       "value": " 100/100 [00:00&lt;00:00, 245.47it/s]"
      }
     },
     "d7bfb58597614521bb31d7e10c62b13c": {
      "model_module": "@jupyter-widgets/controls",
      "model_module_version": "2.0.0",
      "model_name": "FloatProgressModel",
      "state": {
       "bar_style": "success",
       "layout": "IPY_MODEL_29becbada9cd4d41a20ff84d2eaaaf4b",
       "style": "IPY_MODEL_01b661f703ef40fa95d19e660034d91a",
       "value": 100
      }
     },
     "d86d2147ebc1455f831a79df7abb86b1": {
      "model_module": "@jupyter-widgets/base",
      "model_module_version": "2.0.0",
      "model_name": "LayoutModel",
      "state": {}
     },
     "d898a8962a8a4a6188a51fbcb580aac2": {
      "model_module": "@jupyter-widgets/controls",
      "model_module_version": "2.0.0",
      "model_name": "CheckboxStyleModel",
      "state": {
       "description_width": ""
      }
     },
     "d8f8b8b9f06a45fe827012986298e3b8": {
      "model_module": "@jupyter-widgets/base",
      "model_module_version": "2.0.0",
      "model_name": "LayoutModel",
      "state": {}
     },
     "d94696af2cdf413693627bd5dfdd5695": {
      "model_module": "@jupyter-widgets/controls",
      "model_module_version": "2.0.0",
      "model_name": "HTMLStyleModel",
      "state": {
       "description_width": "",
       "font_size": null,
       "text_color": null
      }
     },
     "da3a82858e0f4639938297244f1f3102": {
      "model_module": "@jupyter-widgets/controls",
      "model_module_version": "2.0.0",
      "model_name": "HTMLStyleModel",
      "state": {
       "description_width": "",
       "font_size": null,
       "text_color": null
      }
     },
     "dac884d0b4484c88b890b9a247aebe2c": {
      "model_module": "@jupyter-widgets/base",
      "model_module_version": "2.0.0",
      "model_name": "LayoutModel",
      "state": {}
     },
     "db5a0ffdee684baf840f004ae42938f2": {
      "model_module": "@jupyter-widgets/controls",
      "model_module_version": "2.0.0",
      "model_name": "HTMLModel",
      "state": {
       "layout": "IPY_MODEL_830eaab161774fd1af2e4ed6d89aa548",
       "style": "IPY_MODEL_746257bb7fb0418e83baa41ccf1fe60e",
       "value": "Stacking pings: 100%"
      }
     },
     "dee58817741e4101a8794c9680c5136e": {
      "model_module": "@jupyter-widgets/controls",
      "model_module_version": "2.0.0",
      "model_name": "HBoxModel",
      "state": {
       "children": [
        "IPY_MODEL_8637758e599b49b5b125226c494b9e63",
        "IPY_MODEL_a8ce0bfa907647d49493b8a48e001def",
        "IPY_MODEL_8eceafb90f3d48ce866b5c499fb19569"
       ],
       "layout": "IPY_MODEL_82c399a0e09547ed99bc0488c9367429"
      }
     },
     "e0bd36e64b8446f8aba021448ed4a9ba": {
      "model_module": "@jupyter-widgets/base",
      "model_module_version": "2.0.0",
      "model_name": "LayoutModel",
      "state": {
       "width": "15%"
      }
     },
     "e2c206ceb3a2409d955e908cb6744132": {
      "model_module": "@jupyter-widgets/base",
      "model_module_version": "2.0.0",
      "model_name": "LayoutModel",
      "state": {}
     },
     "e4406dd7dc4b4473a527cc15e3140bc3": {
      "model_module": "@jupyter-widgets/controls",
      "model_module_version": "2.0.0",
      "model_name": "IntTextModel",
      "state": {
       "description": "stack:",
       "layout": "IPY_MODEL_4a61c88508a74da68c6cd9bcfdc0dcf3",
       "step": 1,
       "style": "IPY_MODEL_9d5bade33b424a219e0b2cd2b19497d9",
       "value": 100
      }
     },
     "e90300a1f20643708658ea1de1a42e2d": {
      "model_module": "@jupyter-widgets/base",
      "model_module_version": "2.0.0",
      "model_name": "LayoutModel",
      "state": {}
     },
     "e93d7b356782491aa3749d33a7611660": {
      "model_module": "@jupyter-widgets/controls",
      "model_module_version": "2.0.0",
      "model_name": "HBoxModel",
      "state": {
       "children": [
        "IPY_MODEL_7663f774a9ba483e802570b50925efea",
        "IPY_MODEL_02de8e4ef6524784809028dd7c471844",
        "IPY_MODEL_f036dc71ebb24d6e85c83e21e06dfa90"
       ],
       "layout": "IPY_MODEL_fce129f1eaa4463f873e12045a2a9be6"
      }
     },
     "eb59de6d59d84deaaeb1e3282a3b2838": {
      "model_module": "@jupyter-widgets/base",
      "model_module_version": "2.0.0",
      "model_name": "LayoutModel",
      "state": {}
     },
     "ec01820317f143b0b7ee640df01fda74": {
      "model_module": "@jupyter-widgets/controls",
      "model_module_version": "2.0.0",
      "model_name": "HTMLModel",
      "state": {
       "layout": "IPY_MODEL_c2c7ac09bddb4f5fac7800536bf2ca8b",
       "style": "IPY_MODEL_c83aa8cb11964ce8a6283d43a9f07787",
       "value": "Stacking pings: 100%"
      }
     },
     "ec87091ca690484ebb08cda7362c4c9c": {
      "model_module": "@jupyter-widgets/base",
      "model_module_version": "2.0.0",
      "model_name": "LayoutModel",
      "state": {}
     },
     "eccd9ac49a044199a1f109173e898876": {
      "model_module": "@jupyter-widgets/controls",
      "model_module_version": "2.0.0",
      "model_name": "HBoxModel",
      "state": {
       "children": [
        "IPY_MODEL_24516238ec0947268e7ffcc008955e35",
        "IPY_MODEL_81617219c3834179a9962be4c5452959",
        "IPY_MODEL_a8bdceb6459d491cb03488eeb5d74bbb",
        "IPY_MODEL_6c625c0aab9c4a3496bed6eaadd0d7f4"
       ],
       "layout": "IPY_MODEL_6dd24ed3ce4d4aabada5da91fe14c387"
      }
     },
     "ede65e3c925e4fc5a479ea0a102519f8": {
      "model_module": "@jupyter-widgets/base",
      "model_module_version": "2.0.0",
      "model_name": "LayoutModel",
      "state": {}
     },
     "edef9d95d3c84a83bb4c674919bcef67": {
      "model_module": "@jupyter-widgets/base",
      "model_module_version": "2.0.0",
      "model_name": "LayoutModel",
      "state": {}
     },
     "ef1f5bee62ac414fbad472b4f32f87b6": {
      "model_module": "@jupyter-widgets/base",
      "model_module_version": "2.0.0",
      "model_name": "LayoutModel",
      "state": {}
     },
     "f031fc70d1b944e68489bd8aa119f8c0": {
      "model_module": "@jupyter-widgets/controls",
      "model_module_version": "2.0.0",
      "model_name": "IntTextModel",
      "state": {
       "description": "stack step:",
       "layout": "IPY_MODEL_44cafa2732364356920e1eaf3c2394a6",
       "step": 1,
       "style": "IPY_MODEL_2346f5792d72436c9eebd60d6bb78f69",
       "value": 1
      }
     },
     "f036dc71ebb24d6e85c83e21e06dfa90": {
      "model_module": "@jupyter-widgets/controls",
      "model_module_version": "2.0.0",
      "model_name": "HTMLModel",
      "state": {
       "layout": "IPY_MODEL_38b4549dd86e474b9655d7b0e1c93cf1",
       "style": "IPY_MODEL_899080bb21f54e56a77aa649494f105b",
       "value": " 100/100 [00:00&lt;00:00, 238.82it/s]"
      }
     },
     "f194c6c0daf643c1a6f15fec8f1a3832": {
      "model_module": "@jupyter-widgets/controls",
      "model_module_version": "2.0.0",
      "model_name": "ProgressStyleModel",
      "state": {
       "description_width": ""
      }
     },
     "f4952eeb9e044703ae81c2a35671277b": {
      "model_module": "@jupyter-widgets/base",
      "model_module_version": "2.0.0",
      "model_name": "LayoutModel",
      "state": {}
     },
     "f4df898e9a154aafa0e40eedc6a5790c": {
      "model_module": "@jupyter-widgets/controls",
      "model_module_version": "2.0.0",
      "model_name": "CheckboxModel",
      "state": {
       "description": "stack_linear",
       "disabled": false,
       "layout": "IPY_MODEL_1146b5f33954477e90ce74dcaf709906",
       "style": "IPY_MODEL_d898a8962a8a4a6188a51fbcb580aac2",
       "value": true
      }
     },
     "f734112713034fcd83ce486854d8b3cd": {
      "model_module": "@jupyter-widgets/controls",
      "model_module_version": "2.0.0",
      "model_name": "HTMLStyleModel",
      "state": {
       "description_width": "",
       "font_size": null,
       "text_color": null
      }
     },
     "f7efbd4dd66e46bb9b24b47de90b350a": {
      "model_module": "@jupyter-widgets/base",
      "model_module_version": "2.0.0",
      "model_name": "LayoutModel",
      "state": {}
     },
     "f8204ab6bb264125af36303d26bb559f": {
      "model_module": "@jupyter-widgets/base",
      "model_module_version": "2.0.0",
      "model_name": "LayoutModel",
      "state": {}
     },
     "f8f849624d3c446a90abd400525839b0": {
      "model_module": "@jupyter-widgets/controls",
      "model_module_version": "2.0.0",
      "model_name": "ProgressStyleModel",
      "state": {
       "description_width": ""
      }
     },
     "f9ab69850a6846f2becfa73a59652679": {
      "model_module": "@jupyter-widgets/controls",
      "model_module_version": "2.0.0",
      "model_name": "HTMLModel",
      "state": {
       "layout": "IPY_MODEL_a9aba85bbbfb4322b57bc3ff2cdf67c0",
       "style": "IPY_MODEL_a1f3c4b12115417aa91a26d716d98fb9",
       "value": "Stacking pings: 100%"
      }
     },
     "fa4cae2f6f434b5b8a78ad16ef216720": {
      "model_module": "@jupyter-widgets/base",
      "model_module_version": "2.0.0",
      "model_name": "LayoutModel",
      "state": {}
     },
     "fa5f7afc69664a688479f47243847398": {
      "model_module": "@jupyter-widgets/controls",
      "model_module_version": "2.0.0",
      "model_name": "HTMLModel",
      "state": {
       "layout": "IPY_MODEL_91b4135332c64a76952dd022239ebbf1",
       "style": "IPY_MODEL_83f526b7f7a9467ba6c796b60a3a8026",
       "value": "Stacking pings: 100%"
      }
     },
     "fa9bfd303284477fa5f0d833ab00fa73": {
      "model_module": "@jupyter-widgets/controls",
      "model_module_version": "2.0.0",
      "model_name": "HTMLModel",
      "state": {
       "layout": "IPY_MODEL_231550b1488a4d9b88c258ab450f22e5",
       "style": "IPY_MODEL_93be9607d4ad41ffb2290a0bc8f6b5d6",
       "value": "Stacking pings: 100%"
      }
     },
     "fb99b17169cf4acc8a29e2000ec9d21b": {
      "model_module": "@jupyter-widgets/controls",
      "model_module_version": "2.0.0",
      "model_name": "HTMLStyleModel",
      "state": {
       "description_width": "",
       "font_size": null,
       "text_color": null
      }
     },
     "fbb2d43ba041433c8644d81cad1a1981": {
      "model_module": "@jupyter-widgets/controls",
      "model_module_version": "2.0.0",
      "model_name": "HTMLStyleModel",
      "state": {
       "description_width": "",
       "font_size": null,
       "text_color": null
      }
     },
     "fc620d43c1bf46449652254104ea7222": {
      "model_module": "@jupyter-widgets/base",
      "model_module_version": "2.0.0",
      "model_name": "LayoutModel",
      "state": {}
     },
     "fc997d03d6d748ad984ca4c00925c8f2": {
      "model_module": "@jupyter-widgets/controls",
      "model_module_version": "2.0.0",
      "model_name": "HBoxModel",
      "state": {
       "children": [
        "IPY_MODEL_fa9bfd303284477fa5f0d833ab00fa73",
        "IPY_MODEL_c61373b939f94006b7be991e3fc14757",
        "IPY_MODEL_643ce4552f6e4795a19e57cda08b1fee"
       ],
       "layout": "IPY_MODEL_d86d2147ebc1455f831a79df7abb86b1"
      }
     },
     "fc9e6992ed284747ab872cc889d8e33e": {
      "model_module": "@jupyter-widgets/base",
      "model_module_version": "2.0.0",
      "model_name": "LayoutModel",
      "state": {}
     },
     "fca94fe44d53490a9263e36227929f2b": {
      "model_module": "jupyter-matplotlib",
      "model_module_version": "^0.11",
      "model_name": "ToolbarModel",
      "state": {
       "_model_module_version": "^0.11",
       "_view_module_version": "^0.11",
       "collapsed": true,
       "layout": "IPY_MODEL_155cdac59d9f4c06a5bab561903f4fd4",
       "orientation": "vertical",
       "toolitems": [
        [
         "Home",
         "Reset original view",
         "home",
         "home"
        ],
        [
         "Back",
         "Back to previous view",
         "arrow-left",
         "back"
        ],
        [
         "Forward",
         "Forward to next view",
         "arrow-right",
         "forward"
        ],
        [
         "Pan",
         "Left button pans, Right button zooms\nx/y fixes axis, CTRL fixes aspect",
         "arrows",
         "pan"
        ],
        [
         "Zoom",
         "Zoom to rectangle\nx/y fixes axis",
         "square-o",
         "zoom"
        ],
        [
         "Download",
         "Download plot",
         "floppy-o",
         "save_figure"
        ]
       ]
      }
     },
     "fce129f1eaa4463f873e12045a2a9be6": {
      "model_module": "@jupyter-widgets/base",
      "model_module_version": "2.0.0",
      "model_name": "LayoutModel",
      "state": {}
     },
     "fd5a6b58fe0043e19ed49c76f7af80cd": {
      "model_module": "@jupyter-widgets/base",
      "model_module_version": "2.0.0",
      "model_name": "LayoutModel",
      "state": {}
     },
     "fe0f59c2055b4b88a761587ee3cac880": {
      "model_module": "@jupyter-widgets/controls",
      "model_module_version": "2.0.0",
      "model_name": "HBoxModel",
      "state": {
       "children": [
        "IPY_MODEL_f9ab69850a6846f2becfa73a59652679",
        "IPY_MODEL_38e038393a794ddfb9ee38e0f0d39b38",
        "IPY_MODEL_5f552b98864e457db52e624853868c80"
       ],
       "layout": "IPY_MODEL_694573d215674baeb0a5e6118cf87e10"
      }
     },
     "fea7552b2f2b4ebe8e28b22ff953fff7": {
      "model_module": "@jupyter-widgets/controls",
      "model_module_version": "2.0.0",
      "model_name": "ProgressStyleModel",
      "state": {
       "description_width": ""
      }
     },
     "feae65f5989e45e392b008247a7337b2": {
      "model_module": "@jupyter-widgets/base",
      "model_module_version": "2.0.0",
      "model_name": "LayoutModel",
      "state": {}
     },
     "fef0ef03d8ec40de8b963c11cfec7abe": {
      "model_module": "@jupyter-widgets/controls",
      "model_module_version": "2.0.0",
      "model_name": "HTMLModel",
      "state": {
       "layout": "IPY_MODEL_9a4ce14d60b04db1a2b7df19f6015b12",
       "style": "IPY_MODEL_66d07bc7a23b44af92a1f0c328244f9f",
       "value": " 99/99 [00:00&lt;00:00, 269.30it/s]"
      }
     }
    },
    "version_major": 2,
    "version_minor": 0
   }
  }
 },
 "nbformat": 4,
 "nbformat_minor": 5
}
