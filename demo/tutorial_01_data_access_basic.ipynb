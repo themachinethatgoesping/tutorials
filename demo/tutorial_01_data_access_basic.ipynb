{
 "cells": [
  {
   "cell_type": "markdown",
   "metadata": {},
   "source": [
    "# Tutorial 1: Data access core concepts\n",
    "### `themachinethatgoesping` tutorial series\n",
    "\n",
    "`themachinethatgoesping` concepts covered:\n",
    "- Find and list raw data files to process\n",
    "- Create a File Handler object ot access the file data\n",
    "- Access a group of pings with the File Handler\n",
    "- Access data in a ping"
   ]
  },
  {
   "cell_type": "code",
   "execution_count": 1,
   "metadata": {
    "execution": {
     "iopub.execute_input": "2025-01-07T08:38:21.242363Z",
     "iopub.status.busy": "2025-01-07T08:38:21.242279Z",
     "iopub.status.idle": "2025-01-07T08:38:21.416593Z",
     "shell.execute_reply": "2025-01-07T08:38:21.416343Z",
     "shell.execute_reply.started": "2025-01-07T08:38:21.242353Z"
    }
   },
   "outputs": [
    {
     "data": {
      "text/plain": [
       "'/ssd/opt/miniforge3/envs/ping/lib/python3.12/site-packages/numpy/__init__.py'"
      ]
     },
     "execution_count": 1,
     "metadata": {},
     "output_type": "execute_result"
    }
   ],
   "source": [
    "import numpy as np\n",
    "np.__file__"
   ]
  },
  {
   "cell_type": "code",
   "execution_count": 2,
   "metadata": {
    "execution": {
     "iopub.execute_input": "2025-01-07T08:38:23.285426Z",
     "iopub.status.busy": "2025-01-07T08:38:23.284649Z",
     "iopub.status.idle": "2025-01-07T08:38:24.180938Z",
     "shell.execute_reply": "2025-01-07T08:38:24.180597Z",
     "shell.execute_reply.started": "2025-01-07T08:38:23.285353Z"
    }
   },
   "outputs": [],
   "source": [
    "%matplotlib widget\n",
    "\n",
    "import numpy as np\n",
    "import themachinethatgoesping as theping\n",
    "from matplotlib import pyplot as plt\n",
    "from tqdm.auto import tqdm"
   ]
  },
  {
   "cell_type": "code",
   "execution_count": 2,
   "metadata": {
    "execution": {
     "iopub.execute_input": "2025-01-03T21:33:41.585558Z",
     "iopub.status.busy": "2025-01-03T21:33:41.585072Z",
     "iopub.status.idle": "2025-01-03T21:33:41.588117Z",
     "shell.execute_reply": "2025-01-03T21:33:41.587781Z",
     "shell.execute_reply.started": "2025-01-03T21:33:41.585533Z"
    }
   },
   "outputs": [
    {
     "name": "stdout",
     "output_type": "stream",
     "text": [
      "themachinethatgoesping\n",
      "- version:       0.27.1\n",
      "\n",
      "modules:\n",
      "- tools_cppy     0.28.3\n",
      "- tools          @PROJECT_VERSION@\n",
      "- scripts        @PROJECT_VERSION@\n",
      "- algorithms     0.9.0\n",
      "- navigation     0.17.3\n",
      "- echosounders_cppy 0.45.0\n",
      "- echosounders   0.45.0\n",
      "- pingprocessing_cppy 0.11.0\n",
      "- pingprocessing @PROJECT_VERSION@\n",
      "- gridding       @PROJECT_VERSION@\n"
     ]
    }
   ],
   "source": [
    "theping.version()"
   ]
  },
  {
   "cell_type": "markdown",
   "metadata": {},
   "source": [
    "### 1. List raw data files with find_files()"
   ]
  },
  {
   "cell_type": "code",
   "execution_count": 3,
   "metadata": {
    "execution": {
     "iopub.execute_input": "2025-01-03T21:33:41.760199Z",
     "iopub.status.busy": "2025-01-03T21:33:41.759110Z",
     "iopub.status.idle": "2025-01-03T21:33:41.772276Z",
     "shell.execute_reply": "2025-01-03T21:33:41.771897Z",
     "shell.execute_reply.started": "2025-01-03T21:33:41.760158Z"
    }
   },
   "outputs": [
    {
     "name": "stdout",
     "output_type": "stream",
     "text": [
      "Found 18 files\n"
     ]
    }
   ],
   "source": [
    "# define a folder to search for raw data files\n",
    "folder = '../unittest_data'\n",
    "\n",
    "# find all Kongsberg files in the list of folders\n",
    "files = theping.echosounders.index_functions.find_files(folder, [\".all\",\"wcd\"])"
   ]
  },
  {
   "cell_type": "code",
   "execution_count": 4,
   "metadata": {
    "execution": {
     "iopub.execute_input": "2025-01-03T21:33:42.316243Z",
     "iopub.status.busy": "2025-01-03T21:33:42.315919Z",
     "iopub.status.idle": "2025-01-03T21:33:42.318711Z",
     "shell.execute_reply": "2025-01-03T21:33:42.318434Z",
     "shell.execute_reply.started": "2025-01-03T21:33:42.316209Z"
    }
   },
   "outputs": [
    {
     "name": "stdout",
     "output_type": "stream",
     "text": [
      "<class 'list'>\n",
      "<class 'str'>\n",
      "../unittest_data/kongsberg/simon/-8780057642499202963.wcd\n"
     ]
    }
   ],
   "source": [
    "# The output of find_files() is a list of file paths, which are strings\n",
    "print(type(files))\n",
    "print(type(files[0]))\n",
    "print(files[0])"
   ]
  },
  {
   "cell_type": "code",
   "execution_count": 5,
   "metadata": {
    "execution": {
     "iopub.execute_input": "2025-01-03T21:33:42.697321Z",
     "iopub.status.busy": "2025-01-03T21:33:42.697128Z",
     "iopub.status.idle": "2025-01-03T21:33:42.699785Z",
     "shell.execute_reply": "2025-01-03T21:33:42.699498Z",
     "shell.execute_reply.started": "2025-01-03T21:33:42.697309Z"
    }
   },
   "outputs": [
    {
     "name": "stdout",
     "output_type": "stream",
     "text": [
      "(0/18) ../unittest_data/kongsberg/a/c/2720871266855321420.all\n",
      "(1/18) ../unittest_data/kongsberg/a/c/2720871266855321420.wcd\n",
      "(2/18) ../unittest_data/kongsberg/a/f/ALL/4590722669055497039.all\n",
      "(3/18) ../unittest_data/kongsberg/a/f/WCD/4590722669055497039.wcd\n",
      "(4/18) ../unittest_data/kongsberg/a/y/-7609271985000766481.all\n",
      "(5/18) ../unittest_data/kongsberg/a/y/-7609271985000766481.wcd\n",
      "(6/18) ../unittest_data/kongsberg/e/5556426203143536656.all\n",
      "(7/18) ../unittest_data/kongsberg/e/6340811117880500921.all\n",
      "(8/18) ../unittest_data/kongsberg/g/4467916373654671126.all\n",
      "(9/18) ../unittest_data/kongsberg/g/4467916373654671126.wcd\n",
      "(10/18) ../unittest_data/kongsberg/he/8194075547798063212.all\n",
      "(11/18) ../unittest_data/kongsberg/he/8194075547798063212.wcd\n",
      "(12/18) ../unittest_data/kongsberg/simon/-8780057642499202963.all\n",
      "(13/18) ../unittest_data/kongsberg/simon/-8780057642499202963.wcd\n",
      "(14/18) ../unittest_data/kongsberg/turbeams/-5459828243338449053.all\n",
      "(15/18) ../unittest_data/kongsberg/turbeams/-5459828243338449053.wcd\n",
      "(16/18) ../unittest_data/kongsberg/turbeams/2353008643552583898.all\n",
      "(17/18) ../unittest_data/kongsberg/turbeams/2353008643552583898.wcd\n"
     ]
    }
   ],
   "source": [
    "# show files found\n",
    "files.sort()\n",
    "for i, file in enumerate(files):\n",
    "    print(f\"({i}/{len(files)}) {file}\")"
   ]
  },
  {
   "cell_type": "markdown",
   "metadata": {},
   "source": [
    "### 2. Create a File Handler object to access the raw data files"
   ]
  },
  {
   "cell_type": "code",
   "execution_count": 8,
   "metadata": {
    "execution": {
     "iopub.execute_input": "2025-01-03T21:34:19.341362Z",
     "iopub.status.busy": "2025-01-03T21:34:19.341124Z",
     "iopub.status.idle": "2025-01-03T21:34:19.347307Z",
     "shell.execute_reply": "2025-01-03T21:34:19.347000Z",
     "shell.execute_reply.started": "2025-01-03T21:34:19.341350Z"
    }
   },
   "outputs": [
    {
     "name": "stdout",
     "output_type": "stream",
     "text": [
      "indexing files ⠐ 100% [00m:00s<00m:00s] [..0871266855321420.all (1/18)]                               \n",
      "indexing files ⠠ 100% [00m:00s<00m:00s] [..3008643552583898.wcd (18/18)]                                \n",
      "indexing files ⢀ 100% [00m:00s<00m:00s] [Found: 729 datagrams in 18 files (10MB)]                                         \n"
     ]
    }
   ],
   "source": [
    "# Create a File Handler to access the raw data files\n",
    "fileHandler = theping.echosounders.kongsbergall.KongsbergAllFileHandler(files, init=False)"
   ]
  },
  {
   "cell_type": "code",
   "execution_count": null,
   "metadata": {},
   "outputs": [],
   "source": []
  },
  {
   "cell_type": "code",
   "execution_count": 9,
   "metadata": {
    "execution": {
     "iopub.execute_input": "2025-01-03T21:34:26.146372Z",
     "iopub.status.busy": "2025-01-03T21:34:26.146157Z",
     "iopub.status.idle": "2025-01-03T21:34:26.156740Z",
     "shell.execute_reply": "2025-01-03T21:34:26.156360Z",
     "shell.execute_reply.started": "2025-01-03T21:34:26.146358Z"
    }
   },
   "outputs": [
    {
     "name": "stdout",
     "output_type": "stream",
     "text": [
      "Initializing ping interface ⢀ 90% [00m:00s<00m:00s] [Done]                                              \n",
      "PingContainer\n",
      "#############\n",
      "-\n",
      "Time info \n",
      "------------            \n",
      "- Start time: 21/08/2012 17:09:42.36 \n",
      "- End time:   21/04/2023 17:48:14.72 \n",
      "- Sorted:     ascending              \n",
      "\n",
      " Contained pings \n",
      "----------------- \n",
      "- Total:    85 \n",
      "- TRX-102:  35 \n",
      "- TRX-2004: 7  \n",
      "- TRX-2031: 7  \n",
      "- TRX-2086: 4  \n",
      "- TRX-210:  6  \n",
      "- TRX-2106: 4  \n",
      "- TRX-213:  9  \n",
      "- TRX-221:  7  \n",
      "- TRX-233:  6  \n"
     ]
    },
    {
     "name": "stderr",
     "output_type": "stream",
     "text": [
      "WARNING: get_depth_sensor_offsets: Only DSH (Depth (pressure) sensor heave) == NI is supported yet, but DSH is IN\n",
      "WARNING: get_depth_sensor_offsets: Only DSH (Depth (pressure) sensor heave) == NI is supported yet, but DSH is IN\n"
     ]
    }
   ],
   "source": [
    "fileHandler.init_interfaces()\n",
    "p =fileHandler.get_pings()\n",
    "p.print()"
   ]
  },
  {
   "cell_type": "code",
   "execution_count": 10,
   "metadata": {
    "execution": {
     "iopub.execute_input": "2025-01-03T21:34:26.741586Z",
     "iopub.status.busy": "2025-01-03T21:34:26.741363Z",
     "iopub.status.idle": "2025-01-03T21:34:26.745117Z",
     "shell.execute_reply": "2025-01-03T21:34:26.744676Z",
     "shell.execute_reply.started": "2025-01-03T21:34:26.741572Z"
    }
   },
   "outputs": [
    {
     "name": "stdout",
     "output_type": "stream",
     "text": [
      "38\n",
      "RuntimeParameters\n",
      "#################\n",
      "- bytes:               52       \n",
      "- stx:                 0x02     \n",
      "- datagram_identifier: 0x52     [RuntimeParameters]\n",
      "- model_number:        EM2040   [2040]\n",
      "- date:                20220730 [YYYYMMDD]\n",
      "- time_since_midnight: 74864309 [ms]\n",
      "\n",
      " date/time \n",
      "-----------  \n",
      "- timestamp: 1659.214e⁶   [s]\n",
      "- date:      30/07/2022   [MM/DD/YYYY]\n",
      "- time:      20:47:44.309 [HH:MM:SS]\n",
      "\n",
      " datagram content \n",
      "------------------             \n",
      "- ping_counter:                         63074      \n",
      "- system_serial_number:                 2106       \n",
      "- operator_station_status:              0          \n",
      "- processing_unit_status:               0          \n",
      "- bsp_status:                           0          \n",
      "- sonar_head_or_transceiver_status:     0          \n",
      "- mode:                                 0b10000001 \n",
      "- filter_identifier:                    0b10000010 \n",
      "- minimum_depth:                        20         [m]\n",
      "- maximum_depth:                        100        [m]\n",
      "- absorption_coefficient:               6910       [0.01 db/km]\n",
      "- transmit_pulse_length:                107        [μs]\n",
      "- transmit_beamwidth:                   5          [0.1°]\n",
      "- transmit_power_relative_maximum:      0          [dB]\n",
      "- receive_bandwidth_degree:             10         [0.1°]\n",
      "- receive_bandwidth_50hz:               255        [50Hz]\n",
      "- mode2_or_receiver_fixed_gain_setting: 0b00000111 \n",
      "- tvg_law_crossover_angle:              10         [°]\n",
      "- source_of_sound_speed_at_transducer:  0b00000000 \n",
      "- maximum_port_swath_width:             160        [m]\n",
      "- beam_spacing:                         0b00000011 \n",
      "- maximum_port_coverage:                60         [°]\n",
      "- yaw_and_pitch_stabilization_mode:     0b10001010 \n",
      "- maximum_starboard_coverage:           60         [°]\n",
      "- maximum_starboard_swath_width:        160        [m]\n",
      "- transmit_along_tilt:                  0          [0.1°]\n",
      "- filter_identifier2:                   0b00010000 \n",
      "- etx:                                  0x03       \n",
      "- checksum:                             3036       \n",
      "\n",
      " processed \n",
      "-----------                               \n",
      "- absorption_coefficient_in_db_per_meter: 69.100e⁻³    [db/m]\n",
      "- transmit_pulse_length_in_seconds:       0.107e⁻³     [s]\n",
      "- transmit_beamwidth_in_degrees:          0.500        [°]\n",
      "- receive_bandwidth_in_degrees:           1.000        [°]\n",
      "- receive_bandwidth_in_hertz:             12.750e³     [Hz]\n",
      "- transmit_along_tilt_in_degrees:         0.000        [°]\n",
      "\n",
      " decoded: 'mode' [10000001] \n",
      "---------------------------- \n",
      "- mode_as_ping_mode:       300 kHz [opt(string)]\n",
      "- mode_as_tx_pulse_form:   CW      [opt(string)]\n",
      "- mode_as_dual_swath_mode: Dynamic [opt(string)]\n",
      "\n",
      " decoded: 'mode2' [00000111] \n",
      "-----------------------------   \n",
      "- mode2_as_rx_or_sonar_head_use:          Both RX units active [opt(string)]\n",
      "- mode2_as_pulselength:                   Medium CW            [opt(string)]\n",
      "- mode2_as_receive_fixed_gain_setting_dB: -None-               [opt(dB)]\n",
      "\n",
      " decoded: 'filter_identifier' [10000010] \n",
      "----------------------------------------- \n",
      "- filter_identifier_as_spike_filter:        Medium [string]\n",
      "- filter_identifier_as_slope_filter:        Off    [string]\n",
      "- filter_identifier_as_range_gates_size:    Small  [opt(string)]\n",
      "- filter_identifier_as_aeration_filter:     Off    [string]\n",
      "- filter_identifier_as_interference_filter: Off    [string]\n",
      "\n",
      " decoded: 'filter_identifier2' [00010000] \n",
      "------------------------------------------ \n",
      "- filter_identifier2_as_penetration_filter: Medium            [string]\n",
      "- filter_identifier2_as_detect_mode:        Normal            [string]\n",
      "- filter_identifier2_as_phase_ramp:         Short phase ramp  [opt(string)]\n",
      "- filter_identifier2_as_special_tvg:        Special TVG       [string]\n",
      "- filter_identifier2_as_special_amp_detect: Normal amp detect [string]\n",
      "\n",
      " decoded: 'source_of_sound_speed_at_transducer' [00000000] \n",
      "----------------------------------------------------------- \n",
      "- source_of_sound_speed_at_transducer_as_string: From real time sensor [opt(string)]\n",
      "- extra_detections_enabled:                      false                 [bool]\n",
      "- sonar_mode_enabled:                            false                 [bool]\n",
      "- passive_mode_enabled:                          false                 [bool]\n",
      "- 3d_scanning_enabled:                           false                 [bool]\n",
      "\n",
      " decoded: 'beam_spacing' [00000011] \n",
      "------------------------------------ \n",
      "- beam_spacing_as_string: High density equidistant [opt(string)]\n",
      "\n",
      " decoded: 'yaw_and_pitch_stabilization_mode' [10001010] \n",
      "-------------------------------------------------------- \n",
      "- yaw_and_pitch_stabilization_mode_as_yaw_stabilization:   Yaw stabilization to mean vessel heading [string]\n",
      "- yaw_and_pitch_stabilization_mode_as_heading_filter:      -None-                                   [opt(string)]\n",
      "- yaw_and_pitch_stabilization_mode_as_pitch_stibilization: On                                       [string]\n"
     ]
    }
   ],
   "source": [
    "rp = fileHandler.datagram_interface.datagrams('RuntimeParameters')\n",
    "print(len(rp))\n",
    "p = rp[0]\n",
    "print(p)"
   ]
  },
  {
   "cell_type": "code",
   "execution_count": 11,
   "metadata": {
    "execution": {
     "iopub.execute_input": "2025-01-03T21:34:27.424012Z",
     "iopub.status.busy": "2025-01-03T21:34:27.423386Z",
     "iopub.status.idle": "2025-01-03T21:34:27.427833Z",
     "shell.execute_reply": "2025-01-03T21:34:27.427492Z",
     "shell.execute_reply.started": "2025-01-03T21:34:27.423998Z"
    }
   },
   "outputs": [
    {
     "data": {
      "text/plain": [
       "2106"
      ]
     },
     "execution_count": 11,
     "metadata": {},
     "output_type": "execute_result"
    }
   ],
   "source": [
    "p.get_system_serial_number()"
   ]
  },
  {
   "cell_type": "code",
   "execution_count": 12,
   "metadata": {
    "execution": {
     "iopub.execute_input": "2025-01-03T21:34:27.790542Z",
     "iopub.status.busy": "2025-01-03T21:34:27.790242Z",
     "iopub.status.idle": "2025-01-03T21:34:27.794959Z",
     "shell.execute_reply": "2025-01-03T21:34:27.794508Z",
     "shell.execute_reply.started": "2025-01-03T21:34:27.790527Z"
    }
   },
   "outputs": [
    {
     "data": {
      "text/plain": [
       "['TRX-102',\n",
       " 'TRX-2004',\n",
       " 'TRX-2031',\n",
       " 'TRX-2086',\n",
       " 'TRX-210',\n",
       " 'TRX-2106',\n",
       " 'TRX-213',\n",
       " 'TRX-221',\n",
       " 'TRX-233']"
      ]
     },
     "execution_count": 12,
     "metadata": {},
     "output_type": "execute_result"
    }
   ],
   "source": [
    "fileHandler.get_channel_ids()"
   ]
  },
  {
   "cell_type": "code",
   "execution_count": 15,
   "metadata": {
    "execution": {
     "iopub.execute_input": "2025-01-03T21:34:32.613773Z",
     "iopub.status.busy": "2025-01-03T21:34:32.613547Z",
     "iopub.status.idle": "2025-01-03T21:34:32.617107Z",
     "shell.execute_reply": "2025-01-03T21:34:32.616790Z",
     "shell.execute_reply.started": "2025-01-03T21:34:32.613760Z"
    }
   },
   "outputs": [
    {
     "data": {
      "text/plain": [
       "themachinethatgoesping.echosounders_cppy.kongsbergall.KongsbergAllFileHandler"
      ]
     },
     "execution_count": 15,
     "metadata": {},
     "output_type": "execute_result"
    }
   ],
   "source": [
    "# Notes:\n",
    "#   - A File Handler extracts basic information from the files but do not load the acoustic data. It only indexes the datagrams and provides access to them as a combined file stream\n",
    "#   - A file Handler is initalized with the list of files\n",
    "#   - A File Handler pairs .all and .wcd files\n",
    "\n",
    "# See class of a File Hander\n",
    "type(fileHandler)"
   ]
  },
  {
   "cell_type": "code",
   "execution_count": 16,
   "metadata": {
    "execution": {
     "iopub.execute_input": "2025-01-03T21:34:32.900891Z",
     "iopub.status.busy": "2025-01-03T21:34:32.900685Z",
     "iopub.status.idle": "2025-01-03T21:34:32.903624Z",
     "shell.execute_reply": "2025-01-03T21:34:32.903337Z",
     "shell.execute_reply.started": "2025-01-03T21:34:32.900877Z"
    }
   },
   "outputs": [
    {
     "name": "stdout",
     "output_type": "stream",
     "text": [
      "KongsbergAllFileHandler\n",
      "#######################\n",
      "-\n",
      "File infos \n",
      "-------------               \n",
      "- Number of loaded .all files: : 10       \n",
      "- Number of loaded .wcd files: : 8        \n",
      "- Total file size: :             10.71 MB \n",
      "\n",
      " Detected datagrams \n",
      "^^^^^^^^^^^^^^^^^^^^ \n",
      "- timestamp_first:  21/08/2012 17:09:42.36 \n",
      "- timestamp_last:   26/07/2024 15:02:51.40 \n",
      "- Total:            729                    \n",
      "- Datagrams [0x30]: 3                      [PUIDOutput]\n",
      "- Datagrams [0x31]: 9                      [PUStatusOutput]\n",
      "- Datagrams [0x33]: 3                      [ExtraParameters]\n",
      "- Datagrams [0x41]: 28                     [AttitudeDatagram]\n",
      "- Datagrams [0x43]: 17                     [ClockDatagram]\n",
      "- Datagrams [0x47]: 1                      [SurfaceSoundSpeedDatagram]\n",
      "- Datagrams [0x49]: 18                     [InstallationParametersStart]\n",
      "- Datagrams [0x4e]: 80                     [RawRangeAndAngle]\n",
      "- Datagrams [0x4f]: 6                      [QualityFactorDatagram]\n",
      "- Datagrams [0x50]: 31                     [PositionDatagram]\n",
      "- Datagrams [0x52]: 38                     [RuntimeParameters]\n",
      "- Datagrams [0x55]: 18                     [SoundSpeedProfileDatagram]\n",
      "- Datagrams [0x58]: 93                     [XYZDatagram]\n",
      "- Datagrams [0x59]: 80                     [SeabedImageData]\n",
      "- Datagrams [0x68]: 11                     [DepthOrHeightDatagram]\n",
      "- Datagrams [0x6b]: 172                    [WatercolumnDatagram]\n",
      "- Datagrams [0x6e]: 121                    [NetworkAttitudeVelocityDatagram]\n",
      "\n",
      " Detected Pings \n",
      "---------------- \n",
      "\n",
      " Time info \n",
      "^^^^^^^^^^^             \n",
      "- Start time: 21/08/2012 17:09:42.36 \n",
      "- End time:   21/04/2023 17:48:14.72 \n",
      "- Sorted:     no                     \n",
      "\n",
      " Contained pings \n",
      "^^^^^^^^^^^^^^^^^ \n",
      "- Total:    85 \n",
      "- TRX-102:  35 \n",
      "- TRX-2004: 7  \n",
      "- TRX-2031: 7  \n",
      "- TRX-2086: 4  \n",
      "- TRX-210:  6  \n",
      "- TRX-2106: 4  \n",
      "- TRX-213:  9  \n",
      "- TRX-221:  7  \n",
      "- TRX-233:  6  \n"
     ]
    }
   ],
   "source": [
    "# Use the print function to get a summary of the dataset that can be accessed with the File Handler\n",
    "print(fileHandler)"
   ]
  },
  {
   "cell_type": "markdown",
   "metadata": {},
   "source": [
    "### 3. Access a group of pings with the File Handler"
   ]
  },
  {
   "cell_type": "code",
   "execution_count": 17,
   "metadata": {
    "execution": {
     "iopub.execute_input": "2025-01-03T21:34:33.778702Z",
     "iopub.status.busy": "2025-01-03T21:34:33.778259Z",
     "iopub.status.idle": "2025-01-03T21:34:33.781333Z",
     "shell.execute_reply": "2025-01-03T21:34:33.781065Z",
     "shell.execute_reply.started": "2025-01-03T21:34:33.778683Z"
    }
   },
   "outputs": [
    {
     "data": {
      "text/plain": [
       "themachinethatgoesping.echosounders_cppy.kongsbergall.filedatacontainers.KongsbergAllPingContainer"
      ]
     },
     "execution_count": 17,
     "metadata": {},
     "output_type": "execute_result"
    }
   ],
   "source": [
    "# Access a group of pings from the File Handler with the get_pings() method\n",
    "pingContainer = fileHandler.get_pings()\n",
    "\n",
    "# The output is a Ping Container object\n",
    "type(pingContainer)"
   ]
  },
  {
   "cell_type": "code",
   "execution_count": 18,
   "metadata": {
    "execution": {
     "iopub.execute_input": "2025-01-03T21:34:34.178211Z",
     "iopub.status.busy": "2025-01-03T21:34:34.178014Z",
     "iopub.status.idle": "2025-01-03T21:34:34.181020Z",
     "shell.execute_reply": "2025-01-03T21:34:34.180616Z",
     "shell.execute_reply.started": "2025-01-03T21:34:34.178200Z"
    }
   },
   "outputs": [
    {
     "name": "stdout",
     "output_type": "stream",
     "text": [
      "PingContainer\n",
      "#############\n",
      "-\n",
      "Time info \n",
      "------------            \n",
      "- Start time: 21/08/2012 17:09:42.36 \n",
      "- End time:   21/04/2023 17:48:14.72 \n",
      "- Sorted:     ascending              \n",
      "\n",
      " Contained pings \n",
      "----------------- \n",
      "- Total:    85 \n",
      "- TRX-102:  35 \n",
      "- TRX-2004: 7  \n",
      "- TRX-2031: 7  \n",
      "- TRX-2086: 4  \n",
      "- TRX-210:  6  \n",
      "- TRX-2106: 4  \n",
      "- TRX-213:  9  \n",
      "- TRX-221:  7  \n",
      "- TRX-233:  6  \n"
     ]
    }
   ],
   "source": [
    "# Use the print function to get a summary of the contents of a Ping Container\n",
    "print(pingContainer)"
   ]
  },
  {
   "cell_type": "markdown",
   "metadata": {},
   "source": [
    "### 4. Access an individual ping in the Ping Container\n"
   ]
  },
  {
   "cell_type": "code",
   "execution_count": 19,
   "metadata": {
    "execution": {
     "iopub.execute_input": "2025-01-03T21:34:35.046084Z",
     "iopub.status.busy": "2025-01-03T21:34:35.045841Z",
     "iopub.status.idle": "2025-01-03T21:34:35.049053Z",
     "shell.execute_reply": "2025-01-03T21:34:35.048758Z",
     "shell.execute_reply.started": "2025-01-03T21:34:35.046064Z"
    }
   },
   "outputs": [
    {
     "data": {
      "text/plain": [
       "themachinethatgoesping.echosounders_cppy.kongsbergall.filetypes.KongsbergAllPing"
      ]
     },
     "execution_count": 19,
     "metadata": {},
     "output_type": "execute_result"
    }
   ],
   "source": [
    "# Access an individual ping in a Ping Container simply by indexing\n",
    "ping = pingContainer[42]\n",
    "\n",
    "# The result is a Ping object\n",
    "type(ping)"
   ]
  },
  {
   "cell_type": "code",
   "execution_count": 20,
   "metadata": {
    "execution": {
     "iopub.execute_input": "2025-01-03T21:34:35.446293Z",
     "iopub.status.busy": "2025-01-03T21:34:35.446091Z",
     "iopub.status.idle": "2025-01-03T21:34:35.448648Z",
     "shell.execute_reply": "2025-01-03T21:34:35.448381Z",
     "shell.execute_reply.started": "2025-01-03T21:34:35.446280Z"
    }
   },
   "outputs": [
    {
     "name": "stdout",
     "output_type": "stream",
     "text": [
      "KongsbergAllPing\n",
      "################\n",
      "-\n",
      "Ping infos \n",
      "-------------                                                                                                                                                                                                                                                                                                                                                                                 \n",
      "- Channel id:             TRX-233                                                                                                                                                                                                                                                                                                                                                                           \n",
      "- Time info:              04/05/2015 22:51:13.16                                                                                                                                                                                                                                                                                                                                                           \n",
      "                          [1430779873.157000]\n",
      "- Features:               .get_timestamp, .get_datetime, .get_channel_id, .get_sensor_configuration, .get_navigation_interpolator_latlon, .get_sensor_data_latlon, .get_geolocation                                                                                                                                                                                                                         \n",
      "- Feature groups:         .bottom, .watercolumn                                                                                                                                                                                                                                                                                                                                                             \n",
      "- Features(.bottom):      .bottom : .get_two_way_travel_times, .get_xyz, .get_tx_signal_parameters, .get_number_of_tx_sectors, .get_beam_crosstrack_angles                                                                                                                                                                                                                                                  \n",
      "- Features(.watercolumn): .watercolumn : .get_amplitudes, .get_tx_signal_parameters, .get_number_of_tx_sectors, .get_beam_numbers_per_tx_sector, .get_beam_selection_all, .get_number_of_beams, .get_tx_sector_per_beam, .get_beam_crosstrack_angles, .get_bottom_range_samples, .get_amplitudes, .get_rp, .get_rv, .get_pp, .get_pv, .get_ap, .get_av, .get_power, .get_multisectorwatercolumn_calibration\n",
      "                          [Not:.get_sp, .get_sv, .get_watercolumn_calibration]\n",
      "\n",
      " Geolocation \n",
      "------------- \n",
      "- latitude:  75°11'38.1\"N  [ddd°mm',ss.s''N/S]\n",
      "- longitude: 26°47'41.5\"E  [ddd°mm',ss.s''E/W]\n",
      "- z:         3.689         [positive downwards, m]\n",
      "- yaw:       9.682         [90 ° at east]\n",
      "- pitch:     0.508         [° positive bow up]\n",
      "- roll:      -1.153        [° positive port up]\n"
     ]
    }
   ],
   "source": [
    "# Use the print function to get a summary of the contents of a Ping object\n",
    "print(ping)"
   ]
  },
  {
   "cell_type": "markdown",
   "metadata": {},
   "source": [
    "### 5. Access data in a ping"
   ]
  },
  {
   "cell_type": "code",
   "execution_count": 21,
   "metadata": {
    "execution": {
     "iopub.execute_input": "2025-01-03T21:34:36.253990Z",
     "iopub.status.busy": "2025-01-03T21:34:36.253645Z",
     "iopub.status.idle": "2025-01-03T21:34:36.257149Z",
     "shell.execute_reply": "2025-01-03T21:34:36.256791Z",
     "shell.execute_reply.started": "2025-01-03T21:34:36.253967Z"
    }
   },
   "outputs": [
    {
     "data": {
      "text/plain": [
       "themachinethatgoesping.navigation.datastructures.GeolocationLatLon"
      ]
     },
     "execution_count": 21,
     "metadata": {},
     "output_type": "execute_result"
    }
   ],
   "source": [
    "# A Ping object has 3 types of information: base, bottom, and water-column. Let's just talk here about the base information\n",
    "\n",
    "# An example of base information is location\n",
    "pingLocation = ping.get_geolocation()\n",
    "\n",
    "# see class of a \"Ping Location\" object\n",
    "type(pingLocation)"
   ]
  },
  {
   "cell_type": "code",
   "execution_count": 13,
   "metadata": {
    "execution": {
     "iopub.execute_input": "2024-11-06T12:15:13.574304Z",
     "iopub.status.busy": "2024-11-06T12:15:13.574159Z",
     "iopub.status.idle": "2024-11-06T12:15:13.578352Z",
     "shell.execute_reply": "2024-11-06T12:15:13.578100Z",
     "shell.execute_reply.started": "2024-11-06T12:15:13.574289Z"
    }
   },
   "outputs": [
    {
     "name": "stdout",
     "output_type": "stream",
     "text": [
      "GeolocationLatLon (struct)\n",
      "##########################\n",
      "- latitude:  38°24'4.2\"S   [ddd°mm',ss.s''N/S]\n",
      "- longitude: 142°29'1.7\"E  [ddd°mm',ss.s''E/W]\n",
      "- z:         0.600         [positive downwards, m]\n",
      "- yaw:       13.629        [90 ° at east]\n",
      "- pitch:     1.417         [° positive bow up]\n",
      "- roll:      -3.289        [° positive port up]\n"
     ]
    }
   ],
   "source": [
    "# Use the print function to get a summary of the contents of a Ping Location\n",
    "print(pingLocation)"
   ]
  },
  {
   "cell_type": "code",
   "execution_count": 14,
   "metadata": {
    "execution": {
     "iopub.execute_input": "2024-11-06T12:15:13.578970Z",
     "iopub.status.busy": "2024-11-06T12:15:13.578676Z",
     "iopub.status.idle": "2024-11-06T12:15:13.583121Z",
     "shell.execute_reply": "2024-11-06T12:15:13.582904Z",
     "shell.execute_reply.started": "2024-11-06T12:15:13.578951Z"
    }
   },
   "outputs": [
    {
     "name": "stdout",
     "output_type": "stream",
     "text": [
      "Example ping location - Latitude: -38.40116296430116, Longitude: 142.48379345259943\n"
     ]
    }
   ],
   "source": [
    "# Data in a Ping Location are simple attributes\n",
    "print(f\"Example ping location - Latitude: {pingLocation.latitude}, Longitude: {pingLocation.longitude}\")"
   ]
  },
  {
   "cell_type": "markdown",
   "metadata": {},
   "source": [
    "### 6. Conclusion\n",
    "Putting it all together with an example. If you want to extract latitudes and longitudes from all pings in the entire dataset"
   ]
  },
  {
   "cell_type": "code",
   "execution_count": 15,
   "metadata": {
    "execution": {
     "iopub.execute_input": "2024-11-06T12:15:13.583699Z",
     "iopub.status.busy": "2024-11-06T12:15:13.583436Z",
     "iopub.status.idle": "2024-11-06T12:15:13.655381Z",
     "shell.execute_reply": "2024-11-06T12:15:13.655044Z",
     "shell.execute_reply.started": "2024-11-06T12:15:13.583683Z"
    }
   },
   "outputs": [
    {
     "name": "stdout",
     "output_type": "stream",
     "text": [
      "Found 18 files\n",
      "indexing files ⠐ 100% [00m:00s<00m:00s] [..4033532462129271.wcd (1/18)]                               \n",
      "indexing files ⠠ 100% [00m:00s<00m:00s] [..0211369500593285.wcd (18/18)]                                \n",
      "indexing files ⢀ 100% [00m:00s<00m:00s] [Found: 1484 datagrams in 18 files (26MB)]                                          \n",
      "Initializing ping interface ⢀ 90% [00m:00s<00m:00s] [Done]                                              \n"
     ]
    },
    {
     "name": "stderr",
     "output_type": "stream",
     "text": [
      "WARNING: get_depth_sensor_offsets: Only DSH (Depth (pressure) sensor heave) == NI is supported yet, but DSH is IN\n",
      "WARNING: get_depth_sensor_offsets: Only DSH (Depth (pressure) sensor heave) == NI is supported yet, but DSH is IN\n"
     ]
    },
    {
     "data": {
      "text/plain": [
       "[<matplotlib.lines.Line2D at 0x743940d12210>]"
      ]
     },
     "execution_count": 15,
     "metadata": {},
     "output_type": "execute_result"
    },
    {
     "data": {
      "application/vnd.jupyter.widget-view+json": {
       "model_id": "43bb39627d86451db8d6c0ca616257c6",
       "version_major": 2,
       "version_minor": 0
      },
      "image/png": "[encoded data removed]",
      "text/html": [
       "\n",
       "            <div style=\"display: inline-block;\">\n",
       "                <div class=\"jupyter-widgets widget-label\" style=\"text-align: center;\">\n",
       "                    Figure\n",
       "                </div>\n",
       "                <img src='data:image/png;base64,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' width=640.0/>\n",
       "            </div>\n",
       "        "
      ],
      "text/plain": [
       "Canvas(toolbar=Toolbar(toolitems=[('Home', 'Reset original view', 'home', 'home'), ('Back', 'Back to previous …"
      ]
     },
     "metadata": {},
     "output_type": "display_data"
    }
   ],
   "source": [
    "# set folders of data\n",
    "folder = '../unittest_data'\n",
    "\n",
    "# list files in folder\n",
    "files = theping.echosounders.index_functions.find_files(folder, [\".all\",\"wcd\"]) # find all Kongsberg files in the list of folders\n",
    "\n",
    "# create a ping container for all pings in the dataset, through a File Handler\n",
    "fileHandler = theping.echosounders.kongsbergall.KongsbergAllFileHandler(files)\n",
    "pingContainer = fileHandler.get_pings()\n",
    "\n",
    "# loop over all pings in the pingContainer and extract latitude and longitude of each ping\n",
    "lat, lon = [], []\n",
    "for ping in pingContainer:\n",
    "    pingLocation = ping.get_geolocation()\n",
    "    lat.append(pingLocation.latitude) \n",
    "    lon.append(pingLocation.longitude)\n",
    "\n",
    "# plot coordinates of all pings in dataset\n",
    "plt.figure()\n",
    "plt.plot(lon, lat, '.')"
   ]
  },
  {
   "cell_type": "code",
   "execution_count": null,
   "metadata": {},
   "outputs": [],
   "source": []
  }
 ],
 "metadata": {
  "kernelspec": {
   "display_name": "Python 3 (ipykernel)",
   "language": "python",
   "name": "python3"
  },
  "language_info": {
   "codemirror_mode": {
    "name": "ipython",
    "version": 3
   },
   "file_extension": ".py",
   "mimetype": "text/x-python",
   "name": "python",
   "nbconvert_exporter": "python",
   "pygments_lexer": "ipython3",
   "version": "3.12.8"
  },
  "widgets": {
   "application/vnd.jupyter.widget-state+json": {
    "state": {},
    "version_major": 2,
    "version_minor": 0
   }
  }
 },
 "nbformat": 4,
 "nbformat_minor": 4
}
