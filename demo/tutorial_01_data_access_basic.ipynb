{
 "cells": [
  {
   "cell_type": "markdown",
   "metadata": {},
   "source": [
    "# Tutorial 1: Data access core concepts\n",
    "### `themachinethatgoesping` tutorial series\n",
    "\n",
    "`themachinethatgoesping` concepts covered:\n",
    "- Find and list raw data files to process\n",
    "- Create a File Handler object ot access the file data\n",
    "- Access a group of pings with the File Handler\n",
    "- Access data in a ping"
   ]
  },
  {
   "cell_type": "code",
   "execution_count": 1,
   "metadata": {
    "execution": {
     "iopub.execute_input": "2025-01-16T09:21:55.421121Z",
     "iopub.status.busy": "2025-01-16T09:21:55.420454Z",
     "iopub.status.idle": "2025-01-16T09:21:55.579216Z",
     "shell.execute_reply": "2025-01-16T09:21:55.578591Z",
     "shell.execute_reply.started": "2025-01-16T09:21:55.421100Z"
    }
   },
   "outputs": [
    {
     "data": {
      "text/plain": [
       "'/ssd/opt/miniforge3/envs/dev/lib/python3.12/site-packages/numpy/__init__.py'"
      ]
     },
     "execution_count": 1,
     "metadata": {},
     "output_type": "execute_result"
    }
   ],
   "source": [
    "import numpy as np\n",
    "np.__file__"
   ]
  },
  {
   "cell_type": "code",
   "execution_count": 2,
   "metadata": {
    "execution": {
     "iopub.execute_input": "2025-01-16T09:21:58.504414Z",
     "iopub.status.busy": "2025-01-16T09:21:58.503822Z",
     "iopub.status.idle": "2025-01-16T09:22:00.693397Z",
     "shell.execute_reply": "2025-01-16T09:22:00.692959Z",
     "shell.execute_reply.started": "2025-01-16T09:21:58.504395Z"
    }
   },
   "outputs": [],
   "source": [
    "%matplotlib widget\n",
    "\n",
    "import numpy as np\n",
    "import themachinethatgoesping as theping\n",
    "from matplotlib import pyplot as plt\n",
    "from tqdm.auto import tqdm"
   ]
  },
  {
   "cell_type": "code",
   "execution_count": 3,
   "metadata": {
    "execution": {
     "iopub.execute_input": "2025-01-16T09:22:00.694750Z",
     "iopub.status.busy": "2025-01-16T09:22:00.694445Z",
     "iopub.status.idle": "2025-01-16T09:22:00.697262Z",
     "shell.execute_reply": "2025-01-16T09:22:00.696826Z",
     "shell.execute_reply.started": "2025-01-16T09:22:00.694735Z"
    }
   },
   "outputs": [
    {
     "name": "stdout",
     "output_type": "stream",
     "text": [
      "themachinethatgoesping\n",
      "- version:       0.28.1\n",
      "\n",
      "modules:\n",
      "- tools_cppy     0.28.4\n",
      "- tools          @PROJECT_VERSION@\n",
      "- scripts        @PROJECT_VERSION@\n",
      "- algorithms     0.9.0\n",
      "- navigation     0.17.3\n",
      "- echosounders_cppy 0.45.1\n",
      "- echosounders   0.45.1\n",
      "- pingprocessing_cppy 0.11.1\n",
      "- pingprocessing @PROJECT_VERSION@\n",
      "- gridding       @PROJECT_VERSION@\n"
     ]
    }
   ],
   "source": [
    "theping.version()"
   ]
  },
  {
   "cell_type": "markdown",
   "metadata": {},
   "source": [
    "### 1. List raw data files with find_files()"
   ]
  },
  {
   "cell_type": "code",
   "execution_count": 4,
   "metadata": {
    "execution": {
     "iopub.execute_input": "2025-01-16T09:22:01.029729Z",
     "iopub.status.busy": "2025-01-16T09:22:01.029470Z",
     "iopub.status.idle": "2025-01-16T09:22:01.054718Z",
     "shell.execute_reply": "2025-01-16T09:22:01.054248Z",
     "shell.execute_reply.started": "2025-01-16T09:22:01.029712Z"
    }
   },
   "outputs": [
    {
     "name": "stdout",
     "output_type": "stream",
     "text": [
      "Found 18 files\n"
     ]
    }
   ],
   "source": [
    "# define a folder to search for raw data files\n",
    "folder = '../unittest_data'\n",
    "\n",
    "# find all Kongsberg files in the list of folders\n",
    "files = theping.echosounders.index_functions.find_files(folder, [\".all\",\"wcd\"])"
   ]
  },
  {
   "cell_type": "code",
   "execution_count": 5,
   "metadata": {
    "execution": {
     "iopub.execute_input": "2025-01-16T09:22:01.347607Z",
     "iopub.status.busy": "2025-01-16T09:22:01.347228Z",
     "iopub.status.idle": "2025-01-16T09:22:01.350311Z",
     "shell.execute_reply": "2025-01-16T09:22:01.349985Z",
     "shell.execute_reply.started": "2025-01-16T09:22:01.347590Z"
    }
   },
   "outputs": [
    {
     "name": "stdout",
     "output_type": "stream",
     "text": [
      "<class 'list'>\n",
      "<class 'str'>\n",
      "../unittest_data/kongsberg/simon/-8780057642499202963.wcd\n"
     ]
    }
   ],
   "source": [
    "# The output of find_files() is a list of file paths, which are strings\n",
    "print(type(files))\n",
    "print(type(files[0]))\n",
    "print(files[0])"
   ]
  },
  {
   "cell_type": "code",
   "execution_count": 6,
   "metadata": {
    "execution": {
     "iopub.execute_input": "2025-01-16T09:22:02.234986Z",
     "iopub.status.busy": "2025-01-16T09:22:02.234711Z",
     "iopub.status.idle": "2025-01-16T09:22:02.238362Z",
     "shell.execute_reply": "2025-01-16T09:22:02.237971Z",
     "shell.execute_reply.started": "2025-01-16T09:22:02.234971Z"
    }
   },
   "outputs": [
    {
     "name": "stdout",
     "output_type": "stream",
     "text": [
      "(0/18) ../unittest_data/kongsberg/a/c/2720871266855321420.all\n",
      "(1/18) ../unittest_data/kongsberg/a/c/2720871266855321420.wcd\n",
      "(2/18) ../unittest_data/kongsberg/a/f/ALL/4590722669055497039.all\n",
      "(3/18) ../unittest_data/kongsberg/a/f/WCD/4590722669055497039.wcd\n",
      "(4/18) ../unittest_data/kongsberg/a/y/-7609271985000766481.all\n",
      "(5/18) ../unittest_data/kongsberg/a/y/-7609271985000766481.wcd\n",
      "(6/18) ../unittest_data/kongsberg/e/5556426203143536656.all\n",
      "(7/18) ../unittest_data/kongsberg/e/6340811117880500921.all\n",
      "(8/18) ../unittest_data/kongsberg/g/4467916373654671126.all\n",
      "(9/18) ../unittest_data/kongsberg/g/4467916373654671126.wcd\n",
      "(10/18) ../unittest_data/kongsberg/he/8194075547798063212.all\n",
      "(11/18) ../unittest_data/kongsberg/he/8194075547798063212.wcd\n",
      "(12/18) ../unittest_data/kongsberg/simon/-8780057642499202963.all\n",
      "(13/18) ../unittest_data/kongsberg/simon/-8780057642499202963.wcd\n",
      "(14/18) ../unittest_data/kongsberg/turbeams/-5459828243338449053.all\n",
      "(15/18) ../unittest_data/kongsberg/turbeams/-5459828243338449053.wcd\n",
      "(16/18) ../unittest_data/kongsberg/turbeams/2353008643552583898.all\n",
      "(17/18) ../unittest_data/kongsberg/turbeams/2353008643552583898.wcd\n"
     ]
    }
   ],
   "source": [
    "# show files found\n",
    "files.sort()\n",
    "for i, file in enumerate(files):\n",
    "    print(f\"({i}/{len(files)}) {file}\")"
   ]
  },
  {
   "cell_type": "markdown",
   "metadata": {},
   "source": [
    "### 2. Create a File Handler object to access the raw data files"
   ]
  },
  {
   "cell_type": "code",
   "execution_count": 7,
   "metadata": {
    "execution": {
     "iopub.execute_input": "2025-01-16T09:22:04.096591Z",
     "iopub.status.busy": "2025-01-16T09:22:04.095655Z",
     "iopub.status.idle": "2025-01-16T09:22:04.154340Z",
     "shell.execute_reply": "2025-01-16T09:22:04.153875Z",
     "shell.execute_reply.started": "2025-01-16T09:22:04.096539Z"
    }
   },
   "outputs": [
    {
     "name": "stdout",
     "output_type": "stream",
     "text": [
      "indexing files ⢀ 100% [00m:00s<00m:00s] [..3008643552583898.wcd (18/18)]                                \n",
      "indexing files ⡀ 100% [00m:00s<00m:00s] [Found: 729 datagrams in 18 files (10MB)]                                         \n"
     ]
    }
   ],
   "source": [
    "# Create a File Handler to access the raw data files\n",
    "fileHandler = theping.echosounders.kongsbergall.KongsbergAllFileHandler(files, init=False)"
   ]
  },
  {
   "cell_type": "code",
   "execution_count": null,
   "metadata": {},
   "outputs": [],
   "source": []
  },
  {
   "cell_type": "code",
   "execution_count": 8,
   "metadata": {
    "execution": {
     "iopub.execute_input": "2025-01-16T09:22:04.852327Z",
     "iopub.status.busy": "2025-01-16T09:22:04.852070Z",
     "iopub.status.idle": "2025-01-16T09:22:04.878501Z",
     "shell.execute_reply": "2025-01-16T09:22:04.877984Z",
     "shell.execute_reply.started": "2025-01-16T09:22:04.852310Z"
    }
   },
   "outputs": [
    {
     "name": "stdout",
     "output_type": "stream",
     "text": [
      "Initializing ping interface ⢀ 90% [00m:00s<00m:00s] [Done]                                              \n",
      "PingContainer\n",
      "#############\n",
      "-\n",
      "Time info \n",
      "------------            \n",
      "- Start time: 21/08/2012 17:09:42.36 \n",
      "- End time:   21/04/2023 17:48:14.72 \n",
      "- Sorted:     ascending              \n",
      "\n",
      " Contained pings \n",
      "----------------- \n",
      "- Total:    85 \n",
      "- TRX-102:  35 \n",
      "- TRX-2004: 7  \n",
      "- TRX-2031: 7  \n",
      "- TRX-2086: 4  \n",
      "- TRX-210:  6  \n",
      "- TRX-2106: 4  \n",
      "- TRX-213:  9  \n",
      "- TRX-221:  7  \n",
      "- TRX-233:  6  \n"
     ]
    },
    {
     "name": "stderr",
     "output_type": "stream",
     "text": [
      "WARNING: get_depth_sensor_offsets: Only DSH (Depth (pressure) sensor heave) == NI is supported yet, but DSH is IN\n",
      "WARNING: get_depth_sensor_offsets: Only DSH (Depth (pressure) sensor heave) == NI is supported yet, but DSH is IN\n"
     ]
    }
   ],
   "source": [
    "fileHandler.init_interfaces()\n",
    "p =fileHandler.get_pings()\n",
    "p.print()"
   ]
  },
  {
   "cell_type": "code",
   "execution_count": 9,
   "metadata": {
    "execution": {
     "iopub.execute_input": "2025-01-16T09:22:06.022721Z",
     "iopub.status.busy": "2025-01-16T09:22:06.022372Z",
     "iopub.status.idle": "2025-01-16T09:22:06.037725Z",
     "shell.execute_reply": "2025-01-16T09:22:06.036910Z",
     "shell.execute_reply.started": "2025-01-16T09:22:06.022694Z"
    }
   },
   "outputs": [
    {
     "name": "stdout",
     "output_type": "stream",
     "text": [
      "38\n",
      "RuntimeParameters\n",
      "#################\n",
      "- bytes:               52       \n",
      "- stx:                 0x02     \n",
      "- datagram_identifier: 0x52     [RuntimeParameters]\n",
      "- model_number:        EM2040   [2040]\n",
      "- date:                20220730 [YYYYMMDD]\n",
      "- time_since_midnight: 74864309 [ms]\n",
      "\n",
      " date/time \n",
      "-----------  \n",
      "- timestamp: 1659.214e⁶   [s]\n",
      "- date:      30/07/2022   [MM/DD/YYYY]\n",
      "- time:      20:47:44.309 [HH:MM:SS]\n",
      "\n",
      " datagram content \n",
      "------------------             \n",
      "- ping_counter:                         63074      \n",
      "- system_serial_number:                 2106       \n",
      "- operator_station_status:              0          \n",
      "- processing_unit_status:               0          \n",
      "- bsp_status:                           0          \n",
      "- sonar_head_or_transceiver_status:     0          \n",
      "- mode:                                 0b10000001 \n",
      "- filter_identifier:                    0b10000010 \n",
      "- minimum_depth:                        20         [m]\n",
      "- maximum_depth:                        100        [m]\n",
      "- absorption_coefficient:               6910       [0.01 db/km]\n",
      "- transmit_pulse_length:                107        [μs]\n",
      "- transmit_beamwidth:                   5          [0.1°]\n",
      "- transmit_power_relative_maximum:      0          [dB]\n",
      "- receive_bandwidth_degree:             10         [0.1°]\n",
      "- receive_bandwidth_50hz:               255        [50Hz]\n",
      "- mode2_or_receiver_fixed_gain_setting: 0b00000111 \n",
      "- tvg_law_crossover_angle:              10         [°]\n",
      "- source_of_sound_speed_at_transducer:  0b00000000 \n",
      "- maximum_port_swath_width:             160        [m]\n",
      "- beam_spacing:                         0b00000011 \n",
      "- maximum_port_coverage:                60         [°]\n",
      "- yaw_and_pitch_stabilization_mode:     0b10001010 \n",
      "- maximum_starboard_coverage:           60         [°]\n",
      "- maximum_starboard_swath_width:        160        [m]\n",
      "- transmit_along_tilt:                  0          [0.1°]\n",
      "- filter_identifier2:                   0b00010000 \n",
      "- etx:                                  0x03       \n",
      "- checksum:                             3036       \n",
      "\n",
      " processed \n",
      "-----------                               \n",
      "- absorption_coefficient_in_db_per_meter: 69.100e⁻³    [db/m]\n",
      "- transmit_pulse_length_in_seconds:       0.107e⁻³     [s]\n",
      "- transmit_beamwidth_in_degrees:          0.500        [°]\n",
      "- receive_bandwidth_in_degrees:           1.000        [°]\n",
      "- receive_bandwidth_in_hertz:             12.750e³     [Hz]\n",
      "- transmit_along_tilt_in_degrees:         0.000        [°]\n",
      "\n",
      " decoded: 'mode' [10000001] \n",
      "---------------------------- \n",
      "- mode_as_ping_mode:       300 kHz [opt(string)]\n",
      "- mode_as_tx_pulse_form:   CW      [opt(string)]\n",
      "- mode_as_dual_swath_mode: Dynamic [opt(string)]\n",
      "\n",
      " decoded: 'mode2' [00000111] \n",
      "-----------------------------   \n",
      "- mode2_as_rx_or_sonar_head_use:          Both RX units active [opt(string)]\n",
      "- mode2_as_pulselength:                   Medium CW            [opt(string)]\n",
      "- mode2_as_receive_fixed_gain_setting_dB: -None-               [opt(dB)]\n",
      "\n",
      " decoded: 'filter_identifier' [10000010] \n",
      "----------------------------------------- \n",
      "- filter_identifier_as_spike_filter:        Medium [string]\n",
      "- filter_identifier_as_slope_filter:        Off    [string]\n",
      "- filter_identifier_as_range_gates_size:    Small  [opt(string)]\n",
      "- filter_identifier_as_aeration_filter:     Off    [string]\n",
      "- filter_identifier_as_interference_filter: Off    [string]\n",
      "\n",
      " decoded: 'filter_identifier2' [00010000] \n",
      "------------------------------------------ \n",
      "- filter_identifier2_as_penetration_filter: Medium            [string]\n",
      "- filter_identifier2_as_detect_mode:        Normal            [string]\n",
      "- filter_identifier2_as_phase_ramp:         Short phase ramp  [opt(string)]\n",
      "- filter_identifier2_as_special_tvg:        Special TVG       [string]\n",
      "- filter_identifier2_as_special_amp_detect: Normal amp detect [string]\n",
      "\n",
      " decoded: 'source_of_sound_speed_at_transducer' [00000000] \n",
      "----------------------------------------------------------- \n",
      "- source_of_sound_speed_at_transducer_as_string: From real time sensor [opt(string)]\n",
      "- extra_detections_enabled:                      false                 [bool]\n",
      "- sonar_mode_enabled:                            false                 [bool]\n",
      "- passive_mode_enabled:                          false                 [bool]\n",
      "- 3d_scanning_enabled:                           false                 [bool]\n",
      "\n",
      " decoded: 'beam_spacing' [00000011] \n",
      "------------------------------------ \n",
      "- beam_spacing_as_string: High density equidistant [opt(string)]\n",
      "\n",
      " decoded: 'yaw_and_pitch_stabilization_mode' [10001010] \n",
      "-------------------------------------------------------- \n",
      "- yaw_and_pitch_stabilization_mode_as_yaw_stabilization:   Yaw stabilization to mean vessel heading [string]\n",
      "- yaw_and_pitch_stabilization_mode_as_heading_filter:      -None-                                   [opt(string)]\n",
      "- yaw_and_pitch_stabilization_mode_as_pitch_stibilization: On                                       [string]\n"
     ]
    }
   ],
   "source": [
    "rp = fileHandler.datagram_interface.datagrams('RuntimeParameters')\n",
    "print(len(rp))\n",
    "p = rp[0]\n",
    "print(p)"
   ]
  },
  {
   "cell_type": "code",
   "execution_count": 10,
   "metadata": {
    "execution": {
     "iopub.execute_input": "2025-01-16T09:22:07.029653Z",
     "iopub.status.busy": "2025-01-16T09:22:07.029360Z",
     "iopub.status.idle": "2025-01-16T09:22:07.032899Z",
     "shell.execute_reply": "2025-01-16T09:22:07.032558Z",
     "shell.execute_reply.started": "2025-01-16T09:22:07.029636Z"
    }
   },
   "outputs": [
    {
     "data": {
      "text/plain": [
       "2106"
      ]
     },
     "execution_count": 10,
     "metadata": {},
     "output_type": "execute_result"
    }
   ],
   "source": [
    "p.get_system_serial_number()"
   ]
  },
  {
   "cell_type": "code",
   "execution_count": 11,
   "metadata": {
    "execution": {
     "iopub.execute_input": "2025-01-16T09:22:07.346412Z",
     "iopub.status.busy": "2025-01-16T09:22:07.346030Z",
     "iopub.status.idle": "2025-01-16T09:22:07.350160Z",
     "shell.execute_reply": "2025-01-16T09:22:07.349380Z",
     "shell.execute_reply.started": "2025-01-16T09:22:07.346394Z"
    }
   },
   "outputs": [
    {
     "data": {
      "text/plain": [
       "['TRX-102',\n",
       " 'TRX-2004',\n",
       " 'TRX-2031',\n",
       " 'TRX-2086',\n",
       " 'TRX-210',\n",
       " 'TRX-2106',\n",
       " 'TRX-213',\n",
       " 'TRX-221',\n",
       " 'TRX-233']"
      ]
     },
     "execution_count": 11,
     "metadata": {},
     "output_type": "execute_result"
    }
   ],
   "source": [
    "fileHandler.get_channel_ids()"
   ]
  },
  {
   "cell_type": "code",
   "execution_count": 12,
   "metadata": {
    "execution": {
     "iopub.execute_input": "2025-01-16T09:22:07.964462Z",
     "iopub.status.busy": "2025-01-16T09:22:07.964089Z",
     "iopub.status.idle": "2025-01-16T09:22:07.969423Z",
     "shell.execute_reply": "2025-01-16T09:22:07.968755Z",
     "shell.execute_reply.started": "2025-01-16T09:22:07.964438Z"
    }
   },
   "outputs": [
    {
     "data": {
      "text/plain": [
       "themachinethatgoesping.echosounders_cppy.kongsbergall.KongsbergAllFileHandler"
      ]
     },
     "execution_count": 12,
     "metadata": {},
     "output_type": "execute_result"
    }
   ],
   "source": [
    "# Notes:\n",
    "#   - A File Handler extracts basic information from the files but do not load the acoustic data. It only indexes the datagrams and provides access to them as a combined file stream\n",
    "#   - A file Handler is initalized with the list of files\n",
    "#   - A File Handler pairs .all and .wcd files\n",
    "\n",
    "# See class of a File Hander\n",
    "type(fileHandler)"
   ]
  },
  {
   "cell_type": "code",
   "execution_count": 13,
   "metadata": {
    "execution": {
     "iopub.execute_input": "2025-01-16T09:22:08.866590Z",
     "iopub.status.busy": "2025-01-16T09:22:08.866377Z",
     "iopub.status.idle": "2025-01-16T09:22:08.869738Z",
     "shell.execute_reply": "2025-01-16T09:22:08.869305Z",
     "shell.execute_reply.started": "2025-01-16T09:22:08.866576Z"
    }
   },
   "outputs": [
    {
     "name": "stdout",
     "output_type": "stream",
     "text": [
      "KongsbergAllFileHandler\n",
      "#######################\n",
      "-\n",
      "File infos \n",
      "-------------               \n",
      "- Number of loaded .all files: : 10       \n",
      "- Number of loaded .wcd files: : 8        \n",
      "- Total file size: :             10.71 MB \n",
      "\n",
      " Detected datagrams \n",
      "^^^^^^^^^^^^^^^^^^^^ \n",
      "- timestamp_first:  21/08/2012 17:09:42.36 \n",
      "- timestamp_last:   26/07/2024 15:02:51.40 \n",
      "- Total:            729                    \n",
      "- Datagrams [0x30]: 3                      [PUIDOutput]\n",
      "- Datagrams [0x31]: 9                      [PUStatusOutput]\n",
      "- Datagrams [0x33]: 3                      [ExtraParameters]\n",
      "- Datagrams [0x41]: 28                     [AttitudeDatagram]\n",
      "- Datagrams [0x43]: 17                     [ClockDatagram]\n",
      "- Datagrams [0x47]: 1                      [SurfaceSoundSpeedDatagram]\n",
      "- Datagrams [0x49]: 18                     [InstallationParametersStart]\n",
      "- Datagrams [0x4e]: 80                     [RawRangeAndAngle]\n",
      "- Datagrams [0x4f]: 6                      [QualityFactorDatagram]\n",
      "- Datagrams [0x50]: 31                     [PositionDatagram]\n",
      "- Datagrams [0x52]: 38                     [RuntimeParameters]\n",
      "- Datagrams [0x55]: 18                     [SoundSpeedProfileDatagram]\n",
      "- Datagrams [0x58]: 93                     [XYZDatagram]\n",
      "- Datagrams [0x59]: 80                     [SeabedImageData]\n",
      "- Datagrams [0x68]: 11                     [DepthOrHeightDatagram]\n",
      "- Datagrams [0x6b]: 172                    [WatercolumnDatagram]\n",
      "- Datagrams [0x6e]: 121                    [NetworkAttitudeVelocityDatagram]\n",
      "\n",
      " Detected Pings \n",
      "---------------- \n",
      "\n",
      " Time info \n",
      "^^^^^^^^^^^             \n",
      "- Start time: 21/08/2012 17:09:42.36 \n",
      "- End time:   21/04/2023 17:48:14.72 \n",
      "- Sorted:     no                     \n",
      "\n",
      " Contained pings \n",
      "^^^^^^^^^^^^^^^^^ \n",
      "- Total:    85 \n",
      "- TRX-102:  35 \n",
      "- TRX-2004: 7  \n",
      "- TRX-2031: 7  \n",
      "- TRX-2086: 4  \n",
      "- TRX-210:  6  \n",
      "- TRX-2106: 4  \n",
      "- TRX-213:  9  \n",
      "- TRX-221:  7  \n",
      "- TRX-233:  6  \n"
     ]
    }
   ],
   "source": [
    "# Use the print function to get a summary of the dataset that can be accessed with the File Handler\n",
    "print(fileHandler)"
   ]
  },
  {
   "cell_type": "markdown",
   "metadata": {},
   "source": [
    "### 3. Access a group of pings with the File Handler"
   ]
  },
  {
   "cell_type": "code",
   "execution_count": 14,
   "metadata": {
    "execution": {
     "iopub.execute_input": "2025-01-16T09:22:10.043081Z",
     "iopub.status.busy": "2025-01-16T09:22:10.042478Z",
     "iopub.status.idle": "2025-01-16T09:22:10.045921Z",
     "shell.execute_reply": "2025-01-16T09:22:10.045503Z",
     "shell.execute_reply.started": "2025-01-16T09:22:10.043064Z"
    }
   },
   "outputs": [
    {
     "data": {
      "text/plain": [
       "themachinethatgoesping.echosounders_cppy.kongsbergall.filedatacontainers.KongsbergAllPingContainer"
      ]
     },
     "execution_count": 14,
     "metadata": {},
     "output_type": "execute_result"
    }
   ],
   "source": [
    "# Access a group of pings from the File Handler with the get_pings() method\n",
    "pingContainer = fileHandler.get_pings()\n",
    "\n",
    "# The output is a Ping Container object\n",
    "type(pingContainer)"
   ]
  },
  {
   "cell_type": "code",
   "execution_count": 15,
   "metadata": {
    "execution": {
     "iopub.execute_input": "2025-01-16T09:22:10.430003Z",
     "iopub.status.busy": "2025-01-16T09:22:10.429640Z",
     "iopub.status.idle": "2025-01-16T09:22:10.434707Z",
     "shell.execute_reply": "2025-01-16T09:22:10.433704Z",
     "shell.execute_reply.started": "2025-01-16T09:22:10.429976Z"
    }
   },
   "outputs": [
    {
     "name": "stdout",
     "output_type": "stream",
     "text": [
      "PingContainer\n",
      "#############\n",
      "-\n",
      "Time info \n",
      "------------            \n",
      "- Start time: 21/08/2012 17:09:42.36 \n",
      "- End time:   21/04/2023 17:48:14.72 \n",
      "- Sorted:     ascending              \n",
      "\n",
      " Contained pings \n",
      "----------------- \n",
      "- Total:    85 \n",
      "- TRX-102:  35 \n",
      "- TRX-2004: 7  \n",
      "- TRX-2031: 7  \n",
      "- TRX-2086: 4  \n",
      "- TRX-210:  6  \n",
      "- TRX-2106: 4  \n",
      "- TRX-213:  9  \n",
      "- TRX-221:  7  \n",
      "- TRX-233:  6  \n"
     ]
    }
   ],
   "source": [
    "# Use the print function to get a summary of the contents of a Ping Container\n",
    "print(pingContainer)"
   ]
  },
  {
   "cell_type": "markdown",
   "metadata": {},
   "source": [
    "### 4. Access an individual ping in the Ping Container\n"
   ]
  },
  {
   "cell_type": "code",
   "execution_count": 16,
   "metadata": {
    "execution": {
     "iopub.execute_input": "2025-01-16T09:22:11.560973Z",
     "iopub.status.busy": "2025-01-16T09:22:11.560154Z",
     "iopub.status.idle": "2025-01-16T09:22:11.564670Z",
     "shell.execute_reply": "2025-01-16T09:22:11.563989Z",
     "shell.execute_reply.started": "2025-01-16T09:22:11.560954Z"
    }
   },
   "outputs": [
    {
     "data": {
      "text/plain": [
       "themachinethatgoesping.echosounders_cppy.kongsbergall.filetypes.KongsbergAllPing"
      ]
     },
     "execution_count": 16,
     "metadata": {},
     "output_type": "execute_result"
    }
   ],
   "source": [
    "# Access an individual ping in a Ping Container simply by indexing\n",
    "ping = pingContainer[42]\n",
    "\n",
    "# The result is a Ping object\n",
    "type(ping)"
   ]
  },
  {
   "cell_type": "code",
   "execution_count": 17,
   "metadata": {
    "execution": {
     "iopub.execute_input": "2025-01-16T09:22:11.862485Z",
     "iopub.status.busy": "2025-01-16T09:22:11.862179Z",
     "iopub.status.idle": "2025-01-16T09:22:11.877295Z",
     "shell.execute_reply": "2025-01-16T09:22:11.875977Z",
     "shell.execute_reply.started": "2025-01-16T09:22:11.862468Z"
    }
   },
   "outputs": [
    {
     "name": "stdout",
     "output_type": "stream",
     "text": [
      "KongsbergAllPing\n",
      "################\n",
      "-\n",
      "Ping infos \n",
      "-------------                                                                                                                                                                                                                                                                                                                                                                                 \n",
      "- Channel id:             TRX-233                                                                                                                                                                                                                                                                                                                                                                           \n",
      "- Time info:              04/05/2015 22:51:13.16                                                                                                                                                                                                                                                                                                                                                           \n",
      "                          [1430779873.157000]\n",
      "- Features:               .get_timestamp, .get_datetime, .get_channel_id, .get_sensor_configuration, .get_navigation_interpolator_latlon, .get_sensor_data_latlon, .get_geolocation                                                                                                                                                                                                                         \n",
      "- Feature groups:         .bottom, .watercolumn                                                                                                                                                                                                                                                                                                                                                             \n",
      "- Features(.bottom):      .bottom : .get_two_way_travel_times, .get_xyz, .get_tx_signal_parameters, .get_number_of_tx_sectors, .get_beam_crosstrack_angles                                                                                                                                                                                                                                                  \n",
      "- Features(.watercolumn): .watercolumn : .get_amplitudes, .get_tx_signal_parameters, .get_number_of_tx_sectors, .get_beam_numbers_per_tx_sector, .get_beam_selection_all, .get_number_of_beams, .get_tx_sector_per_beam, .get_beam_crosstrack_angles, .get_bottom_range_samples, .get_amplitudes, .get_rp, .get_rv, .get_pp, .get_pv, .get_ap, .get_av, .get_power, .get_multisectorwatercolumn_calibration\n",
      "                          [Not:.get_sp, .get_sv, .get_watercolumn_calibration]\n",
      "\n",
      " Geolocation \n",
      "------------- \n",
      "- latitude:  75°11'38.1\"N  [ddd°mm',ss.s''N/S]\n",
      "- longitude: 26°47'41.5\"E  [ddd°mm',ss.s''E/W]\n",
      "- z:         3.689         [positive downwards, m]\n",
      "- yaw:       9.682         [90 ° at east]\n",
      "- pitch:     0.508         [° positive bow up]\n",
      "- roll:      -1.153        [° positive port up]\n"
     ]
    }
   ],
   "source": [
    "# Use the print function to get a summary of the contents of a Ping object\n",
    "print(ping)"
   ]
  },
  {
   "cell_type": "markdown",
   "metadata": {},
   "source": [
    "### 5. Access data in a ping"
   ]
  },
  {
   "cell_type": "code",
   "execution_count": 18,
   "metadata": {
    "execution": {
     "iopub.execute_input": "2025-01-16T09:22:12.894237Z",
     "iopub.status.busy": "2025-01-16T09:22:12.893513Z",
     "iopub.status.idle": "2025-01-16T09:22:12.898170Z",
     "shell.execute_reply": "2025-01-16T09:22:12.897678Z",
     "shell.execute_reply.started": "2025-01-16T09:22:12.894214Z"
    }
   },
   "outputs": [
    {
     "data": {
      "text/plain": [
       "themachinethatgoesping.navigation.datastructures.GeolocationLatLon"
      ]
     },
     "execution_count": 18,
     "metadata": {},
     "output_type": "execute_result"
    }
   ],
   "source": [
    "# A Ping object has 3 types of information: base, bottom, and water-column. Let's just talk here about the base information\n",
    "\n",
    "# An example of base information is location\n",
    "pingLocation = ping.get_geolocation()\n",
    "\n",
    "# see class of a \"Ping Location\" object\n",
    "type(pingLocation)"
   ]
  },
  {
   "cell_type": "code",
   "execution_count": 19,
   "metadata": {
    "execution": {
     "iopub.execute_input": "2025-01-16T09:22:13.230667Z",
     "iopub.status.busy": "2025-01-16T09:22:13.230174Z",
     "iopub.status.idle": "2025-01-16T09:22:13.243237Z",
     "shell.execute_reply": "2025-01-16T09:22:13.242483Z",
     "shell.execute_reply.started": "2025-01-16T09:22:13.230648Z"
    }
   },
   "outputs": [
    {
     "name": "stdout",
     "output_type": "stream",
     "text": [
      "GeolocationLatLon (struct)\n",
      "##########################\n",
      "- latitude:  75°11'38.1\"N  [ddd°mm',ss.s''N/S]\n",
      "- longitude: 26°47'41.5\"E  [ddd°mm',ss.s''E/W]\n",
      "- z:         3.689         [positive downwards, m]\n",
      "- yaw:       9.682         [90 ° at east]\n",
      "- pitch:     0.508         [° positive bow up]\n",
      "- roll:      -1.153        [° positive port up]\n"
     ]
    }
   ],
   "source": [
    "# Use the print function to get a summary of the contents of a Ping Location\n",
    "print(pingLocation)"
   ]
  },
  {
   "cell_type": "code",
   "execution_count": 20,
   "metadata": {
    "execution": {
     "iopub.execute_input": "2025-01-16T09:22:13.642918Z",
     "iopub.status.busy": "2025-01-16T09:22:13.642645Z",
     "iopub.status.idle": "2025-01-16T09:22:13.645635Z",
     "shell.execute_reply": "2025-01-16T09:22:13.644977Z",
     "shell.execute_reply.started": "2025-01-16T09:22:13.642896Z"
    }
   },
   "outputs": [
    {
     "name": "stdout",
     "output_type": "stream",
     "text": [
      "Example ping location - Latitude: 75.1939195526917, Longitude: 26.794851991774323\n"
     ]
    }
   ],
   "source": [
    "# Data in a Ping Location are simple attributes\n",
    "print(f\"Example ping location - Latitude: {pingLocation.latitude}, Longitude: {pingLocation.longitude}\")"
   ]
  },
  {
   "cell_type": "markdown",
   "metadata": {},
   "source": [
    "### 6. Conclusion\n",
    "Putting it all together with an example. If you want to extract latitudes and longitudes from all pings in the entire dataset"
   ]
  },
  {
   "cell_type": "code",
   "execution_count": 21,
   "metadata": {
    "execution": {
     "iopub.execute_input": "2025-01-16T09:22:15.066807Z",
     "iopub.status.busy": "2025-01-16T09:22:15.066156Z",
     "iopub.status.idle": "2025-01-16T09:22:15.183130Z",
     "shell.execute_reply": "2025-01-16T09:22:15.182548Z",
     "shell.execute_reply.started": "2025-01-16T09:22:15.066792Z"
    }
   },
   "outputs": [
    {
     "name": "stdout",
     "output_type": "stream",
     "text": [
      "Found 18 files\n",
      "indexing files ⠐ 100% [00m:00s<00m:00s] [..0057642499202963.wcd (1/18)]                               \n",
      "indexing files ⠠ 100% [00m:00s<00m:00s] [..4075547798063212.all (18/18)]                                \n",
      "indexing files ⢀ 100% [00m:00s<00m:00s] [Found: 729 datagrams in 18 files (10MB)]                                         \n",
      "Initializing ping interface ⢀ 90% [00m:00s<00m:00s] [Done]                                              \n"
     ]
    },
    {
     "name": "stderr",
     "output_type": "stream",
     "text": [
      "WARNING: get_depth_sensor_offsets: Only DSH (Depth (pressure) sensor heave) == NI is supported yet, but DSH is IN\n",
      "WARNING: get_depth_sensor_offsets: Only DSH (Depth (pressure) sensor heave) == NI is supported yet, but DSH is IN\n"
     ]
    },
    {
     "data": {
      "text/plain": [
       "[<matplotlib.lines.Line2D at 0x7db1b226aae0>]"
      ]
     },
     "execution_count": 21,
     "metadata": {},
     "output_type": "execute_result"
    },
    {
     "data": {
      "application/vnd.jupyter.widget-view+json": {
       "model_id": "02989954995547feb7154589f2152088",
       "version_major": 2,
       "version_minor": 0
      },
      "image/png": "[encoded data removed]",
      "text/html": [
       "\n",
       "            <div style=\"display: inline-block;\">\n",
       "                <div class=\"jupyter-widgets widget-label\" style=\"text-align: center;\">\n",
       "                    Figure\n",
       "                </div>\n",
       "                <img src='data:image/png;base64,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' width=640.0/>\n",
       "            </div>\n",
       "        "
      ],
      "text/plain": [
       "Canvas(toolbar=Toolbar(toolitems=[('Home', 'Reset original view', 'home', 'home'), ('Back', 'Back to previous …"
      ]
     },
     "metadata": {},
     "output_type": "display_data"
    }
   ],
   "source": [
    "# set folders of data\n",
    "folder = '../unittest_data'\n",
    "\n",
    "# list files in folder\n",
    "files = theping.echosounders.index_functions.find_files(folder, [\".all\",\"wcd\"]) # find all Kongsberg files in the list of folders\n",
    "\n",
    "# create a ping container for all pings in the dataset, through a File Handler\n",
    "fileHandler = theping.echosounders.kongsbergall.KongsbergAllFileHandler(files)\n",
    "pingContainer = fileHandler.get_pings()\n",
    "\n",
    "# loop over all pings in the pingContainer and extract latitude and longitude of each ping\n",
    "lat, lon = [], []\n",
    "for ping in pingContainer:\n",
    "    pingLocation = ping.get_geolocation()\n",
    "    lat.append(pingLocation.latitude) \n",
    "    lon.append(pingLocation.longitude)\n",
    "\n",
    "# plot coordinates of all pings in dataset\n",
    "plt.figure()\n",
    "plt.plot(lon, lat, '.')"
   ]
  },
  {
   "cell_type": "code",
   "execution_count": null,
   "metadata": {},
   "outputs": [],
   "source": []
  }
 ],
 "metadata": {
  "kernelspec": {
   "display_name": "Python 3 (ipykernel)",
   "language": "python",
   "name": "python3"
  },
  "language_info": {
   "codemirror_mode": {
    "name": "ipython",
    "version": 3
   },
   "file_extension": ".py",
   "mimetype": "text/x-python",
   "name": "python",
   "nbconvert_exporter": "python",
   "pygments_lexer": "ipython3",
   "version": "3.12.8"
  },
  "widgets": {
   "application/vnd.jupyter.widget-state+json": {
    "state": {
     "02989954995547feb7154589f2152088": {
      "model_module": "jupyter-matplotlib",
      "model_module_version": "^0.11",
      "model_name": "MPLCanvasModel",
      "state": {
       "_data_url": "data:image/png;base64,iVBORw0KGgoAAAANSUhEUgAAAoAAAAHgCAYAAAA10dzkAAAgAElEQVR4Xu3dC7BddX0v8F/I3PC6hBQlMYHwmEBUkhl52YykUrk+8CozAa2URxFwmjDAKI9W3nKTShIRFWYcHokwJIIWaiswiiS5FiFIHIXyGJVLRDKEkIgohBQ7NpGQ63/d7nPzgmz8nZP/2Xt/1gzTqdn/ffb6rO85v+9Za699hmz44xY2AgQIECBAgACBnhEYogD2zLG2owQIECBAgACBRkABFAQCBAgQIECAQI8JKIA9dsDtLgECBAgQIEBAAZQBAgQIECBAgECPCSiAPXbA7S4BAgQIECBAQAGUAQIECBAgQIBAjwkogD12wO0uAQIECBAgQEABlAECBAgQIECAQI8JKIA9dsDtLgECBAgQIEBAAZQBAgQIECBAgECPCSiAPXbA7S4BAgQIECBAQAGUAQIECBAgQIBAjwkogD12wO0uAQIECBAgQEABlAECBAgQIECAQI8JKIA9dsDtLgECBAgQIEBAAZQBAgQIECBAgECPCSiAPXbA7S4BAgQIECBAQAGUAQIECBAgQIBAjwkogD12wO0uAQIECBAgQEABlAECBAgQIECAQI8JKIA9dsDtLgECBAgQIEBAAZQBAgQIECBAgECPCSiAPXbA7S4BAgQIECBAQAGUAQIECBAgQIBAjwkogD12wO0uAQIECBAgQEABlAECBAgQIECAQI8JKIA9dsDtLgECBAgQIEBAAZQBAgQIECBAgECPCSiAPXbA7S4BAgQIECBAQAGUAQIECBAgQIBAjwkogD12wO0uAQIECBAgQEABlAECBAgQIECAQI8JKIA9dsDtLgECBAgQIEBAAZQBAgQIECBAgECPCSiAPXbA7S4BAgQIECBAQAGUAQIECBAgQIBAjwkogD12wO0uAQIECBAgQEABlAECBAgQIECAQI8JKIA9dsDtLgECBAgQIEBAAZQBAgQIECBAgECPCSiAPXbA7S4BAgQIECBAQAGUAQIECBAgQIBAjwkogD12wO0uAQIECBAgQEABlAECBAgQIECAQI8JKIA9dsDtLgECBAgQIEBAAZQBAgQIECBAgECPCSiAPXbA7S4BAgQIECBAQAGUAQIECBAgQIBAjwkogD12wO0uAQIECBAgQEABlAECBAgQIECAQI8JKIA9dsDtLgECBAgQIEBAAZQBAgQIECBAgECPCSiAPXbA7S4BAgQIECBAQAGUAQIECBAgQIBAjwkogD12wO0uAQIECBAgQEABlAECBAgQIECAQI8JKICJA/7aa6/FqlWrYrfddoshQ4YknslSAgQIECBAYHsJbNiwIV555ZUYM2ZM7LDDDtvryw6qr6MAJg7Hc889F2PHjk08g6UECBAgQIBALYEVK1bE3nvvXevLV/26CmCCf82aNTFixIgoARo+fHjimSwlQIAAAQIEtpfAv//7vzcncF5++eXYfffdt9eXHVRfRwFMHI4SoBKcUgQVwASkpQQIECBAYDsKmN8RCmAicAKUwLOUAAECBAhUEjC/FcBU9AQoxWcxAQIECBCoImB+K4Cp4AlQis9iAgQIECBQRcD8VgBTwROgFJ/FBAgQIECgioD5rQCmgidAKT6LCRAgQIBAFQHzu4sL4KuvvhrTp0+Pb3zjG/H888/H6NGj47TTTovLLrus70MfywdBzpgxI+bOnRurV6+OSZMmxbXXXhsTJkxoK5AC1BaTBxEgQIAAgUElYH53cQGcOXNmXH311TF//vym0D388MNx+umnxxVXXBHnnHNOE8Qrr7wyyuPmzZsX48ePb/5t8eLFsXTp0uave2xrE6BtCfl3AgQIECAw+ATM7y4ugMccc0yMGjUqbrrppr7kffzjH49ddtklbrnllihn/8qfgDn33HPjwgsvbB6zdu3aZk0phmecccY2EytA2yTyAAIECBAgMOgEzO8uLoBf+MIX4oYbbohFixY1Z/cef/zx+NCHPhTXXHNNnHjiibFs2bIYN25cPPLII3HIIYf0hXPKlCnNX/coZw4330pBLP+1ttYnifsg6EH3ve0FESBAgACB1xVQALu4AJYzfJdccklzNm/o0KGxfv365nLvxRdf3ARiyZIlMXny5Fi5cmVzJrC1TZs2LZYvXx4LFy7cIjjlPYXlPYObbwqgnzIECBAgQKBzBBTALi6At912W3z2s5+Nq666qnkP4GOPPdZc7v3KV74Sp556al8BXLVqVXODSGubOnVq87d9FyxY0NVnAL+88Mm452fPx/+c+Lb4u6Pf0TnftV4pAQIECBBICiiAXVwAyx95vuiii+Lss8/ui0m5yePWW2+NJ5988k+6BLx53jo1QBMuXxD/sW593+7sOmxo/PwfPpz8drKcAAECBAh0hkCnzu/+1O3avwX8lre8pbmr98wzz+zzmj17dtx8883xi1/8ou8mkPPOOy8uuOCC5jHr1q2LkSNHdvVNIOXM31d/8PQWGfr0UeOcCezP7yzPRYAAAQKDVkAB7OIzgOUz/77//e/HnDlzmkvAjz76aJT3933qU59qCl7Zyv9tlcIDDzwwZs2aFffdd19XfwzMB758X/zyN/+xxTfl+JG7xqLz3zdov1m9MAIECBAg0F8CCmAXF8BXXnklPve5z8Udd9wRL7zwQnOjR7n79/LLL49hw4Y1GWp9EHQpiRt/EPTEiRPbylgnBsgZwLYOrQcRIECAQBcLdOL87u/D0bWXgPsbamvP16kB8h7A7ZEOX4MAAQIEBqtAp87v/vRUABOanRygciZw4c+fj6MnuAs4EQFLCRAgQKADBTp5fvcXtwKYkBSgBJ6lBAgQIECgkoD53cXvAdwemRKg7aHsaxAgQIAAgf4VML8VwFSiBCjFZzEBAgQIEKgiYH4rgKngCVCKb0AW+wsnA8LqSQkQINBVAua3ApgKtACl+Pp9sbub+53UExIgQKArBcxvBTAVbAFK8fXrYp9v2K+cnowAAQJdLWB+K4CpgAtQiq9fF/sLJ/3K6ckIECDQ1QLmtwKYCrgApfj6dbEzgP3K6ckIECDQ1QLmtwKYCrgApfj6fbH3APY7qSckQIBAVwqY3wpgKtgClOIbkMX+wsmAsHpSAgQIdJWA+a0ApgItQCk+iwkQIECAQBUB81sBTAVPgFJ8FhMgQIAAgSoC5rcCmAqeAKX4LCZAgAABAlUEzG8FMBU8AUrxWUyAAAECBKoImN8KYCp4ApTis5gAAQIECFQRML8VwFTwBCjFZzEBAgQIEKgiYH4rgKngCVCKz2ICBAgQIFBFwPxWAFPBE6AUn8UECBAgQKCKgPmtAKaCJ0ApPosJECBAgEAVAfNbAUwFT4BSfBYTIECAAIEqAua3ApgKngCl+CwmQIAAAQJVBMxvBTAVPAFK8VlMgAABAgSqCJjfCmAqeAKU4rOYAAECBAhUETC/FcBU8AQoxWcxAQIECBCoImB+K4Cp4AlQis9iAgQIECBQRcD8VgBTwROgFJ/FBAgQIECgioD5rQCmgidAKT6LCRAgQIBAFQHzWwFMBU+AUnwWEyBAgACBKgLmtwKYCp4ApfgsJkCAAAECVQTMbwUwFTwBSvFZTIAAAQIEqgiY3wpgKngClOKzmAABAgQIVBEwvxXAVPAEKMVnMQECBAgQqCJgfiuAqeAJUIrPYgIECBAgUEXA/FYAU8EToBSfxQQIECBAoIqA+a0ApoInQCk+iwkQIECAQBUB81sBTAVPgFJ8FhMgQIAAgSoC5rcCmAqeAKX4LCZAgAABAlUEzG8FMBU8AUrxWUyAAAECBKoImN8KYCp4ApTis5gAAQIECFQRML8VwFTwBCjFZzEBAgQIEKgiYH4rgKngCVCKz2ICBAgQIFBFwPxWAFPBE6AUn8UECBAgQKCKgPmtAKaCJ0ApPosJECBAgEAVAfNbAUwFT4BSfBYTIECAAIEqAua3ApgKngCl+CwmQIAAAQJVBMzvLi+AK1eujAsvvDDuueee+P3vfx/jx4+Pm266KQ477LAmcBs2bIgZM2bE3LlzY/Xq1TFp0qS49tprY8KECW0FUoDaYvIgAgQIECAwqATM7y4ugKXQHXLIIXHUUUfFmWeeGSNHjoynn3469ttvvxg3blwTxCuvvDJmzpwZ8+bNa8rhFVdcEYsXL46lS5fGbrvtts2wCtA2iTyAAAECBAgMOgHzu4sL4EUXXRQPPvhgPPDAA1sNXjn7N2bMmDj33HObs4RlW7t2bYwaNaophmecccY2AytA2yTyAAIECBAgMOgEzO8uLoAHHXRQHH300fHcc8/F/fffH3vttVecddZZMXXq1CaIy5Yta84EPvLII82ZwtY2ZcqUGDFiRMyfP3+bgRWgbRJ5AAECBAgQGHQC5ncXF8CddtqpCdz5558fn/jEJ+InP/lJc7Zvzpw58clPfjKWLFkSkydPjvI+wXImsLVNmzYtli9fHgsXLtwisOUMYfmvtZUAjR07NtasWRPDhw8fdAH3gggQIECAAIEtBRTALi6Aw4YNi8MPP7wpeq3tM5/5TDz00EPxox/9qK8Arlq1KkaPHt33mHKGcMWKFbFgwYItEjN9+vTmppHNNwXQjxcCBAgQINA5AgpgFxfAfffdNz74wQ/GjTfe2JfI66+/vrnRo5z1+1MuATsD2Dnf3F4pAQIECBB4PQEFsIsL4EknndScydv4JpDzzjsvfvzjHzdn/1o3gZT/7YILLmgysm7duuZuYTeB+KFBgAABAgS6V0AB7OICWC71HnHEEc0l2+OPP755D2C5vFs+8+/kk09uUl2K3uzZs+Pmm2+OAw88MGbNmhX33Xefj4Hp3u95e0aAAAECBEIB7OICWPL93e9+Ny6++OJ46qmnYv/9929uCGndBVz+vfVB0OXGkI0/CHrixIltfXsIUFtMHkSAAAECBAaVgPnd5QVwoNNWM0AX/NNj8a9LX4j3v31kfPH4gwd6Vz0/AQIECBDoGoGa83uwIA7541mwDYPlxXTa66gVoHEX3x3rNzpqQ4dEPD37o53G5/USIECAAIEqArXmd5WdfZ0vqgAmjkaNAJUzf//0yMotXvXxh+7lTGDiWFpKgAABAr0jUGN+DzZdBTBxRGoE6LDPL4oX/+MPW7zqt+763+Lhz30osTeWEiBAgACB3hCoMb8Hm6wCmDgiNQLkDGDigFlKgAABAgT+KFBjfg82eAUwcURqBch7ABMHzVICBAgQ6HmBWvN7MMErgImjUTNA5UzgvX+8C/h/uAs4cQQtJUCAAIFeFKg5vweLtwKYOBIClMCzlAABAgQIVBIwv30OYCp6ApTis5gAAQIECFQRML8VwFTwBCjFZzEBAgQIEKgiYH4rgKngCVCKz2ICBAgQIFBFwPxWAFPBE6AUn8UECBAgQKCKgPmtAKaCJ0ApPosJECBAgEAVAfNbAUwFT4BSfBYTIECAAIEqAua3ApgKngCl+CwmQIAAAQJVBMxvBTAVPAFK8VlMgAABAgSqCJjfCmAqeAMZoImXfy9+t25D/PdhQ+Jn//CR1Ou0mAABAgQIEPj/AgM5vzvF2V8CSRypgQrQfhfdvcWreuYLH028UksJECBAgACBlsBAze9OElYAE0drIALUOvO3+ctyJjBxoCwlQIAAAQIbCQzE/O40YAUwccQGIkBbO/vXeonOAiYOlqUECBAgQOC/BAZifncargKYOGIDESBnABMHxFICBAgQINCGwEDM7za+7KB6iAKYOBwDFSDvAUwcFEsJECBAgMA2BAZqfncSvAKYOFoDGSB3AScOjKUECBAgQOANBAZyfncKvAKYOFIClMCzlAABAgQIVBIwv30OYCp6ApTis5gAAQIECFQRML8VwFTwBCjFZzEBAgQIEKgiYH4rgKngCVCKz2ICBAgQIFBFwPxWAFPBE6AUn8UECBAgQKCKgPmtAKaCJ0ApPosJECBAgEAVAfNbAUwFT4BSfBYTIECAAIEqAua3ApgKngCl+CwmQIAAAQJVBMxvBTAVPAFK8VlMgAABAgSqCJjfCmAqeAKU4rOYAAECBAhUETC/FcBU8AQoxWcxAQIECBCoImB+K4Cp4AlQis9iAgQIECBQRcD8VgBTwROgFJ/FBAgQIECgioD5rQCmgidAKT6LCRAgQIBAFQHzWwFMBU+AUnyDYvGMu34WC5/4dRx90Kj4X1MmDorX5EUQIECAwMAKmN8KYCphApTiq754/KXfi3XrN/S9jmFDh8QvZn6k+uvyAggQIEBgYAXMbwUwlTABSvFVXVzO/N38o+VbvIbT37OvM4FVj4wvToAAgYEXML8VwFTKBCjFV3XxEbP/NVat+c8tXsPeI3aKH170/qqvzRcnQIAAgYEVML8VwFTCBCjFV3WxM4BV+X1xAgQIVBUwvxXAVAAFKMVXfbH3AFY/BF4AAQIEqgiY3wpgKngClOIbFIvLmcD//X9+HR98p7uAB8UB8SIIECCwHQTMbwUwFTMBSvFZTIAAAQIEqgiY3wpgKngClOKzmAABAgQIVBEwvxXAVPAEKMVnMQECBAgQqCJgfiuAqeAJUIrPYgIECBAgUEXA/O6RAjh79uy45JJL4pxzzolrrrmmCduGDRtixowZMXfu3Fi9enVMmjQprr322pgwYULbYRSgtqk8kAABAgQIDBoB87sHCuBDDz0Uxx9/fAwfPjyOOuqovgJ45ZVXxsyZM2PevHkxfvz4uOKKK2Lx4sWxdOnS2G233doKqQC1xeRBBAgQIEBgUAmY311eAH/3u9/FoYceGtddd11T8A4++OCmAJazf2PGjIlzzz03LrzwwiaUa9eujVGjRkUphmeccUZbQRWgtpg8iAABAgQIDCoB87vLC+Cpp54ae+yxR1x99dXxvve9r68ALlu2LMaNGxePPPJIHHLIIX2hnDJlSowYMSLmz5+/1aCWklj+a20lQGPHjo01a9Y0ZxhtBAgQIECAwOAXUAC7uADedtttzSXecgl4p5122qQALlmyJCZPnhwrV65szgS2tmnTpsXy5ctj4cKFW03v9OnTm/cNbr4pgIP/m90rJECAAAECG5/A2X333Xv6BM6QP14O3dBtkVixYkUcfvjhsWjRonjXu97V7N7GZwBbBXDVqlUxevTovt2fOnVqlLULFixwBrDbQmF/CBAgQIDAfwk4A9ilZwDvvPPOOO6442Lo0KF9YV+/fn0MGTIkdthhh+ZGjwMOOOBNXwLe/DtHgPwsIUCAAAECnSdgfndpAXzllVeaS7kbb6effnq84x3vaG76KB/1Ui79nnfeeXHBBRc0D1u3bl2MHDnSTSCd933sFRMgQIAAgTcloAB2aQHcWgo2vgRc/r3c7Vs+H/Dmm2+OAw88MGbNmhX33Xefj4F5U99CHkyAAAECBDpPQAHs4QLY+iDoOXPmbPJB0BMnTmw7yQLUNpUHEiBAgACBQSNgfvdQARyI1AnQQKh6TgIECBAgMLAC5rcCmEqYAKX4LCZAgAABAlUEzG8FMBU8AUrxWUyAAAECBKoImN8KYCp4ApTis5gAAQIECFQRML8VwFTwBCjFZzEBAgQIEKgiYH4rgKngCVCKz2ICBAgQIFBFwPxWAFPBE6AUn8UECBAgQKCKgPmtAKaCJ0ApPosJECBAgEAVAfNbAUwFT4BSfBYTIECAAIEqAua3ApgKngCl+CwmQIAAAQJVBMxvBTAVPAFK8VlMgAABAgSqCJjfCmAqeAKU4rOYAAECBAhUETC/FcBU8AQoxWcxAQIECBCoImB+K4Cp4AlQis9iAgQIECBQRcD8VgBTwROgFJ/FBAgQIECgioD5rQCmgidAKT6LCRAgQIBAFQHzWwFMBU+AUnwWEyBAgACBKgLmtwKYCp4ApfgsJkCAAAECVQTMbwUwFTwBSvFZTIAAAQIEqgiY3wpgKngClOKzmAABAgQIVBEwvxXAVPAEKMVnMQECBAgQqCJgfiuAqeAJUIrPYgIECBAgUEXA/FYAU8EToBSfxQQIECBAoIqA+a0ApoInQCk+iwkQIECAQBUB81sBTAVPgFJ8FhMgQIAAgSoC5rcCmAqeAKX4LCZAgAABAlUEzG8FMBU8AUrxWUyAAAECBKoImN8KYCp4ApTis5gAAQIECFQRML8VwFTwBCjFZzEBAgQIEKgiYH4rgKngCVCKz2ICBAgQIFBFwPxWAFPBE6AUn8UECBAgQKCKgPmtAKaCJ0ApPosJECBAgEAVAfNbAUwFT4BSfBYTIECAAIEqAua3ApgKngCl+CwmQIAAAQJVBMxvBTAVPAFK8VlMgAABAgSqCJjfCmAqeAKU4rOYAAECBAhUETC/FcBU8AQoxWcxAQIECBCoImB+K4Cp4AlQis9iAgQIECBQRcD8VgBTwROgFJ/FBAgQIECgioD5rQCmgidAKT6LCRAgQIBAFQHzWwFMBU+AUnwWEyBAgACBKgLmtwKYCp4ApfgsJkCAAAECVQTMbwUwFTwBSvFZTIAAAQIEqgiY3wpgKngClOKzmAABAgQIVBEwvxXAVPAEKMVnMQECBAgQqCJgfiuAqeAJUIrPYgIECBAgUEXA/FYAU8EToBSfxQQIECBAoIqA+d3FBXD27Nnx7W9/O5588snYeeed44gjjogrr7wy3v72t/eFbcOGDTFjxoyYO3durF69OiZNmhTXXnttTJgwoa1AClBbTB5EgAABAgQGlYD53cUF8MMf/nCccMIJ8e53vzteffXVuPTSS+OnP/1pPPHEE7Hrrrs2QSyFcObMmTFv3rwYP358XHHFFbF48eJYunRp7LbbbtsMqwBtk8gDCBAgQIDAoBMwv7u4AG6ett/85jcxcuTIuP/+++PII4+McvZvzJgxce6558aFF17YPHzt2rUxatSophieccYZ2wysAG2TyAMIECBAgMCgEzC/e6gA/vKXv4wDDzywOQs4ceLEWLZsWYwbNy4eeeSROOSQQ/rCOWXKlBgxYkTMnz9/m4EVoG0SeQABAgQIEBh0AuZ3jxTAcravFLvyPr8HHnigCeKSJUti8uTJsXLlyuZMYGubNm1aLF++PBYuXLhFYMsZwvJfaysBGjt2bKxZsyaGDx8+6ALuBREgQIAAAQJbCiiAPVIAzz777Lj77rvjhz/8Yey9996bFMBVq1bF6NGj+9IxderUWLFiRSxYsGCLxEyfPr25aWTzTQH044UAAQIECHSOgALYAwXw05/+dNx5553NzR37779/Xzr/lEvAzgB2zje3V0qAAAECBF5PQAHs4gJYLvuW8nfHHXfEfffd17z/b+OtdRPIeeedFxdccEHzT+vWrWtuFHETiB8aBAgQIECgewUUwC4ugGeddVZ885vfjLvuumuTz/7bfffdm88FLFspeuXzAm+++eamIM6aNaspiz4Gpnu/6e0ZAQIECBBQALu4AA4ZMmSrCS9l77TTTmv+rfVB0HPmzNnkg6DLXcLtbALUjpLHECBAgACBwSVgfndxAdweUROg7aHsaxAgQIAAgf4VML8VwFSiBCjFZzEBAgQIEKgiYH4rgKngCVCKz2ICBAgQIFBFwPxWAFPBE6AUn8UECBAgQKCKgPmtAKaCJ0ApPosJECBAgEAVAfNbAUwFT4BSfBYTIECAAIEqAua3ApgKngCl+CwmQIAAAQJVBMxvBTAVPAFK8VlMgAABAgSqCJjfCmAqeAKU4rOYAAECBAhUETC/FcBU8AQoxWcxAQIECBCoImB+K4Cp4AlQis9iAgQIECBQRcD8VgBTwROgFJ/FBAgQIECgioD5rQCmgidAKT6LCRAgQIBAFQHzWwFMBU+AUnwWEyBAgACBKgLmtwKYCp4ApfgsJkCAAAECVQTMbwUwFTwBSvFZTIAAAQIEqgiY3wpgKngClOKzmAABAgQIVBEwvxXAVPAEKMVnMQECBAgQqCJgfiuAqeAJUIrPYgIECBAgUEXA/FYAU8EToBSfxQQIECBAoIqA+a0ApoInQCk+iwkQIECAQBUB81sBTAVPgFJ8FhMgQIAAgSoC5rcCmAqeAKX4LCZAgAABAlUEzG8FMBU8AUrxWUyAAAECBKoImN8KYCp4ApTis5gAAQIECFQRML8VwFTwBCjFZzEBAgQIEKgiYH4rgKngCVCKz2ICBAgQIFBFwPxWAFPBE6AUn8UECBAgQKCKgPmtAKaCJ0ApPosJECBAgEAVAfNbAUwFT4BSfBYTIECAAIEqAua3ApgKngCl+CwmQIAAAQJVBMxvBTAVPAFK8VlMgAABAgSqCJjfCmAqeAKU4rOYAAECBAhUETC/FcBU8AQoxWcxAQIECBCoImB+K4Cp4AlQis9iAgQIECBQRcD8VgBTwROgFJ/FBAgQIECgioD5rQCmgidAKT6LCRAgQIBAFQHzWwFMBU+AUnwWEyBAgACBKgLmtwKYCp4ApfgsJkCAAAECVQTMbwUwFTwBSvFZTIAAAQIEqgiY3wpgKngClOKzmAABAgQIVBEwvxXAVPAEKMVnMQECBAgQqCJgfiuAqeAJUIrPYgIECBAgUEXA/FYAU8EToBSfxQQIECBAoIqA+a0ApoInQCk+iwkQIECAQBUB81sBTAVPgFJ8FhMgQIAAgSoC5rcCmAqeAKX4LCZAgAABAlUEzG8FMBU8AUrxWUyAAAECBKoImN8KYFx33XVx1VVXxa9+9auYMGFCXHPNNfHe9763rUAKUFtMHkSAAAECBAaVgPnd4wXw9ttvj1NOOaUpgZMnT445c+bEjTfeGE888UTss88+2wyrAG2TyAMIECBAgMCgEzC/e7wATpo0KQ499NC4/vrr+8L5zne+M4499tiYPXv2NgMrQNsk8gACBAgQIDDoBMzvHi6A69ati1122SW+9a1vxXHHHdcXznPOOScee+yxuP/++7cI7Nq1a6P819pKgMaOHRtr1qyJ4cOHD7qAe0EECBAgQIDAlgIKYA8XwFWrVsVee+0VDz74YBxxxBF96Zg1a1bMnz8/li5dukVipk+fHjNmzNjif1cA/XghQIAAAQKdI6AAKhrqQNwAABnLSURBVICxZMmSeM973tOX2pkzZ8Ytt9wSTz75pDOAnfO97JUSIECAAIG2BRTAHi6Af8ol4M2TJUBtf695IAECBAgQGDQC5ncPF8CSwnITyGGHHdbcBdzaDjrooJgyZYqbQAbNt6kXQoAAAQIE+ldAAezxAtj6GJgbbrihuQw8d+7c+NrXvhY///nPY999991m2gRom0QeQIAAAQIEBp2A+d3jBbAkspz9++IXv9h8EPTEiRPj6quvjiOPPLKtsApQW0weRIAAAQIEBpWA+a0ApgIpQCk+iwkQIECAQBUB81sBTAVPgFJ8FhMgQIAAgSoC5rcCmAqeAKX4LCZAgAABAlUEzG8FMBU8AUrxWUyAAAECBKoImN8KYCp4ApTis5gAAQIECFQRML8VwFTwBCjFZzEBAgQIEKgiYH4rgKngCVCKz2ICBAgQIFBFwPxWAFPBE6AUn8UECBAgQKCKgPmtAKaCJ0ApPosJECBAgEAVAfNbAUwFT4BSfBYTIECAAIEqAua3ApgKngCl+CwmQIAAAQJVBMxvBTAVPAFK8VlMgAABAgSqCJjfCmAqeAKU4rOYAAECBAhUETC/FcBU8AQoxWcxAQIECBCoImB+K4Cp4AlQis9iAgQIECBQRcD8VgBTwROgFJ/FBAgQIECgioD5rQCmgidAKT6LCRAgQIBAFQHzWwFMBU+AUnwWEyBAgACBKgLmtwKYCp4ApfgsJkCAAAECVQTMbwUwFTwBSvFZTIAAAQIEqgiY3wpgKngClOKzmAABAgQIVBEwvxXAVPAEKMVnMQECBAgQqCJgfiuAqeAJUIrPYgIECBAgUEXA/FYAU8EToBSfxQQIECBAoIqA+a0ApoInQCk+iwkQIECAQBUB81sBTAVPgFJ8FhMgQIAAgSoC5rcCmAqeAKX4LCZAgAABAlUEzG8FMBU8AUrxWUyAAAECBKoImN8KYCp4ApTis5gAAQIECFQRML8VwFTwBCjFZzEBAgQIEKgiYH4rgKngCVCKz2ICBAgQIFBFwPxWAFPBE6AUn8UECBAgQKCKgPmtAKaCJ0ApPosJECBAgEAVAfNbAUwFT4BSfBYTIECAAIEqAua3ApgKngCl+CwmQIAAAQJVBMxvBTAVPAFK8VlMgAABAgSqCJjfCmAqeAKU4rOYAAECBAhUETC/FcBU8AQoxWcxAQIECBCoImB+K4Cp4AlQis9iAgQIECBQRcD8VgBTwROgFJ/FBAgQIECgioD5rQCmgidAKT6LCRAgQIBAFQHzWwFMBU+AUnwWEyBAgACBKgLmtwKYCp4ApfgsJkCAAAECVQTMbwUwFTwBSvFZTIAAAQIEqgiY3wpgKngClOKzmAABAgQIVBEwvxXAVPAEKMVnMQECBAgQqCJgfiuAqeAJUIrPYgIECBAgUEXA/O7CAvjMM8/E5z//+bj33nvj+eefjzFjxsTf/M3fxKWXXhrDhg3rC9qzzz4bZ599dvO4nXfeOU466aT40pe+tMljtpVKAdqWkH8nQIAAAQKDT8D87sICuGDBgrj99tvjxBNPjAMOOCB+9rOfxdSpU+OUU05pCl7Z1q9fHwcffHDsueee8eUvfzlefPHFOPXUU+NjH/tYfPWrX207qQLUNpUHEiBAgACBQSNgfndhAdxauq666qq4/vrrY9myZc0/33PPPXHMMcfEihUrmjOEZbvtttvitNNOixdeeCGGDx/eVkgFqC0mDyJAgAABAoNKwPzukQJ42WWXRTkz+PDDDzcBvPzyy+Ouu+6Kxx9/vC+Qq1evjj322KO5JHzUUUe1FVQBaovJgwgQIECAwKASML97oAA+/fTTceihhzaXev/2b/+2CeC0adOivFdw0aJFmwRyxx13jHnz5jWXj7e2rV27Nsp/ra0EaOzYsbFmzZq2zxoOqu8AL4YAAQIECPSggALYQQVw+vTpMWPGjDeM6UMPPRSHH35432NWrVoVf/mXf9n8d+ONN/b976UALl++PBYuXLjJ85WbRL7+9a/HCSecsNWv83qvQQHswZ8edpkAAQIEOlZAAeygAvjb3/42yn9vtO23336x0047NQ8p5a9cyp00aVJzVm+HHXboW/qnXgJ2BrBjv9e9cAIECBAg0CegAHZQAXwzuV25cmVT/g477LC49dZbY+jQoZssb90E8txzz8Xo0aObfyt3Dpc7gd0E8makPZYAAQIECHSegALYhQWwddl3n332aS7nblz+3va2tzUpbX0MzKhRo6LcIfzSSy81dwAfe+yxPgam876PvWICBAgQIPCmBBTALiyA5XLv6aefvtUgbNiwoe9/Lx8EfdZZZ23xQdDlRpB2NwFqV8rjCBAgQIDA4BEwv7uwAG7PeAnQ9tT2tQgQIECAQP8ImN8KYCpJApTis5gAAQIECFQRML8VwFTwBCjFZzEBAgQIEKgiYH4rgKngCVCKz2ICBAgQIFBFwPxWAFPBE6AUn8UECBAgQKCKgPmtAKaCJ0ApPosJECBAgEAVAfNbAUwFT4BSfBYTIECAAIEqAua3ApgKngCl+CwmQIAAAQJVBMxvBTAVPAFK8VlMgAABAgSqCJjfCmAqeAKU4rOYAAECBAhUETC/FcBU8AQoxWcxAQIECBCoImB+K4Cp4AlQis9iAgQIECBQRcD8VgBTwROgFJ/FBAgQIECgioD5rQCmgidAKT6LCRAgQIBAFQHzWwFMBU+AUnwWEyBAgACBKgLmtwKYCp4ApfgsJkCAAAECVQTMbwUwFTwBSvFZTIAAAQIEqgiY3wpgKngClOKzmAABAgQIVBEwvxXAVPAEKMVnMQECBAgQqCJgfiuAqeAJUIrPYgIECBAgUEXA/FYAU8EToBSfxQQIECBAoIqA+a0ApoInQCk+iwkQIECAQBUB81sBTAVPgFJ8FhMgQIAAgSoC5rcCmAqeAKX4LCZAgAABAlUEzG8FMBU8AUrxWUyAAAECBKoImN8KYCp4ApTis5gAAQIECFQRML8VwFTwBCjFZzEBAgQIEKgiYH4rgKngCVCKz2ICBAgQIFBFwPxWAFPBE6AUn8UECBAgQKCKgPmtAKaCJ0ApPosJECBAgEAVAfNbAUwFT4BSfBYTIECAAIEqAua3ApgKngCl+CwmQIAAAQJVBMxvBTAVPAFK8VlMgAABAgSqCJjfCmAqeAKU4rOYAAECBAhUETC/FcBU8AQoxWcxAQIECBCoImB+K4Cp4AlQis9iAgQIECBQRcD8VgBTwROgFJ/FBAgQIECgioD5rQCmgidAKT6LCRAgQIBAFQHzWwFMBU+AUnwWEyBAgACBKgLmtwKYCp4ApfgsJkCAAAECVQTMbwUwFTwBSvFZTIAAAQIEqgiY3wpgKngClOKzmAABAgQIVBEwvxXAVPAEKMVnMQECBAgQqCJgfiuAqeAJUIrPYgIECBAgUEXA/FYAU8EToBSfxQQIECBA4HUF9rvo7r5/e+YLH+1XKfNbAUwFSoBSfBYTIECAAIGtCmxc/loP6M8SaH4rgKlvPQFK8VlMgAABAgS2ENha+evvEmh+d3kBXLt2bUyaNCkef/zxePTRR+Pggw/uC9qzzz4bZ599dtx7772x8847x0knnRRf+tKXYtiwYW1/OwpQ21QeSIAAAQIE2hJQANtiSj9oyIY/bulnGaRPcM4558RTTz0V99xzzyYFcP369U0Z3HPPPePLX/5yvPjii3HqqafGxz72sfjqV7/a9t4ogG1TeSABAgQIEGhLQAFsiyn9oK4tgKX0nX/++fEv//IvMWHChE0KYPm3Y445JlasWBFjxoxpEG+77bY47bTT4oUXXojhw4e3BasAtsXkQQQIECBA4E0JeA/gm+L6kx7clQXw17/+dRx22GFx5513xlvf+tbYf//9NymAl19+edx1113NpeHWtnr16thjjz2aS8JHHXVUW5gKYFtMHkSAAAECBN60gLuA3zTZm1rQdQWwXNH+yEc+EpMnT47LLrssnnnmmS0K4LRp05r/fdGiRZtg7bjjjjFv3rw48cQTt4pY3lNY/mttpQCOHTs21qxZ0/ZZwzd1dDyYAAECBAgQ6HcBJ3A66CaQ6dOnx4wZM94wBA899FAsWbIkbr/99li8eHEMHTr0dQvg8uXLY+HChZs8X7kB5Otf/3qccMIJW/06r/caFMB+/970hAQIECBAYMAEFMAOKoC//e1vo/z3Rtt+++3XlLfvfOc7MWTIkL6Hlps+Shk8+eSTY/78+fGnXgJ2BnDAvhc9MQECBAgQ2G4CCmAHFcB2U1E+3qUc2Na2atWqOProo+Of//mfm4+E2XvvvZu7gstNIM8991yMHj26eWg5a1juBHYTSLvSHkeAAAECBDpTQAHswgK4eRS39h7A1sfAjBo1Kq666qp46aWXmjuAjz32WB8D05nfy141AQIECBBoW0AB7NECWBJSzhSeddZZW3wQdLkRpN1NgNqV8jgCBAgQIDB4BMzvHiiAAxk3ARpIXc9NgAABAgQGRsD8VgBTyRKgFJ/FBAgQIECgioD5rQCmgidAKT6LCRAgQIBAFQHzWwFMBU+AUnwWEyBAgACBKgLmtwKYCp4ApfgsJkCAAAECVQTMbwUwFTwBSvFZTIAAAQIEqgiY3wpgKnjlT8CNGDEiVqxY4W8BpyQtJkCAAAEC20+gFMCxY8fGyy+/HLvvvvv2+8KD6CsN2fDHbRC9no56KeUviZQA2QgQIECAAIHOEygncMpfCOvFTQFMHPXXXnstyp+a22233Tb528PbesrWbx69fOaw1w16ff/L90ivG/T6/suA74Ga3wPl3Ncrr7wSY8aMiR122GFbY7sr/10BrHBYvffg//3gK6fdy2X04cOHVzgKdb9kr+9/a/jLQO9+D8iAn4N+DtadQwpgBX+h94NPBmRABmSg1zPQ6/tfoX5s8iUVwApHQOj94JcBGZABGej1DPT6/leoHwpgbfS1a9fG7Nmz4+KLL44dd9yx9sup8vV73aDX97+ErtcNen3/ZcD3gO+BKuO374s6A1jX31cnQIAAAQIECGx3AQVwu5P7ggQIECBAgACBugIKYF1/X50AAQIECBAgsN0FFMDtTu4LEiBAgAABAgTqCiiAdf19dQIECBAgQIDAdhdQALc7ecR1110XV111VfzqV7+KCRMmxDXXXBPvfe97K7ySgf2S5U7nb3/72/Hkk0/GzjvvHEcccURceeWV8fa3v73vC5dPY58xY0bMnTs3Vq9eHZMmTYprr722cem2rXhccsklcc455zTHvGy9sP8rV66MCy+8MO655574/e9/H+PHj4+bbropDjvssK43ePXVV2P69OnxjW98I55//vkYPXp0nHbaaXHZZZf1/fWBbsvA4sWLm59v//Zv/9b8jLvjjjvi2GOPfVPf8+Xu0L//+7+Pf/zHf2wy8/73v7/5udkJf7Lrjfb/D3/4Q3Psv/e978WyZcuaD8P/wAc+EF/4wheav0jR2jp5/8s+bCsDG/9sP+OMM5qf/1dffXWce+65XWPQCfNLAdzOR+n222+PU045pflhNnny5JgzZ07ceOON8cQTT8Q+++yznV/NwH65D3/4w3HCCSfEu9/97iiD8NJLL42f/vSnzb7uuuuuzRcvhXDmzJkxb968phhcccUVzQ+PpUuXNn9ir1u2hx56KI4//vjmr54cddRRfQWw2/e/lPpDDjmk2eczzzwzRo4cGU8//XTst99+MW7cuK7PQMl2GWzz589vfql5+OGH4/TTT29yXn4R6MbvgVL0H3zwwTj00EPj4x//+BYFsJ3Ml6x85zvfaX4uvOUtb4m/+7u/i5deeqkplUOHDh3UPxbeaP/LXz76q7/6q5g6dWq8613van7pLaWn/Hws2Whtnbz/ZR+2lYHWft55553NL0i/+c1v4rOf/ewmBbDTDQZ1SP/rxSmA2/kolTNc5Qfj9ddf3/eV3/nOdza/IZczRN28lW/yUgDuv//+OPLII5uzX+W33vIDsJwhKlv5zXfUqFFNMSy/GXbD9rvf/a455qX0l8F/8MEHNwWwF/b/oosuasrAAw88sNVD2e0GxxxzTJPncsaztZVStMsuu8Qtt9zS9RkYMmTIJgWwneNdStKee+7Z+Pz1X/91w1b+5vrYsWObM2dHH310x/xY2Hz/t/bCyy+Hf/7nfx7Lly9vTgJ00/6X/X09g3JloMzDhQsXxkc/+tFmDrTOAHabwWANrAK4HY/MunXrmh/83/rWt+K4447r+8rlTMBjjz3WFKNu3n75y1/GgQce2JwFnDhxYnMJpJwFeuSRR5qzRK1typQpMWLEiOasSTdsp556auyxxx7NmaD3ve99fQWwF/b/oIMOagb2c8891+R7r732irPOOqs5A1K2bjcol/ZuuOGGWLRoUXOG+/HHH48PfehDzS8AJ554Ytfv/+bDv53jfe+99zaXfMsZvz/7sz/r+xFQzpiVX5TLW0Y6ZWunAH7/+99vMvHyyy83Vwi6af9frwC+9tprzaXv8rO+zL9yRWDjAthtBoM1rwrgdjwy5bfYMgDLGZHyfrjWNmvWrKbslMue3bqV3/zLN3u55NE6G7RkyZLmMnj5TXDj979Mmzat+W24/GbY6dttt93WXOIuv+XvtNNOmxTAXtj/ss9lO//88+MTn/hE/OQnP2l+0Je3Pnzyk5+MbjcouS/v+yxntMuly/Xr1zd5KH8FqGzdvv+bF6B29veb3/xmc5m8XA3YeCslaf/992+y0ynbtgrgf/7nf8Zf/MVfxDve8Y649dZbm93qpv1/vQJYrnb94Ac/aH7GF6PNC2C3GQzWvCqA2/HItApg+SH4nve8p+8rl4FQLneUmyW6dTv77LPj7rvvjh/+8Id9b+RuDYPiUt4c39rK2aEVK1bEggULOpqj7MPhhx/enP0pZy/KtvEZwG7f/7K/w4YNawzKvra2z3zmM00h/tGPftRXgLo1A+UXgPLepnJTRHkPYDnTXwrwV77ylShnhrs9A69XAN/oeL/e8P/gBz/YXDEoZ1Q7ZXujAlhuCCm/FD377LNx3333NWf/3qgAduL+b60Alvdxlku+5cpP6xf/dgtgpxoM1rwqgNvxyPTqJeBPf/rTUd7sW27uKL/Bt7Z2Lgdtx8PT71+q7HO51L/xm9bLGaAyFHbYYYfmjO8BBxzQ1ZfA99133yg/tMuNTq2tvP+1vBeynPnt9gyU962V90GWX4BaW9n3cran/MLX7fvvEvCm74FsZaCUv3JTWDn+5XJnudGltXXb5c/NM1De/lCuCJSfga2t/Fws/3/5fnnmmWe67jJ4vw+XfnpCBbCfINt9mvKm1/LxF+WGgNZW3idVLo92200g5fJXKX/lYyDKb7jl/X8bb603hJ933nlxwQUXNP9USnK5UaQbbgJ55ZVXmkvZG2/l0la53FNueilnhMpvwN26/2W/TzrppOZs7sY3gZT9/fGPf9yc/er2DJTBXgpfuaOxtZXv85tvvjl+8YtfdP3+v95NIG+U+dYNAKUkl5JUtvJxMuUjYLrhJpBW+Xvqqaeay6DlhpeNt27a/7Jfm2fgxRdfbI7nxlt5n3D5dIzy87F8TFi3GbTbD7b34xTA7Sze+hiYchmjXAYun3/0ta99LX7+859HOVvSTVt5s3+5nHPXXXdt8tl/5bOvyucClq0UvdZALAWxvB+ylMVu+xiY1nHd+BJwL+x/udRb3u9a3rhfhnl5D2C5xF9yf/LJJ3d9Bspn/pU3+Zf3rZXC/+ijj0Z5j+unPvWpJvvdmIFy13u54ats5eaucrm7fAxQuRGq3OXazvd8Kczf/e53m4+BKevKZwKW4tAJHwPzRvtffuErd4GXy59l/8od4q2t7Gd5y0TZOnn/y+vfVgY2n3ObXwLuBoNOmOUKYIWjVM7+ffGLX2x+Cyp3w5a7Q8vHonTbVn7z29pWzn6UwVi21ofglgG58QdBF5du3DYvgL2w/2XQlZseyhmP8haAcvmndRdwt2egnAX+3Oc+15wFf+GFF5ozvuXu38svv7xv2HdbBsovcKXwbb6V9zyWQtfO/pabI8p7J8svkBt/EHS5RDjYtzfa//KZdxu/DWbjfSlnA8vPh7J18v6X17+tDLRTADvdYLDntLw+BbATjpLXSIAAAQIECBDoRwEFsB8xPRUBAgQIECBAoBMEFMBOOEpeIwECBAgQIECgHwUUwH7E9FQECBAgQIAAgU4QUAA74Sh5jQQIECBAgACBfhRQAPsR01MRIECAAAECBDpBQAHshKPkNRIgQIAAAQIE+lFAAexHTE9FgAABAgQIEOgEAQWwE46S10iAAAECBAgQ6EcBBbAfMT0VAQIECBAgQKATBBTATjhKXiMBAgQIECBAoB8FFMB+xPRUBAgQIECAAIFOEFAAO+EoeY0ECBAgQIAAgX4UUAD7EdNTESBAgAABAgQ6QUAB7ISj5DUSIECAAAECBPpRQAHsR0xPRYAAAQIECBDoBAEFsBOOktdIgAABAgQIEOhHAQWwHzE9FQECBAgQIECgEwQUwE44Sl4jAQIECBAgQKAfBRTAfsT0VAQIECBAgACBThBQADvhKHmNBAgQIECAAIF+FFAA+xHTUxEgQIAAAQIEOkFAAeyEo+Q1EiBAgAABAgT6UUAB7EdMT0WAAAECBAgQ6AQBBbATjpLXSIAAAQIECBDoRwEFsB8xPRUBAgQIECBAoBMEFMBOOEpeIwECBAgQIECgHwUUwH7E9FQECBAgQIAAgU4QUAA74Sh5jQQIECBAgACBfhRQAPsR01MRIECAAAECBDpBQAHshKPkNRIgQIAAAQIE+lFAAexHTE9FgAABAgQIEOgEgf8LPCCLm2ujqYAAAAAASUVORK5CYII=",
       "_figure_label": "Figure 1",
       "_model_module_version": "^0.11",
       "_size": [
        640,
        480
       ],
       "_view_module_version": "^0.11",
       "layout": "IPY_MODEL_bd5fa82ddda74bafba9c3e3f05dfcd98",
       "toolbar": "IPY_MODEL_c770fc5265da4284b7a60d8301a4d449",
       "toolbar_position": "left"
      }
     },
     "07f6978d2d794416916009820f08f6e2": {
      "model_module": "@jupyter-widgets/base",
      "model_module_version": "2.0.0",
      "model_name": "LayoutModel",
      "state": {}
     },
     "0ed9acd8eda14b6d98a71e99cccfc0f1": {
      "model_module": "@jupyter-widgets/controls",
      "model_module_version": "2.0.0",
      "model_name": "HTMLModel",
      "state": {
       "layout": "IPY_MODEL_43b327cd919444e49037799f109f0043",
       "style": "IPY_MODEL_77de00f432ae4d129d19e6d2b6ab4417",
       "value": "removing duplicates: 100%"
      }
     },
     "1e36b5c7411443b39902a3e01368afae": {
      "model_module": "@jupyter-widgets/base",
      "model_module_version": "2.0.0",
      "model_name": "LayoutModel",
      "state": {}
     },
     "24ed741416274a64811ddee17598e7df": {
      "model_module": "@jupyter-widgets/controls",
      "model_module_version": "2.0.0",
      "model_name": "HTMLModel",
      "state": {
       "layout": "IPY_MODEL_d5cc39ed4fea40a595002f1d8bfc164a",
       "style": "IPY_MODEL_f635adf3a51a4c4da89e5eca87c6324e",
       "value": " 18/18 [00:00&lt;00:00, 5290.27it/s]"
      }
     },
     "28ea1a1e1842456aaf26b2c26c93a825": {
      "model_module": "@jupyter-widgets/controls",
      "model_module_version": "2.0.0",
      "model_name": "HTMLModel",
      "state": {
       "layout": "IPY_MODEL_7f8851c4ddc54d31a03912f4fd421cc1",
       "style": "IPY_MODEL_89cb9a52150343d681b2513af4241c8e",
       "value": "removing duplicates: 100%"
      }
     },
     "2dc76c2c012b479081217bda8537a59e": {
      "model_module": "@jupyter-widgets/controls",
      "model_module_version": "2.0.0",
      "model_name": "ProgressStyleModel",
      "state": {
       "description_width": ""
      }
     },
     "2fa878a78fcf4abbb53781593576f752": {
      "model_module": "@jupyter-widgets/base",
      "model_module_version": "2.0.0",
      "model_name": "LayoutModel",
      "state": {}
     },
     "33e2c892ff90497e98a575d0b1dbe8b5": {
      "model_module": "@jupyter-widgets/base",
      "model_module_version": "2.0.0",
      "model_name": "LayoutModel",
      "state": {}
     },
     "36febe58fd1644afb661dfff3e5d8286": {
      "model_module": "@jupyter-widgets/base",
      "model_module_version": "2.0.0",
      "model_name": "LayoutModel",
      "state": {}
     },
     "388ffcf6c6194c9fbd4d0435a7980336": {
      "model_module": "@jupyter-widgets/controls",
      "model_module_version": "2.0.0",
      "model_name": "FloatProgressModel",
      "state": {
       "bar_style": "success",
       "layout": "IPY_MODEL_33e2c892ff90497e98a575d0b1dbe8b5",
       "max": 18,
       "style": "IPY_MODEL_2dc76c2c012b479081217bda8537a59e",
       "value": 18
      }
     },
     "3bf848ac289f482ba2872205f4f34302": {
      "model_module": "@jupyter-widgets/controls",
      "model_module_version": "2.0.0",
      "model_name": "FloatProgressModel",
      "state": {
       "bar_style": "success",
       "layout": "IPY_MODEL_65ae602e592142eb8ec2e21befdf4656",
       "max": 18,
       "style": "IPY_MODEL_734b681e18df44fe866d319be9d103a4",
       "value": 18
      }
     },
     "43b327cd919444e49037799f109f0043": {
      "model_module": "@jupyter-widgets/base",
      "model_module_version": "2.0.0",
      "model_name": "LayoutModel",
      "state": {}
     },
     "65ae602e592142eb8ec2e21befdf4656": {
      "model_module": "@jupyter-widgets/base",
      "model_module_version": "2.0.0",
      "model_name": "LayoutModel",
      "state": {}
     },
     "734b681e18df44fe866d319be9d103a4": {
      "model_module": "@jupyter-widgets/controls",
      "model_module_version": "2.0.0",
      "model_name": "ProgressStyleModel",
      "state": {
       "description_width": ""
      }
     },
     "77de00f432ae4d129d19e6d2b6ab4417": {
      "model_module": "@jupyter-widgets/controls",
      "model_module_version": "2.0.0",
      "model_name": "HTMLStyleModel",
      "state": {
       "description_width": "",
       "font_size": null,
       "text_color": null
      }
     },
     "7f8851c4ddc54d31a03912f4fd421cc1": {
      "model_module": "@jupyter-widgets/base",
      "model_module_version": "2.0.0",
      "model_name": "LayoutModel",
      "state": {}
     },
     "89cb9a52150343d681b2513af4241c8e": {
      "model_module": "@jupyter-widgets/controls",
      "model_module_version": "2.0.0",
      "model_name": "HTMLStyleModel",
      "state": {
       "description_width": "",
       "font_size": null,
       "text_color": null
      }
     },
     "92da3285ebee4ec8938070c87b5398be": {
      "model_module": "@jupyter-widgets/controls",
      "model_module_version": "2.0.0",
      "model_name": "HTMLModel",
      "state": {
       "layout": "IPY_MODEL_2fa878a78fcf4abbb53781593576f752",
       "style": "IPY_MODEL_bce2090f81864c83b7f0507a8b8ea8d8",
       "value": " 18/18 [00:00&lt;00:00, 3959.38it/s]"
      }
     },
     "ba1b755349844662860474b6c2c815a0": {
      "model_module": "@jupyter-widgets/controls",
      "model_module_version": "2.0.0",
      "model_name": "HBoxModel",
      "state": {
       "children": [
        "IPY_MODEL_0ed9acd8eda14b6d98a71e99cccfc0f1",
        "IPY_MODEL_3bf848ac289f482ba2872205f4f34302",
        "IPY_MODEL_92da3285ebee4ec8938070c87b5398be"
       ],
       "layout": "IPY_MODEL_36febe58fd1644afb661dfff3e5d8286"
      }
     },
     "bce2090f81864c83b7f0507a8b8ea8d8": {
      "model_module": "@jupyter-widgets/controls",
      "model_module_version": "2.0.0",
      "model_name": "HTMLStyleModel",
      "state": {
       "description_width": "",
       "font_size": null,
       "text_color": null
      }
     },
     "bd5fa82ddda74bafba9c3e3f05dfcd98": {
      "model_module": "@jupyter-widgets/base",
      "model_module_version": "2.0.0",
      "model_name": "LayoutModel",
      "state": {}
     },
     "c770fc5265da4284b7a60d8301a4d449": {
      "model_module": "jupyter-matplotlib",
      "model_module_version": "^0.11",
      "model_name": "ToolbarModel",
      "state": {
       "_model_module_version": "^0.11",
       "_view_module_version": "^0.11",
       "collapsed": true,
       "layout": "IPY_MODEL_07f6978d2d794416916009820f08f6e2",
       "orientation": "vertical",
       "toolitems": [
        [
         "Home",
         "Reset original view",
         "home",
         "home"
        ],
        [
         "Back",
         "Back to previous view",
         "arrow-left",
         "back"
        ],
        [
         "Forward",
         "Forward to next view",
         "arrow-right",
         "forward"
        ],
        [
         "Pan",
         "Left button pans, Right button zooms\nx/y fixes axis, CTRL fixes aspect",
         "arrows",
         "pan"
        ],
        [
         "Zoom",
         "Zoom to rectangle\nx/y fixes axis",
         "square-o",
         "zoom"
        ],
        [
         "Download",
         "Download plot",
         "floppy-o",
         "save_figure"
        ]
       ]
      }
     },
     "d5cc39ed4fea40a595002f1d8bfc164a": {
      "model_module": "@jupyter-widgets/base",
      "model_module_version": "2.0.0",
      "model_name": "LayoutModel",
      "state": {}
     },
     "f41471aae1e941cdbc407b230c5d2b38": {
      "model_module": "@jupyter-widgets/controls",
      "model_module_version": "2.0.0",
      "model_name": "HBoxModel",
      "state": {
       "children": [
        "IPY_MODEL_28ea1a1e1842456aaf26b2c26c93a825",
        "IPY_MODEL_388ffcf6c6194c9fbd4d0435a7980336",
        "IPY_MODEL_24ed741416274a64811ddee17598e7df"
       ],
       "layout": "IPY_MODEL_1e36b5c7411443b39902a3e01368afae"
      }
     },
     "f635adf3a51a4c4da89e5eca87c6324e": {
      "model_module": "@jupyter-widgets/controls",
      "model_module_version": "2.0.0",
      "model_name": "HTMLStyleModel",
      "state": {
       "description_width": "",
       "font_size": null,
       "text_color": null
      }
     }
    },
    "version_major": 2,
    "version_minor": 0
   }
  }
 },
 "nbformat": 4,
 "nbformat_minor": 4
}
