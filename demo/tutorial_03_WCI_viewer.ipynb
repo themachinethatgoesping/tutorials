{
 "cells": [
  {
   "cell_type": "markdown",
   "metadata": {},
   "source": [
    "# Tutorial 3: WCI Viewer widget\n",
    "### `themachinethatgoesping` tutorial series\n",
    "\n",
    "`themachinethatgoesping` concepts covered:\n",
    "- Start WCI viewer"
   ]
  },
  {
   "cell_type": "code",
   "execution_count": 1,
   "metadata": {
    "execution": {
     "iopub.execute_input": "2025-01-03T21:34:39.608052Z",
     "iopub.status.busy": "2025-01-03T21:34:39.607750Z",
     "iopub.status.idle": "2025-01-03T21:34:40.890625Z",
     "shell.execute_reply": "2025-01-03T21:34:40.890136Z",
     "shell.execute_reply.started": "2025-01-03T21:34:39.608014Z"
    }
   },
   "outputs": [],
   "source": [
    "%matplotlib widget\n",
    "\n",
    "import numpy as np\n",
    "import themachinethatgoesping as theping\n",
    "from matplotlib import pyplot as plt\n",
    "from tqdm.auto import tqdm"
   ]
  },
  {
   "cell_type": "code",
   "execution_count": 2,
   "metadata": {
    "execution": {
     "iopub.execute_input": "2025-01-03T21:34:40.891459Z",
     "iopub.status.busy": "2025-01-03T21:34:40.891225Z",
     "iopub.status.idle": "2025-01-03T21:34:40.916933Z",
     "shell.execute_reply": "2025-01-03T21:34:40.916606Z",
     "shell.execute_reply.started": "2025-01-03T21:34:40.891446Z"
    }
   },
   "outputs": [
    {
     "name": "stdout",
     "output_type": "stream",
     "text": [
      "Found 18 files\n",
      "indexing files ⠐ 100% [00m:00s<00m:00s] [..0871266855321420.all (1/18)]                               \n",
      "indexing files ⠠ 100% [00m:00s<00m:00s] [..3008643552583898.wcd (18/18)]                                \n",
      "indexing files ⢀ 100% [00m:00s<00m:00s] [Found: 729 datagrams in 18 files (10MB)]                                         \n",
      "Initializing ping interface ⢀ 90% [00m:00s<00m:00s] [Done]                                              \n"
     ]
    },
    {
     "name": "stderr",
     "output_type": "stream",
     "text": [
      "WARNING: get_depth_sensor_offsets: Only DSH (Depth (pressure) sensor heave) == NI is supported yet, but DSH is IN\n",
      "WARNING: get_depth_sensor_offsets: Only DSH (Depth (pressure) sensor heave) == NI is supported yet, but DSH is IN\n"
     ]
    }
   ],
   "source": [
    "# data folder\n",
    "folder = '../unittest_data'\n",
    "\n",
    "# find all Kongsberg files in the list of folders\n",
    "files = theping.echosounders.index_functions.find_files(folder,['.all','.wcd'])\n",
    "files.sort()\n",
    "\n",
    "# create the file handler\n",
    "fileHandler = theping.echosounders.kongsbergall.KongsbergAllFileHandler(files)\n",
    "\n",
    "# get pings that contain WCD\n",
    "pings = theping.pingprocessing.filter_pings.by_features(fileHandler.get_pings(),['watercolumn.amplitudes'])"
   ]
  },
  {
   "cell_type": "markdown",
   "metadata": {},
   "source": [
    "### Start WCI viewer\n",
    "\n",
    "Built-in widget to view and explore water-column data"
   ]
  },
  {
   "cell_type": "code",
   "execution_count": 3,
   "metadata": {
    "execution": {
     "iopub.execute_input": "2025-01-03T21:34:41.727365Z",
     "iopub.status.busy": "2025-01-03T21:34:41.727146Z",
     "iopub.status.idle": "2025-01-03T21:34:42.160471Z",
     "shell.execute_reply": "2025-01-03T21:34:42.160139Z",
     "shell.execute_reply.started": "2025-01-03T21:34:41.727352Z"
    }
   },
   "outputs": [
    {
     "data": {
      "application/vnd.jupyter.widget-view+json": {
       "model_id": "b651fd98ed39484e8d34f81ed8a084b1",
       "version_major": 2,
       "version_minor": 0
      },
      "text/plain": [
       "VBox(children=(Canvas(toolbar=Toolbar(toolitems=[('Home', 'Reset original view', 'home', 'home'), ('Back', 'Ba…"
      ]
     },
     "metadata": {},
     "output_type": "display_data"
    }
   ],
   "source": [
    "# check data with the WCI Viewer\n",
    "viewer = theping.pingprocessing.widgets.WCIViewer(pings)\n",
    "viewer.w_index.value = 60 # select ping nr 60 at start"
   ]
  },
  {
   "cell_type": "markdown",
   "metadata": {},
   "source": [
    "Basic usage:\n",
    "* Switch display between beam-vs-sample view and wedge view with the `wci_render` dropdown menu\n",
    "* Swith xy aspect with the `aspect` dropdown menu. Choose between `auto` (stretch) or `equal` (equal x and y dimensions)\n",
    "* Change ping number with the `ping nr` slider\n",
    "* Click the `fix x/y` button to fix the x/y axis limits to the current view. Click on `unfix x/y` to revert to automatic axis limits\n",
    "* Change the variable displayed with the `wci value` dropdown menu"
   ]
  },
  {
   "cell_type": "markdown",
   "metadata": {},
   "source": [
    "---------------------\n",
    "### Dual head support\n",
    "\n",
    "If you have dual head systems you can group the ping data before displaying them.\n",
    "The viewer will display the date without overlap."
   ]
  },
  {
   "cell_type": "code",
   "execution_count": 20,
   "metadata": {
    "execution": {
     "iopub.execute_input": "2024-11-20T10:38:10.544678Z",
     "iopub.status.busy": "2024-11-20T10:38:10.544418Z",
     "iopub.status.idle": "2024-11-20T10:38:10.819028Z",
     "shell.execute_reply": "2024-11-20T10:38:10.818604Z",
     "shell.execute_reply.started": "2024-11-20T10:38:10.544665Z"
    }
   },
   "outputs": [
    {
     "name": "stdout",
     "output_type": "stream",
     "text": [
      "<class 'list'>\n"
     ]
    },
    {
     "data": {
      "application/vnd.jupyter.widget-view+json": {
       "model_id": "88a35c54f39641d68176b02c652e1a8a",
       "version_major": 2,
       "version_minor": 0
      },
      "text/plain": [
       "VBox(children=(Canvas(toolbar=Toolbar(toolitems=[('Home', 'Reset original view', 'home', 'home'), ('Back', 'Ba…"
      ]
     },
     "metadata": {},
     "output_type": "display_data"
    }
   ],
   "source": [
    "# Note if you have dual head systems you can group head data\n",
    "grouped_pings = theping.pingprocessing.group_pings.dual_head(pings)\n",
    "print(type(grouped_pings))\n",
    "viewer = theping.pingprocessing.widgets.WCIViewer(grouped_pings,name = 'WCI (Dual head grouped)')\n",
    "viewer.w_index.value = 60 # select ping nr 60 at start"
   ]
  },
  {
   "cell_type": "code",
   "execution_count": null,
   "metadata": {},
   "outputs": [],
   "source": []
  }
 ],
 "metadata": {
  "kernelspec": {
   "display_name": "Python 3 (ipykernel)",
   "language": "python",
   "name": "python3"
  },
  "language_info": {
   "codemirror_mode": {
    "name": "ipython",
    "version": 3
   },
   "file_extension": ".py",
   "mimetype": "text/x-python",
   "name": "python",
   "nbconvert_exporter": "python",
   "pygments_lexer": "ipython3",
   "version": "3.12.8"
  },
  "widgets": {
   "application/vnd.jupyter.widget-state+json": {
    "state": {
     "006d0f700d81465594118768e8f91b3e": {
      "model_module": "@jupyter-widgets/base",
      "model_module_version": "2.0.0",
      "model_name": "LayoutModel",
      "state": {
       "_view_name": "ErrorWidgetView",
       "error": {},
       "msg": "Failed to load model class 'LayoutModel' from module '@jupyter-widgets/base'"
      }
     },
     "0078b212a57d44a0ba0f6765064136bc": {
      "model_module": "@jupyter-widgets/base",
      "model_module_version": "2.0.0",
      "model_name": "LayoutModel",
      "state": {
       "_view_name": "ErrorWidgetView",
       "error": {},
       "msg": "Failed to load model class 'LayoutModel' from module '@jupyter-widgets/base'"
      }
     },
     "00a7d50a5b45466cb8c5473cffe9c985": {
      "model_module": "@jupyter-widgets/controls",
      "model_module_version": "2.0.0",
      "model_name": "DropdownModel",
      "state": {
       "_options_labels": [
        "antialiased",
        "none",
        "nearest",
        "bilinear",
        "bicubic",
        "spline16",
        "spline36",
        "hanning",
        "hamming",
        "hermite",
        "kaiser",
        "quadric",
        "catrom",
        "gaussian",
        "bessel",
        "mitchell",
        "sinc",
        "lanczos",
        "blackman"
       ],
       "_view_name": "ErrorWidgetView",
       "description": "interpolation",
       "error": {},
       "index": 2,
       "layout": "IPY_MODEL_c6baa6b990b14e8a969296d3480e1c4b",
       "msg": "Failed to load model class 'DropdownModel' from module '@jupyter-widgets/controls'",
       "style": "IPY_MODEL_8d8b4c6e1f4d4d5c9bd6516aff90ee9d"
      }
     },
     "013bef50d65f45dc8bc34f6f64dd03ed": {
      "model_module": "@jupyter-widgets/controls",
      "model_module_version": "2.0.0",
      "model_name": "TextModel",
      "state": {
       "_view_name": "ErrorWidgetView",
       "description": "proc rate",
       "error": {},
       "layout": "IPY_MODEL_dd348a1e3598416d92241bb38e0da7d8",
       "msg": "Failed to load model class 'TextModel' from module '@jupyter-widgets/controls'",
       "style": "IPY_MODEL_c7aaf2a1b930472c81c08dbb9ba3a504",
       "value": "r1: 38.9 / r2: 8.3 / r3: [6.8] Hz"
      }
     },
     "015cea124b6c4478a3fd59b33fb7a883": {
      "model_module": "@jupyter-widgets/controls",
      "model_module_version": "2.0.0",
      "model_name": "ButtonStyleModel",
      "state": {
       "_view_name": "ErrorWidgetView",
       "error": {},
       "msg": "Failed to load model class 'ButtonStyleModel' from module '@jupyter-widgets/controls'"
      }
     },
     "016a8aa48b9a4ac2ab2f314660fc775d": {
      "model_module": "@jupyter-widgets/controls",
      "model_module_version": "2.0.0",
      "model_name": "ButtonModel",
      "state": {
       "_view_name": "ErrorWidgetView",
       "description": "unfix x/y",
       "error": {},
       "layout": "IPY_MODEL_6d1254839c9e4b83b4e57d2d41cbf5ac",
       "msg": "Failed to load model class 'ButtonModel' from module '@jupyter-widgets/controls'",
       "style": "IPY_MODEL_a31146971efd4be2aaf0e7a3e862b6ef"
      }
     },
     "016eeed732a442f8952b15af8aa075e6": {
      "model_module": "@jupyter-widgets/base",
      "model_module_version": "2.0.0",
      "model_name": "LayoutModel",
      "state": {
       "_view_name": "ErrorWidgetView",
       "error": {},
       "msg": "Failed to load model class 'LayoutModel' from module '@jupyter-widgets/base'"
      }
     },
     "01db9440fc9741ad8d9692b6b081609b": {
      "model_module": "@jupyter-widgets/base",
      "model_module_version": "2.0.0",
      "model_name": "LayoutModel",
      "state": {
       "_view_name": "ErrorWidgetView",
       "error": {},
       "msg": "Failed to load model class 'LayoutModel' from module '@jupyter-widgets/base'",
       "width": "15%"
      }
     },
     "021e00161a174dd6888bf06ae455a529": {
      "model_module": "@jupyter-widgets/controls",
      "model_module_version": "2.0.0",
      "model_name": "DescriptionStyleModel",
      "state": {
       "_view_name": "ErrorWidgetView",
       "description_width": "",
       "error": {},
       "msg": "Failed to load model class 'DescriptionStyleModel' from module '@jupyter-widgets/controls'"
      }
     },
     "033fce0299834460b102ddee0848fafc": {
      "model_module": "@jupyter-widgets/controls",
      "model_module_version": "2.0.0",
      "model_name": "DescriptionStyleModel",
      "state": {
       "_view_name": "ErrorWidgetView",
       "description_width": "",
       "error": {},
       "msg": "Failed to load model class 'DescriptionStyleModel' from module '@jupyter-widgets/controls'"
      }
     },
     "0349e8e0a0c64204beb2eefa006bcc60": {
      "model_module": "@jupyter-widgets/base",
      "model_module_version": "2.0.0",
      "model_name": "LayoutModel",
      "state": {
       "_view_name": "ErrorWidgetView",
       "error": {},
       "msg": "Failed to load model class 'LayoutModel' from module '@jupyter-widgets/base'"
      }
     },
     "0368ecdebe454474baa47150a9a68823": {
      "model_module": "@jupyter-widgets/controls",
      "model_module_version": "2.0.0",
      "model_name": "DropdownModel",
      "state": {
       "_options_labels": [
        "auto",
        "equal"
       ],
       "_view_name": "ErrorWidgetView",
       "description": "aspect",
       "error": {},
       "index": 1,
       "layout": "IPY_MODEL_7be06066168447f48fbcf8618cbdbbd8",
       "msg": "Failed to load model class 'DropdownModel' from module '@jupyter-widgets/controls'",
       "style": "IPY_MODEL_430c3b575bd74e089159b5d178380d7f"
      }
     },
     "036b6c861d7e4d8f9aeb810df1336d7d": {
      "model_module": "@jupyter-widgets/controls",
      "model_module_version": "2.0.0",
      "model_name": "DescriptionStyleModel",
      "state": {
       "_view_name": "ErrorWidgetView",
       "description_width": "",
       "error": {},
       "msg": "Failed to load model class 'DescriptionStyleModel' from module '@jupyter-widgets/controls'"
      }
     },
     "0395db9a436a4bfd834632093993c130": {
      "model_module": "@jupyter-widgets/controls",
      "model_module_version": "2.0.0",
      "model_name": "VBoxModel",
      "state": {
       "_view_name": "ErrorWidgetView",
       "children": [
        "IPY_MODEL_5528fb18837d4d3093f571a6baf3490f",
        "IPY_MODEL_4cbea26ffcb34d9c8648c1d700301139",
        "IPY_MODEL_786fbfbb472c42b5b23986bfb75a55e2",
        "IPY_MODEL_e42698f99529470f91fa3274c48f5c20",
        "IPY_MODEL_e7aff0173e284c1685652ab5bdb389c5",
        "IPY_MODEL_dc76e19b4ac34dfdaa3905505a81905b"
       ],
       "error": {},
       "layout": "IPY_MODEL_a5113385910b4282a158fcc567ba20ea",
       "msg": "Failed to load model class 'VBoxModel' from module '@jupyter-widgets/controls'"
      }
     },
     "03c4a66cdb86414a9021ff6bcd6b66bb": {
      "model_module": "@jupyter-widgets/base",
      "model_module_version": "2.0.0",
      "model_name": "LayoutModel",
      "state": {
       "_view_name": "ErrorWidgetView",
       "error": {},
       "msg": "Failed to load model class 'LayoutModel' from module '@jupyter-widgets/base'",
       "width": "10%"
      }
     },
     "03dad326a7fd4d1d9d5180ac9d84e72e": {
      "model_module": "@jupyter-widgets/base",
      "model_module_version": "2.0.0",
      "model_name": "LayoutModel",
      "state": {
       "_view_name": "ErrorWidgetView",
       "error": {},
       "msg": "Failed to load model class 'LayoutModel' from module '@jupyter-widgets/base'"
      }
     },
     "04066b51f3ff4703879f2c9e87d91a5b": {
      "model_module": "@jupyter-widgets/base",
      "model_module_version": "2.0.0",
      "model_name": "LayoutModel",
      "state": {
       "_view_name": "ErrorWidgetView",
       "error": {},
       "msg": "Failed to load model class 'LayoutModel' from module '@jupyter-widgets/base'"
      }
     },
     "043505a46f9d47f5a93ecdb814454dc0": {
      "model_module": "@jupyter-widgets/base",
      "model_module_version": "2.0.0",
      "model_name": "LayoutModel",
      "state": {
       "_view_name": "ErrorWidgetView",
       "error": {},
       "msg": "Failed to load model class 'LayoutModel' from module '@jupyter-widgets/base'",
       "width": "10%"
      }
     },
     "04474c76e5444dea856fbd781ea05f3a": {
      "model_module": "@jupyter-widgets/base",
      "model_module_version": "2.0.0",
      "model_name": "LayoutModel",
      "state": {
       "_view_name": "ErrorWidgetView",
       "error": {},
       "msg": "Failed to load model class 'LayoutModel' from module '@jupyter-widgets/base'"
      }
     },
     "04b8b553a15a473baabedbdd1bbbd065": {
      "model_module": "@jupyter-widgets/controls",
      "model_module_version": "2.0.0",
      "model_name": "FloatSliderModel",
      "state": {
       "_view_name": "ErrorWidgetView",
       "description": "vmax",
       "error": {},
       "layout": "IPY_MODEL_7c526db8993a4bd7bf8de5c5ae91196e",
       "min": -150,
       "msg": "Failed to load model class 'FloatSliderModel' from module '@jupyter-widgets/controls'",
       "step": 5,
       "style": "IPY_MODEL_be595f1b904d4d5383f6c1be4ac7e2f4",
       "value": -25
      }
     },
     "04d01683a8704b738bdca83363c4873a": {
      "model_module": "@jupyter-widgets/controls",
      "model_module_version": "2.0.0",
      "model_name": "HBoxModel",
      "state": {
       "_view_name": "ErrorWidgetView",
       "children": [
        "IPY_MODEL_d5085d34491a431b81afaf40b24e5c94",
        "IPY_MODEL_85747833283b49e39ea64204877c2ce7",
        "IPY_MODEL_016a8aa48b9a4ac2ab2f314660fc775d",
        "IPY_MODEL_ee7c454899ed4019826027f1626db9d1",
        "IPY_MODEL_5fcddaa59dce44719e0f5b1e8e767376"
       ],
       "error": {},
       "layout": "IPY_MODEL_56b597a174494011931070ddf0c2b781",
       "msg": "Failed to load model class 'HBoxModel' from module '@jupyter-widgets/controls'"
      }
     },
     "055c4d30507749dea764a73cf1a64193": {
      "model_module": "@jupyter-widgets/base",
      "model_module_version": "2.0.0",
      "model_name": "LayoutModel",
      "state": {}
     },
     "058668a482c744458dfe29a94c34100f": {
      "model_module": "@jupyter-widgets/controls",
      "model_module_version": "2.0.0",
      "model_name": "TextModel",
      "state": {
       "_view_name": "ErrorWidgetView",
       "error": {},
       "layout": "IPY_MODEL_58f1c579135b497ead8021a6e73e0624",
       "msg": "Failed to load model class 'TextModel' from module '@jupyter-widgets/controls'",
       "style": "IPY_MODEL_ce7c867b3f8d42c7a5b921907c6fcbd1",
       "value": "17:37:53"
      }
     },
     "058e2f3596d04ce3bbadaaf4f38c3371": {
      "model_module": "@jupyter-widgets/controls",
      "model_module_version": "2.0.0",
      "model_name": "DescriptionStyleModel",
      "state": {
       "_view_name": "ErrorWidgetView",
       "description_width": "",
       "error": {},
       "msg": "Failed to load model class 'DescriptionStyleModel' from module '@jupyter-widgets/controls'"
      }
     },
     "05d58e11693e43c792e9627a0979a4eb": {
      "model_module": "@jupyter-widgets/base",
      "model_module_version": "2.0.0",
      "model_name": "LayoutModel",
      "state": {
       "_view_name": "ErrorWidgetView",
       "error": {},
       "msg": "Failed to load model class 'LayoutModel' from module '@jupyter-widgets/base'",
       "width": "15%"
      }
     },
     "05fd49e3a2eb40278a5707d4e875da63": {
      "model_module": "@jupyter-widgets/controls",
      "model_module_version": "2.0.0",
      "model_name": "DropdownModel",
      "state": {
       "_options_labels": [
        "sv/av/pv/rv",
        "sv/av/pv",
        "sv/av",
        "sp/ap/pp/rp",
        "sp/ap/pp",
        "sp/ap",
        "power/amp",
        "av",
        "ap",
        "amp",
        "sv",
        "sp",
        "pv",
        "pp",
        "rv",
        "rp",
        "power"
       ],
       "_view_name": "ErrorWidgetView",
       "description": "wci value",
       "error": {},
       "index": 0,
       "layout": "IPY_MODEL_e073ffda14724be59fd9da030542586e",
       "msg": "Failed to load model class 'DropdownModel' from module '@jupyter-widgets/controls'",
       "style": "IPY_MODEL_64bb7d81d1c0456e8d41dafa12cad5a5"
      }
     },
     "0660ed7c79e6442083c42f75da6ac520": {
      "model_module": "@jupyter-widgets/base",
      "model_module_version": "2.0.0",
      "model_name": "LayoutModel",
      "state": {
       "_view_name": "ErrorWidgetView",
       "error": {},
       "msg": "Failed to load model class 'LayoutModel' from module '@jupyter-widgets/base'",
       "width": "15%"
      }
     },
     "068f5411e7e446ac835354bfec83d179": {
      "model_module": "@jupyter-widgets/controls",
      "model_module_version": "2.0.0",
      "model_name": "FloatSliderModel",
      "state": {
       "_view_name": "ErrorWidgetView",
       "description": "vmin",
       "error": {},
       "layout": "IPY_MODEL_6d49a21f3239425fb0879b03b274e2fd",
       "min": -150,
       "msg": "Failed to load model class 'FloatSliderModel' from module '@jupyter-widgets/controls'",
       "step": 5,
       "style": "IPY_MODEL_6d873b8853ad4c0298455cf5f8c02fa0",
       "value": -90
      }
     },
     "06b3a3d0173c4dbf9702b10d0ca07aa4": {
      "model_module": "@jupyter-widgets/controls",
      "model_module_version": "2.0.0",
      "model_name": "DescriptionStyleModel",
      "state": {
       "_view_name": "ErrorWidgetView",
       "description_width": "",
       "error": {},
       "msg": "Failed to load model class 'DescriptionStyleModel' from module '@jupyter-widgets/controls'"
      }
     },
     "06c41bdbaf1f46b1a2c263863e6813eb": {
      "model_module": "@jupyter-widgets/controls",
      "model_module_version": "2.0.0",
      "model_name": "ButtonStyleModel",
      "state": {
       "_view_name": "ErrorWidgetView",
       "error": {},
       "msg": "Failed to load model class 'ButtonStyleModel' from module '@jupyter-widgets/controls'"
      }
     },
     "07101bcb703347c48d3f0eeb50a838ae": {
      "model_module": "@jupyter-widgets/controls",
      "model_module_version": "2.0.0",
      "model_name": "IntTextModel",
      "state": {
       "_view_name": "ErrorWidgetView",
       "description": "stack step:",
       "error": {},
       "layout": "IPY_MODEL_aef7c33cf8cd490ba6ac075587d24c74",
       "msg": "Failed to load model class 'IntTextModel' from module '@jupyter-widgets/controls'",
       "step": 1,
       "style": "IPY_MODEL_d4027e02e2174cb9aebfdf031cbf2dbf",
       "value": 1
      }
     },
     "07130a89f86c45d6bce2fe606c46072b": {
      "model_module": "@jupyter-widgets/controls",
      "model_module_version": "2.0.0",
      "model_name": "SliderStyleModel",
      "state": {
       "_view_name": "ErrorWidgetView",
       "description_width": "",
       "error": {},
       "msg": "Failed to load model class 'SliderStyleModel' from module '@jupyter-widgets/controls'"
      }
     },
     "072ef36d9e2d48ae80615d7a96b13be4": {
      "model_module": "@jupyter-widgets/controls",
      "model_module_version": "2.0.0",
      "model_name": "SliderStyleModel",
      "state": {
       "_view_name": "ErrorWidgetView",
       "description_width": "",
       "error": {},
       "msg": "Failed to load model class 'SliderStyleModel' from module '@jupyter-widgets/controls'"
      }
     },
     "073027eb1cd9454bbcbeb4af72ef5d32": {
      "model_module": "@jupyter-widgets/controls",
      "model_module_version": "2.0.0",
      "model_name": "ButtonStyleModel",
      "state": {
       "_view_name": "ErrorWidgetView",
       "error": {},
       "msg": "Failed to load model class 'ButtonStyleModel' from module '@jupyter-widgets/controls'"
      }
     },
     "07525bdb89c44e0e918b18d93a7de54c": {
      "model_module": "@jupyter-widgets/base",
      "model_module_version": "2.0.0",
      "model_name": "LayoutModel",
      "state": {
       "_view_name": "ErrorWidgetView",
       "error": {},
       "msg": "Failed to load model class 'LayoutModel' from module '@jupyter-widgets/base'",
       "width": "10%"
      }
     },
     "075ebeafc49c411e9152dd78acc0a360": {
      "model_module": "@jupyter-widgets/controls",
      "model_module_version": "2.0.0",
      "model_name": "HBoxModel",
      "state": {
       "_view_name": "ErrorWidgetView",
       "children": [
        "IPY_MODEL_4886c377c62c476ba71840f051a71a83",
        "IPY_MODEL_05fd49e3a2eb40278a5707d4e875da63",
        "IPY_MODEL_578e3ead30b64b3aa8729d92b6b6a59a",
        "IPY_MODEL_3df0264db60e4362b107b5ed9590480d"
       ],
       "error": {},
       "layout": "IPY_MODEL_34b33dea973a4ddb80b1b546c4c38252",
       "msg": "Failed to load model class 'HBoxModel' from module '@jupyter-widgets/controls'"
      }
     },
     "078459c689fc4b4b99b9663ad866789c": {
      "model_module": "@jupyter-widgets/controls",
      "model_module_version": "2.0.0",
      "model_name": "HBoxModel",
      "state": {
       "_view_name": "ErrorWidgetView",
       "children": [
        "IPY_MODEL_849259261eb244cdb242bceb1b45a23e",
        "IPY_MODEL_3aea622ea24a4177b13ace26f47f8c27",
        "IPY_MODEL_3feaec51f3a542eaa5ea30322a0ea988",
        "IPY_MODEL_2ddf7ac9505c48b0bf14c4ec7e5111bc",
        "IPY_MODEL_6a810b550a6044e7acf1ff8b059d6917",
        "IPY_MODEL_1012e16cba4548bf809caeebae5ac65b"
       ],
       "error": {},
       "layout": "IPY_MODEL_c1433960793e4ada93dde3c9c187bfc6",
       "msg": "Failed to load model class 'HBoxModel' from module '@jupyter-widgets/controls'"
      }
     },
     "07ac16213679404b96bc754081aee9d7": {
      "model_module": "@jupyter-widgets/controls",
      "model_module_version": "2.0.0",
      "model_name": "TextModel",
      "state": {
       "_view_name": "ErrorWidgetView",
       "description": "proc time",
       "error": {},
       "layout": "IPY_MODEL_ad7e8da0fcf448059204c8b0b62ab02d",
       "msg": "Failed to load model class 'TextModel' from module '@jupyter-widgets/controls'",
       "style": "IPY_MODEL_033fce0299834460b102ddee0848fafc",
       "value": "0.026 / 0.121 / [0.147] s"
      }
     },
     "08010cd298e84a7180259dd48c543615": {
      "model_module": "@jupyter-widgets/controls",
      "model_module_version": "2.0.0",
      "model_name": "SliderStyleModel",
      "state": {
       "description_width": ""
      }
     },
     "087b0426b4624ed486610274d170b608": {
      "model_module": "@jupyter-widgets/controls",
      "model_module_version": "2.0.0",
      "model_name": "CheckboxModel",
      "state": {
       "_view_name": "ErrorWidgetView",
       "description": "stack_linear",
       "disabled": false,
       "error": {},
       "layout": "IPY_MODEL_922a0a8618454029b16bf79e407b30f2",
       "msg": "Failed to load model class 'CheckboxModel' from module '@jupyter-widgets/controls'",
       "style": "IPY_MODEL_7636b4b0136d41a3855a27cee8a19d3f",
       "value": true
      }
     },
     "08cba5f93de748d998806d72b4e7000e": {
      "model_module": "@jupyter-widgets/controls",
      "model_module_version": "2.0.0",
      "model_name": "DescriptionStyleModel",
      "state": {
       "_view_name": "ErrorWidgetView",
       "description_width": "",
       "error": {},
       "msg": "Failed to load model class 'DescriptionStyleModel' from module '@jupyter-widgets/controls'"
      }
     },
     "09237eec65554794a716d0eb7ea50be1": {
      "model_module": "@jupyter-widgets/base",
      "model_module_version": "2.0.0",
      "model_name": "LayoutModel",
      "state": {
       "_view_name": "ErrorWidgetView",
       "error": {},
       "msg": "Failed to load model class 'LayoutModel' from module '@jupyter-widgets/base'"
      }
     },
     "093ce6c271ad4b3dbe41652669345a98": {
      "model_module": "@jupyter-widgets/controls",
      "model_module_version": "2.0.0",
      "model_name": "DescriptionStyleModel",
      "state": {
       "_view_name": "ErrorWidgetView",
       "description_width": "",
       "error": {},
       "msg": "Failed to load model class 'DescriptionStyleModel' from module '@jupyter-widgets/controls'"
      }
     },
     "098754b678dd4754b35b32cf32058a9f": {
      "model_module": "@jupyter-widgets/controls",
      "model_module_version": "2.0.0",
      "model_name": "DescriptionStyleModel",
      "state": {
       "_view_name": "ErrorWidgetView",
       "description_width": "",
       "error": {},
       "msg": "Failed to load model class 'DescriptionStyleModel' from module '@jupyter-widgets/controls'"
      }
     },
     "09b1a400f395473286f862e8cfd13851": {
      "model_module": "@jupyter-widgets/controls",
      "model_module_version": "2.0.0",
      "model_name": "SliderStyleModel",
      "state": {
       "_view_name": "ErrorWidgetView",
       "description_width": "",
       "error": {},
       "msg": "Failed to load model class 'SliderStyleModel' from module '@jupyter-widgets/controls'"
      }
     },
     "09db3c170a6f4a0691ad874e8ff71e94": {
      "model_module": "@jupyter-widgets/base",
      "model_module_version": "2.0.0",
      "model_name": "LayoutModel",
      "state": {
       "_view_name": "ErrorWidgetView",
       "error": {},
       "msg": "Failed to load model class 'LayoutModel' from module '@jupyter-widgets/base'"
      }
     },
     "09ddae877b9a47d7a862f711ea4ee297": {
      "model_module": "@jupyter-widgets/controls",
      "model_module_version": "2.0.0",
      "model_name": "HBoxModel",
      "state": {
       "_view_name": "ErrorWidgetView",
       "children": [
        "IPY_MODEL_f55b58b357d14db1bcf91e1fc7ff6c81",
        "IPY_MODEL_7eccf7d47eb44a59976b31fbb0ddbd27",
        "IPY_MODEL_85d601f362b1466b9aaa99f6d024f8d9",
        "IPY_MODEL_89ec5f3984814b5cb6952d789d3cb112",
        "IPY_MODEL_481274900ecc4971b1d3b65ae870d314"
       ],
       "error": {},
       "layout": "IPY_MODEL_de8a6cb1f79d4622974d75682a62de58",
       "msg": "Failed to load model class 'HBoxModel' from module '@jupyter-widgets/controls'"
      }
     },
     "09f20a55a7844e71b4350aa1b89dc469": {
      "model_module": "@jupyter-widgets/controls",
      "model_module_version": "2.0.0",
      "model_name": "DropdownModel",
      "state": {
       "_options_labels": [
        "auto",
        "equal"
       ],
       "_view_name": "ErrorWidgetView",
       "description": "aspect",
       "error": {},
       "index": 1,
       "layout": "IPY_MODEL_0d454e752e3c433db3dca51bece694ed",
       "msg": "Failed to load model class 'DropdownModel' from module '@jupyter-widgets/controls'",
       "style": "IPY_MODEL_e93d4a2dcdf24e04811ab2617de11edd"
      }
     },
     "0a914725836b4346abb4a3df338ede1b": {
      "model_module": "@jupyter-widgets/base",
      "model_module_version": "2.0.0",
      "model_name": "LayoutModel",
      "state": {
       "_view_name": "ErrorWidgetView",
       "error": {},
       "msg": "Failed to load model class 'LayoutModel' from module '@jupyter-widgets/base'"
      }
     },
     "0a915e6d6acc4b18af31e4401e8c195a": {
      "model_module": "@jupyter-widgets/controls",
      "model_module_version": "2.0.0",
      "model_name": "CheckboxModel",
      "state": {
       "_view_name": "ErrorWidgetView",
       "description": "stack_linear",
       "disabled": false,
       "error": {},
       "layout": "IPY_MODEL_9d29646c3cfc41fe8a22cd3b67ea5f9a",
       "msg": "Failed to load model class 'CheckboxModel' from module '@jupyter-widgets/controls'",
       "style": "IPY_MODEL_9d60538edcf94f8daa86eeed95be2178",
       "value": true
      }
     },
     "0aa0513303b0409cb1ec47c67686a195": {
      "model_module": "@jupyter-widgets/controls",
      "model_module_version": "2.0.0",
      "model_name": "DescriptionStyleModel",
      "state": {
       "_view_name": "ErrorWidgetView",
       "description_width": "",
       "error": {},
       "msg": "Failed to load model class 'DescriptionStyleModel' from module '@jupyter-widgets/controls'"
      }
     },
     "0aad08bc79b44dbe9ec8db4c31a1874b": {
      "model_module": "@jupyter-widgets/base",
      "model_module_version": "2.0.0",
      "model_name": "LayoutModel",
      "state": {
       "_view_name": "ErrorWidgetView",
       "error": {},
       "msg": "Failed to load model class 'LayoutModel' from module '@jupyter-widgets/base'",
       "width": "50%"
      }
     },
     "0af7ae5491f74563b3bb2474e5413439": {
      "model_module": "@jupyter-widgets/controls",
      "model_module_version": "2.0.0",
      "model_name": "ProgressStyleModel",
      "state": {
       "_view_name": "ErrorWidgetView",
       "description_width": "",
       "error": {},
       "msg": "Failed to load model class 'ProgressStyleModel' from module '@jupyter-widgets/controls'"
      }
     },
     "0b0fc4fca45d427aba519108ac5a2ed7": {
      "model_module": "@jupyter-widgets/base",
      "model_module_version": "2.0.0",
      "model_name": "LayoutModel",
      "state": {
       "_view_name": "ErrorWidgetView",
       "error": {},
       "msg": "Failed to load model class 'LayoutModel' from module '@jupyter-widgets/base'"
      }
     },
     "0b1fcfbe62c04a239829f7b8ec3b600a": {
      "model_module": "@jupyter-widgets/controls",
      "model_module_version": "2.0.0",
      "model_name": "DescriptionStyleModel",
      "state": {
       "_view_name": "ErrorWidgetView",
       "description_width": "",
       "error": {},
       "msg": "Failed to load model class 'DescriptionStyleModel' from module '@jupyter-widgets/controls'"
      }
     },
     "0b4adbab75f049969280699fa0286326": {
      "model_module": "@jupyter-widgets/base",
      "model_module_version": "2.0.0",
      "model_name": "LayoutModel",
      "state": {
       "_view_name": "ErrorWidgetView",
       "error": {},
       "msg": "Failed to load model class 'LayoutModel' from module '@jupyter-widgets/base'"
      }
     },
     "0b7b21f801024b299b6393f3095ef4f8": {
      "model_module": "@jupyter-widgets/base",
      "model_module_version": "2.0.0",
      "model_name": "LayoutModel",
      "state": {
       "_view_name": "ErrorWidgetView",
       "error": {},
       "msg": "Failed to load model class 'LayoutModel' from module '@jupyter-widgets/base'",
       "width": "15%"
      }
     },
     "0b9c57ffaa52438bbd7dac62cec640bf": {
      "model_module": "@jupyter-widgets/controls",
      "model_module_version": "2.0.0",
      "model_name": "FloatSliderModel",
      "state": {
       "_view_name": "ErrorWidgetView",
       "description": "vmin",
       "error": {},
       "layout": "IPY_MODEL_eb663a79866747479a48e608388ce1f7",
       "min": -150,
       "msg": "Failed to load model class 'FloatSliderModel' from module '@jupyter-widgets/controls'",
       "step": 5,
       "style": "IPY_MODEL_eef1408bf69c4271835ca608c30ea25c",
       "value": -90
      }
     },
     "0bda903b2a794ec8ae859dd892d34403": {
      "model_module": "@jupyter-widgets/controls",
      "model_module_version": "2.0.0",
      "model_name": "DescriptionStyleModel",
      "state": {
       "_view_name": "ErrorWidgetView",
       "description_width": "",
       "error": {},
       "msg": "Failed to load model class 'DescriptionStyleModel' from module '@jupyter-widgets/controls'"
      }
     },
     "0c05b51f0e1841b49697076c4fadb976": {
      "model_module": "@jupyter-widgets/controls",
      "model_module_version": "2.0.0",
      "model_name": "VBoxModel",
      "state": {
       "_view_name": "ErrorWidgetView",
       "children": [
        "IPY_MODEL_60372c2ff389407a94d0999ea1c2c149",
        "IPY_MODEL_9404c194826540d988c364ae98f4059d",
        "IPY_MODEL_7d26c5a7019c416e83f84fd99b228e9e",
        "IPY_MODEL_56f79b159ddb47059a154e6a38fe75c9",
        "IPY_MODEL_17746d461a744bfdad8d7c0f0cca30fb",
        "IPY_MODEL_45160c6596834ea58aebe869aa6c0671"
       ],
       "error": {},
       "layout": "IPY_MODEL_7925011877cc459c9f84ee41bc260e27",
       "msg": "Failed to load model class 'VBoxModel' from module '@jupyter-widgets/controls'"
      }
     },
     "0c15487366434eb3b170a18d581c6418": {
      "model_module": "@jupyter-widgets/controls",
      "model_module_version": "2.0.0",
      "model_name": "SliderStyleModel",
      "state": {
       "_view_name": "ErrorWidgetView",
       "description_width": "",
       "error": {},
       "msg": "Failed to load model class 'SliderStyleModel' from module '@jupyter-widgets/controls'"
      }
     },
     "0c1e99fc1f1d4c6bae978a302e5796bb": {
      "model_module": "@jupyter-widgets/base",
      "model_module_version": "2.0.0",
      "model_name": "LayoutModel",
      "state": {
       "_view_name": "ErrorWidgetView",
       "error": {},
       "msg": "Failed to load model class 'LayoutModel' from module '@jupyter-widgets/base'",
       "width": "15%"
      }
     },
     "0c225f04af204006bd487dccfda4d2ce": {
      "model_module": "@jupyter-widgets/controls",
      "model_module_version": "2.0.0",
      "model_name": "IntTextModel",
      "state": {
       "_view_name": "ErrorWidgetView",
       "description": "stack step:",
       "error": {},
       "layout": "IPY_MODEL_1c4d85a11407487d804ab4b902d2acde",
       "msg": "Failed to load model class 'IntTextModel' from module '@jupyter-widgets/controls'",
       "step": 1,
       "style": "IPY_MODEL_87f0811998a44419a498818136cdd448",
       "value": 1
      }
     },
     "0c489e64fe804b9f967e41ea17f8e495": {
      "model_module": "@jupyter-widgets/controls",
      "model_module_version": "2.0.0",
      "model_name": "IntProgressModel",
      "state": {
       "_view_name": "ErrorWidgetView",
       "description": "Idle",
       "error": {},
       "layout": "IPY_MODEL_69bccf31a9e843da93d1b5a83a287554",
       "max": 10,
       "msg": "Failed to load model class 'IntProgressModel' from module '@jupyter-widgets/controls'",
       "style": "IPY_MODEL_5182cdc933a44685b7aaaf1e85ee0dae"
      }
     },
     "0cec985b5b1043a3afea18246baacd36": {
      "model_module": "@jupyter-widgets/controls",
      "model_module_version": "2.0.0",
      "model_name": "SliderStyleModel",
      "state": {
       "_view_name": "ErrorWidgetView",
       "description_width": "",
       "error": {},
       "msg": "Failed to load model class 'SliderStyleModel' from module '@jupyter-widgets/controls'"
      }
     },
     "0d454e752e3c433db3dca51bece694ed": {
      "model_module": "@jupyter-widgets/base",
      "model_module_version": "2.0.0",
      "model_name": "LayoutModel",
      "state": {
       "_view_name": "ErrorWidgetView",
       "error": {},
       "msg": "Failed to load model class 'LayoutModel' from module '@jupyter-widgets/base'"
      }
     },
     "0d4ea476e1544c00a4a7e1ef4afc3c71": {
      "model_module": "@jupyter-widgets/base",
      "model_module_version": "2.0.0",
      "model_name": "LayoutModel",
      "state": {
       "_view_name": "ErrorWidgetView",
       "error": {},
       "msg": "Failed to load model class 'LayoutModel' from module '@jupyter-widgets/base'"
      }
     },
     "0d5030961e2840afa9f20a0c65069d25": {
      "model_module": "@jupyter-widgets/base",
      "model_module_version": "2.0.0",
      "model_name": "LayoutModel",
      "state": {
       "_view_name": "ErrorWidgetView",
       "error": {},
       "msg": "Failed to load model class 'LayoutModel' from module '@jupyter-widgets/base'"
      }
     },
     "0d8eb5c88b4b47c08f50236e60e18544": {
      "model_module": "@jupyter-widgets/base",
      "model_module_version": "2.0.0",
      "model_name": "LayoutModel",
      "state": {
       "_view_name": "ErrorWidgetView",
       "error": {},
       "msg": "Failed to load model class 'LayoutModel' from module '@jupyter-widgets/base'"
      }
     },
     "0da53612b93d4d87b7656ef31cc4e971": {
      "model_module": "@jupyter-widgets/controls",
      "model_module_version": "2.0.0",
      "model_name": "DescriptionStyleModel",
      "state": {
       "_view_name": "ErrorWidgetView",
       "description_width": "",
       "error": {},
       "msg": "Failed to load model class 'DescriptionStyleModel' from module '@jupyter-widgets/controls'"
      }
     },
     "0dd9556f5df7477d90c299a269b6e2e2": {
      "model_module": "@jupyter-widgets/controls",
      "model_module_version": "2.0.0",
      "model_name": "TextModel",
      "state": {
       "_view_name": "ErrorWidgetView",
       "description": "proc rate",
       "error": {},
       "layout": "IPY_MODEL_a03f3e5cb65b48eabcae180366a20403",
       "msg": "Failed to load model class 'TextModel' from module '@jupyter-widgets/controls'",
       "style": "IPY_MODEL_dd8b1a4031444782aa53e5798c4c303d",
       "value": "r1: 65.0 / r2: 9.6 / r3: [8.3] Hz"
      }
     },
     "0dd97c4b7c2c4e17b7d02b5e7c85e0d5": {
      "model_module": "@jupyter-widgets/controls",
      "model_module_version": "2.0.0",
      "model_name": "IntTextModel",
      "state": {
       "_view_name": "ErrorWidgetView",
       "description": "stack:",
       "error": {},
       "layout": "IPY_MODEL_86c460b7b42040c48be1b667ac662b25",
       "msg": "Failed to load model class 'IntTextModel' from module '@jupyter-widgets/controls'",
       "step": 1,
       "style": "IPY_MODEL_06b3a3d0173c4dbf9702b10d0ca07aa4",
       "value": 1
      }
     },
     "0e1ca06b635748b2bf42a892cd02459e": {
      "model_module": "@jupyter-widgets/base",
      "model_module_version": "2.0.0",
      "model_name": "LayoutModel",
      "state": {
       "_view_name": "ErrorWidgetView",
       "error": {},
       "msg": "Failed to load model class 'LayoutModel' from module '@jupyter-widgets/base'",
       "width": "15%"
      }
     },
     "0e50d291177d41ab81e365cac48f8d48": {
      "model_module": "@jupyter-widgets/base",
      "model_module_version": "2.0.0",
      "model_name": "LayoutModel",
      "state": {
       "_view_name": "ErrorWidgetView",
       "error": {},
       "msg": "Failed to load model class 'LayoutModel' from module '@jupyter-widgets/base'"
      }
     },
     "0ea352b5005c412185748094bea231ac": {
      "model_module": "@jupyter-widgets/base",
      "model_module_version": "2.0.0",
      "model_name": "LayoutModel",
      "state": {
       "_view_name": "ErrorWidgetView",
       "error": {},
       "msg": "Failed to load model class 'LayoutModel' from module '@jupyter-widgets/base'",
       "width": "15%"
      }
     },
     "0ef350e3ad364f888c5ead6cc54cc012": {
      "model_module": "@jupyter-widgets/controls",
      "model_module_version": "2.0.0",
      "model_name": "DescriptionStyleModel",
      "state": {
       "_view_name": "ErrorWidgetView",
       "description_width": "",
       "error": {},
       "msg": "Failed to load model class 'DescriptionStyleModel' from module '@jupyter-widgets/controls'"
      }
     },
     "0f0f58d1dfc84c9abd7564c7e6fda0f5": {
      "model_module": "@jupyter-widgets/base",
      "model_module_version": "2.0.0",
      "model_name": "LayoutModel",
      "state": {
       "_view_name": "ErrorWidgetView",
       "error": {},
       "msg": "Failed to load model class 'LayoutModel' from module '@jupyter-widgets/base'",
       "width": "50%"
      }
     },
     "0f1c9a113cad49a480c23e0922282697": {
      "model_module": "@jupyter-widgets/base",
      "model_module_version": "2.0.0",
      "model_name": "LayoutModel",
      "state": {
       "_view_name": "ErrorWidgetView",
       "error": {},
       "msg": "Failed to load model class 'LayoutModel' from module '@jupyter-widgets/base'"
      }
     },
     "0f4aea2f94234d97968f1df66d943148": {
      "model_module": "@jupyter-widgets/controls",
      "model_module_version": "2.0.0",
      "model_name": "ButtonStyleModel",
      "state": {
       "_view_name": "ErrorWidgetView",
       "error": {},
       "msg": "Failed to load model class 'ButtonStyleModel' from module '@jupyter-widgets/controls'"
      }
     },
     "1012e16cba4548bf809caeebae5ac65b": {
      "model_module": "@jupyter-widgets/controls",
      "model_module_version": "2.0.0",
      "model_name": "IntTextModel",
      "state": {
       "_view_name": "ErrorWidgetView",
       "description": "mp_cores:",
       "error": {},
       "layout": "IPY_MODEL_41eb0f931d7b4e2292c392f800d9a44e",
       "msg": "Failed to load model class 'IntTextModel' from module '@jupyter-widgets/controls'",
       "step": 1,
       "style": "IPY_MODEL_447b5abf1d704d4d9d76051025ae1977",
       "value": 1
      }
     },
     "1016c932cecb49bf8c12e546be2710e3": {
      "model_module": "@jupyter-widgets/base",
      "model_module_version": "2.0.0",
      "model_name": "LayoutModel",
      "state": {
       "_view_name": "ErrorWidgetView",
       "error": {},
       "msg": "Failed to load model class 'LayoutModel' from module '@jupyter-widgets/base'"
      }
     },
     "1077d5e658904d36bdb2200021d840a5": {
      "model_module": "@jupyter-widgets/controls",
      "model_module_version": "2.0.0",
      "model_name": "DescriptionStyleModel",
      "state": {
       "_view_name": "ErrorWidgetView",
       "description_width": "",
       "error": {},
       "msg": "Failed to load model class 'DescriptionStyleModel' from module '@jupyter-widgets/controls'"
      }
     },
     "1091c98e8469454e8a400a1c514398a5": {
      "model_module": "@jupyter-widgets/controls",
      "model_module_version": "2.0.0",
      "model_name": "ProgressStyleModel",
      "state": {
       "_view_name": "ErrorWidgetView",
       "description_width": "",
       "error": {},
       "msg": "Failed to load model class 'ProgressStyleModel' from module '@jupyter-widgets/controls'"
      }
     },
     "10976214716b4126a62522094ec82b17": {
      "model_module": "@jupyter-widgets/base",
      "model_module_version": "2.0.0",
      "model_name": "LayoutModel",
      "state": {
       "_view_name": "ErrorWidgetView",
       "error": {},
       "msg": "Failed to load model class 'LayoutModel' from module '@jupyter-widgets/base'"
      }
     },
     "109f8a52c8324088b3827f2d7cda8284": {
      "model_module": "@jupyter-widgets/controls",
      "model_module_version": "2.0.0",
      "model_name": "DescriptionStyleModel",
      "state": {
       "_view_name": "ErrorWidgetView",
       "description_width": "",
       "error": {},
       "msg": "Failed to load model class 'DescriptionStyleModel' from module '@jupyter-widgets/controls'"
      }
     },
     "10d8cc770fda45419d58185e6b628377": {
      "model_module": "@jupyter-widgets/controls",
      "model_module_version": "2.0.0",
      "model_name": "HBoxModel",
      "state": {
       "_view_name": "ErrorWidgetView",
       "children": [
        "IPY_MODEL_3660432995514a5f8bd9274dfaa83c35",
        "IPY_MODEL_6ba4ad592cdf492db2e1544d6fc90dcf",
        "IPY_MODEL_b8b2041f0d144a848c670b1581396033",
        "IPY_MODEL_d85cbbc6b8ca4355b56e1cac18c67d34"
       ],
       "error": {},
       "layout": "IPY_MODEL_db16a4b573f746b180eae06fcfaefd17",
       "msg": "Failed to load model class 'HBoxModel' from module '@jupyter-widgets/controls'"
      }
     },
     "11458adb8fad4c85b701ce3af0c40614": {
      "model_module": "@jupyter-widgets/controls",
      "model_module_version": "2.0.0",
      "model_name": "IntTextModel",
      "state": {
       "_view_name": "ErrorWidgetView",
       "description": "mp_cores:",
       "error": {},
       "layout": "IPY_MODEL_9e1046dfa196472ba2d80f89716cf432",
       "msg": "Failed to load model class 'IntTextModel' from module '@jupyter-widgets/controls'",
       "step": 1,
       "style": "IPY_MODEL_5ba3dcf2e4eb42039bbcd3e4c4649647",
       "value": 1
      }
     },
     "11ab63b408864007857af9281eaa2717": {
      "model_module": "@jupyter-widgets/base",
      "model_module_version": "2.0.0",
      "model_name": "LayoutModel",
      "state": {
       "_view_name": "ErrorWidgetView",
       "error": {},
       "msg": "Failed to load model class 'LayoutModel' from module '@jupyter-widgets/base'"
      }
     },
     "1224a89624ac4846a4753e26d055dca8": {
      "model_module": "@jupyter-widgets/base",
      "model_module_version": "2.0.0",
      "model_name": "LayoutModel",
      "state": {
       "_view_name": "ErrorWidgetView",
       "error": {},
       "msg": "Failed to load model class 'LayoutModel' from module '@jupyter-widgets/base'"
      }
     },
     "124d171293ed40d39168347c11ebe4c0": {
      "model_module": "@jupyter-widgets/controls",
      "model_module_version": "2.0.0",
      "model_name": "HBoxModel",
      "state": {
       "_view_name": "ErrorWidgetView",
       "children": [
        "IPY_MODEL_45d4f31763d94bec8a740a699b9c7b7f",
        "IPY_MODEL_9ebdc927bbf6464199eaa60448f2921e",
        "IPY_MODEL_7d6fefda51e34ac1beb21be2e759e280",
        "IPY_MODEL_fbb9b835bded4818a6b6fb991673390a",
        "IPY_MODEL_3cf945e8a5834148b45ea564eaace977"
       ],
       "error": {},
       "layout": "IPY_MODEL_89a3265104de4e86ab4537721b0a02c5",
       "msg": "Failed to load model class 'HBoxModel' from module '@jupyter-widgets/controls'"
      }
     },
     "1257c6267a7b4773be30ab09169cd7ec": {
      "model_module": "@jupyter-widgets/base",
      "model_module_version": "2.0.0",
      "model_name": "LayoutModel",
      "state": {
       "_view_name": "ErrorWidgetView",
       "error": {},
       "msg": "Failed to load model class 'LayoutModel' from module '@jupyter-widgets/base'"
      }
     },
     "12caea445ea54528b6586364a8e88d4f": {
      "model_module": "@jupyter-widgets/controls",
      "model_module_version": "2.0.0",
      "model_name": "DropdownModel",
      "state": {
       "_options_labels": [
        "antialiased",
        "none",
        "nearest",
        "bilinear",
        "bicubic",
        "spline16",
        "spline36",
        "hanning",
        "hamming",
        "hermite",
        "kaiser",
        "quadric",
        "catrom",
        "gaussian",
        "bessel",
        "mitchell",
        "sinc",
        "lanczos",
        "blackman"
       ],
       "_view_name": "ErrorWidgetView",
       "description": "interpolation",
       "error": {},
       "index": 2,
       "layout": "IPY_MODEL_4d34969612bc4eed968f5d2881271c3b",
       "msg": "Failed to load model class 'DropdownModel' from module '@jupyter-widgets/controls'",
       "style": "IPY_MODEL_9b196dbd2dc645ac92d3fe8cd8fddebb"
      }
     },
     "1337a5e75f834fcb959b125a64598313": {
      "model_module": "@jupyter-widgets/base",
      "model_module_version": "2.0.0",
      "model_name": "LayoutModel",
      "state": {
       "_view_name": "ErrorWidgetView",
       "error": {},
       "msg": "Failed to load model class 'LayoutModel' from module '@jupyter-widgets/base'"
      }
     },
     "1338c42ca32b480bb0f4f434ee39826f": {
      "model_module": "@jupyter-widgets/base",
      "model_module_version": "2.0.0",
      "model_name": "LayoutModel",
      "state": {}
     },
     "1348d2267a744e3191ac6aba656e9af7": {
      "model_module": "@jupyter-widgets/base",
      "model_module_version": "2.0.0",
      "model_name": "LayoutModel",
      "state": {
       "_view_name": "ErrorWidgetView",
       "error": {},
       "msg": "Failed to load model class 'LayoutModel' from module '@jupyter-widgets/base'"
      }
     },
     "135bb933bb26461d918bc7e01d2ac747": {
      "model_module": "@jupyter-widgets/controls",
      "model_module_version": "2.0.0",
      "model_name": "HBoxModel",
      "state": {
       "_view_name": "ErrorWidgetView",
       "children": [
        "IPY_MODEL_6f4cbbfcfb794c87bbbbedf7f2b46a1e",
        "IPY_MODEL_ed89472ae8654cee8acf553dc31a8dae",
        "IPY_MODEL_2d4747f7852b49218202cce6ef2f29b0",
        "IPY_MODEL_789eee8f4a9b485e90e6ed4ffbf9c7b8",
        "IPY_MODEL_0dd9556f5df7477d90c299a269b6e2e2"
       ],
       "error": {},
       "layout": "IPY_MODEL_65b2735a13d6495cadf94e677821c42a",
       "msg": "Failed to load model class 'HBoxModel' from module '@jupyter-widgets/controls'"
      }
     },
     "13839c80fee540e7bd33684b3d448c80": {
      "model_module": "@jupyter-widgets/base",
      "model_module_version": "2.0.0",
      "model_name": "LayoutModel",
      "state": {
       "_view_name": "ErrorWidgetView",
       "error": {},
       "msg": "Failed to load model class 'LayoutModel' from module '@jupyter-widgets/base'"
      }
     },
     "13868d2b3e444eccab24142cde2cd896": {
      "model_module": "@jupyter-widgets/controls",
      "model_module_version": "2.0.0",
      "model_name": "DescriptionStyleModel",
      "state": {
       "_view_name": "ErrorWidgetView",
       "description_width": "",
       "error": {},
       "msg": "Failed to load model class 'DescriptionStyleModel' from module '@jupyter-widgets/controls'"
      }
     },
     "13af8b5d2e21429f9f72893633dda512": {
      "model_module": "@jupyter-widgets/controls",
      "model_module_version": "2.0.0",
      "model_name": "DescriptionStyleModel",
      "state": {
       "_view_name": "ErrorWidgetView",
       "description_width": "",
       "error": {},
       "msg": "Failed to load model class 'DescriptionStyleModel' from module '@jupyter-widgets/controls'"
      }
     },
     "14864a08d4dd43faaea313c92d9cbea1": {
      "model_module": "@jupyter-widgets/base",
      "model_module_version": "2.0.0",
      "model_name": "LayoutModel",
      "state": {
       "_view_name": "ErrorWidgetView",
       "error": {},
       "msg": "Failed to load model class 'LayoutModel' from module '@jupyter-widgets/base'",
       "width": "15%"
      }
     },
     "14eb3d8502944d328f48c8bb59825719": {
      "model_module": "@jupyter-widgets/controls",
      "model_module_version": "2.0.0",
      "model_name": "FloatSliderModel",
      "state": {
       "_view_name": "ErrorWidgetView",
       "description": "vmax",
       "error": {},
       "layout": "IPY_MODEL_7fcbe4ac958b4f50a7efcad8168d7475",
       "min": -150,
       "msg": "Failed to load model class 'FloatSliderModel' from module '@jupyter-widgets/controls'",
       "step": 5,
       "style": "IPY_MODEL_57d38bf0dec148a3806a414172544be1",
       "value": -25
      }
     },
     "15d0b5aacc4b4ba78a75ae88c57243ef": {
      "model_module": "@jupyter-widgets/base",
      "model_module_version": "2.0.0",
      "model_name": "LayoutModel",
      "state": {
       "_view_name": "ErrorWidgetView",
       "error": {},
       "msg": "Failed to load model class 'LayoutModel' from module '@jupyter-widgets/base'"
      }
     },
     "161469c3654c41458ce4ff708ba3b3be": {
      "model_module": "@jupyter-widgets/controls",
      "model_module_version": "2.0.0",
      "model_name": "DescriptionStyleModel",
      "state": {
       "_view_name": "ErrorWidgetView",
       "description_width": "",
       "error": {},
       "msg": "Failed to load model class 'DescriptionStyleModel' from module '@jupyter-widgets/controls'"
      }
     },
     "169064efbf124e3db06430b46af487fb": {
      "model_module": "@jupyter-widgets/controls",
      "model_module_version": "2.0.0",
      "model_name": "IntTextModel",
      "state": {
       "_view_name": "ErrorWidgetView",
       "description": "mp_cores:",
       "error": {},
       "layout": "IPY_MODEL_778b0a8bd987475d9cab893aa47b97f6",
       "msg": "Failed to load model class 'IntTextModel' from module '@jupyter-widgets/controls'",
       "step": 1,
       "style": "IPY_MODEL_dfc0ff3a7ed149ea953776834fbf9ed4",
       "value": 1
      }
     },
     "16f5b5c0651d4d25a361e084d836af3b": {
      "model_module": "@jupyter-widgets/controls",
      "model_module_version": "2.0.0",
      "model_name": "HBoxModel",
      "state": {
       "_view_name": "ErrorWidgetView",
       "children": [
        "IPY_MODEL_a6bff853547c4900ac3941c0723a3c44",
        "IPY_MODEL_a513124222da4adeb7f1bd5e4ee086b6",
        "IPY_MODEL_cb5eeae62971493d82e6464d421eaaf9",
        "IPY_MODEL_60f6d9e7e48b4518856279475290954e",
        "IPY_MODEL_5dfbc82512a04d64b71b7d1d0403eab9",
        "IPY_MODEL_cebfaf140e194d12a23ff5aed04a77b8"
       ],
       "error": {},
       "layout": "IPY_MODEL_76b3665c0e1743afb2bef582e810e66b",
       "msg": "Failed to load model class 'HBoxModel' from module '@jupyter-widgets/controls'"
      }
     },
     "1702b872a74b4071b07a922f3ecc4f68": {
      "model_module": "@jupyter-widgets/controls",
      "model_module_version": "2.0.0",
      "model_name": "FloatSliderModel",
      "state": {
       "behavior": "drag-tap",
       "description": "vmax",
       "layout": "IPY_MODEL_baf6ce4495134dd59de2982315b2bec3",
       "min": -150,
       "step": 5,
       "style": "IPY_MODEL_514f7e935a314fe48fa881636033bdec",
       "value": -25
      }
     },
     "17231af953c841e68d16666417a46c50": {
      "model_module": "@jupyter-widgets/controls",
      "model_module_version": "2.0.0",
      "model_name": "ButtonStyleModel",
      "state": {
       "font_family": null,
       "font_size": null,
       "font_style": null,
       "font_variant": null,
       "font_weight": null,
       "text_color": null,
       "text_decoration": null
      }
     },
     "1735be867d7940e78f626b6552e53c88": {
      "model_module": "@jupyter-widgets/controls",
      "model_module_version": "2.0.0",
      "model_name": "IntTextModel",
      "state": {
       "_view_name": "ErrorWidgetView",
       "description": "stack:",
       "error": {},
       "layout": "IPY_MODEL_0ea352b5005c412185748094bea231ac",
       "msg": "Failed to load model class 'IntTextModel' from module '@jupyter-widgets/controls'",
       "step": 1,
       "style": "IPY_MODEL_036b6c861d7e4d8f9aeb810df1336d7d",
       "value": 1
      }
     },
     "174f906cd50b450596988b6ca32c7341": {
      "model_module": "@jupyter-widgets/controls",
      "model_module_version": "2.0.0",
      "model_name": "ButtonModel",
      "state": {
       "_view_name": "ErrorWidgetView",
       "description": "unfix x/y",
       "error": {},
       "layout": "IPY_MODEL_c2e9004f1d1e48f19f4b4bd1f367ac01",
       "msg": "Failed to load model class 'ButtonModel' from module '@jupyter-widgets/controls'",
       "style": "IPY_MODEL_77a418982d284fc7b29b1d159841f548"
      }
     },
     "17746d461a744bfdad8d7c0f0cca30fb": {
      "model_module": "@jupyter-widgets/controls",
      "model_module_version": "2.0.0",
      "model_name": "HBoxModel",
      "state": {
       "_view_name": "ErrorWidgetView",
       "children": [
        "IPY_MODEL_47ba92b4e15645b4ad4bb77d891131c7",
        "IPY_MODEL_75054bad09014a929d292f6dba990f4e",
        "IPY_MODEL_cf71cc713f5140febf7466074c2a2ee7",
        "IPY_MODEL_2cca492411a6494b939d39f9cf9e22f6",
        "IPY_MODEL_53eae37232a14203a94d9d70f5b8086e",
        "IPY_MODEL_9b5a7a43887c43cc83bc5116327c203d"
       ],
       "error": {},
       "layout": "IPY_MODEL_ac90e2a605bc4e67a9df4c5b32c209d9",
       "msg": "Failed to load model class 'HBoxModel' from module '@jupyter-widgets/controls'"
      }
     },
     "17a85cbfeffe4ed39b5d23e1715f3dd6": {
      "model_module": "@jupyter-widgets/controls",
      "model_module_version": "2.0.0",
      "model_name": "TextModel",
      "state": {
       "_view_name": "ErrorWidgetView",
       "error": {},
       "layout": "IPY_MODEL_2a9ef50538444c65b0a1abdbce5cb1f4",
       "msg": "Failed to load model class 'TextModel' from module '@jupyter-widgets/controls'",
       "style": "IPY_MODEL_de94283fd8934e6dae3be958e251cf1c",
       "value": "17:48:13"
      }
     },
     "1869def48cd24d0ca5774786440a9e1e": {
      "model_module": "@jupyter-widgets/controls",
      "model_module_version": "2.0.0",
      "model_name": "DescriptionStyleModel",
      "state": {
       "_view_name": "ErrorWidgetView",
       "description_width": "",
       "error": {},
       "msg": "Failed to load model class 'DescriptionStyleModel' from module '@jupyter-widgets/controls'"
      }
     },
     "18c1bdd6a4ec40df9e8b43fd449e94ef": {
      "model_module": "@jupyter-widgets/controls",
      "model_module_version": "2.0.0",
      "model_name": "ButtonStyleModel",
      "state": {
       "_view_name": "ErrorWidgetView",
       "error": {},
       "msg": "Failed to load model class 'ButtonStyleModel' from module '@jupyter-widgets/controls'"
      }
     },
     "193659d05d88449383c0e604dfaa6ac3": {
      "model_module": "@jupyter-widgets/controls",
      "model_module_version": "2.0.0",
      "model_name": "HBoxModel",
      "state": {
       "_view_name": "ErrorWidgetView",
       "children": [
        "IPY_MODEL_5c57a75dfece498e940f78d87bc0868e",
        "IPY_MODEL_5620e92c6c83434081a0e619f6cbb361",
        "IPY_MODEL_675f8bcbed434b21834242d00b138ce6",
        "IPY_MODEL_aaa0bae950bf48d8b0197da504507202",
        "IPY_MODEL_6fd34199d93b465cab43cbb706a99662"
       ],
       "error": {},
       "layout": "IPY_MODEL_54ee2b18bc92429a92ea824cdc4e8c23",
       "msg": "Failed to load model class 'HBoxModel' from module '@jupyter-widgets/controls'"
      }
     },
     "196c2e2f349f42f1b079fc04ee17e7fb": {
      "model_module": "@jupyter-widgets/controls",
      "model_module_version": "2.0.0",
      "model_name": "ButtonModel",
      "state": {
       "_view_name": "ErrorWidgetView",
       "button_style": "warning",
       "description": "fix x/y",
       "error": {},
       "layout": "IPY_MODEL_da3ca02604fd41f88ed74d46d8c5b7e0",
       "msg": "Failed to load model class 'ButtonModel' from module '@jupyter-widgets/controls'",
       "style": "IPY_MODEL_489ca1148db84202870f1a76ff145de3"
      }
     },
     "19828682639549b2b23b79cdf7c8caf3": {
      "model_module": "@jupyter-widgets/base",
      "model_module_version": "2.0.0",
      "model_name": "LayoutModel",
      "state": {
       "_view_name": "ErrorWidgetView",
       "error": {},
       "msg": "Failed to load model class 'LayoutModel' from module '@jupyter-widgets/base'"
      }
     },
     "19d103caa8d14e799492f855668c9aab": {
      "model_module": "@jupyter-widgets/controls",
      "model_module_version": "2.0.0",
      "model_name": "IntSliderModel",
      "state": {
       "_view_name": "ErrorWidgetView",
       "description": "horizontal pixels",
       "error": {},
       "layout": "IPY_MODEL_ddbc82665e944c28ae234a7a3018c32f",
       "max": 2048,
       "min": 2,
       "msg": "Failed to load model class 'IntSliderModel' from module '@jupyter-widgets/controls'",
       "style": "IPY_MODEL_4b3f3d543ed94a1ca016bc3721f55c93",
       "value": 1024
      }
     },
     "1a2941c075754585b3622771d570775a": {
      "model_module": "@jupyter-widgets/base",
      "model_module_version": "2.0.0",
      "model_name": "LayoutModel",
      "state": {
       "_view_name": "ErrorWidgetView",
       "error": {},
       "msg": "Failed to load model class 'LayoutModel' from module '@jupyter-widgets/base'"
      }
     },
     "1a3e3001ca804a5f9d07f867e904ba32": {
      "model_module": "@jupyter-widgets/controls",
      "model_module_version": "2.0.0",
      "model_name": "HBoxModel",
      "state": {
       "_view_name": "ErrorWidgetView",
       "children": [
        "IPY_MODEL_f42f6542ab7e4a06aba87b15cda44fb1",
        "IPY_MODEL_ad9b4f7d35cc4ffeaf069fcf938a006d",
        "IPY_MODEL_6acd0cfd86ee402699167b6e72d19504"
       ],
       "error": {},
       "layout": "IPY_MODEL_d62a38cc282144a8a7f81eb631b2da9b",
       "msg": "Failed to load model class 'HBoxModel' from module '@jupyter-widgets/controls'"
      }
     },
     "1aeafcb95d5745c49d01d6af927a8438": {
      "model_module": "@jupyter-widgets/base",
      "model_module_version": "2.0.0",
      "model_name": "LayoutModel",
      "state": {
       "_view_name": "ErrorWidgetView",
       "error": {},
       "msg": "Failed to load model class 'LayoutModel' from module '@jupyter-widgets/base'"
      }
     },
     "1b097f502b0246ec85849ef700e26148": {
      "model_module": "@jupyter-widgets/base",
      "model_module_version": "2.0.0",
      "model_name": "LayoutModel",
      "state": {
       "_view_name": "ErrorWidgetView",
       "error": {},
       "msg": "Failed to load model class 'LayoutModel' from module '@jupyter-widgets/base'"
      }
     },
     "1b29ea88655b435e8b3b07c28118eac1": {
      "model_module": "@jupyter-widgets/controls",
      "model_module_version": "2.0.0",
      "model_name": "TextModel",
      "state": {
       "_view_name": "ErrorWidgetView",
       "error": {},
       "layout": "IPY_MODEL_07525bdb89c44e0e918b18d93a7de54c",
       "msg": "Failed to load model class 'TextModel' from module '@jupyter-widgets/controls'",
       "style": "IPY_MODEL_7f906434213f4100a141a1f1c5b71c91",
       "value": "2014-02-13"
      }
     },
     "1b457511cb6c483b85e4bae70d65a285": {
      "model_module": "@jupyter-widgets/controls",
      "model_module_version": "2.0.0",
      "model_name": "DescriptionStyleModel",
      "state": {
       "_view_name": "ErrorWidgetView",
       "description_width": "",
       "error": {},
       "msg": "Failed to load model class 'DescriptionStyleModel' from module '@jupyter-widgets/controls'"
      }
     },
     "1bb857d96c7d465a819f9f19ea26dc7b": {
      "model_module": "@jupyter-widgets/base",
      "model_module_version": "2.0.0",
      "model_name": "LayoutModel",
      "state": {
       "_view_name": "ErrorWidgetView",
       "error": {},
       "msg": "Failed to load model class 'LayoutModel' from module '@jupyter-widgets/base'"
      }
     },
     "1bc7e1ba5e194cdfbe92c866a0173003": {
      "model_module": "@jupyter-widgets/controls",
      "model_module_version": "2.0.0",
      "model_name": "IntProgressModel",
      "state": {
       "_view_name": "ErrorWidgetView",
       "description": "Idle",
       "error": {},
       "layout": "IPY_MODEL_64f85f021fbe45828ae128876ece9148",
       "max": 10,
       "msg": "Failed to load model class 'IntProgressModel' from module '@jupyter-widgets/controls'",
       "style": "IPY_MODEL_25559b474df4446e8777aab1862eec8a"
      }
     },
     "1bcf5b8f62394dc0a04d7b0519b93920": {
      "model_module": "@jupyter-widgets/controls",
      "model_module_version": "2.0.0",
      "model_name": "TextModel",
      "state": {
       "_view_name": "ErrorWidgetView",
       "description": "proc time",
       "error": {},
       "layout": "IPY_MODEL_b8ad4b59f97f460689974b499979b5db",
       "msg": "Failed to load model class 'TextModel' from module '@jupyter-widgets/controls'",
       "style": "IPY_MODEL_dc771948d6d04d9e83ee2369f5d22054",
       "value": "0.018 / 0.101 / [0.119] s"
      }
     },
     "1c4d85a11407487d804ab4b902d2acde": {
      "model_module": "@jupyter-widgets/base",
      "model_module_version": "2.0.0",
      "model_name": "LayoutModel",
      "state": {
       "_view_name": "ErrorWidgetView",
       "error": {},
       "msg": "Failed to load model class 'LayoutModel' from module '@jupyter-widgets/base'",
       "width": "15%"
      }
     },
     "1d4cbf75094b4556a506224ac22fa49b": {
      "model_module": "@jupyter-widgets/base",
      "model_module_version": "2.0.0",
      "model_name": "LayoutModel",
      "state": {
       "_view_name": "ErrorWidgetView",
       "error": {},
       "msg": "Failed to load model class 'LayoutModel' from module '@jupyter-widgets/base'",
       "width": "15%"
      }
     },
     "1d5d517983af4e7891704c0577a0040c": {
      "model_module": "@jupyter-widgets/base",
      "model_module_version": "2.0.0",
      "model_name": "LayoutModel",
      "state": {
       "_view_name": "ErrorWidgetView",
       "error": {},
       "msg": "Failed to load model class 'LayoutModel' from module '@jupyter-widgets/base'",
       "width": "50%"
      }
     },
     "1d9c762e40984f37a7ad4d12d927bdef": {
      "model_module": "@jupyter-widgets/controls",
      "model_module_version": "2.0.0",
      "model_name": "DescriptionStyleModel",
      "state": {
       "_view_name": "ErrorWidgetView",
       "description_width": "",
       "error": {},
       "msg": "Failed to load model class 'DescriptionStyleModel' from module '@jupyter-widgets/controls'"
      }
     },
     "1debf76d4a634dca8f48f13b027a3616": {
      "model_module": "@jupyter-widgets/controls",
      "model_module_version": "2.0.0",
      "model_name": "DescriptionStyleModel",
      "state": {
       "_view_name": "ErrorWidgetView",
       "description_width": "",
       "error": {},
       "msg": "Failed to load model class 'DescriptionStyleModel' from module '@jupyter-widgets/controls'"
      }
     },
     "1e1b13fc37404c7395a27e73dd71aaee": {
      "model_module": "@jupyter-widgets/base",
      "model_module_version": "2.0.0",
      "model_name": "LayoutModel",
      "state": {
       "_view_name": "ErrorWidgetView",
       "error": {},
       "msg": "Failed to load model class 'LayoutModel' from module '@jupyter-widgets/base'"
      }
     },
     "1e28f735df8d40d8bc735a5dad9ad605": {
      "model_module": "@jupyter-widgets/base",
      "model_module_version": "2.0.0",
      "model_name": "LayoutModel",
      "state": {
       "_view_name": "ErrorWidgetView",
       "error": {},
       "msg": "Failed to load model class 'LayoutModel' from module '@jupyter-widgets/base'",
       "width": "10%"
      }
     },
     "1e3bd6cdb0ee49bba8a65d36aec2b38c": {
      "model_module": "@jupyter-widgets/base",
      "model_module_version": "2.0.0",
      "model_name": "LayoutModel",
      "state": {
       "_view_name": "ErrorWidgetView",
       "error": {},
       "msg": "Failed to load model class 'LayoutModel' from module '@jupyter-widgets/base'"
      }
     },
     "1eb2352458124c0d94562a204c074fcf": {
      "model_module": "@jupyter-widgets/controls",
      "model_module_version": "2.0.0",
      "model_name": "TextModel",
      "state": {
       "_view_name": "ErrorWidgetView",
       "error": {},
       "layout": "IPY_MODEL_d7279c62adf948f7890760508e0a7a26",
       "msg": "Failed to load model class 'TextModel' from module '@jupyter-widgets/controls'",
       "style": "IPY_MODEL_4e428bff8e1e4c7ebfff873485d35957",
       "value": "2023-03-18"
      }
     },
     "1f04483641e346e8ab5814613493bf84": {
      "model_module": "@jupyter-widgets/controls",
      "model_module_version": "2.0.0",
      "model_name": "DescriptionStyleModel",
      "state": {
       "_view_name": "ErrorWidgetView",
       "description_width": "",
       "error": {},
       "msg": "Failed to load model class 'DescriptionStyleModel' from module '@jupyter-widgets/controls'"
      }
     },
     "1f0625048e964a4d852d62a466c94387": {
      "model_module": "@jupyter-widgets/controls",
      "model_module_version": "2.0.0",
      "model_name": "SliderStyleModel",
      "state": {
       "_view_name": "ErrorWidgetView",
       "description_width": "",
       "error": {},
       "msg": "Failed to load model class 'SliderStyleModel' from module '@jupyter-widgets/controls'"
      }
     },
     "1f1e4aa3706d41209f65318ec58aa276": {
      "model_module": "@jupyter-widgets/controls",
      "model_module_version": "2.0.0",
      "model_name": "ButtonModel",
      "state": {
       "_view_name": "ErrorWidgetView",
       "description": "unfix x/y",
       "error": {},
       "layout": "IPY_MODEL_29c7b02eba324151941ecab0e6e090ef",
       "msg": "Failed to load model class 'ButtonModel' from module '@jupyter-widgets/controls'",
       "style": "IPY_MODEL_a157d4e921df42d29c274a3ef7df0639"
      }
     },
     "1f421520478e4072b2482a64a8c80c34": {
      "model_module": "@jupyter-widgets/controls",
      "model_module_version": "2.0.0",
      "model_name": "ButtonModel",
      "state": {
       "_view_name": "ErrorWidgetView",
       "description": "unfix x/y",
       "error": {},
       "layout": "IPY_MODEL_377bd535bcd04385b1a297911be99515",
       "msg": "Failed to load model class 'ButtonModel' from module '@jupyter-widgets/controls'",
       "style": "IPY_MODEL_b0efa88ed2414e0eb10c0c02368c02a2"
      }
     },
     "1f6cea40434f48d39594632e8a61470e": {
      "model_module": "@jupyter-widgets/controls",
      "model_module_version": "2.0.0",
      "model_name": "TextModel",
      "state": {
       "_view_name": "ErrorWidgetView",
       "error": {},
       "layout": "IPY_MODEL_e742800e50764b1093dd6b4bc08efd4e",
       "msg": "Failed to load model class 'TextModel' from module '@jupyter-widgets/controls'",
       "style": "IPY_MODEL_64e3cf3457e7472e9887ca0a90e8b367",
       "value": "2023-04-21"
      }
     },
     "1f85e9996813444eb2e7356f6753aaa3": {
      "model_module": "@jupyter-widgets/controls",
      "model_module_version": "2.0.0",
      "model_name": "DescriptionStyleModel",
      "state": {
       "_view_name": "ErrorWidgetView",
       "description_width": "",
       "error": {},
       "msg": "Failed to load model class 'DescriptionStyleModel' from module '@jupyter-widgets/controls'"
      }
     },
     "1f941271d087474f8d51bd2ba32a0521": {
      "model_module": "@jupyter-widgets/base",
      "model_module_version": "2.0.0",
      "model_name": "LayoutModel",
      "state": {
       "_view_name": "ErrorWidgetView",
       "error": {},
       "msg": "Failed to load model class 'LayoutModel' from module '@jupyter-widgets/base'",
       "width": "15%"
      }
     },
     "1fc9864ddffb44c5a0c48ac8e911c35d": {
      "model_module": "@jupyter-widgets/base",
      "model_module_version": "2.0.0",
      "model_name": "LayoutModel",
      "state": {
       "_view_name": "ErrorWidgetView",
       "error": {},
       "msg": "Failed to load model class 'LayoutModel' from module '@jupyter-widgets/base'",
       "width": "10%"
      }
     },
     "1fcb712b80604c1383715ea760dadfaa": {
      "model_module": "@jupyter-widgets/base",
      "model_module_version": "2.0.0",
      "model_name": "LayoutModel",
      "state": {
       "_view_name": "ErrorWidgetView",
       "error": {},
       "msg": "Failed to load model class 'LayoutModel' from module '@jupyter-widgets/base'",
       "width": "10%"
      }
     },
     "1ff3183a6e034e6286ef424f1546174b": {
      "model_module": "@jupyter-widgets/base",
      "model_module_version": "2.0.0",
      "model_name": "LayoutModel",
      "state": {
       "_view_name": "ErrorWidgetView",
       "error": {},
       "msg": "Failed to load model class 'LayoutModel' from module '@jupyter-widgets/base'"
      }
     },
     "20614ded2769462e887768c78d97d74d": {
      "model_module": "@jupyter-widgets/base",
      "model_module_version": "2.0.0",
      "model_name": "LayoutModel",
      "state": {
       "_view_name": "ErrorWidgetView",
       "error": {},
       "msg": "Failed to load model class 'LayoutModel' from module '@jupyter-widgets/base'"
      }
     },
     "206907e3b59948f387a417e2d4d1edfc": {
      "model_module": "@jupyter-widgets/base",
      "model_module_version": "2.0.0",
      "model_name": "LayoutModel",
      "state": {
       "_view_name": "ErrorWidgetView",
       "error": {},
       "msg": "Failed to load model class 'LayoutModel' from module '@jupyter-widgets/base'"
      }
     },
     "206ce359bacb401bbe4b74ec9b32540f": {
      "model_module": "@jupyter-widgets/controls",
      "model_module_version": "2.0.0",
      "model_name": "SliderStyleModel",
      "state": {
       "_view_name": "ErrorWidgetView",
       "description_width": "",
       "error": {},
       "msg": "Failed to load model class 'SliderStyleModel' from module '@jupyter-widgets/controls'"
      }
     },
     "20cf7bbdad5b41b1be78870145b716f1": {
      "model_module": "@jupyter-widgets/controls",
      "model_module_version": "2.0.0",
      "model_name": "DescriptionStyleModel",
      "state": {
       "_view_name": "ErrorWidgetView",
       "description_width": "",
       "error": {},
       "msg": "Failed to load model class 'DescriptionStyleModel' from module '@jupyter-widgets/controls'"
      }
     },
     "2133427e7c6c481084aa8c15c2b77ff3": {
      "model_module": "@jupyter-widgets/controls",
      "model_module_version": "2.0.0",
      "model_name": "TextModel",
      "state": {
       "_view_name": "ErrorWidgetView",
       "description": "proc rate",
       "error": {},
       "layout": "IPY_MODEL_0078b212a57d44a0ba0f6765064136bc",
       "msg": "Failed to load model class 'TextModel' from module '@jupyter-widgets/controls'",
       "style": "IPY_MODEL_021e00161a174dd6888bf06ae455a529",
       "value": "r1: 54.5 / r2: 10.1 / r3: [8.5] Hz"
      }
     },
     "220d5831fb6046bcb975788e3d88c523": {
      "model_module": "@jupyter-widgets/controls",
      "model_module_version": "2.0.0",
      "model_name": "IntProgressModel",
      "state": {
       "_view_name": "ErrorWidgetView",
       "description": "Idle",
       "error": {},
       "layout": "IPY_MODEL_4288c7916ba34d918644f9a2e917121f",
       "max": 10,
       "msg": "Failed to load model class 'IntProgressModel' from module '@jupyter-widgets/controls'",
       "style": "IPY_MODEL_54c6255f06ef4c0fa66329f345ce9451"
      }
     },
     "22150f90d5d3498382098bb3cd8a2adb": {
      "model_module": "@jupyter-widgets/base",
      "model_module_version": "2.0.0",
      "model_name": "LayoutModel",
      "state": {
       "_view_name": "ErrorWidgetView",
       "error": {},
       "msg": "Failed to load model class 'LayoutModel' from module '@jupyter-widgets/base'",
       "width": "15%"
      }
     },
     "22221999f3d5404fb38f5cd24eb1c5f8": {
      "model_module": "@jupyter-widgets/base",
      "model_module_version": "2.0.0",
      "model_name": "LayoutModel",
      "state": {
       "_view_name": "ErrorWidgetView",
       "error": {},
       "msg": "Failed to load model class 'LayoutModel' from module '@jupyter-widgets/base'"
      }
     },
     "2249e119b1d14e2e877d5c4c334899fe": {
      "model_module": "@jupyter-widgets/controls",
      "model_module_version": "2.0.0",
      "model_name": "TextModel",
      "state": {
       "_view_name": "ErrorWidgetView",
       "error": {},
       "layout": "IPY_MODEL_b3feb6a1d5e44e339a5cbc6bc5a9f2d3",
       "msg": "Failed to load model class 'TextModel' from module '@jupyter-widgets/controls'",
       "style": "IPY_MODEL_bde5121adf204d70b778b5c86f7a13a7",
       "value": "2023-03-18"
      }
     },
     "22546e35d29344ea850b4c08d9efa603": {
      "model_module": "@jupyter-widgets/base",
      "model_module_version": "2.0.0",
      "model_name": "LayoutModel",
      "state": {
       "_view_name": "ErrorWidgetView",
       "error": {},
       "msg": "Failed to load model class 'LayoutModel' from module '@jupyter-widgets/base'",
       "width": "10%"
      }
     },
     "2263b2ea6b4946d1806e62a1b1e08bbd": {
      "model_module": "@jupyter-widgets/controls",
      "model_module_version": "2.0.0",
      "model_name": "IntSliderModel",
      "state": {
       "_view_name": "ErrorWidgetView",
       "description": "horizontal pixels",
       "error": {},
       "layout": "IPY_MODEL_da6064f7ef764013a4f0320789ebbaa4",
       "max": 2048,
       "min": 2,
       "msg": "Failed to load model class 'IntSliderModel' from module '@jupyter-widgets/controls'",
       "style": "IPY_MODEL_45c4a25ee86844c189ed5595b6e049ef",
       "value": 1024
      }
     },
     "22b8cfc4497f4f93a8ae951d001a0752": {
      "model_module": "@jupyter-widgets/controls",
      "model_module_version": "2.0.0",
      "model_name": "ButtonStyleModel",
      "state": {
       "_view_name": "ErrorWidgetView",
       "error": {},
       "msg": "Failed to load model class 'ButtonStyleModel' from module '@jupyter-widgets/controls'"
      }
     },
     "22fc30a1f31d43058c3da8a6393de294": {
      "model_module": "@jupyter-widgets/controls",
      "model_module_version": "2.0.0",
      "model_name": "SliderStyleModel",
      "state": {
       "_view_name": "ErrorWidgetView",
       "description_width": "",
       "error": {},
       "msg": "Failed to load model class 'SliderStyleModel' from module '@jupyter-widgets/controls'"
      }
     },
     "230f3752f7794a7eb54baed93cfd7873": {
      "model_module": "@jupyter-widgets/controls",
      "model_module_version": "2.0.0",
      "model_name": "VBoxModel",
      "state": {
       "_view_name": "ErrorWidgetView",
       "children": [
        "IPY_MODEL_60372c2ff389407a94d0999ea1c2c149",
        "IPY_MODEL_f9de8efaea994259a254f8dc9ef5188d",
        "IPY_MODEL_d131d6c0c98d444d958ffe35880aa6c4",
        "IPY_MODEL_cce1f40c7246470dbe03697e9af7d6b8",
        "IPY_MODEL_9d6f3c98399142f5a1f1e672900f9f49",
        "IPY_MODEL_6942f4afe8114f21bac6f48897fb4978"
       ],
       "error": {},
       "layout": "IPY_MODEL_95a6866612e34297a1e4277095ab9097",
       "msg": "Failed to load model class 'VBoxModel' from module '@jupyter-widgets/controls'"
      }
     },
     "234d6188e5f6451793df4561c020462e": {
      "model_module": "@jupyter-widgets/base",
      "model_module_version": "2.0.0",
      "model_name": "LayoutModel",
      "state": {
       "_view_name": "ErrorWidgetView",
       "error": {},
       "msg": "Failed to load model class 'LayoutModel' from module '@jupyter-widgets/base'"
      }
     },
     "237f61092a5d41138c21ebdd579420a4": {
      "model_module": "@jupyter-widgets/base",
      "model_module_version": "2.0.0",
      "model_name": "LayoutModel",
      "state": {
       "_view_name": "ErrorWidgetView",
       "error": {},
       "msg": "Failed to load model class 'LayoutModel' from module '@jupyter-widgets/base'",
       "width": "10%"
      }
     },
     "23956d47c5874d54800411f09f49a49d": {
      "model_module": "@jupyter-widgets/base",
      "model_module_version": "2.0.0",
      "model_name": "LayoutModel",
      "state": {
       "_view_name": "ErrorWidgetView",
       "error": {},
       "msg": "Failed to load model class 'LayoutModel' from module '@jupyter-widgets/base'",
       "width": "15%"
      }
     },
     "23b700ce23774ec8a70d6bbcbc32a075": {
      "model_module": "@jupyter-widgets/controls",
      "model_module_version": "2.0.0",
      "model_name": "ButtonModel",
      "state": {
       "_view_name": "ErrorWidgetView",
       "description": "unfix x/y",
       "error": {},
       "layout": "IPY_MODEL_6e6b3ec376d549558868ef6fed95bf4c",
       "msg": "Failed to load model class 'ButtonModel' from module '@jupyter-widgets/controls'",
       "style": "IPY_MODEL_7ddd6bdb43474f38bf742e14b2a7acf8"
      }
     },
     "241e4eed16a04824bb85d96d99bac275": {
      "model_module": "@jupyter-widgets/controls",
      "model_module_version": "2.0.0",
      "model_name": "ButtonStyleModel",
      "state": {
       "_view_name": "ErrorWidgetView",
       "error": {},
       "msg": "Failed to load model class 'ButtonStyleModel' from module '@jupyter-widgets/controls'"
      }
     },
     "242ab150c6e543af8b9266947d980ca7": {
      "model_module": "@jupyter-widgets/controls",
      "model_module_version": "2.0.0",
      "model_name": "SliderStyleModel",
      "state": {
       "_view_name": "ErrorWidgetView",
       "description_width": "",
       "error": {},
       "msg": "Failed to load model class 'SliderStyleModel' from module '@jupyter-widgets/controls'"
      }
     },
     "247fae7f42e64ff5a6a8442f7124f9a9": {
      "model_module": "@jupyter-widgets/controls",
      "model_module_version": "2.0.0",
      "model_name": "TextModel",
      "state": {
       "_view_name": "ErrorWidgetView",
       "error": {},
       "layout": "IPY_MODEL_b8f2a482f41144f6adc372ae9722d419",
       "msg": "Failed to load model class 'TextModel' from module '@jupyter-widgets/controls'",
       "style": "IPY_MODEL_a8714311360c4f2abb3de9ba7142ad54",
       "value": "2012-08-21"
      }
     },
     "24b3a115a46e432088d27343711cb5e7": {
      "model_module": "@jupyter-widgets/base",
      "model_module_version": "2.0.0",
      "model_name": "LayoutModel",
      "state": {
       "_view_name": "ErrorWidgetView",
       "error": {},
       "msg": "Failed to load model class 'LayoutModel' from module '@jupyter-widgets/base'",
       "width": "10%"
      }
     },
     "251a14abc5d84623b7e0dc62b3098b5c": {
      "model_module": "@jupyter-widgets/controls",
      "model_module_version": "2.0.0",
      "model_name": "HBoxModel",
      "state": {
       "_view_name": "ErrorWidgetView",
       "children": [
        "IPY_MODEL_fe7c3549a55c4d0cb515700ef7cecfde",
        "IPY_MODEL_c2607998ebbe43ec9f2bd948a52fcb79",
        "IPY_MODEL_6507831407b24502bc0d39a02f6a9f6c",
        "IPY_MODEL_48c5ea9c9318448985567f3464f909a4"
       ],
       "error": {},
       "layout": "IPY_MODEL_b88be61cd8d14938bf02b14f9fce9ac3",
       "msg": "Failed to load model class 'HBoxModel' from module '@jupyter-widgets/controls'"
      }
     },
     "25559b474df4446e8777aab1862eec8a": {
      "model_module": "@jupyter-widgets/controls",
      "model_module_version": "2.0.0",
      "model_name": "ProgressStyleModel",
      "state": {
       "_view_name": "ErrorWidgetView",
       "description_width": "",
       "error": {},
       "msg": "Failed to load model class 'ProgressStyleModel' from module '@jupyter-widgets/controls'"
      }
     },
     "258173fdbfb643ebbed090efcbf14c64": {
      "model_module": "@jupyter-widgets/base",
      "model_module_version": "2.0.0",
      "model_name": "LayoutModel",
      "state": {
       "_view_name": "ErrorWidgetView",
       "error": {},
       "msg": "Failed to load model class 'LayoutModel' from module '@jupyter-widgets/base'"
      }
     },
     "25a5be5aa8d84670b72fb619f4d55a04": {
      "model_module": "@jupyter-widgets/controls",
      "model_module_version": "2.0.0",
      "model_name": "TextModel",
      "state": {
       "_view_name": "ErrorWidgetView",
       "error": {},
       "layout": "IPY_MODEL_03c4a66cdb86414a9021ff6bcd6b66bb",
       "msg": "Failed to load model class 'TextModel' from module '@jupyter-widgets/controls'",
       "style": "IPY_MODEL_450048065eb349d48e40f4b8c388e9bd",
       "value": "2023-03-18"
      }
     },
     "25f310ca604649239255199479390f40": {
      "model_module": "jupyter-matplotlib",
      "model_module_version": "^0.11",
      "model_name": "ToolbarModel",
      "state": {
       "_model_module_version": "^0.11",
       "_view_module_version": "^0.11",
       "collapsed": true,
       "layout": "IPY_MODEL_1338c42ca32b480bb0f4f434ee39826f",
       "orientation": "vertical",
       "toolitems": [
        [
         "Home",
         "Reset original view",
         "home",
         "home"
        ],
        [
         "Back",
         "Back to previous view",
         "arrow-left",
         "back"
        ],
        [
         "Forward",
         "Forward to next view",
         "arrow-right",
         "forward"
        ],
        [
         "Pan",
         "Left button pans, Right button zooms\nx/y fixes axis, CTRL fixes aspect",
         "arrows",
         "pan"
        ],
        [
         "Zoom",
         "Zoom to rectangle\nx/y fixes axis",
         "square-o",
         "zoom"
        ],
        [
         "Download",
         "Download plot",
         "floppy-o",
         "save_figure"
        ]
       ]
      }
     },
     "26314be0585d46c3b25aa6962f6e97de": {
      "model_module": "@jupyter-widgets/controls",
      "model_module_version": "2.0.0",
      "model_name": "HTMLStyleModel",
      "state": {
       "description_width": "",
       "font_size": null,
       "text_color": null
      }
     },
     "26a4756fa22e4b7e91dc25322fb4a730": {
      "model_module": "@jupyter-widgets/controls",
      "model_module_version": "2.0.0",
      "model_name": "DescriptionStyleModel",
      "state": {
       "_view_name": "ErrorWidgetView",
       "description_width": "",
       "error": {},
       "msg": "Failed to load model class 'DescriptionStyleModel' from module '@jupyter-widgets/controls'"
      }
     },
     "26d6a053ce9149edbd09986a5fe2b9e9": {
      "model_module": "@jupyter-widgets/controls",
      "model_module_version": "2.0.0",
      "model_name": "ButtonModel",
      "state": {
       "_view_name": "ErrorWidgetView",
       "description": "unfix x/y",
       "error": {},
       "layout": "IPY_MODEL_b07c5fe745304c36b74f00664ec616a7",
       "msg": "Failed to load model class 'ButtonModel' from module '@jupyter-widgets/controls'",
       "style": "IPY_MODEL_3ada0d435dd24deeb6bf2691e7d25a5e"
      }
     },
     "2766ae66fcb34640b40f0fc34bc3937c": {
      "model_module": "@jupyter-widgets/controls",
      "model_module_version": "2.0.0",
      "model_name": "DropdownModel",
      "state": {
       "_options_labels": [
        "antialiased",
        "none",
        "nearest",
        "bilinear",
        "bicubic",
        "spline16",
        "spline36",
        "hanning",
        "hamming",
        "hermite",
        "kaiser",
        "quadric",
        "catrom",
        "gaussian",
        "bessel",
        "mitchell",
        "sinc",
        "lanczos",
        "blackman"
       ],
       "_view_name": "ErrorWidgetView",
       "description": "interpolation",
       "error": {},
       "index": 2,
       "layout": "IPY_MODEL_c5a1efbc322841468ec9f1c4c240ec18",
       "msg": "Failed to load model class 'DropdownModel' from module '@jupyter-widgets/controls'",
       "style": "IPY_MODEL_7e20383b24b24fcaa4057692cd4a6512"
      }
     },
     "27bfdbfc4e174062ab05934545db8447": {
      "model_module": "@jupyter-widgets/controls",
      "model_module_version": "2.0.0",
      "model_name": "TextModel",
      "state": {
       "_view_name": "ErrorWidgetView",
       "description": "proc rate",
       "error": {},
       "layout": "IPY_MODEL_acce86f00eb14dd69f81fc94ca852ba2",
       "msg": "Failed to load model class 'TextModel' from module '@jupyter-widgets/controls'",
       "style": "IPY_MODEL_098754b678dd4754b35b32cf32058a9f",
       "value": "r1: 38.8 / r2: 8.7 / r3: [7.1] Hz"
      }
     },
     "27e8cb0d9d5048a3bedc8a278e326583": {
      "model_module": "@jupyter-widgets/base",
      "model_module_version": "2.0.0",
      "model_name": "LayoutModel",
      "state": {
       "_view_name": "ErrorWidgetView",
       "error": {},
       "msg": "Failed to load model class 'LayoutModel' from module '@jupyter-widgets/base'"
      }
     },
     "28bf61ab8f29481caadfca4c75815f63": {
      "model_module": "@jupyter-widgets/controls",
      "model_module_version": "2.0.0",
      "model_name": "CheckboxModel",
      "state": {
       "_view_name": "ErrorWidgetView",
       "description": "stack_linear",
       "disabled": false,
       "error": {},
       "layout": "IPY_MODEL_736b2281de674ce08b9290d95cf9244d",
       "msg": "Failed to load model class 'CheckboxModel' from module '@jupyter-widgets/controls'",
       "style": "IPY_MODEL_c7d8a6b1e15d457291f69f50d876a185",
       "value": true
      }
     },
     "29984b9f8d294d04a9f0ffa2004d0f6c": {
      "model_module": "@jupyter-widgets/controls",
      "model_module_version": "2.0.0",
      "model_name": "DescriptionStyleModel",
      "state": {
       "_view_name": "ErrorWidgetView",
       "description_width": "",
       "error": {},
       "msg": "Failed to load model class 'DescriptionStyleModel' from module '@jupyter-widgets/controls'"
      }
     },
     "29b8de2416fe42c89d9f0c0d7100aca4": {
      "model_module": "@jupyter-widgets/controls",
      "model_module_version": "2.0.0",
      "model_name": "DescriptionStyleModel",
      "state": {
       "_view_name": "ErrorWidgetView",
       "description_width": "",
       "error": {},
       "msg": "Failed to load model class 'DescriptionStyleModel' from module '@jupyter-widgets/controls'"
      }
     },
     "29c7b02eba324151941ecab0e6e090ef": {
      "model_module": "@jupyter-widgets/base",
      "model_module_version": "2.0.0",
      "model_name": "LayoutModel",
      "state": {
       "_view_name": "ErrorWidgetView",
       "error": {},
       "msg": "Failed to load model class 'LayoutModel' from module '@jupyter-widgets/base'"
      }
     },
     "29d56a5e67984d6eb7f850600ba59378": {
      "model_module": "@jupyter-widgets/base",
      "model_module_version": "2.0.0",
      "model_name": "LayoutModel",
      "state": {
       "_view_name": "ErrorWidgetView",
       "error": {},
       "msg": "Failed to load model class 'LayoutModel' from module '@jupyter-widgets/base'",
       "width": "15%"
      }
     },
     "29d821bcbb92429a91c04204d4c2e7ad": {
      "model_module": "@jupyter-widgets/controls",
      "model_module_version": "2.0.0",
      "model_name": "IntSliderModel",
      "state": {
       "_view_name": "ErrorWidgetView",
       "description": "horizontal pixels",
       "error": {},
       "layout": "IPY_MODEL_d09d9d58ae6341989708d75635b48793",
       "max": 2048,
       "min": 2,
       "msg": "Failed to load model class 'IntSliderModel' from module '@jupyter-widgets/controls'",
       "style": "IPY_MODEL_e400689fae5e4bda85258fe747f9ebdf",
       "value": 1024
      }
     },
     "29db06feff384596966b54b07526a9a9": {
      "model_module": "@jupyter-widgets/base",
      "model_module_version": "2.0.0",
      "model_name": "LayoutModel",
      "state": {
       "_view_name": "ErrorWidgetView",
       "error": {},
       "msg": "Failed to load model class 'LayoutModel' from module '@jupyter-widgets/base'",
       "width": "15%"
      }
     },
     "2a1e43d14bfb401cbcf00891fca6cf32": {
      "model_module": "@jupyter-widgets/controls",
      "model_module_version": "2.0.0",
      "model_name": "DescriptionStyleModel",
      "state": {
       "_view_name": "ErrorWidgetView",
       "description_width": "",
       "error": {},
       "msg": "Failed to load model class 'DescriptionStyleModel' from module '@jupyter-widgets/controls'"
      }
     },
     "2a33faf18d9a4ca9bb4616e76d8b1756": {
      "model_module": "@jupyter-widgets/controls",
      "model_module_version": "2.0.0",
      "model_name": "DropdownModel",
      "state": {
       "_options_labels": [
        "auto",
        "equal"
       ],
       "_view_name": "ErrorWidgetView",
       "description": "aspect",
       "error": {},
       "index": 1,
       "layout": "IPY_MODEL_27e8cb0d9d5048a3bedc8a278e326583",
       "msg": "Failed to load model class 'DropdownModel' from module '@jupyter-widgets/controls'",
       "style": "IPY_MODEL_988cbad37f674ab2ab2e77a24459651e"
      }
     },
     "2a6fbd19dbc84ceca5c8f35169776833": {
      "model_module": "@jupyter-widgets/controls",
      "model_module_version": "2.0.0",
      "model_name": "DescriptionStyleModel",
      "state": {
       "_view_name": "ErrorWidgetView",
       "description_width": "",
       "error": {},
       "msg": "Failed to load model class 'DescriptionStyleModel' from module '@jupyter-widgets/controls'"
      }
     },
     "2a7dbbc942bc43408385d998940455ef": {
      "model_module": "@jupyter-widgets/controls",
      "model_module_version": "2.0.0",
      "model_name": "DescriptionStyleModel",
      "state": {
       "_view_name": "ErrorWidgetView",
       "description_width": "",
       "error": {},
       "msg": "Failed to load model class 'DescriptionStyleModel' from module '@jupyter-widgets/controls'"
      }
     },
     "2a9c4082688145e8a4ee039841881c75": {
      "model_module": "@jupyter-widgets/controls",
      "model_module_version": "2.0.0",
      "model_name": "IntSliderModel",
      "state": {
       "_view_name": "ErrorWidgetView",
       "description": "ping nr",
       "error": {},
       "layout": "IPY_MODEL_0f0f58d1dfc84c9abd7564c7e6fda0f5",
       "max": 66,
       "msg": "Failed to load model class 'IntSliderModel' from module '@jupyter-widgets/controls'",
       "style": "IPY_MODEL_58a6c10b26b14492964cb851e9e08a49"
      }
     },
     "2a9ef50538444c65b0a1abdbce5cb1f4": {
      "model_module": "@jupyter-widgets/base",
      "model_module_version": "2.0.0",
      "model_name": "LayoutModel",
      "state": {
       "_view_name": "ErrorWidgetView",
       "error": {},
       "msg": "Failed to load model class 'LayoutModel' from module '@jupyter-widgets/base'",
       "width": "10%"
      }
     },
     "2ac09f333f25476f84e9551b4b8aad19": {
      "model_module": "@jupyter-widgets/base",
      "model_module_version": "2.0.0",
      "model_name": "LayoutModel",
      "state": {
       "_view_name": "ErrorWidgetView",
       "error": {},
       "msg": "Failed to load model class 'LayoutModel' from module '@jupyter-widgets/base'"
      }
     },
     "2acfc19cc4d1467d964f12f107ebe539": {
      "model_module": "@jupyter-widgets/controls",
      "model_module_version": "2.0.0",
      "model_name": "IntTextModel",
      "state": {
       "_view_name": "ErrorWidgetView",
       "description": "mp_cores:",
       "error": {},
       "layout": "IPY_MODEL_328ef65923dc4a98b35993d9b533a892",
       "msg": "Failed to load model class 'IntTextModel' from module '@jupyter-widgets/controls'",
       "step": 1,
       "style": "IPY_MODEL_2a7dbbc942bc43408385d998940455ef",
       "value": 1
      }
     },
     "2ae667f3c13f459ea9a1108e383480cd": {
      "model_module": "@jupyter-widgets/base",
      "model_module_version": "2.0.0",
      "model_name": "LayoutModel",
      "state": {
       "_view_name": "ErrorWidgetView",
       "error": {},
       "msg": "Failed to load model class 'LayoutModel' from module '@jupyter-widgets/base'"
      }
     },
     "2b2ca2028e8e4f95a2165a2dc1818edc": {
      "model_module": "@jupyter-widgets/controls",
      "model_module_version": "2.0.0",
      "model_name": "ButtonStyleModel",
      "state": {
       "_view_name": "ErrorWidgetView",
       "error": {},
       "msg": "Failed to load model class 'ButtonStyleModel' from module '@jupyter-widgets/controls'"
      }
     },
     "2ba1ef66b93d4deeb0e632c3c99c15a6": {
      "model_module": "@jupyter-widgets/controls",
      "model_module_version": "2.0.0",
      "model_name": "DescriptionStyleModel",
      "state": {
       "_view_name": "ErrorWidgetView",
       "description_width": "",
       "error": {},
       "msg": "Failed to load model class 'DescriptionStyleModel' from module '@jupyter-widgets/controls'"
      }
     },
     "2cb131c94e37409dbacaf9b2ac79ea38": {
      "model_module": "@jupyter-widgets/controls",
      "model_module_version": "2.0.0",
      "model_name": "FloatSliderModel",
      "state": {
       "_view_name": "ErrorWidgetView",
       "description": "vmax",
       "error": {},
       "layout": "IPY_MODEL_9d48f1090bd64bef8720d765ef838aa7",
       "min": -150,
       "msg": "Failed to load model class 'FloatSliderModel' from module '@jupyter-widgets/controls'",
       "step": 5,
       "style": "IPY_MODEL_eab032444196421ba916d722e0119c42",
       "value": -25
      }
     },
     "2cca492411a6494b939d39f9cf9e22f6": {
      "model_module": "@jupyter-widgets/controls",
      "model_module_version": "2.0.0",
      "model_name": "IntTextModel",
      "state": {
       "_view_name": "ErrorWidgetView",
       "description": "stack:",
       "error": {},
       "layout": "IPY_MODEL_7808626f4f0b4e52908894c4d25c4e3c",
       "msg": "Failed to load model class 'IntTextModel' from module '@jupyter-widgets/controls'",
       "step": 1,
       "style": "IPY_MODEL_d753d6240b994de99f7d71e7f8e0d0c1",
       "value": 1
      }
     },
     "2cdff5f3440045d8a91e50ffe62e5120": {
      "model_module": "@jupyter-widgets/controls",
      "model_module_version": "2.0.0",
      "model_name": "IntTextModel",
      "state": {
       "_view_name": "ErrorWidgetView",
       "description": "stack step:",
       "error": {},
       "layout": "IPY_MODEL_cbd35d305a8248e5ae95ff133262ac11",
       "msg": "Failed to load model class 'IntTextModel' from module '@jupyter-widgets/controls'",
       "step": 1,
       "style": "IPY_MODEL_e68455bbde8340419104b545af55101d",
       "value": 1
      }
     },
     "2ce84b70a3ee425fb67c8f856e00333a": {
      "model_module": "@jupyter-widgets/base",
      "model_module_version": "2.0.0",
      "model_name": "LayoutModel",
      "state": {
       "_view_name": "ErrorWidgetView",
       "error": {},
       "msg": "Failed to load model class 'LayoutModel' from module '@jupyter-widgets/base'"
      }
     },
     "2cf6ee9ba6e148a9aaf915a3e879532e": {
      "model_module": "@jupyter-widgets/base",
      "model_module_version": "2.0.0",
      "model_name": "LayoutModel",
      "state": {
       "_view_name": "ErrorWidgetView",
       "error": {},
       "msg": "Failed to load model class 'LayoutModel' from module '@jupyter-widgets/base'"
      }
     },
     "2d163d1c3d9b4d4a9a1b9eb552f76e53": {
      "model_module": "@jupyter-widgets/controls",
      "model_module_version": "2.0.0",
      "model_name": "FloatSliderModel",
      "state": {
       "_view_name": "ErrorWidgetView",
       "description": "vmin",
       "error": {},
       "layout": "IPY_MODEL_69ff838e28a245f5846b440860d0b46c",
       "min": -150,
       "msg": "Failed to load model class 'FloatSliderModel' from module '@jupyter-widgets/controls'",
       "step": 5,
       "style": "IPY_MODEL_5d176e3664ab40928d0d4fbff7191f06",
       "value": -90
      }
     },
     "2d334d6626684310a2e3f49a1d3ff0bf": {
      "model_module": "@jupyter-widgets/controls",
      "model_module_version": "2.0.0",
      "model_name": "IntTextModel",
      "state": {
       "_view_name": "ErrorWidgetView",
       "description": "mp_cores:",
       "error": {},
       "layout": "IPY_MODEL_0660ed7c79e6442083c42f75da6ac520",
       "msg": "Failed to load model class 'IntTextModel' from module '@jupyter-widgets/controls'",
       "step": 1,
       "style": "IPY_MODEL_574fbed5b9cb4920af37cfa65347240b",
       "value": 1
      }
     },
     "2d4747f7852b49218202cce6ef2f29b0": {
      "model_module": "@jupyter-widgets/controls",
      "model_module_version": "2.0.0",
      "model_name": "ButtonModel",
      "state": {
       "_view_name": "ErrorWidgetView",
       "description": "unfix x/y",
       "error": {},
       "layout": "IPY_MODEL_7dd1c6f6ae734bd18543f92b8d6ce7da",
       "msg": "Failed to load model class 'ButtonModel' from module '@jupyter-widgets/controls'",
       "style": "IPY_MODEL_06c41bdbaf1f46b1a2c263863e6813eb"
      }
     },
     "2d80fba03aec473bbdc979d6eecc0463": {
      "model_module": "@jupyter-widgets/controls",
      "model_module_version": "2.0.0",
      "model_name": "ProgressStyleModel",
      "state": {
       "_view_name": "ErrorWidgetView",
       "description_width": "",
       "error": {},
       "msg": "Failed to load model class 'ProgressStyleModel' from module '@jupyter-widgets/controls'"
      }
     },
     "2ddf7ac9505c48b0bf14c4ec7e5111bc": {
      "model_module": "@jupyter-widgets/controls",
      "model_module_version": "2.0.0",
      "model_name": "IntTextModel",
      "state": {
       "_view_name": "ErrorWidgetView",
       "description": "stack:",
       "error": {},
       "layout": "IPY_MODEL_75dc1ba49f7f424a973818fc4b368255",
       "msg": "Failed to load model class 'IntTextModel' from module '@jupyter-widgets/controls'",
       "step": 1,
       "style": "IPY_MODEL_be30c70f94a94066a9a362e0f365d134",
       "value": 1
      }
     },
     "2dfdeb11fb06421f8ff6f46432cd9639": {
      "model_module": "@jupyter-widgets/controls",
      "model_module_version": "2.0.0",
      "model_name": "DescriptionStyleModel",
      "state": {
       "_view_name": "ErrorWidgetView",
       "description_width": "",
       "error": {},
       "msg": "Failed to load model class 'DescriptionStyleModel' from module '@jupyter-widgets/controls'"
      }
     },
     "2e3c3f99d5284a528657cd4b38a569b3": {
      "model_module": "@jupyter-widgets/controls",
      "model_module_version": "2.0.0",
      "model_name": "ButtonStyleModel",
      "state": {
       "_view_name": "ErrorWidgetView",
       "error": {},
       "msg": "Failed to load model class 'ButtonStyleModel' from module '@jupyter-widgets/controls'"
      }
     },
     "2e44e6eb6fa749f19737eaf6632a0e37": {
      "model_module": "@jupyter-widgets/base",
      "model_module_version": "2.0.0",
      "model_name": "LayoutModel",
      "state": {
       "_view_name": "ErrorWidgetView",
       "error": {},
       "msg": "Failed to load model class 'LayoutModel' from module '@jupyter-widgets/base'",
       "width": "15%"
      }
     },
     "2e46154df830402f8c721cd0ef4c46f9": {
      "model_module": "@jupyter-widgets/controls",
      "model_module_version": "2.0.0",
      "model_name": "SliderStyleModel",
      "state": {
       "_view_name": "ErrorWidgetView",
       "description_width": "",
       "error": {},
       "msg": "Failed to load model class 'SliderStyleModel' from module '@jupyter-widgets/controls'"
      }
     },
     "2e467e01afb04d0093203ec55b8e403b": {
      "model_module": "@jupyter-widgets/base",
      "model_module_version": "2.0.0",
      "model_name": "LayoutModel",
      "state": {
       "_view_name": "ErrorWidgetView",
       "error": {},
       "msg": "Failed to load model class 'LayoutModel' from module '@jupyter-widgets/base'",
       "width": "15%"
      }
     },
     "2e74109378474e98bb6639ecf963801c": {
      "model_module": "@jupyter-widgets/base",
      "model_module_version": "2.0.0",
      "model_name": "LayoutModel",
      "state": {
       "_view_name": "ErrorWidgetView",
       "error": {},
       "msg": "Failed to load model class 'LayoutModel' from module '@jupyter-widgets/base'",
       "width": "10%"
      }
     },
     "2e85ec639deb420e979b41b228ab59eb": {
      "model_module": "@jupyter-widgets/base",
      "model_module_version": "2.0.0",
      "model_name": "LayoutModel",
      "state": {
       "_view_name": "ErrorWidgetView",
       "error": {},
       "msg": "Failed to load model class 'LayoutModel' from module '@jupyter-widgets/base'"
      }
     },
     "2ee10c0ae75a4d4faddfc17ae28c50dc": {
      "model_module": "@jupyter-widgets/controls",
      "model_module_version": "2.0.0",
      "model_name": "VBoxModel",
      "state": {
       "_view_name": "ErrorWidgetView",
       "children": [
        "IPY_MODEL_5528fb18837d4d3093f571a6baf3490f",
        "IPY_MODEL_e9d8748f2d624186906b7e4c68ab2cb3",
        "IPY_MODEL_657b7eed3138422bb002ffeb049ecaa5",
        "IPY_MODEL_d66a39918d2148be8f63e4da3a59ae96",
        "IPY_MODEL_078459c689fc4b4b99b9663ad866789c",
        "IPY_MODEL_a7d8a2e933b34cc8902a9b3f177435c2"
       ],
       "error": {},
       "layout": "IPY_MODEL_4cfaf5337da74b3fbf8365011609a929",
       "msg": "Failed to load model class 'VBoxModel' from module '@jupyter-widgets/controls'"
      }
     },
     "2f02937269914ea0b0eb89a0c6010483": {
      "model_module": "@jupyter-widgets/controls",
      "model_module_version": "2.0.0",
      "model_name": "DropdownModel",
      "state": {
       "_options_labels": [
        "linear",
        "beamsample"
       ],
       "_view_name": "ErrorWidgetView",
       "description": "wci render",
       "error": {},
       "index": 0,
       "layout": "IPY_MODEL_0d8eb5c88b4b47c08f50236e60e18544",
       "msg": "Failed to load model class 'DropdownModel' from module '@jupyter-widgets/controls'",
       "style": "IPY_MODEL_29984b9f8d294d04a9f0ffa2004d0f6c"
      }
     },
     "2f406bca5b604e4caa7c26a30d455545": {
      "model_module": "@jupyter-widgets/controls",
      "model_module_version": "2.0.0",
      "model_name": "TextModel",
      "state": {
       "_view_name": "ErrorWidgetView",
       "error": {},
       "layout": "IPY_MODEL_1fc9864ddffb44c5a0c48ac8e911c35d",
       "msg": "Failed to load model class 'TextModel' from module '@jupyter-widgets/controls'",
       "style": "IPY_MODEL_e84f17d027164ad29190850ddb7ea943",
       "value": "17:37:53"
      }
     },
     "2f519c305c514af18d76ffcb50d1b248": {
      "model_module": "@jupyter-widgets/controls",
      "model_module_version": "2.0.0",
      "model_name": "ButtonModel",
      "state": {
       "_view_name": "ErrorWidgetView",
       "button_style": "warning",
       "description": "fix x/y",
       "error": {},
       "layout": "IPY_MODEL_62b92dc265804534815981d0ad92a16f",
       "msg": "Failed to load model class 'ButtonModel' from module '@jupyter-widgets/controls'",
       "style": "IPY_MODEL_472aca4fd4164ecdb2d8595a41a411b7"
      }
     },
     "2fa9d6ee42c3424c98ec656182570fd8": {
      "model_module": "@jupyter-widgets/controls",
      "model_module_version": "2.0.0",
      "model_name": "DescriptionStyleModel",
      "state": {
       "description_width": ""
      }
     },
     "2fcbf390a0b64027abf14f18a8d996e8": {
      "model_module": "@jupyter-widgets/controls",
      "model_module_version": "2.0.0",
      "model_name": "DescriptionStyleModel",
      "state": {
       "_view_name": "ErrorWidgetView",
       "description_width": "",
       "error": {},
       "msg": "Failed to load model class 'DescriptionStyleModel' from module '@jupyter-widgets/controls'"
      }
     },
     "3008041aa11c40a6adcde4ea3d679e33": {
      "model_module": "@jupyter-widgets/base",
      "model_module_version": "2.0.0",
      "model_name": "LayoutModel",
      "state": {
       "_view_name": "ErrorWidgetView",
       "error": {},
       "msg": "Failed to load model class 'LayoutModel' from module '@jupyter-widgets/base'"
      }
     },
     "304961ddf53643ac97c7fd57f56df96d": {
      "model_module": "@jupyter-widgets/controls",
      "model_module_version": "2.0.0",
      "model_name": "TextModel",
      "state": {
       "_view_name": "ErrorWidgetView",
       "error": {},
       "layout": "IPY_MODEL_ecc6d84e6ded4113b3dd48481e8723c7",
       "msg": "Failed to load model class 'TextModel' from module '@jupyter-widgets/controls'",
       "style": "IPY_MODEL_938a4f1fd87045a8b4e95cefb1165b34",
       "value": "22:51:13"
      }
     },
     "304c9dadbcb24e60aaeec1826e3ca7c8": {
      "model_module": "@jupyter-widgets/controls",
      "model_module_version": "2.0.0",
      "model_name": "TextStyleModel",
      "state": {
       "description_width": "",
       "font_size": null,
       "text_color": null
      }
     },
     "3084e34f685243c699fbf3d0d668becf": {
      "model_module": "@jupyter-widgets/controls",
      "model_module_version": "2.0.0",
      "model_name": "HBoxModel",
      "state": {
       "_view_name": "ErrorWidgetView",
       "children": [
        "IPY_MODEL_6b1fa18743514b768c60bf79d3dff778",
        "IPY_MODEL_5b3970a82b324b6488994f742fb777bb",
        "IPY_MODEL_1f1e4aa3706d41209f65318ec58aa276",
        "IPY_MODEL_b8bc7e15125a43c4963dd5c91389c2ad",
        "IPY_MODEL_40e3960bc47948988ca928d23be9f463"
       ],
       "error": {},
       "layout": "IPY_MODEL_79e8eeb5f30447bca99d2046d7a2e6c9",
       "msg": "Failed to load model class 'HBoxModel' from module '@jupyter-widgets/controls'"
      }
     },
     "30903aa480f4423a85d1bef229f453da": {
      "model_module": "@jupyter-widgets/controls",
      "model_module_version": "2.0.0",
      "model_name": "DropdownModel",
      "state": {
       "_options_labels": [
        "auto",
        "equal"
       ],
       "_view_name": "ErrorWidgetView",
       "description": "aspect",
       "error": {},
       "index": 1,
       "layout": "IPY_MODEL_fa51417f3b77440896f612caec57a9ac",
       "msg": "Failed to load model class 'DropdownModel' from module '@jupyter-widgets/controls'",
       "style": "IPY_MODEL_88d6c6fa1cc94150b9e945a036a47a08"
      }
     },
     "30b2a8331f0c4898ae666e92844df181": {
      "model_module": "@jupyter-widgets/controls",
      "model_module_version": "2.0.0",
      "model_name": "DropdownModel",
      "state": {
       "_options_labels": [
        "antialiased",
        "none",
        "nearest",
        "bilinear",
        "bicubic",
        "spline16",
        "spline36",
        "hanning",
        "hamming",
        "hermite",
        "kaiser",
        "quadric",
        "catrom",
        "gaussian",
        "bessel",
        "mitchell",
        "sinc",
        "lanczos",
        "blackman"
       ],
       "_view_name": "ErrorWidgetView",
       "description": "interpolation",
       "error": {},
       "index": 2,
       "layout": "IPY_MODEL_73c2f54128de4be79e8ba2a0dbb45d0d",
       "msg": "Failed to load model class 'DropdownModel' from module '@jupyter-widgets/controls'",
       "style": "IPY_MODEL_bcb9b4cbc5e64744bb650e7057bf5355"
      }
     },
     "30e87eba8ada46029987db20f3e223d1": {
      "model_module": "@jupyter-widgets/controls",
      "model_module_version": "2.0.0",
      "model_name": "DescriptionStyleModel",
      "state": {
       "_view_name": "ErrorWidgetView",
       "description_width": "",
       "error": {},
       "msg": "Failed to load model class 'DescriptionStyleModel' from module '@jupyter-widgets/controls'"
      }
     },
     "31d85b0848f744e6a8b7250aa83c0336": {
      "model_module": "@jupyter-widgets/controls",
      "model_module_version": "2.0.0",
      "model_name": "IntTextModel",
      "state": {
       "_view_name": "ErrorWidgetView",
       "description": "stack:",
       "error": {},
       "layout": "IPY_MODEL_a6655a288b8c4660b24eb126c357287f",
       "msg": "Failed to load model class 'IntTextModel' from module '@jupyter-widgets/controls'",
       "step": 1,
       "style": "IPY_MODEL_98cb7922abf84ec188afbb1462cdd586",
       "value": 1
      }
     },
     "3283ca2aaee04af4bb69d459cdda9253": {
      "model_module": "@jupyter-widgets/controls",
      "model_module_version": "2.0.0",
      "model_name": "DescriptionStyleModel",
      "state": {
       "_view_name": "ErrorWidgetView",
       "description_width": "",
       "error": {},
       "msg": "Failed to load model class 'DescriptionStyleModel' from module '@jupyter-widgets/controls'"
      }
     },
     "328ef65923dc4a98b35993d9b533a892": {
      "model_module": "@jupyter-widgets/base",
      "model_module_version": "2.0.0",
      "model_name": "LayoutModel",
      "state": {
       "_view_name": "ErrorWidgetView",
       "error": {},
       "msg": "Failed to load model class 'LayoutModel' from module '@jupyter-widgets/base'",
       "width": "15%"
      }
     },
     "32f7e864654b4418a7763c9500eca16b": {
      "model_module": "@jupyter-widgets/base",
      "model_module_version": "2.0.0",
      "model_name": "LayoutModel",
      "state": {
       "_view_name": "ErrorWidgetView",
       "error": {},
       "msg": "Failed to load model class 'LayoutModel' from module '@jupyter-widgets/base'"
      }
     },
     "32fddbac18b4459794994565be243dc0": {
      "model_module": "@jupyter-widgets/base",
      "model_module_version": "2.0.0",
      "model_name": "LayoutModel",
      "state": {
       "width": "15%"
      }
     },
     "33396d54805d4d2ea6cd49624b4dd537": {
      "model_module": "@jupyter-widgets/controls",
      "model_module_version": "2.0.0",
      "model_name": "DropdownModel",
      "state": {
       "_options_labels": [
        "linear",
        "beamsample"
       ],
       "_view_name": "ErrorWidgetView",
       "description": "wci render",
       "error": {},
       "index": 0,
       "layout": "IPY_MODEL_e6a80d6a63d54931a6533a7c74aaa452",
       "msg": "Failed to load model class 'DropdownModel' from module '@jupyter-widgets/controls'",
       "style": "IPY_MODEL_9225736679274033b95725f462ef6a19"
      }
     },
     "33481c4522a04a7f8f6ca431c8f8e3d4": {
      "model_module": "@jupyter-widgets/base",
      "model_module_version": "2.0.0",
      "model_name": "LayoutModel",
      "state": {
       "_view_name": "ErrorWidgetView",
       "error": {},
       "msg": "Failed to load model class 'LayoutModel' from module '@jupyter-widgets/base'",
       "width": "10%"
      }
     },
     "338c2730f1de47f0a5dfe4e2df3c1ae6": {
      "model_module": "@jupyter-widgets/controls",
      "model_module_version": "2.0.0",
      "model_name": "DescriptionStyleModel",
      "state": {
       "_view_name": "ErrorWidgetView",
       "description_width": "",
       "error": {},
       "msg": "Failed to load model class 'DescriptionStyleModel' from module '@jupyter-widgets/controls'"
      }
     },
     "33e3320e78274195b62636a80354f9ea": {
      "model_module": "@jupyter-widgets/base",
      "model_module_version": "2.0.0",
      "model_name": "LayoutModel",
      "state": {
       "_view_name": "ErrorWidgetView",
       "error": {},
       "msg": "Failed to load model class 'LayoutModel' from module '@jupyter-widgets/base'"
      }
     },
     "3412e0452e324723bae170fb3c8f6f10": {
      "model_module": "@jupyter-widgets/base",
      "model_module_version": "2.0.0",
      "model_name": "LayoutModel",
      "state": {
       "_view_name": "ErrorWidgetView",
       "error": {},
       "msg": "Failed to load model class 'LayoutModel' from module '@jupyter-widgets/base'",
       "width": "50%"
      }
     },
     "34381e4f31184bc1b498c9643e17bb78": {
      "model_module": "@jupyter-widgets/controls",
      "model_module_version": "2.0.0",
      "model_name": "DropdownModel",
      "state": {
       "_options_labels": [
        "antialiased",
        "none",
        "nearest",
        "bilinear",
        "bicubic",
        "spline16",
        "spline36",
        "hanning",
        "hamming",
        "hermite",
        "kaiser",
        "quadric",
        "catrom",
        "gaussian",
        "bessel",
        "mitchell",
        "sinc",
        "lanczos",
        "blackman"
       ],
       "_view_name": "ErrorWidgetView",
       "description": "interpolation",
       "error": {},
       "index": 2,
       "layout": "IPY_MODEL_6fc935c3769c43b69b65f6ea557bc6d3",
       "msg": "Failed to load model class 'DropdownModel' from module '@jupyter-widgets/controls'",
       "style": "IPY_MODEL_b6b00369ce374fe3bb1b89535b200c4d"
      }
     },
     "3449ea7f2cbd47fa8e63bda6c92901b5": {
      "model_module": "@jupyter-widgets/controls",
      "model_module_version": "2.0.0",
      "model_name": "SliderStyleModel",
      "state": {
       "_view_name": "ErrorWidgetView",
       "description_width": "",
       "error": {},
       "msg": "Failed to load model class 'SliderStyleModel' from module '@jupyter-widgets/controls'"
      }
     },
     "345a455b89fd4c65b61fa336e2aeaa0f": {
      "model_module": "@jupyter-widgets/controls",
      "model_module_version": "2.0.0",
      "model_name": "DescriptionStyleModel",
      "state": {
       "_view_name": "ErrorWidgetView",
       "description_width": "",
       "error": {},
       "msg": "Failed to load model class 'DescriptionStyleModel' from module '@jupyter-widgets/controls'"
      }
     },
     "34899a9a838d4972b812ae3890cefec3": {
      "model_module": "@jupyter-widgets/base",
      "model_module_version": "2.0.0",
      "model_name": "LayoutModel",
      "state": {
       "_view_name": "ErrorWidgetView",
       "error": {},
       "msg": "Failed to load model class 'LayoutModel' from module '@jupyter-widgets/base'"
      }
     },
     "349b5211310646ebb6ccde785ad8d27b": {
      "model_module": "@jupyter-widgets/controls",
      "model_module_version": "2.0.0",
      "model_name": "DescriptionStyleModel",
      "state": {
       "_view_name": "ErrorWidgetView",
       "description_width": "",
       "error": {},
       "msg": "Failed to load model class 'DescriptionStyleModel' from module '@jupyter-widgets/controls'"
      }
     },
     "34b33dea973a4ddb80b1b546c4c38252": {
      "model_module": "@jupyter-widgets/base",
      "model_module_version": "2.0.0",
      "model_name": "LayoutModel",
      "state": {
       "_view_name": "ErrorWidgetView",
       "error": {},
       "msg": "Failed to load model class 'LayoutModel' from module '@jupyter-widgets/base'"
      }
     },
     "34d6de4214ee423d9be2055a387898fd": {
      "model_module": "@jupyter-widgets/base",
      "model_module_version": "2.0.0",
      "model_name": "LayoutModel",
      "state": {
       "_view_name": "ErrorWidgetView",
       "error": {},
       "msg": "Failed to load model class 'LayoutModel' from module '@jupyter-widgets/base'"
      }
     },
     "350c3835bf4a4f44af8ff7ed5b2ec490": {
      "model_module": "@jupyter-widgets/base",
      "model_module_version": "2.0.0",
      "model_name": "LayoutModel",
      "state": {
       "_view_name": "ErrorWidgetView",
       "error": {},
       "msg": "Failed to load model class 'LayoutModel' from module '@jupyter-widgets/base'"
      }
     },
     "3510087eadb743fba7967f64da20478c": {
      "model_module": "@jupyter-widgets/controls",
      "model_module_version": "2.0.0",
      "model_name": "ProgressStyleModel",
      "state": {
       "_view_name": "ErrorWidgetView",
       "description_width": "",
       "error": {},
       "msg": "Failed to load model class 'ProgressStyleModel' from module '@jupyter-widgets/controls'"
      }
     },
     "3527e23c3100476f80d7545b82619a14": {
      "model_module": "@jupyter-widgets/controls",
      "model_module_version": "2.0.0",
      "model_name": "TextModel",
      "state": {
       "_view_name": "ErrorWidgetView",
       "error": {},
       "layout": "IPY_MODEL_5404fcb6ff2b43a9b02e6054e9c0155e",
       "msg": "Failed to load model class 'TextModel' from module '@jupyter-widgets/controls'",
       "style": "IPY_MODEL_4fdeaddbb08545469a63e0344771eaf6",
       "value": "08:12:41"
      }
     },
     "3527eb4b637a4feaa8803235a81d0ed4": {
      "model_module": "@jupyter-widgets/base",
      "model_module_version": "2.0.0",
      "model_name": "LayoutModel",
      "state": {
       "_view_name": "ErrorWidgetView",
       "error": {},
       "msg": "Failed to load model class 'LayoutModel' from module '@jupyter-widgets/base'"
      }
     },
     "35bf236cb4474e029fef2e9222ac9324": {
      "model_module": "@jupyter-widgets/base",
      "model_module_version": "2.0.0",
      "model_name": "LayoutModel",
      "state": {
       "_view_name": "ErrorWidgetView",
       "error": {},
       "msg": "Failed to load model class 'LayoutModel' from module '@jupyter-widgets/base'"
      }
     },
     "363147a4d53748338ab76761ece70165": {
      "model_module": "@jupyter-widgets/controls",
      "model_module_version": "2.0.0",
      "model_name": "FloatSliderModel",
      "state": {
       "_view_name": "ErrorWidgetView",
       "description": "vmax",
       "error": {},
       "layout": "IPY_MODEL_f66aaf9396054c2ea8d7a580fe269b62",
       "min": -150,
       "msg": "Failed to load model class 'FloatSliderModel' from module '@jupyter-widgets/controls'",
       "step": 5,
       "style": "IPY_MODEL_7b3c2a816deb4b1eaa42a0a194f73547",
       "value": -25
      }
     },
     "3660432995514a5f8bd9274dfaa83c35": {
      "model_module": "@jupyter-widgets/controls",
      "model_module_version": "2.0.0",
      "model_name": "FloatSliderModel",
      "state": {
       "_view_name": "ErrorWidgetView",
       "description": "vmin",
       "error": {},
       "layout": "IPY_MODEL_46154076a2e84da4a183365736ac1a52",
       "min": -150,
       "msg": "Failed to load model class 'FloatSliderModel' from module '@jupyter-widgets/controls'",
       "step": 5,
       "style": "IPY_MODEL_bb602c767cbb4a60ad63732dfd60ed34",
       "value": -90
      }
     },
     "3672759d5f544719a7e3ac9e8d4673e2": {
      "model_module": "@jupyter-widgets/controls",
      "model_module_version": "2.0.0",
      "model_name": "DescriptionStyleModel",
      "state": {
       "_view_name": "ErrorWidgetView",
       "description_width": "",
       "error": {},
       "msg": "Failed to load model class 'DescriptionStyleModel' from module '@jupyter-widgets/controls'"
      }
     },
     "36a0a4d3acd64374920c588218b9d0bf": {
      "model_module": "@jupyter-widgets/controls",
      "model_module_version": "2.0.0",
      "model_name": "DropdownModel",
      "state": {
       "_options_labels": [
        "linear",
        "beamsample"
       ],
       "_view_name": "ErrorWidgetView",
       "description": "wci render",
       "error": {},
       "index": 0,
       "layout": "IPY_MODEL_f5856b951e4741c2a2ef04beacc272cb",
       "msg": "Failed to load model class 'DropdownModel' from module '@jupyter-widgets/controls'",
       "style": "IPY_MODEL_5abdadc5dff84937bad47804721e2c5e"
      }
     },
     "36c5393df94a4641a00e04cc11c02468": {
      "model_module": "@jupyter-widgets/controls",
      "model_module_version": "2.0.0",
      "model_name": "ButtonModel",
      "state": {
       "_view_name": "ErrorWidgetView",
       "description": "unfix x/y",
       "error": {},
       "layout": "IPY_MODEL_5434b37b250e4a498d5c9e0af1d07d1b",
       "msg": "Failed to load model class 'ButtonModel' from module '@jupyter-widgets/controls'",
       "style": "IPY_MODEL_18c1bdd6a4ec40df9e8b43fd449e94ef"
      }
     },
     "371dea1dab1745b1a44bf17b7500db34": {
      "model_module": "@jupyter-widgets/controls",
      "model_module_version": "2.0.0",
      "model_name": "ButtonModel",
      "state": {
       "_view_name": "ErrorWidgetView",
       "button_style": "warning",
       "description": "fix x/y",
       "error": {},
       "layout": "IPY_MODEL_54a8bb07aa084739a01606ae48c32f72",
       "msg": "Failed to load model class 'ButtonModel' from module '@jupyter-widgets/controls'",
       "style": "IPY_MODEL_da9ec292854b4d828c2e67472add68d3"
      }
     },
     "377bd535bcd04385b1a297911be99515": {
      "model_module": "@jupyter-widgets/base",
      "model_module_version": "2.0.0",
      "model_name": "LayoutModel",
      "state": {
       "_view_name": "ErrorWidgetView",
       "error": {},
       "msg": "Failed to load model class 'LayoutModel' from module '@jupyter-widgets/base'"
      }
     },
     "37931afa51ff47bfb027773848cf0130": {
      "model_module": "@jupyter-widgets/base",
      "model_module_version": "2.0.0",
      "model_name": "LayoutModel",
      "state": {
       "_view_name": "ErrorWidgetView",
       "error": {},
       "msg": "Failed to load model class 'LayoutModel' from module '@jupyter-widgets/base'"
      }
     },
     "3795545e63b5484fafdb237ca26f6949": {
      "model_module": "@jupyter-widgets/controls",
      "model_module_version": "2.0.0",
      "model_name": "DescriptionStyleModel",
      "state": {
       "_view_name": "ErrorWidgetView",
       "description_width": "",
       "error": {},
       "msg": "Failed to load model class 'DescriptionStyleModel' from module '@jupyter-widgets/controls'"
      }
     },
     "37bd10271c9b4a15a7473c83ad3b3d2a": {
      "model_module": "@jupyter-widgets/controls",
      "model_module_version": "2.0.0",
      "model_name": "VBoxModel",
      "state": {
       "_view_name": "ErrorWidgetView",
       "children": [
        "IPY_MODEL_60372c2ff389407a94d0999ea1c2c149",
        "IPY_MODEL_d0c91005ee3b4b678237c0d68c4e9db0",
        "IPY_MODEL_bfb64eca42ab40ef9c4b3188395be4aa",
        "IPY_MODEL_10d8cc770fda45419d58185e6b628377",
        "IPY_MODEL_8d69a4d71f57475eba8e234a431c086c",
        "IPY_MODEL_9ccadc11411a4c3ba66d081006b1fd82"
       ],
       "error": {},
       "layout": "IPY_MODEL_394034b47db14693abcaede270799b4e",
       "msg": "Failed to load model class 'VBoxModel' from module '@jupyter-widgets/controls'"
      }
     },
     "37eb6379e216436dbc06380c2641d22e": {
      "model_module": "@jupyter-widgets/controls",
      "model_module_version": "2.0.0",
      "model_name": "HBoxModel",
      "state": {
       "children": [
        "IPY_MODEL_e4ee181a53014d6aa4918939cb879f2d",
        "IPY_MODEL_50509ee96ab4498da3f8fe0dd4b8d101",
        "IPY_MODEL_7bf16245ecf9473a909fa3bb0e3d94f1",
        "IPY_MODEL_9d134805a65848d08dbd43f2b8902fee",
        "IPY_MODEL_f172a133715a427f976c237640d2d53d",
        "IPY_MODEL_9ca027b80bbf46c5ae390993ed173449"
       ],
       "layout": "IPY_MODEL_abc06a28587548819ad949c083afddcd"
      }
     },
     "38155c7e33754923b08401fb1e062738": {
      "model_module": "@jupyter-widgets/base",
      "model_module_version": "2.0.0",
      "model_name": "LayoutModel",
      "state": {
       "_view_name": "ErrorWidgetView",
       "error": {},
       "msg": "Failed to load model class 'LayoutModel' from module '@jupyter-widgets/base'",
       "width": "15%"
      }
     },
     "385b96d380354776a4d40c30038e5c8c": {
      "model_module": "@jupyter-widgets/base",
      "model_module_version": "2.0.0",
      "model_name": "LayoutModel",
      "state": {
       "_view_name": "ErrorWidgetView",
       "error": {},
       "msg": "Failed to load model class 'LayoutModel' from module '@jupyter-widgets/base'"
      }
     },
     "386db2379bcd4463b160740dbe776578": {
      "model_module": "@jupyter-widgets/base",
      "model_module_version": "2.0.0",
      "model_name": "LayoutModel",
      "state": {
       "_view_name": "ErrorWidgetView",
       "error": {},
       "msg": "Failed to load model class 'LayoutModel' from module '@jupyter-widgets/base'"
      }
     },
     "394034b47db14693abcaede270799b4e": {
      "model_module": "@jupyter-widgets/base",
      "model_module_version": "2.0.0",
      "model_name": "LayoutModel",
      "state": {
       "_view_name": "ErrorWidgetView",
       "error": {},
       "msg": "Failed to load model class 'LayoutModel' from module '@jupyter-widgets/base'"
      }
     },
     "3943a51d2139457cb89039d2882923d6": {
      "model_module": "@jupyter-widgets/base",
      "model_module_version": "2.0.0",
      "model_name": "LayoutModel",
      "state": {
       "_view_name": "ErrorWidgetView",
       "error": {},
       "msg": "Failed to load model class 'LayoutModel' from module '@jupyter-widgets/base'"
      }
     },
     "39543c4ea8d542788d9e8e5ea87255c9": {
      "model_module": "@jupyter-widgets/controls",
      "model_module_version": "2.0.0",
      "model_name": "DescriptionStyleModel",
      "state": {
       "_view_name": "ErrorWidgetView",
       "description_width": "",
       "error": {},
       "msg": "Failed to load model class 'DescriptionStyleModel' from module '@jupyter-widgets/controls'"
      }
     },
     "3990b9a8317b43b1bdbca45fb5140573": {
      "model_module": "@jupyter-widgets/controls",
      "model_module_version": "2.0.0",
      "model_name": "FloatSliderModel",
      "state": {
       "_view_name": "ErrorWidgetView",
       "description": "vmin",
       "error": {},
       "layout": "IPY_MODEL_c88febd6a58c451ebf8ab1ea1b6ced26",
       "min": -150,
       "msg": "Failed to load model class 'FloatSliderModel' from module '@jupyter-widgets/controls'",
       "step": 5,
       "style": "IPY_MODEL_70c4ba0cd0914a7eae01c9126a555170",
       "value": -90
      }
     },
     "399a7d13193c42bf89ec83e32559bae3": {
      "model_module": "@jupyter-widgets/controls",
      "model_module_version": "2.0.0",
      "model_name": "DropdownModel",
      "state": {
       "_options_labels": [
        "auto",
        "equal"
       ],
       "_view_name": "ErrorWidgetView",
       "description": "aspect",
       "error": {},
       "index": 1,
       "layout": "IPY_MODEL_bd3ad508ecae479b96c72cb786ea20f5",
       "msg": "Failed to load model class 'DropdownModel' from module '@jupyter-widgets/controls'",
       "style": "IPY_MODEL_1077d5e658904d36bdb2200021d840a5"
      }
     },
     "3a9f7dfb098649409b8deac6d538b56f": {
      "model_module": "@jupyter-widgets/controls",
      "model_module_version": "2.0.0",
      "model_name": "DescriptionStyleModel",
      "state": {
       "_view_name": "ErrorWidgetView",
       "description_width": "",
       "error": {},
       "msg": "Failed to load model class 'DescriptionStyleModel' from module '@jupyter-widgets/controls'"
      }
     },
     "3ad58cba6ce84a1299c9a027c5bccb99": {
      "model_module": "@jupyter-widgets/controls",
      "model_module_version": "2.0.0",
      "model_name": "CheckboxModel",
      "state": {
       "_view_name": "ErrorWidgetView",
       "description": "stack_linear",
       "disabled": false,
       "error": {},
       "layout": "IPY_MODEL_4bd6cd2fc9e841eea042b17da49c616b",
       "msg": "Failed to load model class 'CheckboxModel' from module '@jupyter-widgets/controls'",
       "style": "IPY_MODEL_c642c685c7554664a6369d7e819ceaab",
       "value": true
      }
     },
     "3ada0d435dd24deeb6bf2691e7d25a5e": {
      "model_module": "@jupyter-widgets/controls",
      "model_module_version": "2.0.0",
      "model_name": "ButtonStyleModel",
      "state": {
       "_view_name": "ErrorWidgetView",
       "error": {},
       "msg": "Failed to load model class 'ButtonStyleModel' from module '@jupyter-widgets/controls'"
      }
     },
     "3aea622ea24a4177b13ace26f47f8c27": {
      "model_module": "@jupyter-widgets/controls",
      "model_module_version": "2.0.0",
      "model_name": "TextModel",
      "state": {
       "_view_name": "ErrorWidgetView",
       "error": {},
       "layout": "IPY_MODEL_aaca24d76c8140eda04327dc68a9cd64",
       "msg": "Failed to load model class 'TextModel' from module '@jupyter-widgets/controls'",
       "style": "IPY_MODEL_6bec23a53c93437f975f7ce2c79d462b",
       "value": "2023-03-18"
      }
     },
     "3b2d137bc0474a0ca134781073eed7a7": {
      "model_module": "@jupyter-widgets/base",
      "model_module_version": "2.0.0",
      "model_name": "LayoutModel",
      "state": {
       "_view_name": "ErrorWidgetView",
       "error": {},
       "msg": "Failed to load model class 'LayoutModel' from module '@jupyter-widgets/base'"
      }
     },
     "3b563f0c3f844c0a8a44b6139375c3f8": {
      "model_module": "@jupyter-widgets/controls",
      "model_module_version": "2.0.0",
      "model_name": "DropdownModel",
      "state": {
       "_options_labels": [
        "auto",
        "equal"
       ],
       "_view_name": "ErrorWidgetView",
       "description": "aspect",
       "error": {},
       "index": 1,
       "layout": "IPY_MODEL_8fa9d2646c35404eae52c251e02f2390",
       "msg": "Failed to load model class 'DropdownModel' from module '@jupyter-widgets/controls'",
       "style": "IPY_MODEL_1f85e9996813444eb2e7356f6753aaa3"
      }
     },
     "3b6ff80a68484239bd25300a87fa6fbf": {
      "model_module": "@jupyter-widgets/base",
      "model_module_version": "2.0.0",
      "model_name": "LayoutModel",
      "state": {
       "_view_name": "ErrorWidgetView",
       "error": {},
       "msg": "Failed to load model class 'LayoutModel' from module '@jupyter-widgets/base'"
      }
     },
     "3bc4e9cdf8794ecc9b4183e17c564ea0": {
      "model_module": "@jupyter-widgets/base",
      "model_module_version": "2.0.0",
      "model_name": "LayoutModel",
      "state": {
       "_view_name": "ErrorWidgetView",
       "error": {},
       "msg": "Failed to load model class 'LayoutModel' from module '@jupyter-widgets/base'"
      }
     },
     "3bce49b257e04d39ad503f14b8b5c9aa": {
      "model_module": "@jupyter-widgets/controls",
      "model_module_version": "2.0.0",
      "model_name": "DescriptionStyleModel",
      "state": {
       "_view_name": "ErrorWidgetView",
       "description_width": "",
       "error": {},
       "msg": "Failed to load model class 'DescriptionStyleModel' from module '@jupyter-widgets/controls'"
      }
     },
     "3c35311e10d64cf3bfb6097ba176f933": {
      "model_module": "@jupyter-widgets/base",
      "model_module_version": "2.0.0",
      "model_name": "LayoutModel",
      "state": {
       "_view_name": "ErrorWidgetView",
       "error": {},
       "msg": "Failed to load model class 'LayoutModel' from module '@jupyter-widgets/base'"
      }
     },
     "3c67b4fd10ca44c7b20d293701302b90": {
      "model_module": "@jupyter-widgets/controls",
      "model_module_version": "2.0.0",
      "model_name": "VBoxModel",
      "state": {
       "_view_name": "ErrorWidgetView",
       "children": [
        "IPY_MODEL_60372c2ff389407a94d0999ea1c2c149",
        "IPY_MODEL_124d171293ed40d39168347c11ebe4c0",
        "IPY_MODEL_e556f2c5eb7c40c7bad5be2176f4103e",
        "IPY_MODEL_613a6b9f8c264a2d9b4128117907ab4e",
        "IPY_MODEL_c6758e62fe994336a6b9908645e7dc00",
        "IPY_MODEL_f380ec2444cd4032aa9d160f07cc580e"
       ],
       "error": {},
       "layout": "IPY_MODEL_b888c860692b4f86ba705d4cceccdc32",
       "msg": "Failed to load model class 'VBoxModel' from module '@jupyter-widgets/controls'"
      }
     },
     "3c6eea11e1f74b7f8bc2b26e7055bba1": {
      "model_module": "@jupyter-widgets/controls",
      "model_module_version": "2.0.0",
      "model_name": "ButtonModel",
      "state": {
       "_view_name": "ErrorWidgetView",
       "description": "unfix x/y",
       "error": {},
       "layout": "IPY_MODEL_1224a89624ac4846a4753e26d055dca8",
       "msg": "Failed to load model class 'ButtonModel' from module '@jupyter-widgets/controls'",
       "style": "IPY_MODEL_b6a4a29646b34e9cb6755a3584c44aa4"
      }
     },
     "3c8e2f88e584484a8fc1ba1f7ee96b24": {
      "model_module": "@jupyter-widgets/controls",
      "model_module_version": "2.0.0",
      "model_name": "DescriptionStyleModel",
      "state": {
       "_view_name": "ErrorWidgetView",
       "description_width": "",
       "error": {},
       "msg": "Failed to load model class 'DescriptionStyleModel' from module '@jupyter-widgets/controls'"
      }
     },
     "3cf3a018128e402f82995656d75b6cee": {
      "model_module": "@jupyter-widgets/controls",
      "model_module_version": "2.0.0",
      "model_name": "VBoxModel",
      "state": {
       "_view_name": "ErrorWidgetView",
       "children": [
        "IPY_MODEL_5528fb18837d4d3093f571a6baf3490f",
        "IPY_MODEL_bceb040291fb42e999e2567d67823c76",
        "IPY_MODEL_f28d766f9e694b5ea5b3e231e52e5059",
        "IPY_MODEL_d8b636f6171144ab82db464a34dfae6d",
        "IPY_MODEL_f0f61cd26305445fa7f6e0244ac9ed77",
        "IPY_MODEL_9fc6d309d347400cb53305f1cc2c6a6e"
       ],
       "error": {},
       "layout": "IPY_MODEL_2e85ec639deb420e979b41b228ab59eb",
       "msg": "Failed to load model class 'VBoxModel' from module '@jupyter-widgets/controls'"
      }
     },
     "3cf945e8a5834148b45ea564eaace977": {
      "model_module": "@jupyter-widgets/controls",
      "model_module_version": "2.0.0",
      "model_name": "TextModel",
      "state": {
       "_view_name": "ErrorWidgetView",
       "description": "proc rate",
       "error": {},
       "layout": "IPY_MODEL_edeccd75571d45eead62d7c9910b5330",
       "msg": "Failed to load model class 'TextModel' from module '@jupyter-widgets/controls'",
       "style": "IPY_MODEL_fc499dc6664a4c2aaaf57afc35ec3dda",
       "value": "r1: 51.8 / r2: 10.0 / r3: [8.4] Hz"
      }
     },
     "3d64d039201142abae38b272c1b6f583": {
      "model_module": "@jupyter-widgets/controls",
      "model_module_version": "2.0.0",
      "model_name": "DropdownModel",
      "state": {
       "_options_labels": [
        "auto",
        "equal"
       ],
       "_view_name": "ErrorWidgetView",
       "description": "aspect",
       "error": {},
       "index": 1,
       "layout": "IPY_MODEL_a3eb370d4e2e43a890b98de5db0cd3c6",
       "msg": "Failed to load model class 'DropdownModel' from module '@jupyter-widgets/controls'",
       "style": "IPY_MODEL_6959d4c8aff04e418a6e81aaa0fa473b"
      }
     },
     "3d7798afc1b24ad4a73de7e63ef95f87": {
      "model_module": "@jupyter-widgets/controls",
      "model_module_version": "2.0.0",
      "model_name": "IntSliderModel",
      "state": {
       "_view_name": "ErrorWidgetView",
       "description": "ping nr",
       "error": {},
       "layout": "IPY_MODEL_0aad08bc79b44dbe9ec8db4c31a1874b",
       "max": 66,
       "msg": "Failed to load model class 'IntSliderModel' from module '@jupyter-widgets/controls'",
       "style": "IPY_MODEL_b399830c15aa4012afcdd4e38ac9a10f",
       "value": 60
      }
     },
     "3d952bbe86404d589ecf3f7e1f86ea75": {
      "model_module": "@jupyter-widgets/controls",
      "model_module_version": "2.0.0",
      "model_name": "TextModel",
      "state": {
       "_view_name": "ErrorWidgetView",
       "description": "proc rate",
       "error": {},
       "layout": "IPY_MODEL_eba213e08fcc4c6c9453a60d8299da6f",
       "msg": "Failed to load model class 'TextModel' from module '@jupyter-widgets/controls'",
       "style": "IPY_MODEL_a378a2c7b2584b24bf1ce2e51f2e8906",
       "value": "r1: 98.3 / r2: 9.0 / r3: [8.3] Hz"
      }
     },
     "3df0264db60e4362b107b5ed9590480d": {
      "model_module": "@jupyter-widgets/controls",
      "model_module_version": "2.0.0",
      "model_name": "IntSliderModel",
      "state": {
       "_view_name": "ErrorWidgetView",
       "description": "horizontal pixels",
       "error": {},
       "layout": "IPY_MODEL_5be70f6b50ce49ec92feeb5881966e1f",
       "max": 2048,
       "min": 2,
       "msg": "Failed to load model class 'IntSliderModel' from module '@jupyter-widgets/controls'",
       "style": "IPY_MODEL_242ab150c6e543af8b9266947d980ca7",
       "value": 1024
      }
     },
     "3e156a34e19b43ee83650b8877ccf703": {
      "model_module": "@jupyter-widgets/controls",
      "model_module_version": "2.0.0",
      "model_name": "CheckboxModel",
      "state": {
       "_view_name": "ErrorWidgetView",
       "description": "stack_linear",
       "disabled": false,
       "error": {},
       "layout": "IPY_MODEL_420fb1459cfc4d0e92888f0a96f19897",
       "msg": "Failed to load model class 'CheckboxModel' from module '@jupyter-widgets/controls'",
       "style": "IPY_MODEL_d8baa73ef7c54751bba7ca928784a049",
       "value": true
      }
     },
     "3e480ca29afe49bab740786f7148623a": {
      "model_module": "@jupyter-widgets/controls",
      "model_module_version": "2.0.0",
      "model_name": "DescriptionStyleModel",
      "state": {
       "_view_name": "ErrorWidgetView",
       "description_width": "",
       "error": {},
       "msg": "Failed to load model class 'DescriptionStyleModel' from module '@jupyter-widgets/controls'"
      }
     },
     "3e7021577e614058842ddc0bf66bcf89": {
      "model_module": "@jupyter-widgets/base",
      "model_module_version": "2.0.0",
      "model_name": "LayoutModel",
      "state": {
       "_view_name": "ErrorWidgetView",
       "error": {},
       "msg": "Failed to load model class 'LayoutModel' from module '@jupyter-widgets/base'"
      }
     },
     "3ea2a99e4a654d38a30ffdb6703d4e80": {
      "model_module": "@jupyter-widgets/controls",
      "model_module_version": "2.0.0",
      "model_name": "HBoxModel",
      "state": {
       "_view_name": "ErrorWidgetView",
       "children": [
        "IPY_MODEL_895c114731874a20b2a2c3a059ded6f3",
        "IPY_MODEL_a66caf0373f24bed949da61820b9924e",
        "IPY_MODEL_a3946bf36fbc45aa8b011d2160752cd2",
        "IPY_MODEL_d417aa129c674740acbef34dfb61a3dd"
       ],
       "error": {},
       "layout": "IPY_MODEL_43edde40227f4e44a135e873c58db9f5",
       "msg": "Failed to load model class 'HBoxModel' from module '@jupyter-widgets/controls'"
      }
     },
     "3ebf738331974aeca040d53f19fe0aa9": {
      "model_module": "@jupyter-widgets/base",
      "model_module_version": "2.0.0",
      "model_name": "LayoutModel",
      "state": {
       "_view_name": "ErrorWidgetView",
       "error": {},
       "msg": "Failed to load model class 'LayoutModel' from module '@jupyter-widgets/base'"
      }
     },
     "3efcfa0e664d466b83992d6982a688d6": {
      "model_module": "@jupyter-widgets/controls",
      "model_module_version": "2.0.0",
      "model_name": "DescriptionStyleModel",
      "state": {
       "_view_name": "ErrorWidgetView",
       "description_width": "",
       "error": {},
       "msg": "Failed to load model class 'DescriptionStyleModel' from module '@jupyter-widgets/controls'"
      }
     },
     "3f20cb3aa3144734a63111d5547323e1": {
      "model_module": "@jupyter-widgets/controls",
      "model_module_version": "2.0.0",
      "model_name": "TextModel",
      "state": {
       "_view_name": "ErrorWidgetView",
       "error": {},
       "layout": "IPY_MODEL_caac3aa6470b4ff5a42cc10bb51dce12",
       "msg": "Failed to load model class 'TextModel' from module '@jupyter-widgets/controls'",
       "style": "IPY_MODEL_2a6fbd19dbc84ceca5c8f35169776833",
       "value": "17:09:42"
      }
     },
     "3fa563bb48d44f6dbde1507599902b47": {
      "model_module": "@jupyter-widgets/output",
      "model_module_version": "1.0.0",
      "model_name": "OutputModel",
      "state": {
       "layout": "IPY_MODEL_e85179b4a55d48cabbea8b463bacfc9f"
      }
     },
     "3feaec51f3a542eaa5ea30322a0ea988": {
      "model_module": "@jupyter-widgets/controls",
      "model_module_version": "2.0.0",
      "model_name": "TextModel",
      "state": {
       "_view_name": "ErrorWidgetView",
       "error": {},
       "layout": "IPY_MODEL_7e49d6b8dd0f44aaa830bbb259fc4681",
       "msg": "Failed to load model class 'TextModel' from module '@jupyter-widgets/controls'",
       "style": "IPY_MODEL_bfc208451fdf40d7ad3100e8dc9a227a",
       "value": "17:37:53"
      }
     },
     "3fec2760bf91492680ae31fdd2e89784": {
      "model_module": "@jupyter-widgets/controls",
      "model_module_version": "2.0.0",
      "model_name": "DescriptionStyleModel",
      "state": {
       "_view_name": "ErrorWidgetView",
       "description_width": "",
       "error": {},
       "msg": "Failed to load model class 'DescriptionStyleModel' from module '@jupyter-widgets/controls'"
      }
     },
     "40cfa20b146a40b99816943ddbf17854": {
      "model_module": "@jupyter-widgets/controls",
      "model_module_version": "2.0.0",
      "model_name": "DescriptionStyleModel",
      "state": {
       "description_width": ""
      }
     },
     "40e3960bc47948988ca928d23be9f463": {
      "model_module": "@jupyter-widgets/controls",
      "model_module_version": "2.0.0",
      "model_name": "TextModel",
      "state": {
       "_view_name": "ErrorWidgetView",
       "description": "proc rate",
       "error": {},
       "layout": "IPY_MODEL_9b920af17bd24808b2f08f80f93b61ee",
       "msg": "Failed to load model class 'TextModel' from module '@jupyter-widgets/controls'",
       "style": "IPY_MODEL_60c494d47de54dd4bc327b82c307ad8f",
       "value": "r1: 78.9 / r2: 8.9 / r3: [8.0] Hz"
      }
     },
     "413398acba0c4c1b8051b25fd493ffcb": {
      "model_module": "@jupyter-widgets/base",
      "model_module_version": "2.0.0",
      "model_name": "LayoutModel",
      "state": {
       "_view_name": "ErrorWidgetView",
       "error": {},
       "msg": "Failed to load model class 'LayoutModel' from module '@jupyter-widgets/base'"
      }
     },
     "416fd7fbc2964420bd377db0cddca1cc": {
      "model_module": "@jupyter-widgets/base",
      "model_module_version": "2.0.0",
      "model_name": "LayoutModel",
      "state": {
       "_view_name": "ErrorWidgetView",
       "error": {},
       "msg": "Failed to load model class 'LayoutModel' from module '@jupyter-widgets/base'"
      }
     },
     "41cdebedfb8b4ae2aadf90c6985382c7": {
      "model_module": "@jupyter-widgets/controls",
      "model_module_version": "2.0.0",
      "model_name": "FloatSliderModel",
      "state": {
       "_view_name": "ErrorWidgetView",
       "description": "vmin",
       "error": {},
       "layout": "IPY_MODEL_cc05631200564fedaf791b93ac0a5767",
       "min": -150,
       "msg": "Failed to load model class 'FloatSliderModel' from module '@jupyter-widgets/controls'",
       "step": 5,
       "style": "IPY_MODEL_e51a0ae5670a44daba5a7e2fc405398e",
       "value": -90
      }
     },
     "41eb0f931d7b4e2292c392f800d9a44e": {
      "model_module": "@jupyter-widgets/base",
      "model_module_version": "2.0.0",
      "model_name": "LayoutModel",
      "state": {
       "_view_name": "ErrorWidgetView",
       "error": {},
       "msg": "Failed to load model class 'LayoutModel' from module '@jupyter-widgets/base'",
       "width": "15%"
      }
     },
     "420fb1459cfc4d0e92888f0a96f19897": {
      "model_module": "@jupyter-widgets/base",
      "model_module_version": "2.0.0",
      "model_name": "LayoutModel",
      "state": {
       "_view_name": "ErrorWidgetView",
       "error": {},
       "msg": "Failed to load model class 'LayoutModel' from module '@jupyter-widgets/base'"
      }
     },
     "424ac04161064224ad670c50bdbb41ff": {
      "model_module": "@jupyter-widgets/controls",
      "model_module_version": "2.0.0",
      "model_name": "DropdownModel",
      "state": {
       "_options_labels": [
        "auto",
        "equal"
       ],
       "_view_name": "ErrorWidgetView",
       "description": "aspect",
       "error": {},
       "index": 1,
       "layout": "IPY_MODEL_431b2b7b810a480a9ed81df39c3c825e",
       "msg": "Failed to load model class 'DropdownModel' from module '@jupyter-widgets/controls'",
       "style": "IPY_MODEL_1b457511cb6c483b85e4bae70d65a285"
      }
     },
     "4256530ff94b448b8b7823c8fd6e1967": {
      "model_module": "@jupyter-widgets/base",
      "model_module_version": "2.0.0",
      "model_name": "LayoutModel",
      "state": {
       "_view_name": "ErrorWidgetView",
       "error": {},
       "msg": "Failed to load model class 'LayoutModel' from module '@jupyter-widgets/base'"
      }
     },
     "425d43c279e343bdaa9e45d8afd24e14": {
      "model_module": "@jupyter-widgets/base",
      "model_module_version": "2.0.0",
      "model_name": "LayoutModel",
      "state": {
       "_view_name": "ErrorWidgetView",
       "error": {},
       "msg": "Failed to load model class 'LayoutModel' from module '@jupyter-widgets/base'"
      }
     },
     "4263903b4b17450c9f109270d2ef4e09": {
      "model_module": "@jupyter-widgets/controls",
      "model_module_version": "2.0.0",
      "model_name": "IntSliderModel",
      "state": {
       "_view_name": "ErrorWidgetView",
       "description": "horizontal pixels",
       "error": {},
       "layout": "IPY_MODEL_6b343b4e13b949aa8030965abb8be8d3",
       "max": 2048,
       "min": 2,
       "msg": "Failed to load model class 'IntSliderModel' from module '@jupyter-widgets/controls'",
       "style": "IPY_MODEL_bbc90b0e8dfc44329d21805cff0d6c08",
       "value": 1024
      }
     },
     "4274841622c84b76b9991ada76442a3f": {
      "model_module": "@jupyter-widgets/base",
      "model_module_version": "2.0.0",
      "model_name": "LayoutModel",
      "state": {
       "_view_name": "ErrorWidgetView",
       "error": {},
       "msg": "Failed to load model class 'LayoutModel' from module '@jupyter-widgets/base'"
      }
     },
     "4288c7916ba34d918644f9a2e917121f": {
      "model_module": "@jupyter-widgets/base",
      "model_module_version": "2.0.0",
      "model_name": "LayoutModel",
      "state": {
       "_view_name": "ErrorWidgetView",
       "error": {},
       "msg": "Failed to load model class 'LayoutModel' from module '@jupyter-widgets/base'"
      }
     },
     "42cc3908be6842a9bc21129bf113021d": {
      "model_module": "@jupyter-widgets/controls",
      "model_module_version": "2.0.0",
      "model_name": "TextModel",
      "state": {
       "_view_name": "ErrorWidgetView",
       "description": "proc time",
       "error": {},
       "layout": "IPY_MODEL_9c3da83f7f7648018a868ee8a68a52d4",
       "msg": "Failed to load model class 'TextModel' from module '@jupyter-widgets/controls'",
       "style": "IPY_MODEL_ee1bc06fe96243a8947a0530e356f430",
       "value": "0.029 / 0.129 / [0.158] s"
      }
     },
     "42d44a5d47af441abaa62c3a4380faef": {
      "model_module": "@jupyter-widgets/controls",
      "model_module_version": "2.0.0",
      "model_name": "IntTextModel",
      "state": {
       "_view_name": "ErrorWidgetView",
       "description": "stack:",
       "error": {},
       "layout": "IPY_MODEL_ad18b37287ee4171ab954ad3e37105a5",
       "msg": "Failed to load model class 'IntTextModel' from module '@jupyter-widgets/controls'",
       "step": 1,
       "style": "IPY_MODEL_b92d39b0af2a4fdda102c8b8f5055041",
       "value": 1
      }
     },
     "42e92af0cc484324a49340b8f08e7574": {
      "model_module": "@jupyter-widgets/controls",
      "model_module_version": "2.0.0",
      "model_name": "DropdownModel",
      "state": {
       "_options_labels": [
        "linear",
        "beamsample"
       ],
       "_view_name": "ErrorWidgetView",
       "description": "wci render",
       "error": {},
       "index": 0,
       "layout": "IPY_MODEL_8f33fa10b1004af6952ea127aebd8908",
       "msg": "Failed to load model class 'DropdownModel' from module '@jupyter-widgets/controls'",
       "style": "IPY_MODEL_9b29144901754add8e352086b1e46ab7"
      }
     },
     "42f8f95817f6413990c17786fb9ebaf2": {
      "model_module": "@jupyter-widgets/base",
      "model_module_version": "2.0.0",
      "model_name": "LayoutModel",
      "state": {
       "_view_name": "ErrorWidgetView",
       "error": {},
       "msg": "Failed to load model class 'LayoutModel' from module '@jupyter-widgets/base'"
      }
     },
     "430c3b575bd74e089159b5d178380d7f": {
      "model_module": "@jupyter-widgets/controls",
      "model_module_version": "2.0.0",
      "model_name": "DescriptionStyleModel",
      "state": {
       "_view_name": "ErrorWidgetView",
       "description_width": "",
       "error": {},
       "msg": "Failed to load model class 'DescriptionStyleModel' from module '@jupyter-widgets/controls'"
      }
     },
     "431b2b7b810a480a9ed81df39c3c825e": {
      "model_module": "@jupyter-widgets/base",
      "model_module_version": "2.0.0",
      "model_name": "LayoutModel",
      "state": {
       "_view_name": "ErrorWidgetView",
       "error": {},
       "msg": "Failed to load model class 'LayoutModel' from module '@jupyter-widgets/base'"
      }
     },
     "431b5bcdd3684b4b989625a49dd3eaeb": {
      "model_module": "@jupyter-widgets/base",
      "model_module_version": "2.0.0",
      "model_name": "LayoutModel",
      "state": {}
     },
     "432cae0b9f8a491897660d7ccb9e65fb": {
      "model_module": "@jupyter-widgets/controls",
      "model_module_version": "2.0.0",
      "model_name": "CheckboxModel",
      "state": {
       "_view_name": "ErrorWidgetView",
       "description": "stack_linear",
       "disabled": false,
       "error": {},
       "layout": "IPY_MODEL_990e616f351b40209440b306bc385192",
       "msg": "Failed to load model class 'CheckboxModel' from module '@jupyter-widgets/controls'",
       "style": "IPY_MODEL_e33fd413783a42d0a956d1d8b77739bb",
       "value": true
      }
     },
     "435194e4a7d34c47bab06a2e21a55d8c": {
      "model_module": "@jupyter-widgets/base",
      "model_module_version": "2.0.0",
      "model_name": "LayoutModel",
      "state": {
       "_view_name": "ErrorWidgetView",
       "error": {},
       "msg": "Failed to load model class 'LayoutModel' from module '@jupyter-widgets/base'"
      }
     },
     "437e02f770dc46b8b273349c3a510313": {
      "model_module": "@jupyter-widgets/base",
      "model_module_version": "2.0.0",
      "model_name": "LayoutModel",
      "state": {
       "_view_name": "ErrorWidgetView",
       "error": {},
       "msg": "Failed to load model class 'LayoutModel' from module '@jupyter-widgets/base'"
      }
     },
     "43ceb6dbd614452a9e58a9291a070ed7": {
      "model_module": "@jupyter-widgets/controls",
      "model_module_version": "2.0.0",
      "model_name": "FloatSliderModel",
      "state": {
       "_view_name": "ErrorWidgetView",
       "description": "vmin",
       "error": {},
       "layout": "IPY_MODEL_c7ec24ba907747118aa264221ce628d0",
       "min": -150,
       "msg": "Failed to load model class 'FloatSliderModel' from module '@jupyter-widgets/controls'",
       "step": 5,
       "style": "IPY_MODEL_09b1a400f395473286f862e8cfd13851",
       "value": -90
      }
     },
     "43edde40227f4e44a135e873c58db9f5": {
      "model_module": "@jupyter-widgets/base",
      "model_module_version": "2.0.0",
      "model_name": "LayoutModel",
      "state": {
       "_view_name": "ErrorWidgetView",
       "error": {},
       "msg": "Failed to load model class 'LayoutModel' from module '@jupyter-widgets/base'"
      }
     },
     "441b7a50285c4a13ad99eb62d749d567": {
      "model_module": "@jupyter-widgets/controls",
      "model_module_version": "2.0.0",
      "model_name": "IntSliderModel",
      "state": {
       "_view_name": "ErrorWidgetView",
       "description": "horizontal pixels",
       "error": {},
       "layout": "IPY_MODEL_b625bdda56414670ac6806ecdead8b23",
       "max": 2048,
       "min": 2,
       "msg": "Failed to load model class 'IntSliderModel' from module '@jupyter-widgets/controls'",
       "style": "IPY_MODEL_99aa223f520947bd9a802a627f1ae2bb",
       "value": 1024
      }
     },
     "443b26ba2e444005b137c1e9a044d8c1": {
      "model_module": "@jupyter-widgets/controls",
      "model_module_version": "2.0.0",
      "model_name": "DescriptionStyleModel",
      "state": {
       "_view_name": "ErrorWidgetView",
       "description_width": "",
       "error": {},
       "msg": "Failed to load model class 'DescriptionStyleModel' from module '@jupyter-widgets/controls'"
      }
     },
     "447b5abf1d704d4d9d76051025ae1977": {
      "model_module": "@jupyter-widgets/controls",
      "model_module_version": "2.0.0",
      "model_name": "DescriptionStyleModel",
      "state": {
       "_view_name": "ErrorWidgetView",
       "description_width": "",
       "error": {},
       "msg": "Failed to load model class 'DescriptionStyleModel' from module '@jupyter-widgets/controls'"
      }
     },
     "44acd17903e348a0bbb16f51696377cc": {
      "model_module": "@jupyter-widgets/base",
      "model_module_version": "2.0.0",
      "model_name": "LayoutModel",
      "state": {
       "_view_name": "ErrorWidgetView",
       "error": {},
       "msg": "Failed to load model class 'LayoutModel' from module '@jupyter-widgets/base'"
      }
     },
     "450048065eb349d48e40f4b8c388e9bd": {
      "model_module": "@jupyter-widgets/controls",
      "model_module_version": "2.0.0",
      "model_name": "DescriptionStyleModel",
      "state": {
       "_view_name": "ErrorWidgetView",
       "description_width": "",
       "error": {},
       "msg": "Failed to load model class 'DescriptionStyleModel' from module '@jupyter-widgets/controls'"
      }
     },
     "450ac437560747b2b99ada2f3cfeddd3": {
      "model_module": "@jupyter-widgets/controls",
      "model_module_version": "2.0.0",
      "model_name": "SliderStyleModel",
      "state": {
       "_view_name": "ErrorWidgetView",
       "description_width": "",
       "error": {},
       "msg": "Failed to load model class 'SliderStyleModel' from module '@jupyter-widgets/controls'"
      }
     },
     "45c4a25ee86844c189ed5595b6e049ef": {
      "model_module": "@jupyter-widgets/controls",
      "model_module_version": "2.0.0",
      "model_name": "SliderStyleModel",
      "state": {
       "_view_name": "ErrorWidgetView",
       "description_width": "",
       "error": {},
       "msg": "Failed to load model class 'SliderStyleModel' from module '@jupyter-widgets/controls'"
      }
     },
     "45d4f31763d94bec8a740a699b9c7b7f": {
      "model_module": "@jupyter-widgets/controls",
      "model_module_version": "2.0.0",
      "model_name": "IntProgressModel",
      "state": {
       "_view_name": "ErrorWidgetView",
       "description": "Idle",
       "error": {},
       "layout": "IPY_MODEL_b5708fcd5de8458c8852df14fb14e407",
       "max": 10,
       "msg": "Failed to load model class 'IntProgressModel' from module '@jupyter-widgets/controls'",
       "style": "IPY_MODEL_2d80fba03aec473bbdc979d6eecc0463"
      }
     },
     "46154076a2e84da4a183365736ac1a52": {
      "model_module": "@jupyter-widgets/base",
      "model_module_version": "2.0.0",
      "model_name": "LayoutModel",
      "state": {
       "_view_name": "ErrorWidgetView",
       "error": {},
       "msg": "Failed to load model class 'LayoutModel' from module '@jupyter-widgets/base'"
      }
     },
     "464b34c806fb4264a089e8efb7645d25": {
      "model_module": "@jupyter-widgets/base",
      "model_module_version": "2.0.0",
      "model_name": "LayoutModel",
      "state": {
       "_view_name": "ErrorWidgetView",
       "error": {},
       "msg": "Failed to load model class 'LayoutModel' from module '@jupyter-widgets/base'"
      }
     },
     "467ec68cbe90430d89389cab3d401b7b": {
      "model_module": "@jupyter-widgets/base",
      "model_module_version": "2.0.0",
      "model_name": "LayoutModel",
      "state": {
       "_view_name": "ErrorWidgetView",
       "error": {},
       "msg": "Failed to load model class 'LayoutModel' from module '@jupyter-widgets/base'",
       "width": "15%"
      }
     },
     "46860f7556e24602b396c6cb6c108f55": {
      "model_module": "@jupyter-widgets/controls",
      "model_module_version": "2.0.0",
      "model_name": "DescriptionStyleModel",
      "state": {
       "_view_name": "ErrorWidgetView",
       "description_width": "",
       "error": {},
       "msg": "Failed to load model class 'DescriptionStyleModel' from module '@jupyter-widgets/controls'"
      }
     },
     "46896a6602c547e58f283bf068ec8e54": {
      "model_module": "@jupyter-widgets/base",
      "model_module_version": "2.0.0",
      "model_name": "LayoutModel",
      "state": {
       "_view_name": "ErrorWidgetView",
       "error": {},
       "msg": "Failed to load model class 'LayoutModel' from module '@jupyter-widgets/base'"
      }
     },
     "46a1b020cf9e47c796dec1d528ecb2c3": {
      "model_module": "@jupyter-widgets/base",
      "model_module_version": "2.0.0",
      "model_name": "LayoutModel",
      "state": {
       "_view_name": "ErrorWidgetView",
       "error": {},
       "msg": "Failed to load model class 'LayoutModel' from module '@jupyter-widgets/base'"
      }
     },
     "46c90f04a18e441ebdbeb254c03ef7b5": {
      "model_module": "@jupyter-widgets/base",
      "model_module_version": "2.0.0",
      "model_name": "LayoutModel",
      "state": {
       "_view_name": "ErrorWidgetView",
       "error": {},
       "msg": "Failed to load model class 'LayoutModel' from module '@jupyter-widgets/base'"
      }
     },
     "47258870713b48edbee61cd19007dc02": {
      "model_module": "@jupyter-widgets/controls",
      "model_module_version": "2.0.0",
      "model_name": "DescriptionStyleModel",
      "state": {
       "_view_name": "ErrorWidgetView",
       "description_width": "",
       "error": {},
       "msg": "Failed to load model class 'DescriptionStyleModel' from module '@jupyter-widgets/controls'"
      }
     },
     "472aca4fd4164ecdb2d8595a41a411b7": {
      "model_module": "@jupyter-widgets/controls",
      "model_module_version": "2.0.0",
      "model_name": "ButtonStyleModel",
      "state": {
       "_view_name": "ErrorWidgetView",
       "error": {},
       "msg": "Failed to load model class 'ButtonStyleModel' from module '@jupyter-widgets/controls'"
      }
     },
     "475b491ca80d4e7da63d4be9b4243fca": {
      "model_module": "@jupyter-widgets/base",
      "model_module_version": "2.0.0",
      "model_name": "LayoutModel",
      "state": {
       "_view_name": "ErrorWidgetView",
       "error": {},
       "msg": "Failed to load model class 'LayoutModel' from module '@jupyter-widgets/base'"
      }
     },
     "47ba92b4e15645b4ad4bb77d891131c7": {
      "model_module": "@jupyter-widgets/controls",
      "model_module_version": "2.0.0",
      "model_name": "IntSliderModel",
      "state": {
       "_view_name": "ErrorWidgetView",
       "description": "ping nr",
       "error": {},
       "layout": "IPY_MODEL_71a4ab5f3b374b889f829161bdf735f7",
       "max": 66,
       "msg": "Failed to load model class 'IntSliderModel' from module '@jupyter-widgets/controls'",
       "style": "IPY_MODEL_e87a8932a75a45aebd2a8815c666cb53"
      }
     },
     "47ec3e940e64442ea256dce52d3cc4bd": {
      "model_module": "@jupyter-widgets/base",
      "model_module_version": "2.0.0",
      "model_name": "LayoutModel",
      "state": {
       "_view_name": "ErrorWidgetView",
       "error": {},
       "msg": "Failed to load model class 'LayoutModel' from module '@jupyter-widgets/base'"
      }
     },
     "47ec744a4b5b4902abca6890f5dc1144": {
      "model_module": "@jupyter-widgets/controls",
      "model_module_version": "2.0.0",
      "model_name": "SliderStyleModel",
      "state": {
       "_view_name": "ErrorWidgetView",
       "description_width": "",
       "error": {},
       "msg": "Failed to load model class 'SliderStyleModel' from module '@jupyter-widgets/controls'"
      }
     },
     "481274900ecc4971b1d3b65ae870d314": {
      "model_module": "@jupyter-widgets/controls",
      "model_module_version": "2.0.0",
      "model_name": "TextModel",
      "state": {
       "_view_name": "ErrorWidgetView",
       "description": "proc rate",
       "error": {},
       "layout": "IPY_MODEL_a86b270919bb414693c24eb80f689b6c",
       "msg": "Failed to load model class 'TextModel' from module '@jupyter-widgets/controls'",
       "style": "IPY_MODEL_84187dbd0f8e4bd183f07dde44a3b4fb",
       "value": "r1: 26.8 / r2: 11.7 / r3: [8.1] Hz"
      }
     },
     "482222e4ee3a4f57bf8f2605d59ac1ee": {
      "model_module": "@jupyter-widgets/base",
      "model_module_version": "2.0.0",
      "model_name": "LayoutModel",
      "state": {
       "_view_name": "ErrorWidgetView",
       "error": {},
       "msg": "Failed to load model class 'LayoutModel' from module '@jupyter-widgets/base'"
      }
     },
     "485cb47eabb1487bb285087b2e6055b5": {
      "model_module": "@jupyter-widgets/controls",
      "model_module_version": "2.0.0",
      "model_name": "TextModel",
      "state": {
       "_view_name": "ErrorWidgetView",
       "error": {},
       "layout": "IPY_MODEL_d7a1afaa5df5473494aeff313ce237f6",
       "msg": "Failed to load model class 'TextModel' from module '@jupyter-widgets/controls'",
       "style": "IPY_MODEL_3efcfa0e664d466b83992d6982a688d6",
       "value": "2023-03-18"
      }
     },
     "4879f3000ca0419fa9242ecbc9a493ce": {
      "model_module": "@jupyter-widgets/controls",
      "model_module_version": "2.0.0",
      "model_name": "DescriptionStyleModel",
      "state": {
       "_view_name": "ErrorWidgetView",
       "description_width": "",
       "error": {},
       "msg": "Failed to load model class 'DescriptionStyleModel' from module '@jupyter-widgets/controls'"
      }
     },
     "4886c377c62c476ba71840f051a71a83": {
      "model_module": "@jupyter-widgets/controls",
      "model_module_version": "2.0.0",
      "model_name": "CheckboxModel",
      "state": {
       "_view_name": "ErrorWidgetView",
       "description": "stack_linear",
       "disabled": false,
       "error": {},
       "layout": "IPY_MODEL_78d5f20fd3ae4b5b833d410911b2e9c5",
       "msg": "Failed to load model class 'CheckboxModel' from module '@jupyter-widgets/controls'",
       "style": "IPY_MODEL_c4eb9db05b814fdeb6f7620874f05da7",
       "value": true
      }
     },
     "489ca1148db84202870f1a76ff145de3": {
      "model_module": "@jupyter-widgets/controls",
      "model_module_version": "2.0.0",
      "model_name": "ButtonStyleModel",
      "state": {
       "_view_name": "ErrorWidgetView",
       "error": {},
       "msg": "Failed to load model class 'ButtonStyleModel' from module '@jupyter-widgets/controls'"
      }
     },
     "489d18167fdc4e118dcd178d1d7e494a": {
      "model_module": "@jupyter-widgets/controls",
      "model_module_version": "2.0.0",
      "model_name": "ButtonModel",
      "state": {
       "_view_name": "ErrorWidgetView",
       "description": "unfix x/y",
       "error": {},
       "layout": "IPY_MODEL_79977952e924436e81f5d492cf4b17c3",
       "msg": "Failed to load model class 'ButtonModel' from module '@jupyter-widgets/controls'",
       "style": "IPY_MODEL_bc32809c65e74bad9278fe2b347c126d"
      }
     },
     "48c5ea9c9318448985567f3464f909a4": {
      "model_module": "@jupyter-widgets/controls",
      "model_module_version": "2.0.0",
      "model_name": "IntSliderModel",
      "state": {
       "_view_name": "ErrorWidgetView",
       "description": "horizontal pixels",
       "error": {},
       "layout": "IPY_MODEL_1a2941c075754585b3622771d570775a",
       "max": 2048,
       "min": 2,
       "msg": "Failed to load model class 'IntSliderModel' from module '@jupyter-widgets/controls'",
       "style": "IPY_MODEL_0c15487366434eb3b170a18d581c6418",
       "value": 1024
      }
     },
     "48fceb938bc14e18bde8f9bac22ff4d4": {
      "model_module": "@jupyter-widgets/base",
      "model_module_version": "2.0.0",
      "model_name": "LayoutModel",
      "state": {
       "_view_name": "ErrorWidgetView",
       "error": {},
       "msg": "Failed to load model class 'LayoutModel' from module '@jupyter-widgets/base'"
      }
     },
     "491b1eb88866484598e176eb4c5c845e": {
      "model_module": "@jupyter-widgets/controls",
      "model_module_version": "2.0.0",
      "model_name": "DropdownModel",
      "state": {
       "_options_labels": [
        "linear",
        "beamsample"
       ],
       "_view_name": "ErrorWidgetView",
       "description": "wci render",
       "error": {},
       "index": 0,
       "layout": "IPY_MODEL_fb75dfba0447490c8fd48e97e68896b5",
       "msg": "Failed to load model class 'DropdownModel' from module '@jupyter-widgets/controls'",
       "style": "IPY_MODEL_3283ca2aaee04af4bb69d459cdda9253"
      }
     },
     "493735ef87df4bba917eb127ffda0c4d": {
      "model_module": "@jupyter-widgets/base",
      "model_module_version": "2.0.0",
      "model_name": "LayoutModel",
      "state": {
       "_view_name": "ErrorWidgetView",
       "error": {},
       "msg": "Failed to load model class 'LayoutModel' from module '@jupyter-widgets/base'"
      }
     },
     "4a5610291c5846a78d499c0333606992": {
      "model_module": "@jupyter-widgets/controls",
      "model_module_version": "2.0.0",
      "model_name": "IntSliderModel",
      "state": {
       "_view_name": "ErrorWidgetView",
       "description": "ping nr",
       "error": {},
       "layout": "IPY_MODEL_cbdd4c4ffa7744778756f4710b7f1b03",
       "max": 73,
       "msg": "Failed to load model class 'IntSliderModel' from module '@jupyter-widgets/controls'",
       "style": "IPY_MODEL_87781240070d46fe8f2706af56b0e849",
       "value": 60
      }
     },
     "4a589bcf469e4e19aabfff5fb75202cd": {
      "model_module": "@jupyter-widgets/controls",
      "model_module_version": "2.0.0",
      "model_name": "IntProgressModel",
      "state": {
       "_view_name": "ErrorWidgetView",
       "description": "Idle",
       "error": {},
       "layout": "IPY_MODEL_46a1b020cf9e47c796dec1d528ecb2c3",
       "max": 10,
       "msg": "Failed to load model class 'IntProgressModel' from module '@jupyter-widgets/controls'",
       "style": "IPY_MODEL_cd533429162a435789376b7a3099e34d"
      }
     },
     "4aabac893a57467fb8a9809d716768b5": {
      "model_module": "@jupyter-widgets/base",
      "model_module_version": "2.0.0",
      "model_name": "LayoutModel",
      "state": {
       "_view_name": "ErrorWidgetView",
       "error": {},
       "msg": "Failed to load model class 'LayoutModel' from module '@jupyter-widgets/base'",
       "width": "15%"
      }
     },
     "4b3f3d543ed94a1ca016bc3721f55c93": {
      "model_module": "@jupyter-widgets/controls",
      "model_module_version": "2.0.0",
      "model_name": "SliderStyleModel",
      "state": {
       "_view_name": "ErrorWidgetView",
       "description_width": "",
       "error": {},
       "msg": "Failed to load model class 'SliderStyleModel' from module '@jupyter-widgets/controls'"
      }
     },
     "4bb587ed31fa44e2aae246e6c99bf768": {
      "model_module": "@jupyter-widgets/base",
      "model_module_version": "2.0.0",
      "model_name": "LayoutModel",
      "state": {
       "_view_name": "ErrorWidgetView",
       "error": {},
       "msg": "Failed to load model class 'LayoutModel' from module '@jupyter-widgets/base'"
      }
     },
     "4bd6cd2fc9e841eea042b17da49c616b": {
      "model_module": "@jupyter-widgets/base",
      "model_module_version": "2.0.0",
      "model_name": "LayoutModel",
      "state": {
       "_view_name": "ErrorWidgetView",
       "error": {},
       "msg": "Failed to load model class 'LayoutModel' from module '@jupyter-widgets/base'"
      }
     },
     "4c2094bb294d42c08a4d694b3e646a94": {
      "model_module": "@jupyter-widgets/controls",
      "model_module_version": "2.0.0",
      "model_name": "HBoxModel",
      "state": {
       "_view_name": "ErrorWidgetView",
       "children": [
        "IPY_MODEL_068f5411e7e446ac835354bfec83d179",
        "IPY_MODEL_4e12be3db7814f8e8b30821ad8c8b03e",
        "IPY_MODEL_a44c8edafe804fb18a9faef59eaefda9",
        "IPY_MODEL_da8c89af95f942889f0c0b97fb432d9e"
       ],
       "error": {},
       "layout": "IPY_MODEL_32f7e864654b4418a7763c9500eca16b",
       "msg": "Failed to load model class 'HBoxModel' from module '@jupyter-widgets/controls'"
      }
     },
     "4c29cfd40ed7460baf7e390919a4d549": {
      "model_module": "@jupyter-widgets/controls",
      "model_module_version": "2.0.0",
      "model_name": "DropdownModel",
      "state": {
       "_options_labels": [
        "sv/av/pv/rv",
        "sv/av/pv",
        "sv/av",
        "sp/ap/pp/rp",
        "sp/ap/pp",
        "sp/ap",
        "power/amp",
        "av",
        "ap",
        "amp",
        "sv",
        "sp",
        "pv",
        "pp",
        "rv",
        "rp",
        "power"
       ],
       "_view_name": "ErrorWidgetView",
       "description": "wci value",
       "error": {},
       "index": 0,
       "layout": "IPY_MODEL_2ae667f3c13f459ea9a1108e383480cd",
       "msg": "Failed to load model class 'DropdownModel' from module '@jupyter-widgets/controls'",
       "style": "IPY_MODEL_338c2730f1de47f0a5dfe4e2df3c1ae6"
      }
     },
     "4c7907d406fb47019b803bcc6333cbf0": {
      "model_module": "@jupyter-widgets/controls",
      "model_module_version": "2.0.0",
      "model_name": "VBoxModel",
      "state": {
       "_view_name": "ErrorWidgetView",
       "children": [
        "IPY_MODEL_5528fb18837d4d3093f571a6baf3490f",
        "IPY_MODEL_d011a09d68d84dd18c33600352ad4bcc",
        "IPY_MODEL_fe71448c7d7b428183fb6681971a9dea",
        "IPY_MODEL_e56a8c6a270a4650a2da9733d5c27286",
        "IPY_MODEL_8b3351cc1cb64db1adb756237c167e73",
        "IPY_MODEL_8f39e5ee1d22459f8562d2596e6927cf"
       ],
       "error": {},
       "layout": "IPY_MODEL_7e64ecd68a1f4717976261a13e08f3c9",
       "msg": "Failed to load model class 'VBoxModel' from module '@jupyter-widgets/controls'"
      }
     },
     "4cb099752c0a4055b6b1ebca7cc934b2": {
      "model_module": "@jupyter-widgets/controls",
      "model_module_version": "2.0.0",
      "model_name": "ButtonModel",
      "state": {
       "_view_name": "ErrorWidgetView",
       "description": "unfix x/y",
       "error": {},
       "layout": "IPY_MODEL_0349e8e0a0c64204beb2eefa006bcc60",
       "msg": "Failed to load model class 'ButtonModel' from module '@jupyter-widgets/controls'",
       "style": "IPY_MODEL_2e3c3f99d5284a528657cd4b38a569b3"
      }
     },
     "4cbea26ffcb34d9c8648c1d700301139": {
      "model_module": "@jupyter-widgets/controls",
      "model_module_version": "2.0.0",
      "model_name": "HBoxModel",
      "state": {
       "_view_name": "ErrorWidgetView",
       "children": [
        "IPY_MODEL_1bc7e1ba5e194cdfbe92c866a0173003",
        "IPY_MODEL_5685575dd024462791e5747140e20f2e",
        "IPY_MODEL_489d18167fdc4e118dcd178d1d7e494a",
        "IPY_MODEL_07ac16213679404b96bc754081aee9d7",
        "IPY_MODEL_013bef50d65f45dc8bc34f6f64dd03ed"
       ],
       "error": {},
       "layout": "IPY_MODEL_d465e95bc25b4e77a80ac0c6f5ba37cc",
       "msg": "Failed to load model class 'HBoxModel' from module '@jupyter-widgets/controls'"
      }
     },
     "4cfaf5337da74b3fbf8365011609a929": {
      "model_module": "@jupyter-widgets/base",
      "model_module_version": "2.0.0",
      "model_name": "LayoutModel",
      "state": {
       "_view_name": "ErrorWidgetView",
       "error": {},
       "msg": "Failed to load model class 'LayoutModel' from module '@jupyter-widgets/base'"
      }
     },
     "4d2b26dc307b4f7a84038d3dee6eebdd": {
      "model_module": "@jupyter-widgets/controls",
      "model_module_version": "2.0.0",
      "model_name": "DropdownModel",
      "state": {
       "_options_labels": [
        "linear",
        "beamsample"
       ],
       "_view_name": "ErrorWidgetView",
       "description": "wci render",
       "error": {},
       "index": 0,
       "layout": "IPY_MODEL_e59862fb515142dbbbfce50eacbe712b",
       "msg": "Failed to load model class 'DropdownModel' from module '@jupyter-widgets/controls'",
       "style": "IPY_MODEL_2a1e43d14bfb401cbcf00891fca6cf32"
      }
     },
     "4d34969612bc4eed968f5d2881271c3b": {
      "model_module": "@jupyter-widgets/base",
      "model_module_version": "2.0.0",
      "model_name": "LayoutModel",
      "state": {
       "_view_name": "ErrorWidgetView",
       "error": {},
       "msg": "Failed to load model class 'LayoutModel' from module '@jupyter-widgets/base'"
      }
     },
     "4dc7eea95366459cad0c92fb9b812ced": {
      "model_module": "@jupyter-widgets/controls",
      "model_module_version": "2.0.0",
      "model_name": "HBoxModel",
      "state": {
       "_view_name": "ErrorWidgetView",
       "children": [
        "IPY_MODEL_9e397e4f975a40f584b5915806d88679",
        "IPY_MODEL_552ae266e3e0460faa4097b58995606a",
        "IPY_MODEL_2a33faf18d9a4ca9bb4616e76d8b1756",
        "IPY_MODEL_b2ebc0959ba043f783b571a94bc87256"
       ],
       "error": {},
       "layout": "IPY_MODEL_4274841622c84b76b9991ada76442a3f",
       "msg": "Failed to load model class 'HBoxModel' from module '@jupyter-widgets/controls'"
      }
     },
     "4dff143eaf89467590bfaff5c5cb9081": {
      "model_module": "@jupyter-widgets/base",
      "model_module_version": "2.0.0",
      "model_name": "LayoutModel",
      "state": {
       "_view_name": "ErrorWidgetView",
       "error": {},
       "msg": "Failed to load model class 'LayoutModel' from module '@jupyter-widgets/base'"
      }
     },
     "4e12be3db7814f8e8b30821ad8c8b03e": {
      "model_module": "@jupyter-widgets/controls",
      "model_module_version": "2.0.0",
      "model_name": "FloatSliderModel",
      "state": {
       "_view_name": "ErrorWidgetView",
       "description": "vmax",
       "error": {},
       "layout": "IPY_MODEL_6a50f044782b4d4fbc743c5dff1d311a",
       "min": -150,
       "msg": "Failed to load model class 'FloatSliderModel' from module '@jupyter-widgets/controls'",
       "step": 5,
       "style": "IPY_MODEL_b6ce4763a6e740f39a95d34e2c736fdf",
       "value": -25
      }
     },
     "4e428bff8e1e4c7ebfff873485d35957": {
      "model_module": "@jupyter-widgets/controls",
      "model_module_version": "2.0.0",
      "model_name": "DescriptionStyleModel",
      "state": {
       "_view_name": "ErrorWidgetView",
       "description_width": "",
       "error": {},
       "msg": "Failed to load model class 'DescriptionStyleModel' from module '@jupyter-widgets/controls'"
      }
     },
     "4ecb2baac5b941d6be7a3a8d104f567c": {
      "model_module": "@jupyter-widgets/controls",
      "model_module_version": "2.0.0",
      "model_name": "SliderStyleModel",
      "state": {
       "_view_name": "ErrorWidgetView",
       "description_width": "",
       "error": {},
       "msg": "Failed to load model class 'SliderStyleModel' from module '@jupyter-widgets/controls'"
      }
     },
     "4ef5c6a82d6e40ffa881b72f8e63fe9a": {
      "model_module": "@jupyter-widgets/controls",
      "model_module_version": "2.0.0",
      "model_name": "TextModel",
      "state": {
       "_view_name": "ErrorWidgetView",
       "error": {},
       "layout": "IPY_MODEL_9cc2993952464d4192021bd34cf2cb00",
       "msg": "Failed to load model class 'TextModel' from module '@jupyter-widgets/controls'",
       "style": "IPY_MODEL_e16b95967a764304afaa59216ba7232d",
       "value": "17:37:53"
      }
     },
     "4f05be7a52c04df59cb662a94fc53b94": {
      "model_module": "@jupyter-widgets/controls",
      "model_module_version": "2.0.0",
      "model_name": "CheckboxModel",
      "state": {
       "_view_name": "ErrorWidgetView",
       "description": "stack_linear",
       "disabled": false,
       "error": {},
       "layout": "IPY_MODEL_5c4add532f954162a57befa8d83b0d58",
       "msg": "Failed to load model class 'CheckboxModel' from module '@jupyter-widgets/controls'",
       "style": "IPY_MODEL_e02d72a785b3425c9773745f2c9a78de",
       "value": true
      }
     },
     "4f130df435d2424e95a665d522d6a97d": {
      "model_module": "@jupyter-widgets/base",
      "model_module_version": "2.0.0",
      "model_name": "LayoutModel",
      "state": {
       "_view_name": "ErrorWidgetView",
       "error": {},
       "msg": "Failed to load model class 'LayoutModel' from module '@jupyter-widgets/base'",
       "width": "15%"
      }
     },
     "4f36ee679add419eaebd18a868cceaa5": {
      "model_module": "@jupyter-widgets/base",
      "model_module_version": "2.0.0",
      "model_name": "LayoutModel",
      "state": {
       "_view_name": "ErrorWidgetView",
       "error": {},
       "msg": "Failed to load model class 'LayoutModel' from module '@jupyter-widgets/base'"
      }
     },
     "4f3f3089859e498ebb6ef31824725dfb": {
      "model_module": "@jupyter-widgets/controls",
      "model_module_version": "2.0.0",
      "model_name": "IntSliderModel",
      "state": {
       "_view_name": "ErrorWidgetView",
       "description": "horizontal pixels",
       "error": {},
       "layout": "IPY_MODEL_34d6de4214ee423d9be2055a387898fd",
       "max": 2048,
       "min": 2,
       "msg": "Failed to load model class 'IntSliderModel' from module '@jupyter-widgets/controls'",
       "style": "IPY_MODEL_1f0625048e964a4d852d62a466c94387",
       "value": 1024
      }
     },
     "4f7a9865c48848d5ae462973414df2c6": {
      "model_module": "@jupyter-widgets/controls",
      "model_module_version": "2.0.0",
      "model_name": "DescriptionStyleModel",
      "state": {
       "_view_name": "ErrorWidgetView",
       "description_width": "",
       "error": {},
       "msg": "Failed to load model class 'DescriptionStyleModel' from module '@jupyter-widgets/controls'"
      }
     },
     "4fb94a495add4357ad2286b0c95ef066": {
      "model_module": "@jupyter-widgets/controls",
      "model_module_version": "2.0.0",
      "model_name": "DescriptionStyleModel",
      "state": {
       "_view_name": "ErrorWidgetView",
       "description_width": "",
       "error": {},
       "msg": "Failed to load model class 'DescriptionStyleModel' from module '@jupyter-widgets/controls'"
      }
     },
     "4fde5df7729a45b8a933e8a9c7d0270d": {
      "model_module": "@jupyter-widgets/base",
      "model_module_version": "2.0.0",
      "model_name": "LayoutModel",
      "state": {
       "_view_name": "ErrorWidgetView",
       "error": {},
       "msg": "Failed to load model class 'LayoutModel' from module '@jupyter-widgets/base'"
      }
     },
     "4fdeaddbb08545469a63e0344771eaf6": {
      "model_module": "@jupyter-widgets/controls",
      "model_module_version": "2.0.0",
      "model_name": "DescriptionStyleModel",
      "state": {
       "_view_name": "ErrorWidgetView",
       "description_width": "",
       "error": {},
       "msg": "Failed to load model class 'DescriptionStyleModel' from module '@jupyter-widgets/controls'"
      }
     },
     "500e11b90f5044a3935b90adbb85b245": {
      "model_module": "@jupyter-widgets/base",
      "model_module_version": "2.0.0",
      "model_name": "LayoutModel",
      "state": {
       "_view_name": "ErrorWidgetView",
       "error": {},
       "msg": "Failed to load model class 'LayoutModel' from module '@jupyter-widgets/base'",
       "width": "15%"
      }
     },
     "5042fd487cb14bd7aa374e2a91e82d9d": {
      "model_module": "@jupyter-widgets/controls",
      "model_module_version": "2.0.0",
      "model_name": "HBoxModel",
      "state": {
       "_view_name": "ErrorWidgetView",
       "children": [
        "IPY_MODEL_a5675fffc8144814830dd89df35e108d",
        "IPY_MODEL_738d6f1ba4594eda9b8fbb214df17d2a",
        "IPY_MODEL_839c48f878f84d87bd78a5eef0350ace",
        "IPY_MODEL_fcb611bdd71348dba951133a139bed92",
        "IPY_MODEL_07101bcb703347c48d3f0eeb50a838ae",
        "IPY_MODEL_f2dc8bf5af034cd7aa1007261faf433e"
       ],
       "error": {},
       "layout": "IPY_MODEL_8e73bb4410d842969e3d05817866083f",
       "msg": "Failed to load model class 'HBoxModel' from module '@jupyter-widgets/controls'"
      }
     },
     "50509ee96ab4498da3f8fe0dd4b8d101": {
      "model_module": "@jupyter-widgets/controls",
      "model_module_version": "2.0.0",
      "model_name": "TextModel",
      "state": {
       "layout": "IPY_MODEL_6856d1e2b6b541c6a69634d017cd405f",
       "style": "IPY_MODEL_9c08c6e3d44348989df5e292910040a8",
       "value": "2012-08-21"
      }
     },
     "5093efb7531946fb9dbd5cc9a48fabc1": {
      "model_module": "@jupyter-widgets/base",
      "model_module_version": "2.0.0",
      "model_name": "LayoutModel",
      "state": {
       "_view_name": "ErrorWidgetView",
       "error": {},
       "msg": "Failed to load model class 'LayoutModel' from module '@jupyter-widgets/base'"
      }
     },
     "50b117ea714048f48a11b0736e0e0e75": {
      "model_module": "@jupyter-widgets/base",
      "model_module_version": "2.0.0",
      "model_name": "LayoutModel",
      "state": {
       "_view_name": "ErrorWidgetView",
       "error": {},
       "msg": "Failed to load model class 'LayoutModel' from module '@jupyter-widgets/base'"
      }
     },
     "50c07b40f88a46208b4268f7889bf793": {
      "model_module": "@jupyter-widgets/controls",
      "model_module_version": "2.0.0",
      "model_name": "DescriptionStyleModel",
      "state": {
       "_view_name": "ErrorWidgetView",
       "description_width": "",
       "error": {},
       "msg": "Failed to load model class 'DescriptionStyleModel' from module '@jupyter-widgets/controls'"
      }
     },
     "510da8b7459d4a6fb6cf917fd572ee44": {
      "model_module": "@jupyter-widgets/controls",
      "model_module_version": "2.0.0",
      "model_name": "TextModel",
      "state": {
       "_view_name": "ErrorWidgetView",
       "error": {},
       "layout": "IPY_MODEL_1e28f735df8d40d8bc735a5dad9ad605",
       "msg": "Failed to load model class 'TextModel' from module '@jupyter-widgets/controls'",
       "style": "IPY_MODEL_a33c986f508841469e92ef80bc6622b8",
       "value": "2012-08-21"
      }
     },
     "510e61d2fb8247f592b65543e1d60ca2": {
      "model_module": "@jupyter-widgets/controls",
      "model_module_version": "2.0.0",
      "model_name": "TextModel",
      "state": {
       "_view_name": "ErrorWidgetView",
       "error": {},
       "layout": "IPY_MODEL_c5e60b536e7841ea958fc16ae203faac",
       "msg": "Failed to load model class 'TextModel' from module '@jupyter-widgets/controls'",
       "style": "IPY_MODEL_bf265772595046fdb6cd44ca85c98eb9",
       "value": "2012-08-21"
      }
     },
     "510e958f1f4948da8d3b012349fbfac1": {
      "model_module": "@jupyter-widgets/base",
      "model_module_version": "2.0.0",
      "model_name": "LayoutModel",
      "state": {
       "_view_name": "ErrorWidgetView",
       "error": {},
       "msg": "Failed to load model class 'LayoutModel' from module '@jupyter-widgets/base'"
      }
     },
     "514f7e935a314fe48fa881636033bdec": {
      "model_module": "@jupyter-widgets/controls",
      "model_module_version": "2.0.0",
      "model_name": "SliderStyleModel",
      "state": {
       "description_width": ""
      }
     },
     "5182cdc933a44685b7aaaf1e85ee0dae": {
      "model_module": "@jupyter-widgets/controls",
      "model_module_version": "2.0.0",
      "model_name": "ProgressStyleModel",
      "state": {
       "_view_name": "ErrorWidgetView",
       "description_width": "",
       "error": {},
       "msg": "Failed to load model class 'ProgressStyleModel' from module '@jupyter-widgets/controls'"
      }
     },
     "51b7558f5a114540aa7eae754cbf60d2": {
      "model_module": "@jupyter-widgets/controls",
      "model_module_version": "2.0.0",
      "model_name": "DropdownModel",
      "state": {
       "_options_labels": [
        "sv/av/pv/rv",
        "sv/av/pv",
        "sv/av",
        "sp/ap/pp/rp",
        "sp/ap/pp",
        "sp/ap",
        "power/amp",
        "av",
        "ap",
        "amp",
        "sv",
        "sp",
        "pv",
        "pp",
        "rv",
        "rp",
        "power"
       ],
       "_view_name": "ErrorWidgetView",
       "description": "wci value",
       "error": {},
       "index": 0,
       "layout": "IPY_MODEL_42f8f95817f6413990c17786fb9ebaf2",
       "msg": "Failed to load model class 'DropdownModel' from module '@jupyter-widgets/controls'",
       "style": "IPY_MODEL_f2dd9fd09c6b4651b142eced76ad5400"
      }
     },
     "51c4024622b84ffc852bcaa03f0b1b58": {
      "model_module": "@jupyter-widgets/base",
      "model_module_version": "2.0.0",
      "model_name": "LayoutModel",
      "state": {
       "_view_name": "ErrorWidgetView",
       "error": {},
       "msg": "Failed to load model class 'LayoutModel' from module '@jupyter-widgets/base'"
      }
     },
     "51e9229d19c14849a430a2dbbaba7c42": {
      "model_module": "@jupyter-widgets/base",
      "model_module_version": "2.0.0",
      "model_name": "LayoutModel",
      "state": {
       "_view_name": "ErrorWidgetView",
       "error": {},
       "msg": "Failed to load model class 'LayoutModel' from module '@jupyter-widgets/base'"
      }
     },
     "520f889ea22340228ff071ffb2bd1138": {
      "model_module": "@jupyter-widgets/controls",
      "model_module_version": "2.0.0",
      "model_name": "IntSliderModel",
      "state": {
       "_view_name": "ErrorWidgetView",
       "description": "horizontal pixels",
       "error": {},
       "layout": "IPY_MODEL_7a285e6a3f7c4f7cb1829c67d55abb0b",
       "max": 2048,
       "min": 2,
       "msg": "Failed to load model class 'IntSliderModel' from module '@jupyter-widgets/controls'",
       "style": "IPY_MODEL_92cbb6a6c01e4d31857c0ea448b34594",
       "value": 1024
      }
     },
     "5229fa1c989141aca3eb5933cd88dfc7": {
      "model_module": "@jupyter-widgets/base",
      "model_module_version": "2.0.0",
      "model_name": "LayoutModel",
      "state": {
       "_view_name": "ErrorWidgetView",
       "error": {},
       "msg": "Failed to load model class 'LayoutModel' from module '@jupyter-widgets/base'",
       "width": "15%"
      }
     },
     "528395e0b0a347b581fe380f892dffc6": {
      "model_module": "@jupyter-widgets/controls",
      "model_module_version": "2.0.0",
      "model_name": "HBoxModel",
      "state": {
       "_view_name": "ErrorWidgetView",
       "children": [
        "IPY_MODEL_64f8550186344ab1886f0ab4fd2facb2",
        "IPY_MODEL_d80dd17caa06424d8c3f936916faf14d",
        "IPY_MODEL_e23f3958db4d4237a22831de30de5794",
        "IPY_MODEL_fee2e143aa304f0081cf92225f1bd2bb",
        "IPY_MODEL_8325e867d3d34e54b009a25805351401"
       ],
       "error": {},
       "layout": "IPY_MODEL_a2bf834e18a841be9d69d2fc8ca2a9f2",
       "msg": "Failed to load model class 'HBoxModel' from module '@jupyter-widgets/controls'"
      }
     },
     "528f85e2321e474c9833606730289f3b": {
      "model_module": "@jupyter-widgets/controls",
      "model_module_version": "2.0.0",
      "model_name": "IntSliderModel",
      "state": {
       "_view_name": "ErrorWidgetView",
       "description": "horizontal pixels",
       "error": {},
       "layout": "IPY_MODEL_46c90f04a18e441ebdbeb254c03ef7b5",
       "max": 2048,
       "min": 2,
       "msg": "Failed to load model class 'IntSliderModel' from module '@jupyter-widgets/controls'",
       "style": "IPY_MODEL_e66055cc4b064306b1a0aaf742e9e966",
       "value": 1024
      }
     },
     "52c1db9434e54aa396e37f2659a005f1": {
      "model_module": "@jupyter-widgets/base",
      "model_module_version": "2.0.0",
      "model_name": "LayoutModel",
      "state": {
       "_view_name": "ErrorWidgetView",
       "error": {},
       "msg": "Failed to load model class 'LayoutModel' from module '@jupyter-widgets/base'"
      }
     },
     "52e605c844e44a09a7bfce6891d40832": {
      "model_module": "@jupyter-widgets/base",
      "model_module_version": "2.0.0",
      "model_name": "LayoutModel",
      "state": {
       "_view_name": "ErrorWidgetView",
       "error": {},
       "msg": "Failed to load model class 'LayoutModel' from module '@jupyter-widgets/base'"
      }
     },
     "52ecbb36610e454492e52eacb5b559ed": {
      "model_module": "@jupyter-widgets/controls",
      "model_module_version": "2.0.0",
      "model_name": "IntSliderModel",
      "state": {
       "_view_name": "ErrorWidgetView",
       "description": "ping nr",
       "error": {},
       "layout": "IPY_MODEL_5ef9116c417642d4a846b6cbc6a5beae",
       "max": 66,
       "msg": "Failed to load model class 'IntSliderModel' from module '@jupyter-widgets/controls'",
       "style": "IPY_MODEL_3449ea7f2cbd47fa8e63bda6c92901b5",
       "value": 60
      }
     },
     "52eee0e0ccf74ac291bf4ddaf8d79ddb": {
      "model_module": "@jupyter-widgets/base",
      "model_module_version": "2.0.0",
      "model_name": "LayoutModel",
      "state": {
       "_view_name": "ErrorWidgetView",
       "error": {},
       "msg": "Failed to load model class 'LayoutModel' from module '@jupyter-widgets/base'"
      }
     },
     "53050a71505c450aa1cfa56eb223f3dd": {
      "model_module": "@jupyter-widgets/controls",
      "model_module_version": "2.0.0",
      "model_name": "TextModel",
      "state": {
       "_view_name": "ErrorWidgetView",
       "error": {},
       "layout": "IPY_MODEL_c7ba871ff1554d71915e107baea6b043",
       "msg": "Failed to load model class 'TextModel' from module '@jupyter-widgets/controls'",
       "style": "IPY_MODEL_e4743622f359467aaa9ad4f28cf3e83b",
       "value": "17:37:53"
      }
     },
     "539ea77f543040ab8ce6c3273255c02d": {
      "model_module": "@jupyter-widgets/controls",
      "model_module_version": "2.0.0",
      "model_name": "DescriptionStyleModel",
      "state": {
       "_view_name": "ErrorWidgetView",
       "description_width": "",
       "error": {},
       "msg": "Failed to load model class 'DescriptionStyleModel' from module '@jupyter-widgets/controls'"
      }
     },
     "53bed4744b214c26acb7de91133fcae4": {
      "model_module": "@jupyter-widgets/base",
      "model_module_version": "2.0.0",
      "model_name": "LayoutModel",
      "state": {
       "_view_name": "ErrorWidgetView",
       "error": {},
       "msg": "Failed to load model class 'LayoutModel' from module '@jupyter-widgets/base'",
       "width": "15%"
      }
     },
     "53eae37232a14203a94d9d70f5b8086e": {
      "model_module": "@jupyter-widgets/controls",
      "model_module_version": "2.0.0",
      "model_name": "IntTextModel",
      "state": {
       "_view_name": "ErrorWidgetView",
       "description": "stack step:",
       "error": {},
       "layout": "IPY_MODEL_29db06feff384596966b54b07526a9a9",
       "msg": "Failed to load model class 'IntTextModel' from module '@jupyter-widgets/controls'",
       "step": 1,
       "style": "IPY_MODEL_975b02d1a4fc4b718ca9205f1d866c9d",
       "value": 1
      }
     },
     "53f5ac454ef64317bdd7bdbca6db0ec6": {
      "model_module": "@jupyter-widgets/controls",
      "model_module_version": "2.0.0",
      "model_name": "DescriptionStyleModel",
      "state": {
       "_view_name": "ErrorWidgetView",
       "description_width": "",
       "error": {},
       "msg": "Failed to load model class 'DescriptionStyleModel' from module '@jupyter-widgets/controls'"
      }
     },
     "5404fcb6ff2b43a9b02e6054e9c0155e": {
      "model_module": "@jupyter-widgets/base",
      "model_module_version": "2.0.0",
      "model_name": "LayoutModel",
      "state": {
       "_view_name": "ErrorWidgetView",
       "error": {},
       "msg": "Failed to load model class 'LayoutModel' from module '@jupyter-widgets/base'",
       "width": "10%"
      }
     },
     "540775bfbdc64453ad77036bbb34cebc": {
      "model_module": "@jupyter-widgets/base",
      "model_module_version": "2.0.0",
      "model_name": "LayoutModel",
      "state": {
       "_view_name": "ErrorWidgetView",
       "error": {},
       "msg": "Failed to load model class 'LayoutModel' from module '@jupyter-widgets/base'"
      }
     },
     "5434b37b250e4a498d5c9e0af1d07d1b": {
      "model_module": "@jupyter-widgets/base",
      "model_module_version": "2.0.0",
      "model_name": "LayoutModel",
      "state": {
       "_view_name": "ErrorWidgetView",
       "error": {},
       "msg": "Failed to load model class 'LayoutModel' from module '@jupyter-widgets/base'"
      }
     },
     "54a8bb07aa084739a01606ae48c32f72": {
      "model_module": "@jupyter-widgets/base",
      "model_module_version": "2.0.0",
      "model_name": "LayoutModel",
      "state": {
       "_view_name": "ErrorWidgetView",
       "error": {},
       "msg": "Failed to load model class 'LayoutModel' from module '@jupyter-widgets/base'"
      }
     },
     "54b46c5921df4aa8acc19cf0ee7b48ac": {
      "model_module": "@jupyter-widgets/controls",
      "model_module_version": "2.0.0",
      "model_name": "DescriptionStyleModel",
      "state": {
       "_view_name": "ErrorWidgetView",
       "description_width": "",
       "error": {},
       "msg": "Failed to load model class 'DescriptionStyleModel' from module '@jupyter-widgets/controls'"
      }
     },
     "54c3902dcf0d47e7988ea902a6940799": {
      "model_module": "@jupyter-widgets/controls",
      "model_module_version": "2.0.0",
      "model_name": "CheckboxModel",
      "state": {
       "_view_name": "ErrorWidgetView",
       "description": "stack_linear",
       "disabled": false,
       "error": {},
       "layout": "IPY_MODEL_3e7021577e614058842ddc0bf66bcf89",
       "msg": "Failed to load model class 'CheckboxModel' from module '@jupyter-widgets/controls'",
       "style": "IPY_MODEL_990d65e91c1a4af994e4501fb718a310",
       "value": true
      }
     },
     "54c6255f06ef4c0fa66329f345ce9451": {
      "model_module": "@jupyter-widgets/controls",
      "model_module_version": "2.0.0",
      "model_name": "ProgressStyleModel",
      "state": {
       "_view_name": "ErrorWidgetView",
       "description_width": "",
       "error": {},
       "msg": "Failed to load model class 'ProgressStyleModel' from module '@jupyter-widgets/controls'"
      }
     },
     "54cc1f1a8b5341c5b5ed8bbe7cff2d15": {
      "model_module": "@jupyter-widgets/controls",
      "model_module_version": "2.0.0",
      "model_name": "IntSliderModel",
      "state": {
       "_view_name": "ErrorWidgetView",
       "description": "horizontal pixels",
       "error": {},
       "layout": "IPY_MODEL_f39e532db07044839139e5411667887f",
       "max": 2048,
       "min": 2,
       "msg": "Failed to load model class 'IntSliderModel' from module '@jupyter-widgets/controls'",
       "style": "IPY_MODEL_71962ae2943048c4b512080db90cd8f2",
       "value": 1024
      }
     },
     "54cfbb1ffb7b473695c8d11362a1166e": {
      "model_module": "@jupyter-widgets/controls",
      "model_module_version": "2.0.0",
      "model_name": "DescriptionStyleModel",
      "state": {
       "_view_name": "ErrorWidgetView",
       "description_width": "",
       "error": {},
       "msg": "Failed to load model class 'DescriptionStyleModel' from module '@jupyter-widgets/controls'"
      }
     },
     "54d8535a579c4bdabc6f41c55a3f01b8": {
      "model_module": "@jupyter-widgets/controls",
      "model_module_version": "2.0.0",
      "model_name": "ButtonStyleModel",
      "state": {
       "_view_name": "ErrorWidgetView",
       "error": {},
       "msg": "Failed to load model class 'ButtonStyleModel' from module '@jupyter-widgets/controls'"
      }
     },
     "54ee2b18bc92429a92ea824cdc4e8c23": {
      "model_module": "@jupyter-widgets/base",
      "model_module_version": "2.0.0",
      "model_name": "LayoutModel",
      "state": {
       "_view_name": "ErrorWidgetView",
       "error": {},
       "msg": "Failed to load model class 'LayoutModel' from module '@jupyter-widgets/base'"
      }
     },
     "55087554cc90486a95353d83c635eedf": {
      "model_module": "@jupyter-widgets/controls",
      "model_module_version": "2.0.0",
      "model_name": "DescriptionStyleModel",
      "state": {
       "_view_name": "ErrorWidgetView",
       "description_width": "",
       "error": {},
       "msg": "Failed to load model class 'DescriptionStyleModel' from module '@jupyter-widgets/controls'"
      }
     },
     "552ae266e3e0460faa4097b58995606a": {
      "model_module": "@jupyter-widgets/controls",
      "model_module_version": "2.0.0",
      "model_name": "FloatSliderModel",
      "state": {
       "_view_name": "ErrorWidgetView",
       "description": "vmax",
       "error": {},
       "layout": "IPY_MODEL_6c34483a931940bf9842a320183f9f6c",
       "min": -150,
       "msg": "Failed to load model class 'FloatSliderModel' from module '@jupyter-widgets/controls'",
       "step": 5,
       "style": "IPY_MODEL_c9ad02576ed14a8bb682f35e0df21585",
       "value": -25
      }
     },
     "5536cf4af5184b7b857f2f3156429875": {
      "model_module": "@jupyter-widgets/base",
      "model_module_version": "2.0.0",
      "model_name": "LayoutModel",
      "state": {
       "_view_name": "ErrorWidgetView",
       "error": {},
       "msg": "Failed to load model class 'LayoutModel' from module '@jupyter-widgets/base'",
       "width": "15%"
      }
     },
     "5580c447157241c5ae4b31fd53e0bfd7": {
      "model_module": "@jupyter-widgets/controls",
      "model_module_version": "2.0.0",
      "model_name": "ButtonStyleModel",
      "state": {
       "_view_name": "ErrorWidgetView",
       "error": {},
       "msg": "Failed to load model class 'ButtonStyleModel' from module '@jupyter-widgets/controls'"
      }
     },
     "55a2e1fd716d42d88ff0b2ffdbbc7681": {
      "model_module": "@jupyter-widgets/controls",
      "model_module_version": "2.0.0",
      "model_name": "ButtonStyleModel",
      "state": {
       "_view_name": "ErrorWidgetView",
       "error": {},
       "msg": "Failed to load model class 'ButtonStyleModel' from module '@jupyter-widgets/controls'"
      }
     },
     "5616bd1f6e60435daa8106f240bfd587": {
      "model_module": "@jupyter-widgets/base",
      "model_module_version": "2.0.0",
      "model_name": "LayoutModel",
      "state": {
       "_view_name": "ErrorWidgetView",
       "error": {},
       "msg": "Failed to load model class 'LayoutModel' from module '@jupyter-widgets/base'",
       "width": "50%"
      }
     },
     "5619b8737d384e48a911d7e4e7e95302": {
      "model_module": "@jupyter-widgets/base",
      "model_module_version": "2.0.0",
      "model_name": "LayoutModel",
      "state": {
       "_view_name": "ErrorWidgetView",
       "error": {},
       "msg": "Failed to load model class 'LayoutModel' from module '@jupyter-widgets/base'"
      }
     },
     "5620e92c6c83434081a0e619f6cbb361": {
      "model_module": "@jupyter-widgets/controls",
      "model_module_version": "2.0.0",
      "model_name": "ButtonModel",
      "state": {
       "_view_name": "ErrorWidgetView",
       "button_style": "warning",
       "description": "fix x/y",
       "error": {},
       "layout": "IPY_MODEL_616376c600ae4420bfd0dec9d2a6de2f",
       "msg": "Failed to load model class 'ButtonModel' from module '@jupyter-widgets/controls'",
       "style": "IPY_MODEL_e2b2bdbe3b624b2497d9ca1582490cfa"
      }
     },
     "5685575dd024462791e5747140e20f2e": {
      "model_module": "@jupyter-widgets/controls",
      "model_module_version": "2.0.0",
      "model_name": "ButtonModel",
      "state": {
       "_view_name": "ErrorWidgetView",
       "button_style": "warning",
       "description": "fix x/y",
       "error": {},
       "layout": "IPY_MODEL_81efeaa72c504dda8fd19a132326f98c",
       "msg": "Failed to load model class 'ButtonModel' from module '@jupyter-widgets/controls'",
       "style": "IPY_MODEL_e7851142c41a427ca020ed8a7af6f47a"
      }
     },
     "568e163146cf41f690d8fc1b48378e58": {
      "model_module": "@jupyter-widgets/base",
      "model_module_version": "2.0.0",
      "model_name": "LayoutModel",
      "state": {
       "_view_name": "ErrorWidgetView",
       "error": {},
       "msg": "Failed to load model class 'LayoutModel' from module '@jupyter-widgets/base'"
      }
     },
     "56b597a174494011931070ddf0c2b781": {
      "model_module": "@jupyter-widgets/base",
      "model_module_version": "2.0.0",
      "model_name": "LayoutModel",
      "state": {
       "_view_name": "ErrorWidgetView",
       "error": {},
       "msg": "Failed to load model class 'LayoutModel' from module '@jupyter-widgets/base'"
      }
     },
     "56f79b159ddb47059a154e6a38fe75c9": {
      "model_module": "@jupyter-widgets/controls",
      "model_module_version": "2.0.0",
      "model_name": "HBoxModel",
      "state": {
       "_view_name": "ErrorWidgetView",
       "children": [
        "IPY_MODEL_ba1f61bbccc64ced8aef84bae4bcfc2a",
        "IPY_MODEL_9a015fb81a3e48febdfdda32498be8cf",
        "IPY_MODEL_60045576b8434d0dbac3edcad892e45d",
        "IPY_MODEL_ca70506873c34c378ab8751ad1ffe98f"
       ],
       "error": {},
       "layout": "IPY_MODEL_6270b896b8c1475f9c865e276e983e0e",
       "msg": "Failed to load model class 'HBoxModel' from module '@jupyter-widgets/controls'"
      }
     },
     "57437379cf04401ab6f7764ae949fa8a": {
      "model_module": "@jupyter-widgets/controls",
      "model_module_version": "2.0.0",
      "model_name": "SliderStyleModel",
      "state": {
       "_view_name": "ErrorWidgetView",
       "description_width": "",
       "error": {},
       "msg": "Failed to load model class 'SliderStyleModel' from module '@jupyter-widgets/controls'"
      }
     },
     "574fbed5b9cb4920af37cfa65347240b": {
      "model_module": "@jupyter-widgets/controls",
      "model_module_version": "2.0.0",
      "model_name": "DescriptionStyleModel",
      "state": {
       "_view_name": "ErrorWidgetView",
       "description_width": "",
       "error": {},
       "msg": "Failed to load model class 'DescriptionStyleModel' from module '@jupyter-widgets/controls'"
      }
     },
     "5765b689378c4b1990e5de3c85650b52": {
      "model_module": "@jupyter-widgets/base",
      "model_module_version": "2.0.0",
      "model_name": "LayoutModel",
      "state": {
       "_view_name": "ErrorWidgetView",
       "error": {},
       "msg": "Failed to load model class 'LayoutModel' from module '@jupyter-widgets/base'"
      }
     },
     "578e3ead30b64b3aa8729d92b6b6a59a": {
      "model_module": "@jupyter-widgets/controls",
      "model_module_version": "2.0.0",
      "model_name": "DropdownModel",
      "state": {
       "_options_labels": [
        "linear",
        "beamsample"
       ],
       "_view_name": "ErrorWidgetView",
       "description": "wci render",
       "error": {},
       "index": 0,
       "layout": "IPY_MODEL_c2689efc9bda49348dfcbb29d1e81196",
       "msg": "Failed to load model class 'DropdownModel' from module '@jupyter-widgets/controls'",
       "style": "IPY_MODEL_26a4756fa22e4b7e91dc25322fb4a730"
      }
     },
     "57d38bf0dec148a3806a414172544be1": {
      "model_module": "@jupyter-widgets/controls",
      "model_module_version": "2.0.0",
      "model_name": "SliderStyleModel",
      "state": {
       "_view_name": "ErrorWidgetView",
       "description_width": "",
       "error": {},
       "msg": "Failed to load model class 'SliderStyleModel' from module '@jupyter-widgets/controls'"
      }
     },
     "58033b7f058c4ec294fd1a76b2a7b4dc": {
      "model_module": "@jupyter-widgets/controls",
      "model_module_version": "2.0.0",
      "model_name": "HBoxModel",
      "state": {
       "_view_name": "ErrorWidgetView",
       "children": [
        "IPY_MODEL_d232f09884f34cecbf45020b285de2aa",
        "IPY_MODEL_597b4b7cd0a6496896d153d15b3f4b89",
        "IPY_MODEL_23b700ce23774ec8a70d6bbcbc32a075",
        "IPY_MODEL_42cc3908be6842a9bc21129bf113021d",
        "IPY_MODEL_9ceeb79106df41a49e770861a0dcfbf5"
       ],
       "error": {},
       "layout": "IPY_MODEL_3943a51d2139457cb89039d2882923d6",
       "msg": "Failed to load model class 'HBoxModel' from module '@jupyter-widgets/controls'"
      }
     },
     "582a16721d10432a8097583b5171dda6": {
      "model_module": "@jupyter-widgets/base",
      "model_module_version": "2.0.0",
      "model_name": "LayoutModel",
      "state": {
       "_view_name": "ErrorWidgetView",
       "error": {},
       "msg": "Failed to load model class 'LayoutModel' from module '@jupyter-widgets/base'"
      }
     },
     "5874c673bfde43d28d2d293fb9aa5f30": {
      "model_module": "@jupyter-widgets/base",
      "model_module_version": "2.0.0",
      "model_name": "LayoutModel",
      "state": {
       "_view_name": "ErrorWidgetView",
       "error": {},
       "msg": "Failed to load model class 'LayoutModel' from module '@jupyter-widgets/base'"
      }
     },
     "58a6c10b26b14492964cb851e9e08a49": {
      "model_module": "@jupyter-widgets/controls",
      "model_module_version": "2.0.0",
      "model_name": "SliderStyleModel",
      "state": {
       "_view_name": "ErrorWidgetView",
       "description_width": "",
       "error": {},
       "msg": "Failed to load model class 'SliderStyleModel' from module '@jupyter-widgets/controls'"
      }
     },
     "58f1c579135b497ead8021a6e73e0624": {
      "model_module": "@jupyter-widgets/base",
      "model_module_version": "2.0.0",
      "model_name": "LayoutModel",
      "state": {
       "_view_name": "ErrorWidgetView",
       "error": {},
       "msg": "Failed to load model class 'LayoutModel' from module '@jupyter-widgets/base'",
       "width": "10%"
      }
     },
     "58f9f7855cb84112835f6d0138f7654c": {
      "model_module": "@jupyter-widgets/controls",
      "model_module_version": "2.0.0",
      "model_name": "VBoxModel",
      "state": {
       "_view_name": "ErrorWidgetView",
       "children": [
        "IPY_MODEL_5528fb18837d4d3093f571a6baf3490f",
        "IPY_MODEL_8b3bf400033646e79fdead2d480e6471",
        "IPY_MODEL_251a14abc5d84623b7e0dc62b3098b5c",
        "IPY_MODEL_3ea2a99e4a654d38a30ffdb6703d4e80",
        "IPY_MODEL_5042fd487cb14bd7aa374e2a91e82d9d",
        "IPY_MODEL_80be0561341946569b9cf833782f3cd7"
       ],
       "error": {},
       "layout": "IPY_MODEL_e46d47bff5034debbcb261702a1b6dc6",
       "msg": "Failed to load model class 'VBoxModel' from module '@jupyter-widgets/controls'"
      }
     },
     "597b4b7cd0a6496896d153d15b3f4b89": {
      "model_module": "@jupyter-widgets/controls",
      "model_module_version": "2.0.0",
      "model_name": "ButtonModel",
      "state": {
       "_view_name": "ErrorWidgetView",
       "button_style": "warning",
       "description": "fix x/y",
       "error": {},
       "layout": "IPY_MODEL_dac7285e91fc4079a39b1ca1b49d566e",
       "msg": "Failed to load model class 'ButtonModel' from module '@jupyter-widgets/controls'",
       "style": "IPY_MODEL_0f4aea2f94234d97968f1df66d943148"
      }
     },
     "59c0e9f22eeb4bdcaa641dbd0ae8e727": {
      "model_module": "@jupyter-widgets/base",
      "model_module_version": "2.0.0",
      "model_name": "LayoutModel",
      "state": {
       "_view_name": "ErrorWidgetView",
       "error": {},
       "msg": "Failed to load model class 'LayoutModel' from module '@jupyter-widgets/base'"
      }
     },
     "59dfbad6bb58439290911e5000e5dc5c": {
      "model_module": "@jupyter-widgets/controls",
      "model_module_version": "2.0.0",
      "model_name": "ButtonModel",
      "state": {
       "button_style": "warning",
       "description": "fix x/y",
       "layout": "IPY_MODEL_5a32f3bf8cfb49febcc0ab4d85e569a4",
       "style": "IPY_MODEL_bd3ed859047349f6993405376abe25f0",
       "tooltip": null
      }
     },
     "59e4d73cf0ff4457b85929e7ce13908e": {
      "model_module": "@jupyter-widgets/controls",
      "model_module_version": "2.0.0",
      "model_name": "VBoxModel",
      "state": {
       "children": [
        "IPY_MODEL_64ec6b221b1648a782c28c084862dc67",
        "IPY_MODEL_75a2e69dd84f4499969585bf62a0a3f6"
       ],
       "layout": "IPY_MODEL_055c4d30507749dea764a73cf1a64193"
      }
     },
     "59f4fdaf8a9b46a68e0b12c93da7b36d": {
      "model_module": "@jupyter-widgets/base",
      "model_module_version": "2.0.0",
      "model_name": "LayoutModel",
      "state": {
       "_view_name": "ErrorWidgetView",
       "error": {},
       "msg": "Failed to load model class 'LayoutModel' from module '@jupyter-widgets/base'",
       "width": "10%"
      }
     },
     "5a07878ce2454fd9b890bbc8889bb925": {
      "model_module": "@jupyter-widgets/controls",
      "model_module_version": "2.0.0",
      "model_name": "ButtonModel",
      "state": {
       "_view_name": "ErrorWidgetView",
       "button_style": "warning",
       "description": "fix x/y",
       "error": {},
       "layout": "IPY_MODEL_7afd83dc2f114826bed825a2214bd513",
       "msg": "Failed to load model class 'ButtonModel' from module '@jupyter-widgets/controls'",
       "style": "IPY_MODEL_55a2e1fd716d42d88ff0b2ffdbbc7681"
      }
     },
     "5a2581bcd1844351907796306283c508": {
      "model_module": "@jupyter-widgets/base",
      "model_module_version": "2.0.0",
      "model_name": "LayoutModel",
      "state": {
       "_view_name": "ErrorWidgetView",
       "error": {},
       "msg": "Failed to load model class 'LayoutModel' from module '@jupyter-widgets/base'"
      }
     },
     "5a32f3bf8cfb49febcc0ab4d85e569a4": {
      "model_module": "@jupyter-widgets/base",
      "model_module_version": "2.0.0",
      "model_name": "LayoutModel",
      "state": {}
     },
     "5a6a30af7b834a72b8314618eea82ade": {
      "model_module": "@jupyter-widgets/base",
      "model_module_version": "2.0.0",
      "model_name": "LayoutModel",
      "state": {
       "_view_name": "ErrorWidgetView",
       "error": {},
       "msg": "Failed to load model class 'LayoutModel' from module '@jupyter-widgets/base'"
      }
     },
     "5abdadc5dff84937bad47804721e2c5e": {
      "model_module": "@jupyter-widgets/controls",
      "model_module_version": "2.0.0",
      "model_name": "DescriptionStyleModel",
      "state": {
       "_view_name": "ErrorWidgetView",
       "description_width": "",
       "error": {},
       "msg": "Failed to load model class 'DescriptionStyleModel' from module '@jupyter-widgets/controls'"
      }
     },
     "5b3970a82b324b6488994f742fb777bb": {
      "model_module": "@jupyter-widgets/controls",
      "model_module_version": "2.0.0",
      "model_name": "ButtonModel",
      "state": {
       "_view_name": "ErrorWidgetView",
       "button_style": "warning",
       "description": "fix x/y",
       "error": {},
       "layout": "IPY_MODEL_e1bfd0dd2d4c4601a3bd3220809d6962",
       "msg": "Failed to load model class 'ButtonModel' from module '@jupyter-widgets/controls'",
       "style": "IPY_MODEL_7ebab6960a9247fdb7f15f0816bafef2"
      }
     },
     "5b60a3946b9b408387ea56ba9f15407f": {
      "model_module": "@jupyter-widgets/controls",
      "model_module_version": "2.0.0",
      "model_name": "DescriptionStyleModel",
      "state": {
       "_view_name": "ErrorWidgetView",
       "description_width": "",
       "error": {},
       "msg": "Failed to load model class 'DescriptionStyleModel' from module '@jupyter-widgets/controls'"
      }
     },
     "5b672b82b131480a9dc9c8707be8cf85": {
      "model_module": "@jupyter-widgets/controls",
      "model_module_version": "2.0.0",
      "model_name": "HBoxModel",
      "state": {
       "_view_name": "ErrorWidgetView",
       "children": [
        "IPY_MODEL_2d163d1c3d9b4d4a9a1b9eb552f76e53",
        "IPY_MODEL_14eb3d8502944d328f48c8bb59825719",
        "IPY_MODEL_bb01873a1e014fdaacdcb29b0050a3d4",
        "IPY_MODEL_c79d2794bbfe4017b66c93e0118a40fd"
       ],
       "error": {},
       "layout": "IPY_MODEL_de5fb979b60c4931aca8891ace09da4d",
       "msg": "Failed to load model class 'HBoxModel' from module '@jupyter-widgets/controls'"
      }
     },
     "5b6cea158a10447c85789773468060a5": {
      "model_module": "@jupyter-widgets/controls",
      "model_module_version": "2.0.0",
      "model_name": "DescriptionStyleModel",
      "state": {
       "_view_name": "ErrorWidgetView",
       "description_width": "",
       "error": {},
       "msg": "Failed to load model class 'DescriptionStyleModel' from module '@jupyter-widgets/controls'"
      }
     },
     "5b7b4ac1d6e24fb1babb43261b170eba": {
      "model_module": "@jupyter-widgets/base",
      "model_module_version": "2.0.0",
      "model_name": "LayoutModel",
      "state": {
       "_view_name": "ErrorWidgetView",
       "error": {},
       "msg": "Failed to load model class 'LayoutModel' from module '@jupyter-widgets/base'",
       "width": "50%"
      }
     },
     "5ba3dcf2e4eb42039bbcd3e4c4649647": {
      "model_module": "@jupyter-widgets/controls",
      "model_module_version": "2.0.0",
      "model_name": "DescriptionStyleModel",
      "state": {
       "_view_name": "ErrorWidgetView",
       "description_width": "",
       "error": {},
       "msg": "Failed to load model class 'DescriptionStyleModel' from module '@jupyter-widgets/controls'"
      }
     },
     "5badc3781e8c4692a3465bf2ec763fab": {
      "model_module": "@jupyter-widgets/controls",
      "model_module_version": "2.0.0",
      "model_name": "IntProgressModel",
      "state": {
       "_view_name": "ErrorWidgetView",
       "description": "Idle",
       "error": {},
       "layout": "IPY_MODEL_71e9749edf8844848ca9935c5d0ca9ff",
       "max": 10,
       "msg": "Failed to load model class 'IntProgressModel' from module '@jupyter-widgets/controls'",
       "style": "IPY_MODEL_b108fe44b87144a9b0e66ad27a3036db"
      }
     },
     "5bd457ebc50c4035b047ff3539b9c585": {
      "model_module": "@jupyter-widgets/controls",
      "model_module_version": "2.0.0",
      "model_name": "TextModel",
      "state": {
       "_view_name": "ErrorWidgetView",
       "error": {},
       "layout": "IPY_MODEL_9be63f7a4a654c89bee53119bfd2b46c",
       "msg": "Failed to load model class 'TextModel' from module '@jupyter-widgets/controls'",
       "style": "IPY_MODEL_e96cc108b19b45c0ae0bb71ffebe23fe",
       "value": "17:37:53"
      }
     },
     "5be70f6b50ce49ec92feeb5881966e1f": {
      "model_module": "@jupyter-widgets/base",
      "model_module_version": "2.0.0",
      "model_name": "LayoutModel",
      "state": {
       "_view_name": "ErrorWidgetView",
       "error": {},
       "msg": "Failed to load model class 'LayoutModel' from module '@jupyter-widgets/base'"
      }
     },
     "5c027b34f1784081a5499f6894c1c440": {
      "model_module": "@jupyter-widgets/controls",
      "model_module_version": "2.0.0",
      "model_name": "IntTextModel",
      "state": {
       "_view_name": "ErrorWidgetView",
       "description": "mp_cores:",
       "error": {},
       "layout": "IPY_MODEL_5c4273b798a64757b24347dfc1376322",
       "msg": "Failed to load model class 'IntTextModel' from module '@jupyter-widgets/controls'",
       "step": 1,
       "style": "IPY_MODEL_0ef350e3ad364f888c5ead6cc54cc012",
       "value": 1
      }
     },
     "5c4273b798a64757b24347dfc1376322": {
      "model_module": "@jupyter-widgets/base",
      "model_module_version": "2.0.0",
      "model_name": "LayoutModel",
      "state": {
       "_view_name": "ErrorWidgetView",
       "error": {},
       "msg": "Failed to load model class 'LayoutModel' from module '@jupyter-widgets/base'",
       "width": "15%"
      }
     },
     "5c4add532f954162a57befa8d83b0d58": {
      "model_module": "@jupyter-widgets/base",
      "model_module_version": "2.0.0",
      "model_name": "LayoutModel",
      "state": {
       "_view_name": "ErrorWidgetView",
       "error": {},
       "msg": "Failed to load model class 'LayoutModel' from module '@jupyter-widgets/base'"
      }
     },
     "5c57a75dfece498e940f78d87bc0868e": {
      "model_module": "@jupyter-widgets/controls",
      "model_module_version": "2.0.0",
      "model_name": "IntProgressModel",
      "state": {
       "_view_name": "ErrorWidgetView",
       "description": "Idle",
       "error": {},
       "layout": "IPY_MODEL_fe93c66804bc4284b4c2b4ead8e65bb1",
       "max": 10,
       "msg": "Failed to load model class 'IntProgressModel' from module '@jupyter-widgets/controls'",
       "style": "IPY_MODEL_aa7a9e2ed59e4054826c50379937c802"
      }
     },
     "5c726372fc3a487fae4c490e1aaf1dc5": {
      "model_module": "@jupyter-widgets/base",
      "model_module_version": "2.0.0",
      "model_name": "LayoutModel",
      "state": {
       "_view_name": "ErrorWidgetView",
       "error": {},
       "msg": "Failed to load model class 'LayoutModel' from module '@jupyter-widgets/base'",
       "width": "50%"
      }
     },
     "5c7b375ce0f648c28b3aaabad1d0c882": {
      "model_module": "@jupyter-widgets/controls",
      "model_module_version": "2.0.0",
      "model_name": "IntTextModel",
      "state": {
       "_view_name": "ErrorWidgetView",
       "description": "stack:",
       "error": {},
       "layout": "IPY_MODEL_4f130df435d2424e95a665d522d6a97d",
       "msg": "Failed to load model class 'IntTextModel' from module '@jupyter-widgets/controls'",
       "step": 1,
       "style": "IPY_MODEL_fc21ff6d7c754e1fa14edc328c809d0b",
       "value": 1
      }
     },
     "5cb489a78c1a45188524e877dc0c4f7f": {
      "model_module": "@jupyter-widgets/base",
      "model_module_version": "2.0.0",
      "model_name": "LayoutModel",
      "state": {
       "_view_name": "ErrorWidgetView",
       "error": {},
       "msg": "Failed to load model class 'LayoutModel' from module '@jupyter-widgets/base'"
      }
     },
     "5cd2429a1cdf4b76b1daccc3a2082c58": {
      "model_module": "@jupyter-widgets/controls",
      "model_module_version": "2.0.0",
      "model_name": "DescriptionStyleModel",
      "state": {
       "_view_name": "ErrorWidgetView",
       "description_width": "",
       "error": {},
       "msg": "Failed to load model class 'DescriptionStyleModel' from module '@jupyter-widgets/controls'"
      }
     },
     "5d176e3664ab40928d0d4fbff7191f06": {
      "model_module": "@jupyter-widgets/controls",
      "model_module_version": "2.0.0",
      "model_name": "SliderStyleModel",
      "state": {
       "_view_name": "ErrorWidgetView",
       "description_width": "",
       "error": {},
       "msg": "Failed to load model class 'SliderStyleModel' from module '@jupyter-widgets/controls'"
      }
     },
     "5d476a133cbb4ac1b54ae92bb5c80360": {
      "model_module": "@jupyter-widgets/controls",
      "model_module_version": "2.0.0",
      "model_name": "IntTextModel",
      "state": {
       "_view_name": "ErrorWidgetView",
       "description": "stack:",
       "error": {},
       "layout": "IPY_MODEL_61eeee095de74650be22a2678f34cb48",
       "msg": "Failed to load model class 'IntTextModel' from module '@jupyter-widgets/controls'",
       "step": 1,
       "style": "IPY_MODEL_6b201f92768d4ce28278795f9f72169e",
       "value": 1
      }
     },
     "5d4f31c661304be5ac00aa154b0d2247": {
      "model_module": "@jupyter-widgets/controls",
      "model_module_version": "2.0.0",
      "model_name": "DescriptionStyleModel",
      "state": {
       "_view_name": "ErrorWidgetView",
       "description_width": "",
       "error": {},
       "msg": "Failed to load model class 'DescriptionStyleModel' from module '@jupyter-widgets/controls'"
      }
     },
     "5dc84d465e3649f3b22e64e7171d3826": {
      "model_module": "@jupyter-widgets/controls",
      "model_module_version": "2.0.0",
      "model_name": "DescriptionStyleModel",
      "state": {
       "_view_name": "ErrorWidgetView",
       "description_width": "",
       "error": {},
       "msg": "Failed to load model class 'DescriptionStyleModel' from module '@jupyter-widgets/controls'"
      }
     },
     "5dfbc82512a04d64b71b7d1d0403eab9": {
      "model_module": "@jupyter-widgets/controls",
      "model_module_version": "2.0.0",
      "model_name": "IntTextModel",
      "state": {
       "_view_name": "ErrorWidgetView",
       "description": "stack step:",
       "error": {},
       "layout": "IPY_MODEL_5229fa1c989141aca3eb5933cd88dfc7",
       "msg": "Failed to load model class 'IntTextModel' from module '@jupyter-widgets/controls'",
       "step": 1,
       "style": "IPY_MODEL_5b6cea158a10447c85789773468060a5",
       "value": 1
      }
     },
     "5e2556e6e71946bf9d178a79134189b6": {
      "model_module": "@jupyter-widgets/controls",
      "model_module_version": "2.0.0",
      "model_name": "SliderStyleModel",
      "state": {
       "_view_name": "ErrorWidgetView",
       "description_width": "",
       "error": {},
       "msg": "Failed to load model class 'SliderStyleModel' from module '@jupyter-widgets/controls'"
      }
     },
     "5e7c85cd0abc44969c30d6fedf0b2c54": {
      "model_module": "@jupyter-widgets/controls",
      "model_module_version": "2.0.0",
      "model_name": "SliderStyleModel",
      "state": {
       "_view_name": "ErrorWidgetView",
       "description_width": "",
       "error": {},
       "msg": "Failed to load model class 'SliderStyleModel' from module '@jupyter-widgets/controls'"
      }
     },
     "5ecca1594bc64aacbbd930d172bc2cf8": {
      "model_module": "@jupyter-widgets/controls",
      "model_module_version": "2.0.0",
      "model_name": "IntTextModel",
      "state": {
       "_view_name": "ErrorWidgetView",
       "description": "stack:",
       "error": {},
       "layout": "IPY_MODEL_8e3c78d3073a468ebc12768965382f8c",
       "msg": "Failed to load model class 'IntTextModel' from module '@jupyter-widgets/controls'",
       "step": 1,
       "style": "IPY_MODEL_5d4f31c661304be5ac00aa154b0d2247",
       "value": 1
      }
     },
     "5ef9116c417642d4a846b6cbc6a5beae": {
      "model_module": "@jupyter-widgets/base",
      "model_module_version": "2.0.0",
      "model_name": "LayoutModel",
      "state": {
       "_view_name": "ErrorWidgetView",
       "error": {},
       "msg": "Failed to load model class 'LayoutModel' from module '@jupyter-widgets/base'",
       "width": "50%"
      }
     },
     "5f433206faa04fe1ac90146ee703cf8a": {
      "model_module": "@jupyter-widgets/controls",
      "model_module_version": "2.0.0",
      "model_name": "DescriptionStyleModel",
      "state": {
       "_view_name": "ErrorWidgetView",
       "description_width": "",
       "error": {},
       "msg": "Failed to load model class 'DescriptionStyleModel' from module '@jupyter-widgets/controls'"
      }
     },
     "5f4c4ff4570f45038d2c4988154bd460": {
      "model_module": "@jupyter-widgets/base",
      "model_module_version": "2.0.0",
      "model_name": "LayoutModel",
      "state": {
       "_view_name": "ErrorWidgetView",
       "error": {},
       "msg": "Failed to load model class 'LayoutModel' from module '@jupyter-widgets/base'"
      }
     },
     "5f65ee9c703341a1aab6fd4f4a688ccf": {
      "model_module": "@jupyter-widgets/base",
      "model_module_version": "2.0.0",
      "model_name": "LayoutModel",
      "state": {}
     },
     "5f67dc502fb0400c845ae44a75cdd951": {
      "model_module": "@jupyter-widgets/controls",
      "model_module_version": "2.0.0",
      "model_name": "CheckboxModel",
      "state": {
       "_view_name": "ErrorWidgetView",
       "description": "stack_linear",
       "disabled": false,
       "error": {},
       "layout": "IPY_MODEL_d942254f48b34877ade7f41c0b52636b",
       "msg": "Failed to load model class 'CheckboxModel' from module '@jupyter-widgets/controls'",
       "style": "IPY_MODEL_8e9830c52a30453fb214d71382f440af",
       "value": true
      }
     },
     "5f950f7c9ba748e1b3fceeb7ba84cc01": {
      "model_module": "@jupyter-widgets/controls",
      "model_module_version": "2.0.0",
      "model_name": "DropdownModel",
      "state": {
       "_options_labels": [
        "sv/av/pv/rv",
        "sv/av/pv",
        "sv/av",
        "sp/ap/pp/rp",
        "sp/ap/pp",
        "sp/ap",
        "power/amp",
        "av",
        "ap",
        "amp",
        "sv",
        "sp",
        "pv",
        "pp",
        "rv",
        "rp",
        "power"
       ],
       "_view_name": "ErrorWidgetView",
       "description": "wci value",
       "error": {},
       "index": 0,
       "layout": "IPY_MODEL_e66bcb6290b041dca6f51cf5549fe6fa",
       "msg": "Failed to load model class 'DropdownModel' from module '@jupyter-widgets/controls'",
       "style": "IPY_MODEL_8fe56898a99344339d9ca7e2dbc3d1eb"
      }
     },
     "5fcddaa59dce44719e0f5b1e8e767376": {
      "model_module": "@jupyter-widgets/controls",
      "model_module_version": "2.0.0",
      "model_name": "TextModel",
      "state": {
       "_view_name": "ErrorWidgetView",
       "description": "proc rate",
       "error": {},
       "layout": "IPY_MODEL_d4958ec3c0354fb4a61fa5ea1395f34b",
       "msg": "Failed to load model class 'TextModel' from module '@jupyter-widgets/controls'",
       "style": "IPY_MODEL_f4c601131a6141c0bc10277aaf60d2ff",
       "value": "r1: 29.8 / r2: 11.4 / r3: [8.2] Hz"
      }
     },
     "5fd1da66a4684c2280fee8157ccc72a6": {
      "model_module": "@jupyter-widgets/controls",
      "model_module_version": "2.0.0",
      "model_name": "IntProgressModel",
      "state": {
       "_view_name": "ErrorWidgetView",
       "description": "Idle",
       "error": {},
       "layout": "IPY_MODEL_c62adbdedd004fd58452ad1ff289096d",
       "max": 10,
       "msg": "Failed to load model class 'IntProgressModel' from module '@jupyter-widgets/controls'",
       "style": "IPY_MODEL_8a1229692f20442dbf991ab8775ebf9b"
      }
     },
     "5fe534fb5f2349fb8160248c9a543098": {
      "model_module": "@jupyter-widgets/controls",
      "model_module_version": "2.0.0",
      "model_name": "CheckboxModel",
      "state": {
       "_view_name": "ErrorWidgetView",
       "description": "stack_linear",
       "disabled": false,
       "error": {},
       "layout": "IPY_MODEL_743102a6c31d4c7d8467f77006320698",
       "msg": "Failed to load model class 'CheckboxModel' from module '@jupyter-widgets/controls'",
       "style": "IPY_MODEL_e79f328223d1411fb33a72771dd67262",
       "value": true
      }
     },
     "60045576b8434d0dbac3edcad892e45d": {
      "model_module": "@jupyter-widgets/controls",
      "model_module_version": "2.0.0",
      "model_name": "DropdownModel",
      "state": {
       "_options_labels": [
        "auto",
        "equal"
       ],
       "_view_name": "ErrorWidgetView",
       "description": "aspect",
       "error": {},
       "index": 1,
       "layout": "IPY_MODEL_a0faae538a0640bb892f27afa64c1cce",
       "msg": "Failed to load model class 'DropdownModel' from module '@jupyter-widgets/controls'",
       "style": "IPY_MODEL_ee3a3c140d7c4d43b8de7d7ec80455aa"
      }
     },
     "605f5cf04a874b5885b95ab980973318": {
      "model_module": "@jupyter-widgets/controls",
      "model_module_version": "2.0.0",
      "model_name": "CheckboxModel",
      "state": {
       "_view_name": "ErrorWidgetView",
       "description": "stack_linear",
       "disabled": false,
       "error": {},
       "layout": "IPY_MODEL_eab0dce51db24c75b0d272d67c20103b",
       "msg": "Failed to load model class 'CheckboxModel' from module '@jupyter-widgets/controls'",
       "style": "IPY_MODEL_7d108700158443f99e0f6c944dcef7cb",
       "value": true
      }
     },
     "60a57bb6bc744760927a9bc3adcad9a9": {
      "model_module": "@jupyter-widgets/controls",
      "model_module_version": "2.0.0",
      "model_name": "SliderStyleModel",
      "state": {
       "_view_name": "ErrorWidgetView",
       "description_width": "",
       "error": {},
       "msg": "Failed to load model class 'SliderStyleModel' from module '@jupyter-widgets/controls'"
      }
     },
     "60c494d47de54dd4bc327b82c307ad8f": {
      "model_module": "@jupyter-widgets/controls",
      "model_module_version": "2.0.0",
      "model_name": "DescriptionStyleModel",
      "state": {
       "_view_name": "ErrorWidgetView",
       "description_width": "",
       "error": {},
       "msg": "Failed to load model class 'DescriptionStyleModel' from module '@jupyter-widgets/controls'"
      }
     },
     "60e85f97251a4095b4cc91e76821d51f": {
      "model_module": "@jupyter-widgets/controls",
      "model_module_version": "2.0.0",
      "model_name": "IntTextModel",
      "state": {
       "_view_name": "ErrorWidgetView",
       "description": "stack step:",
       "error": {},
       "layout": "IPY_MODEL_a7ac8f11590a4ea9ae0091c9fd1e934f",
       "msg": "Failed to load model class 'IntTextModel' from module '@jupyter-widgets/controls'",
       "step": 1,
       "style": "IPY_MODEL_e1f9c9adec34486689dbafe45a02a7bf",
       "value": 1
      }
     },
     "60f6d9e7e48b4518856279475290954e": {
      "model_module": "@jupyter-widgets/controls",
      "model_module_version": "2.0.0",
      "model_name": "IntTextModel",
      "state": {
       "_view_name": "ErrorWidgetView",
       "description": "stack:",
       "error": {},
       "layout": "IPY_MODEL_1f941271d087474f8d51bd2ba32a0521",
       "msg": "Failed to load model class 'IntTextModel' from module '@jupyter-widgets/controls'",
       "step": 1,
       "style": "IPY_MODEL_d4f9c02a49c34480bee629c9ead8aa8c",
       "value": 1
      }
     },
     "613a6b9f8c264a2d9b4128117907ab4e": {
      "model_module": "@jupyter-widgets/controls",
      "model_module_version": "2.0.0",
      "model_name": "HBoxModel",
      "state": {
       "_view_name": "ErrorWidgetView",
       "children": [
        "IPY_MODEL_b848ecd7f60c45ccaa015fa4b3814a9b",
        "IPY_MODEL_2cb131c94e37409dbacaf9b2ac79ea38",
        "IPY_MODEL_399a7d13193c42bf89ec83e32559bae3",
        "IPY_MODEL_9656eb519cb94d10a6197d6fee75eca9"
       ],
       "error": {},
       "layout": "IPY_MODEL_b68986ef69f74de0993758846b7e6ad1",
       "msg": "Failed to load model class 'HBoxModel' from module '@jupyter-widgets/controls'"
      }
     },
     "616376c600ae4420bfd0dec9d2a6de2f": {
      "model_module": "@jupyter-widgets/base",
      "model_module_version": "2.0.0",
      "model_name": "LayoutModel",
      "state": {
       "_view_name": "ErrorWidgetView",
       "error": {},
       "msg": "Failed to load model class 'LayoutModel' from module '@jupyter-widgets/base'"
      }
     },
     "617de1877f894a00a2e4ea0dfdf702bf": {
      "model_module": "@jupyter-widgets/base",
      "model_module_version": "2.0.0",
      "model_name": "LayoutModel",
      "state": {
       "_view_name": "ErrorWidgetView",
       "error": {},
       "msg": "Failed to load model class 'LayoutModel' from module '@jupyter-widgets/base'"
      }
     },
     "61e0a1e189a6440c81fb4ac023365170": {
      "model_module": "@jupyter-widgets/base",
      "model_module_version": "2.0.0",
      "model_name": "LayoutModel",
      "state": {
       "_view_name": "ErrorWidgetView",
       "error": {},
       "msg": "Failed to load model class 'LayoutModel' from module '@jupyter-widgets/base'"
      }
     },
     "61e6d961055442348a26dc9cdeb15b32": {
      "model_module": "@jupyter-widgets/controls",
      "model_module_version": "2.0.0",
      "model_name": "DescriptionStyleModel",
      "state": {
       "_view_name": "ErrorWidgetView",
       "description_width": "",
       "error": {},
       "msg": "Failed to load model class 'DescriptionStyleModel' from module '@jupyter-widgets/controls'"
      }
     },
     "61eeee095de74650be22a2678f34cb48": {
      "model_module": "@jupyter-widgets/base",
      "model_module_version": "2.0.0",
      "model_name": "LayoutModel",
      "state": {
       "_view_name": "ErrorWidgetView",
       "error": {},
       "msg": "Failed to load model class 'LayoutModel' from module '@jupyter-widgets/base'",
       "width": "15%"
      }
     },
     "6270b896b8c1475f9c865e276e983e0e": {
      "model_module": "@jupyter-widgets/base",
      "model_module_version": "2.0.0",
      "model_name": "LayoutModel",
      "state": {
       "_view_name": "ErrorWidgetView",
       "error": {},
       "msg": "Failed to load model class 'LayoutModel' from module '@jupyter-widgets/base'"
      }
     },
     "62b92dc265804534815981d0ad92a16f": {
      "model_module": "@jupyter-widgets/base",
      "model_module_version": "2.0.0",
      "model_name": "LayoutModel",
      "state": {
       "_view_name": "ErrorWidgetView",
       "error": {},
       "msg": "Failed to load model class 'LayoutModel' from module '@jupyter-widgets/base'"
      }
     },
     "62f3adc1193c4c59b5f897941b91d1e8": {
      "model_module": "@jupyter-widgets/controls",
      "model_module_version": "2.0.0",
      "model_name": "TextModel",
      "state": {
       "_view_name": "ErrorWidgetView",
       "error": {},
       "layout": "IPY_MODEL_1fcb712b80604c1383715ea760dadfaa",
       "msg": "Failed to load model class 'TextModel' from module '@jupyter-widgets/controls'",
       "style": "IPY_MODEL_b3c0c000ee944043971295468050a31a",
       "value": "2012-08-21"
      }
     },
     "632a90120def4ac19f33bbb6da43bce9": {
      "model_module": "@jupyter-widgets/base",
      "model_module_version": "2.0.0",
      "model_name": "LayoutModel",
      "state": {
       "_view_name": "ErrorWidgetView",
       "error": {},
       "msg": "Failed to load model class 'LayoutModel' from module '@jupyter-widgets/base'"
      }
     },
     "6371505814a6419fb5c5cf0c50b4e550": {
      "model_module": "@jupyter-widgets/controls",
      "model_module_version": "2.0.0",
      "model_name": "DescriptionStyleModel",
      "state": {
       "_view_name": "ErrorWidgetView",
       "description_width": "",
       "error": {},
       "msg": "Failed to load model class 'DescriptionStyleModel' from module '@jupyter-widgets/controls'"
      }
     },
     "642b25bd7b694d6ea1f78d6fddaab9b7": {
      "model_module": "@jupyter-widgets/controls",
      "model_module_version": "2.0.0",
      "model_name": "DescriptionStyleModel",
      "state": {
       "_view_name": "ErrorWidgetView",
       "description_width": "",
       "error": {},
       "msg": "Failed to load model class 'DescriptionStyleModel' from module '@jupyter-widgets/controls'"
      }
     },
     "649a2c982b984d308299fda855eb763d": {
      "model_module": "@jupyter-widgets/base",
      "model_module_version": "2.0.0",
      "model_name": "LayoutModel",
      "state": {
       "_view_name": "ErrorWidgetView",
       "error": {},
       "msg": "Failed to load model class 'LayoutModel' from module '@jupyter-widgets/base'"
      }
     },
     "64a8e7581a0b418296a216e6b047d399": {
      "model_module": "@jupyter-widgets/base",
      "model_module_version": "2.0.0",
      "model_name": "LayoutModel",
      "state": {
       "_view_name": "ErrorWidgetView",
       "error": {},
       "msg": "Failed to load model class 'LayoutModel' from module '@jupyter-widgets/base'",
       "width": "10%"
      }
     },
     "64bb7d81d1c0456e8d41dafa12cad5a5": {
      "model_module": "@jupyter-widgets/controls",
      "model_module_version": "2.0.0",
      "model_name": "DescriptionStyleModel",
      "state": {
       "_view_name": "ErrorWidgetView",
       "description_width": "",
       "error": {},
       "msg": "Failed to load model class 'DescriptionStyleModel' from module '@jupyter-widgets/controls'"
      }
     },
     "64e3cf3457e7472e9887ca0a90e8b367": {
      "model_module": "@jupyter-widgets/controls",
      "model_module_version": "2.0.0",
      "model_name": "DescriptionStyleModel",
      "state": {
       "_view_name": "ErrorWidgetView",
       "description_width": "",
       "error": {},
       "msg": "Failed to load model class 'DescriptionStyleModel' from module '@jupyter-widgets/controls'"
      }
     },
     "64ec6b221b1648a782c28c084862dc67": {
      "model_module": "@jupyter-widgets/controls",
      "model_module_version": "2.0.0",
      "model_name": "HBoxModel",
      "state": {
       "children": [
        "IPY_MODEL_ec06fe3bd47044b4b57466e136b54353"
       ],
       "layout": "IPY_MODEL_f2c3ac1b51bd4a01b632e428ee590bef"
      }
     },
     "64f8550186344ab1886f0ab4fd2facb2": {
      "model_module": "@jupyter-widgets/controls",
      "model_module_version": "2.0.0",
      "model_name": "IntProgressModel",
      "state": {
       "_view_name": "ErrorWidgetView",
       "description": "Idle",
       "error": {},
       "layout": "IPY_MODEL_8b21727a0b874c67b7e5d68074c1140d",
       "max": 10,
       "msg": "Failed to load model class 'IntProgressModel' from module '@jupyter-widgets/controls'",
       "style": "IPY_MODEL_3510087eadb743fba7967f64da20478c"
      }
     },
     "64f85f021fbe45828ae128876ece9148": {
      "model_module": "@jupyter-widgets/base",
      "model_module_version": "2.0.0",
      "model_name": "LayoutModel",
      "state": {
       "_view_name": "ErrorWidgetView",
       "error": {},
       "msg": "Failed to load model class 'LayoutModel' from module '@jupyter-widgets/base'"
      }
     },
     "6507831407b24502bc0d39a02f6a9f6c": {
      "model_module": "@jupyter-widgets/controls",
      "model_module_version": "2.0.0",
      "model_name": "DropdownModel",
      "state": {
       "_options_labels": [
        "linear",
        "beamsample"
       ],
       "_view_name": "ErrorWidgetView",
       "description": "wci render",
       "error": {},
       "index": 0,
       "layout": "IPY_MODEL_385b96d380354776a4d40c30038e5c8c",
       "msg": "Failed to load model class 'DropdownModel' from module '@jupyter-widgets/controls'",
       "style": "IPY_MODEL_1debf76d4a634dca8f48f13b027a3616"
      }
     },
     "657b7eed3138422bb002ffeb049ecaa5": {
      "model_module": "@jupyter-widgets/controls",
      "model_module_version": "2.0.0",
      "model_name": "HBoxModel",
      "state": {
       "_view_name": "ErrorWidgetView",
       "children": [
        "IPY_MODEL_3e156a34e19b43ee83650b8877ccf703",
        "IPY_MODEL_77b98c44d6bb467aba7890b82ebf059f",
        "IPY_MODEL_42e92af0cc484324a49340b8f08e7574",
        "IPY_MODEL_855e6dc48649494c9631ff11cfa9c713"
       ],
       "error": {},
       "layout": "IPY_MODEL_c1869bb1e8d54cc59c9118cc67417933",
       "msg": "Failed to load model class 'HBoxModel' from module '@jupyter-widgets/controls'"
      }
     },
     "65b2735a13d6495cadf94e677821c42a": {
      "model_module": "@jupyter-widgets/base",
      "model_module_version": "2.0.0",
      "model_name": "LayoutModel",
      "state": {
       "_view_name": "ErrorWidgetView",
       "error": {},
       "msg": "Failed to load model class 'LayoutModel' from module '@jupyter-widgets/base'"
      }
     },
     "65fdb4535cb342289199702888f2a76b": {
      "model_module": "@jupyter-widgets/controls",
      "model_module_version": "2.0.0",
      "model_name": "DescriptionStyleModel",
      "state": {
       "_view_name": "ErrorWidgetView",
       "description_width": "",
       "error": {},
       "msg": "Failed to load model class 'DescriptionStyleModel' from module '@jupyter-widgets/controls'"
      }
     },
     "67171eef6b934f8191535c8752633cff": {
      "model_module": "@jupyter-widgets/controls",
      "model_module_version": "2.0.0",
      "model_name": "DropdownModel",
      "state": {
       "_options_labels": [
        "antialiased",
        "none",
        "nearest",
        "bilinear",
        "bicubic",
        "spline16",
        "spline36",
        "hanning",
        "hamming",
        "hermite",
        "kaiser",
        "quadric",
        "catrom",
        "gaussian",
        "bessel",
        "mitchell",
        "sinc",
        "lanczos",
        "blackman"
       ],
       "_view_name": "ErrorWidgetView",
       "description": "interpolation",
       "error": {},
       "index": 2,
       "layout": "IPY_MODEL_eacc2a79b4a54cbea79d9cef36b3d448",
       "msg": "Failed to load model class 'DropdownModel' from module '@jupyter-widgets/controls'",
       "style": "IPY_MODEL_55087554cc90486a95353d83c635eedf"
      }
     },
     "6745250002d64f4dbce065fa2ad2e4d5": {
      "model_module": "@jupyter-widgets/base",
      "model_module_version": "2.0.0",
      "model_name": "LayoutModel",
      "state": {
       "_view_name": "ErrorWidgetView",
       "error": {},
       "msg": "Failed to load model class 'LayoutModel' from module '@jupyter-widgets/base'"
      }
     },
     "675f8bcbed434b21834242d00b138ce6": {
      "model_module": "@jupyter-widgets/controls",
      "model_module_version": "2.0.0",
      "model_name": "ButtonModel",
      "state": {
       "_view_name": "ErrorWidgetView",
       "description": "unfix x/y",
       "error": {},
       "layout": "IPY_MODEL_a741db8a205d466180c5d77103a05500",
       "msg": "Failed to load model class 'ButtonModel' from module '@jupyter-widgets/controls'",
       "style": "IPY_MODEL_7426ee0064a94d64a68dee1fb6c42577"
      }
     },
     "6763e328a29545d2a09e183458e76601": {
      "model_module": "@jupyter-widgets/controls",
      "model_module_version": "2.0.0",
      "model_name": "DescriptionStyleModel",
      "state": {
       "_view_name": "ErrorWidgetView",
       "description_width": "",
       "error": {},
       "msg": "Failed to load model class 'DescriptionStyleModel' from module '@jupyter-widgets/controls'"
      }
     },
     "677abb686df24d238f8f519dc3284645": {
      "model_module": "@jupyter-widgets/controls",
      "model_module_version": "2.0.0",
      "model_name": "TextModel",
      "state": {
       "_view_name": "ErrorWidgetView",
       "description": "proc rate",
       "error": {},
       "layout": "IPY_MODEL_59c0e9f22eeb4bdcaa641dbd0ae8e727",
       "msg": "Failed to load model class 'TextModel' from module '@jupyter-widgets/controls'",
       "style": "IPY_MODEL_46860f7556e24602b396c6cb6c108f55",
       "value": "r1: 89.2 / r2: 9.2 / r3: [8.3] Hz"
      }
     },
     "678896ae411e4c7283a54de365901e63": {
      "model_module": "@jupyter-widgets/base",
      "model_module_version": "2.0.0",
      "model_name": "LayoutModel",
      "state": {
       "_view_name": "ErrorWidgetView",
       "error": {},
       "msg": "Failed to load model class 'LayoutModel' from module '@jupyter-widgets/base'"
      }
     },
     "679d28906b2d4a60ab74c47657aa3ae0": {
      "model_module": "@jupyter-widgets/controls",
      "model_module_version": "2.0.0",
      "model_name": "DescriptionStyleModel",
      "state": {
       "description_width": ""
      }
     },
     "6813e3a3fbba4898974266101d744c4c": {
      "model_module": "@jupyter-widgets/base",
      "model_module_version": "2.0.0",
      "model_name": "LayoutModel",
      "state": {
       "_view_name": "ErrorWidgetView",
       "error": {},
       "msg": "Failed to load model class 'LayoutModel' from module '@jupyter-widgets/base'"
      }
     },
     "6856d1e2b6b541c6a69634d017cd405f": {
      "model_module": "@jupyter-widgets/base",
      "model_module_version": "2.0.0",
      "model_name": "LayoutModel",
      "state": {
       "width": "10%"
      }
     },
     "68a93c7e95ec49e4a6b3273c0231c3f4": {
      "model_module": "@jupyter-widgets/base",
      "model_module_version": "2.0.0",
      "model_name": "LayoutModel",
      "state": {
       "_view_name": "ErrorWidgetView",
       "error": {},
       "msg": "Failed to load model class 'LayoutModel' from module '@jupyter-widgets/base'"
      }
     },
     "68b7a7e10f1d4388ab65f9e1caf6f2dc": {
      "model_module": "@jupyter-widgets/controls",
      "model_module_version": "2.0.0",
      "model_name": "SliderStyleModel",
      "state": {
       "_view_name": "ErrorWidgetView",
       "description_width": "",
       "error": {},
       "msg": "Failed to load model class 'SliderStyleModel' from module '@jupyter-widgets/controls'"
      }
     },
     "68da658554fc4d49833f054010d7d0e4": {
      "model_module": "@jupyter-widgets/controls",
      "model_module_version": "2.0.0",
      "model_name": "IntSliderModel",
      "state": {
       "_view_name": "ErrorWidgetView",
       "description": "horizontal pixels",
       "error": {},
       "layout": "IPY_MODEL_8e0c1ea217214499a33684ece4cd9f24",
       "max": 2048,
       "min": 2,
       "msg": "Failed to load model class 'IntSliderModel' from module '@jupyter-widgets/controls'",
       "style": "IPY_MODEL_d9d6e68023314ba785c1811cb717d826",
       "value": 1024
      }
     },
     "6958544e31c34166a78c39151d7746f9": {
      "model_module": "@jupyter-widgets/controls",
      "model_module_version": "2.0.0",
      "model_name": "VBoxModel",
      "state": {
       "_view_name": "ErrorWidgetView",
       "children": [
        "IPY_MODEL_5528fb18837d4d3093f571a6baf3490f",
        "IPY_MODEL_528395e0b0a347b581fe380f892dffc6",
        "IPY_MODEL_ad861262db874d14b07bb8c2aed1beb5",
        "IPY_MODEL_695e969beb2e44b2a6712b26bbd30712",
        "IPY_MODEL_16f5b5c0651d4d25a361e084d836af3b",
        "IPY_MODEL_16a91c47d8414c2d8f98f52d07b8576e"
       ],
       "error": {},
       "layout": "IPY_MODEL_7dea7cda988f48d484607110ea21b89f",
       "msg": "Failed to load model class 'VBoxModel' from module '@jupyter-widgets/controls'"
      }
     },
     "6959d4c8aff04e418a6e81aaa0fa473b": {
      "model_module": "@jupyter-widgets/controls",
      "model_module_version": "2.0.0",
      "model_name": "DescriptionStyleModel",
      "state": {
       "_view_name": "ErrorWidgetView",
       "description_width": "",
       "error": {},
       "msg": "Failed to load model class 'DescriptionStyleModel' from module '@jupyter-widgets/controls'"
      }
     },
     "695e969beb2e44b2a6712b26bbd30712": {
      "model_module": "@jupyter-widgets/controls",
      "model_module_version": "2.0.0",
      "model_name": "HBoxModel",
      "state": {
       "_view_name": "ErrorWidgetView",
       "children": [
        "IPY_MODEL_f283baeab1744cffa6b5d51f631038ca",
        "IPY_MODEL_6e4999d0edac44adbe7050e50a6fef91",
        "IPY_MODEL_3b563f0c3f844c0a8a44b6139375c3f8",
        "IPY_MODEL_b480bd1a6c9a4f4fa6157d9bd9248f29"
       ],
       "error": {},
       "layout": "IPY_MODEL_a378957e69074d68937acc48adb605d2",
       "msg": "Failed to load model class 'HBoxModel' from module '@jupyter-widgets/controls'"
      }
     },
     "69bccf31a9e843da93d1b5a83a287554": {
      "model_module": "@jupyter-widgets/base",
      "model_module_version": "2.0.0",
      "model_name": "LayoutModel",
      "state": {
       "_view_name": "ErrorWidgetView",
       "error": {},
       "msg": "Failed to load model class 'LayoutModel' from module '@jupyter-widgets/base'"
      }
     },
     "69f93dbabc744397956b5b266b8ca623": {
      "model_module": "@jupyter-widgets/controls",
      "model_module_version": "2.0.0",
      "model_name": "IntTextModel",
      "state": {
       "_view_name": "ErrorWidgetView",
       "description": "stack:",
       "error": {},
       "layout": "IPY_MODEL_f2d65375c67d4d6aaecad59181350cd2",
       "msg": "Failed to load model class 'IntTextModel' from module '@jupyter-widgets/controls'",
       "step": 1,
       "style": "IPY_MODEL_2dfdeb11fb06421f8ff6f46432cd9639",
       "value": 1
      }
     },
     "69ff838e28a245f5846b440860d0b46c": {
      "model_module": "@jupyter-widgets/base",
      "model_module_version": "2.0.0",
      "model_name": "LayoutModel",
      "state": {
       "_view_name": "ErrorWidgetView",
       "error": {},
       "msg": "Failed to load model class 'LayoutModel' from module '@jupyter-widgets/base'"
      }
     },
     "6a055f51c7ec485b994e82923a0bfc97": {
      "model_module": "@jupyter-widgets/controls",
      "model_module_version": "2.0.0",
      "model_name": "SliderStyleModel",
      "state": {
       "_view_name": "ErrorWidgetView",
       "description_width": "",
       "error": {},
       "msg": "Failed to load model class 'SliderStyleModel' from module '@jupyter-widgets/controls'"
      }
     },
     "6a121bef85a54f1c8c4935a4cb4f101c": {
      "model_module": "@jupyter-widgets/controls",
      "model_module_version": "2.0.0",
      "model_name": "DropdownModel",
      "state": {
       "_options_labels": [
        "sv/av/pv/rv",
        "sv/av/pv",
        "sv/av",
        "sp/ap/pp/rp",
        "sp/ap/pp",
        "sp/ap",
        "power/amp",
        "av",
        "ap",
        "amp",
        "sv",
        "sp",
        "pv",
        "pp",
        "rv",
        "rp",
        "power"
       ],
       "description": "wci value",
       "index": 0,
       "layout": "IPY_MODEL_d903a0fcd22644fba901908aa63e9f33",
       "style": "IPY_MODEL_76fd022d427b4c93b27be731569a3f17"
      }
     },
     "6a2b51bbf78044a8aeb5559ae7e503e3": {
      "model_module": "@jupyter-widgets/controls",
      "model_module_version": "2.0.0",
      "model_name": "IntSliderModel",
      "state": {
       "_view_name": "ErrorWidgetView",
       "description": "ping nr",
       "error": {},
       "layout": "IPY_MODEL_3412e0452e324723bae170fb3c8f6f10",
       "max": 66,
       "msg": "Failed to load model class 'IntSliderModel' from module '@jupyter-widgets/controls'",
       "style": "IPY_MODEL_60a57bb6bc744760927a9bc3adcad9a9"
      }
     },
     "6a50f044782b4d4fbc743c5dff1d311a": {
      "model_module": "@jupyter-widgets/base",
      "model_module_version": "2.0.0",
      "model_name": "LayoutModel",
      "state": {
       "_view_name": "ErrorWidgetView",
       "error": {},
       "msg": "Failed to load model class 'LayoutModel' from module '@jupyter-widgets/base'"
      }
     },
     "6a5f743925364b0fb38242e2c86ed149": {
      "model_module": "@jupyter-widgets/base",
      "model_module_version": "2.0.0",
      "model_name": "LayoutModel",
      "state": {
       "_view_name": "ErrorWidgetView",
       "error": {},
       "msg": "Failed to load model class 'LayoutModel' from module '@jupyter-widgets/base'"
      }
     },
     "6a799a1b8689488883c5d57ee6ef34f1": {
      "model_module": "@jupyter-widgets/controls",
      "model_module_version": "2.0.0",
      "model_name": "IntTextModel",
      "state": {
       "_view_name": "ErrorWidgetView",
       "description": "stack:",
       "error": {},
       "layout": "IPY_MODEL_4aabac893a57467fb8a9809d716768b5",
       "msg": "Failed to load model class 'IntTextModel' from module '@jupyter-widgets/controls'",
       "step": 1,
       "style": "IPY_MODEL_db68f79e25e2435b800295d943622deb",
       "value": 1
      }
     },
     "6a7f8799648e4aa396d96e6a67d4c2d5": {
      "model_module": "@jupyter-widgets/controls",
      "model_module_version": "2.0.0",
      "model_name": "FloatSliderModel",
      "state": {
       "_view_name": "ErrorWidgetView",
       "description": "vmax",
       "error": {},
       "layout": "IPY_MODEL_e0971dbe71ed4dfcb28383c477f7d590",
       "min": -150,
       "msg": "Failed to load model class 'FloatSliderModel' from module '@jupyter-widgets/controls'",
       "step": 5,
       "style": "IPY_MODEL_47ec744a4b5b4902abca6890f5dc1144",
       "value": -25
      }
     },
     "6a810b550a6044e7acf1ff8b059d6917": {
      "model_module": "@jupyter-widgets/controls",
      "model_module_version": "2.0.0",
      "model_name": "IntTextModel",
      "state": {
       "_view_name": "ErrorWidgetView",
       "description": "stack step:",
       "error": {},
       "layout": "IPY_MODEL_29d56a5e67984d6eb7f850600ba59378",
       "msg": "Failed to load model class 'IntTextModel' from module '@jupyter-widgets/controls'",
       "step": 1,
       "style": "IPY_MODEL_349b5211310646ebb6ccde785ad8d27b",
       "value": 1
      }
     },
     "6acd0cfd86ee402699167b6e72d19504": {
      "model_module": "@jupyter-widgets/controls",
      "model_module_version": "2.0.0",
      "model_name": "HTMLModel",
      "state": {
       "_view_name": "ErrorWidgetView",
       "error": {},
       "layout": "IPY_MODEL_7670ee630d8546c59b29eca31883cda1",
       "msg": "Failed to load model class 'HTMLModel' from module '@jupyter-widgets/controls'",
       "style": "IPY_MODEL_f2e34b97a63d430791752ce153ab43c4",
       "value": " 18/18 [00:00&lt;00:00, 7733.81it/s]"
      }
     },
     "6adc6826c1bc4c3cb55f29ff3798b668": {
      "model_module": "@jupyter-widgets/controls",
      "model_module_version": "2.0.0",
      "model_name": "TextModel",
      "state": {
       "_view_name": "ErrorWidgetView",
       "error": {},
       "layout": "IPY_MODEL_33481c4522a04a7f8f6ca431c8f8e3d4",
       "msg": "Failed to load model class 'TextModel' from module '@jupyter-widgets/controls'",
       "style": "IPY_MODEL_a0aa31936d264fb6a449902b83ef16ab",
       "value": "2015-05-04"
      }
     },
     "6b123ee772b84902b7245223655d5641": {
      "model_module": "@jupyter-widgets/controls",
      "model_module_version": "2.0.0",
      "model_name": "DropdownModel",
      "state": {
       "_options_labels": [
        "antialiased",
        "none",
        "nearest",
        "bilinear",
        "bicubic",
        "spline16",
        "spline36",
        "hanning",
        "hamming",
        "hermite",
        "kaiser",
        "quadric",
        "catrom",
        "gaussian",
        "bessel",
        "mitchell",
        "sinc",
        "lanczos",
        "blackman"
       ],
       "_view_name": "ErrorWidgetView",
       "description": "interpolation",
       "error": {},
       "index": 2,
       "layout": "IPY_MODEL_ede7662436df4621a5cb86aed779ac15",
       "msg": "Failed to load model class 'DropdownModel' from module '@jupyter-widgets/controls'",
       "style": "IPY_MODEL_2fcbf390a0b64027abf14f18a8d996e8"
      }
     },
     "6b1fa18743514b768c60bf79d3dff778": {
      "model_module": "@jupyter-widgets/controls",
      "model_module_version": "2.0.0",
      "model_name": "IntProgressModel",
      "state": {
       "_view_name": "ErrorWidgetView",
       "description": "Idle",
       "error": {},
       "layout": "IPY_MODEL_bff19b39d9b8482591ac68ef65aa8957",
       "max": 10,
       "msg": "Failed to load model class 'IntProgressModel' from module '@jupyter-widgets/controls'",
       "style": "IPY_MODEL_f1edc69f5cc945c3b98dc2cea1f185ad"
      }
     },
     "6b201f92768d4ce28278795f9f72169e": {
      "model_module": "@jupyter-widgets/controls",
      "model_module_version": "2.0.0",
      "model_name": "DescriptionStyleModel",
      "state": {
       "_view_name": "ErrorWidgetView",
       "description_width": "",
       "error": {},
       "msg": "Failed to load model class 'DescriptionStyleModel' from module '@jupyter-widgets/controls'"
      }
     },
     "6b343b4e13b949aa8030965abb8be8d3": {
      "model_module": "@jupyter-widgets/base",
      "model_module_version": "2.0.0",
      "model_name": "LayoutModel",
      "state": {
       "_view_name": "ErrorWidgetView",
       "error": {},
       "msg": "Failed to load model class 'LayoutModel' from module '@jupyter-widgets/base'"
      }
     },
     "6b86efef3d02454a888b75ea75f0a003": {
      "model_module": "@jupyter-widgets/base",
      "model_module_version": "2.0.0",
      "model_name": "LayoutModel",
      "state": {
       "width": "10%"
      }
     },
     "6ba4ad592cdf492db2e1544d6fc90dcf": {
      "model_module": "@jupyter-widgets/controls",
      "model_module_version": "2.0.0",
      "model_name": "FloatSliderModel",
      "state": {
       "_view_name": "ErrorWidgetView",
       "description": "vmax",
       "error": {},
       "layout": "IPY_MODEL_9ffba51d900c425dbb5d8dc0f7919b9f",
       "min": -150,
       "msg": "Failed to load model class 'FloatSliderModel' from module '@jupyter-widgets/controls'",
       "step": 5,
       "style": "IPY_MODEL_88a20ba6b48f407fbc45ec678aab17d5",
       "value": -25
      }
     },
     "6bec23a53c93437f975f7ce2c79d462b": {
      "model_module": "@jupyter-widgets/controls",
      "model_module_version": "2.0.0",
      "model_name": "DescriptionStyleModel",
      "state": {
       "_view_name": "ErrorWidgetView",
       "description_width": "",
       "error": {},
       "msg": "Failed to load model class 'DescriptionStyleModel' from module '@jupyter-widgets/controls'"
      }
     },
     "6c16e1200db147f79ecbe6b9f681c6ee": {
      "model_module": "@jupyter-widgets/controls",
      "model_module_version": "2.0.0",
      "model_name": "HBoxModel",
      "state": {
       "_view_name": "ErrorWidgetView",
       "children": [
        "IPY_MODEL_4a589bcf469e4e19aabfff5fb75202cd",
        "IPY_MODEL_371dea1dab1745b1a44bf17b7500db34",
        "IPY_MODEL_868a09bc6d284c01ba0a7bfdcf67f105",
        "IPY_MODEL_dc37f5c4fa6b4b2e9a8dbee2fde93ec6",
        "IPY_MODEL_3d952bbe86404d589ecf3f7e1f86ea75"
       ],
       "error": {},
       "layout": "IPY_MODEL_2ce84b70a3ee425fb67c8f856e00333a",
       "msg": "Failed to load model class 'HBoxModel' from module '@jupyter-widgets/controls'"
      }
     },
     "6c34483a931940bf9842a320183f9f6c": {
      "model_module": "@jupyter-widgets/base",
      "model_module_version": "2.0.0",
      "model_name": "LayoutModel",
      "state": {
       "_view_name": "ErrorWidgetView",
       "error": {},
       "msg": "Failed to load model class 'LayoutModel' from module '@jupyter-widgets/base'"
      }
     },
     "6c64f31534334778b44d66bbb028f6b4": {
      "model_module": "@jupyter-widgets/controls",
      "model_module_version": "2.0.0",
      "model_name": "DropdownModel",
      "state": {
       "_options_labels": [
        "auto",
        "equal"
       ],
       "_view_name": "ErrorWidgetView",
       "description": "aspect",
       "error": {},
       "index": 1,
       "layout": "IPY_MODEL_d751ee14e48c424fb21f7c20b6997f7e",
       "msg": "Failed to load model class 'DropdownModel' from module '@jupyter-widgets/controls'",
       "style": "IPY_MODEL_9ce71e677b5b4557a6de4e6a3a5c04c6"
      }
     },
     "6c79b6c2e31c476f889006e3d9640214": {
      "model_module": "@jupyter-widgets/base",
      "model_module_version": "2.0.0",
      "model_name": "LayoutModel",
      "state": {
       "_view_name": "ErrorWidgetView",
       "error": {},
       "msg": "Failed to load model class 'LayoutModel' from module '@jupyter-widgets/base'",
       "width": "10%"
      }
     },
     "6c8e1c43194447d6b5d9538cfdad89c5": {
      "model_module": "@jupyter-widgets/base",
      "model_module_version": "2.0.0",
      "model_name": "LayoutModel",
      "state": {
       "_view_name": "ErrorWidgetView",
       "error": {},
       "msg": "Failed to load model class 'LayoutModel' from module '@jupyter-widgets/base'"
      }
     },
     "6ce671bffc9f4cbca260710333fa3d93": {
      "model_module": "@jupyter-widgets/controls",
      "model_module_version": "2.0.0",
      "model_name": "HBoxModel",
      "state": {
       "_view_name": "ErrorWidgetView",
       "children": [
        "IPY_MODEL_4a5610291c5846a78d499c0333606992",
        "IPY_MODEL_d1826774f09a45d5a7ec1bb014bea768",
        "IPY_MODEL_058668a482c744458dfe29a94c34100f",
        "IPY_MODEL_f35dd24c2f2a42939ac91c5a24852e98",
        "IPY_MODEL_0c225f04af204006bd487dccfda4d2ce",
        "IPY_MODEL_169064efbf124e3db06430b46af487fb"
       ],
       "error": {},
       "layout": "IPY_MODEL_19828682639549b2b23b79cdf7c8caf3",
       "msg": "Failed to load model class 'HBoxModel' from module '@jupyter-widgets/controls'"
      }
     },
     "6d1254839c9e4b83b4e57d2d41cbf5ac": {
      "model_module": "@jupyter-widgets/base",
      "model_module_version": "2.0.0",
      "model_name": "LayoutModel",
      "state": {
       "_view_name": "ErrorWidgetView",
       "error": {},
       "msg": "Failed to load model class 'LayoutModel' from module '@jupyter-widgets/base'"
      }
     },
     "6d3af3b1c21a4864a1cff79459c59bc8": {
      "model_module": "@jupyter-widgets/controls",
      "model_module_version": "2.0.0",
      "model_name": "DescriptionStyleModel",
      "state": {
       "_view_name": "ErrorWidgetView",
       "description_width": "",
       "error": {},
       "msg": "Failed to load model class 'DescriptionStyleModel' from module '@jupyter-widgets/controls'"
      }
     },
     "6d49a21f3239425fb0879b03b274e2fd": {
      "model_module": "@jupyter-widgets/base",
      "model_module_version": "2.0.0",
      "model_name": "LayoutModel",
      "state": {
       "_view_name": "ErrorWidgetView",
       "error": {},
       "msg": "Failed to load model class 'LayoutModel' from module '@jupyter-widgets/base'"
      }
     },
     "6d7d5da6cfa14a85803a65485bdb6a2d": {
      "model_module": "@jupyter-widgets/controls",
      "model_module_version": "2.0.0",
      "model_name": "DescriptionStyleModel",
      "state": {
       "_view_name": "ErrorWidgetView",
       "description_width": "",
       "error": {},
       "msg": "Failed to load model class 'DescriptionStyleModel' from module '@jupyter-widgets/controls'"
      }
     },
     "6d873b8853ad4c0298455cf5f8c02fa0": {
      "model_module": "@jupyter-widgets/controls",
      "model_module_version": "2.0.0",
      "model_name": "SliderStyleModel",
      "state": {
       "_view_name": "ErrorWidgetView",
       "description_width": "",
       "error": {},
       "msg": "Failed to load model class 'SliderStyleModel' from module '@jupyter-widgets/controls'"
      }
     },
     "6daac2ad540a4a46849c9737461fcb7f": {
      "model_module": "@jupyter-widgets/controls",
      "model_module_version": "2.0.0",
      "model_name": "DescriptionStyleModel",
      "state": {
       "_view_name": "ErrorWidgetView",
       "description_width": "",
       "error": {},
       "msg": "Failed to load model class 'DescriptionStyleModel' from module '@jupyter-widgets/controls'"
      }
     },
     "6e15bbd346fc46deb4a364127d1c4b8a": {
      "model_module": "@jupyter-widgets/base",
      "model_module_version": "2.0.0",
      "model_name": "LayoutModel",
      "state": {
       "_view_name": "ErrorWidgetView",
       "error": {},
       "msg": "Failed to load model class 'LayoutModel' from module '@jupyter-widgets/base'",
       "width": "50%"
      }
     },
     "6e18d6e664154b22bd17e6f7c0ac42db": {
      "model_module": "@jupyter-widgets/controls",
      "model_module_version": "2.0.0",
      "model_name": "SliderStyleModel",
      "state": {
       "_view_name": "ErrorWidgetView",
       "description_width": "",
       "error": {},
       "msg": "Failed to load model class 'SliderStyleModel' from module '@jupyter-widgets/controls'"
      }
     },
     "6e438932f9ce452b9d4b0b9dbdfc14bd": {
      "model_module": "@jupyter-widgets/base",
      "model_module_version": "2.0.0",
      "model_name": "LayoutModel",
      "state": {
       "_view_name": "ErrorWidgetView",
       "error": {},
       "msg": "Failed to load model class 'LayoutModel' from module '@jupyter-widgets/base'"
      }
     },
     "6e4999d0edac44adbe7050e50a6fef91": {
      "model_module": "@jupyter-widgets/controls",
      "model_module_version": "2.0.0",
      "model_name": "FloatSliderModel",
      "state": {
       "_view_name": "ErrorWidgetView",
       "description": "vmax",
       "error": {},
       "layout": "IPY_MODEL_475b491ca80d4e7da63d4be9b4243fca",
       "min": -150,
       "msg": "Failed to load model class 'FloatSliderModel' from module '@jupyter-widgets/controls'",
       "step": 5,
       "style": "IPY_MODEL_8f29a886bf2f4881afb8bb0a741fc7d8",
       "value": -25
      }
     },
     "6e66c95ac0ea4654807029ef876bee5d": {
      "model_module": "@jupyter-widgets/controls",
      "model_module_version": "2.0.0",
      "model_name": "FloatSliderModel",
      "state": {
       "_view_name": "ErrorWidgetView",
       "description": "vmax",
       "error": {},
       "layout": "IPY_MODEL_eb450910305543a7a4a7aa1e7f9e77d6",
       "min": -150,
       "msg": "Failed to load model class 'FloatSliderModel' from module '@jupyter-widgets/controls'",
       "step": 5,
       "style": "IPY_MODEL_f6aa2d6a36714f2d83c8bc1dc5a03da9",
       "value": -25
      }
     },
     "6e67d189cd264cae9409773af4930685": {
      "model_module": "@jupyter-widgets/controls",
      "model_module_version": "2.0.0",
      "model_name": "IntTextModel",
      "state": {
       "_view_name": "ErrorWidgetView",
       "description": "mp_cores:",
       "error": {},
       "layout": "IPY_MODEL_53bed4744b214c26acb7de91133fcae4",
       "msg": "Failed to load model class 'IntTextModel' from module '@jupyter-widgets/controls'",
       "step": 1,
       "style": "IPY_MODEL_b2885bb6d1e940b3845b99309d170905",
       "value": 1
      }
     },
     "6e6b3ec376d549558868ef6fed95bf4c": {
      "model_module": "@jupyter-widgets/base",
      "model_module_version": "2.0.0",
      "model_name": "LayoutModel",
      "state": {
       "_view_name": "ErrorWidgetView",
       "error": {},
       "msg": "Failed to load model class 'LayoutModel' from module '@jupyter-widgets/base'"
      }
     },
     "6eec7a7206c6409991bcfdb2ddac16e3": {
      "model_module": "@jupyter-widgets/controls",
      "model_module_version": "2.0.0",
      "model_name": "ButtonStyleModel",
      "state": {
       "_view_name": "ErrorWidgetView",
       "error": {},
       "msg": "Failed to load model class 'ButtonStyleModel' from module '@jupyter-widgets/controls'"
      }
     },
     "6f4cbbfcfb794c87bbbbedf7f2b46a1e": {
      "model_module": "@jupyter-widgets/controls",
      "model_module_version": "2.0.0",
      "model_name": "IntProgressModel",
      "state": {
       "_view_name": "ErrorWidgetView",
       "description": "Idle",
       "error": {},
       "layout": "IPY_MODEL_0b4adbab75f049969280699fa0286326",
       "max": 10,
       "msg": "Failed to load model class 'IntProgressModel' from module '@jupyter-widgets/controls'",
       "style": "IPY_MODEL_8195fc241a1542dc9ff182fba8a35230"
      }
     },
     "6fa97ae323674e2fadb709e10f4f0b18": {
      "model_module": "@jupyter-widgets/controls",
      "model_module_version": "2.0.0",
      "model_name": "DescriptionStyleModel",
      "state": {
       "_view_name": "ErrorWidgetView",
       "description_width": "",
       "error": {},
       "msg": "Failed to load model class 'DescriptionStyleModel' from module '@jupyter-widgets/controls'"
      }
     },
     "6fc935c3769c43b69b65f6ea557bc6d3": {
      "model_module": "@jupyter-widgets/base",
      "model_module_version": "2.0.0",
      "model_name": "LayoutModel",
      "state": {
       "_view_name": "ErrorWidgetView",
       "error": {},
       "msg": "Failed to load model class 'LayoutModel' from module '@jupyter-widgets/base'"
      }
     },
     "6fd23738633f4e0c9e838b9406acd1dd": {
      "model_module": "@jupyter-widgets/base",
      "model_module_version": "2.0.0",
      "model_name": "LayoutModel",
      "state": {
       "_view_name": "ErrorWidgetView",
       "error": {},
       "msg": "Failed to load model class 'LayoutModel' from module '@jupyter-widgets/base'"
      }
     },
     "6fd34199d93b465cab43cbb706a99662": {
      "model_module": "@jupyter-widgets/controls",
      "model_module_version": "2.0.0",
      "model_name": "TextModel",
      "state": {
       "_view_name": "ErrorWidgetView",
       "description": "proc rate",
       "error": {},
       "layout": "IPY_MODEL_68a93c7e95ec49e4a6b3273c0231c3f4",
       "msg": "Failed to load model class 'TextModel' from module '@jupyter-widgets/controls'",
       "style": "IPY_MODEL_7175d7170f1649509706accaf13bbe1c",
       "value": "r1: 52.1 / r2: 10.0 / r3: [8.4] Hz"
      }
     },
     "702e4696f76045fc8ce61c580f0075d3": {
      "model_module": "@jupyter-widgets/base",
      "model_module_version": "2.0.0",
      "model_name": "LayoutModel",
      "state": {
       "_view_name": "ErrorWidgetView",
       "error": {},
       "msg": "Failed to load model class 'LayoutModel' from module '@jupyter-widgets/base'"
      }
     },
     "70a0d9be053543ec84aca36169f0ef6b": {
      "model_module": "@jupyter-widgets/base",
      "model_module_version": "2.0.0",
      "model_name": "LayoutModel",
      "state": {
       "_view_name": "ErrorWidgetView",
       "error": {},
       "msg": "Failed to load model class 'LayoutModel' from module '@jupyter-widgets/base'"
      }
     },
     "70c4ba0cd0914a7eae01c9126a555170": {
      "model_module": "@jupyter-widgets/controls",
      "model_module_version": "2.0.0",
      "model_name": "SliderStyleModel",
      "state": {
       "_view_name": "ErrorWidgetView",
       "description_width": "",
       "error": {},
       "msg": "Failed to load model class 'SliderStyleModel' from module '@jupyter-widgets/controls'"
      }
     },
     "7175d7170f1649509706accaf13bbe1c": {
      "model_module": "@jupyter-widgets/controls",
      "model_module_version": "2.0.0",
      "model_name": "DescriptionStyleModel",
      "state": {
       "_view_name": "ErrorWidgetView",
       "description_width": "",
       "error": {},
       "msg": "Failed to load model class 'DescriptionStyleModel' from module '@jupyter-widgets/controls'"
      }
     },
     "71962ae2943048c4b512080db90cd8f2": {
      "model_module": "@jupyter-widgets/controls",
      "model_module_version": "2.0.0",
      "model_name": "SliderStyleModel",
      "state": {
       "_view_name": "ErrorWidgetView",
       "description_width": "",
       "error": {},
       "msg": "Failed to load model class 'SliderStyleModel' from module '@jupyter-widgets/controls'"
      }
     },
     "71a4ab5f3b374b889f829161bdf735f7": {
      "model_module": "@jupyter-widgets/base",
      "model_module_version": "2.0.0",
      "model_name": "LayoutModel",
      "state": {
       "_view_name": "ErrorWidgetView",
       "error": {},
       "msg": "Failed to load model class 'LayoutModel' from module '@jupyter-widgets/base'",
       "width": "50%"
      }
     },
     "71b3122bb9f843e3bce27699df5f3099": {
      "model_module": "@jupyter-widgets/controls",
      "model_module_version": "2.0.0",
      "model_name": "DescriptionStyleModel",
      "state": {
       "_view_name": "ErrorWidgetView",
       "description_width": "",
       "error": {},
       "msg": "Failed to load model class 'DescriptionStyleModel' from module '@jupyter-widgets/controls'"
      }
     },
     "71e9749edf8844848ca9935c5d0ca9ff": {
      "model_module": "@jupyter-widgets/base",
      "model_module_version": "2.0.0",
      "model_name": "LayoutModel",
      "state": {
       "_view_name": "ErrorWidgetView",
       "error": {},
       "msg": "Failed to load model class 'LayoutModel' from module '@jupyter-widgets/base'"
      }
     },
     "71f2293b835f48b6a56ab4b8c13cd9a2": {
      "model_module": "@jupyter-widgets/controls",
      "model_module_version": "2.0.0",
      "model_name": "HBoxModel",
      "state": {
       "_view_name": "ErrorWidgetView",
       "children": [
        "IPY_MODEL_28bf61ab8f29481caadfca4c75815f63",
        "IPY_MODEL_fd3c03cc26c641e5ae513286b22aad4b",
        "IPY_MODEL_d4086b3ca1d64a72843ba1e814f0eead",
        "IPY_MODEL_fadac69b675c4554b9553c9dbb77a702"
       ],
       "error": {},
       "layout": "IPY_MODEL_70a0d9be053543ec84aca36169f0ef6b",
       "msg": "Failed to load model class 'HBoxModel' from module '@jupyter-widgets/controls'"
      }
     },
     "72054f59a5d8491aa8e1952dfab912af": {
      "model_module": "@jupyter-widgets/controls",
      "model_module_version": "2.0.0",
      "model_name": "DescriptionStyleModel",
      "state": {
       "_view_name": "ErrorWidgetView",
       "description_width": "",
       "error": {},
       "msg": "Failed to load model class 'DescriptionStyleModel' from module '@jupyter-widgets/controls'"
      }
     },
     "72483d9b711046abaf692ceec3338c6b": {
      "model_module": "@jupyter-widgets/controls",
      "model_module_version": "2.0.0",
      "model_name": "ButtonStyleModel",
      "state": {
       "_view_name": "ErrorWidgetView",
       "error": {},
       "msg": "Failed to load model class 'ButtonStyleModel' from module '@jupyter-widgets/controls'"
      }
     },
     "727b36a827ea4d2b94d0855686220cd3": {
      "model_module": "@jupyter-widgets/controls",
      "model_module_version": "2.0.0",
      "model_name": "TextModel",
      "state": {
       "_view_name": "ErrorWidgetView",
       "description": "proc time",
       "error": {},
       "layout": "IPY_MODEL_ec91705147f94bb0b577f301002f573f",
       "msg": "Failed to load model class 'TextModel' from module '@jupyter-widgets/controls'",
       "style": "IPY_MODEL_da020c2016ad460bb0c5d742abfde738",
       "value": "0.035 / 0.088 / [0.123] s"
      }
     },
     "728e6f4520cb43c5a05b965f84e132a9": {
      "model_module": "@jupyter-widgets/controls",
      "model_module_version": "2.0.0",
      "model_name": "DescriptionStyleModel",
      "state": {
       "_view_name": "ErrorWidgetView",
       "description_width": "",
       "error": {},
       "msg": "Failed to load model class 'DescriptionStyleModel' from module '@jupyter-widgets/controls'"
      }
     },
     "72ab34df37ab446dbdf961896301cd52": {
      "model_module": "@jupyter-widgets/controls",
      "model_module_version": "2.0.0",
      "model_name": "FloatSliderModel",
      "state": {
       "_view_name": "ErrorWidgetView",
       "description": "vmax",
       "error": {},
       "layout": "IPY_MODEL_914e65cb3ca14ea88dd59aab95b8f7e9",
       "min": -150,
       "msg": "Failed to load model class 'FloatSliderModel' from module '@jupyter-widgets/controls'",
       "step": 5,
       "style": "IPY_MODEL_cae8e073d1cf4060ba13bd59b07ccaf3",
       "value": -25
      }
     },
     "73221ad004334bbcbcc877c2c3c3ae88": {
      "model_module": "@jupyter-widgets/controls",
      "model_module_version": "2.0.0",
      "model_name": "TextModel",
      "state": {
       "_view_name": "ErrorWidgetView",
       "error": {},
       "layout": "IPY_MODEL_78351263baf8459197415a696ce542cf",
       "msg": "Failed to load model class 'TextModel' from module '@jupyter-widgets/controls'",
       "style": "IPY_MODEL_cf5a6de753404695bcbba260c792138b",
       "value": "17:37:53"
      }
     },
     "736b2281de674ce08b9290d95cf9244d": {
      "model_module": "@jupyter-widgets/base",
      "model_module_version": "2.0.0",
      "model_name": "LayoutModel",
      "state": {
       "_view_name": "ErrorWidgetView",
       "error": {},
       "msg": "Failed to load model class 'LayoutModel' from module '@jupyter-widgets/base'"
      }
     },
     "738d6f1ba4594eda9b8fbb214df17d2a": {
      "model_module": "@jupyter-widgets/controls",
      "model_module_version": "2.0.0",
      "model_name": "TextModel",
      "state": {
       "_view_name": "ErrorWidgetView",
       "error": {},
       "layout": "IPY_MODEL_64a8e7581a0b418296a216e6b047d399",
       "msg": "Failed to load model class 'TextModel' from module '@jupyter-widgets/controls'",
       "style": "IPY_MODEL_755eaf4a903f406d869addad2e1da43f",
       "value": "2023-03-18"
      }
     },
     "73c2f54128de4be79e8ba2a0dbb45d0d": {
      "model_module": "@jupyter-widgets/base",
      "model_module_version": "2.0.0",
      "model_name": "LayoutModel",
      "state": {
       "_view_name": "ErrorWidgetView",
       "error": {},
       "msg": "Failed to load model class 'LayoutModel' from module '@jupyter-widgets/base'"
      }
     },
     "73ede37818be4dd5a7fdbe70af438657": {
      "model_module": "@jupyter-widgets/controls",
      "model_module_version": "2.0.0",
      "model_name": "FloatSliderModel",
      "state": {
       "_view_name": "ErrorWidgetView",
       "description": "vmin",
       "error": {},
       "layout": "IPY_MODEL_c4f6ad14203f458aa9449ca3afeeec1b",
       "min": -150,
       "msg": "Failed to load model class 'FloatSliderModel' from module '@jupyter-widgets/controls'",
       "step": 5,
       "style": "IPY_MODEL_bb658b00694d4aacb6891ae0ad9d20ff",
       "value": -90
      }
     },
     "73ef3ecd6ad94a01943b5b03b2d6a57c": {
      "model_module": "@jupyter-widgets/controls",
      "model_module_version": "2.0.0",
      "model_name": "HBoxModel",
      "state": {
       "_view_name": "ErrorWidgetView",
       "children": [
        "IPY_MODEL_f63f65f68786413d96587cf778ed2867",
        "IPY_MODEL_1b29ea88655b435e8b3b07c28118eac1",
        "IPY_MODEL_3527e23c3100476f80d7545b82619a14",
        "IPY_MODEL_e4d05133a1364ebb9132286b492cd257",
        "IPY_MODEL_2cdff5f3440045d8a91e50ffe62e5120",
        "IPY_MODEL_6e67d189cd264cae9409773af4930685"
       ],
       "error": {},
       "layout": "IPY_MODEL_1e3bd6cdb0ee49bba8a65d36aec2b38c",
       "msg": "Failed to load model class 'HBoxModel' from module '@jupyter-widgets/controls'"
      }
     },
     "73f05b5156504d7f9ffced01d093e578": {
      "model_module": "@jupyter-widgets/controls",
      "model_module_version": "2.0.0",
      "model_name": "DescriptionStyleModel",
      "state": {
       "_view_name": "ErrorWidgetView",
       "description_width": "",
       "error": {},
       "msg": "Failed to load model class 'DescriptionStyleModel' from module '@jupyter-widgets/controls'"
      }
     },
     "7414b9e2616a4d50bd678131e7ee0088": {
      "model_module": "@jupyter-widgets/controls",
      "model_module_version": "2.0.0",
      "model_name": "VBoxModel",
      "state": {
       "_view_name": "ErrorWidgetView",
       "children": [
        "IPY_MODEL_60372c2ff389407a94d0999ea1c2c149",
        "IPY_MODEL_ed61570f3f744272b72f7e6dad4e5ee4",
        "IPY_MODEL_753a791f42794acd9e48a5aaa31bf7f7",
        "IPY_MODEL_4dc7eea95366459cad0c92fb9b812ced",
        "IPY_MODEL_e3f7d78b176a41b3bd5f0bc0a1b2d4ee",
        "IPY_MODEL_fc3fe42e0abf4cb5b17ff3d139c432ec"
       ],
       "error": {},
       "layout": "IPY_MODEL_582a16721d10432a8097583b5171dda6",
       "msg": "Failed to load model class 'VBoxModel' from module '@jupyter-widgets/controls'"
      }
     },
     "7426e3b1903a4af1817ee5e0715ca774": {
      "model_module": "@jupyter-widgets/base",
      "model_module_version": "2.0.0",
      "model_name": "LayoutModel",
      "state": {
       "_view_name": "ErrorWidgetView",
       "error": {},
       "msg": "Failed to load model class 'LayoutModel' from module '@jupyter-widgets/base'"
      }
     },
     "7426ee0064a94d64a68dee1fb6c42577": {
      "model_module": "@jupyter-widgets/controls",
      "model_module_version": "2.0.0",
      "model_name": "ButtonStyleModel",
      "state": {
       "_view_name": "ErrorWidgetView",
       "error": {},
       "msg": "Failed to load model class 'ButtonStyleModel' from module '@jupyter-widgets/controls'"
      }
     },
     "743102a6c31d4c7d8467f77006320698": {
      "model_module": "@jupyter-widgets/base",
      "model_module_version": "2.0.0",
      "model_name": "LayoutModel",
      "state": {
       "_view_name": "ErrorWidgetView",
       "error": {},
       "msg": "Failed to load model class 'LayoutModel' from module '@jupyter-widgets/base'"
      }
     },
     "75054bad09014a929d292f6dba990f4e": {
      "model_module": "@jupyter-widgets/controls",
      "model_module_version": "2.0.0",
      "model_name": "TextModel",
      "state": {
       "_view_name": "ErrorWidgetView",
       "error": {},
       "layout": "IPY_MODEL_237f61092a5d41138c21ebdd579420a4",
       "msg": "Failed to load model class 'TextModel' from module '@jupyter-widgets/controls'",
       "style": "IPY_MODEL_72054f59a5d8491aa8e1952dfab912af",
       "value": "2012-08-21"
      }
     },
     "752bcccba16145c997555da7b0b742d2": {
      "model_module": "@jupyter-widgets/controls",
      "model_module_version": "2.0.0",
      "model_name": "SliderStyleModel",
      "state": {
       "_view_name": "ErrorWidgetView",
       "description_width": "",
       "error": {},
       "msg": "Failed to load model class 'SliderStyleModel' from module '@jupyter-widgets/controls'"
      }
     },
     "753a791f42794acd9e48a5aaa31bf7f7": {
      "model_module": "@jupyter-widgets/controls",
      "model_module_version": "2.0.0",
      "model_name": "HBoxModel",
      "state": {
       "_view_name": "ErrorWidgetView",
       "children": [
        "IPY_MODEL_0a915e6d6acc4b18af31e4401e8c195a",
        "IPY_MODEL_5f950f7c9ba748e1b3fceeb7ba84cc01",
        "IPY_MODEL_b076b034457e43778327e9ffee3271bc",
        "IPY_MODEL_4263903b4b17450c9f109270d2ef4e09"
       ],
       "error": {},
       "layout": "IPY_MODEL_7d8fd15a8dc143fa98dc30768519d2f2",
       "msg": "Failed to load model class 'HBoxModel' from module '@jupyter-widgets/controls'"
      }
     },
     "755eaf4a903f406d869addad2e1da43f": {
      "model_module": "@jupyter-widgets/controls",
      "model_module_version": "2.0.0",
      "model_name": "DescriptionStyleModel",
      "state": {
       "_view_name": "ErrorWidgetView",
       "description_width": "",
       "error": {},
       "msg": "Failed to load model class 'DescriptionStyleModel' from module '@jupyter-widgets/controls'"
      }
     },
     "7569dac6ddda45eab1b03514093d8a3d": {
      "model_module": "@jupyter-widgets/controls",
      "model_module_version": "2.0.0",
      "model_name": "DropdownModel",
      "state": {
       "_options_labels": [
        "linear",
        "beamsample"
       ],
       "_view_name": "ErrorWidgetView",
       "description": "wci render",
       "error": {},
       "index": 0,
       "layout": "IPY_MODEL_6813e3a3fbba4898974266101d744c4c",
       "msg": "Failed to load model class 'DropdownModel' from module '@jupyter-widgets/controls'",
       "style": "IPY_MODEL_1869def48cd24d0ca5774786440a9e1e"
      }
     },
     "75a2e69dd84f4499969585bf62a0a3f6": {
      "model_module": "@jupyter-widgets/controls",
      "model_module_version": "2.0.0",
      "model_name": "HBoxModel",
      "state": {
       "children": [
        "IPY_MODEL_59dfbad6bb58439290911e5000e5dc5c",
        "IPY_MODEL_9c267cbb1d914a57be3a91e668d6cd8f",
        "IPY_MODEL_b4de0ce5aebd46c9beebaa995f1388c4",
        "IPY_MODEL_a57020ebede344b3afa2391c92342b8b"
       ],
       "layout": "IPY_MODEL_5f65ee9c703341a1aab6fd4f4a688ccf"
      }
     },
     "75a68127505843568dc327d2f6cdffcd": {
      "model_module": "@jupyter-widgets/controls",
      "model_module_version": "2.0.0",
      "model_name": "DescriptionStyleModel",
      "state": {
       "_view_name": "ErrorWidgetView",
       "description_width": "",
       "error": {},
       "msg": "Failed to load model class 'DescriptionStyleModel' from module '@jupyter-widgets/controls'"
      }
     },
     "75dc1ba49f7f424a973818fc4b368255": {
      "model_module": "@jupyter-widgets/base",
      "model_module_version": "2.0.0",
      "model_name": "LayoutModel",
      "state": {
       "_view_name": "ErrorWidgetView",
       "error": {},
       "msg": "Failed to load model class 'LayoutModel' from module '@jupyter-widgets/base'",
       "width": "15%"
      }
     },
     "7636b4b0136d41a3855a27cee8a19d3f": {
      "model_module": "@jupyter-widgets/controls",
      "model_module_version": "2.0.0",
      "model_name": "DescriptionStyleModel",
      "state": {
       "_view_name": "ErrorWidgetView",
       "description_width": "",
       "error": {},
       "msg": "Failed to load model class 'DescriptionStyleModel' from module '@jupyter-widgets/controls'"
      }
     },
     "7670ee630d8546c59b29eca31883cda1": {
      "model_module": "@jupyter-widgets/base",
      "model_module_version": "2.0.0",
      "model_name": "LayoutModel",
      "state": {
       "_view_name": "ErrorWidgetView",
       "error": {},
       "msg": "Failed to load model class 'LayoutModel' from module '@jupyter-widgets/base'"
      }
     },
     "76b3665c0e1743afb2bef582e810e66b": {
      "model_module": "@jupyter-widgets/base",
      "model_module_version": "2.0.0",
      "model_name": "LayoutModel",
      "state": {
       "_view_name": "ErrorWidgetView",
       "error": {},
       "msg": "Failed to load model class 'LayoutModel' from module '@jupyter-widgets/base'"
      }
     },
     "76f4bec9d8754e9a9f0dd1ea8abb882a": {
      "model_module": "@jupyter-widgets/base",
      "model_module_version": "2.0.0",
      "model_name": "LayoutModel",
      "state": {
       "_view_name": "ErrorWidgetView",
       "error": {},
       "msg": "Failed to load model class 'LayoutModel' from module '@jupyter-widgets/base'"
      }
     },
     "76fd022d427b4c93b27be731569a3f17": {
      "model_module": "@jupyter-widgets/controls",
      "model_module_version": "2.0.0",
      "model_name": "DescriptionStyleModel",
      "state": {
       "description_width": ""
      }
     },
     "770de9ee5eb2475eacd4c018fb96b6dc": {
      "model_module": "@jupyter-widgets/controls",
      "model_module_version": "2.0.0",
      "model_name": "DropdownModel",
      "state": {
       "_options_labels": [
        "sv/av/pv/rv",
        "sv/av/pv",
        "sv/av",
        "sp/ap/pp/rp",
        "sp/ap/pp",
        "sp/ap",
        "power/amp",
        "av",
        "ap",
        "amp",
        "sv",
        "sp",
        "pv",
        "pp",
        "rv",
        "rp",
        "power"
       ],
       "_view_name": "ErrorWidgetView",
       "description": "wci value",
       "error": {},
       "index": 0,
       "layout": "IPY_MODEL_d1c8d99921ba4e15af7465481dc37304",
       "msg": "Failed to load model class 'DropdownModel' from module '@jupyter-widgets/controls'",
       "style": "IPY_MODEL_3a9f7dfb098649409b8deac6d538b56f"
      }
     },
     "775909aa75a94c448eb65c0d1c10539a": {
      "model_module": "@jupyter-widgets/controls",
      "model_module_version": "2.0.0",
      "model_name": "DescriptionStyleModel",
      "state": {
       "_view_name": "ErrorWidgetView",
       "description_width": "",
       "error": {},
       "msg": "Failed to load model class 'DescriptionStyleModel' from module '@jupyter-widgets/controls'"
      }
     },
     "778b0a8bd987475d9cab893aa47b97f6": {
      "model_module": "@jupyter-widgets/base",
      "model_module_version": "2.0.0",
      "model_name": "LayoutModel",
      "state": {
       "_view_name": "ErrorWidgetView",
       "error": {},
       "msg": "Failed to load model class 'LayoutModel' from module '@jupyter-widgets/base'",
       "width": "15%"
      }
     },
     "77996a2ada80488c8f5a55ba31cf5f51": {
      "model_module": "@jupyter-widgets/controls",
      "model_module_version": "2.0.0",
      "model_name": "VBoxModel",
      "state": {
       "_view_name": "ErrorWidgetView",
       "children": [
        "IPY_MODEL_b39469ae82254d358e9898312e6d89ff",
        "IPY_MODEL_04d01683a8704b738bdca83363c4873a",
        "IPY_MODEL_b6b81af93f774daf88a1be9ee8c6a0bd",
        "IPY_MODEL_f41d0fdf2bd448a2b1e760619782d15e",
        "IPY_MODEL_db18dc4b000a44b0ba50c9703d3e7972",
        "IPY_MODEL_3a68368b52fa4e69bed6cbc5133040c6"
       ],
       "error": {},
       "layout": "IPY_MODEL_ec9cc6c4cdaf4afb9a1d3095256f1cb2",
       "msg": "Failed to load model class 'VBoxModel' from module '@jupyter-widgets/controls'"
      }
     },
     "77a1018042424a1e8f18e357dbc9abd3": {
      "model_module": "@jupyter-widgets/base",
      "model_module_version": "2.0.0",
      "model_name": "LayoutModel",
      "state": {
       "_view_name": "ErrorWidgetView",
       "error": {},
       "msg": "Failed to load model class 'LayoutModel' from module '@jupyter-widgets/base'"
      }
     },
     "77a418982d284fc7b29b1d159841f548": {
      "model_module": "@jupyter-widgets/controls",
      "model_module_version": "2.0.0",
      "model_name": "ButtonStyleModel",
      "state": {
       "_view_name": "ErrorWidgetView",
       "error": {},
       "msg": "Failed to load model class 'ButtonStyleModel' from module '@jupyter-widgets/controls'"
      }
     },
     "77b98c44d6bb467aba7890b82ebf059f": {
      "model_module": "@jupyter-widgets/controls",
      "model_module_version": "2.0.0",
      "model_name": "DropdownModel",
      "state": {
       "_options_labels": [
        "sv/av/pv/rv",
        "sv/av/pv",
        "sv/av",
        "sp/ap/pp/rp",
        "sp/ap/pp",
        "sp/ap",
        "power/amp",
        "av",
        "ap",
        "amp",
        "sv",
        "sp",
        "pv",
        "pp",
        "rv",
        "rp",
        "power"
       ],
       "_view_name": "ErrorWidgetView",
       "description": "wci value",
       "error": {},
       "index": 0,
       "layout": "IPY_MODEL_48fceb938bc14e18bde8f9bac22ff4d4",
       "msg": "Failed to load model class 'DropdownModel' from module '@jupyter-widgets/controls'",
       "style": "IPY_MODEL_6fa97ae323674e2fadb709e10f4f0b18"
      }
     },
     "7808626f4f0b4e52908894c4d25c4e3c": {
      "model_module": "@jupyter-widgets/base",
      "model_module_version": "2.0.0",
      "model_name": "LayoutModel",
      "state": {
       "_view_name": "ErrorWidgetView",
       "error": {},
       "msg": "Failed to load model class 'LayoutModel' from module '@jupyter-widgets/base'",
       "width": "15%"
      }
     },
     "78351263baf8459197415a696ce542cf": {
      "model_module": "@jupyter-widgets/base",
      "model_module_version": "2.0.0",
      "model_name": "LayoutModel",
      "state": {
       "_view_name": "ErrorWidgetView",
       "error": {},
       "msg": "Failed to load model class 'LayoutModel' from module '@jupyter-widgets/base'",
       "width": "10%"
      }
     },
     "786fbfbb472c42b5b23986bfb75a55e2": {
      "model_module": "@jupyter-widgets/controls",
      "model_module_version": "2.0.0",
      "model_name": "HBoxModel",
      "state": {
       "_view_name": "ErrorWidgetView",
       "children": [
        "IPY_MODEL_4f05be7a52c04df59cb662a94fc53b94",
        "IPY_MODEL_bf91aa38b04843ffb007e685c3bfd048",
        "IPY_MODEL_7569dac6ddda45eab1b03514093d8a3d",
        "IPY_MODEL_4f3f3089859e498ebb6ef31824725dfb"
       ],
       "error": {},
       "layout": "IPY_MODEL_ff7f5af1bd99477c8b39884000ec0b8d",
       "msg": "Failed to load model class 'HBoxModel' from module '@jupyter-widgets/controls'"
      }
     },
     "789ac0add7e84de486776f4c01a65c6e": {
      "model_module": "@jupyter-widgets/controls",
      "model_module_version": "2.0.0",
      "model_name": "SliderStyleModel",
      "state": {
       "_view_name": "ErrorWidgetView",
       "description_width": "",
       "error": {},
       "msg": "Failed to load model class 'SliderStyleModel' from module '@jupyter-widgets/controls'"
      }
     },
     "789eee8f4a9b485e90e6ed4ffbf9c7b8": {
      "model_module": "@jupyter-widgets/controls",
      "model_module_version": "2.0.0",
      "model_name": "TextModel",
      "state": {
       "_view_name": "ErrorWidgetView",
       "description": "proc time",
       "error": {},
       "layout": "IPY_MODEL_3b2d137bc0474a0ca134781073eed7a7",
       "msg": "Failed to load model class 'TextModel' from module '@jupyter-widgets/controls'",
       "style": "IPY_MODEL_86f872c3aae44a5b8efbaacfe2baa0e5",
       "value": "0.015 / 0.104 / [0.12] s"
      }
     },
     "78c2b187b9784e24b86db2e2901a97f6": {
      "model_module": "@jupyter-widgets/base",
      "model_module_version": "2.0.0",
      "model_name": "LayoutModel",
      "state": {
       "_view_name": "ErrorWidgetView",
       "error": {},
       "msg": "Failed to load model class 'LayoutModel' from module '@jupyter-widgets/base'"
      }
     },
     "78d5f20fd3ae4b5b833d410911b2e9c5": {
      "model_module": "@jupyter-widgets/base",
      "model_module_version": "2.0.0",
      "model_name": "LayoutModel",
      "state": {
       "_view_name": "ErrorWidgetView",
       "error": {},
       "msg": "Failed to load model class 'LayoutModel' from module '@jupyter-widgets/base'"
      }
     },
     "7925011877cc459c9f84ee41bc260e27": {
      "model_module": "@jupyter-widgets/base",
      "model_module_version": "2.0.0",
      "model_name": "LayoutModel",
      "state": {
       "_view_name": "ErrorWidgetView",
       "error": {},
       "msg": "Failed to load model class 'LayoutModel' from module '@jupyter-widgets/base'"
      }
     },
     "797f9353a07a4e37b3c0c8c21aeb10e4": {
      "model_module": "@jupyter-widgets/base",
      "model_module_version": "2.0.0",
      "model_name": "LayoutModel",
      "state": {
       "_view_name": "ErrorWidgetView",
       "error": {},
       "msg": "Failed to load model class 'LayoutModel' from module '@jupyter-widgets/base'"
      }
     },
     "799777d033e140c6bd5a8a9120fdb4f2": {
      "model_module": "@jupyter-widgets/base",
      "model_module_version": "2.0.0",
      "model_name": "LayoutModel",
      "state": {
       "_view_name": "ErrorWidgetView",
       "error": {},
       "msg": "Failed to load model class 'LayoutModel' from module '@jupyter-widgets/base'"
      }
     },
     "79977952e924436e81f5d492cf4b17c3": {
      "model_module": "@jupyter-widgets/base",
      "model_module_version": "2.0.0",
      "model_name": "LayoutModel",
      "state": {
       "_view_name": "ErrorWidgetView",
       "error": {},
       "msg": "Failed to load model class 'LayoutModel' from module '@jupyter-widgets/base'"
      }
     },
     "79cda895498040ffb0a910da27bdb254": {
      "model_module": "@jupyter-widgets/controls",
      "model_module_version": "2.0.0",
      "model_name": "HBoxModel",
      "state": {
       "_view_name": "ErrorWidgetView",
       "children": [
        "IPY_MODEL_cab2a51bbcc747dfa73d9fb1035e0dfb",
        "IPY_MODEL_510da8b7459d4a6fb6cf917fd572ee44",
        "IPY_MODEL_c7fe29af86634b168cac2ee156b520af",
        "IPY_MODEL_5d476a133cbb4ac1b54ae92bb5c80360",
        "IPY_MODEL_dce5cb371dd84f4688c9a706790e7cdf",
        "IPY_MODEL_11458adb8fad4c85b701ce3af0c40614"
       ],
       "error": {},
       "layout": "IPY_MODEL_a58536617b4b47fab95c2c919ad21fa5",
       "msg": "Failed to load model class 'HBoxModel' from module '@jupyter-widgets/controls'"
      }
     },
     "79e8eeb5f30447bca99d2046d7a2e6c9": {
      "model_module": "@jupyter-widgets/base",
      "model_module_version": "2.0.0",
      "model_name": "LayoutModel",
      "state": {
       "_view_name": "ErrorWidgetView",
       "error": {},
       "msg": "Failed to load model class 'LayoutModel' from module '@jupyter-widgets/base'"
      }
     },
     "79f5713e6dfd44319b8a21f451f4a154": {
      "model_module": "@jupyter-widgets/base",
      "model_module_version": "2.0.0",
      "model_name": "LayoutModel",
      "state": {
       "_view_name": "ErrorWidgetView",
       "error": {},
       "msg": "Failed to load model class 'LayoutModel' from module '@jupyter-widgets/base'"
      }
     },
     "7a285e6a3f7c4f7cb1829c67d55abb0b": {
      "model_module": "@jupyter-widgets/base",
      "model_module_version": "2.0.0",
      "model_name": "LayoutModel",
      "state": {
       "_view_name": "ErrorWidgetView",
       "error": {},
       "msg": "Failed to load model class 'LayoutModel' from module '@jupyter-widgets/base'"
      }
     },
     "7a2e4c877aea482c9fbdc1f94375f700": {
      "model_module": "@jupyter-widgets/controls",
      "model_module_version": "2.0.0",
      "model_name": "CheckboxModel",
      "state": {
       "_view_name": "ErrorWidgetView",
       "description": "stack_linear",
       "disabled": false,
       "error": {},
       "layout": "IPY_MODEL_9393decbcc0e4898b5755db6b426dfd1",
       "msg": "Failed to load model class 'CheckboxModel' from module '@jupyter-widgets/controls'",
       "style": "IPY_MODEL_bd5579869bff443184c967fe640dd036",
       "value": true
      }
     },
     "7ab986fcfb814fadb6dceab98b8edd1a": {
      "model_module": "@jupyter-widgets/controls",
      "model_module_version": "2.0.0",
      "model_name": "FloatSliderModel",
      "state": {
       "behavior": "drag-tap",
       "description": "vmin",
       "layout": "IPY_MODEL_fac9b6a672534ad8b623296c8b02b492",
       "min": -150,
       "step": 5,
       "style": "IPY_MODEL_f7cfafcdb1ae4afd8a9583516bc75674",
       "value": -90
      }
     },
     "7afd83dc2f114826bed825a2214bd513": {
      "model_module": "@jupyter-widgets/base",
      "model_module_version": "2.0.0",
      "model_name": "LayoutModel",
      "state": {
       "_view_name": "ErrorWidgetView",
       "error": {},
       "msg": "Failed to load model class 'LayoutModel' from module '@jupyter-widgets/base'"
      }
     },
     "7b3c2a816deb4b1eaa42a0a194f73547": {
      "model_module": "@jupyter-widgets/controls",
      "model_module_version": "2.0.0",
      "model_name": "SliderStyleModel",
      "state": {
       "_view_name": "ErrorWidgetView",
       "description_width": "",
       "error": {},
       "msg": "Failed to load model class 'SliderStyleModel' from module '@jupyter-widgets/controls'"
      }
     },
     "7b85488ac31f42478f62de9d470e0594": {
      "model_module": "@jupyter-widgets/base",
      "model_module_version": "2.0.0",
      "model_name": "LayoutModel",
      "state": {
       "_view_name": "ErrorWidgetView",
       "error": {},
       "msg": "Failed to load model class 'LayoutModel' from module '@jupyter-widgets/base'"
      }
     },
     "7bc0209eb0ec4716b1dd86410a6579bb": {
      "model_module": "@jupyter-widgets/base",
      "model_module_version": "2.0.0",
      "model_name": "LayoutModel",
      "state": {
       "_view_name": "ErrorWidgetView",
       "error": {},
       "msg": "Failed to load model class 'LayoutModel' from module '@jupyter-widgets/base'",
       "width": "15%"
      }
     },
     "7be06066168447f48fbcf8618cbdbbd8": {
      "model_module": "@jupyter-widgets/base",
      "model_module_version": "2.0.0",
      "model_name": "LayoutModel",
      "state": {
       "_view_name": "ErrorWidgetView",
       "error": {},
       "msg": "Failed to load model class 'LayoutModel' from module '@jupyter-widgets/base'"
      }
     },
     "7bf16245ecf9473a909fa3bb0e3d94f1": {
      "model_module": "@jupyter-widgets/controls",
      "model_module_version": "2.0.0",
      "model_name": "TextModel",
      "state": {
       "layout": "IPY_MODEL_6b86efef3d02454a888b75ea75f0a003",
       "style": "IPY_MODEL_304c9dadbcb24e60aaeec1826e3ca7c8",
       "value": "17:09:42"
      }
     },
     "7c526db8993a4bd7bf8de5c5ae91196e": {
      "model_module": "@jupyter-widgets/base",
      "model_module_version": "2.0.0",
      "model_name": "LayoutModel",
      "state": {
       "_view_name": "ErrorWidgetView",
       "error": {},
       "msg": "Failed to load model class 'LayoutModel' from module '@jupyter-widgets/base'"
      }
     },
     "7c57785b8a2f4560a64979389e3fec0c": {
      "model_module": "@jupyter-widgets/controls",
      "model_module_version": "2.0.0",
      "model_name": "DescriptionStyleModel",
      "state": {
       "_view_name": "ErrorWidgetView",
       "description_width": "",
       "error": {},
       "msg": "Failed to load model class 'DescriptionStyleModel' from module '@jupyter-widgets/controls'"
      }
     },
     "7c81cac36ad0446c8586aed79ee3f929": {
      "model_module": "@jupyter-widgets/base",
      "model_module_version": "2.0.0",
      "model_name": "LayoutModel",
      "state": {
       "_view_name": "ErrorWidgetView",
       "error": {},
       "msg": "Failed to load model class 'LayoutModel' from module '@jupyter-widgets/base'"
      }
     },
     "7c83ed14771248579deb13749d585cc9": {
      "model_module": "@jupyter-widgets/base",
      "model_module_version": "2.0.0",
      "model_name": "LayoutModel",
      "state": {
       "_view_name": "ErrorWidgetView",
       "error": {},
       "msg": "Failed to load model class 'LayoutModel' from module '@jupyter-widgets/base'"
      }
     },
     "7d108700158443f99e0f6c944dcef7cb": {
      "model_module": "@jupyter-widgets/controls",
      "model_module_version": "2.0.0",
      "model_name": "DescriptionStyleModel",
      "state": {
       "_view_name": "ErrorWidgetView",
       "description_width": "",
       "error": {},
       "msg": "Failed to load model class 'DescriptionStyleModel' from module '@jupyter-widgets/controls'"
      }
     },
     "7d14b8ef842140fc95e41a8a7d7fe540": {
      "model_module": "@jupyter-widgets/base",
      "model_module_version": "2.0.0",
      "model_name": "LayoutModel",
      "state": {
       "_view_name": "ErrorWidgetView",
       "error": {},
       "msg": "Failed to load model class 'LayoutModel' from module '@jupyter-widgets/base'"
      }
     },
     "7d26c5a7019c416e83f84fd99b228e9e": {
      "model_module": "@jupyter-widgets/controls",
      "model_module_version": "2.0.0",
      "model_name": "HBoxModel",
      "state": {
       "_view_name": "ErrorWidgetView",
       "children": [
        "IPY_MODEL_f96ea88e772441e7991d734d5f11d2a2",
        "IPY_MODEL_abe3023484644d10bb7607b3ff436ff1",
        "IPY_MODEL_edbe46bc612f49dcaf17894ef1c72ed5",
        "IPY_MODEL_2263b2ea6b4946d1806e62a1b1e08bbd"
       ],
       "error": {},
       "layout": "IPY_MODEL_4256530ff94b448b8b7823c8fd6e1967",
       "msg": "Failed to load model class 'HBoxModel' from module '@jupyter-widgets/controls'"
      }
     },
     "7d430814c1a94d4590fc4b1ff53a823b": {
      "model_module": "@jupyter-widgets/controls",
      "model_module_version": "2.0.0",
      "model_name": "IntTextModel",
      "state": {
       "_view_name": "ErrorWidgetView",
       "description": "stack step:",
       "error": {},
       "layout": "IPY_MODEL_23956d47c5874d54800411f09f49a49d",
       "msg": "Failed to load model class 'IntTextModel' from module '@jupyter-widgets/controls'",
       "step": 1,
       "style": "IPY_MODEL_f59499e7058e47b0aac5624600bbcb2e",
       "value": 1
      }
     },
     "7d6fefda51e34ac1beb21be2e759e280": {
      "model_module": "@jupyter-widgets/controls",
      "model_module_version": "2.0.0",
      "model_name": "ButtonModel",
      "state": {
       "_view_name": "ErrorWidgetView",
       "description": "unfix x/y",
       "error": {},
       "layout": "IPY_MODEL_437e02f770dc46b8b273349c3a510313",
       "msg": "Failed to load model class 'ButtonModel' from module '@jupyter-widgets/controls'",
       "style": "IPY_MODEL_b87f2cbda12440fc8d6476f08107975c"
      }
     },
     "7d8fd15a8dc143fa98dc30768519d2f2": {
      "model_module": "@jupyter-widgets/base",
      "model_module_version": "2.0.0",
      "model_name": "LayoutModel",
      "state": {
       "_view_name": "ErrorWidgetView",
       "error": {},
       "msg": "Failed to load model class 'LayoutModel' from module '@jupyter-widgets/base'"
      }
     },
     "7dd1c6f6ae734bd18543f92b8d6ce7da": {
      "model_module": "@jupyter-widgets/base",
      "model_module_version": "2.0.0",
      "model_name": "LayoutModel",
      "state": {
       "_view_name": "ErrorWidgetView",
       "error": {},
       "msg": "Failed to load model class 'LayoutModel' from module '@jupyter-widgets/base'"
      }
     },
     "7ddd6bdb43474f38bf742e14b2a7acf8": {
      "model_module": "@jupyter-widgets/controls",
      "model_module_version": "2.0.0",
      "model_name": "ButtonStyleModel",
      "state": {
       "_view_name": "ErrorWidgetView",
       "error": {},
       "msg": "Failed to load model class 'ButtonStyleModel' from module '@jupyter-widgets/controls'"
      }
     },
     "7dea7cda988f48d484607110ea21b89f": {
      "model_module": "@jupyter-widgets/base",
      "model_module_version": "2.0.0",
      "model_name": "LayoutModel",
      "state": {
       "_view_name": "ErrorWidgetView",
       "error": {},
       "msg": "Failed to load model class 'LayoutModel' from module '@jupyter-widgets/base'"
      }
     },
     "7e0abcd8d6f746b8adc371635aebe227": {
      "model_module": "@jupyter-widgets/controls",
      "model_module_version": "2.0.0",
      "model_name": "DescriptionStyleModel",
      "state": {
       "_view_name": "ErrorWidgetView",
       "description_width": "",
       "error": {},
       "msg": "Failed to load model class 'DescriptionStyleModel' from module '@jupyter-widgets/controls'"
      }
     },
     "7e14865fe99445ed80f1627944608d07": {
      "model_module": "@jupyter-widgets/base",
      "model_module_version": "2.0.0",
      "model_name": "LayoutModel",
      "state": {
       "_view_name": "ErrorWidgetView",
       "error": {},
       "msg": "Failed to load model class 'LayoutModel' from module '@jupyter-widgets/base'"
      }
     },
     "7e1cea1680e046f1b197c6dfcba6f855": {
      "model_module": "@jupyter-widgets/controls",
      "model_module_version": "2.0.0",
      "model_name": "DropdownModel",
      "state": {
       "_options_labels": [
        "auto",
        "equal"
       ],
       "_view_name": "ErrorWidgetView",
       "description": "aspect",
       "error": {},
       "index": 1,
       "layout": "IPY_MODEL_b3c82da439ad48aaac75a95baeef2581",
       "msg": "Failed to load model class 'DropdownModel' from module '@jupyter-widgets/controls'",
       "style": "IPY_MODEL_e7df2159020941c6bcf2ed2d8b3690f3"
      }
     },
     "7e20383b24b24fcaa4057692cd4a6512": {
      "model_module": "@jupyter-widgets/controls",
      "model_module_version": "2.0.0",
      "model_name": "DescriptionStyleModel",
      "state": {
       "_view_name": "ErrorWidgetView",
       "description_width": "",
       "error": {},
       "msg": "Failed to load model class 'DescriptionStyleModel' from module '@jupyter-widgets/controls'"
      }
     },
     "7e49d6b8dd0f44aaa830bbb259fc4681": {
      "model_module": "@jupyter-widgets/base",
      "model_module_version": "2.0.0",
      "model_name": "LayoutModel",
      "state": {
       "_view_name": "ErrorWidgetView",
       "error": {},
       "msg": "Failed to load model class 'LayoutModel' from module '@jupyter-widgets/base'",
       "width": "10%"
      }
     },
     "7e64ecd68a1f4717976261a13e08f3c9": {
      "model_module": "@jupyter-widgets/base",
      "model_module_version": "2.0.0",
      "model_name": "LayoutModel",
      "state": {
       "_view_name": "ErrorWidgetView",
       "error": {},
       "msg": "Failed to load model class 'LayoutModel' from module '@jupyter-widgets/base'"
      }
     },
     "7eb7cb550d18459cbe4ceab243d57a33": {
      "model_module": "@jupyter-widgets/controls",
      "model_module_version": "2.0.0",
      "model_name": "VBoxModel",
      "state": {
       "_view_name": "ErrorWidgetView",
       "children": [
        "IPY_MODEL_5528fb18837d4d3093f571a6baf3490f",
        "IPY_MODEL_6c16e1200db147f79ecbe6b9f681c6ee",
        "IPY_MODEL_075ebeafc49c411e9152dd78acc0a360",
        "IPY_MODEL_890d214861e64090ab976ddeba918a67",
        "IPY_MODEL_79cda895498040ffb0a910da27bdb254",
        "IPY_MODEL_5a5d8ba014fb41b5a976d9f93abb5ee5"
       ],
       "error": {},
       "layout": "IPY_MODEL_6a5f743925364b0fb38242e2c86ed149",
       "msg": "Failed to load model class 'VBoxModel' from module '@jupyter-widgets/controls'"
      }
     },
     "7ebab6960a9247fdb7f15f0816bafef2": {
      "model_module": "@jupyter-widgets/controls",
      "model_module_version": "2.0.0",
      "model_name": "ButtonStyleModel",
      "state": {
       "_view_name": "ErrorWidgetView",
       "error": {},
       "msg": "Failed to load model class 'ButtonStyleModel' from module '@jupyter-widgets/controls'"
      }
     },
     "7eccf7d47eb44a59976b31fbb0ddbd27": {
      "model_module": "@jupyter-widgets/controls",
      "model_module_version": "2.0.0",
      "model_name": "ButtonModel",
      "state": {
       "_view_name": "ErrorWidgetView",
       "button_style": "warning",
       "description": "fix x/y",
       "error": {},
       "layout": "IPY_MODEL_b3755e3955964b21a7dfff2eb280733a",
       "msg": "Failed to load model class 'ButtonModel' from module '@jupyter-widgets/controls'",
       "style": "IPY_MODEL_22b8cfc4497f4f93a8ae951d001a0752"
      }
     },
     "7ef3ce90b6634c6bb881346c27847636": {
      "model_module": "@jupyter-widgets/base",
      "model_module_version": "2.0.0",
      "model_name": "LayoutModel",
      "state": {
       "_view_name": "ErrorWidgetView",
       "error": {},
       "msg": "Failed to load model class 'LayoutModel' from module '@jupyter-widgets/base'"
      }
     },
     "7f1e04271ef64d1981820feb080ff0e4": {
      "model_module": "@jupyter-widgets/base",
      "model_module_version": "2.0.0",
      "model_name": "LayoutModel",
      "state": {
       "_view_name": "ErrorWidgetView",
       "error": {},
       "msg": "Failed to load model class 'LayoutModel' from module '@jupyter-widgets/base'",
       "width": "15%"
      }
     },
     "7f6dd2dc5bf24aada4709e4fac910fa4": {
      "model_module": "@jupyter-widgets/base",
      "model_module_version": "2.0.0",
      "model_name": "LayoutModel",
      "state": {
       "_view_name": "ErrorWidgetView",
       "error": {},
       "msg": "Failed to load model class 'LayoutModel' from module '@jupyter-widgets/base'"
      }
     },
     "7f906434213f4100a141a1f1c5b71c91": {
      "model_module": "@jupyter-widgets/controls",
      "model_module_version": "2.0.0",
      "model_name": "DescriptionStyleModel",
      "state": {
       "_view_name": "ErrorWidgetView",
       "description_width": "",
       "error": {},
       "msg": "Failed to load model class 'DescriptionStyleModel' from module '@jupyter-widgets/controls'"
      }
     },
     "7f97567c9edb4402b7f191c23e9df9b9": {
      "model_module": "@jupyter-widgets/controls",
      "model_module_version": "2.0.0",
      "model_name": "SliderStyleModel",
      "state": {
       "_view_name": "ErrorWidgetView",
       "description_width": "",
       "error": {},
       "msg": "Failed to load model class 'SliderStyleModel' from module '@jupyter-widgets/controls'"
      }
     },
     "7f9964913a4e4dc680545fa2a531a2f0": {
      "model_module": "@jupyter-widgets/controls",
      "model_module_version": "2.0.0",
      "model_name": "IntTextModel",
      "state": {
       "_view_name": "ErrorWidgetView",
       "description": "mp_cores:",
       "error": {},
       "layout": "IPY_MODEL_fc911da0c64c4ff5a242dbb520c22aa9",
       "msg": "Failed to load model class 'IntTextModel' from module '@jupyter-widgets/controls'",
       "step": 1,
       "style": "IPY_MODEL_bd3f633966104455ba73d8f51b62fcdf",
       "value": 1
      }
     },
     "7fc0116fb8ed45819696c0cdddc52c12": {
      "model_module": "@jupyter-widgets/base",
      "model_module_version": "2.0.0",
      "model_name": "LayoutModel",
      "state": {
       "_view_name": "ErrorWidgetView",
       "error": {},
       "msg": "Failed to load model class 'LayoutModel' from module '@jupyter-widgets/base'"
      }
     },
     "7fc032bec48c422b9160ca54db4507b1": {
      "model_module": "@jupyter-widgets/controls",
      "model_module_version": "2.0.0",
      "model_name": "DescriptionStyleModel",
      "state": {
       "_view_name": "ErrorWidgetView",
       "description_width": "",
       "error": {},
       "msg": "Failed to load model class 'DescriptionStyleModel' from module '@jupyter-widgets/controls'"
      }
     },
     "7fcbe4ac958b4f50a7efcad8168d7475": {
      "model_module": "@jupyter-widgets/base",
      "model_module_version": "2.0.0",
      "model_name": "LayoutModel",
      "state": {
       "_view_name": "ErrorWidgetView",
       "error": {},
       "msg": "Failed to load model class 'LayoutModel' from module '@jupyter-widgets/base'"
      }
     },
     "807f684eff2a4712819508269f35a38c": {
      "model_module": "@jupyter-widgets/controls",
      "model_module_version": "2.0.0",
      "model_name": "DescriptionStyleModel",
      "state": {
       "_view_name": "ErrorWidgetView",
       "description_width": "",
       "error": {},
       "msg": "Failed to load model class 'DescriptionStyleModel' from module '@jupyter-widgets/controls'"
      }
     },
     "8084a35413604c1f9854ba2a234506a4": {
      "model_module": "@jupyter-widgets/base",
      "model_module_version": "2.0.0",
      "model_name": "LayoutModel",
      "state": {
       "_view_name": "ErrorWidgetView",
       "error": {},
       "msg": "Failed to load model class 'LayoutModel' from module '@jupyter-widgets/base'"
      }
     },
     "80ddb7f5214d4b058e33764a3b67f214": {
      "model_module": "@jupyter-widgets/base",
      "model_module_version": "2.0.0",
      "model_name": "LayoutModel",
      "state": {}
     },
     "8195fc241a1542dc9ff182fba8a35230": {
      "model_module": "@jupyter-widgets/controls",
      "model_module_version": "2.0.0",
      "model_name": "ProgressStyleModel",
      "state": {
       "_view_name": "ErrorWidgetView",
       "description_width": "",
       "error": {},
       "msg": "Failed to load model class 'ProgressStyleModel' from module '@jupyter-widgets/controls'"
      }
     },
     "81efeaa72c504dda8fd19a132326f98c": {
      "model_module": "@jupyter-widgets/base",
      "model_module_version": "2.0.0",
      "model_name": "LayoutModel",
      "state": {
       "_view_name": "ErrorWidgetView",
       "error": {},
       "msg": "Failed to load model class 'LayoutModel' from module '@jupyter-widgets/base'"
      }
     },
     "8231fc77c44e4daa915d5a81361aaea9": {
      "model_module": "@jupyter-widgets/controls",
      "model_module_version": "2.0.0",
      "model_name": "TextModel",
      "state": {
       "_view_name": "ErrorWidgetView",
       "description": "proc rate",
       "error": {},
       "layout": "IPY_MODEL_9f1cc714db2b4b3f9bdb3b62991e4db0",
       "msg": "Failed to load model class 'TextModel' from module '@jupyter-widgets/controls'",
       "style": "IPY_MODEL_29b8de2416fe42c89d9f0c0d7100aca4",
       "value": "r1: 54.3 / r2: 9.9 / r3: [8.4] Hz"
      }
     },
     "823cd5a8d3ac40bba39a67867ee9ace1": {
      "model_module": "@jupyter-widgets/controls",
      "model_module_version": "2.0.0",
      "model_name": "DropdownModel",
      "state": {
       "_options_labels": [
        "linear",
        "beamsample"
       ],
       "description": "wci render",
       "index": 0,
       "layout": "IPY_MODEL_850b73ffb048472b8cbe629d56c4fbec",
       "style": "IPY_MODEL_9dcbf7150dcb4ebf85d323659e54f0e1"
      }
     },
     "824e8e7bfd984b88b8f31efc4d0db76c": {
      "model_module": "@jupyter-widgets/base",
      "model_module_version": "2.0.0",
      "model_name": "LayoutModel",
      "state": {
       "_view_name": "ErrorWidgetView",
       "error": {},
       "msg": "Failed to load model class 'LayoutModel' from module '@jupyter-widgets/base'"
      }
     },
     "8325e867d3d34e54b009a25805351401": {
      "model_module": "@jupyter-widgets/controls",
      "model_module_version": "2.0.0",
      "model_name": "TextModel",
      "state": {
       "_view_name": "ErrorWidgetView",
       "description": "proc rate",
       "error": {},
       "layout": "IPY_MODEL_46896a6602c547e58f283bf068ec8e54",
       "msg": "Failed to load model class 'TextModel' from module '@jupyter-widgets/controls'",
       "style": "IPY_MODEL_1f04483641e346e8ab5814613493bf84",
       "value": "r1: 37.3 / r2: 8.5 / r3: [6.9] Hz"
      }
     },
     "8340fc970dc844a1b93bcf0e1061369c": {
      "model_module": "@jupyter-widgets/base",
      "model_module_version": "2.0.0",
      "model_name": "LayoutModel",
      "state": {}
     },
     "83615e3b497242e8ae5a1ced1354683a": {
      "model_module": "@jupyter-widgets/controls",
      "model_module_version": "2.0.0",
      "model_name": "TextModel",
      "state": {
       "_view_name": "ErrorWidgetView",
       "description": "proc time",
       "error": {},
       "layout": "IPY_MODEL_1016c932cecb49bf8c12e546be2710e3",
       "msg": "Failed to load model class 'TextModel' from module '@jupyter-widgets/controls'",
       "style": "IPY_MODEL_cfd57c387f4f4070bbeec60c53fe0afb",
       "value": "0.018 / 0.099 / [0.117] s"
      }
     },
     "839c48f878f84d87bd78a5eef0350ace": {
      "model_module": "@jupyter-widgets/controls",
      "model_module_version": "2.0.0",
      "model_name": "TextModel",
      "state": {
       "_view_name": "ErrorWidgetView",
       "error": {},
       "layout": "IPY_MODEL_8af17d610bad4d06b4a7cc114f91b5ab",
       "msg": "Failed to load model class 'TextModel' from module '@jupyter-widgets/controls'",
       "style": "IPY_MODEL_75a68127505843568dc327d2f6cdffcd",
       "value": "17:37:53"
      }
     },
     "83bb4f6690cb4fc5a5cbb485525a5feb": {
      "model_module": "@jupyter-widgets/base",
      "model_module_version": "2.0.0",
      "model_name": "LayoutModel",
      "state": {
       "_view_name": "ErrorWidgetView",
       "error": {},
       "msg": "Failed to load model class 'LayoutModel' from module '@jupyter-widgets/base'"
      }
     },
     "84187dbd0f8e4bd183f07dde44a3b4fb": {
      "model_module": "@jupyter-widgets/controls",
      "model_module_version": "2.0.0",
      "model_name": "DescriptionStyleModel",
      "state": {
       "_view_name": "ErrorWidgetView",
       "description_width": "",
       "error": {},
       "msg": "Failed to load model class 'DescriptionStyleModel' from module '@jupyter-widgets/controls'"
      }
     },
     "8459add5a1054531a43fbc38ca0677b3": {
      "model_module": "@jupyter-widgets/base",
      "model_module_version": "2.0.0",
      "model_name": "LayoutModel",
      "state": {
       "_view_name": "ErrorWidgetView",
       "error": {},
       "msg": "Failed to load model class 'LayoutModel' from module '@jupyter-widgets/base'"
      }
     },
     "846ff3cad7244a5898c0a1f25ea4a16f": {
      "model_module": "@jupyter-widgets/base",
      "model_module_version": "2.0.0",
      "model_name": "LayoutModel",
      "state": {
       "_view_name": "ErrorWidgetView",
       "error": {},
       "msg": "Failed to load model class 'LayoutModel' from module '@jupyter-widgets/base'"
      }
     },
     "849259261eb244cdb242bceb1b45a23e": {
      "model_module": "@jupyter-widgets/controls",
      "model_module_version": "2.0.0",
      "model_name": "IntSliderModel",
      "state": {
       "_view_name": "ErrorWidgetView",
       "description": "ping nr",
       "error": {},
       "layout": "IPY_MODEL_5c726372fc3a487fae4c490e1aaf1dc5",
       "max": 73,
       "msg": "Failed to load model class 'IntSliderModel' from module '@jupyter-widgets/controls'",
       "style": "IPY_MODEL_7f97567c9edb4402b7f191c23e9df9b9",
       "value": 65
      }
     },
     "84f5c70a1b7c457db7c1a607c38cc12c": {
      "model_module": "@jupyter-widgets/controls",
      "model_module_version": "2.0.0",
      "model_name": "IntSliderModel",
      "state": {
       "_view_name": "ErrorWidgetView",
       "description": "ping nr",
       "error": {},
       "layout": "IPY_MODEL_c1ac2f35ea1644fea38922fac22cb976",
       "max": 66,
       "msg": "Failed to load model class 'IntSliderModel' from module '@jupyter-widgets/controls'",
       "style": "IPY_MODEL_4ecb2baac5b941d6be7a3a8d104f567c"
      }
     },
     "850b73ffb048472b8cbe629d56c4fbec": {
      "model_module": "@jupyter-widgets/base",
      "model_module_version": "2.0.0",
      "model_name": "LayoutModel",
      "state": {}
     },
     "850c85545e2948d59049ca4c8ea73b55": {
      "model_module": "@jupyter-widgets/base",
      "model_module_version": "2.0.0",
      "model_name": "LayoutModel",
      "state": {
       "_view_name": "ErrorWidgetView",
       "error": {},
       "msg": "Failed to load model class 'LayoutModel' from module '@jupyter-widgets/base'"
      }
     },
     "855e6dc48649494c9631ff11cfa9c713": {
      "model_module": "@jupyter-widgets/controls",
      "model_module_version": "2.0.0",
      "model_name": "IntSliderModel",
      "state": {
       "_view_name": "ErrorWidgetView",
       "description": "horizontal pixels",
       "error": {},
       "layout": "IPY_MODEL_016eeed732a442f8952b15af8aa075e6",
       "max": 2048,
       "min": 2,
       "msg": "Failed to load model class 'IntSliderModel' from module '@jupyter-widgets/controls'",
       "style": "IPY_MODEL_8a9d5ff488f043649325ad6bfa90e972",
       "value": 1024
      }
     },
     "85747833283b49e39ea64204877c2ce7": {
      "model_module": "@jupyter-widgets/controls",
      "model_module_version": "2.0.0",
      "model_name": "ButtonModel",
      "state": {
       "_view_name": "ErrorWidgetView",
       "button_style": "warning",
       "description": "fix x/y",
       "error": {},
       "layout": "IPY_MODEL_09237eec65554794a716d0eb7ea50be1",
       "msg": "Failed to load model class 'ButtonModel' from module '@jupyter-widgets/controls'",
       "style": "IPY_MODEL_015cea124b6c4478a3fd59b33fb7a883"
      }
     },
     "85d601f362b1466b9aaa99f6d024f8d9": {
      "model_module": "@jupyter-widgets/controls",
      "model_module_version": "2.0.0",
      "model_name": "ButtonModel",
      "state": {
       "_view_name": "ErrorWidgetView",
       "description": "unfix x/y",
       "error": {},
       "layout": "IPY_MODEL_568e163146cf41f690d8fc1b48378e58",
       "msg": "Failed to load model class 'ButtonModel' from module '@jupyter-widgets/controls'",
       "style": "IPY_MODEL_073027eb1cd9454bbcbeb4af72ef5d32"
      }
     },
     "868a09bc6d284c01ba0a7bfdcf67f105": {
      "model_module": "@jupyter-widgets/controls",
      "model_module_version": "2.0.0",
      "model_name": "ButtonModel",
      "state": {
       "_view_name": "ErrorWidgetView",
       "description": "unfix x/y",
       "error": {},
       "layout": "IPY_MODEL_94f50eff45d14fca9bde95ae0926e0b5",
       "msg": "Failed to load model class 'ButtonModel' from module '@jupyter-widgets/controls'",
       "style": "IPY_MODEL_2b2ca2028e8e4f95a2165a2dc1818edc"
      }
     },
     "86bab2b88169417084a2a538b2bd3dff": {
      "model_module": "@jupyter-widgets/controls",
      "model_module_version": "2.0.0",
      "model_name": "IntSliderModel",
      "state": {
       "_view_name": "ErrorWidgetView",
       "description": "ping nr",
       "error": {},
       "layout": "IPY_MODEL_b1b66d0d69e848b3ab09b28b6a2b4158",
       "max": 73,
       "msg": "Failed to load model class 'IntSliderModel' from module '@jupyter-widgets/controls'",
       "style": "IPY_MODEL_5e7c85cd0abc44969c30d6fedf0b2c54",
       "value": 60
      }
     },
     "86c460b7b42040c48be1b667ac662b25": {
      "model_module": "@jupyter-widgets/base",
      "model_module_version": "2.0.0",
      "model_name": "LayoutModel",
      "state": {
       "_view_name": "ErrorWidgetView",
       "error": {},
       "msg": "Failed to load model class 'LayoutModel' from module '@jupyter-widgets/base'",
       "width": "15%"
      }
     },
     "86f872c3aae44a5b8efbaacfe2baa0e5": {
      "model_module": "@jupyter-widgets/controls",
      "model_module_version": "2.0.0",
      "model_name": "DescriptionStyleModel",
      "state": {
       "_view_name": "ErrorWidgetView",
       "description_width": "",
       "error": {},
       "msg": "Failed to load model class 'DescriptionStyleModel' from module '@jupyter-widgets/controls'"
      }
     },
     "873a43bfc6a3487190005806547d3cfa": {
      "model_module": "@jupyter-widgets/controls",
      "model_module_version": "2.0.0",
      "model_name": "DropdownModel",
      "state": {
       "_options_labels": [
        "antialiased",
        "none",
        "nearest",
        "bilinear",
        "bicubic",
        "spline16",
        "spline36",
        "hanning",
        "hamming",
        "hermite",
        "kaiser",
        "quadric",
        "catrom",
        "gaussian",
        "bessel",
        "mitchell",
        "sinc",
        "lanczos",
        "blackman"
       ],
       "description": "interpolation",
       "index": 2,
       "layout": "IPY_MODEL_f28ccbfd6cb64b128872b142d4c0b2ab",
       "style": "IPY_MODEL_2fa9d6ee42c3424c98ec656182570fd8"
      }
     },
     "874d3292b8764e70bcdd4ac02d86eeff": {
      "model_module": "@jupyter-widgets/controls",
      "model_module_version": "2.0.0",
      "model_name": "DescriptionStyleModel",
      "state": {
       "_view_name": "ErrorWidgetView",
       "description_width": "",
       "error": {},
       "msg": "Failed to load model class 'DescriptionStyleModel' from module '@jupyter-widgets/controls'"
      }
     },
     "87781240070d46fe8f2706af56b0e849": {
      "model_module": "@jupyter-widgets/controls",
      "model_module_version": "2.0.0",
      "model_name": "SliderStyleModel",
      "state": {
       "_view_name": "ErrorWidgetView",
       "description_width": "",
       "error": {},
       "msg": "Failed to load model class 'SliderStyleModel' from module '@jupyter-widgets/controls'"
      }
     },
     "87dc9db0c64b4ff1aff8e76f917994fb": {
      "model_module": "@jupyter-widgets/controls",
      "model_module_version": "2.0.0",
      "model_name": "DropdownModel",
      "state": {
       "_options_labels": [
        "linear",
        "beamsample"
       ],
       "_view_name": "ErrorWidgetView",
       "description": "wci render",
       "error": {},
       "index": 0,
       "layout": "IPY_MODEL_cae871b81bde49e3a68b30f83b44e842",
       "msg": "Failed to load model class 'DropdownModel' from module '@jupyter-widgets/controls'",
       "style": "IPY_MODEL_4f7a9865c48848d5ae462973414df2c6"
      }
     },
     "87eaddc1b3c8409b863a55af960cb20e": {
      "model_module": "@jupyter-widgets/base",
      "model_module_version": "2.0.0",
      "model_name": "LayoutModel",
      "state": {
       "_view_name": "ErrorWidgetView",
       "error": {},
       "msg": "Failed to load model class 'LayoutModel' from module '@jupyter-widgets/base'"
      }
     },
     "87f0811998a44419a498818136cdd448": {
      "model_module": "@jupyter-widgets/controls",
      "model_module_version": "2.0.0",
      "model_name": "DescriptionStyleModel",
      "state": {
       "_view_name": "ErrorWidgetView",
       "description_width": "",
       "error": {},
       "msg": "Failed to load model class 'DescriptionStyleModel' from module '@jupyter-widgets/controls'"
      }
     },
     "87fd176df55c407bbfd215e00d0fe92b": {
      "model_module": "@jupyter-widgets/base",
      "model_module_version": "2.0.0",
      "model_name": "LayoutModel",
      "state": {
       "_view_name": "ErrorWidgetView",
       "error": {},
       "msg": "Failed to load model class 'LayoutModel' from module '@jupyter-widgets/base'"
      }
     },
     "88010b7726134c25b050202c47dc492a": {
      "model_module": "@jupyter-widgets/base",
      "model_module_version": "2.0.0",
      "model_name": "LayoutModel",
      "state": {
       "_view_name": "ErrorWidgetView",
       "error": {},
       "msg": "Failed to load model class 'LayoutModel' from module '@jupyter-widgets/base'"
      }
     },
     "883f8615c4a94a22b9c7eddb72738ae2": {
      "model_module": "@jupyter-widgets/controls",
      "model_module_version": "2.0.0",
      "model_name": "SliderStyleModel",
      "state": {
       "_view_name": "ErrorWidgetView",
       "description_width": "",
       "error": {},
       "msg": "Failed to load model class 'SliderStyleModel' from module '@jupyter-widgets/controls'"
      }
     },
     "8886d6df14ea435087eb2ed175cf4b16": {
      "model_module": "@jupyter-widgets/base",
      "model_module_version": "2.0.0",
      "model_name": "LayoutModel",
      "state": {
       "_view_name": "ErrorWidgetView",
       "error": {},
       "msg": "Failed to load model class 'LayoutModel' from module '@jupyter-widgets/base'"
      }
     },
     "88975cb222a440099cc4c40c5b549801": {
      "model_module": "@jupyter-widgets/controls",
      "model_module_version": "2.0.0",
      "model_name": "DescriptionStyleModel",
      "state": {
       "_view_name": "ErrorWidgetView",
       "description_width": "",
       "error": {},
       "msg": "Failed to load model class 'DescriptionStyleModel' from module '@jupyter-widgets/controls'"
      }
     },
     "88a20ba6b48f407fbc45ec678aab17d5": {
      "model_module": "@jupyter-widgets/controls",
      "model_module_version": "2.0.0",
      "model_name": "SliderStyleModel",
      "state": {
       "_view_name": "ErrorWidgetView",
       "description_width": "",
       "error": {},
       "msg": "Failed to load model class 'SliderStyleModel' from module '@jupyter-widgets/controls'"
      }
     },
     "88a35c54f39641d68176b02c652e1a8a": {
      "model_module": "@jupyter-widgets/controls",
      "model_module_version": "2.0.0",
      "model_name": "VBoxModel",
      "state": {
       "_view_name": "ErrorWidgetView",
       "children": [
        "IPY_MODEL_60372c2ff389407a94d0999ea1c2c149",
        "IPY_MODEL_193659d05d88449383c0e604dfaa6ac3",
        "IPY_MODEL_71f2293b835f48b6a56ab4b8c13cd9a2",
        "IPY_MODEL_5b672b82b131480a9dc9c8707be8cf85",
        "IPY_MODEL_b2359d104bf8499da21c0fa67eac0ea6",
        "IPY_MODEL_ff6def014ac24e968c82186e8d2213bf"
       ],
       "error": {},
       "layout": "IPY_MODEL_a86e89d2086d4b329f49e2cf685a35f2",
       "msg": "Failed to load model class 'VBoxModel' from module '@jupyter-widgets/controls'"
      }
     },
     "88d6c6fa1cc94150b9e945a036a47a08": {
      "model_module": "@jupyter-widgets/controls",
      "model_module_version": "2.0.0",
      "model_name": "DescriptionStyleModel",
      "state": {
       "_view_name": "ErrorWidgetView",
       "description_width": "",
       "error": {},
       "msg": "Failed to load model class 'DescriptionStyleModel' from module '@jupyter-widgets/controls'"
      }
     },
     "890d214861e64090ab976ddeba918a67": {
      "model_module": "@jupyter-widgets/controls",
      "model_module_version": "2.0.0",
      "model_name": "HBoxModel",
      "state": {
       "_view_name": "ErrorWidgetView",
       "children": [
        "IPY_MODEL_73ede37818be4dd5a7fdbe70af438657",
        "IPY_MODEL_e5060cd79afa4712ab276fc44e8da246",
        "IPY_MODEL_09f20a55a7844e71b4350aa1b89dc469",
        "IPY_MODEL_67171eef6b934f8191535c8752633cff"
       ],
       "error": {},
       "layout": "IPY_MODEL_632a90120def4ac19f33bbb6da43bce9",
       "msg": "Failed to load model class 'HBoxModel' from module '@jupyter-widgets/controls'"
      }
     },
     "895c114731874a20b2a2c3a059ded6f3": {
      "model_module": "@jupyter-widgets/controls",
      "model_module_version": "2.0.0",
      "model_name": "FloatSliderModel",
      "state": {
       "_view_name": "ErrorWidgetView",
       "description": "vmin",
       "error": {},
       "layout": "IPY_MODEL_f7e8238db8464f2e826116260697a161",
       "min": -150,
       "msg": "Failed to load model class 'FloatSliderModel' from module '@jupyter-widgets/controls'",
       "step": 5,
       "style": "IPY_MODEL_9ca5f3885c6047008a726fc6c1586568",
       "value": -90
      }
     },
     "8980eb154c47464e937e066b0178fe26": {
      "model_module": "@jupyter-widgets/base",
      "model_module_version": "2.0.0",
      "model_name": "LayoutModel",
      "state": {}
     },
     "8996b204f3b948a6913b4578476c77e4": {
      "model_module": "@jupyter-widgets/controls",
      "model_module_version": "2.0.0",
      "model_name": "IntSliderModel",
      "state": {
       "_view_name": "ErrorWidgetView",
       "description": "horizontal pixels",
       "error": {},
       "layout": "IPY_MODEL_617de1877f894a00a2e4ea0dfdf702bf",
       "max": 2048,
       "min": 2,
       "msg": "Failed to load model class 'IntSliderModel' from module '@jupyter-widgets/controls'",
       "style": "IPY_MODEL_a2da4ff6ac4f403f90ef1b198216cfa0",
       "value": 1024
      }
     },
     "89a3265104de4e86ab4537721b0a02c5": {
      "model_module": "@jupyter-widgets/base",
      "model_module_version": "2.0.0",
      "model_name": "LayoutModel",
      "state": {
       "_view_name": "ErrorWidgetView",
       "error": {},
       "msg": "Failed to load model class 'LayoutModel' from module '@jupyter-widgets/base'"
      }
     },
     "89cab5cd5e264b66a5203b4ae9091b0d": {
      "model_module": "@jupyter-widgets/controls",
      "model_module_version": "2.0.0",
      "model_name": "TextModel",
      "state": {
       "_view_name": "ErrorWidgetView",
       "description": "proc time",
       "error": {},
       "layout": "IPY_MODEL_e6288fd4b6414f4f8668ab5f11535323",
       "msg": "Failed to load model class 'TextModel' from module '@jupyter-widgets/controls'",
       "style": "IPY_MODEL_161469c3654c41458ce4ff708ba3b3be",
       "value": "0.011 / 0.109 / [0.12] s"
      }
     },
     "89ec5f3984814b5cb6952d789d3cb112": {
      "model_module": "@jupyter-widgets/controls",
      "model_module_version": "2.0.0",
      "model_name": "TextModel",
      "state": {
       "_view_name": "ErrorWidgetView",
       "description": "proc time",
       "error": {},
       "layout": "IPY_MODEL_aa466a933a874b6280650b7b23aee2ff",
       "msg": "Failed to load model class 'TextModel' from module '@jupyter-widgets/controls'",
       "style": "IPY_MODEL_dbaa7f22053342c5aa2027490c183511",
       "value": "0.037 / 0.085 / [0.123] s"
      }
     },
     "8a1229692f20442dbf991ab8775ebf9b": {
      "model_module": "@jupyter-widgets/controls",
      "model_module_version": "2.0.0",
      "model_name": "ProgressStyleModel",
      "state": {
       "_view_name": "ErrorWidgetView",
       "description_width": "",
       "error": {},
       "msg": "Failed to load model class 'ProgressStyleModel' from module '@jupyter-widgets/controls'"
      }
     },
     "8a9d5ff488f043649325ad6bfa90e972": {
      "model_module": "@jupyter-widgets/controls",
      "model_module_version": "2.0.0",
      "model_name": "SliderStyleModel",
      "state": {
       "_view_name": "ErrorWidgetView",
       "description_width": "",
       "error": {},
       "msg": "Failed to load model class 'SliderStyleModel' from module '@jupyter-widgets/controls'"
      }
     },
     "8ab50c8f1806438bacbd70b89315b7ba": {
      "model_module": "jupyter-matplotlib",
      "model_module_version": "^0.11",
      "model_name": "MPLCanvasModel",
      "state": {
       "_cursor": "default",
       "_data_url": "data:image/png;base64,iVBORw0KGgoAAAANSUhEUgAABEIAAAG0CAYAAAA2MYLaAAAgAElEQVR4Xuy9CXwc1ZX2fXrRYtlaLMm2LHm3vAF2wMYGDISYzQ4YCCEhBMgAmUmGCSHvDJN8M288EPJ+kwzJjL/kxT9gJuCENTGBQFiTGJIANhiw2cFgbMubbMmWZEuyrbW76zvndt9WdalaXS1VS7089zcZW91Vt+7931vC9dQ5z/EY3AgNBEAABEAABEAABEAABEAABEAABEAABHKAgAdCSA6sMqYIAiAAAiAAAiAAAiAAAiAAAiAAAiCgCEAIwUYAARAAARAAARAAARAAARAAARAAARDIGQIQQnJmqTFREAABEAABEAABEAABEAABEAABEAABCCHYAyAAAiAAAiAAAiAAAiAAAiAAAiAAAjlDAEJIziw1JgoCIAACIAACIAACIAACIAACIAACIAAhBHsABEAABEAABEAABEAABEAABEAABEAgZwhACMmZpcZEQQAEQAAEQAAEQAAEQAAEQAAEQAAEIIRgD4AACIAACIAACIAACIAACIAACIAACOQMAQghObPUmCgIgAAIgAAIgAAIgAAIgAAIgAAIgACEEOwBEAABEAABEAABEAABEAABEAABEACBnCEAISRnlhoTBQEQAAEQAAEQAAEQAAEQAAEQAAEQgBCCPQACIAACIAACIAACIAACIAACIAACIJAzBCCE5MxSY6IgAAIgAAIgAAIgAAIgAAIgAAIgAAIQQrAHQAAEQAAEQAAEQAAEQAAEQAAEQAAEcoYAhJCcWWpMFARAAARAAARAAARAAARAAASGh0BbWxsdO3bMlYuNGTOGSktLXekLnYCAEIAQgn0AAiAAAiAAAiAAAiAAAiAAAiDgGgERQWbMmEaHD7e60md5eTnV1dVBDHGFJjqBEII9AAIgAAIgAAIgAAIgAAIgAAIg4CqB/fv306RJk2jz5sdp4sTxQ+q7oeEQLV78Jaqvr6eampoh9YWTQUATQEQI9gIIgAAIgAAIgAAIgAAIgAAIgIBrBLQQsq/+ZRYvJgyp3/37D9LkSedACBkSRZxsJQAhBHsCBEAABEAABEAABEAABEAABEDANQJ9QshfXRJClkEIcW110JEQgBCCfQACIAACIAACIAACIAACIAACIOAaAQghrqFERykiACEkRWDRLQiAAAiAAAiAAAiAAAiAAAjkIgEthOzd9xdXIkKmTD4XESG5uJFSOGcIISmEi65BAARAAARAAARAAARAAARAINcI9Akhf3ZJCDkPQkiubaIUzxdCSIoBo3sQAAEQAAEQAAEQAAEQAAEQyCUCEEJyabUzc64QQjJz3TBqEAABEAABEAABEAABEAABEEhLAloI2bPvRVciQqZOPh8RIWm50pk7KAghmbt2GDkIgAAIgAAIgAAIgAAIgAAIpB2BPiFkvUtCyIUQQtJulTN7QBBCMnv9MHoQAAEQAAEQAAEQAAEQAAEQSCsCEELSajkwGBsCEEKwLUAABEAABEAABEAABEAABEAABFwjoIWQ3Xv/5EpEyLQpyxER4trqoCMhACEE+wAEQAAEQAAEQAAEQAAEQAAEQMA1AloI2aWEkPFD6nf//kM0HULIkBji5P4EIIRgV4AACIAACIAACIAACIAACIAACLhGAEKIayjRUYoIQAhJEVh0CwIgAAIgAAIgAAIgAAIgAAK5SKBPCPmjSxEhK5Aak4sbKYVzhhCSQrjoGgRAAARAAARAAARAAARAAARyjYAWQur2Pu+KEDJjykUQQnJtE6V4vhBCUgwY3YMACIAACIAACIAACIAACIBALhGAEJJLq52Zc4UQkpnrhlGDAAiAAAiAAAiAAAiAAAiAQFoS6BNCnnMpIuRiRISk5Upn7qAghGTu2mHkIAACIAACIAACIAACIAACIJB2BLQQsnPPs64IITOnroQQknarnNkDghCS2euH0YMACIAACIAACIAACIAACIBAWhGAEJJWy4HB2BCAEIJtAQIgAAIgAAIgAAIgAAIgAAIg4BqBPiHkGZciQi5BRIhrq4OOhACEEOwDEAABEAABEAABEAABEAABEAAB1whACHENJTpKEQEIISkCi25BAARAAARAAARAAARAAARAIBcJaCFkx56nXIkIqZ16GSJCcnEjpXDOEEJSCBddgwAIgAAIgAAIgAAIgAAIgECuEYgVQsYNafr79zcRhJAhIcTJNgQghGBbgAAIgAAIgAAIgAAIgAAIgAAIuEYAQohrKNFRighACEkRWHQLAiAAAiAAAiAAAiAAAiAAArlIQAsh23f/nlNjhh4RMmvaF1KeGnPjjTfSSy+9pK6Tl5dH8+fPp3/7t3+jCy+8MGYJ29ra6JZbbqEnn3ySent7afny5bRmzRqaOHFiLi51xs4ZQkjGLh0GDgIgAAIgAAIgAAIgAAIgAALpR6BPCHmSqocohBzg1JhZ0y5PuRBy/fXX0+LFi2n27NnU09NDa9eupaeffppefvllOvPMM6OQV6xYQR999BGtXr2aCgsLadWqVeTz+WjLli3k9/vTbzEwIlsCEEKwMUAABEAABEAABEAABEAABEAABFwjkIlCiHXywWCQpk+fTitXrqS7775bfb1p0yZaunQprV+/ni644AL12bZt22jevHm0bt06uvLKK11jiI5SSwBCSGr5oncQAAEQAAEQAAEQAAEQAAEQyCkCfULI71yKCLki5REhdgu0YMECOu200+jee+9VX99222101113UXNzM3k8nugpCxcuJDn2/vvvz6l1zuTJQgjJ5NXD2EEABEAABEAABEAABEAABEAgzQhoIeTT3Y+7IoTMnvYl2rx5c4wPR3FxMZWUlLg6c8MwSCJBxAfkwQcfpO9///sqNWbJkiXqOhLxceDAAdq4cWPMda+55hrauXMnvf76666OB52ljgCEkNSxRc8gAAIgAAIgAAIgAAIgAAIgkHMEUiGEWCH+4Ac/oNtvv91VtpLe8tWvflX1OXr0aPr1r39Nl156afQakg5TUFBAzz77bMx1v/3tb6t0mU8//dTV8aCz1BGAEJI6tugZBEAABEAABEAABEAABEAABHKOQJ8Q8phLESFfTjoiRKI6GhoaErKvra2NmpweOXJERXa0tLTQE088oaJCnnrqqWjlGBFCxCD1mWeeien3pptuohdffFH5haBlBgEIIZmxThglCIAACIAACIAACIAACIAACGQEAS2EbNv1W1eEkDnTr0zaI0T8Om644YaEvPbt20eTJk2yPe6LX/wibd++nT744AP1PVJjEuLMmAMghGTMUmGgIAACIAACIAACIAACIAACIJD+BNJBCHGD0r//+7+T/K+rq0t1J2apUkFGzFLNbdGiRTR//nyYpboBfZj6gBAyTKBxGRAAARAAARAAARAAARAAARDIBQJ9Qsg6lyJCrko6IsQNzhdddBHt2rWLPv74Y9WdLp8raTDnnXee+kx8QebOnYvyuW4AH8Y+IIQMI2xcCgRAAARAAARAAARAAARAAASynYAWQj7ZJUJI5ZCme2B/M82dnlohZMOGDbR69Wq6/PLLaerUqdTa2kq/+c1v6Le//S09/PDDJFVhdFuxYgVt3bpVHS9+IatWrSKv10tvvfUW+Xy+Ic0VJw8fAQghw8caVwIBEAABEAABEAABEAABEACBrCeQaULI7t276bvf/S698cYbdOjQIaqoqFCpLv/6r/9Ky5Yti1kvMWG95ZZblJlqIBBQRqpr1qyh6urqrF/XbJoghJBsWk3MBQRAAARAAARAAARAAARAAARGmIAWQj7e9RtXIkLmTf/qiKTGjDBGXD6FBCCEpBAuugYBEAABEAABEAABEAABEACBXCMAISTXVjzz5gshJPPWDCMGARAAARAAARAAARAAARAAgbQl0CeE/NqliJCrERGStqudmQODEJKZ64ZRgwAIgAAIgAAIgAAIgAAIgEBaEtBCyNa6h10RQk6YcS2EkLRc6cwdFISQzF07jBwEQAAEQAAEQAAEQAAEQAAE0o4AhJC0WxIMyEIAQgi2BAiAAAiAAAiAAAiAAAiAAAiAgGsE+oSQh1yKCPkaIkJcWx10JAQghGAfgAAIgAAIgAAIgAAIgAAIgAAIuEZACyEf1T3oihBy4oy/gRDi2uqgIwgh2AMgAAIgAAIgAAIgAAIgAAIgAAKuEoAQ4ipOdJYCAogISQFUdAkCIAACIAACIAACIAACIAACuUqgTwh5wKWIkOsQEZKrmylF84YQkiKw6BYEQAAEQAAEQAAEQAAEQAAEcpGAFkI+3Hk/CyEVQ0JwYH8LnTTzegghQ6KIk60EIIRgT4AACIAACIAACIAACIAACIAACLhGAEKIayjRUYoIQAhJEVh0CwIgAAIgAAIgAAIgAAIgAAK5SEALIR/s/JUrESHzZ96AiJBc3EgpnDOEkBTCRdcgAAIgAAIgAAIgAAIgAAIgkGsE+oSQX7okhHwdQkiubaIUzxdCSIoBo3sQAAEQAAEQAAEQAAEQAAEQyCUCEEJyabUzc64QQjJz3TBqEAABEAABEAABEAABEAABEEhLAlEhZMcvaeIQzVIb2Cx1fi0iQtJyoTN4UBBCMnjxMHQQAAEQAAEQAAEQAAEQAAEQSDcCWgh5zyUh5DMQQtJtiTN+PBBCMn4JMQEQAAEQAAEQAAEQAAEQAAEQSB8CEELSZy0wEnsCEEKwM0AABEAABEAABEAABEAABEAABFwjoIWQd12KCDkZESGurQ06ChOAEIKdAAIgAAIgAAIgAAIgAAIgAAIg4BoBLYS8s90dj5BTZsEjxLXFQUcQQrAHQAAEQAAEQAAEQAAEQAAEQAAE3CUAIcRdnujNfQKICHGfKXoEARAAARAAARAAARAAARAAgZwloIWQt12KCFmIiJCc3UupmjiEkFSRRb8gAAIgAAIgAAIgAAIgAAIgkIMEIITk4KJn2JQhhGTYgmG4IAACIAACIAACIAACIAACIJDOBLQQ8tb2X9HE6oohDbXhQAstmnUD1dfXU01NzZD6wskgoAlACMFeAAEQAAEQAAEQAAEQAAEQAAEQcI2AFkK2uCSEnAohxLW1QUdhAhBCsBNAAARAAARAAARAAARAAARAAARcIwAhxDWU6ChFBCCEpAgsugUBEAABEAABEAABEAABEACBXCSghZA3P3UnNWbJbKTG5OI+SuWcIYSkki76BgEQAAEQAAEQAAEQAAEQAIEcI2AWQqqG6BHSyB4hEEJybAMNw3QhhAwDZFwCBEAABEAABEAABEAABEAABHKFAISQXFnpzJ0nhJDMXTuMHARAAARAAARAAARAAARAAATSjoAWQt7Y9ityIyLktDlIjUm7Rc7wAUEIyfAFxPBBAARAAARAAARAAARAAARAIJ0IaCHkdZeEkNMhhKTT8mbFWCCEZMUyYhIgAAIgAAIgAAIgAAIgAAIgkB4EIISkxzpgFPEJQAjB7gABEAABEAABEAABEAABEAABEHCNgBZCNn3iTmrMGXORGuPa4qAjRQBCCDYCCIAACIAACIAACIAACIAACICAawS0EPKqS0LImRBCXFsbdBQmACEEOwEEQAAEQAAEQAAEQAAEQAAEQMA1AhBCXEOJjlJEAEJIisCiWxAAARAAARAAARAAARAAARDIRQJaCNn4sTupMWfNQ2pMLu6jVM4ZQkgq6aJvEAABEAABEAABEAABEAABEMgxAloI2eCSEHI2hJAc20Gpny6EkNQzxhVAAARAAARAAARAAARAAARAIGcIQAjJmaXO2IlCCMnYpcPAQQAEQAAEQAAEQAAEQAAEQCD9CGgh5JWt91NVdcWQBth4oIU+e8L1VF9fTzU1NUPqCyeDgCYAIQR7AQRAAARAAARAAARAAARAAARAwDUCEEJcQ4mOUkQAQkiKwKJbEAABEAABEAABEAABEAABEMhFAmYhZMIQI0IOIiIkF7dQyucMISTliHEBEAABEAABEAABEAABEAABEMgdAloIeemj+8kNIeRzJyI1Jnd2z/DMFELI8HDGVUAABEAABEAABEAABEAABEAgJwhACMmJZc7oSUIIyejlw+BBAARAAARAAARAAARAAARAIL0IaCHkry5FhCxDREh6LXAWjAZCSBYsIqYAAiAAAiAAAiAAAiAAAiAAAulCQAshf3FJCDkXQki6LG3WjANCSNYsJSYCAiAAAiAAAiAAAiAAAiAAAiNPAELIyK8BRjAwAQgh2CEgAAIgAAIgAAIgAAIgAAIgAAKuEdBCyJ8/dMcs9byTYJbq2uKgI0UAQgg2AgiAAAiAAAiAAAiAAAiAAAiAgGsEtBDyoktCyPkQQlxbG3QUJgAhBDsBBEAABEAABEAABEAABEAABEDANQIQQlxDiY5SRABCSIrAolsQAAEQAAEQAAEQAAEQAAEQyEUCWghZ/4E7qTEXzh/e1Jgnn3ySvvjFL9JnPvMZevfdd2OWsK2tjW655RaSY3p7e2n58uW0Zs0amjhxYi4udcbOGUJIxi4dBg4CIAACIAACIAACIAACIAAC6UdACyF/ckkIWT6MQkhnZyedcMIJJH9WVVX1E0JWrFhBH330Ea1evZoKCwtp1apV5PP5aMuWLeT3+9NvMTAiWwIQQrAxQAAEQAAEQAAEQAAEQAAEQAAEXCOQyULIbbfdRi+//DJNnz5diSDmiJBNmzbR0qVLaf369XTBBRcoXtu2baN58+bRunXr6Morr3SNITpKLQEIIanli95BAARAAARAAARAAARAAARAIKcImIWQ8RMrhjT3Qw0tNFwRITt37qQFCxbQa6+9Rj/72c/6CSEiktx1113U3NxMHo8nOq+FCxeq8+6///4hzRUnDx8BCCHDxxpXAgEQAAEQAAEQAAEQAAEQAIGsJ6CFkD9yaowbQsiKYUqNWblyJU2ePJnuueceuv766/sJIRLxceDAAdq4cWPMGl5zzTUkIsrrr7+e9WubLROEEJItK4l5gAAIgAAIgAAIgAAIgAAIgEAaEEiFELJ58+YYQ9Li4mIqKSlxbbbPPPMMXXfddfTpp59SZWWlrRAi6TAFBQX07LPPxlz329/+tkqXkXPRMoMAhJDMWCeMEgRAAARAAARAAARAAARAAAQygoAWQv7wvkSEVA5pzIcamunzC67v18cPfvADuv322+P2LdVdGhoaEl67traWAoEAnXjiifSP//iPdPPNN6tz7CJCRAgRg1QRTcztpptuohdffFH5haBlBgEIIZmxThglCIAACIAACIAACIAACIAACGQEAS2EPOeSEHIxCyHJRoSIX8cNN9yQkNe+ffvo4YcfprVr15KYoerKL9/61rfogw8+oA0bNlBRURHl5+crM1SkxiREmhEHQAjJiGXCIEEABEAABEAABEAABEAABEAgMwikQgipr6+nmpqalACQ6I8HHnggbt/33nsv/d3f/R2JWerdd9+tzFLNbdGiRTR//nyYpaZkdVLTKYSQ1HBFryAAAiAAAiAAAiAAAiAAAiCQkwS0EPLse+6kxqz8zPWUSiHkk08+ocbGxpi1uuOOO2jHjh1033330Zw5c5Q/iS6fK2kw5513njpefEHmzp2L8rkZttMhhGTYgmG4IAACIAACIAACIAACIAACIJDOBDJNCLFjaecRIsetWLGCtm7dSqtXr1Z+IatWrSKv10tvvfUW+Xy+dF4WjM1EAEIItgMIgAAIgAAIgAAIgAAIgAAIgIBrBLQQ8oxLESGXpDgiJBkhRExYb7nlFnriiSeUyeqFF15Ia9asoerqatf4oaPUE4AQknrGuAIIgAAIgAAIgAAIgAAIgAAI5AwBLYQ8/a47qTGXnpza1JicWRhMNEoAQgg2AwiAAAiAAAiAAAiAAAiAAAiAgGsEIIS4hhIdpYgAhJAUgUW3IAACIAACIAACIAACIAACIJCLBLQQ8hRHhIybWDkkBE0NzXQZIkKGxBAn9ycAIQS7AgRAAARAAARAAARAAARAAARAwDUCWgh58h13hJDLT0FqjGuLg44UAQgh2AggAAIgAAIgAAIgAAIgAAIgAAKuEYAQ4hpKdJQiAlkthPT09ND7779P48ePRymjFG0gdAsCIAACIAACIAACIAACIDB0AsFgkA4dOkQLFiyg/Pz8oXc4gj1oIeR3b7sTEXLFQkSEjOByZuWls1oI2bJlCy1evDgrFw6TAgEQAAEQAAEQAAEQAAEQyD4CmzdvplNPPTWjJ6aFkMfeesAVj5AvL7qO6uvrqaamJqO5YPDpQyCrhZC9e/fS1KlTSX6ZTJw4MX2oYyQgAAIgAAIZTeDMhzZRXr6HikZ5aElNL92+6KyMng8GDwIgAAIgMPIEGhoa1EvcPXv20JQpU0Z+QEMYAYSQIcDDqcNCIKuFEH0DQj0clr2Ei4AACIBAVhOYcufLtHQ+UWl+iP78gZd6e8PT/dKSAN04t4N8HqLywjzqCfbQ+FGXZjULTA4EQAAEQMB9Atn07KLnsm6LOxEhV52KiBD3d1xu9wghJLfXH7MHARAAARBwQGDavz1Pnomj6Zz5Bm1t9NGRIyGqmeSjhgMh+sxMojPHd9FFk7uprcdDY/IMGltg0ASIIQ7I4hAQAAEQAAFNIBuFkN9sfoAqh1g+t5nL5351MYQQ3CnuEoAQ4i5P9AYCIAACIJAlBLYeeYbu+WQ0PfOWj4zWbqKgQVUnFNHB947SZRcX0v4OP1UUBmn/cT99cWoHLR7XSyUcLfJ+Sx69diiPOgJe+qA1n/7yeaTNZMmWwDRAAARAIKUEIITY44UQktJtl7OdQwjJ2aXHxEEABEAABOIReGTHH6mEIzu+819dFJxVTr7dbWTMKKXiYg+NG++lfC/R0U6i4lFEc0p66PX6PKooJbp53lHa0pxHm5pYKDloUNFoL82rDNAvP/s5wAYBEAABEACBAQlkoxDyiEsRIdcgIgR3j8sEIIS4DBTdgQAIgAAIZCaBGX/3GAWnl1HFjEJaNqOHFoztpbWfjKG9r7aSpytAZadV0NixHqr782E6eUUZHTjsoc9UB+iFZ46TUVJARqGfikp91P3REaJAiILTysjb0kHeI138s0GhsgL+uZOM0gLa9bPLMhMSRg0CIAACIJAyAtkohDz05oOupMZ8bcnfoGpMynZebnYMISQ31x2zBgEQAAEQiBCY+TfryPCw0ylHecz4Sg0d7yC6vLaDPjySTxu3esj4oIWIRQ7f7FIqKvLQ0XdbafHKMppZ3EO/ebKbLr90FD3xhx4qqy1SESA+H9H+lw8TsXgSqhpNNLaQfO8dCl8tGFJ/eDjNRtrOB6/COoAACIAACICAIgAhxH4jSGoMhBDcJG4TgBDiNlH0BwIgAAIgkBEEZl7zGzJG+cnTE1TjNbjsS6hiFI1fMpYOHw7Rwtke2vx4M/F/KMNCiZSF8fIx5ZwP4/eSt7mD8uaVUfc+Vk74c28rR35wK11SQSfUhOi159rJ295NIY4WUVEhIRY/uC9iLUT1WcDX7uTSM/zRzke+mhHMMEgQAAEQAIHUEchGIeR+iQipqhwStObGZroeESFDYoiT+xOAEIJdAQIgAAIgkFMEZl716/B8RdiQJn+wkBGsKSbqDapoDUlzyZ8+hno/OBwWSvj7AKfNeHpD5G08RsHaseSra+3jxiLH2KWV1FLXRcaYPO4nRBXVedT28kFlshoVQeSMiBAS/ox/VqKIj+p+9ZWcWgdMFgRAAARAIJYAhBD7HQEhBHdKKghACEkFVfQJAiAAAiCQVgRmfulhlfoikRxKmIikwqg/TWKIivyQJsf65P9FGn9evbKKDjzfqESRvIXjqOed5r6vJdJDmogb6k/+n/mzSCSIfGVEvEK0CKIO5ygTbxNHlrAgIlEp3n1Haefj16YVQwwGBEAABEAgtQSyUQj51RsPUsUQI0JaOCLkhtPgEZLa3Zd7vUMIyb01x4xBAARAIGcIzLziIaI8HxUsn0Tdf9gbnndU/Aj7gkR/jkSIxIghSjDRYknk+ET0BhBBJCUmGgkioogIM4U+8kh5XhFExheR9+DxGCFl5+++luiK+B4EQAAEQCALCGSjELL2dXeEkL89HUJIFmzxtJoChJC0Wg4MBgRAAARAwA0CtV94kIyIyGGwWamkwXjEp0PEB/5ZUl+MPK9Kg1HCgwgekRQZdYyOGNHCiRZDzEKKDhgJ+5+GmzUKRKJKxCDVnA6jjoscy58HJ40hH0eA6HMDJ40j//tN0Z8NFkfq7rnCDSzoAwRAAARAII0JQAixXxyJCIEQksYbN0OHBiEkQxcOwwYBEAABEIglUHvZA30fsJChhBBpkQgQg9NPPG1hMST6uSkVRqWnRAxPdRSIjg4JLa4i71ucFmPqz5Z/VAgxXUZHgchHkcwZbZoaFU7M50lkCpffVS3yeaia/Uu4+fa1qz93PHUdlh8EQAAEQCDLCGSjEHLvJnciQr5xBiJCsmy7j/h0IISM+BJgACAAAiAAAkMhULvy/nD6SiSDRYsVUSFEixdm/w/9menP3pPHK2PUMVNGUefGg33VZPR5cqzJNiTumCMahkqD0U0bo8rP2i/E/L3JQyQwXyJCuNxu5HuPBJRMHE3eA8fCvXG3yqz108O049nrh4IO54IACIAACKQRgWwUQv77tYdc8Qi5cenXqL6+nmpqatJoxTCUTCYAISSTVw9jBwEQAIEcJqAEkEgLTS4m734WCuKJIWZfEDmHBY1JfzON6h/aE+6Bv1dig06TUZ9FOo+kxUS9Qxwwj4og2jzVHAki55t9REzRIEZFIVWcO4EOP7qLjOIC8hztJiWElBeSt6UzfGXpK9KvUZJPno4A7fj93zgYFQ4BARAAARBIZwIQQuxXR1JjIISk887NzLFBCMnMdcOoQQAEQCBnCdRe9Ks+kSImWsNUASYibijdwJwiYzq+97OTybertS/SwuoLYhZD5O9mnxDp19RXTPSHEjpM0SC6RC6btnq6uRSvGlTke0sqTe8ZNZT3NqfgdPaqw0QEMfK9XJI3P8CsgqQAACAASURBVCyE6G6lf0mhkQo4kT52PHdDzu4JTBwEQAAEsoFANgoh97z6EJUPsWrMYRZC/uFMRIRkwx5PpzlACEmn1cBYQAAEQAAEbAnUrvhl+PMY09LIodGUF1M4iP6r9gex+IVEK8WYU11sokbCaoRNv/HWyaR/RMUOOVYbqloFEP2dOU2GS+hKlEe0Rc8xXTQaaWJQcGop+Xa39X0plWg4xWfHH7+O3QQCIAACIJBBBLJRCLlroztCyE1nQQjJoK2cEUOFEJIRy4RBggAIgEBuEqhdvjY8cQdih61IYjpXV5GJkoznGRJzPRN3syAy0HLEeINEDjR/Jh9ZTVUjPxulBWQsmkC+FyIpO/FEEI4GCdYUk29PRAAxCzAskoQmlygxxNt4jHb86W9zc/Ng1iAAAiCQYQQghNgvmESEQAjJsM2cAcOFEJIBi4QhggAIgEAuEoiKIFqY0KkgOirE4geiGJkiRpR/xtGeqIgSmlBEnqaOPlHFzgQ1JvrDQ2KgWj65gI4+s8+ZUapeKLuSunYCiPkzFj0Ci6vJv/mASomJiSixCB2SKiP+IapZvpOPek+rprzX90e/37EeYkgu3kOYMwiAQGYRyEYhZI1LESE3IyIkszZzBowWQkgGLBKGCAIgAAK5QqD2/Pv6xAyz0KHFEIvYYTVHjRFDbISSUCWX0D3MXhvWNBjVr4ly5PtQ1WjytLJhqfb20IdYq8eYhQ99jLUqjHkRB0iVMYsgRqGfPF2cJmP2BuF+Sq6ZSe0P74gVQiLpMqHLZhJtPsjmsUf7CSUQRHLlTsI8QQAEMpFANgohP9/wsCseIf949rWoGpOJmzqNxzysQshjjz1GDz/8ML311lvU2tpKtbW19J3vfIduuOEG/jdp379Y165dSz/5yU9o7969NGfOHPrRj35EK1euTBpjNv0ySXryOAEEQAAEMoRA7Xn3xvpwmMUOu6iPeGII/3ek54Jp5H+bRYAjXX2zt/iFyBcxBqr6SGuEiJfVjpCuhWtVZRLAtabCyOEDRImEqsaQL1oeN6x69C6eSHlvNoQvZDJfLbpyBnU8utNWBJEPo+V35YcCPwVOrCT/W2zAyn0Elkyk4jnF1PngNiI2b4WPSIbcJBgmCIBAThDIpmcXPRcIITmxdTNyksMqhJxxxhk0bdo0+sIXvkDjxo2jF154gX7605/S7bffTrfeeqsCuG7dOrr66qtp1apVdO6559Kjjz5KIoxs2LCBTj/99KQgZ9Mvk6QmjoNBAARAIEMIKBFEN7sKMPKdjZChTolnnLpyOtGzuwY2VuXTHYkh8Tja+YXYiR9yvjVaxGSYGjpvKnn/vCecCiMt8p334mkUenZ339VNQkhwOpuj1rXapsREuQRDZEwYzRVnfOTd2x7uh/tQVWk2ccoMG7KSRJpw2/Hnb2TIbsEwQQAEQCC7CWTTs4uey89eeZjGDrFqzBH2CPmnzyIiJLt3//DPbliFkObmZqqsrIyZ5Te/+U16/PHH6fDhw+pziQA59dRT6ZFHHoked+aZZ1JpaSk9//zzSRHKpl8mSU0cB4MACIBAmhOYdW5YADHiRXzIlwN5gZi/13O1CiaWcrdWQSUqhETPN1eHsUSAWFNhEvF1kCpT8qXp1P74rn4iSBiM5QKmKjEDfe+7opaCj29Xh4hhqhJB8njwnNojIghxRZm8V/YSccqNFkI8fK3QuCLa+eg1iWaF70EABEAABFJIIJueXfRcVosQMiH2+S9ZhEcONtM/QwhJFhuOT0BgWIUQu7Hcc8899K1vfYs6OjqooaGBZs6cSU899RRdeuml0cPvvPNO+t73vkft7e1UUFDgeFGz6ZeJ40njQBAAARBIYwJaAJEhBueUk/fTsAgebYmiQuRAuwoy6vO+boIzysi3iyuq2EWN6MOspXXNfVv/bmXqxCNEnxOvYowM2eoVEj3HdEGrCCJf2Rmknj2ZfPXt5OVokcCiKv77Ueo9ZQLlPxdOowlwqo14nuT/oY6M0XnsfRJOHzIqi8jLJrJGcdhcdvtfECGSxrcQhgYCIJDFBLLp2QVCSBZv1CyZ2ogLIZIG89prr9Hu3btVxMfFF19M27dvV/4hukkKzYUXXkgff/wxzZ071zH6bPpl4njSOBAEQAAE0ojArHN+EX7Y5rKw0SonlrSSuFEh8SI6pMNkBBM5PllBxHqNoTC1CCFR8UOBMSkaNuJG9LJ8nBin9p4zhfL/WNc3GlPKjCFGsFIVJ9KPSoN59yDR8V4KTSlRUR/iFSLCh6fpuOpDokHUMJiPR/qylP7tXVpDu//j4qHMHueCAAiAAAg4JJBNzy56Lv/5sjsRId87B6kxDrcRDnNIYESFkI0bN9I555xDP//5z+nmm29W6TDXXnstNTU1xaTQbNmyhRYvXkyvvvoqLV26NO7UJGLk6NGISz4fJREmcl59fT3V1HBIMBoIgAAIgMCwEdAiiLqgTUUWPZAYIUQ9nZtCOxwIGOH+zWktpinG60tdJ85x/HG/tBnruBJRtPELiSuASF/xUmHUd2ERpPiL06j1w3byv3cofHWTCKKOqWAhpIUr4nBfwdqx5NtxJJwCw8ep6jMSAWIalxZBolOxjpmjVUQI8XKVnbr/+VKiGeN7EAABEACBIRLIRiHkjpfcEUL+9XMQQoa4vXC6hcCICSEiTpx22mk0b948Wr9+PXnZnV8LIeIlUlFRER3q5s2bacmSJSpyRAxX4zUxXf3hD3/Y72sIIdj3IAACIDB8BGZe8xvyclqGtUnpWnmoVi0iUPR8bgrlvVrPeRsmUw2rEakTkUP6dHKcU2GFu7MVQwaBMUYAkfPtTFXjRYNEji36ykxqbQlS/gu7wyMwiyCRPkOcDmQwOyWA6CbHsWGq8gk51hMzehFCDP7c0xthb40GkQozJ5VS1y8/IcPPESN83PZX/n4QBHAKCIAACICAEwIQQuwpiUcIhBAnOwjHJENgRIQQKZ179tlnq5K5Ug1GjFClDTU1BhEhySw9jgUBEAABdwnM+uz/UM+yqeT/sIm8zWHBI+ZBO05USA97W+Rt3Bc7mERRIRLpwAagMW0wqTTSgV1lXJuqMMkII/3EDwXDGvYhn1nWwBLlob8Vrvl/2dN3sOW4wMkTyC9pMAnSa3QHTqJBxGdEld21jB1iiLv3DXoDARAAAU0gG4WQ//jrI1Q2RLPUVhZC/veyaxDlj1vFVQLDLoR0dnbSBRdcQHv37qVNmzbFpKzU1dUps9Snn36aLrnkkuhE16xZQ9/97ndV2kt+fr5jANn0y8TxpHEgCIAACAwjAWV+2htko032AOGIA6Moj0KTijk3I8QlXtms1NKCs8s5YiFikGoSGwLzx5FvZyv1XDidRo/xUO8j24hG5fWldEg/1miOPI504GvHpNLYHRd9+rdWgrFRQOxEkXjnD8Q5XildJSpETpT5iKBhE90R7Vp7eBT6qPKr06llbbgijGqRayjjU/YBiSuCWD1KrOKLTUpMcBqX6N3dRsG5vF4ft/SfqT6Hozm3v/zNYdxxuBQIgAAIZC+BbHp20XOBEJK9+zXTZzasQkggEKDLL79cpbhIJMgJJ5zQj5+Uz5U0mIceeij63VlnnUUlJSUon5vpuw3jBwEQyBoCs878bwrNLCPvrlYKTRhD3oPHlCChvCi6AqoCCfk47aKtO2bOMUKIfGMSQ6SiiYgd/nNqKLiOhRD+To6Xz3yf8MO4JeIjcKopYmGgdBp1HdMwEh1rPd6NVbMJBlHdOhBB5LApN8+i3b9vJO8eLoerm1OjVeHGwpRuiaJBQmMLucJMdZ8pa7yqNyyChOfAffP/bX/1RjdIoQ8QAAEQyFkC2SiE/Ogv7kSErDoXESE5e2OkaOLDKoR885vfpHvvvZdWr17dz/T0lFNOUaVx161bR1JJ5tZbb6Vly5bRo48+Svfdd58STk4//fSkMGTTL5OkJo6DQQAEQCBFBEQAUS3fS0YBix7HY30nlLDhY0GEH76lUkm/qBB+dg7W2keFKPGkk0WU8UVUevEkar/vEyWGSPUT+S7/xd0xszLKR4UFF27evRx9kkjgsEZ7JDo+qhwMAaZJAOlh49H81/ZHxAOLMtJPbIi9Zqh6DHl6guQ5xFVhpA10vFVc8TN0iZyJtAGFEBY0dISJVJmRsrr9rxUZOwsh6tiI2CVClrfxOASRIWwXnAoCIJDbBLLp2UXP5f+4JITcBiEkt2+OFMx+WIWQadOm0Z49phxn04R27dpF8r20tWvX0h133KHSZyRC5Mc//jGtXLky6eln0y+TpCePE0AABEDAZQIighicouHpMnlzFITTU4zSQn4g5qokVnHBxmtjoAoyMmR5oPYvm6SiQkJc/cTLKTO9l82ivKc4LcQSFdJz/jTyNRyjghPHUuDxHbEzHsgzRI60G5t8bj3PjqNVVLHoGoHZY9VZoaoxVHtiPh1tN6jl+QPklaou1pZABAmcPJ78b7P/h27JiCADpMUYbKLq6Q7EjoaFkKBE+uw/2rfO8SJCODXJKOGUKBZLZF8YZbwHggaFJo6munuucHn3oTsQAAEQyH4C2fTsAiEk+/drps9wWIWQ4YaVTb9MhpsdrgcCIAACs5beQyrqoiRflWX1HOXoD4t4EKrhtBgWIlQTzw5+EO4XQRBHDDH4eI+OVLAcIyV1Aws59eXtsFlnL5uFyoN7/vpd4WtZxIoZt8yhg00ham01KO9ZFkScRHskihCxbgEnAok+xxqVkaT4oQ4fKG1GvndojCqHWqNAxMfFu8+UZmMq2hMdqkUAEdGDOO1JxBPxglH9drA3iaRE8T6R79SwOXpFBB/5M8DRP3v/eRluJhAAARAAAQcEsunZRc/l9j+7kxpz+3lIjXGwhXBIEgQghCQBC4eCAAiAQC4QqD3v3r4HXHnL38qRHlKlhR90VfrDwUh6hsDgrAtj7CjyHDFFOoh3hH6I5jQZJY4MIjJExBBJr/HuDT+wixjiY48M8SVRJWGl5C6LE0YFX18iLb4wk0LvNatjvXV8zGDEEL3A8aJFhrIB4hmo2vmHJCOC8JgMLk0cTZuRMQ4QCRI4sVJV9olpDoQQVf5Yoj9YBBEBRKVGSSoTp9BEo0Iq+e8ilvBx3VfMpfMXe+gvzx2jKWeWUf3TDVR335eHQhDnggAIgEBWE8hGIeS2F3/tStWY/3P+1agak9W7f/gnByFk+JnjiiAAAiCQtgRmnXF339hEDGABRErgSoqHb/thMkaxIDI6HCESbeayuPGEhLhpKCYUNlEhZlCh6WUUYtFDSroq8eMICzTSeHySllFwfg11vX6IvFztRDVb8SVOWRjLxyH2KTn9uip6878iESiDXTEn1WOsfScSQeT4IUSD9IvYcSKCcARJsKaY8l7fHxVC1LDFU0TWQsQyFrwCp0xQ1WaEX+DEcVRa6aOxY720//F6FdHj+6iJtm/61mBp4jwQAAEQyGoCEELsl1fK50IIyeqtPyKTgxAyIthxURAAARBILwLT/9fvyX/CWAq+3hip0MLqhlQDkbSHSARAcBabnIoYwlVFPK2majAihEgUiByvm50IkSgqxEa8kKiQmJYoysNO5xikIOK5dAb1NHVT3qaIwal5IHZ9DiR6mM91WkFGCR5WU1ULDxZNgpfPIt+T/cvq6iieRFViRMyIaTbz6OFonPy/7I49TkQQNqtVKVPcgnPK1V6RdKbuL8ym00/Now/ZFkyEkMbH9nGUzpHwPpFpcXTJjqeuS6+bAKMBARAAgREmkI1CyK0v/JpKJ1QOiWwbCyH/7wWICBkSRJzcjwCEEGwKEAABEMhBArUX/4o8zezjMK00GkERmsVCyESO/Dh4nLwseKimH/jF/8NUeSRhqov5XDPfQYgh6sE5kSAiB6XSHFXNJ4mNEk/sMHcxkI+IEwFkwXjyvX8onCbEFWUGSoeJXtbar4NokO7LZ1PBE9vCglgvnyD7QESQMvYM4SgQEUKCC8apS3i3H6HAkol0wudK6NO6EIW2cIQO7zOPlFeONJVKJRFFkXQr+Xj7G4gSSWJ34VAQAIEsJZCNQsj317sjhPz4QgghWbrtR2xaEEJGDD0uDAIgAAIjQ2DWaZz+EvHuCE1mDw4xzdQ/c8UQo7SAfO9GqpSYhQvt9yGiiPhzWJtbKTJKdOivOiQUQ+zMTJ1GiKin+GSUjiGuXTwRxC6qZDAeIszPkyjFxoEIomZpI56ICGKOCpJoEDFIFW+QXi4THJpYTIXFXioa7aVjD3zKYklfBJHBqVWSTqP2nfjHaIGE992O9X87RLA4HQRAAAQylwCEEPu1k4gQCCGZu6/TdeQQQtJ1ZTAuEAABEHCZwKwld0UFD5XyIm/0RXPQaS75Xuo9Zwp5Dxwjz7GevqoiVlFCR4cMMrpjsNEkCYWQeGJGPH1jIEPUVIgiyUSAKAHCZgPY9WEVKgYrgtiIHsqsdk9b2BhVl9qNCCg6LSZ4QiV5Dx1XIoi0in8+iQ7UBynvlX1UeMlU6vmfD/smMoqrzRznSjMyPVNajfqZhRDlNcJt+5s3ubz70R0IgAAIpD+BbBRC/vVP7kSE3LEcESHpv4Mza4QQQjJrvTBaEAABEHBMQEV+8IOzUc6eHtpYVB44dSUYLQToSA8lJPApM8eSp519H4Ih8hyOmKKaRANzOk3/yiw2w4snOCQSUuKc108QkUs69QEZKOgjFZVi4q1WsiaqTgQQwWAnngwiHUaG3XP+NMp/wcYsNpIWowU0s4Ah6S6Bz4RTdnouqqWCxz+OJaCjUGTPyf96Ih8UsQmvFkhkf0r6jfzM89m+GaKI45seB4IACGQ0gWwUQv4fEULGD9Ej5FAz/RRCSEbv7XQcPISQdFwVjAkEQAAEhkBg1mKO/CgU34iQKm0qZW897SZzU923+cF/dN+behFDpBnF/IZepzSYjpU3+UGuCCLVWxylyJjL6ZrnlUgIiSdwyNicprzEi+wYCUEkkZnqUExUXRZBwhvAZkBWEUTK9kYiQZR4snwG5f+pjkWQmZT/3I7+u9gshJjSYoInVHBFmXDpYxFTQuxVo8okR4YQmlpKOx+/dgh3BU4FARAAgfQnACHEfo3aIISk/+bNwBFCCMnARcOQQQAEQCAeASWCqIdJHwVPGsdpDe1sisopC2ahQ77XP5vFiEipXM/xcBWQfs10rHrQfX5nnEgMm3NHUgyR4Tj1D0kw76R3XiLxQzpMRgBRx/c/wVEkiJzr0BckwEas/vciPjF60pZzjTFsnhqpGNOPi3mMuqKQ7B+T+BE9p4BFOxbr1NTKWVhpC5fiVREjAYNCk4s5TetodF9v33Bj0suAE0AABEAgEwhkoxDyvT/+hkqGGBHSzkLIf674KtXX11NNTU0mLCXGmAEEIIRkwCJhiCAAAiCQiIDy/7B7oJbIkO5guOStKT0m2p+dGap8KQ+n5iox+oTI8VJK139mFRn3b3Uuhkgf1iiQeOkoDoxXbaNC7K6hxz6Q78cw+qRG2Q9UWSYJM9WhiCAGr7MnIkLocRklHAkkYoS52QkoIlTI+kX2SaiaBYsDRyk0vSxcKtfcRAyxM9hlwSQm1Yr7NCqKyMOeI2oPdvHerR5DHvatUY3Fl8C8SvJ/2ETbX/n7RLcFvgcBEACBjCKQjULILS4JIf/fMAghn/vc5+jll1/ut2caGhqoqqoq+nlbWxvdcsst9OSTT1Jvby8tX76c1qxZQxMnTsyo/Zbrg4UQkus7APMHARDISAKzTl1DxqRS8tSzkeWEMfz23EueRn5YtHm4Vh4OnBpjK4YM4IuhKoNYU2qS8fsQslZBI5nzHYgh0Yd3p6kyMQ/nDtQPB4ck3EBul9LlC9qKH1EYlguaRAyDhTEPiwuq2Vao4XOtpZK1OWqicx1c38oqNEmiPbh6TKSJf4342kjFG0OEKxZGPIfDoozB6TKhikLy7W4jJbpsayajcrQyWd356DUJlwEHgAAIgEC6E4AQYr9CEhEyXEKIwf9t/MlPfhIzkEWLFlFeHqcQR9qKFSvoo48+otWrV1NhYSGtWrWKfD4fbdmyhfx+9rxCywgCEEIyYpkwSBAAARDoIyAiiGoFeeHKLyyCSOqH8mroiTzkmoGxpwdJCoP5od5skGoVJ+Q7eRiWSIEEYkTJd06i9jsjVUGceH7IuIZTDBnoeprRYCvEmHk6ETvsNnGylWQifQwmCsTIY7GsV6sadopZnEnIKVxRKGpsOlC6jynNJTpdu2gS/aW5L07Nkj0nESlq2aRKTUS0Ea8b2d+h2Vyml6NOVGP/GhEBQ5VF7C9yiIyqYtrx7PX4VQECIAACGUsgG4WQf/yDO6kxP/986lNjJCKkrKyMfv/738fdQ5s2baKlS5fS+vXr6YILLlDHbdu2jebNm0fr1q2jK6+8MmP3X64NHEJIrq045gsCIJCxBGad8wv1htxo62AtIaxQyBtxMZdUogX/KREiFPkuOlFJj5HUhM7ehFEhKk1B3tBHPBqMMfl9hqm6Q5OQ0bu0hipOHRtfDLETUtRTbpxQC6diSpw+4qbLDHRNPa/BCiLJ7qiBxA/dVxyxIW4kSBxjU9uhxRMynPYR73w/L7ZdOlU8IUT3YxLllAgiP8sWiUSCqH0ulY/kZ06N0dEg6nMWP5QYyAKPR6rMNPD+57bjrf+V7KrgeBAAARAYcQIQQuyXQCJC0kUIue222+iuu+6i5uZm/qdM379lFi5cSAsWLKD7779/xPcRBuCMAIQQZ5xwFAiAAAiMGIHaRf83fO0JJcrPwSyESFQIhbg6DL8ZN/gBUokY8mJfxI/I2/TQDPZskLfo8rNdVIhEf1j9GyIPp6rqDH/XzzPC9B//wGnV5H/jQHiMQxQy4gok0rfTNBt5QHajKoybwogT8UPmmKwAonelkxK58Y6Nd91EAob1jognkFj70ZEfloozqjsW3qKRKyKqyJ6NRDQZNcXhfRipZCSpYQaLL97dR9hnhEs+72qJGZFnzCja/vI3R+y+xYVBAARAIFkC2SiEfOd5dyJC7rxoeCJC3n77bQoE+N9a/N80ifz4j//4D1qyZEl0KSXi48CBA7Rx48aY5b3mmmto586d9Prrrye77Dh+hAhACBkh8LgsCIAACMQjMHPhz9RX3oICMnr4Lbe5VbJxZAdHdnR0R6NCVLQHiyGhqWXqbboyqpSoEJ0Sw+dL+VHvnvDbcvX5MUtlGHk4lSiQiNgQOHkC+d9sUIcrMYRTbqKldPV4TKKHiC2+z1bHN09VE7KZcTKRIfH6kM8H8jpJ5PMxwLkp3aUOKsok5QUig01WvFALbF8mt9/czcdFojbUnnEqgEiHUq2I956UYLatOMNCiGoS3SHikYhR4hfCZr8U7BPkjOoSdZjnQLuKCpFIEE8Biyjd4X3tKSqgUA0fI2LKrnBZ3p1v/1NKlxOdgwAIgMBQCWSjEHLzc+uoeIhVY45yRMiai6+izZs3xxiSFhcXU0lJ+L8HbrQf/OAHNHXqVKqtrVVixx133EGffvopvfnmm3TSSSepS0g6TAH/++zZZ5+NueS3v/1tlS4jx6NlBgEIIZmxThglCIBAjhDQIoierqTAmB/wSIQQeUsuUSAihuTzg6U5HUEiRLr5IZLPM0r4YbO9T/CIliEdFUmlsTKVh9QOfgsiJqkstkQ9Ifg49Zn4j1gqjEQFCCm9W8TlVA93hnsdQjWY6LAGEiiSEVUiHQ4YJdIHPPU7bagCiIzQqXgR71g9S6f9WEUQcxlcp33INVVJ3AFMQ0bJHrSIfzJdqXokkSCRvS5CiKeJK8vI8fIZj0eLIGrKs8ap740qNhL+uJE8UyrU3kSlmdRvb1wBBEBg8AQghNiz00KI9VsRLm6//fa4wKW6i1R8SdRE+LAzOW1tbaW5c+cq8eOhhx5S3cjfxSD1mWeeien2pptuohdffFH5haBlBgEIIZmxThglCIBAlhMQA9TQzHKi7Yc4wMPPOgd7fnDz+vkNubx0j/zs8fODnxhXchSIcawzHBViqvKhK8mok0UMMZXNjZYhlQgJa2UQzVeLD3yN3qWTKO+lvVHy6i3+cUskiVmsYDGkd1EV5b1aHz5nqGky8frQIxqEGCKnOhJEElxbVTeRKbZaysza7VMHwkcUfyLT1WSiL3SnyXiCyDl2OsVAc0hGCDEfa92Dceau9vBhNkrliCdJ/VIRSix8KDNVKQ3NUSAx0SB8j0gJX8/2JtaLwpPxjhpFoc6wSOcdU0TBEyup7p4r7FYLn4EACIDAiBHIRiHkJpciQu4aRESI+HXccMMNCddz3759NGnSJNvjJOXlnXfeoa1bt6rvkRqTEGfGHAAhJGOWCgMFARDIVgISBeIt4+oXUhnjSBcZze1KAAkFImH+Y/mtditXhDE18T+QN+cikGjjVP11aMbYvvQYCzRdfSPGKySm43AeiTpO/Bh6LE/FyYoPIyGGyAQcpLs4FkSGYeMNmAKjFmQAhcRpVRbzPJIRVNwSQfQ8JCpE0rmsxqrWKXKVGzFB5U0eFv64ZK4qF13KwoiuftPJYggfFxMNMpOjPyQSivs3jhwLR4OwR47cTyKCqOgRKSnNVWi2b75pGFYXlwABEAABZwSyUQj5h2fdSY25Z+VVVF9fTzU1Nc5gunSUCCHvvvuuKpcrTcxS7777bmWWam5SYnf+/PkwS3WJ+3B0AyFkOCjjGiAAAiBgIjDrtLsp2NtJPs5tlRSX4PHjrEtwCky5VMDgSIO6JnW0PLSFjnWQ18feB5GIEPWMz/4Hkhajm1UIkc/V2/M9reGokIpR5Gnht+ERv4W+E+Msi/iF8Jt2aQGuCuN/bX/fgVIe1a4yyEDCgxtpMmriCcw+kq1QYzP9VIsjCQUP85jcFj+k72QEkIGOT3JsBld7iXqCOIwEUSgiER3qryKAsDhnlLNIxxEiqsn+Nt0bhogg7C/iOdShUsOkkpLRwPdBpHlLR1NwFGxSFwAAIABJREFULh/zxl4lIBrT+e+c7uU5eByiSJxfB/gYBEBg+AhACLFnLakxIyGEHDlyRKXGLF++nB588EE1OF0+V9JgzjvvPPWZ+ILIcSifO3z3ihtXGlEh5NixY2rTyE0vIUcnn3xydE5r166ln/zkJ7R3716aM2cO/ehHP6KVK1cmNeds+mWS1MRxMAiAQFoSmLFwNWsRXOKWTR2DXR3kG82lb7mJEOIrZNGjqy/NQqXEsGdHqI19EOR5z1QSV6XHSBldSQko5Tfc7Zb0jGIuJxqprCHnSoldJYRIYx8P5fOhq5jYaQuWKjIBTnfxv9XYx3QwgkMyYkh4wvZrOFgxZKA+E+yWoYgjSQkf5nEkKTTETMGNVBi1cUwhGqYSt06iU/qZocqeEV8Ru5QsuYxJpIuWylVjYC8c2b/NfB/wuQbvbS2C6LSXmLlXsWleI1dOUsPvHypjnDaFfNsOU7C1nTyzqpSo5+Gop9CBcMUZT+0E2vnbaxPsCHwNAiAAAqkhkE3PLnouNz4jESHjhgTs6KEm+u9LUhsR8v7779O//Mu/0Je//GWaPn26ej6VZ9G6ujpllnriiSdG57BixQqVKrN69WrlF7Jq1SoOXPTSW2+9RT4fvzBCywgCIyqEyGZ74IEH6ODBgzFCiKhpV199tdpU5557Lj366KMkwsiGDRvo9NNPdww2m36ZOJ40DgQBEEhLAiKCSFNCiAgZIkRI6D8/YIoQoh7CJCpkXAkZTeEHOXU8v8EWMcQa9SF9GIGwqaSHPUXMb87Vh2yaqtJbOJUgapx6LGJCaS7lGi/IQh58JStBTFJbu5Wngu8jUxioW2JIvH7UxAaIABkBQSTlGyuRl8hAKTAyuGRTWPSEzP2K/4ykQw3o5WESSCIVi1RXkX6i6VeR/qPRIOZKM/ralnQY87kqkkkEEJkal4eWiBJlyKs/sxE6KCKEyP2ifXbM6yZCiESDGJHBeidXctrMMQoGI2LiZyaRd/8xVaFmx5+/kfIlxwVAAARAwEwgm55d9Fy++bQ7QsgvLk2tECLj/cY3vqGeSVtaWmg0v6w6++yz6Yc//CGdcsopMRtVTFhvueUWeuKJJ1Sp3QsvvJDWrFlD1dXV2NAZRGDEhJBPPvmETj31VKWk3XjjjTFCiESAyHePPPJIFOWZZ55JpaWl9PzzzzvGm02/TBxPGgeCAAikFYHpp/wn+ar5YesgP2yFIp4f/NbZu6tNPXz58tjrgx8+VVSIr5BCQT5mWgXR7hZl8Cjf2UaFiPghD4jaRNUUMaK+iLx5V9U1GvjBTpp+6669F+QzJ6VlJVXGWi1GCxjmB2HVX4IO3fAM0Suc6FoDiSxOxjpcOymRACLjSIUIMphSu2rTmdQLHeGh+zJHjsix8rOkU0k5XLsmXZn3o3mfitDBESAqCqSR97Dsw47wPWQX7WFOGfP42HA44rFjvqx39KhwKhpHgxjbG0mEkNC+ZvJMHx++Z/h+8+5mHxIeU/BwOKVm1zvfG66dgOuAAAjkOIFsenbJNCEkx7deTk5/xIQQUc4WLFig0l2WLVsWFUIk/GjmzJn01FNP0aWXXhpdlDvvvJO+973vUXt7u6rd7KRl0y8TJ/PFMSAAAiNPYOaXHibv3jZVtSL06YGYAfkL2Z+gO+wNIpUwaN8RDgwJV4cRQUT5hnjZJFXEDS2GRHxCdEd2fiD6AVBFmgTD3h79mhZK9ENnIT/0iYihS5XG0y8GKzYMNppjMJEmMtlE45RjEgkjVmhO+nS65ZyIHea+EgkfcmyiPhP5gejoD/N1BxNVYhprTDSICBfSn1VEk+vZlMlVVY04+kjtyUi0h7kKUtQjxCYSRMyDDRZcxGjYw+bCYpJqbcbJbLD37r4+EaQ6XFI3NJGP33WIPPOqleDiiURMBVo5mirS/GWlquzv9g03Ol1xHAcCIAACSRPIpmcXPZdvcETImCGmxhzj1Jh7UxwRkvRi4YSMJzAiQsjjjz9OUmt5+/bt9Pbbb8cIIRLxcfHFF6vvpKazbi+88IIKO/r444+Vr4iTlk2/TJzMF8eAAAiMHIHayx6gwJ5G8tXWUGhnuGa9d0YVebkyReBoONXFX1RMwc5wqL94gohPiDqO02W0IKJ+riono9Fk8Ggq/Snf24oh7DuiPBisQkgRfy5N3qRbo0bELySREBK+oD1Yeds/0IPzYMSQwabKDDROu9EnK4pY+7DOLZEo4WRrOhE/dD+DESz0uZL5wkKYp8simg22T50SI+WVOX1FNRFBxFSXxYOYJt42o/m4tj6z3+j3Is7JmKxCh2kPSyRIP7NgEUGkxO5+rgwjEVWyZceXknGoT8jwVI8l48CRaEoMzecUGC59LJVjdHqadyxHT3E1Grlf/cUl0fvWc8pUMt7ZE75XT+Tz2GME1WacbGgcAwIgkCyBbHp20XP526fcEULWXpba1Jhk1wrHZz6BYRdCOjo6lJBx++2309e//nV66aWXYoQQSYe59tprqampiSorK6OEt2zZQosXL6ZXX32Vli5dakteokWOHj0a/a6hoUGdMxKlljJ/a2AGIAACTgnUXvQrDt9nA9Rt9eSfUKlC+UUM8U0eT8F9h1Q3kh4TPNCsHrCCbBQtaTDy9jzUeDh6GflM0mXEK0Q9zE1mQWRf3/f6QDshJPrdQFEhqlOTAmBNSRgoq2UgUWOw4kWyBqpq/IlyeRweo4ENVRBxukkGOs4tAUSu4cBktZ8IkkjEGeh7f8RTxDw/nR6j2YpAZ2pGCae6WIQQYwIbooooJ0KKFkIkYkmnw0jaipS9DYYjqGJaTRmXnWYz4IinjRwnPiISWaXLUBvzOdrjA47QmjGOjLqDSmxUZXd5/CoaZPZEFR0iFWekBTr6/i0h0SA6OsTv53t2cjF5W7po+8vfdGP10QcIgAAIRAlACLHfDBIRAiEEN4rbBIZdCPn+979PEt3xxhtvKHfdeEKI1GauqOA8+UjbvHkzLVmyhF577TU644wzbDmIuCKGNtYGIcTtbYP+QAAEhMCsc35BoSqu/MIPflKuUx7aAvUHyTdjIoV2HVSQfOPK1cOVmI4qIYQfqoJtfQ9ZdiQlPcao4vQZfoMtTcroSnqB9jyIJ4RoA1Xb781eHmYxxGlJXRmInQih0ytSkdIyWIFFQ3UimpgXYDhFkWTEDxljIrEi0TEDXS9R34lSbOw2sd05Usp2FJsFH46tciQiiEqf4XOkPG5407NAUd5nlhq9RAmnlMn9pI2CuWqSkc/RLd0BMto7lXeIORrEy146+l7ylo1R1WKi0SCN4egsSUkTjxDvvnYK9HaQP69I/am2PEeD+N4/yGbB4zlahCvMbGuiAIuVeaVjw/c+7zHvziOIEMF/EkAABFwhkI1CyA1PPUpjxg2taswxfkH+q8u+gpfbruwydBL9Z6LBbbhw7Nmzh2bPnk1PPvlkNKpj48aNdMkll9Arr7yiHHnlz8GmxiAiZLhWEtcBgdwlMOvM/6bgSWyw+MZOBUE/EEk0SF45R3DwW+bAQTZfNIkN+sFKR4XYCRU6GiT6y1kqyETC+dVzoYP0mOi5NlEhquoGG7aGn+4GeOJPFHCRSFxwWxBJJE4kGo95qyZz7Ehvcaf/aU50XLICiEReSERHRJiwxZBIxIkngohgYY0E4agoYhHD0x5JqdHeIKWc6iJpMt0iIrIg0hoROTgFTMpGx7RxxURNLC5OHqvKRmt/EE8ll9Lla4qgqO4lFu0kWsvLpaQlJSZUw/fEHhYbOaKEjvcoc1RzmppnAZfa/bhZ+f1I+elAcwvl5Y1Rl+7tDd9LIrTo6jR5HC0ipX53/PHrI717cH0QAIEMJZCNQsh1LgkhD0AIydBdnb7DHtaIEB39EQ+HVIZ58MEHlVnq008/rQQS3aQk0Xe/+12V+pKfH8l5T8A1m36ZpO8WwshAIDcITD35DsqbwuHz/EAkKS3yoBhobCJ/JRsuyttoeXsdKe8pUSH+qVWqWot+s6wp+SZwpBu/WQ4d6SuRK9/ZCSFerk1vlPH/TH4hsc/18VUCO7HFLIYo40n98GldwsGmyKgnwwH2QyIhYrDpN3LJRH3HgkvfTZtI2NAjd3LcIKrCGGPE58PGvyP81M/pJ9ypuV9rRSG7cenKMjavXYyaYuXtoZpOieHSzyKAmJuK9BAvkGOcAhNpHhFFOM1GiSAVUl6XRRCpMsOGqWpLTCzjCBQutyv3G1eGkQoxxB4gcg9L+WpJcfHIXPg8MUg1m6PK+ZLGJve5XCPYcoR84zm6i6NZjPJCJXaKH1Bwx37yT5tIgd0NpIQQFhzlGpJ2s+O5G9J3n2FkIAACaUkgm55d9FwghKTlVsOg5N8JwxkR0traSu+++24MePn5n/7pn+jee++lRYsWqagQKZ8raTAPPfRQ9NizzjqLSkpKUD4X2xYEQGBYCcxa9gsK8hth70EOo/eJHwK/pZYUGH7w0S2vuJRCLI4E6/hhiEPm5Y268gzZG/YHUQ9V7P8hIfUihAQPtsREjPi4Vr0qnxupHBN90GNVQcp9ysOcPNzpqBBdFWNArxApr2tTXSM6II4KMUr4oTdXxRD1pJwo/GUYt5oTYUMPJ9Gxg4nYME/Vpn+DjXWVh0eyIoju16ZKDPE9YvASqD1o3qsiuEhUCgsYEg1CR7jcLUc56XSY6P0haS8V/L0cG7k3tUGqiCDSjIZW5bUjviGhA1ySurw0LFhKWks9GxJLNAlfR5fKNWOQKk9SUcbLlWwMvuc9bK7a2xExPmahU8yRY46v4tBvufd5TCK2hMYXUd2vvjKMmwiXAgEQyHQC2SiEfO337qTGPPQFpMZk+v5Ot/EPqxBiN3mrR4gcs27dOrr66qvp1ltvVUaqjz76KN133320YcMGOv300x0zzKZfJo4njQNBAARcIVB74VoKzi6n0MZt5Fs4g7wHjlFv4yHKq5mgTBV7O4+Sv6KcAi2HKa+oRAkfxug8ZaIof1JQ3gpzKsCh49GoEHPYva+c31ZziU9+PCMthMjArRVk5LvQ8b634N5I+fBQd/it/UBiiN33ugRp+OQBwjekgkd3nFK84Y4H5jxSkSF6VInGZzf6wZwz2N2WSMyw69fJOekogshcrNEgvL+MiqJwNIhZBNHRI6b5SzSI2nJ2aTHyRRVXexFxQ6rWcPqXpKoo8eMYf1bKESK7m8Lnz53Ifh6tyhNE7jMlroxhgYdTcMzmqPKdiI4q+oUFnMCRVuU9Ive5CB29R01ldWvGU2D/IfKP52gTMR+WlKJIlIxEc0kVGhFPxbx1+5abB7tbcB4IgECOEMimZxc9l2uffJRGD9Ej5Dh7hDx8OYSQHLkNhm2aaSmEyOzXrl1Ld9xxB+3du1dFiPz4xz+mlStXJgUmm36ZJDVxHAwCIDAoArUr76fe+kbyz5lMgW37KG/COArNKKPgpu2UVzVevTnubWGfgPH85lfeEHPqC/Gb8t62I+GHJH6IC1UUkpdNGOXNsaTNKI8CTm0xl8cVA9Vg02FlnEo9oWhJ3XiDlrfYxuGjyjQ1dCxScpf/rtJm6g+TpNCoN9Ed9ikNSiyREqRSQtfaBhJD1NNjnFHpyiCJxINUCSIyrET+IeahJxrnoHZMik9yInzIEIYqfkgfdlEgnGai0mR0/9oY1zrtROO0iiBSrUXK3YrB8EBRS2KYalclRl+/jFPUVJleHiALjyIseiaxTw/fc969bcpcWBukemZMUGaoIoKorSNCiPh7cLld870pkVuhqRwBJmV1OYpEBBIlgnCkl6TlSFSXHENjwybJkiIjIoiqNhOJBBMxRP2e4FQ6JYKwcNrTc1T9PpHUHTlu56PXpHjzoHsQAIFMJJBNzy4QQjJxB+bWmEdcCEkl7mz6ZZJKTugbBHKdwLSTf0K+OZPUw4yEzwdDvZQ3qUoJH55jvdRzvJX8J05VD1Jihip+ApIqIKHvvq0t1NvNDzkmIURSZHQqjJTTDR7qXwJXR36Yq8j4Cjm9pqujX4qMr4xFFilB2sOVYyKRIOphrpSjRdo4bYDFDE8hv/nuGkAIGWiRBxJD+C27vFm3bfL2PpDgKZzFCmMspwpIeVO75kSgSHRMtgkiiYQFzTGRABJH4Oi3DA5K7pJEOUVKy8acn2isVhGEqxRJBSVPJ0dOyP+sQoj2B4n4kehoELmmOT3GM5pFwONcYUZSW0RsFEFQhMLxLFDUNZGniiOu+B71sgghkSIilkipam91hbrHpYkvTyAQERYlCkRSbdjjQ9JgohVk2PdDjFHzCorVfa48gTj6RP6uW95oFiolIkxSYiR9Zv9BypvG5Xrr29hPhMUaLtHbe4A/EyGExUsRWeQaO56Hh0iu/7cH8wcBK4FsenbRc7n6id+6EhHy6y9eiaoxuGVcJQAhxFWc6AwEQCCTCEgEiHqry7n+UvElcEIl+Xa3qaiQvKkTqXcPe35UT1BlMj0dHG7PD1Xy5lne9ubnc3lb9gXxNPNnEi7PESBKDBEvgskl7CnCqTQcQq+iQriJ2aK5SWqMPFDJG+3gsUg1l8gBVq8Q5Wsg5o6tx2KqVKiHwykVZOxl7wMJ5RfRYaCoEHkbbWeEOdioED2hREKFHCdihbmErxmGk/OdHJOMIKLgZahHiIw9kQiSSKDQ/J2IIFZDVCfnyjF2NelYnJB0FRVNNVA0iJwe5/toioxUe5FlZPFB7kERBdXP4zhVrYlFywgk77gyCjW1kq+4mIJsuK6bb8wYChztMy2W6k5GNRuoyn3OImig63g0JUZ7g4gfkNzXUWEkEg2ixBYpo80+Kj1HDlN+CUeQiGjK97iKBmFhVarWKCycquOtKqee/WGfob3vfd98N+DvIAACOUwAQoj94ktqDISQHL4xUjR1CCEpAotuQQAE0pOARH+EjCDlT+cIkCPs5yEPMNx69h2ggrJKCswfRz6O/NBNxBCvh1Ne+Bz/bD6HjRM9HPquU1Q841mkaO9WkRziTSAPSmJ8qv7OpTbV22QRWdhnwNxUaP5YrnTB/gQyhtAhi1Ai4ffsoyB9SZM32fKQJWKItUXFED/PhaM0UhIZIhcdapqMmkiCfeFEnHByjJNrJdqiTq+TqB/53qkwEa+vRMKHPs/JdRIdk+haic63E0A4EkQqtSiD3jYWLmyaMZ7vh0Psm2MRQDylLFC0hSM3VOMoEOlD/G7EHDUaGcUlckV4EOHS2N6ovHfkfgi2hu9nERRDh8P+Hr6CUUroMDcxMlbiJFeskRQYlRITuYflOLmPew+zJxDf45LSpv1FDL5PlTg6mgWXTjZJNQLKFFmJIBxNll/M0Sk8Vpm/iB/5NVx9iqNrRCgxqqWsNY+DI6uU8Su3nb+91smOwjEgAAJZSCAbhZCrXIoIWYeIkCzc8SM7JQghI8sfVwcBEBgmAlL9ReXus8mpb3YNeffwwxGH+8vDiEo7kcoUUp6Tw/ZVk8/EB0Mah9VLaHv+qBIK8Rtj2tWsPpZQfAm/lwcY4+MDUSHEbKYo4fbKvNESdWFOjVHpLVzlItTQP4XGjMczbZyqYKEiQ1j0EA8ENQ42UNUpM/J3oye29GhMHwmjPxIoFYmCKBKJB24IIXpCia6lj0t0zWHag4O6TCJRQneaSJxwepyT6yW6lk06jBJBuAJLvEgQo4YNT/dzFEciEUTmIekw0iQCQ4QP9s3RlZTkY2VAbKrApCKq+B7W0SD63jNfS6JBRDQxm6bKPSv3rjSd6ibCiAiUKrpJxAsxaOXy2VI1KvBpPeVVcASYiJERgUaiQ1SanTT+/dPTFK4kVVBSTt3tHDkybrwqx6vKcktqjQgsIhaxf8qOP359UFsGJ4EACGQugWwUQq78nTupMb+9Aqkxmbuz03PkEELSc10wKhAAAZcI1J53Lwse+dS9ex8VjuZKEmJoym+Me7ftpbzayfxmOVJ9hf/s7mmj/MnVFJzGD06v1anwdakEIVEh/hOmUGArn8O5/8SRGb2HIpUoOEzCz2UzA41NfQ9LpnK6WgiRtJlAZ/9oDvWQVVSsHsC0WGJ+iDNXlBFPAzFvpe19ZXnlfCV+jOO34OyTIC1eJRkxhzRsRJkY1AmFEgcLExEolBcECze2LZE44VTkcHqcAuVg7OlyiBNBQo81kTDh9Dgn10x0LbMIwiKh3CvS1MO9mJraGPZqEUQdZxVCIns2uixskKpMUSs5/YVLSqtlZUFSmorSmsE+HHUHw59zSoxqzXw8i5zmtBirCGJUjaHgvtj7yiyE6FQYMU0Vc2RpeaNYkGFBRKI+pJqUeIOoz9lYORoNIil04lvCok3P7v3haBBOTxMRJO+k6eSt51Qdrk6jfp4zRQkhkpqjBFZmhuiQdLkhMQ4QGB4CEELsOUtqDISQ4dmDuXQVCCG5tNqYKwjkEIF5v3yFjv38FTXjgmmT+4QQqfzCBokqPcbPDyiR6g+q9O1+FirYD0H+LhEgPi9/ZhJDpC/lDSI+AgeOqtx/8QLobecHIX5TLCKDhNTbNR1OH+iJDceXY3UVGV91ZTQqRESPoE1fnln8djkihMRUkeEIEfEsMRpa+wkhMSaTXIJUTFcHbG6KIfKWm99227ZEwkQyIkcyx+rBJLr+cN4vTkQI83gSCRLJHmu+vq4IZJ1/omtqEUTSYMRcVdJMJP1jFKeBtUcMdy1Ch1kEkcvF9QWJCCLyfYwIwp9LRSQRQSRKKhgI338igqg0FxFfeAySuqab9RqqCgz75wRa+8rimo9RUSCRplPdJEXGz6VztTGqMlZm0U8iRIIHW0giTJQ3CHsMcW6dMmgNBMOiYMHoseFoM/ETkiiZ3YcpeNpk9hXi3w1SjUruF/Fl4da7cALNP72Inr3w7OHcjbgWCIDACBHIRiHkS48/5opZ6uNf+jLMUkdoX2brZSGEZOvKYl4gkIME5t73Cp1aa9CEUQF6bIOHRpf7qePO16Lh7YJExA8xFg3VsH8HR4Woz6r4YUXC2aVaBJucylteKYMbqDug/EH8YznHn78TccQ/o1qV5uwJHFd9qT/HcslO9gAI7A6bH5qbVI2REpvSrFEh8rAU6O1QD01GOfsDcPqAPLQlTJGZy2U5Pwm/fY7XZI5xvUKKOIKETVVtI0fMhqaJBBG5uNNUmXhVR6QPJ4JEskJHssfbgXQyLqf3WbJCh7XfRCKE3TicnONkXOZ+7EQSYS1719wk5UxECN3iGaPaVIdR24p9QVR6GkdLaANgESfMKWHmy6moKK5OpCrDSCoMR3gZE1jobOAyuuzZER2GZRzKy0PMUcU0OeIZYhVBQlPZ92fH/vA9zD4hyu+FPT6U0BGJBBF/EBFBehsPqfLaYuAqJYLl94r4D8nvmJ5GTq/j3xli9irCjGc6Cyk79pF/8Sz+ncLRLSJ+cLld+bO7bi/5z19An7mojJZVdVHdUT/t7/BT4zEvi65Ef73oLKc7D8eBAAhkEIFsFEKueOwxKho3bkir0MERIb/7MoSQIUHEyf0IQAjBpgABEMgKAj969wV6aEsBfe3Ubvq4NZ9K84P04kcsXmxsoN53tqs5FoybQN1NLGb4Csg7o0o9hKiHGw5JF1Ekf1qNeiiSMHX/ktnkPXScgnsPKSGk53CLKn9JozhaZDc/2LD4Ifn/ukk4vDzAiBiifQS0V4j2F1DX4jKc5qgQf+Fo9QCmzFPZJyR4oDluaou+lpTZDXXZR57EPByKh4mUGI00nRojP8rDWNzIECmLy2+4VUskhiQSQlQfAxwklTQ4HUC1RMLDYMSNwZyTbneEE0HDPGYnx8cTQKwVYhKJIHJdswYi0SDSzMJIHBFExENlempNh2GhTlcYihFBIuWirctjFUGihqg2UVV2ESdakNT96mO0UaqvVjyFOFpEhA4xSx3LFWEKwhEbqmIUp8ToKlIqQoR/T/QebKK8ykoVGSMpMdK0cFqQz+V2a4qpZ1e9+lyEECnT7d3TymJKAXU3sqHqrKlUc910Ki8KsbAbpI+a86hqTIhaur10fe0x6gx66MZ5y9Ntp2I8IAACQyQAIcQeIISQIW4snG5LAEIINgYIgEDGEpj9i5fpK4t66f7rX6Nz1pxDNUUBeur9PDp5pkEVBUF67plO8k4ZQ76176vQ966WPg+AQn4YCU0ti4ohYlooRoZ5J04jb6RqjERpiD+INGV42MneIFwdQvmESCg8+x9IOL2k2bBtY9QrRB0vb47FnJXL6koJ3UBzS5RzPA8PJYZM4vO4RG8yUSEqwoWrVehmTpmxXssshsjx8cYSLXWbSAhRnZi2ULxSq04FiURiSHjQg9uzgz1vcFcb2llOxAy7Kzg5z04EMQtSul8nffktkR8mX5Do8OyEkIjYZiuCSHSWRJSwt4e0eOky0f1exv4ekcow0c+4ypKko1hbor6s3/vmTKLgNjZBlftZxEHZQ2J6KtEgbIyqq8XIdzoVJtjQrH4nSAlu5QsSiQZR0WXi8xOJUJFUGf/CmeT79IjyLfJyup38zunet5/yTptLC74yni6o7qTNzQX0SROLk9xGjfLQV6Yfp/u3FtEpVeFIl3vOXDa0vYazQQAE0oZANgohl7sUEfIkIkLSZp9my0AghGTLSmIeIJBjBKbe+ge69KIC+tMHPrr5zG766VWv07//bgnd9piPrl3u4cIOBjV2+uiZLT7yNnAJ2xfqqIvNUAsrxivxQiIxjAljom9lxSRVQtjzZk4ibwtHUfCb3uDkEq7S0qXEEKkY09PZHk6DYVHFc4BD2dmboKc9YpwoESGRJsap0sxpMebliSs+8EG+yeOVaeNAx0hfyjiVQ/apLnwta9OVZKS0qNEex6ODTxrwOjpNJlkxJJ7HhFMhwokYIhN22p8doKGcm6p7zYnwEO/aTs9NNhUmzvWMEr4HxAjVnP7iVATRfXJ0lY740B+pyk1SlUUMTjkyJHQ8vHetYp8+PsYXhIVEERmk1LQWQcxeOz4/p69xKppu8jvL06TpAAAgAElEQVRABAypDCPnxRNJVIQXz01MUvPy2QtIBFJJgeF7Xv7UvxukX/EEkRQ69feIECJ/N6fG0KQyCuxpVGKJRIeEZrJniAir7Gki0SDiaRScXkqLLi2nsvwQBTji5oMDPpo+zqBLJneoaBARQkKsyyyqCdAHHC2y8TKkyqTqtkS/IDCcBLJRCLnst+6kxjx1JVJjhnMv5sK1IITkwipjjiCQJQQWPPgKtTYF6fRTfNTMIeIzi3vJzy9o//RgC13396VUXmBQSV6IblvnoatW+GkM/12JIa/xW+UHX+Mgh3ApW6ke03X8MElUiFHNAscefgMrFRu6+K2u/J3FkN6d9VRQMS4shrB5oaeJDVZ7u7liZjeJH4BUilDh8JGHIvXgM2UiBfY2kn88+4IcCvuC+KtZIDnYzhkmHEovFWg4QkSaz8sGjybvAn9ZadSsUYshvnIuqXskfLxd0w95ngQ5JQnFEBlbPA8H84WTFUTiDVyiCMT/IVFzKojoftwUN9zsS8bnVKhIxER/n0x/TsQPh/0qASRSaSk6VLMAor1BBtpPJYVktPUJEtHl43Qto7uHzOa+CSM4uFSuk2btR5fQNZ9rZ6Iq960YpMrvDl8BizQiiHBUmIgfKkKkgFNf+HeBtSkvITZP7W5pUr9H5E8VEcKeQeIVolvevGmqHy//fulq5WNFBKkdS1POLafJY4Lk9xr0Xr2PJlR46KvTj1F7b/im+M2nRTS3IkCfHvFTdXGI5pT2UHMXl//l22rjpz76+OufdYIFx4AACKQZAQgh9gsiqTEQQtJss2bBcCCEZMEiYgogkO0Eznhio8rUONoe4oovRPP52UFSX17f46fTpwaUEHLx9eVUyZ9N44eHP+wfRfXtPjqtqpu6+O3pc893kee5j1TVBvEH0dUbhFuefxR5J7LfRz17e7AY4m1mjxB5eCmrpO7WiMnp/OkU+HAP5edxuUz2CVB+IWyIKCV0lTHi4Q5lmqr6YzFEQudFCBFzVJUaw9EbUk1G/yzHiRAib7OVWaqlaoUIIZIeI34hfn+RbfUYveYqMiQYqchhsxG0uaSIIcQ+BFLZxq4poWY4xRAZRCoEEbcFjHS7uUZIAIliGEi/0oJIvH0k6TASBWIjgqj+OVKC6vtEBbMwES8ihOuuKH8ds6gYvTfYS0dMSX2l7MsTqQhj9usxn2frHcL3lhZC1L1dwgIoR4CJoCEipYd9UMQnSO753r19Rsn5BVzaV6olsaGqRJbJ7xNpcp6qVjWJBdP9h8J/nz5JGaNG/YvYIFX8SOb9/TQV1SZi7/od+XTR7G7+nRcSLVUF4TxRV0TLJnXRX+sLad/WLrrosz7ac9yv0gPfqOMoOL5uZ4dB274BQSTdbmGMBwQGIpCNQsgljz7uilnqM1/5EqrG4PZxlQCEEFdxojMQAAE3Ccy452X63IkGfdzsp+nlQXpvd9gb4vjH7bTwwhJ6/6fb6YLbZqi3oMGQh/78127631eGn6//a8MoWn5iQIWWS7WF9e94yLhvQ3R42rhQhBEpXytvuUNTS6JRIf6TZ1Lg3Z3Rt7mSQhKtEsMlc0XsUCVC+U9JlRFRRD0sRaJC9IVE/JC3yNojRMroahNVc1qKFkNCbcfVQ52U0pUm5XDlYW+gJlUyjMNHE6KXh0mpShFPDJEOEqXkJDRP1aNwauORjHAxkhEiCemm+IBUCSBqkzmIzlHHDTDHRCIIR05QNwtx8UQSF0QQX1lJ1CtEDIWVYjCG7z1TWVw9A6t4Es8bRB8v92dvsFNFgYkXiLrX2SOERrOBqlkEYbE0NJnLa0t02X5Oc4lEg8jx+u+SDiNRJr7ZbM4sRsGcYuThqBBDvFHYK2TSlZNYoGVdiEUNSYkZM8ZDX5t1nPYf96rfbX/YM4rKRhl0SkU3vdFUSDsf2kcXfXuCEn1f28EC8IwQvb3PR+M5imTK6ID63bf3O+ekeIOiexAAATcIZKMQspKFkFFDrBrTyREhz0IIcWOLoQ8TAQgh2A4gAAJpR2DOva9Q5zEOFz/UQed+fjR90MAh5XkeOvjvb9Co7yymkhIvjSs26MN/eZPyv7WYls0L0vNve/kB36C/P6eX02MMenxXEe1+r5NWfM6vRJKXVu8lD5fGlZQYaVrUkJB3MToVwaL7OHsASFTIwQ4KTisl3/bD6jN1PBseSiUIOU+aKpurU2Qif2qQYqYqqTS9x9vILHzYgdYldaVyhWosrugHNyntGTzYovxMgt3xfT7kNMeVZKTMaA+/qeZmNU5VnzlKf7FRJKRaiLWEajqIIeFJpd0edzQgpwKFuTNnmSJ9Zzi5RiKdRK/9QJEgkTQSXdLZbu/pQTmNBDFPO0YEGc2+OFwe2ur7YY4GMZ/bTwSRKjH8u0ILlnJs3ujSaAqMtWKU+p7NlI0DHC3i4/Se0gJlvGyOKpNjVGpMzXhlhOyt5OgXKZO7e5/yLVJRZIsmkre9myZeMYnOqelSwsar9fl00vggFXOaXxlXwhIhRFJgKguD9MzOQmrcdITGLhxLs6oMVSnr/QY/LawO0F+2+ujsuSEa7Q/Rk5t9NGOmj166GD4iju47HAQCI0gAQog9fAghI7gps/jSEEKyeHExNRDIJAL/98P1dOdtjephQKIWCicVET+zU9vuTjrzs4W0/aCXjh03qPfp3eS7eBpNmOClMyd20W//s5E8506mC+aHaPvRPHXMF2d10i/fLKRTaw3adE89nfEPk2h3m48a1+7kcBI2JOQSuuYmYoi86e3u5hKZ3CRcXUpb5s2dSt7dbdTd1Up5s9hDRIxTm8PpMrppMUSnyujPVRWZinIKtHDovJgt8sNib3fkTTJXoFBlOPlzeTOcN4pD97mErjQRPULd4Yc49XPEOySeGKLfbOsHwUR+IdKnWeww+zGY5+VIEFGdOQjTSEaHSFa0cHD5uPdBstdK1Q3lRIwY6NqpED/keokEED0mBylVWmyQss3KB4TvObvIpBgRhH8ByL1gbbI3zakwPhY+xHNGpcEUF1Pw6FGVeiaVorSoGDd9ho+TtDXdfDNYjGCzZDFG1U1EEF0VJnq/10xQqWuS3hI9js1RleGpJRVGvi8YzSV3Oa0u1NSqUnVC7C3Us30PFRZXUtfRZiWGBGvLqeL8CbR0Si8dD3hpK0fCLa7qYe+joBJFWnt8Kl3m3cP5/LuKaH99MPx7kI+XqLdjAQ/NKemljXvyaP7EsHgiIsjkKewd0mvQ9MqQSp05bVwP/bpuNP3+fKTNpOqWRr8gMFgC2SiEXLTOnYiQ569Casxg9xXOsycAIQQ7AwRAYEQJnP/HjXRhdQd18z/0Jcz74//eRYH542ns7NHUeiRERlMnVczlcPFwpghtvWsXhZZPpSn8j/vxo0K0p8VDTX9qpOU3VNJb+/00msPIOzsN+vz0Ltrenk87Wrx0YG+AFs730fsPNVBocRX51+9Wb2Klac8Q/eBfUM7eIIebo29zJUXG+2GjigARMSSwo54fsvI4yiQcVRF9CIp4hkR/5gcllT7T2hF90MorKLYVQ6QiBbuwUqAjLJT4i0socLTPJNVfxA93nceVWeNAkSGDFkPiPJQ6EkOsQog2MbDbVU4FkcEKFEMRRfR4B3vtZO6ioQofcq1kxQ89PqfXFhFEqrdwikfClkAI6Vci188+IYHY+0eukcgYVY4xiyDijyMtaBIy5GclgnAqjr6fBhq/+Zr+SROUkGEVQaQ0tXjtsNNy+PcA39u9+yOVYTgSpLe+UZmnGuNHq3K5Kt2OxZng8eNRPyJJhzHGF5HnSFc48qx2shqWiCHSRBAp+86JNGdCiN7hFMAzZoaUIfQp5exrFEmHyeNfEz7++86d4TUpG+uls6aHDaPXf+KnqdUsvvLfD7LNyokTgvTiuyzH8nxmLhxFBw+GaDGnzIi3khzz+qECFlMMjrJ7nXa9872ES4wDQAAEhodANgohn1/3OxpVOW5IADubm+gPV10Bj5AhUcTJVgIQQrAnQAAERoTAP7z6V3qnkSu7jPbwf9hC9PUlXXTXMx7Kf/IT6rl0No2dGU4VOdzCT3wcITJjXj6V5IdfUX/46wPkPa2KlswlZSb4yD389pbNRSdfUUN797Bh6nQfnV/dqXLp55ZzjvwWgy4/3aCP2lgY+fMR8u07Sj1b62LmLQ9Y2sxQhbBPqQpXkPn/2XsPMDmO82r3m7g55xwBLHIORCJAglEgxSiJVKSyJVnXlixbwcpX+qVryvptRVuiRZlilJgjwAAQIHIicl5szjlPvudUb8/2DgbYXWABAssuPnwA7M70dNdM11S9db5zAD+4ILTW9ahdXKpC/G2dw0CIE54hAQIArFJ0rxAe3KgKsaemBH1CzhqI8dr2eOw6o3m7EO0LEMId7iAYQdkMTVV5jowA9XmHdrBDj8UdcX+3pi4ZqQ1ThowWhtDwkmUOxnYpYIjqwNGSE8PJjAcMOV/HjeacRgsbRnqDwv3+UgMQvuY4KkHU4QZBia4GCXdZo4Eg2qlpHWCMxdWPR6WFr1NTgxhVHufq5tDXdCQkDYMg+vOMkbnBnwF8itMmvtpmzfSUBqmAO7ppckR8sri6tDI8QhDCGqpSVB8AmChfkG6YOTO9KjJJ/GUYH5AWswLqN6o+TnfbZVaSG2OeXx7/lwrJ+YcymZXilkPtTlmV2S9v1iDCF5x1QZZbOt1W8CqrSo55o5LmyQGZg/KYV/dYpbDQJvGRAZWglYFymmUZLtnT4lQgxIfbuPYH22Ttb+fLr6657kI+jeZzzB4we2Cce8AEIeE71AQh4/xBMw+nesAEIeYHwewBswcuaw+sXb9ZDhz0yqoFFomyc8KPbU60NVn92KkMyMaGKDm4pVcCUXbJKIqQ5t0d4s+IkYw8h3R1IUWhwCJH1rdLzIxE8bgDsmAygiaQEFPzbK2U3ZctbviBNDf75UMzXaqWnl6Ep7udkIy7gyDEj0hco3GqGgwNi3kndy6w4Lf0e1VyjAOpMYEjdWp391wlMjyGMk80wBBHZrp4G5pViQyPZTRNVY8fLJHRX58wRIEQ7nRHYzFnVIUMJs+MRqURrjyG5T+8ptBSg1Ed7yzQMQoYcr5P1Vj4xmjAw7le61JDkct551woAOE5jgXMsL9DvV7CXecoymG0lx75xEfzGHWsMDIYa3aK+OtaxZoUr6KmbVExIypBlPGpty8Yp32ut5EpMZ6uDrFnIiGqoUk9TFeDKAVISrSmBokGxAR8YAkdGyEImw5CdIUIfUsISqg6G2jVjsemQAg8iYo+XSgn9/TL6hUOOYVYXPqE9CAu9+Xvlkvm35ehlE6kfG+fFM9DGg4gyPQUqEEQr3sQpTL5sV5VOtPcjbsfn/vqKp9SgxTN0dQgs4sCCoTQPPrP2xySmQX4CmmIF07TC7M9qvTmcLNDtt5p+ohcztvafC2zB0J7YCKCkJseHx9FyLr7TEWIeceMbw+YIGR8+9M8mtkDZg+E6QGqP7jLOSfZLd9bFyWfXuaWhzbYJSXLLksLPbK/2Sm58T5V3/7UfqcU5FjlTBWM/lDmwvSExv3dElMai/hcbauaxn/lh11SNitC2jsDMjXTJzWokWfKQl2/XSKxOOACYRKOd7A9QpkMegFIUrAQqOxxSCwMBPc+0SSeHcfOOlsdDKjFC9QVlMMbd3apDvFnxCozRXf3UNQnVSGM1qRXCFuoMoQ/o3FqIMIeVhmiR+vq5ql8PEtiwsn7RwMv+PywQCSM78KojzcqP5Ax0ofLBUWM7/QYT/Gy3tQjc4ORT2cs4INHG60CRD3WcIJcceP+CNdGAzcsTkdYD5DQ4xkBiM2B8jCPZhxsKUyTQIWW1sRmjMnVf0YTYqqpjC303KjWsri8QXPUYOw1ACbhoQ5BeAwapSpjU3j6KCUIIEggEWClrlFBHwVBUE5E7x/1e5gr0w+FihCC1IjYZM0TBPBjYKBdIhNxDSiNc99UpJRqlkkJGPMsUpRvlYJYj5zodEhHRwAG0RapODggJXMipabaJ8vLAhKBMXXDUZv0N7tl+nyMhT3azRQHMd2pM1DGQQ1CCMK2arJX8mJ88tu3nVJSaoOJakDg2SorMf4+swHeIWWR8oXpPcp/5Nln++TOO6OlESD5sVVm2szIN5z5CLMHxq8HTBASvi+pCDFByPh9zswjaT1w2UGID1rMf//3f5c//vGPUlFRIampqXLbbbfJ73//+2HvyUMPPSQ///nPpaqqSqZMmSI/+clPZO3atWN63ybSYDKmCzcfbPbAFdID/35wvTQPWNVO5etfPSDffXyKOrO/VsTIzCQXYm8t0oUdz+3lNpmaG5ACRD1Swv3YvgiJjkbcLRZobXs7JH9FklS+2yvWhl6xzExR/iAL01zy5EZRMIQApATQ44n9ETIVpfd9MA08cNQnH1zkl36YDtJEkG3nY81y3SdScT5W2bnLLYHHtp/VUzoUcGZkiL+lQ6xpiWKBjJ3ww3OySpkessafCx4uYJgkozcjDDGCEKbICGTwyjj1HPJ7HkOHILaUJPG1amaNNEnVjVSNJztqeCFnr/qtsdHi7xm+ODzf8YwlDZZYRPD2DhlYBhIiET0cplRnNNBEv6CxwJDgcy7kSee4Md5LMDIe4EO/rLECED7vAiFIIBUL/JbwJVgEAudLhVGTD0AQpqYwLvp87VzR0ToEYVoSTVKpCPG1DYFJ4zGNRqnhAE0QQtLUGEo0qkBokEpzUyME4TGpBKGqypKGqG0oLtjcfZ1BCMIobUtrf1Adou5r+IF4TlWrP+kJ4pxTKlYkUvG+JhyxfGKpODdVy5KvFcrWoyLZ2TBFhVE0y/4IQlge2N7mlzVzRRoAJ2IBMQhz2baesKrUrHcbNWUdy2IyEEhDhQejc7edhs9IITyTcvulutcmL5RHSV2tT/yANfmTnNLU6IO5q0eBkMUosyEISYrwq7GYaj0qTNYW98t35txw3vfJ/KXZA2YPjE8PTKS1i34tN4yTIuR1UxEyPh8y8yjBHrjsIORTn/qUrF+/Xr773e/KtGnThDfJ3r175cEHHwye1BNPPCH333+/fOc735HrrrtOnnzySSEY2bx5syxZsmTUb99EGkxGfdHmA80euAJ6oOC7r0rRkjgpjvNKRpRXntjpkJvn+OV4l0M+VNgr/3dLlNw2SzNLfOOUUxYVeNWEf1GqtsB+7bhDstKt0tASUDJv+ohUb2yThPlJ0vVGnfizYiVnEcpIkITQcKRPCubGSGmiV97c4JL4wiiJQ7xuDQ1Sp1vVooGJMVScUJWy5wxq6XNFdm1CwkRTr3i2YOUR0ggFhtX1J0SrRVEAu8NUgrDehv+2oIRAwRDI49l0EBLuLaBfiN6MJTH8mR6xq5upKk+CVCzw6ocn1BiPO1oQwueEKkOsUYAZTiRvhCxCwx4zNVYsHiy6sAuu0j4IOGKwSjPAEL5GWCAyFhiinejY2sWUzYz0SuMNR8YTeIQ797FCkLEAEPUGD11AEIKE8YsJB0FCvUEISUA8z/r8sXzL79fSkvQWTg1iKUqXwJmh0pJwShD9+UYIYo+FWXG3lgzFxhIZC+5tfrY9fUPmxExx8vR3gxENdZIemWu3AnQk4Z4g/IuC6SvVHA2acaqzMEcsgLVMh+K10MfEn48SGpyrUoNEJGgqkBioQuANQrWI1w8QcsN0KVoNwIrhr/GJSoldmyeTwE5rOizS9EaTLPpQquw4IjJ1klXa4Kecn6SBkDc3Aeb+dbd89I+LZGN1pBoPo6JQGtjil5Jci5yu0f49OdOv1Hj/uzcC5wD4/HyVFD1QIDMT4Sly3C5rpnjV7wlBnnnZJbNXxiogfabNJpNSvPAeAQhGV3x3rglDRho2zN+bPXCxPTCR1i76tVz/2PiUxrx5v1kac7GfL/P5w3vgsoIQApAPfOADsn//fgVBztWoAFmwYIE8+uijwYcsW7ZMEhIS5JVXXhn1eziRBpNRX7T5QLMH3sMe+MTbG+Vog01Nvq2wkaAs+3MLB5QqpAfKjMMdTrk5p0+ePBIlWVCQs149L8YjbVCMbD2FJ6BdBwk3ytZlT71D6o8NSHpppLQ9XSkFDxRKC7w/ejbUi3duptiOtUr0olTpqeyX6ddA/o7SFx6vptMqiTEwRj2uldbMQ218i8umPEIo9W7st2Gn1StvHYLi5LBmZujddHhYr4WqQriIUQudnCxx19YrNQgVIjROJQxxt7UGn88dY3d/l5LQu9u14+uNHiJKFWLwBuHv1IIMSRpcQBGG0HTR59d2m9Xvw8j7+fPRwpCwJTJjgSEZNG/FQrgFEGiwhQMi7wkMGTqhYX39vvjHWOGH3imXAoLYbGGTYELfB6UUiQdUbB/6LPExlwKC2JITgyoRe1Ki+Dt6ht1XfN0gfKQaBHBGQRFAEHt66rDyNnX/495mqYz0ubX0GChaGaetq0wIQvzVLQp66GlUugEzn8/HOeZPEsv+uqCpquWBZWJDRHfOdanS3ORHjDf7QmR5CcxOH2kX+9xUmVxII2etJ1nmR2NUBUK2eOWu1VYAXr+8VRGhzFMTEy1q3GUpzO5ah0xFegzVIdMBPZ45Gin9fQGZUYQwKyjxTu7uk0kLolUpYR4UIDSvrn+3R7LnxsnUVK8cRXwv1SDrqqLkc1N7pB/HiXME5L6Sm98Xt5d5kWYPvBc9MJHWLiYIeS8+QeZrjqUHLisI+fCHP4xa1w5Zt27dOc+xvLxcSkpK5Pnnn5fbb789+Lj//M//lG984xswS+zCjgZ2I0fRJtJgMorLNR9i9sB70gOrX3lHbsrpl26PFt14pseuYIjdYZGkWK3cpQgS73ZEQT72gkeSp8bKmlK3bK52yswMLyCJDWUybqmHxwejHV887JDJKG+hkoMlLAd3DUjm5Ehp+ul2cX5pMe5/kc5ql1JkfHypR14+HiFdmxplxj0ZmOy7lDEqYyc74R3S24MdUZTYpCRb1GSfNfe1eJ0clNK4sJg41maXuufrlMGpb9epYbvRxjhdTzu8P6LjVUmMMy1dpUUQiKjFUSZiciFH54IotIWDIboyRDdQHbYTjdfgv/VFoUqJyU8XX9XQ7ne4N3msQCRcaYzxuDze+RI+hj2WGn7X2VGoYT+Ml1ohEvqil1IxcrnvtguFHjxPvR9GY4KqX5euAEGpB8u6FAAITQsafKxSgVBZgfsg0KP5d4T9nOKzwihavalIWpvlLJ+QYSqQwdIXPseal6pAg7GFK3XRAQgBosTiNRiJC88OvekKLAJIpss4AEEIZ6jyoIkqFSGEmWfdz07NM0iRigib8g6KiExUZTCOklyxVGrlbMoQdfDn/LdjSr74T9aLLQ2myb0wJoVHiHNmiQSWZ8vSqYASGOfYjpz2SzqUcMty3VIY65N/e80hRVMcUluD1Cz4fWRCXccxlhDj4KmArJ2tpTdtrXZI09Y2yVyRgjHPL8VQk5ysEWweWaU4yScrMwfkp29EypwyjINQxdWjRObMEZcsXWhXkLgPb4lS11V7ZcEcmxqzK3vtCh5TaXJrUT+UfX4FQWp7rbIo3SNv1yPFC/9uAuT+yYI1l/tuMF/P7IEJ2wMTae2iX8t1jz4jkRcZnzsAj5C3PnqXGZ87YT/5782FXVYQUlBQoOCGFZOIhx9+WNxut1x//fXyq1/9SoqKsEWBRsUHVSMnT56U0tLSYK+8/vrrcuONN8rRo0elrAyZmaNoE2kwGcXlmg8xe+Cy98Dy59+Rujqf3Dvfq+rKXzwTJTnxfjnVaFESbIKQOlhoXFPoVTuZj261y4ev8cl6lL7cOMWjgY5Gu9xQ6JLnDjll5SSvpOI4+xERyT+PYEcyPxEGp+2aWqS23C3JWVrNPAQU6jXumuWWLY2RUvVCg6z6aKoqxeHk3Y1EmSTsjra2BSQGpTVMR0jFOiYHk3ym09Cf5HCLQxobfOLb2iCefSeH7UoHQQjk7DRDdDc2Bhc3yhARC0NXa7O2AMLixugVwnOlhF4ltSD9hSaqxhaEIdh1ltaeYVGfKjEmCZL5lla1W+11jxyFO1oQwnPQ1SGhMMSaEDOsVMFqwwISkcAshzlfU2UOIyWDGE01xwpDtJO+uHa1ApGLgR96j41V/cHnhUKQ8/S+giD0jeHTzgNBQoEFIYjfe/Zn61yeIOFOQY/J1RVT6t4BuPF2IHlpUEVltyPZ5TwQRIch+vHDKUH037GUhaU71hhc7+BnWsGQlDTxJ0KRcbpGM0dFRC6hqa4GIQhxH6uQiMI8cVVUq8Mpk1TA3OX/UiRnuuwyB9G4hA8EwIvhf/S3M9EolQmopCwapSZj7MqE2TPVcmzbjllkzQyt3LC+3i8DB9slbm6S5GbCaBXAd28DTFGTfcofiSbUT+60Y05lw7jqU8CZ3kk0j97XFiE3ZvfJ7zZHSFGxTSlHjiNmPBW/K4Bab0dLpKxIhzIvis+xyEzEkTPtiyDk9eooWZGt+QOZMOTihijz2WYP6D0wkdYu+rWsGicQstEEIeaNMs49cFlBCJUcTug+Z8yYoTxCent75Vvf+pb62YEDBxDlZlflMB/72McQf9msjFT1tnv3blm4cKFs2bJFli5dGrYbqBbp7kYB7WCrr69Xz6mpqZGcnJxx7jrzcGYPvH974NqX3pE07BAexZy+vx9KiwKbUoU8fzpKbiwYkKOYSO8+HpCyEs2jg3AiExPpBpSlvHnMrpJg5hf45TQWAAUoU2HSy8KUAXl6n0Pum49J+z5MxNMg+cZmNI1QN2x0SfaMGEkBWKkZ9CZtrxgQ5yun5UP/USrrT0fAF8SiXoMRkVxQHDgZkIREq1pEEJzQjJWNcZRMS5iKunkmy7xbbcNiwy+e321Wixju5upNeYUYQIhKkkFqBf01fBi/bIlQiQzCEBo/eo9UDftQKBjCEhTsIht3mBnB6a3VVB5ceHmbhna5dak+kywUDIFKxJ+JBdiZRiys4LK/jTMAACAASURBVKEQGO6hYDzX0X4idRhiweoqQNOBwRYKQ/hjnn9gYMgcNdxrnBeG6BCEigI2qgouBIbwuRcLRIY6a7RddfkfNx7wg2c9GgCCBCTVYJyp2khAK0QVEoQbAHfSfm5gpz/Okp8igSpE3Q5Ct3DKpGFqkJgYdZ+FNnpv8Fyp5ggCD4CPQDISZRpbhxkMh1OMnAU/kA6jStaSkhRE4X1G7w5jC0IQgj+nXRmkOuMSVQoU1STW5j7R43H5PGdBjrgra4NqEMv8QrGe6RBXc6Mqj7Gd7pBrfzIF6S2a90ovwATHSYp29rVFyvFTALSgHpEoM0zPsEl+AjyOMF6VdwMOIyo3AWWAjM1lqUtXd0CNqaWY5lBbwuMQ9NLsdHEq0mpQNsiyQI59LFEsiXOrUpt9TYBRePlMwOt9xwJyzXTY/+B8OOZSKfIW/EMyMqzykaJeBUFoFTQv1QPwrKlBni6Pluw4n+x8qkU+/8V4VZr4xak3Xf57xnxFswcmUA+YICT8m0lFiAlCJtAH/Qq5lMsKQgg8HA6HVFZWBiEHjVLnz58vf/vb3+Tuu+8OgpAWyMxTUE+vt127dsmiRYtk69atcs0114Ttvh/84Afywx/+8KzfmSDkCvm0madx1ffARza8LYeroMKY4VZ+HwQhSUlWaQVouHW6FlVbXQfoUAB/kG6rklvnJAfkVK3ItVB7bC6HsSCUGh/AY19GCUxyslVSY/xS3WKRG0tcSDVwqLKVaEzGudsI2wG1Kzoj3SeHm1HGcqhXIrOiVB18w4kBic7C7i9e45552s4lVSSEG4QhLIHZewK170iY8aByo7c3IMuLPPLcF7bK9b9erqInXah5p9ScfiGWzbXiPlQeFoY4Iel040vY2JgeQ/hBEKIWPiiZCaTDq2QQhnA32B4HTwEu/AED3L1DiRZUhNjzM8VbpZmsnqvZMwBJGluUF4h1crb4T6CM5xyNi7fR7qaH8wzRDxu6OFVlMiBSo4IhPMhIi2nj+V8IEBkvGDLsPC7FQUd5u48X+NBf7kIAyGjeNwMEGQYXRoAg6tBUjYSBIPydMb2InzUd9NnOA0EYRWs8B8KQcBDEHoWkJ4MJaug7opfEEIKwaa8/CIXwb13RYfzT7gT0QTkPk2roBUJFGNOs2IJpUjFQgdU3KAgip5oVXHVOKlCJMYQg1tYBibirSJmUvlPpkDXFbtneFCErs6C8iPTLyzXRcvIPFWJZkyeZWTYphhE0xysfgMYA/qeSjsqOKpQhVlX5lCcT28yCgFZeuMkvSxc7gt5ILBfk4+kVwvJA/hlNVUeFU5blexQ4PgaGu2ySFi9+bWa/gta7ofpYA7DNcZWtNF6DsLV9iNU9HSPLMgbUOLvp8VZZeV+KLIGSpR6/++F8s1RmlHe/+TCzB87qgYkIQlb+ZXxKYzZ9zCyNMW+Z8e2BywpCMhBHyRKY7duHR1YmJibK17/+daUSuZjSGFMRMr4fDvNoZg+wB/5+21uY4GoS9mOd2AnFJPqVow754sJ+efwkFgVosdigZekLa8u3NcCzAzuU6SkWOXbUI3lFgBvYcTyGmvXrYeDHlAKKBPTSmMPNDomGaIIGf06UutBEldG6sdhxfLUySqlCKA+fleWTo612VS9PE9Q0KEa0vyNJASDm7kU+eeG3TTL/U9lKPs7dT+5svvl6v/IlaSvvl+J50biWAfiYOGTrHp8smottVDTuZL71GHaqa3uUdD3SiXQH91C6BFMeaARKqGHph78IZO9sSiECDwPlHcLECHgR+LNjxXuoUvs9FCHcWaZJKqM9uWBzu4cUGAqIFGYFo3WNnzjdJ0SHIXq07kifynBAhCoWn6df9MWl/m8ei1CEUaCB5uGeCNy1ZzqO7umggAjqkWjkqjc9IpU/Zxv2u/NBDqM6ZOhgZ18at61H42vxHnKMkd6PS/770YCPc53EaKCVoawpqOyIxk2JnxtLYUI/A0FQUQRl5xnAvMGkldBUGJ4aS0105QdVVr6OLrHFoRYEzTeo8lQqEHjzePu0+0ePlbblwUOnelBdNej5wXuAn1cqRvSmR+QG/42yM9AAof+P+uziP6MizAk/EP1eVVBzMMZaGZ7CU8SF8UFPiaFHiG6OGpGYKq6OIYWXfSHMUbuQDNOFhBeAUpqxxqzNV14gszHOpQF80FeJUbkeQI5tTZFy5NE68S3IlCmTcL14f6naYEuHCo/GqFR11MMUuh5liRwLuzE+rpzF8SYgG1/tlZvWRsvuarvMzPZJC5Qgs5Ndsh8lMFMS3Oq50YAqT28KyKrFNqXGO30aYzc8SJhaQ3PU12uj1Jh6U5lHQWWapM5L8ag/T0HFR3UIGwEKx3xG+i5MdUt1D/oJ5zAH5TMV+DsVJH/cjet5YOUlvw3MFzB7YKL0wEQEIcsfeXZcPELe+fidpsp/onzQr5DruKwgZNWqVYiOGwgLQmiEyrhc3Sz1hRdekNtuuy3YTfQR+ad/+idV+kJlyWjaRBpMRnO95mPMHhjPHvi7LRvUDt/uVm03sRTxs8nYGdzb6lBGfh1ui7yKncuOfqS1RMELBMEpN5S4lZHf6wesctscgAuUyJx6slaWfyoDkmv6cmCyjjk0/9x5hiUpAcnKtqlJN0tYFud55Azk3KeqAnLvXLdsqo+UrBjUxWOBcKYZ0myoSRhekpdllWrUxfftbBH7bCjHnjgurjunyJypVtm/qUduvzVCWiHt5s4pIcfROqtMzcbjMYGnWSBr6Lc3R0olzu26z2ZIBSb0Jw65xX66PWycLvuVO7oWLGLcNUiNgRpkGAzB7jW9AtTCqMMl/jx4ewCGqAUUFmfcEdahiHGBpRZ0gCVMiKF5qr4zfa73cbQwJNQzhLCGRpbhYIhRHRIKRKx0poXqxRize14/EqbLNA4BlbF4lwSvORxA0SMzRoIi7ycgcqkBiOFDGK68xPgZPRcEsaQCsLV0Cf+0wHDVz5U2Gj9Xwb8bIQjuFao9QpstFokuVGF0ItIWICJcipJe7qKXj+nnTKCoSl2MUAQQRI+4JZhhXLURUIbGYDtjEoOKLmcErikF5BYDkaUN54r4XB186BCERqn+AqRHwRfEsWiKWGu6xVVXpwxSPQAciSk2uQEeSWwEE/mACT0wmyag3fFcuwRiHGI/3CIrv14gR5ptMjfTq8pcCHZZGsPGrmRJnxuKOY6J8yZbZM+zreKbnCw3zoXxKRQdHOt2Hg4oU2kqN9gaAD6mAojsgNqDAJpVbw31PsnNs8nqLCpBAJvx2OMVAfnIPDcMUv3SjnF0RhIMVAE32PizXS2EvNp4agP8mIv43TM4N47/MxI98u8bI5RR9WO3dwHGWOUrr8bKsc+aQGQ8v6PNY03MHphIaxf9WkwQMjE/qxPhqi4rCHnwwQfle9/7niqNSUtLU/2ne3+8+OKLsnbtWvUzxueyDOaRRx4J9vHy5cuxUIo343MnwqfOvIYrugdogMp69ARMdnMxQaeMmkBhAcz82DbDmPTWvH55CmZ+3A3kpJm7gHxMYxcSBbLcshs15PWYXK+ajh3KPzVK7p05Ugp5Nxsl3i9v8UsSTE+507mkxCf767RJOifOLGNBBZ2Sif95E2rji7EAAIQ52WiV5gqXFE6LlB6Uuei7pG312LXMc0jra3Xin58pgcY+yZwVKxmJWCgA1kRDWXL8vysl8Z4C6XjqjMz8UqGSetfgvE88VivF9+Uo0FPebJWmXR3iW7c/7PvDRb2jNE9F5rJMRnkGwK9Dj9bVn6SMVFkK06nJ7XUYIhG4XiRmhHoP8DG6eaojIUk8nbraREu0YNP9Qvj3CzVQNcIQ/Vz5M0r8CUOMi1NjByhlCJoOQ0aEG1kJYunzSKCzTz1vxMeH6+0LKZkJPc5EgyIXAz6MfTMaFUhIXwaVIDABJZCgF4beFAThz2Cqq7xi+Fnx4e+EH219mrmoEXwQrg1G0PJ3ejkXFR9jhSBGNciwSzRco4qmxnnphql6YkzwT5ipqtIVgwLEeKyzIAj9epBcY03DAAO46G7W1Ci874elyKAsJhAfoRRk7oOntXsBUblFkxzK16MbiVafWTAgFHskRwTgl2STekCIt5/uED+eF1Mco+Aw28JsDWRwLO4ZsCjFHSFIfLxVpcSwzS61yL7/qpLVf58LaGJX4JmQgmoQAguaphIOE2J0YqxuGoCyA2MtVSWuVo/EZzvlnpkuef54pDKhXoBxPCfap9K++LpL0t1Qg9gUYGGpDUtspiWwHNIpK1AisxfAPBbHprcIQYiuBnnqjk655+kEmQY//PkpSPWCuev/rFwV7q43f2b2gNkD6IGJCEKW/e+zEnGRqTEuzLu2fMJUhJg3yfj2wGUFISxdmTlzpmRmZir1R19fn3z7299WfiE7duzAhFn70n/iiSfk/vvvV6Uyq1evlieffFL++Mc/yubNm2XJkiWj7oGJNJiM+qLNB5o9MMYe+OHe11VdOBMEmBZAqNHUg11KwBAa5zHVZUWeW8XcLs9wqV1BlsesytIm2PX9VtnZHAHAAfNCGPS9utkn8xY4FRThJPuGOX5Z9+VtkvP9lWryPh1l85yUH321TW6+J17eOQVZdRGSYups0nK8TxYuj5JmHLOj3S93TXfJQ+stUjIrEtJslzRiobDpgEihknHDCwRrkZPV8PrY0SQp12Ug+hLRkgc6ZektcapW/vXDdkmCD0laXEDO1CE9BjJy7q6yMRXhJCblBCwtJ/okoyxaRf42PlIugYwYpQxhssNAh+YBQum7z+9Rdf9MiVGLIPgABCXxBCBoeooEJfA0VNQbgQhjPVk+w4Wg0TOEi7BANlQkFVokr7Hp5qnc2Wa5AEEJ0zIseckjxuryOOcCEdbsFPFTxmNoPL6/uzdoZslfqeQb7S/qD2PSx0iQQy2MDckzIz0+7Ed3PKCI8cBXOiAZL+ChXzOhgDG1J2wnD//hSAoQ/dE6+AgQaIQBLMEY6HQkLzXBhHTQaJTwjeAjkAAowvjc5g5lPMySGGOzJgGmINKWTRmjDpa+2DJQagZTVL0ZzU/18wg1ROVjHcm4R5nw5NLKa/SYXL0khiVsntah4zqjoOowxOg6HbhPkwFWuMrHfazKY5gSAxjE8hgqxQLpAIcAga4GKMcys5QiRkqREAMVybQ705VCbcdxkcVTYNiMhBbG0j5XGa0ixl9Y75GIrEj0k0UWTfIraEwFHUtQONYeO+yRQoAUjn00qSYQXjQYorfnR8dl8fenyHGMZ7FxMEo94pYv3eBTQILQtxEAIxmv3YRxvK3XomAzx2e+lvu3u2T5L+fLxt0oD4qBQXSkBVDErR7bi7GaKTbdUHqcwnjJsfsa/JtRuoxMr0IUL8+NKj9Gkn8wv1+VxTx8MEoeuqETniFW+cOJ2CAEuTkXpTd1kcpEOwsKl3+edeMoPpHmQ8weeP/0wERau+jXcs2fxweEbPukCULeP3fC5bnSywpCeEmnT5+Wr371q/L222+rlJhbb71VfvnLX8KZPGPYFT/00EPys5/9DEZgVUoh8tOf/jSoGBlt10ykwWS012w+zuyBsfTAz/a/jl1Cqzy71y4rpwXUbh5BSEsvEluw+UspNhMImMrCevM0wAPWgh9sd2BH0KdKZP54IkZNalle0o81y4w0RDfW2JXfRwnk1HvOWGVxsV82Ptoid38mSV45Qk8QeHzAa/REOUz9plLGbVevtRGme77MWLlmZaSauNPPg7ualIyz1r0F65fMBCS9rOuU/BUoT8GCICUB3iVPN0rAhiSXshRJTgFEAQy57gOxEoMdSsKdDpTgsAyHk/9V8CnZeMIud8Dw9ZWT2nUxlSYmLwqle/AimWSRg7+tEPcpLQHGCEMi0jKUGsQxtVA8RyvEmZullcrAU4SLImPJjFpolRWI97gWl8kFk1rMRcN7AMapxp1m9XvCkDSYrQ6myeiLSOP7aYQhhAq2fPgjVGk70nqjQau3e/iC8qxSGcPuu64K0Z+vezMQiIymjQQ3dB8R/VgjPf68rzneUCR4UqO50kv0mPEGH/pp6mBijBCETx8NCDG+r8bH0wsk0N5zVmcZIQh/aU2GcqgT5TIFCWJt6z8bgqQCGrZjQNHTYQYhiDIg7nMPqaUGvTuM561DEIIPT5umzDKqqtS9GQWPEHj+UJUSTqUVegEqIQZlMApkAoISbFha+zUPG8AElp2p68J5E4KwDEaONmhqk7JCVTLHn1MVMm0aDFKz+pQ/yFZA5HiMU1RdvHMGqjEcm2q3HihGVs/E2Ihxj6Dh1LMN4p+ZpryR2FrbAJ57NZ8jlp7UPnhEPHdPUeNfcXpAdm3qk8/eYZMXT0YqfyUqOdg4htpBV3Qj6nhEi1fAcHXJlIBseahBMu/KlYw4vyofPNnlVGU02VCGEKiw7W6NUEpA/owxusfhG6WDkLV5SAzrQCoYTpEKErYGmKfuhbfTfhhpM33muapopTbkuM7o35uy+6UN30GmweolGl/Mw151PTCR1i4mCLnqPn7vuxO+7CDkcvbwRBpMLme/ma818Xvg+3vekIef86gSkpUFboAMf1AVQpPRAzAw9WFCzt3C2eke2QnjvemYTPehnv22vD45AcM87lS2YAJ7b1G/NEHBsaUxQkU0EopsOYldSUywCR+onF9aiihITObZdpRbJScTkm6sccAupDDBKzvxeO6AblqHVJjiOFk6WTMQpBnqvUiE+cs6LApWOBQwoVkgo3Flb7OkrMlQm91tWBR4TnZKIDFSbClIODmBHeYpiXLLbCQoPN0jhauT6bMoXdhBZaPUvB67pHmY0G+qcChAQp8SGy6KcIW7rDu+tvOssheaqNI0lTBEhx6EIYQXetpEEIrAJ4DmoYECRHKWwx8AoINqCsbR6mqQC4EhukKE10GoYE9KFG/7UCJNuE9vOPigzCexYlG784MlMvpzuTtP3bzu4zDSHXEhcONCnqPO41LBkLAdN9KVj+H3lwp4hJ7CBZS+6IcYKwDh84JlM4Oqj9DTsRh+bo1E+Qs+b9bMZLEgblb//IU+hzCBcMECQOL19AWVIHxcOKUHPUDos2NsRggS7l1yxMP3o0srQ2M7Sw1iiNImBPEDUgYqmlV8dmCwPEbdQ4ggViqwBEQDxznFVV2rwIdSfaEkhn/3lSTJkhtjFdyNwDhECHIIqVtUfLy20St3XW+TZ152SeLkGGnHWLZkJoxe8Xmhqu1kp0MmoQRl42GrZCFBhkqQPvxPz+KZxdq5b/+HtyT/R2sUyJ2MWHCOwaXxSMg6FSnzszyqJIawog4qPY51Z464JDrZIdk5Vqmp9on7dLf4AXYch5ol7qYcpHnB9wnqET6HYHxRqgtG2Zoh8vUoWTwEED4jySPvtiGeF0ba62GuSvXgmmwX4IlN1tdFyzdndSrA4QVA2dXiVB4nH8R3B9UiHW6bUoNsbIhShrEDUJIQBtWhf/6wfPUYbirzoWYPTLwemEhrF/1aljw8PoqQ7Z8yFSET7xP/3l6RCULe2/43X93sgcveA6tefkfFHv7leY8yFe0F+GC990Mb7LJqgUXVlm8tt0lKKmrDASsykfjC3bvyVqSwJAYQrTigdgLPdNNcDyafmCj/9QzSXfAYlb5SH4UEBK+8vskjkekRMhsbowQl+bFeBU9YgkNVSO+hDoksS5T+ZrdMnx+hnk/AEXinThyrctSEvauyX+64wRGUXVOd8twhp0pcaGhAjTwk4CyHyUUwxVGoSxjHy1hda0ufXPPBRLxeQBJwToQhk9dopSuNzX61q8qdTsIQ1rXzvN5YBz8DLAbskZi8Y6fVVtEpthNtahc3MiVdBlo15YUOQ0hxLD2Qxw8myNAgUcnjB9Uh+hurYEUxkmwMMMS4Ax0KQ1hCoy8u6RnCXevQCFCmVtBPgbvZYSEHSnCYUmNs+uO4kKMBKhM/9KhSPs6YJKP+fRlgCF/ngoGIerK2O2429MClBiD0B4EsgGUwbCOpQMIpQ+gHQgjibxiMqy3OADzAjb4fkVKGZk1PCkIQ3fw09D3mz3XvkQuBIEoNAsfRkdQgzgQkRiXC64MRuSzjQQlboLxR3XuELYzPVlHa7BukwigQAjWItbwdpsko94F5qbW6WyKuzZK+yj4pXhyL8RZKO46DSN+iMo3weUuVQ41lkzKhlEDc+PwCzcfIjTRf+iY1NfokDp4gDlSbMWErAKPWuUujVAli9fffwFibI+lfmSrTUjVfJybEvFweKYXJfgVgaK5KaFxV4ZWUNBtizy2AKhDX9PoVsA4gMSt/CdQ5ADVMp2lAeeRMqP/yYFYdhbG5DsoOgm6qQVgeMx2eT4eh/mCazM5mp9ycq6lBmBLzh1u6BanmKmHm4WMxMhWPIdBZiJIaQncC7U5c82IAlnV1UTIF0GYmwMo2HIeKw8+X3WTe0mYPvG97YCKCkMUEISmaN+SFNo61O0wQcqHdZz7vHD1gghDzo2H2wATvgc9u3ohJJstZhtKWOEFVMORln3z2dit+B2ABU72Hft0hXsivb5pPVYdNAYcAld+YQPdCqs2J+nSkr8zCYwkPCuN82MkLKJjwYlWkMvSbgbp37vQRinDCnBEFMz5MzN3YXXxnn18lJjBGd/0xu3R3Al6kYofwcJdkzo8XyrSb2wJKnZGTa5N4hJ1UVGOHFAoRTu7ZGDP50lGnMlalqV9nJ2rVn6+Ukk8XyrETSLaBNLy9AgQHHh3Lro+WXajHXzXdr1JqEhJgCoqJPq9pFsxf9zU5lUSciwsuBhpqveJ8+bRY7p2kzAeZwmA7iuhPyOEHBoZ2j3keyjx1RpFY65AI0abFZYaWxhg/WsYFf+juc+hHkOaphB1Bg0eDiar+WOPvzwUTWIbDuNHQchk+/nwLzGGAZNA35Hy3CQ1VR50sc54DWWx4I3QX3Au5L98vYOQioEewW52AYTA4HWszAhCr3TnMM+Zcx9IBCI2G+Zr8fFkmwz/jxJAnDpNhfD09yrhX//wZP6P6Z1gHIN6BXuWVY0yDMZaThcblqrKyKPh3ODGYIcFGGRojylpPcwp37g74lynjX5TE0BTVMQn+QGdaxQIoRABKFYhqhCoAJPQO4WOtjT0KnNpumi1Fq5PU2Elwe+dCnxzAOHxLbh+AMXxBAKBf2QvgMAUR4PDtIHSu67CocZDjJ9VvG99FmQkUIodRqceEGFcfvEOirTKlCObRsCCicaofsGTtLC2Fhj5KhCCEKMeg3GCJTXOVW0pmRKhxlWM4z4dGrITdlW+0StzcJElMBLAFkyKQroMt0uJCgusAvD08sgdJYRzv6avEcTgJ50bPqFnJHnmxOko+WdqL7xC7PLIvUh6YN6C+FyoAyl+pjZZJGK/pcULlB5Ug/K5oVZG+bgARDWQW4fFUjRCCUEVC7xE2ngtLen6z9LqxfkzNx5s9cNX2gAlCwr91Jgi5aj/SV/SJmyDkin57zJMze+DCe2Dt+s0q0nZerk+2nbbK55FQ8MSJaJme5pUTmLRek+lSE82/HXTK7dOxK4myl0xAC8Y4Kq8QzEVpZNpV55bi2UgSADBobGW5DEz+IL+eFM8FjUVWZLplcwMm96gPpzIkHzuIjFbkhJkKDsq0T0IWTelzFSbELVBkzMFuZwqSW95mTTyk010bGsRXmCDLlkeoqFsGS3AXtG1nu5TcmCwn9/TLpPmAK1RvQIFytMYiWYA0Z6r8St7d3s7FQEA6K/olOjdKARKmKbC0x48a/qIC7GbidaNhBEjoQRgS7wwoJQwVMVtPIBWnFD4nnTZ1PpSLR8HHZFKBRQ6/BnPS/Y3qjXA1a3+qSTqMVF2drRKRnKpAiDMtXS2WCEMo/w9Nk3Fmwsy1UTNepV8IS2yMxoyh77QRhtgz01T6hJ4oE+5TYYQhxnhRwhDVsJute4fY0rAr39JxFgzRS2RCIYluonq+T+OY02XOcbCLUoic1YkTSDEyWvgRDeAJD42wjTevHXAzBIBYolFOZkiCCffccwGQc6UN8Rj6e2mJhQoJsIDlIr7u7iAE0Q1SdQjCP0P9bULPxT7oCRIOguhmwjoE4X3jbWhWJq3WLCjCMEbwPCwDKAeBT4+xhYOTjtxMBVTVfZ2YqlRUQQjC3U0XrokDBo2TCVXK8sV7rEolRfEe885Ol9zlSdLchJjb/a0SvzhF2lt8UjLFoZR3hAJMhq4aHHd4PvMxnhJmMC68sQHeHYAg1R3auMUkLnovdTN2HBHibf92QBK/PkuNyatQ4kjFxsYDFvnoEo8aw988aFXG0icOuCR/CtR/KA3kYzkGXzsrIJufg6/R9CRlKM3xk2bSvBw+hslaLIPswvfBkQ6H3ICyl30AIhzv34XnB42x323T4PptSBFjyQuVI4Qft+ZoiVGv4e8E15n4HqAKhEA8h0lj+B6gMvDN0/jemORSflOnAeenoEzyoaMxsgrqEhp4Jzh9cgiv8VGAFnqR/GLx9ecbgszfmT0wIXpgIoKQRX8aH0XIzgfM0pgJ8SG/gi7CBCFX0JthnorZA+PRA78/uk5+sSlS7RhyEkoJMqEGVSHbYMxH8zruIHJnkFG37YhSzEG99ramSJS69MPAzim7T4gsmCxysFKLs82Ap4dKKkDsIyfKU3J5PJdU96LuGykBLJXhpJ5Riy9VR8rkeK+CIZzIshGGEIwchXHpiVOaamNxvldeecMtgVin5JU4pOYQJs+YjGfNgAwEja+7shDxjKilp1qj8eQAYIBHFqyOVTuejz3cLXGLUpTkm837epV4Z6RJQqEGQhrrvGrndC7MT3fscItjW63E3FskkUhEoJqEICQR53eqzS5lKV4VY0lD1o5+izT86phEfXyyFGRZ5MABj9jqesT7xgGhWSphCBdW9PxgiQl3gpUqBFBEb+GUIVwUUmavx+ryscbFV2hCBX+vYEgEkmKQcqFgSK9bPN1aEo3RK4T/5jkZF6tGGMLfKyASBoacfTGR/AAAIABJREFU6zMXLs6UoMTPeqkxtAsFGxf6vHOe2tWmFhkt+NAvmAAEi3bVjKqawbSfgG/wdyEdNFYIMtq33hoXo6AH4UQgBsBzsBxGh22hKTE6BLFlp4qvrgXqBBgHwx/E2Iw/M37WVQkZrl3dJxmp4m3E8wchCD1FILVQY4vFhT5wA0qMBoJk4H6jwSnK3Qg56T9krezUTJEJQdjXSLrz9KKEriRbxWpzbGAZXYD+INcVqLSrulq83tEOKURp3unjHvnkSp+8gwhyGkE/jzI/lvPF4hTpuUpV3ta6CKX8YJuT45UjLZo3R/UptyQjcpyqjrx8gN2HyyXpviJpOtIrM5fFoFTFLU/utMuHF2mlMS/stSlVXdVxDJCg2EUldjWOtu/vlFlrEjS1BcpfCIX580yIW/oAPQY/LgDa3qAfCP09FqCMpR8KP5qgUrGxH/4g/Dkbv1ueOhghH509oKKAa2G2vac1UoFwKlt0DypCEJpXL0sfgGJFM291AmzTlPXmnH6VSLahNlJWZGsm2VSD8LuEyTTFKLesgm/UNETzfnLyzaP9GJqPM3vgquuBiQhCFv7PM+NSGrPr03dJTU2N5OTkXHXvq3nCV2YPmCDkynxfzLMye+CCeqDgV2/Lp5Z6YETnU8ku3FXj5JM7cW8/1yWLb0uQynZImjM88PhwKJ+Makioj1bCwG8q0xMsyliPYIS7i5GYpDK1oLwK0AA15flJAdm+zycJKGchzJiEHTwa+jFKdzvKTDhJfq0mUk1aCUJmYIKspw3wXA42oFYdm9WcbJdlIUby97WSc3++VJz0iIXF8Ph/8YooqWrXyl6iMM8+8WSdZH8wW+pea5TMGzOUd0gcIAYhz446hyqNycnGrilKaLij2b61RdJXpkrDgR6VwpIKP5DSDJgLYm2x76V2iZ+XhHhJq8Rg8aHLzwlDqCCZC6VKJSbbLOfZAxhERUkSjANbW4BJHj2monQZielpalYeAfQLcXm6gykyRgAS6hXCNzQcDHHGJwVNG0P9QtRz8J/e7PmZSNLov2AYEvqhIhwJDCC5A6UKegs1Tg19DksXzteoEAjE4X/Ghg62i4EaF/Pc857olQZGxgo+zvsmDL5HlHGhjaT2ON+hRmOgGvp8HYLw56Exzfx86eUx+vP01yAEYSkKI26VSWpigng7NPBHCKJAHkpizgVBgvfJIARh+Zi/COk0XW4FQQIRdvE0DKUsOZPg/4FBxlOnKb30MhkHIIhycuaYxP4DBGFJDBNgCEEghlDN29qmIIi1skMpvNiUyuuuuWIFRMm/Llkq9vdL8VzAWbwVJXFuqCucykNpV4VVpuehDBDjbTLG0FpAAC9uQ45Lx457pXSyXY1xh5o0+EF4SxjNRnhCEGK5pUBy82zKzJTjNdNY2Ai/39oVkPxSh/IEIQTBpUtVjV+K8xHD+3id5N6ZI9WvN0v29WmKm1GFx8axmyoVxtzWAkBQEdIBWM6EmwWpiB7GYznWM/GF3iYE4PweoeLjCL5zVsJMlQaphzsiFAjRTbI5/tIbhYCDx3thv0M+Mg/pP4MmwjOQMPZ4eQw8STyqxHIJ/EReRdnNXYV9CoQQ5t9Z2C+74CPiwPfSF6eaPiLnu2/N3129PWCCkPDvHUtjTBBy9X6ur9QzN0HIlfrOmOdl9sAoemD+E5tlaYFHpZ8caIuQqdgVfHRfhNw7yy1P7HXKmule2XzKLitKIUfG5PLA01jIL0xTNeKsV2csLUtcqNSoaQiocpBFudpElKZ4/JNGp8mYBDfAlK++jnGT9GVEuQkm13Pgs8HHEJwsy3DhT7+q8X6tVjM/7URNOM1VOZkmZGlCzOMzBzCRxaS8s2pApi+KkgasG5gwU3HMJQkZqEV3WKQI4GL3Ib9MK4OZKcz1duLv2djdbESdPUGI+0yPFCxLkJqHKyTr44WqlIUGqFSB2E5D8o7zy74xXWr2dEvKNMjt4dzXva9dEhYkKz+S5Jnx6lqd2EQnNCLw2VeDRAcsBmgIy0jhyUhqWLfPqnxSeqGE6duHRU8lFvf0F8COb6CpUy2M7LYIGKzCIwPGiJ7jWuSu3sLBEP6OP3cDoOiN6hJK60MbJfZMozEqQ/iYcNG6xueGgwfWkiyxNmmGj/riUn/OuWCDvogNqw6BPwNh0FnnjE40ps0wJcdPV8bBdrFg42KfP4rb6vwPGQmgjCfQuICTvRBwMeyzA58WphtdSLPGRImvt1fBD96DRhUIj8eSMTbl1cF/9w9BDR16nPUnlUxgEt4e7f6wO6E0QVQt43fZvC2aEstWnCW+cs1zhNG4nn6oUabnK9NSgjlLm/bavGcd+YCZVUP+JLzP2HivEYL4m1E2lobkGqpIEPFLY2KWuilTVNw/VJVINAYxqkIYd4t7332yUiKys8WzFEbPb1dJ4TemqpI+GkYnJFikOI3lgChtwbU8s8smN871q/GRpX5U4H1wjlee+Y8mibs1V42PS/I9sh0GqoTGTRuaJWFZGsYNAiGL1L/coBKzclJQ3odxmo3wQ0952VdpBbi2KqVHDMbWYhibbvnvein4WJ5U/+yIXPOjyfLOYy2S+4FMlULD18hJRhQ5zi8AysP0lpXwkFoPI9OFKS5ZiTJKghyO4ydQokID1UdOx8p9RT0AMPT0sMqb8IhiwhjHfR2iMxWH16f7ltBzhCU7Lz7XJ5/5SIQCIoTRMwFBnquKUv5S6j3FOWyHenE1vjuSUaJzDK95W/6AHIcZ6zQ8dkO9E2azfgXE2e4qvEX9aTazByZCD0xEELLgofFRhOz+jKkImQif8SvpGkwQciW9G+a5mD0wyh54o/YV+fXRWDl0KqAiYldDkfFMRbQcrMZ+PSbqVDD8y5oB+c8tUXLHbI8yLT3d7VTme12YtJ466cNEHLuRmIjSsO+vGwJSPDNSAQ9CjVf+o0GmfyZPGsEUuBOprAUw/6eNwEzsCr76bLcUrEJiAnYoGc/IY396UrfswG4ddxSzAES2NDrVBPh4o1W+Oq9XARKCEE6UHwOscb9ZK9M/lSs18Blt39kmmSs048Gebr+anE8uBoBwa6qQ9Eiv7MMOavuDWkxkd5cfO43YvcyxyAAjHnFux3BN2FaVtDkAElgbpKdg5/NdlHFgBp+aaVfS74Nf3yAlP7tOKrZ0Ss6iBEmJASDB5D4Jk+1WAB994cDzIHA59c2NYvnEUsmf5IQPiT8IQ1zlGvCgImQAUnkFQ7BjHciMFXclIh8GW0Q8fAngR0A5vbGFW8wbYYhRJWKEIToAoTLEW9Vwzk+LIw4xv3izQtM0dBgSzofhnDAEC05/2/DzH3YtYRQiofAj3ImOB9AYj2OM8pa74h82HgBElXr1DC9H4YWPZIpKM1S9KcUHYmQJE4xNTyWyJcSJr1ODGvo5B+GHbu47qARRKhDcv4Qg+mOV3wdACw2Mdc8cHYKo8rHOgSAEYUSvhd4khJdooRCEHiC+Ws23JxSCuBsaxZmXLX4YLel+P7yfWZpmT0GJGyK0lWFyYbZwPGDZnB8JMcgYV0kxcxdHyLvHAgqkEoJwjOLY9/q7SOaCcm3ZJJ/0wpepAgo9+oLsxuKe4x4hCMc2lg5ugmE1ITEhRXkDyuTwuwywmMMvt8rs27QULHp5sBSmGoqSMiSv0PNoywsY366FDxCOw2NOhcH1lndc4ny9QmZ+r0zB5QMAvzwegXBsZECZmvbhOFQPUhFCKEG/j69P71LqQqpBWBrT5rIoAPHtN2LkH5b1Y+y3yxunAN1LYSiN5/I6CZKnACSztCUVcIVgg3/n9dOHqgYeIdn4nmHjz9nYF3zuXIAXJtSk47uoH8ejf8gheFqxRIb/XpgGlQwUfH+tiJFPT0bJIq7Rg++AHMCZdTUR8n8Wrrni71XzBM0eOF8PmCAkfO9QEWKCEPPeGe8eMEHIePeoeTyzBy5xDxCCbGl0yD4oQO7M75O3GyJlLXw6TnXZlCpk80EtFeUfVrtUlOGiEr/sKrfKKiS1sDyFk13GL/LfnHjSg2MmJr37YUrXDBO9gmyLmrzS4Z9QhKUyVIUwUpE7eKxFJ1B580yEZGOCXgS5MzdIeWx6d9yS60IduA3Gepphagyk069uC8hPPuhWO3txSJmhqd7LNZoXSDfWXSxLiYm1SlJsQOoBRqjMoKEfjf76ICbIT+ROKtIMAFYqf3JIIj87TbqPdcuM1fFy6IRfSkthCAjoMW1upLR2YNdxc4tMWgvlCzhI9bEBBXnoOZIQrSUiEOywj6IBeQhDuGu550hAFk5jaZBWVkAzV17/S7+oE88SeABAsp9UEi1db9aL7Qyk8NCau+rqgu92ZMygGSN8A+groLexwBDjR2dYyQzMVbmIozIkCEMGvRCMz7Fnp4u3TpP+nw+GMPbX1zjkaaIf40JgyPlKZS4XEOH5vx+hyMXCj+D7jnqMcABkNEPZSBDEGMvMWFx/ExQaIaoZVaIFHxESAMY+h/qD8PEKgFAFAlgTFoKkpgypQ8rylG+Pu6v9nKkwhCCemuEwka9DU2NCEJbAcOKtN/qEUH2iQxBnbpZShhGC0DiZZXOOuZMg5ciURWWav1IMxhdCD44lHFdYcnegQoMgR2E8SkjRvqFRMm7KlAYYoTLBKh7JVoQge+tAKdCafrpdEv5piVKDpOHyCUEyr02VDCTMqBJGjIm6go0QhIbPkRg/UfEmbW1+ub7Mq+DIMRic2nH8zFgNWtEfhCA7Bcds74ESEH5RVHbwt/eiHOVPJ2PVWE//Jyo5pkOJodQgABOvoGSFniH09CDkePmwQ72OnuxFmMLYcp4bX+faHM1XiN8fPBeq7RjpyzGdpTWEIbORQMOymydPxUh+vA8JMi71nUNQzahefr9RDUJIQxCiq0G6Acvh/ws1pBdm3ZFyb9GAzEtdO5qPrvkYsweuyB6YiCBk/h/GRxGy53OXRxFSXV0t3/zmN2XdunXS19cnJSUl8uMf/1juuOOO4Gems7NTvva1r8mzzz6L+aVHbrrpJvnVr34FI2t8N5jtqukBE4RcNW+VeaLv9x7484nX1I4Yd7+4K7cMPh9UhVS3WOS6YrdcA38OqkJ2QmZNqMAUgM/P71dxjRrYsKr69JtgSvf86SipO9ov96yxyrP/0y6Fd2RKRQXKSxCn2INkgflFSHR5o1+mLEP8KoCB7r1IxQhCEeTDs13yyLeqZMm3SpXahDXiu2CO9/HiHtkKSfMseIMwVrcRAOUQXvOtnX75+Z2MRkR5DCa9lDszwSYrwa/k3M3dVLH4lOw7CZLuPpSiUPXBWnj+LD1Oe9yxcg2OsJSFcZMdHah5hyqkFvCkIB27puASndUuyZ4aJbUnBqRsTqR0Il6SC46OBo8UT4+Qmv86Lfbbi1R0JEtmEuJwHEjI06GEP7i5R+JLY5SvCCfrNAOcjmsjDCn6bKGc3NmrYEjPk+XiqqhWUnhLS69ShbARhigZfjuMEw0qECZOuDq0iF2qR/Qd5pEW7/QwcLe3qefpZqrDPEPCwRDDgpDPY7qG0QNEnUNcvIr5HBMMsWgLs9Bj6fflSN4h57t/R+qHsdz743mssbzu5XzseAEQnvPFHIsQxBaDUhWUw6jPGoxRaZCqN72kin+qFSzKSViWZUtODAIPluEwcSiA3ysIgs+mrliyFmUorw1fR5cGQdoBA5FAc670JJbE+AsSgxCE6UwEiGwqyaUAyU0VdeLIxp+DviD6uTqTU2ByikjdQQjCkhfes3yeHfeUOn+AGipBCEFUpDbghw5BnHNKJXBNloIgbDVYuFNVRj+QFkCQSfEeBQyWAEwfglfS4jz8++E2WXJfmux88Iz44GXimJksS6YE5HiT5qXUcaBTVt4aK0fxeKpE2g53S9a8eHq0KjhMjw6qLNQ9jTGRr1n7Vovc/KEE2VNrV69B8PDmfsCCLZofE0HIjsNQZsAAm5CGCTTLUV7Zie8HB0tZAD1cPqtK1CJcOAhTVHo/sRF8EE789/E4uaewVw5DKbKpwoFkMs0Uld8xbIWA41R9PPe512XSz26VxCgtoYvnyujcaQAsjN/lOS/FsV+BrxRfk2oQwhiCcn7XUV1IyEHYoatBmFzzWk2UfKioV30XUhFSgPhdqkHoM8JzfvBQnII435lzw+W8Lc3XMntgXHpgIoKQef89PiBk7+cvPQhh/y9evFimT58uX/rSlyQWaWYHDhzAmJkp9913X/A9vvnmm+Xw4cPyi1/8Aib8kfKd73wHMNsmu3fvFrtdmy+Z7crvAROEXPnvkXmG79MeWFfziion+favXfJ3D0SpieMMOOYfQpRhFnYWuVN2LXbxPvFYtNgirfIxRCbOTfHIPzwfJZlZmEhjt+/vFvTL/xyMlmswIU5FXGEN/Dyo3FiV2S9PH4uE2kKDHpte65XEGZpvRhcABMFHHgxIj+8bkCIkHzCZxQciwsQVpht48ffbSlCz3elQNe8RUIik4/jrKqPkntI+2Qmj1FsAXF6tjZIpWABUYlJM9QkN+AhHeF0EJcfw/Fc2eGT2YlwfYAgVIUwuYDqNF4r2DFVZggUS/p6CCfjJGtSpI843pyxS6je2iOetdyXtW9er82ZreBEkZGEGymqgECn3ST7SFWprfAoMsVaeyTQFs6JV37DuPpAYIYXwGnFip5QGhbOm2qQF67jJqT6lPqFyZmkpjGdhWMjn5KViBxM7pAeqLNL32CmlCCH8GOjVYAWbUoagBdye4CKM/9bjN5XhIrwGXL3tweeMZfHOEhqPu+e8dwUXbty9diRDyt+mnRt/5msdek36mgTSYlTaBReeoZG5KmUGHwSfS/P3OCtS1wE/CHg1hLZQIDJSWUW4CxlLf4xleLhUxx3LOYz2sRcDKPgaFruW6BHwQgplaBd73FD4MZbrIQAJtPcEYZoqJ0MZjQIghlQjeyw+e5SZQSVCQKKMTmFG6q3RTE31eFyaoXo8PUFPEJaM0fuDAIT+NQQsCrwMApBw5+qM1lQmVH9QveXqalPwg6UyVIFYIFPQISajsglIdNNkV0O9OBaXqTQZ9y3FsmiWTakzcuA7RJPpQvh3cPzi//Rx4u+olNh4Qpskp6Fspuo3p8S9ukCZRU+Bou3UGZ8kJsJ3A+MwxzWaRhOCtJYPSFJhpGSmWpQij3Hn/DmPxzGpFuUkVJzwu2Fvi1Ouy+5Xqr79AOEMeqIfEtPCWqESiY/X1Hcnz/jh6zpkYHojlBv/BchxE+JvdZBdDHUGWDQMSzXD1P89FavAxLxUt2yBhwkbgcshvE7ZIDymymM2UsX4fZML1QrP9S+felMW/sctygCWby19RmailIcQhKqS+fCb4vcCVSHgUQDRXvW6h+ELQsjCkhhCEH5/FEKVQgDCMk/Gss9I9soxPI4QpBnll7uRtMPH8HmEJScAiP551o2j/aiajzN74D3tAROEhO9+jtGXA4Tcf//9MN+vlrfffhtKxPDm8Nu2bZOlS5fK+vXr5YYbNOB6/PhxmTp1qjzxxBPyoQ996D39DJkvPvoeMEHI6PvKfKTZA5etB/525lVVQsLJ6DYswn/1P1Bv3AfTT0zqOFk9iknfLEz+WCJTionqv66LkjWz/XJ73oB8+bko+cwK7DaeisSEl2ADfhvpmCxCpfFSRZSkxrCm3KpKSNhWFrpV+cumwxa5fiagyFGbDLS4xZboUBNyPVZRhyGlOBbr2pflIKkA6g5ulHIHj6Bl3WkAkBKtHp+7eZsRExmDenQ21oDTOJWNpnuc9NZhokwQcu0Kp5osE5ZQYcIJLA0EqQYppA8IFhKnt3ZL4eI4qaqEoV89TEpzY6QMPiLvfv1NsX5ypWTmO5Sqg/+23XuNZM+IAcjAJB4Hzcm1yuldvbJsZaQcqcWOIxYYVKD4nzop9o9Mluwc7bW5Q0lfEkIPltJkgWlU1mPXEjBkw2GrZGXbJAmLAXqi9vzfTUoRQhgSkZcjruohbxAFQ/AFykQWfUea100Ywt1sLrKMMGSkBbqxTEb/EBqVIfrCMNwHlDAkgIUeS2bCwRCmcJyrcXFKQ8sLaVQB+H3aTvKFwBA+b6R+uZDzMj7nUh9/tOd3sXBiNK9zsa+hl8AYFSDhXtcYi2uLiFLlIwRtugpEf45e/qIACGhqMB0GZqiKtrJBtaSrPxiDq+AOPJA8fUOJRI54wBXWwOUkBg1QVbQ1IArVVEZjVGNcNQ9vszqUikUHHeqzOghB+HejeisiQfMw0iEIU5EC81GCAwhiu3eSFOWj1ASggRCEygh6F2ViTKQZNRf6f93nVMlbHI8JJBhb27+rBfHbseJcVy6JX5kuLe+0SNzCFKVgI+Tg+EvVmooDr/ZIYrpdirMhjMFin2NUaYpftv6pQZY+kCl7z1hkViFKC5n0gte4eZJL/rrHIfkFNmUm7Wr1SGyWU6Ix9jGWdyPGM0IQQgs2qktoinqqyw5wQJPqAMCHTwhC+D1ENd/bDRHK4PUGQJbfHYyRW1CGwhJNQh5+N/Vi7Cbo2N8eoUxcdzY4ZWm29n2wH49jCM+dBX2qDJOqEIKLnfCVor/HL7dGySfnu2DgbQeI0ZJnotBHcfguIBCJxPm8BtUHy4yoKKRfiQf9yscRyH8cAP6buxPl6zO6FAgphkqEkOQH2+Lk5lIXvof4/CjZ+IHlo7ldzMeYPfCe9cBEBCFz/+sZcTJ2/CKaGyBk3xcurSKE5S5paWny5z//eZj6I/S0v/e978lvfvMbaWlpwTxlKNlv3rx5MmvWLHn44Ycv4krNp17OHjBByOXsbfO1zB4YoQe+sGWDMrLjJJS7XTfnauDgi7/wyGc/Ga0m2FOwU3YaO1yxmJwSEJTh3//6G5fcfE88jOi8crLLqerEKctmOswNxS555USEXFfiVjt6j8CotAg+IMuRCkBVyO2TB1QJyIbNHixWnJKCcpSmchjrJaN0ApNMlsvQMJUGrJx8M66RO4w8fsWeXrl1DbYa0QhCTiJSsbzZqmDIJkAQXRbOSTGTBD4ARQhrzglBuLPHCW0VJr6vHnPI4mKfvHPCpmJ8KdPmxPVNTNbZSgut0oFSGL4mk2P6a/uR7hApC6aI7P7JScn7WpmcPuIW+5EWKbgnW07+yxsS9ZXVEoedz1xs4h6vQF/V9Mn0ZTEKshCG0JSVShPbsycl9x+xq4uXOn3KJ9OnaCatBB4sOyIM4UKGu7BHygMKhtCU8K1DWOz8ZrOCIVy4cXfY2HQY4untVOBDb/quM/9tLJkZaVGuR3vqx+GCTV/cOiKgEnENlSSE/pvP0f1DCEMCbd3BXXkqPayx0cFyhHAfUS5CdeNVo+fDaG5oKkQYqWtMkhnN84yPGalvxnq80Tx+vF/zYkHEaM453GPG43WNPiDnOg8CEDaWsbAZIYjxOQp8wMCU8bjqc2mIyFX/tmveQYQgTGXh51pBkASoR0Bd9ZQY9ViW3KBZnIAe/UNwRAeHxtKYcBAkaILKCTpKXYaVsxlUW4Qgnq4O3AMeFZ9NCOL1u8Q2u0gcy7MUBEl0+pBk4lNjaUe/RRYDKnAhvrkpSinLlpQgnYpmqYdhFArwWr4RPkNQwxCCeJbmSuKsBGmvQnJWDhQyNEstBgyGQTQhyCIoLpj+lYSxmd4Yxx48IZlfnqLUbvPLODZp4CgJJZDrDtoUxOXzZhXDYwTjbCXKHv1dHilBqSCB9jQYn67f7JOPXA+jVJwjU8PuAqCg2oPxtVRrEDSUAVTwO6O8G8oSlMjQ84OvxXQZRv5ua44Kjoss6amEcSrjc1lesx4pMLci7rYH0HtHC6AormkhInFzAYrYSmF+ur42Uo3HBCH8PmAjdKEPCeEHvaYSI2D2iu+4o/AnqYUqhd9vq/AaXRijo/EdQTNVXiM9TKi4+TM8Rvg9Q0B/BBsGcbg+lttsppdWXp96f+ZCffL5MjN+91z3svnz97YHJiIImfP78QEh737xLtm1a9cwH444wOz4eO3752Lbhg0b5LrrrlOqjl//+teyfft2SU1Nlc997nPy/e9/X5W+sFHxUYdNsHfeeWfYS370ox+V06dPq+eZ7eroAROEXB3vk3mWE7wHfrzvdfnjcz752r1WeRsAgealM2EeR1UId7zexST0D4+75N67UWqCSSF3HfdCJrwYcuGf7I+Xz8I9/1vPOOQDy7Sa8V1IbLkhrz84wf0/22OVh8by9AEcayi28EyHTZmFcteSqpAdp6B6yLJigq1BD06m+/v8avHPvzc0YAKcghQE7ESWt1rlhkKX/O9LSK1ZHaFUIUXYDTyBSTUBTQagDIHOIzsdcsMsv6pV37TPL/96i1tdFye1hCLlmDxzMlyF8hk2fVJPGLL1KEpx9jVL2d0Z6necKrN0paMdYKOiRyxZMTJ9EowA/7/jUvbPU5RvCMtjCEMIa1qaIW/HeZdAVVIFD9H2E70KhtAz5V1ETNKLRP52UlK+MEUyoCZpwlqqvg4+JEU21J17FYyieoby7k04l2nFkFlXi2Szj/A41y6U12wv16I1w6lCIKNnGQsXbEZliPHjfClgiG6oagQijoQktbuuFCJYZAbqqExBDT48GWiUORIMuRgwoMMQXvfVBkSuxqEnHPwYKXL5XNc5KgjCpJh4wC4YobIxGSY0opk/JwTx9g0BO6MfiP76CoScA4LQsFhXgygIkhanUmJ0CELYwVIW3STVkp4gnoYmccYkirt3yMCYfiCqFAYKLSpMjKaoPA8apRLo8L6mKoQ+O1S2qP/RlDdIZJI4vzQT0bhW5ddRhbGUXkbvbuyR0uXxasyoBOQlcKYZ6AmUNGYgTYt+IYQg+csSpeaFevGnREnM1HjpqRmQhPxIpQZZMTUgbyBdJiPDqiDIi5v8kj8V0ABeG8dRzkJQsnSqVjbI8ZK+UDfN9MmuOofUAY5872YXIEOUAgRUn1Rt75SMuSh9BNAmjKBPB9UefO5JgIE0jIcc/2l23YLf0R+J5SnDcFGqAAAgAElEQVQcpzk20yT1IEpfWAJJT4/dKL3JwvXthSE2/aEalGGr9nwqP+anDMgWACD+yXj1kzBqTYsLyPVZ/WepQVjO+bVXo+WBJTwOXhuAhGUxh5EUMyfFKxXwJeFjXqqKUOdDz6vliGpXihD0wwok7nA/9nv7EuTvp3YrRUsq4I3uM1KN7xk/QDbVICy5/MxMlG7Cx4rfT7sAaNbfbCpErsYxbiKfswlCwr+7VIQQhIQ2Aoof/OAH4/KRePzxx4WlMQQrX/jCF+SWW26RLVu2yA9/+EP1/7e//W31OiyHicAGz0svvTTsdb/yla+ocpkTJzAom+2q6AEThFwVb5N5khOtB0o+/Kgk35Wv1Bhv1kE+jnY95MaEITffGKHc9KMxSZ2DCSDrvqmg2AO5L43j2LgLxl277SiboWnqzw7Gy+cnd8s3nnTIr+/HpBF115zsTgVQqQZguB2pMj/eGisZiJSlskErQbFCsYFJba1DilL9ajezHfCBP6fMmSoKmumpMhE3FA+QVmdPiZSmJyok9rZ8KYEQgqCA0ObpTQFZucgu82B2R3NVHYYcrsNEvgD12zDVY8vCOfPYTBxgPGJtn+YVwlhdTnLpLUJp9VM77PL5Fdqk/OkdqGfHTmjn/g5JmJ0onYe6JAF+JkoufrAHPh+RMmumXcmyKQmngoPJCli9iK8wAaoQC/+qTFTTSyOV8oNxlG14zQ6UB3FyPNA4IJlTohQM4W5uUxMm0lg0JCZqiQ9ccKid0xqL9KyrlbQ7c6WzMyCziwKy/TB2pB/aqcGQwjx4G0CGbkyTQcSux9sHNUvsWTG6+uc6NKFirNDBWCajH1PtoocxliQcYdkAvUMIRfwdmmcDHx9IjoYJJN7D85TLjPXcQu/dizFVDTcOXOz5XK1ji8U2ZMZGw9HxbKOBH3y9UHNU/iwchLHlpYuvWksz0hUgRs8Z43OC/h/RiMFGCYyuBgFJVeoQvRTG6xsQhxNx1W78DACEjaCEUMSRma4ASLjG19LL0owQko9lYgw9QNzN2nMjHDBfpdeI3akULDrw9KcD1izKlGIAU6azEFDoMd5c/FMBQVjB8WUJxj/CAI5r9EqqadVMngegSLPWd0v8rERVqldfj5IPQubMgBxELDqVG7fM98u6l/rEVo0yHAxi/rw4cbxZIfH/z0w1zlGFdwRGqozn3bbFJQFkjX9vrVt+ty9a+SsR+G5a1yv+jBiZM43JLC55GyqMitMe+dJ1gLuA7ozNpRnquwDrjBEnYOB4V8K4Wvyd5YIE2kcAchbjcduanAAhEcoPhCoYpodlItKXEOTtCsSoAzTwuAVQllT2OmTXcUSul6LsEhBkS1OkrIGag99pLO9kWScNWDn+szRHi173KZ8Plrbwd/yu24rXTKKSD8bbS9JdqkyH3h+rAEF+c0wrGf14Sa+CJnX4TpkPxUsXvsueOBMjKzL65XWk3LDPPzNvQAEdHYLcmN2nvLf4/tDM9ScLzOjd8RxHzGNdWA9MRBAym4qQ5IssjWlrlv0XoAhhuUt9/XDFbrh3prS0VJ588kn52Mc+Jvfee6889dRTwYd99atfVeUyHR0dqhSGIIQGqS+++OKwQ335y1+WN954Q/mFmO3q6AEThFwd75N5lhOoBwp+tE5Wr4qQw/U25c+xB5NKtnvhgk/gwZ04Gt/RfJSGbywf4S4X5cM/2hwjH5wOs1BMFoswUSQIacFO3AfzB9Tk8Jv/1ief/Fw8gIRXnoc02YZJ7AnUTxfAxZ+TW+5afnhSn/LuaMZuoR4jW4gJKCe2rM9+F7GNJZhY16HWnJJu7kq2tSIRoB212ttgRsoa/XmZEp1gk1x4bxCqUALOKEfWitPdnyoWSpgpoX7uNbcUL45V0uiaP52Ros8VST/UGrcV9Us9rpMTbRr8EcIQrFB+rScMsF/2YNfx0FGfgiFs7TD7y80H+EDkbkc5zDqTsYCH+17JVNT74yHtWHzwtdqPdEvG7Di1wCAMyUFKwsl1rZK6JFma93fJyptiVFkOr5G7prQfcDphaojv6lYoS5RaBI0whIBlZaFH6rFjSRjCRQrr/XUYsnWHR5yvnxFXM2I3CUMg6TeWyuiL9QhAEaP8Xv9Ys8xFKTWo50Yyhsd3tglpuFvA6GcQzkSV8EXtrqNDPN1asg1bUB3C30Oeb4QhXGCq8gU04+596OtfLIAYbyDC87vYc7qahpnxKHkxXu9o4QefQwDCZkyI4b/DQpC0ZPE1D5kJE4Cw6elDwyDIoPmpfl4s57KwPGbQ8Jc/JxgZBkHyEVUI6mBp61cQZFjsNL1C8NnX1ViMzJV6GJvSsNiQ5MTjsoyG5TdGdYi6L6FQYSqUKonBvRKId8LYFPfTzDRJK4wIAokNG13ysVuhqgMEYdJU52D6CRUXhMXP/q1HIssScTqAJoAgzhiriu8mBPF4oV6rdMmChU4pb7BIe8WAlMyLklMnUSKys06B14Z9AD6AILbPzJAFpVrk9zu/qJSyLxerv+/dDyUIIAiVdjRJZSkiQTJhCUtV+B1A2LDhNKJuS91KLcjvGI771RjrqQ5Rcbd4znwAk+UZ7qBR6T54eqxFmeZeKDuoomDy2L5WpzJqpXKPEGjbU62y4sPJUIxoniBUXdCX6ndbI+T+BR6lPGHaF9Ucx6EwYcoZ49Sp3CAIIRjnn4zRZQmobhNDk9SnyqOU4sQIQWahFIbfjSyZ4Z8v4fuOJS/8LmKkPF+nHt9x6/BzqiP/ejBCVpR61XUdgtqEYGV7c6QC3AQpurrGBCJX0yg4Mc91IoKQWb8bHxBy4O/G7hFCv44HHnhgxA8LDVIPHjwot956q/zud7+TL37xi8HnPPfcc3LnnXdKVVWV5OXlmaUxI/bm1fMAE4RcPe+VeaZXeQ/Mf2KztMEMj7uJBCGbf1Mrd3wtU0mP2V5D4soqTDb/8gogx/wYmYQJKnfi1mQPqN0vAgbujBE8cPKmwxBOGAlPGKV7f3EvduzgB5LlkkfLo9XzaVZKlcZaGKn+eHe83F7cj/IYmJNiUkwVxR35ffKXw1EyPQsGnpiUvroT9dtlDviN+GRfuaYIyUIKDVMMel+pEV9urNp5pBIjMw8TWUzmKfnevtsjN16jRSPyXM9g4ksQ8sw+u7jr+qVwYaxShPB1OXEmDOH18t/cBeTu4y5AD+6cckK+/aBfvrHGrUpnjsN75PC2PkmdAi8LmAdSFWLJx24t6t6pwEgs1lQ1Xfs6pOTGZDXhZqRu+8EuyUDcZNvP35XEb8yRpASLgiGZK1JUdC/9WHacABCC4t29vkZS7wbEQKMShn1X3QzIA4jCPpiZoZX6UGFzplkzx2o5PSC2ik4pvjtTjv/zRnGWFYr7WIWCIYzXNXoUGGEIky6MviH6R5s71Sxb4Y70aBf1RhjCnXAuCPVUmWCqRhxUKQAhjsE/+Xo6DOHf+Vr6Dj137NlY2hBayhDuFhzteZ7r9r0UQER/rYs9tytpyBlv8GG8Nh2ChEKK0V5/uHNTqUSIkjZCkNDjhSpBqMbQvW705CPjc3QIEpBBM1V+jnMyghBEf6zxvtN/5ijIEneFZmis+/RERCaKa6BDKUQIORidG7wXoyEPg5eJDkEINp2TCsTa3Ce++8qgmvJL0SQtTSoWiVSJGJNPghNT1UHocKwZ/hYYRxpbA9K+t13m3ZIoh04PQRDf8Q6ZuzZJKposCoLkTI4EFBGprvIhotctK5Y5ZfMWt2QhIYuwhP5FBCeEIJu2w88pDiUtiPnOhrqtodOiSmJokv0WFIZMdGE7DAUFfaM4rmvJMjBCrUd5zKBKZSXKdggRagFCWKbI5BeqJWh2ugYKDvpr7AKop1owWn2PWABAImRh6oCCLTS2dmGsV0akj7bL//u1aDX208NKhyqH3nXLv94Oc1bACapBCDsIZqgGOYXH/XpThHxwPkxZB9UgyfAE4XcB1YI5+F7JxHfDhnonzlN7zwn86flxPUxY//NInNwKPxBeQwV8TDg2zwMM2VAfqb5j+F1CBUwV+vQrK13qGnmcR07HCK+dIJ6AhfCDaWrlMAG/ZtDc9a9bkejzj6tHewuYjzN7YNx6wAQh4bvSDUXIhYCQsbwxFRUVUlRUdBYIefbZZ+Wuu4YgDM1Sf/vb3yqzVGObP3++zJw50zRLHUunv8ePNUHIe/wGmC///uiBaX/aJP17UK6BlnNDmvTAxHROnk+pQgggth23SiomtVRJcHeuecCO3TafZANG6KUtjADMQ+ILYQjhCXfQWEu9EZNETjrvL+lTk0SCEEqWqQphiQyhACXZVGwcAgC5BbtjnOBSFcKdsBWYEL5aG61SZO4uG5DfvgXJMkAIjVZZKnLoFIz+UI/OXbrDx7HzipQES59XEpenSRJUET3dmFwCMHTB+zA73q/OjaZ9bkyIN8Lg7+YpHnl8E2Ig47DTOFlk16+rZOoXCtWkell6v9q11Cej3JXcxl06TFgpteY19kOtQfnyU696lfTdXgQAsrNRvNPTpGiKQxkGelDaYsN5pd6cpSTpbAqYHEfpDGQiVKSU7+tX8ZNcVLAOv3N3m0y9JVlaIZSghJ0whAsaNiplGmDKuni6RfaeCCB1xqaMVaeiVEmHIYRR9ADgcQlDWIaDmAaxT85VMERv+qIsdFGuL8L4OOPCjYsyFr9TOaI/J9zC7lx3DmEIsojVrjmbUoVQaYJkDh2G+Hohl4fk3whD+Fi+HtM8WDqj+pAwBB4iTP04Vxsv2HApgYh+bVfTaHMpwYfeD2NRgfA5TALyDX6ugsdAqUloCwdBQlVGQaNflMAQgLCFQhB7Rqp4G7WJZjgIwvuCvh1UggQjb/EzXQHijIM3SHeHhIMgjMYlcNQhCMcWRueyRUQkBEthgvfxIARx3VOmxur0ZJS4YIy04t6Kxy3DkpitKP2gKq2nVwOnu6vssqqYKSpOjDkifb0YP/H49mPwNwLAzVqcqJKtMjK0uHMq79iKSxj7DdUJCHY2/JnqnqkV3+RkmbkQqVeP1smsj2dJJQAK1WoRGLeOv9gs//LlaHmmEp5JANFvHLfLmilaSQ6/R5j0wj8PQUG4FGlfHMOoCFkEoEGowO8Hfhc5oIiLBoy5LbdPqUwg/oNqYgiEUA1yB0xVaWxKPw+qQWiQyvLCm2CQzTKWHUiB4ThOpcnPX7LLkgXaWELoTO8RPsZBUI3vuV9ujJAPzAP4Bzii2u6WXJdKFNPBDNUhLAmlImUh4A7VLvzeoGcI4QcjcxegDOa32ASg+oTmqVSYENDw/PidxRLTJ3faFWyhYpHfJSwB4ntFw1ejGoTXTHjPnz273SLZUB5uv3vF1TRsmOc6AXpgIoKQmb95elxKYw5++W6pqamRnJycS/ZOz5gxQ8rKyuRvf/tb8DXo/cGymeZm7I6h6fG5LIO5/vrr1c/oC8LnmfG5l+ytuSQHNkHIJelW86Dv9x5Yu34zogixM48JFXfUaLhZBXNNHYZEL0hRJns016tFzXjjGZc49jZI5K35snaaR03kWFpCqHAtjvNmfZTcCeUGXfA3VkfK1FSv2sWiZwjLUFgew0nv52Ca+nf/4ZXcFcmyGmqLRZgkUs6sl5xwt+84JsCMP+TuGOXLe2ts8smZ/bIBO3Y8l9nZPqnDJJLKE/qEwA9KcjO13TW+Rgsmo52dUIdgsu9pcUlqaZRKc2F5Setz1ZJ7f75SftAvhF4hVKTwOv60wSpfvdErr9VBaj5YV89JLXcs2Tj55CSUk+gz2J3jub74XJ/848edyj+EEujn30XCCRYS/ZUwPV0BuFEFCIMd2CYsJjy1qKWv+v/ZOw/wuqoza3/q3bbkomZLsiT3hisuYDAYU0xNg0AgCaQMmTQyycz8pDIhJJkkk0kgyZAJCQkloSWAA7iAu41x70WybFmS1WXZVu//evfREdeKjW1cBoz28/ixLd177jnn3rvLu9e3lvxDrk6xw6srLeO6/pa3tdFShkRYcW6TzEDDXMlMxJ+2Wr/7xzsYAvAgHpiWd0Byc11HvYDVgJkyUVQL1kqAmN3hg/UaYgHF+a2Wli21TKzUJAIheyWxzpZEG1XLYf0pLFTtf7nSJAAj6/Y67wLKZfyG8SLJEzQfbgRK9P2fsagLTU+yoOLaY4CIe57k/vgiBDaeB9ggyYLnElXaWiUPEHkooA7BKJPGQhb5kO+94MOSwN13SnRaqw9bKDGmnZ40vmeIH3n6Tt/vE4ER99pq3RfSJzrWuQYjJ3xdwaBz2c4H4DjR+Z8MfJwsGtc/7ulcQ3dVkf9cH3IEwrgT+drwuoEqEBKU8O1AxQEI8f1AumCIAIg1yC9EJTD+6/nfMx+AcEwHHTFL7QQg7juiSF0+542NnvErKhAaJTrNlw6ykeMFIzbJUygzwkYmtTmjUMAzUeKU2aEgA6ju+1uphSjFatD9o505av8JeAWR5NUukCL/JvXhew4JIqgfAoBMGCGwooU7/W6pPIrwQIqIDLIK/buhVlBci/Kk3h2ufywiNUxfp1qxzsLNdfa5m4KdSSnjxrh4GbzqI0ypB39QOqDgeHV/lDMsxRh79cEI+7DiZlFv8HvGEsDBa384ZJ/7Ym8HP2Yp6pxSTY55cf9me1Z+G8SfU3ryXH6Mhes8du43G5oeZHcPqTVVC2msQ7GoZDH1///5Z4HkWTF2jcpo+DkqGcB2npQbKVJ5/GxZpM0c1WG9dTzUGx9Vwozv/cF5AUHWCPpTPgP42CGfKfytGIM+nlnv/EMm6OeYhtfrHGm9lKizXBG/eJBwLwE+f32lya6/lojfNrcBwFjK7xI0JvWV0uWgIBD3lPGmnwAJv/MhCGPaeEUNU14KaFl9IMw23NYDRs5l/9hzbJVGHzyosuOB53zBfz7utX8tox85OyBk+xfPPQhB/fHhD3/YvvrVr7oyGZJhHnzwQfvFL35heID47ZprrrGdO3faz372M+cX8s1vflNzLfn5bdjQlS5zPu5xz2uc2R3oASFndv96nt1zB465A196c7FtKA13KQJMaMeq1pqdJ0AIE9Q/r5JBqVQM+1ccsZhhcTY+Qy74BUE2a4jUGz8vtku/ONA2KjKRHcVsGfHtP9Bm04Z3aCIqUKLJLZJhUmWQYSN3pv6bmue/C47MUjnMw5IK3zu8xn65Lc6m6f8z9Tu8QtgNZLIHbHh9X7hNGtRqYzWxw4G/TT/j90iTH98W7VQhmN0VC3wPTfZq0Zkc7sxpt49f3GIvbQ+3foIPRa+UWtugXm7R3zF+gAUvL7Lk29NtvGq/39gdareOa9JOXoRM87RA14avU3sUR9iHpFxZqXvCJJV6dO5TtTw4gA5jZfzKziG7dpi2cs/+8EyTfeduvFAEQHT9QB/SEQAiRQIc0Yr5BcTg48EOKbAD1QfmeCg5Ch/JtX73ZDuZ+m7V3LPAoPSFxmMP7zhqaVN7O/m0W3wI/BwubbGM4RFul7YVRUpBs2WNjnCLllCdcKsuaPQA7Rzquoo0MfcTItgNPqD3jHNrWVliwdWNFlRRZ411hyyyT3+XZgGw8GEBYMSP8PQ/SP5izgGNzGQLLqyx5pZjwUf3x/r/9yEJz3XXp9je7kaqfrmM/5yu8hkBEJpvogoMCekbb0F1ktlDjJpanMrkTGAIxz+equCdupH/KyByIXVtJwUg8vzo7vdxout/txAk8HmhAxOttajMKZK6+9d0f92wKPl8YGAaAP9IgemIlErrkIAdpVyCFF2wTiU5+oJZc73UTNkDrSW34B/8QHgNB0EiQ4/xBAkLiXJRz3xf3WOUBNUhdVSQjFpDbs6yIVr078wTyFD/B9Sgv6FPoL9BmXFIBsooy8oXltklt/ezbQelSlhZYf0u6+98ilx5iyDJtGx5W1SGOtVaRYUHQdbv8MAsIOVIXr0rJUSFVrBLprBbyy3k8lTLTFe/6NKwPGPVgzvqLSop0q4a5cHkjUoLu0IlkCz46UNXq7+9SdAAVSFQhDIWElxoc9IbXSnitP4qx1wf4fq9G0Y2uzh2VBnP7ouxSRp3gCCYkCYKYgDUFyiNhnSwvz99xO79bIxLIftkdp1TJo5NaLWtgjsAbmJqp3SaYtNPoiLhHIDa1QIslExeN1bjpMYXktAAFYAXGnB/mKJ7n9gb7SLYUXrsEYzwVXiMDf8+5qiATJT7/WqpIGcqrphnLxUIwbuEcWWtxmLKLxm/aCP7tChJJ8SpDoFDbgNB94bzxTicMeqFdUqrUSQx5UaAkDtHNUhpE+3GF96bGxTB+7Uxcy6k7qHnWt5jd6AHhBz/DaE05nyAEF796aefdvCDKFzUJ1/60pfsvvvuO+bEMGH92te+Zn/96181J2y1OXPm2MMPPywVn5IEetr75g6cdxDy8ssv2w9+8ANH0WJjY23mzJn2ox/9yNVkBbbHHnvMfvzjHztjmmHDhrnnXH/99ad1Yy+kzuS0Lrznwef9DqQ/sMBunBPmVBw5zxTblDsTnUrAV4U8ulyTxOHBLvqwSXG0Samhzmiz/wAZhEpdEddLJqGP77Oga9PdpJpJF5PjsppgS5RqhAkl8X+3SJbMDh27WqgskEH7Jm+UaTDhJUr3/udCbczECBsjkECZzVCVmTDhY+dth6TGKBrYBRylyeYOqUz+vjXMbh7npRpMkpKD46zXpDpVpS6oNN7M1zEERZgsYgbIhLGwxDt/SmOYzBM52yKxAzuUl8kD5ZAmmamCILwuahImw3WawNKABwCPTSvqLXKgfD8WFdiA2zKs4rc5NuFfs93On98o6UmK0j3SBBoY8tyuKLsmu8kW5UdYyeZaZwaaPDTClfLUrquytiHx1rsPqhVPbt+3X7DVPLnX2ob3tbQrEqxRC5eKV4ut7zUpDojs29VswfLVGHl5Lysq7bAaXU9cnPCBJtKJksAf1ntBuU3l3gZLHhHlQAgNJQgRlHi0UFMPnGKHkZ3hHfICaFa5TujOKudfQBILiysMF1vKFbkbUE7g4jm1EG06/HatqZ9qweuEZWkxl1d0jGdIoCok0COEx/u/C4/q1RUr2t1I1U/mCPyiuBIa7bATGwqsoaEUoQFDApNkTgWGuOedZXVFDxR5564NlYSfIHMy+MGRjpf6cqJXOB0A0v0YPLf7Z84vdeGxKJZCFMHrR+Me87mUqolrQu3kPt+CIEA5i5YiRN994nM7BsRYywEvFSA8ureDIF1KEEXh+gao4anJApOq4aOhJhHgwCPEbxHyBemCIP0TrUPRtsCS8MtTrK682UJ7a3E/nDLBEKdkwwdkYrLnabSzwIMYFc8WWNhVg6x5TZllfDjZLchVBeNUH/RJ101ot1V5IQ788rOpo4NszUYZfyZ7JSSH5X+UMFblaIIkwJb6ogb1G5Euuhugvmt1rSWPjbGSXfLGkDfSJYM9hRkQZI7SwRLVV6II+cOuGLtOKgvKW57eEiGAGWSjpfZbvi3I7pja4iA1ZSOUIM7bqXuh9vlJDfaTJ1rtG3eGOmCA+gLPJ/puQAj+GqtVXgMsaRE8eFVjEqAbHytUHFsU887Y8Ls/1jv/k+vl3/FiQbSDDpSycExKY364NNLGKUmGMai/jov6o0bwBdBdJRgyXQB/ta4H+L9FZTGU0qC62XQo0j6SUede53Z5Xa0oC3NjFek4nmowTHG+LbZegAclIvc+WAoV/K4omaH8BjVMnEqZUjSu0Bg/eT8v1jkytgJC6P+JXQdsA0JyZFaOGqRSys0rZ4Q69R/9fYHuz+s98bvv3Cn1/Pa078CFtHbxr2XUw2dHEbLjS+deEXLab1jPE97Xd+C8gpClS5e6Wqq77rrL7rjjDquqqjIMZ2hbtmxx0iIa9VXkOCMzuuKKK1xdFmBkxYoVNnXq1FO+4RdSZ3LKF93zwPN+Bz70xnIrr1VZhADAiKkyOZX0uFoQgF0oYAUlIi9pRylOst2J+vfT6xVTGO8ZdFZVttucMW22WRLgi4gm1GRroKoymHiiwGDXL2OAFviaeF0h8zpkx02CGYu0K8fuIYCB18Ac9c8yR71e/h8Akys1Mf2zdvSIz312fqtdNcubGPLYSxU5+D2Zpl6sHTR24hbqWK7MRpNGIhNx9CfFhQkmk9AR2kVjJ3Fjoa5JyTHTR5vtP6Q669gO56/RVxuye/NVz675+OxxAj167DIlKMSkSYotkAAkyUz1Jr2bNLkdKu+SyQI7fyuI8UpJilSPvqvS+n003aoey7WhXxvi1CLAEFQvHG/5V96y+54cL5m0on51zcAQ0kOnpbY46fOgSXFOpVG2pNIiLurravEhFKGRqinXeQFD2vT7uoWSnN42yEqVJAMEQRHCfaw8qJpzLUR6aQKMkgQYwuMBKslKzQGGMDHmPU4eHe1gCDvBg/vrj84HGLJecnKORR388WCInyIDDOHf/+AZErBgI13Gpb3gW0BiRWfaTJdnSKf3QeCHvbuPiCsf0DYv/gnHi9d1Mbo6cYxb/ebDkC7PhiPVXecZMiDBgqq8RaRfUnMqX7azDUN4zfcSEAE+BLazHWV7snvsv/7pAJDux/RLpvh5W2MnKAh40NmCIChAOmobvNSXTgUS4K07BHEqEBmV8oXqrgRhZY9Rs/scSG3F55sWlthfwLFZEbOK3d194JhLdKVmUqE0Fxa77xKeOfiRBBoW8xi/bC0yRuooARCOBQRp3Fhlw27o7xbj/qLZ+U+oTwV+k8CFeox+AbVG/aEWKcBCrWVzlaXPHWBFhVI+6HdwwTD1W4BV1GfZiYrfFgQZlB3uFt0Fbx5xEARTVCJ5t63x3ovUMTHOh4RWolIZ+tWqQ0pgEQShtAWlxDCNOzRiZ4mfBUwAQQDki3dqoT9UZSkq5ZuqsYLn0IAgK1USOUhwgv75qReaHARpF+Sg78c/CjCxUWDh1sH1UhCGaixS/y7vqSRBciDIJHl3YHo6SmDYGzuU4KIxCHiPGnKwjkufSEIXkIT0M8YcAH+8heUAACAASURBVDdqkLek4PjyGE/xBgih8ZoYZI/W2AMEoQyGBgi5M6vWXeOrRQIaum6eAwShLAZ/EqAHZT47BfwL97fY3CkeDMGHZLdKNUlgm6HrAvKQcOP5qniQjXEHNSTvoQ9CGCd8Nci+LY0OhLy+SWPdeEEUjcXEBP9wck/s7jFfuJ7/nNEduJDWLv61jPzlC+rzzyw+t0WKkJ1f7gEhZ/Th6nnyP9yB8wpCiCJauHChkxqRw0xbsmSJgx2rV6+2adOmeYOzFCCTJk2yp556quuEZ8yYIU+F3vbqq6+e8tt4IXUmp3zRPQ8853fgvjWLbd7mEPvoRE12NbEj4nb74TB7syTCLZSHXBzjSlsyEtodwAA+8Lh8apE1qbtcnh/sWBFly+S2tFIlLn2DLGdXi12rSRsAAsDg7xiilki6Xeai2iGcPbjJmdwBQN7IC3fQhMksC29qrNmtW62J3FBNIC/RJO97iwRFxnbYG88fthm3xLsSG2TOmNL99444d25EIb4hl30mps9v0uR3uCJztdtJvCBGeviFLN8VYnNGt9qaAilHhjUqFUApLmVSgGhTjQn94ITONBjk1/oZqQWvbA1xIIff52+RmkLpB5cNarb5e1SzntHuynGQT/O6r20Jsda6NotJUL294MNRJdSEaQeTNjJV0KJzd4867b16bSbKqEoAGVfp/B9dqNjhDaUWtLfSor483k1cKYvhnvFeuJ3avxVZ5OxUqylttsTBXmRxxfrDljwt3kGdHVp0xGdFa6Gke6qyl6XrRTe0eOkjaEV5zACpX/btaFI8pxY4givECrOgiZc8nnhM7lWejAP7auezVGAsUi9BlG/VhsPWrp3liJdy3KINtUWEpJNBlSqZCTBE9T+4EccBIr5aJHyQnlemxV9AqYxvCMnzuxtGAkPYST8mvUYYIXA3/nhfGNJlXJP/AgtS32TVf2x7nRfvy05+dyhysmOfCzDin9d7CZCc647oVBQfp3MOgYkxgA/+73vLnA744jV5Ph4g7RWe2sJXGAWejwMhpMQItvkNTxu+1B29PdDRos0SWtfnGDUIDRgSH+lUIACQljLPwA41SFNdp7dHksCHUmD4zjgA0iuhywsksCTNReTqdVtb6l2ZWmRfmQ1LKYJhcMxnRlhSvyAHGYij9dVygGqiZ1/b750nfUuv6wa6ZC3nO5QUYgVrjlj0EBk7q+9o3FdjUdlxVnekzfoleb4gKP+A3Hgu5efr54IbAJDi4jYbmSXPj68vs+BbL7bUkVEuchd/IiLL6cvKdtXbxEukTlMXWam+EKXJvePrXXpLidJWntwu9aBKHP/3jRC7aFyY7drnKRHnTPJ8SOrVT9NnPfuXOps4t49TONBPfnxYg80rirbLEhucUoMSGSDIh6REpA0Q5Lh/TW9Xkvj5OR5Upy2SyoLxoo9gxI+XR9mnpzTZYqkW2RSg5AUwA1xHUfJyoQdB8ON4Ym2Y3TlFysT4FpcOxmMov2E89SEIPlvFuqZXd4fbZyY0yidLmwUCMH65i+95xbnS3lLZy+EG9fdsMozwyjJ9OMLflIcy7lyhBJsN8hfxS0aBSfx89TbTXDPI9e13jG+S6iTKJf+067P6oVFN9tiKsC4IwjkM64VXl+fdQvv+xB4oEvg97/n36d+BC2nt0gNCTv/973nG+b0D5xWE3HPPPbZ+/Xqn/vDbxo0bjbihVatW2fTp023fvn2WlZVlL730kt14441dj/vlL39p3/jGN7TAOaqFlbeIOVm7kDqTk11rz+/P/R3A/2NtkVz3B7U4EMJklaQATEepeWan8NXlbW7HaMmz1Tbxlr6d/hqCCCn1Nq8w2vL2tNiXr2yxJ7YovUSTXrwk6uW4DwhhMlu1tNxF0w7Q4pzfY77nJNKal7OwnyDJMDJgJmO3TpPRm2AAk0omg+xWsgjfKGO6O4fUud2xVbkhNl316LM06fvWw432tc9Fa7fMK0+Zldxsf5GKZIrgCFJjylZIDrj3onp7fE+MXSpVCZPbtSqF2ZJndsVIz2fkb+tD7LOXNNuy0ii3E7k1lxKZEGfEt1ulP8lKOZgiCMOE88UN+rkm+GW5jZYxLspmC1qsKo9yu5qzh5KmEOEWGX9f0GwhSVE2Xek0hzS5rK71FBcAkaZfvWGXPXKlgyFMZNkFLNF1J+u6gQ9ImwE6wBAgRYxq8AEkNEBMmdJfUN9QwhNUpQW8FlHB5fU2aI4WUII2KECAL5gY1qypdCU0ycnePSrd2+TKWnoNj3PlS5QxsUPIjuEAJT2ULK6wrLneLsdkfRaWFES4hU9aX4EYnd/87TL6U9zlmlePWtiygi4DRlcOk9j3hDAk8NN8vNIZfn8ioOCSNFQ2YPXNb6dn8DM1P03DV4icDFocE7fbGb3b5W8Sq0WegEh3GEJiiNvNV3unBfS5BCL+/buQwMi7BR+n48nSZWTaaWx7KgCE9zuwbCoQgnQHIL4KBADie5L4j/GNfUP7JnQBkGPKu/AFUTkLpWYdyTIBFgQJLBHzIQhmqHzHgSAYpPqqKh8SRvSWgfERD7DQMEf1PqueKoAGDGm6cYgNzAizhBgpyaQ6wFNpgPof91j1L5T+rZMHBalV9DOH36y0/pf2c31Ktcpbps+JtbyKYCspaLWYeMWyqh9+fXOQAyD0IUCQvUrzpe8BQqAoiZQ5arL4EJ4VGLIOHq1FvVR4GFOjKOF1iva1WNaIMJd0RWpXk057ioDEFHl5AEGA7JQzksQFiC8o1/nk1NlVs3Us9a3ObFWJLRK8uPLE1V9eaLf87xU2VGpAFHiklvE8yhp9CDJYCoyFgh2vyHAV2PPAZXUWocU/KscVugf0wYO1IVCiseXFPZH22XH1bkxBhcG1EFNLYgveULlFUlMo0caPjR8nw9NCwXkULICcESrX3KVyzQ1V4Rpf5XGlcTNna5PdM1uAWSVIQwQe9neqSxj3fDUM5UBAkKq6INv7/+ZZwjfm2iVD25y5K/eC8WOxvKvGDfagBf8nTYdNBbyqSMDZnMfYoW+a3t8rx7Rbms55lyKI8RLZldNmQ4Z4yhSMVoEfJJ6Nkw/YOqkBL5WR7GJ5dTFGb5OaZuncS7o+Tz3/6LkDp3MHLqS1i38tI35xdhQhu77Sowg5nc9Sz2NPfgfOKwihtAX1B867fmnMF77wBVcis2bNGueyi+Jj7ty5lpuba9nZ2V1XsGjRImdEs2vXLhdPdCrtQupMTuV6ex5z7u7A5a+sdBGBNBQOLKyRO/uqkB2HvcnnTjnb52/z5LPbS0PcghhjN0AIxqTIlDFyI/pwVEq77avWY2Ssyq4SktwD88rshrviHeA4eMRTRjRj2LlFXhNKQQiZmmSfmNzsDESvmBvrylUmp7e6id16mdXdd1GNS6p5SmUxSdqxBHKgUmAyt3Vzs02YENblK8JuIq8zUxM46qdXynAO08/U6Ha3U4bkm/P+zUOVds2Xk2xtYZhNGujVVbMjl69rYYJZovOsKG8TxOhw8udw3RtUIVcomeb5bUoykHdHmkz+SJLhPJl4AkPYqbtGx39FO5DUob/6fK0NuzrBgZ48ld5EqTw/b02txQ6OtsM/fd0m/vwqyy3ssI+Ma3Yw5O/50Rap9T7HoeQIvw6M+9bu1mauYAjgggktRqrAEP6uyfXidDuitNutFBlUHWVrD1vUiN42KCXYdm9WDK+SZ4AhV6uWf+EmsjBbHAwJSpV5YaOULP00qdZCpkQpQIPStKDo5LKYDgJotpeHOBgC/LlqZpit2B3sYMhbLxyy9pV73vbfAIYo3QWPg6ZuZqiBqhD3mdNutttq7iyV8T/p7wQTwnvJDFILznbldvr+CoHfkOOVyxzvG3Q8GMLjAl8boOIWiAHRqj4QOdli+nwAka775cfgnLuu4qwd+d2CD07gdBN6HLzofA+7v48nuqDjARAee1z/Gak/MOGl+SqTQEjSBUEGCCTIQ4cWCEGIhKbsBcBGCVBwHylHavV/OZQSjxveW2qPTo+dcClBghrbnJlq0CF9t6S6CvTRCfTfcd+tsDinzPJL1iLkDYISKvZOgRAxThba9FlAYcoSMfSkDG6IygoXdYKNJvXPsUoCw4eDceJaqedeerTCWkcPsAQpQFJ0nNwHd1rwnSNc30FS1c7lNZY2pZeDIJTLlG08aqNnyRtE4GDXW0q7UUcanxruIAjQ1bt3Xn8GYGBcOXg02EEQQASAAAhCWcgsqQ59NciWlUrYmhHj/EDof4EhXA8wv/GRRQ6CUBLC9fxFyTB4ZaDiIImF9BcAA/8nDv2fFsQ5CPKaSmPuVOoMrVzwAyNUYNFjb0U6xQrXSEklSTF4f3B+lGH+Yk2UjUn3xoC/PFRsP/mv/q60JUclNZh1owYhOYaxh5JSPEJQitDHMy5wzXNlBvuGTGCBEHhaMXZm6w8llC/uj7Z+ipjP1/g6I0P3Q2MiccE0FC6vHoiyFEEd1CCAmj16Hc6FYy8RxACCALlbShrs9uvlnSXvlKOFjTZicrTz2yK1jAQxHr9yd5BdNtIrN/XVIKTivKBxKUX3a8YAwX/Boblp1521PqHnQB+MO3AhrV16QMgH4zP7fr7K8wpCuFHz5s1z/h+1tV5d+vjx423+/PmSnWsXR41ymE984hMuq7lfPy/CkoaSZPLkyV3KkePddNQiNTVvpyuUlJS455zrzOn38weg59yPfwfmzF/pdnwoUWFy6+/y+DBkVKIW3UoEwEdizjDPp2ODJqHssO3FNV8qjox+HZanCRk7fBxruiZGOwUk9qtGGWUEO2cjktrdbhieFEiZkRPv29Rg06Zrp0uT0xzVZKNYOFLYZB2a9JMeMOOeJKf8WC0w4erMtYMWouM7L40FdXbt3GibKgDyjCIOAQSv5kbYFZnNDoZQBkOj/pvSFFQbKEGYSKYq0nCZ6sVzNSmdKkUHxnHE2N6s2N6HfifwcmMvb+esPsimpzTZgt1hlq0o94OHlDojb406pRmMVFwvcOWopMkJ0XiiNNrLOZHuPCkDulSS68d+WW0f/0KCPTmv1T5xg+6VzmGNIAz3oLJUO4V9pSgZ7MUYrl3XbH1Swt1OKDXgTEBpTIwBOXu1c0jkLaaxmAUWH2yTCbNk35psswuZv7/NJioBoOiwt0BxcbjFkjLHaGGxptTaB0Rb4pQ+7j0u3NtsqZna4c1ptNETImzHCkGYrBi3Y3vokOr+99dZ+uQ4+Zpol1GTfXxHDjxRYK3TUh0QydT7EK6JO0qVP62WrF7nwQLncEGTjZjk+bAs/sp2a5060FqX73DXgdqDBShKjcA0mcBPZWDsp1sMSrLfcaS+S93BY08EE7pKZbSb3lz3tilk4PFPFYi8U19xMphxPFByouOd7Fjnq88622qSMwEbZ/ua363nh4NbfP8a67pO6Z2O5UqsBCXwoQGAHLdEprMcxlcrdb9WZ45KuYw8czqqvXlDcFyMU5Rg9orniCX2crHQpMfgHxKsJKtAE1SeE54owCEFXnNJqTuGb4wakTHImvILXbkaLfu+oU5dt/bpCvv4571SHBa6+AAtLo6ysVIpLNgW4vqFihWVNuKGfrZ9myLLM8PsMiWUPPPrKgufkWxpAwUqBGCbf7/LWqYkW9jaEhv0/0bZvlVH7ZLZMbZyu5Rj6jfwBRmo1CrtA7mSvir1F34L7yN1oCAI8eCt+2ts+BV93Hm4co5OOABsyBZEoLzRSz9pkUpDi3p1lYwd9L2MQcAITFuHCVBgYL2/uMNFtfNzIESx+kvMnlm8Uz7J31m99N4JJm8X4P/d9mj714m1UjuE2qyUZqcEwasj54igtcaqvynhhSQazFDLVQpDow/GR2N7RZhT+E1O80D6mzKL/ca0enctGJj2E0Bg/Fmq8lLOBzXKX3OjbHySSmh0TihUUJSgFtmmMRHgfUClpVnyJbkoQWpCjQUvSN0YG+klo9HXotogFYcGGHpD7x3eIMAK4MpmKU4Y53i9eb8/ZJkfTrIcgfDwJQfsyu9k2pIdwXbTRa1WpTGPtqVY45LS1rjvbAAw5gCdfJUiZT9Hm5X+o9f0IcjrxZHOR2adVJWAFGDMv4+7qvtHvOf/PXfgmDtwIYKQ4f99dhQhu7/aowjp+bqc3TtwXkEIPiCoPe6++26XAIMS5Pvf/74rdUEtwt8+CKmsrLS+fb3EAtq6detsypQpx3iJdL8V3/ve9+yBBx74hzvUA0LO7ofmQj7ajBdXuh0hFrpDEr3FOAt/QAiN0ph0qTxQfwAeNhxQqotKP1jws7uEkzwy2kN6TorSXtY/V2GZNyW6emO8QZgwviIXfUDIvNxI93MW7izSeU3+T4lM9Zoqu/IjfRwIQTJd8XqZtUsWHqKSjsgrUixWigdgDCAAKXZyby/dZdGr9fatT4a6uD/qujGZQz1B6Q6T5DTtVD2vXTPM8Xg8DRDCxLGXDOcwnTsoefXrMrP7JOU1KrNBEu6593v11ACIldqRI6aRSSR11X55CsdDcgwMKVEIykdGNiqVJtz2lHpeITO0Owc0WlcZ4SaSi/ZF2FWZXhnNInmekKLQrpn32FGhboKJsV3h7/dbzE3pDoYgAx/RT5NhlfCMSGpzUZD8H/8VjgcoQYVCS08OcudLmsPINL13girR/cKt4ZHVFvSZaW5ntVfvYKvMqdciSX4DhYIRWkRhXHjg269b5IBUa5k+0EZdGuuihGteOmCtw/rauJmxtnlnmyUla9dYAKj4oGeOSFkOqph63U8WFK+tarfY/or2FQxpFCSi7nx8aquDIdqGtsYaLyXGwZDoOAcqTgRDuoCGZP8OhuCR0PR26QvHeScYwvHdakGNCN/u7VRKZZyRqlqgueo/HKdbSsyppsscr095rwCRC6m/e7cAxH1Ou0GQdzqWS4EJk6Srmxlv93uJEuQYM9T4BGuu9pQjlL2gzHDKDlbMaqgkUHs4CIKCRWDDJbuogwo6rM5BIIT2ThCE88YM1U+H4fFAkLZhCZZxdT/5I3kQJP7KRBskmA1M5uWXqhSQPvyp9ernBUFY2A9SH+NDkE7bMy+2O0nlferHy/fJn0fx3vbUbmu6Zagrybv82hhbujXIhmaHWKlKBNOSgqxGC2j6iZztzTYwK9yL7RZMH5ysNJgdKiOUMWexykJYTK9X37kvT4qDMZ5Ztl8qiIeJD0FQY5BMQ59Jn3rtcC8lBmNnSkBKVP4CBGBRDwTB24N+H/gRpXX/LsGNEb3bnLJhk9SBI6TmKBPcQAmCatAHIZQIJUtB+Lyg+55VNfbdTwTbn/bG2DVKi8HYmsbYsLs42C7L9JLD6JMxa71Oj/FLcSRck6Kl1VaVKW7dldOY/Vk+J9cMabI39kfY3GwigT34g4cWz6cP/uIsJfmoW/vzzigHnqP1GH+MwqQ1V2PTeJWu/GGNIu0FnUJ1baPkqXVEYIUNidGCKK/94ZCFX+xtxNXXCP4o3h5zVzxgaC9LFTIxvd3eWNJkn7uJElivvIi/uTbuBwrHjw2ucyawxOvSSMn51e44Rdh7Gxy+2fkEbRZckTL3QupWeq7lLN+BCxGEDPv52QEhe+7rASFn+eP2gT/ceQUhGKBmZmbas88+23XjgRRpaWn2u9/9zgGSMymN6VGEfOA/z+/6Boz4/XK7WDXcpJnkaAK3Wqag8Vq4+qoQzDOZtO0RDABWxGgOzoJ+Y06HZWZ4UYqoNAAATI4AIQCVgdoVJDWFCSklMUzKMDvlMUywUYWQPMKxtmpxf22WYmELIu1SAYNnn6qx627tZesPhnleFkvLLGRCf+dmz0SbCRiGpUwAkQczEUaRwg7ZdpXhoN4ADOBVgXfFrLQmW5gn80xNsO8Y12hbNTEGhkzQDucS7SAyiaYsBviB+Sr/J14XqTIA5xHJmq8Y3uoSBRL0PK1BnOHdMpX04BMyNFMmfJJBM3lGtsw1UT/NZJmJaznnJyjDzt4rO7yylLydzZaUFmaXpkvR4SIPO2zrDk8Vwj2jzIZdTGDIxV9Ks2JN4H0YsqvSMx1sbu6wqVnt7l7g38JuLjCE43P9QBY/2rIr1eGw6vZlzBqne+eicQVDkkZEW0lek0X1DXfGhb2laNnzxyK3uzzku6Nsf5EgR6FgVmqUDU0PsgOK2kVJQtQiKTScb/njeXbVv6bJHFD+ATs7rKNBEbtpqjHPk7xaqpBDWhyNFMBZ9pV1Dn74MARfj2DVAh0PhkQk9LOmQ5VvG6ECQ1Qi4xaGnTDEL6U5GTxwu+sCIq01Mm3t8Cb6ge1cqEPOBIZwbie7pnf9pf8APfF40CI0TioKNT4LJ2snKoM53vN8CEIqS2DrXjKjb8fbUc8q4wLQhXeCECAI5qXuHIF+ABA+85j3AgLpfGgyuujoE9EFQdqz+ljLjvyul3V+IartQAXS5RESGJHbaVrcOmOQ8x+5aa76MvWdKDM8EO71qZgz09ccru6QB5Lgqfr02rcqpVJRrPjsBLdAp6Tk5R3hNmyQylwUe46Kw31HXzsgmCPl2pUDbdow+VSonCZDYwZmnlkD9V1Uf8rzafUStzjwnd9kY6VK27rLA67VP9tmNz88TDA6wik0kqWeIEEM82jK8ZbtD7O5Q2XsqX4cCLJLhqKMO9HyI7lisDwrBKPpm5P0PCAIIBxDbPpGvEWeyIu1jw+udWamQBD64n8ZXeNuc6OUgT+TsTZjBf3ptYNUsoIaT0kxlGHSHniy3W6/MUwwQ6oOpcCM1DlwH8OlVGRMfXR9lF2a3arNAwFxpYERlwvAyKvx0tUuU4IZEAQPlm163p4SlRMObHN+UeW6lx9RGU6G1CfrpCyJFex4dFmYZWaH2nWCDqTUPJYT68qGABT4S82UGXhh51iMKSxKxwwBH+AH1763Sq8p4248quiTM/u3O3+QlqUHbfI9KbajIMhuHq0UN3mO0IAigHaACuWwKRon31R51FzBHEp/FkptMlWlkeul/ACEkIyzCoWizgGwg1ksapBswR78T5zJquDS54ZffbKvXs/vP4B3oAeEHP9NJzWmB4R8AL8Q5/iSzysIiY6Otm9961t2//33H3NZlMV89rOftR/84AddZqkvv/yy3XDDDV2Pe/jhh+3rX/+6K30JDz82rvBE9+hC6kzO8efgA334r8gElUlbqWTMX5zaYE/nyPxPsIByD2S5viqEsg8mb1s1GesrAz0W9UwkD1R5NdHACCSzNEpijmhnkAnvvpfKnCqkURuW0xRdyMT6sZUyNJ2u5JcDmthqfo9agvpkjPTYQSJit+PlfXbl/RkuipfXYJEeuv+wRWj3ikkfJqQJmlwVVuKH4e1MAWuAMbMVtbtLQOdiTXJfVZShH63YqIkoteF4aABDcgRliEhcIZjBZBz4gYKDSR+lPkAUIMa1A+udYuShFdE2Il1KdN0X4g0d7NAuJRNKYMis0TL2kyKC33Mc7h/xgkxQ2ZF0tegyRwWsPL4h0tK0qNj7k9026ZtD3H17c0Wj9c6Ikmpjm/X5l7GWKvUNCouazkTP0QO0y6frArb01v1/Mz/U3TN2U2vkReKSdWTER1kPMIKach+G7JFJH+8TMKTwuyst9buXWLWMCIEhVS8UWMvkZEtOD+uCIc07q23EtQkOhrRMSnI70dGJWlB0whAUHiX7mx3oAIZUq3xmmEqFNv5iv4Mh+LW+sS3YSdtZ3GDWOiZT1gY6p53bJOd+aoOXUhEZ7xZ9fmoH96GlzSth6t66FnNEgCLTUfNTMnwYQjxoYKpM92MAQ/wymUDvBP9xwJBQeTW0lnuKleM11CEdSr+hncgDpDvA4PraO7znvNvWA0VO7c69k1qjO9R4pyOejgrEPw6xzN0hSOBrBAIQfo6XTSAEcVG3nZDGlbooHaYLgqD4QD5AA4JgnlqhEgsBEBQhzQdL3K8AIK2VVQ728X1AxcS/+fz45TmoQJqKiy1s0lBrT4m1wdM9MESMLSbVWfou099v2K3yx4vaLUXgAFUI/XXBniYbfVG46/8BteMFk+kP6eeAIBiKAlNCX/cgSMdlqTJgDrHCApWeaEzI39loqUMjrbcqjeh3D8pviMQYGhAEk1QW7DnlwTZa4LRAfToeHyy6UYOky3NpoKAD/SwQBD8M+n1AOyUgaVp808euKwi1q7KabekBxbOntDo1CNfEmAakxgQVM1GMtUkSe0tj2yb1+6gbKItBDYLKIV9jzJVKLAOC0JYUezAf8AEoBxTx7yflTXWpSkDx7qDlqwTlozoWmws+7KE89M6sOvd/VIZZAhSMv/TnvhktMARFB5sGeD9dLlCCYgVl41uCDfsXVtm9n45yYxLKTHym/HIhxqT+AjabdE2UTZYIUmN+LaskzR3lryIY8ernXrE5/3O9u78ALjYX8OJq/OMem/jtoVLeoIKUSbne3yV6z0n/IpXnoBJ+gEUk16AqoXEfblH56P/siHXKUaAOapDHc2Ocugh45atBgDmAEJQ3mMM+slYKkpHN9oNJPUkzp9azfTAedSGtXfxrGfpfUoTEn2F8bnWF5XytRxHywfgWnL+rPK8gZMSIETZy5Eh74YUXuq7wwIEDNnjwYHv00UcdDKERn0sZzBNPPNH1uEsuuUSlA7164nPP32fjgn6ljEeWWbtMMJlwukW0FqnRggM+DPnJYu0gDQ5xUtt1X37Rxvz8Fme8yQQT2LBdMbWUozAJ8tt2mZFefrFqogUbyjRpo9xl/3detLTv3ewW67HaXGL3ifKI9YWhVlHS6mS4TKwx3GQ3kIU8KgPMR2mt2w7ZjXf0dpMuJpV4XrCY75sQ3BldK98NmZ3+dZtM31JJT5HRqMppxvb3lBFMjlGqbJYnyHDJfbfovEsUz3ibIgufXhNmdwnG4B3iN994FKkvYIXrQxWDmgMz0GxNdteUh1tFpws/rvoAjmvwPFHJD5NRdg6BITTKZJZsD7axQ4Lcjtl+SZUBBOyw8VhKZJi4rvyPvQ6GDoDr+gAAIABJREFUMElfsaTBBoyMcfCAe5GpdIV9AkvOpFaHTZe5LDXj2/dSwqTSJQGnySO8XdW8Yq/OPmhTucXPTnLnQOkR6QZ7C6QcGarX2hlkk4Zpkn5I79Oqarvyll7OF6XoO+us5WNjLC4pXAsZ+YkUHnUmqo3bqq3f1ASr/q1cWNVaZg+22ORwF+/rzAv1+aGciZQfAq143wEiAK83lnslVWH9ItwCKEP3C+UPj23DULVUMv/NlRai6N/GxmqLjBOAqGcnNvTthBct3vz427ARGdaRU+LKDpD/+8aPgXGgLmUG35EAA9ZA4OEfi913FpUsQv140u5f+kCFyIk8Hk70c/9Y/P5MSjJO1hG93+FIYGztya71eL8/m/e2u5fLmRw70GSX83YARMonvEAwQqURJ03r+nknpPM/mx29pPaQEqT5kHw3ZGrqAw1AB+UyTVUVXfG4x7s3QBDMUiMi9D3W94vml8Xwd+u0gTbnw4oR1yJ8Sb7K5rQorltWatd+pp8t2i7T0VEeAMHnaJj8nFaubbXZU0Ns2W9LbOLdqV5ilwAI5TGTLpJxsvq0NX8stT5zUqx6RYUzXcY/qPwn2y30npHWtLLUEq9PcQty+o79+wRq1K8x9gxL9soq6XcBLPS961Yqdnx0tA3Q7UJlmKZyFXwpqqQmSU2Uh5NUav3lVTRMCoudlWF2uTxKgBwr9gqAyLsKME8ZztXjSUhRCaT6n9GKqsXzY6Iizn+5Lc4u1sL9Q/L2WCrPDyDI7YIUKVKO0Mf+dk+sbd2nMWZ4W5c5KhBkkAxJaUCQX84PsR/c0mK/3hbrlBjxGm+IOF+Vq0hz9Y2YwZIGxr3h3C8ReMc7hDEN8M54igKxTKU/GKSinkAlk6tjRAvmEFlM346p6qt5ka40FYiDwoKf/fpNvTcZQQ5+u/5ezyE+l/dyZobX//59q9QqUvHhPcL9XaZIXMYJxuIdum/4sxT/1y4LuX2Yfe7iRp8x2zPyPcF89a7sOqeA4fWIbee+ehHAUorIp+T+RdF2q5QitKuk5nxO6ToAJq4ZI3KuBw8U4ocxlwWCoOzBl4V2iQDKiwVR7ng9UOTd9IIX1nMuRBAy5GfPnxUQkvsvH+nxfbywPu7/51dzXkEIaTFf/epX7ctf/rJTe+AR8uCDD7q/d+zYoSg4pRyo/eUvf3GGqt/+9rdt1qxZ9swzz7jSGXxEpk6deso37ULqTE75onseeMI7cP3CFa7sIkyLzlDt0LEYZVefnXwmjSsLwq2kqNVmjg+WH2W77dGuD5CCMhiMQPGUYPLKRIoJ6wGZzSGD9muGmYCtWd9ikyaGWbHMOd3O4fdetKjPXm+DBTxY2GNgx98xsao11gKe8g0SUzZJRhutUncmQvsUuVixptratEv58ZnapdKkCXNTTO42F4e6iWWd1A8jh8qsU+fwoTHNrhRl8U7F9CqtANPQRPmTsFvIZNN3yKdcBpiD2R+L9KdfVx1zulQf8iRmwgaoWCMpsJvg6bkoQZBPYy63Uzt61GbPlTLkGdWAz0ptdPXXfkIBgGO4ruNXrwTb5671JrxM5gExw1STvVZmqFmd8YzVmpCzy0dc41O7oyypd4dToDwlMDN7nAxmBXz2vVVrfYfHuIk0ZUHAkF2FSoUVUEKyDmBh4sy5ogrxYQjKmcZGYne1QJBihub7sCiV2HZtbLRZSvQBhrTlHHEQhHPdmdeu0p4Q2730iDNQjVPcZe1BJcUcbrTgar35nf4awXurLe3rIyxPpnrBvVQ7P8SL+qV1dBCBibpHoEcLF2rYqe0HhpA6wOcGLxNgCOCFHd98ydCBIY2/WqEEHC3WtGgDhvglM/6HOXCxDwxp2ZVvpGO0Vxy2kMjoLlWI/3gHQ/r0sg5p21vkt0QLhCGADxppMr5CJPBngV8iYIif6vFO3UsgEDleMsjxruVcdFfvFTASEuMZi7rPYN3b5qJn45rPBFCcyuuf7eOHhUYfY+7LOQR+7gI/h3xOQ/pqLiAlRVBpjXse59OlhlIkLgkxKKAwUG0uFP1U4zMfPEDqEpXB+ACEn/sQJHxIugUXe+U6PK99aIL1umSAXT1EpYGCIPTLNUvehiCUuk1LVZpXfpiDIAfltzRdi/hnf1HhIAhm01tL5IWkeFwgyB71T3XbD1vCxHgHQULXl1jMV8baoZIWV4ZHoz/DEwS4DARggZ6SquQXlY+8sDHULhnpmX1SujE5pcXWFYe5cwBkUw5DX4XycKPGgaOC98TD+g0QctEAmZgKgtwzQcbc6rMXKPVqkiCxr/DjbxpjynIpSa6QWgTVICqHn27v5cpjhmG+rS7t+5t727aXK+2bX4y2DSqX/HhWvS1ShC4xubvUfzG+oO5YugOwLJXdYZmLZjXYfCkQUdTcM6nRfr0qwq4dh59WsDv3cvk13zGywZmV+iao+Cmh9ABsAEEYgybpfgBCUEcifGvovExKT95a0WDfvc2c4uV7i6MtS4CDsh/ihNNUCcWYhRLvlgmteu/CHQxBsThR8ITr5nUpcQHOF8voGzVI4cZaG39ptCvjAVxwHpS//H5LlH17eq39dFOc3azrR8lBss4XR9TYm9oQ4P+7dS+e2aA4e4GQiYoCxih2m0ATCh5UoxwvUQCEZB3GviypQsYIXK2V+gYQAgR5XZ5b+HfxXBQvKDh/Nf2KU/mq9jzmArwDF9Laxb+WHhByAX5QL5BLOq8ghIUCyo/f/OY3lpeXJzl5nE2bNs1++MMfOhVIYHvsscfsRz/6kRUUFLjfPfTQQ85g9XTahdSZnM519zz2H+/AuCeWW/0j263pthEOdKzLlRR2+yFrS5YkWqoQTNM2akeMyfBI7cztlyN90Y4GSx8T5SJaASEscGkoGJhQYaIKcKiUXBa3etrON47YyCt7W5n8/jxwoh2kfdr1emG39f2X0dZP/n8l+t3UtBZbskdQ43CbDcwIc4Z2+ImwgE8QnBnVR7tKKzQbVW38tRMVbal6cHaVgBG75lVa9MS+lp7i7RoCMTDxI7pw4hBBFkGCtftJXpHaQJPq6YmK0NVuFs8HTDABf1LQ4foJigDUZLhPHylMtItHssqMgTKSU108x0CuzM+ZzI3X/WFiDUBZp1ruMdpNxB+E9rpiB69Jb3CTPSaJLPSzNFn3YQgwZp8m9ux8DhXMwQSV1ALk5OwoLlCk4dC+xPbKkE9ww39tdvRKN9VY4rg4G6Ia7uWbFFUo7xBicbnvLBhYUDAhX54b4tQh8bFe0g8wpFoLkKQMT+0CDOF4lOL4MIQdz02/KbBZXxnozpX4R9r+FR4MwZQ0MjnKGsubLEQlSUFHtTM5qr8FC44MntPXTfbrcmqs1/A4B7YAan3ivdKbVm1hAr1KSwR8hmnS3wm4xiYLeug92yXzWJQqwBBSg/I3yqj1+XVvw5BOKOJ/krsv7onTbak5YqGJ/RwMocSme4uI7ONUI+ye+zDkGACi3XmaXyrge5Qcr//wlSGnAkQCn38itcj5hBXn87XOVd97tsHEic7zbL8OKpDjlV/5r99diYRSpCMm3H1ewxP6OiVI4DnxWW6uKHdPD8saaC15RR4ASejtSmHCeukzf6Sq6/LCQkSXB4v07q/0lChjsgRXVCbTCUEuGqTFvGLO6fcvl4cFpRl/XOulVE1MloJO5RVDteOfJ28JFFykRw0YoDIQqesoyVj1WKn1uyHVwelxGR22apkW7gLt1Ms0X5fl/s4YKs8l9RUtb5bayNuSXX+KGm1gH/VVAgBAEPqEDSyspfgAgmT3bbdVCpa6eaJXgkhfx/Po61bvC3HjBBC2tlFKEi2qgSOAgRcOxNhN8qhYVR7pAD3mqpTiMQ4MF5DOlKJvmZJZ8IWivONigZNElBV6fco+OEaa+qR1uu7/+p86+9o/xbjH0W5WH79SkJ1+c4bGlFcLoxwEmXtRm4upRQ3ylnwzUFHiy/GaUsW4LzNHdTjVx6aDoTZ5YEuXWhDlIKUjy1V6wpgA/HhG4wc/wwCW+ztZ4wzKCu7THzZG2pCBAszPltsP/jVWqpJge1KGqqgoSQNjkyI70RuHB6kck7GuVKDBxZwPCnYmqbQdKrdhHLtEJTzPCsQTce+nkI2X+oRxDOUHhuPAlYcurXHlLDTihJ+UnwqKFMbdPRoTl0lxc/eMZje+AkJW6X0EgnBM4P4dU/EUaXOwabvUmvyb488vjna+Mr4aZKQ+U/NU4gMEQVHJPXt0xqxz1aX0HPc9fAcupLWLfy3ZPz07ipC9X+9RhLyHP7rvy1M7ryDkfN+hC6kzOd/37kJ5vUteWunqueOTVcqiCSxAwVeFtCttoPeUvtavrxavWgMzAVmrCR0LZjw0BqsEo0AAwTdH9WEIqgoWucAPdqLw6WAi69eL5y8/7GAIEbLUilerzCXixT2W9a3RdlReF0y6SSPIO+iVcaQODHGQpUixrFkqn6ABQv76jHZCZcYXnBpjV431FCqjVLu8UNGNrYI4oaMTbMhgz8Ge1wdwLNweajNHvL1L6KtXMKfbo52rhXvC7EbVJLPwR758YF6Zpd+Q6M6D8h0W8CTS+PcDGIKBKY2dtAIBjE9k1tnje2LcAiFI9zNFE1e/fAZfkEOHOmyCFhioalxpje4tk/gVheF275g6Wyl1CBNfJur8jl0yH+iM1gR6tyaqPgyh5IT7NV6LDHZgl+YoHUYJMOw+Upq09Sd7LfGfhlpqL5mlKh2GxQjH5b3IXVDlQBcwhPcUA1QWJMCQnOdL7Yq7+rnH+jDkjb8dtQwZH9KAIb5Jow9DQreUuXKZ5muyHAyhXIb71qRYSx+GFG9TxO74GJcyQXxws86jrErlQgnefaA0igQEfj5/rzxTBEOoWT9QKxXMek81ABDxm68S8f9/jDJk9GALLjjigAieHX7ZQOB393gwJPD3LESBFSeKLu3eD5wNM9V/OGa3pJlz3fe818FISKyXztPdxNQvW3G/axOZPYvtXAAQTs/5fXTGQ3c/3eOVY4X163dCCMLz/ShpIEjbvhLn++H7gQBBaD4IAYI4+OGX4wiCBO+T0u6iRKcEAYKwGAe+8vc6gXD6YfqIWfIZIgqbchLKAim1uDSlUSoAxaAKCm+TQsOPUpdfsV2qRJR5L9RaaI7KbwQ/2geKeE8cYANTpfjS8Rp/tdr6/tsMGypliQ9Bdhwwu3G0F1+7aLfKQgarfC8AggDS+/X3xgYSU1A6LFjdbiExAqsqhyESlzZTkeTP7Ymy2fLwGK+FOIoMroeFOP0gSpKV8oC6e2itlB1hzhcElcJW+XPcmNZoRzWGLde181wW61sVj4vfx5d/2mjX3ObdUx+CoAbppY2Ao7ovD6p8FAgyXTCFckleZ7leBzPspVInUsI5LV0m3rq/tMMAFKkO8Q+hf2fcWiHvkmkyuMbglYQzv5QT8AEEoRXI3HX+LpW2CIJs+nu1ferOaKW6tNlP1sbYQDEu9xixsaHJbwMNQMgGlV0CLg4Khtw9pFZGpuH2piLn8ZKaOUweIgIzs6QWmSfj7kulrJmuyPlF8lehPIeo9hcFQmZqg2GlymjYaOCeiLm4qF+ig1GDLDgY6UAIJaZAEOYC82R2jhaRMZHxBePYQ7oeyko3y3Nlru75WpWo0oAuawSdgCjAGZQrzEP4P+VCeI/45/S1MXPO4je+51Dv5TtwIa1d/GvJ+snZASF53+gBIe/lz+778dx6QMj78V3rOed3vAP/uXWhM1GjxCJZC+6/7ot2MCRtWISVPbTVhn1/TNdCfN3yereDF/2xTOdqz2J1c1W4xWtCU3bUq3FmEQ0k8D0rmKBS61taq4W8/u2DCGfWponnYS2Oq/5+0IZ9ItXt/BwskjRYqoLwBfts3PdGut0tSj8GTYh1JR1HKlotZbCUGZo45uV7MKS0kvIXqR7kETLn431cScwYmeYRpwuAoTa87lCrBStakhIZXpudOspQmLyzm0RDGZIuKTbxuJSiMKlEclwtCS4LcJ5TIckuu2m0vK2NNnJ8pAM2XCfXj3cJk3GACDthxOUisZ4vJcckyXoBGdzn5UUR9tlRdbZfE9qFisUlwYXJoDOU1eSXyfmyncE2dViHfTyz3u2yIUHGUwVTvFqt7W4eXG9PbIm0O2XkSulNlRYhnF+lauIpdSGW8bervShE3oMtefIM0W5fzvIjljqlt3uvkjpTt/fm6zkDZFB4oNUGZ4U61Y1ThsjDgzZKO6r7DkoBJLCSVyaT2sEtDtg8uUCganSUFctLhZjMQztqLCI91pnZNpc1Wuh21f5nx8uoMcKuVJkNUb4AkYbqFktMD7c6Hb+uoMFGTYu2HXva7eJRQVpsBCuCstndexRFGMaukwQaeMUCDEVMqRYMT19ebX9WjPCPbpM6pE9/azys3N7Ohqmq73MQEixpf2fqS/hAZWyWymshsZczjqThi3C8xkKS1nzEiyg9WfMXkcd7XJdKpBPC8BgfyJzsuO6xcTJ8VQPkBLb3CqhgAX+2gcOp3Bf/MWdiLnuycz/b4INzRv3ht+NBDpJgAqNyj3cvwqPl6VH3j/HO/mPDhqRZS26BgxsY76Jm6q4C8a8tIjPNmvbpsRdlW3DuIReXy/OSvzvZFl8fZXevqO1KTkGNQV9MGtfNaXX26KZoBy/xByHta4O+o0W5TZY5KsL5cxzNb7COWKXMTO+wZbmhVrNOypWIEAFSKbMEQPBwKt+rvmJjqfX+SIZTGdKulpcShtOpgrGoATDLpj8akiIQLkUeY0B+YbtNyO6w/GqlfqFwq1P/LSi/o1A+GK8UWdan0lz/C+jIltEoxpz56nNHqKQlXyks2wWjMR4FTOwXYN2mRfcdw+rsl6ui7BszG+x326Od8g9fkL8XRti6qki7TYamROTOV+nLFJmCf+WhOrvp0wkqq2yy3jo+8b6vF0c6I1AW9esEFWioVSgHxDyc8wGCsNnw5gGluqickUbpC2OGD0H4GWMCRqV4dPB4yjBJIkOBSOM4+IP4Y/jrip/doffr7ls0pnfG9dJXM37xuqgQKVelX31hXahdNFz3TD97XarLf59R7+4PviCRGo/wCcEX5Er5qXjgpc3BCsqPSFxTyJD9Waav10tZM1z3lAh3mmeAGqtSokaVObY59Q1wCrXf2IRWp1zhddhgAIQzLnJcDG5RgVAGQ5kp5S804FahxmOgBx41eKswXyDtDQiyX76/YwZpU6HTN2W/7tEn5VWCaufy5J743dPpS99vj+0BIcd/x1pkltoDQt5vn+b3/vn2gJD3/nvUc4aneAd+t2eBeyRO9EykHpGJ21evZRIWavNWdjhVSJ/4YCt86W01wP4Kz4RzvBb0GKAxeWLRzi4d/0YhAiQgScAvkfFPB+8QJmEoRIoPKuYwSVGLghRM8vKVDjBwUIjl7W2zzCzFDHYmDUQ8t9vG/WiMm/TSKKNgAg5oSUnQbtwLWmRLxTBoXIzzjrhYFWOrnvdgCPJmdid5TZQo7DSiTMEoLk8LevxKpmuS9uufV9vVn1Fqgh4HCPmM6sWZuBK1GCXByePblCKjnUlKUUhWWbqw3ibNinWAJi+31UYOF6BQTCQpJyz+43XPKNcBzqCU4XrT49tknqqEAk1QgR3sZgFDUDqMkRkfMOQt1Xpfk1pvJZ1+IdxXdrv+tkX15hOanOkc4GmqjvOakgmIqiSBZrAm94/vjLZxSa22W7XW/QU89pbqfdLc+3LF7HKcNZKNXzJa90Hv0w6Z+QFDyqW8aJf5JwarwBDu0b7dLTYoS/4mgiGUukQlabdO94DFR9DmCou/MtG9D0QYA4s4H6DS4/M7LCRBpUFa0HC8spcOWuvEJAeEqCmv21trQUealDYR1wVDeL+k53YwpFX/7I8KRPfGhyEF1dohVb0/MISfk0yAOSEwZMGOUFt95xFBHz1Pav5xk7e48/KNHSMGpVpT4UGL6J9oTRVlLv3iGANUwRBKdzrq5WsSKyNVeSi8Uzsd2PBOMITX6A5ETgeG8PywBG9ru+XQsXDmdM7xFLuID/TDjgc/3snL5XRulg9B/NKr4NDwk0KPwOMDQJrrj5zQVBcAQuvYV+bKwCiHAYKE9tVnR5G6+IK438tLJLLvAGus8spngCDNm/e6n7UnRFnyXYNt+Y19VVaRK1hsNuE3cZaWqZI/9eUsaDHy9CEIC1v6SCAIQIK2X55MPgRJHCifDgHQ5q0eBGlP621BVZ7RMxCEn/VLDbPJaa1WpwX7VkWyTstSPKzAxKxBjW4Rv1R+HoxJHIcSRco4Gg7UWZ+hMdZXqg8gAxBk5ZYOC3uz2NI/maY+UgoMGZbixzFPppyUJWJYje8S5SRAEMY/gMjmwhD7rNJO0mT4WaDSF7w/crWwxxeEBf/DO+PsDpmjhglG7NU4CQT5L0Xlzk5pcLHns1KkHlQJyptS8fkQpERg+oVdkXbfpDqXlDJaxtz0aUNUnrNSJYooCgdpLKMBQYDZ9K1vygcD4IufFcbVlyhKOF73nBhZ1Becs5/E5s5fakRKLElv+dVznsrx67d5sex/kzH3xjdqbMrsuC6PLgy4UQ1SCgTwQMH4ly0R9jl5lfhRt5TefH5YraBHqEpYPENwPLqAFSg8aH/eH2sfyahzCsq5ep8AISTnMMYBWwAhjG13Zdfaj9fG2uzMJh3DA1KrBdR4X1+a12Azr45xqiL6eVJw+BuDVMAHr+ebxwKBJgp2vKZo+w8Na3RwBO8VPp9sDnxImwYoR+apFAkQwmsM1z0jorcHiJxOL/X+eeyFCEIG/+fZUYTs/9ceRcj755P8/jjTHhDy/nifes7yHe7A4uJX7FN/jrZffaTRyrTbgrHbYC0uASG3Xm5ugc7EAiCCc/vqpwQbMnpbVGKE3TpeC/Md4fb5SQ32mupz2WkDggBFfGnx+vlHLGFCHzfBy89pttRMD44AQhql3vXMT1VWItjhl8vgUVEsJUj2UG83qVETmiKZ6rFQniIzVRbCuWVSnEh1gfHp0aIm65MmIzpt7m9a3WDRA6O8NBLtPLKAD2qQqmFuf1eGQskJXiGlKoWnPjojuROq6JiHdP0Fzx+0yz+d6FQh+HNQV+7Vn7c6uTG+HHuOhrsdxxlyuHfSbC3EuQ6ScoA38fK6qF1w0PpcP9DiNUHfu0y79qmxbtI+PEUeKpVSdqjee01RmPu7UFCD4wAyUHgwof3Tai+Vhgk1kz9Ppt3qjPGYBE7RBBpVCDtn7GwCQ9idS1cyD4oeUjLLBVFWadKZpGvYfjDYLRZw8GeS+sxaGfbJbDZVk24mn8RYsnBASXO4Qv8R1cjMVslJJwxh13LLWw1dMKT2UJuFbVLCg66RRorPDRcDdTrc+b1RFGkFuxota2yke/9QlDQdqLU+I0ivkOpD/iC8N22ZfWz4iDDbs77exXlGkhAUp8XNkXbLlLrHwZA3623E1Bg7rPfaNz9kp5nGBPm+0Q3aRVQtfXCMdg7rtfuqGv1P7HTS/sCUiw4t5gAifgNS+FG7vjKE53T3ZQhMlQn8KgEbTpQYE/i47ikf3b+OxyuZOVtAhNf6oECR0LDorltLpPLZaCcCIL43TOBrhPbra+2H5JHTGY18stf3AQhqD9cEJfSB7IIgp6oCeUcIojKYjnxPGeV74biSGyAIhqpKlWk6VHkMRAHwhI7NsKDyegtqUgQvpsGXpVnuN/sJ/goossjUYlTdsX3lrXgHQfjObxA4QAkCBGHhS79F30LbslteTetKrGVcogFBJg1UqcqfqlycOX04Ea2UydA31FS2OoNUSjAA2Iu3B9kDsxvsN9tjHQzgmCgKSStx5XXqe+nvD+fUWea0OH3ePSDrErUEQYLL6roW/USJTxWgWCtAc9+4Gnta6gXMO7dpA4AyF8pe6FNf2RNht41ulIqvxZbKFwTA/LpKP4A7t2Q02EtS9I0StD4qtQclJEByIAiA/TKVilwnxQRqkL/lC5zLv4JFPRCkSGMPYyNGsUTy0jevUMkQ8bQTkppt/cEwi1ecO48BSGzd2mIDs6TiE9ABNAMr3tgZajeM9cqCuM9AcF/hwZiFSepa+Y1gwP3IEkUkVzbYVz4W4gxVd2rMoERJ9lnu/qDKCNfr0DBHRfV3y3CpbXSt+nhI+VJni0sUVazHorRAMUmcLUAG9ee/jzvqjEspXaFR7jJTypdsKSZ/nxPj/g0I4Vy/PuaoffjyxTbt4Zvd+8NGymfH1bt5BQapAA6UGwfkMXbD4AbbKNA9Q14kqEBQgKQLtuCzglIE9QeKHby2xqmshv8DQXwQ8t3xR2yjlCuoJjkmviN3DanTdUW48TJdJU4Rek+mJfaoQ07WT73ffn9BgpAfP2+hZxif2ypFyP5/6wEh77fP83v9fHtAyHv9Heo5vxPegQc2LnK/GyNZ6ldfiDwGhLD4xIfiqU0R9r3L6twECHd3jEBJ6qBc5WOTW91kZpFqej81os7t1uBmz2SNhvLATb47jepytYuEGoIWpV37yor2rkhXQAgTSCJVe8XJiFWTYRbOjTXtFqQZJD4gwJNCKUXqf/WyXfmbG62IOD6VcgAzDhc0WfJwTSalVDi6/pBFjkuwOB0ToII5X3l5u41NE1zRdeDBMSlN6TKaRGHmVnmwxbJHeYZ8qEIAHwt+V+5gSKPOnf9nauL0XF60XZ9R7yDKakmXUYXskWknKSyb84JMlhOuDKVgsUxkBYrC1ha7dB0f9NTtqbE+o3tp4q6SE+1WYoR3/cgWBySmjFRJkCaYlVKSXJ2NqoOYXSXSaGcvXhNQvwSGiEN2Dn+/NtL+eVqjduUi3O/ZvWNyx25cVlyzgyF/zY2yi5WcwLnnaFeO9y7vUIhdpwlmquTRwBCOhwz7otQ2pzA5IFn5qEy9j1KQoA45XC0YIRhS8HKpTbpVO8Uk8HTCkOYNFdaandAFQyoOqtRIM8u5MpEFhry+j4hcqX0kiQeGUDaUnKXyqi26D4IZBHXXAAAgAElEQVQh3Bfer7Bnd1vTLUMtMSVUZURaBAmAAENQAbHQwZskXJ+LPlGeZwgwBDNEatd9GPLgxCOST0td1AlDWjrqtXsbYU/u7XBAJLh3jLUeljlqZIwBQ6yx1SlDaIEwxP8/MMT3U/AhiP93d0jiQ4ZTBSJ+5OnxvpjnwkMk8HU+KEDkTLv90y19ebcAxH3egCAx+qLoM+l/Nk6UQHS86+p+roHQLtAQ1YcgGAVjqEoDcgBB/GQYlB/N1fJPykq1IL4jnSoqIMi6bzQJgESqn0eN4UEQ8RF7YFMvNw5g1vliQYxKMtptt/yGKIsjanzWGEHRLUEWL3UYhsgo/YgnJ6ULdRmAvL9CbnasqrPYwdF25GeLLeyqCRY/Od4mDGxzEORbVzTKP8Nz2/YhCEpATFkrNI4AQfCSyhJQ9SFIiURdg/oLOCw5au2JMXbrNKnN1E9SzoGhqFuoq1Tj38cetafUt6O8uE6lgwel4KCRtgIEYeG9SKWKmIICQTBKpT2+N9ZuUPkHEIQywwc2yeRbY8it45rcov0iLc4rtQinFGaH/KkAFgfqwmx3iYxkB+FrhAqk2SXC+A0Pqc4h0qn/FvzggGV8aYgDTYyreKCgwBwiKB+l403SuTAuO5+WzmvjeZSxXClY8eiyMMH5ULtLpT0AG0DIWm104NGCV4sfXw+4yhXcRxWysSjEPjmmwalA7hcoemhLnBQe9TI5ldeWlC5cD2qQBvXPM5MbnTErhrEoZGjADExQfZ8S7vXz+YJNI2s0poXZc7ui7N6L6u3fblpon3niWs0z2t39ylNZEu35TVIQqc9HybNdKqApg9v1XnnRuig5FglkDNb4tlIwZ9d+s9smNLuxc4pUOvi20PDaArrsFvQZIy+uh3dJJaqxlM8px2BzYUK/Vjdn6S0/k3qNg2x8DO19w5l2HT3Pfw/cgR4Qcvw3oQeEvAc+nBfgKfSAkAvwTb2QL+mVgleV8KIJrha0/7sn2m6Q8dgS7Z4DQ1AXjNWkgbaxSuZz2nljUvjLNVH262tq7NN/jbV7L23SRCfYFkiG+tCMGmd6xkK7SQvUTC3emVjkaGKGl8ZFTCK1UEf2m6mJCzv3y2QGx+SLeuWs6XG2V2qDoEZJclO9pAEmtQ0ry6z/1UmGByQwpDm/1tKn97ZaLYCZBAJhxgzzVBPAEBbbKBkObq61jMmxLp2gTpAhUSaueHWwk4YkN3dDg42/2JtM58vTAhjCxBNVSoEACyU4LODzSzSpz2i3Jc9V26yPxjuTuoOKCfyEYguBIVdqskzNNpNiJtUszmkoZ1YVhLlY4f25LdY3URNunUNkiJeMw3nibRKSpIW42sisYDfpZXIGeMCsDsNSYBGxjvz85aXt9rErMQrF0NWr58ZU8At3Cfpo8jZbO5vfVUzjnJR6d59LdD7IqIEel2uSSgrNpyVBRh79rP5NGQleJKkySr1Uu4Z/VJkP0nNqrBfJW4NFCa1CdfyApznDvWvMKdG9XF5mGOTyXgAp3HsjGBJ/2QBnWrp/j645WRN5AZTqyjanDmHyvlKgBSCFQSELlhxF5wJEeC+BQfzNgon71jy/wCKv82T8Lc2CcSqXKpQJLr/rpV1SgAjHotzm4uRmV5r0yDTPJLVCn6Mm3bs0SY0iQxK081psffR2A0QmXnvAgQ8Wej4QQTKDZ0hESop1lB9xpqdNLfIzSVC8qBaHLChp/gIycIHZlTrTzcgS0ABYoZ3IQPVUgInfB51rMBLY150NSBIap9xj7lmNPFfOUwNuuddsPP2I3dMFHv4l+car7+SBgqLHfY5bat3f3T1A3DkrfvndNj4bvs8Nx/A/n+GDUroicfmcNh19u2QqPDnJU5xUegoRH4Dwbzx0aP53AkiS8i8j7eU5QEVBzeBoKQkqHETlezYwWkbY8hmJC0u1G19vcB4V9FO7y0Jsorwr5m+WYmORHE2vSbdWGSJ3yAA1K1sgXT5OYeoYkuXzQULKzhwAuDwflFpVva7awkf0sctHeiUhgAkACDCd1Kv4fiqh0WvXbjxkqVf0c/384dWVFixvn+Tb0y1NJqB4gWTJM4TnAHrp80ZIkfGC+u7pKU1apIfLx6Tenlc5CQv/4frdehmD+hCERT79LHGxxAJfpdINvClYKKN6IB3miX2xKm1sdItq319kk4w8MW3GJwM4QjkMCr4+WmjTV7+l16DshrSvB18MsY/O8so7GEsAukSoYygeLkbFNR58JMcyvjrUMxvXuES/vlx+KkfUt+KtAqR5SnCC1yvTvXIGr7rmJCk8gBJsYgyUyoZNjdmCIsB0PERQd/pG3LzfJObgJ4XyJkSPJX1lnc71u+OPqkw21KkmnpJP2LXyZ+G66dOBYJT/4PXRItUPIAUfJ0p0APWMGZPk4cJjifP9pMagHZpfsIkA1Hnk9vl2w29vcKCfa0PlyDi6SQqTwqcLbeI9qba7yOw/ZtZJKRLqVDqXqb+nzAbQclDzC66LBtyZOqDFzT2eV6kTr/31MTX2021xTq3C35TvzNLzAVMk/GDcGqLPKsomH4K8KL+Zm9OVbKbjtOmaxiScXsriu/0e9zzv7N+BCxGEZPzw7ChC8v9fjyLk7H/iPthH7AEhH+z3/31z9b+X/8ccxfNtEeAYr50Qb0dPEXf5Ea6O2d+5mqwa5wL5U9AoARkpMMJO10dV81ukHXgmVzeNblbtsRdhx/P80ouZSY3adVEyiWTEQApqfpk0vyapLJMr2v9IyTAiXcfW85zTvSZG23fIf+Jos42bHm3bNCkO2lRuHeMHuIVvonaGMPIMUllJ8PIiC7lyoDVVyYtic5kNuTtdk0zVNAMqtPtXvVOTbZmRYKJacEAGbsO0iC4RWFlV7hJOFi2XOmK8km406dy4vtliBoQ7ZQaNkh3q0XHRB9RQx8wEFYkuJSFMuphoMsnjut2CQY9bKCCEIqRAjwO47KsIdjuHa7dqpqhzoU6dchQmYkxAMQpk8Y9ZKWoIlDBMhvmzcZeXgEO07S6tH5CK79+nBIWjLQ6GUMO+O2ASy7mQUsDO5oNbPBiCPHuLdvtw/WdiSi07MYYsBpg44//CjluSjk3k8VT9/ufrY7pgCJ4hRF7SLpakmXuA1wuTS1olRrVKhAGGFD1dYO0zUp1qo7d2f6uXlVvo+H4u8hh1DLXmqFPY+SRaF/UO0AMYgkKHyEbUPz4MOZjT6N4TH4bUb6m2MC2KfBgyRKCqoMiL3wSGJGnd9tMph+0Lb8bbAxcdkUxd78dBAS59vuM1e48JTXIwJClaO+AyRn08t8F+/qUCD4goXteVIXTCkMg4xehKm+7DkPB+/S2oViUDis918aJBbyfD+ItL/qbhKxIIPXygcDJvkFMFIucThgR2aGcDjAQe70yAxdnqaN8t+DiT1w8EIOHxCdZ+pO6MAMjJDFE5V/fZ1Oe7qepts2AH6PpEOwgS0bvvPxgJu89yH9Ur6vvrQ5AXZh9Sf4e5dZKDICwgMbKM05cYCJKv8hQWslXqz7+1sbcrcQGCYAKKf8TqXSrxEASJHNLLLfD5rvsQBH8mALQPQar2NVpwSa3zcwKC7CuXX4e8lSibAIKESBk4TCBl5/YWS8sOc8/Lf7VC59pmc+9OsHXFYa5PxdyahvE1SgEgCBAjX5DChyAAfkoLgRdAkKnq72lEzCbL8JUSRRJI6DcZu4g+/6jKYfYKvPN41C9eEo1n8Pn47hjLlM8FUILEFMo1cvRY4Abgg5Iakro+PbLOQZCpU8KdieezOyNdEo6f+gXYp5X+Jscu+ka2U3ngj4IxKv0nKphrJ3W4Ek0/0p1r9I3GKWl9eb+ghXxPlilWl1JV3ot/Hl7jlC0oR4AdCRoDUawAdSgDYqMAlQVjNvDiUpXo7BCAAKAvL41wpShAIN5j4orX6h58SnCDnwEqeN6fpJBBdYFn1Ssqk+WeAoRQg8wRRGHsoRRnseLi8YqiUfaCemOIznub/gaSMK4xpgN37htVay8XRMjku8k+8kioPfgJ+VMxRulYKFZvy2x0175OJTDMPfj5ZTp33ieUK5TMPLU3ys1XJmlus0+qE+BNX3mRHZFCpq8gCgk+GMu+oLnQ5XpulMYnPi87dV03Z1x7Jl/9nuf+H92BCxGEpANCZAB/Jq1V5vEHekDImdzCnuce5w70gJCej8V7+g5UN72inZI2+7smE+yoUMvL7g2qECYAf9IkAVUIg/5DCyPsO9c0yRS0xe0OMcEbqh0vam5/nxNrD0w4YnfO6+VKZVhkM8H5z8mHbWFRuM0vjraPCZYwuaShLgGkoCrBr4EJE/F+7OygFiGab/+aGrvumkh7Za12MyPlmTHCkz1X1MhYtES14dqWQ07du3ewi+wjSrd9fbmFT020lkWF1v9jac4slQkiO2gYppb95YANvDPdGYSSZIIig1KK8vllNuX2/vbm6manCmH3ieSYiZn6nSZcNMpCgBa9tTivVkwrNexbdb+yBIMoGwFisNPIxAv58QrtHKZpsr9uf7AiaXVdgiHj3M5UkO2sDLWifGo7NOFW6gkyYcpV2DGkFR+UOap2RFFdjNFk9aUNXlwipUHUyGMyemBrvf3zjWa/WSFjQ8GQ62aGOO8VJNaLXz5qE67t45Qc0xO9emxgCMkqpNsAQ5hc36idT3YHdVjtzMmHQ7uhKEEeWRVhKYqm/JAkz0CeFVLqoHDhfeX6mJxyT1HoUC4EDOEaUKX4MKS3yluqS1pcHCUwBIhDvT4eI8CQ+hpFc0bJv0S+KewUY5QYp3tbIxNZ1CGNet/wBACGVEkyz+uxkEH9gTIFU9XiZVVdMKRFC7I4lb8AQ5BO//2ao1IkBdkwLUD6R4ILgmX+Kj8DLdSAfP0iIzXxlXeMFibU/mdJrQAM+e9/PiAjRnkjVEpB0AlDXLmMGp4lABF8QwJhiF8OE9G3f9fisutnlBqcAIac7c4BeNLW7knzz7QBfU7Vy8Ldm/Mc03um18fzzwX4OFmijH/egQCkeznVqV6b8/IIFbyQUomko5DI6BOmwhwD6AIgiJ8Qw2uibgqEIA4IqhMCgHRUeioeyshQggBBgB6xYX01bhx2EKRUpX+o5thJr1L/PiY+2dZVlDoIWdrQZr+Q+acPQdbskcIrT9HYo3pZw+92Wdy9Iz0vEPV7QBDMs3PeqHb+UUCQkKKjNvKWAVYs7yYaPhWA2Nf/eamF/dMsB8Ypfxk5mkWw+jiVcBxZUuYgCH3dgg1BdtFIry8HgtDnoBZgUbtKZRT0jYB5IMiT6yNcCaAbC9X/psoMFShA9DieGagHnpO3Bwt0fCjqBHVZ4ANBGAvGJzTaldpAeEt96mvyCqHvytaYih8GEIQ+8i0BZYAF4PylwminvFj4aJlN/FSKA9Wks5BYhooDNc3a3VI3qF8k3Qy4AQTB7Jo+cbJ8pFCDTM9uE8Qgbl1KO/XZAJnX98qjS4au9HG81o7DEU4Jc6PKdl7W6xJ9C9RAsUmJJCDii2Nq5fsR4VJtaIzNKEYwXsUP5PsTjkrZGeKMRRkLiKGlFAjvkaX6PSUx18gfi+sHdhR1pqkN1DjB/bhqUIMDRZQXkdICtOG8/EhcYAuQhv+zFYEhOO21z8+zWb++SVCmxW6Xme3KMq/UhXkFML1Q50n8LnOSHbo3eLVk6bpQdSyRMTtGtv80vN5+Ki+Z6+XR8qp8qibqPZiqiGI8WrbrPozT+0RDQcL54aWFCS6bQ4Af1CCc7+zUSL1mja4jQaDkklP9yvY87j1wB3pAyPHfhB4Q8h74cF6Ap9ADQi7AN/VCuaTdh+e5yUh0KJMc7ahpsGdS6KtCcLOnPpadkKtTPUd2IAUTBX7HTg8TR2Jif7Uz1j6jOuPtksr+eFW03Tul0e36fH30URmmhUpt0mx/lCfFbEmPiec7rN2WfZqUOFWIJkpIWqkVBhI8JqjCROct1SB/VLGDxOWtLpSpmUDD6GwW296OXm5eW5cqhBSZmNhgO7K41EKnKMGgs5A6KZmkGSlMBC7YbWyaX2htab1s0jW9LbdYgEUEgLINP+mGCSLGcpSr+KqQQZqYu8mgQAgwAqCCkSswBLVHjMDDHu00EfULDOE8KMvgPJEUExG5KV8lEdRu6/EsFJjIFis+mPKRqUO9mEIm2DQ8OdjpBIaMV8wjE+H1UoOMVbnPVsXFEnNbvl3lQJPjnEErk0YiAZlIc97s6rmIQCnebxza6BQXwBDu9V/zo12SADAEEAXwQQmCKuQOueczKX1TddqYqQJD5owh6cEzgAWGADwO6dyRjJOkQHIMMOTGUc1O4YFR3trcYEEUJeRsqLc+6ZEOhoT3kgFggVfC5MOQ6cO1m/h4uQVPSXQwBDk1RrKUQAF7SBLiXgM4+rGQkkqEfzfsOeoWT7yfyXp/gSHtA+TtoQ9wanaEgyHfkgKE+5wpU1VgyC92xdmfZh5yNejIpFeWhjllCNdbpsXb0N7x+pxVa9LeYb/dLT+cO99yJTG0pmJ9UDobPwuEIfwYIMIu+olgCP4QNEwn2xrru0pp3M/eBTwIj+njnU2AaWZgn+T7R5wtIHIm/d27ub4zeb13eu65gB7+651KKYz/2EAAws/43PjtmFIWQS3a8cpjfADC74EgYSFRFqTYp+NF4/rKJEpgfBjivyavd0xJl8q+/EQYB0Giw61Dq8GO6loLxrhJq8X1CzL0XW1031eaH1fKvykRYaEYrnGE8aRa/UaSZGhAkP3abf/J9l5WpFI2IGdyiufh5EMQ+mzK/zA5BYLgh4Q/U4LSyI6ulApQHUL8jH46Xz1ugOcBlPtvr1vWD2e7ssj+6iNoQJAcjTmVMnS+Wv2XD0E+fLHgt/pjH4LQX5HAtbTUi9ku1WIbs+x5ORH2w0tr7A+5MW4xzhhH/+dDkKu0wH9yb4zKXpq7IMhEqTqAy0AQ4oEZxwAPKEJ+vzPGLtOiGzgxEV8QQRAMxzlPzGKBz/zsOiWAbVX6CcoLxgfGDvp2xsJ5m3Vuul/DNfauL5BqQRu/RO4OkjkoapDDUoJwT++Y3upg9NJ9YXaJ4sq5dsohe0lpkS64wtjAdWOoyjmzkZEv3y4W+HiDbJQqBBNSjM+BICgnOBeAEeMH8wXMTj8qQA4E8cYGeXRpDJ8nL7D1GrOBIJiWAt8XqMyS5y7URohfGsW95hwoFSVSF8COuTjjHL9DLQqYIr1nhsat3+6JMwxsh2jThLGZNBmMaz+U0SgD9gj72OBG+87GXnbv8FpnNvumzgtgQ7tWShG8RZL1PgBHRmnTgv4eYKKPpAMjxCKP1s+ZpwxT6RQqkHI9BhUIIIQ50Xy9zkypQSiL4X1kY2hmMp4i8RpDazXWyIVdLTR43LnqvnqOexbvwIUIQtIeOjuKkIL7e0pjzuJHredQugM9IKTnY/CeuQN7BD7YqaOGlp28QYosLJcTvb8zgyqE8hges1e7PSma3NTpsUwCmBBQRuGBAk82jNx5jx7HRBH3+yOaEGEK5ys7mAz/SiZkXxtd6wzVHpp4tKvUpliTkjhNztiZZ8GKMScTEiYnlG/gQcJi/DmpSq7WBPGxLV7aw+gUL/XkoEpmcLynFGSv1CWjNMFEKsvE8a0dUhQIFiATzlCqSM4eL00mKUPS31wvdrFvSphTW2CkCgxh0Q2owHei6qn9Nuhzme4+eDueSjforCdHukuJyoQR3n1g8p6giRNlMUwyyw57bzfr215SLSD/3q1rAXgg1aZEJEOTLUztMhK8khn8L64ci8eHV7POa2w9GOKk4ph+Uq+NFHycatJfzom0eEESGiCmalGpjb41yUmGgR8kDFC/vqtU6hpBBExlxyR6JnAcH6iElJxFxOVJDe5nFY2hdp126NgtZOLOhJBoSGrjXxAUmDLIK5vhc8LEmOf4Um1gCP++LNE7Voo+C84QVxNr/v+WANZo7WDSXl+ne7213NpVxhQ9JM4yU4Nsm8DOrHEeEOl3TbIDTTSACO8Pu7zAj7ryZht+UaTlKF0nbFWRDb5/lAMj1MfXVLVZn/7a/c2VgiM6zBbcq+Qal0xj7vPJ54vJL/JnWqyug7p2Wr2OjZKF62bHLykqWvdDAEdrUB+I+F9g55GgnfTGmkqLlASVBJugw03WVPu2x0KEFo9NzUcsIsbzU0BJ0lxYbChFaJQi+L8LXLSyGG1r99RS4RG9rLnp1D00wvp2ghaRymbBnOM1UmnwyDiXMOC4L/w+/2FYtOdp0lJ/6u9H90vuDj7e7S0J751gzUfe/qwBP2gn8prxX8dBE8G45gov8rZ7w/MGXxwaihA+242SSPtR0r4XTtDnptime5oEN5rUT5k9kSuVX2aD1IDRbkH/pZG1KpHIVp+8V98fQWd9/8saPNjKGLFbfR0Q/N4lva1aJstN5U128fRIlwzCQn78EKnw9O9kVe1se83zAmmoaraI+DCBxmaLTY2w8Rkdru/CywJwvEaeS2M0Jixe02ZzpqksRko7AAh9371KKkPFCABBhUK/imKBvgBgQZkKSgUMXRk3ACBE1s6TSoJ++CPp9W6spN97dGu0/WB6jf1FXhhAC/oU+uXRKgkBAuR3GnlSRgIMAoI8uy3CqddS+nQ4oIJfyBvF8sBiLBH4zi30zKAB3OPVt6Ms8ctP8Gaalu55OdHe2mOWpbGsSubdiepaduZ50e7p+tlwwRyUf4y3LNQBDxzrjd2hdvWIVpWdyEhWXl2MT0S848NBySjlLUAQrpFykvlFigqW58p4jaUcB5hDSQn9OH5e9Kl4fPyH1CBP5UXqZ60uBYf0FSDIYnlIXZHV7IAJyk4UJPS1K2TMSlz8qP/P3nmAZ1mee/whe+8ESCBhb5AlMhRQVHDWbdX2dFi77K6jx9HaejrU2mXtsVW7rLsu3AgKIntvwkrIhuy9w/n/7jdvjDEgKNoemue6vIjJN973/d7vee7nd//v/9231aDHa7tDDdJwroAQ39Ca9sG0y/3MaPxkKM1RBzTBnpuXx1orY9YnrjX+H/df/bK7/ZlzVFYbIX+TOjdNcJtrTpziK1/OkCKnQAkbzFb5l8+ZmIL4hKQOZqjLpCghlsE0lWMepvLVYt2zrP0Jigda1C76BXmDAHy4HpwPSpiTk0naoHwK0b0Tap5T1c15iqfUil5r5Oy+Kr+trVRM02Ou+mHnu4/zeSciCOn/06ePS2lM7q2Xu7y8PJeWlvZxfgQ9r/0fdAV6QMh/0If973qqOwRA+mqD2CLJPJs9glhKWwAhz8vsbboW+d4qUVhUgPRVwEDB6jJlzGcpcGnSTp+g4al9YSZxnaTgYe5jMe6hT9VYUMGizwYTL4oCSYeRpRJwfGFxvPv19Ap3+3p5OChgxWiODDyZm++OqZb0V1mXBq/lK7CF5y1TNmqajqVCgSYgBCACHHlKBmdLsuRun6I6btWF/+b0KvdXtd0jgMJs7g9PNLvvXyMTUgVqryiYW7f9kBs5zCu3IKuzcotAjQCEGh24jYuqzdAzKLPMxc/pbUE3m/bcEg+GlP15t7WMnPztDOuEQ2CVW+DJS4b2fxdUbNzl+XiwWQd2mGO/gqkqlXUoMetmZjRJEh5qRrGbCgJN8o0vxpr2YwNc+DBkrYJclCtk+wg6CbAZm4pUnqEWB8N13bhOAA6uLW2BByarLEivkaluAznPFRoMIbBGOg0coFwHGNI/SZ9LhSTq7TDE2kVamYuXKeX/2RScIuM66qW9bF+9XZPHFfSfItnwYzJRpdSHYJAAeaskx/y9TGU4QKm32w1uUYBQqsPnBgzZpOwmr0stPYBmyQMFrnlSX6vfBwb5QAUY0l/XskzlL5S8+DAk9497XctZAww28Tu6yMTIMLFia5XBkOZpaS5tWpxtooAhQ0YFm/ErQTSlXQcU/PbWvcy1I3il0w5Zae7XfpGef0d9S6nBEI4lUSqfUlkBAENWFTdaTfkfdnhGm89+ZXnHBhG/EB+G8Le25AjXvCe34+vvwxA2oGykASaupMY2rH7pTOcSmq7zRoeHyMcARHgvjuuTAiLBoe1tX9tPsrmx+l82TR5Lu2E+t38H+HG4i9VdJxge6xv3HstF5n6jBArggZktRrZBEdF2jzPSfjTL/WJ6lb7//QUO9ndAkK+oxKBQ37G/y2TUhyBth5o1r2d3QBDKDVAVAkH4TrIJZXz2IZXxZFe6xLP6WCeowYKidC2hS1flunIXMS7O1eQ3Sm0lT6B2CIJ/EEo5H4KgImBeevGdQwZB8LZA/YYqbp48J/wNcZEAAC1jJ8tzg00/JRj4UwALKH1h7t4hVQYdXnwIQivV02UgylwGBJmt+XyBSkxGq7U542SVnDAXszYCZnjfkYIdzI/xmn/e0eb/oNjZ6emNHV1oBmstYK701X9vyCwWCILJ6QtL2twXzvKUfWtytPYJ5AzV9UKN8KpKQ0dpbgOCBIdQHinYoc09KsErp7RYacoEnZvfRp3ynCulpKQzCxDkWZWisEYBdMyMVHPxGVIsUto6VKoNwBCtaVkvGRij440CuEH1CSRmTn1CbYTvPrlSnVdU6theSrlcyg2MyIuKWt3FE1U2Ixhyw5Rae+0tmv/PTG2wEllAyNdUnkNJCWoQrjnrGR5UK1UihHcI3WKukuH4bB0bXh0kVWgtDCCx5IrWctQnXxnR5HYrCfDDDXFSMda4757/ulu88gyLbQAVJGR4f+CIlT0JdjDnr1GZDuc6o3ezneNvtka460d5vll5il14PiAEpVNUUJDMi2nv7AFyXofPuk3Ar094ksBRiXUgCwuM7oAg4UFJ7ul9KuXStRodL480vc4L+8NkyKoPtmf8W12BHhDS/cdBaUwPCPm3ulVPiIPpASEnxMf4//MkUIDQrYX2qdGSFwBCSgUfJBLQRqiXNoaRJuss0eYPkIE5GLW0BHKR0n8G9CIb1Gi/e07lMZdKggqkINjIVeBApoVgkOCSgaLkU3JVB2oQcCA0chgAACAASURBVJBlQXr7xD61aVXAs0i1wzer9nipIMs5/THJVJcQBco8dpwCk/XK5g1SwELmhfIcAgqO639lNHdKu8FasRLel6o2nGMlw3WlyjnoQkNZDeDiLcmcJykoJAtF60HM6MjANShYo70qG/gNqxrNFDXnoX0u5rKBVs4yUe1pabWHSWi8jn/r77MNhmxXhwEUCQP7eZ4hGJQS+BXKo2T8sF5m6grsIFAisKNEZv8GKRNCAt2MacFun5QfPB7/kub8Ojfy1GiXI7CSrnKbQika4uJl5KouN3SywUOjTxQGsgIiZOMUEI/qS9tBZQHbWx/S3jddQSOthtNilH2SzwmqCYxltyl4naXAF7VMpv5O+c6+X2e6cTcN7YAhZDJRuABDbJMjIELwDZihtIbP6w1lLaenNNrPKyUzJsMJYKImfbaCUgJuSpkITPE0AYYg6abG/qGXD3XAECTzyL4xRPVhyPJdghMyG+R8AR+j0tWOWKDs9c3anL+V50Ln9e+AIVy3g399F4a4Jsn4IwM7YMiAU2Pdnh8sdBl3nmkwBJA1d0SzOhs1K2PnZTCBIUiZKcUiQw0MeSM/1J2vDUrv8HdhyGPKcGK41xmG1LfWaqOUonMsdmfO3PSeScCHIf4vKZlpKizqdqIAelBeAAxh9IqVj0O7SeXhgMhHKSnxS2cOIYnRaC5tN1XocnT/KpPVT2o27dqV5aO+79GAlOOl/vCPlda5TU3vhUdHaofb+Rxp78xorPCARmhYnJn7oiTB4wYvEBREvg8MShAgSGeYAhz5yyujDIJUNGWrfKSXUzMYAyBh9v0PVCeNAfb6QJANpTma/1FgqTxGtzygHBAyQkAbBSFKC+aP9VIarC7xOoQBQLKzWt1MtdFd+kJVBwRJGRLmDu5pMCUIEARvH8b0Ac1WSsHmPkvz0HSpPMqknNiisrcUGUlfPcjzqPrJa6HuPBmHAkGmaf2g/OPNwnCDIGzkPdNoAWPNUawVwAzK/oAgAOJZMvf+294o6w4zWMDgba0tqABR0gFRABtAkKX7Q6xUB18P1k46Vb28LdhMwzlOyj3SBVXpeILpKPMdiQi/9Tow5i/qVH/BTJXo6X2e2hNhBtyUkmwrFGwWzN4vUA8EKciXIlIqkP3qrMO/0bq2DEAI15JyE7qDsRZ9WaWqf8qMNHNRwANTENeAddvrjOJ1guMcUIOcLxA0UYaheEl9a2S1qUEocdmra4z5KWsFahBUdnSjyda/XxxRa2vDeiUGwuTDREvk81Ragw/IaYIgj73S6pKGR7iZ+sz8ss2rB6sESOsT1xBDU9QmHA9qkDumVQtSt1kyhvch4XFhutQg+juKDZIxqDRRkBInXK7Wv/tr6wxWMN6R8gXV0XlaV4J6hSm+qZYaxPOEGiQmmynhE9fppIRDKm8Kkc9Ig65XgMUZXB9em7U8OhilY6N7U/5lfscZfo+SdXicB8O6ghDe7+2iRlODFDdIuahrjbH8lOR0V92Sr3tq3kedgnqef5yuwIkIQvr9z/FRhOTd1qMIOU63Wc/LtF+BHhDScyv8S65AbfPbynJUWuDJRpZ/r1f3jKdOL+tQhfQxMBDins2ScZoARoDUBxu1cScQwVwSEEJwyyAzQuYcuIGxKaqQRZ+pNLkq8mICQD+Q4GcCTf5GG0Xa0919cpVM1IIVJDS7W9bGuDtVJsNjUIVQpkDpBhvWV3PlR6INKUEOwCRDG1eMPIEvyFsXy/Bs4b5Qd//plaZMYCCXxVfkprFVFsi8KLO3RZLqxqiaBtM6judV+ZXQ0jVJ5wYMsCzec0WuV2mdS//SIMmpPYNNfDlOG9Hmlmzv5TIyVEcsSMSGnTF2wLsfJYEmqhA8SwAVSJMZZCVX7pUpaLZqjgRDBo4L4x+35/F8FzCtj8GQ4DSvzIf3QxptJqDKirZuLXN95yRbMI8XB4Hy+rwgz1tEoAgYAsQgA8j1qlNmDRCCgeuebU3uvGm93OJMqUAEWaipLtdxN24qdYG7ytzMWwe7d3b2ciMG0qnFq8N+KTPUlRbKwG+S1xUAufQlkoMTZCJ7pt56uVo88r7LZJwHpLlUteFsZMi2HhSU8WEIkuunpRyZo5aJPgzh8/dr4IEhfL4EoS9uDjYY4te3j5PyKFRZ3BdXKNhfXeASL003STlBf3JKYAcMCVh/wLWMUteZCnWPSPOUGqhyfBhyi4L0Z+SB4gMbsoB0aECpFK9AF/BGQMz9Xat7ubfufx+G7KgotxaNbAwAItybyTKe9GHIRYuUeb1x8Xu+y34Jgf/LkKEZrhflKfvzu/3O+0CkqeiA/b3DvLKTwWrXJx4NEDlS9xmgCEDkcDCE9zvRgcjHPQEfb/hxuOMFgPgww39MZ38P/3ddAYjda50gCMok7l0fgpgSRG2eafXbWQky6Vcz3XdGV3dAkNiQ/vKGyrXNnQ9BZvVpFugYYACEDD7fL773bGJHKrvOnI3fwkxl+YEmqwUrWD/wrFgtJQAbcB+CZGvewRQZJYgPQdJGhVsHKCAI3aROH9Dkntso+CF/IbyZgAiFAuJskrMEMr44tNogyG/V0v2zExpUehHaAUEA7qgifAjCxhZzaSAISolxmsPu/6tMTi+OMf8PDL5RtKGMYHP9G5WB+BAEsGAm0u0QZJxgCQMIAvytlKcI8IR1AkNU1AS0icX/ZIigEOrBSTLoZDy7SGU9s1S2Ipj9nEpPAMC0L2ceoyRy9YYWd47m9tc3SD0i+MHoqzVvtkDNSyrjmabOKszJXNfF6uDCsWHcSkc3DELZ5POZMGejpmFtJVnBc1hfl0uJyfFxDV9RqcnNWkcXCBYDbwq0TmKO/qTm9nvUgQswgCqDcwTYpwuC37skzJ01rs1A1ASpBukq1k/HgrcJnwltdWmhixqEdeZKgZJFeh18OTgGjuVnUoreOL7aykxj9RmxrjyYGWHvg5krAxjCWh+m687a73uKUUIDoGOwvlQLVp0iNUhEUIxiiDozgV0rqHOB1ortKmUcLuubP+zwOsCM0D2KqS+JlaFSG9a0tJgapJdUc8Q+9ZJXEp+gokVZ2D8qTa+fZ6q60MBY/S3WHtvcVqf/qt2SwvoONQhxBrERiaAfT0It1GQKkqjg0z/uKann9T/gCvSAkO4vEIqQHhDS8/U53legB4Qc7yva83qHvQJ1LcsEOUqV8VaJiQIBfA6KtR/3YQh1rxe8FO8en1thWQ8W/xRtBoMDwtwrMgI9t79M8SQHXV+iIEabcQxRxyZEyPyuSaqPRgVMwWql22z+IWxi/awJihEygOnaKGPgtk1B3mkKkD+7JMHdN7XcAk9qir81uk2v4ZXXrFLQdKraAgJbqDlHRtpbJe/8/yopJSjRAX5sl6Q6XpvZhxQUfWk4wYbMRPVcas5TlaEiIBqiQJVA7zU5wF+jbBMwhFa+/1DWCqAwWYEoQTD128h/CbKQ9FIv/tt/trkvXRRomUJgyKSBqq9WBmy8jORekUqhsU6KjO2l7pwvJLj1yjb1VzZo7SOFbsRVqV7Jhbws2IwT+PHaBJoY29GtpuX5feaHEX1qirX53SPwMuhiwRAFVdnral1wb0ES6pAl0UmSx8WBO9e4tukDXPLMJFN5oNKwDi3KCqap5W5huYK1ZK+VIn4hqF4Ixukqs6bUC4D5PZlNsp6vKagFeDB25zlr1duk2DsJbxjJtpFfI0Uv29/o0kaEuUGS81KuM0mwikzdMnW9uSSj1gLVVe0GdJiqMq4ZXGsGggTKvC/qnSVSmeCVslWfz6VD6kwtRNaP8wCIWBtjleFgVuiXxXANOcYlKtGakS7jQpn8DZcKhjbDwBAC/uUb29ywkcFuT7uRqnUB0v1SX9niAkrrXYy601wwqsl9bmi9QT42amQOkUc/pQAeQJYq+IFB6u+3RrtfTq1Q6VWwSaTJ2q1TkHzFoN4CAoHKEucYKCHjzcBEtaiuzB5Hi9CShiJ37TsJBkXwDGloKHdd1SE8L3SAWulodAdF/I0qX4wOZUj7RvVI09vRQBGejx9IU/2H97TofAwfFyQ5FrWGbzbb+bhaSrpXuXycy8ORgAfKDfu8u6g3ulN02GekVrVdvT1oe2uvUef5dRxr+VLXzjOd/5+ffQ8a/xr5AIT/b5CvjT+ef3O8a2hvAX5AKg5aptMON6cW8EC2nLK8oRJoec8paTxoqsG/7Aq3dqWsLUBFwAhrBgaVzMlARjayABBMSjHb/PboOnfZGwmm6MKrKSVBgLVMz797pes1Lt1lXJnmst4qd0PmxJsyA7CAbwbAGWVcngAGig82xyg4frkiwgBINXON/kbZCeOFzDA3R/4VzDts1M9V+1hUDmzWmYNOk9Lt1/KxmqyNPCoRACpgAHh796pIN1OeFrxPrOaqNP0dU2jmMtqes/ZQfmNtWgUVUrQOAsYBGShLKFHB5LNCa2SU1DIF6liMKeyqFY3uojMw5vZUeisESsprtNkXBAEyMLfPF/Tp118bbZ3GHBmuokjx53R+5jqytgFB1srsdJqUfMx7lHuwpgKCzlNZKhAB5SKdVGgTy2Pss9Bc/bbWEWDDd/7U5n55ncpKVJbC9cMLBW+oB+XP9XfFDHSW4TOklHL5nkD31ZPr3V0Lw9wZ47Xh1+8u01oB7MID5Kox9QaXRgvuEIv8Y2+41lu677QKmIeZEsMvZbl5baz78rAaUw2xNkcIeD2gMpk1Ugz9UKbXgBtUrACSobFx6kLnAROQ0Cj5peTKNLu/Sir3qSw1UdCHctjYkD6CcpX6nOqV3KHMN0gxxCF33Ygg9+DOFuuQxzzPfYuh71Cp9GihzvAhCF3Gmtu0pni+q3ZcrAo+BOH7GRGUovgINU6Z4o8GO1fOi/sHc/hCrY8+BLlnc6T74QRKeJN1fXOloG1z1wzpUYl8nHP24V77RAQhaXceH0VI/u09ipB/xT15Ir9nDwg5kT/df4NzK6ybr0U/0RbjbeV12sB6gQBt5WbL1Tw8MEkwQS1GtYIPjApXICmJg0Y5Ug2NeKU7yGyQ0QCCyNVAAZ/neu91jZHhaHS8gsV6LfQecBgmSEGQSxCRHiU5sXqcBggCkA1ESfKWNu54exCM3bA61t08rsoMV78yol7+F/HuV1saTHGADDcqWMFfOwgh85IQFux2VbSoRMarzc1RNh+pMmZsmLhNQLq7MVrBnYIObWSBOTjTU8axsACHeqlV1OGGNngEf8h2/1vvX6KAnnIOyjUAFrRDRJJNaQc108/uCDMwMEzZJYLl5eta3R0XeN1UgAJv/r3EDbm0j2UgCW7f/PMBN0RBOkHpuhWSb/eTy72M/FBP0Jlg81uSeMsQtOmZfS79+iEyB1QbQJ1f6dpydyhcRq1VjepeE6tNtLrg6HzD4nQcgiEFqytdyoQYVyJz1UHqpEIr3G17PUPX4ZL7em1qA12OsmupynTlCkrFRiizqT0JPhqFhZ7PBh4iwJD5OXLrV9DIAIYAXsrVUnLMZb1drgLyUMEyZOdZe1vcKAWJ1EcDGmhvW7Cuyn3jCjoOCNToNe7bHm0mcn4tOdlRu5cMMKljhK7TkqJwC+JXKuNXpXKgayd5tfhsLtYqsOVvbCAmK9P6+NZwM83zYQiBM9JuH4YAQM6ZwsZHyhT9nJAiD5bFB1zbSckGSUxN09Dq/vlfde1AT615dU9y3yDHJ8D1YQjdizh2MtXAkAdOK1cXiCCTPXMfAG0GRveTZDvfzpWqEsrB+PsAdQHKq2u1QJwBEDntmUZX+D9L3gNDmmor3tNuFoVIQG6VMrzvbjL9KYNNaGC0t3n2Sxf42c/cd5fp9597LECE57Tp+9Vd55Fjnb4+KhQJFlRqruzezPVYj+WTePzRKD2OFYAc7XEfKwQ50use6bXoDNMZggz62Wz3s8mVMp4OkL9EuL6ztZqrmYc9CPLHneHum4IXCSEpyqpXCSA22DrAIOPPoB31ta+oS9P5VeZlUayNOhto1gy8J3wIMr1dEfHfi6NsfqMzFAbQB3JVyrGl2E38r75u7WuVBkEwY35kTYibOZJuUh4E2SD4i0GoD0FQHdDiFugKBBmskhDGn5aGuCtO8Qyjl8gDiZINf64xs2jNpyVSXlDa50OQZ/dHuhkp9bYuAEGY01HSjRUYwGfIhyCsk7wGyoalKikEgmCMSteTOfIY4ffrSsPctkfy3UmfS3X71MEKCEJ5DJtqH4IAkh/cEGH+UuNT8e3QHC/j2HSbxz0jVc6T9Ya5FkjBdeSaotAAQPD/zHdjBZ7M20Pz2OsFMl3V8wEM3trdYqWsHqRSlxgAul53+YIagyDzc9TqV9ePcwVaAFkw6A7Vuv6dcdVWNrkqO8jdeWqNVCIRbumyJnfaDLrHeHEF4Ii2wJTjcL8wf+L3QSeXq2SsS3IDdR6xBcPz3VBJqhIblOPW6oIB1DiHRVIhXj+y1tZsWuCyhgPh8vTcKclJbl1xicpUSBZECzrQArfZzu20Phl6/X1WfjVeMUNiWKI+hzpdm0bN8RFKFDVayc/w2CiV1dbYtYgNidJ9XKPXT9QaWG4JmZVqxYzahMH6sL86QHGNvIMO1ansK8pAJaoRHlvWWGHlPjyexzIASiPjA61te3Nbg84vWWCkRPHUEDse4AkxFyM2ZO7RTg09jzsOV+BEBCF9f3x8QEjhj3pAyHG4xXpeotMV6AEhPbfDx3YFapoXC3BEaBEuEnQI0sauTV4b8R2qkIsyImyRzqkpsQAJiWhSWICbNz/GPXtuuYELApEUGaXyuED9x+IOCKGcYFR8pEphavVvnBZ8ZKx1Kk3pJcBySMGNarGfj3FPX6Jsu4IYuAqBFk7rB7WRpqxiYqJkrUtD3a9PqXB/3xNuGbavjAx3G0uq3GOSi16twOikRO8YK5vKzMehX4T3/9T2trZnaMjOAx9QhXxRqhBqzX+pzez3JNtmk47RGXCG378uNczlAz31Ci30OEeCQgIfgnG8SDjOfL0mUmGCSsAR2ajvvhVj9eeABtQLeQIFtCncvFmBucxVv/5Nr4PEM6rhHp3c4vDr4PnF1YIG2+sMhqAoyTwodceGKndItcLACdQdFQIhbN7bWmVoKnVIuZQYQJG2vtGul7wvaP0aUC5pekaUa1tR5JLOSzUYApzpL1+SvaoJZ7OQprIXso0YzmEUSH07WVJUIcvVQQHQMV0tipcLCk1UBu7NzCB7Px+GoNig3AYYknJ2bzPzI4Nn3Vm0b0AVglT80bUh7pszGq0FMq78QKVNyi6iOEEpAgw5RaCFz5QBDAFoIJX2YQjQ448rQt110xrbOxWQHQ2xTQBwA/WM3+aR19gqnxHkzj4MGdxbLR03txoM4XPcWazOMNooNa5Q5xnBEADObbPrLBsaqON5QbDs6yPrLGAm4LbjaochfO4V+tmHIQN0P/CdIHBnjNLnjzKEwb3QGYZcoGsUKbk0m0GAH0CEto0PyUSRARBhsKn0s/z4LpD17xUfZe12u4MhPMeAiEpwGN21Pj0uQETHwfC9IIAiqEYYnZUjRyqx8a7Se0dnMOK3j+URlFgczThaMBIQoFRsl+Gfy9G8z9E+5mjAx+Fey7+eXa/p0b43jzsa+HGk++Fw73U0rwsAee6scpUhaqNY0NQBQcaps1VwQKT7mUDkNUM88MlGmfkVnx0fgjD34huFCTbqKeZU2ugyKI/hu86m+k1tbmnLerLmzzXFns/DG5qr9laHmBKEdrkTx6Mk0HwmmIDvDxCEOYfyOiAHEAT4wByE+g0lCBDkvtXh7lwZaTI3Aq+BEH9eFuJmqSNXpI6HDT8gGwgCMGdQVgMEQdl3zdRmWyeAICjhUE/wHOYsoC+dcIL1ngDUJ1YHuy/N8BQmeHDRIQU/EI6bNry+mg+AsuzhIhd5ZqrN5RlS9jH/sW5wLMAG1mDmWWD21H4evPHVIKMHS/2nkh37XmlK43koOlDj4Q+yRZvvidp8L5eyw2tZi3G5ylT0e64J78E8x3O41gATHgeQ4vqt15zOmhCi86Ssh/IgSmkWCHjsKgqw63/gQJv77HQ8Pjh2rysc1x1T77W5QS5epZmoQZhLeb90vf6jMtC9dlidGaHv0PU6RZ5NKIVYewEF3CPM0SRoOH/+DVGmALXEPZurBD8CZcBba/M+nWOYc0fGpwpOFNqa06TfowahS0taZJQ+0xpTg6AECVJM1CCYsbuy0trkzkmLcX/fXSMvGamQdN/iH4VfSLBgRk5NtcqD4qSWarBkUqja4fIv8KK+1Su11ZJt5TEJocMUG2UbBGGgBiFBhPJkcWGNwSbuf84Lc3m60YxSxyNe7y6pam6fQJmYjjNM3YQCEztACMcBfIkPPf9Ypouex36EK9ADQrq/eJTG9ICQj3Bj9Ty12yvQA0J6bozjfgXu3rzAfWuU5O+CBZHBfbW47jNViMIW5Rda9f9lFogSpMbKsS4iqLcW6oPa4LYqkIk1VQiZiLIGrzQAI9UwBQClDQf0+GgLyKtVRx4ZFKZgoslgQz+1A21SYAAIIeuO4mOQ1AwHlZFPVYeBqmYFLwp08eOID5F5mtoeAkLKGhvcHRui3c8nV7nHVR5z7XACUmSo6qYif46R8Wr7p0CgRcFCRaMXLEVp45ZZWS+QES7Aok4bCsRLG+ssU4Qq5FSV3VDm8JT8IH59CvJXLyPHcaI8IUi8brhqlcvkOaGg6wl1nZmsUpcJKsnBvI9BtooAcYjquL/8olr8ntbg/qiMHMHqWekNFqCipsAz402ZvM5UsM2/dB4gYLTSDgWWGwvUGveujS7plgmmrpig96EUCSNXVCHAkENNKuMZILWFar9RhRTntxj8SBoojw7BkMCiWhc1N81Vbq92YYOjXf0BGXkODZOiQtlP7QHxEMlI82AIHWFQigBDDtKlR4EXx7JVsObiGWo7Kf8QVCGzh7e6zXLJRy2yv0CS4QTa9lKzrq4sUpkAQwarCw9mopgNAkNK1XaSVpNkRcmsvS7DO1QhQSsL3NTbhlpJCyVEZyjT+arc/M9RdxmGD0N2K+jnuHwYskv3yqWjGtzfV4cYDGEguWZzQPDN+xRKHbJMAIeOMNMHtWqT4dV+E3T31YZhtzYXPgzhtRfuC7GuCQARxp2n11pwzQaAOv4HM8Pdp/T5JUqC7g9gCAEtGxkGQITP7i2pVthEICHnniIY31aubK/quk9V/bh3vBgQ0gpYipt2GJIepc9c351npRjhngOIlP/vDnt8Q+lBAyKds+y0IWUcDohYd5lgL7jmIA5JYcXwoYrBkmB9F2R02d04GoVIUIBuTg2gQueSjK5ABBjijyO1ZeWYGW3tsNJ/zkdVjXR7gh/TLz8IfITEe2a69lmUv9u2tvPhdAeUPszhfhCs8FvYHk1XGP+z6VoKc7jj6gxBNpcBFZyAsZep3lWpgjHNoWzy2CADGdkM04mDgc+DD0FQYdG6le+uD0H+JHj9OZXJAUF4jSUCIbMEQvjO8ti/CSqvzQ92ZwpeL9grQ06BAmACUJXSFeYaH4J4HWG0Idbf2cQDHjJkUIoXEBDkktGN5kHhtwoHhlCWAgQBIixY1ORmzfZUgwy/JOaGlyPcZLVD531fk/8UHWJQXlgZSjtAAZZM1NwOBHlha4j7vJRuzGVAEIANqpeZfRsMgjC/YTxNKQ1APbvwkBuijmUHpCgYp80xxzf/Dwfdzbd4Lbb/JjPwkZqHmJftuHSsnCswBDUI8yvQnutFSSgQH1i7SAAJFQgdX/gXZQibfJQeXGugxG6pIBmsd6ytQBAeR1kSaxTvAfwA5DDX8pwzdB68x3NqnT4urVUmqvWWROCYaLPOoLsYEGTekEZ3yQApIvV+mwRfULKw/p6p1rWJOl7UH8QF/AxMWFRAd51WixOAHD+VuvMn8gtDDYJbEYajOyo86MScDbxJk3FsfMhQKXF2mxpkRkq6YhvBcMU6RXWNKrUKlq+YZ74+ITFdx5Bt58P1SgrrY7HF3qpKez3Ke4h5zk+PkWKjzNaJKKlUG1rKdS3a50glYjao5HJsvICLFl/gE8mWcQlD9HnmCw55jwOE0HWsurnYoN4ZqfGKjYrtfVBHnZIyUMd5wAzprYRGABrQQ0LpQH2+1g7vdRbJPP10+WRFBacpPsnrabn7YSbQY3zOCQlC7jhOipA7ehQhx3g79Tz8A65ADwjpuUWOyxU4UD/fMilBanWYq6Ykr+WFGAwBKrARAoZEB8eYQoSBlwHSUMpPIoNDbCHeX61FXK/RNyLJDf9lrVv77TorhWAAQxZrw8yGMCIood0orFpBWLQW9VoFJqp5VjtPpKArDnoSVKSoGItVyvQiWfJTshqFKleIVNDFYyuaqhRYhQsM1FtmiED6uf2hqiMPdQ9nNgmKBLufb2p1N8lorVFZ5JDAEKvTBdLQxhSVyYCoKG1CqxVw4OZOpkxGfBXq1KLgF6nq09qQ3zZe2X1l3Qm2OJ5yQQYCvwBdF2AIihUCE1QjQBxgCBtnsvuUUQASblkZ6341o0LGsjLAE2TZrODycpm6PS2IQm31CgW7ZMAmKRjG5T5Hm+WlMqYjqKXTADXTEYIoKEDo4MLv9yvzuD3LKz8Bapyurgh0aNnxYolrHRDnho1Wh5nbN7mWz49xrQ0KGmUMWpFV7xKGKDuYI/NalR0xUlICXOn8PGvDGjczxVpI7t/fanDjQJY64IwNcxE6X86D96XOvHBtpQsfEu1OHcY5q+WsjjGvSOau6Yfc2l2SXw9R0KmAkM1Aga6jklTu5MQG95Y6/4xJwf+lzbxVbn1YpnznRJpU+m837jcgwvusWSlfERkZVkqFNDZDnXj2SJIsk1m//S/denh9NgRv7ZVniIBIk96LDYxvmsrmgmAYo1UUJfO3h9hmZkWxpzihZGlTXqCbN1R+KMpQztAGys+KAkQuHykFjR4H3JkjFQwQbIZUMGy2AFl8Tk/q8yMDjSke93oRGzLdRyPi/D/peAAAIABJREFUDrm7N4epe1GjAZGrVLN+3/ZIUykN0X0CENkvaTPfBwJb7kUfiCB5HqrHMLhnGdvKWtXdyIMZS7619H3feV/VwOYaWMI4GoBh79HFT6KrYWbXNzva1z0uE9O/+Yv4UIDD7AptOh/64cCO/5iu/hsf9bR98PFB73ss7+P7gHQ18e3uNQLnnuSeuFEdYLRPxtcJiAjARbkx5/E49+LllabQ+7tAxQ3q9HX98njNs5XmHUXm/oBUf5SIsLHmO99fJSGUOzDPUtLA+JIUAQ/tirBNOgbMbJbZoKP8YrNN2SJwFa+n53Ii3Y/1+vOl6gKAAH8pq8lUOd/0IYLtgqJLpQqZIEXaFrXjxtsDc+fnNoVo3gEQ9zKlBWoQ1IOv7Ql149O8sgYAyKRTw63MEHDBoBzmChk//2pztEvXWsD8RrmL7ymC5wVdaTCmRtl2puaX7y+MchMHChzoGIDhO/S3sfGoD8PMGJVOXVMEUHkd5r71mhMBvNNGa2Msz6OJKnnZKIA0UY/Be8MHIBzPes1z52ieo/SDjl6AmLNVwgO8oLSETT1r1ipt+vmMUH0wj63WGg9sGa1rTJLgH/q8eC5zK8pGFHwoI+9Z681NHAPzKqU7LRKfBGmJOTetrsMnhM+HdrtcK55Pm+C3BL9vG+95DnEs+EVxXa5XZxnKSrxOK87M1JO1fnIfsBanRUZKZVev4xI4FtwFFpzbX+W5GIsqEXLz6hit/XSJkWpOSRwAw2N7KswsndfkvmIMiRmqeXuXKYu4HoPVvpwkECW1fSJSTP2RIyMPyl6ig/vpc8m049ijbjBjE2L1twpTdazTteP8gCB5tWWKI4LcWWmCICpRwRcE41PgytaycpXcqPOOwEVgryC9b6uUHcPtffzvbXhQosGYmuYyO685aYn62TPB3q3yy1NSBrnb1+Xru9Oo7xjwo8E6ySSGRghq1RpInNsvoAOCBPYK1XeEax3ivjsm2eIsrkmI4i85yhzLNNDz2KO4AickCPnhUy5IJtgfZZgi5CdXuLy8PJeWJnrbM3quwHG4Aj0g5DhcxP/kl1iY/4q1/ERuGSfZJ9mFLLUEGR0/wN27pUClAGR/kizbQG97lB2byw4qWEuRqVipgZDEsN5WblJQm28KkZpm5LNx2iB7GWaCBBQV/O6N/Fp3dj9PFbK/plLBKLLiBC3uFQoOvAWaTOo7RdUWmCWHhblZ/wxzz19YbkE1fgtkyZG7Uq89PFbZbJmxNgtmFCutvkSGo4ypqg+n1V2ugMLlass7Kq6vq2stNo8SOnXEhqQqgClUgJ1ix5JXy7kBWXq5l6UgOFsZoCekMJmm1yF7ZB1otMnFxJUsEhLYeXpMWFC8zF0r3fMCMJ8Z4tWz07EAMz/AEtmrvgrmaMH78/XRBkO+tTjWutLQIWeogkhem6wTxqAXSG1QpH+peT5ZLYEZZBTPGi/Yos1/tYDHdSfVWavBhdq8v7pVxrEK1P0sIRv/JQ8VuTZdl7bUaBeeHOLqKlXaoZIlYAiSj6jkYCv7AIYMHBNmrWabFFADQ5rH93a9++vvqtkGXqhzoMvfpc4G48OspGXxriDbRNDGEBiSPjXWDVfQ7cMQriHwY2dWm8GQzfukMEn3Oj0gg+6jIBnD1Al9WhSgenX4axdWGww5tXejDOxCBLXka6LzKNU13LtZHVxqVJ89J9K6NaQqC7twkzrZqC3wtAEtBoOAIS9tUqT8523u038Y1gFDKLVBGeLDkCdkkEeHns9OaXoPDFmyRV2NJmrTs6TNXXUGnWi0cdBxAZc6wxA+C+47YAgQkKCXsa86SFL/RrtfgSGPqyzrXAXbwBAGQASTRx7vwxC8cfysNm2dkVU/JZO/q9rNIIEhSNMzBKuAkc1SLnHvklEHiABDOitDACGUc/BvZxjC+3cGF6FSXnUtkfHBh6/WOJJSo+tciZLgaJUB/9/n2c5qFs6lu+tknh6RHmDsqvLoqoY5Evw4WuVM52t6JNVHd4qPw6lAujsuXhsAwmhQMHuk8fTC8fZn5mtMJt/IR2EgsNoOQZ64uMpKChZIcXCdShFvkZklEISNN14OfB8YQBDmULLqPgRBLUK2//4dkTbnXZSusjo6l7WXVPituL8gc06AOa1aASB0oeFvvN6fdkbYRhuYsPtAgDtXgAAjUR+C0KaWeWygyvB2SPHB/MGxU26HkenhIAgKNB8WYwD7loANm30AytNvad6e680HQBBUEksFJHwIgoJiiwDOdHVo4Xw4z72aV2iTO3Ww7/OAWsODIChVKJ85bYyUKyqVROT16TF4kwAnmg1krJGXBu8PBDlLRq4AIdq/Y4r9lXF1tulHvQBEwoST9ZQSRb/ME3jsQxCUHPh3oILh2mAiiyKQOX2OzFJf0Vr5X/J2WSSosX5Rta0LQBBUiherBT1rNtf/VSk9hgoKkbS4RNDnUcEczvdM+W6hrEmWv9XPNwYrvvDOgZJD1gEgCKbmbOQ/LWUfKtT8ugJTaUxOitRnpKSIug4dqM81aBId3FtrrxSowXF2zYlhXs3NNnUP7wM0N++QcM2t8uTIVvkpn86kpGFaf4osdmGuByic3U/rTcggHUOxAZLCOsy+6VxEWZbnVzYourfihTKdk1oYN9AWXb4oeu4ZMjNHDRIV3Mfz/BAIaVaMBZjgmAEhcaFDdKyZplwNDsAnyysrpFz4jfxsg2vj1Pkrt+agdacZqMQJLdq/MzpAnYbaBHsEWJTgKWko1venv7ynigTgQ60M7ZW8ckH8ACvFya9r0BrVT9e7xHzbACEoSqJD0i3uCg6Y8P99iv63Of4eENL9R9EDQv5tbtET6kCOGwjZs2ePu+eee9yKFSvctm3b3GmnneYWL178vov18MMPu7vuusvl5OS44cOHu5/+9Kfu/PPfW3tYqY3h9773Pffcc8/JF6DZzZ071913332ub9++x3TxT6TJ5JhO/BN48PbyF1ViEG0Kj7zaAwoQhmthrrBNV1VTdocq5BujIm3RBISwWFL2EqLFmvF63kHb3J3aB7WG6mVrG5XpUYtXy7Yna6NHlr5Gf/MCwITQVCuhOUUKBIBKZdMBC0wBIYAUZKsEGtTFbixTli0pRoFYuQLkcGX0pWQIlb+FjqGkocnel8CNTjJIT29a3azAoNYCLOSxlwxIk+dHofv80Fh358Yad8dElfboPRpayuw1CIwIDvbXZKvjx7swhECMDSejTsAEVQh1518fSevCBoMhI1WzvEp7gRm91YpQwQyyVrKLeI1wPATtvVAStLcRRK1CKLtHAWeyAsnr34x1D8ypNOkxQAOTVTrWPKAAnQCaQdBKgOpvtoEhqEG+MNGTTKNI4LkP745yW2V2ivN/kqlq6KDy7g1EILzlB1tMFRL0zC7XPD3NtcUrI5egDJVgiG9m6sOQBKlBikok59V75UgV0ru33P1XlbvWlAiDIQThjJ1PFSlqTHGTh+vxCkZ9GFKgQBy/EB+GNNy/zPW6cIIbfVqUBbzUg08epBrz/EA3NUMGqlK3LFFwXqDsGiaqlA6NVVAODEGGXlGjLgi7pV4RDAmVv8mEIZJCKxu5b2+rGzYk0DKtq3JkIieJNee94qbtBkOe3hDizhnjGaf6MIRs7F9XhLhABcrAEEz6TkptdWuyZNorsEO7SWDIBTNpg+uZe2zQcQJDkI9zzfmsCJA5P8qekJQzgCEoQyiHYhOzqUwy73YYUibIxFeA8/dhyAZtfB6aJQ8XqxEnc05pgPdatF78vDrUeGZ43iYoNDCuA4ZQxvXzzVHula8tex8M8T/5w8GQYH2XAgQXGZ2BCDDEfneY8ph376juf/I31R8VihytwuKDjufj+rtvXtr19bt2c/mw7/9hYNSxAhCOrasXSGfliP+3ziUwYYnKjLcrjQ53boEXTrQ/zf8e5W/evRwUEG737bKiICu3YACAJ+HpoK/Y5972lCA+BFkoDyaUB6wLAGegcpU25ChB+F4t0N/x1KFzEyaXK9V++6w0zzOGTf0T+yKdD0EwVWXu9SEIkALofNMabdL12G05vdxFYzQPSCkGWJ2ijigo29joo/p4XaU0I3p7AAcIgtquWF68vhIE+Mtrom4AggANUEtQzrNS3+8NAhEnC+4CQaafojLCdrUIEITW4LzXFMFuymGe2RzizhtNRxA6qTRZ29p9+SpdEQRhXtt5INANSPJKcPBuWqwW7kNV7oJabbtA06g0Siy0Fuv9AAhcM7w2Fupxp0ptUqHXpaxk0/OlbtYV8QIujXaO+JT01ToCbGBM1LVfIFjB+dDq9tMDa22dBd5sE/gYrc/tFB3zgvxwm/dP0s8TBC0o/0OJc0DXiDFPLW1RpABB8An56ogagaVW96S8LXwIklfrdUBhYB49IDrI/W0XpZRNViIF3Bqs8lhaznJ/oCCiYx3eMSlhaVJmFNq6y320VvDslPZkdZjUFD9eX22mu3EhCaZWRW2xKL/UrsGFGZROeYoQ5t1w1aYUCPhT5sp9l6ruShVNUm+G93ev5RZZC+AhMfGmvKhoEtkX0MAvbXJSuu7L/ba245lCWdHk5GS9lqfciKevvUargEa0ylKIbbaX15gaBGUqv6e1bpKmY88PpM7iL2IjSmKIuwAhs/umCMwUWrzymqDWVYMHuTs37HffHxuu+znEuu6VNpQpSTNCMchOU5z6apAz5LeGGiUyqK/71daiDjXIvuoDimOGq4xzj5U/MwAkMSFnHe7r3fP7Y7gCJ9LexT+Xvj980gXFfkRFSCWKkCt7FCHHcC/1PPSDr8BxAyEvvPCC+8Y3vuGmTZvmNm3aZNCiKwh54okn3NVXX+1uvfVWd8YZZ7gnn3zSAUaWLl3qpk6d2nG08+bNM5hy7733qutBmD0+ULuPtWvXqu3n+43pDneaJ9Jk8sEf5cf/iAJ1gIlReQtAoKKp1LwMGINjenfAkOKGnQo6YmxRppPFUP2tVeAgLDBBWYvdWtC9mliyDVWqZ0W2yeZuWkqyFmV5figwQKJMQHHa32Pd5i8RyDXK/4OMT5wLDoxSqUCRAjHc5CMU5Eil0YuSC+pfy9QtYKBlaIAhC/Prpbrg9wctSwKAaWyrtICgtLFKrvUpKpvxygDClJn+yYYg96MJbVb6ggw1TIAlUzLWgdGpFowjA8WYj6CI/6IUHPBaRfVZCqj6mQdKccN+83LAI2Ruv7j2tnWB1g4vJSxD77vfQAftUoEk4xL62jHhCM9md76UIZeqHp2wkrZ4GP/h/5CkrCab3hwFj0NkHHrmczGurywC8AiZrddeqPKJc7Rxpnaazjx0syFztV01x2TFuJ5/Vbs8ri3B8PkquSDwJ1u6qTTI3bQgwt06u96CarJefgaPa3OJWjni1v/aRvlD5Ne4qy4OVTvcMDdasvH5T8hnJCLYferCcPem1B4AgRa9gZiPU0dLa8VLpwGgSe7iMjfjwlhTZiBz37dUKbHUKBe4utA6FuSWyNhPICVPHiKU26CoOKRjpdRm3y1vGxDBuyRoYLSLjpGsWPCC8zpd/igcN8aClKpcP4nPn8A3QEAsxGsNKSBStKHaXXqBl2UliAWIIL+mtfA7m507U20Wl+7w7mm60ui2cgGKRdlMIGnnutHpBiABEDnzJGU5X6x1AfJQmX1tb91r9ZLqR3XI13kdgMjZCuox6MsS7ACEEaAvVtnS7iplZJXBpcPClSp5WaJsJXXvM2SIO0vtMgEZZEKR+F+qOnfq2clo0s0ClRGlMYwbVTb16+mevPrhXZHaNNSa2V65AArXZ70+X7ocJCpgrlCG9U29xmXKpuJ5wz3wq62R7qnrVhz1BIJCBCDCaG6td6hEWhu0E9DwPSJClYG08y89cvbff9PDlWDw+w/yyjjqA/9/9MDjWZLin/aRgMdHLa3pCj+Cg7wSyM5eNP5xWFvcYBlGqrUzY/OaCQaxGe/IfwjTbEaybjEAiA9z+d4BQFD1/XZblLt1fLU9ju8NSjsy/mxQAYOpdBTRXMg886Lmrnnq4kX5BgBkjbLieP9Q9oApJ98ByhJLGjyjTAAIii2UW6gD2EDzXJQddHXCqJiNNiqMt+XLRNkJ6og+Um68vCfM5owYgZxdC8vclHPj7BiABvhzYCyKCm3LHrUVl+INFQneFqGBXrcvQMZqnY+VrGR4xth4g2CIOl6PZayV2ozuX0CQ+zZFun5Sjg0U0OWcgC2f6l/nfisT8LR+Kg1S9j9DyhRKCXdKxYK6ZJW6Y3Ec7+xXdzAtNKg7mI9ma85BgfjYtnB3muYgBmCC9wLu8PNMgRIflGPaelF6rUEQ5jJa9TJQM7I+4F3BODu1zpQxu/VftVrIztRr83ngdYTfEoDq7i0xKu9R5zcBEiAIqhL+fpaUcvhp0GIW5US0XSNammtetDbyHvTCa+OBHRWmivmKoAlKT9Z7ykoABgzKB+PkVVYrSIDZ+vDYJCt3YU1nQ89g0/9wZi93/agEU8LxnQmS+iKvLkslKUHy4grV/aA5X+/JvZEUNkIAJ9MgCFCkd0Q/3Z95mqsHWWeYmOBIixsA0agu9lbtMfg9IXGwEkFZgjetBkFQ1Y6Kj9W1U9KANU+LJzETiSNiGxJCxBfAEAYGp0G9BAkV6+Dd0dxaY7ERqhAgCM+paNprkKK2udCeQ1yTEDrc/WLTfrWFlgGq4g7iHHyTiHVqmgvcK7nETEHvadGLeoa27eMS0ux67K0u0Hcq1H15uHxj2iEIx/f43jp3xUDP2B4j1xBd255uM9534FjHibR38c8l9bYnjgsIKfifT/eAkGO9oXoef8QrcNxASJv07gGsqhoXXXSRq6ioeB8IQQEyefJk9+ijj3Yc1IwZM7TRiXWvvPKK/Q5FyfTp092CBQvcWWd5dDkzM9ONHDnSAVKuuOKKo/5IT6TJ5KhP+mN44CO7X7NXnddfSop22WVWNe7iBG+J1s1laVGJ5KlDBCyqDVAgmcyW4/mwmFRbvAl0CTpQU7BoeoqOXAUhYZKAtphLf1zIgA4QgicIrXWnPVXv3ry01jIgDZIdxCpDgyRzTUmZMiqePLOovkTPJWPVJvAyAPGovc9mbcLGJSQpgDtoShMyLxEqRcGB3V+sgQsEf0NjMjqyJpVSj9De9sy0vm6fzMGQkyL9TY1Ibg8Y8g3OAEFigtMVCO7ShrWfwR+Cr1qdO/8WqBVdqvxOnt9facH2RRnetahW3S4qFB6/u7LZYEh2TYG1VF1SiKwXTxM628h5XwEfQRFZLQALx0sgmBoZ5z61sJf732nlBj8onWFcOUjAoV1ZQ7ZoSIzaxDY1SEmjQFoZQGDIpzK8zTzD75aAQd09KyLc96fW2XGwOQeG8P6P7I00CTZBOjBklrxEMAol2N33TJGbcjU1xvJkESQgSM9T9vWigXWCEKEmYcc41IchpSotGZ3uZdMMhiwqc6HD41zL0gKDIciiB8yIdVn7Wk2lUl4uKCWIAgzhdSr0/4dydD+1w5DyrVXu65+WganuRWDIkrwwMyulLIRa8xGxzQZDOKa8lQIvSun6MMT8R7Q58WHIzkIZtsqgNftgL5UQtbmBGWoRmdfmpg9rc0v+WOgGf7a/bXbMM0TX55WdIW7KwNYOGDL3yykylZP5ajsM2SBTQKbE60Z6jv0E9GQzufbrFNiTjfVhCNDmUnm+MNjYAWle/muZ+/63gW/eZuwMAS9MAXmdeYJeZLzJaAJE/DKaPSqVJ5DuJ9DmDzoYbFSwTaaXwUaPexoYwsBY9f4d3sb1g4BIZz+Qrl4fABFG19KZY+320t0U9u/iKxKc5hnL+qM5/4AL7pMikvp+QN+cXdDdqXwivwsJbm993PT+1sj+AXSFLR+m40vnz9YHLV3NeLuecFiYfA8EQTLunO0en1Om+zHSAMipfTwYUlxPR5T3AhDABj4hqOYeyow0CAIQeVA/XyxT5M4Q5Nn98tbRRpvSEuYsNt2+muqPmVFmmAwE4TvMxho4yZzH98zKF/VeDB+CADn43mFcvKMi0P10fYz71thq+57nlwiOSpnGvIA56j6V7fkQ5PIrIq2TVebaOjd4UoS1q12lEhqvu4nXZpzW60AQymiYI/4hFYQPQZg/LhQgRSmRLQDDnLpSzwfKXjag1j20NcIgCGo4xvXySmEeB4KccxIqDU/xBgTxz/8ZmTVP799sc+P83TIHH6vXlCqGlr8o0u5ZHWkQBMULajgfgry0Pdh9+iSZZGu+YWAuy7XlMZjDsr4tKJAiUT5O+CVR/hijKQUIQrlMP6lGfrdewOH5XHfjjxLtGp+k64lH1+d1vMAPIMgv1BqZOZI1mdJUQAefC2senxVz9th4tZ9V8oHW9jXNMs/V71g3KQ9k8H7DYpIMgjAAIUuUmJjXL8Z8wlDY9Y2QirQdLMSEZBgEoDsKCtdKqTYig1NN2QkYWVu8T4BDEEH3qR9bEL+gwqiU+hUvkAHRwy2u8UpEIpWsybH1tlRwbbiUE1VNSvDIH6SmOc/+Re26ML9QZTPpAiHZdk/0j/K6wwAsfPNS4hRgCDGWsLx+rleM5X2nfRACzJBm8D1lMShNUc+entrH5dXkS2Wp7kBFUlJKwfONUUGWdPrTzmpBoxjdJwd1/8eYyhVVB+8PUEGly/nvraozRWOqPFV4r99sKzVlCMfG+QJaggV7ACHXDiOOKrLynYomVIqURifr9Ty1V884uitwIu1dekDI0X3mPY/6112B4wZCOp9CdyBk3759bvDgwQ7lyIUXXtjx8N/97nfuxhtvVPa3ShueUPfDH/7Q3X///a6kpESTcHtKQY+eOHGiGzdunPvrX/961FfrRJpMjvqkj/MD61tWGMBoUJbhBZU6IO+fkhzZoQoBhOTUlCmj0dsknWkRqdro55sCg6zF43ud++KwJFswrWymGcVEpNW4EnRUKzBYXxJoC+24hDBbNFGFsFlLDOvnpj5Z6965vFdHkEEAAmRoFkTwwQomYIFasMlcVCmgSVIbOTIlBOYL8w+qxlUGkAqKzn8txi2+QMGQMiGAFY6JrAvHG6mghuO7fd1Bd9uEUGX6vMzLOf2HKDOf6R5Rpu8aGVYOiB6ic8dEs0rHoK44qEKUOaL0h6CB40KGCsR5Pa9CZmgtCh6jFDjWWOlCdHD/9ta7Tfb+hXXq4qIgb3LyMKlqdpqZ6oL8Xir/wehVnib6W1wIOZsAM3ADhNy6Nsb94uQqXat4d+WbnirkogFN8n94F4ggD2Yg+zXDVAXIm7UZppaabA4yc7JYvD7ZKMYqtTgEhlynjgNk4sh6bZSagMCUcg4CdQLqHyxWiUlGm8GQmTLWe14ZV6TfBM2oQr56sreh57EPrlJduNrrDlTWFJjyjxdb3Gmnh1uNNTAkTxuJsnXlHTAk46p+1lWGkhpgSJ8+Aa5aag7a5zJKilUlrcMFhlx8MUGrSo9eq+2AIY/s07VW+UxCYoAkwLXaOHg+H5tkYIgEfaNACzDk1DMjzVyWEhofhoRJuVIu2NJfEnJgSK3ed8ZwlQvpvEoFJtiAACww+FulDOoMQY8n/6ga6s8nGQy56rIwU5/4MOSGsepEtE9+AoIOwJDh7S1w2dCx0SNDzACI7BAYiZOSB5NFgMgvNse4qyQr/9EvawyG5Ck7ygCSDdW1fFubBB+G8Dl5aiHMUym/8do9IutHlm3voetdJLBGZpXPnu8XdejJao1bow5M1MpjxAsQORwM8TewXcFGd5Ci6yb7w5RsHG4q+7BQ5HiUzXRb2tINBOHYm6o8xcMnNfyOOEcyXe16LMfS7cXmk/YSqEOih509TswDpEs3oq7vxf3D6H3rSQZAGEAQzBljQqKUpa9t74z0bqYfZUZnCNKgOQWPDwYQ5Lz+DaZ8Y7wiM2JGvhQXI7Q5RyEBBPHuf+9oUHF8Vm12fQjCHAiQ5fuCjwSlL8wp+PUAHzHfZG362h+de/rbbe67y+M6IMh/DakRbMH3woMgDEBI0YpyBwRB6bFqeYM7Zbrn5YESBJUEEOSFZQKkc9RVRHOAD0EeVFcwwClKECBIhBQxPD5X8yEljT4EOSXJU5HRVcWHIF9UK1fKVF7cKFNTQRDmfOaqkQLBGIdzLNtUHpMY60xhsjgrxBSFtNFlXsNUlfOkdS8QZM2BUCs1PGOgymwEQeaNbDZPlVPxING8TXcuSit5DzpcMYAe87Mi3NdG18hE3DNO5bHMM8QNKNxQLwJyR0uhxrx1pzq23TROc9zqWIMgqG6YH1FGsgbx+gOjUWFWm38SLZCHxUrxKMPtwdGeIoK1sUT+VUB+SgKTVSfDus6az5qJ4nFSkoC6wYtk8+oghqAsZE3xHjdahqVABSBDpGII1nbmGJI3AfLgoFwE35kZWotQpuIPht8Zvh+7KzPl0zVcAG2n1pmBupaFAh2pur/2mak7QIPBdzKnZo8AVLT9/dXcPXaPUeaFmmmE1CkoOvJq9+l1MTn3VCC0seVf4qUtZUVaQyIMlvD/B6XCy4hK1z1EvAQwl3eagAjHTTLmnaIWwSGvtIV4Z/kBrTN6v+tHRVsMwrUgBkGtAgiqayGm8ExrAR5cP2KqreU5SnSFuK+OTLauMcQPN40bYCpZBsfHMTGIb0qUGMI0HxCSFumpSIAyc/ud630Je8YHXoETae/SAUJuPU6KkJ/2KEI+8AbqecAxXYFPDISg+DjvvPPc7t273ZAhQzoO8o033nBnn32227FjhxsxYoQpPgoKCtw777zznhO55ppr3N69e93KlSuP+gRPpMnkqE/6ODxwf818q7ntHT5CC/ouy448udcrIekMQvYq0B8YHWVQhIzFioPFCnCk2pBUEzkoizGBBSoRAhZ+xp2cxRcYgalqP7Weo0xmVXGjNtW9DW7sqsyyjRoDX5CzXm5wL86rM7DSploJAgxzLCdrodfh/QvrDirLlK6AL8eAQ0xwhqk2NpUWWccPgMQVbyS45+ayuMdos9DjAAAgAElEQVR3gBBeE5hBYBMtdQcQ42cb29wt4wMUSDRo8R5o4IM62v3VWR2qEBZ/FnhUHQQ7qEKQyRJEcVw4tvtlPHNS0+y4Niggm5sW4kL1/rnK0vSPShMsUM2jYMiAKE9tUtmUZcdmgMZc3z0ZcLACMlQhsdow5GnDcO+WaPfbaZJBSxXyxOwy8xlJjzpkMGSMPoNVBzHQJKunVsM6/37tWU46oryaG2ryZuTHSMKT5BRfWO+VNgBDeAyBrLUK1ntTX0+9OB1MKNO4TUEriglgyJXKUjKAIcCC/z6pSm1bJRfXBpy6b7rZ4Oz/qxd6ua/JCggzPgxTJwzAXV+GfetDzLvEhyFt2tH3Tw/sgCGyCHKlJWrvq/a8der4g3lepGTnAJHTR7a6l9eqTEgebexzADN0bCAwB4Zk9KV+2usawUYEeEE738wclXQ8n+Vm35hhmVAfhmDkRzcDjgsZOJuQneoKMXmAB0Oe/e1BN+naNJeZr6B/eLNtLgZHNxkM+ca3Y03mTIcLlCkAEbr+nK+NGgAJIDKdVpP6+STdi9sUkFZoM4Oah2t9+9/U1ndKTAcMwStgg7LJwBAGwIqNUpz8ZZB+s7FjQ0HGFNXNRLVe9mEIj++jTUpnGJIUmiJQWazg2du0cE26gyH87ebVnt/HvlsWdzub+EAkLNJr39qgDgeMowUUx0Mh0vnAjvZ9uzuZj6MEpduL9jH98sPADw4lNCbBNVZ133K3u0M9nAfM0QCQzq83/O7ZpmLDZDKrpt4UaWzO2BRSIsDAQJt7m9FuDyUQ7923mKH+Xt2TACA+wOX3bILNIFnfWyDIaME+vmt4XaBW4D1mSDFA2Z//HQCCbBGQZA4EgqBwYPDd800s2bwDQb51JaV3dClpMiUIEISyGtR1v9vuqW9ypNpIkceTX8rCJn6eOp4AFzaUqvWrmRc3d0CQt4pkiqy/c5x8tyklxOOoRfMmEORMKUge2RDqLhvbZKqOhYURzocglZpf9qlzFAMIMlKm2TevinXDrAROZSWCQJTS4Ae1UAqZi9UiGJDC3LZc3lK5Oa3utrOlSigINwjCsaIgARoDQcbqPP2yHP5G2Q6gxDcap8Ty6WwBCs21l2XU2trwgCAqapCbpdbBxBulBkpEv2MWEARAQzkmn2tUkNYMta9fJ8jwmLxZfjyhyiBItkpGR8RFai2s1noXLVhQ63UN0hyIugJjUEAAig6MztnQ37o2xyAIc17fCK8clxIY1noUFJSPoHDwEzIAhvrWUoGMct0TKEGiLHnz58ws9/lh/W0N9tvQvl2029SnPLeupdo6cQFBaFVb0iDoIzUIiRDUIqgj1qnEc3rvGJXGlKt73HCDDJXqUBct9QuxCsoLYgkG8zolNemRyVami58Zf/f81NQVxlQp3vcClQXxBoPOcwP1viRPYq38JrbDJJWy4Nfz8k0ViKLTV4Og4B0bH2Pn9XBmhfvyiBQBnFyVWcYbeClt2GcgBAjy/P6D1kGHY9mjeGyBzFUBIXdvLhEESbL4hrjH4hxdO65xrK6JrwYhZiS2IbFFEo1OflOSScjItyXmgu6mmJ7fdboCJ9LepQOE/DcgJOkjfc4tlSWu4Oc9IOQjXcSeJ7/vCnxiIIRymM985jOuuLjYJSW9+2XA9+Pkk092y5Yts5IYymFQhrz00kvvOVj8RyiX2bVLvTUPM1CVVFd7mXxGYWGhvXZPq6UPvvPLG1/WQjbQZKCjtViWNFYYDEkJG6YgCUMsD4acq/KYTWW0X9OCqkWaxZsyD35mkQeAlMonhNaw8VJm4LFB8EL2ACUIAxhC5gKYsb0ix4zxUIcAF2gvx+vsqFD9rFrTVjdXmzLkzJfqDIZ4XWEIypKU3S7TcQy0AMeMTJXBALYAHRKlayb4wWV9c2mB1TFPVfvXC16LdC/MrdC5DrbH83rAEAxUkyQJ4HWBNji104JuQ0mFm9Z7kNXzog6hvvZ7YxLsPIEjmFjweAKJEp03MISBZJbMjA9DZvaJt+NFUjwnNcSyT7XazSaGKivjlC2srlBtvAdD8Fkhi0UwSecE1BgEjZwjg2MmAPzJ+iapV3q5/9lwyN04rtb8Vmb2ibLOOrRVBYawQSY4jJILflY1JUJee1gk3vxMUGqvr4CpTzgS4Xx3xVsx7meTcL2XxFibhCAFTgfqkT9jcBuiTF2TO+ubdW7OdSnmR7FGmb+z9Tuyp5wfGw/MPjFsxRsFNQLlHmQaAVJl2uQATjDcow4cGPL1aQ3W8rdcwTgDr44fnlHv7nxLrWq1YxmTIS8B+cyNGuipG+Rb5warjIXAnVaReRW93Khk6s1b7PzoJrP9OUl+T0txGXocgTwBPdnerOVVLnmst3kZ3rvNZela5GY1u96pMqNV0prH4hkCkKGrAd0LAC9XjvM2DE8uVgnSbO87lS7AhNHpGmVwL5GxH0EtHiCPqZwIw0Dk5q8piASIYJQKSGTTF6pr8Zw2KFk1apGoNpRsqkbo835UipaDZR4E/OqEOpP/A/IIaBl0giCLC2Difb47utpgCmUvABE+LwDWbetjrcPON0Z53jP3qAb/RilU/Np5oAg181e/EufumVVt9fdkY/ns2FCmhHvZdaTn5zwT58p/+fYHTiKAEaDIsRiffphyjA88kG4e8GFhSYiMDz9wBHv3bNfRVHn0oOFI73Ekb48POjaAB8OHHl0VICHJKa6p2IPcnUd33YH4O8fidxjyH89r+ioUOg91HX1uneUem1dhCoub1sS5Z+aUux3lGDZ7Mg2AKd2yGCgyRsZ5WfTMyoPaBAfqnvVUTaigMBhmg8emmPv/CZln8h3ke+WX+1G+gRqBe5r5Za66czEWyUeJwT3OY3kOrayBDHzH6Lj1iNq7bpeXxk36rqBmAIQAQDASBRwDAwCdG8rC3B0TKkyFhRHnX/ZEGgDhcahDmCeAr/hi0N4co1PWoKG06xYAAdROk/cQ37Xdal2Ll1KU1kF+P08mzcCY57eGmBJkt5QYr65Wk9KRwfadNlPnlc3uZ5ejNmxzL8vQlFbi7whgvLyszc0+JdAtWd7iUoeHueRo+UTtbXNTtCztZ54TAOkrhR5qj8ioAPetk2qs9DFFr/vFYbUGcjH3fjs7xN2nzmTFOvd3NLddJpUanclYM5inr1AnNdYDyi8/91KMu/fMGpt7WEcitJnOVpKDwVzEf6jTWGv4nHuHx0thUGU+X9mCYX/KjHC36Dgq9d6DYtLURrbQzisjaoDm1mx9TiQOypU4iG83O6/ROksCJkTmn1V6X8EfqRZjQuLNzwNlBCUobOI3luYLFqdZ7IESpKyxVPfPCEvOsIbzL+uveYyp2wvPQQXiD6ALfyPGYLAGx6qEN7dmp3nRcC/1jRiq7wXG1zmKedS+XV5llJv0iRhkqpN8YIVKTygVHqM2t/uqMu21gCR79fNAqUxL5Z8WJkUIcIHyFN4nNEBea4pNtpWjBIkV+AlSjFRlrX6BIOV6DjEGiRWSLwwgyJ93FVkpb4iOrU9EqMBMs61LtBX+ysjYDgjiwxZinpKG3Yrx4i0pBQShawzHAgTBl+qaIcHuV1talSCSckXXku97tc7XhyD/zA5UNx6piJQIilWZcFcIAuwbI+PutwvVIU1d/1DO5sjAfGwCrXd72u923HDtP/SAkK5XxPv/HhDS/XXp+e1HuwKfOAih5CUxMbHjqNesWeOmTJnili9fbkargBAMUl988cX3nNn111/vFi5caH4hhxt33HGH+/GPf/y+P/eAkMPfJAAQ5I94erD4AhlYDNncVzY1ua8tj3ePzlL7QGVQ8Lpgw8sGigAVGEJXFlrEnStT0uwaMgAEjCMMfJAd4TWpwX10zz4FUwkmwwSEUCIDtKAchUENbabKEnBSb1CmJiKojy3ObOKSZTLKMKmrFlCknmby1W5mhjs6vy9uKFBw3M+gTHVzrt53gAUwBAlLinJMrUKL37NeljT4gkR7vermUh2HZ+5KlqV/ZIaOKcyCGUxWOU8G2X5KS4AhBEE4rKP+4LGU95AhqpbnCfW8BEMMAiuOjWuAfBeD1dLGYsGmYDnPe9DBy0TF6n32yixtuAUy5boWeLFg6JoWMUAZzGwF61GWpfK745B9KlOdPdlRHP0nqFPANYMpt5BRqK7ZwOgUvf4BgahA23AQoAJDOIY9ld5mhWwUgS0tiAmUwgJV2y24kyWW+IO1ce5/JlbY36jzzalBQuvV0TNQHwBD7rw91sptqN1HYYBpK5sFv8MDr9+sxy5XMM3mY5dgAC0v2WAAQ+aovITM4lWDaq0+f2tFsHtnV6D7pQLrW5dGu3OGNbpnNkil0g5DkIQDKnwYAqg4T22HUYIAQ9hMUKfeIJPSlzfL/2NDSQcM4Xdhqsf3YUj4IC94ZGNgShNZFFAag2R8+z27XO+vD7e/+zAk984tbvbdIwToWtwfFwS4G8+T3FmbAh+G8NqYKg4V6OB7cIdKmE5WiRIwBG+C82ViCFzyYcjPNkW7b6pk5i+7I81oFRhyiUxR5wuQ0PniJyuiDIb4g+vH5gwYsma/PBSUPY7W14frcYWUI8AQrjcDGOTDEP5/sDZg+BUAQ7z7Wa00pSJifOH1WIMhDIwqCe7ZGPI5MsjiMs579l0gwmbY7oNuNr4dB8xxHGV73E8KiHQ+Nn7+sICE54aEem0qrVZL41jaBncGLE113ibrowCPruf1Yf4/NNZblxsrRRm7DB+AdP7MfajCpuhwAOTpc70W6F9YGm8AxF6/XeZx7vPx7jH93YcgeH8wvjay1uZd7mEGMAMAwneeMUYwtVwbcEpaGKij6OaBr8QpMlPtDEGsA0q70gPl1bcWywtB35s7VIYBBAFu7NVcxL/c+z/dFNMBQZiPUMLxt8XqTHWOfCw4JsxRW3Use6SUo2xwvkAEJSgoP1CS+RBk8bYAd9pIeTy1QxDmH2Aw7V9RbPC43DJ1BNPxJ0rpBURBsQEE4bt6lsxDtwukAEEiogV0RrdoYy+/kC3yuIoJdg9eVCt1SoTNyxzPwpWtHRDky+do4ysFiA9BZqikZZng6V5BFyBIRcUhd9d5MseWUoa55qerotwd06oNgjBfAZlow+5DEDyrAOaAJyBIo96P1ty/3x6gtu/19tmwxjDiQ6SaqyzU30OtW1uxruOY+CQBpWKDIAwUFEAQ3idYNTJsxlEq7KvK12edbuslECRJbdtZ7zsrMFB8EDcAGZ7N3qvnBErFwbrrgQe/ZMP3IyOeISECBOmtTi7cy/tk+DksdrCpLIhJ/pm1V74ylEv26bjzdyqJkyJlDsdGrMDaawpXlZXUyOeLkSLVLOfCuspzl0k9QqyQJthCooT4g5jKO58yGcoOsRIZVCSUx5yRCliINkUqsRTXjtdHscJ5m9dZWa6gXqL9zCBJFSP4ij+ZXUvFAp6nh1eu+9jeJkGtPoIsOfI2CdZn3KIk0DD3263Z+r3AnVQaeJTYd0egpV5JnzfVKQ8FiG8wy3uj2KWF75eGe4pZQMiPJmaYahUVrd+Jxk/MNMiwlZIYz0y/UYmVVPNkwex6U1mzdcXpGxFvCTDOERCCuTGtfUnSjIzrUYr4N98JCUJufvz4KELuuqonud0xS/X8cDyuwCcGQj6J0pgeRcix3RLZ1S9a8BKNMZgWL0pZLItSUtChCgGEvHyW5I1a0AhUfFXINgWqtKdFyUCGbG4/df8QgNhYVmKLLiU1LP5INnPlIYIqhIwMMlZbvBUk8JpkW1B/pEUEqMOJsoHKGlDWwmK6u3KPsjexOq4KBZwZ7Q7wnhEqg2PdWkY5jhfAlzcVu+ggGXopQ5Jfm69AbLD9Hkiys6LIZNV0hyGwAfxwbMhrUbUkhQ3SwpylfyPt7z/deEBlHgn2XlvKS2TmOswyOwQ4v9yc7W5Qjax/HqhCfBktMCQ6pH9HcMTvCS7KaDOnc9+lTQYdY5KlHGlTFqmgbo+pQqqai21DQKaHwWexpaxSQbfkrcrMlDUdNBhCwMP5kAnyYQhQhnZ43xkdoJKLepO/rimpdqf1yXB1giEEjQdkKNsnIkVB6QF95pRtcH2bDIYAiELU6qCpjVaPHqABCjGK5SvRT3LvyCCVnLQ2CkBRQx4h6KRMmuLeV1Rmg+qDDB5ZP1QhtICdqs4mdK/Be4LNORt4ut+gcPmj2vz6MIRaccb3VY4BDMHEE9k7pSQXpdebt8l2Bevzt4W4u8+ocbcvi7byEF/h0U9ZV1pD+jBk493qTPS5YW6KDAwpeVktARkw5OLPx1mNe2cYAuDIL/Cy0jHRvVxhXoubPE4Z4Eq1M1YmdeMOtbWUKsQfPL7wF+/CkL+tVuZ4lmfECBBhM3CVVCG8IhsTzvmBnVHWJnK05P54F5BxxbvE7l9tYF6VQSAw5O97I0wZAiA6PVXdeARDXtwlz6RpkkPrOqMmYVPnwxA2Z9T+/0UgDBjy4wmVJv//xZIw9+qnqyyLx6CdJXAKFQqDx7DJmiyfgWu1eeBYASJsplDqYDLL5wUMYQBEGECbe072NuzTp0su0z66qgM6/tDND52hw7F6UxzpdY/X3/xj8l/P74DT+ffdtfcNifVUF+8bDe+qIz5sW+HjdW5Heh0AiA8/OncD8n/uCniO9JlTNhX3/XEOAJIW2a/9nkOmr/IUqUAG6T78085wba48H6EibZJ9AELnE2AFA+CAtwTzE0abgA42mKxXQBDg7gKp04CK3NMMNlq0xOV7xXcFSMFgPuoMQa4cUut+vzLcXTu5we5vH4L8Zlu0u35ktX1vgSC8zh5BRwyNgSAAlZPVqeUFfTdRbwE731ApCBBkuP7/mewI69qCEgQI0ry/xs2c68Ed5h1K9+hs1T/SK6sDMGYeCDAIwnecjipnqmOYD0Gez4lwezOVzRcE6dfPU43MFDj2lSmvq00t39tFDx50z/0q0t27VcBfShAgCOd72+vhbtpotWkXBAG6vLQv3N0/s8Jd9Fi0dZQ5W2U9QBDm2DHxze7JrPAOCIJ/B9AbXw4gCPMBn0W6DD33VlXKe0tgW9fpu2MEGawMxQOsqEFIKpCE2FuVZYq2DEFXOoiwrjN4/PaK/QZBHpFh61dGBAoMecAXCMLa19iK4kQJD63R5Y1lWl8GmHID5YWVY0k5uTB/j7y1dJD6f8w6gRSdIcjmsoO2bjNQWSYqQUEpHIBjhOIRkg60Zz4SBNlXJcPxWHVRUaSAWpW4gfIYoBCxAO1wAS0kQFCKoASta2nQuXlQhsH5ZClOQg0CKGH9p9yU8kXACGoQ1lKunZ80IS4C0mwrP6hj9UoVOTcAA4kmYgcgixdfeBCE0p7X8/ZIicn19pIWeUpQ8DNqkC9JIfTo3nrBkL4GQsoai3Rdh1o3P/zGSLS8sL9BSZoQO9/82uoONQjHw/DVIB5kqraSmBf2B7hLBoboHq/pUIPwWF6DkpipKUH2mS+RGbmvBkEBjOJk9cFdbnxSqq5Hvt1nSWHv+gfaG/6HjhMShNz02PEBIXdf3QNC/kO/Fx/XaX9iIMQ3S50/f7674IJ3ye99993nbrjhBitpCVGnEMxS//CHP5hZaucxadIkN3bs2B6z1I94JzS0rrIFlEU9p2avBZa+0SiLPO3QrO6zXRVCJubcBQfcY8oYYzbmuZZ7mzO/JAaQQHCKzwUghHpeXxXCpp3SE97P9wfxy0oAIb6UlVKZlQf2C04oKxZzyBb3wroaaxlKkIARme/K7huk8Zosxr5fCO3i6pWdTVIpDVCGIIGgiefxPowKZTOiVTJz9mv1bsE8DNLYyJZqgQ+3zA2yU2AI509Q4hufEnhhiLZdAGh236F2LqhB/ACE9+CYfVVInEpv2Pj5qpA1xXkqsRlqx7KjvEBlL3EWCPD3htYKXffeCqIIsnqZ1wkwAtCzoZRMCTLZWMvK8BkAQXwY5Kl4KIeIU412lqlCuL4H64ss0wkMoUaZVr98rpQLcd23lZfqGEKkumm0jgkkaYEhvB5ByoH6cjOyu31CtW1IQiTb5RjKm/IV1BE4RxkMeToLsOQMhvA5DYoO1Ws2mGSargsEjIxBAg1cX0zuCLKRyY9VbEVw1BmG3H1yhQWJbMiRqaN8+P6UWgW0zSaNx6DPhyFXqHPC2wdo0yi5ejsMYXOSJeCxUs+bPQivgUAzReUxtLJFUeLDkI2La9yQU2M6YAjKEAaQBRhS/ECmazp/iBs/Uq18dbzpUoJk06a3HYacJyNG2g77MAS1y9mpdFZQhlyvg6yc4+EakFlmY4X6BRjyA3mp+L8DhgAfduu1xyd6dfRXqFuED0PunEH5iwdk2LSwyUNxQ6YcGML4p16XThL4mvgwhI4Fu3VMbFjIlvM3NpMMVCuvaiPJ+IKACDCEe6CPNidI+BkcE+ov/u0MRKjlv3mtVzKy7nsfXDLTdcrqqsL4V6lBPsxUGjzUy8K+Z1BD2M1o3uL5AHxc46MY0IbK2JTR2N5VBuhBK2QGn4+v8PDfg43XkcpfACCJN4+z5z9yZoXus34CFPkdLZ4n6/vL8CEIAOR/d+DN4LV+ZeOOWooBVGXTzQCChLdXKvgQBKD9tJQJDDbTfK8AIHTEYMxLazAIglKR8YzmkRbJ0lCCfEblH79eHu4uGddkPkasY/MFHNJUxvZfg+uk6AjogCDNKn2g3ORCAVm+a3zv6CZG63GUJXcIUu7WXOVDkG/LJPT3OyI7IMio2TEuQ6/LRrRYJX+U4GDYDAQpE5jAjDleJtA+BJnazzMkRQkCBKHt7VT5Cv1TbWppVR6jeQkIQvkhRskPqMOMD0FoCXzns4EdEARDZb6zzK1/k3/KIpmb/lJzK6A5U/PMN0epq5fKL30IgkKM0kquJ/Mz80BkcIgLC4izMg/WJTqVNauUJK+uVd1u8GvxEgWsA73DE2ydZ43AfDxQ5SWUb3ZWCQBCuLcAEazrQJCvjcTjI6Xj931VygEEiQpW+SklLvLsIgZh3WRNpHyX+GX5gUqDIP/M6uUuV7kk65qvBiHm2CXvj2Gxnjkq5S+Vei7JB39497N3T+KncV76u751/C5LBunM+cPjkj3gYKpO1pI+lhABMqAGYfh+GUCOycnJthZ7v/cSP6hLiR8YK7XxJ1EExMHjBhUlJbgoU5PDFB/ovYANrMPEOUAlvzuLD0JQg3AdUKICXximTlWMs6MyW5DOg0l0s8Ege0IirYXL5PGRYNfIhyB9I0ZYOa+vBuF1WKMZfCYP7szvUIPky5cMeOSrQbzzO9BRpkssRvKLYyWGQkUKCPHVIH5ZzNx+cRazkYDaoaSNrwYZKgBGaRFqsfjQ3loDT+n4rP4Tf+gBId1/6lYa0wNC/hO/Eh/rOX9iIISzoH0uZTCPPPJIx0mdeuqp6ggR8772uZTBzJkzxx6HLwhGqj3tcz/cvZBfO1+LC4ugVATa+LNY+TAEyWedFmpgCIuZrwphcWdjX6u/EUAAFGgr92pegDs/PaQDhkQHe+1zq7ShZ+NFEMWmizpuanErpIRAeUGQ9Gpuo6T/8u1QAMJmnYWTv/kwhHKZbWUyCtXGi40zJSa4sicq5iUjQZBFcIAUlX8ZyEMJfLxFnDrxkg5lA27qHAODQCqzokAZmAyDIWRPOA5gA6+HdJZjZFQ21djzCGB+t71KGStlBquapYDxskuLC3dbecv3xva3DBODTQLZKl8Z0vmTArQQ7Kwt3iXI08tgE2VDvLefafFBCv4q1Mz7185vaRcXOsQyQgSDmLoSUDYjRRW0qFAW6v7t4SZbvW9btkEJSjQSQvuYge0pyQkCOKUyz8tQUJul56gdbbDKhmQ0m11dbnXqbDJ6yxcCCOLfJ35rYjbyKdrskXWz9oDtkIiWv/z+4kUxkhXXSSLtyW1RjxAEZVY2WnYqUUad5VK0RARx/8lnQ5c5TlxqozosTJCY56DaHnvBd4R7Pb/J2lQ26T0LlM1iAzJHpTdfXRbv/jC93BQoFw/ANNeZez2yeDYobByGxzRJmdRoQSp+AGSI2WDtUOBPUEtJCZDhO6NrzVwRwLOmJNS9s7DWgAhGhKg63lb3iXBJoq8bVqPXCbNNC7/nNTBv/ao2PD6QADKk6FoDRNhoTZKBLOAFIPK/KodhI3SugAndW5AZMzapnS+blO+P8SATKhoUH+skez+9T4NqvKMMiLywLtBdOwPllLwDlEm+WN2BeD/Od5EMD68ZXG9lPpQexep1+Jy4LiuU/QPAcC04brK6ACA8RHg+3SUoK5jdp9F8FLhedEWY1t5+0ocrVgqlzwVjV2rOGQAsavmpyU8O987nQF2z++wClc38eov9v2+e2vk70Pnnw6lBPkqZyuHe62h+31UJ4j/HV4R0fg2/RXDn33VtF3yk9/RNR9/z/AavfORwIzTuXU+txor3Jgh4DnPQ4TrFdL3WXf+/s+eHDz0CYmWCKQD7QSP+hpn2kGc+VWmbee5lBkCDDViGlGQv6/vKOFMqJ+Ao8ONGtZ7FNNkvvQJ6/GW3V6b2haE1NhdgogpIfUPKA8D6SQnNmjMEEgVAuJeT9HdfDVKgMhP/fekAlSoQif/Qg9s8NcbX1VaWspcvvRJtAORUlav5JX6v6rt+iZQRgFdKXfheAUw5HwDISyrfwxB0/Z5e7uHzq91NK9VNo+GQm6kWs7P0/WEz+7w6nLwl0MD3c4qAD+dz/w6pLqQMqZSKZKQgBsbHdITiX1rmYprKOfFdxNAZk2be8/tjat1dW6IMllyUrnlJwPIJqeNoF/zY3jADIBjHMp8khCbqdzUGjj89qEGgVgoAic0ufDzaPfCpWvNjunxBgrtlYpU8o4LcTzYEGgDhe10i4OO3wgVyrKUrir7/McFxgjtV9hkMiUGV4KnXWF1za5tUBhhm6xcbajbFpvoUsGCjz3rJOspmHmNvjo8SD9YZ1u7MShnla8N7sGG/JSusY0l7iSvv4CtESTgAQohR/DJT8+PS8OyYqh0AACAASURBVFUWwH0G6wmbdl+pwHfBT1J09iXz72U8OQbLm4MBDOnsB+I/BpXH/uoWbfz7dBitEg8BQfAMwbA9WJAHCMH3jvcEcExKStM1yTWfMK5FlfmnJXaoYOk+xzcEZWSI5tz+kamWiOE6UJ7Mv5gfc67+cWH66qkvquwcuSZAEKABsQ+PA4KwbhPL8VkQwwEa+Cw4xvu3ZwloYA5bos8DQ/YigziAmpdyqqwkhoH6hs+A67mtPFuxUro9BwgCTPuBuhFREsMgQeQZyoZZ3IjiBm8QlLhAEEqpee5mxXNAkHKt+akRSQZBGJTFDI31SmKAIECdBiWxgCDljQf0WgkWc3LvkDwZnyin9f+gcUKCkBulCFFb648yWqoEQu7pUYR8lGvY89z3X4HjBkLqJG2k/IVx9913u1pNnr5fx6xZs1yySDkg4+qrr3a33367O/30092TTz7pHnroIbd06VI3derUjqObN2+e2759u7v33nvNL+TWW2+VQVuAW7dunQsM7D771t2HeyJNJh/25m1sXa0FqUzZadVoynRsbUmlgjXPldxvMbe9nAyeSlLM5IruKf1sod2l2tLeCkIpZ7hmcYJ7fa6gATWl8vB4KadJQZmyXe0gY28VHiN0G0k2GLCuJN8yHwRLLNx+doQghSwHgZPVlrd3kKEchYHJ1sbSavllqNZYIGRz2S4LmDl2gqZPLaxQrbnaryogoDSE5xEEbCvfZwurqTjoa2+AgI2mNrzyKGFRJduxuFDdQvpyPAfdhQuD3JvnpHQABl6L42JRJhgg6PrVlmz39ZEx2gyW2CYTqS1ZlL/uCrO65IR2uS3Hbm3u2pUoBFNksvzhB13AEFrlYnS2t0oGYgkySBXkARgBO5DrVsojJEFGs2wM8U7ZU9WoQF4mpAIRwCnbvJChavdI4Rr+fnupHSfHz7Xeo44+yNEZCaHDTfXC44EYfD4EdD4MKZS7PWqA1Igoc9tnEEABiBgAqmIF/93BEIIdAqK7Noco4GkRpIjWdcd3xdsANaqchg26D0OAM2SJCmoPGgypUnwbS1SowWfGeb2SW90BQ1CrIMP2YcgXtVEapffxlUKv5YaYguFS1a0XaHP1ZnuXAjY6fF67BEF8GLKmJETS91q9h+r2tWmr1IZlkYxMgSEXaROzptgzdPVhyG2Tq0wO78OQA1LCYDZ4x9wGU9sAQLJldjpR0OJtZY7pskCN/4LMYAMieAMAHPADAIjgffD1pXHmG0L5z0O7IjtgyM83R7tJeh0GQCRLYGSqNnNPrg4yGPL0Fu96njOCzhct5pngwxB7jjK9tNb1FTjL5MnCpozWowzKlthAsgljPKpSHN9jAaNCBka4fNcAIlz3hzK9APky+ZYwACLj9R4b27t7YIYLEEE1wqBV8zWvfzAQ6dw1pjs1yPECIocz/PSOtvsRos5VHaObtri9yjzVBKMt1TPc7dhV87OgkD8OZRe/7026gyv+g0IEiTuPlv1F7/n/Y22L2/m9Ois+unqR8HkAPxhHA0B43M51HgRh5NRWmiqMAQBhbG1XZwAq58mslPuScpMkfWfYhDMAlJRu0SoaAAIMxPiyVt8ZSsQAIAyAwV92e15SgEz+3y+HWXogXJtzlRgKgMQIQDK+rlKzm5fHupmCBpR8/GKZ99yLxngqkHTBUQDIq2oLm54a4L483Nuc4dFDy90Fqw+531zq3fP/VLkLEOTLpzRY5627Vkd1QJAbXotwF4xvtY4wQJAZ+l77aqrn96M2xEy5pQOCYJr6ah5Kj2a3Yr/KbYY2qrREPksbVE6ix6LYArqgTKGbDaqvf8iEFQjCIMHgQ5DXdPxzBJeY4zCOTUbJpev67VVx7h+zyjTn93ZzXmw2CIKajDbnCJd8CELL4bTIvraOAp/xVkkIjdM8z0abMpD+1gHEG/icaPOttQgI8kxWrvy+tD5oEw80N/+M9o03CggAhJ+cYKPuw/7/Y+894Pwqq/z/m0zvJZnJZNKTSaNXEVBpq4DYFbuIfV113WVZ/yisva0ru/pD1FVRlLWAAkqxgfROQgKEkDYtmd57T/L/vM/zPd/c+TIJiQaEvOb48sXkO9+597nPvfd5zvmcz/kc9jZAkDwB4gTdfA67gmsoywn6VRh7r3djSwzA/uM+BIkIniUCeAAEBwL5GxIsG7o3WxkKBqjg4IkDJOzFGGOjlOTs+ZPZIE/K51hZXBnYpImOM6xJAA4AAOynbox5fafKc4tztA4OJjrH9RgrhPGSJOLnR7XvU/qBNsjTYsQsK6i0sQIgoAeGL+baIMwfY3NtEEpkKOHpGetSsqDKwBDmDl+M/ZqkDv7MQ2296mqUrWMOKXkksfDu8egxsX4uXJ5jftZv68ejty0t03EaDaDhnL5/cz+uq2lVF6TsZKeYyrw8O89n1nRFXz0hJNJCGRT+Vb5AyX4riQEMQySV8id8gZxEy2A/Nn7XHU0SBZ8n70h7PM8G/gX+EiUxFTmwEdGmCs/FA62UVxfZ/APKLVeiFF2TmTNWxx+HQ/rnQyl2SXaNmQZCDuln9sV8cQcNCKmrq4uWLBFHcQq78847o9NPP91+c9VVV0Vf//rXo+3btxtD5Ktf/Wr0mtdMRnt7e3ujiy66KLrhhhuiCWUWaK9LCU1lZeUBzfWhtJgc0IXrywAg2wdaVZMdKJSD42PGCgEIoRUcxoYEfXJOzmxtbmzaaSbQxcYGE4HNNXwPhkFgVrDx31jXbayQ4HhItBQ3KMEKQc9i+2C7ZY1xZCtU2+sbJ04S4mavX7QgUCq1sfZRqpK50IJu2A3OCslToFpVmGeUV2eFlGRKnV2bKuPm3ByDrAeZEWdUkEEAzJnQxjpbYELj0JYkK4SN9emerRYQHlmyO3rzHcXRb88aNqAE58OZJklmjIARxv7DTRPGdqhRIAy444ZWCGAIGSB3uHwcTpf17/rnj3XACkFJflTzM9PAEIARgApADkAKr13mb3E+cfZQwQcoIdPk3WP4r4NKACk/VltawJDbGrvl3JUr29Kk+uYlcsLqFDzMMlbI0aULbP5gqDgYwj1vHd5mQy3IKLDjAwrh/DEnFz/SHn1Wop2AIfNEj6YWm2cKUMUzgfztF9YNRJ84fEgA0CwbF89Q4yCgUmAr5MjTz0+Xg6l7BhjSp1KgDWoBefzs0FKwVk5RZW4AamCqLMjLFVgxaJ0kHAxBA+YvTWNJMOR3ysaeIj0SggFAu6u3qMuM4qyPrR6XE4XezG6jgwOGoE+AsB7ZX8CQG9Xm940K8neJAk+Qgf7GXRILdDDkwhVD9n0HQ16zYDi6VwDDrx9ONzAEWj/MEBgeBBgV0gB4XKKtDoYUFc2MjmdsCTDkoysHzDG9bYdaVkoz5M2Lhw0MoZPEOfNG1UIyR8+b/kaACNnum5SNnqNssYMhMEMsWDIGTwj6CL4eEYDjHTMASABEEIzEELFF4BjKO4Z2yBliDFHKRivM74nKf7iCRYIqt3uaMxIdLpTN07HIRNMmFHtIbBOCy3I59Q6InDFX2gxi9cBMwQBE3nN7oIc3f+n+vQqq7k9px8EERRjPVOyNAwFMJgEliQnbPTsE2qk2vuGZpTFZEgaM26iCqNRjjrW0TvoOnV3cpurwEv+yMz5YkzEvd0kFP7ILEpm50QDcjCRKZPh5bxogR3/ztGh7y+7owXeEM/aNByYLTA/ePxhY2K9rsw00eElZCDgdBIHFUC+AwwEQ2F4YGh6YgyDfEih4vsAA2q5igCB0dKFEC/YUIAgAyHliof1uh9Yg2rpa2cnu6ILlg9Fn14b97QNidMEE+b1AA3Q3YF4coc4udIFxEAQWGSUnvMcwQdY1pkU/eVXQwvmWNDce2CKgJAGCAOLcrHcSJgggyJWvGZT+Tpbe3wkDdGDCwAbhWOsFquwQqMK7ChMEEASmGwDH99UqFxDkfIG3rDWAtQi3flJMNd5X1ik6oKzv6DM9CWxWVigF6hsfVqeUrOidyygdVWCcW2xMgUExJNg/+8cHDARhDb+toSUJglCGd9rcWdpL27V+h7boOWl5Eq8eVmmPGEAqH+EeOghC2Sd6Fw6COLviuppqle0tswQHzETWcoAGBylGVeYZkimwJQNYjzUNEfCnWfB9644eASnLkppbJBbSZ4aWtPESU7S2MMpNARMADjBngzgIwmfeBYafGcMeEfY6617HPtYwVGslu26AIKfPLU+2neXzegmhz89dYkmWUYmIshfBjORaKAUZl45WlkTFCeTxhbydLePzrngch2vKly9UKwH51SopcTZIk0oQKe2ClQL7M1vaHOynDpqEcwWGE8AIvoAJ2Oseh44yncaSIInhcwuwAxhVr846rL1l2bk2fkRS0QtjLgB0ABO6RuuSbJAhHStbIAqtfWlzjDaIs0FgL9IpBjbIVVtyo/96yQJj2nC/8W18fcF3AsxBJLVnTGUtmZSDlptI6voudYVRQouWueu07wGEYC6SijYIRuKKa+TczgaBUUK3QtggSwoy7XnaLM04QJOSrPOS9/BQ/eFQil38WuZd/PODwghp/Oa7pjVCDtUH/+90XQcNCPk7jX+fpz2UFpP9nd/xXets08SJaRsWk0BACJt1x0iL1flCZ4eu6KwQet3PFWURzQhYIcXa2KBWOiuE89I9BlbI+X8pjf54jjp4CMCAFfKnhlFzfo+apc1W9amwQhYVFCdZEbSuW14YVN/JKAFoLC9aaaABZR3OCmFzJcvhqupkEhAKPbFssTFEavoHLVNNlrpM7Xzf+Je26NozAhUUAAYwxjVNABNwptisC9LnmQMTOsgsMqciTeO8t7Va9OglRo191Z/6jBWC88TfAABAV+0b79OmG8TVCPpDpmO25q7RSmSoBz61YrkxO2CuxDNPzv5w4dTgnIUaXhwrwJCjVaZSLVV8ylE4LuMGzGDD5zutogfPSdQg44A8rTbDi6WKyX3BCXUGDc6hleVoDvvHthsYAuWZwP/EsgoF4YFCTBaLedmk8qCF+enGrgEMwWjnt7hgmTKy1damFVoq5mAIDts3n4SenW6ieCjbc17mBce7UrXGADTYnc1dCs7VZlHjRMEeZ7FbNcOhrewqK+3JVFtAxts42GrPXsNgh7VrZR7MYUt0ENiozB4so6BjEzLK0NAvOgKWRgBDFuaXm3OfJmADR56WhpwLYAJ2EkK3DoacLgCA4zkYUqIACFbIyqKgZxAHQwBBcCphOzgYAvABEOFgyHtOUUmIOib8VuKJW9TdIU2/R7wVMOSlZSPRtSpXystVuUwCDAHwwAAtAENghhAoHa/WlwQqcTCkXkwT7BOH9RsgctcTaiG8YqbKYQJVnUALZgh6AbwbE7ru6zdlR6+uGjW2CJ9TBsOz4GCIzwt/D2MGMAS7XoDQsoSYqgMiAJl3JNqNUoqEAYgQnHq23wER+6WsRBPmgEiJ3lXuB/bevxQnAZH9FVc9kPKZ/QFUfIz7+9+9gSOurRE/zu69dM6ZIb2DVPM2tvszDi+747vPxgaZilkzVRcaA0D2An7YeRLXklU2JxptD4AMAMiPXx6y9QY45hQpwAtgQW9CT8aBNwAQDFAARhLvrJeFUUaC0Y0EQ48jQ+8tQCPAHwAIdsHKQdOsASgABHmH9HIw1gC0Reh0ggGCvF3dknjWKQfEYHgBLmB0TaltkgZJ5YwkCAIb5MdbC6yMDitXGQ3lYb/X+wgT5Jb3DWrvUfcXawOOXgmaU7sEWCICOkMgp9hZazMMBPljg4RSi8ftu5T+xEEQwM9/XDUkXaMMA0BYW5gHwB+0jrg2ykf99wjLfvzBHrXkFYtRIAjr4OPqKEN5ESAIAAJ7WU0/5Z6lOmeXxh6Cb/Y+gsbhnZRDBhDk8B/2R9e+ud9A94faJqQVBWugy7LuLUOjWu/n6j1WW1aBICQkAD4AGNh/+BlgAWOd9/IY1sijrN1pEO7kPM624DP2UD6jzSt7WGrpCUH8ox1d0cvnLBMwssXERuMt551F6bpbHDO+h/Jv2CD9Kgc8o1K6ShJ5T7U4G8TZqKkgiI8rfh4/DucjILdgX8E9c8M+yXd7xwCbKE0MjBD2MhI1zAV74SSmSCJhwfzBBpkt4BghdPwG9mU+d+0Q9ndAD9gXrluyvnOHSpsqDFBwNghAEnskezdsED7HGOvjnfhL6L5tj0qz93SKQYPM2SBvXRrKYpwN8svqemOAwML44rrO6FNHqbW8OsXQ2h3A/AMry6NPPdIdfeMlaqur54xxkpCBmcrziS/F/faWuUPWfjiAtve3tqrsFX23XTqW2E/qyIO5qOyDrVuV2CFRptJOgUthn58zJRuEv4FxBNgES6lGosLHzz60S2UOpdglCYRc9H8HBwj573dPAyHPWPmmP/hbZmAaCPlbZu8F8rcbum9WAJZmqPpObTy52rhhXwCGsIGx0TkYMju7Mlm7CRhCTWldf7UFpE+LMXBEaaVtOg6GrGmvEU00U47WiIEhsCzISDgYwnE3qW2pgyG1/a1qLRvAEDIROFUE+IAh0CkbB7uSYIjpTSR60hMY47BUi8WwsqjKxoiDQeAPGLK5d1A1q4iKtSfBkF+cziY6lARDcPwBRnAQCPr7xxoUnFVZhsUdKgdDYIbMVZBKVgsw5LZziu38bOxQfgOYMqDfh7lEe+O9y9XmT47I5t4Go97i4FAqE+8ik/pIuD5IcBT3gCE+ni0ChwBDXPQM4ABHh3vZPiJ9FZWEMW9kv7Cnuqs1P3PNkQJ8CSU/ZOWyDbSJmztdQzsFFOh+kP0DxPG65riT6Zk4WCJke3hmeDZw0HAMMdgpX3t8RnTZsVmWxcKhZJw4w2T8AER+uqXGOjqUyMlZXphlgAjj8nbEsxL10zjK3HvOx/Uy7wAi8/Nm271HbBbwabPE31ZI/K1rFGZMgcC2Qf17VvSNJ9RB5th55hh5Jg5AZEFe6FSEA9mqNpEV4uzDpCHTJ/zHghXEC4PjFVT6vXMRzBAcfa8DR6ME8ONWaZEgvnj+EmmNiKGSn5Ed3dkkHQKVkHCcr6zPl47MoAEiHz8sXc4own4zoidUHkAARNcJQJDTRU//1sagHVCm7DSiix++pyR6W9WQ6aEARjzUlhVtaFO70Fm7rOPNYUsDmHCBOl0QrEGrJyBb24lGyKDaemZFD1anRecfGcAKQJFNvZlyQsO/MYCXl0jjg64wiEpeJVDrB2eqbl/f/YaCzwslIOl2ePHO6EaBTYjSvrQ8ZKPV/MJsSy8ts8c19lkGWmJoiJCldzFX9Euuqw0MibcuCdo9ZyoQhZFG2QCB8Uf+PTAJxjbUJM97oD9MBX4cLPbIvsaSURWy1HHbrWBzKpt4rPoZH+9NjyRNJXxx258uM/Hr3Vcb4+xZCUZJom3tSM8zS3b83Gkffrn9eP/7evUOhWePoH4JrYlkDcoQ8xw16nnFACOxxwXMYYAfGFoybujYoFmEod3j+hwLBH5QBgOj4pK1xdE71TUKAGRFUQBMACEovQL8ACh8vEsAq0BOAMBqldHAirrqFyPRm98ifSCV1ABIYN4hieeeYIvyHMxZUT+Sdg+CpDDDeB5ZE2BJMU5apDM+yl14P9D4cACkfjAj+uwxfcakukVrAuf7gLrffHtDnv47pOtYLnAhMOso0+wcadU1LNL7uN06aK01HQ4C+HkWRP+5cURMF4HViFkrqGcdQzcLAOTk8jJrbco666xABys4Pt9n7QcAKc6ssmAYDYvl/9sc3aquUaw/AJ8IXGLOugBwZ1+u76eTD6WutBrvtyA0qVcVA0HwAxgDJaqsjXHhT47rewljYZ/hu3Hzkk/2QQ/0WfuTCYRE61kXTGUPTtXZIgC/r3WHwOVZxnY8a15hUneDc7EPbumtTZabMKZ+lfaSfMFY+2GCMEbemTuatkozRXuo5sKtQSU6xZkFts/CUGCOAECcgTG2E1bdKvMjMiQczjiZb4AG/CEHQQCDvHTVGSwIrwKCUBJDFSgCqXkIpeueWQmq7gF7PPsuAMdjHTuioyVwin/E3k5JDCBI0ATBPwkgCP4E31nf2WUgCPeK/djb5aINckFVupXEAIKEuQol0ddsrY/esjTP5sBBkNROMZ9dqzL3BAjCnMLedRDkJomRe6eYQj2LI0qMweLAAEGOm52mORrTMy6mycJcm3d8DFg/gCDHlwWtkZ7RBttDYQQ91sGeU5TQSgm+jIMgAxODOn6agSCriwNg1D0KY2qpJVvy0sO6dajYNBAy9Z1EI6RxGgg5VB7zF8x1TAMhL5hbceADGZy419qyYWge5MuD29hN0FNpAIHTWXfKkWBTRivEyi8UND+sbB8lMnyvU51D2IwokYFlAfgQFMmDKJezLCiRAQhBNDVbTsIt27uUIUZ5H/CF/vBSwpfDg2gq2fg60UJxGgmQPevBBtY81G8UYZxAD2JxmHBCnNIKi6O2f0yZK7VrVeYB5xHniU3cHTYCZhwSK+FIbPDVfc0WOLOBDqp1bLayCIAXLSr9YBy2uYoZskXO6eri5ea8EYjjZDqwgBMFnRYHFQYEzAyAkH86rNIczvqBQQNCCJir1V7PW/RxbHcM/b98lgo4ACI92VUjunRwirf2bZUTtzjpAOL4wmAhozWh6wM8YCzMzxbRQ3FuydjhgLmWSZyRQveYf1y9JLq5vlqgVFCmpzaZcQCG4ODTtg+AAucECjA05B1yGGnFi+M4RzXbJiabKJHxp5Ox4YjlyfkJbfsCDRkwBCeeton/t7UhCYYcUYKQHeU2AQwxWq+eK+YnOIB7wBAYQhwH59PBEEAs7hcGGIKI3tbeHjnlVaqfr7PAfG6usqI6DsY9p2MBYMhWdQ5YXAA7JXQU4Jmm4xGBz4K8RUYTzkm0LOSZ4jue5ePe4nRuH5gwrRXU7AmoijPzkmAI9c4mVptw5jr03M9S5i9H7xpgCCU6ZH8BQ85WeQpgByKQgCE/elnIajcIGOS46H3we0qLrngqV+U+IaC8VqACgMhrj56wMhjAEAww5RT9mwzzw9I+iYMhtMrsHROYIvCFThUYwR2aAzaPCmS/9mh+9LZVw6Yd8F0JWGIOiBBsPpYIbB0Qee0fi6P/OSWsNbUCPhwQAXi8t6VD86myI32OUY4wmugAQttdB0TQIcAcEOFnQJG/BRCxA8r2xgo5UHBkf1kY+/qeC6oeiIiqX8e+/usMj/1l1RgAsh/gB+cEAAH8wMqy50UPtAV9iONnh+cNACRxKCuPoj32nXpmsSOl2QGgcPzsxPOl5x1R4zcsGhWYG0AQABBKUi4QgwpxTwAQzEGQNy8KYByAIwBIX6JtM5/dpvPwTGKvUFkKrXS/+KPA6HAQxOeNDjBvkl4HAIgDcvwbEISSlRuk+fHJw4NYK2MGwHudym4AQU4qz44++WBoJX2G2tQuSAC6CEUCgnxQpTarBBTyLpVofb6npUGsyOwkCELXsobB3UkQJDc9lIIAJsPKQAvj3AVVtsbQEY3OOnEQhGuA8RAHQfy6WFsJljFnQvBZHAQ5/OqW6K6392gdnylxyaXJEgvOxxrMeusgyKKCoEfj4py+p/IZa3rIvgcQxC0VBOFzfAyYATBEU0EQ/zvOv6lnUODsItvjmgWa07EEi5eQspf7nuYJBNf1YL/7U0ObgSAYyQnM91kvjYnvu/zewY/kRegHB/3jnzHGhsEB+Q7LrLTHO84BhiDeSitfF251UVcEUik9ARCJzxtj2dLXNClZQlKiVO8B2iBBZ6PNymK8rBiWJHO5vrNZyahiK8dBIHVwAsFxld4mBOLZk+IADppjsDiXSXAUNkib9qDdAvTpUMc13Vg3qnbtlXbvYYPMyl6qfbpG4H6mdLWypfcyYoBGmNM9nWIAYP7h94PR3a8pt0SWC7w7EMM9H9W+DPTI89g01KxxzrUEBOXKsI7pPIR21esXBZYuArRHzwplwMwvgBPaIMNaNgrUMRIg5LS5iyzxZXpr5vfJ59Ke3iANwkX5pQKTunWtJLYo9UY7ZLbd4y+sazNG5akVh0bZzCEJhPzLNQeHEfKt90wzQuKL1/TPf/MMTAMhf/MUPv8HoPwlbNYSxhrusY2wWSJ1sEKe6t4tBofa2yVYIZSjzBOV1lkh6IYszJ9rgaZvqDhrzgoBCCHgJsDxDAOiqSuK061E5p23l0b3vX52khXy2/omA0OcFVIvYAZQxVkhG1SagAaGZ4aohXVWCI6VMwNwYDg3IIGzQh5przaBtyNLQ4kMzuPs7EClpESGzZIN3lkhKJp7q1yOC9WWrISzQuJ3yrNpfEbQjHNi7XjlxLDZMxY2YUpUYIUQ9H7/6XYDQ/jbx7u2G7vCM1txcVQvVQn1vurUkega4+efqnSGMpCVRQEMcUeL86CZ4pktd0zjDirBPePGHAwBrLiudpeU4gMY8uqFCwwEIBuD44mT+3RPrYEh1JYDgpDZCpoeOD0zjG5tHXUSYmzxueN6yAA5GOLOqo+B/wKGrFTgjaYKjnUcDKF+OTBKguI+ZiUzug/818VdeUY90+ZgiD+fTUPbBAassAwYJT2AIcwD94vyFcAQxk83I0TcAEMaBmt0PLXs1LUBlLk4K/Nt7QrliDJHDoaQRc0VOOP1yr+ty1Sd86iBIcwZJUUVuWpnnABD0Ds5rULsFStdKhAoqeMpsKvIUaeF9Iro8g3Ndq1HKot+9nzVoSeeXcCQ998VmCF0e8EIFu9U1vnSE9TiV9nuq1WnjSGqCCDyxfvzow9JtwUjA36DxBkBQxZWzLAOPjXqkAMYEn6PfkG4g5TKAIgAhvysOi96WfmIgSGUMvxwcwCTXqNuGRjlVQAigCHoMhwnXZPLHikyQAQwJHy30NYKwBAMQOTxhJjq0dIXwQBFoFtjlOs4OwBAhK5CtPG87KFQFtH4hbujbLV2jWtWhJEfPDtQcCR+5sw5kzPe/G43qr9T2M4tjclP91XakjZTWd5dMZFVrM1x5QAAIABJREFUvffPtZV9+rTkKX5zXo/AvlBm4AAIOhIYZWkAIIAfmHd6oZQFA0zAjlH5B+VUACDYeWI7Yc0CGmgx+0oBgRjdiehmAvgHCwQ7Z96QgQ5YHATx7kWUYgGAAGTwnP6qNk/v0KixQNzuaM6OLhNb4xGN00EQwMKPrVab2MTzCAjyuoVDCsgntI/wvAe9HAdBYDd+Zk3eJBDkf9Wi9qsnCAgZUImdAOXy7EV2Si9LgNEHEwQQhPWHzxEABQRxrSne/dsaGwwEYT9emD/H1uDNYggsLZyfBHE9cRFf39k3DfzXOuSgSfKi9QPrtgfiaDXQIYqOYwC5rJ0OghDYssbBBAEEAfTl/88U9d6zJsfPs6+fpwIb+D5jZz5Y193XmAoE4RoAYhwEmepcf9ixTcyyEPR6K9r499i3WYdTWZHOBtnX+GGDwKABBMEPYG+Id3MjYAcE8YQG432yu89AEBJMqdogCAaTKFmrElhKBClNBASBDYI2CH6P74Fhb6TsSqCC9ixAMxclBVSAzYiPARukd7wuxjwJnWIe66jRu4ewbShje7pnzPZc7xRzXU1Hkg3CM4eP8BOtS+9YlmvXekPtWBIIoSzGtUG4fuZ6c2+zNKSWJVmylMRcX5dhLYvHBM44GwT2JskxhE5hg9BB748NJLtC+QznYg+GDXLc7Dna35hTuu8ENgjJKBPwT3Qf4lkACMEGxtFhqzBfBGOOAEKcDQLb9SuPDyRLexApX5T/uv19fF+Q3zskgZBP/uzgACHfvmAaCHlBPrUv3kFNAyEvonvXP36HHJwBo6Z7f3lKThoGepItNLmcHCWbC7XpOK3QWsMmWCEAIXRg2RsrJOgxBCeO4JlMgLfSdWqjt9Jl48N5YyxjuyRWl6GgUJuXt9L1DjLtIzssqwHDgU3fWSHol3h5DONmk3bRVISxFqrEZquEc2GFMJ7HOuoU1M0wx5ASmX96oDj62WlB0JNrJPAlyHWGBc4GY/egHrEzNmMMx4OMHnWsOGrn/l5tU19XbmMwSiqK8YlWb84K8bpojrmldyjZTheH5zbVpl9ydHCS3eIsjUlOmwAcHEPU6ZcUBEFYnKwdg0Oimu9RpOdvHLCBoeL/pg2hs0JcIyTVAUwFSJoEAhRmBpE3n2vAEBy2OB3ZQRqc+cKMvCnBkH9/ZEf0xePQaOk05kyYT7KNQdDPr/v2xm1iLRRZ9s7BENg2VuOcAEPi84LTjqAbx0IJP5UmzT0DAMxSJg3ADDDkTmWa31W1UM7iNl3bInO8HQxJFwCCQ+dgCICSs1a89bC3k+bZBpzxwICx3Nkk6vqiZfYMAYa0Dm9VC2gJFVYVJx3lOBjCPYV27WBIuxzipYXllt3z69nQXa8uDZly2kLrxTgYskL6OXzWq6CKen+YIYAh971R7Ja+ejs32XDAkK+dUBxdW9MeXf5IngEigCGwQxB+vFqtSAFD1ql8piiT40l/ZP6warWzBMqEABaQg6AS8zIGABHrQqFsPUAKRqkLHTyW6/gEtJgDIt95WWCIeKtNABGsRuVxnsF/sC1DejgT0Q8250ZfOT4ALfViigGIYGTf6aaAAYhgX1oXsr5Nn19n/3VQ5LnQArETpNiBAiUAGVNZHNzw3/PdvXWOyS6eLKS6rxKWKU+4Hx9WXBoAkGvP7UkyPPg39x2mlNuywnBPbhD4hwGAIMqLvU/6OZRJAX7Y/dG9/ImAuguXB2AO0A0ABA0QDCaQAyDoPN0t/QFahGMwQwBBYIZQasIz6QAIv0dIlWc1HDeAINefGUCWX9aE88OMwubnZdg+8alHQlAICFKqHryFeu9/Uysx94RGSZUeL/YhgG7WqONn0+GJ97zVEgZr2pustI+ysStPCWsIzwRAg4uGsyaga4VxTtPGUCDL+sn+ATjP/sE65UBFACUoVQ0gyJJE55BwbYNicjRovZi8/sd1JHx95fuAtxzbARnYIH86H0BrVRIciYMg7IEtw7XSCJtvAAhrNNcwubPZHhDEQRnWN8a0t72MsTiDJNzRYA4asK4+0dmkOa5K6oIQ2DPPMBAcyIkzQ1y7w8+5NxDEgXTmcmWiBIhzuzYIP6cCIVN1iWGevH1tSIDMSyYvKC/mfjLXLt7KcRm362QBODEH/frME1B8B78AhlOr9gHWONrl8jdobgGscFyeGVgh3ikmtV1u6KAzPAmc8fnhWdvaWy0wPsv04NDZ8k4x711OCVpgYrKP0r4eFg7gfo72z+Dj7LSSZcxFUlcXB//o9sZmA+7wUVbpM/wQ5gY2KM96YcYiic6LAZpggyCSyrE45mOddHbaaWUxzgbhmDxrJFFcRBcmJcBdfkaankUxSHL5fbuVatUbq2mxgX87JCy/vHCOys7ajA1Cu/Z5eQVJNgj+59qOTit1A8h5+9KwXhRnvTr+SL6ofp4GQqa+XVYaMw2EvKie5RfDYKeBkBf4XVrTfoupjJOVm50dNjAEKr0zB5tK3UC/1erTtWGedC8G5Ik6GELpR/bMYgMKAEMARzpGdhkY4kg9U+AlMmS4EVWbOUNdJRI1qaHMpNmcl0H9DmfQA3RQf+8gMxUYwrGXKevVOrxD2b4F5nwRkLLB/blx2DrIuHCqiYWqg0xoDwfYscMcPYRTV4mRwkYKxRSaM/XNOKjn39EW/fz0oIoeB0Nq+reKor9cczKUBENwSD3bz7i8iwwlMjhdp9/cF/3h1Qh7ltvvmGucWaNnaoP21oAwQz66ukK13/XJNn0c70vr6lXaQCnK0iTbgeMSCOMosWG7MxUXkvMxUUsMTRRmCPXhUGNNtFYMj3E5Q5TIuG2S8wfrhuDdy2b4XRwQAQy5tmbcAokKZfVhgDQObtVxoJj2GJDj4nI+BheMxfEHFEDbgTp37kO8mw3f//QatZk8KbRLjpuX9vAZ9GHq/BflBycQY074ewARF8yNM0MAQ3DW/R7ADHEAy89jnQTk0Hm2zh3c+Bi9sw3ZJRw35pMgBAMQcWFcp5qTVeOzVFCJ78OsOWseNeQI6/YZgOH6IqlLSPzeerbUWT4+NzwPlzw6IEAjdN555jECIEKWk2eA5/6k8tBtCcYUnQgwF599ya+GorvOH0xm1v7QEEoNzpmfbc8SDupla3PUPlEtLBVwnlm5J5t+6/YQyL9lSZHetU4JVOaprGFY2cyQpV8kEeWbBci41gICyTeKgXJsot0voAmdZ04QY2REPuitO4KoKnZ4iXRP5JzGjZa+v6jOkcM6bIwD16KAHYLlpgcghG4G2C8l0vrBVeF3b7w9P9p2yV3PmK/9+WAqfY59tbOd6pipYAXf2Z07NRAy2hSEip9vc7bHta/uMYFpzAMOH0uLuvyc98swz9jd7+lN6n40CcTwe00pCCAJwMBGlTNiZHG5xyervTN2i8q1YGFhp8wZVRZ4VJlkASWlATihzO/Hm2tVQhgyugndRGWFJZiqZxFtnIX5JXougyDrUOLRZOy+9lyztUbPJILEWfYOxpl4vB9x0U5nHzoLx99nLy8hqI2/c6yf7G0EjJt7OxLAHu1FAwASNwdAvEwi/jt/7x3AjbM1+B6sBTp5xQEQPo8DLH489hs0mjDKV+Jr7G9qqzUXlbYmv/+epuh/XqoEgt5x1lMHXbwLGX/P3wJsI07q4EIqE8TP6wDIpIvexz/2BoJwTsbvQA3nR1vJgfj43MTXy3j3F5+zvzS1iqUTWDGpFgdB9gWA2LESCYj4MWCDVOZW2bpKGTDPFved7wK6M6+ASOzbrOHeUn4qJgggCG3r0VJhXMIGTBsE1tBi7X+92vPoqucMVPyBwNII79Gj7Q0K/kstwcDnaIPAQHKGCvsOzB7Gx/3d0tuptTkAA2WqYNvSOyN6WIyoD6wU2Kpj3lwvgfslameeAEG491wTLEr2A1ijb1saOsRt6N5u4tifOLxM19BgJTz9jDeROMIPMo0z3dcgQD+gfb1SLEvaCZOcQlC2OwmCtKtEZ0FeUTKZVCttj1XFxQEEMQ26Zu3dlHMHEIT1gta/wzsFCEonCBFfQKH6gbFoRaGYqUqcjOn8iHEDguAfYswhbBDEhwFBzhUTrTgzy9gqa9rTbd3C8rR0HVn64hFYPSSBkE8cJEbIFdOMkP1dn6e/t38zMA2E7N88Pe/fahi8SZkDnER1E1FAQBtaArrGwR7LwFUVouSdaxtb1+iIZdhoaUlJQP+4xOSUxT1MTuzs7OUGEpCFpTUpG3jbcOggs6igPJGVgJo9mqSnblKQvLgAQa9QQkP3FZyErb1yTBWsUK5y5rXF0Yb3lhvQgDNEBxlKZNjkvYNMmQTi8uQcMM7H1UGmSh1kYJhYu79E/THtdF89XwwVbbDeTjccg2wX7QB3RBu6VEqR0k6X7jcADoG5EUpk+BmnAWYIjg2OIXNmG3dCOBUB0jyJbhJYu1YIYnwvLVd7PjlugCH3vZ4szIgJrjEHzFm8iwvOIk4RDoSXyKzv3CInZoWBIf9x7NTMkHiJTCjhQeA03bIuR8p5Aggpy843fQmYITge4/oegXocXPC5mwoMwemfXHIShPjIfDoY4uU6tNM9dtayZOAfd0idwozDzP3HeUoFQ3BmTS9E1O+9gSGcF6oqrZTLpT3AvXA9Fmca4fTFx+zlO2RDcex5Npkv73LjL6NnHT0oAgw5QToFDhgxZybSK0fWtUkIengenSbMseKsJAdDLAuYYLjEX34fJ/fm6Z4WOXdlSXaI09HDMSeMLk+20LUdGENqLf6+wJDURcfBEMbFM+gsFgexmK+RXarvT9CM43/Pe4rziwGIXHlKKKdizNiPN2dF/3JEKPtArA9zQOTs+VX2/GMOiLxneSjV+cQDOw0QcQbJ548b17yEgJdgGUODAU0GDMDWzRkmLxcTBUDEjeD42FkBXPAAd3NvUGwlI+gGKNLWpvKx/75nz0EP4CeAkfTswFJxG1GZ0r6MbipSDJz0ld3F4TqTNh7meUyChKk2CUhJfM++kx2ua6QztCw/EEs771j7eulRhRHgB0YnIOwjqwJbAuDD7Tdqb3vh8lD+tFmtWzEYHzA44gAIrW4xurC4wOm2BCvowuVF0YfvFwsscT//afWAlUBi9wi0AwQBAGHNw2iZirFHEDT5u8waxn6Czdbax7pM0OwASHLQ+iG1JXn8d6k/OwhC5yoHP/f2fd6bGYmWpVt6W2wtPlBLBUFStSpSA/x9Hd9BEFsnU8RDKS14afkyA2jiIEi8Y4kLkzqIw3xWqoxQu2PQShKIHGc3+FjirA/avaIrtS+bCgTxtYi99ekeOp88cy7j+yDzRuKD58HnyMdBq17Kfs+qnJME0ePjSWXVxIGQ1HH/Vn7GuQvKJrXKdYFUguqGQQna5gYQhLUd9sPoTliO+9clxtvfbu5tM0YUncrokEci4LhZwYfgOetXIqhErEwr/VBJB/eIZ+++lmYB3dIJEVjGXgsj0Lqxyc8YkEZGgfZwWIV7EjQD8hNCOeIcAbHsVxu6Z+pcucYEwW/LTSsz4Iu5ZV8bHO82kJk9G9+Fa2R/rO4DkJHOiMAP7JMP9UXffqlKHuWT8fwBiGRKIJakCsAJ4APjy01Lt7G6SCpAyLjuJ/bHHZnRmxaH8ht8MoBDrqWmD1bHXCXj0DyDKVmkOeqVyHKuXRtACG2dAT5cYBuNLt5hgJAgKNynUqMS2+e2D9Rrn8oxIAQ/oygjrGeMY7tYJdwLNNJIGlG2vSCfEtozD/T1ft6/f2gCIT+N0r1t+185oxP9YoRc8d7ntDSmrk7swSVBaDnVMqVlMzq6R4i+V4z1iy66KLrxxhuj8fHx6Oyzz46uuOKKaO7cIAY8bS+OGZgGQl6A96lp6CYt1vnaNIZUB7nL6lcRd2wcqrPsKZsWjimsEAJl2pNK01FOjmiGqu1GNBVWiFjBBoSgMxFYIcERYtMGWV+gLNyajt7o+Fkh88SGhXAqrJCBcel1yAmAtgkzJGxMzbZxjkpBHQHRQJfslip5r2rCRcHUBhvvINMjcS70NbYPdBkrhE2MAM5ZIdRLI5oKKwRnCMYF2Tw6jZCBoDPFgjzaIeZE6zv6LCNOtuShtmHTIqBmG7rnW/7SYqwQ1xhB1Z3gl03aNkXbuGmjiuo6rRFDa1oPUL2DTJacoDN/tyu67XUoqyNkRuvc7UmROoJ4Z4XwM38PK4R7srRghsCm3RYoTsUK8YBuKuFUxhRnhQCGOAMi3uIPSi1BfryGnECiqhDGRmh/CMV3KkYD8wAoQW3/fAFiOMLukDqI4zohzCOOUsvwFptfK1nRvx0Mib8yjA8HiPFyHfF6cQdv6K6DAYZA3Y4bz4OBVnsBQ2jFiLPoz1oqGOLnczCEY8fLghwM4X56LXccDOH3gHOpJVqUEiEcGzecWuqvPcgJwrnd0aqi5cnMcRwM8b+d6rMDXXbi1xRnJ3EcB0T8mDjcu/W/+FxxD8M7TsZsqf3sQZaDIXE9Ft4Z2CHYS3TNcfuRsvvoz7huy4fvC5l8AJF3V6HJg6ByrX0GKHJUaYn9/FR3+B6gCIAIwodkUG8XhdoNUOT/tgWQ5Y2LQ7AOKPKpRwMw8lF157GxJ3CT8kQ3Ej475zeB7bNcGM+6ix9IHnNfHVWSX0r5wdkjqdoemeoskWq7K/Z0n4j/brQuAEoH27I/9vJovG4g+u+PTGYrbEmAGrR0xihZwih9AvyAqeHWIdDD9T5YgzEElukOAgBy7oJAkScDjV21uU33PDh3BEJk5xFqxBwAiV+nAyD+DMLG8IAp/lwScDsA8mzzFH/Hn+27UwXpe/sb1rBNAjWZr32BIHE24VTHCsLd6ZPW330BIPtigqSCsAAGD7fVJkEQzk/ZBnsu7623oU3tzoLQJ91O3PYGgsSvZ39AkH3NP+tidV9Pci4pTylOlGXGQZD4mp46T4Agb1gUuh25dkT8nPsCQVI1S/YFgiCQOlelJaHbXAjG2du7RmEJ7QFB4gKpVYW79MyGOWWt7Rtvk29RLl+gw5IhjI1nCeYd5RowRLjXsEHwsTDOkWVt5MU81TtGkI8mhrNBnPWEHhr3L1kulBCUZX5XFFWobLE5yQZhb+L+4qvBBnnbUnUuGoXVUWgMChcHB0D42TZphyyZaf6Cl11+/LBZxjZcWhA0bLyFMqANbGJ8P2eD4GuiCQTbE58ItuVDbTtVNjkh3boZpin0xsUBFIENcpzYp9x79vLAqtqtMaXJt9gZbZT+1FmV80wMnZKYVUU5ViILS2VVUWCDbOzuNbB8fl6eAfqM29kgsA9pqe1sEH7/oPBkZ4M4ENIy1KO5zNP9GdKa9cJmh0wDIVOvMM8HEALQsW5dKMt12717d3TuuedGZ5xxhoEebuecc0701FNPRZdffnmUnZ0dXXrppVGanus1a9ZE6el7kjbPtl9N//7vOwPTQMjfd/6TZ3+w9VZDtCsleDq0c8KAkN6xAQMz6vtnWnmMs0I6RroFfsxUxiGIkBEIIZoKK+QLqq//3in9BoTACnlJGXoGUq5PsEKqighghpKskHL1cYcJ4WUyTUO9VjazsbtHtcGAKvNs43JWCJth9+i4teaDFbLm3YGufH2ttDiUOYQ2f2RpnrEdavrbxTpBAZ02pLlWHpOnVhock6DUgztYIefMDy3xvE0brBCnPzor5PDSNMuiEMQT1J86p8SCPZwXSmSuenlwMjBYITsGGkVJXWzzw/Vx3d5BpjCjwNgeOJIuykUrQtrpvuzG3uj+N4UypD6yZxovwAxaId5O97+frIs+tEqCnAIIvETGHfVL12yPvnLCQhtHahcZnIF4iYzTdZ0VwrVsH9wisGKJzWscCIl3kUlV9IfB4kKiqawQD1wZD10JlqlW3gU/qWOGFfJEV7U5cal0bpghWIHmayowhO/jQO4NDPH74WDIMbPCvXfjGfC2iqmZW547wCgPnKYS5eP83nqR+X+gdUZ03sKqSW81wAfGs+udDeLCgw7YxGnh3kEoNSCJgyGEiRigQY0cUi9X4TMPTHwgzwaGTFW7vr9L01R09qk6PDBXBLapZUZTtazk3PEyIwIxDLAr1fjeqBxh5haQhmcBc/2Y+Pf5vQMi3m2JzwBE3GjV+v+ecjHOQBf49snzravRl9WFxs1BEf69oiiALZ0j6Nbs+c67797D3uhW8N/w2UcnDX9MbRn/VpuqXIZj7kvjY3/KdJZ+9fSoqTEhpqHj3fjWUCqEeTkRP9OdAXPgg5+fSoAbV6vM6eIjEZIMzyqaQBidpTDAj7ixjmA8J/H3lOcJm6o8YdIB9I9UcWh+P9VnqX/39/o3rb9hX/4tIMjBGntca8mP6etefP37+uP10YdXjUwCQTxY9/c5DoKYJgjMAu2d+zKSEzAZns2mWnMAikJXkz0lMXGNDmf0+JptrErt33FzNoh3iXnlvJK9iqNOpY/FHFEWiyipPccJxihsirh5l5jlhRJiV5IENqqPJQ4w8bMLzW+Q+PURJUHTK874YS9Gy4z9E/M5BFTEJ0InBL+BjnqlWehgdJhvYx3RBIzABjm5PJR6WFvYsaD1gm+AjkZhpoAJgRfMF/7exp56e5+XFqDf1ipW1259d4YEhQPr4tc13SaQChjO3spe1z/eF/18W7Z8FrqaBTaIjbVPJVVKrK0orLR5uOTRzOhbL6UzWovYFdIuS7BBRtRtrZSS5gk66QG+0WZYpaQCRAFxHlZHbkAQ7Ga1X6fVvJVjJ4A6tLPQSaGtdPtwq3VUK8oslch2nzqkZZlf1j6irnDpgQ2C1anLzHwlArN179i7mZvOkUGdm3uFf9dgbJBPHTVT+y1C5yFxVzcQSsmdDVKZmy3GD7pjkUrw5hs7eWWxWvrqu/kZpz/bo/53+f0hCYR87OqDwwi58sLnlBEy1Q2/6667DAS57rrrovPPP9++8uCDD0annHJK9Oc//zl65StfaZ9t3rw5Wr16dfSrX/0qeutb3/p3eXamT3rgMzANhBz4nB20v7in5dbo2NJs60sPg4FuE6DpO9X+bJYynQ6GFGcWCkQIzuy83MUKGuptUQeRBwxxynubvkMG4hMPFhkY0jsGWq/yFImYsvkBhuDAmCDl7uGoZajN6KBszA6GsNHW9NclwZAjSsvMuXEw5JF2tZ0tSdOGhAo4QodVxubgOyiUv2bhhFgeM0TRzLPNa0B0zDzRMfn9RmWEAXQAQwAhoOt7txbAkNcsoH6WNn9jAiDq7DuWpdHWyGa+rW/MmBcFGQuMAeGia92jXUb9JXOBI+BWlLHYnCLAEMYCkMB1cjyO7dRhp/EeUVKl7Ok2K+8hA0LWge8SjHsXGZzmokyxC3S/vrOxM/rnwyvsO+u1uRLYMSaYIYvyZyTb7U3VUjf+EMXBkMX5OckuLjsG0UaRyryuCUdoKhHHoOy+1aif3DuClzjF2c8N4PDzbeMW+DyNuFxR0AuB9eDBvTND4nohgAyAIbnp2XoGRpT5ki6JylXiQTKO7WVrJ6Kvn1iY6MQSgmV33ONlPQAi8+TclGUvMOfT2SsOiMSDL47hZTI4xjiqBOSAUl5i4mP1/+K4Uod+6/ZtBojEgR3XAgC4AHSLdy3a20vNXG7rrZVjHVg3qbbn3k7oPlRrXik12gMWpAIiPr59LSJ0EEoVzT1oi07iQFOBSgf7HC/246ELk2qvmj9Z0JTfx/Up4t/v0bOYamSSWYOnMp7LuBEsOSMj9Typ+hcv9rl+LsafWp6Seg7W8py0mVMCdvsaz/68O/tigjhI+Y0n6kw0mX+zz7G+THXsxwRWH10aWs8CgHx09W5b4+JARwiSSWiEtcdLG30v2Ne6sy8h1NR52JeGiJeaxtcu1yJhHffOIanHZK7Y23zt598892hEeJvc+N+ga7W6WIkCsVsx2EaArvHSTv/+L6tr1CElMODcXJicEg20KmDU+D7BPPaNtSZZND43lCUeUUpnMcAnAAe665VZGRctogFBSCrgb9GRK1v/hbULGwSg18tRgkBqENYNgrp99m/deCXAekzLJ1f1Zq5TxrzEQZAtfbCA0IKbaeVu+IB0PVqn7l7/uHqnMUEAQXj2u0bbdR0LBBLsSIIgv9SS9o5lnC6wKr71VKfaSRebD7h9cJc0nRbr72qsfKdb61e6zo/223U12dEFy3cbCFKSqb1TzNzQ8nfAQJCXlFGivEvMsyyJl++28mj8GuYWkP/lFcEHdBAEts2j7WliOIXubpwfY36w3jHE9wFyAoDFnt8jQtusbLodoXnTL1HwnOjTR+82MGepsG8HQWCebpPmCD40IEj9wKjdFwdB6FYzJ6dALJIB+T8q8UnPF3g1JOZyWvSGxec+F0vRAR/zUARC5n8UIGQy8HmgEzPR3xk1fO/5B0I+/OEPR9dee23U2tpqzA/ss5/9bHTllVdGHR0dWr/21Pwed9xx0VFHHRVdffXVB3p509//O83ANBDyd5j4nrE/GrNhXdeIMSgqcorMyVmnF6qqSN1PtPj3CcEPG0MQp9shyiAL+KL8RQaEsMCzAdAOsyADaifK4QEIQaU8n84x8hMmdICizApztAhIXRQO8CUOgDza0WUlMoATiG+RXazMLVKWoEfHmW/lEZSWoBXCxhy0Qcaik64qitZ+kBrfUrFC0HHYrU1v3MSvAENq++kHzyZUYOcGjYdKHS/zoOsNqu84DDBJHAxhfDBJqLtlg763pd5qho8uXagNuUUq9CrjEaMFsS2AEJwYU+zX2NiIATsAR5oF+CzMW2yfk8XIFu0TRwunkwwZDtRT3TU63ky1eSRD1Bmd9TsJfb4Z+qW0R/TdIJwadAoQCqN+F4ftv57sij5+2C5ttpQAhIwQYMiX19POMdTGugXqNPRSWpuGgD3VUvVCCIYoDSKIR4sjtXuBM0M8eHb9Ehyp1ADNwRDatxZJRAzxVNg23Jf1ne3S11ioUqntifKPCRtnXDyVMQOGlEnAjTHF2SoOhqARkZ9e+QyjgQ54AAAgAElEQVTNEL9OwBYyNQ6GpLJDvBVwfF6eDQxxuncqGOLHiIMhvAMY78P+giEuchjvTMAxAHUAv5Jgk9hDWHX/sJ6FpcmghEAGarAHOX7v9xVQPR9gCGPdn6Du+VwiHZR7Ps/5QjnXswXuL5Rx+jimEp98IYxxXyARz3vdwFbLHk/FWPLx701M9Nnel2crn+H4DoDw875AEM61rnPbJBAEzRfXW3AweCoW35ycKiu7YA/YHxAE9oLvX3u7h3sDQVh/rTXvQG8SwEUgtDyh45V6vDgDLRUw+tgDDWqnLL0xlc3FQRAHJABB6CDipZSd2msRb2cP39RTbefnZ4LiX9XUqbym6BmsE9bWFUXBl8Fv8n0Y/4H/UzrIHs5eBFjxmHwjQBBKWeKMKOuslplv3+OZo9MdxWp03cJnQ8eta7TTfp6VRZewcfNHcqSRw7vDuQ0IUfnniPwsGL3e+pjEFZ3xZivRxLVYlxfdz02923XccvmAbfJB2IPS1Iq9ygCyfz48x5I2tq6bqOos00778rrO6N+O1F/rGL+qSbOuKvghW3rH1UksM/rwygkDI9zP8q5HMFcBcP5vW2b0zmUj1lUK9gjgYeswXXAQQ+1TUm2X2lanWycw9J0uqErXdQ6K0THTfD1nClFuDdCDxt0sxZKM/YzKCvMx0ANBTJd7jq9To3KaFUW58suGxMLJt4YAC/IyLaGHITrcrHMdNytTwtuIvo7r+naZ0OoOARp0OwMIgTmHzl7QMilRyUyT+dwAITB80Ysblh+Hfw2gBaDDs5Wb/rK/61I2DYRMPf0OhDz66KOTdDgKCgqiwsLJrK+DdQPR/qioqIhe+9rXTgI3YHw0SRD9vvvum3Sqd73rXVF1dXX00EMPHawhTB/nOZ6BaSDkOZ7g1MMPjt+jtmM9ohmG8gDAkCNLqOcvS7JCAEIAEFjI89NztFAPG6vCWSGzsgqFXpMhR+xwhv4+BPxY/cCgFnkh99q0iuTsre2YKQdnwkSy2Oy2KLuNRgQbOkF+nQS3FucHqqSzJQi+q/u2a1MOQEiexhZYIa22oWzu4ZgFykj0Rmf+V3pU84X5YlLUmijnzdvbpfA+Hj3Vk6aSixxthkPW5YXxc01shGX6N0ANwq4EpGy8jUMj2uDnW2Dm3UVcP4LvPNVdp5KOQm1kAwoqd5rz8eeGZpXv7BQ4FDoOXPxIUXTNaRnJuWDj45q4NgdvAFcm5LSUSMivTVRMAA1zHHTeJ7q2aYxpBuQUmoaGdEX0PcbRI2evUEwINkkABQcaqEW3jI7MWSF+z//t4R3R5SdNpiK7E5gq/BfPZuFYhrbFrUnhVBw0KKiAIYAXiIF5K0cPoOLlHt4GOJVh4eVIZLgAQ4oELMEKceq6U7O9paBnGL3rAE61C9mm0o1xyEM5D90qAuV+qsAhDobMyVk6CbDZm7PNfPEcwHrBUpkhqbXvjPPamt2ij4dx7AsM4fe0aKRdYKrFqdou9Jr6HQdE+BxwCOYVYIhTpfncwRCfk8YhlT+J/jzV/PAZ78Tm3jo71V/DDvH6bn+XfMxTBduMGUu9n8+YjIP0Ac9HOF/Q9Nib/TWgCPX5dBWIm3cFmuo8qRoK/h0fowcW/nnqfB6MKSHowuKg6b5KUfamf5HaKvRgjO3ZjrE3wODZ/s5//2zAwr6Ow7uJeTvYvTFz+A7nwQBBSrMybR31jiap59ifa4L9QDCZes6pSlv8+DAXfrg5tM7GeEfZt9nLfHxxliLji4MGzi6Lsxa8zISAle/DBNkXCBJnf/jP+wOC7O0++LrLGkLSAkstn4uDQ1wP18z+6aU8fmxAkMtfIn9AQfxUTBD2jdXF5c8AQfj7qYDjqcqxgqaWNM+0vsIGcWFpK+/UuAjIEfHkXWRuSZ481bVTHdZmmeA8YLjvs+ylgBn4S2s7qhMMkGUCr6o1Tol5KsHQPCSxcSWqXHgeUIPnhkQN95wykJGJbgNBitSufky+Rl7GnCQrhe+w95G4orse+yviqS1KdqHPQVvqJ7sDG4Q9A6AA8KNjZEDJp8D6LMrMsd9xNn9eg9B7s3zH2ZqHNusY9UO1OP/00QPG1gQAosTR2SAfXT1H56zXvJTYeHmbYIs80i4wQiUxJDdurAtskIldY3oWM3U9i6Pf1ddGr5pfIMZF6GBFUgw2M4Ko3uXPgZCchPKyiL/SNplhQAg2quvOSHSmY/6Y78891h1dcvROAULjAlQyDAip6Q86ZLUJQecjStPlf4ak3sqiufLvmi2Z6Dohzgah7Of+lozotLk7dU1653RPuIbZ2a/b32XsoH/vkARC/vEgMUK+f+Ez5vtzn/tc9PnPf/6g3wcOeNNNN0Wvf/3roz/96U/Rq171quQ5KIfJysqKbrnllknn/fjHP27lMlu2BA2taXvhz8A0EPI83KNGdYABKYe9UZwpESrR/MyJSrBCAEKgGRK4W+lJMe3yso15ACPEu8dA5UMgFKEqAIX5eYEVsrIo33Qn+BsHQmCFSG7ENgFogc4KsdIR0TCpTQUkAAhZKMCDIO/Bti5T70ZQ0Vkh0BM5X1Em7dToQIIOQJsFpGyWOAyL/qM6euxSbcKJetHbm2aojeK4Nqk0sQyKtQl2J+vXfUMiU+CU1tArvl/ijLTilVo5QmIKktBVYIzOClko9GRN+y4TwVqirjbFmVWql5UAqGiifA+g5613dEQ/fQWq4aFLhneQaRVQMicnCKAOinmSpRISwAYEYGGFuCN3U3199LpFiywTctrvBqM/nDdoThvmrBAcV8bMsZn3bz7ZK+d2tjbaRjkJM6JTVauLc/lTUTdhhQCm4NB4aYWDHnHxPz8/TqQHzd5FxlkhzDsOODXKlA45GIJDhqO1SXMB88a7CXF9wTGVjkuCRhx3hAFDTp6zVBlDUWF1HykFeO2iZclSGcAEdB+CkG25GDOUtawyrYY5uXuc93gA/R9rt0eXHlMwCQzZQ8+uTQIk0Ih9ruJjQiyX651KiyAV7EilQqd2keHaf7CpNgmGxF91mCHcPy+TmWoZiINJ/IwT/9v6tujVC3IM9IsbYMiRKiPzrgOAIcx/PCiIgyH8LV0L4uKxxnwR2wpn1wPE0NKz7oDAkHigHM+4umBqqkaIX0ccENkfUcW/dumM65fEQZGpdE14HjDXC3o2jQrq8+PG+olZ5nNV0O2J263b657x2Unl4yZQPZXFdTj897SKnMpWFE3dVpfndipwxmnhfiwytCuLwtqD8XzErY/oQ+YdXfjZgV0HwviMgC/OfrDuQgKHi7OeCfwRKGKU5MXNgUg+Y+0HLBhXsIA5IOvfn4qBkKoxEwdA/ppWrlMF9M4y9HF4yQXBDeYgCK20sdRSQ8bUO16XFBP24/A5HaBYIx0AcS2V+Nq3LzYIex1rqIN//l5ynP98ojX6zNELJpVqAmrQfQfdB1oPv2HxmJUZ8F7SWQMBzTgIwljRWHAQJJSXNuhaFif3nalKYPYHBEkFafbc57CeMw7YIKuKQ1kg69xSdXeCWbE/IAjP4789MmQgyE3buwVIZxk45ObjdvYj/6Z8I/W54/v+nP1g045n6N/wbFeowwrPL34QIAbnYcz4GgTg+ErMreke2RpeYYyaFrFPAUH82UZQdpY6Tm2S8CbGO0jpcotaT5P4gcEKCEJZM76Jd0/xZBNzemN9jwSMs833yJQ/0jU2GM3OkqaaAAaeFebVji0QxJhM0qGi05+zQUhInVQe9m9AFy+hbR/p1b6yyFiz//3kTGODhBa8pUn9pm3CvgEkYEfk6VyfXjMUffmEMDfsiT1jauGra/rp1uzovctpFT9Tx9slAIOW1xLvV/cVfB/YIIAIJ6g19q8Sbc4BEVh3aWd7VmWm+R9dSv5hdCsEjGB9nZcXuhICPtUpAXVCWZkJwVf3zZAPnC+x1AHNY66SU0NKdmUkBezx7e5p7pePmabW6upgWDlmoFCdWB31YoPMUQIRP5kxwAYhAYffeV9ri2mOLMibLXZLu7FB0FFpHhq0BJizQYytI9+c83RIMmlF0WsnrYXPxz8OSSDkwz85OKUxP3hfdKCMELq7NDc3P+utq6qqeobI6dve9rbo7rvvjrgnCKG6AYRQJnPzzTdPOu7HPvax6Pbbbze9kGl7cczANBDyHN2njpGbrH3X7+qzo7eotRdUPQdDoAayaRapFRMLbtvIkLX4ypI+BpsVbecW5M00YAPBVGpCAUOWCyFH8fqo0rkCDppCC9z8LC3qw9aaFAZB+8hOoygCunC+Sm10faojpWSlJLNcdagCAcjECgxhoWfTIruwOD/fNBvibWgJ5Ajo+sf7DQxBtMtLJQATsjVeVNdXqmtG1bvXRQ9dRWuyOQpwOyPAkJcqoCjMyLHr2KaFaGlhQPjZbJ/oalN7Pm1YCZaF60j8fFuNnD7EVkM7XerssxIaKmRtEOvidwiXrSpON0fmuhrRaefv1KYFQLIwevfdPdGPX053m8CSIeCFxWCOErXHCi4ZPyU/zH/DUK3AIEocxg2gWt9ZY6Ub1I6efUumgSFBKHSnMhUt2kCz7Fg4UhwbkAHHlvnn32va2w0Mcc2Nj9zfGP3vqaELg41BAM0uOXOh5KUxCSjxOxwwHAfGQDkFm/LT3U26VtgogfrnWUK+S5bGg+lw3ND2lQCTNnp9YuoUZC40AIh7y5wOCDj5/qbdlpkEDHlJeaUckQYTyfMsWry9b1wPxM8NiBPKmIoMeOHaPcAGmPnGE7uUscmyFn4Yzl3cgXX6+oOtNdESsXoI4DyA53v9Y9vtXeD4OFyeiScQyEovUV4o3F+eCVpk+rnJmpbIOffWf/wX59Ud3nj3FcAs5gun07PDMENeXkF7Xa4rsLYcEAE0I3gkqLmtMU212Cq2llHShZHFZD659zil1EPXJmi6dD+aqhTKRVRpi3li2fzk/fR55j7Q+nlUMe9DbSGwftPiZXbOqbKmvEc8Px5o+5zyfNIRwAVdHRTBwW7X+jMkYHVVUQgQm9WdCkPQDmV/f3du2TGuDk/5yffKGQwfui90pPnaCUrJybyjAte0qni33uGARixJtOMkIMEZdpudtcRYV60jdJsIjsYrKgKTqmU4jMW7xAxrzcMq5JFfvmFPt5lsUbaxdyc6pvixd0lvCYPSjaHvE7dfVk/W5fDfnTt/T4eV+PczJ3fOtV/dq0BgKlsqUeJUY13J1no2laE7FLeO0QB83C0QB1tVHMQIMTKfqWDNZnVOOHNeOHZNX1j7YBWmGnTxjd3hQpbp3ZsvBs39rWEeXHgV1l7cLltTqLbgvGdoH2Tq3GPWFQNb05GhPS6AInSD+MOOLGMqXnRkCDIxwFOMsgGeQcAPQD+seSjoAyyVwCXPAe+lv4/tw4MaXwAdEW5kVB0Cnv7pgZLozleXJ0ssee7RPMCCppS+q2f7L01kescVKEljgyy8jkBJBNlq3n3WB8o4sBVa/1jrWrWmAvg6M8u7jwE0lGaFNqask+yjW1UOkaofxDtHMoFWqOwHX17fJ0Ac/aQQEBP8sZ8AgFx6THjnvAPTA20N0YmzBQTTtUxrZnXfZsuk804xh97Jyks3vKX59oHteia0F+l62F/j2kTMaRzwTWXd7U0jxAEQrofzkI33NumhK5R2Fa011X2D0dHSyHCgN96FivvMXHM/UoVa48An4r0XLM+3BISDIKmCpC50zfgBt5gfgKTHVM55zOxKY9SyXv5kS+czQBDGsUOt9ei0wl7FmmZ+ga7LQRDaBTNvGWi16DnxEhn0KubmhnIcnk1POj3ROWyd7B5u22H/vau5Qe/HLrFH5sn3a7D7OluaFhhzBwhCEsxZqvhFbXq++U7HyJgF73lKJrEfsWflJ3TUOF+j/Cz8RlYxfLpNKj3ul193yhySaAXRz6uHo3cty9Gz26tkSABButX9wsuj0YnjeWRPXd9FyTHriUB3+T8OgiDCP1ttafkvjF1AkHdVhRbZdJ7i3e/UuwcIgizp4ER/dEdTpsYwJv2OmQJp0uUHjRk7BKH+oyRub9p3AkHYS2B5AFjgj5IkY+x0jaGFNyxfzEEQklh0OawVo2NxflhnGDuADmUy83JniPGZkQRBalSGQ9csuuJhtC+uKszS34/Kz8yQIO1O+Tc7DQRBH8/WCZ2jSUxk/OglIhFapxw9P/jEM6X5AAgCmDJH5dfO+i3K3MMIsIM8RzYNhEw9sVYaIyCkoaEhmjdvj0/9bLcBvY73ve99z/a1aMeOHdH8+XtA2IGBgWjOnDnRBz/4wejb3/72pL+fLo151ul80XxhGgh5Dm5V9+it2rR2ysGbaQj0o+3poslPRN99Ojf6p9WAHoEV0qdNgBIZgJDybKlYa2O3QFVBTpNqHZcUZGnDGLUFvXtsWBsBlMIcbSgjtkBD8WMx39w7qk0tlA2wkIOgY4AhABhsPGh2MIZylSJQ8rGtb0AbRLr9TctQtwVCy9Tjm03XO8gQcAKEbBTogANfklVqAR5BJ4EauiK0r2SDnCeNDpwYNqpfbOtR6zT6x6veEgcq0XbNwRCEqQ4vCdkxnKwBZT4IqmB30NWAoA2QBscHpweHDNrqFv2dlQHpb+5rVR1xpYAZATs4Tk/31FoGY2nBYnNimF8XcUXgLFcOBqyQeXnqAKNrAhhgrDhDzUMNApRW2TUFfZEAmnSqnVux9FXOuGksuvN1mcksfSjfKVL2YZs29uBQfXZtZ/SF40rMCd/Q3SZnaIWJ2aE7QolEssRC94c5j4ML8awZDjbAAg6aO7ME/zUqtXAwhCx5jmUXC60tn2fG+Bzwykt6HAzheskqORjC/YVR8s0ns627DVnB1cXzzMnjPly5sTb62GFLJHxWraB7kZUC4WxxD3AOXRUfx3xWtgQdNR/MQZz9QHb2+5ty1LGC8qQQnHkG1seMowuNGGbIMbML7X678+tgSAjq508CQ6B/08XGWQLQnKcCQwh4vPUz6vv/8nBR9IvTA0uGa7IxJeqv42AIrRtTWR/eRYa/AUgCEOF7q4p3SmtloWXYA3MnOwmG8C626tkCDMGOVp0578gugZAXP1IYXf2KPawSvru2vXkSGALo2CUh4PKc+QaGlEoQsFktjQFEXqIMXFl2xTMEBQlQuCZ33BwQoWQEW1JQmQREuI/X12VHH1tNfXRYM1gHeuXUpiW6jJAxdEDk7uaZeq7H9e5lGiCC8Y51CaUhWMM+vaYgCYh8YV34zjuX8uyG3wOKPN65R0yW4B5QpEXviYMVgLYYoAhdT75zchDQwwB9sXF1ScBKUpCJ9V17AJYFWrPcWKPilgqs+O++8WQY83+duAd0iP9dl9beVJuKEVIlzPLxrqmZIsfOCtefkXgv/HjoCVTm7tEU8s9bhkPpDEappNvdzXvGWJEbAgD2CAc/7osBNCeWTSTBD753gv4NkEJAggGA/EVBDfYatdn9eqw7DwDI1VvCeT+0KjwnvxfYgR03K9wb9gcAEAwQpH98po4zYqD8knwBE3rHaeGLXXxkmGPAaPYmnjlsZVFg2rH2AYAAMPH35y/ROxO+YiAIApHYcrUxpZ24szMIiPt03uNnU1q2BwRZo/0XO3fBYgNBvAMan7ULPAcAsc5i2hMAQdjnACpggbC3AIB42/piCUViQaNCXcXUmh4g3EsB4yDIvS0zokcEEjkI0qvjNQ+Jyajn/SeazzgIsk2lqIuV7WctdRCEdfgsZbvpbGJi5YmOL+zB7FUuWg0IUpmn1qwGGBdNYoI4COLaWw6COPtvKkDV9yrbdxMgyFRlROxbgCAri8v0bLUbcB/vjkU55ZycoCcVNyuh1Jw5u+vCe5qiK05W2GsM06CzxT7Av9kz1nY0mm6VM3yahnZY4oKxPaGgnvbejJV7yJ7IPhhnOwHQYKuKQykec8d+xR7AXksZCd1dYEgAondrDS3SXN/f2iRQSt3llKzhXO77cC8AQWBTAuQjjNqkluBlOZSeRNYlpkyZYtb6LAFadl8SnfnwL67ZOmSCpQBzfAcQhC43gB+jO+lukm0gCMY14cts7R0TKxAgJuhsPKxykDcsqrT1d3CiR0zFrOgdS9PtuQQEAST/zJp+PWND9tn/Pj0cvUfMDlr4PtXTYe/iZcdmWVtafEee90YB4JRdw1CZSCyXJZnzLOkGE453lbWF5NaoAEPangOCtAsQ/UNDVvSRVcOaxzSV6kTRqeUL7Zl9umfYBElZa1iDEV2/s2mnlTQvyJthQEieeqmzJwKy0Nab39E9BuZT5sx0vZO0EFYyT2Pcpk6EP92aG71ZrdXXSyD2jYtVEqaxCeMyVocD5e77sqcsUTvg2xs7opdVCJjRmruhSy3vi7Os5BxtkK19YiIvCN0P40BIm7aahSq7dj+Se/hUd6c61eRGV55y5qRn+mD/45AEQj7044PDCPnh+w8YCPlr788111wTXXDBBab3cdJJJ006DGKp3/3ud00sNW7HH398dOSRR06Lpf61k/53+LtpIOQgTnrb8E1qX5uv4HJMC/KYoe4AFunaRRoH6UkfWBoriwpNXwOblZ2hjAY6F2QgAivksc4h025YKH+RzRLnH8efjWJFUZYBIfNyK5OskEFtAmQIK3LYsHt1juCAztL5cODYgNiICDDKslEFrzPNEHJnQfujywL2JepY8qhg8BNnB4cVoABlcjRF+sYHbTNko+d6Qls21O5nKODHiQ2skMevrjAwB1XxPzakyxGivjbdrqNztE/XmGXnJDhuGIRFIGZMBt1iiuSYKFMnR+SnW2qity8jqAz6Ib2mzxHQX+paqwrFqNE5EOTic5yln2xpk6BXphzNAQND3nV3lwKoMMdkeHB4cJbI9Ae1dtrhjij4Dk4Huht0o6E+lHNeX9utulOom502dhwLnCGO0TVGCQMlJzMtsAMMYaxfWjesLCgAzqxktt7BkDI5EGVi7cBscNFVHO+pHEzAEDbl9R1Ncgp0PgUWc3NyDQxZXlRsoApdbQBDyMjV9G8XiLXY/gYnsKZ/l4FnlORANSXrY/MQA0O4RnOuJYBLRguR3Rw5DdwPQIafbh1T0FMW3VTfGr1x0XxzDslKklkjkKCzEMEvjg9zGgdDPJOKbgxGMB5Auj4DY5gDB0NwxB9pl1CcAqVXzFXbRc01mVO6yfA7nMhwjACGADTx/KCEzzg5Huf3+vi5Cc0XB5HIqCJGzLXzzLz77nYDQ5hjFO95l2aL4hxqj0vMiXSmD4CSM0NaBWp5WQSK+oAhAG7vuKs4+saJPQaGeLYPMAQ6+0IFgFWwXQS+AYi0ycl7XM4bNHccP+aTIABAhC43r5xfYdcKILJAf8u7+5X1Qe/i+y8rTIIh/Puih5tEeaaeO/wNzi5Cu1ih2nCXqC4cY67ubRkyyvAxClpLEoAFgeXVW3Il9DtomUYHRPibpqEw5zilACKAIRjOLsAnYAgGIIIdXRr+TSCB8VwQsGKz1TIxDojwGc/zU2IvuK3QHMFMcGPNdFAkXvbxhXVhLgBG6ASApQIcP1aAeWTJHuAEmjrmjJHU75NrRGsp1Waqlh3bmGhD67/nfqYage1URg193ACGsYwpWhC//a5CsdhCS0s3RAkxb+8d/x3XL/Kf3SO3l5aH48NWcqDoZRWBqQFAgjmLJFFVkwQ0AD+wrQLMscNKdibBD/79WoEa3AsAJBggACB+jqu35UbLC8KcA4BgPFPYhSvCs+TAE+ev0ppGUIU5CHLeFRJCrMyJfv/W3iQAwu8Byg7XWJwF8rUTeqy7A/eBNePI0kyVJ4waAIL9YHN+9JbFg8YCwQBN+B7B44lloRQIgAMABODmguXjoYQtAYJ0CgR0oPHIEnSkapMgiJWp6ve869USLC/TK0ZATzkGgTugDOstmXdAkGP1nvB+sp4BgrDWto3UKRDMFEiEhhet7IcFRgUQxDUe2M8AQc6ZP2Ydz5qHa22+5qoElACeQJ69mfWnS93bAEFYc1n/6/sb9b18S1akgiDOhouDIKHV7Z5uWA6CsNd5SWSqVglrd6b+pq5/zECQsAYXJkEQxteiMQOCsK7CgHHGHiAIAIiXirL+fedkgM0Bm5+QDAoMS/YJdIJWFamjjH4GKEcHh855jBkgGlZeHAT5yvp66VwEX8GBefYC2LnLRI/oGBmVr7XQQBBAf8AcfAbYkJ4I4fx/3NFi5R456Qh0ltr6ytygsbZNzIPzFgZGEXsnJR1/bug0MdHzFuyyNbd9BBYwoqkw6Pp0bfMMLIcFMiSNjUz26rFR84d4DpjTXJ3DwS3mzTrtaL+jLKdSPljnqMqftS4BrMPGerQ909bvm7ZnRRcuzwmJHQmk8t8dA10Sci+IvnpCn8ROQ3kLq8NTYoL9Ses4IAgd/b75ZF702WPx4Qb13JRqHJ3GBuFaKsWC6RlrsTWDpFtN35CxKxjbHU0T5mM6EAK7lzVF5BnbaxjfQrEzDi/huQBE4hhZdi1Pa+0/e36xMcFo831qhTTsxBxd29EpZlEozaYEerb2GtggPOcOKNWI4YEYKpomp82lXCysvYAysEF412HMMM5q6YcsKwwlNbX9rdqP0cWT5kv3mMaVaWwQrg2f/LS5OeYXesl68zAdDQMbpFbCrTw7vCv8/SVrZkQfWqmEmfbGI0qem7KZQxII+eBVUXr+39g1ZkCMkB994HkDQs4999xo69at0bZtoUQ3bt4+lzKYs846y36FLsiqVaum2+c+Y7Ze2B9MAyF/w/35waY/CeBIU4ZrhjEJaO+Fo41a9gqVbTgYcsVTucrgjmkh3mVgCFaUWaCFGOXwAIY83EZZh0Q8tbAXqWTjobZmbUgIWSKWFQYJzRswBAcUB39+Ho5BqxbrTG0u4waGsImla5NtGRoTUADSDotkt9EuQ12myg20oAcwRF1iEtkKsgrdClAQSL2vdcDammFkuWtUmwoYwkZclq2M03iPjTs/o1ROXZ9ooRPGfjm8ZKltwjAQnDG2jB0AACAASURBVNnC+dcrA/zS8jTbmAiSZiliYsNhzPSWdzAER4FNr17NWcgan6+eaAAYOBZtwzUar0pREiJfgCG3Nc4MwqZq6QpbYftA2ATbDDAKzI/AFsCJz7Zr4RxdooxW5Mw2Rwbh2gJlJJRwsexykRgPQV9kl1Fs379CjJHhxuh996orzpk9BthgMHFwcBBVbRhsEFBBS+KR6NI1u6KvnZilTFW35numVNEXKltEqc1yzREK9wEMwQHGyWEMbNQADFAyZykj5swartvp8jiTdf3d5gzjwFk9u/4GBxGgY/tgu2U2gxhdnwEklOisEGOhWGNE7JVsEPMEJZ1j43TiCOJkeFnHsdJ06VV9cGAOUf40S8JkbaLF614kqMe05ZudXWljR9mewBaHAdCgX+AYLZVxQg00UhmJA0YADgAiRkGVo8vfM5/cEwxAhHdgTjZCel12bThd3cqUFygLRTa+ROJUOOYAJlyDZ2CN5p6gvvPe0dkGwV8cSECqJjldC/Ln6R0VuyVNKvh35el+aoy6B9wLABEU53P1rvAOQlfGeb++doc5WwTq1I+XZoW5xKr7GBtK8xMaO7RcOvEsFGVXyvRyygAQ7m3JNEAEgza9VU40xjvsgMjDUtzv0nFgbBULxHhCWjnX1+WKlTIscCPDHNgLlw8bKPK6hcOa4xnRPa2U/KRF760aUBlatrJrYZE4J1HSQQtuAJF/fbg4evsSSrsiC8zQ4cFRJQv2djE1sN/UBtAEp5og82fVoUTjsKJxA2QOVzB6nTKIP7w3Mzpq1Uytd0FcFSoyxzqrMgTRfWrjiKEPhHOJuUYHPwNuXPl0XhKoqCoMY2YuuCY3/n2EOhul2nDio2UKpCl5wBAKdHvXsmEDdKFFxw1AKW6tMfDg3pbAYpibu+d8dFWKm4MpfOalO/HfexCeOt47mkOAeUzp5DKbf1CWP26PCRzDfG/gZweb+BnnnlIgt6YEeoBGVNwaBgNbZaMCDQcCyHhi3Ic/NWbp+Qlj+dL6UGb3r4f32/t7+VPh3+/T84QhsN2g9wG7tjY8D29aNGxg3tpOBYp/Ho1+8pHwXLcOU04YruEtS8Izdcv2MLZXqQMIYJoDI3c2UU64O/re78I+CPjx6VcMRXe2ZEcbW8I1LlXnBuy1ev43QXcX24W5cRBKUgXRr+vCM0uw5aDOmk6JNS4djH67PSd6g94T2JgAIBtiz8iDCh6/ceKQASFYj679UQE77CMOgPD5jWJK3aX794szuky/AKC4UfPBM0/J0yvm0skDVs1Oe2d4pm7Seb98fJ8SAFna78a01kX2O5g2nzhc16j/Am7wjPIuwAr5j2OztS/s0dBiD67R+QCfAUBgg7GPURrB3sweAyAwIN0XyhC4Pt6X+VrbKBcBQGZNZH1lnWWvAaRBJ+b/PbVT5YpzLZjz1rSwaVhHYdQ5Q5PrN30MCcqO7OqJsmcWG8hCsM5zBCBcq7Xv6Fl7yjX5G8BlgltKnNiH2LO8hSqlPADzptEl1s9la2dEnztuUIBPdvQvR6QlxccZD6UrAAZPdvVaJzMXgqfcC60HrgkQ5A2Lym2vpoTxc2u7ov/vKMpLFtt9Zf/h3LA9y8RaxM+h4xltW4dFd0AQlW5z+ESs67Oz0ado1+/wV/Q8zJ2hvx23NvMdIwiOVui+tGqfTzPg7G7pDQAW8FzyfrJ+v3ExoqDdCTF47gX7EwLn5QaS49t8Z+NM6zIHCFIoZBG9mi4lDABBEKYv1hyZhKoEPNmbNvWIcVMECziAIFvF4DpVVP3Pru0VED4Y/TrRrhbfIZStlBoIAkhHx8Afbs5R0I6wL6WbJdElj45HXzl+pzGMG/RsAuKQkAIE4bkg6cacAIx/UH/HMeepWwttcwFm2WMBQQCJWFcBPBbpfchRCSUM501ae/CJ2dvwF3qke8K7P6g5Ajjg9+fOzxMrsU+gXZpAPLE9BHjAOoQtwhwBgpxQFjrlkDCghS5zuUVzy7txmt5VgBCAEvzQWvnb7MMAM4u1X+Ezs+4tLVA5kvyLPzb0CXhBbLZfPuduA0FYK7nO7Ror736mEjrhuQktkttULo6vBQiSZ613A1saEOSV2u+qiiYMEGPPho2CHt/SwoMHikwDIXY7nmETzyMQ0i7/ubKyMrrkkkuiL33pS1OO55xzzok2btwYXX755aYXcumll0YzZ2qPXLt2kp7I1Fcz/ekLZQamgZC/4k5Q+tImpsTdCnLI1LxWziUBF05Kt2jiBA2oeBMs79T/cdTIpkFVPlEbCEapCo4aQZbXpLYNjyugJCOea0BC52iTUcZxPqjZJnuwWeDByuIMbdKBcUKmrVzpvhbRB9ERQd0cx4EAslmIN5u8C1SRHePftCkLLdz6kl1acEAaBhHZKjKq5ToBEafOybFs1tM9LbaJsdnTYpcAunesy+qlb29sE+Uw3TYPghlKT9qGG4w+SVszqItkLtkATy7PsOwdjlRVYdikAAxOLAvCYhU5IdNeN7BLjvgyY4gQxAIUsAlBTeXfznDASUPRHSolDs6PN5PhC9TSHYPQuwuj75+6yzROMBgEXI+XMeAcAoCQ/Z0r8c/GwUYDQ3JFhSWb9kRnnxgo6QaGcG/ffffO6LozAujSNtwjBwtR0D7Tb8BJgNYLtRsw5EtyNh5pH7cgg6wVeiHfVIbmP0/sNeo1DiH3OQ6GIMBGnTIAAgAFLIYAAqkeUqVHOJY4qAAOAEKADFBY0VjYPijxVI0DMAT2QkHGrCQYQtkJAAR1y4BQ1NLjZHBsnK2P3D8UffeUDANDyMDlKlaHKkw3oUseHVZWKT366uNjBoagWF+qspDmoW0GhgRq8TYD/yr1PM/KKjMhMgdDKOuh9IvsGOwZAKOgF4Iy+5CeW7oFVSXBEJyW1Qq8l+SX2Wfom3DNT/d0W31xeU6p3UscJsCQB9vaFQzpPRKYyDVRCkOQcH/LLulM6F3SHNb302owAGqXrZ3QdwQQHDkhZ50OAWU2B/+zYTg6W0HbkJwpB0Nosfdk16A9AwRhgCG03URJ/0dyMKHfHiH2gYMh77q7VPdipxzIAXMGAUN4vwEiz79FgMQRI9Hpc0eTYMhhCrih8/Je/aI6L/rAihCE4lzdqmz1lt4MA0OwxwWIAIbUJwJbjg8YggGIvHxOCII9KAQQ4T0DeGgcEuiRAEP4DoDIP95foswoINxuA0RwVLHHFBT+vjE3+sIxvUlA5Ox5QeMIUAdzQISf37RoyOrBW4cDwPPOZdS8ByAiDj84IPJjsVAwL3WAvRHXvhAmaU6u2+93hID34iPDOwzA42DED7aEEosLE8E7P39nw+SOMZ8/gfbZe0CEn9cE3Re3/9TvUw0AIM5Eif++MlGCEv8McGAqc5p26u94bvbHCPgxZ7GkMlccGCKIcANEI1CPA1DOZPr6E3vAD77vrBuyshitybEH2zJVez8q3YFcAz8wrtEBIjpcAH5gP90W7sG7lg7Yc4zxXwCQexOMIUABB0D4vTOICKLiAMjFJwxo7dd7YxoIAQDBXpFgtfCesS4BggCAMA5Ar3tapWUgAMQBqT80ZCvYGjGQDiPQAgBZVhAArjctHjEABG0CglnuxzYBg7wzDoD8x7EB7OPdjYMgNf3pYqGMK8jbLVbHmPazPSAI3z1+9lgSBKFk4Ba9x9y/5QL9zp4/U2vweBIEefvSEfud35/blNXmPbtb4Nwdm9OjX78evYd8A0GsfEzHO6x4ga1v1X0qc7Wy1DQJASsJoTUTMU8HQWBwArqzX7LPUeIDoyEEuy3GSoJl5yAIWXiYCmh2sd5mi9XIHggIAtjg3VUI2gFBqorwI+YZY/BkaYGVat13EIQWt2iOOQjCHok+lZWj6vx0yKOkCBDko6uH9e8SA3fwQfgeY76zabutC3Qp4Xew3ZapHS2sPvZBE2kVYAIIQjc12KblAjM8ccJ+fV9LswHArNv4JiVaLtk3c3RtlAWy5hHkzkc3gi4pdGzR2BoG6SwHy7XKQBmOSbkrzxp+zKvmz9L63Gn36oTZAtRrR1QqSAKH5BRlvATG6bpPaktrgvUBQLhiY9AwYl0w8EpL0fDOXbbWsFbCEGTOrEuMQAT8jPWdM+19YPy8n/frnVoroOYz6u5ClxUH/xG3BwTZ1tetkpgiscu6DSSDpceeABCyVuU0p81NNxCkNCs/+uI6sfWOy04ADuO2F+Mf/u+mXPk8jDP8PcAlpdr4bL3jsJ9mGKjHPs3z/a9H4JvBNkm3drjeLhe2EiVxY/od7xjlPK8Q6ODsMK6b/YzkFRokzBWaJhhgVbc+q1AHRFYlOin+x9pdKjMbEPidJj8nrHGU9vH36CON69+AGlv0TvJeLRKb5LFONKpmGhCytqNPCQP8aECu3fp3hl3bP8wjYQiwE0p38GXRv+NewHaem5tlpUkOSJHYAwgh6cjPh2sfB5CxzjnSBLzk6FeGi/gb7JAEQt5/kBghP35+GCFXXnllRAcYgI7Vq1dPeTcRYb3ooouiG264IZrQ+05XmSuuuMIAlGl78czANBBygPfqYw/cEf27kHg2GYKrX9ZMWI3i+UtYiAMrBCDkTAU8sEJQxMbR+c7GXJWcQNWDSaCabC3etEtrFA2dbDoMCVghi4RoV+ZmW5b+/tZWK5fBIZ6j77MBsfiTrd7Yjd7HLm2SZXIaaYE7UxvRbqMKjyvDTWvaBmUOKbGBzuusEI5VojpQWCGdo41Wi4nTwGbfO4YYnso85Gw4K4RNAeegul8ZdQk+DoyPmMaJC2A548NZIa+5IiPafBkZ/z7L3F9fOyDHYUy1tBkKAncruKOuW5ucHFEyCmxe1KcvL1piSvCUHQCAoGp+eIkEvrQZod+Aw+YtZAFx5q3+eVT91HmipAbq/rGzJfylcT/R1WJlRoAhrmsBIIVmCwYYQhAORRbHCIejQ9mWubnhHL3SYqC1LqwKMmyPdbTKua0wZ/ID9xVG3zulRwH54iQYQitGnMQdYmQsyFPXENF+AUO65ZjRtu6PDRPRm5csSLJC3npHuzQUepPCpMw7888x2ke2GGgFGIIBImCUK7HxA4Y83bPVspKnV4aaWc6VLUcScKh5uN3mlVrtOBgCsAKogINJC2aeGdeB4dz9433Sdig0MGRdR090uETOyMoQyFfo2aRkCAcbMOQzR+v50nMO4AAYAhNodXEo9SJ7RCkPz4uDIZyX7OAPN++M3rcCgdhcjYV6fBysWUZJh83iYMhVm9Gj2ZkEQyhVIpNDhxzozXEwBEedLB+gooMhAIA4zo937TAHiefbwZCbRSHGUJm/RnT+zx03ZsyQa17RbeyO25StJtA6U5RbAJHvb8pXZpnAIQQaOM4OhtAGc8dgugV1Dobcrr/HYHJV92coGBtOgiF0EOJzDOeLII+AkUAMh5Kf+ey/niw0QMTLDghAAURgfPyxJis6ZcG4asGHlFUOQZ6zQ/j59IpRO46DIc6yaBFI0ToSvu+ACJnFO5oDyLCyKDAUJuScD04QbIV/OyDy7w8GFtTF0oqIAyJ/SGTlPygmCQYggsGEIvjFcBLjgMgGOcseoDpAsULME6wtEVyfpSAaAxS5QY6lW2fiGs6Yu0enw4N3vgMw8roFoRTDr42fz5svbSExHOIGPRtzPRJ+JvOPvUx173uzD/whgAlx+8Jp4fpTjfFPZX5OyuXixr6AwdaJ20o53W5xgIZ7GLf7E8DYe6rCHMBGcCNgOFVMHQc/ANowwD/s+sS9BADB2IfuSQBfACCPJXRdyLhiVzxdaOAHtqYjU+vTuN0/ABCM7Cz2/usD8HT+SeEa/iFx/EcUFNUOZBgLxAEQB1r8+eDeHqsSHBgWlHlu6Amsk7LsPYKI7GsuE3NHM627ZxgIco2AxbcIpMMcBIGBBIB4sp7NOAjyf/ruykK9V2IUffLBYgG+fQa2ZGst+N3atOh7rx9MMkFgfgCC8N9TBQD8cEue7a3L9fdY7UB69Am9D4AgzAHBHyAI7zNsEAQjYYIAgvC7HRoPQScgyAnyD9AfAAQ5fYVYlnpvv3Y8wPlu8xnwI1jrYFWmgiAVCtayE0w7QJC8DAmxq8SjRR0xKPugZOTiI2FzBhAEth37B0wQQBD2H/ZdOoPAQvFkg4MgW/u22jgcBCEA/8YTM6P3KLCnw1CNShBhggCCLMlnL+u1fQwQBDABNiZMwkL5PLBBZuseAoKQlS/LCdodANuAMLBBuke7DQRx3TPWdQdBPv9YRvTF4xPilomW8vgGANqALbBXAEFYqxGk39Y7YXMG4MEYYIPUD+jbWo6PKV1kwAMgCIH/XRIm/od5lFyQDBmysk46nAGCEFwXSmz5wdZ+SwwBgvyufkTB/5hp9yDMyT1yAXuuCQABPQqAe1ggJBm26R7CogiaGwq+EyUxLoybo39zLQBg5dp/N6nhirPFFhfMVVlknxItg9pv8eXCnpKrvXRIjJwL7ymJfviybvMZiwV29ElsHxCkIEMC9dI1OUwdCtmD+fm3Ym29b/mQ9sk0G1/7SOi0AvhRrntS398j31TPno7Fe0XC6AEBMYjg8zxesy1HWmLon4QuhrOy50RXbe7RezSm52Cm+a7sp4O6x5TOcOy89GJjFHPtgC4lWQWWqOK5PqpUYElbmhjGOyUQrxJysVlhg2AAVbfumGn35rqabCXYwh7AugY4xVrBPgobhJJENILwi35bN2hrCNf4hPzjo0oQnN0lMCWwWQBOssQQNaF8PWP4ifhQAJCwcbjn7p9fuibT2CCLde/YK5wNQpk0CYWfV+dE/3x4KLHZ0DWukp/zbIx/jU0DIVPPmjFCnicg5K+5b9N/8+KcgWkgZD/v24bumw1U+PoT+dElRw1YJsZZIQAhp8p5ho7IYnrZ2hwFkDtFgRyzRbeuP1ANQc7valawKUT/oxJNBUHH4WTzLM9Rdl4Be6uYJgAhgAgPtfVaAJyfnm4AQpk2JRgLZBr4DIo02UBKY/hbWCFzczNtoyN4xKqlF4HTBDLPZo7zBSBTmBlYIY91NmsDIZgvNDXtbRI/W1JAV4ARQ7tPrUCZfcxo0mz+LPo445TIAIaUqt1bz1iPORdju1QnLXX+ZV9qie6/GOqnuqJMDKveNitRzxkyGM4KWaY9DlbIo+192pAWGdABMEF3AAzaJ0ryzGEQdVWZglTN2bT43oAcGNS9b64PnQHm5s6Nrniqy861oijUdH7iwdHomyepnlrzg6EAX642un4uo9bqWEMS5srXJr1DrBick3wF86iWA4Z8/XH0QqTLkpcXvfeedANDstOy7F4zNmijGKwQnEvmn6xVz+iAOdywQgBDHuuoU+A8V8H3YHTdmYARiHt1mtPDNZFhQ1MEMIQx4pzSzpHPcex4FkrFJqH8BGDp9YuWWNaiZ4y2xiWmG4K47mHFsw2QcTCkYbBLQEFgWDA2E3HTsbl2b9k5pGsADEGv4oa6aoEFMwwMOXUOdNrh6PKTEA+sM5HPzx6jgFgMDMAQxDl/XZtuivWAIQRa6BEAhiCmi2gamS0HQ8geUm6BswUYkqHnnPsEGAKzaWjnhMCz7CQYAhWZTkhl+h1gCE4VBjOEkhlAvhKVgBCEA4bI57QSKYJMnt/jZvOuBDDkVbeOR69bHIIjwBA6OsEMueDuPHNkPqWSD8oHHAwhIw6A4GAIziXMEIJC3iXO3aLgzzPcP3g8N/qk6N6UOgB6nCGnicALu1IinCfr33/ZJqHRVaMSbhzRWhCCUQIpwB8HQ769sTDavHY4+txbQqDsYAgAxa/FRHEwhHeacpSfKZBbJo0GMl8YgAilKTiaHJssO2AI7y/skJf9/+2dCbzV09rHV/NwOg0kt7mIBs1RiiRpkOGaeeWaZYj7XpllyHxFcUXXNVxewxWuolIkCVFUFA2KaFKpNM+T9/mu/1m7fY4o2vu099m/da9PtYf/Xv/vWv+1nvVbz/OsShu9MUfBoEM0wDukZpmt7pMlJV1NE13iBREEoCnLS7iFJhZRgiBywetl3O0dN7qnp2e5s8ygpmCQEpJDCWEniCIIIm9aQr8QIhFCX1j0xoeEIOIEQQTBAEGZMnR+JIjw/Wo5ngJvzt9xygohHdx/KwtBjC+0RfWckwR4PT6nBv8OSV7jv3PtDT/F/nnXfRVzXQ+jOm9hPN9ZCeFB4T3CEynBwyH+OxNsXGZ3Or4wVofCwnlVXPgQ/Qsxj4IwRuk2eIc3zGWtd4TjsBtLeAihWZQgfryZE76CIHF+nXV+LqIQyhGduhD1dQoCCP2IgpfTePMaoQQRi7+H/CAs6BFAHv9zVC88N+IFKwQLCuNcO+ur4T2EuyAABs6IIOOXRm1/YPZmf3Q6daNfD5gSiSyNK2/1CzUKIgiLo9DPltjzi0dTeA5fnFbKXWB5nIJXDp4geJogZvb9LMs9dPSamAjCs1/VQqYYGxD3gicIIshcEzx4Xr43wTNeBOGzCIoli0SsuQ/uCQGQuvNbQQRBRKZQ1zPsZDnc/u+wsSiIIB0qb/CJYllkrrC+PcsWizwreG2dap6Wk837B4EWEcSfFmYbAUEEIefC3LUL7T7NXdvEnEcOr+Q3GoIIwsJyswnUhEswF6zwiToRcYvauGYCeGkLhzEhhfcQQfBUJcnlUcY65FAKuaAIKcGbIYgg2AOcukPiVOYufmuFJX1GBCH8hnqFI1QRQfgNPEEZ3/cpcYD3Bmm9v+3I55z6Nn5JYZ8YnXLjhFXuoZaRRwmLXRJI3zJxgQ8xCsnAmYM5CY4EpvUr2PxhnrbYLPRDTizCGwQBGhFk1uo53hOBsBPCY/AGwTuh8T7k3yrpQ4jxpGVBPHJBcXdq7eLuqa+32rxi4Rl2feaEU2pZgtDlm724gS0XvEEQQerb8a9rtnCSTSk7vttOhLN7oB0Zm8mvEoUQrYx5g3DkcRGzC7ArgjdI9AyRZ66wG27eTniD8OwwnmKX0DfqmLcM8/pa+y3qxPsv2sL8cktuXLZ4GTdm4Sbfd9g84/ngGby1adSWtM/8dVHSe3IsIcwhejDX4oWGVzJet3h9sBk3xH63s3lP/evrLEvGymk2kVBS1XLVrN78o2dQ1E6WmmcxI3iDMMYyhzAnB++nj81+aZXjHU39SZwaTmfiGGMK8zAiJ94gM1au9aHlny8r6r23EEKCNwgn1zCGIEgRUo1oSvjkRPss4z0C5DTzEsEbBPsZrxbypDCGHF8jsiXXbCV8lNxK2OC2KZH1s/cG4bhlbEc2KvFwibxaOBmnkLcv8AypYsPwUvss3iDd6230Ig7hgBz9y2bNPiV+f8hMQRRCql/4dEJyhMx/9pJ8yxES9USVgk4gYUIIyWQefPBBRwKZadOmubZt27oxY8bE+K1evdr169fPDR8+3CeUKWGx/i1btnT33Xefz7AbX4K70eDBg92WLVtc586dvbtR5cpRJu3dLXsymHy3eqjfMcAQu+BgMw422rF+tmOAGIKLKrktypkUjhjCTjPGYWsTQ9ixphz+XDl34eGbvRgSTpBBMb6xMbvYhXzsZnebpKaaMdPScmwUsQW9D1XwC/YoiSmL8DGLSIhIZvvCXtHGe4Lfx2gtVywSQ3AX57jdb1aTN6KwhZqQhNN23s3VFTdzr9azq2QTJEYkux7sDpYvESW+mrFyc0wMmbWa8AsWfJbN32Jo8RBhgsVtkIkYA4IJJV4MKW8n3yy3WNCyJg4RU9l4n+quzoCV7v3zV1vdbVfCFH/EEBZIXoG3TODcS31T/FHvEUPYZSE/BEm5MBwQXHCBxOjrXi9S7GsfMsRN/qKjF0PWWaKvT+30jPYWY078LWLIGQeUsfZY4Y0OdiaL20TXsEKUnCmcUBBypXDvP9nEVrFkCZ80lbAijATEkHDiRsgfwQ4VnOZZ7C3fD4JHCEEicWGt7NI+4RgTfi070pj6/u3T0t6lH/fOMubVwmKcZGvsgsGPU3twWcarw4fJ2HeyLHEr4gbhIxiauAqHJG5M2PPXrbfJmeMxC5nRVsR7hvC/HzdEfY9dkJkrV5kBXscMum+9IcqO1zsLtvsdDASRr1bgWvxzjjtuJE5xzz+sW+MNFfLIvPfDau+tgyCCEEad7zcRsM9hUTLZKIM6YSxkkF/njTcEEU454LhPchxwLdxbm1sCNIxTYt7/M7ukz1PAggBBBCP0R4vHxeDC8MEQ37TdwlbstxFE2MVlAUH+m81mbJGYcsB0S4hpO/zs6BCWxm9goCGI3PZ5WdfBPAYID8iyvs51MOQ+sYXbKBPWrmq6zj01wzwHTBAZubC0z8nBArrt/paPY0UJd13D1b7eCCKIHFPMpZ7Swhbz01aSxA8RBk+srT6vBM8TzwQLoi8WF3Vtq0dW3Adziru2NTf7RVR0/CC5RKL3EEUamEAzbrYdiW0ntVGHerajjmHW9+2i7sL2CDvRIpiFHKLI6ceSPA83YhYLUVw6osi+5qxxzJ+i0JYpVn8EEUrD8tGf71meg09mFHLXtSORXrSTTRkS8j7YIpp8EHhIvLUgWlh3qmLHahs3RBHK55O3uuNaFzIBNao/C7hnx0dcjmtiyZBtsXfXu9FnEUaCEPL2gsjjpOV+kREePC4wfBFnKbBbYOLMN6uj+0VAplS3+6QOwWsieI9UNhEkhGXwuZAYFbEoeMJwn6Eg/MTn/zjNFpChnDd6x1G6F9ff4dXxhYUhxZfulhgvlBG2GNrdEvJx8HnyQsSXoZZPIpSwaG4Qdzwui+L4stLCn+IL/Y8SxBX+PjvOk4SFPWV8Tv9lJ5PyquWeIfcGC/NQeG5Y2IUC3/cs7wylQ5Vo55V2CAt32iy0S8h/w2Ke55HnmQUnY1PwSGKndoJ5jTDvUXi+EAsQZuhTIaQG4QWxpb4tLv4xPRJ1ED8ir5CI12J7HgjHCt4z/M6yTSRPtNDL/TZ6UQGhn8LvIwCN/r64O+lg65f2rL7+XWlXKec0IZ4VOP1g3lXfiPKafAAAIABJREFU5vQ/xMXx05w7zU4N4tkNxwlPWY7XS9T/ucdBc0u7RQttPqvHrrV5StjzWt+ESuoxx+atDpZctp7dB/Pv2B8tx4MlS29u9gHPOqWoLTSpKyxmrCpuY/c2G1N/NhF7i82NxX3y2Re/KuXaHcCR1Rs8I54f2ruxeaGNMGGwZyN22fHEieZjxk/qj0jGtR81gfL2Zms9KxZ3HJfKotd7f5CI0x4TFqSIXIxp4WQcRGrGe54nBJB5azf7cDRC6rh3kh/3a2XJm23eIiQSj0DCadntD54gnIDyk3ldsrjmaNPm+1a244KXexEoeq4jL5f9c8JhoxCe1b6e5H7Yr6SFAOVsiDA3rdkSbaywIOUeEEHumVzGPFLW53iARh4uzHXPf7vV8ocQklvI7+7XKVfU5/s4sGxV84RY6PtmXeuTlW2RS54VckY9MaOI62g2A0wOLGtiruXuYDMDAeFLe1b+1jAKIeHfR/5pmz+6FSEcAQtRg40i7on2WWrzGfyq2cIdW4EwDOYiwicIKWG8LW/jIc9A7ewDTUT5zgSTKv60H+ZREtRPtAU3Yj3XQQQhGegV9Uv6TSd+FxEEjxrGFZ5fNuZmrmKjDA+G6Ghxxq1ssxHfnFvYhOTS5imy2gTMwt7T6+Ym5BvZ5EN5eG5pJ7w0OKmQEBnsIbyWgwjCHMbpWK+YNwbiC7/LiWkhETGhm8z9QQQhVIe5hnGf+yQ3FbYfgtO7Nrdyb/w9iCD0YcSxEL7NPTLGZJmnDSLTQMtj1dWLnEXdSTU3+iTW2MCI0Ag/HU3sQAQJXii0Md5W5xy40dq3jLUBoWLkcol+g01IRJAoNIy6RLljeM5q2aEBc9bizRnNIzNXFo6F9rCRw/iHmMV4VaOMhd7keIEjgiDiLLb2hycCCccBY5MTVnqAheadf3CX2Dj7W3/Zk7XLbv1APn4o3Ev1859KjBDyf5dKCMnH9suEn0qYEPLmm2/6eKrWrVu7KVOmeNEiXgiZOnWq69ixo7v44ovdUUcd5TZaVu2HHnrIJ5XhPzLthkICGsSU+AQ0RUytnThxoitqC6XdLX90MLn+s/dcryab/E40k9d+tjhHCGGnALU5eIUgQDCZI4QwoBP/WcV2Z5Zs2OQXmo9bOAxu3uxUB5dksnST1O+V70r5I8CW2mSB0s2kgBsi8aQUYkezLDkoOyifLV3mB10UcEQIDBTEENz8OC6y5X7lbcBd4ZV5Bl2MUwZ93FwZ2IPRyCTFYhlBh/jGfey0k1UWL4p3CJM8anjYfUKhZ4cJr4HgMkhSUkSHL2zDlHrsZ14sazbjRhodJfjOD5t9mEo5m5gPLFvZL+J5/dlZthNvkxeTJgZ4e/PeIHSHxFXsojCBHbE/2b0t0Zcd1cZOcMUSVW0httjcmPczjit9WAUhMogEuPvCNzr5BoN3tc8RgipPuBKusQ9M2ej+t+GGnHPps9y1nznX21z7qUMQQ2iTKH9K1KM4N57r4iq5yu6LmGO8ZBCnHp5qiQUbspuzye4tOgaUfBeIIRu3bfKTa+XSdhSyiSHUv5KdzsMJAQg6i2xiJEb+0rplvRiCZ8htn5d3f7cTEOqXr+RFq3A8H8nByhTb39p6iU/4ihjywzpLnGsTKyf0vLOAI+MqeINvi1ltL3xjx582yDZu0RFetO+webZDYvfRtVoFb8zRfhiQiCHsnOAlQZhJEEMqmUfRik3knIkS6np3XXO1RQzBZbWueaK0NuEsiCEYzAg8JAhDaPiTnWgTxBCSB7JgYgHCKSX07em2G8PCF+4YWCwmgxiC4UveBe4PMQSD+1DbhEcMwXiiz2PwBDHk0WlZPqcFx3cihhxsiw2MP8SQ3p+X80IAO7mIISGhG8b+ODwdzOsB43is8UEQGTyvtGtnuTUQAFigNKrAkdAlbadqozfCeDYpQRCpaH2eneG8YgiiDmE40811n13xby2uG0EEMYKwGp7VIIb8ZIs2QmaetdwKtXISnCKIHHbAdksSu82Ny0ne2d52sYMYQh24LxY5iCGUhhU4mcqSJ9tvs1gLIkAQRDpV2eCTWh5ZKSc55mg7ytjEEHayyHOAODDKhCBL4u9ONTFkrPHpavXimvBADKHQZoQC3DYkR/jIEUQGfp9lAl303IRQGgQRCjHsM1dHn7+8romgtoitl7OIjL4RFcZMygujon8f1zZa7AdRhDAeCl5VoRAuQAmnlPD3kBuC3C8j40JpuuYk7uSoYQoePvGF579aXJLU8F44iSDXh3P+kdfjhJcn5xFOwvdCMti815lj/EnMm7cgCMWXD21xFsql5tUWL1bw+tMWCoRgFF/enR1xb11zi3fjDoXFFMJACDth8UQJnkH0iyB+8Do7mq1MpGAu4XnG+KcEbx08mmJeF9a/471FWFBVy/HCCTle37bFT7wAEvJ1fLLEvP5sMRu+jwjCM08bIKhQ6D8IIBRCnxhzggDCawgRQ8Zsd6e2j5g23xfX/GLuldeiPnzN+SW8AEIpY2MbfWeaiQ/LLH8A5dAa20xs2cGK54Nrwuhr+xwCyBvWdw42IbmFXTuIIO0tD9hXJtS3Nq8lFnuMO0EEQfhEOEWUCCIIvOaa9w1CQKuKG92HP5R0+1vIACLIPgiyOSffBBHk3EYbvDfMcrvWrU1W+UVgEEHoW7QJiXexP7pUt6S01kSMmbC8vJ7ZJhYiG0QQxgfC6ZgTEEF4nfAkRBDGFTZ4OBo1iCDsnOMlQGFMpj0ZyxFByNNAWBa5lBBBCKPFw8svji2xZwgR5vminzPPcFxrEEEY8w/iiNRiUVL3faxNECBY7LOrzxhEG/O7bfaP2r31S6XcqLOikIrgMfv1ypVeBMFmYtOIggjS3jxCuQ/uj7Ay5mNEkHCUOcL8kg149Ubz/0Bb3COC0FacZnVSjaombM31IRccSz3S+i7eHHiEBE+7IIJwb7BlTmSs5O9RgvpIEKTP8xptg+DA5/Gc+HHDj9bu2T5fF+Gpm2zTKpzMh52JaMdv0TZ4nrAJNdm88m5ovMaLIOSLou4hNx0iyHUW1vXYkSv9XBSS6HIENSIXcz7Xe9k2Iq4zjyg8MfHAwHYhpBVb9nkLdbmt6XZ/qgptx/zH5hQ2BXXi9BkEJkSfYZa76To7tYz7I6SopoVDIdJg37WqVNg2arb6jSjmZvpAJWtj7Au82j6zTYmjrY0IE0OsaF+ZekSJaxmfEE4Zj7BP8Si+f0oZ73VJ2/MeAgy5eb6y38LeZGxj7G9fZYsPO8J7hfAZvLRJYO7FmZxwGXKScF/knyFJ/jazt+z/sfkTD5KatkE134xkhBA8kQl1QaihLWAxzjbgqAeMIq9WPEciL2M2lchPV7NMltWRo4stgfR/s93/tNhi9qNtptgG4O6EzPzRtUs0YqZWkRCSWu2h2vySQMKEkO2WQJBsuZSTTz7ZrbRJKl4IWbdunS3GLC7QFqqhrF271tWsWdOf0/zwww/7l8ORRCNHjvTCCWXmzJk+Wc3AgQPdmWeeudvt+HsHkx/t+FsGUmInEUKW5ygIxFNzDCynQyAi/NMSEF5gruAMirjiv2zGZ1hgtzW3OV5n8rtxQrQwI2M8/8ag5Az08+27qN9PzCjtrrR44pUsZmxAZ7HEpM4OQuXSkYcI/y23EAsmiENsAsDFjz9R5xmASULJ54NXyDwzXsjGza4FR7eRY2O+rSfW2CTChIiBx2dZHOIVQojB4vXLvVtui4qRJ8rqzRybyyS43YfyHFMlMraDVwjxnvw+9WWCZ4LDK4SkmN74sbo2r7i/q/vPdW7ypbR7ER8fy679JHNXZGeA7zIpcd9cA5dHJvD65Sv7mOIVttrkWijvwSuE67Cox0MFcYKJ/MNFtitnGd5Xbtri3bhxFY5iXCt47xCuQV4Qn4DU3B9DAkNEo6qW84RcIXiFcE2OOKZUN5Vo7ppo14aM8ySZGzJ3sxtji9S+LekDG9ytPqeGCUlbCM+JuiS7T4gh36+JXK8x5m74rJz7x+Gr/CkX7LSed9DP/rSchhUshn10MTewvSU98/HTi72YQ0EM8acD2fcRQ8gg/6OFnXixoEiW9wo5oGwlEyp+svjv6DSTbDMq8Qqh8Ll3zWgLYsictUv9qRMwDa6vfCeIIfydgjFPW57zvp2Qc+xyb3jQ91l0kDchiCEYeBi2uKeu90no2DmNxJDuH5d3/2i1MiaGkBwYA+duS1zbr+VKXzeEgyCG0K+jI+8iMSRkf+c1dpPutwSPJ9jiJ4ghvb8ob21soSXmmksfhjNHhNLnyJ0y3fJplDejiEXJpQev8wk/ybHBkZqIgixGghiSVcY8TGwBEsQQGLTYd6MbZbk4Tq4b7SCHBSBiCIUd37xiCL/1+beFXI/WtlMVJ4bUsphnynFVN/jFOkYWCySucYjtHrO4Q+xAEFlmdVtiO6fNjDMG+csfRn0B7xAWTiF8AC4YZNSb55+d5SCGvLOwlPcOocy1/CWH5HiFBEEE7xBCZCj8PgVBZH9bAGEwDrCcKJR4QWStiYML7/zU3fJyQy+IUBBFjmkZjfUs3hFE5s6NVq3d21gCSeNNySoa3T+iCOMgITsUjPr4ssjYDvsy+s6Gn6J6HXpYtKCPFzwOtMUf9xKuw/tDc5Kp8vczc8Ke+Ht8uMo3Od414TcJA6Gw4I4vk23Xn0LC218rG7f9UsAIoSl5v/NyzuJ7Z9ciTIlC+4UyaHL0+9e2jdowFNo+/j6bx51C8x8L9QjluIN2LOZD6FHwynjmq2jePcNOgkD8CCf88BqLv7U5Ahv/RgB5dU4UdnK09adse54QQNjRpHxubXDE/tFvxQsgoX+w8GQhyPhFgfOTn5RwpzSPvo8IggBykT2flJBLJQggg+eWsoXrFlsIR32C5wQBJDyLQSjjPeazieaBRrmx+ZqYFwgiyNEnZkfPnfU3BBAW7njSIILQZzmdmGcvrwgS8qBwTca6eBHk8XElHQIIheeSgphGH0cEaWFjEQKIHUzmypW2BXiOhxZjDt5OH5vgyLP7oz3rR9sONx5fQQShL9S2cBs8QRBByEH0lV2rmbX3uzOLuSe7rPaeIEEEQeDD+w4RBCGDBRrt0dwEG/IbPXL4Sr/4xfYgXBFWLGjxAmDs4DkMIgifqWnzOmM1IsiIBYTERu3LWEuy9j7mERhEEBa4B2RHIkgz+72pdu+HVSRHlyVWRvS2+vAbLHbZpcfD4XVr1wsOWmdzH7YJnpib/JjIxslY2zFH2CY8jM8/8TUbRRt9qG/wBuG40yDUkHSZumAvYRMQ7vCQedpdUS/K58LiGBGEKZWFLRs2sGAuo37VzNZAPGe+QWQPIkiHKpxmRyhfab+Q5T4qlSpkwntRn5y62T4s4KMxAG8QQtqYM1uY0EC/Z87EMyTYZ9TppiZr/AYAXgicqEVBFGHupg0OyC7lRRB4UceQgJMFO3MWp9jc3HSLD/HhvhDowiYctkfFkuYZ+XY593z7FX4OfeDLLNs44pSZKPTxGRNMH7dwXj7bx967ybyS55jthbA11/phYPq8hdpd03Ct7wPYZdQZ7z7qhUdvOMkKIYT8KyEhM94gPLuE1HAtPCKw9Qiv4VrTTZQ8pdZWf5AA3sh4g+CR+43lbkHIwtZEwKM/Y4sgqNXJScU03XJ54A1yo4WjI2782YQYEoxjLwRvkC2ckGZjFJ5EjDsN9yllR39vtST1JD0lX4zZ7uZ1TduwYUUozfnmIVbU7EnCubEFsUdhf0DZ6LRH2LHxhDdIPUthM3gOdutm73mJwEZdsVex+RjnEHqiTbVICAneIHiuIKwydpJQF/uc9mM8oL9UyzopGkTylN+7dtnpRVLkxZgQct6TifEIeb67PEJSpG0LSjUSJoTEA9mZEPJrwFq1auVq1arlXnnlFf+R22+/3ZGtd9ky28kmy1NOad68uWvcuLF77rnndpv97xlMJv80zC+6UZij48BY5BeNeYWwM04oB4YEosF7tsNP0lQmg31tIf3U19EOJwnXEEIYdJmUnrQM3AghDJiR18B2PxATM49XyPHmQtvIPLTnWfIub1SZkTLSdkZICsWxuRyx9sGiaPIOXiEVbeJmUmNSb1HRBlfLWXdQuQo2ca/wyaLG2wIR10+8QjjhgokLQ2ebLXTL+UnfXF/t2mQRP9F2DnHtq2CuC5OWcS58WZuc2Z2IXGPhkWWWasiHwcTABM6RnyjveMAgJlQqGSX95JQcJhbuH6+QuWsX+YXys7NKeqOCnQB2DTAImPyYcDg9gz9Z2F7ScZgb+1kXn9yKfBGUfS1x2T2TV7ueduoGYTTU5QfLe4EnA1lZ3phji1nzMmGnhMz/7JJw3FzwZphmRhrnxG+0vCnUi9MnMRyZtBErmMD4k/b6wgSZBmaoVSxR2of74BXC6TqUYfMsrMjEkMvqrvNeIQvMjicx2oZtllvF+gdH1dLOXA+DjhCTlXYULWLIIyaGsBvDpN+raSmflLSJ7UyRk4UQGSbfIITwW4TIzLFji3Gtbrqv7dSZOzNiCMIbp+OwO0xf+cZ+l7AGvEKo5/gltAlupnbEqPUjxJATa/zJdtsW+Z0UClnT8WjB6Bg8p4QXEjA+KYghtPvxr5R1L52yxvdl2Dw9s3RMDLlpQlk7um+NF0O6mevpMhNtaOP3zchpZ9e6eZKJPzliyLPfZPlwDnYuEUOetkRuPDMYoLhuszhAZAliCHlwCJ/B84q+h7HwyLTsmBhCzoePzNU8XgwJHgEkYsTo29c8KxBDWKgMn2YxvXW3eTGEZKQkBsUICaecfGex/kEMYZFCmAKLJcSQS5vggm95OOxZ+GBxlEfjnU+2uz+3tV06EwCWm6HY1RZo/7priWt1VXXLrREZR4gh0bO81d/HGDsaFDFklu3o8rsIBHnFEBZTiBSrbRM7iCF4h8yZtdmdckR09O5b1u6cPBPEENqKUBEKY0tw43/VDFrc8Pmt/Utt9YIIAgJ5Pyjl7FoIMCda3THSuHadnEVuEEQQQyjktyGMBjGEgiDCbiDl6zn+D1fNTsOgsLhcZnllTrWdr5AQNIgieLtQ2PWOF0TYcQ+eELQpBVFk//2jaxY1lCGcgH+zKAwlfC/+ektzPAfCZxBP4ssoE4tCoR+EhWr8Z8ZamB3lNHN1zltCKE786792fG7wvgifRVAIZY71u7yleZ78I/ELcsbGT3JyZcTXHx5n2oIslHAqz3jzHAvlFDP6KS98UcJd2zpqV8QPTl7ZUbefY+IHryGAPPlENO7dcU2WFz8oob+xyAmeMwggLEYoLOxYiM+wcYmCAEK5r9N6v6iLF0BuGV/O9bBdZRbc4VpBBOG1Zz4q5hrWt/C/HHGPfk+/QggJXiBc+1zbL/nCdsspjUzgQ5gMbUIvWsKOtI2VQQSJcamxIxwqCOTMCSHUDU+Q6SZEUPAE+XRpCS8KMa7MsHGovrUXz+279jy0N1GDwhgSRBAENYR4xrhPre34Hn2ZRVe0ELbTVnI8QRBBPjcxYOHUde7qk9kpt2NIbYyZZemybI3v6taw/mghQcyVHPOLMAULFli46yNo4BkSRJB2f9poc6w9h/b7m70XWLR4RMTlmSa3GAtH5kHGexb3w0xkubv5Ri+CIKS9YfPp+zbu3dt8lV/4Mg/gCYKHK3MrHhP/Y+M/3yf/RxBB8GAg/COIICSKHmGM/mIiCB4F7C9h2rE5U9LuATGExTb1wYOS74VFNnPpuUPLem8QxmIW1mzoMNefUTtKcEnOtAdMpDnFQoiYC/kNFrXYFIjp2GWIEORhCt4g2ACLzUMGsYTf4HlABAnhPM+Zp2XIA4U3yK2Tsr0I0tlCMJifEEHw7mDDgnGEuZQ5DVEH2wxbgvoyf+MNiWCCzUO7UxpUICeQnd5m+cGW2qlw4QTAR6ZmmaAQeUgh8r9s4dSIIOdaUu++tpFAIv6/1DEPEqs/Qg5CAiITNmsJE2SetHmavCCEQSPIsMEUvEHwoqAOiBaHmI1DIYwHUWWAbe5danYNm3XYqKH+eAlxwlLI3RO8QW4wYYI6EGZDfrB+UzfleGtEib8RHbkOuTiw+bAvSVBLf2QUJCxp9MIoDxHCANehP5PPKQo7j2zX2z/P9omMETWwF+GElxq2FHMVBS+y2nYd7i/k1PvOcuMFb5DPzFY91DYxEX04LhdxCCGEPkaf5nmkDwdvkBkrohPiSLjPYQHYO93tJLhg4+BxBF/ED/ojfYm/E2JFXrVWlfjeOrMPC3l7kjk2eIMwtvBsYQMj/NEWR1f+ZVLV37N2CeNZqv4ZE0LOTZAQ8qKEkFRt63St114VQvAaqVq1qrv++utd7969PUM8PhYuXOjGjh2bi2m3bt3c7Nmz3fjx43eb9e4OJhOWDvOTFxNnEEPYNWMXhQUGgyVJxz5YZIsKG8T4LN4HGBbkf0BUqGpnjv/r6+Le7e62Zqbc28IW0YSdhuk2yWIYMGhyPXZr2pjLOm6uL5sY0tYMlnbmHjh7dbQYxRODif5Em9ARQypa6MmQeRxBarkETOBgARSyyKOOR54h5BEpY2Em6/yCHIMUYxHDjkmaOnMyBmII8aos1NldqGGqCOErP5p9HOJ2yxXP9u6A31m+j9rZTPYWa27G13Hm7l/CjqubuoJTZjBIi5phEBkjSzdaHgfzCsArhAkNIwBRoNuQsu7N06LM9/x7mBlrxJJeP6G8e+no5X6ijk7RIPGZhZCY6MNkSP2oM/fGn+RSOaoyO/rEHUeJQRFe1pkcT2gPYgin0+Blg/cA59jjpjh+iR0raMINE92+FvZ+5+dZ7n8PsTwtuK0aa9o4LNosj6qvN+ICIgP/0R8wblig8/m3zdPiqZll3JO2oIfrvZOz3ZWWXyDaQYm8dDA0+ZN7wF22uHlKrTLhIYR5PGeGIWIIoSeEb5w9eh83xBYKUbK7lV4QoT3s9GLPNuQswWsFIQqRg2tjlDazFCif/FjIcSzo1fXXenGKHSUW5Bgx/Cb3jwHGcX3ECJMvY5ktFi633TP6JAnAuJcgiGDg8loHExbOeyPbvX32akugWsJfp/c4u/djV8WEtdEmfnCviAy4bmNssmNJez5oxwXTzxGPqC+CyDhbECxdYV5j5nFR2Qw9cgccZZ4CPCMIIvebWNLaknmSjI2jAqknCTO518cGrHHdLilnXkAlra03eEGkbllLUme7qI8+b7Hbx5f1C38EkVds8c4iZJ0Z/rieswPPrvdUu68j7X0WDhw7yzMy+v+WumPO389NnGe7qdW3+QXLHNtVPMLCaxBEmlbd6sNcPl2G6EeoTiSIHNkyWsziLdLCXOsH9VnkBRGez8MtvCac8PGBCSHsOg814+0KE0/jBRHc+Infpm5cNyR9nJWTpLKRLXIa2ILpC/NWwGBDREG4wEuAkAHb0HJ1vJsveVS2eREG8eWNV6JkyVXa7etFkZFTzXMj59zCBgeaQbjEjPGqLIQsKZ8tsrflbG83Me8vFm4IIy99h0vyJvff51e7Lv8TnexQ23a4WSBQxtvCkBKStLaxdqMQnhde499jZxd11fePFsodLWQnHDcLp/jwH36LQvhA8CZpm+NF8lVO+An9JxRyKoQSTr7h30Hk4u8sAuNLu5xFNa+FnCicKhNfQtLP8Fq8gDHV8jfkLSTj3FnhGNpfK8Hjh/crVt0hWtSzeSCU/eI8U/AMOK3mjoV7CDnB44O+QZlmY2coiHihhKStIXfK2xYS1cJYE6YVCn2PuY3y/LeRNwjhZZT443I5AYXC8x0SqSJyjjJxn/LRkkhoap/DOfQDFpyj7bk93p7bEErEM0UeAZgGQQrx44ETNvoxlGeB+yMMk8LuNP3+ATtZiXwgQfyoYv31hJxjphnLh+ck1v3C8qOstjmszp84SnOLz6FziokfQ+dn2ZGIW1ynQy33wpRC7tr2Ub9jkULffujV7a7WYWVscRXNteQQqWOLsWk2djSx55FHJQggtg/gnxG8/eraczrTBFeeZQQHCsIHvx36OeLp9+PXuLNPtITkNgYhfuBIu+DLda790SXcx5bPp5UdGsY4hhfIAXYK47ylhXyoE88F48wJtnnCRkxI0jzWxkneY0HOiVOIxYxJeJc8MrKYG3kxiYQL+VOEnrOQvCDKnm8hSQggnHbFd8mHdK556YQEy7QrC/J3LYSno/VxBBcEEBa45LrAFnnNxlnGePKjIYBEokiUiwjPDDw0OTa+qY1z7WwcZ+GLTcPpKXwWjxZsLb7Dv6k7niCU2y3UsXezVV6oiMI1f3bXfFrOhDGOITePOpvTEH8Z57ErjrRFPnYRIXDdDrQjXa3tGtsJaCPmm/1gC08EAo6XZq5GtHjORHrCFFn8M/c1rFDGPrfWe2AQ1vmaeSLwnYemRgnynzdxBPH1mkPWeruN+ZF6BxGEP6Pwz0ImyGeZSLTeiyDkhjvFQoMRcJhvOV68vJ1MN23FfH8PhAlR8DbASxO7zCc1NX6n1sZz07xcbaxblJM/xYtBdg2G81PfKOdeOtHyeWHf5ISwwANh8SULZcGDwue8Mrtlti3Ij7eQNkQQNoSwHREAScCKCIL9G8KF4EXS+SCCPG0eOG0sTxZHU99k4TkU+t1ZB2CrbPL5xnhW6dMIXDDGZuQaeIdgL/JE8CRjZ+JBxNzLOIII0sR4r7I2QQzDVmRkDyII8xn9qat5PlGwYSdYSNo/vyjtere2o+qt/aKTAy3hvIXO/8M2P/56CElot5ttVMyfckPiWkQQwixDXpcoZCbiHp1497NPUIvNXtcOEJi0bIsfCwkDhs1IE3WoA+ME/Y5+yXc5XAB5BxEEO6OB2d94tUy0Ovb/rJT74My1PiSGTSnGNZgHEYTngfG5RcUT/L2Fsrtrl1xfStF/SAhJ0YZRtWIE9qoQ0r17d/fyyy/70Jdw7jLhMCRSHTZsWK5mIv8I4TIkWv21QkLWNWuiQZqyaNEid9hhh+3Sjer7NUP9AMWMEGjXAAAgAElEQVSkTCws3gXk8vibLZizbGAlVwi7LUxYDIIMYkyAD9pnzrA4dAa+YoWL2ERZzA+2HCnH4M2uCztbLPJwnQxxm/fY4vkOO6KPATAcf/aFLXzYAWQCCUYugymLWY5mY1HPqRwsbJlUmPRwVw1JrebbBMrCiwkU5ZwJhUV8l2pkgd/oJziEEP5kwuFzFIw6Ftwkv5xvyTKDGMIpMCTtwlOAhflb84r53RCfWd4Sc31li9kDzYDxO9HmdU1+DSYL3icZ1hk5Cv7fRpZxn527xSefYjHNDhJKPEYudWHSZrcKNZ4Jomv1rV4MObYK7q0bjEUp4x8lx/rMJpaLzf2S2FMys+NmWM3iOAklKWYJTRdawgN2lNiBIicJ12ZHBQUew4b7pCCesMOB8cDuBTsviCDs8DCZH1zuRBOUhsXCleDYoEJRe7+z/cYQHyvLBMZ1gxhydQNL8GrrirEWk3ukhf5gEHGePXWN3FWzfY4S2i/atbIYcTMA6EchlwVulYghs9es9pMxuw7Umcm5RUWSu27yog2CEpM4xh+eIRjhCBAIbIghCCUYOhgq7J48PCXbDeq8PCaGwPcfU7PtnrZ4MQSXaiZ17oVd7NNttwtDMYghtOth+53gLvv4fXeC7Xz+nxkHNzeJjK/vzbiCWTjxpIntBmMAda/X2fKXvO2NOoyNIIYQskH4xiszSnkx5D07sYQdH8SQB+3UhhbW/t/YYiKIIYgyl9fv7C4d+74/nSEsUoMYggGPm38QQ047vbSdcNPBnTzqQx/OFrV3JIb8o/Ux7kbL/zPWDH/EELwTeA+D7Om2R9vpMWPclwt2iCF891TbZXzQntcGxrm1JTsdZYs5CoIIi++wmGTh0aVq5B1y0a3RCQcsKGbYvTQ2zoghQSh41ZL5dvC7lpF3yLj5xVxxEwHL2KXjxRCMbnaVEeLixRCujcHZ1HYoKQgiIWyB3A48W4w/78+246AnLvefqd0pShr8g+WJQRAJYgivnXHIRvfkMBOqGkThEw3NcKTN/mSLsei3okUdggjlxh6lbfc4+ixhSwgitM0XP5Xw9Q/ceR9RJCwKx3wbCUeIIggiFJLDXtlxmxmNOYl67LUQNuIFrDgdA1Hkv5bskxKOIp5n/YkSwhS6WhuEQshN/BG1HG0aX9jl31kJp6fkfS8cJ5v39TG2ONhZiU/AGv8+onUQg+JfZ5EfdozD6wMsFCOUG4+ynEdxSVQRhdbkiOd85ixLnkhhPGMBG580Ntz7wba4/8qEB9qJEoQK2phxJIgf4ajaz+ZGzC5rtt4vNiiIjCQopbTeL/pNBJDuB0dzL2MBi65w7C8CyKE5OThok3gBhM8TbjT+q+1eAKGEpKyMK0GcCaFhiCCX2mKfctNL1o/al/AiCOMiR3tS3reFOwIIBRGExb5tLtuuciSCIGIggFBs2nYXt97sPR/+bH05iCAN7dl650vLX9AwumdEkMXDF7uzupd39x92rLtt0ijv5REvggy3I3fJ+UF/X2YLnzr72yltn2x0J3Uo6gUVxopP31/3qyIIn6EcVjFKLnzfR5Zk2sIyEEEQJyfZ80U53JIP87zDhDGeMZD2O7nGhpgIwnHbj71bzF3fhdDcTuYRONz1M886RBDG7TesDQ+xORFRle93MJGCPon3GmMbzxOcgwjC3HxR3c4mJAzzIgi5PB6dFm3o3D1gg3vqBjtWPUcE+Y+JBGxmkP/h8TbHmDfhO/5oYOYsRBDytyCcMw8igrChRB2etA2G0y28jd8iBwPjMvMSwhleR4T+IYJwLcY/FqMs5h+fkW2eLKtiIkh7uxfmWTZGKCT4RNDgz+BVS8JPnmfmzVrmVYGtgIcjSdbxtAgiCMny4YKAgLiBVx2iHSIIYlRLqwu2FmIhG1h4WDxmybh5jvDEwFbjHhChEI6eMUHhfkuChQhCgtQFa6MT8hCqenxY3l1rNgK2GaISHJ6ynFgPtbGNB2sP7KoTTQRjbo4Su2MjRHYM48YbloD5QvO6QSTBm4dxAJuyCmGPtkF0qSVPxd6kDb4xQYBwkkcsKfHl9dZ6Lngv4DVK6EcQPNnowDvpLybqcF9/MxEolAPLFnd3fVHEXWZsCXlB9MFzmdBsf8RujjjD5iC/STgVghZhQ5+ZjYDXMn2BjUA8cgjRxNsY+wZb5M4vytoJOWss0WgxL+wgTHJaFQIgf3JvePzRjuQKa7LPNp8fjbEPIeS9hUW8zY4NjY1JwlJsmfMsvwo2KIJSyOtCvhDsQjZc2PBhM6mVhdMQ5sO6gPshfItnDrsJm47ndbCdBknSYjapOPoXkZDTdthsJFz31g+z3OgzVnqxhs3J4A2CtwprDtqofvlfnipTIIWQbv9yRbMiO+SPlq3rfnLzX7psl2u6P3p9fS8zCew1IeTZZ591F110kQ91Of/882P0EUJKlizphg4dmqtFevTo4UaNGuVFk18reJXceeedv3h7wYIF3vPkt8qYRW/5XBTEL7LwxYWQ+D3yhrCoRAi5pC6D4lbz1DjOkkEN9cdzMSEhhCyxwb1hhRPd3V+860+yqGn5B0gAxQQXBrof1g3xg28Y5DEiMC5GL3zLG49HmwBDFnZidfcreZIlCX3H73LgmVDSkqYGr5DO1bqaG+BQv+CJvCbIWm7iQdWu5oI5zC8+EGswKBlwudYC+20+i6CAgRy8Qg6yRf/yTVyLPBNlzcjZ4O+PssTunUSXTAzUmwXuXw6Ksl6/NW+4V7hxreX3G9i9h+8QKsHpHtSvdvaJrvnLH7nRp66xySJyl2UBj7JezyaA2cZxSo5ww84fCn63Ol284cY9MCmSHA0xh2st3TjETzQIDGRkJ/9J430iNZ36cv2BJn6wmIEtpdfEUT6RLSFJnHGPVwiL4g8Xv+UnX9jTjhgU1Iny2ZJhXthAmPrOJsfW+0fui4hmGE0hlIeJDeGEfsKuAow5zaZrDTtO2bhTaBMMdXbGEENq2X1Qltm9sFMTdtgDd96bYe2LqIMxET9R8jo5ZVgcMylXLxP9xsuz346JIQ+3WmUT7EkWQvOO738ILRgBl1h+AAymRsZr0JwRMTHkXDNySDyG4EAZb/eO4YbxgRjSq2mUq+fcMR9Yv7GdD4uXrr2fGY4djnJ32IIAAy+IIRhvd7Y41n+ecslHY/ypIUEMeb7d0a7ryI9iYsgVTde7F82bZfRxR/rPnzn6Q7u3bTExhEVHKIgh9W3XNXiG3G2/Q2JjDOYghnxui4UXj27nv3LBh2NiSYoRPMLrQQxpajtcW2236l9HtPef7/HJaC+0BDHk30cd7a4w8Sfs+L9lC14WcXCnb/Eei/Z4MSTcR7gXPEMQQyhPHdneXTN+tC0SopAZCt4h9x56rP/tcEINgggiRBAQEGzCjjmCyP827ORavfaRO7TqFv/bCCKIIWOOP9KOZv7AXzfkngiCyORubf17sVwnOYLIt5dHrO6d/K7/Mwgi406N2oN7pC4f5+z0s/Bj95lyjB3vSUEUQRCJDzvh9bDYRpjqP22k/yxeQ0EQmfKXo/xrNR4a7f+kIIqEcBr+HRJyIopQaOv4QvgAJbDi7+tt3AnFDvbyu//x5cpjIoEn3tODf4fTS1gI7qywOAzJWuPfP6VGbo+S8F78scB5rxdCNxDK48s9YyKhxzTRXCW7rMXy57zGoj4UDPKzcpLKhvrzHv2KgvBBCV4j/D2wDAJX6P8InZQgfpQvH3F8v+uR/tmnBAGEv7/d+Uh37NtjvQASfju40DPexQsgiH/jT2vrr4HgSEEAefWYqA9QmO+CF0gQQE6vfZyNkcO9FwjeFWfYQvk1E8MG2djD2IIIEvLB0D4sxp6dUirmBcJ4AK8jbQHNc8Z3EEEQQMhZwmKGuYD+iQhyQudITEEE4dloM3isF0A6XxAZ8P/MGSv4O2MPdUIAaZyTkBfPjyCChOTM/Abfq3nbCHfCcSW8F0jlctv9PVAC20/NtLnqiEgECfMs40IIrRnWKeJHGTF/uHkaZHnPEdoxtOHV46LxhfGWjRFEkFB4Dy8RRJDOJpqEcf0Nmwv6mVBfzRaN9P2RXaJn/yIbP/EECWFDYT5FDMG2YLGO6MnCs0eDzu5jm08RQXhGeW4RQULhO0EE4bVLcuZm5hqeXeZeRHN+i/mfeYDjzBFBojBTO7r3T9EcPGtVZBsGEWRIx7Z+vsYTBBEEe4QQ4WAXzF87xIsgiCv8Bn2Kgs1HWAneIBPMGwYRpK7N/9d++p4XTignvlbOPXfSalsIRzYG9eXeggjic8fZe2ycsAlEwu8HLS8I81wo8GUO/oeJGrc02WhiRHQfKza95fNm4FUQEq6yYOYZgsNIO7mJjQ0KCTanrhjqF9fYY4g1CH+0L32BsG1OdbvEPHrYJCO3F+9hr2BjYNdit9TMsRewr4IQ8lDLVV68wMb5ytop2uyyBMRmpyEAEJpKX/182bBY22JXHFMluo9vrD2waQn/wQ4IfZf6Bm8QNszwvm267wmeexBL+D6iFh4RM822oWA7kpCcfGZ3NI9sj6FzR3ghBC7/sXYmt9UNjTuZB/A73lMJQQM76qaJ2X6eZcMqeIPwfbw5Qv/lPXjzfGDXYsuRMD94g2AzI4S8YM/XwPbt7ETDt7w41Mm8VMcZczafuA/C6fEGWW+nDvJ5ynHVu/rXgzfIyXZqJLlFEMv4Dn2RsDCEOsQneGWMEHLOE4kRQv5zuYSQ2OiivySCwF4RQkaMGOFOOukkd/PNN7u77ror133sSWjMH/UIoQIhPCZ4hZx5QDRZssDFqEC9RTSIL69+N8J2ekvkmvB5/x9TR3qXQBYhYaHK64tsAEaJxog41HbY4wuCQPAKiX+PCTZKblbKBvtoUqAgRPA6XiFVSu9IuLR687vekyJ4hTD4hsIEgMjDoIxoEwqL6+AVUqbY0bHXERY4+o441Mpxv8EHmMQJyTi+Rtdc98HrnD5DDCcLtlBWbhpuizCOnSsZm9x4j/tmgmaiObVWxDwU2oSEXoghQaDAmONIQCYyPGXimTz05UhT+zf6yQ2vkPgFOUIBO0mEx4Rz3TGecJ8lWR87U/H3yO+wC4IY0iSOIXXDuLjwwwp+4Rlf6Cvh2MFQ3/D+ik3DbFeA43x3cGdSxHDCUMH4iy8YEUzQiCEHlN3xHQQ4FhnEuQZxJnyPfod7aDAYeR0xBJdyvEK62ilFwfjFEMK7Cc+QR1uTr2RHP7l5wihzqd3oxZDwHITfwGg/q/b6mFjG6/FiCJ4g8QWvELwhEEPi3wtiCDtaoU58DwOYEsSQvIz7WBvzPPZstKNv8Xl2aBFDWNSEglcIC5VwYlNYLPA+YggFIyzeYGfhQUEQiTdmEQS+tD6KZwiGVii8TkEQ6R/327wWxIUplr8gfsEXxJD4xSGfb/nqR+4wCzVDEBn75x196/T3PvTeK8E7JNxHEEP4LjuwNzXZMT4geuBtEkJt4u8lCCJ4h8y8dMdCNNxTzXtGurm37uAb7hFBJBim4bO0F4JIENHC69Q5FASz+BJEkfhFWq4P5PkHglYoz5k4RTnBxLRQ8MxBbKHQ3+NLMH7Da13e2RFyyUJ+d3+XzzXMSTCb9zt5c3eE91vazn7eEt9GO/vtI97YUb+PT85dv/h75rthYcxzz4kglAdaRhwoO+P2W/fb7D8fuXjxI/6zv8aNhQiFxVt8e/b7aqSjf1OCABKuR5+Jfx7C63d+HolxefvYqdaXEEAoQQQJ32HsCQIIr4U5p/3wiCMiyAcn5ObIQpcSRBD+XvOOt304zA8LLMQvRxzk9QMu/a8XQcqbOBsvyvIegs5sE5ARQfIKJLz/6shtrmt7c+GPE09aDxqbSwQJ98G4iidI/JzJe7R58JB649jczxH3ES+ChGvBnpCYedfuGKd4j9eDCLLAdvnj6/Xk1++Yt1VWTATh88yZeUWQ8BsISqdYzpIggoTXqRNeWHn7OQICu/8UvEFYMIbCwhhvEMKm4udBPEkQQVgU5z12FHEMTxBEkPiCXcTvI07kfZ0+ygL0OltAxxfsMja7EEFCYXEfvEEQ3OML9V1jc00QQcJ7QUQgH0l8fdmEwi7YvxQewLnzQfAdbBm8QYL4zPXOfv8Dywmyys/z8aeMMP8jgkThG7ntURbgiAH9LffWw4fvmAcR7PAGQajIa2ewGYT9E29LTDS7C88RRJkgglAnhJBQOEknvo3Z5MNbLd724LNBACPJb7w9xnu0L94gee8DuwgvVTbC4kUCPo83CJs6eef/n2xTCW+QsZaEOX5+hj0eNJyI82Dc2MhGIuIJ/fvAOPuK+6CwoRVvDzLGBm8QwuHDZhafxX6mnfDEDYIZrzd54UN3dcsN3u6Mt8NhErxBEIfY4MtbCqRHiISQX7SzXkgNAvkuhJDjo0OHDu7ss892zzzzzC8okCx1wIABPllqfGnRooVr1KhR0pKlpkZzqBa7QwCRIu+ic3e+p8+IgAiIgAiIQKYSQNSMF0DSgQPiYF5RMB3qrTqKwB8lUCCFkLPxCNnnjyLx39tqhyTMHyiPkD2CqC//gkC+CiHTp093bdu2dW3atHGDBw92RS3/Rt4Sjs8lDAbBhEJekHr16v3u43PnzZvnj+edMGGCq1y5sppfBERABERABERABERABERABFKSQMhvOHfuXFejRo2UrOPuViqIOjXOSowQMu8VCSG7y16f2z0CCRNC1q9f74YPH+5/tU+fPm7dunWxfB3t2rVzP1tCS7w6+PP55593pe2I01DKli3rGjRoEPt3ly5dLK57uuvbt6/PF9KrVy/LrG7Hu06a5IoU2Xn89s5ud+LEiT5ZqooIiIAIiIAIiIAIiIAIiIAIpAMBNnEPPfTQdKjqr9ZRQkhaN19GVD5hQsicOXNc7dq1dwrt/fejOPr27XPHrIYPI5SMGTMm9t1Vq1a5nj17ukGDBrmtdkZ8p06dXP/+/WMny+xuy2zevNl9+eWXrlKlSr9LQNnd6+tzuQkEFVseOOoZ+UlA/S4/aeu3IKA+p36wNwio3+0N6pn9m+pz+d/+2+yghSVLlrjGjRu74sV//Rj2/K/Z7//FmBByxj8TEhoz77UrlCz19zeDvvEbBBImhIiyCBSkuEa1ZvoQUL9Ln7YqKDVVnysoLZle96F+l17tVRBqqz5XEFpx791DTAg5fYArWnoPc4SsX+7m/fdKCSF7rzkL5C9LCCmQzbp3bkoT5t7hnum/qn6X6T0g/+9ffS7/mesXnVO/Uy/IbwLqc/lNvGD9noSQgtWeBfFuJIQUxFbdS/ekCXMvgc/wn1W/y/AOsBduX31uL0DXT0oIUR/IdwIa6/IdeYH6wZgQclqCPEJel0dIgeogKXAzEkJSoBEKShVWr17t+vXr5/O7kABXRQTyg4D6XX5Q1m/EE1CfU3/YGwTU7/YG9cz+TfW5zG7/Pb17CSF7SlDfTzYBCSHJJqzri4AIiIAIiIAIiIAIiIAIiEAGEYgJIac+npgcIYN6KEdIBvWf/LhVCSH5QVm/IQIiIAIiIAIiIAIiIAIiIAIZQiAmhJz8WGKEkDeukhCSIX0nv25TQkh+kdbviIAIiIAIiIAIiIAIiIAIiEAGEJAQkgGNnOa3KCEkzRtQ1RcBERABERABERABERABERCBVCIQE0L+nCCPkDflEZJK7VsQ6iIhpCC0ou5BBERABERABERABERABERABFKEQEwIOal/YkJjhlyt0JgUaduCUg0JIQWlJfPpPkIG8eHDh7tZs2a5EiVKuJYtW7r77rvPNWrUKFctVq1a5U+QGTx4sNuyZYvr3Lmz69+/v6tcuXKuz33yySfu2muvdZMnT3aVKlVyV155pbvhhhtcoUKF8umu9DPpQOCVV15x/Ddu3Di3ePFi9+yzz7oLLrjgF1VXv0uH1kzfOn799dfu6quvdoxb2dnZ7rzzznP33HOPK168ePrelGq+Vwh8++237sEHH/Rj2rRp01zbtm3dmDFjflGXZ555xj3wwANu3rx5rm7duu7ee+91J5xwwh+ab/fKjepHU4bAa6+95l588UU3adIkt3LlSlenTh3317/+1V144YW5bC71uZRpsrSuiISQtG6+jKi8hJCMaObE3eTUqVNdx44d3cUXX+yOOuoot3HjRvfQQw/5SZX/6tWrF/uxLl26eOOub9++rmTJkq5Xr16uSJEibuLEia5o0aL+cxiCzZo189fs0aOH+/LLL91NN93kDb3rrrsucRXXldKewBlnnOG+++4717RpU/fvf//7V4UQ9bu0b+qUvYEVK1a4Qw45xB100EHulltucRh5iL3nnnuue+yxx1K23qpYahJ488033VVXXeVat27tpkyZ4jcJ8gohAwcOdOecc46fP4855hgvBrNI/eijj9zhhx/+u+bb1KSgWuUnAfparVq13Mknn+z2228/9+6777o+ffq43r17u9tuu81XRX0uP1ukYP9WEEJqnvBoQjxC5g77qzxCCnaXyfe7kxCS78jT+wfXrVvndw1Kly4du5G1a9e6mjVr+p3Rhx9+2L/ODlebNm3cyJEjvchBmTlzpqtfv76fZM8880z/2mWXXeY/w3thR5UFxj//+U+/64/HiYoIQGD79u2ucOHCfherQoUKOxVC1O/UV5JJ4P777/feb3PnznX77LOP/6knn3zSe7GxW1+lSpVk/ryuXcAIhDGN22JhytiWVwjBA+TQQw91L730UuzujzjiCFeuXDmHZ+bvmW8LGD7dzh8gsGzZMlexYsVc3+zevbv773//65YvX+5fV5/7A2D1lZ0SyCWElIrmzD9atm5Y7iSE/FF6+t6vEZAQor6REAKtWrXyuwzsVlFuv/129/jjjzsm3fgQl+bNm7vGjRu75557zn+uRo0a7vTTT3f9+vWL1QOvkCZNmrj333/fHX300Qmpny5ScAj8lhCifldw2jkV7wQvOBYRgwYNilWP/ogogpfSzkK1UvE+VKfUI7AzIQQPuAMPPNDhOXLSSSfFKv3oo4+666+/3hGqymbB7o57qXfXqlEqEGDjCTF3/fr1btGiRepzqdAoBaQOEkIKSEMW4NuQEFKAGze/bo2FQNWqVb1hhnslBY+PhQsXurFjx+aqRrdu3dzs2bPd+PHjHd4lZcqUcU899ZS75JJLYp/bvHmzD6UZMGCAu/zyy/PrNvQ7aULgt4QQ9bs0acQ0rSY5jNg9JSdIfGH8+8tf/uL+/ve/p+mdqdp7m8DOhBA8Po4//nj3zTff+FwOoRDO0KlTJzdjxgwfjro7497evj/9fuoSIPSKnEdz5szxXkbqc6nbVulWs5gQcvw/XNFEeIS89b8KjUm3TpDi9ZUQkuINlA7VY2Hw8ssv+/CW4BpOOAw7VcOGDct1C8RDEwpDotUwQJK8C6+Q+IJAQogM/6mIQDyB3xJC1O/UV5JJoFixYo7wmLz5ixo2bOhDAQmTURGBP0JgZ0II4TDkn1m6dGmucAbybB122GHu448/9v1ud8a9P1InfafgE2Czql27du6RRx7xSaDV5wp+m+fnHcaEkOMSJISMkBCSn+2XCb8lISQTWnkX98gpG7hD7qqwIxWSnIbPcnLHRRdd5ENdzj///NglMMzw6hg6dGiuy5IQddSoUV40CQMksamnnXZars9lZWW5W2+91d188827qpbeT1MCf7Tf7UoIUb9L0w6RBtVGCMHrg1Ou4gsJVI888kj3r3/9Kw3uQlVMRQK/JYQQYrrvvvvGqj1hwgR/Whu7+CS/3J35NhXvWXXauwQWLFjgCGsmdxsbVOTgCkKI+tzebZuC8usSQgpKSxbc+5AQUnDbdrfvDBGDo9N2VebPn++qVasW+9iIESN83DJixV133ZXr67vjqqvQmF0RL9jv/9F+p9CYgt0vUvnuFBqTyq2T3nVTaEx6t1+61Z55lOOayeHGCUQk36UoNCbdWjK16xsTQro8kpjQmLf/ptCY1G7ytKudhJC0a7LUqDA5Pjp06ODOPvtsf5Rf3kLyNnJ8sKsQX1q0aOEaNWqUK1kqx6JyxG4oX331lU+oqmSpqdHWqVaLXSVLVb9LtRYrOPUhWSpHTr7++uuxm8KziVOMlCy14LTz3riT30qWOmTIEHfiiSfGqtW/f38fnrVmzRp/2truzrd74770m6lHYMOGDd6LiJOuOGmNHEehhAS96nOp127pWKOYENL54cQIIe9cIyEkHTtCCtdZQkgKN06qVm369Ol+J4HY5MGDB/8iXIZ6h2NMCYNBMKGQF4TEbnmPzyXxG6EyuJ1TCInhxJkff/wxdqRuqrJQvfKfwO4cn6t+l//tkgm/SH4Q/mMBUb58eX/LTz/9tLviiiv8kbo6PjcTekFy7vG3js8lDOaFF16I/TBhWGXLlv3F8bm7GveSU3NdNZ0IbN261Z1yyik+rApPkAYNGvyi+hyfqz6XTq2aunWVEJK6baOaRQQkhKgn/C4CS5YscXh1/Pzzz+755593pUuXjn0fwyx+Uu3SpYtDNMHbg7wNvXr18jGokyZNckWKFPHf+/bbb13Tpk0dn+X4NrxBbrjhBnfvvff+IiHh76qoPlzgCNCX+I8j/shHQ74Zjlcmn8xxxx0Xu1/1uwLX9ClzQytWrHDkAzn44IN9ImeMvJ49ezpOw3rsscdSpp6qSHoQYCwjFIHSp08ff5LanXfe6f9NAku8j9g44FSP2267zbVv394fUY/4xiL28MMP/13jXnpQUS2TSYDk9pzUh13GZlZ8adasmU9yrz6XzBbIrGvHhJBOCfIIGSmPkMzqQcm/WwkhyWdcoH5hzJgx3hjbWcFw4/1QcBlnkTBo0CDHLgTH/eHSm3fXlJ0JPjd58mRv+LHAvfHGG33sqooIBAIczRwWCfFUatas6Y/9U79TX8kPAhxZyukKjFvZ2dnuvPPO88ItIQoqIvB7CDBu1a5de6dfiQ8NJfyUJL14IrFbf99997kTTjgh1yTxufkAABX1SURBVPd2d779PfXTZwsegVq1annvtZ2V77//3vE+RX2u4LX93rijmBByLEJIhT2qwtYNK9zcURJC9giivvwLAhJC1ClEQAREQAREQAREQAREQAREQAQSRkBCSMJQ6kJJIiAhJElgdVkREAEREAEREAEREAEREAERyEQCMSGkQ7/EeIS811PJUjOxIyXxniWEJBGuLi0CIiACIiACIiACIiACIiACmUZAQkimtXj63a+EkPRrM9VYBERABERABERABERABERABFKWQC4hpOQe5gjZaDlC5BGSsm2drhWTEJKuLad6i4AIiIAIiIAIiIAIiIAIiEAKEogJIe37uqKJEELev1ahMSnYzulcJQkh6dx6qrsIiIAIiIAIiIAIiIAIiIAIpBgBCSEp1iCqzi8ISAhRpxABERABERABERABERABERABEUgYgSCE1Dr6oYR4hMwZc508QhLWOroQBCSEqB+IgAiIgAiIgAiIgAiIgAiIgAgkjEBMCGmXICHkAwkhCWscXcgTkBCijiACIiACIiACIiACIiACIiACIpAwAhJCEoZSF0oSAQkhSQKry4qACIiACIiACIiACIiACIhAJhKICSFtH0xMaMxH1ys0JhM7UhLvWUJIEuHq0iIgAiIgAiIgAiIgAiIgAiKQaQRiQsiRCRJCxkoIybQ+lOz7lRCSbMK6vgiIgAiIgAiIgAiIgAiIgAhkEAEJIRnU2Gl6qxJC0rThVG0REAEREAEREAEREAEREAERSEUCMSHkiD6JCY35+AaFxqRiQ6dxnSSEpHHjqeoiIAIiIAIiIAIiIAIiIAIikGoEYkJImwdc0RIV9qh6WzetcHM+uTHpQsj69evd3Xff7V555RW3ePFiV61aNXfRRRe566+/3hUpUiR2D6tWrXI9e/Z0gwcPdlu2bHGdO3d2/fv3d5UrV96j+9SX85eAhJD85a1fEwEREAEREAEREAEREAEREIECTSAdhRBEj9dff93de++97pBDDnHjxo1zt99+u+vVq5e78847Y+3VpUsXN23aNNe3b19XsmRJ/z5CycSJE13RokULdLsWpJuTEFKQWlP3IgIiIAIiIAIiIAIiIAIiIAJ7mUBMCGmdII+Qccn1CNm+fbvLzs723h+9e/eO0Tv//PPd+PHj3cyZM/1riCNt2rRxI0eOdB07dvSv8V79+vXdwIED3ZlnnrmXyevnd5eAhJDdJaXPiYAIiIAIiIAIiIAIiIAIiIAI7JJATAg5/O+JCY0Zf1NSQ2O2bdvmSpcu7f7+97+7a665JnZ/f/3rX93bb7/tZs2a5V/DQ+Txxx93y5Ytc4UKFYp9rnnz5q5x48buueee2yUbfSA1CEgISY12UC1EQAREQAREQAREQAREQAREoEAQSDchBOiXXXaZGzVqlPfswMMDT5AzzjjDh8UgiFDw+Fi4cKEbO3Zsrnbq1q2bmz17tv+OSnoQkBCSHu2kWoqACIiACIiACIiACIiACIhAWhCICSEt70+MR8hnN7sJEybkSkhKKEvZsmUTxgOvkO7du7t///vfsWvecsstPmdIKITDlChRwg0bNizX71511VU+XCZ4jiSsUrpQ0ghICEkaWl1YBERABERABERABERABERABDKPQDKEkLwU77jjjlz5PPK+z+kuixYt2iX8OnXq+CSn5Ad56aWX/MkxBx10kPfuwBuEf3NKDAUhhASpQ4cOzXXdHj16eG+SkEtklz+qD+x1AhJC9noTqAIiIAIiIAIiIAIiIAIiIAIiUHAIxISQwxLkETLh93uEkK/jwgsv3CXU+fPnu5UrV7pGjRq5t956y3Xt2jX2HbxB+G/p0qUuKytLoTG7pJk+H5AQkj5tpZqKgAiIgAiIgAiIgAiIgAiIQMoTCEJI7UMRQsrvUX23blrpvp94c1KTpb766qvurLPOctS7SpUqsfoOHz7cHX/88T7kBS8RkqUOGDDAJ0uNLy1atPBCipKl7lFT5+uXJYTkK279mAiIgAiIgAiIgAiIgAiIgAgUbALpJoR8+umn7vDDD3dDhgxxJ554YqxxCIvhON1169b5kJhwfC5hMB06dPCfQySpV6+ejs9Nsy4tISTNGkzVFQEREAEREAEREAEREAEREIFUJhATQponyCPk8+R6hJAoFSFkwYIFPi8IeUMQRxBCzjvvPPfEE0/EcHfp0sVNnz7d9e3b14sjvXr1coULF3aTJk1yRYoUSeVmUd3iCEgIUXcQAREQAREQAREQAREQAREQARFIGIEdQsh9rmjxPQyN2WyhMZ/fktTQGG588eLF7rbbbnPvvvuuW7Jkiatevbo755xz3I033ugFj1BIwkry1EGDBrmtW7e6Tp06uf79++cKqUkYSF0oaQQkhCQNrS4sAiIgAiIgAiIgAiIgAiIgAplHIB2FkMxrpcy+Ywkhmd3+unsREAEREAEREAEREAEREAERSCiBmBDS7N7EeIR80SvpHiEJBaCLpTwBCSEp30SqoAiIgAiIgAiIgAiIgAiIgAikD4GYENIkQULIFAkh6dP66VFTCSHp0U6qpQiIgAiIgAiIgAiIgAiIgAikBQEJIWnRTBldSQkhGd38unkREAEREAEREAEREAEREAERSCyBmBDS+J7EhMZ8eatCYxLbRBl/NQkhGd8FBEAEREAEREAEREAEREAEREAEEkcgCCG1Gt2VECFkzle3SwhJXPPoSkZAQoi6gQiIgAiIgAiIgAiIgAiIgAiIQMIISAhJGEpdKEkEJIQkCawuKwIiIAIiIAIiIAIiIAIiIAKZSCAIITUb9U6IR8jcr3rLIyQTO1IS71lCSBLh6tIiIAIiIAIiIAIiIAIiIAIikGkEghBSo+EdCRFC5k29U0JIpnWiJN+vhJAkA9blRUAEREAEREAEREAEREAERCCTCEgIyaTWTs97lRCSnu2mWouACIiACIiACIiACIiACIhAShIIQkj1Q243j5Bye1THrZtXufnT7pJHyB5R1JfzEpAQoj4hAiIgAiIgAiIgAiIgAiIgAiKQMAIxIaTBrYkRQqbfIyEkYa2jC0FAQoj6gQiIgAiIgAiIgAiIgAiIgAiIQMIISAhJGEpdKEkEJIQkCawuKwIiIAIiIAIiIAIiIAIiIAKZSCAIIdUa3JIQj5AF0++TR0gmdqQk3rOEkCTC1aVFQAREQAREQAREQAREQAREINMISAjJtBZPv/uVEJJ+baYai4AIiIAIiIAIiIAIiIAIiEDKEghCSNUGN7mixfYwWeqWVe6H6X+XR0jKtnZ6VkxCSHq2m2otAiIgAiIgAiIgAiIgAiIgAilJIAghVerfkBAhZOGMPhJCUrKl07dSEkLSt+1UcxEQAREQAREQAREQAREQARFIOQISQlKuSVShPAQkhKhLiIAIiIAIiIAIiIAIiIAIiIAIJIxAEEIq17/ePELK7tF1t25Z7RbNeFAeIXtEUV/OS0BCiPqECIiACIiACIiACIiACIiACIhAwgjEhJB617oieyiEbEMI+bqvhJCEtY4uBAEJIeoHIiACIiACIiACIiACIiACIiACCSMgISRhKHWhJBGQEJIksLqsCIiACIiACIiACIiACIiACGQigSCE/Kluz4R4hCye2U8eIZnYkZJ4zxJCkghXlxYBERABERABERABERABERCBTCMQhJD9D/5bQoSQH2c9IiEk0zpRku9XQkiSAevyIiACIiACIiACIiACIiACIpBJBCSEZFJrp+e9SghJz3ZTrUVABERABERABERABERABEQgJQkEIaTSwX9NiEfIklmPyiMkJVs6fSslISR92041FwEREAEREAEREAEREAEREIGUIxCEkP0OutqEkOw9qt+2LWvc0m/6SwjZI4r6cl4CEkLUJ0RABERABERABERABERABERABBJGQEJIwlDqQkkiICEkSWB1WREQAREQAREQAREQAREQARHIRAJBCKlYp0dCPEKWffu4PEIysSMl8Z4lhCQRri4tAiIgAiIgAiIgAiIgAiIgAplGYIcQckWChJB/SgjJtE6U5PuVEJJkwLq8CIiACIiACIiACIiACIiACGQSAQkhmdTa6XmvEkLSs91UaxEQAREQAREQAREQAREQARFISQJBCNn3wMsS4hHy0+x/ySMkJVs6fSslISR92041FwEREAEREAEREAEREAEREIGUIyAhJOWaRBXKQ0BCiLqECIiACIiACIiACIiACIiACIhAwggEIWSfAy5NiEfI8u+ekkdIwlpHF4KAhBD1AxEQAREQAREQAREQAREQAREQgYQRCEJIhdqXmBBSZo+uu23LWrfi+6clhOwRRX05LwEJIeoTIiACIiACIiACIiACIiACIiACCSMgISRhKHWhJBGQEJIksLqsCIiACIiACIiACIiACIiACGQigSCElK99cUI8QlZ+/4w8QjKxIyXxniWEJBGuLi0CIiACIiACIiACIiACIiACmUZghxByoStcdM9CY7ZvXetWfv+shJBM60RJvl8JIUkGrMuLgAiIgAiIgAiIgAiIgAiIQCYRkBCSSa2dnvcqISQ92021FgEREAEREAEREAEREAEREIGUJBCEkHK1zk+IR8iqOf8nj5CUbOn0rZSEkPRtO9VcBERABERABERABERABERABFKOQBBCytb8S0KEkNVzX5AQknKtnN4VkhCS3u2n2ouACIiACIiACIiACIiACIhAShGQEJJSzaHK7ISAhBB1CxEQAREQAREQAREQAREQAREQgYQRCEJIds1zzSMka4+uu33rOrdm7ovyCNkjivpyXgISQtQnREAEREAEREAEREAEREAEREAEEkYgCCFlapyTECFk7bz/SAhJWOvoQhCQEKJ+IAIiIAIiIAIiIAIiIAIiIAIikDACEkIShlIXShIBCSFJAqvLioAIiIAIiIAIiIAIiIAIiEAmEghCSFb1sxPiEbJu/kB5hGRiR0riPUsISSJcXVoEREAEREAEREAEREAEREAEMo3ADiHkzAQJIa9KCMm0TpTk+5UQkmTAurwIiIAIiIAIiIAIiIAIiIAIZBIBCSGZ1Nrpea8SQtKz3VRrERABERABERABERABERABEUhJAkEIKV3tjIR4hKxf8Jo8QlKypdO3UhJC0rftVHMREAEREAEREAEREAEREAERSDkCQQgpVfV0E0JK71H9tm9d7zb88F8JIXtEUV/OS0BCiPqECIiACIiACIiACIiACIiACIhAwgikoxCyefNmd9ttt7kXXnjBrVixwjVq1Mjdf//9rkOHDrm4rFq1yvXs2dMNHjzYbdmyxXXu3Nn179/fVa5cOWH8dKHkE5AQknzG+gUREAEREAEREAEREAEREAERyBgCQQgpWeXUhHiEbFw4KOkeIVdeeaUXQe6991538MEHu2effda98cYbbty4ca558+axtuvSpYubNm2a69u3rytZsqTr1auXK1KkiJs4caIrWrRoxrRxut+ohJB0b0HVXwREQAREQAREQAREQAREQARSiEC6CSHUt2bNmt6z44orrvAkf/75Z9ekSRNXu3Zt9+abb/rXEEXatGnjRo4c6Tp27Ohfmzlzpqtfv74bOHCgO/PMM1OoFVSV3yIgIUT9QwREQAREQAREQAREQAREQAREIGEEdgghJ7tCe5gj5GfLEbJx4RtJ9QgZMWKE69q1q5s9e7Y74IADYhyuu+4699hjj7nVq1e74sWLu9tvv909/vjjbtmyZa5QoUKxz+Ex0rhxY/fcc88ljKEulFwCEkKSy1dXFwEREAEREAEREAEREAEREIGMIhCEkBKVT0qIELJp0ZCkCiHk+zj11FPd/PnzXbVq1WJtRdjLfffd577++mtXt25d7/GxcOFCN3bs2Fzt2a1bNy+ijB8/PqPaOZ1vVkJIOree6i4CIiACIiACIiACIiACIiACKUYgCCHF9+/kChUuuUe1+3n7Rrf5x5FuwoQJuRKSZmdnu7Jly+7RtcOXp06d6pOjvv76614QCYVEqaNHj3affPKJa926tQ+HKVGihBs2bFiu373qqqt8uMysWbMSUh9dJPkEJIQkn7F+QQREQAREQAREQAREQAREQAQyhgAnqxBisnz58oTcc6lSpdyGDRtyXeuOO+5wvXv3/tXrU4dFixbt8vfr1Knjk5weddRRDgHnpZdecgcddJBPlnrTTTe5bdu2eU+PVq1aeSGEBKlDhw7Ndd0ePXq4UaNG+XwhKulBQEJIerSTaikCIiACIiACIiACIiACIiACaUMAIWLt2rUJqe/27dtd4cKFc11rVx4h5Ou48MILd/n7IRzm+++/96EvnP5CIXnqRRdd5BBc5syZ4/+t0Jhd4kybD0gISZumUkVFQAREQAREQAREQAREQAREQASSSQDRY/369T4nSL9+/dzDDz/s84JQSJY6YMAAnyw1vrRo0cKH1ihZajJbJrHXlhCSWJ66mgiIgAiIgAiIgAiIgAiIgAiIQJoTIBSnWbNm3gvkrrvu8ncTjs8lDIb8IRTygtSrV0/H56ZZe0sISbMGU3VFQAREQAREQAREQAREQAREQAQSS+DRRx91FSpUcNWrV/ehMH379nVFihRxH3/8scvKyor9WJcuXdz06dP9++QL4WQZwnYmTZrkP6+SHgQkhKRHO6mWIiACIiACIiACIiACIiACIiACSSLQp08f98QTT/iEqfvuu68/Pebuu+/24kh8IfdJz5493aBBg9zWrVtdp06dXP/+/V2VKlWSVDNdNhkEJIQkg6quKQIiIAIiIAIiIAIiIAIiIAIiIAIikJIEJISkZLOoUiIgAiIgAiIgAiIgAiIgAiIgAiIgAskgICEkGVR1TREQAREQAREQAREQAREQAREQAREQgZQkICEkJZtFlRIBERABERABERABERABERABERABEUgGAQkhyaCqa4qACIiACIiACIiACIiACIiACIiACKQkAQkhKdksqpQIiIAIiIAIiIAIiIAIiIAIiIAIiEAyCEgISQZVXVMEREAEREAEREAEREAEREAEREAERCAlCUgISclmUaVEQAREQAREQAREQAREQAREQAREQASSQUBCSDKo6poiIAIiIAIiIAIiIAIiIAIiIAIiIAIpSUBCSEo2iyolAiIgAiIgAiIgAiIgAiIgAiIgAiKQDAISQpJBVdcUAREQAREQAREQAREQAREQAREQARFISQISQlKyWVQpERABERABERABERABERABERABERCBZBCQEJIMqrqmCIiACIiACIiACIiACIiACIiACIhAShKQEJKSzaJKiYAIiIAIiIAIiIAIiIAIiIAIiIAIJIOAhJBkUNU1RUAEREAEREAEREAEREAEREAEREAEUpKAhJCUbBZVSgREQAREQAREQAREQAREQAREQAREIBkEJIQkg6quKQIiIAIiIAIiIAIiIAIiIAIiIAIikJIEJISkZLOoUiIgAiIgAiIgAiIgAiIgAiIgAiIgAskgICEkGVR1TREQAREQAREQAREQAREQAREQAREQgZQk8P8PAERZuYvtHgAAAABJRU5ErkJggg==",
       "_figure_label": "WCI",
       "_image_mode": "diff",
       "_model_module_version": "^0.11",
       "_size": [
        999.9999999999999,
        400
       ],
       "_view_module_version": "^0.11",
       "layout": "IPY_MODEL_a0050c1c63b1428aab0469cb0faafe63",
       "toolbar": "IPY_MODEL_25f310ca604649239255199479390f40",
       "toolbar_position": "left"
      }
     },
     "8af17d610bad4d06b4a7cc114f91b5ab": {
      "model_module": "@jupyter-widgets/base",
      "model_module_version": "2.0.0",
      "model_name": "LayoutModel",
      "state": {
       "_view_name": "ErrorWidgetView",
       "error": {},
       "msg": "Failed to load model class 'LayoutModel' from module '@jupyter-widgets/base'",
       "width": "10%"
      }
     },
     "8b21727a0b874c67b7e5d68074c1140d": {
      "model_module": "@jupyter-widgets/base",
      "model_module_version": "2.0.0",
      "model_name": "LayoutModel",
      "state": {
       "_view_name": "ErrorWidgetView",
       "error": {},
       "msg": "Failed to load model class 'LayoutModel' from module '@jupyter-widgets/base'"
      }
     },
     "8b3351cc1cb64db1adb756237c167e73": {
      "model_module": "@jupyter-widgets/controls",
      "model_module_version": "2.0.0",
      "model_name": "HBoxModel",
      "state": {
       "_view_name": "ErrorWidgetView",
       "children": [
        "IPY_MODEL_a950a8a4bcf24de280ccf8667cf9a634",
        "IPY_MODEL_2249e119b1d14e2e877d5c4c334899fe",
        "IPY_MODEL_53050a71505c450aa1cfa56eb223f3dd",
        "IPY_MODEL_31d85b0848f744e6a8b7250aa83c0336",
        "IPY_MODEL_f9fc435b7a984f1b9b03a995db65a348",
        "IPY_MODEL_bb1c747d2fce4cf98eaa954c41c583db"
       ],
       "error": {},
       "layout": "IPY_MODEL_fa306b2ff33345e587873329864a8a9f",
       "msg": "Failed to load model class 'HBoxModel' from module '@jupyter-widgets/controls'"
      }
     },
     "8b3bf400033646e79fdead2d480e6471": {
      "model_module": "@jupyter-widgets/controls",
      "model_module_version": "2.0.0",
      "model_name": "HBoxModel",
      "state": {
       "_view_name": "ErrorWidgetView",
       "children": [
        "IPY_MODEL_9008285f11934b0a802cb75e3eda0937",
        "IPY_MODEL_e1344cbec0334985988ce084bbaed927",
        "IPY_MODEL_36c5393df94a4641a00e04cc11c02468",
        "IPY_MODEL_d35ae68e1c384c769967f6d25763b48d",
        "IPY_MODEL_b8043ecc13b347338cc66f277d28f2c8"
       ],
       "error": {},
       "layout": "IPY_MODEL_ea7d1670189e46a2a31f8aa7ded73471",
       "msg": "Failed to load model class 'HBoxModel' from module '@jupyter-widgets/controls'"
      }
     },
     "8b906f2007024df4a55483ffd57ebb73": {
      "model_module": "@jupyter-widgets/controls",
      "model_module_version": "2.0.0",
      "model_name": "TextModel",
      "state": {
       "_view_name": "ErrorWidgetView",
       "description": "proc time",
       "error": {},
       "layout": "IPY_MODEL_df7dbc1a9a984421bc85bf7080176b03",
       "msg": "Failed to load model class 'TextModel' from module '@jupyter-widgets/controls'",
       "style": "IPY_MODEL_5f433206faa04fe1ac90146ee703cf8a",
       "value": "0.026 / 0.12 / [0.146] s"
      }
     },
     "8be1565ff44446ffb82f4d44e3841ec2": {
      "model_module": "@jupyter-widgets/controls",
      "model_module_version": "2.0.0",
      "model_name": "HTMLModel",
      "state": {
       "layout": "IPY_MODEL_bf16069d63204e5d82f3b88b2ad3187f",
       "style": "IPY_MODEL_8cab201bdc9f4ca387f6030f76055651",
       "value": " 18/18 [00:00&lt;00:00, 6112.66it/s]"
      }
     },
     "8c2de6febb794db3afe48c531868af2c": {
      "model_module": "@jupyter-widgets/controls",
      "model_module_version": "2.0.0",
      "model_name": "HBoxModel",
      "state": {
       "_view_name": "ErrorWidgetView",
       "children": [
        "IPY_MODEL_d39977f02dd641ffa8907d88661945fe",
        "IPY_MODEL_f94b8509959347ec8156a0b52d32b8cc",
        "IPY_MODEL_491b1eb88866484598e176eb4c5c845e",
        "IPY_MODEL_ad9e9dca6cc34573b6d763c808589daf"
       ],
       "error": {},
       "layout": "IPY_MODEL_10976214716b4126a62522094ec82b17",
       "msg": "Failed to load model class 'HBoxModel' from module '@jupyter-widgets/controls'"
      }
     },
     "8cab201bdc9f4ca387f6030f76055651": {
      "model_module": "@jupyter-widgets/controls",
      "model_module_version": "2.0.0",
      "model_name": "HTMLStyleModel",
      "state": {
       "description_width": "",
       "font_size": null,
       "text_color": null
      }
     },
     "8ced37037a9447538cc87aa69289f2b0": {
      "model_module": "@jupyter-widgets/controls",
      "model_module_version": "2.0.0",
      "model_name": "SliderStyleModel",
      "state": {
       "_view_name": "ErrorWidgetView",
       "description_width": "",
       "error": {},
       "msg": "Failed to load model class 'SliderStyleModel' from module '@jupyter-widgets/controls'"
      }
     },
     "8d0c7ac879fb480f82fd0331529c35f4": {
      "model_module": "@jupyter-widgets/base",
      "model_module_version": "2.0.0",
      "model_name": "LayoutModel",
      "state": {
       "_view_name": "ErrorWidgetView",
       "error": {},
       "msg": "Failed to load model class 'LayoutModel' from module '@jupyter-widgets/base'"
      }
     },
     "8d173bfa05354681846e2d8298a97da3": {
      "model_module": "@jupyter-widgets/controls",
      "model_module_version": "2.0.0",
      "model_name": "DescriptionStyleModel",
      "state": {
       "_view_name": "ErrorWidgetView",
       "description_width": "",
       "error": {},
       "msg": "Failed to load model class 'DescriptionStyleModel' from module '@jupyter-widgets/controls'"
      }
     },
     "8d69a4d71f57475eba8e234a431c086c": {
      "model_module": "@jupyter-widgets/controls",
      "model_module_version": "2.0.0",
      "model_name": "HBoxModel",
      "state": {
       "_view_name": "ErrorWidgetView",
       "children": [
        "IPY_MODEL_84f5c70a1b7c457db7c1a607c38cc12c",
        "IPY_MODEL_247fae7f42e64ff5a6a8442f7124f9a9",
        "IPY_MODEL_3f20cb3aa3144734a63111d5547323e1",
        "IPY_MODEL_42d44a5d47af441abaa62c3a4380faef",
        "IPY_MODEL_b01ebc5f7326483fade10a1b98b51714",
        "IPY_MODEL_c67b420ee9504d7ab2de629e580c38e2"
       ],
       "error": {},
       "layout": "IPY_MODEL_db51f8677591420e882be59910fe8792",
       "msg": "Failed to load model class 'HBoxModel' from module '@jupyter-widgets/controls'"
      }
     },
     "8d8b4c6e1f4d4d5c9bd6516aff90ee9d": {
      "model_module": "@jupyter-widgets/controls",
      "model_module_version": "2.0.0",
      "model_name": "DescriptionStyleModel",
      "state": {
       "_view_name": "ErrorWidgetView",
       "description_width": "",
       "error": {},
       "msg": "Failed to load model class 'DescriptionStyleModel' from module '@jupyter-widgets/controls'"
      }
     },
     "8da60b1e69d24520b8a52098b3c45359": {
      "model_module": "@jupyter-widgets/controls",
      "model_module_version": "2.0.0",
      "model_name": "DescriptionStyleModel",
      "state": {
       "_view_name": "ErrorWidgetView",
       "description_width": "",
       "error": {},
       "msg": "Failed to load model class 'DescriptionStyleModel' from module '@jupyter-widgets/controls'"
      }
     },
     "8e0c1ea217214499a33684ece4cd9f24": {
      "model_module": "@jupyter-widgets/base",
      "model_module_version": "2.0.0",
      "model_name": "LayoutModel",
      "state": {
       "_view_name": "ErrorWidgetView",
       "error": {},
       "msg": "Failed to load model class 'LayoutModel' from module '@jupyter-widgets/base'"
      }
     },
     "8e3c78d3073a468ebc12768965382f8c": {
      "model_module": "@jupyter-widgets/base",
      "model_module_version": "2.0.0",
      "model_name": "LayoutModel",
      "state": {
       "_view_name": "ErrorWidgetView",
       "error": {},
       "msg": "Failed to load model class 'LayoutModel' from module '@jupyter-widgets/base'",
       "width": "15%"
      }
     },
     "8e73bb4410d842969e3d05817866083f": {
      "model_module": "@jupyter-widgets/base",
      "model_module_version": "2.0.0",
      "model_name": "LayoutModel",
      "state": {
       "_view_name": "ErrorWidgetView",
       "error": {},
       "msg": "Failed to load model class 'LayoutModel' from module '@jupyter-widgets/base'"
      }
     },
     "8e9830c52a30453fb214d71382f440af": {
      "model_module": "@jupyter-widgets/controls",
      "model_module_version": "2.0.0",
      "model_name": "DescriptionStyleModel",
      "state": {
       "_view_name": "ErrorWidgetView",
       "description_width": "",
       "error": {},
       "msg": "Failed to load model class 'DescriptionStyleModel' from module '@jupyter-widgets/controls'"
      }
     },
     "8eabf6cb24774260b75ad14f6e9681b7": {
      "model_module": "@jupyter-widgets/controls",
      "model_module_version": "2.0.0",
      "model_name": "ProgressStyleModel",
      "state": {
       "description_width": ""
      }
     },
     "8eeb7bfecb87423e942493e081dda3f8": {
      "model_module": "@jupyter-widgets/base",
      "model_module_version": "2.0.0",
      "model_name": "LayoutModel",
      "state": {
       "_view_name": "ErrorWidgetView",
       "error": {},
       "msg": "Failed to load model class 'LayoutModel' from module '@jupyter-widgets/base'"
      }
     },
     "8f17844a825d44bf97ec5958bf64e78f": {
      "model_module": "@jupyter-widgets/base",
      "model_module_version": "2.0.0",
      "model_name": "LayoutModel",
      "state": {
       "_view_name": "ErrorWidgetView",
       "error": {},
       "msg": "Failed to load model class 'LayoutModel' from module '@jupyter-widgets/base'",
       "width": "15%"
      }
     },
     "8f29a886bf2f4881afb8bb0a741fc7d8": {
      "model_module": "@jupyter-widgets/controls",
      "model_module_version": "2.0.0",
      "model_name": "SliderStyleModel",
      "state": {
       "_view_name": "ErrorWidgetView",
       "description_width": "",
       "error": {},
       "msg": "Failed to load model class 'SliderStyleModel' from module '@jupyter-widgets/controls'"
      }
     },
     "8f33fa10b1004af6952ea127aebd8908": {
      "model_module": "@jupyter-widgets/base",
      "model_module_version": "2.0.0",
      "model_name": "LayoutModel",
      "state": {
       "_view_name": "ErrorWidgetView",
       "error": {},
       "msg": "Failed to load model class 'LayoutModel' from module '@jupyter-widgets/base'"
      }
     },
     "8fa9d2646c35404eae52c251e02f2390": {
      "model_module": "@jupyter-widgets/base",
      "model_module_version": "2.0.0",
      "model_name": "LayoutModel",
      "state": {
       "_view_name": "ErrorWidgetView",
       "error": {},
       "msg": "Failed to load model class 'LayoutModel' from module '@jupyter-widgets/base'"
      }
     },
     "8fe56898a99344339d9ca7e2dbc3d1eb": {
      "model_module": "@jupyter-widgets/controls",
      "model_module_version": "2.0.0",
      "model_name": "DescriptionStyleModel",
      "state": {
       "_view_name": "ErrorWidgetView",
       "description_width": "",
       "error": {},
       "msg": "Failed to load model class 'DescriptionStyleModel' from module '@jupyter-widgets/controls'"
      }
     },
     "9008285f11934b0a802cb75e3eda0937": {
      "model_module": "@jupyter-widgets/controls",
      "model_module_version": "2.0.0",
      "model_name": "IntProgressModel",
      "state": {
       "_view_name": "ErrorWidgetView",
       "description": "Idle",
       "error": {},
       "layout": "IPY_MODEL_44acd17903e348a0bbb16f51696377cc",
       "max": 10,
       "msg": "Failed to load model class 'IntProgressModel' from module '@jupyter-widgets/controls'",
       "style": "IPY_MODEL_0af7ae5491f74563b3bb2474e5413439"
      }
     },
     "905ea2a67e1b42deb4bfbf11e33a8177": {
      "model_module": "@jupyter-widgets/controls",
      "model_module_version": "2.0.0",
      "model_name": "ProgressStyleModel",
      "state": {
       "_view_name": "ErrorWidgetView",
       "description_width": "",
       "error": {},
       "msg": "Failed to load model class 'ProgressStyleModel' from module '@jupyter-widgets/controls'"
      }
     },
     "90e2bf90c9004935ba106da8cbd6bcf8": {
      "model_module": "@jupyter-widgets/base",
      "model_module_version": "2.0.0",
      "model_name": "LayoutModel",
      "state": {
       "_view_name": "ErrorWidgetView",
       "error": {},
       "msg": "Failed to load model class 'LayoutModel' from module '@jupyter-widgets/base'",
       "width": "50%"
      }
     },
     "911796dcd72a4cba9bd53b7588a79c37": {
      "model_module": "@jupyter-widgets/controls",
      "model_module_version": "2.0.0",
      "model_name": "DropdownModel",
      "state": {
       "_options_labels": [
        "sv/av/pv/rv",
        "sv/av/pv",
        "sv/av",
        "sp/ap/pp/rp",
        "sp/ap/pp",
        "sp/ap",
        "power/amp",
        "av",
        "ap",
        "amp",
        "sv",
        "sp",
        "pv",
        "pp",
        "rv",
        "rp",
        "power"
       ],
       "_view_name": "ErrorWidgetView",
       "description": "wci value",
       "error": {},
       "index": 0,
       "layout": "IPY_MODEL_3b6ff80a68484239bd25300a87fa6fbf",
       "msg": "Failed to load model class 'DropdownModel' from module '@jupyter-widgets/controls'",
       "style": "IPY_MODEL_b7563bfaa3dc458498404c0f59c6b859"
      }
     },
     "914e65cb3ca14ea88dd59aab95b8f7e9": {
      "model_module": "@jupyter-widgets/base",
      "model_module_version": "2.0.0",
      "model_name": "LayoutModel",
      "state": {
       "_view_name": "ErrorWidgetView",
       "error": {},
       "msg": "Failed to load model class 'LayoutModel' from module '@jupyter-widgets/base'"
      }
     },
     "9225736679274033b95725f462ef6a19": {
      "model_module": "@jupyter-widgets/controls",
      "model_module_version": "2.0.0",
      "model_name": "DescriptionStyleModel",
      "state": {
       "_view_name": "ErrorWidgetView",
       "description_width": "",
       "error": {},
       "msg": "Failed to load model class 'DescriptionStyleModel' from module '@jupyter-widgets/controls'"
      }
     },
     "922a0a8618454029b16bf79e407b30f2": {
      "model_module": "@jupyter-widgets/base",
      "model_module_version": "2.0.0",
      "model_name": "LayoutModel",
      "state": {
       "_view_name": "ErrorWidgetView",
       "error": {},
       "msg": "Failed to load model class 'LayoutModel' from module '@jupyter-widgets/base'"
      }
     },
     "9276fd75a33a4480aeb3a8328e716497": {
      "model_module": "@jupyter-widgets/controls",
      "model_module_version": "2.0.0",
      "model_name": "DropdownModel",
      "state": {
       "_options_labels": [
        "linear",
        "beamsample"
       ],
       "_view_name": "ErrorWidgetView",
       "description": "wci render",
       "error": {},
       "index": 0,
       "layout": "IPY_MODEL_425d43c279e343bdaa9e45d8afd24e14",
       "msg": "Failed to load model class 'DropdownModel' from module '@jupyter-widgets/controls'",
       "style": "IPY_MODEL_345a455b89fd4c65b61fa336e2aeaa0f"
      }
     },
     "92cbb6a6c01e4d31857c0ea448b34594": {
      "model_module": "@jupyter-widgets/controls",
      "model_module_version": "2.0.0",
      "model_name": "SliderStyleModel",
      "state": {
       "_view_name": "ErrorWidgetView",
       "description_width": "",
       "error": {},
       "msg": "Failed to load model class 'SliderStyleModel' from module '@jupyter-widgets/controls'"
      }
     },
     "934719c7eaf843ab9203e8ffe415709f": {
      "model_module": "@jupyter-widgets/controls",
      "model_module_version": "2.0.0",
      "model_name": "SliderStyleModel",
      "state": {
       "_view_name": "ErrorWidgetView",
       "description_width": "",
       "error": {},
       "msg": "Failed to load model class 'SliderStyleModel' from module '@jupyter-widgets/controls'"
      }
     },
     "934d8fae5ec94cb99aa34bfa09dbe58e": {
      "model_module": "@jupyter-widgets/controls",
      "model_module_version": "2.0.0",
      "model_name": "ButtonStyleModel",
      "state": {
       "_view_name": "ErrorWidgetView",
       "error": {},
       "msg": "Failed to load model class 'ButtonStyleModel' from module '@jupyter-widgets/controls'"
      }
     },
     "9381bf0e647c47cb97ff07a5eeb43fb5": {
      "model_module": "@jupyter-widgets/controls",
      "model_module_version": "2.0.0",
      "model_name": "DescriptionStyleModel",
      "state": {
       "_view_name": "ErrorWidgetView",
       "description_width": "",
       "error": {},
       "msg": "Failed to load model class 'DescriptionStyleModel' from module '@jupyter-widgets/controls'"
      }
     },
     "938a4f1fd87045a8b4e95cefb1165b34": {
      "model_module": "@jupyter-widgets/controls",
      "model_module_version": "2.0.0",
      "model_name": "DescriptionStyleModel",
      "state": {
       "_view_name": "ErrorWidgetView",
       "description_width": "",
       "error": {},
       "msg": "Failed to load model class 'DescriptionStyleModel' from module '@jupyter-widgets/controls'"
      }
     },
     "9393decbcc0e4898b5755db6b426dfd1": {
      "model_module": "@jupyter-widgets/base",
      "model_module_version": "2.0.0",
      "model_name": "LayoutModel",
      "state": {
       "_view_name": "ErrorWidgetView",
       "error": {},
       "msg": "Failed to load model class 'LayoutModel' from module '@jupyter-widgets/base'"
      }
     },
     "9404c194826540d988c364ae98f4059d": {
      "model_module": "@jupyter-widgets/controls",
      "model_module_version": "2.0.0",
      "model_name": "HBoxModel",
      "state": {
       "_view_name": "ErrorWidgetView",
       "children": [
        "IPY_MODEL_0c489e64fe804b9f967e41ea17f8e495",
        "IPY_MODEL_5a07878ce2454fd9b890bbc8889bb925",
        "IPY_MODEL_3c6eea11e1f74b7f8bc2b26e7055bba1",
        "IPY_MODEL_89cab5cd5e264b66a5203b4ae9091b0d",
        "IPY_MODEL_677abb686df24d238f8f519dc3284645"
       ],
       "error": {},
       "layout": "IPY_MODEL_51e9229d19c14849a430a2dbbaba7c42",
       "msg": "Failed to load model class 'HBoxModel' from module '@jupyter-widgets/controls'"
      }
     },
     "949fdc80d1dc4c218d4eb7aa5511af22": {
      "model_module": "@jupyter-widgets/base",
      "model_module_version": "2.0.0",
      "model_name": "LayoutModel",
      "state": {}
     },
     "94c70fcb5c9d44c49e45df798239ae15": {
      "model_module": "@jupyter-widgets/controls",
      "model_module_version": "2.0.0",
      "model_name": "SliderStyleModel",
      "state": {
       "_view_name": "ErrorWidgetView",
       "description_width": "",
       "error": {},
       "msg": "Failed to load model class 'SliderStyleModel' from module '@jupyter-widgets/controls'"
      }
     },
     "94cfcfecea3340d6987dc80c9f5408aa": {
      "model_module": "@jupyter-widgets/controls",
      "model_module_version": "2.0.0",
      "model_name": "TextModel",
      "state": {
       "_view_name": "ErrorWidgetView",
       "error": {},
       "layout": "IPY_MODEL_d405956edf2348d5877cd9878ab9b9b5",
       "msg": "Failed to load model class 'TextModel' from module '@jupyter-widgets/controls'",
       "style": "IPY_MODEL_fde6835018cf44bc95147d1bb0ed747e",
       "value": "2023-03-18"
      }
     },
     "94f50eff45d14fca9bde95ae0926e0b5": {
      "model_module": "@jupyter-widgets/base",
      "model_module_version": "2.0.0",
      "model_name": "LayoutModel",
      "state": {
       "_view_name": "ErrorWidgetView",
       "error": {},
       "msg": "Failed to load model class 'LayoutModel' from module '@jupyter-widgets/base'"
      }
     },
     "95a6866612e34297a1e4277095ab9097": {
      "model_module": "@jupyter-widgets/base",
      "model_module_version": "2.0.0",
      "model_name": "LayoutModel",
      "state": {
       "_view_name": "ErrorWidgetView",
       "error": {},
       "msg": "Failed to load model class 'LayoutModel' from module '@jupyter-widgets/base'"
      }
     },
     "9656eb519cb94d10a6197d6fee75eca9": {
      "model_module": "@jupyter-widgets/controls",
      "model_module_version": "2.0.0",
      "model_name": "DropdownModel",
      "state": {
       "_options_labels": [
        "antialiased",
        "none",
        "nearest",
        "bilinear",
        "bicubic",
        "spline16",
        "spline36",
        "hanning",
        "hamming",
        "hermite",
        "kaiser",
        "quadric",
        "catrom",
        "gaussian",
        "bessel",
        "mitchell",
        "sinc",
        "lanczos",
        "blackman"
       ],
       "_view_name": "ErrorWidgetView",
       "description": "interpolation",
       "error": {},
       "index": 2,
       "layout": "IPY_MODEL_33e3320e78274195b62636a80354f9ea",
       "msg": "Failed to load model class 'DropdownModel' from module '@jupyter-widgets/controls'",
       "style": "IPY_MODEL_08cba5f93de748d998806d72b4e7000e"
      }
     },
     "967820616f4a4926acd3cb083c5c2098": {
      "model_module": "@jupyter-widgets/controls",
      "model_module_version": "2.0.0",
      "model_name": "DropdownModel",
      "state": {
       "_options_labels": [
        "antialiased",
        "none",
        "nearest",
        "bilinear",
        "bicubic",
        "spline16",
        "spline36",
        "hanning",
        "hamming",
        "hermite",
        "kaiser",
        "quadric",
        "catrom",
        "gaussian",
        "bessel",
        "mitchell",
        "sinc",
        "lanczos",
        "blackman"
       ],
       "_view_name": "ErrorWidgetView",
       "description": "interpolation",
       "error": {},
       "index": 2,
       "layout": "IPY_MODEL_5a6a30af7b834a72b8314618eea82ade",
       "msg": "Failed to load model class 'DropdownModel' from module '@jupyter-widgets/controls'",
       "style": "IPY_MODEL_e57853c583264a66bbc74223ae2d66da"
      }
     },
     "96e50e6d4330490aa45cf251b3594f28": {
      "model_module": "@jupyter-widgets/base",
      "model_module_version": "2.0.0",
      "model_name": "LayoutModel",
      "state": {
       "_view_name": "ErrorWidgetView",
       "error": {},
       "msg": "Failed to load model class 'LayoutModel' from module '@jupyter-widgets/base'"
      }
     },
     "975b02d1a4fc4b718ca9205f1d866c9d": {
      "model_module": "@jupyter-widgets/controls",
      "model_module_version": "2.0.0",
      "model_name": "DescriptionStyleModel",
      "state": {
       "_view_name": "ErrorWidgetView",
       "description_width": "",
       "error": {},
       "msg": "Failed to load model class 'DescriptionStyleModel' from module '@jupyter-widgets/controls'"
      }
     },
     "97a084e833af47f099498907c4cd6854": {
      "model_module": "@jupyter-widgets/base",
      "model_module_version": "2.0.0",
      "model_name": "LayoutModel",
      "state": {
       "_view_name": "ErrorWidgetView",
       "error": {},
       "msg": "Failed to load model class 'LayoutModel' from module '@jupyter-widgets/base'"
      }
     },
     "97d3f51386374b02bfe1a02c77d5d4b9": {
      "model_module": "@jupyter-widgets/controls",
      "model_module_version": "2.0.0",
      "model_name": "TextModel",
      "state": {
       "_view_name": "ErrorWidgetView",
       "description": "proc rate",
       "error": {},
       "layout": "IPY_MODEL_f2171006269c4e36b93901fb75d56a39",
       "msg": "Failed to load model class 'TextModel' from module '@jupyter-widgets/controls'",
       "style": "IPY_MODEL_874d3292b8764e70bcdd4ac02d86eeff",
       "value": "r1: 28.7 / r2: 11.3 / r3: [8.1] Hz"
      }
     },
     "980a944dbd7448069b8fae90361ac29f": {
      "model_module": "@jupyter-widgets/controls",
      "model_module_version": "2.0.0",
      "model_name": "DescriptionStyleModel",
      "state": {
       "_view_name": "ErrorWidgetView",
       "description_width": "",
       "error": {},
       "msg": "Failed to load model class 'DescriptionStyleModel' from module '@jupyter-widgets/controls'"
      }
     },
     "988cbad37f674ab2ab2e77a24459651e": {
      "model_module": "@jupyter-widgets/controls",
      "model_module_version": "2.0.0",
      "model_name": "DescriptionStyleModel",
      "state": {
       "_view_name": "ErrorWidgetView",
       "description_width": "",
       "error": {},
       "msg": "Failed to load model class 'DescriptionStyleModel' from module '@jupyter-widgets/controls'"
      }
     },
     "98cb7922abf84ec188afbb1462cdd586": {
      "model_module": "@jupyter-widgets/controls",
      "model_module_version": "2.0.0",
      "model_name": "DescriptionStyleModel",
      "state": {
       "_view_name": "ErrorWidgetView",
       "description_width": "",
       "error": {},
       "msg": "Failed to load model class 'DescriptionStyleModel' from module '@jupyter-widgets/controls'"
      }
     },
     "98d7093dc5f94abc81b83a48a6eda00d": {
      "model_module": "@jupyter-widgets/base",
      "model_module_version": "2.0.0",
      "model_name": "LayoutModel",
      "state": {
       "_view_name": "ErrorWidgetView",
       "error": {},
       "msg": "Failed to load model class 'LayoutModel' from module '@jupyter-widgets/base'",
       "width": "50%"
      }
     },
     "990d65e91c1a4af994e4501fb718a310": {
      "model_module": "@jupyter-widgets/controls",
      "model_module_version": "2.0.0",
      "model_name": "DescriptionStyleModel",
      "state": {
       "_view_name": "ErrorWidgetView",
       "description_width": "",
       "error": {},
       "msg": "Failed to load model class 'DescriptionStyleModel' from module '@jupyter-widgets/controls'"
      }
     },
     "990e616f351b40209440b306bc385192": {
      "model_module": "@jupyter-widgets/base",
      "model_module_version": "2.0.0",
      "model_name": "LayoutModel",
      "state": {
       "_view_name": "ErrorWidgetView",
       "error": {},
       "msg": "Failed to load model class 'LayoutModel' from module '@jupyter-widgets/base'"
      }
     },
     "991297b9cf8d41ed9dcbb8dc8b103b18": {
      "model_module": "@jupyter-widgets/controls",
      "model_module_version": "2.0.0",
      "model_name": "IntTextModel",
      "state": {
       "_view_name": "ErrorWidgetView",
       "description": "stack step:",
       "error": {},
       "layout": "IPY_MODEL_0c1e99fc1f1d4c6bae978a302e5796bb",
       "msg": "Failed to load model class 'IntTextModel' from module '@jupyter-widgets/controls'",
       "step": 1,
       "style": "IPY_MODEL_ccf13c835319448f87babf8ea72aac50",
       "value": 1
      }
     },
     "9950dfa51e1e4e9589524e168188e99a": {
      "model_module": "@jupyter-widgets/base",
      "model_module_version": "2.0.0",
      "model_name": "LayoutModel",
      "state": {
       "_view_name": "ErrorWidgetView",
       "error": {},
       "msg": "Failed to load model class 'LayoutModel' from module '@jupyter-widgets/base'"
      }
     },
     "998323cb5e7845b38aa247480dc58c1d": {
      "model_module": "@jupyter-widgets/controls",
      "model_module_version": "2.0.0",
      "model_name": "IntTextModel",
      "state": {
       "_view_name": "ErrorWidgetView",
       "description": "mp_cores:",
       "error": {},
       "layout": "IPY_MODEL_1d4cbf75094b4556a506224ac22fa49b",
       "msg": "Failed to load model class 'IntTextModel' from module '@jupyter-widgets/controls'",
       "step": 1,
       "style": "IPY_MODEL_eb5117bdc69d4737b5adde6f93892a31",
       "value": 1
      }
     },
     "99975a3009424f148ccfa587f05411f4": {
      "model_module": "@jupyter-widgets/controls",
      "model_module_version": "2.0.0",
      "model_name": "IntTextModel",
      "state": {
       "_view_name": "ErrorWidgetView",
       "description": "stack step:",
       "error": {},
       "layout": "IPY_MODEL_2e44e6eb6fa749f19737eaf6632a0e37",
       "msg": "Failed to load model class 'IntTextModel' from module '@jupyter-widgets/controls'",
       "step": 1,
       "style": "IPY_MODEL_3e480ca29afe49bab740786f7148623a",
       "value": 1
      }
     },
     "99aa223f520947bd9a802a627f1ae2bb": {
      "model_module": "@jupyter-widgets/controls",
      "model_module_version": "2.0.0",
      "model_name": "SliderStyleModel",
      "state": {
       "_view_name": "ErrorWidgetView",
       "description_width": "",
       "error": {},
       "msg": "Failed to load model class 'SliderStyleModel' from module '@jupyter-widgets/controls'"
      }
     },
     "9a015fb81a3e48febdfdda32498be8cf": {
      "model_module": "@jupyter-widgets/controls",
      "model_module_version": "2.0.0",
      "model_name": "FloatSliderModel",
      "state": {
       "_view_name": "ErrorWidgetView",
       "description": "vmax",
       "error": {},
       "layout": "IPY_MODEL_006d0f700d81465594118768e8f91b3e",
       "min": -150,
       "msg": "Failed to load model class 'FloatSliderModel' from module '@jupyter-widgets/controls'",
       "step": 5,
       "style": "IPY_MODEL_57437379cf04401ab6f7764ae949fa8a",
       "value": -25
      }
     },
     "9a7072b9304a40438556b4e5ca71f71c": {
      "model_module": "@jupyter-widgets/base",
      "model_module_version": "2.0.0",
      "model_name": "LayoutModel",
      "state": {
       "_view_name": "ErrorWidgetView",
       "error": {},
       "msg": "Failed to load model class 'LayoutModel' from module '@jupyter-widgets/base'",
       "width": "15%"
      }
     },
     "9aab5a6dc87d4fc1a0e4873db33082bd": {
      "model_module": "@jupyter-widgets/controls",
      "model_module_version": "2.0.0",
      "model_name": "ButtonModel",
      "state": {
       "_view_name": "ErrorWidgetView",
       "button_style": "warning",
       "description": "fix x/y",
       "error": {},
       "layout": "IPY_MODEL_51c4024622b84ffc852bcaa03f0b1b58",
       "msg": "Failed to load model class 'ButtonModel' from module '@jupyter-widgets/controls'",
       "style": "IPY_MODEL_c9d737a4dc564b00998e43bc39da22dc"
      }
     },
     "9ab95b22ac224a8a8c164d6acfa34a68": {
      "model_module": "@jupyter-widgets/controls",
      "model_module_version": "2.0.0",
      "model_name": "DescriptionStyleModel",
      "state": {
       "_view_name": "ErrorWidgetView",
       "description_width": "",
       "error": {},
       "msg": "Failed to load model class 'DescriptionStyleModel' from module '@jupyter-widgets/controls'"
      }
     },
     "9b196dbd2dc645ac92d3fe8cd8fddebb": {
      "model_module": "@jupyter-widgets/controls",
      "model_module_version": "2.0.0",
      "model_name": "DescriptionStyleModel",
      "state": {
       "_view_name": "ErrorWidgetView",
       "description_width": "",
       "error": {},
       "msg": "Failed to load model class 'DescriptionStyleModel' from module '@jupyter-widgets/controls'"
      }
     },
     "9b29144901754add8e352086b1e46ab7": {
      "model_module": "@jupyter-widgets/controls",
      "model_module_version": "2.0.0",
      "model_name": "DescriptionStyleModel",
      "state": {
       "_view_name": "ErrorWidgetView",
       "description_width": "",
       "error": {},
       "msg": "Failed to load model class 'DescriptionStyleModel' from module '@jupyter-widgets/controls'"
      }
     },
     "9b5a7a43887c43cc83bc5116327c203d": {
      "model_module": "@jupyter-widgets/controls",
      "model_module_version": "2.0.0",
      "model_name": "IntTextModel",
      "state": {
       "_view_name": "ErrorWidgetView",
       "description": "mp_cores:",
       "error": {},
       "layout": "IPY_MODEL_05d58e11693e43c792e9627a0979a4eb",
       "msg": "Failed to load model class 'IntTextModel' from module '@jupyter-widgets/controls'",
       "step": 1,
       "style": "IPY_MODEL_443b26ba2e444005b137c1e9a044d8c1",
       "value": 1
      }
     },
     "9b920af17bd24808b2f08f80f93b61ee": {
      "model_module": "@jupyter-widgets/base",
      "model_module_version": "2.0.0",
      "model_name": "LayoutModel",
      "state": {
       "_view_name": "ErrorWidgetView",
       "error": {},
       "msg": "Failed to load model class 'LayoutModel' from module '@jupyter-widgets/base'"
      }
     },
     "9baaa2ce467a4cc1ae48293bdeaaef1f": {
      "model_module": "@jupyter-widgets/controls",
      "model_module_version": "2.0.0",
      "model_name": "TextModel",
      "state": {
       "_view_name": "ErrorWidgetView",
       "description": "proc rate",
       "error": {},
       "layout": "IPY_MODEL_b42b4e46e5e94a5e8ef882532396598f",
       "msg": "Failed to load model class 'TextModel' from module '@jupyter-widgets/controls'",
       "style": "IPY_MODEL_71b3122bb9f843e3bce27699df5f3099",
       "value": "r1: 38.6 / r2: 8.4 / r3: [6.9] Hz"
      }
     },
     "9be63f7a4a654c89bee53119bfd2b46c": {
      "model_module": "@jupyter-widgets/base",
      "model_module_version": "2.0.0",
      "model_name": "LayoutModel",
      "state": {
       "_view_name": "ErrorWidgetView",
       "error": {},
       "msg": "Failed to load model class 'LayoutModel' from module '@jupyter-widgets/base'",
       "width": "10%"
      }
     },
     "9c08c6e3d44348989df5e292910040a8": {
      "model_module": "@jupyter-widgets/controls",
      "model_module_version": "2.0.0",
      "model_name": "TextStyleModel",
      "state": {
       "description_width": "",
       "font_size": null,
       "text_color": null
      }
     },
     "9c267cbb1d914a57be3a91e668d6cd8f": {
      "model_module": "@jupyter-widgets/controls",
      "model_module_version": "2.0.0",
      "model_name": "ButtonModel",
      "state": {
       "description": "unfix x/y",
       "layout": "IPY_MODEL_80ddb7f5214d4b058e33764a3b67f214",
       "style": "IPY_MODEL_17231af953c841e68d16666417a46c50",
       "tooltip": null
      }
     },
     "9c3da83f7f7648018a868ee8a68a52d4": {
      "model_module": "@jupyter-widgets/base",
      "model_module_version": "2.0.0",
      "model_name": "LayoutModel",
      "state": {
       "_view_name": "ErrorWidgetView",
       "error": {},
       "msg": "Failed to load model class 'LayoutModel' from module '@jupyter-widgets/base'"
      }
     },
     "9ca027b80bbf46c5ae390993ed173449": {
      "model_module": "@jupyter-widgets/controls",
      "model_module_version": "2.0.0",
      "model_name": "IntTextModel",
      "state": {
       "description": "mp_cores:",
       "layout": "IPY_MODEL_bc025d37ad9d461c9b93446b9c7d05ba",
       "step": 1,
       "style": "IPY_MODEL_aeec55e081804b9bb8ef8aad5cfcc710",
       "value": 1
      }
     },
     "9ca5f3885c6047008a726fc6c1586568": {
      "model_module": "@jupyter-widgets/controls",
      "model_module_version": "2.0.0",
      "model_name": "SliderStyleModel",
      "state": {
       "_view_name": "ErrorWidgetView",
       "description_width": "",
       "error": {},
       "msg": "Failed to load model class 'SliderStyleModel' from module '@jupyter-widgets/controls'"
      }
     },
     "9cc2993952464d4192021bd34cf2cb00": {
      "model_module": "@jupyter-widgets/base",
      "model_module_version": "2.0.0",
      "model_name": "LayoutModel",
      "state": {
       "_view_name": "ErrorWidgetView",
       "error": {},
       "msg": "Failed to load model class 'LayoutModel' from module '@jupyter-widgets/base'",
       "width": "10%"
      }
     },
     "9ce71e677b5b4557a6de4e6a3a5c04c6": {
      "model_module": "@jupyter-widgets/controls",
      "model_module_version": "2.0.0",
      "model_name": "DescriptionStyleModel",
      "state": {
       "_view_name": "ErrorWidgetView",
       "description_width": "",
       "error": {},
       "msg": "Failed to load model class 'DescriptionStyleModel' from module '@jupyter-widgets/controls'"
      }
     },
     "9ceeb79106df41a49e770861a0dcfbf5": {
      "model_module": "@jupyter-widgets/controls",
      "model_module_version": "2.0.0",
      "model_name": "TextModel",
      "state": {
       "_view_name": "ErrorWidgetView",
       "description": "proc rate",
       "error": {},
       "layout": "IPY_MODEL_7ef3ce90b6634c6bb881346c27847636",
       "msg": "Failed to load model class 'TextModel' from module '@jupyter-widgets/controls'",
       "style": "IPY_MODEL_61e6d961055442348a26dc9cdeb15b32",
       "value": "r1: 34.5 / r2: 7.8 / r3: [6.3] Hz"
      }
     },
     "9d134805a65848d08dbd43f2b8902fee": {
      "model_module": "@jupyter-widgets/controls",
      "model_module_version": "2.0.0",
      "model_name": "IntTextModel",
      "state": {
       "description": "stack:",
       "layout": "IPY_MODEL_befb6aa7d0104ad3b2f72bdafacc2f70",
       "step": 1,
       "style": "IPY_MODEL_b98b4d1e266e4258b2c9eca5b3f7f0b0",
       "value": 1
      }
     },
     "9d29646c3cfc41fe8a22cd3b67ea5f9a": {
      "model_module": "@jupyter-widgets/base",
      "model_module_version": "2.0.0",
      "model_name": "LayoutModel",
      "state": {
       "_view_name": "ErrorWidgetView",
       "error": {},
       "msg": "Failed to load model class 'LayoutModel' from module '@jupyter-widgets/base'"
      }
     },
     "9d4132832fc948439dc9b4937d508b65": {
      "model_module": "@jupyter-widgets/controls",
      "model_module_version": "2.0.0",
      "model_name": "TextModel",
      "state": {
       "_view_name": "ErrorWidgetView",
       "error": {},
       "layout": "IPY_MODEL_ec173b2bdf7545c8a7fbf812a5627641",
       "msg": "Failed to load model class 'TextModel' from module '@jupyter-widgets/controls'",
       "style": "IPY_MODEL_5dc84d465e3649f3b22e64e7171d3826",
       "value": "2023-03-18"
      }
     },
     "9d48f1090bd64bef8720d765ef838aa7": {
      "model_module": "@jupyter-widgets/base",
      "model_module_version": "2.0.0",
      "model_name": "LayoutModel",
      "state": {
       "_view_name": "ErrorWidgetView",
       "error": {},
       "msg": "Failed to load model class 'LayoutModel' from module '@jupyter-widgets/base'"
      }
     },
     "9d60538edcf94f8daa86eeed95be2178": {
      "model_module": "@jupyter-widgets/controls",
      "model_module_version": "2.0.0",
      "model_name": "DescriptionStyleModel",
      "state": {
       "_view_name": "ErrorWidgetView",
       "description_width": "",
       "error": {},
       "msg": "Failed to load model class 'DescriptionStyleModel' from module '@jupyter-widgets/controls'"
      }
     },
     "9d6f3c98399142f5a1f1e672900f9f49": {
      "model_module": "@jupyter-widgets/controls",
      "model_module_version": "2.0.0",
      "model_name": "HBoxModel",
      "state": {
       "_view_name": "ErrorWidgetView",
       "children": [
        "IPY_MODEL_3d7798afc1b24ad4a73de7e63ef95f87",
        "IPY_MODEL_94cfcfecea3340d6987dc80c9f5408aa",
        "IPY_MODEL_4ef5c6a82d6e40ffa881b72f8e63fe9a",
        "IPY_MODEL_5c7b375ce0f648c28b3aaabad1d0c882",
        "IPY_MODEL_9eaeca07843349ec9f2859ee0c87098f",
        "IPY_MODEL_2acfc19cc4d1467d964f12f107ebe539"
       ],
       "error": {},
       "layout": "IPY_MODEL_0b0fc4fca45d427aba519108ac5a2ed7",
       "msg": "Failed to load model class 'HBoxModel' from module '@jupyter-widgets/controls'"
      }
     },
     "9dcbf7150dcb4ebf85d323659e54f0e1": {
      "model_module": "@jupyter-widgets/controls",
      "model_module_version": "2.0.0",
      "model_name": "DescriptionStyleModel",
      "state": {
       "description_width": ""
      }
     },
     "9e1046dfa196472ba2d80f89716cf432": {
      "model_module": "@jupyter-widgets/base",
      "model_module_version": "2.0.0",
      "model_name": "LayoutModel",
      "state": {
       "_view_name": "ErrorWidgetView",
       "error": {},
       "msg": "Failed to load model class 'LayoutModel' from module '@jupyter-widgets/base'",
       "width": "15%"
      }
     },
     "9e397e4f975a40f584b5915806d88679": {
      "model_module": "@jupyter-widgets/controls",
      "model_module_version": "2.0.0",
      "model_name": "FloatSliderModel",
      "state": {
       "_view_name": "ErrorWidgetView",
       "description": "vmin",
       "error": {},
       "layout": "IPY_MODEL_35bf236cb4474e029fef2e9222ac9324",
       "min": -150,
       "msg": "Failed to load model class 'FloatSliderModel' from module '@jupyter-widgets/controls'",
       "step": 5,
       "style": "IPY_MODEL_c560b6e1159445d499e72cfd438192e3",
       "value": -90
      }
     },
     "9eaeca07843349ec9f2859ee0c87098f": {
      "model_module": "@jupyter-widgets/controls",
      "model_module_version": "2.0.0",
      "model_name": "IntTextModel",
      "state": {
       "_view_name": "ErrorWidgetView",
       "description": "stack step:",
       "error": {},
       "layout": "IPY_MODEL_0b7b21f801024b299b6393f3095ef4f8",
       "msg": "Failed to load model class 'IntTextModel' from module '@jupyter-widgets/controls'",
       "step": 1,
       "style": "IPY_MODEL_dd91af0846a34842be20b2338b856a0c",
       "value": 1
      }
     },
     "9eafd7cf91b84579a43226c8d198f33e": {
      "model_module": "@jupyter-widgets/base",
      "model_module_version": "2.0.0",
      "model_name": "LayoutModel",
      "state": {
       "_view_name": "ErrorWidgetView",
       "error": {},
       "msg": "Failed to load model class 'LayoutModel' from module '@jupyter-widgets/base'",
       "width": "10%"
      }
     },
     "9ebdc927bbf6464199eaa60448f2921e": {
      "model_module": "@jupyter-widgets/controls",
      "model_module_version": "2.0.0",
      "model_name": "ButtonModel",
      "state": {
       "_view_name": "ErrorWidgetView",
       "button_style": "warning",
       "description": "fix x/y",
       "error": {},
       "layout": "IPY_MODEL_87eaddc1b3c8409b863a55af960cb20e",
       "msg": "Failed to load model class 'ButtonModel' from module '@jupyter-widgets/controls'",
       "style": "IPY_MODEL_72483d9b711046abaf692ceec3338c6b"
      }
     },
     "9f1cc714db2b4b3f9bdb3b62991e4db0": {
      "model_module": "@jupyter-widgets/base",
      "model_module_version": "2.0.0",
      "model_name": "LayoutModel",
      "state": {
       "_view_name": "ErrorWidgetView",
       "error": {},
       "msg": "Failed to load model class 'LayoutModel' from module '@jupyter-widgets/base'"
      }
     },
     "9ffba51d900c425dbb5d8dc0f7919b9f": {
      "model_module": "@jupyter-widgets/base",
      "model_module_version": "2.0.0",
      "model_name": "LayoutModel",
      "state": {
       "_view_name": "ErrorWidgetView",
       "error": {},
       "msg": "Failed to load model class 'LayoutModel' from module '@jupyter-widgets/base'"
      }
     },
     "a0050c1c63b1428aab0469cb0faafe63": {
      "model_module": "@jupyter-widgets/base",
      "model_module_version": "2.0.0",
      "model_name": "LayoutModel",
      "state": {}
     },
     "a03f3e5cb65b48eabcae180366a20403": {
      "model_module": "@jupyter-widgets/base",
      "model_module_version": "2.0.0",
      "model_name": "LayoutModel",
      "state": {
       "_view_name": "ErrorWidgetView",
       "error": {},
       "msg": "Failed to load model class 'LayoutModel' from module '@jupyter-widgets/base'"
      }
     },
     "a049b28be39042b59ea2585e05182814": {
      "model_module": "@jupyter-widgets/controls",
      "model_module_version": "2.0.0",
      "model_name": "HBoxModel",
      "state": {
       "_view_name": "ErrorWidgetView",
       "children": [
        "IPY_MODEL_b959f261600846a09614449b35d0748b",
        "IPY_MODEL_04b8b553a15a473baabedbdd1bbbd065",
        "IPY_MODEL_7e1cea1680e046f1b197c6dfcba6f855",
        "IPY_MODEL_967820616f4a4926acd3cb083c5c2098"
       ],
       "error": {},
       "layout": "IPY_MODEL_7d14b8ef842140fc95e41a8a7d7fe540",
       "msg": "Failed to load model class 'HBoxModel' from module '@jupyter-widgets/controls'"
      }
     },
     "a07525446d8145e09bcf92576e2f586f": {
      "model_module": "@jupyter-widgets/base",
      "model_module_version": "2.0.0",
      "model_name": "LayoutModel",
      "state": {
       "_view_name": "ErrorWidgetView",
       "error": {},
       "msg": "Failed to load model class 'LayoutModel' from module '@jupyter-widgets/base'"
      }
     },
     "a0aa31936d264fb6a449902b83ef16ab": {
      "model_module": "@jupyter-widgets/controls",
      "model_module_version": "2.0.0",
      "model_name": "DescriptionStyleModel",
      "state": {
       "_view_name": "ErrorWidgetView",
       "description_width": "",
       "error": {},
       "msg": "Failed to load model class 'DescriptionStyleModel' from module '@jupyter-widgets/controls'"
      }
     },
     "a0faae538a0640bb892f27afa64c1cce": {
      "model_module": "@jupyter-widgets/base",
      "model_module_version": "2.0.0",
      "model_name": "LayoutModel",
      "state": {
       "_view_name": "ErrorWidgetView",
       "error": {},
       "msg": "Failed to load model class 'LayoutModel' from module '@jupyter-widgets/base'"
      }
     },
     "a157d4e921df42d29c274a3ef7df0639": {
      "model_module": "@jupyter-widgets/controls",
      "model_module_version": "2.0.0",
      "model_name": "ButtonStyleModel",
      "state": {
       "_view_name": "ErrorWidgetView",
       "error": {},
       "msg": "Failed to load model class 'ButtonStyleModel' from module '@jupyter-widgets/controls'"
      }
     },
     "a2122ad9fd1c4bef9d79e2a4885a3b39": {
      "model_module": "@jupyter-widgets/base",
      "model_module_version": "2.0.0",
      "model_name": "LayoutModel",
      "state": {
       "_view_name": "ErrorWidgetView",
       "error": {},
       "msg": "Failed to load model class 'LayoutModel' from module '@jupyter-widgets/base'"
      }
     },
     "a225d3ed0891477aa0129474434f9ba8": {
      "model_module": "@jupyter-widgets/base",
      "model_module_version": "2.0.0",
      "model_name": "LayoutModel",
      "state": {
       "_view_name": "ErrorWidgetView",
       "error": {},
       "msg": "Failed to load model class 'LayoutModel' from module '@jupyter-widgets/base'",
       "width": "15%"
      }
     },
     "a2bf834e18a841be9d69d2fc8ca2a9f2": {
      "model_module": "@jupyter-widgets/base",
      "model_module_version": "2.0.0",
      "model_name": "LayoutModel",
      "state": {
       "_view_name": "ErrorWidgetView",
       "error": {},
       "msg": "Failed to load model class 'LayoutModel' from module '@jupyter-widgets/base'"
      }
     },
     "a2c9143277e24d7bba430c5f1c07fcc8": {
      "model_module": "@jupyter-widgets/controls",
      "model_module_version": "2.0.0",
      "model_name": "DescriptionStyleModel",
      "state": {
       "_view_name": "ErrorWidgetView",
       "description_width": "",
       "error": {},
       "msg": "Failed to load model class 'DescriptionStyleModel' from module '@jupyter-widgets/controls'"
      }
     },
     "a2da4ff6ac4f403f90ef1b198216cfa0": {
      "model_module": "@jupyter-widgets/controls",
      "model_module_version": "2.0.0",
      "model_name": "SliderStyleModel",
      "state": {
       "_view_name": "ErrorWidgetView",
       "description_width": "",
       "error": {},
       "msg": "Failed to load model class 'SliderStyleModel' from module '@jupyter-widgets/controls'"
      }
     },
     "a2fd633fccf44e03bbf783591969f33d": {
      "model_module": "@jupyter-widgets/base",
      "model_module_version": "2.0.0",
      "model_name": "LayoutModel",
      "state": {
       "_view_name": "ErrorWidgetView",
       "error": {},
       "msg": "Failed to load model class 'LayoutModel' from module '@jupyter-widgets/base'"
      }
     },
     "a31146971efd4be2aaf0e7a3e862b6ef": {
      "model_module": "@jupyter-widgets/controls",
      "model_module_version": "2.0.0",
      "model_name": "ButtonStyleModel",
      "state": {
       "_view_name": "ErrorWidgetView",
       "error": {},
       "msg": "Failed to load model class 'ButtonStyleModel' from module '@jupyter-widgets/controls'"
      }
     },
     "a33c986f508841469e92ef80bc6622b8": {
      "model_module": "@jupyter-widgets/controls",
      "model_module_version": "2.0.0",
      "model_name": "DescriptionStyleModel",
      "state": {
       "_view_name": "ErrorWidgetView",
       "description_width": "",
       "error": {},
       "msg": "Failed to load model class 'DescriptionStyleModel' from module '@jupyter-widgets/controls'"
      }
     },
     "a358b8fffebb48f892a91670f762b6e6": {
      "model_module": "@jupyter-widgets/controls",
      "model_module_version": "2.0.0",
      "model_name": "DescriptionStyleModel",
      "state": {
       "_view_name": "ErrorWidgetView",
       "description_width": "",
       "error": {},
       "msg": "Failed to load model class 'DescriptionStyleModel' from module '@jupyter-widgets/controls'"
      }
     },
     "a378957e69074d68937acc48adb605d2": {
      "model_module": "@jupyter-widgets/base",
      "model_module_version": "2.0.0",
      "model_name": "LayoutModel",
      "state": {
       "_view_name": "ErrorWidgetView",
       "error": {},
       "msg": "Failed to load model class 'LayoutModel' from module '@jupyter-widgets/base'"
      }
     },
     "a378a2c7b2584b24bf1ce2e51f2e8906": {
      "model_module": "@jupyter-widgets/controls",
      "model_module_version": "2.0.0",
      "model_name": "DescriptionStyleModel",
      "state": {
       "_view_name": "ErrorWidgetView",
       "description_width": "",
       "error": {},
       "msg": "Failed to load model class 'DescriptionStyleModel' from module '@jupyter-widgets/controls'"
      }
     },
     "a3946bf36fbc45aa8b011d2160752cd2": {
      "model_module": "@jupyter-widgets/controls",
      "model_module_version": "2.0.0",
      "model_name": "DropdownModel",
      "state": {
       "_options_labels": [
        "auto",
        "equal"
       ],
       "_view_name": "ErrorWidgetView",
       "description": "aspect",
       "error": {},
       "index": 1,
       "layout": "IPY_MODEL_435194e4a7d34c47bab06a2e21a55d8c",
       "msg": "Failed to load model class 'DropdownModel' from module '@jupyter-widgets/controls'",
       "style": "IPY_MODEL_5b60a3946b9b408387ea56ba9f15407f"
      }
     },
     "a3eb370d4e2e43a890b98de5db0cd3c6": {
      "model_module": "@jupyter-widgets/base",
      "model_module_version": "2.0.0",
      "model_name": "LayoutModel",
      "state": {
       "_view_name": "ErrorWidgetView",
       "error": {},
       "msg": "Failed to load model class 'LayoutModel' from module '@jupyter-widgets/base'"
      }
     },
     "a44c8edafe804fb18a9faef59eaefda9": {
      "model_module": "@jupyter-widgets/controls",
      "model_module_version": "2.0.0",
      "model_name": "DropdownModel",
      "state": {
       "_options_labels": [
        "auto",
        "equal"
       ],
       "_view_name": "ErrorWidgetView",
       "description": "aspect",
       "error": {},
       "index": 1,
       "layout": "IPY_MODEL_a7818460b5e14bf290fb94211dcdace2",
       "msg": "Failed to load model class 'DropdownModel' from module '@jupyter-widgets/controls'",
       "style": "IPY_MODEL_8da60b1e69d24520b8a52098b3c45359"
      }
     },
     "a47abda425dc4c06a81b7ddc0134efe9": {
      "model_module": "@jupyter-widgets/controls",
      "model_module_version": "2.0.0",
      "model_name": "CheckboxModel",
      "state": {
       "_view_name": "ErrorWidgetView",
       "description": "stack_linear",
       "disabled": false,
       "error": {},
       "layout": "IPY_MODEL_f6f9b605c3e44b89a54adc7e715ec87a",
       "msg": "Failed to load model class 'CheckboxModel' from module '@jupyter-widgets/controls'",
       "style": "IPY_MODEL_e55a8f2e1da24f8a8fe29be14d056863",
       "value": true
      }
     },
     "a47d98611df8476c8b6687f03e6057a3": {
      "model_module": "@jupyter-widgets/controls",
      "model_module_version": "2.0.0",
      "model_name": "DescriptionStyleModel",
      "state": {
       "_view_name": "ErrorWidgetView",
       "description_width": "",
       "error": {},
       "msg": "Failed to load model class 'DescriptionStyleModel' from module '@jupyter-widgets/controls'"
      }
     },
     "a5113385910b4282a158fcc567ba20ea": {
      "model_module": "@jupyter-widgets/base",
      "model_module_version": "2.0.0",
      "model_name": "LayoutModel",
      "state": {
       "_view_name": "ErrorWidgetView",
       "error": {},
       "msg": "Failed to load model class 'LayoutModel' from module '@jupyter-widgets/base'"
      }
     },
     "a513124222da4adeb7f1bd5e4ee086b6": {
      "model_module": "@jupyter-widgets/controls",
      "model_module_version": "2.0.0",
      "model_name": "TextModel",
      "state": {
       "_view_name": "ErrorWidgetView",
       "error": {},
       "layout": "IPY_MODEL_043505a46f9d47f5a93ecdb814454dc0",
       "msg": "Failed to load model class 'TextModel' from module '@jupyter-widgets/controls'",
       "style": "IPY_MODEL_2ba1ef66b93d4deeb0e632c3c99c15a6",
       "value": "2023-03-18"
      }
     },
     "a5675fffc8144814830dd89df35e108d": {
      "model_module": "@jupyter-widgets/controls",
      "model_module_version": "2.0.0",
      "model_name": "IntSliderModel",
      "state": {
       "_view_name": "ErrorWidgetView",
       "description": "ping nr",
       "error": {},
       "layout": "IPY_MODEL_90e2bf90c9004935ba106da8cbd6bcf8",
       "max": 73,
       "msg": "Failed to load model class 'IntSliderModel' from module '@jupyter-widgets/controls'",
       "style": "IPY_MODEL_ceb603fc812f43c69cdfad086162fa7a",
       "value": 60
      }
     },
     "a57020ebede344b3afa2391c92342b8b": {
      "model_module": "@jupyter-widgets/controls",
      "model_module_version": "2.0.0",
      "model_name": "TextModel",
      "state": {
       "description": "proc rate",
       "layout": "IPY_MODEL_ddc5ebe69fa94474bd5eb260d1d890a5",
       "style": "IPY_MODEL_cfdb44621e464e6c8ca7fe6cf479817a",
       "value": "r1: 72.9 / r2: 10.9 / r3: [9.5] Hz"
      }
     },
     "a58536617b4b47fab95c2c919ad21fa5": {
      "model_module": "@jupyter-widgets/base",
      "model_module_version": "2.0.0",
      "model_name": "LayoutModel",
      "state": {
       "_view_name": "ErrorWidgetView",
       "error": {},
       "msg": "Failed to load model class 'LayoutModel' from module '@jupyter-widgets/base'"
      }
     },
     "a5d68eec20c04b538d2524fb8b107796": {
      "model_module": "@jupyter-widgets/base",
      "model_module_version": "2.0.0",
      "model_name": "LayoutModel",
      "state": {
       "_view_name": "ErrorWidgetView",
       "error": {},
       "msg": "Failed to load model class 'LayoutModel' from module '@jupyter-widgets/base'"
      }
     },
     "a604c8fe121d4f87a20e93a2a60667f7": {
      "model_module": "@jupyter-widgets/controls",
      "model_module_version": "2.0.0",
      "model_name": "ProgressStyleModel",
      "state": {
       "_view_name": "ErrorWidgetView",
       "description_width": "",
       "error": {},
       "msg": "Failed to load model class 'ProgressStyleModel' from module '@jupyter-widgets/controls'"
      }
     },
     "a6354cc0a9204be7a8e121d52dfa9c1a": {
      "model_module": "@jupyter-widgets/controls",
      "model_module_version": "2.0.0",
      "model_name": "HBoxModel",
      "state": {
       "_view_name": "ErrorWidgetView",
       "children": [
        "IPY_MODEL_605f5cf04a874b5885b95ab980973318",
        "IPY_MODEL_e39b458d1a03484b994931c6143109b7",
        "IPY_MODEL_2f02937269914ea0b0eb89a0c6010483",
        "IPY_MODEL_520f889ea22340228ff071ffb2bd1138"
       ],
       "error": {},
       "layout": "IPY_MODEL_1bb857d96c7d465a819f9f19ea26dc7b",
       "msg": "Failed to load model class 'HBoxModel' from module '@jupyter-widgets/controls'"
      }
     },
     "a6655a288b8c4660b24eb126c357287f": {
      "model_module": "@jupyter-widgets/base",
      "model_module_version": "2.0.0",
      "model_name": "LayoutModel",
      "state": {
       "_view_name": "ErrorWidgetView",
       "error": {},
       "msg": "Failed to load model class 'LayoutModel' from module '@jupyter-widgets/base'",
       "width": "15%"
      }
     },
     "a66caf0373f24bed949da61820b9924e": {
      "model_module": "@jupyter-widgets/controls",
      "model_module_version": "2.0.0",
      "model_name": "FloatSliderModel",
      "state": {
       "_view_name": "ErrorWidgetView",
       "description": "vmax",
       "error": {},
       "layout": "IPY_MODEL_649a2c982b984d308299fda855eb763d",
       "min": -150,
       "msg": "Failed to load model class 'FloatSliderModel' from module '@jupyter-widgets/controls'",
       "step": 5,
       "style": "IPY_MODEL_ea42bbf54e694ef9ae96b57e074d3479",
       "value": -25
      }
     },
     "a6bff853547c4900ac3941c0723a3c44": {
      "model_module": "@jupyter-widgets/controls",
      "model_module_version": "2.0.0",
      "model_name": "IntSliderModel",
      "state": {
       "_view_name": "ErrorWidgetView",
       "description": "ping nr",
       "error": {},
       "layout": "IPY_MODEL_98d7093dc5f94abc81b83a48a6eda00d",
       "max": 73,
       "msg": "Failed to load model class 'IntSliderModel' from module '@jupyter-widgets/controls'",
       "style": "IPY_MODEL_d22d7537ea83481a9d76d1fca940b2a9",
       "value": 60
      }
     },
     "a741db8a205d466180c5d77103a05500": {
      "model_module": "@jupyter-widgets/base",
      "model_module_version": "2.0.0",
      "model_name": "LayoutModel",
      "state": {
       "_view_name": "ErrorWidgetView",
       "error": {},
       "msg": "Failed to load model class 'LayoutModel' from module '@jupyter-widgets/base'"
      }
     },
     "a7818460b5e14bf290fb94211dcdace2": {
      "model_module": "@jupyter-widgets/base",
      "model_module_version": "2.0.0",
      "model_name": "LayoutModel",
      "state": {
       "_view_name": "ErrorWidgetView",
       "error": {},
       "msg": "Failed to load model class 'LayoutModel' from module '@jupyter-widgets/base'"
      }
     },
     "a7ac8f11590a4ea9ae0091c9fd1e934f": {
      "model_module": "@jupyter-widgets/base",
      "model_module_version": "2.0.0",
      "model_name": "LayoutModel",
      "state": {
       "_view_name": "ErrorWidgetView",
       "error": {},
       "msg": "Failed to load model class 'LayoutModel' from module '@jupyter-widgets/base'",
       "width": "15%"
      }
     },
     "a7c33bee57e34fc7aae7341031345858": {
      "model_module": "@jupyter-widgets/base",
      "model_module_version": "2.0.0",
      "model_name": "LayoutModel",
      "state": {
       "_view_name": "ErrorWidgetView",
       "error": {},
       "msg": "Failed to load model class 'LayoutModel' from module '@jupyter-widgets/base'"
      }
     },
     "a85675aecd0b405b8fc6912122269569": {
      "model_module": "@jupyter-widgets/controls",
      "model_module_version": "2.0.0",
      "model_name": "ButtonStyleModel",
      "state": {
       "_view_name": "ErrorWidgetView",
       "error": {},
       "msg": "Failed to load model class 'ButtonStyleModel' from module '@jupyter-widgets/controls'"
      }
     },
     "a860ca248cf345168b59e51b2010e296": {
      "model_module": "@jupyter-widgets/base",
      "model_module_version": "2.0.0",
      "model_name": "LayoutModel",
      "state": {
       "_view_name": "ErrorWidgetView",
       "error": {},
       "msg": "Failed to load model class 'LayoutModel' from module '@jupyter-widgets/base'",
       "width": "50%"
      }
     },
     "a86b270919bb414693c24eb80f689b6c": {
      "model_module": "@jupyter-widgets/base",
      "model_module_version": "2.0.0",
      "model_name": "LayoutModel",
      "state": {
       "_view_name": "ErrorWidgetView",
       "error": {},
       "msg": "Failed to load model class 'LayoutModel' from module '@jupyter-widgets/base'"
      }
     },
     "a86e89d2086d4b329f49e2cf685a35f2": {
      "model_module": "@jupyter-widgets/base",
      "model_module_version": "2.0.0",
      "model_name": "LayoutModel",
      "state": {
       "_view_name": "ErrorWidgetView",
       "error": {},
       "msg": "Failed to load model class 'LayoutModel' from module '@jupyter-widgets/base'"
      }
     },
     "a8714311360c4f2abb3de9ba7142ad54": {
      "model_module": "@jupyter-widgets/controls",
      "model_module_version": "2.0.0",
      "model_name": "DescriptionStyleModel",
      "state": {
       "_view_name": "ErrorWidgetView",
       "description_width": "",
       "error": {},
       "msg": "Failed to load model class 'DescriptionStyleModel' from module '@jupyter-widgets/controls'"
      }
     },
     "a8c50b8352ce4291a218ebb9098fefe8": {
      "model_module": "@jupyter-widgets/controls",
      "model_module_version": "2.0.0",
      "model_name": "DropdownModel",
      "state": {
       "_options_labels": [
        "auto",
        "equal"
       ],
       "description": "aspect",
       "index": 1,
       "layout": "IPY_MODEL_d53cf85e2d0d4185b65c38696af1d469",
       "style": "IPY_MODEL_679d28906b2d4a60ab74c47657aa3ae0"
      }
     },
     "a8e07000e22c4d2da1ca0e843af80fa2": {
      "model_module": "@jupyter-widgets/controls",
      "model_module_version": "2.0.0",
      "model_name": "IntSliderModel",
      "state": {
       "_view_name": "ErrorWidgetView",
       "description": "ping nr",
       "error": {},
       "layout": "IPY_MODEL_5616bd1f6e60435daa8106f240bfd587",
       "max": 66,
       "msg": "Failed to load model class 'IntSliderModel' from module '@jupyter-widgets/controls'",
       "style": "IPY_MODEL_450ac437560747b2b99ada2f3cfeddd3",
       "value": 60
      }
     },
     "a950a8a4bcf24de280ccf8667cf9a634": {
      "model_module": "@jupyter-widgets/controls",
      "model_module_version": "2.0.0",
      "model_name": "IntSliderModel",
      "state": {
       "_view_name": "ErrorWidgetView",
       "description": "ping nr",
       "error": {},
       "layout": "IPY_MODEL_1d5d517983af4e7891704c0577a0040c",
       "max": 73,
       "msg": "Failed to load model class 'IntSliderModel' from module '@jupyter-widgets/controls'",
       "style": "IPY_MODEL_0cec985b5b1043a3afea18246baacd36",
       "value": 65
      }
     },
     "a985e328a94946cfbd0e60832632e6d3": {
      "model_module": "@jupyter-widgets/base",
      "model_module_version": "2.0.0",
      "model_name": "LayoutModel",
      "state": {
       "_view_name": "ErrorWidgetView",
       "error": {},
       "msg": "Failed to load model class 'LayoutModel' from module '@jupyter-widgets/base'"
      }
     },
     "aa466a933a874b6280650b7b23aee2ff": {
      "model_module": "@jupyter-widgets/base",
      "model_module_version": "2.0.0",
      "model_name": "LayoutModel",
      "state": {
       "_view_name": "ErrorWidgetView",
       "error": {},
       "msg": "Failed to load model class 'LayoutModel' from module '@jupyter-widgets/base'"
      }
     },
     "aa7a9e2ed59e4054826c50379937c802": {
      "model_module": "@jupyter-widgets/controls",
      "model_module_version": "2.0.0",
      "model_name": "ProgressStyleModel",
      "state": {
       "_view_name": "ErrorWidgetView",
       "description_width": "",
       "error": {},
       "msg": "Failed to load model class 'ProgressStyleModel' from module '@jupyter-widgets/controls'"
      }
     },
     "aaa0bae950bf48d8b0197da504507202": {
      "model_module": "@jupyter-widgets/controls",
      "model_module_version": "2.0.0",
      "model_name": "TextModel",
      "state": {
       "_view_name": "ErrorWidgetView",
       "description": "proc time",
       "error": {},
       "layout": "IPY_MODEL_b2b2147ff5c4485799fbdb2f3e2dae52",
       "msg": "Failed to load model class 'TextModel' from module '@jupyter-widgets/controls'",
       "style": "IPY_MODEL_39543c4ea8d542788d9e8e5ea87255c9",
       "value": "0.019 / 0.1 / [0.119] s"
      }
     },
     "aaca24d76c8140eda04327dc68a9cd64": {
      "model_module": "@jupyter-widgets/base",
      "model_module_version": "2.0.0",
      "model_name": "LayoutModel",
      "state": {
       "_view_name": "ErrorWidgetView",
       "error": {},
       "msg": "Failed to load model class 'LayoutModel' from module '@jupyter-widgets/base'",
       "width": "10%"
      }
     },
     "ab5595e2cb044402af560b5cf91bf7ac": {
      "model_module": "@jupyter-widgets/controls",
      "model_module_version": "2.0.0",
      "model_name": "IntProgressModel",
      "state": {
       "_view_name": "ErrorWidgetView",
       "description": "Idle",
       "error": {},
       "layout": "IPY_MODEL_4bb587ed31fa44e2aae246e6c99bf768",
       "max": 10,
       "msg": "Failed to load model class 'IntProgressModel' from module '@jupyter-widgets/controls'",
       "style": "IPY_MODEL_d173d80c396a470ca160ec0c747f7609"
      }
     },
     "abc06a28587548819ad949c083afddcd": {
      "model_module": "@jupyter-widgets/base",
      "model_module_version": "2.0.0",
      "model_name": "LayoutModel",
      "state": {}
     },
     "abe3023484644d10bb7607b3ff436ff1": {
      "model_module": "@jupyter-widgets/controls",
      "model_module_version": "2.0.0",
      "model_name": "DropdownModel",
      "state": {
       "_options_labels": [
        "sv/av/pv/rv",
        "sv/av/pv",
        "sv/av",
        "sp/ap/pp/rp",
        "sp/ap/pp",
        "sp/ap",
        "power/amp",
        "av",
        "ap",
        "amp",
        "sv",
        "sp",
        "pv",
        "pp",
        "rv",
        "rp",
        "power"
       ],
       "_view_name": "ErrorWidgetView",
       "description": "wci value",
       "error": {},
       "index": 0,
       "layout": "IPY_MODEL_97a084e833af47f099498907c4cd6854",
       "msg": "Failed to load model class 'DropdownModel' from module '@jupyter-widgets/controls'",
       "style": "IPY_MODEL_c829eb3ad1c84b04a831d3befa24dfd6"
      }
     },
     "ac90e2a605bc4e67a9df4c5b32c209d9": {
      "model_module": "@jupyter-widgets/base",
      "model_module_version": "2.0.0",
      "model_name": "LayoutModel",
      "state": {
       "_view_name": "ErrorWidgetView",
       "error": {},
       "msg": "Failed to load model class 'LayoutModel' from module '@jupyter-widgets/base'"
      }
     },
     "acce86f00eb14dd69f81fc94ca852ba2": {
      "model_module": "@jupyter-widgets/base",
      "model_module_version": "2.0.0",
      "model_name": "LayoutModel",
      "state": {
       "_view_name": "ErrorWidgetView",
       "error": {},
       "msg": "Failed to load model class 'LayoutModel' from module '@jupyter-widgets/base'"
      }
     },
     "ace5a3662a9848269fc6042c587c2f67": {
      "model_module": "@jupyter-widgets/controls",
      "model_module_version": "2.0.0",
      "model_name": "DescriptionStyleModel",
      "state": {
       "_view_name": "ErrorWidgetView",
       "description_width": "",
       "error": {},
       "msg": "Failed to load model class 'DescriptionStyleModel' from module '@jupyter-widgets/controls'"
      }
     },
     "ad18b37287ee4171ab954ad3e37105a5": {
      "model_module": "@jupyter-widgets/base",
      "model_module_version": "2.0.0",
      "model_name": "LayoutModel",
      "state": {
       "_view_name": "ErrorWidgetView",
       "error": {},
       "msg": "Failed to load model class 'LayoutModel' from module '@jupyter-widgets/base'",
       "width": "15%"
      }
     },
     "ad581aaa1b0b40078e8096a3af2db9c8": {
      "model_module": "@jupyter-widgets/controls",
      "model_module_version": "2.0.0",
      "model_name": "IntProgressModel",
      "state": {
       "_view_name": "ErrorWidgetView",
       "description": "Idle",
       "error": {},
       "layout": "IPY_MODEL_6e438932f9ce452b9d4b0b9dbdfc14bd",
       "max": 10,
       "msg": "Failed to load model class 'IntProgressModel' from module '@jupyter-widgets/controls'",
       "style": "IPY_MODEL_1091c98e8469454e8a400a1c514398a5"
      }
     },
     "ad7e8da0fcf448059204c8b0b62ab02d": {
      "model_module": "@jupyter-widgets/base",
      "model_module_version": "2.0.0",
      "model_name": "LayoutModel",
      "state": {
       "_view_name": "ErrorWidgetView",
       "error": {},
       "msg": "Failed to load model class 'LayoutModel' from module '@jupyter-widgets/base'"
      }
     },
     "ad861262db874d14b07bb8c2aed1beb5": {
      "model_module": "@jupyter-widgets/controls",
      "model_module_version": "2.0.0",
      "model_name": "HBoxModel",
      "state": {
       "_view_name": "ErrorWidgetView",
       "children": [
        "IPY_MODEL_087b0426b4624ed486610274d170b608",
        "IPY_MODEL_770de9ee5eb2475eacd4c018fb96b6dc",
        "IPY_MODEL_36a0a4d3acd64374920c588218b9d0bf",
        "IPY_MODEL_ca8b94de865043b987162d75188ddda5"
       ],
       "error": {},
       "layout": "IPY_MODEL_2cf6ee9ba6e148a9aaf915a3e879532e",
       "msg": "Failed to load model class 'HBoxModel' from module '@jupyter-widgets/controls'"
      }
     },
     "ad9b4f7d35cc4ffeaf069fcf938a006d": {
      "model_module": "@jupyter-widgets/controls",
      "model_module_version": "2.0.0",
      "model_name": "FloatProgressModel",
      "state": {
       "_view_name": "ErrorWidgetView",
       "bar_style": "success",
       "error": {},
       "layout": "IPY_MODEL_20614ded2769462e887768c78d97d74d",
       "max": 18,
       "msg": "Failed to load model class 'FloatProgressModel' from module '@jupyter-widgets/controls'",
       "style": "IPY_MODEL_ebde0d11f403415aa55520b4c51f66f8",
       "value": 18
      }
     },
     "ad9e9dca6cc34573b6d763c808589daf": {
      "model_module": "@jupyter-widgets/controls",
      "model_module_version": "2.0.0",
      "model_name": "IntSliderModel",
      "state": {
       "_view_name": "ErrorWidgetView",
       "description": "horizontal pixels",
       "error": {},
       "layout": "IPY_MODEL_bdcafe040f2f442994245711df6f5edf",
       "max": 2048,
       "min": 2,
       "msg": "Failed to load model class 'IntSliderModel' from module '@jupyter-widgets/controls'",
       "style": "IPY_MODEL_94c70fcb5c9d44c49e45df798239ae15",
       "value": 1024
      }
     },
     "adb9027d5bdf4d3cb3d728927f9f7a2a": {
      "model_module": "@jupyter-widgets/base",
      "model_module_version": "2.0.0",
      "model_name": "LayoutModel",
      "state": {
       "_view_name": "ErrorWidgetView",
       "error": {},
       "msg": "Failed to load model class 'LayoutModel' from module '@jupyter-widgets/base'"
      }
     },
     "ade0d3eae466436da85f189d52e00712": {
      "model_module": "@jupyter-widgets/base",
      "model_module_version": "2.0.0",
      "model_name": "LayoutModel",
      "state": {
       "_view_name": "ErrorWidgetView",
       "error": {},
       "msg": "Failed to load model class 'LayoutModel' from module '@jupyter-widgets/base'"
      }
     },
     "ae847ff807df46dc9a4d9474340299f4": {
      "model_module": "@jupyter-widgets/base",
      "model_module_version": "2.0.0",
      "model_name": "LayoutModel",
      "state": {
       "_view_name": "ErrorWidgetView",
       "error": {},
       "msg": "Failed to load model class 'LayoutModel' from module '@jupyter-widgets/base'"
      }
     },
     "aec00893463d47c48a77426b9dfa3c50": {
      "model_module": "@jupyter-widgets/controls",
      "model_module_version": "2.0.0",
      "model_name": "VBoxModel",
      "state": {
       "_view_name": "ErrorWidgetView",
       "children": [
        "IPY_MODEL_60372c2ff389407a94d0999ea1c2c149",
        "IPY_MODEL_09ddae877b9a47d7a862f711ea4ee297",
        "IPY_MODEL_c074b13dc5384fa5ae4260578050ec83",
        "IPY_MODEL_d5d6186383864882af13403da078ba0c",
        "IPY_MODEL_73ef3ecd6ad94a01943b5b03b2d6a57c",
        "IPY_MODEL_77029745e7184031b13f33a337367c09"
       ],
       "error": {},
       "layout": "IPY_MODEL_1ff3183a6e034e6286ef424f1546174b",
       "msg": "Failed to load model class 'VBoxModel' from module '@jupyter-widgets/controls'"
      }
     },
     "aeec55e081804b9bb8ef8aad5cfcc710": {
      "model_module": "@jupyter-widgets/controls",
      "model_module_version": "2.0.0",
      "model_name": "DescriptionStyleModel",
      "state": {
       "description_width": ""
      }
     },
     "aef7c33cf8cd490ba6ac075587d24c74": {
      "model_module": "@jupyter-widgets/base",
      "model_module_version": "2.0.0",
      "model_name": "LayoutModel",
      "state": {
       "_view_name": "ErrorWidgetView",
       "error": {},
       "msg": "Failed to load model class 'LayoutModel' from module '@jupyter-widgets/base'",
       "width": "15%"
      }
     },
     "af4a0a0989c64f90905ff2748013223d": {
      "model_module": "@jupyter-widgets/controls",
      "model_module_version": "2.0.0",
      "model_name": "DescriptionStyleModel",
      "state": {
       "_view_name": "ErrorWidgetView",
       "description_width": "",
       "error": {},
       "msg": "Failed to load model class 'DescriptionStyleModel' from module '@jupyter-widgets/controls'"
      }
     },
     "afdd090bcf5d4c0088ac624196cb3d0a": {
      "model_module": "@jupyter-widgets/controls",
      "model_module_version": "2.0.0",
      "model_name": "DescriptionStyleModel",
      "state": {
       "_view_name": "ErrorWidgetView",
       "description_width": "",
       "error": {},
       "msg": "Failed to load model class 'DescriptionStyleModel' from module '@jupyter-widgets/controls'"
      }
     },
     "b01ebc5f7326483fade10a1b98b51714": {
      "model_module": "@jupyter-widgets/controls",
      "model_module_version": "2.0.0",
      "model_name": "IntTextModel",
      "state": {
       "_view_name": "ErrorWidgetView",
       "description": "stack step:",
       "error": {},
       "layout": "IPY_MODEL_2e467e01afb04d0093203ec55b8e403b",
       "msg": "Failed to load model class 'IntTextModel' from module '@jupyter-widgets/controls'",
       "step": 1,
       "style": "IPY_MODEL_6daac2ad540a4a46849c9737461fcb7f",
       "value": 1
      }
     },
     "b0455788f1e34281893a7416ac00ddd3": {
      "model_module": "@jupyter-widgets/controls",
      "model_module_version": "2.0.0",
      "model_name": "TextModel",
      "state": {
       "_view_name": "ErrorWidgetView",
       "description": "proc rate",
       "error": {},
       "layout": "IPY_MODEL_c25019daa1cf4ca3b014c54ccc398891",
       "msg": "Failed to load model class 'TextModel' from module '@jupyter-widgets/controls'",
       "style": "IPY_MODEL_65fdb4535cb342289199702888f2a76b",
       "value": "r1: 40.0 / r2: 9.1 / r3: [7.4] Hz"
      }
     },
     "b076b034457e43778327e9ffee3271bc": {
      "model_module": "@jupyter-widgets/controls",
      "model_module_version": "2.0.0",
      "model_name": "DropdownModel",
      "state": {
       "_options_labels": [
        "linear",
        "beamsample"
       ],
       "_view_name": "ErrorWidgetView",
       "description": "wci render",
       "error": {},
       "index": 0,
       "layout": "IPY_MODEL_22221999f3d5404fb38f5cd24eb1c5f8",
       "msg": "Failed to load model class 'DropdownModel' from module '@jupyter-widgets/controls'",
       "style": "IPY_MODEL_6763e328a29545d2a09e183458e76601"
      }
     },
     "b07c5fe745304c36b74f00664ec616a7": {
      "model_module": "@jupyter-widgets/base",
      "model_module_version": "2.0.0",
      "model_name": "LayoutModel",
      "state": {
       "_view_name": "ErrorWidgetView",
       "error": {},
       "msg": "Failed to load model class 'LayoutModel' from module '@jupyter-widgets/base'"
      }
     },
     "b0efa88ed2414e0eb10c0c02368c02a2": {
      "model_module": "@jupyter-widgets/controls",
      "model_module_version": "2.0.0",
      "model_name": "ButtonStyleModel",
      "state": {
       "_view_name": "ErrorWidgetView",
       "error": {},
       "msg": "Failed to load model class 'ButtonStyleModel' from module '@jupyter-widgets/controls'"
      }
     },
     "b108fe44b87144a9b0e66ad27a3036db": {
      "model_module": "@jupyter-widgets/controls",
      "model_module_version": "2.0.0",
      "model_name": "ProgressStyleModel",
      "state": {
       "_view_name": "ErrorWidgetView",
       "description_width": "",
       "error": {},
       "msg": "Failed to load model class 'ProgressStyleModel' from module '@jupyter-widgets/controls'"
      }
     },
     "b12370c479f04808916d503ccf934909": {
      "model_module": "@jupyter-widgets/base",
      "model_module_version": "2.0.0",
      "model_name": "LayoutModel",
      "state": {
       "_view_name": "ErrorWidgetView",
       "error": {},
       "msg": "Failed to load model class 'LayoutModel' from module '@jupyter-widgets/base'",
       "width": "15%"
      }
     },
     "b147fd5170084632a28ca2775a6477c0": {
      "model_module": "@jupyter-widgets/base",
      "model_module_version": "2.0.0",
      "model_name": "LayoutModel",
      "state": {
       "_view_name": "ErrorWidgetView",
       "error": {},
       "msg": "Failed to load model class 'LayoutModel' from module '@jupyter-widgets/base'"
      }
     },
     "b1b66d0d69e848b3ab09b28b6a2b4158": {
      "model_module": "@jupyter-widgets/base",
      "model_module_version": "2.0.0",
      "model_name": "LayoutModel",
      "state": {
       "_view_name": "ErrorWidgetView",
       "error": {},
       "msg": "Failed to load model class 'LayoutModel' from module '@jupyter-widgets/base'",
       "width": "50%"
      }
     },
     "b2359d104bf8499da21c0fa67eac0ea6": {
      "model_module": "@jupyter-widgets/controls",
      "model_module_version": "2.0.0",
      "model_name": "HBoxModel",
      "state": {
       "_view_name": "ErrorWidgetView",
       "children": [
        "IPY_MODEL_a8e07000e22c4d2da1ca0e843af80fa2",
        "IPY_MODEL_1eb2352458124c0d94562a204c074fcf",
        "IPY_MODEL_fc03981b81c6418dac5144463f05488a",
        "IPY_MODEL_6a799a1b8689488883c5d57ee6ef34f1",
        "IPY_MODEL_991297b9cf8d41ed9dcbb8dc8b103b18",
        "IPY_MODEL_2d334d6626684310a2e3f49a1d3ff0bf"
       ],
       "error": {},
       "layout": "IPY_MODEL_9950dfa51e1e4e9589524e168188e99a",
       "msg": "Failed to load model class 'HBoxModel' from module '@jupyter-widgets/controls'"
      }
     },
     "b23d4e3379a94e4db98175c8d85ff3dc": {
      "model_module": "@jupyter-widgets/base",
      "model_module_version": "2.0.0",
      "model_name": "LayoutModel",
      "state": {
       "_view_name": "ErrorWidgetView",
       "error": {},
       "msg": "Failed to load model class 'LayoutModel' from module '@jupyter-widgets/base'",
       "width": "15%"
      }
     },
     "b2885bb6d1e940b3845b99309d170905": {
      "model_module": "@jupyter-widgets/controls",
      "model_module_version": "2.0.0",
      "model_name": "DescriptionStyleModel",
      "state": {
       "_view_name": "ErrorWidgetView",
       "description_width": "",
       "error": {},
       "msg": "Failed to load model class 'DescriptionStyleModel' from module '@jupyter-widgets/controls'"
      }
     },
     "b2b2147ff5c4485799fbdb2f3e2dae52": {
      "model_module": "@jupyter-widgets/base",
      "model_module_version": "2.0.0",
      "model_name": "LayoutModel",
      "state": {
       "_view_name": "ErrorWidgetView",
       "error": {},
       "msg": "Failed to load model class 'LayoutModel' from module '@jupyter-widgets/base'"
      }
     },
     "b2ebc0959ba043f783b571a94bc87256": {
      "model_module": "@jupyter-widgets/controls",
      "model_module_version": "2.0.0",
      "model_name": "DropdownModel",
      "state": {
       "_options_labels": [
        "antialiased",
        "none",
        "nearest",
        "bilinear",
        "bicubic",
        "spline16",
        "spline36",
        "hanning",
        "hamming",
        "hermite",
        "kaiser",
        "quadric",
        "catrom",
        "gaussian",
        "bessel",
        "mitchell",
        "sinc",
        "lanczos",
        "blackman"
       ],
       "_view_name": "ErrorWidgetView",
       "description": "interpolation",
       "error": {},
       "index": 2,
       "layout": "IPY_MODEL_1348d2267a744e3191ac6aba656e9af7",
       "msg": "Failed to load model class 'DropdownModel' from module '@jupyter-widgets/controls'",
       "style": "IPY_MODEL_13af8b5d2e21429f9f72893633dda512"
      }
     },
     "b353c21bc4e44ea8991fde7e18486c62": {
      "model_module": "@jupyter-widgets/controls",
      "model_module_version": "2.0.0",
      "model_name": "IntSliderModel",
      "state": {
       "_view_name": "ErrorWidgetView",
       "description": "horizontal pixels",
       "error": {},
       "layout": "IPY_MODEL_83bb4f6690cb4fc5a5cbb485525a5feb",
       "max": 2048,
       "min": 2,
       "msg": "Failed to load model class 'IntSliderModel' from module '@jupyter-widgets/controls'",
       "style": "IPY_MODEL_bd9a3cdce838456295ed5414e6728b77",
       "value": 1024
      }
     },
     "b3755e3955964b21a7dfff2eb280733a": {
      "model_module": "@jupyter-widgets/base",
      "model_module_version": "2.0.0",
      "model_name": "LayoutModel",
      "state": {
       "_view_name": "ErrorWidgetView",
       "error": {},
       "msg": "Failed to load model class 'LayoutModel' from module '@jupyter-widgets/base'"
      }
     },
     "b399830c15aa4012afcdd4e38ac9a10f": {
      "model_module": "@jupyter-widgets/controls",
      "model_module_version": "2.0.0",
      "model_name": "SliderStyleModel",
      "state": {
       "_view_name": "ErrorWidgetView",
       "description_width": "",
       "error": {},
       "msg": "Failed to load model class 'SliderStyleModel' from module '@jupyter-widgets/controls'"
      }
     },
     "b3c0c000ee944043971295468050a31a": {
      "model_module": "@jupyter-widgets/controls",
      "model_module_version": "2.0.0",
      "model_name": "DescriptionStyleModel",
      "state": {
       "_view_name": "ErrorWidgetView",
       "description_width": "",
       "error": {},
       "msg": "Failed to load model class 'DescriptionStyleModel' from module '@jupyter-widgets/controls'"
      }
     },
     "b3c82da439ad48aaac75a95baeef2581": {
      "model_module": "@jupyter-widgets/base",
      "model_module_version": "2.0.0",
      "model_name": "LayoutModel",
      "state": {
       "_view_name": "ErrorWidgetView",
       "error": {},
       "msg": "Failed to load model class 'LayoutModel' from module '@jupyter-widgets/base'"
      }
     },
     "b3feb6a1d5e44e339a5cbc6bc5a9f2d3": {
      "model_module": "@jupyter-widgets/base",
      "model_module_version": "2.0.0",
      "model_name": "LayoutModel",
      "state": {
       "_view_name": "ErrorWidgetView",
       "error": {},
       "msg": "Failed to load model class 'LayoutModel' from module '@jupyter-widgets/base'",
       "width": "10%"
      }
     },
     "b42b4e46e5e94a5e8ef882532396598f": {
      "model_module": "@jupyter-widgets/base",
      "model_module_version": "2.0.0",
      "model_name": "LayoutModel",
      "state": {
       "_view_name": "ErrorWidgetView",
       "error": {},
       "msg": "Failed to load model class 'LayoutModel' from module '@jupyter-widgets/base'"
      }
     },
     "b480bd1a6c9a4f4fa6157d9bd9248f29": {
      "model_module": "@jupyter-widgets/controls",
      "model_module_version": "2.0.0",
      "model_name": "DropdownModel",
      "state": {
       "_options_labels": [
        "antialiased",
        "none",
        "nearest",
        "bilinear",
        "bicubic",
        "spline16",
        "spline36",
        "hanning",
        "hamming",
        "hermite",
        "kaiser",
        "quadric",
        "catrom",
        "gaussian",
        "bessel",
        "mitchell",
        "sinc",
        "lanczos",
        "blackman"
       ],
       "_view_name": "ErrorWidgetView",
       "description": "interpolation",
       "error": {},
       "index": 2,
       "layout": "IPY_MODEL_493735ef87df4bba917eb127ffda0c4d",
       "msg": "Failed to load model class 'DropdownModel' from module '@jupyter-widgets/controls'",
       "style": "IPY_MODEL_d7b428a5d6cd4431b55187d5f135c365"
      }
     },
     "b4de0ce5aebd46c9beebaa995f1388c4": {
      "model_module": "@jupyter-widgets/controls",
      "model_module_version": "2.0.0",
      "model_name": "TextModel",
      "state": {
       "description": "proc time",
       "layout": "IPY_MODEL_8340fc970dc844a1b93bcf0e1061369c",
       "style": "IPY_MODEL_e2e4997291e14f5488e014aa84da037c",
       "value": "0.014 / 0.092 / [0.105] s"
      }
     },
     "b5708fcd5de8458c8852df14fb14e407": {
      "model_module": "@jupyter-widgets/base",
      "model_module_version": "2.0.0",
      "model_name": "LayoutModel",
      "state": {
       "_view_name": "ErrorWidgetView",
       "error": {},
       "msg": "Failed to load model class 'LayoutModel' from module '@jupyter-widgets/base'"
      }
     },
     "b583601d20344e9b82e272478b69781c": {
      "model_module": "@jupyter-widgets/base",
      "model_module_version": "2.0.0",
      "model_name": "LayoutModel",
      "state": {
       "_view_name": "ErrorWidgetView",
       "error": {},
       "msg": "Failed to load model class 'LayoutModel' from module '@jupyter-widgets/base'"
      }
     },
     "b5c2ed2cc2194bb7bd418a00485662f6": {
      "model_module": "@jupyter-widgets/controls",
      "model_module_version": "2.0.0",
      "model_name": "FloatSliderModel",
      "state": {
       "_view_name": "ErrorWidgetView",
       "description": "vmin",
       "error": {},
       "layout": "IPY_MODEL_fc9995f427124b5cac7188fd2ad3b98b",
       "min": -150,
       "msg": "Failed to load model class 'FloatSliderModel' from module '@jupyter-widgets/controls'",
       "step": 5,
       "style": "IPY_MODEL_6a055f51c7ec485b994e82923a0bfc97",
       "value": -90
      }
     },
     "b625bdda56414670ac6806ecdead8b23": {
      "model_module": "@jupyter-widgets/base",
      "model_module_version": "2.0.0",
      "model_name": "LayoutModel",
      "state": {
       "_view_name": "ErrorWidgetView",
       "error": {},
       "msg": "Failed to load model class 'LayoutModel' from module '@jupyter-widgets/base'"
      }
     },
     "b651fd98ed39484e8d34f81ed8a084b1": {
      "model_module": "@jupyter-widgets/controls",
      "model_module_version": "2.0.0",
      "model_name": "VBoxModel",
      "state": {
       "children": [
        "IPY_MODEL_8ab50c8f1806438bacbd70b89315b7ba",
        "IPY_MODEL_59e4d73cf0ff4457b85929e7ce13908e",
        "IPY_MODEL_ff0483dff429482aa8f4ac2ffc436ded",
        "IPY_MODEL_bf094a62328c444487baf58ce38720c4",
        "IPY_MODEL_37eb6379e216436dbc06380c2641d22e",
        "IPY_MODEL_3fa563bb48d44f6dbde1507599902b47"
       ],
       "layout": "IPY_MODEL_ef095f80f6634ce5a34fc615bb4f75ad"
      }
     },
     "b68986ef69f74de0993758846b7e6ad1": {
      "model_module": "@jupyter-widgets/base",
      "model_module_version": "2.0.0",
      "model_name": "LayoutModel",
      "state": {
       "_view_name": "ErrorWidgetView",
       "error": {},
       "msg": "Failed to load model class 'LayoutModel' from module '@jupyter-widgets/base'"
      }
     },
     "b6a4a29646b34e9cb6755a3584c44aa4": {
      "model_module": "@jupyter-widgets/controls",
      "model_module_version": "2.0.0",
      "model_name": "ButtonStyleModel",
      "state": {
       "_view_name": "ErrorWidgetView",
       "error": {},
       "msg": "Failed to load model class 'ButtonStyleModel' from module '@jupyter-widgets/controls'"
      }
     },
     "b6b00369ce374fe3bb1b89535b200c4d": {
      "model_module": "@jupyter-widgets/controls",
      "model_module_version": "2.0.0",
      "model_name": "DescriptionStyleModel",
      "state": {
       "_view_name": "ErrorWidgetView",
       "description_width": "",
       "error": {},
       "msg": "Failed to load model class 'DescriptionStyleModel' from module '@jupyter-widgets/controls'"
      }
     },
     "b6b81af93f774daf88a1be9ee8c6a0bd": {
      "model_module": "@jupyter-widgets/controls",
      "model_module_version": "2.0.0",
      "model_name": "HBoxModel",
      "state": {
       "_view_name": "ErrorWidgetView",
       "children": [
        "IPY_MODEL_5fe534fb5f2349fb8160248c9a543098",
        "IPY_MODEL_4c29cfd40ed7460baf7e390919a4d549",
        "IPY_MODEL_9276fd75a33a4480aeb3a8328e716497",
        "IPY_MODEL_8996b204f3b948a6913b4578476c77e4"
       ],
       "error": {},
       "layout": "IPY_MODEL_350c3835bf4a4f44af8ff7ed5b2ec490",
       "msg": "Failed to load model class 'HBoxModel' from module '@jupyter-widgets/controls'"
      }
     },
     "b6ce4763a6e740f39a95d34e2c736fdf": {
      "model_module": "@jupyter-widgets/controls",
      "model_module_version": "2.0.0",
      "model_name": "SliderStyleModel",
      "state": {
       "_view_name": "ErrorWidgetView",
       "description_width": "",
       "error": {},
       "msg": "Failed to load model class 'SliderStyleModel' from module '@jupyter-widgets/controls'"
      }
     },
     "b6e7805df5df4e6083bcad15f3bf6244": {
      "model_module": "@jupyter-widgets/base",
      "model_module_version": "2.0.0",
      "model_name": "LayoutModel",
      "state": {
       "_view_name": "ErrorWidgetView",
       "error": {},
       "msg": "Failed to load model class 'LayoutModel' from module '@jupyter-widgets/base'",
       "width": "15%"
      }
     },
     "b72623e29f714baf8f3e431a57e596a6": {
      "model_module": "@jupyter-widgets/controls",
      "model_module_version": "2.0.0",
      "model_name": "HBoxModel",
      "state": {
       "_view_name": "ErrorWidgetView",
       "children": [
        "IPY_MODEL_ee971509cf414a60a0fb1e91fa067cc1",
        "IPY_MODEL_1f6cea40434f48d39594632e8a61470e",
        "IPY_MODEL_17a85cbfeffe4ed39b5d23e1715f3dd6",
        "IPY_MODEL_0dd97c4b7c2c4e17b7d02b5e7c85e0d5",
        "IPY_MODEL_d998a71daa7a4df6b25bab3d8d1d8d85",
        "IPY_MODEL_5c027b34f1784081a5499f6894c1c440"
       ],
       "error": {},
       "layout": "IPY_MODEL_76f4bec9d8754e9a9f0dd1ea8abb882a",
       "msg": "Failed to load model class 'HBoxModel' from module '@jupyter-widgets/controls'"
      }
     },
     "b7563bfaa3dc458498404c0f59c6b859": {
      "model_module": "@jupyter-widgets/controls",
      "model_module_version": "2.0.0",
      "model_name": "DescriptionStyleModel",
      "state": {
       "_view_name": "ErrorWidgetView",
       "description_width": "",
       "error": {},
       "msg": "Failed to load model class 'DescriptionStyleModel' from module '@jupyter-widgets/controls'"
      }
     },
     "b791a70f0a66456085d84bafa8b795e6": {
      "model_module": "@jupyter-widgets/base",
      "model_module_version": "2.0.0",
      "model_name": "LayoutModel",
      "state": {
       "_view_name": "ErrorWidgetView",
       "error": {},
       "msg": "Failed to load model class 'LayoutModel' from module '@jupyter-widgets/base'"
      }
     },
     "b8043ecc13b347338cc66f277d28f2c8": {
      "model_module": "@jupyter-widgets/controls",
      "model_module_version": "2.0.0",
      "model_name": "TextModel",
      "state": {
       "_view_name": "ErrorWidgetView",
       "description": "proc rate",
       "error": {},
       "layout": "IPY_MODEL_413398acba0c4c1b8051b25fd493ffcb",
       "msg": "Failed to load model class 'TextModel' from module '@jupyter-widgets/controls'",
       "style": "IPY_MODEL_980a944dbd7448069b8fae90361ac29f",
       "value": "r1: 34.7 / r2: 9.0 / r3: [7.1] Hz"
      }
     },
     "b821a27a70bd44b39677a661d97d0274": {
      "model_module": "@jupyter-widgets/controls",
      "model_module_version": "2.0.0",
      "model_name": "IntProgressModel",
      "state": {
       "_view_name": "ErrorWidgetView",
       "description": "Idle",
       "error": {},
       "layout": "IPY_MODEL_d890d879ffa6437aa533a8544fa3299e",
       "max": 10,
       "msg": "Failed to load model class 'IntProgressModel' from module '@jupyter-widgets/controls'",
       "style": "IPY_MODEL_bedf56206752474a93cdf5895a14a7ad"
      }
     },
     "b848ecd7f60c45ccaa015fa4b3814a9b": {
      "model_module": "@jupyter-widgets/controls",
      "model_module_version": "2.0.0",
      "model_name": "FloatSliderModel",
      "state": {
       "_view_name": "ErrorWidgetView",
       "description": "vmin",
       "error": {},
       "layout": "IPY_MODEL_b791a70f0a66456085d84bafa8b795e6",
       "min": -150,
       "msg": "Failed to load model class 'FloatSliderModel' from module '@jupyter-widgets/controls'",
       "step": 5,
       "style": "IPY_MODEL_883f8615c4a94a22b9c7eddb72738ae2",
       "value": -90
      }
     },
     "b87f2cbda12440fc8d6476f08107975c": {
      "model_module": "@jupyter-widgets/controls",
      "model_module_version": "2.0.0",
      "model_name": "ButtonStyleModel",
      "state": {
       "_view_name": "ErrorWidgetView",
       "error": {},
       "msg": "Failed to load model class 'ButtonStyleModel' from module '@jupyter-widgets/controls'"
      }
     },
     "b888c860692b4f86ba705d4cceccdc32": {
      "model_module": "@jupyter-widgets/base",
      "model_module_version": "2.0.0",
      "model_name": "LayoutModel",
      "state": {
       "_view_name": "ErrorWidgetView",
       "error": {},
       "msg": "Failed to load model class 'LayoutModel' from module '@jupyter-widgets/base'"
      }
     },
     "b88be61cd8d14938bf02b14f9fce9ac3": {
      "model_module": "@jupyter-widgets/base",
      "model_module_version": "2.0.0",
      "model_name": "LayoutModel",
      "state": {
       "_view_name": "ErrorWidgetView",
       "error": {},
       "msg": "Failed to load model class 'LayoutModel' from module '@jupyter-widgets/base'"
      }
     },
     "b8ad4b59f97f460689974b499979b5db": {
      "model_module": "@jupyter-widgets/base",
      "model_module_version": "2.0.0",
      "model_name": "LayoutModel",
      "state": {
       "_view_name": "ErrorWidgetView",
       "error": {},
       "msg": "Failed to load model class 'LayoutModel' from module '@jupyter-widgets/base'"
      }
     },
     "b8b2041f0d144a848c670b1581396033": {
      "model_module": "@jupyter-widgets/controls",
      "model_module_version": "2.0.0",
      "model_name": "DropdownModel",
      "state": {
       "_options_labels": [
        "auto",
        "equal"
       ],
       "_view_name": "ErrorWidgetView",
       "description": "aspect",
       "error": {},
       "index": 1,
       "layout": "IPY_MODEL_678896ae411e4c7283a54de365901e63",
       "msg": "Failed to load model class 'DropdownModel' from module '@jupyter-widgets/controls'",
       "style": "IPY_MODEL_7c57785b8a2f4560a64979389e3fec0c"
      }
     },
     "b8bc7e15125a43c4963dd5c91389c2ad": {
      "model_module": "@jupyter-widgets/controls",
      "model_module_version": "2.0.0",
      "model_name": "TextModel",
      "state": {
       "_view_name": "ErrorWidgetView",
       "description": "proc time",
       "error": {},
       "layout": "IPY_MODEL_e20ba6ad46264f67a7688b2e2a422dc6",
       "msg": "Failed to load model class 'TextModel' from module '@jupyter-widgets/controls'",
       "style": "IPY_MODEL_53f5ac454ef64317bdd7bdbca6db0ec6",
       "value": "0.013 / 0.113 / [0.125] s"
      }
     },
     "b8f2a482f41144f6adc372ae9722d419": {
      "model_module": "@jupyter-widgets/base",
      "model_module_version": "2.0.0",
      "model_name": "LayoutModel",
      "state": {
       "_view_name": "ErrorWidgetView",
       "error": {},
       "msg": "Failed to load model class 'LayoutModel' from module '@jupyter-widgets/base'",
       "width": "10%"
      }
     },
     "b92d39b0af2a4fdda102c8b8f5055041": {
      "model_module": "@jupyter-widgets/controls",
      "model_module_version": "2.0.0",
      "model_name": "DescriptionStyleModel",
      "state": {
       "_view_name": "ErrorWidgetView",
       "description_width": "",
       "error": {},
       "msg": "Failed to load model class 'DescriptionStyleModel' from module '@jupyter-widgets/controls'"
      }
     },
     "b959f261600846a09614449b35d0748b": {
      "model_module": "@jupyter-widgets/controls",
      "model_module_version": "2.0.0",
      "model_name": "FloatSliderModel",
      "state": {
       "_view_name": "ErrorWidgetView",
       "description": "vmin",
       "error": {},
       "layout": "IPY_MODEL_3c35311e10d64cf3bfb6097ba176f933",
       "min": -150,
       "msg": "Failed to load model class 'FloatSliderModel' from module '@jupyter-widgets/controls'",
       "step": 5,
       "style": "IPY_MODEL_789ac0add7e84de486776f4c01a65c6e",
       "value": -90
      }
     },
     "b96b97e0c8294f4c87fde86e246e37b1": {
      "model_module": "@jupyter-widgets/controls",
      "model_module_version": "2.0.0",
      "model_name": "DescriptionStyleModel",
      "state": {
       "_view_name": "ErrorWidgetView",
       "description_width": "",
       "error": {},
       "msg": "Failed to load model class 'DescriptionStyleModel' from module '@jupyter-widgets/controls'"
      }
     },
     "b98b4d1e266e4258b2c9eca5b3f7f0b0": {
      "model_module": "@jupyter-widgets/controls",
      "model_module_version": "2.0.0",
      "model_name": "DescriptionStyleModel",
      "state": {
       "description_width": ""
      }
     },
     "b9dcb7b0c24744fba2021468dbd018c3": {
      "model_module": "@jupyter-widgets/base",
      "model_module_version": "2.0.0",
      "model_name": "LayoutModel",
      "state": {
       "_view_name": "ErrorWidgetView",
       "error": {},
       "msg": "Failed to load model class 'LayoutModel' from module '@jupyter-widgets/base'"
      }
     },
     "ba11540dfc1e4aaf92b25433e66806d0": {
      "model_module": "@jupyter-widgets/controls",
      "model_module_version": "2.0.0",
      "model_name": "DescriptionStyleModel",
      "state": {
       "_view_name": "ErrorWidgetView",
       "description_width": "",
       "error": {},
       "msg": "Failed to load model class 'DescriptionStyleModel' from module '@jupyter-widgets/controls'"
      }
     },
     "ba1f61bbccc64ced8aef84bae4bcfc2a": {
      "model_module": "@jupyter-widgets/controls",
      "model_module_version": "2.0.0",
      "model_name": "FloatSliderModel",
      "state": {
       "_view_name": "ErrorWidgetView",
       "description": "vmin",
       "error": {},
       "layout": "IPY_MODEL_a07525446d8145e09bcf92576e2f586f",
       "min": -150,
       "msg": "Failed to load model class 'FloatSliderModel' from module '@jupyter-widgets/controls'",
       "step": 5,
       "style": "IPY_MODEL_f5c2feaf46fe4a45a1450c686aa51bb1",
       "value": -90
      }
     },
     "ba357ca011bc4749baa4361d1e045ed0": {
      "model_module": "@jupyter-widgets/controls",
      "model_module_version": "2.0.0",
      "model_name": "DescriptionStyleModel",
      "state": {
       "_view_name": "ErrorWidgetView",
       "description_width": "",
       "error": {},
       "msg": "Failed to load model class 'DescriptionStyleModel' from module '@jupyter-widgets/controls'"
      }
     },
     "ba49686a4f4044de843efd79def01820": {
      "model_module": "@jupyter-widgets/base",
      "model_module_version": "2.0.0",
      "model_name": "LayoutModel",
      "state": {
       "_view_name": "ErrorWidgetView",
       "error": {},
       "msg": "Failed to load model class 'LayoutModel' from module '@jupyter-widgets/base'"
      }
     },
     "ba5eecfaa5d64b7bbc71de4aa5e43419": {
      "model_module": "@jupyter-widgets/controls",
      "model_module_version": "2.0.0",
      "model_name": "DescriptionStyleModel",
      "state": {
       "_view_name": "ErrorWidgetView",
       "description_width": "",
       "error": {},
       "msg": "Failed to load model class 'DescriptionStyleModel' from module '@jupyter-widgets/controls'"
      }
     },
     "ba63fbc9862d416d9811a8915d99ef15": {
      "model_module": "@jupyter-widgets/controls",
      "model_module_version": "2.0.0",
      "model_name": "ButtonStyleModel",
      "state": {
       "_view_name": "ErrorWidgetView",
       "error": {},
       "msg": "Failed to load model class 'ButtonStyleModel' from module '@jupyter-widgets/controls'"
      }
     },
     "baf6ce4495134dd59de2982315b2bec3": {
      "model_module": "@jupyter-widgets/base",
      "model_module_version": "2.0.0",
      "model_name": "LayoutModel",
      "state": {}
     },
     "bb01873a1e014fdaacdcb29b0050a3d4": {
      "model_module": "@jupyter-widgets/controls",
      "model_module_version": "2.0.0",
      "model_name": "DropdownModel",
      "state": {
       "_options_labels": [
        "auto",
        "equal"
       ],
       "_view_name": "ErrorWidgetView",
       "description": "aspect",
       "error": {},
       "index": 1,
       "layout": "IPY_MODEL_61e0a1e189a6440c81fb4ac023365170",
       "msg": "Failed to load model class 'DropdownModel' from module '@jupyter-widgets/controls'",
       "style": "IPY_MODEL_0da53612b93d4d87b7656ef31cc4e971"
      }
     },
     "bb1c747d2fce4cf98eaa954c41c583db": {
      "model_module": "@jupyter-widgets/controls",
      "model_module_version": "2.0.0",
      "model_name": "IntTextModel",
      "state": {
       "_view_name": "ErrorWidgetView",
       "description": "mp_cores:",
       "error": {},
       "layout": "IPY_MODEL_01db9440fc9741ad8d9692b6b081609b",
       "msg": "Failed to load model class 'IntTextModel' from module '@jupyter-widgets/controls'",
       "step": 1,
       "style": "IPY_MODEL_fdae470d9b394bddb9af36fb9f0230c3",
       "value": 1
      }
     },
     "bb602c767cbb4a60ad63732dfd60ed34": {
      "model_module": "@jupyter-widgets/controls",
      "model_module_version": "2.0.0",
      "model_name": "SliderStyleModel",
      "state": {
       "_view_name": "ErrorWidgetView",
       "description_width": "",
       "error": {},
       "msg": "Failed to load model class 'SliderStyleModel' from module '@jupyter-widgets/controls'"
      }
     },
     "bb658b00694d4aacb6891ae0ad9d20ff": {
      "model_module": "@jupyter-widgets/controls",
      "model_module_version": "2.0.0",
      "model_name": "SliderStyleModel",
      "state": {
       "_view_name": "ErrorWidgetView",
       "description_width": "",
       "error": {},
       "msg": "Failed to load model class 'SliderStyleModel' from module '@jupyter-widgets/controls'"
      }
     },
     "bbc90b0e8dfc44329d21805cff0d6c08": {
      "model_module": "@jupyter-widgets/controls",
      "model_module_version": "2.0.0",
      "model_name": "SliderStyleModel",
      "state": {
       "_view_name": "ErrorWidgetView",
       "description_width": "",
       "error": {},
       "msg": "Failed to load model class 'SliderStyleModel' from module '@jupyter-widgets/controls'"
      }
     },
     "bbd84080ad774c10a3d8dd80ed89185e": {
      "model_module": "@jupyter-widgets/controls",
      "model_module_version": "2.0.0",
      "model_name": "DropdownModel",
      "state": {
       "_options_labels": [
        "linear",
        "beamsample"
       ],
       "_view_name": "ErrorWidgetView",
       "description": "wci render",
       "error": {},
       "index": 0,
       "layout": "IPY_MODEL_386db2379bcd4463b160740dbe776578",
       "msg": "Failed to load model class 'DropdownModel' from module '@jupyter-widgets/controls'",
       "style": "IPY_MODEL_f7c844aa2c4a4d37904c0c744abdf1c3"
      }
     },
     "bbf68def98374594a6867e64b3536eeb": {
      "model_module": "@jupyter-widgets/controls",
      "model_module_version": "2.0.0",
      "model_name": "IntTextModel",
      "state": {
       "_view_name": "ErrorWidgetView",
       "description": "mp_cores:",
       "error": {},
       "layout": "IPY_MODEL_500e11b90f5044a3935b90adbb85b245",
       "msg": "Failed to load model class 'IntTextModel' from module '@jupyter-widgets/controls'",
       "step": 1,
       "style": "IPY_MODEL_a47d98611df8476c8b6687f03e6057a3",
       "value": 1
      }
     },
     "bc025d37ad9d461c9b93446b9c7d05ba": {
      "model_module": "@jupyter-widgets/base",
      "model_module_version": "2.0.0",
      "model_name": "LayoutModel",
      "state": {
       "width": "15%"
      }
     },
     "bc20e14c2d4944189f1a689885f2e84a": {
      "model_module": "@jupyter-widgets/controls",
      "model_module_version": "2.0.0",
      "model_name": "FloatSliderModel",
      "state": {
       "_view_name": "ErrorWidgetView",
       "description": "vmax",
       "error": {},
       "layout": "IPY_MODEL_e3e6ca73936a4e2e98ce658581f3f988",
       "min": -150,
       "msg": "Failed to load model class 'FloatSliderModel' from module '@jupyter-widgets/controls'",
       "step": 5,
       "style": "IPY_MODEL_68b7a7e10f1d4388ab65f9e1caf6f2dc",
       "value": -25
      }
     },
     "bc32809c65e74bad9278fe2b347c126d": {
      "model_module": "@jupyter-widgets/controls",
      "model_module_version": "2.0.0",
      "model_name": "ButtonStyleModel",
      "state": {
       "_view_name": "ErrorWidgetView",
       "error": {},
       "msg": "Failed to load model class 'ButtonStyleModel' from module '@jupyter-widgets/controls'"
      }
     },
     "bc77c3d900ee447d83ae85eec4fb0bb6": {
      "model_module": "@jupyter-widgets/controls",
      "model_module_version": "2.0.0",
      "model_name": "TextModel",
      "state": {
       "_view_name": "ErrorWidgetView",
       "error": {},
       "layout": "IPY_MODEL_24b3a115a46e432088d27343711cb5e7",
       "msg": "Failed to load model class 'TextModel' from module '@jupyter-widgets/controls'",
       "style": "IPY_MODEL_b96b97e0c8294f4c87fde86e246e37b1",
       "value": "17:09:42"
      }
     },
     "bcb9b4cbc5e64744bb650e7057bf5355": {
      "model_module": "@jupyter-widgets/controls",
      "model_module_version": "2.0.0",
      "model_name": "DescriptionStyleModel",
      "state": {
       "_view_name": "ErrorWidgetView",
       "description_width": "",
       "error": {},
       "msg": "Failed to load model class 'DescriptionStyleModel' from module '@jupyter-widgets/controls'"
      }
     },
     "bcc64ac22f0847a9afe8235873b9046c": {
      "model_module": "@jupyter-widgets/controls",
      "model_module_version": "2.0.0",
      "model_name": "CheckboxStyleModel",
      "state": {
       "description_width": ""
      }
     },
     "bceb040291fb42e999e2567d67823c76": {
      "model_module": "@jupyter-widgets/controls",
      "model_module_version": "2.0.0",
      "model_name": "HBoxModel",
      "state": {
       "_view_name": "ErrorWidgetView",
       "children": [
        "IPY_MODEL_220d5831fb6046bcb975788e3d88c523",
        "IPY_MODEL_9aab5a6dc87d4fc1a0e4873db33082bd",
        "IPY_MODEL_26d6a053ce9149edbd09986a5fe2b9e9",
        "IPY_MODEL_8b906f2007024df4a55483ffd57ebb73",
        "IPY_MODEL_9baaa2ce467a4cc1ae48293bdeaaef1f"
       ],
       "error": {},
       "layout": "IPY_MODEL_8084a35413604c1f9854ba2a234506a4",
       "msg": "Failed to load model class 'HBoxModel' from module '@jupyter-widgets/controls'"
      }
     },
     "bd3ad508ecae479b96c72cb786ea20f5": {
      "model_module": "@jupyter-widgets/base",
      "model_module_version": "2.0.0",
      "model_name": "LayoutModel",
      "state": {
       "_view_name": "ErrorWidgetView",
       "error": {},
       "msg": "Failed to load model class 'LayoutModel' from module '@jupyter-widgets/base'"
      }
     },
     "bd3ed859047349f6993405376abe25f0": {
      "model_module": "@jupyter-widgets/controls",
      "model_module_version": "2.0.0",
      "model_name": "ButtonStyleModel",
      "state": {
       "font_family": null,
       "font_size": null,
       "font_style": null,
       "font_variant": null,
       "font_weight": null,
       "text_color": null,
       "text_decoration": null
      }
     },
     "bd3f633966104455ba73d8f51b62fcdf": {
      "model_module": "@jupyter-widgets/controls",
      "model_module_version": "2.0.0",
      "model_name": "DescriptionStyleModel",
      "state": {
       "_view_name": "ErrorWidgetView",
       "description_width": "",
       "error": {},
       "msg": "Failed to load model class 'DescriptionStyleModel' from module '@jupyter-widgets/controls'"
      }
     },
     "bd5579869bff443184c967fe640dd036": {
      "model_module": "@jupyter-widgets/controls",
      "model_module_version": "2.0.0",
      "model_name": "DescriptionStyleModel",
      "state": {
       "_view_name": "ErrorWidgetView",
       "description_width": "",
       "error": {},
       "msg": "Failed to load model class 'DescriptionStyleModel' from module '@jupyter-widgets/controls'"
      }
     },
     "bd9a3cdce838456295ed5414e6728b77": {
      "model_module": "@jupyter-widgets/controls",
      "model_module_version": "2.0.0",
      "model_name": "SliderStyleModel",
      "state": {
       "_view_name": "ErrorWidgetView",
       "description_width": "",
       "error": {},
       "msg": "Failed to load model class 'SliderStyleModel' from module '@jupyter-widgets/controls'"
      }
     },
     "bdc5f80898e44d1897dd26225cacf680": {
      "model_module": "@jupyter-widgets/controls",
      "model_module_version": "2.0.0",
      "model_name": "IntSliderModel",
      "state": {
       "_view_name": "ErrorWidgetView",
       "description": "ping nr",
       "error": {},
       "layout": "IPY_MODEL_6e15bbd346fc46deb4a364127d1c4b8a",
       "max": 73,
       "msg": "Failed to load model class 'IntSliderModel' from module '@jupyter-widgets/controls'",
       "style": "IPY_MODEL_752bcccba16145c997555da7b0b742d2",
       "value": 60
      }
     },
     "bdcafe040f2f442994245711df6f5edf": {
      "model_module": "@jupyter-widgets/base",
      "model_module_version": "2.0.0",
      "model_name": "LayoutModel",
      "state": {
       "_view_name": "ErrorWidgetView",
       "error": {},
       "msg": "Failed to load model class 'LayoutModel' from module '@jupyter-widgets/base'"
      }
     },
     "bde5121adf204d70b778b5c86f7a13a7": {
      "model_module": "@jupyter-widgets/controls",
      "model_module_version": "2.0.0",
      "model_name": "DescriptionStyleModel",
      "state": {
       "_view_name": "ErrorWidgetView",
       "description_width": "",
       "error": {},
       "msg": "Failed to load model class 'DescriptionStyleModel' from module '@jupyter-widgets/controls'"
      }
     },
     "be30c70f94a94066a9a362e0f365d134": {
      "model_module": "@jupyter-widgets/controls",
      "model_module_version": "2.0.0",
      "model_name": "DescriptionStyleModel",
      "state": {
       "_view_name": "ErrorWidgetView",
       "description_width": "",
       "error": {},
       "msg": "Failed to load model class 'DescriptionStyleModel' from module '@jupyter-widgets/controls'"
      }
     },
     "be595f1b904d4d5383f6c1be4ac7e2f4": {
      "model_module": "@jupyter-widgets/controls",
      "model_module_version": "2.0.0",
      "model_name": "SliderStyleModel",
      "state": {
       "_view_name": "ErrorWidgetView",
       "description_width": "",
       "error": {},
       "msg": "Failed to load model class 'SliderStyleModel' from module '@jupyter-widgets/controls'"
      }
     },
     "bedf56206752474a93cdf5895a14a7ad": {
      "model_module": "@jupyter-widgets/controls",
      "model_module_version": "2.0.0",
      "model_name": "ProgressStyleModel",
      "state": {
       "_view_name": "ErrorWidgetView",
       "description_width": "",
       "error": {},
       "msg": "Failed to load model class 'ProgressStyleModel' from module '@jupyter-widgets/controls'"
      }
     },
     "befb6aa7d0104ad3b2f72bdafacc2f70": {
      "model_module": "@jupyter-widgets/base",
      "model_module_version": "2.0.0",
      "model_name": "LayoutModel",
      "state": {
       "width": "15%"
      }
     },
     "bf094a62328c444487baf58ce38720c4": {
      "model_module": "@jupyter-widgets/controls",
      "model_module_version": "2.0.0",
      "model_name": "HBoxModel",
      "state": {
       "children": [
        "IPY_MODEL_7ab986fcfb814fadb6dceab98b8edd1a",
        "IPY_MODEL_1702b872a74b4071b07a922f3ecc4f68",
        "IPY_MODEL_a8c50b8352ce4291a218ebb9098fefe8",
        "IPY_MODEL_873a43bfc6a3487190005806547d3cfa"
       ],
       "layout": "IPY_MODEL_caba85570a454437955a705a36650333"
      }
     },
     "bf1024c805394fff85dd68d73b771637": {
      "model_module": "@jupyter-widgets/controls",
      "model_module_version": "2.0.0",
      "model_name": "ButtonModel",
      "state": {
       "_view_name": "ErrorWidgetView",
       "button_style": "warning",
       "description": "fix x/y",
       "error": {},
       "layout": "IPY_MODEL_7fc0116fb8ed45819696c0cdddc52c12",
       "msg": "Failed to load model class 'ButtonModel' from module '@jupyter-widgets/controls'",
       "style": "IPY_MODEL_241e4eed16a04824bb85d96d99bac275"
      }
     },
     "bf16069d63204e5d82f3b88b2ad3187f": {
      "model_module": "@jupyter-widgets/base",
      "model_module_version": "2.0.0",
      "model_name": "LayoutModel",
      "state": {}
     },
     "bf265772595046fdb6cd44ca85c98eb9": {
      "model_module": "@jupyter-widgets/controls",
      "model_module_version": "2.0.0",
      "model_name": "DescriptionStyleModel",
      "state": {
       "_view_name": "ErrorWidgetView",
       "description_width": "",
       "error": {},
       "msg": "Failed to load model class 'DescriptionStyleModel' from module '@jupyter-widgets/controls'"
      }
     },
     "bf91aa38b04843ffb007e685c3bfd048": {
      "model_module": "@jupyter-widgets/controls",
      "model_module_version": "2.0.0",
      "model_name": "DropdownModel",
      "state": {
       "_options_labels": [
        "sv/av/pv/rv",
        "sv/av/pv",
        "sv/av",
        "sp/ap/pp/rp",
        "sp/ap/pp",
        "sp/ap",
        "power/amp",
        "av",
        "ap",
        "amp",
        "sv",
        "sp",
        "pv",
        "pp",
        "rv",
        "rp",
        "power"
       ],
       "_view_name": "ErrorWidgetView",
       "description": "wci value",
       "error": {},
       "index": 0,
       "layout": "IPY_MODEL_1257c6267a7b4773be30ab09169cd7ec",
       "msg": "Failed to load model class 'DropdownModel' from module '@jupyter-widgets/controls'",
       "style": "IPY_MODEL_8d173bfa05354681846e2d8298a97da3"
      }
     },
     "bfb64eca42ab40ef9c4b3188395be4aa": {
      "model_module": "@jupyter-widgets/controls",
      "model_module_version": "2.0.0",
      "model_name": "HBoxModel",
      "state": {
       "_view_name": "ErrorWidgetView",
       "children": [
        "IPY_MODEL_7a2e4c877aea482c9fbdc1f94375f700",
        "IPY_MODEL_cacabb93c1f2427c854d597b05a653df",
        "IPY_MODEL_4d2b26dc307b4f7a84038d3dee6eebdd",
        "IPY_MODEL_b353c21bc4e44ea8991fde7e18486c62"
       ],
       "error": {},
       "layout": "IPY_MODEL_ba49686a4f4044de843efd79def01820",
       "msg": "Failed to load model class 'HBoxModel' from module '@jupyter-widgets/controls'"
      }
     },
     "bfc208451fdf40d7ad3100e8dc9a227a": {
      "model_module": "@jupyter-widgets/controls",
      "model_module_version": "2.0.0",
      "model_name": "DescriptionStyleModel",
      "state": {
       "_view_name": "ErrorWidgetView",
       "description_width": "",
       "error": {},
       "msg": "Failed to load model class 'DescriptionStyleModel' from module '@jupyter-widgets/controls'"
      }
     },
     "bfc481e26fea4819a11418ca2af8c1c8": {
      "model_module": "@jupyter-widgets/controls",
      "model_module_version": "2.0.0",
      "model_name": "SliderStyleModel",
      "state": {
       "description_width": ""
      }
     },
     "bff19b39d9b8482591ac68ef65aa8957": {
      "model_module": "@jupyter-widgets/base",
      "model_module_version": "2.0.0",
      "model_name": "LayoutModel",
      "state": {
       "_view_name": "ErrorWidgetView",
       "error": {},
       "msg": "Failed to load model class 'LayoutModel' from module '@jupyter-widgets/base'"
      }
     },
     "c074b13dc5384fa5ae4260578050ec83": {
      "model_module": "@jupyter-widgets/controls",
      "model_module_version": "2.0.0",
      "model_name": "HBoxModel",
      "state": {
       "_view_name": "ErrorWidgetView",
       "children": [
        "IPY_MODEL_432cae0b9f8a491897660d7ccb9e65fb",
        "IPY_MODEL_ec03100c787947e8a395e25158cab73a",
        "IPY_MODEL_f8fd5d5c6b7c49b3ad093ed6e554a105",
        "IPY_MODEL_29d821bcbb92429a91c04204d4c2e7ad"
       ],
       "error": {},
       "layout": "IPY_MODEL_52c1db9434e54aa396e37f2659a005f1",
       "msg": "Failed to load model class 'HBoxModel' from module '@jupyter-widgets/controls'"
      }
     },
     "c0aec978248d4871a84db01ddb10c3b3": {
      "model_module": "@jupyter-widgets/controls",
      "model_module_version": "2.0.0",
      "model_name": "SliderStyleModel",
      "state": {
       "_view_name": "ErrorWidgetView",
       "description_width": "",
       "error": {},
       "msg": "Failed to load model class 'SliderStyleModel' from module '@jupyter-widgets/controls'"
      }
     },
     "c11243e288e146cca3107960c438b5e8": {
      "model_module": "@jupyter-widgets/base",
      "model_module_version": "2.0.0",
      "model_name": "LayoutModel",
      "state": {
       "_view_name": "ErrorWidgetView",
       "error": {},
       "msg": "Failed to load model class 'LayoutModel' from module '@jupyter-widgets/base'"
      }
     },
     "c1143627de1c476ab2692e2f613a42ae": {
      "model_module": "@jupyter-widgets/controls",
      "model_module_version": "2.0.0",
      "model_name": "DropdownModel",
      "state": {
       "_options_labels": [
        "auto",
        "equal"
       ],
       "_view_name": "ErrorWidgetView",
       "description": "aspect",
       "error": {},
       "index": 1,
       "layout": "IPY_MODEL_6c8e1c43194447d6b5d9538cfdad89c5",
       "msg": "Failed to load model class 'DropdownModel' from module '@jupyter-widgets/controls'",
       "style": "IPY_MODEL_6371505814a6419fb5c5cf0c50b4e550"
      }
     },
     "c1433960793e4ada93dde3c9c187bfc6": {
      "model_module": "@jupyter-widgets/base",
      "model_module_version": "2.0.0",
      "model_name": "LayoutModel",
      "state": {
       "_view_name": "ErrorWidgetView",
       "error": {},
       "msg": "Failed to load model class 'LayoutModel' from module '@jupyter-widgets/base'"
      }
     },
     "c1869bb1e8d54cc59c9118cc67417933": {
      "model_module": "@jupyter-widgets/base",
      "model_module_version": "2.0.0",
      "model_name": "LayoutModel",
      "state": {
       "_view_name": "ErrorWidgetView",
       "error": {},
       "msg": "Failed to load model class 'LayoutModel' from module '@jupyter-widgets/base'"
      }
     },
     "c1ac2f35ea1644fea38922fac22cb976": {
      "model_module": "@jupyter-widgets/base",
      "model_module_version": "2.0.0",
      "model_name": "LayoutModel",
      "state": {
       "_view_name": "ErrorWidgetView",
       "error": {},
       "msg": "Failed to load model class 'LayoutModel' from module '@jupyter-widgets/base'",
       "width": "50%"
      }
     },
     "c25019daa1cf4ca3b014c54ccc398891": {
      "model_module": "@jupyter-widgets/base",
      "model_module_version": "2.0.0",
      "model_name": "LayoutModel",
      "state": {
       "_view_name": "ErrorWidgetView",
       "error": {},
       "msg": "Failed to load model class 'LayoutModel' from module '@jupyter-widgets/base'"
      }
     },
     "c2607998ebbe43ec9f2bd948a52fcb79": {
      "model_module": "@jupyter-widgets/controls",
      "model_module_version": "2.0.0",
      "model_name": "DropdownModel",
      "state": {
       "_options_labels": [
        "sv/av/pv/rv",
        "sv/av/pv",
        "sv/av",
        "sp/ap/pp/rp",
        "sp/ap/pp",
        "sp/ap",
        "power/amp",
        "av",
        "ap",
        "amp",
        "sv",
        "sp",
        "pv",
        "pp",
        "rv",
        "rp",
        "power"
       ],
       "_view_name": "ErrorWidgetView",
       "description": "wci value",
       "error": {},
       "index": 0,
       "layout": "IPY_MODEL_850c85545e2948d59049ca4c8ea73b55",
       "msg": "Failed to load model class 'DropdownModel' from module '@jupyter-widgets/controls'",
       "style": "IPY_MODEL_dc2c37dcfef24f68a7e9377474bb9c36"
      }
     },
     "c2689efc9bda49348dfcbb29d1e81196": {
      "model_module": "@jupyter-widgets/base",
      "model_module_version": "2.0.0",
      "model_name": "LayoutModel",
      "state": {
       "_view_name": "ErrorWidgetView",
       "error": {},
       "msg": "Failed to load model class 'LayoutModel' from module '@jupyter-widgets/base'"
      }
     },
     "c279ac223e9b4f9286b7bc6a1212e769": {
      "model_module": "@jupyter-widgets/controls",
      "model_module_version": "2.0.0",
      "model_name": "IntTextModel",
      "state": {
       "_view_name": "ErrorWidgetView",
       "description": "stack step:",
       "error": {},
       "layout": "IPY_MODEL_467ec68cbe90430d89389cab3d401b7b",
       "msg": "Failed to load model class 'IntTextModel' from module '@jupyter-widgets/controls'",
       "step": 1,
       "style": "IPY_MODEL_d8a55f029bc84e3e8e22e2387ce61afd",
       "value": 1
      }
     },
     "c2e9004f1d1e48f19f4b4bd1f367ac01": {
      "model_module": "@jupyter-widgets/base",
      "model_module_version": "2.0.0",
      "model_name": "LayoutModel",
      "state": {
       "_view_name": "ErrorWidgetView",
       "error": {},
       "msg": "Failed to load model class 'LayoutModel' from module '@jupyter-widgets/base'"
      }
     },
     "c37f4229f0d24c1290aa88a155b8a8f2": {
      "model_module": "@jupyter-widgets/controls",
      "model_module_version": "2.0.0",
      "model_name": "HTMLModel",
      "state": {
       "layout": "IPY_MODEL_8980eb154c47464e937e066b0178fe26",
       "style": "IPY_MODEL_26314be0585d46c3b25aa6962f6e97de",
       "value": "removing duplicates: 100%"
      }
     },
     "c3d9d73f7cdd4395877b79cc2b45f4f2": {
      "model_module": "@jupyter-widgets/controls",
      "model_module_version": "2.0.0",
      "model_name": "IntTextModel",
      "state": {
       "_view_name": "ErrorWidgetView",
       "description": "stack:",
       "error": {},
       "layout": "IPY_MODEL_8f17844a825d44bf97ec5958bf64e78f",
       "msg": "Failed to load model class 'IntTextModel' from module '@jupyter-widgets/controls'",
       "step": 1,
       "style": "IPY_MODEL_e7bc2eef71c344c7a7c0e38938a01fcf",
       "value": 1
      }
     },
     "c454570a22324e258e561ef7d030589a": {
      "model_module": "@jupyter-widgets/controls",
      "model_module_version": "2.0.0",
      "model_name": "HBoxModel",
      "state": {
       "_view_name": "ErrorWidgetView",
       "children": [
        "IPY_MODEL_3ad58cba6ce84a1299c9a027c5bccb99",
        "IPY_MODEL_ff5b26eb7e574e0e9ce094e81c2bc3fa",
        "IPY_MODEL_bbd84080ad774c10a3d8dd80ed89185e",
        "IPY_MODEL_528f85e2321e474c9833606730289f3b"
       ],
       "error": {},
       "layout": "IPY_MODEL_cd36dc2cd883458dad7a52ed8861a138",
       "msg": "Failed to load model class 'HBoxModel' from module '@jupyter-widgets/controls'"
      }
     },
     "c461b6b19aa4402e919e9a771e22324e": {
      "model_module": "@jupyter-widgets/controls",
      "model_module_version": "2.0.0",
      "model_name": "DescriptionStyleModel",
      "state": {
       "_view_name": "ErrorWidgetView",
       "description_width": "",
       "error": {},
       "msg": "Failed to load model class 'DescriptionStyleModel' from module '@jupyter-widgets/controls'"
      }
     },
     "c47ef57f19174975a5506c9b13ff8bb2": {
      "model_module": "@jupyter-widgets/controls",
      "model_module_version": "2.0.0",
      "model_name": "ProgressStyleModel",
      "state": {
       "_view_name": "ErrorWidgetView",
       "description_width": "",
       "error": {},
       "msg": "Failed to load model class 'ProgressStyleModel' from module '@jupyter-widgets/controls'"
      }
     },
     "c4eb9db05b814fdeb6f7620874f05da7": {
      "model_module": "@jupyter-widgets/controls",
      "model_module_version": "2.0.0",
      "model_name": "DescriptionStyleModel",
      "state": {
       "_view_name": "ErrorWidgetView",
       "description_width": "",
       "error": {},
       "msg": "Failed to load model class 'DescriptionStyleModel' from module '@jupyter-widgets/controls'"
      }
     },
     "c4f6ad14203f458aa9449ca3afeeec1b": {
      "model_module": "@jupyter-widgets/base",
      "model_module_version": "2.0.0",
      "model_name": "LayoutModel",
      "state": {
       "_view_name": "ErrorWidgetView",
       "error": {},
       "msg": "Failed to load model class 'LayoutModel' from module '@jupyter-widgets/base'"
      }
     },
     "c560b6e1159445d499e72cfd438192e3": {
      "model_module": "@jupyter-widgets/controls",
      "model_module_version": "2.0.0",
      "model_name": "SliderStyleModel",
      "state": {
       "_view_name": "ErrorWidgetView",
       "description_width": "",
       "error": {},
       "msg": "Failed to load model class 'SliderStyleModel' from module '@jupyter-widgets/controls'"
      }
     },
     "c5a1efbc322841468ec9f1c4c240ec18": {
      "model_module": "@jupyter-widgets/base",
      "model_module_version": "2.0.0",
      "model_name": "LayoutModel",
      "state": {
       "_view_name": "ErrorWidgetView",
       "error": {},
       "msg": "Failed to load model class 'LayoutModel' from module '@jupyter-widgets/base'"
      }
     },
     "c5e5d53280ae4eb9ae8b3a93aea43c4e": {
      "model_module": "@jupyter-widgets/controls",
      "model_module_version": "2.0.0",
      "model_name": "IntSliderModel",
      "state": {
       "behavior": "drag-tap",
       "description": "horizontal pixels",
       "layout": "IPY_MODEL_dcb7a82a1fe84916b2e562b35dd3c86f",
       "max": 2048,
       "min": 2,
       "style": "IPY_MODEL_08010cd298e84a7180259dd48c543615",
       "value": 1024
      }
     },
     "c5e60b536e7841ea958fc16ae203faac": {
      "model_module": "@jupyter-widgets/base",
      "model_module_version": "2.0.0",
      "model_name": "LayoutModel",
      "state": {
       "_view_name": "ErrorWidgetView",
       "error": {},
       "msg": "Failed to load model class 'LayoutModel' from module '@jupyter-widgets/base'",
       "width": "10%"
      }
     },
     "c62adbdedd004fd58452ad1ff289096d": {
      "model_module": "@jupyter-widgets/base",
      "model_module_version": "2.0.0",
      "model_name": "LayoutModel",
      "state": {
       "_view_name": "ErrorWidgetView",
       "error": {},
       "msg": "Failed to load model class 'LayoutModel' from module '@jupyter-widgets/base'"
      }
     },
     "c642c685c7554664a6369d7e819ceaab": {
      "model_module": "@jupyter-widgets/controls",
      "model_module_version": "2.0.0",
      "model_name": "DescriptionStyleModel",
      "state": {
       "_view_name": "ErrorWidgetView",
       "description_width": "",
       "error": {},
       "msg": "Failed to load model class 'DescriptionStyleModel' from module '@jupyter-widgets/controls'"
      }
     },
     "c66967d398bb4d17aecc41ee49e8b8f1": {
      "model_module": "@jupyter-widgets/controls",
      "model_module_version": "2.0.0",
      "model_name": "DescriptionStyleModel",
      "state": {
       "_view_name": "ErrorWidgetView",
       "description_width": "",
       "error": {},
       "msg": "Failed to load model class 'DescriptionStyleModel' from module '@jupyter-widgets/controls'"
      }
     },
     "c6758e62fe994336a6b9908645e7dc00": {
      "model_module": "@jupyter-widgets/controls",
      "model_module_version": "2.0.0",
      "model_name": "HBoxModel",
      "state": {
       "_view_name": "ErrorWidgetView",
       "children": [
        "IPY_MODEL_e6658a5c75164eae9ffc9ae0d6cf2f20",
        "IPY_MODEL_6adc6826c1bc4c3cb55f29ff3798b668",
        "IPY_MODEL_304961ddf53643ac97c7fd57f56df96d",
        "IPY_MODEL_69f93dbabc744397956b5b266b8ca623",
        "IPY_MODEL_7d430814c1a94d4590fc4b1ff53a823b",
        "IPY_MODEL_7f9964913a4e4dc680545fa2a531a2f0"
       ],
       "error": {},
       "layout": "IPY_MODEL_8459add5a1054531a43fbc38ca0677b3",
       "msg": "Failed to load model class 'HBoxModel' from module '@jupyter-widgets/controls'"
      }
     },
     "c67b420ee9504d7ab2de629e580c38e2": {
      "model_module": "@jupyter-widgets/controls",
      "model_module_version": "2.0.0",
      "model_name": "IntTextModel",
      "state": {
       "_view_name": "ErrorWidgetView",
       "description": "mp_cores:",
       "error": {},
       "layout": "IPY_MODEL_f2a93bdfa1ad4f6cb30554c3386ca5a9",
       "msg": "Failed to load model class 'IntTextModel' from module '@jupyter-widgets/controls'",
       "step": 1,
       "style": "IPY_MODEL_ace5a3662a9848269fc6042c587c2f67",
       "value": 1
      }
     },
     "c6a9ac078ed74bf3b93e0a55e166f67a": {
      "model_module": "@jupyter-widgets/base",
      "model_module_version": "2.0.0",
      "model_name": "LayoutModel",
      "state": {
       "_view_name": "ErrorWidgetView",
       "error": {},
       "msg": "Failed to load model class 'LayoutModel' from module '@jupyter-widgets/base'"
      }
     },
     "c6baa6b990b14e8a969296d3480e1c4b": {
      "model_module": "@jupyter-widgets/base",
      "model_module_version": "2.0.0",
      "model_name": "LayoutModel",
      "state": {
       "_view_name": "ErrorWidgetView",
       "error": {},
       "msg": "Failed to load model class 'LayoutModel' from module '@jupyter-widgets/base'"
      }
     },
     "c705939cf8eb416595363ecc40fc8032": {
      "model_module": "@jupyter-widgets/controls",
      "model_module_version": "2.0.0",
      "model_name": "ButtonModel",
      "state": {
       "_view_name": "ErrorWidgetView",
       "description": "unfix x/y",
       "error": {},
       "layout": "IPY_MODEL_15d0b5aacc4b4ba78a75ae88c57243ef",
       "msg": "Failed to load model class 'ButtonModel' from module '@jupyter-widgets/controls'",
       "style": "IPY_MODEL_f99d0a003f854eff8bdbcb0d3b842757"
      }
     },
     "c79d2794bbfe4017b66c93e0118a40fd": {
      "model_module": "@jupyter-widgets/controls",
      "model_module_version": "2.0.0",
      "model_name": "DropdownModel",
      "state": {
       "_options_labels": [
        "antialiased",
        "none",
        "nearest",
        "bilinear",
        "bicubic",
        "spline16",
        "spline36",
        "hanning",
        "hamming",
        "hermite",
        "kaiser",
        "quadric",
        "catrom",
        "gaussian",
        "bessel",
        "mitchell",
        "sinc",
        "lanczos",
        "blackman"
       ],
       "_view_name": "ErrorWidgetView",
       "description": "interpolation",
       "error": {},
       "index": 2,
       "layout": "IPY_MODEL_ed3ff19ce12946049d436c2c399d1a16",
       "msg": "Failed to load model class 'DropdownModel' from module '@jupyter-widgets/controls'",
       "style": "IPY_MODEL_c461b6b19aa4402e919e9a771e22324e"
      }
     },
     "c7aaf2a1b930472c81c08dbb9ba3a504": {
      "model_module": "@jupyter-widgets/controls",
      "model_module_version": "2.0.0",
      "model_name": "DescriptionStyleModel",
      "state": {
       "_view_name": "ErrorWidgetView",
       "description_width": "",
       "error": {},
       "msg": "Failed to load model class 'DescriptionStyleModel' from module '@jupyter-widgets/controls'"
      }
     },
     "c7ba871ff1554d71915e107baea6b043": {
      "model_module": "@jupyter-widgets/base",
      "model_module_version": "2.0.0",
      "model_name": "LayoutModel",
      "state": {
       "_view_name": "ErrorWidgetView",
       "error": {},
       "msg": "Failed to load model class 'LayoutModel' from module '@jupyter-widgets/base'",
       "width": "10%"
      }
     },
     "c7d8a6b1e15d457291f69f50d876a185": {
      "model_module": "@jupyter-widgets/controls",
      "model_module_version": "2.0.0",
      "model_name": "DescriptionStyleModel",
      "state": {
       "_view_name": "ErrorWidgetView",
       "description_width": "",
       "error": {},
       "msg": "Failed to load model class 'DescriptionStyleModel' from module '@jupyter-widgets/controls'"
      }
     },
     "c7ec24ba907747118aa264221ce628d0": {
      "model_module": "@jupyter-widgets/base",
      "model_module_version": "2.0.0",
      "model_name": "LayoutModel",
      "state": {
       "_view_name": "ErrorWidgetView",
       "error": {},
       "msg": "Failed to load model class 'LayoutModel' from module '@jupyter-widgets/base'"
      }
     },
     "c7fe29af86634b168cac2ee156b520af": {
      "model_module": "@jupyter-widgets/controls",
      "model_module_version": "2.0.0",
      "model_name": "TextModel",
      "state": {
       "_view_name": "ErrorWidgetView",
       "error": {},
       "layout": "IPY_MODEL_59f4fdaf8a9b46a68e0b12c93da7b36d",
       "msg": "Failed to load model class 'TextModel' from module '@jupyter-widgets/controls'",
       "style": "IPY_MODEL_afdd090bcf5d4c0088ac624196cb3d0a",
       "value": "17:09:42"
      }
     },
     "c829eb3ad1c84b04a831d3befa24dfd6": {
      "model_module": "@jupyter-widgets/controls",
      "model_module_version": "2.0.0",
      "model_name": "DescriptionStyleModel",
      "state": {
       "_view_name": "ErrorWidgetView",
       "description_width": "",
       "error": {},
       "msg": "Failed to load model class 'DescriptionStyleModel' from module '@jupyter-widgets/controls'"
      }
     },
     "c867f6466f2140b6b713e1ba7c7790a1": {
      "model_module": "@jupyter-widgets/controls",
      "model_module_version": "2.0.0",
      "model_name": "FloatSliderModel",
      "state": {
       "_view_name": "ErrorWidgetView",
       "description": "vmin",
       "error": {},
       "layout": "IPY_MODEL_5619b8737d384e48a911d7e4e7e95302",
       "min": -150,
       "msg": "Failed to load model class 'FloatSliderModel' from module '@jupyter-widgets/controls'",
       "step": 5,
       "style": "IPY_MODEL_934719c7eaf843ab9203e8ffe415709f",
       "value": -90
      }
     },
     "c88febd6a58c451ebf8ab1ea1b6ced26": {
      "model_module": "@jupyter-widgets/base",
      "model_module_version": "2.0.0",
      "model_name": "LayoutModel",
      "state": {
       "_view_name": "ErrorWidgetView",
       "error": {},
       "msg": "Failed to load model class 'LayoutModel' from module '@jupyter-widgets/base'"
      }
     },
     "c8f5950e235a4211937a38552699071c": {
      "model_module": "@jupyter-widgets/controls",
      "model_module_version": "2.0.0",
      "model_name": "DropdownModel",
      "state": {
       "_options_labels": [
        "antialiased",
        "none",
        "nearest",
        "bilinear",
        "bicubic",
        "spline16",
        "spline36",
        "hanning",
        "hamming",
        "hermite",
        "kaiser",
        "quadric",
        "catrom",
        "gaussian",
        "bessel",
        "mitchell",
        "sinc",
        "lanczos",
        "blackman"
       ],
       "_view_name": "ErrorWidgetView",
       "description": "interpolation",
       "error": {},
       "index": 2,
       "layout": "IPY_MODEL_6745250002d64f4dbce065fa2ad2e4d5",
       "msg": "Failed to load model class 'DropdownModel' from module '@jupyter-widgets/controls'",
       "style": "IPY_MODEL_0b1fcfbe62c04a239829f7b8ec3b600a"
      }
     },
     "c92b86ccdf9f42ef95d916a44c531d86": {
      "model_module": "@jupyter-widgets/controls",
      "model_module_version": "2.0.0",
      "model_name": "DescriptionStyleModel",
      "state": {
       "_view_name": "ErrorWidgetView",
       "description_width": "",
       "error": {},
       "msg": "Failed to load model class 'DescriptionStyleModel' from module '@jupyter-widgets/controls'"
      }
     },
     "c93a8d1f0abf4a37a2bc6f2eb1ac3e0c": {
      "model_module": "@jupyter-widgets/base",
      "model_module_version": "2.0.0",
      "model_name": "LayoutModel",
      "state": {
       "_view_name": "ErrorWidgetView",
       "error": {},
       "msg": "Failed to load model class 'LayoutModel' from module '@jupyter-widgets/base'",
       "width": "50%"
      }
     },
     "c9ad02576ed14a8bb682f35e0df21585": {
      "model_module": "@jupyter-widgets/controls",
      "model_module_version": "2.0.0",
      "model_name": "SliderStyleModel",
      "state": {
       "_view_name": "ErrorWidgetView",
       "description_width": "",
       "error": {},
       "msg": "Failed to load model class 'SliderStyleModel' from module '@jupyter-widgets/controls'"
      }
     },
     "c9d737a4dc564b00998e43bc39da22dc": {
      "model_module": "@jupyter-widgets/controls",
      "model_module_version": "2.0.0",
      "model_name": "ButtonStyleModel",
      "state": {
       "_view_name": "ErrorWidgetView",
       "error": {},
       "msg": "Failed to load model class 'ButtonStyleModel' from module '@jupyter-widgets/controls'"
      }
     },
     "ca70506873c34c378ab8751ad1ffe98f": {
      "model_module": "@jupyter-widgets/controls",
      "model_module_version": "2.0.0",
      "model_name": "DropdownModel",
      "state": {
       "_options_labels": [
        "antialiased",
        "none",
        "nearest",
        "bilinear",
        "bicubic",
        "spline16",
        "spline36",
        "hanning",
        "hamming",
        "hermite",
        "kaiser",
        "quadric",
        "catrom",
        "gaussian",
        "bessel",
        "mitchell",
        "sinc",
        "lanczos",
        "blackman"
       ],
       "_view_name": "ErrorWidgetView",
       "description": "interpolation",
       "error": {},
       "index": 2,
       "layout": "IPY_MODEL_702e4696f76045fc8ce61c580f0075d3",
       "msg": "Failed to load model class 'DropdownModel' from module '@jupyter-widgets/controls'",
       "style": "IPY_MODEL_d396bd5ee0944f6ca0c892a575265bd6"
      }
     },
     "ca8b94de865043b987162d75188ddda5": {
      "model_module": "@jupyter-widgets/controls",
      "model_module_version": "2.0.0",
      "model_name": "IntSliderModel",
      "state": {
       "_view_name": "ErrorWidgetView",
       "description": "horizontal pixels",
       "error": {},
       "layout": "IPY_MODEL_5093efb7531946fb9dbd5cc9a48fabc1",
       "max": 2048,
       "min": 2,
       "msg": "Failed to load model class 'IntSliderModel' from module '@jupyter-widgets/controls'",
       "style": "IPY_MODEL_07130a89f86c45d6bce2fe606c46072b",
       "value": 1024
      }
     },
     "caac3aa6470b4ff5a42cc10bb51dce12": {
      "model_module": "@jupyter-widgets/base",
      "model_module_version": "2.0.0",
      "model_name": "LayoutModel",
      "state": {
       "_view_name": "ErrorWidgetView",
       "error": {},
       "msg": "Failed to load model class 'LayoutModel' from module '@jupyter-widgets/base'",
       "width": "10%"
      }
     },
     "cab2a51bbcc747dfa73d9fb1035e0dfb": {
      "model_module": "@jupyter-widgets/controls",
      "model_module_version": "2.0.0",
      "model_name": "IntSliderModel",
      "state": {
       "_view_name": "ErrorWidgetView",
       "description": "ping nr",
       "error": {},
       "layout": "IPY_MODEL_dac6c520d8c140b98b9e7317ee3862cd",
       "max": 73,
       "msg": "Failed to load model class 'IntSliderModel' from module '@jupyter-widgets/controls'",
       "style": "IPY_MODEL_c0aec978248d4871a84db01ddb10c3b3"
      }
     },
     "caba85570a454437955a705a36650333": {
      "model_module": "@jupyter-widgets/base",
      "model_module_version": "2.0.0",
      "model_name": "LayoutModel",
      "state": {}
     },
     "cacabb93c1f2427c854d597b05a653df": {
      "model_module": "@jupyter-widgets/controls",
      "model_module_version": "2.0.0",
      "model_name": "DropdownModel",
      "state": {
       "_options_labels": [
        "sv/av/pv/rv",
        "sv/av/pv",
        "sv/av",
        "sp/ap/pp/rp",
        "sp/ap/pp",
        "sp/ap",
        "power/amp",
        "av",
        "ap",
        "amp",
        "sv",
        "sp",
        "pv",
        "pp",
        "rv",
        "rp",
        "power"
       ],
       "_view_name": "ErrorWidgetView",
       "description": "wci value",
       "error": {},
       "index": 0,
       "layout": "IPY_MODEL_7e14865fe99445ed80f1627944608d07",
       "msg": "Failed to load model class 'DropdownModel' from module '@jupyter-widgets/controls'",
       "style": "IPY_MODEL_0aa0513303b0409cb1ec47c67686a195"
      }
     },
     "cae871b81bde49e3a68b30f83b44e842": {
      "model_module": "@jupyter-widgets/base",
      "model_module_version": "2.0.0",
      "model_name": "LayoutModel",
      "state": {
       "_view_name": "ErrorWidgetView",
       "error": {},
       "msg": "Failed to load model class 'LayoutModel' from module '@jupyter-widgets/base'"
      }
     },
     "cae8e073d1cf4060ba13bd59b07ccaf3": {
      "model_module": "@jupyter-widgets/controls",
      "model_module_version": "2.0.0",
      "model_name": "SliderStyleModel",
      "state": {
       "_view_name": "ErrorWidgetView",
       "description_width": "",
       "error": {},
       "msg": "Failed to load model class 'SliderStyleModel' from module '@jupyter-widgets/controls'"
      }
     },
     "cb5eeae62971493d82e6464d421eaaf9": {
      "model_module": "@jupyter-widgets/controls",
      "model_module_version": "2.0.0",
      "model_name": "TextModel",
      "state": {
       "_view_name": "ErrorWidgetView",
       "error": {},
       "layout": "IPY_MODEL_2e74109378474e98bb6639ecf963801c",
       "msg": "Failed to load model class 'TextModel' from module '@jupyter-widgets/controls'",
       "style": "IPY_MODEL_7e0abcd8d6f746b8adc371635aebe227",
       "value": "17:37:53"
      }
     },
     "cbd35d305a8248e5ae95ff133262ac11": {
      "model_module": "@jupyter-widgets/base",
      "model_module_version": "2.0.0",
      "model_name": "LayoutModel",
      "state": {
       "_view_name": "ErrorWidgetView",
       "error": {},
       "msg": "Failed to load model class 'LayoutModel' from module '@jupyter-widgets/base'",
       "width": "15%"
      }
     },
     "cbdd4c4ffa7744778756f4710b7f1b03": {
      "model_module": "@jupyter-widgets/base",
      "model_module_version": "2.0.0",
      "model_name": "LayoutModel",
      "state": {
       "_view_name": "ErrorWidgetView",
       "error": {},
       "msg": "Failed to load model class 'LayoutModel' from module '@jupyter-widgets/base'",
       "width": "50%"
      }
     },
     "cc05631200564fedaf791b93ac0a5767": {
      "model_module": "@jupyter-widgets/base",
      "model_module_version": "2.0.0",
      "model_name": "LayoutModel",
      "state": {
       "_view_name": "ErrorWidgetView",
       "error": {},
       "msg": "Failed to load model class 'LayoutModel' from module '@jupyter-widgets/base'"
      }
     },
     "cc2fe9eccb594b21ac5471442159a9a7": {
      "model_module": "@jupyter-widgets/controls",
      "model_module_version": "2.0.0",
      "model_name": "IntTextModel",
      "state": {
       "_view_name": "ErrorWidgetView",
       "description": "stack step:",
       "error": {},
       "layout": "IPY_MODEL_9a7072b9304a40438556b4e5ca71f71c",
       "msg": "Failed to load model class 'IntTextModel' from module '@jupyter-widgets/controls'",
       "step": 1,
       "style": "IPY_MODEL_728e6f4520cb43c5a05b965f84e132a9",
       "value": 1
      }
     },
     "cc9c7fca13154ac8a5d3badb72e5261f": {
      "model_module": "@jupyter-widgets/base",
      "model_module_version": "2.0.0",
      "model_name": "LayoutModel",
      "state": {
       "_view_name": "ErrorWidgetView",
       "error": {},
       "msg": "Failed to load model class 'LayoutModel' from module '@jupyter-widgets/base'"
      }
     },
     "cce1f40c7246470dbe03697e9af7d6b8": {
      "model_module": "@jupyter-widgets/controls",
      "model_module_version": "2.0.0",
      "model_name": "HBoxModel",
      "state": {
       "_view_name": "ErrorWidgetView",
       "children": [
        "IPY_MODEL_c867f6466f2140b6b713e1ba7c7790a1",
        "IPY_MODEL_d5cfbd487684490bab266d6102ea81c4",
        "IPY_MODEL_30903aa480f4423a85d1bef229f453da",
        "IPY_MODEL_12caea445ea54528b6586364a8e88d4f"
       ],
       "error": {},
       "layout": "IPY_MODEL_1e1b13fc37404c7395a27e73dd71aaee",
       "msg": "Failed to load model class 'HBoxModel' from module '@jupyter-widgets/controls'"
      }
     },
     "ccf13c835319448f87babf8ea72aac50": {
      "model_module": "@jupyter-widgets/controls",
      "model_module_version": "2.0.0",
      "model_name": "DescriptionStyleModel",
      "state": {
       "_view_name": "ErrorWidgetView",
       "description_width": "",
       "error": {},
       "msg": "Failed to load model class 'DescriptionStyleModel' from module '@jupyter-widgets/controls'"
      }
     },
     "ccf885801032437cb4e21f81fea580d6": {
      "model_module": "@jupyter-widgets/base",
      "model_module_version": "2.0.0",
      "model_name": "LayoutModel",
      "state": {
       "_view_name": "ErrorWidgetView",
       "error": {},
       "msg": "Failed to load model class 'LayoutModel' from module '@jupyter-widgets/base'"
      }
     },
     "cd36dc2cd883458dad7a52ed8861a138": {
      "model_module": "@jupyter-widgets/base",
      "model_module_version": "2.0.0",
      "model_name": "LayoutModel",
      "state": {
       "_view_name": "ErrorWidgetView",
       "error": {},
       "msg": "Failed to load model class 'LayoutModel' from module '@jupyter-widgets/base'"
      }
     },
     "cd533429162a435789376b7a3099e34d": {
      "model_module": "@jupyter-widgets/controls",
      "model_module_version": "2.0.0",
      "model_name": "ProgressStyleModel",
      "state": {
       "_view_name": "ErrorWidgetView",
       "description_width": "",
       "error": {},
       "msg": "Failed to load model class 'ProgressStyleModel' from module '@jupyter-widgets/controls'"
      }
     },
     "cd6405991de44a7b86158dd41cfed32f": {
      "model_module": "@jupyter-widgets/controls",
      "model_module_version": "2.0.0",
      "model_name": "FloatSliderModel",
      "state": {
       "_view_name": "ErrorWidgetView",
       "description": "vmin",
       "error": {},
       "layout": "IPY_MODEL_7f6dd2dc5bf24aada4709e4fac910fa4",
       "min": -150,
       "msg": "Failed to load model class 'FloatSliderModel' from module '@jupyter-widgets/controls'",
       "step": 5,
       "style": "IPY_MODEL_ec0cc9954726494eae9b584723a3b385",
       "value": -90
      }
     },
     "cde7fb0a9ab745558d317db5bfc3849e": {
      "model_module": "@jupyter-widgets/controls",
      "model_module_version": "2.0.0",
      "model_name": "ButtonModel",
      "state": {
       "_view_name": "ErrorWidgetView",
       "button_style": "warning",
       "description": "fix x/y",
       "error": {},
       "layout": "IPY_MODEL_a5d68eec20c04b538d2524fb8b107796",
       "msg": "Failed to load model class 'ButtonModel' from module '@jupyter-widgets/controls'",
       "style": "IPY_MODEL_5580c447157241c5ae4b31fd53e0bfd7"
      }
     },
     "ce56b166913440ce9eb12111eae6462d": {
      "model_module": "@jupyter-widgets/controls",
      "model_module_version": "2.0.0",
      "model_name": "ButtonModel",
      "state": {
       "_view_name": "ErrorWidgetView",
       "button_style": "warning",
       "description": "fix x/y",
       "error": {},
       "layout": "IPY_MODEL_ade0d3eae466436da85f189d52e00712",
       "msg": "Failed to load model class 'ButtonModel' from module '@jupyter-widgets/controls'",
       "style": "IPY_MODEL_d33e978125aa4f93a0cbce1f9c4ccbfa"
      }
     },
     "ce7c867b3f8d42c7a5b921907c6fcbd1": {
      "model_module": "@jupyter-widgets/controls",
      "model_module_version": "2.0.0",
      "model_name": "DescriptionStyleModel",
      "state": {
       "_view_name": "ErrorWidgetView",
       "description_width": "",
       "error": {},
       "msg": "Failed to load model class 'DescriptionStyleModel' from module '@jupyter-widgets/controls'"
      }
     },
     "ceb603fc812f43c69cdfad086162fa7a": {
      "model_module": "@jupyter-widgets/controls",
      "model_module_version": "2.0.0",
      "model_name": "SliderStyleModel",
      "state": {
       "_view_name": "ErrorWidgetView",
       "description_width": "",
       "error": {},
       "msg": "Failed to load model class 'SliderStyleModel' from module '@jupyter-widgets/controls'"
      }
     },
     "cebfaf140e194d12a23ff5aed04a77b8": {
      "model_module": "@jupyter-widgets/controls",
      "model_module_version": "2.0.0",
      "model_name": "IntTextModel",
      "state": {
       "_view_name": "ErrorWidgetView",
       "description": "mp_cores:",
       "error": {},
       "layout": "IPY_MODEL_7bc0209eb0ec4716b1dd86410a6579bb",
       "msg": "Failed to load model class 'IntTextModel' from module '@jupyter-widgets/controls'",
       "step": 1,
       "style": "IPY_MODEL_e068cfe1e0a849089025269bf48dd760",
       "value": 1
      }
     },
     "cf5a6de753404695bcbba260c792138b": {
      "model_module": "@jupyter-widgets/controls",
      "model_module_version": "2.0.0",
      "model_name": "DescriptionStyleModel",
      "state": {
       "_view_name": "ErrorWidgetView",
       "description_width": "",
       "error": {},
       "msg": "Failed to load model class 'DescriptionStyleModel' from module '@jupyter-widgets/controls'"
      }
     },
     "cf71cc713f5140febf7466074c2a2ee7": {
      "model_module": "@jupyter-widgets/controls",
      "model_module_version": "2.0.0",
      "model_name": "TextModel",
      "state": {
       "_view_name": "ErrorWidgetView",
       "error": {},
       "layout": "IPY_MODEL_6c79b6c2e31c476f889006e3d9640214",
       "msg": "Failed to load model class 'TextModel' from module '@jupyter-widgets/controls'",
       "style": "IPY_MODEL_d699d7e16a1e4c0fa9bc40e1d1a7c13b",
       "value": "17:09:42"
      }
     },
     "cfd57c387f4f4070bbeec60c53fe0afb": {
      "model_module": "@jupyter-widgets/controls",
      "model_module_version": "2.0.0",
      "model_name": "DescriptionStyleModel",
      "state": {
       "_view_name": "ErrorWidgetView",
       "description_width": "",
       "error": {},
       "msg": "Failed to load model class 'DescriptionStyleModel' from module '@jupyter-widgets/controls'"
      }
     },
     "cfdb44621e464e6c8ca7fe6cf479817a": {
      "model_module": "@jupyter-widgets/controls",
      "model_module_version": "2.0.0",
      "model_name": "TextStyleModel",
      "state": {
       "description_width": "",
       "font_size": null,
       "text_color": null
      }
     },
     "cfe7c4a9619d42038dfe7feb6e3f0861": {
      "model_module": "@jupyter-widgets/base",
      "model_module_version": "2.0.0",
      "model_name": "LayoutModel",
      "state": {
       "_view_name": "ErrorWidgetView",
       "error": {},
       "msg": "Failed to load model class 'LayoutModel' from module '@jupyter-widgets/base'"
      }
     },
     "d011a09d68d84dd18c33600352ad4bcc": {
      "model_module": "@jupyter-widgets/controls",
      "model_module_version": "2.0.0",
      "model_name": "HBoxModel",
      "state": {
       "_view_name": "ErrorWidgetView",
       "children": [
        "IPY_MODEL_ad581aaa1b0b40078e8096a3af2db9c8",
        "IPY_MODEL_196c2e2f349f42f1b079fc04ee17e7fb",
        "IPY_MODEL_1f421520478e4072b2482a64a8c80c34",
        "IPY_MODEL_fe12d79f3b50428aa47852026db622ed",
        "IPY_MODEL_b0455788f1e34281893a7416ac00ddd3"
       ],
       "error": {},
       "layout": "IPY_MODEL_dfe9fe5b8fa240948e12e87b3909554d",
       "msg": "Failed to load model class 'HBoxModel' from module '@jupyter-widgets/controls'"
      }
     },
     "d05e4f40dbcf4e7f95b204ca38901eaf": {
      "model_module": "@jupyter-widgets/controls",
      "model_module_version": "2.0.0",
      "model_name": "IntTextModel",
      "state": {
       "_view_name": "ErrorWidgetView",
       "description": "mp_cores:",
       "error": {},
       "layout": "IPY_MODEL_14864a08d4dd43faaea313c92d9cbea1",
       "msg": "Failed to load model class 'IntTextModel' from module '@jupyter-widgets/controls'",
       "step": 1,
       "style": "IPY_MODEL_ba5eecfaa5d64b7bbc71de4aa5e43419",
       "value": 1
      }
     },
     "d09d9d58ae6341989708d75635b48793": {
      "model_module": "@jupyter-widgets/base",
      "model_module_version": "2.0.0",
      "model_name": "LayoutModel",
      "state": {
       "_view_name": "ErrorWidgetView",
       "error": {},
       "msg": "Failed to load model class 'LayoutModel' from module '@jupyter-widgets/base'"
      }
     },
     "d0abee8671ce4e5296a0918fb1c74b38": {
      "model_module": "@jupyter-widgets/base",
      "model_module_version": "2.0.0",
      "model_name": "LayoutModel",
      "state": {
       "_view_name": "ErrorWidgetView",
       "error": {},
       "msg": "Failed to load model class 'LayoutModel' from module '@jupyter-widgets/base'"
      }
     },
     "d0c91005ee3b4b678237c0d68c4e9db0": {
      "model_module": "@jupyter-widgets/controls",
      "model_module_version": "2.0.0",
      "model_name": "HBoxModel",
      "state": {
       "_view_name": "ErrorWidgetView",
       "children": [
        "IPY_MODEL_5fd1da66a4684c2280fee8157ccc72a6",
        "IPY_MODEL_bf1024c805394fff85dd68d73b771637",
        "IPY_MODEL_4cb099752c0a4055b6b1ebca7cc934b2",
        "IPY_MODEL_727b36a827ea4d2b94d0855686220cd3",
        "IPY_MODEL_97d3f51386374b02bfe1a02c77d5d4b9"
       ],
       "error": {},
       "layout": "IPY_MODEL_e82e1c44dcb846c9b941514801c34d95",
       "msg": "Failed to load model class 'HBoxModel' from module '@jupyter-widgets/controls'"
      }
     },
     "d131d6c0c98d444d958ffe35880aa6c4": {
      "model_module": "@jupyter-widgets/controls",
      "model_module_version": "2.0.0",
      "model_name": "HBoxModel",
      "state": {
       "_view_name": "ErrorWidgetView",
       "children": [
        "IPY_MODEL_5f67dc502fb0400c845ae44a75cdd951",
        "IPY_MODEL_e68a45d9a20c498abcb5b96c38143df6",
        "IPY_MODEL_fc610c036cfd45dfa5778f003991888b",
        "IPY_MODEL_54cc1f1a8b5341c5b5ed8bbe7cff2d15"
       ],
       "error": {},
       "layout": "IPY_MODEL_03dad326a7fd4d1d9d5180ac9d84e72e",
       "msg": "Failed to load model class 'HBoxModel' from module '@jupyter-widgets/controls'"
      }
     },
     "d173d80c396a470ca160ec0c747f7609": {
      "model_module": "@jupyter-widgets/controls",
      "model_module_version": "2.0.0",
      "model_name": "ProgressStyleModel",
      "state": {
       "_view_name": "ErrorWidgetView",
       "description_width": "",
       "error": {},
       "msg": "Failed to load model class 'ProgressStyleModel' from module '@jupyter-widgets/controls'"
      }
     },
     "d1826774f09a45d5a7ec1bb014bea768": {
      "model_module": "@jupyter-widgets/controls",
      "model_module_version": "2.0.0",
      "model_name": "TextModel",
      "state": {
       "_view_name": "ErrorWidgetView",
       "error": {},
       "layout": "IPY_MODEL_22546e35d29344ea850b4c08d9efa603",
       "msg": "Failed to load model class 'TextModel' from module '@jupyter-widgets/controls'",
       "style": "IPY_MODEL_e76e44a3390942b98e159fc3163b1f99",
       "value": "2023-03-18"
      }
     },
     "d187eb30fe68404584b0d066b1a14dca": {
      "model_module": "@jupyter-widgets/base",
      "model_module_version": "2.0.0",
      "model_name": "LayoutModel",
      "state": {
       "width": "50%"
      }
     },
     "d1c8d99921ba4e15af7465481dc37304": {
      "model_module": "@jupyter-widgets/base",
      "model_module_version": "2.0.0",
      "model_name": "LayoutModel",
      "state": {
       "_view_name": "ErrorWidgetView",
       "error": {},
       "msg": "Failed to load model class 'LayoutModel' from module '@jupyter-widgets/base'"
      }
     },
     "d1ee7d023c31422ca5b16d259caaf84e": {
      "model_module": "@jupyter-widgets/controls",
      "model_module_version": "2.0.0",
      "model_name": "DropdownModel",
      "state": {
       "_options_labels": [
        "sv/av/pv/rv",
        "sv/av/pv",
        "sv/av",
        "sp/ap/pp/rp",
        "sp/ap/pp",
        "sp/ap",
        "power/amp",
        "av",
        "ap",
        "amp",
        "sv",
        "sp",
        "pv",
        "pp",
        "rv",
        "rp",
        "power"
       ],
       "_view_name": "ErrorWidgetView",
       "description": "wci value",
       "error": {},
       "index": 0,
       "layout": "IPY_MODEL_fc9200fe7b444ef4bb9b6ec37681aba3",
       "msg": "Failed to load model class 'DropdownModel' from module '@jupyter-widgets/controls'",
       "style": "IPY_MODEL_54b46c5921df4aa8acc19cf0ee7b48ac"
      }
     },
     "d22d7537ea83481a9d76d1fca940b2a9": {
      "model_module": "@jupyter-widgets/controls",
      "model_module_version": "2.0.0",
      "model_name": "SliderStyleModel",
      "state": {
       "_view_name": "ErrorWidgetView",
       "description_width": "",
       "error": {},
       "msg": "Failed to load model class 'SliderStyleModel' from module '@jupyter-widgets/controls'"
      }
     },
     "d232f09884f34cecbf45020b285de2aa": {
      "model_module": "@jupyter-widgets/controls",
      "model_module_version": "2.0.0",
      "model_name": "IntProgressModel",
      "state": {
       "_view_name": "ErrorWidgetView",
       "description": "Idle",
       "error": {},
       "layout": "IPY_MODEL_04066b51f3ff4703879f2c9e87d91a5b",
       "max": 10,
       "msg": "Failed to load model class 'IntProgressModel' from module '@jupyter-widgets/controls'",
       "style": "IPY_MODEL_a604c8fe121d4f87a20e93a2a60667f7"
      }
     },
     "d2510d76bd204be09b60de82cd0fae89": {
      "model_module": "@jupyter-widgets/controls",
      "model_module_version": "2.0.0",
      "model_name": "DropdownModel",
      "state": {
       "_options_labels": [
        "auto",
        "equal"
       ],
       "_view_name": "ErrorWidgetView",
       "description": "aspect",
       "error": {},
       "index": 1,
       "layout": "IPY_MODEL_d7da9f943fa44590aeb1ca1020a34114",
       "msg": "Failed to load model class 'DropdownModel' from module '@jupyter-widgets/controls'",
       "style": "IPY_MODEL_3bce49b257e04d39ad503f14b8b5c9aa"
      }
     },
     "d256f8829c14422d8505bdf1b0ea893d": {
      "model_module": "@jupyter-widgets/controls",
      "model_module_version": "2.0.0",
      "model_name": "DescriptionStyleModel",
      "state": {
       "_view_name": "ErrorWidgetView",
       "description_width": "",
       "error": {},
       "msg": "Failed to load model class 'DescriptionStyleModel' from module '@jupyter-widgets/controls'"
      }
     },
     "d316763ed6234460a7d9be40804abcfd": {
      "model_module": "@jupyter-widgets/base",
      "model_module_version": "2.0.0",
      "model_name": "LayoutModel",
      "state": {
       "_view_name": "ErrorWidgetView",
       "error": {},
       "msg": "Failed to load model class 'LayoutModel' from module '@jupyter-widgets/base'"
      }
     },
     "d33a18cf97174aacaceb0254456769cb": {
      "model_module": "@jupyter-widgets/controls",
      "model_module_version": "2.0.0",
      "model_name": "HBoxModel",
      "state": {
       "_view_name": "ErrorWidgetView",
       "children": [
        "IPY_MODEL_6a2b51bbf78044a8aeb5559ae7e503e3",
        "IPY_MODEL_62f3adc1193c4c59b5f897941b91d1e8",
        "IPY_MODEL_bc77c3d900ee447d83ae85eec4fb0bb6",
        "IPY_MODEL_5ecca1594bc64aacbbd930d172bc2cf8",
        "IPY_MODEL_cc2fe9eccb594b21ac5471442159a9a7",
        "IPY_MODEL_bbf68def98374594a6867e64b3536eeb"
       ],
       "error": {},
       "layout": "IPY_MODEL_50b117ea714048f48a11b0736e0e0e75",
       "msg": "Failed to load model class 'HBoxModel' from module '@jupyter-widgets/controls'"
      }
     },
     "d33e978125aa4f93a0cbce1f9c4ccbfa": {
      "model_module": "@jupyter-widgets/controls",
      "model_module_version": "2.0.0",
      "model_name": "ButtonStyleModel",
      "state": {
       "_view_name": "ErrorWidgetView",
       "error": {},
       "msg": "Failed to load model class 'ButtonStyleModel' from module '@jupyter-widgets/controls'"
      }
     },
     "d35ae68e1c384c769967f6d25763b48d": {
      "model_module": "@jupyter-widgets/controls",
      "model_module_version": "2.0.0",
      "model_name": "TextModel",
      "state": {
       "_view_name": "ErrorWidgetView",
       "description": "proc time",
       "error": {},
       "layout": "IPY_MODEL_5874c673bfde43d28d2d293fb9aa5f30",
       "msg": "Failed to load model class 'TextModel' from module '@jupyter-widgets/controls'",
       "style": "IPY_MODEL_4fb94a495add4357ad2286b0c95ef066",
       "value": "0.029 / 0.111 / [0.14] s"
      }
     },
     "d396bd5ee0944f6ca0c892a575265bd6": {
      "model_module": "@jupyter-widgets/controls",
      "model_module_version": "2.0.0",
      "model_name": "DescriptionStyleModel",
      "state": {
       "_view_name": "ErrorWidgetView",
       "description_width": "",
       "error": {},
       "msg": "Failed to load model class 'DescriptionStyleModel' from module '@jupyter-widgets/controls'"
      }
     },
     "d39977f02dd641ffa8907d88661945fe": {
      "model_module": "@jupyter-widgets/controls",
      "model_module_version": "2.0.0",
      "model_name": "CheckboxModel",
      "state": {
       "_view_name": "ErrorWidgetView",
       "description": "stack_linear",
       "disabled": false,
       "error": {},
       "layout": "IPY_MODEL_dad99304b09644ccbf58d55169c3b41b",
       "msg": "Failed to load model class 'CheckboxModel' from module '@jupyter-widgets/controls'",
       "style": "IPY_MODEL_a358b8fffebb48f892a91670f762b6e6",
       "value": true
      }
     },
     "d4027e02e2174cb9aebfdf031cbf2dbf": {
      "model_module": "@jupyter-widgets/controls",
      "model_module_version": "2.0.0",
      "model_name": "DescriptionStyleModel",
      "state": {
       "_view_name": "ErrorWidgetView",
       "description_width": "",
       "error": {},
       "msg": "Failed to load model class 'DescriptionStyleModel' from module '@jupyter-widgets/controls'"
      }
     },
     "d405956edf2348d5877cd9878ab9b9b5": {
      "model_module": "@jupyter-widgets/base",
      "model_module_version": "2.0.0",
      "model_name": "LayoutModel",
      "state": {
       "_view_name": "ErrorWidgetView",
       "error": {},
       "msg": "Failed to load model class 'LayoutModel' from module '@jupyter-widgets/base'",
       "width": "10%"
      }
     },
     "d4086b3ca1d64a72843ba1e814f0eead": {
      "model_module": "@jupyter-widgets/controls",
      "model_module_version": "2.0.0",
      "model_name": "DropdownModel",
      "state": {
       "_options_labels": [
        "linear",
        "beamsample"
       ],
       "_view_name": "ErrorWidgetView",
       "description": "wci render",
       "error": {},
       "index": 0,
       "layout": "IPY_MODEL_04474c76e5444dea856fbd781ea05f3a",
       "msg": "Failed to load model class 'DropdownModel' from module '@jupyter-widgets/controls'",
       "style": "IPY_MODEL_3795545e63b5484fafdb237ca26f6949"
      }
     },
     "d417aa129c674740acbef34dfb61a3dd": {
      "model_module": "@jupyter-widgets/controls",
      "model_module_version": "2.0.0",
      "model_name": "DropdownModel",
      "state": {
       "_options_labels": [
        "antialiased",
        "none",
        "nearest",
        "bilinear",
        "bicubic",
        "spline16",
        "spline36",
        "hanning",
        "hamming",
        "hermite",
        "kaiser",
        "quadric",
        "catrom",
        "gaussian",
        "bessel",
        "mitchell",
        "sinc",
        "lanczos",
        "blackman"
       ],
       "_view_name": "ErrorWidgetView",
       "description": "interpolation",
       "error": {},
       "index": 2,
       "layout": "IPY_MODEL_e08793c890c04ee9b479413cd91c9aca",
       "msg": "Failed to load model class 'DropdownModel' from module '@jupyter-widgets/controls'",
       "style": "IPY_MODEL_20cf7bbdad5b41b1be78870145b716f1"
      }
     },
     "d465e95bc25b4e77a80ac0c6f5ba37cc": {
      "model_module": "@jupyter-widgets/base",
      "model_module_version": "2.0.0",
      "model_name": "LayoutModel",
      "state": {
       "_view_name": "ErrorWidgetView",
       "error": {},
       "msg": "Failed to load model class 'LayoutModel' from module '@jupyter-widgets/base'"
      }
     },
     "d4829aa6af06466199d10f4b2dc8948b": {
      "model_module": "@jupyter-widgets/base",
      "model_module_version": "2.0.0",
      "model_name": "LayoutModel",
      "state": {
       "_view_name": "ErrorWidgetView",
       "error": {},
       "msg": "Failed to load model class 'LayoutModel' from module '@jupyter-widgets/base'"
      }
     },
     "d4958ec3c0354fb4a61fa5ea1395f34b": {
      "model_module": "@jupyter-widgets/base",
      "model_module_version": "2.0.0",
      "model_name": "LayoutModel",
      "state": {
       "_view_name": "ErrorWidgetView",
       "error": {},
       "msg": "Failed to load model class 'LayoutModel' from module '@jupyter-widgets/base'"
      }
     },
     "d4f9c02a49c34480bee629c9ead8aa8c": {
      "model_module": "@jupyter-widgets/controls",
      "model_module_version": "2.0.0",
      "model_name": "DescriptionStyleModel",
      "state": {
       "_view_name": "ErrorWidgetView",
       "description_width": "",
       "error": {},
       "msg": "Failed to load model class 'DescriptionStyleModel' from module '@jupyter-widgets/controls'"
      }
     },
     "d5085d34491a431b81afaf40b24e5c94": {
      "model_module": "@jupyter-widgets/controls",
      "model_module_version": "2.0.0",
      "model_name": "IntProgressModel",
      "state": {
       "_view_name": "ErrorWidgetView",
       "description": "Idle",
       "error": {},
       "layout": "IPY_MODEL_5765b689378c4b1990e5de3c85650b52",
       "max": 10,
       "msg": "Failed to load model class 'IntProgressModel' from module '@jupyter-widgets/controls'",
       "style": "IPY_MODEL_905ea2a67e1b42deb4bfbf11e33a8177"
      }
     },
     "d53cf85e2d0d4185b65c38696af1d469": {
      "model_module": "@jupyter-widgets/base",
      "model_module_version": "2.0.0",
      "model_name": "LayoutModel",
      "state": {}
     },
     "d5ca566749ef4b538a08135c9de9bac3": {
      "model_module": "@jupyter-widgets/base",
      "model_module_version": "2.0.0",
      "model_name": "LayoutModel",
      "state": {}
     },
     "d5cfbd487684490bab266d6102ea81c4": {
      "model_module": "@jupyter-widgets/controls",
      "model_module_version": "2.0.0",
      "model_name": "FloatSliderModel",
      "state": {
       "_view_name": "ErrorWidgetView",
       "description": "vmax",
       "error": {},
       "layout": "IPY_MODEL_78c2b187b9784e24b86db2e2901a97f6",
       "min": -150,
       "msg": "Failed to load model class 'FloatSliderModel' from module '@jupyter-widgets/controls'",
       "step": 5,
       "style": "IPY_MODEL_5e2556e6e71946bf9d178a79134189b6",
       "value": -25
      }
     },
     "d5d6186383864882af13403da078ba0c": {
      "model_module": "@jupyter-widgets/controls",
      "model_module_version": "2.0.0",
      "model_name": "HBoxModel",
      "state": {
       "_view_name": "ErrorWidgetView",
       "children": [
        "IPY_MODEL_41cdebedfb8b4ae2aadf90c6985382c7",
        "IPY_MODEL_6e66c95ac0ea4654807029ef876bee5d",
        "IPY_MODEL_424ac04161064224ad670c50bdbb41ff",
        "IPY_MODEL_fa821c55353a4366863057788483bbf7"
       ],
       "error": {},
       "layout": "IPY_MODEL_47ec3e940e64442ea256dce52d3cc4bd",
       "msg": "Failed to load model class 'HBoxModel' from module '@jupyter-widgets/controls'"
      }
     },
     "d62a38cc282144a8a7f81eb631b2da9b": {
      "model_module": "@jupyter-widgets/base",
      "model_module_version": "2.0.0",
      "model_name": "LayoutModel",
      "state": {
       "_view_name": "ErrorWidgetView",
       "error": {},
       "msg": "Failed to load model class 'LayoutModel' from module '@jupyter-widgets/base'"
      }
     },
     "d66a39918d2148be8f63e4da3a59ae96": {
      "model_module": "@jupyter-widgets/controls",
      "model_module_version": "2.0.0",
      "model_name": "HBoxModel",
      "state": {
       "_view_name": "ErrorWidgetView",
       "children": [
        "IPY_MODEL_cd6405991de44a7b86158dd41cfed32f",
        "IPY_MODEL_f9b30d68ca3f44d08592f5975f2ce1a3",
        "IPY_MODEL_3d64d039201142abae38b272c1b6f583",
        "IPY_MODEL_34381e4f31184bc1b498c9643e17bb78"
       ],
       "error": {},
       "layout": "IPY_MODEL_799777d033e140c6bd5a8a9120fdb4f2",
       "msg": "Failed to load model class 'HBoxModel' from module '@jupyter-widgets/controls'"
      }
     },
     "d66a72448c7e4b86bfce1f74a727f8a2": {
      "model_module": "@jupyter-widgets/controls",
      "model_module_version": "2.0.0",
      "model_name": "VBoxModel",
      "state": {
       "_view_name": "ErrorWidgetView",
       "children": [
        "IPY_MODEL_60372c2ff389407a94d0999ea1c2c149",
        "IPY_MODEL_3084e34f685243c699fbf3d0d668becf",
        "IPY_MODEL_a6354cc0a9204be7a8e121d52dfa9c1a",
        "IPY_MODEL_a049b28be39042b59ea2585e05182814",
        "IPY_MODEL_d33a18cf97174aacaceb0254456769cb",
        "IPY_MODEL_e7a8d26c5b0e4b8dbee362df97de79b1"
       ],
       "error": {},
       "layout": "IPY_MODEL_ccf885801032437cb4e21f81fea580d6",
       "msg": "Failed to load model class 'VBoxModel' from module '@jupyter-widgets/controls'"
      }
     },
     "d699d7e16a1e4c0fa9bc40e1d1a7c13b": {
      "model_module": "@jupyter-widgets/controls",
      "model_module_version": "2.0.0",
      "model_name": "DescriptionStyleModel",
      "state": {
       "_view_name": "ErrorWidgetView",
       "description_width": "",
       "error": {},
       "msg": "Failed to load model class 'DescriptionStyleModel' from module '@jupyter-widgets/controls'"
      }
     },
     "d7279c62adf948f7890760508e0a7a26": {
      "model_module": "@jupyter-widgets/base",
      "model_module_version": "2.0.0",
      "model_name": "LayoutModel",
      "state": {
       "_view_name": "ErrorWidgetView",
       "error": {},
       "msg": "Failed to load model class 'LayoutModel' from module '@jupyter-widgets/base'",
       "width": "10%"
      }
     },
     "d751ee14e48c424fb21f7c20b6997f7e": {
      "model_module": "@jupyter-widgets/base",
      "model_module_version": "2.0.0",
      "model_name": "LayoutModel",
      "state": {
       "_view_name": "ErrorWidgetView",
       "error": {},
       "msg": "Failed to load model class 'LayoutModel' from module '@jupyter-widgets/base'"
      }
     },
     "d753d6240b994de99f7d71e7f8e0d0c1": {
      "model_module": "@jupyter-widgets/controls",
      "model_module_version": "2.0.0",
      "model_name": "DescriptionStyleModel",
      "state": {
       "_view_name": "ErrorWidgetView",
       "description_width": "",
       "error": {},
       "msg": "Failed to load model class 'DescriptionStyleModel' from module '@jupyter-widgets/controls'"
      }
     },
     "d7683a4436ad4079bba8ad34f1dc5d6a": {
      "model_module": "@jupyter-widgets/controls",
      "model_module_version": "2.0.0",
      "model_name": "DropdownModel",
      "state": {
       "_options_labels": [
        "linear",
        "beamsample"
       ],
       "_view_name": "ErrorWidgetView",
       "description": "wci render",
       "error": {},
       "index": 0,
       "layout": "IPY_MODEL_37931afa51ff47bfb027773848cf0130",
       "msg": "Failed to load model class 'DropdownModel' from module '@jupyter-widgets/controls'",
       "style": "IPY_MODEL_775909aa75a94c448eb65c0d1c10539a"
      }
     },
     "d7a1afaa5df5473494aeff313ce237f6": {
      "model_module": "@jupyter-widgets/base",
      "model_module_version": "2.0.0",
      "model_name": "LayoutModel",
      "state": {
       "_view_name": "ErrorWidgetView",
       "error": {},
       "msg": "Failed to load model class 'LayoutModel' from module '@jupyter-widgets/base'",
       "width": "10%"
      }
     },
     "d7aee82e8b4f4f9cadec03c8e6815810": {
      "model_module": "@jupyter-widgets/controls",
      "model_module_version": "2.0.0",
      "model_name": "DropdownModel",
      "state": {
       "_options_labels": [
        "auto",
        "equal"
       ],
       "_view_name": "ErrorWidgetView",
       "description": "aspect",
       "error": {},
       "index": 1,
       "layout": "IPY_MODEL_fa3cb579faa94c3b91ed43d61fa01884",
       "msg": "Failed to load model class 'DropdownModel' from module '@jupyter-widgets/controls'",
       "style": "IPY_MODEL_e44268a28dd8465eb88318945f0696dd"
      }
     },
     "d7b428a5d6cd4431b55187d5f135c365": {
      "model_module": "@jupyter-widgets/controls",
      "model_module_version": "2.0.0",
      "model_name": "DescriptionStyleModel",
      "state": {
       "_view_name": "ErrorWidgetView",
       "description_width": "",
       "error": {},
       "msg": "Failed to load model class 'DescriptionStyleModel' from module '@jupyter-widgets/controls'"
      }
     },
     "d7da9f943fa44590aeb1ca1020a34114": {
      "model_module": "@jupyter-widgets/base",
      "model_module_version": "2.0.0",
      "model_name": "LayoutModel",
      "state": {
       "_view_name": "ErrorWidgetView",
       "error": {},
       "msg": "Failed to load model class 'LayoutModel' from module '@jupyter-widgets/base'"
      }
     },
     "d80dd17caa06424d8c3f936916faf14d": {
      "model_module": "@jupyter-widgets/controls",
      "model_module_version": "2.0.0",
      "model_name": "ButtonModel",
      "state": {
       "_view_name": "ErrorWidgetView",
       "button_style": "warning",
       "description": "fix x/y",
       "error": {},
       "layout": "IPY_MODEL_3527eb4b637a4feaa8803235a81d0ed4",
       "msg": "Failed to load model class 'ButtonModel' from module '@jupyter-widgets/controls'",
       "style": "IPY_MODEL_a85675aecd0b405b8fc6912122269569"
      }
     },
     "d85cbbc6b8ca4355b56e1cac18c67d34": {
      "model_module": "@jupyter-widgets/controls",
      "model_module_version": "2.0.0",
      "model_name": "DropdownModel",
      "state": {
       "_options_labels": [
        "antialiased",
        "none",
        "nearest",
        "bilinear",
        "bicubic",
        "spline16",
        "spline36",
        "hanning",
        "hamming",
        "hermite",
        "kaiser",
        "quadric",
        "catrom",
        "gaussian",
        "bessel",
        "mitchell",
        "sinc",
        "lanczos",
        "blackman"
       ],
       "_view_name": "ErrorWidgetView",
       "description": "interpolation",
       "error": {},
       "index": 2,
       "layout": "IPY_MODEL_258173fdbfb643ebbed090efcbf14c64",
       "msg": "Failed to load model class 'DropdownModel' from module '@jupyter-widgets/controls'",
       "style": "IPY_MODEL_5cd2429a1cdf4b76b1daccc3a2082c58"
      }
     },
     "d890d879ffa6437aa533a8544fa3299e": {
      "model_module": "@jupyter-widgets/base",
      "model_module_version": "2.0.0",
      "model_name": "LayoutModel",
      "state": {
       "_view_name": "ErrorWidgetView",
       "error": {},
       "msg": "Failed to load model class 'LayoutModel' from module '@jupyter-widgets/base'"
      }
     },
     "d8a55f029bc84e3e8e22e2387ce61afd": {
      "model_module": "@jupyter-widgets/controls",
      "model_module_version": "2.0.0",
      "model_name": "DescriptionStyleModel",
      "state": {
       "_view_name": "ErrorWidgetView",
       "description_width": "",
       "error": {},
       "msg": "Failed to load model class 'DescriptionStyleModel' from module '@jupyter-widgets/controls'"
      }
     },
     "d8b636f6171144ab82db464a34dfae6d": {
      "model_module": "@jupyter-widgets/controls",
      "model_module_version": "2.0.0",
      "model_name": "HBoxModel",
      "state": {
       "_view_name": "ErrorWidgetView",
       "children": [
        "IPY_MODEL_43ceb6dbd614452a9e58a9291a070ed7",
        "IPY_MODEL_6a7f8799648e4aa396d96e6a67d4c2d5",
        "IPY_MODEL_c1143627de1c476ab2692e2f613a42ae",
        "IPY_MODEL_00a7d50a5b45466cb8c5473cffe9c985"
       ],
       "error": {},
       "layout": "IPY_MODEL_8886d6df14ea435087eb2ed175cf4b16",
       "msg": "Failed to load model class 'HBoxModel' from module '@jupyter-widgets/controls'"
      }
     },
     "d8baa73ef7c54751bba7ca928784a049": {
      "model_module": "@jupyter-widgets/controls",
      "model_module_version": "2.0.0",
      "model_name": "DescriptionStyleModel",
      "state": {
       "_view_name": "ErrorWidgetView",
       "description_width": "",
       "error": {},
       "msg": "Failed to load model class 'DescriptionStyleModel' from module '@jupyter-widgets/controls'"
      }
     },
     "d8be9f5286d143b0b8d54a63b28be80e": {
      "model_module": "@jupyter-widgets/base",
      "model_module_version": "2.0.0",
      "model_name": "LayoutModel",
      "state": {}
     },
     "d903a0fcd22644fba901908aa63e9f33": {
      "model_module": "@jupyter-widgets/base",
      "model_module_version": "2.0.0",
      "model_name": "LayoutModel",
      "state": {}
     },
     "d942254f48b34877ade7f41c0b52636b": {
      "model_module": "@jupyter-widgets/base",
      "model_module_version": "2.0.0",
      "model_name": "LayoutModel",
      "state": {
       "_view_name": "ErrorWidgetView",
       "error": {},
       "msg": "Failed to load model class 'LayoutModel' from module '@jupyter-widgets/base'"
      }
     },
     "d97688d7ed1e41f9807fce34cc9876a3": {
      "model_module": "@jupyter-widgets/controls",
      "model_module_version": "2.0.0",
      "model_name": "IntTextModel",
      "state": {
       "_view_name": "ErrorWidgetView",
       "description": "stack step:",
       "error": {},
       "layout": "IPY_MODEL_38155c7e33754923b08401fb1e062738",
       "msg": "Failed to load model class 'IntTextModel' from module '@jupyter-widgets/controls'",
       "step": 1,
       "style": "IPY_MODEL_6d3af3b1c21a4864a1cff79459c59bc8",
       "value": 1
      }
     },
     "d998a71daa7a4df6b25bab3d8d1d8d85": {
      "model_module": "@jupyter-widgets/controls",
      "model_module_version": "2.0.0",
      "model_name": "IntTextModel",
      "state": {
       "_view_name": "ErrorWidgetView",
       "description": "stack step:",
       "error": {},
       "layout": "IPY_MODEL_ef98677129524e22aca4a0c802a06ba1",
       "msg": "Failed to load model class 'IntTextModel' from module '@jupyter-widgets/controls'",
       "step": 1,
       "style": "IPY_MODEL_7fc032bec48c422b9160ca54db4507b1",
       "value": 1
      }
     },
     "d9c41005117a400a8f5cf6fb2e511330": {
      "model_module": "@jupyter-widgets/controls",
      "model_module_version": "2.0.0",
      "model_name": "DescriptionStyleModel",
      "state": {
       "_view_name": "ErrorWidgetView",
       "description_width": "",
       "error": {},
       "msg": "Failed to load model class 'DescriptionStyleModel' from module '@jupyter-widgets/controls'"
      }
     },
     "d9d6e68023314ba785c1811cb717d826": {
      "model_module": "@jupyter-widgets/controls",
      "model_module_version": "2.0.0",
      "model_name": "SliderStyleModel",
      "state": {
       "_view_name": "ErrorWidgetView",
       "description_width": "",
       "error": {},
       "msg": "Failed to load model class 'SliderStyleModel' from module '@jupyter-widgets/controls'"
      }
     },
     "da020c2016ad460bb0c5d742abfde738": {
      "model_module": "@jupyter-widgets/controls",
      "model_module_version": "2.0.0",
      "model_name": "DescriptionStyleModel",
      "state": {
       "_view_name": "ErrorWidgetView",
       "description_width": "",
       "error": {},
       "msg": "Failed to load model class 'DescriptionStyleModel' from module '@jupyter-widgets/controls'"
      }
     },
     "da3ca02604fd41f88ed74d46d8c5b7e0": {
      "model_module": "@jupyter-widgets/base",
      "model_module_version": "2.0.0",
      "model_name": "LayoutModel",
      "state": {
       "_view_name": "ErrorWidgetView",
       "error": {},
       "msg": "Failed to load model class 'LayoutModel' from module '@jupyter-widgets/base'"
      }
     },
     "da6064f7ef764013a4f0320789ebbaa4": {
      "model_module": "@jupyter-widgets/base",
      "model_module_version": "2.0.0",
      "model_name": "LayoutModel",
      "state": {
       "_view_name": "ErrorWidgetView",
       "error": {},
       "msg": "Failed to load model class 'LayoutModel' from module '@jupyter-widgets/base'"
      }
     },
     "da6d4150055c4acca168c4accc3ac2fc": {
      "model_module": "@jupyter-widgets/controls",
      "model_module_version": "2.0.0",
      "model_name": "ButtonModel",
      "state": {
       "_view_name": "ErrorWidgetView",
       "description": "unfix x/y",
       "error": {},
       "layout": "IPY_MODEL_0a914725836b4346abb4a3df338ede1b",
       "msg": "Failed to load model class 'ButtonModel' from module '@jupyter-widgets/controls'",
       "style": "IPY_MODEL_934d8fae5ec94cb99aa34bfa09dbe58e"
      }
     },
     "da8c89af95f942889f0c0b97fb432d9e": {
      "model_module": "@jupyter-widgets/controls",
      "model_module_version": "2.0.0",
      "model_name": "DropdownModel",
      "state": {
       "_options_labels": [
        "antialiased",
        "none",
        "nearest",
        "bilinear",
        "bicubic",
        "spline16",
        "spline36",
        "hanning",
        "hamming",
        "hermite",
        "kaiser",
        "quadric",
        "catrom",
        "gaussian",
        "bessel",
        "mitchell",
        "sinc",
        "lanczos",
        "blackman"
       ],
       "_view_name": "ErrorWidgetView",
       "description": "interpolation",
       "error": {},
       "index": 2,
       "layout": "IPY_MODEL_52eee0e0ccf74ac291bf4ddaf8d79ddb",
       "msg": "Failed to load model class 'DropdownModel' from module '@jupyter-widgets/controls'",
       "style": "IPY_MODEL_093ce6c271ad4b3dbe41652669345a98"
      }
     },
     "da9ec292854b4d828c2e67472add68d3": {
      "model_module": "@jupyter-widgets/controls",
      "model_module_version": "2.0.0",
      "model_name": "ButtonStyleModel",
      "state": {
       "_view_name": "ErrorWidgetView",
       "error": {},
       "msg": "Failed to load model class 'ButtonStyleModel' from module '@jupyter-widgets/controls'"
      }
     },
     "dac6c520d8c140b98b9e7317ee3862cd": {
      "model_module": "@jupyter-widgets/base",
      "model_module_version": "2.0.0",
      "model_name": "LayoutModel",
      "state": {
       "_view_name": "ErrorWidgetView",
       "error": {},
       "msg": "Failed to load model class 'LayoutModel' from module '@jupyter-widgets/base'",
       "width": "50%"
      }
     },
     "dac7285e91fc4079a39b1ca1b49d566e": {
      "model_module": "@jupyter-widgets/base",
      "model_module_version": "2.0.0",
      "model_name": "LayoutModel",
      "state": {
       "_view_name": "ErrorWidgetView",
       "error": {},
       "msg": "Failed to load model class 'LayoutModel' from module '@jupyter-widgets/base'"
      }
     },
     "dad99304b09644ccbf58d55169c3b41b": {
      "model_module": "@jupyter-widgets/base",
      "model_module_version": "2.0.0",
      "model_name": "LayoutModel",
      "state": {
       "_view_name": "ErrorWidgetView",
       "error": {},
       "msg": "Failed to load model class 'LayoutModel' from module '@jupyter-widgets/base'"
      }
     },
     "db16a4b573f746b180eae06fcfaefd17": {
      "model_module": "@jupyter-widgets/base",
      "model_module_version": "2.0.0",
      "model_name": "LayoutModel",
      "state": {
       "_view_name": "ErrorWidgetView",
       "error": {},
       "msg": "Failed to load model class 'LayoutModel' from module '@jupyter-widgets/base'"
      }
     },
     "db18dc4b000a44b0ba50c9703d3e7972": {
      "model_module": "@jupyter-widgets/controls",
      "model_module_version": "2.0.0",
      "model_name": "HBoxModel",
      "state": {
       "_view_name": "ErrorWidgetView",
       "children": [
        "IPY_MODEL_2a9c4082688145e8a4ee039841881c75",
        "IPY_MODEL_510e61d2fb8247f592b65543e1d60ca2",
        "IPY_MODEL_fc235505479d420e9427604dec678ae2",
        "IPY_MODEL_ecd5757241c046ff8fdc5d033e63d5fe",
        "IPY_MODEL_c279ac223e9b4f9286b7bc6a1212e769",
        "IPY_MODEL_fde865c0563c4d61a0c4c70892c2db18"
       ],
       "error": {},
       "layout": "IPY_MODEL_b583601d20344e9b82e272478b69781c",
       "msg": "Failed to load model class 'HBoxModel' from module '@jupyter-widgets/controls'"
      }
     },
     "db51f8677591420e882be59910fe8792": {
      "model_module": "@jupyter-widgets/base",
      "model_module_version": "2.0.0",
      "model_name": "LayoutModel",
      "state": {
       "_view_name": "ErrorWidgetView",
       "error": {},
       "msg": "Failed to load model class 'LayoutModel' from module '@jupyter-widgets/base'"
      }
     },
     "db68f79e25e2435b800295d943622deb": {
      "model_module": "@jupyter-widgets/controls",
      "model_module_version": "2.0.0",
      "model_name": "DescriptionStyleModel",
      "state": {
       "_view_name": "ErrorWidgetView",
       "description_width": "",
       "error": {},
       "msg": "Failed to load model class 'DescriptionStyleModel' from module '@jupyter-widgets/controls'"
      }
     },
     "dba24646d83b4c1bb2bafbe255b92275": {
      "model_module": "@jupyter-widgets/controls",
      "model_module_version": "2.0.0",
      "model_name": "HBoxModel",
      "state": {
       "_view_name": "ErrorWidgetView",
       "children": [
        "IPY_MODEL_f343947b20f6446a88e90e955ad474bb",
        "IPY_MODEL_dc7c3fe32feb4847a75fc91387b02bed",
        "IPY_MODEL_d2510d76bd204be09b60de82cd0fae89",
        "IPY_MODEL_c8f5950e235a4211937a38552699071c"
       ],
       "error": {},
       "layout": "IPY_MODEL_797f9353a07a4e37b3c0c8c21aeb10e4",
       "msg": "Failed to load model class 'HBoxModel' from module '@jupyter-widgets/controls'"
      }
     },
     "dbaa7f22053342c5aa2027490c183511": {
      "model_module": "@jupyter-widgets/controls",
      "model_module_version": "2.0.0",
      "model_name": "DescriptionStyleModel",
      "state": {
       "_view_name": "ErrorWidgetView",
       "description_width": "",
       "error": {},
       "msg": "Failed to load model class 'DescriptionStyleModel' from module '@jupyter-widgets/controls'"
      }
     },
     "dc2c37dcfef24f68a7e9377474bb9c36": {
      "model_module": "@jupyter-widgets/controls",
      "model_module_version": "2.0.0",
      "model_name": "DescriptionStyleModel",
      "state": {
       "_view_name": "ErrorWidgetView",
       "description_width": "",
       "error": {},
       "msg": "Failed to load model class 'DescriptionStyleModel' from module '@jupyter-widgets/controls'"
      }
     },
     "dc37f5c4fa6b4b2e9a8dbee2fde93ec6": {
      "model_module": "@jupyter-widgets/controls",
      "model_module_version": "2.0.0",
      "model_name": "TextModel",
      "state": {
       "_view_name": "ErrorWidgetView",
       "description": "proc time",
       "error": {},
       "layout": "IPY_MODEL_0d5030961e2840afa9f20a0c65069d25",
       "msg": "Failed to load model class 'TextModel' from module '@jupyter-widgets/controls'",
       "style": "IPY_MODEL_0bda903b2a794ec8ae859dd892d34403",
       "value": "0.01 / 0.111 / [0.121] s"
      }
     },
     "dc771948d6d04d9e83ee2369f5d22054": {
      "model_module": "@jupyter-widgets/controls",
      "model_module_version": "2.0.0",
      "model_name": "DescriptionStyleModel",
      "state": {
       "_view_name": "ErrorWidgetView",
       "description_width": "",
       "error": {},
       "msg": "Failed to load model class 'DescriptionStyleModel' from module '@jupyter-widgets/controls'"
      }
     },
     "dc7c3fe32feb4847a75fc91387b02bed": {
      "model_module": "@jupyter-widgets/controls",
      "model_module_version": "2.0.0",
      "model_name": "FloatSliderModel",
      "state": {
       "_view_name": "ErrorWidgetView",
       "description": "vmax",
       "error": {},
       "layout": "IPY_MODEL_2ac09f333f25476f84e9551b4b8aad19",
       "min": -150,
       "msg": "Failed to load model class 'FloatSliderModel' from module '@jupyter-widgets/controls'",
       "step": 5,
       "style": "IPY_MODEL_6e18d6e664154b22bd17e6f7c0ac42db",
       "value": -25
      }
     },
     "dcb7a82a1fe84916b2e562b35dd3c86f": {
      "model_module": "@jupyter-widgets/base",
      "model_module_version": "2.0.0",
      "model_name": "LayoutModel",
      "state": {}
     },
     "dcbbe21628f247979dcf0fc02cba2e2b": {
      "model_module": "@jupyter-widgets/controls",
      "model_module_version": "2.0.0",
      "model_name": "CheckboxModel",
      "state": {
       "description": "stack_linear",
       "disabled": false,
       "layout": "IPY_MODEL_949fdc80d1dc4c218d4eb7aa5511af22",
       "style": "IPY_MODEL_bcc64ac22f0847a9afe8235873b9046c",
       "value": true
      }
     },
     "dce5cb371dd84f4688c9a706790e7cdf": {
      "model_module": "@jupyter-widgets/controls",
      "model_module_version": "2.0.0",
      "model_name": "IntTextModel",
      "state": {
       "_view_name": "ErrorWidgetView",
       "description": "stack step:",
       "error": {},
       "layout": "IPY_MODEL_a225d3ed0891477aa0129474434f9ba8",
       "msg": "Failed to load model class 'IntTextModel' from module '@jupyter-widgets/controls'",
       "step": 1,
       "style": "IPY_MODEL_3fec2760bf91492680ae31fdd2e89784",
       "value": 1
      }
     },
     "dd348a1e3598416d92241bb38e0da7d8": {
      "model_module": "@jupyter-widgets/base",
      "model_module_version": "2.0.0",
      "model_name": "LayoutModel",
      "state": {
       "_view_name": "ErrorWidgetView",
       "error": {},
       "msg": "Failed to load model class 'LayoutModel' from module '@jupyter-widgets/base'"
      }
     },
     "dd8b1a4031444782aa53e5798c4c303d": {
      "model_module": "@jupyter-widgets/controls",
      "model_module_version": "2.0.0",
      "model_name": "DescriptionStyleModel",
      "state": {
       "_view_name": "ErrorWidgetView",
       "description_width": "",
       "error": {},
       "msg": "Failed to load model class 'DescriptionStyleModel' from module '@jupyter-widgets/controls'"
      }
     },
     "dd91af0846a34842be20b2338b856a0c": {
      "model_module": "@jupyter-widgets/controls",
      "model_module_version": "2.0.0",
      "model_name": "DescriptionStyleModel",
      "state": {
       "_view_name": "ErrorWidgetView",
       "description_width": "",
       "error": {},
       "msg": "Failed to load model class 'DescriptionStyleModel' from module '@jupyter-widgets/controls'"
      }
     },
     "ddbc82665e944c28ae234a7a3018c32f": {
      "model_module": "@jupyter-widgets/base",
      "model_module_version": "2.0.0",
      "model_name": "LayoutModel",
      "state": {
       "_view_name": "ErrorWidgetView",
       "error": {},
       "msg": "Failed to load model class 'LayoutModel' from module '@jupyter-widgets/base'"
      }
     },
     "ddc5ebe69fa94474bd5eb260d1d890a5": {
      "model_module": "@jupyter-widgets/base",
      "model_module_version": "2.0.0",
      "model_name": "LayoutModel",
      "state": {}
     },
     "de5fb979b60c4931aca8891ace09da4d": {
      "model_module": "@jupyter-widgets/base",
      "model_module_version": "2.0.0",
      "model_name": "LayoutModel",
      "state": {
       "_view_name": "ErrorWidgetView",
       "error": {},
       "msg": "Failed to load model class 'LayoutModel' from module '@jupyter-widgets/base'"
      }
     },
     "de8a6cb1f79d4622974d75682a62de58": {
      "model_module": "@jupyter-widgets/base",
      "model_module_version": "2.0.0",
      "model_name": "LayoutModel",
      "state": {
       "_view_name": "ErrorWidgetView",
       "error": {},
       "msg": "Failed to load model class 'LayoutModel' from module '@jupyter-widgets/base'"
      }
     },
     "de94283fd8934e6dae3be958e251cf1c": {
      "model_module": "@jupyter-widgets/controls",
      "model_module_version": "2.0.0",
      "model_name": "DescriptionStyleModel",
      "state": {
       "_view_name": "ErrorWidgetView",
       "description_width": "",
       "error": {},
       "msg": "Failed to load model class 'DescriptionStyleModel' from module '@jupyter-widgets/controls'"
      }
     },
     "ded00c89f9274896a73dcaaa1ff51713": {
      "model_module": "@jupyter-widgets/controls",
      "model_module_version": "2.0.0",
      "model_name": "SliderStyleModel",
      "state": {
       "_view_name": "ErrorWidgetView",
       "description_width": "",
       "error": {},
       "msg": "Failed to load model class 'SliderStyleModel' from module '@jupyter-widgets/controls'"
      }
     },
     "df20f830eda4404e97d1c7781ec7aa3b": {
      "model_module": "@jupyter-widgets/base",
      "model_module_version": "2.0.0",
      "model_name": "LayoutModel",
      "state": {
       "_view_name": "ErrorWidgetView",
       "error": {},
       "msg": "Failed to load model class 'LayoutModel' from module '@jupyter-widgets/base'"
      }
     },
     "df7dbc1a9a984421bc85bf7080176b03": {
      "model_module": "@jupyter-widgets/base",
      "model_module_version": "2.0.0",
      "model_name": "LayoutModel",
      "state": {
       "_view_name": "ErrorWidgetView",
       "error": {},
       "msg": "Failed to load model class 'LayoutModel' from module '@jupyter-widgets/base'"
      }
     },
     "dfc0ff3a7ed149ea953776834fbf9ed4": {
      "model_module": "@jupyter-widgets/controls",
      "model_module_version": "2.0.0",
      "model_name": "DescriptionStyleModel",
      "state": {
       "_view_name": "ErrorWidgetView",
       "description_width": "",
       "error": {},
       "msg": "Failed to load model class 'DescriptionStyleModel' from module '@jupyter-widgets/controls'"
      }
     },
     "dfe9fe5b8fa240948e12e87b3909554d": {
      "model_module": "@jupyter-widgets/base",
      "model_module_version": "2.0.0",
      "model_name": "LayoutModel",
      "state": {
       "_view_name": "ErrorWidgetView",
       "error": {},
       "msg": "Failed to load model class 'LayoutModel' from module '@jupyter-widgets/base'"
      }
     },
     "e02d72a785b3425c9773745f2c9a78de": {
      "model_module": "@jupyter-widgets/controls",
      "model_module_version": "2.0.0",
      "model_name": "DescriptionStyleModel",
      "state": {
       "_view_name": "ErrorWidgetView",
       "description_width": "",
       "error": {},
       "msg": "Failed to load model class 'DescriptionStyleModel' from module '@jupyter-widgets/controls'"
      }
     },
     "e068cfe1e0a849089025269bf48dd760": {
      "model_module": "@jupyter-widgets/controls",
      "model_module_version": "2.0.0",
      "model_name": "DescriptionStyleModel",
      "state": {
       "_view_name": "ErrorWidgetView",
       "description_width": "",
       "error": {},
       "msg": "Failed to load model class 'DescriptionStyleModel' from module '@jupyter-widgets/controls'"
      }
     },
     "e071e4cb9e16462aa06f7fae92d451b7": {
      "model_module": "@jupyter-widgets/base",
      "model_module_version": "2.0.0",
      "model_name": "LayoutModel",
      "state": {
       "_view_name": "ErrorWidgetView",
       "error": {},
       "msg": "Failed to load model class 'LayoutModel' from module '@jupyter-widgets/base'"
      }
     },
     "e073ffda14724be59fd9da030542586e": {
      "model_module": "@jupyter-widgets/base",
      "model_module_version": "2.0.0",
      "model_name": "LayoutModel",
      "state": {
       "_view_name": "ErrorWidgetView",
       "error": {},
       "msg": "Failed to load model class 'LayoutModel' from module '@jupyter-widgets/base'"
      }
     },
     "e08793c890c04ee9b479413cd91c9aca": {
      "model_module": "@jupyter-widgets/base",
      "model_module_version": "2.0.0",
      "model_name": "LayoutModel",
      "state": {
       "_view_name": "ErrorWidgetView",
       "error": {},
       "msg": "Failed to load model class 'LayoutModel' from module '@jupyter-widgets/base'"
      }
     },
     "e0971dbe71ed4dfcb28383c477f7d590": {
      "model_module": "@jupyter-widgets/base",
      "model_module_version": "2.0.0",
      "model_name": "LayoutModel",
      "state": {
       "_view_name": "ErrorWidgetView",
       "error": {},
       "msg": "Failed to load model class 'LayoutModel' from module '@jupyter-widgets/base'"
      }
     },
     "e0bc352389724e3c8c54d0b5a9b5ec5e": {
      "model_module": "@jupyter-widgets/controls",
      "model_module_version": "2.0.0",
      "model_name": "DescriptionStyleModel",
      "state": {
       "_view_name": "ErrorWidgetView",
       "description_width": "",
       "error": {},
       "msg": "Failed to load model class 'DescriptionStyleModel' from module '@jupyter-widgets/controls'"
      }
     },
     "e0c22e70f6914ed98231cdc02e639e16": {
      "model_module": "@jupyter-widgets/base",
      "model_module_version": "2.0.0",
      "model_name": "LayoutModel",
      "state": {
       "_view_name": "ErrorWidgetView",
       "error": {},
       "msg": "Failed to load model class 'LayoutModel' from module '@jupyter-widgets/base'",
       "width": "10%"
      }
     },
     "e11a41233220454fb42f58ee5fe07f26": {
      "model_module": "@jupyter-widgets/base",
      "model_module_version": "2.0.0",
      "model_name": "LayoutModel",
      "state": {
       "_view_name": "ErrorWidgetView",
       "error": {},
       "msg": "Failed to load model class 'LayoutModel' from module '@jupyter-widgets/base'"
      }
     },
     "e1344cbec0334985988ce084bbaed927": {
      "model_module": "@jupyter-widgets/controls",
      "model_module_version": "2.0.0",
      "model_name": "ButtonModel",
      "state": {
       "_view_name": "ErrorWidgetView",
       "button_style": "warning",
       "description": "fix x/y",
       "error": {},
       "layout": "IPY_MODEL_7b85488ac31f42478f62de9d470e0594",
       "msg": "Failed to load model class 'ButtonModel' from module '@jupyter-widgets/controls'",
       "style": "IPY_MODEL_ba63fbc9862d416d9811a8915d99ef15"
      }
     },
     "e13a09cd51f14790b081011a9b2b93a1": {
      "model_module": "@jupyter-widgets/controls",
      "model_module_version": "2.0.0",
      "model_name": "FloatProgressModel",
      "state": {
       "bar_style": "success",
       "layout": "IPY_MODEL_d8be9f5286d143b0b8d54a63b28be80e",
       "max": 18,
       "style": "IPY_MODEL_8eabf6cb24774260b75ad14f6e9681b7",
       "value": 18
      }
     },
     "e13b51391cb74b5f8bdbb5cb5fadc9ba": {
      "model_module": "@jupyter-widgets/base",
      "model_module_version": "2.0.0",
      "model_name": "LayoutModel",
      "state": {
       "_view_name": "ErrorWidgetView",
       "error": {},
       "msg": "Failed to load model class 'LayoutModel' from module '@jupyter-widgets/base'"
      }
     },
     "e16b95967a764304afaa59216ba7232d": {
      "model_module": "@jupyter-widgets/controls",
      "model_module_version": "2.0.0",
      "model_name": "DescriptionStyleModel",
      "state": {
       "_view_name": "ErrorWidgetView",
       "description_width": "",
       "error": {},
       "msg": "Failed to load model class 'DescriptionStyleModel' from module '@jupyter-widgets/controls'"
      }
     },
     "e1a31b455c8c4924ad3aee48b63a4e20": {
      "model_module": "@jupyter-widgets/base",
      "model_module_version": "2.0.0",
      "model_name": "LayoutModel",
      "state": {
       "_view_name": "ErrorWidgetView",
       "error": {},
       "msg": "Failed to load model class 'LayoutModel' from module '@jupyter-widgets/base'"
      }
     },
     "e1bfd0dd2d4c4601a3bd3220809d6962": {
      "model_module": "@jupyter-widgets/base",
      "model_module_version": "2.0.0",
      "model_name": "LayoutModel",
      "state": {
       "_view_name": "ErrorWidgetView",
       "error": {},
       "msg": "Failed to load model class 'LayoutModel' from module '@jupyter-widgets/base'"
      }
     },
     "e1f9c9adec34486689dbafe45a02a7bf": {
      "model_module": "@jupyter-widgets/controls",
      "model_module_version": "2.0.0",
      "model_name": "DescriptionStyleModel",
      "state": {
       "_view_name": "ErrorWidgetView",
       "description_width": "",
       "error": {},
       "msg": "Failed to load model class 'DescriptionStyleModel' from module '@jupyter-widgets/controls'"
      }
     },
     "e20085ea86334a4788da9fe22bbedd0f": {
      "model_module": "@jupyter-widgets/base",
      "model_module_version": "2.0.0",
      "model_name": "LayoutModel",
      "state": {
       "_view_name": "ErrorWidgetView",
       "error": {},
       "msg": "Failed to load model class 'LayoutModel' from module '@jupyter-widgets/base'"
      }
     },
     "e20ba6ad46264f67a7688b2e2a422dc6": {
      "model_module": "@jupyter-widgets/base",
      "model_module_version": "2.0.0",
      "model_name": "LayoutModel",
      "state": {
       "_view_name": "ErrorWidgetView",
       "error": {},
       "msg": "Failed to load model class 'LayoutModel' from module '@jupyter-widgets/base'"
      }
     },
     "e23f3958db4d4237a22831de30de5794": {
      "model_module": "@jupyter-widgets/controls",
      "model_module_version": "2.0.0",
      "model_name": "ButtonModel",
      "state": {
       "_view_name": "ErrorWidgetView",
       "description": "unfix x/y",
       "error": {},
       "layout": "IPY_MODEL_13839c80fee540e7bd33684b3d448c80",
       "msg": "Failed to load model class 'ButtonModel' from module '@jupyter-widgets/controls'",
       "style": "IPY_MODEL_54d8535a579c4bdabc6f41c55a3f01b8"
      }
     },
     "e2778fc537c94a409c126a0916dcac28": {
      "model_module": "@jupyter-widgets/base",
      "model_module_version": "2.0.0",
      "model_name": "LayoutModel",
      "state": {
       "_view_name": "ErrorWidgetView",
       "error": {},
       "msg": "Failed to load model class 'LayoutModel' from module '@jupyter-widgets/base'"
      }
     },
     "e2b2bdbe3b624b2497d9ca1582490cfa": {
      "model_module": "@jupyter-widgets/controls",
      "model_module_version": "2.0.0",
      "model_name": "ButtonStyleModel",
      "state": {
       "_view_name": "ErrorWidgetView",
       "error": {},
       "msg": "Failed to load model class 'ButtonStyleModel' from module '@jupyter-widgets/controls'"
      }
     },
     "e2e4997291e14f5488e014aa84da037c": {
      "model_module": "@jupyter-widgets/controls",
      "model_module_version": "2.0.0",
      "model_name": "TextStyleModel",
      "state": {
       "description_width": "",
       "font_size": null,
       "text_color": null
      }
     },
     "e3049d0181a64e90b6f8b2f2452f6c34": {
      "model_module": "@jupyter-widgets/base",
      "model_module_version": "2.0.0",
      "model_name": "LayoutModel",
      "state": {
       "_view_name": "ErrorWidgetView",
       "error": {},
       "msg": "Failed to load model class 'LayoutModel' from module '@jupyter-widgets/base'",
       "width": "15%"
      }
     },
     "e33fd413783a42d0a956d1d8b77739bb": {
      "model_module": "@jupyter-widgets/controls",
      "model_module_version": "2.0.0",
      "model_name": "DescriptionStyleModel",
      "state": {
       "_view_name": "ErrorWidgetView",
       "description_width": "",
       "error": {},
       "msg": "Failed to load model class 'DescriptionStyleModel' from module '@jupyter-widgets/controls'"
      }
     },
     "e392dde8a0064ec9987621a482b36532": {
      "model_module": "@jupyter-widgets/base",
      "model_module_version": "2.0.0",
      "model_name": "LayoutModel",
      "state": {
       "_view_name": "ErrorWidgetView",
       "error": {},
       "msg": "Failed to load model class 'LayoutModel' from module '@jupyter-widgets/base'",
       "width": "15%"
      }
     },
     "e39b458d1a03484b994931c6143109b7": {
      "model_module": "@jupyter-widgets/controls",
      "model_module_version": "2.0.0",
      "model_name": "DropdownModel",
      "state": {
       "_options_labels": [
        "sv/av/pv/rv",
        "sv/av/pv",
        "sv/av",
        "sp/ap/pp/rp",
        "sp/ap/pp",
        "sp/ap",
        "power/amp",
        "av",
        "ap",
        "amp",
        "sv",
        "sp",
        "pv",
        "pp",
        "rv",
        "rp",
        "power"
       ],
       "_view_name": "ErrorWidgetView",
       "description": "wci value",
       "error": {},
       "index": 0,
       "layout": "IPY_MODEL_234d6188e5f6451793df4561c020462e",
       "msg": "Failed to load model class 'DropdownModel' from module '@jupyter-widgets/controls'",
       "style": "IPY_MODEL_4879f3000ca0419fa9242ecbc9a493ce"
      }
     },
     "e3e6ca73936a4e2e98ce658581f3f988": {
      "model_module": "@jupyter-widgets/base",
      "model_module_version": "2.0.0",
      "model_name": "LayoutModel",
      "state": {
       "_view_name": "ErrorWidgetView",
       "error": {},
       "msg": "Failed to load model class 'LayoutModel' from module '@jupyter-widgets/base'"
      }
     },
     "e3f7d78b176a41b3bd5f0bc0a1b2d4ee": {
      "model_module": "@jupyter-widgets/controls",
      "model_module_version": "2.0.0",
      "model_name": "HBoxModel",
      "state": {
       "_view_name": "ErrorWidgetView",
       "children": [
        "IPY_MODEL_52ecbb36610e454492e52eacb5b559ed",
        "IPY_MODEL_9d4132832fc948439dc9b4937d508b65",
        "IPY_MODEL_2f406bca5b604e4caa7c26a30d455545",
        "IPY_MODEL_c3d9d73f7cdd4395877b79cc2b45f4f2",
        "IPY_MODEL_99975a3009424f148ccfa587f05411f4",
        "IPY_MODEL_998323cb5e7845b38aa247480dc58c1d"
       ],
       "error": {},
       "layout": "IPY_MODEL_4f36ee679add419eaebd18a868cceaa5",
       "msg": "Failed to load model class 'HBoxModel' from module '@jupyter-widgets/controls'"
      }
     },
     "e400689fae5e4bda85258fe747f9ebdf": {
      "model_module": "@jupyter-widgets/controls",
      "model_module_version": "2.0.0",
      "model_name": "SliderStyleModel",
      "state": {
       "_view_name": "ErrorWidgetView",
       "description_width": "",
       "error": {},
       "msg": "Failed to load model class 'SliderStyleModel' from module '@jupyter-widgets/controls'"
      }
     },
     "e42698f99529470f91fa3274c48f5c20": {
      "model_module": "@jupyter-widgets/controls",
      "model_module_version": "2.0.0",
      "model_name": "HBoxModel",
      "state": {
       "_view_name": "ErrorWidgetView",
       "children": [
        "IPY_MODEL_3990b9a8317b43b1bdbca45fb5140573",
        "IPY_MODEL_363147a4d53748338ab76761ece70165",
        "IPY_MODEL_d7aee82e8b4f4f9cadec03c8e6815810",
        "IPY_MODEL_6b123ee772b84902b7245223655d5641"
       ],
       "error": {},
       "layout": "IPY_MODEL_f4e186c0f7b34d6aa53778589f9ad374",
       "msg": "Failed to load model class 'HBoxModel' from module '@jupyter-widgets/controls'"
      }
     },
     "e44268a28dd8465eb88318945f0696dd": {
      "model_module": "@jupyter-widgets/controls",
      "model_module_version": "2.0.0",
      "model_name": "DescriptionStyleModel",
      "state": {
       "_view_name": "ErrorWidgetView",
       "description_width": "",
       "error": {},
       "msg": "Failed to load model class 'DescriptionStyleModel' from module '@jupyter-widgets/controls'"
      }
     },
     "e46d47bff5034debbcb261702a1b6dc6": {
      "model_module": "@jupyter-widgets/base",
      "model_module_version": "2.0.0",
      "model_name": "LayoutModel",
      "state": {
       "_view_name": "ErrorWidgetView",
       "error": {},
       "msg": "Failed to load model class 'LayoutModel' from module '@jupyter-widgets/base'"
      }
     },
     "e4743622f359467aaa9ad4f28cf3e83b": {
      "model_module": "@jupyter-widgets/controls",
      "model_module_version": "2.0.0",
      "model_name": "DescriptionStyleModel",
      "state": {
       "_view_name": "ErrorWidgetView",
       "description_width": "",
       "error": {},
       "msg": "Failed to load model class 'DescriptionStyleModel' from module '@jupyter-widgets/controls'"
      }
     },
     "e4c468e4b5ab4c999a6793bd4862935c": {
      "model_module": "@jupyter-widgets/base",
      "model_module_version": "2.0.0",
      "model_name": "LayoutModel",
      "state": {}
     },
     "e4d05133a1364ebb9132286b492cd257": {
      "model_module": "@jupyter-widgets/controls",
      "model_module_version": "2.0.0",
      "model_name": "IntTextModel",
      "state": {
       "_view_name": "ErrorWidgetView",
       "description": "stack:",
       "error": {},
       "layout": "IPY_MODEL_22150f90d5d3498382098bb3cd8a2adb",
       "msg": "Failed to load model class 'IntTextModel' from module '@jupyter-widgets/controls'",
       "step": 1,
       "style": "IPY_MODEL_109f8a52c8324088b3827f2d7cda8284",
       "value": 1
      }
     },
     "e4ee181a53014d6aa4918939cb879f2d": {
      "model_module": "@jupyter-widgets/controls",
      "model_module_version": "2.0.0",
      "model_name": "IntSliderModel",
      "state": {
       "behavior": "drag-tap",
       "description": "ping nr",
       "layout": "IPY_MODEL_d187eb30fe68404584b0d066b1a14dca",
       "max": 73,
       "style": "IPY_MODEL_bfc481e26fea4819a11418ca2af8c1c8"
      }
     },
     "e5060cd79afa4712ab276fc44e8da246": {
      "model_module": "@jupyter-widgets/controls",
      "model_module_version": "2.0.0",
      "model_name": "FloatSliderModel",
      "state": {
       "_view_name": "ErrorWidgetView",
       "description": "vmax",
       "error": {},
       "layout": "IPY_MODEL_824e8e7bfd984b88b8f31efc4d0db76c",
       "min": -150,
       "msg": "Failed to load model class 'FloatSliderModel' from module '@jupyter-widgets/controls'",
       "step": 5,
       "style": "IPY_MODEL_2e46154df830402f8c721cd0ef4c46f9",
       "value": -25
      }
     },
     "e51a0ae5670a44daba5a7e2fc405398e": {
      "model_module": "@jupyter-widgets/controls",
      "model_module_version": "2.0.0",
      "model_name": "SliderStyleModel",
      "state": {
       "_view_name": "ErrorWidgetView",
       "description_width": "",
       "error": {},
       "msg": "Failed to load model class 'SliderStyleModel' from module '@jupyter-widgets/controls'"
      }
     },
     "e556f2c5eb7c40c7bad5be2176f4103e": {
      "model_module": "@jupyter-widgets/controls",
      "model_module_version": "2.0.0",
      "model_name": "HBoxModel",
      "state": {
       "_view_name": "ErrorWidgetView",
       "children": [
        "IPY_MODEL_a47abda425dc4c06a81b7ddc0134efe9",
        "IPY_MODEL_d1ee7d023c31422ca5b16d259caaf84e",
        "IPY_MODEL_87dc9db0c64b4ff1aff8e76f917994fb",
        "IPY_MODEL_441b7a50285c4a13ad99eb62d749d567"
       ],
       "error": {},
       "layout": "IPY_MODEL_a7c33bee57e34fc7aae7341031345858",
       "msg": "Failed to load model class 'HBoxModel' from module '@jupyter-widgets/controls'"
      }
     },
     "e55a8f2e1da24f8a8fe29be14d056863": {
      "model_module": "@jupyter-widgets/controls",
      "model_module_version": "2.0.0",
      "model_name": "DescriptionStyleModel",
      "state": {
       "_view_name": "ErrorWidgetView",
       "description_width": "",
       "error": {},
       "msg": "Failed to load model class 'DescriptionStyleModel' from module '@jupyter-widgets/controls'"
      }
     },
     "e56a8c6a270a4650a2da9733d5c27286": {
      "model_module": "@jupyter-widgets/controls",
      "model_module_version": "2.0.0",
      "model_name": "HBoxModel",
      "state": {
       "_view_name": "ErrorWidgetView",
       "children": [
        "IPY_MODEL_b5c2ed2cc2194bb7bd418a00485662f6",
        "IPY_MODEL_72ab34df37ab446dbdf961896301cd52",
        "IPY_MODEL_6c64f31534334778b44d66bbb028f6b4",
        "IPY_MODEL_2766ae66fcb34640b40f0fc34bc3937c"
       ],
       "error": {},
       "layout": "IPY_MODEL_d0abee8671ce4e5296a0918fb1c74b38",
       "msg": "Failed to load model class 'HBoxModel' from module '@jupyter-widgets/controls'"
      }
     },
     "e57853c583264a66bbc74223ae2d66da": {
      "model_module": "@jupyter-widgets/controls",
      "model_module_version": "2.0.0",
      "model_name": "DescriptionStyleModel",
      "state": {
       "_view_name": "ErrorWidgetView",
       "description_width": "",
       "error": {},
       "msg": "Failed to load model class 'DescriptionStyleModel' from module '@jupyter-widgets/controls'"
      }
     },
     "e59862fb515142dbbbfce50eacbe712b": {
      "model_module": "@jupyter-widgets/base",
      "model_module_version": "2.0.0",
      "model_name": "LayoutModel",
      "state": {
       "_view_name": "ErrorWidgetView",
       "error": {},
       "msg": "Failed to load model class 'LayoutModel' from module '@jupyter-widgets/base'"
      }
     },
     "e6288fd4b6414f4f8668ab5f11535323": {
      "model_module": "@jupyter-widgets/base",
      "model_module_version": "2.0.0",
      "model_name": "LayoutModel",
      "state": {
       "_view_name": "ErrorWidgetView",
       "error": {},
       "msg": "Failed to load model class 'LayoutModel' from module '@jupyter-widgets/base'"
      }
     },
     "e66055cc4b064306b1a0aaf742e9e966": {
      "model_module": "@jupyter-widgets/controls",
      "model_module_version": "2.0.0",
      "model_name": "SliderStyleModel",
      "state": {
       "_view_name": "ErrorWidgetView",
       "description_width": "",
       "error": {},
       "msg": "Failed to load model class 'SliderStyleModel' from module '@jupyter-widgets/controls'"
      }
     },
     "e6658a5c75164eae9ffc9ae0d6cf2f20": {
      "model_module": "@jupyter-widgets/controls",
      "model_module_version": "2.0.0",
      "model_name": "IntSliderModel",
      "state": {
       "_view_name": "ErrorWidgetView",
       "description": "ping nr",
       "error": {},
       "layout": "IPY_MODEL_5b7b4ac1d6e24fb1babb43261b170eba",
       "max": 66,
       "msg": "Failed to load model class 'IntSliderModel' from module '@jupyter-widgets/controls'",
       "style": "IPY_MODEL_22fc30a1f31d43058c3da8a6393de294",
       "value": 44
      }
     },
     "e66bcb6290b041dca6f51cf5549fe6fa": {
      "model_module": "@jupyter-widgets/base",
      "model_module_version": "2.0.0",
      "model_name": "LayoutModel",
      "state": {
       "_view_name": "ErrorWidgetView",
       "error": {},
       "msg": "Failed to load model class 'LayoutModel' from module '@jupyter-widgets/base'"
      }
     },
     "e68455bbde8340419104b545af55101d": {
      "model_module": "@jupyter-widgets/controls",
      "model_module_version": "2.0.0",
      "model_name": "DescriptionStyleModel",
      "state": {
       "_view_name": "ErrorWidgetView",
       "description_width": "",
       "error": {},
       "msg": "Failed to load model class 'DescriptionStyleModel' from module '@jupyter-widgets/controls'"
      }
     },
     "e68a45d9a20c498abcb5b96c38143df6": {
      "model_module": "@jupyter-widgets/controls",
      "model_module_version": "2.0.0",
      "model_name": "DropdownModel",
      "state": {
       "_options_labels": [
        "sv/av/pv/rv",
        "sv/av/pv",
        "sv/av",
        "sp/ap/pp/rp",
        "sp/ap/pp",
        "sp/ap",
        "power/amp",
        "av",
        "ap",
        "amp",
        "sv",
        "sp",
        "pv",
        "pp",
        "rv",
        "rp",
        "power"
       ],
       "_view_name": "ErrorWidgetView",
       "description": "wci value",
       "error": {},
       "index": 0,
       "layout": "IPY_MODEL_540775bfbdc64453ad77036bbb34cebc",
       "msg": "Failed to load model class 'DropdownModel' from module '@jupyter-widgets/controls'",
       "style": "IPY_MODEL_a2c9143277e24d7bba430c5f1c07fcc8"
      }
     },
     "e6a80d6a63d54931a6533a7c74aaa452": {
      "model_module": "@jupyter-widgets/base",
      "model_module_version": "2.0.0",
      "model_name": "LayoutModel",
      "state": {
       "_view_name": "ErrorWidgetView",
       "error": {},
       "msg": "Failed to load model class 'LayoutModel' from module '@jupyter-widgets/base'"
      }
     },
     "e742800e50764b1093dd6b4bc08efd4e": {
      "model_module": "@jupyter-widgets/base",
      "model_module_version": "2.0.0",
      "model_name": "LayoutModel",
      "state": {
       "_view_name": "ErrorWidgetView",
       "error": {},
       "msg": "Failed to load model class 'LayoutModel' from module '@jupyter-widgets/base'",
       "width": "10%"
      }
     },
     "e76e44a3390942b98e159fc3163b1f99": {
      "model_module": "@jupyter-widgets/controls",
      "model_module_version": "2.0.0",
      "model_name": "DescriptionStyleModel",
      "state": {
       "_view_name": "ErrorWidgetView",
       "description_width": "",
       "error": {},
       "msg": "Failed to load model class 'DescriptionStyleModel' from module '@jupyter-widgets/controls'"
      }
     },
     "e7851142c41a427ca020ed8a7af6f47a": {
      "model_module": "@jupyter-widgets/controls",
      "model_module_version": "2.0.0",
      "model_name": "ButtonStyleModel",
      "state": {
       "_view_name": "ErrorWidgetView",
       "error": {},
       "msg": "Failed to load model class 'ButtonStyleModel' from module '@jupyter-widgets/controls'"
      }
     },
     "e79f328223d1411fb33a72771dd67262": {
      "model_module": "@jupyter-widgets/controls",
      "model_module_version": "2.0.0",
      "model_name": "DescriptionStyleModel",
      "state": {
       "_view_name": "ErrorWidgetView",
       "description_width": "",
       "error": {},
       "msg": "Failed to load model class 'DescriptionStyleModel' from module '@jupyter-widgets/controls'"
      }
     },
     "e7aff0173e284c1685652ab5bdb389c5": {
      "model_module": "@jupyter-widgets/controls",
      "model_module_version": "2.0.0",
      "model_name": "HBoxModel",
      "state": {
       "_view_name": "ErrorWidgetView",
       "children": [
        "IPY_MODEL_86bab2b88169417084a2a538b2bd3dff",
        "IPY_MODEL_485cb47eabb1487bb285087b2e6055b5",
        "IPY_MODEL_73221ad004334bbcbcc877c2c3c3ae88",
        "IPY_MODEL_1735be867d7940e78f626b6552e53c88",
        "IPY_MODEL_60e85f97251a4095b4cc91e76821d51f",
        "IPY_MODEL_d05e4f40dbcf4e7f95b204ca38901eaf"
       ],
       "error": {},
       "layout": "IPY_MODEL_7c81cac36ad0446c8586aed79ee3f929",
       "msg": "Failed to load model class 'HBoxModel' from module '@jupyter-widgets/controls'"
      }
     },
     "e7bc2eef71c344c7a7c0e38938a01fcf": {
      "model_module": "@jupyter-widgets/controls",
      "model_module_version": "2.0.0",
      "model_name": "DescriptionStyleModel",
      "state": {
       "_view_name": "ErrorWidgetView",
       "description_width": "",
       "error": {},
       "msg": "Failed to load model class 'DescriptionStyleModel' from module '@jupyter-widgets/controls'"
      }
     },
     "e7c7322f0047439b9ffe2154fdd03dbd": {
      "model_module": "@jupyter-widgets/controls",
      "model_module_version": "2.0.0",
      "model_name": "CheckboxModel",
      "state": {
       "_view_name": "ErrorWidgetView",
       "description": "stack_linear",
       "disabled": false,
       "error": {},
       "layout": "IPY_MODEL_e1a31b455c8c4924ad3aee48b63a4e20",
       "msg": "Failed to load model class 'CheckboxModel' from module '@jupyter-widgets/controls'",
       "style": "IPY_MODEL_1d9c762e40984f37a7ad4d12d927bdef",
       "value": true
      }
     },
     "e7df2159020941c6bcf2ed2d8b3690f3": {
      "model_module": "@jupyter-widgets/controls",
      "model_module_version": "2.0.0",
      "model_name": "DescriptionStyleModel",
      "state": {
       "_view_name": "ErrorWidgetView",
       "description_width": "",
       "error": {},
       "msg": "Failed to load model class 'DescriptionStyleModel' from module '@jupyter-widgets/controls'"
      }
     },
     "e82e1c44dcb846c9b941514801c34d95": {
      "model_module": "@jupyter-widgets/base",
      "model_module_version": "2.0.0",
      "model_name": "LayoutModel",
      "state": {
       "_view_name": "ErrorWidgetView",
       "error": {},
       "msg": "Failed to load model class 'LayoutModel' from module '@jupyter-widgets/base'"
      }
     },
     "e84f17d027164ad29190850ddb7ea943": {
      "model_module": "@jupyter-widgets/controls",
      "model_module_version": "2.0.0",
      "model_name": "DescriptionStyleModel",
      "state": {
       "_view_name": "ErrorWidgetView",
       "description_width": "",
       "error": {},
       "msg": "Failed to load model class 'DescriptionStyleModel' from module '@jupyter-widgets/controls'"
      }
     },
     "e85179b4a55d48cabbea8b463bacfc9f": {
      "model_module": "@jupyter-widgets/base",
      "model_module_version": "2.0.0",
      "model_name": "LayoutModel",
      "state": {}
     },
     "e87a8932a75a45aebd2a8815c666cb53": {
      "model_module": "@jupyter-widgets/controls",
      "model_module_version": "2.0.0",
      "model_name": "SliderStyleModel",
      "state": {
       "_view_name": "ErrorWidgetView",
       "description_width": "",
       "error": {},
       "msg": "Failed to load model class 'SliderStyleModel' from module '@jupyter-widgets/controls'"
      }
     },
     "e93d4a2dcdf24e04811ab2617de11edd": {
      "model_module": "@jupyter-widgets/controls",
      "model_module_version": "2.0.0",
      "model_name": "DescriptionStyleModel",
      "state": {
       "_view_name": "ErrorWidgetView",
       "description_width": "",
       "error": {},
       "msg": "Failed to load model class 'DescriptionStyleModel' from module '@jupyter-widgets/controls'"
      }
     },
     "e96cc108b19b45c0ae0bb71ffebe23fe": {
      "model_module": "@jupyter-widgets/controls",
      "model_module_version": "2.0.0",
      "model_name": "DescriptionStyleModel",
      "state": {
       "_view_name": "ErrorWidgetView",
       "description_width": "",
       "error": {},
       "msg": "Failed to load model class 'DescriptionStyleModel' from module '@jupyter-widgets/controls'"
      }
     },
     "e9d8748f2d624186906b7e4c68ab2cb3": {
      "model_module": "@jupyter-widgets/controls",
      "model_module_version": "2.0.0",
      "model_name": "HBoxModel",
      "state": {
       "_view_name": "ErrorWidgetView",
       "children": [
        "IPY_MODEL_ab5595e2cb044402af560b5cf91bf7ac",
        "IPY_MODEL_2f519c305c514af18d76ffcb50d1b248",
        "IPY_MODEL_c705939cf8eb416595363ecc40fc8032",
        "IPY_MODEL_f1362f9d39284ba7a23609450a2fe890",
        "IPY_MODEL_27bfdbfc4e174062ab05934545db8447"
       ],
       "error": {},
       "layout": "IPY_MODEL_adb9027d5bdf4d3cb3d728927f9f7a2a",
       "msg": "Failed to load model class 'HBoxModel' from module '@jupyter-widgets/controls'"
      }
     },
     "ea42bbf54e694ef9ae96b57e074d3479": {
      "model_module": "@jupyter-widgets/controls",
      "model_module_version": "2.0.0",
      "model_name": "SliderStyleModel",
      "state": {
       "_view_name": "ErrorWidgetView",
       "description_width": "",
       "error": {},
       "msg": "Failed to load model class 'SliderStyleModel' from module '@jupyter-widgets/controls'"
      }
     },
     "ea7d1670189e46a2a31f8aa7ded73471": {
      "model_module": "@jupyter-widgets/base",
      "model_module_version": "2.0.0",
      "model_name": "LayoutModel",
      "state": {
       "_view_name": "ErrorWidgetView",
       "error": {},
       "msg": "Failed to load model class 'LayoutModel' from module '@jupyter-widgets/base'"
      }
     },
     "eab032444196421ba916d722e0119c42": {
      "model_module": "@jupyter-widgets/controls",
      "model_module_version": "2.0.0",
      "model_name": "SliderStyleModel",
      "state": {
       "_view_name": "ErrorWidgetView",
       "description_width": "",
       "error": {},
       "msg": "Failed to load model class 'SliderStyleModel' from module '@jupyter-widgets/controls'"
      }
     },
     "eab0dce51db24c75b0d272d67c20103b": {
      "model_module": "@jupyter-widgets/base",
      "model_module_version": "2.0.0",
      "model_name": "LayoutModel",
      "state": {
       "_view_name": "ErrorWidgetView",
       "error": {},
       "msg": "Failed to load model class 'LayoutModel' from module '@jupyter-widgets/base'"
      }
     },
     "eacc2a79b4a54cbea79d9cef36b3d448": {
      "model_module": "@jupyter-widgets/base",
      "model_module_version": "2.0.0",
      "model_name": "LayoutModel",
      "state": {
       "_view_name": "ErrorWidgetView",
       "error": {},
       "msg": "Failed to load model class 'LayoutModel' from module '@jupyter-widgets/base'"
      }
     },
     "eb450910305543a7a4a7aa1e7f9e77d6": {
      "model_module": "@jupyter-widgets/base",
      "model_module_version": "2.0.0",
      "model_name": "LayoutModel",
      "state": {
       "_view_name": "ErrorWidgetView",
       "error": {},
       "msg": "Failed to load model class 'LayoutModel' from module '@jupyter-widgets/base'"
      }
     },
     "eb5117bdc69d4737b5adde6f93892a31": {
      "model_module": "@jupyter-widgets/controls",
      "model_module_version": "2.0.0",
      "model_name": "DescriptionStyleModel",
      "state": {
       "_view_name": "ErrorWidgetView",
       "description_width": "",
       "error": {},
       "msg": "Failed to load model class 'DescriptionStyleModel' from module '@jupyter-widgets/controls'"
      }
     },
     "eb663a79866747479a48e608388ce1f7": {
      "model_module": "@jupyter-widgets/base",
      "model_module_version": "2.0.0",
      "model_name": "LayoutModel",
      "state": {
       "_view_name": "ErrorWidgetView",
       "error": {},
       "msg": "Failed to load model class 'LayoutModel' from module '@jupyter-widgets/base'"
      }
     },
     "eba213e08fcc4c6c9453a60d8299da6f": {
      "model_module": "@jupyter-widgets/base",
      "model_module_version": "2.0.0",
      "model_name": "LayoutModel",
      "state": {
       "_view_name": "ErrorWidgetView",
       "error": {},
       "msg": "Failed to load model class 'LayoutModel' from module '@jupyter-widgets/base'"
      }
     },
     "ebde0d11f403415aa55520b4c51f66f8": {
      "model_module": "@jupyter-widgets/controls",
      "model_module_version": "2.0.0",
      "model_name": "ProgressStyleModel",
      "state": {
       "_view_name": "ErrorWidgetView",
       "description_width": "",
       "error": {},
       "msg": "Failed to load model class 'ProgressStyleModel' from module '@jupyter-widgets/controls'"
      }
     },
     "ec03100c787947e8a395e25158cab73a": {
      "model_module": "@jupyter-widgets/controls",
      "model_module_version": "2.0.0",
      "model_name": "DropdownModel",
      "state": {
       "_options_labels": [
        "sv/av/pv/rv",
        "sv/av/pv",
        "sv/av",
        "sp/ap/pp/rp",
        "sp/ap/pp",
        "sp/ap",
        "power/amp",
        "av",
        "ap",
        "amp",
        "sv",
        "sp",
        "pv",
        "pp",
        "rv",
        "rp",
        "power"
       ],
       "_view_name": "ErrorWidgetView",
       "description": "wci value",
       "error": {},
       "index": 0,
       "layout": "IPY_MODEL_a2fd633fccf44e03bbf783591969f33d",
       "msg": "Failed to load model class 'DropdownModel' from module '@jupyter-widgets/controls'",
       "style": "IPY_MODEL_9381bf0e647c47cb97ff07a5eeb43fb5"
      }
     },
     "ec06fe3bd47044b4b57466e136b54353": {
      "model_module": "@jupyter-widgets/controls",
      "model_module_version": "2.0.0",
      "model_name": "HBoxModel",
      "state": {
       "layout": "IPY_MODEL_e4c468e4b5ab4c999a6793bd4862935c"
      }
     },
     "ec0cc9954726494eae9b584723a3b385": {
      "model_module": "@jupyter-widgets/controls",
      "model_module_version": "2.0.0",
      "model_name": "SliderStyleModel",
      "state": {
       "_view_name": "ErrorWidgetView",
       "description_width": "",
       "error": {},
       "msg": "Failed to load model class 'SliderStyleModel' from module '@jupyter-widgets/controls'"
      }
     },
     "ec173b2bdf7545c8a7fbf812a5627641": {
      "model_module": "@jupyter-widgets/base",
      "model_module_version": "2.0.0",
      "model_name": "LayoutModel",
      "state": {
       "_view_name": "ErrorWidgetView",
       "error": {},
       "msg": "Failed to load model class 'LayoutModel' from module '@jupyter-widgets/base'",
       "width": "10%"
      }
     },
     "ec91705147f94bb0b577f301002f573f": {
      "model_module": "@jupyter-widgets/base",
      "model_module_version": "2.0.0",
      "model_name": "LayoutModel",
      "state": {
       "_view_name": "ErrorWidgetView",
       "error": {},
       "msg": "Failed to load model class 'LayoutModel' from module '@jupyter-widgets/base'"
      }
     },
     "ec9cc6c4cdaf4afb9a1d3095256f1cb2": {
      "model_module": "@jupyter-widgets/base",
      "model_module_version": "2.0.0",
      "model_name": "LayoutModel",
      "state": {
       "_view_name": "ErrorWidgetView",
       "error": {},
       "msg": "Failed to load model class 'LayoutModel' from module '@jupyter-widgets/base'"
      }
     },
     "ecc6d84e6ded4113b3dd48481e8723c7": {
      "model_module": "@jupyter-widgets/base",
      "model_module_version": "2.0.0",
      "model_name": "LayoutModel",
      "state": {
       "_view_name": "ErrorWidgetView",
       "error": {},
       "msg": "Failed to load model class 'LayoutModel' from module '@jupyter-widgets/base'",
       "width": "10%"
      }
     },
     "ecd5757241c046ff8fdc5d033e63d5fe": {
      "model_module": "@jupyter-widgets/controls",
      "model_module_version": "2.0.0",
      "model_name": "IntTextModel",
      "state": {
       "_view_name": "ErrorWidgetView",
       "description": "stack:",
       "error": {},
       "layout": "IPY_MODEL_b12370c479f04808916d503ccf934909",
       "msg": "Failed to load model class 'IntTextModel' from module '@jupyter-widgets/controls'",
       "step": 1,
       "style": "IPY_MODEL_539ea77f543040ab8ce6c3273255c02d",
       "value": 1
      }
     },
     "ed3ff19ce12946049d436c2c399d1a16": {
      "model_module": "@jupyter-widgets/base",
      "model_module_version": "2.0.0",
      "model_name": "LayoutModel",
      "state": {
       "_view_name": "ErrorWidgetView",
       "error": {},
       "msg": "Failed to load model class 'LayoutModel' from module '@jupyter-widgets/base'"
      }
     },
     "ed61570f3f744272b72f7e6dad4e5ee4": {
      "model_module": "@jupyter-widgets/controls",
      "model_module_version": "2.0.0",
      "model_name": "HBoxModel",
      "state": {
       "_view_name": "ErrorWidgetView",
       "children": [
        "IPY_MODEL_b821a27a70bd44b39677a661d97d0274",
        "IPY_MODEL_ce56b166913440ce9eb12111eae6462d",
        "IPY_MODEL_174f906cd50b450596988b6ca32c7341",
        "IPY_MODEL_1bcf5b8f62394dc0a04d7b0519b93920",
        "IPY_MODEL_8231fc77c44e4daa915d5a81361aaea9"
       ],
       "error": {},
       "layout": "IPY_MODEL_0e50d291177d41ab81e365cac48f8d48",
       "msg": "Failed to load model class 'HBoxModel' from module '@jupyter-widgets/controls'"
      }
     },
     "ed89472ae8654cee8acf553dc31a8dae": {
      "model_module": "@jupyter-widgets/controls",
      "model_module_version": "2.0.0",
      "model_name": "ButtonModel",
      "state": {
       "_view_name": "ErrorWidgetView",
       "button_style": "warning",
       "description": "fix x/y",
       "error": {},
       "layout": "IPY_MODEL_fa749de67290477fbd0fd0bd71f898ae",
       "msg": "Failed to load model class 'ButtonModel' from module '@jupyter-widgets/controls'",
       "style": "IPY_MODEL_6eec7a7206c6409991bcfdb2ddac16e3"
      }
     },
     "edbe46bc612f49dcaf17894ef1c72ed5": {
      "model_module": "@jupyter-widgets/controls",
      "model_module_version": "2.0.0",
      "model_name": "DropdownModel",
      "state": {
       "_options_labels": [
        "linear",
        "beamsample"
       ],
       "_view_name": "ErrorWidgetView",
       "description": "wci render",
       "error": {},
       "index": 0,
       "layout": "IPY_MODEL_510e958f1f4948da8d3b012349fbfac1",
       "msg": "Failed to load model class 'DropdownModel' from module '@jupyter-widgets/controls'",
       "style": "IPY_MODEL_e0bc352389724e3c8c54d0b5a9b5ec5e"
      }
     },
     "ede7662436df4621a5cb86aed779ac15": {
      "model_module": "@jupyter-widgets/base",
      "model_module_version": "2.0.0",
      "model_name": "LayoutModel",
      "state": {
       "_view_name": "ErrorWidgetView",
       "error": {},
       "msg": "Failed to load model class 'LayoutModel' from module '@jupyter-widgets/base'"
      }
     },
     "edeccd75571d45eead62d7c9910b5330": {
      "model_module": "@jupyter-widgets/base",
      "model_module_version": "2.0.0",
      "model_name": "LayoutModel",
      "state": {
       "_view_name": "ErrorWidgetView",
       "error": {},
       "msg": "Failed to load model class 'LayoutModel' from module '@jupyter-widgets/base'"
      }
     },
     "ee1bc06fe96243a8947a0530e356f430": {
      "model_module": "@jupyter-widgets/controls",
      "model_module_version": "2.0.0",
      "model_name": "DescriptionStyleModel",
      "state": {
       "_view_name": "ErrorWidgetView",
       "description_width": "",
       "error": {},
       "msg": "Failed to load model class 'DescriptionStyleModel' from module '@jupyter-widgets/controls'"
      }
     },
     "ee3a3c140d7c4d43b8de7d7ec80455aa": {
      "model_module": "@jupyter-widgets/controls",
      "model_module_version": "2.0.0",
      "model_name": "DescriptionStyleModel",
      "state": {
       "_view_name": "ErrorWidgetView",
       "description_width": "",
       "error": {},
       "msg": "Failed to load model class 'DescriptionStyleModel' from module '@jupyter-widgets/controls'"
      }
     },
     "ee7c454899ed4019826027f1626db9d1": {
      "model_module": "@jupyter-widgets/controls",
      "model_module_version": "2.0.0",
      "model_name": "TextModel",
      "state": {
       "_view_name": "ErrorWidgetView",
       "description": "proc time",
       "error": {},
       "layout": "IPY_MODEL_88010b7726134c25b050202c47dc492a",
       "msg": "Failed to load model class 'TextModel' from module '@jupyter-widgets/controls'",
       "style": "IPY_MODEL_af4a0a0989c64f90905ff2748013223d",
       "value": "0.034 / 0.088 / [0.121] s"
      }
     },
     "ee971509cf414a60a0fb1e91fa067cc1": {
      "model_module": "@jupyter-widgets/controls",
      "model_module_version": "2.0.0",
      "model_name": "IntSliderModel",
      "state": {
       "_view_name": "ErrorWidgetView",
       "description": "ping nr",
       "error": {},
       "layout": "IPY_MODEL_a860ca248cf345168b59e51b2010e296",
       "max": 66,
       "msg": "Failed to load model class 'IntSliderModel' from module '@jupyter-widgets/controls'",
       "style": "IPY_MODEL_fc3bbb55d1d94b1cba217d4d73a234c4",
       "value": 65
      }
     },
     "eef1408bf69c4271835ca608c30ea25c": {
      "model_module": "@jupyter-widgets/controls",
      "model_module_version": "2.0.0",
      "model_name": "SliderStyleModel",
      "state": {
       "_view_name": "ErrorWidgetView",
       "description_width": "",
       "error": {},
       "msg": "Failed to load model class 'SliderStyleModel' from module '@jupyter-widgets/controls'"
      }
     },
     "ef095f80f6634ce5a34fc615bb4f75ad": {
      "model_module": "@jupyter-widgets/base",
      "model_module_version": "2.0.0",
      "model_name": "LayoutModel",
      "state": {}
     },
     "ef98677129524e22aca4a0c802a06ba1": {
      "model_module": "@jupyter-widgets/base",
      "model_module_version": "2.0.0",
      "model_name": "LayoutModel",
      "state": {
       "_view_name": "ErrorWidgetView",
       "error": {},
       "msg": "Failed to load model class 'LayoutModel' from module '@jupyter-widgets/base'",
       "width": "15%"
      }
     },
     "f0f61cd26305445fa7f6e0244ac9ed77": {
      "model_module": "@jupyter-widgets/controls",
      "model_module_version": "2.0.0",
      "model_name": "HBoxModel",
      "state": {
       "_view_name": "ErrorWidgetView",
       "children": [
        "IPY_MODEL_bdc5f80898e44d1897dd26225cacf680",
        "IPY_MODEL_25a5be5aa8d84670b72fb619f4d55a04",
        "IPY_MODEL_5bd457ebc50c4035b047ff3539b9c585",
        "IPY_MODEL_ff783c70831d43c188f6a46c1bd8cf61",
        "IPY_MODEL_d97688d7ed1e41f9807fce34cc9876a3",
        "IPY_MODEL_f780d7c792dd4f589fb6dfaf22d066e6"
       ],
       "error": {},
       "layout": "IPY_MODEL_11ab63b408864007857af9281eaa2717",
       "msg": "Failed to load model class 'HBoxModel' from module '@jupyter-widgets/controls'"
      }
     },
     "f104c8de4c2f4ef0857ea76d60730929": {
      "model_module": "@jupyter-widgets/base",
      "model_module_version": "2.0.0",
      "model_name": "LayoutModel",
      "state": {
       "_view_name": "ErrorWidgetView",
       "error": {},
       "msg": "Failed to load model class 'LayoutModel' from module '@jupyter-widgets/base'"
      }
     },
     "f1362f9d39284ba7a23609450a2fe890": {
      "model_module": "@jupyter-widgets/controls",
      "model_module_version": "2.0.0",
      "model_name": "TextModel",
      "state": {
       "_view_name": "ErrorWidgetView",
       "description": "proc time",
       "error": {},
       "layout": "IPY_MODEL_cc9c7fca13154ac8a5d3badb72e5261f",
       "msg": "Failed to load model class 'TextModel' from module '@jupyter-widgets/controls'",
       "style": "IPY_MODEL_73f05b5156504d7f9ffced01d093e578",
       "value": "0.026 / 0.115 / [0.141] s"
      }
     },
     "f172a133715a427f976c237640d2d53d": {
      "model_module": "@jupyter-widgets/controls",
      "model_module_version": "2.0.0",
      "model_name": "IntTextModel",
      "state": {
       "description": "stack step:",
       "layout": "IPY_MODEL_32fddbac18b4459794994565be243dc0",
       "step": 1,
       "style": "IPY_MODEL_40cfa20b146a40b99816943ddbf17854",
       "value": 1
      }
     },
     "f1edc69f5cc945c3b98dc2cea1f185ad": {
      "model_module": "@jupyter-widgets/controls",
      "model_module_version": "2.0.0",
      "model_name": "ProgressStyleModel",
      "state": {
       "_view_name": "ErrorWidgetView",
       "description_width": "",
       "error": {},
       "msg": "Failed to load model class 'ProgressStyleModel' from module '@jupyter-widgets/controls'"
      }
     },
     "f2171006269c4e36b93901fb75d56a39": {
      "model_module": "@jupyter-widgets/base",
      "model_module_version": "2.0.0",
      "model_name": "LayoutModel",
      "state": {
       "_view_name": "ErrorWidgetView",
       "error": {},
       "msg": "Failed to load model class 'LayoutModel' from module '@jupyter-widgets/base'"
      }
     },
     "f283baeab1744cffa6b5d51f631038ca": {
      "model_module": "@jupyter-widgets/controls",
      "model_module_version": "2.0.0",
      "model_name": "FloatSliderModel",
      "state": {
       "_view_name": "ErrorWidgetView",
       "description": "vmin",
       "error": {},
       "layout": "IPY_MODEL_7426e3b1903a4af1817ee5e0715ca774",
       "min": -150,
       "msg": "Failed to load model class 'FloatSliderModel' from module '@jupyter-widgets/controls'",
       "step": 5,
       "style": "IPY_MODEL_8ced37037a9447538cc87aa69289f2b0",
       "value": -90
      }
     },
     "f28ccbfd6cb64b128872b142d4c0b2ab": {
      "model_module": "@jupyter-widgets/base",
      "model_module_version": "2.0.0",
      "model_name": "LayoutModel",
      "state": {}
     },
     "f28d766f9e694b5ea5b3e231e52e5059": {
      "model_module": "@jupyter-widgets/controls",
      "model_module_version": "2.0.0",
      "model_name": "HBoxModel",
      "state": {
       "_view_name": "ErrorWidgetView",
       "children": [
        "IPY_MODEL_e7c7322f0047439b9ffe2154fdd03dbd",
        "IPY_MODEL_51b7558f5a114540aa7eae754cbf60d2",
        "IPY_MODEL_d7683a4436ad4079bba8ad34f1dc5d6a",
        "IPY_MODEL_68da658554fc4d49833f054010d7d0e4"
       ],
       "error": {},
       "layout": "IPY_MODEL_df20f830eda4404e97d1c7781ec7aa3b",
       "msg": "Failed to load model class 'HBoxModel' from module '@jupyter-widgets/controls'"
      }
     },
     "f2a93bdfa1ad4f6cb30554c3386ca5a9": {
      "model_module": "@jupyter-widgets/base",
      "model_module_version": "2.0.0",
      "model_name": "LayoutModel",
      "state": {
       "_view_name": "ErrorWidgetView",
       "error": {},
       "msg": "Failed to load model class 'LayoutModel' from module '@jupyter-widgets/base'",
       "width": "15%"
      }
     },
     "f2c3ac1b51bd4a01b632e428ee590bef": {
      "model_module": "@jupyter-widgets/base",
      "model_module_version": "2.0.0",
      "model_name": "LayoutModel",
      "state": {}
     },
     "f2d65375c67d4d6aaecad59181350cd2": {
      "model_module": "@jupyter-widgets/base",
      "model_module_version": "2.0.0",
      "model_name": "LayoutModel",
      "state": {
       "_view_name": "ErrorWidgetView",
       "error": {},
       "msg": "Failed to load model class 'LayoutModel' from module '@jupyter-widgets/base'",
       "width": "15%"
      }
     },
     "f2dc8bf5af034cd7aa1007261faf433e": {
      "model_module": "@jupyter-widgets/controls",
      "model_module_version": "2.0.0",
      "model_name": "IntTextModel",
      "state": {
       "_view_name": "ErrorWidgetView",
       "description": "mp_cores:",
       "error": {},
       "layout": "IPY_MODEL_b6e7805df5df4e6083bcad15f3bf6244",
       "msg": "Failed to load model class 'IntTextModel' from module '@jupyter-widgets/controls'",
       "step": 1,
       "style": "IPY_MODEL_3672759d5f544719a7e3ac9e8d4673e2",
       "value": 1
      }
     },
     "f2dd9fd09c6b4651b142eced76ad5400": {
      "model_module": "@jupyter-widgets/controls",
      "model_module_version": "2.0.0",
      "model_name": "DescriptionStyleModel",
      "state": {
       "_view_name": "ErrorWidgetView",
       "description_width": "",
       "error": {},
       "msg": "Failed to load model class 'DescriptionStyleModel' from module '@jupyter-widgets/controls'"
      }
     },
     "f2e34b97a63d430791752ce153ab43c4": {
      "model_module": "@jupyter-widgets/controls",
      "model_module_version": "2.0.0",
      "model_name": "DescriptionStyleModel",
      "state": {
       "_view_name": "ErrorWidgetView",
       "description_width": "",
       "error": {},
       "msg": "Failed to load model class 'DescriptionStyleModel' from module '@jupyter-widgets/controls'"
      }
     },
     "f343947b20f6446a88e90e955ad474bb": {
      "model_module": "@jupyter-widgets/controls",
      "model_module_version": "2.0.0",
      "model_name": "FloatSliderModel",
      "state": {
       "_view_name": "ErrorWidgetView",
       "description": "vmin",
       "error": {},
       "layout": "IPY_MODEL_3ebf738331974aeca040d53f19fe0aa9",
       "min": -150,
       "msg": "Failed to load model class 'FloatSliderModel' from module '@jupyter-widgets/controls'",
       "step": 5,
       "style": "IPY_MODEL_206ce359bacb401bbe4b74ec9b32540f",
       "value": -90
      }
     },
     "f35dd24c2f2a42939ac91c5a24852e98": {
      "model_module": "@jupyter-widgets/controls",
      "model_module_version": "2.0.0",
      "model_name": "IntTextModel",
      "state": {
       "_view_name": "ErrorWidgetView",
       "description": "stack:",
       "error": {},
       "layout": "IPY_MODEL_b23d4e3379a94e4db98175c8d85ff3dc",
       "msg": "Failed to load model class 'IntTextModel' from module '@jupyter-widgets/controls'",
       "step": 1,
       "style": "IPY_MODEL_6d7d5da6cfa14a85803a65485bdb6a2d",
       "value": 1
      }
     },
     "f39e532db07044839139e5411667887f": {
      "model_module": "@jupyter-widgets/base",
      "model_module_version": "2.0.0",
      "model_name": "LayoutModel",
      "state": {
       "_view_name": "ErrorWidgetView",
       "error": {},
       "msg": "Failed to load model class 'LayoutModel' from module '@jupyter-widgets/base'"
      }
     },
     "f41d0fdf2bd448a2b1e760619782d15e": {
      "model_module": "@jupyter-widgets/controls",
      "model_module_version": "2.0.0",
      "model_name": "HBoxModel",
      "state": {
       "_view_name": "ErrorWidgetView",
       "children": [
        "IPY_MODEL_0b9c57ffaa52438bbd7dac62cec640bf",
        "IPY_MODEL_bc20e14c2d4944189f1a689885f2e84a",
        "IPY_MODEL_0368ecdebe454474baa47150a9a68823",
        "IPY_MODEL_30b2a8331f0c4898ae666e92844df181"
       ],
       "error": {},
       "layout": "IPY_MODEL_d316763ed6234460a7d9be40804abcfd",
       "msg": "Failed to load model class 'HBoxModel' from module '@jupyter-widgets/controls'"
      }
     },
     "f42f6542ab7e4a06aba87b15cda44fb1": {
      "model_module": "@jupyter-widgets/controls",
      "model_module_version": "2.0.0",
      "model_name": "HTMLModel",
      "state": {
       "_view_name": "ErrorWidgetView",
       "error": {},
       "layout": "IPY_MODEL_1337a5e75f834fcb959b125a64598313",
       "msg": "Failed to load model class 'HTMLModel' from module '@jupyter-widgets/controls'",
       "style": "IPY_MODEL_d256f8829c14422d8505bdf1b0ea893d",
       "value": "removing duplicates: 100%"
      }
     },
     "f4c601131a6141c0bc10277aaf60d2ff": {
      "model_module": "@jupyter-widgets/controls",
      "model_module_version": "2.0.0",
      "model_name": "DescriptionStyleModel",
      "state": {
       "_view_name": "ErrorWidgetView",
       "description_width": "",
       "error": {},
       "msg": "Failed to load model class 'DescriptionStyleModel' from module '@jupyter-widgets/controls'"
      }
     },
     "f4e186c0f7b34d6aa53778589f9ad374": {
      "model_module": "@jupyter-widgets/base",
      "model_module_version": "2.0.0",
      "model_name": "LayoutModel",
      "state": {
       "_view_name": "ErrorWidgetView",
       "error": {},
       "msg": "Failed to load model class 'LayoutModel' from module '@jupyter-widgets/base'"
      }
     },
     "f55b58b357d14db1bcf91e1fc7ff6c81": {
      "model_module": "@jupyter-widgets/controls",
      "model_module_version": "2.0.0",
      "model_name": "IntProgressModel",
      "state": {
       "_view_name": "ErrorWidgetView",
       "description": "Idle",
       "error": {},
       "layout": "IPY_MODEL_fecb11efaa05454ba127e02202c76cd4",
       "max": 10,
       "msg": "Failed to load model class 'IntProgressModel' from module '@jupyter-widgets/controls'",
       "style": "IPY_MODEL_c47ef57f19174975a5506c9b13ff8bb2"
      }
     },
     "f583f51cd2d34fe28cd363f6f6087274": {
      "model_module": "@jupyter-widgets/controls",
      "model_module_version": "2.0.0",
      "model_name": "HBoxModel",
      "state": {
       "children": [
        "IPY_MODEL_c37f4229f0d24c1290aa88a155b8a8f2",
        "IPY_MODEL_e13a09cd51f14790b081011a9b2b93a1",
        "IPY_MODEL_8be1565ff44446ffb82f4d44e3841ec2"
       ],
       "layout": "IPY_MODEL_d5ca566749ef4b538a08135c9de9bac3"
      }
     },
     "f5856b951e4741c2a2ef04beacc272cb": {
      "model_module": "@jupyter-widgets/base",
      "model_module_version": "2.0.0",
      "model_name": "LayoutModel",
      "state": {
       "_view_name": "ErrorWidgetView",
       "error": {},
       "msg": "Failed to load model class 'LayoutModel' from module '@jupyter-widgets/base'"
      }
     },
     "f59499e7058e47b0aac5624600bbcb2e": {
      "model_module": "@jupyter-widgets/controls",
      "model_module_version": "2.0.0",
      "model_name": "DescriptionStyleModel",
      "state": {
       "_view_name": "ErrorWidgetView",
       "description_width": "",
       "error": {},
       "msg": "Failed to load model class 'DescriptionStyleModel' from module '@jupyter-widgets/controls'"
      }
     },
     "f5c2feaf46fe4a45a1450c686aa51bb1": {
      "model_module": "@jupyter-widgets/controls",
      "model_module_version": "2.0.0",
      "model_name": "SliderStyleModel",
      "state": {
       "_view_name": "ErrorWidgetView",
       "description_width": "",
       "error": {},
       "msg": "Failed to load model class 'SliderStyleModel' from module '@jupyter-widgets/controls'"
      }
     },
     "f63f65f68786413d96587cf778ed2867": {
      "model_module": "@jupyter-widgets/controls",
      "model_module_version": "2.0.0",
      "model_name": "IntSliderModel",
      "state": {
       "_view_name": "ErrorWidgetView",
       "description": "ping nr",
       "error": {},
       "layout": "IPY_MODEL_c93a8d1f0abf4a37a2bc6f2eb1ac3e0c",
       "max": 66,
       "msg": "Failed to load model class 'IntSliderModel' from module '@jupyter-widgets/controls'",
       "style": "IPY_MODEL_072ef36d9e2d48ae80615d7a96b13be4",
       "value": 7
      }
     },
     "f66aaf9396054c2ea8d7a580fe269b62": {
      "model_module": "@jupyter-widgets/base",
      "model_module_version": "2.0.0",
      "model_name": "LayoutModel",
      "state": {
       "_view_name": "ErrorWidgetView",
       "error": {},
       "msg": "Failed to load model class 'LayoutModel' from module '@jupyter-widgets/base'"
      }
     },
     "f6aa2d6a36714f2d83c8bc1dc5a03da9": {
      "model_module": "@jupyter-widgets/controls",
      "model_module_version": "2.0.0",
      "model_name": "SliderStyleModel",
      "state": {
       "_view_name": "ErrorWidgetView",
       "description_width": "",
       "error": {},
       "msg": "Failed to load model class 'SliderStyleModel' from module '@jupyter-widgets/controls'"
      }
     },
     "f6f9b605c3e44b89a54adc7e715ec87a": {
      "model_module": "@jupyter-widgets/base",
      "model_module_version": "2.0.0",
      "model_name": "LayoutModel",
      "state": {
       "_view_name": "ErrorWidgetView",
       "error": {},
       "msg": "Failed to load model class 'LayoutModel' from module '@jupyter-widgets/base'"
      }
     },
     "f780d7c792dd4f589fb6dfaf22d066e6": {
      "model_module": "@jupyter-widgets/controls",
      "model_module_version": "2.0.0",
      "model_name": "IntTextModel",
      "state": {
       "_view_name": "ErrorWidgetView",
       "description": "mp_cores:",
       "error": {},
       "layout": "IPY_MODEL_e3049d0181a64e90b6f8b2f2452f6c34",
       "msg": "Failed to load model class 'IntTextModel' from module '@jupyter-widgets/controls'",
       "step": 1,
       "style": "IPY_MODEL_642b25bd7b694d6ea1f78d6fddaab9b7",
       "value": 1
      }
     },
     "f78e26bae3c74a6d8d93f87b777738e7": {
      "model_module": "@jupyter-widgets/base",
      "model_module_version": "2.0.0",
      "model_name": "LayoutModel",
      "state": {
       "_view_name": "ErrorWidgetView",
       "error": {},
       "msg": "Failed to load model class 'LayoutModel' from module '@jupyter-widgets/base'"
      }
     },
     "f7c844aa2c4a4d37904c0c744abdf1c3": {
      "model_module": "@jupyter-widgets/controls",
      "model_module_version": "2.0.0",
      "model_name": "DescriptionStyleModel",
      "state": {
       "_view_name": "ErrorWidgetView",
       "description_width": "",
       "error": {},
       "msg": "Failed to load model class 'DescriptionStyleModel' from module '@jupyter-widgets/controls'"
      }
     },
     "f7cfafcdb1ae4afd8a9583516bc75674": {
      "model_module": "@jupyter-widgets/controls",
      "model_module_version": "2.0.0",
      "model_name": "SliderStyleModel",
      "state": {
       "description_width": ""
      }
     },
     "f7e8238db8464f2e826116260697a161": {
      "model_module": "@jupyter-widgets/base",
      "model_module_version": "2.0.0",
      "model_name": "LayoutModel",
      "state": {
       "_view_name": "ErrorWidgetView",
       "error": {},
       "msg": "Failed to load model class 'LayoutModel' from module '@jupyter-widgets/base'"
      }
     },
     "f88c5de124ed4a199621b9ce976b5ed1": {
      "model_module": "@jupyter-widgets/controls",
      "model_module_version": "2.0.0",
      "model_name": "VBoxModel",
      "state": {
       "_view_name": "ErrorWidgetView",
       "children": [
        "IPY_MODEL_60372c2ff389407a94d0999ea1c2c149",
        "IPY_MODEL_135bb933bb26461d918bc7e01d2ac747",
        "IPY_MODEL_c454570a22324e258e561ef7d030589a",
        "IPY_MODEL_dba24646d83b4c1bb2bafbe255b92275",
        "IPY_MODEL_b72623e29f714baf8f3e431a57e596a6",
        "IPY_MODEL_718874004a2c4f3080f0aa46384d002b"
       ],
       "error": {},
       "layout": "IPY_MODEL_b9dcb7b0c24744fba2021468dbd018c3",
       "msg": "Failed to load model class 'VBoxModel' from module '@jupyter-widgets/controls'"
      }
     },
     "f89d930965a8416395ed5a6928578de2": {
      "model_module": "@jupyter-widgets/controls",
      "model_module_version": "2.0.0",
      "model_name": "DescriptionStyleModel",
      "state": {
       "_view_name": "ErrorWidgetView",
       "description_width": "",
       "error": {},
       "msg": "Failed to load model class 'DescriptionStyleModel' from module '@jupyter-widgets/controls'"
      }
     },
     "f8fd5d5c6b7c49b3ad093ed6e554a105": {
      "model_module": "@jupyter-widgets/controls",
      "model_module_version": "2.0.0",
      "model_name": "DropdownModel",
      "state": {
       "_options_labels": [
        "linear",
        "beamsample"
       ],
       "_view_name": "ErrorWidgetView",
       "description": "wci render",
       "error": {},
       "index": 0,
       "layout": "IPY_MODEL_0d4ea476e1544c00a4a7e1ef4afc3c71",
       "msg": "Failed to load model class 'DropdownModel' from module '@jupyter-widgets/controls'",
       "style": "IPY_MODEL_fa3f3a2470b84d7083bd3694f84b810f"
      }
     },
     "f92aa4ad3c4d424bb457ec6d451b74ba": {
      "model_module": "@jupyter-widgets/controls",
      "model_module_version": "2.0.0",
      "model_name": "VBoxModel",
      "state": {
       "_view_name": "ErrorWidgetView",
       "children": [
        "IPY_MODEL_0d8243c9057e4ff49b4a246a169d8fc3",
        "IPY_MODEL_58033b7f058c4ec294fd1a76b2a7b4dc",
        "IPY_MODEL_8c2de6febb794db3afe48c531868af2c",
        "IPY_MODEL_4c2094bb294d42c08a4d694b3e646a94",
        "IPY_MODEL_6ce671bffc9f4cbca260710333fa3d93",
        "IPY_MODEL_544e5a4b319541ce880761b690054248"
       ],
       "error": {},
       "layout": "IPY_MODEL_52e605c844e44a09a7bfce6891d40832",
       "msg": "Failed to load model class 'VBoxModel' from module '@jupyter-widgets/controls'"
      }
     },
     "f94b8509959347ec8156a0b52d32b8cc": {
      "model_module": "@jupyter-widgets/controls",
      "model_module_version": "2.0.0",
      "model_name": "DropdownModel",
      "state": {
       "_options_labels": [
        "sv/av/pv/rv",
        "sv/av/pv",
        "sv/av",
        "sp/ap/pp/rp",
        "sp/ap/pp",
        "sp/ap",
        "power/amp",
        "av",
        "ap",
        "amp",
        "sv",
        "sp",
        "pv",
        "pp",
        "rv",
        "rp",
        "power"
       ],
       "_view_name": "ErrorWidgetView",
       "description": "wci value",
       "error": {},
       "index": 0,
       "layout": "IPY_MODEL_8d0c7ac879fb480f82fd0331529c35f4",
       "msg": "Failed to load model class 'DropdownModel' from module '@jupyter-widgets/controls'",
       "style": "IPY_MODEL_ba11540dfc1e4aaf92b25433e66806d0"
      }
     },
     "f96ea88e772441e7991d734d5f11d2a2": {
      "model_module": "@jupyter-widgets/controls",
      "model_module_version": "2.0.0",
      "model_name": "CheckboxModel",
      "state": {
       "_view_name": "ErrorWidgetView",
       "description": "stack_linear",
       "disabled": false,
       "error": {},
       "layout": "IPY_MODEL_f78e26bae3c74a6d8d93f87b777738e7",
       "msg": "Failed to load model class 'CheckboxModel' from module '@jupyter-widgets/controls'",
       "style": "IPY_MODEL_058e2f3596d04ce3bbadaaf4f38c3371",
       "value": true
      }
     },
     "f99d0a003f854eff8bdbcb0d3b842757": {
      "model_module": "@jupyter-widgets/controls",
      "model_module_version": "2.0.0",
      "model_name": "ButtonStyleModel",
      "state": {
       "_view_name": "ErrorWidgetView",
       "error": {},
       "msg": "Failed to load model class 'ButtonStyleModel' from module '@jupyter-widgets/controls'"
      }
     },
     "f9b30d68ca3f44d08592f5975f2ce1a3": {
      "model_module": "@jupyter-widgets/controls",
      "model_module_version": "2.0.0",
      "model_name": "FloatSliderModel",
      "state": {
       "_view_name": "ErrorWidgetView",
       "description": "vmax",
       "error": {},
       "layout": "IPY_MODEL_5cb489a78c1a45188524e877dc0c4f7f",
       "min": -150,
       "msg": "Failed to load model class 'FloatSliderModel' from module '@jupyter-widgets/controls'",
       "step": 5,
       "style": "IPY_MODEL_ded00c89f9274896a73dcaaa1ff51713",
       "value": -25
      }
     },
     "f9de8efaea994259a254f8dc9ef5188d": {
      "model_module": "@jupyter-widgets/controls",
      "model_module_version": "2.0.0",
      "model_name": "HBoxModel",
      "state": {
       "_view_name": "ErrorWidgetView",
       "children": [
        "IPY_MODEL_5badc3781e8c4692a3465bf2ec763fab",
        "IPY_MODEL_cde7fb0a9ab745558d317db5bfc3849e",
        "IPY_MODEL_da6d4150055c4acca168c4accc3ac2fc",
        "IPY_MODEL_83615e3b497242e8ae5a1ced1354683a",
        "IPY_MODEL_2133427e7c6c481084aa8c15c2b77ff3"
       ],
       "error": {},
       "layout": "IPY_MODEL_3008041aa11c40a6adcde4ea3d679e33",
       "msg": "Failed to load model class 'HBoxModel' from module '@jupyter-widgets/controls'"
      }
     },
     "f9fc435b7a984f1b9b03a995db65a348": {
      "model_module": "@jupyter-widgets/controls",
      "model_module_version": "2.0.0",
      "model_name": "IntTextModel",
      "state": {
       "_view_name": "ErrorWidgetView",
       "description": "stack step:",
       "error": {},
       "layout": "IPY_MODEL_0e1ca06b635748b2bf42a892cd02459e",
       "msg": "Failed to load model class 'IntTextModel' from module '@jupyter-widgets/controls'",
       "step": 1,
       "style": "IPY_MODEL_ba357ca011bc4749baa4361d1e045ed0",
       "value": 1
      }
     },
     "fa306b2ff33345e587873329864a8a9f": {
      "model_module": "@jupyter-widgets/base",
      "model_module_version": "2.0.0",
      "model_name": "LayoutModel",
      "state": {
       "_view_name": "ErrorWidgetView",
       "error": {},
       "msg": "Failed to load model class 'LayoutModel' from module '@jupyter-widgets/base'"
      }
     },
     "fa3cb579faa94c3b91ed43d61fa01884": {
      "model_module": "@jupyter-widgets/base",
      "model_module_version": "2.0.0",
      "model_name": "LayoutModel",
      "state": {
       "_view_name": "ErrorWidgetView",
       "error": {},
       "msg": "Failed to load model class 'LayoutModel' from module '@jupyter-widgets/base'"
      }
     },
     "fa3f3a2470b84d7083bd3694f84b810f": {
      "model_module": "@jupyter-widgets/controls",
      "model_module_version": "2.0.0",
      "model_name": "DescriptionStyleModel",
      "state": {
       "_view_name": "ErrorWidgetView",
       "description_width": "",
       "error": {},
       "msg": "Failed to load model class 'DescriptionStyleModel' from module '@jupyter-widgets/controls'"
      }
     },
     "fa51417f3b77440896f612caec57a9ac": {
      "model_module": "@jupyter-widgets/base",
      "model_module_version": "2.0.0",
      "model_name": "LayoutModel",
      "state": {
       "_view_name": "ErrorWidgetView",
       "error": {},
       "msg": "Failed to load model class 'LayoutModel' from module '@jupyter-widgets/base'"
      }
     },
     "fa749de67290477fbd0fd0bd71f898ae": {
      "model_module": "@jupyter-widgets/base",
      "model_module_version": "2.0.0",
      "model_name": "LayoutModel",
      "state": {
       "_view_name": "ErrorWidgetView",
       "error": {},
       "msg": "Failed to load model class 'LayoutModel' from module '@jupyter-widgets/base'"
      }
     },
     "fa821c55353a4366863057788483bbf7": {
      "model_module": "@jupyter-widgets/controls",
      "model_module_version": "2.0.0",
      "model_name": "DropdownModel",
      "state": {
       "_options_labels": [
        "antialiased",
        "none",
        "nearest",
        "bilinear",
        "bicubic",
        "spline16",
        "spline36",
        "hanning",
        "hamming",
        "hermite",
        "kaiser",
        "quadric",
        "catrom",
        "gaussian",
        "bessel",
        "mitchell",
        "sinc",
        "lanczos",
        "blackman"
       ],
       "_view_name": "ErrorWidgetView",
       "description": "interpolation",
       "error": {},
       "index": 2,
       "layout": "IPY_MODEL_7c83ed14771248579deb13749d585cc9",
       "msg": "Failed to load model class 'DropdownModel' from module '@jupyter-widgets/controls'",
       "style": "IPY_MODEL_d9c41005117a400a8f5cf6fb2e511330"
      }
     },
     "fac9b6a672534ad8b623296c8b02b492": {
      "model_module": "@jupyter-widgets/base",
      "model_module_version": "2.0.0",
      "model_name": "LayoutModel",
      "state": {}
     },
     "fadac69b675c4554b9553c9dbb77a702": {
      "model_module": "@jupyter-widgets/controls",
      "model_module_version": "2.0.0",
      "model_name": "IntSliderModel",
      "state": {
       "_view_name": "ErrorWidgetView",
       "description": "horizontal pixels",
       "error": {},
       "layout": "IPY_MODEL_e11a41233220454fb42f58ee5fe07f26",
       "max": 2048,
       "min": 2,
       "msg": "Failed to load model class 'IntSliderModel' from module '@jupyter-widgets/controls'",
       "style": "IPY_MODEL_fcf21dc7e48f4400aafcb70cef599f23",
       "value": 1024
      }
     },
     "fb75dfba0447490c8fd48e97e68896b5": {
      "model_module": "@jupyter-widgets/base",
      "model_module_version": "2.0.0",
      "model_name": "LayoutModel",
      "state": {
       "_view_name": "ErrorWidgetView",
       "error": {},
       "msg": "Failed to load model class 'LayoutModel' from module '@jupyter-widgets/base'"
      }
     },
     "fbb9b835bded4818a6b6fb991673390a": {
      "model_module": "@jupyter-widgets/controls",
      "model_module_version": "2.0.0",
      "model_name": "TextModel",
      "state": {
       "_view_name": "ErrorWidgetView",
       "description": "proc time",
       "error": {},
       "layout": "IPY_MODEL_cfe7c4a9619d42038dfe7feb6e3f0861",
       "msg": "Failed to load model class 'TextModel' from module '@jupyter-widgets/controls'",
       "style": "IPY_MODEL_50c07b40f88a46208b4268f7889bf793",
       "value": "0.019 / 0.1 / [0.119] s"
      }
     },
     "fc03981b81c6418dac5144463f05488a": {
      "model_module": "@jupyter-widgets/controls",
      "model_module_version": "2.0.0",
      "model_name": "TextModel",
      "state": {
       "_view_name": "ErrorWidgetView",
       "error": {},
       "layout": "IPY_MODEL_9eafd7cf91b84579a43226c8d198f33e",
       "msg": "Failed to load model class 'TextModel' from module '@jupyter-widgets/controls'",
       "style": "IPY_MODEL_54cfbb1ffb7b473695c8d11362a1166e",
       "value": "17:37:53"
      }
     },
     "fc21ff6d7c754e1fa14edc328c809d0b": {
      "model_module": "@jupyter-widgets/controls",
      "model_module_version": "2.0.0",
      "model_name": "DescriptionStyleModel",
      "state": {
       "_view_name": "ErrorWidgetView",
       "description_width": "",
       "error": {},
       "msg": "Failed to load model class 'DescriptionStyleModel' from module '@jupyter-widgets/controls'"
      }
     },
     "fc235505479d420e9427604dec678ae2": {
      "model_module": "@jupyter-widgets/controls",
      "model_module_version": "2.0.0",
      "model_name": "TextModel",
      "state": {
       "_view_name": "ErrorWidgetView",
       "error": {},
       "layout": "IPY_MODEL_e0c22e70f6914ed98231cdc02e639e16",
       "msg": "Failed to load model class 'TextModel' from module '@jupyter-widgets/controls'",
       "style": "IPY_MODEL_88975cb222a440099cc4c40c5b549801",
       "value": "17:09:42"
      }
     },
     "fc3bbb55d1d94b1cba217d4d73a234c4": {
      "model_module": "@jupyter-widgets/controls",
      "model_module_version": "2.0.0",
      "model_name": "SliderStyleModel",
      "state": {
       "_view_name": "ErrorWidgetView",
       "description_width": "",
       "error": {},
       "msg": "Failed to load model class 'SliderStyleModel' from module '@jupyter-widgets/controls'"
      }
     },
     "fc499dc6664a4c2aaaf57afc35ec3dda": {
      "model_module": "@jupyter-widgets/controls",
      "model_module_version": "2.0.0",
      "model_name": "DescriptionStyleModel",
      "state": {
       "_view_name": "ErrorWidgetView",
       "description_width": "",
       "error": {},
       "msg": "Failed to load model class 'DescriptionStyleModel' from module '@jupyter-widgets/controls'"
      }
     },
     "fc610c036cfd45dfa5778f003991888b": {
      "model_module": "@jupyter-widgets/controls",
      "model_module_version": "2.0.0",
      "model_name": "DropdownModel",
      "state": {
       "_options_labels": [
        "linear",
        "beamsample"
       ],
       "_view_name": "ErrorWidgetView",
       "description": "wci render",
       "error": {},
       "index": 0,
       "layout": "IPY_MODEL_87fd176df55c407bbfd215e00d0fe92b",
       "msg": "Failed to load model class 'DropdownModel' from module '@jupyter-widgets/controls'",
       "style": "IPY_MODEL_c92b86ccdf9f42ef95d916a44c531d86"
      }
     },
     "fc911da0c64c4ff5a242dbb520c22aa9": {
      "model_module": "@jupyter-widgets/base",
      "model_module_version": "2.0.0",
      "model_name": "LayoutModel",
      "state": {
       "_view_name": "ErrorWidgetView",
       "error": {},
       "msg": "Failed to load model class 'LayoutModel' from module '@jupyter-widgets/base'",
       "width": "15%"
      }
     },
     "fc9200fe7b444ef4bb9b6ec37681aba3": {
      "model_module": "@jupyter-widgets/base",
      "model_module_version": "2.0.0",
      "model_name": "LayoutModel",
      "state": {
       "_view_name": "ErrorWidgetView",
       "error": {},
       "msg": "Failed to load model class 'LayoutModel' from module '@jupyter-widgets/base'"
      }
     },
     "fc9995f427124b5cac7188fd2ad3b98b": {
      "model_module": "@jupyter-widgets/base",
      "model_module_version": "2.0.0",
      "model_name": "LayoutModel",
      "state": {
       "_view_name": "ErrorWidgetView",
       "error": {},
       "msg": "Failed to load model class 'LayoutModel' from module '@jupyter-widgets/base'"
      }
     },
     "fcb611bdd71348dba951133a139bed92": {
      "model_module": "@jupyter-widgets/controls",
      "model_module_version": "2.0.0",
      "model_name": "IntTextModel",
      "state": {
       "_view_name": "ErrorWidgetView",
       "description": "stack:",
       "error": {},
       "layout": "IPY_MODEL_5536cf4af5184b7b857f2f3156429875",
       "msg": "Failed to load model class 'IntTextModel' from module '@jupyter-widgets/controls'",
       "step": 1,
       "style": "IPY_MODEL_9ab95b22ac224a8a8c164d6acfa34a68",
       "value": 1
      }
     },
     "fcf21dc7e48f4400aafcb70cef599f23": {
      "model_module": "@jupyter-widgets/controls",
      "model_module_version": "2.0.0",
      "model_name": "SliderStyleModel",
      "state": {
       "_view_name": "ErrorWidgetView",
       "description_width": "",
       "error": {},
       "msg": "Failed to load model class 'SliderStyleModel' from module '@jupyter-widgets/controls'"
      }
     },
     "fd3c03cc26c641e5ae513286b22aad4b": {
      "model_module": "@jupyter-widgets/controls",
      "model_module_version": "2.0.0",
      "model_name": "DropdownModel",
      "state": {
       "_options_labels": [
        "sv/av/pv/rv",
        "sv/av/pv",
        "sv/av",
        "sp/ap/pp/rp",
        "sp/ap/pp",
        "sp/ap",
        "power/amp",
        "av",
        "ap",
        "amp",
        "sv",
        "sp",
        "pv",
        "pp",
        "rv",
        "rp",
        "power"
       ],
       "_view_name": "ErrorWidgetView",
       "description": "wci value",
       "error": {},
       "index": 0,
       "layout": "IPY_MODEL_6fd23738633f4e0c9e838b9406acd1dd",
       "msg": "Failed to load model class 'DropdownModel' from module '@jupyter-widgets/controls'",
       "style": "IPY_MODEL_30e87eba8ada46029987db20f3e223d1"
      }
     },
     "fdae470d9b394bddb9af36fb9f0230c3": {
      "model_module": "@jupyter-widgets/controls",
      "model_module_version": "2.0.0",
      "model_name": "DescriptionStyleModel",
      "state": {
       "_view_name": "ErrorWidgetView",
       "description_width": "",
       "error": {},
       "msg": "Failed to load model class 'DescriptionStyleModel' from module '@jupyter-widgets/controls'"
      }
     },
     "fde6835018cf44bc95147d1bb0ed747e": {
      "model_module": "@jupyter-widgets/controls",
      "model_module_version": "2.0.0",
      "model_name": "DescriptionStyleModel",
      "state": {
       "_view_name": "ErrorWidgetView",
       "description_width": "",
       "error": {},
       "msg": "Failed to load model class 'DescriptionStyleModel' from module '@jupyter-widgets/controls'"
      }
     },
     "fde865c0563c4d61a0c4c70892c2db18": {
      "model_module": "@jupyter-widgets/controls",
      "model_module_version": "2.0.0",
      "model_name": "IntTextModel",
      "state": {
       "_view_name": "ErrorWidgetView",
       "description": "mp_cores:",
       "error": {},
       "layout": "IPY_MODEL_7f1e04271ef64d1981820feb080ff0e4",
       "msg": "Failed to load model class 'IntTextModel' from module '@jupyter-widgets/controls'",
       "step": 1,
       "style": "IPY_MODEL_807f684eff2a4712819508269f35a38c",
       "value": 1
      }
     },
     "fe12d79f3b50428aa47852026db622ed": {
      "model_module": "@jupyter-widgets/controls",
      "model_module_version": "2.0.0",
      "model_name": "TextModel",
      "state": {
       "_view_name": "ErrorWidgetView",
       "description": "proc time",
       "error": {},
       "layout": "IPY_MODEL_09db3c170a6f4a0691ad874e8ff71e94",
       "msg": "Failed to load model class 'TextModel' from module '@jupyter-widgets/controls'",
       "style": "IPY_MODEL_f89d930965a8416395ed5a6928578de2",
       "value": "0.025 / 0.11 / [0.135] s"
      }
     },
     "fe71448c7d7b428183fb6681971a9dea": {
      "model_module": "@jupyter-widgets/controls",
      "model_module_version": "2.0.0",
      "model_name": "HBoxModel",
      "state": {
       "_view_name": "ErrorWidgetView",
       "children": [
        "IPY_MODEL_54c3902dcf0d47e7988ea902a6940799",
        "IPY_MODEL_911796dcd72a4cba9bd53b7588a79c37",
        "IPY_MODEL_33396d54805d4d2ea6cd49624b4dd537",
        "IPY_MODEL_19d103caa8d14e799492f855668c9aab"
       ],
       "error": {},
       "layout": "IPY_MODEL_4dff143eaf89467590bfaff5c5cb9081",
       "msg": "Failed to load model class 'HBoxModel' from module '@jupyter-widgets/controls'"
      }
     },
     "fe7c3549a55c4d0cb515700ef7cecfde": {
      "model_module": "@jupyter-widgets/controls",
      "model_module_version": "2.0.0",
      "model_name": "CheckboxModel",
      "state": {
       "_view_name": "ErrorWidgetView",
       "description": "stack_linear",
       "disabled": false,
       "error": {},
       "layout": "IPY_MODEL_96e50e6d4330490aa45cf251b3594f28",
       "msg": "Failed to load model class 'CheckboxModel' from module '@jupyter-widgets/controls'",
       "style": "IPY_MODEL_3c8e2f88e584484a8fc1ba1f7ee96b24",
       "value": true
      }
     },
     "fe93c66804bc4284b4c2b4ead8e65bb1": {
      "model_module": "@jupyter-widgets/base",
      "model_module_version": "2.0.0",
      "model_name": "LayoutModel",
      "state": {
       "_view_name": "ErrorWidgetView",
       "error": {},
       "msg": "Failed to load model class 'LayoutModel' from module '@jupyter-widgets/base'"
      }
     },
     "fecb11efaa05454ba127e02202c76cd4": {
      "model_module": "@jupyter-widgets/base",
      "model_module_version": "2.0.0",
      "model_name": "LayoutModel",
      "state": {
       "_view_name": "ErrorWidgetView",
       "error": {},
       "msg": "Failed to load model class 'LayoutModel' from module '@jupyter-widgets/base'"
      }
     },
     "fee2e143aa304f0081cf92225f1bd2bb": {
      "model_module": "@jupyter-widgets/controls",
      "model_module_version": "2.0.0",
      "model_name": "TextModel",
      "state": {
       "_view_name": "ErrorWidgetView",
       "description": "proc time",
       "error": {},
       "layout": "IPY_MODEL_8eeb7bfecb87423e942493e081dda3f8",
       "msg": "Failed to load model class 'TextModel' from module '@jupyter-widgets/controls'",
       "style": "IPY_MODEL_47258870713b48edbee61cd19007dc02",
       "value": "0.027 / 0.118 / [0.145] s"
      }
     },
     "ff0483dff429482aa8f4ac2ffc436ded": {
      "model_module": "@jupyter-widgets/controls",
      "model_module_version": "2.0.0",
      "model_name": "HBoxModel",
      "state": {
       "children": [
        "IPY_MODEL_dcbbe21628f247979dcf0fc02cba2e2b",
        "IPY_MODEL_6a121bef85a54f1c8c4935a4cb4f101c",
        "IPY_MODEL_823cd5a8d3ac40bba39a67867ee9ace1",
        "IPY_MODEL_c5e5d53280ae4eb9ae8b3a93aea43c4e"
       ],
       "layout": "IPY_MODEL_431b5bcdd3684b4b989625a49dd3eaeb"
      }
     },
     "ff5b26eb7e574e0e9ce094e81c2bc3fa": {
      "model_module": "@jupyter-widgets/controls",
      "model_module_version": "2.0.0",
      "model_name": "DropdownModel",
      "state": {
       "_options_labels": [
        "sv/av/pv/rv",
        "sv/av/pv",
        "sv/av",
        "sp/ap/pp/rp",
        "sp/ap/pp",
        "sp/ap",
        "power/amp",
        "av",
        "ap",
        "amp",
        "sv",
        "sp",
        "pv",
        "pp",
        "rv",
        "rp",
        "power"
       ],
       "_view_name": "ErrorWidgetView",
       "description": "wci value",
       "error": {},
       "index": 0,
       "layout": "IPY_MODEL_d4829aa6af06466199d10f4b2dc8948b",
       "msg": "Failed to load model class 'DropdownModel' from module '@jupyter-widgets/controls'",
       "style": "IPY_MODEL_13868d2b3e444eccab24142cde2cd896"
      }
     },
     "ff783c70831d43c188f6a46c1bd8cf61": {
      "model_module": "@jupyter-widgets/controls",
      "model_module_version": "2.0.0",
      "model_name": "IntTextModel",
      "state": {
       "_view_name": "ErrorWidgetView",
       "description": "stack:",
       "error": {},
       "layout": "IPY_MODEL_e392dde8a0064ec9987621a482b36532",
       "msg": "Failed to load model class 'IntTextModel' from module '@jupyter-widgets/controls'",
       "step": 1,
       "style": "IPY_MODEL_c66967d398bb4d17aecc41ee49e8b8f1",
       "value": 1
      }
     },
     "ff7f5af1bd99477c8b39884000ec0b8d": {
      "model_module": "@jupyter-widgets/base",
      "model_module_version": "2.0.0",
      "model_name": "LayoutModel",
      "state": {
       "_view_name": "ErrorWidgetView",
       "error": {},
       "msg": "Failed to load model class 'LayoutModel' from module '@jupyter-widgets/base'"
      }
     }
    },
    "version_major": 2,
    "version_minor": 0
   }
  }
 },
 "nbformat": 4,
 "nbformat_minor": 4
}
