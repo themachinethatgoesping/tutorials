{
 "cells": [
  {
   "cell_type": "markdown",
   "metadata": {},
   "source": [
    "# Tutorial 3: WCI Viewer widget\n",
    "### `themachinethatgoesping` tutorial series\n",
    "\n",
    "`themachinethatgoesping` concepts covered:\n",
    "- Start WCI viewer"
   ]
  },
  {
   "cell_type": "code",
   "execution_count": 1,
   "metadata": {
    "execution": {
     "iopub.execute_input": "2025-01-16T09:28:50.342367Z",
     "iopub.status.busy": "2025-01-16T09:28:50.341741Z",
     "iopub.status.idle": "2025-01-16T09:28:52.915563Z",
     "shell.execute_reply": "2025-01-16T09:28:52.914861Z",
     "shell.execute_reply.started": "2025-01-16T09:28:50.342335Z"
    }
   },
   "outputs": [],
   "source": [
    "%matplotlib widget\n",
    "\n",
    "import numpy as np\n",
    "import themachinethatgoesping as theping\n",
    "from matplotlib import pyplot as plt\n",
    "from tqdm.auto import tqdm"
   ]
  },
  {
   "cell_type": "code",
   "execution_count": 2,
   "metadata": {
    "execution": {
     "iopub.execute_input": "2025-01-16T09:28:52.917130Z",
     "iopub.status.busy": "2025-01-16T09:28:52.916511Z",
     "iopub.status.idle": "2025-01-16T09:28:52.983000Z",
     "shell.execute_reply": "2025-01-16T09:28:52.981902Z",
     "shell.execute_reply.started": "2025-01-16T09:28:52.917099Z"
    }
   },
   "outputs": [
    {
     "name": "stdout",
     "output_type": "stream",
     "text": [
      "Found 18 files\n",
      "indexing files ⠐ 100% [00m:00s<00m:00s] [..0871266855321420.all (1/18)]                               \n",
      "indexing files ⠠ 100% [00m:00s<00m:00s] [..3008643552583898.wcd (18/18)]                                \n",
      "indexing files ⢀ 100% [00m:00s<00m:00s] [Found: 729 datagrams in 18 files (10MB)]                                         \n",
      "Initializing ping interface ⢀ 90% [00m:00s<00m:00s] [Done]                                              \n"
     ]
    },
    {
     "name": "stderr",
     "output_type": "stream",
     "text": [
      "WARNING: get_depth_sensor_offsets: Only DSH (Depth (pressure) sensor heave) == NI is supported yet, but DSH is IN\n",
      "WARNING: get_depth_sensor_offsets: Only DSH (Depth (pressure) sensor heave) == NI is supported yet, but DSH is IN\n"
     ]
    }
   ],
   "source": [
    "# data folder\n",
    "folder = '../unittest_data'\n",
    "\n",
    "# find all Kongsberg files in the list of folders\n",
    "files = theping.echosounders.index_functions.find_files(folder,['.all','.wcd'])\n",
    "files.sort()\n",
    "\n",
    "# create the file handler\n",
    "fileHandler = theping.echosounders.kongsbergall.KongsbergAllFileHandler(files)\n",
    "\n",
    "# get pings that contain WCD\n",
    "pings = theping.pingprocessing.filter_pings.by_features(fileHandler.get_pings(),['watercolumn.amplitudes'])"
   ]
  },
  {
   "cell_type": "markdown",
   "metadata": {},
   "source": [
    "### Start WCI viewer\n",
    "\n",
    "Built-in widget to view and explore water-column data"
   ]
  },
  {
   "cell_type": "code",
   "execution_count": 3,
   "metadata": {
    "execution": {
     "iopub.execute_input": "2025-01-03T21:34:41.727365Z",
     "iopub.status.busy": "2025-01-03T21:34:41.727146Z",
     "iopub.status.idle": "2025-01-03T21:34:42.160471Z",
     "shell.execute_reply": "2025-01-03T21:34:42.160139Z",
     "shell.execute_reply.started": "2025-01-03T21:34:41.727352Z"
    }
   },
   "outputs": [
    {
     "data": {
      "application/vnd.jupyter.widget-view+json": {
       "model_id": "b651fd98ed39484e8d34f81ed8a084b1",
       "version_major": 2,
       "version_minor": 0
      },
      "text/plain": [
       "VBox(children=(Canvas(toolbar=Toolbar(toolitems=[('Home', 'Reset original view', 'home', 'home'), ('Back', 'Ba…"
      ]
     },
     "metadata": {},
     "output_type": "display_data"
    }
   ],
   "source": [
    "# check data with the WCI Viewer\n",
    "viewer = theping.pingprocessing.widgets.WCIViewer(pings)\n",
    "viewer.w_index.value = 60 # select ping nr 60 at start"
   ]
  },
  {
   "cell_type": "markdown",
   "metadata": {},
   "source": [
    "Basic usage:\n",
    "* Switch display between beam-vs-sample view and wedge view with the `wci_render` dropdown menu\n",
    "* Swith xy aspect with the `aspect` dropdown menu. Choose between `auto` (stretch) or `equal` (equal x and y dimensions)\n",
    "* Change ping number with the `ping nr` slider\n",
    "* Click the `fix x/y` button to fix the x/y axis limits to the current view. Click on `unfix x/y` to revert to automatic axis limits\n",
    "* Change the variable displayed with the `wci value` dropdown menu"
   ]
  },
  {
   "cell_type": "markdown",
   "metadata": {},
   "source": [
    "---------------------\n",
    "### Dual head support\n",
    "\n",
    "If you have dual head systems you can group the ping data before displaying them.\n",
    "The viewer will display the date without overlap."
   ]
  },
  {
   "cell_type": "code",
   "execution_count": 20,
   "metadata": {
    "execution": {
     "iopub.execute_input": "2024-11-20T10:38:10.544678Z",
     "iopub.status.busy": "2024-11-20T10:38:10.544418Z",
     "iopub.status.idle": "2024-11-20T10:38:10.819028Z",
     "shell.execute_reply": "2024-11-20T10:38:10.818604Z",
     "shell.execute_reply.started": "2024-11-20T10:38:10.544665Z"
    }
   },
   "outputs": [
    {
     "name": "stdout",
     "output_type": "stream",
     "text": [
      "<class 'list'>\n"
     ]
    },
    {
     "data": {
      "application/vnd.jupyter.widget-view+json": {
       "model_id": "88a35c54f39641d68176b02c652e1a8a",
       "version_major": 2,
       "version_minor": 0
      },
      "text/plain": [
       "VBox(children=(Canvas(toolbar=Toolbar(toolitems=[('Home', 'Reset original view', 'home', 'home'), ('Back', 'Ba…"
      ]
     },
     "metadata": {},
     "output_type": "display_data"
    }
   ],
   "source": [
    "# Note if you have dual head systems you can group head data\n",
    "grouped_pings = theping.pingprocessing.group_pings.dual_head(pings)\n",
    "print(type(grouped_pings))\n",
    "viewer = theping.pingprocessing.widgets.WCIViewer(grouped_pings,name = 'WCI (Dual head grouped)')\n",
    "viewer.w_index.value = 60 # select ping nr 60 at start"
   ]
  },
  {
   "cell_type": "code",
   "execution_count": null,
   "metadata": {},
   "outputs": [],
   "source": []
  }
 ],
 "metadata": {
  "kernelspec": {
   "display_name": "Python 3 (ipykernel)",
   "language": "python",
   "name": "python3"
  },
  "language_info": {
   "codemirror_mode": {
    "name": "ipython",
    "version": 3
   },
   "file_extension": ".py",
   "mimetype": "text/x-python",
   "name": "python",
   "nbconvert_exporter": "python",
   "pygments_lexer": "ipython3",
   "version": "3.12.8"
  },
  "widgets": {
   "application/vnd.jupyter.widget-state+json": {
    "state": {
     "096f472d38cf475fb56699aefb883e85": {
      "model_module": "@jupyter-widgets/controls",
      "model_module_version": "2.0.0",
      "model_name": "HTMLModel",
      "state": {
       "layout": "IPY_MODEL_ce4e2530cdc147e9977d628fe2ae0ec2",
       "style": "IPY_MODEL_6a302343497949b99b007c04b39f1cd0",
       "value": "removing duplicates: 100%"
      }
     },
     "5a5a13a5e3f648d18d235dbc94ed1b77": {
      "model_module": "@jupyter-widgets/controls",
      "model_module_version": "2.0.0",
      "model_name": "HBoxModel",
      "state": {
       "children": [
        "IPY_MODEL_096f472d38cf475fb56699aefb883e85",
        "IPY_MODEL_a68be4bb514a46aaaec032e5345b9b4b",
        "IPY_MODEL_aef24e64949146dbbc533926ebb0ed85"
       ],
       "layout": "IPY_MODEL_ca9dbd03bb514c4497e4907354840972"
      }
     },
     "6a302343497949b99b007c04b39f1cd0": {
      "model_module": "@jupyter-widgets/controls",
      "model_module_version": "2.0.0",
      "model_name": "HTMLStyleModel",
      "state": {
       "description_width": "",
       "font_size": null,
       "text_color": null
      }
     },
     "9e45d3bff64e480888db545b1ec0a13d": {
      "model_module": "@jupyter-widgets/base",
      "model_module_version": "2.0.0",
      "model_name": "LayoutModel",
      "state": {}
     },
     "a68be4bb514a46aaaec032e5345b9b4b": {
      "model_module": "@jupyter-widgets/controls",
      "model_module_version": "2.0.0",
      "model_name": "FloatProgressModel",
      "state": {
       "bar_style": "success",
       "layout": "IPY_MODEL_9e45d3bff64e480888db545b1ec0a13d",
       "max": 18,
       "style": "IPY_MODEL_c41545e1c8474ad48d5e5feb6e3c7c8c",
       "value": 18
      }
     },
     "ac8a1984ecea4baf92a82d2c156426fd": {
      "model_module": "@jupyter-widgets/controls",
      "model_module_version": "2.0.0",
      "model_name": "HTMLStyleModel",
      "state": {
       "description_width": "",
       "font_size": null,
       "text_color": null
      }
     },
     "aef24e64949146dbbc533926ebb0ed85": {
      "model_module": "@jupyter-widgets/controls",
      "model_module_version": "2.0.0",
      "model_name": "HTMLModel",
      "state": {
       "layout": "IPY_MODEL_d0e477b8b76247e8931d98dfbda6ae16",
       "style": "IPY_MODEL_ac8a1984ecea4baf92a82d2c156426fd",
       "value": " 18/18 [00:00&lt;00:00, 3344.00it/s]"
      }
     },
     "c41545e1c8474ad48d5e5feb6e3c7c8c": {
      "model_module": "@jupyter-widgets/controls",
      "model_module_version": "2.0.0",
      "model_name": "ProgressStyleModel",
      "state": {
       "description_width": ""
      }
     },
     "ca9dbd03bb514c4497e4907354840972": {
      "model_module": "@jupyter-widgets/base",
      "model_module_version": "2.0.0",
      "model_name": "LayoutModel",
      "state": {}
     },
     "ce4e2530cdc147e9977d628fe2ae0ec2": {
      "model_module": "@jupyter-widgets/base",
      "model_module_version": "2.0.0",
      "model_name": "LayoutModel",
      "state": {}
     },
     "d0e477b8b76247e8931d98dfbda6ae16": {
      "model_module": "@jupyter-widgets/base",
      "model_module_version": "2.0.0",
      "model_name": "LayoutModel",
      "state": {}
     },
     "undefined": {
      "model_module": "@jupyter-widgets/controls",
      "model_module_version": "2.0.0",
      "model_name": "VBoxModel",
      "state": {
       "_view_name": "ErrorWidgetView",
       "error": {},
       "msg": "Model class 'VBoxModel' from module '@jupyter-widgets/controls' is loaded but can not be instantiated"
      }
     }
    },
    "version_major": 2,
    "version_minor": 0
   }
  }
 },
 "nbformat": 4,
 "nbformat_minor": 4
}
