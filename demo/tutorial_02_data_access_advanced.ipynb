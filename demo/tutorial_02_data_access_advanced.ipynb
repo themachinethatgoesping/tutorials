{
 "cells": [
  {
   "cell_type": "markdown",
   "metadata": {},
   "source": [
    "# Tutorial 2: Data access advanced concepts\n",
    "### `themachinethatgoesping` tutorial series\n",
    "\n",
    "`themachinethatgoesping` concepts covered:\n",
    "- Advanced use of find_files()\n",
    "- Advanced use of File Handler\n",
    "- Advanced access of Pings"
   ]
  },
  {
   "cell_type": "code",
   "execution_count": 1,
   "metadata": {
    "execution": {
     "iopub.execute_input": "2024-11-29T10:11:23.512812Z",
     "iopub.status.busy": "2024-11-29T10:11:23.512718Z",
     "iopub.status.idle": "2024-11-29T10:11:24.191112Z",
     "shell.execute_reply": "2024-11-29T10:11:24.190816Z",
     "shell.execute_reply.started": "2024-11-29T10:11:23.512801Z"
    }
   },
   "outputs": [],
   "source": [
    "%matplotlib widget\n",
    "\n",
    "import numpy as np\n",
    "import themachinethatgoesping as theping\n",
    "from matplotlib import pyplot as plt\n",
    "from tqdm.auto import tqdm"
   ]
  },
  {
   "cell_type": "markdown",
   "metadata": {},
   "source": [
    "### 1. Advanced use of find_files()"
   ]
  },
  {
   "cell_type": "code",
   "execution_count": 2,
   "metadata": {
    "execution": {
     "iopub.execute_input": "2024-11-29T10:11:24.191752Z",
     "iopub.status.busy": "2024-11-29T10:11:24.191525Z",
     "iopub.status.idle": "2024-11-29T10:11:24.200530Z",
     "shell.execute_reply": "2024-11-29T10:11:24.200256Z",
     "shell.execute_reply.started": "2024-11-29T10:11:24.191733Z"
    }
   },
   "outputs": [
    {
     "name": "stdout",
     "output_type": "stream",
     "text": [
      "Found 18 files\n",
      "18\n"
     ]
    }
   ],
   "source": [
    "# find_files() searches the input folder recursively (aka, including subfolders)\n",
    "folder = '../unittest_data'\n",
    "files = theping.echosounders.index_functions.find_files(folder, [\".all\",\"wcd\"])\n",
    "print(len(files))"
   ]
  },
  {
   "cell_type": "code",
   "execution_count": 3,
   "metadata": {
    "execution": {
     "iopub.execute_input": "2024-11-29T10:11:24.200964Z",
     "iopub.status.busy": "2024-11-29T10:11:24.200857Z",
     "iopub.status.idle": "2024-11-29T10:11:24.207814Z",
     "shell.execute_reply": "2024-11-29T10:11:24.207380Z",
     "shell.execute_reply.started": "2024-11-29T10:11:24.200954Z"
    }
   },
   "outputs": [
    {
     "name": "stdout",
     "output_type": "stream",
     "text": [
      "Found 6 files\n",
      "6\n"
     ]
    }
   ],
   "source": [
    "# find_files() can use a list of folders as input\n",
    "folders = []\n",
    "folders.append('../unittest_data/kongsberg/simon/')\n",
    "folders.append('../unittest_data/kongsberg/turbeams/')\n",
    "files = theping.echosounders.index_functions.find_files(folders, [\".all\",\"wcd\"])\n",
    "print(len(files))"
   ]
  },
  {
   "cell_type": "code",
   "execution_count": 4,
   "metadata": {
    "execution": {
     "iopub.execute_input": "2024-11-29T10:11:24.208404Z",
     "iopub.status.busy": "2024-11-29T10:11:24.208250Z",
     "iopub.status.idle": "2024-11-29T10:11:24.212816Z",
     "shell.execute_reply": "2024-11-29T10:11:24.212491Z",
     "shell.execute_reply.started": "2024-11-29T10:11:24.208392Z"
    }
   },
   "outputs": [],
   "source": [
    "# pairs of files (e.g. .all and .wcd) don't have to be in the same folders. \n",
    "# Remember they are only paired later, by a File Handler"
   ]
  },
  {
   "cell_type": "markdown",
   "metadata": {},
   "source": [
    "### 2. Advanced use of File Handler"
   ]
  },
  {
   "cell_type": "code",
   "execution_count": 5,
   "metadata": {
    "execution": {
     "iopub.execute_input": "2024-11-29T10:11:24.213563Z",
     "iopub.status.busy": "2024-11-29T10:11:24.213399Z",
     "iopub.status.idle": "2024-11-29T10:11:24.233988Z",
     "shell.execute_reply": "2024-11-29T10:11:24.233693Z",
     "shell.execute_reply.started": "2024-11-29T10:11:24.213550Z"
    }
   },
   "outputs": [
    {
     "name": "stdout",
     "output_type": "stream",
     "text": [
      "Found 18 files\n",
      "indexing files ⠐ 100% [00m:00s<00m:00s] [..0057642499202963.wcd (1/18)]                               \n",
      "indexing files ⠠ 100% [00m:00s<00m:00s] [..4075547798063212.all (18/18)]                                \n",
      "indexing files ⢀ 100% [00m:00s<00m:00s] [Found: 729 datagrams in 18 files (10MB)]                                         \n",
      "Initializing ping interface ⢀ 90% [00m:00s<00m:00s] [Done]                                              \n"
     ]
    },
    {
     "name": "stderr",
     "output_type": "stream",
     "text": [
      "WARNING: get_depth_sensor_offsets: Only DSH (Depth (pressure) sensor heave) == NI is supported yet, but DSH is IN\n",
      "WARNING: get_depth_sensor_offsets: Only DSH (Depth (pressure) sensor heave) == NI is supported yet, but DSH is IN\n"
     ]
    }
   ],
   "source": [
    "# Create a File Handler to access the raw data files\n",
    "# TO DO - modify to talk about caching\n",
    "folder = '../unittest_data'\n",
    "files = theping.echosounders.index_functions.find_files(folder, [\".all\",\"wcd\"])\n",
    "fileHandler = theping.echosounders.kongsbergall.KongsbergAllFileHandler(files)"
   ]
  },
  {
   "cell_type": "markdown",
   "metadata": {},
   "source": [
    "### 3. Advanced access of Pings"
   ]
  },
  {
   "cell_type": "code",
   "execution_count": 6,
   "metadata": {
    "execution": {
     "iopub.execute_input": "2024-11-29T10:11:24.235839Z",
     "iopub.status.busy": "2024-11-29T10:11:24.235510Z",
     "iopub.status.idle": "2024-11-29T10:11:24.238233Z",
     "shell.execute_reply": "2024-11-29T10:11:24.237801Z",
     "shell.execute_reply.started": "2024-11-29T10:11:24.235818Z"
    }
   },
   "outputs": [],
   "source": [
    "# pingcontainer are mostly for fast filtering of pings (eg on basis of sonar head, or location)"
   ]
  },
  {
   "cell_type": "code",
   "execution_count": 7,
   "metadata": {
    "execution": {
     "iopub.execute_input": "2024-11-29T10:11:24.238702Z",
     "iopub.status.busy": "2024-11-29T10:11:24.238589Z",
     "iopub.status.idle": "2024-11-29T10:11:24.248622Z",
     "shell.execute_reply": "2024-11-29T10:11:24.248244Z",
     "shell.execute_reply.started": "2024-11-29T10:11:24.238689Z"
    }
   },
   "outputs": [
    {
     "data": {
      "text/plain": [
       "themachinethatgoesping.echosounders_cppy.kongsbergall.filetypes.KongsbergAllPing"
      ]
     },
     "execution_count": 7,
     "metadata": {},
     "output_type": "execute_result"
    }
   ],
   "source": [
    "# Access an individual ping in a Ping Container by indexing\n",
    "pingContainer = fileHandler.get_pings()\n",
    "ping42 = pingContainer[42]\n",
    "type(ping42)"
   ]
  },
  {
   "cell_type": "code",
   "execution_count": 8,
   "metadata": {
    "execution": {
     "iopub.execute_input": "2024-11-29T10:11:24.249214Z",
     "iopub.status.busy": "2024-11-29T10:11:24.249050Z",
     "iopub.status.idle": "2024-11-29T10:11:24.254783Z",
     "shell.execute_reply": "2024-11-29T10:11:24.254472Z",
     "shell.execute_reply.started": "2024-11-29T10:11:24.249200Z"
    }
   },
   "outputs": [
    {
     "data": {
      "text/plain": [
       "themachinethatgoesping.echosounders_cppy.kongsbergall.filedatacontainers.KongsbergAllPingContainer"
      ]
     },
     "execution_count": 8,
     "metadata": {},
     "output_type": "execute_result"
    }
   ],
   "source": [
    "#  This approach only works for a single ping. If you index a Ping Container for multiple pings, you will get a (smaller) Ping Container object\n",
    "pings0To42 = pingContainer[0:42]\n",
    "type(pings0To42)"
   ]
  },
  {
   "cell_type": "code",
   "execution_count": 9,
   "metadata": {
    "execution": {
     "iopub.execute_input": "2024-11-29T10:11:24.255662Z",
     "iopub.status.busy": "2024-11-29T10:11:24.255409Z",
     "iopub.status.idle": "2024-11-29T10:11:24.260052Z",
     "shell.execute_reply": "2024-11-29T10:11:24.259714Z",
     "shell.execute_reply.started": "2024-11-29T10:11:24.255645Z"
    }
   },
   "outputs": [
    {
     "name": "stdout",
     "output_type": "stream",
     "text": [
      "pings0To42 is now a <class 'list'> where each element is a <class 'themachinethatgoesping.echosounders_cppy.kongsbergall.filetypes.KongsbergAllPing'>\n"
     ]
    }
   ],
   "source": [
    "# If you want a list of Ping objects, you need to loop over each element of the Ping Container\n",
    "pings0To42 = []\n",
    "for i in range(42):\n",
    "    pings0To42.append(pingContainer[i])\n",
    "print(f\"pings0To42 is now a {type(pings0To42)} where each element is a {type(pings0To42[0])}\")"
   ]
  },
  {
   "cell_type": "code",
   "execution_count": 10,
   "metadata": {
    "execution": {
     "iopub.execute_input": "2024-11-29T10:11:24.260698Z",
     "iopub.status.busy": "2024-11-29T10:11:24.260523Z",
     "iopub.status.idle": "2024-11-29T10:11:24.269187Z",
     "shell.execute_reply": "2024-11-29T10:11:24.268565Z",
     "shell.execute_reply.started": "2024-11-29T10:11:24.260684Z"
    }
   },
   "outputs": [
    {
     "name": "stdout",
     "output_type": "stream",
     "text": [
      "pingsWithWC is a <class 'list'> where each element is a <class 'themachinethatgoesping.echosounders_cppy.kongsbergall.filetypes.KongsbergAllPing'>\n"
     ]
    }
   ],
   "source": [
    "# But you can also directly create lists of pings selected from a Ping Container by filtering for a specific critiera, for example pings containing watercolumn data\n",
    "pingsWithWC = theping.pingprocessing.filter_pings.by_features(pingContainer,['watercolumn.amplitudes'])\n",
    "print(f\"pingsWithWC is a {type(pingsWithWC)} where each element is a {type(pingsWithWC[0])}\")"
   ]
  },
  {
   "cell_type": "markdown",
   "metadata": {},
   "source": [
    "### 4. Get datagrams from all files"
   ]
  },
  {
   "cell_type": "code",
   "execution_count": 11,
   "metadata": {
    "execution": {
     "iopub.execute_input": "2024-11-29T10:11:24.270074Z",
     "iopub.status.busy": "2024-11-29T10:11:24.269871Z",
     "iopub.status.idle": "2024-11-29T10:11:24.278508Z",
     "shell.execute_reply": "2024-11-29T10:11:24.277316Z",
     "shell.execute_reply.started": "2024-11-29T10:11:24.270058Z"
    }
   },
   "outputs": [
    {
     "name": "stdout",
     "output_type": "stream",
     "text": [
      "DatagramContainer\n",
      "#################\n",
      "-\n",
      "Time info (Datagrams) \n",
      "------------------------ \n",
      "- Start time: 21/08/2012 17:09:42.36 \n",
      "- End time:   26/07/2024 15:02:51.40 \n",
      "- Sorted:     no                     \n",
      "\n",
      " Contained datagrams \n",
      "---------------------       \n",
      "- Total:                                       729 \n",
      "- Datagrams [PUIDOutput]:                      3   [30]\n",
      "- Datagrams [PUStatusOutput]:                  9   [31]\n",
      "- Datagrams [ExtraParameters]:                 3   [33]\n",
      "- Datagrams [AttitudeDatagram]:                28  [41]\n",
      "- Datagrams [ClockDatagram]:                   17  [43]\n",
      "- Datagrams [SurfaceSoundSpeedDatagram]:       1   [47]\n",
      "- Datagrams [InstallationParametersStart]:     18  [49]\n",
      "- Datagrams [RawRangeAndAngle]:                80  [4e]\n",
      "- Datagrams [QualityFactorDatagram]:           6   [4f]\n",
      "- Datagrams [PositionDatagram]:                31  [50]\n",
      "- Datagrams [RuntimeParameters]:               38  [52]\n",
      "- Datagrams [SoundSpeedProfileDatagram]:       18  [55]\n",
      "- Datagrams [XYZDatagram]:                     93  [58]\n",
      "- Datagrams [SeabedImageData]:                 80  [59]\n",
      "- Datagrams [DepthOrHeightDatagram]:           11  [68]\n",
      "- Datagrams [WatercolumnDatagram]:             172 [6b]\n",
      "- Datagrams [NetworkAttitudeVelocityDatagram]: 121 [6e]\n"
     ]
    }
   ],
   "source": [
    "print(fileHandler.datagram_interface.datagrams())"
   ]
  },
  {
   "cell_type": "code",
   "execution_count": 12,
   "metadata": {
    "execution": {
     "iopub.execute_input": "2024-11-29T10:11:24.279684Z",
     "iopub.status.busy": "2024-11-29T10:11:24.279467Z",
     "iopub.status.idle": "2024-11-29T10:11:24.301145Z",
     "shell.execute_reply": "2024-11-29T10:11:24.300884Z",
     "shell.execute_reply.started": "2024-11-29T10:11:24.279668Z"
    }
   },
   "outputs": [
    {
     "data": {
      "application/vnd.jupyter.widget-view+json": {
       "model_id": "5c5af150a0c64273be1abb9c0676bbd6",
       "version_major": 2,
       "version_minor": 0
      },
      "text/plain": [
       "  0%|          | 0/729 [00:00<?, ?it/s]"
      ]
     },
     "metadata": {},
     "output_type": "display_data"
    },
    {
     "data": {
      "application/vnd.jupyter.widget-view+json": {
       "model_id": "d13d52047c7f482a825acd55d0f01c97",
       "version_major": 2,
       "version_minor": 0
      },
      "text/plain": [
       "  0%|          | 0/38 [00:00<?, ?it/s]"
      ]
     },
     "metadata": {},
     "output_type": "display_data"
    }
   ],
   "source": [
    "# datagram_interface.datagrams() is an iterator so you can loop over all datagrams with:\n",
    "for d in tqdm(fileHandler.datagram_interface.datagrams()):\n",
    "    pass\n",
    "\n",
    "# or loop over specific datagram types with\n",
    "for d in tqdm(fileHandler.datagram_interface.datagrams(\"RuntimeParameters\")):\n",
    "    pass"
   ]
  },
  {
   "cell_type": "code",
   "execution_count": 13,
   "metadata": {
    "execution": {
     "iopub.execute_input": "2024-11-29T10:11:24.301613Z",
     "iopub.status.busy": "2024-11-29T10:11:24.301489Z",
     "iopub.status.idle": "2024-11-29T10:11:24.305010Z",
     "shell.execute_reply": "2024-11-29T10:11:24.304741Z",
     "shell.execute_reply.started": "2024-11-29T10:11:24.301600Z"
    }
   },
   "outputs": [
    {
     "name": "stdout",
     "output_type": "stream",
     "text": [
      "RuntimeParameters\n",
      "#################\n",
      "- bytes:               52       \n",
      "- stx:                 0x02     \n",
      "- datagram_identifier: 0x52     [RuntimeParameters]\n",
      "- model_number:        EM2040   [2040]\n",
      "- date:                20160413 [YYYYMMDD]\n",
      "- time_since_midnight: 67234243 [ms]\n",
      "\n",
      " date/time \n",
      "-----------  \n",
      "- timestamp: 1460.573e⁶   [s]\n",
      "- date:      13/04/2016   [MM/DD/YYYY]\n",
      "- time:      18:40:34.243 [HH:MM:SS]\n",
      "\n",
      " datagram content \n",
      "------------------             \n",
      "- ping_counter:                         5371       \n",
      "- system_serial_number:                 213        \n",
      "- operator_station_status:              0          \n",
      "- processing_unit_status:               0          \n",
      "- bsp_status:                           0          \n",
      "- sonar_head_or_transceiver_status:     0          \n",
      "- mode:                                 0b00000001 \n",
      "- filter_identifier:                    0b01101101 \n",
      "- minimum_depth:                        1          [m]\n",
      "- maximum_depth:                        50         [m]\n",
      "- absorption_coefficient:               7074       [0.01 db/km]\n",
      "- transmit_pulse_length:                600        [μs]\n",
      "- transmit_beamwidth:                   5          [0.1°]\n",
      "- transmit_power_relative_maximum:      0          [dB]\n",
      "- receive_bandwidth_degree:             10         [0.1°]\n",
      "- receive_bandwidth_50hz:               255        [50Hz]\n",
      "- mode2_or_receiver_fixed_gain_setting: 0b00001001 \n",
      "- tvg_law_crossover_angle:              10         [°]\n",
      "- source_of_sound_speed_at_transducer:  0b00000010 \n",
      "- maximum_port_swath_width:             300        [m]\n",
      "- beam_spacing:                         0b00000011 \n",
      "- maximum_port_coverage:                70         [°]\n",
      "- yaw_and_pitch_stabilization_mode:     0b00000100 \n",
      "- maximum_starboard_coverage:           70         [°]\n",
      "- maximum_starboard_swath_width:        300        [m]\n",
      "- transmit_along_tilt:                  0          [0.1°]\n",
      "- filter_identifier2:                   0b00000000 \n",
      "- etx:                                  0x03       \n",
      "- checksum:                             2590       \n",
      "\n",
      " processed \n",
      "-----------                               \n",
      "- absorption_coefficient_in_db_per_meter: 70.740e⁻³    [db/m]\n",
      "- transmit_pulse_length_in_seconds:       0.600e⁻³     [s]\n",
      "- transmit_beamwidth_in_degrees:          0.500        [°]\n",
      "- receive_bandwidth_in_degrees:           1.000        [°]\n",
      "- receive_bandwidth_in_hertz:             12.750e³     [Hz]\n",
      "- transmit_along_tilt_in_degrees:         0.000        [°]\n",
      "\n",
      " decoded: 'mode' [00000001] \n",
      "---------------------------- \n",
      "- mode_as_ping_mode:       300 kHz [opt(string)]\n",
      "- mode_as_tx_pulse_form:   CW      [opt(string)]\n",
      "- mode_as_dual_swath_mode: Off     [opt(string)]\n",
      "\n",
      " decoded: 'mode2' [00001001] \n",
      "----------------------------- \n",
      "- mode2_as_rx_or_sonar_head_use:          RX 1 (port) active [opt(string)]\n",
      "- mode2_as_pulselength:                   Long CW            [opt(string)]\n",
      "- mode2_as_receive_fixed_gain_setting_dB: -None-             [opt(dB)]\n",
      "\n",
      " decoded: 'filter_identifier' [01101101] \n",
      "----------------------------------------- \n",
      "- filter_identifier_as_spike_filter:        Weak   [string]\n",
      "- filter_identifier_as_slope_filter:        On     [string]\n",
      "- filter_identifier_as_range_gates_size:    Normal [opt(string)]\n",
      "- filter_identifier_as_aeration_filter:     On     [string]\n",
      "- filter_identifier_as_interference_filter: On     [string]\n",
      "\n",
      " decoded: 'filter_identifier2' [00000000] \n",
      "------------------------------------------ \n",
      "- filter_identifier2_as_penetration_filter: Weak               [string]\n",
      "- filter_identifier2_as_detect_mode:        Minimum depth      [string]\n",
      "- filter_identifier2_as_phase_ramp:         Long phase ramp    [opt(string)]\n",
      "- filter_identifier2_as_special_tvg:        Normal TVG         [string]\n",
      "- filter_identifier2_as_special_amp_detect: Special amp detect [string]\n",
      "\n",
      " decoded: 'source_of_sound_speed_at_transducer' [00000010] \n",
      "----------------------------------------------------------- \n",
      "- source_of_sound_speed_at_transducer_as_string: Interpolated from currently used sound speed profile [opt(string)]\n",
      "- extra_detections_enabled:                      false                                                [bool]\n",
      "- sonar_mode_enabled:                            false                                                [bool]\n",
      "- passive_mode_enabled:                          false                                                [bool]\n",
      "- 3d_scanning_enabled:                           false                                                [bool]\n",
      "\n",
      " decoded: 'beam_spacing' [00000011] \n",
      "------------------------------------ \n",
      "- beam_spacing_as_string: High density equidistant [opt(string)]\n",
      "\n",
      " decoded: 'yaw_and_pitch_stabilization_mode' [00000100] \n",
      "-------------------------------------------------------- \n",
      "- yaw_and_pitch_stabilization_mode_as_yaw_stabilization:   No yaw stabilization [string]\n",
      "- yaw_and_pitch_stabilization_mode_as_heading_filter:      -None-               [opt(string)]\n",
      "- yaw_and_pitch_stabilization_mode_as_pitch_stibilization: Off                  [string]\n"
     ]
    }
   ],
   "source": [
    "# index to access a specific datagram\n",
    "d  = fileHandler.datagram_interface.datagrams(\"RuntimeParameters\")[0]\n",
    "print(d)"
   ]
  },
  {
   "cell_type": "code",
   "execution_count": 14,
   "metadata": {
    "execution": {
     "iopub.execute_input": "2024-11-29T10:11:24.305488Z",
     "iopub.status.busy": "2024-11-29T10:11:24.305350Z",
     "iopub.status.idle": "2024-11-29T10:11:24.310892Z",
     "shell.execute_reply": "2024-11-29T10:11:24.310210Z",
     "shell.execute_reply.started": "2024-11-29T10:11:24.305478Z"
    }
   },
   "outputs": [
    {
     "name": "stdout",
     "output_type": "stream",
     "text": [
      "Model number: 2040\n",
      "Mode: 1\n",
      "System serial number: 213\n",
      "Transmit pulse length (raw): 600\n",
      "Transmit pulse length (in sec): 0.0005999999702908099\n"
     ]
    }
   ],
   "source": [
    "# and use \"get_\" methods to get data of interest from a datagram\n",
    "print(f\"Model number: {d.get_model_number()}\")\n",
    "print(f\"Mode: {d.get_mode()}\")\n",
    "print(f\"System serial number: {d.get_system_serial_number()}\")\n",
    "print(f\"Transmit pulse length (raw): {d.get_transmit_pulse_length()}\")\n",
    "print(f\"Transmit pulse length (in sec): {d.get_transmit_pulse_length_in_seconds()}\")"
   ]
  },
  {
   "cell_type": "code",
   "execution_count": 15,
   "metadata": {
    "execution": {
     "iopub.execute_input": "2024-11-29T10:11:24.311949Z",
     "iopub.status.busy": "2024-11-29T10:11:24.311713Z",
     "iopub.status.idle": "2024-11-29T10:11:24.326283Z",
     "shell.execute_reply": "2024-11-29T10:11:24.325959Z",
     "shell.execute_reply.started": "2024-11-29T10:11:24.311930Z"
    }
   },
   "outputs": [
    {
     "name": "stdout",
     "output_type": "stream",
     "text": [
      "Transmit pulse length (in sec) for this ping: 0.0005999999702908099\n"
     ]
    }
   ],
   "source": [
    "# Note you can also access runtime parameters applying to a given ping\n",
    "ping = fileHandler.get_pings()[0]\n",
    "rp = ping.file_data.get_runtime_parameters()\n",
    "print(f\"Transmit pulse length (in sec) for this ping: {d.get_transmit_pulse_length_in_seconds()}\")"
   ]
  },
  {
   "cell_type": "markdown",
   "metadata": {},
   "source": [
    "### 4. Access datagrams in individual files"
   ]
  },
  {
   "cell_type": "code",
   "execution_count": 16,
   "metadata": {
    "execution": {
     "iopub.execute_input": "2024-11-29T10:11:24.326986Z",
     "iopub.status.busy": "2024-11-29T10:11:24.326802Z",
     "iopub.status.idle": "2024-11-29T10:11:24.357529Z",
     "shell.execute_reply": "2024-11-29T10:11:24.357284Z",
     "shell.execute_reply.started": "2024-11-29T10:11:24.326969Z"
    }
   },
   "outputs": [
    {
     "name": "stdout",
     "output_type": "stream",
     "text": [
      "indexing file ⠐ 100% [00m:00s<00m:00s]           \n",
      "indexing file ⠠ 100% [00m:00s<00m:00s] [Found: 10 datagrams]                     \n",
      "Initializing ping interface ⠐ 0% [00m:00s<00m:00s] [Done]                                              \n",
      "indexing file ⠐ 83% [00m:00s<00m:00s] [Found: 10 datagrams]                     \n",
      "Initializing ping interface ⠐ 0% [00m:00s<00m:00s] [Done]                                              \n"
     ]
    }
   ],
   "source": [
    "# you can create filehandlers of individual files\n",
    "file = files[0]\n",
    "fileHandler = theping.echosounders.kongsbergall.KongsbergAllFileHandler(file)\n",
    "\n",
    "# you can reuse cache created for the list of files on an individual file\n",
    "cache = theping.echosounders.index_functions.get_index_paths(files)\n",
    "fileHandler = theping.echosounders.kongsbergall.KongsbergAllFileHandler(file, index_paths = cache)"
   ]
  },
  {
   "cell_type": "code",
   "execution_count": 17,
   "metadata": {
    "execution": {
     "iopub.execute_input": "2024-11-29T10:11:24.358001Z",
     "iopub.status.busy": "2024-11-29T10:11:24.357891Z",
     "iopub.status.idle": "2024-11-29T10:11:24.370109Z",
     "shell.execute_reply": "2024-11-29T10:11:24.369728Z",
     "shell.execute_reply.started": "2024-11-29T10:11:24.357991Z"
    }
   },
   "outputs": [
    {
     "name": "stdout",
     "output_type": "stream",
     "text": [
      "indexing files ⢀ 98% [00m:00s<00m:00s] [Found: 729 datagrams in 18 files (10MB)]                                         \n",
      "Initializing ping interface ⢀ 90% [00m:00s<00m:00s] [Done]                                              \n"
     ]
    },
    {
     "name": "stderr",
     "output_type": "stream",
     "text": [
      "WARNING: get_depth_sensor_offsets: Only DSH (Depth (pressure) sensor heave) == NI is supported yet, but DSH is IN\n",
      "WARNING: get_depth_sensor_offsets: Only DSH (Depth (pressure) sensor heave) == NI is supported yet, but DSH is IN\n"
     ]
    }
   ],
   "source": [
    "\n",
    "#if you have a big filehandler for many files, you can still access datagrams file by file\n",
    "fileHandler = theping.echosounders.kongsbergall.KongsbergAllFileHandler(files, index_paths = cache)\n",
    "\n",
    "#get first runtime parameters datagram of each file\n",
    "rps = {}\n",
    "for datainterface in fileHandler.datagramdata_interface.per_primary_file():\n",
    "    if len(datainterface.datagrams('RuntimeParameters')) > 0:\n",
    "        rp = datainterface.datagrams('RuntimeParameters')[0]\n",
    "        rps[datainterface.get_file_path()] = rp\n",
    "    else:\n",
    "        print('No runtime parameters in', datainterface.get_file_path())\n",
    "    "
   ]
  },
  {
   "cell_type": "code",
   "execution_count": 18,
   "metadata": {
    "execution": {
     "iopub.execute_input": "2024-11-29T10:11:24.370772Z",
     "iopub.status.busy": "2024-11-29T10:11:24.370585Z",
     "iopub.status.idle": "2024-11-29T10:11:24.372975Z",
     "shell.execute_reply": "2024-11-29T10:11:24.372721Z",
     "shell.execute_reply.started": "2024-11-29T10:11:24.370759Z"
    }
   },
   "outputs": [
    {
     "name": "stdout",
     "output_type": "stream",
     "text": [
      "../unittest_data/kongsberg/simon/-8780057642499202963.all sonarmode: False\n",
      "../unittest_data/kongsberg/a/y/-7609271985000766481.all sonarmode: False\n",
      "../unittest_data/kongsberg/a/f/ALL/4590722669055497039.all sonarmode: False\n",
      "../unittest_data/kongsberg/a/c/2720871266855321420.all sonarmode: False\n",
      "../unittest_data/kongsberg/e/5556426203143536656.all sonarmode: True\n",
      "../unittest_data/kongsberg/e/6340811117880500921.all sonarmode: True\n",
      "../unittest_data/kongsberg/g/4467916373654671126.all sonarmode: False\n",
      "../unittest_data/kongsberg/turbeams/2353008643552583898.all sonarmode: False\n",
      "../unittest_data/kongsberg/turbeams/-5459828243338449053.all sonarmode: False\n",
      "../unittest_data/kongsberg/he/8194075547798063212.all sonarmode: False\n"
     ]
    }
   ],
   "source": [
    "for k,v in rps.items():\n",
    "    print(k, 'sonarmode:',v.get_sonar_mode_enabled())"
   ]
  },
  {
   "cell_type": "code",
   "execution_count": 19,
   "metadata": {
    "execution": {
     "iopub.execute_input": "2024-11-29T10:11:24.374002Z",
     "iopub.status.busy": "2024-11-29T10:11:24.373585Z",
     "iopub.status.idle": "2024-11-29T10:11:24.380317Z",
     "shell.execute_reply": "2024-11-29T10:11:24.379767Z",
     "shell.execute_reply.started": "2024-11-29T10:11:24.373979Z"
    }
   },
   "outputs": [
    {
     "name": "stdout",
     "output_type": "stream",
     "text": [
      "../unittest_data/kongsberg/simon/-8780057642499202963.all sonarmode: EM2040 300 kHz\n",
      "../unittest_data/kongsberg/a/y/-7609271985000766481.all sonarmode: EM2040C 400 kHz\n",
      "../unittest_data/kongsberg/a/f/ALL/4590722669055497039.all sonarmode: EM710 Shallow\n",
      "../unittest_data/kongsberg/a/c/2720871266855321420.all sonarmode: EM2040 300 kHz\n",
      "../unittest_data/kongsberg/e/5556426203143536656.all sonarmode: EM2040 400 kHz\n",
      "../unittest_data/kongsberg/e/6340811117880500921.all sonarmode: EM2040 400 kHz\n",
      "../unittest_data/kongsberg/g/4467916373654671126.all sonarmode: EM710 Shallow\n",
      "../unittest_data/kongsberg/turbeams/2353008643552583898.all sonarmode: EM2040 300 kHz\n",
      "../unittest_data/kongsberg/turbeams/-5459828243338449053.all sonarmode: EM2040 400 kHz\n",
      "../unittest_data/kongsberg/he/8194075547798063212.all sonarmode: EM710 Shallow\n"
     ]
    }
   ],
   "source": [
    "for k,v in rps.items():\n",
    "    print(k, 'sonarmode:', v.get_model_number_as_string(),v.get_mode_as_ping_mode())"
   ]
  }
 ],
 "metadata": {
  "kernelspec": {
   "display_name": "Python 3 (ipykernel)",
   "language": "python",
   "name": "python3"
  },
  "language_info": {
   "codemirror_mode": {
    "name": "ipython",
    "version": 3
   },
   "file_extension": ".py",
   "mimetype": "text/x-python",
   "name": "python",
   "nbconvert_exporter": "python",
   "pygments_lexer": "ipython3",
   "version": "3.12.8"
  },
  "widgets": {
   "application/vnd.jupyter.widget-state+json": {
    "state": {},
    "version_major": 2,
    "version_minor": 0
   }
  }
 },
 "nbformat": 4,
 "nbformat_minor": 4
}
