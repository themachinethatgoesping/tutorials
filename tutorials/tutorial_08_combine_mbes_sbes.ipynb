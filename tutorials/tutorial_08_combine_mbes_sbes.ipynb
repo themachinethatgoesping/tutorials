{
 "cells": [
  {
   "cell_type": "code",
   "execution_count": 5,
   "id": "922c8cd7-b24f-4899-ba6d-2ccef733cb9a",
   "metadata": {
    "execution": {
     "iopub.execute_input": "2025-06-13T13:49:24.298658Z",
     "iopub.status.busy": "2025-06-13T13:49:24.298282Z",
     "iopub.status.idle": "2025-06-13T13:49:24.337567Z",
     "shell.execute_reply": "2025-06-13T13:49:24.337246Z",
     "shell.execute_reply.started": "2025-06-13T13:49:24.298641Z"
    }
   },
   "outputs": [
    {
     "name": "stdout",
     "output_type": "stream",
     "text": [
      "Found 18 files\n",
      "Found 14 files\n",
      "indexing files ⠐ 100% [00m:00s<00m:00s] [..0871266855321420.all (1/18)]                               \n",
      "indexing files ⠠ 100% [00m:00s<00m:00s] [..3008643552583898.wcd (18/18)]                                \n",
      "indexing files ⢀ 100% [00m:00s<00m:00s] [Found: 729 datagrams in 18 files (10MB)]                                         \n",
      "Initializing ping interface ⢀ 90% [00m:00s<00m:00s] [Done]                                              \n",
      "indexing files ⠐ 100% [00m:00s<00m:00s] [..4744243782947115.raw (1/14)]                               \n",
      "indexing files ⠠ 100% [00m:00s<00m:00s] [..6549579065982179.raw (14/14)]                                \n",
      "indexing files ⢀ 100% [00m:00s<00m:00s] [Found: 651 datagrams in 14 files (37MB)]                                         \n",
      "Initializing ping interface ⡀ 96% [00m:00s<00m:00s] [Done]                                                      \n"
     ]
    },
    {
     "name": "stderr",
     "output_type": "stream",
     "text": [
      "WARNING: get_depth_sensor_offsets: Only DSH (Depth (pressure) sensor heave) == NI is supported yet, but DSH is IN\n",
      "WARNING: get_depth_sensor_offsets: Only DSH (Depth (pressure) sensor heave) == NI is supported yet, but DSH is IN\n"
     ]
    }
   ],
   "source": [
    "%matplotlib widget\n",
    "import os\n",
    "\n",
    "from matplotlib import pyplot as plt\n",
    "from themachinethatgoesping.echosounders import index_functions\n",
    "from themachinethatgoesping.echosounders import kongsbergall, simradraw\n",
    "import themachinethatgoesping as theping\n",
    "from tqdm.auto import tqdm\n",
    "\n",
    "folders = []\n",
    "folders.append(\"../unittest_data\")\n",
    "\n",
    "# list raw data files\n",
    "files_all = sorted(index_functions.find_files(folders, [\".all\",\"wcd\"]))\n",
    "files_raw = sorted(index_functions.find_files(folders, [\".raw\"]))\n",
    "\n",
    "# load files' data\n",
    "fh_all = kongsbergall.KongsbergAllFileHandler(files_all)\n",
    "fh_raw = simradraw.SimradRawFileHandler(files_raw)\n",
    "\n"
   ]
  },
  {
   "cell_type": "code",
   "execution_count": 6,
   "id": "41fd905a-bd7f-478b-85eb-7b970e17192a",
   "metadata": {
    "execution": {
     "iopub.execute_input": "2025-06-13T13:50:32.609700Z",
     "iopub.status.busy": "2025-06-13T13:50:32.609147Z",
     "iopub.status.idle": "2025-06-13T13:50:32.616853Z",
     "shell.execute_reply": "2025-06-13T13:50:32.616513Z",
     "shell.execute_reply.started": "2025-06-13T13:50:32.609641Z"
    }
   },
   "outputs": [],
   "source": [
    "pings_all = theping.pingprocessing.filter_pings.by_ping_times(fh_all.get_pings(), fh_raw.get_pings())\n",
    "pings_raw = theping.pingprocessing.filter_pings.by_ping_times(fh_raw.get_pings(), pings_all)"
   ]
  },
  {
   "cell_type": "code",
   "execution_count": 8,
   "id": "f5ce3f2a-f1d3-427b-9e2b-026165b28cab",
   "metadata": {
    "execution": {
     "iopub.execute_input": "2025-06-13T13:50:42.244274Z",
     "iopub.status.busy": "2025-06-13T13:50:42.243033Z",
     "iopub.status.idle": "2025-06-13T13:50:42.249691Z",
     "shell.execute_reply": "2025-06-13T13:50:42.249412Z",
     "shell.execute_reply.started": "2025-06-13T13:50:42.244197Z"
    }
   },
   "outputs": [
    {
     "data": {
      "text/plain": [
       "0"
      ]
     },
     "execution_count": 8,
     "metadata": {},
     "output_type": "execute_result"
    }
   ],
   "source": [
    "len(pings_raw)"
   ]
  },
  {
   "cell_type": "code",
   "execution_count": null,
   "id": "3a763dee-446a-4729-abe3-efb3d864ce55",
   "metadata": {},
   "outputs": [],
   "source": []
  }
 ],
 "metadata": {
  "kernelspec": {
   "display_name": "Python 3 (ipykernel)",
   "language": "python",
   "name": "python3"
  },
  "language_info": {
   "codemirror_mode": {
    "name": "ipython",
    "version": 3
   },
   "file_extension": ".py",
   "mimetype": "text/x-python",
   "name": "python",
   "nbconvert_exporter": "python",
   "pygments_lexer": "ipython3",
   "version": "3.13.3"
  },
  "widgets": {
   "application/vnd.jupyter.widget-state+json": {
    "state": {
     "00a35300300c416fa79eb8ab0f25ae89": {
      "model_module": "@jupyter-widgets/controls",
      "model_module_version": "2.0.0",
      "model_name": "HTMLModel",
      "state": {
       "layout": "IPY_MODEL_b59fe012f6854ee08014011b3a24a007",
       "style": "IPY_MODEL_bcad4a87caf04f2aa4ea2972e14922ba",
       "value": "removing duplicates: 100%"
      }
     },
     "04ccd4ff6e024fb0aabe4cd128c3448a": {
      "model_module": "@jupyter-widgets/controls",
      "model_module_version": "2.0.0",
      "model_name": "HTMLModel",
      "state": {
       "layout": "IPY_MODEL_afcf58e313344340bd5365f437217c8d",
       "style": "IPY_MODEL_9f9672787ec1420d90975a0e30662954",
       "value": " 18/18 [00:00&lt;00:00, 8534.65it/s]"
      }
     },
     "1187563953dd4c92b8c8894c96c0fb70": {
      "model_module": "@jupyter-widgets/controls",
      "model_module_version": "2.0.0",
      "model_name": "FloatProgressModel",
      "state": {
       "bar_style": "success",
       "layout": "IPY_MODEL_893165903400487396558d7865f3e8f9",
       "max": 18,
       "style": "IPY_MODEL_5abbed92627e4c02a70c6a4d46ce35c1",
       "value": 18
      }
     },
     "12da23cd8a6b41e69db5ab4a31bdf6a9": {
      "model_module": "@jupyter-widgets/base",
      "model_module_version": "2.0.0",
      "model_name": "LayoutModel",
      "state": {}
     },
     "152b724c474f44b1a8b5742b533ba975": {
      "model_module": "@jupyter-widgets/base",
      "model_module_version": "2.0.0",
      "model_name": "LayoutModel",
      "state": {}
     },
     "1729dc03957a49cf84607909aea5a6f9": {
      "model_module": "@jupyter-widgets/controls",
      "model_module_version": "2.0.0",
      "model_name": "HTMLModel",
      "state": {
       "layout": "IPY_MODEL_4675d1c94c19417bb48bdaa59fd361f1",
       "style": "IPY_MODEL_c059c90765fa435cb1967cd62e5ab174",
       "value": " 18/18 [00:00&lt;00:00, 8411.97it/s]"
      }
     },
     "1afcce51786042ce97890de58c8c6ea5": {
      "model_module": "@jupyter-widgets/controls",
      "model_module_version": "2.0.0",
      "model_name": "HTMLModel",
      "state": {
       "layout": "IPY_MODEL_6a229dc4dcd44973bea24d894174391e",
       "style": "IPY_MODEL_da27af72febd42b3b3d8f42704497c13",
       "value": "removing duplicates: 100%"
      }
     },
     "1c867ac572144478b95369b5012afbfd": {
      "model_module": "@jupyter-widgets/base",
      "model_module_version": "2.0.0",
      "model_name": "LayoutModel",
      "state": {}
     },
     "1e11e232a1904ef99979cc57c7d42456": {
      "model_module": "@jupyter-widgets/base",
      "model_module_version": "2.0.0",
      "model_name": "LayoutModel",
      "state": {}
     },
     "1ec0218b32f3468a80c2398e0c29bafa": {
      "model_module": "@jupyter-widgets/base",
      "model_module_version": "2.0.0",
      "model_name": "LayoutModel",
      "state": {}
     },
     "218c15dacb9741169a8d93931c771b30": {
      "model_module": "@jupyter-widgets/controls",
      "model_module_version": "2.0.0",
      "model_name": "HTMLModel",
      "state": {
       "layout": "IPY_MODEL_ec1f2cc863bf4a5687fe5b2530f1c806",
       "style": "IPY_MODEL_6113ace8ab8c4969b9b34aee11935000",
       "value": "removing duplicates: 100%"
      }
     },
     "21942900524b43ab80f910dd844a763c": {
      "model_module": "@jupyter-widgets/controls",
      "model_module_version": "2.0.0",
      "model_name": "HTMLStyleModel",
      "state": {
       "description_width": "",
       "font_size": null,
       "text_color": null
      }
     },
     "2484f5eddc594ba9bdd0ccf55174a06a": {
      "model_module": "@jupyter-widgets/base",
      "model_module_version": "2.0.0",
      "model_name": "LayoutModel",
      "state": {}
     },
     "2688e912955144599054257d3e334086": {
      "model_module": "@jupyter-widgets/base",
      "model_module_version": "2.0.0",
      "model_name": "LayoutModel",
      "state": {}
     },
     "2ce74689dd6c496a9ced93337a3d4939": {
      "model_module": "@jupyter-widgets/controls",
      "model_module_version": "2.0.0",
      "model_name": "HBoxModel",
      "state": {
       "children": [
        "IPY_MODEL_00a35300300c416fa79eb8ab0f25ae89",
        "IPY_MODEL_9d251cc65b1242d082c0c9e1625d9373",
        "IPY_MODEL_04ccd4ff6e024fb0aabe4cd128c3448a"
       ],
       "layout": "IPY_MODEL_5e1c2a63f0124d148b914cfb6bcc9d7d"
      }
     },
     "31320f5d738d4069a4609f0fac191e40": {
      "model_module": "@jupyter-widgets/controls",
      "model_module_version": "2.0.0",
      "model_name": "HTMLStyleModel",
      "state": {
       "description_width": "",
       "font_size": null,
       "text_color": null
      }
     },
     "325f168fd8cf417a965d1df76c26a325": {
      "model_module": "@jupyter-widgets/controls",
      "model_module_version": "2.0.0",
      "model_name": "HBoxModel",
      "state": {
       "children": [
        "IPY_MODEL_f4c78717ddaf4662868d240fc9a82a58",
        "IPY_MODEL_1187563953dd4c92b8c8894c96c0fb70",
        "IPY_MODEL_54fa32429f654c96afbc6f10b686ddb2"
       ],
       "layout": "IPY_MODEL_b0de1393e922499f8d81d4d2232e9178"
      }
     },
     "34103f039e7443a99f22a2445b483de1": {
      "model_module": "@jupyter-widgets/base",
      "model_module_version": "2.0.0",
      "model_name": "LayoutModel",
      "state": {}
     },
     "37528bc89068435dbf5ab52ff63dd52f": {
      "model_module": "@jupyter-widgets/base",
      "model_module_version": "2.0.0",
      "model_name": "LayoutModel",
      "state": {}
     },
     "37de43c242b145b7876c667970ac2c7e": {
      "model_module": "@jupyter-widgets/base",
      "model_module_version": "2.0.0",
      "model_name": "LayoutModel",
      "state": {}
     },
     "388f1402c9b24e1da5972f2185635586": {
      "model_module": "@jupyter-widgets/base",
      "model_module_version": "2.0.0",
      "model_name": "LayoutModel",
      "state": {}
     },
     "3aff524c3fad498180f3988e7f1b52f7": {
      "model_module": "@jupyter-widgets/controls",
      "model_module_version": "2.0.0",
      "model_name": "ProgressStyleModel",
      "state": {
       "description_width": ""
      }
     },
     "3b0ea17a3c9748afa44078da8a156189": {
      "model_module": "@jupyter-widgets/controls",
      "model_module_version": "2.0.0",
      "model_name": "ProgressStyleModel",
      "state": {
       "description_width": ""
      }
     },
     "3c4c691753504bb5b39145cef63bcc87": {
      "model_module": "@jupyter-widgets/controls",
      "model_module_version": "2.0.0",
      "model_name": "HBoxModel",
      "state": {
       "children": [
        "IPY_MODEL_dae5aac679f64a0ab79a7af43ec99f3e",
        "IPY_MODEL_8c7027d96e7d41f4a9942b37e0cef192",
        "IPY_MODEL_1729dc03957a49cf84607909aea5a6f9"
       ],
       "layout": "IPY_MODEL_46a4d92390bd46df9c41d4c6c1b6818a"
      }
     },
     "3c7bd580e6fa478f897234c18dc7bd11": {
      "model_module": "@jupyter-widgets/controls",
      "model_module_version": "2.0.0",
      "model_name": "FloatProgressModel",
      "state": {
       "bar_style": "success",
       "layout": "IPY_MODEL_8356a79c52dd4b9fb65c75d97de974aa",
       "max": 14,
       "style": "IPY_MODEL_3b0ea17a3c9748afa44078da8a156189",
       "value": 14
      }
     },
     "417cbf2ceba04c988def011aea57bba2": {
      "model_module": "@jupyter-widgets/controls",
      "model_module_version": "2.0.0",
      "model_name": "HBoxModel",
      "state": {
       "children": [
        "IPY_MODEL_b4c581e7a5fa426bb0f982e92faa3b02",
        "IPY_MODEL_6e9d2367478b4943a6e5a800c17baf32",
        "IPY_MODEL_69c7c2348bbd4fceb942c2a698bd2f91"
       ],
       "layout": "IPY_MODEL_152b724c474f44b1a8b5742b533ba975"
      }
     },
     "42b8530d82a244b88e4e22ef9c63f1ea": {
      "model_module": "@jupyter-widgets/controls",
      "model_module_version": "2.0.0",
      "model_name": "ProgressStyleModel",
      "state": {
       "description_width": ""
      }
     },
     "4675d1c94c19417bb48bdaa59fd361f1": {
      "model_module": "@jupyter-widgets/base",
      "model_module_version": "2.0.0",
      "model_name": "LayoutModel",
      "state": {}
     },
     "46a4d92390bd46df9c41d4c6c1b6818a": {
      "model_module": "@jupyter-widgets/base",
      "model_module_version": "2.0.0",
      "model_name": "LayoutModel",
      "state": {}
     },
     "4c877cc9d8234f4c8716057387304aa1": {
      "model_module": "@jupyter-widgets/base",
      "model_module_version": "2.0.0",
      "model_name": "LayoutModel",
      "state": {}
     },
     "4fb284a84731401caa14a47d47f36206": {
      "model_module": "@jupyter-widgets/base",
      "model_module_version": "2.0.0",
      "model_name": "LayoutModel",
      "state": {}
     },
     "542f643c80654d52b8e7234d63739eb7": {
      "model_module": "@jupyter-widgets/base",
      "model_module_version": "2.0.0",
      "model_name": "LayoutModel",
      "state": {}
     },
     "54fa32429f654c96afbc6f10b686ddb2": {
      "model_module": "@jupyter-widgets/controls",
      "model_module_version": "2.0.0",
      "model_name": "HTMLModel",
      "state": {
       "layout": "IPY_MODEL_2688e912955144599054257d3e334086",
       "style": "IPY_MODEL_84b1787ba4a1463694213c85cedf796b",
       "value": " 18/18 [00:00&lt;00:00, 3934.21it/s]"
      }
     },
     "5a4d09534b174e7e913d9f0ad032dc93": {
      "model_module": "@jupyter-widgets/controls",
      "model_module_version": "2.0.0",
      "model_name": "HTMLStyleModel",
      "state": {
       "description_width": "",
       "font_size": null,
       "text_color": null
      }
     },
     "5abbed92627e4c02a70c6a4d46ce35c1": {
      "model_module": "@jupyter-widgets/controls",
      "model_module_version": "2.0.0",
      "model_name": "ProgressStyleModel",
      "state": {
       "description_width": ""
      }
     },
     "5b38a9a360bf44438fd6235fa94b4d3a": {
      "model_module": "@jupyter-widgets/base",
      "model_module_version": "2.0.0",
      "model_name": "LayoutModel",
      "state": {}
     },
     "5ceb0de0e5f04bdf867127651801dd1c": {
      "model_module": "@jupyter-widgets/controls",
      "model_module_version": "2.0.0",
      "model_name": "FloatProgressModel",
      "state": {
       "bar_style": "success",
       "layout": "IPY_MODEL_1e11e232a1904ef99979cc57c7d42456",
       "max": 14,
       "style": "IPY_MODEL_3aff524c3fad498180f3988e7f1b52f7",
       "value": 14
      }
     },
     "5e1c2a63f0124d148b914cfb6bcc9d7d": {
      "model_module": "@jupyter-widgets/base",
      "model_module_version": "2.0.0",
      "model_name": "LayoutModel",
      "state": {}
     },
     "5ec71eea76b948169d9b774fcac94425": {
      "model_module": "@jupyter-widgets/controls",
      "model_module_version": "2.0.0",
      "model_name": "HTMLModel",
      "state": {
       "layout": "IPY_MODEL_fd20ab22638b4df4993b4ec6b66d4f4d",
       "style": "IPY_MODEL_f0a4e0c64a57445e8d1729278ff55399",
       "value": " 14/14 [00:00&lt;00:00, 7712.14it/s]"
      }
     },
     "6113ace8ab8c4969b9b34aee11935000": {
      "model_module": "@jupyter-widgets/controls",
      "model_module_version": "2.0.0",
      "model_name": "HTMLStyleModel",
      "state": {
       "description_width": "",
       "font_size": null,
       "text_color": null
      }
     },
     "65fedc86ff274b59b963bdbd89e89b1d": {
      "model_module": "@jupyter-widgets/controls",
      "model_module_version": "2.0.0",
      "model_name": "HTMLModel",
      "state": {
       "layout": "IPY_MODEL_b1499725b3094867a3e22c914e74096a",
       "style": "IPY_MODEL_b77709a6ca4848e6b1a2e0c19237cb54",
       "value": "removing duplicates: 100%"
      }
     },
     "66774e050439486a9136f072dbf8c94d": {
      "model_module": "@jupyter-widgets/base",
      "model_module_version": "2.0.0",
      "model_name": "LayoutModel",
      "state": {}
     },
     "69c7c2348bbd4fceb942c2a698bd2f91": {
      "model_module": "@jupyter-widgets/controls",
      "model_module_version": "2.0.0",
      "model_name": "HTMLModel",
      "state": {
       "layout": "IPY_MODEL_dd683d59629a48b4bc099da8072d6886",
       "style": "IPY_MODEL_31320f5d738d4069a4609f0fac191e40",
       "value": " 14/14 [00:00&lt;00:00, 7086.68it/s]"
      }
     },
     "6a229dc4dcd44973bea24d894174391e": {
      "model_module": "@jupyter-widgets/base",
      "model_module_version": "2.0.0",
      "model_name": "LayoutModel",
      "state": {}
     },
     "6bcc99cd788e487387cec27ddcbc56d2": {
      "model_module": "@jupyter-widgets/base",
      "model_module_version": "2.0.0",
      "model_name": "LayoutModel",
      "state": {}
     },
     "6d41edabc21a4a159fd5c43207dcbbb3": {
      "model_module": "@jupyter-widgets/controls",
      "model_module_version": "2.0.0",
      "model_name": "HTMLStyleModel",
      "state": {
       "description_width": "",
       "font_size": null,
       "text_color": null
      }
     },
     "6e9d2367478b4943a6e5a800c17baf32": {
      "model_module": "@jupyter-widgets/controls",
      "model_module_version": "2.0.0",
      "model_name": "FloatProgressModel",
      "state": {
       "bar_style": "success",
       "layout": "IPY_MODEL_4c877cc9d8234f4c8716057387304aa1",
       "max": 14,
       "style": "IPY_MODEL_9ff68617cd5942998dfab84b5c9dc5ea",
       "value": 14
      }
     },
     "752c669211bb46bd981fa8a13befe17a": {
      "model_module": "@jupyter-widgets/base",
      "model_module_version": "2.0.0",
      "model_name": "LayoutModel",
      "state": {}
     },
     "76d680f5cccf4d9a96a85a69228a2806": {
      "model_module": "@jupyter-widgets/controls",
      "model_module_version": "2.0.0",
      "model_name": "HBoxModel",
      "state": {
       "children": [
        "IPY_MODEL_bdcddba44dfe4a8d8d9529d77d879d52",
        "IPY_MODEL_5ceb0de0e5f04bdf867127651801dd1c",
        "IPY_MODEL_ea68f834fa9b498c976810ee482fa0ec"
       ],
       "layout": "IPY_MODEL_a52faefa32f24173b35ec705f118cf6f"
      }
     },
     "7a00ea13896643ff8c75db2d772e9ccf": {
      "model_module": "@jupyter-widgets/controls",
      "model_module_version": "2.0.0",
      "model_name": "HTMLStyleModel",
      "state": {
       "description_width": "",
       "font_size": null,
       "text_color": null
      }
     },
     "7f5089d520714fe1a8f830a240accca0": {
      "model_module": "@jupyter-widgets/controls",
      "model_module_version": "2.0.0",
      "model_name": "HTMLModel",
      "state": {
       "layout": "IPY_MODEL_12da23cd8a6b41e69db5ab4a31bdf6a9",
       "style": "IPY_MODEL_5a4d09534b174e7e913d9f0ad032dc93",
       "value": " 18/18 [00:00&lt;00:00, 8533.68it/s]"
      }
     },
     "804cdefa00604e709c9b82f08a4d64c3": {
      "model_module": "@jupyter-widgets/controls",
      "model_module_version": "2.0.0",
      "model_name": "HTMLModel",
      "state": {
       "layout": "IPY_MODEL_2484f5eddc594ba9bdd0ccf55174a06a",
       "style": "IPY_MODEL_7a00ea13896643ff8c75db2d772e9ccf",
       "value": "removing duplicates: 100%"
      }
     },
     "82f58b414a5f4b809ae9f05cc3af5209": {
      "model_module": "@jupyter-widgets/controls",
      "model_module_version": "2.0.0",
      "model_name": "FloatProgressModel",
      "state": {
       "bar_style": "success",
       "layout": "IPY_MODEL_4fb284a84731401caa14a47d47f36206",
       "max": 18,
       "style": "IPY_MODEL_d7125437ff90454495ea50272152cc70",
       "value": 18
      }
     },
     "8356a79c52dd4b9fb65c75d97de974aa": {
      "model_module": "@jupyter-widgets/base",
      "model_module_version": "2.0.0",
      "model_name": "LayoutModel",
      "state": {}
     },
     "84b1787ba4a1463694213c85cedf796b": {
      "model_module": "@jupyter-widgets/controls",
      "model_module_version": "2.0.0",
      "model_name": "HTMLStyleModel",
      "state": {
       "description_width": "",
       "font_size": null,
       "text_color": null
      }
     },
     "893165903400487396558d7865f3e8f9": {
      "model_module": "@jupyter-widgets/base",
      "model_module_version": "2.0.0",
      "model_name": "LayoutModel",
      "state": {}
     },
     "8bffb606084d4a1fbc33bdb0518620f2": {
      "model_module": "@jupyter-widgets/controls",
      "model_module_version": "2.0.0",
      "model_name": "HTMLStyleModel",
      "state": {
       "description_width": "",
       "font_size": null,
       "text_color": null
      }
     },
     "8c7027d96e7d41f4a9942b37e0cef192": {
      "model_module": "@jupyter-widgets/controls",
      "model_module_version": "2.0.0",
      "model_name": "FloatProgressModel",
      "state": {
       "bar_style": "success",
       "layout": "IPY_MODEL_34103f039e7443a99f22a2445b483de1",
       "max": 18,
       "style": "IPY_MODEL_a1c51c7df5ce47e09672ead1c201f47d",
       "value": 18
      }
     },
     "94280b7071764aee809cae4afd0d63a8": {
      "model_module": "@jupyter-widgets/base",
      "model_module_version": "2.0.0",
      "model_name": "LayoutModel",
      "state": {}
     },
     "9b9479f77d984ce9aba8fc90ffb6bd1a": {
      "model_module": "@jupyter-widgets/controls",
      "model_module_version": "2.0.0",
      "model_name": "HBoxModel",
      "state": {
       "children": [
        "IPY_MODEL_65fedc86ff274b59b963bdbd89e89b1d",
        "IPY_MODEL_82f58b414a5f4b809ae9f05cc3af5209",
        "IPY_MODEL_d47bac908bfa4d7f836ae183c0fb0cb4"
       ],
       "layout": "IPY_MODEL_66774e050439486a9136f072dbf8c94d"
      }
     },
     "9d251cc65b1242d082c0c9e1625d9373": {
      "model_module": "@jupyter-widgets/controls",
      "model_module_version": "2.0.0",
      "model_name": "FloatProgressModel",
      "state": {
       "bar_style": "success",
       "layout": "IPY_MODEL_542f643c80654d52b8e7234d63739eb7",
       "max": 18,
       "style": "IPY_MODEL_f83e83c4f87447fdb9b6fc1ceeb9a9bf",
       "value": 18
      }
     },
     "9f9672787ec1420d90975a0e30662954": {
      "model_module": "@jupyter-widgets/controls",
      "model_module_version": "2.0.0",
      "model_name": "HTMLStyleModel",
      "state": {
       "description_width": "",
       "font_size": null,
       "text_color": null
      }
     },
     "9ff68617cd5942998dfab84b5c9dc5ea": {
      "model_module": "@jupyter-widgets/controls",
      "model_module_version": "2.0.0",
      "model_name": "ProgressStyleModel",
      "state": {
       "description_width": ""
      }
     },
     "a1c51c7df5ce47e09672ead1c201f47d": {
      "model_module": "@jupyter-widgets/controls",
      "model_module_version": "2.0.0",
      "model_name": "ProgressStyleModel",
      "state": {
       "description_width": ""
      }
     },
     "a52faefa32f24173b35ec705f118cf6f": {
      "model_module": "@jupyter-widgets/base",
      "model_module_version": "2.0.0",
      "model_name": "LayoutModel",
      "state": {}
     },
     "ae3d94b2e85c4e57a94c775c21aeeb37": {
      "model_module": "@jupyter-widgets/controls",
      "model_module_version": "2.0.0",
      "model_name": "HBoxModel",
      "state": {
       "children": [
        "IPY_MODEL_1afcce51786042ce97890de58c8c6ea5",
        "IPY_MODEL_f73b0b2f11154deebb6fd949d721197c",
        "IPY_MODEL_7f5089d520714fe1a8f830a240accca0"
       ],
       "layout": "IPY_MODEL_ca784e0ccdb2452c8599343512d4647e"
      }
     },
     "afcf58e313344340bd5365f437217c8d": {
      "model_module": "@jupyter-widgets/base",
      "model_module_version": "2.0.0",
      "model_name": "LayoutModel",
      "state": {}
     },
     "b0de1393e922499f8d81d4d2232e9178": {
      "model_module": "@jupyter-widgets/base",
      "model_module_version": "2.0.0",
      "model_name": "LayoutModel",
      "state": {}
     },
     "b1499725b3094867a3e22c914e74096a": {
      "model_module": "@jupyter-widgets/base",
      "model_module_version": "2.0.0",
      "model_name": "LayoutModel",
      "state": {}
     },
     "b4c581e7a5fa426bb0f982e92faa3b02": {
      "model_module": "@jupyter-widgets/controls",
      "model_module_version": "2.0.0",
      "model_name": "HTMLModel",
      "state": {
       "layout": "IPY_MODEL_1c867ac572144478b95369b5012afbfd",
       "style": "IPY_MODEL_d23fa0fc3d334d099827fbc66a10e6d7",
       "value": "removing duplicates: 100%"
      }
     },
     "b59fe012f6854ee08014011b3a24a007": {
      "model_module": "@jupyter-widgets/base",
      "model_module_version": "2.0.0",
      "model_name": "LayoutModel",
      "state": {}
     },
     "b68c33e499aa4a26b56fa3d6324ea1db": {
      "model_module": "@jupyter-widgets/base",
      "model_module_version": "2.0.0",
      "model_name": "LayoutModel",
      "state": {}
     },
     "b77709a6ca4848e6b1a2e0c19237cb54": {
      "model_module": "@jupyter-widgets/controls",
      "model_module_version": "2.0.0",
      "model_name": "HTMLStyleModel",
      "state": {
       "description_width": "",
       "font_size": null,
       "text_color": null
      }
     },
     "bcad4a87caf04f2aa4ea2972e14922ba": {
      "model_module": "@jupyter-widgets/controls",
      "model_module_version": "2.0.0",
      "model_name": "HTMLStyleModel",
      "state": {
       "description_width": "",
       "font_size": null,
       "text_color": null
      }
     },
     "bdcddba44dfe4a8d8d9529d77d879d52": {
      "model_module": "@jupyter-widgets/controls",
      "model_module_version": "2.0.0",
      "model_name": "HTMLModel",
      "state": {
       "layout": "IPY_MODEL_b68c33e499aa4a26b56fa3d6324ea1db",
       "style": "IPY_MODEL_fbb5dd7527c44486bbf455aa81eb5397",
       "value": "removing duplicates: 100%"
      }
     },
     "c059c90765fa435cb1967cd62e5ab174": {
      "model_module": "@jupyter-widgets/controls",
      "model_module_version": "2.0.0",
      "model_name": "HTMLStyleModel",
      "state": {
       "description_width": "",
       "font_size": null,
       "text_color": null
      }
     },
     "c4558442e040474e9cf645edbbb76831": {
      "model_module": "@jupyter-widgets/controls",
      "model_module_version": "2.0.0",
      "model_name": "FloatProgressModel",
      "state": {
       "bar_style": "success",
       "layout": "IPY_MODEL_94280b7071764aee809cae4afd0d63a8",
       "max": 14,
       "style": "IPY_MODEL_42b8530d82a244b88e4e22ef9c63f1ea",
       "value": 14
      }
     },
     "ca784e0ccdb2452c8599343512d4647e": {
      "model_module": "@jupyter-widgets/base",
      "model_module_version": "2.0.0",
      "model_name": "LayoutModel",
      "state": {}
     },
     "ca8e79baffda426590343e167702afe9": {
      "model_module": "@jupyter-widgets/controls",
      "model_module_version": "2.0.0",
      "model_name": "ProgressStyleModel",
      "state": {
       "description_width": ""
      }
     },
     "d23fa0fc3d334d099827fbc66a10e6d7": {
      "model_module": "@jupyter-widgets/controls",
      "model_module_version": "2.0.0",
      "model_name": "HTMLStyleModel",
      "state": {
       "description_width": "",
       "font_size": null,
       "text_color": null
      }
     },
     "d47bac908bfa4d7f836ae183c0fb0cb4": {
      "model_module": "@jupyter-widgets/controls",
      "model_module_version": "2.0.0",
      "model_name": "HTMLModel",
      "state": {
       "layout": "IPY_MODEL_6bcc99cd788e487387cec27ddcbc56d2",
       "style": "IPY_MODEL_8bffb606084d4a1fbc33bdb0518620f2",
       "value": " 18/18 [00:00&lt;00:00, 8947.32it/s]"
      }
     },
     "d7125437ff90454495ea50272152cc70": {
      "model_module": "@jupyter-widgets/controls",
      "model_module_version": "2.0.0",
      "model_name": "ProgressStyleModel",
      "state": {
       "description_width": ""
      }
     },
     "da27af72febd42b3b3d8f42704497c13": {
      "model_module": "@jupyter-widgets/controls",
      "model_module_version": "2.0.0",
      "model_name": "HTMLStyleModel",
      "state": {
       "description_width": "",
       "font_size": null,
       "text_color": null
      }
     },
     "dae5aac679f64a0ab79a7af43ec99f3e": {
      "model_module": "@jupyter-widgets/controls",
      "model_module_version": "2.0.0",
      "model_name": "HTMLModel",
      "state": {
       "layout": "IPY_MODEL_752c669211bb46bd981fa8a13befe17a",
       "style": "IPY_MODEL_f5ee0a6f4e0f48dba516e4d95de891ce",
       "value": "removing duplicates: 100%"
      }
     },
     "dd683d59629a48b4bc099da8072d6886": {
      "model_module": "@jupyter-widgets/base",
      "model_module_version": "2.0.0",
      "model_name": "LayoutModel",
      "state": {}
     },
     "ea68f834fa9b498c976810ee482fa0ec": {
      "model_module": "@jupyter-widgets/controls",
      "model_module_version": "2.0.0",
      "model_name": "HTMLModel",
      "state": {
       "layout": "IPY_MODEL_37528bc89068435dbf5ab52ff63dd52f",
       "style": "IPY_MODEL_21942900524b43ab80f910dd844a763c",
       "value": " 14/14 [00:00&lt;00:00, 6485.56it/s]"
      }
     },
     "ec1f2cc863bf4a5687fe5b2530f1c806": {
      "model_module": "@jupyter-widgets/base",
      "model_module_version": "2.0.0",
      "model_name": "LayoutModel",
      "state": {}
     },
     "f0a4e0c64a57445e8d1729278ff55399": {
      "model_module": "@jupyter-widgets/controls",
      "model_module_version": "2.0.0",
      "model_name": "HTMLStyleModel",
      "state": {
       "description_width": "",
       "font_size": null,
       "text_color": null
      }
     },
     "f1a33162f0494eecb8e703cee8183624": {
      "model_module": "@jupyter-widgets/controls",
      "model_module_version": "2.0.0",
      "model_name": "HTMLStyleModel",
      "state": {
       "description_width": "",
       "font_size": null,
       "text_color": null
      }
     },
     "f2b662849f9c429582ee0f10443a54bd": {
      "model_module": "@jupyter-widgets/controls",
      "model_module_version": "2.0.0",
      "model_name": "HBoxModel",
      "state": {
       "children": [
        "IPY_MODEL_804cdefa00604e709c9b82f08a4d64c3",
        "IPY_MODEL_3c7bd580e6fa478f897234c18dc7bd11",
        "IPY_MODEL_5ec71eea76b948169d9b774fcac94425"
       ],
       "layout": "IPY_MODEL_5b38a9a360bf44438fd6235fa94b4d3a"
      }
     },
     "f4c78717ddaf4662868d240fc9a82a58": {
      "model_module": "@jupyter-widgets/controls",
      "model_module_version": "2.0.0",
      "model_name": "HTMLModel",
      "state": {
       "layout": "IPY_MODEL_388f1402c9b24e1da5972f2185635586",
       "style": "IPY_MODEL_f1a33162f0494eecb8e703cee8183624",
       "value": "removing duplicates: 100%"
      }
     },
     "f5ee0a6f4e0f48dba516e4d95de891ce": {
      "model_module": "@jupyter-widgets/controls",
      "model_module_version": "2.0.0",
      "model_name": "HTMLStyleModel",
      "state": {
       "description_width": "",
       "font_size": null,
       "text_color": null
      }
     },
     "f73b0b2f11154deebb6fd949d721197c": {
      "model_module": "@jupyter-widgets/controls",
      "model_module_version": "2.0.0",
      "model_name": "FloatProgressModel",
      "state": {
       "bar_style": "success",
       "layout": "IPY_MODEL_1ec0218b32f3468a80c2398e0c29bafa",
       "max": 18,
       "style": "IPY_MODEL_ca8e79baffda426590343e167702afe9",
       "value": 18
      }
     },
     "f83e83c4f87447fdb9b6fc1ceeb9a9bf": {
      "model_module": "@jupyter-widgets/controls",
      "model_module_version": "2.0.0",
      "model_name": "ProgressStyleModel",
      "state": {
       "description_width": ""
      }
     },
     "f9ae67b7eecd45bb972d7980bfbc357a": {
      "model_module": "@jupyter-widgets/controls",
      "model_module_version": "2.0.0",
      "model_name": "HBoxModel",
      "state": {
       "children": [
        "IPY_MODEL_218c15dacb9741169a8d93931c771b30",
        "IPY_MODEL_c4558442e040474e9cf645edbbb76831",
        "IPY_MODEL_fb6631239f264feaa0a99dcb1be96247"
       ],
       "layout": "IPY_MODEL_37de43c242b145b7876c667970ac2c7e"
      }
     },
     "fa991cc287a2400db355e68c9b677872": {
      "model_module": "@jupyter-widgets/base",
      "model_module_version": "2.0.0",
      "model_name": "LayoutModel",
      "state": {}
     },
     "fb6631239f264feaa0a99dcb1be96247": {
      "model_module": "@jupyter-widgets/controls",
      "model_module_version": "2.0.0",
      "model_name": "HTMLModel",
      "state": {
       "layout": "IPY_MODEL_fa991cc287a2400db355e68c9b677872",
       "style": "IPY_MODEL_6d41edabc21a4a159fd5c43207dcbbb3",
       "value": " 14/14 [00:00&lt;00:00, 5962.66it/s]"
      }
     },
     "fbb5dd7527c44486bbf455aa81eb5397": {
      "model_module": "@jupyter-widgets/controls",
      "model_module_version": "2.0.0",
      "model_name": "HTMLStyleModel",
      "state": {
       "description_width": "",
       "font_size": null,
       "text_color": null
      }
     },
     "fd20ab22638b4df4993b4ec6b66d4f4d": {
      "model_module": "@jupyter-widgets/base",
      "model_module_version": "2.0.0",
      "model_name": "LayoutModel",
      "state": {}
     }
    },
    "version_major": 2,
    "version_minor": 0
   }
  }
 },
 "nbformat": 4,
 "nbformat_minor": 5
}
