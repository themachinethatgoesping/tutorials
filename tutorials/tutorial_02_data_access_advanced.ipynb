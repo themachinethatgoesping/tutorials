{
 "cells": [
  {
   "cell_type": "markdown",
   "metadata": {},
   "source": [
    "# Tutorial 2: Data access advanced concepts\n",
    "### `themachinethatgoesping` tutorial series\n",
    "\n",
    "`themachinethatgoesping` concepts covered:\n",
    "- Advanced use of find_files()\n",
    "- Advanced use of File Handler\n",
    "- Advanced access of Pings"
   ]
  },
  {
   "cell_type": "code",
   "execution_count": 1,
   "metadata": {
    "execution": {
     "iopub.execute_input": "2025-06-13T12:59:38.987346Z",
     "iopub.status.busy": "2025-06-13T12:59:38.987133Z",
     "iopub.status.idle": "2025-06-13T12:59:39.859449Z",
     "shell.execute_reply": "2025-06-13T12:59:39.859157Z",
     "shell.execute_reply.started": "2025-06-13T12:59:38.987332Z"
    }
   },
   "outputs": [],
   "source": [
    "%matplotlib widget\n",
    "\n",
    "import numpy as np\n",
    "import themachinethatgoesping as theping\n",
    "from matplotlib import pyplot as plt\n",
    "from tqdm.auto import tqdm"
   ]
  },
  {
   "cell_type": "markdown",
   "metadata": {},
   "source": [
    "### 1. Advanced use of find_files()"
   ]
  },
  {
   "cell_type": "code",
   "execution_count": 2,
   "metadata": {
    "execution": {
     "iopub.execute_input": "2025-06-13T12:59:39.859958Z",
     "iopub.status.busy": "2025-06-13T12:59:39.859777Z",
     "iopub.status.idle": "2025-06-13T12:59:39.868481Z",
     "shell.execute_reply": "2025-06-13T12:59:39.868222Z",
     "shell.execute_reply.started": "2025-06-13T12:59:39.859948Z"
    }
   },
   "outputs": [
    {
     "name": "stdout",
     "output_type": "stream",
     "text": [
      "Found 18 files\n",
      "18\n"
     ]
    }
   ],
   "source": [
    "# find_files() searches the input folder recursively (aka, including subfolders)\n",
    "folder = '../unittest_data'\n",
    "files = theping.echosounders.index_functions.find_files(folder, [\".all\",\"wcd\"])\n",
    "print(len(files))"
   ]
  },
  {
   "cell_type": "code",
   "execution_count": 3,
   "metadata": {
    "execution": {
     "iopub.execute_input": "2025-06-13T12:59:39.868933Z",
     "iopub.status.busy": "2025-06-13T12:59:39.868795Z",
     "iopub.status.idle": "2025-06-13T12:59:39.874090Z",
     "shell.execute_reply": "2025-06-13T12:59:39.873849Z",
     "shell.execute_reply.started": "2025-06-13T12:59:39.868923Z"
    }
   },
   "outputs": [
    {
     "name": "stdout",
     "output_type": "stream",
     "text": [
      "Found 6 files\n",
      "6\n"
     ]
    }
   ],
   "source": [
    "# find_files() can use a list of folders as input\n",
    "folders = []\n",
    "folders.append('../unittest_data/kongsberg/simon/')\n",
    "folders.append('../unittest_data/kongsberg/turbeams/')\n",
    "files = theping.echosounders.index_functions.find_files(folders, [\".all\",\"wcd\"])\n",
    "print(len(files))"
   ]
  },
  {
   "cell_type": "code",
   "execution_count": 4,
   "metadata": {
    "execution": {
     "iopub.execute_input": "2025-06-13T12:59:39.874505Z",
     "iopub.status.busy": "2025-06-13T12:59:39.874381Z",
     "iopub.status.idle": "2025-06-13T12:59:39.881487Z",
     "shell.execute_reply": "2025-06-13T12:59:39.881207Z",
     "shell.execute_reply.started": "2025-06-13T12:59:39.874496Z"
    }
   },
   "outputs": [],
   "source": [
    "# pairs of files (e.g. .all and .wcd) don't have to be in the same folders. \n",
    "# Remember they are only paired later, by a File Handler"
   ]
  },
  {
   "cell_type": "markdown",
   "metadata": {},
   "source": [
    "### 2. Advanced use of File Handler"
   ]
  },
  {
   "cell_type": "code",
   "execution_count": 5,
   "metadata": {
    "execution": {
     "iopub.execute_input": "2025-06-13T12:59:39.881938Z",
     "iopub.status.busy": "2025-06-13T12:59:39.881802Z",
     "iopub.status.idle": "2025-06-13T12:59:39.904628Z",
     "shell.execute_reply": "2025-06-13T12:59:39.904332Z",
     "shell.execute_reply.started": "2025-06-13T12:59:39.881928Z"
    }
   },
   "outputs": [
    {
     "name": "stdout",
     "output_type": "stream",
     "text": [
      "Found 18 files\n",
      "indexing files ⠐ 100% [00m:00s<00m:00s] [..0057642499202963.wcd (1/18)]                               \n",
      "indexing files ⠠ 100% [00m:00s<00m:00s] [..4075547798063212.all (18/18)]                                \n",
      "indexing files ⢀ 100% [00m:00s<00m:00s] [Found: 729 datagrams in 18 files (10MB)]                                         \n",
      "Initializing ping interface ⢀ 90% [00m:00s<00m:00s] [Done]                                              \n"
     ]
    },
    {
     "name": "stderr",
     "output_type": "stream",
     "text": [
      "WARNING: get_depth_sensor_offsets: Only DSH (Depth (pressure) sensor heave) == NI is supported yet, but DSH is IN\n",
      "WARNING: get_depth_sensor_offsets: Only DSH (Depth (pressure) sensor heave) == NI is supported yet, but DSH is IN\n"
     ]
    }
   ],
   "source": [
    "# Create a File Handler to access the raw data files\n",
    "# TO DO - modify to talk about caching\n",
    "folder = '../unittest_data'\n",
    "files = theping.echosounders.index_functions.find_files(folder, [\".all\",\"wcd\"])\n",
    "fileHandler = theping.echosounders.kongsbergall.KongsbergAllFileHandler(files)"
   ]
  },
  {
   "cell_type": "markdown",
   "metadata": {},
   "source": [
    "### 3. Advanced access of Pings"
   ]
  },
  {
   "cell_type": "code",
   "execution_count": 6,
   "metadata": {
    "execution": {
     "iopub.execute_input": "2025-06-13T12:59:39.905664Z",
     "iopub.status.busy": "2025-06-13T12:59:39.905516Z",
     "iopub.status.idle": "2025-06-13T12:59:39.907361Z",
     "shell.execute_reply": "2025-06-13T12:59:39.907103Z",
     "shell.execute_reply.started": "2025-06-13T12:59:39.905654Z"
    }
   },
   "outputs": [],
   "source": [
    "# pingcontainer are mostly for fast filtering of pings (eg on basis of sonar head, or location)"
   ]
  },
  {
   "cell_type": "code",
   "execution_count": 7,
   "metadata": {
    "execution": {
     "iopub.execute_input": "2025-06-13T12:59:39.907747Z",
     "iopub.status.busy": "2025-06-13T12:59:39.907645Z",
     "iopub.status.idle": "2025-06-13T12:59:39.917251Z",
     "shell.execute_reply": "2025-06-13T12:59:39.916950Z",
     "shell.execute_reply.started": "2025-06-13T12:59:39.907734Z"
    }
   },
   "outputs": [
    {
     "data": {
      "text/plain": [
       "themachinethatgoesping.echosounders_cppy.kongsbergall.filetypes.KongsbergAllPing"
      ]
     },
     "execution_count": 7,
     "metadata": {},
     "output_type": "execute_result"
    }
   ],
   "source": [
    "# Access an individual ping in a Ping Container by indexing\n",
    "pingContainer = fileHandler.get_pings()\n",
    "ping42 = pingContainer[42]\n",
    "type(ping42)"
   ]
  },
  {
   "cell_type": "code",
   "execution_count": 8,
   "metadata": {
    "execution": {
     "iopub.execute_input": "2025-06-13T12:59:39.917758Z",
     "iopub.status.busy": "2025-06-13T12:59:39.917611Z",
     "iopub.status.idle": "2025-06-13T12:59:39.927511Z",
     "shell.execute_reply": "2025-06-13T12:59:39.926863Z",
     "shell.execute_reply.started": "2025-06-13T12:59:39.917747Z"
    }
   },
   "outputs": [
    {
     "data": {
      "text/plain": [
       "themachinethatgoesping.echosounders_cppy.kongsbergall.filedatacontainers.KongsbergAllPingContainer"
      ]
     },
     "execution_count": 8,
     "metadata": {},
     "output_type": "execute_result"
    }
   ],
   "source": [
    "#  This approach only works for a single ping. If you index a Ping Container for multiple pings, you will get a (smaller) Ping Container object\n",
    "pings0To42 = pingContainer[0:42]\n",
    "type(pings0To42)"
   ]
  },
  {
   "cell_type": "code",
   "execution_count": 9,
   "metadata": {
    "execution": {
     "iopub.execute_input": "2025-06-13T12:59:39.928168Z",
     "iopub.status.busy": "2025-06-13T12:59:39.927988Z",
     "iopub.status.idle": "2025-06-13T12:59:39.936498Z",
     "shell.execute_reply": "2025-06-13T12:59:39.936243Z",
     "shell.execute_reply.started": "2025-06-13T12:59:39.928156Z"
    }
   },
   "outputs": [
    {
     "name": "stdout",
     "output_type": "stream",
     "text": [
      "pings0To42 is now a <class 'list'> where each element is a <class 'themachinethatgoesping.echosounders_cppy.kongsbergall.filetypes.KongsbergAllPing'>\n"
     ]
    }
   ],
   "source": [
    "# If you want a list of Ping objects, you need to loop over each element of the Ping Container\n",
    "pings0To42 = []\n",
    "for i in range(42):\n",
    "    pings0To42.append(pingContainer[i])\n",
    "print(f\"pings0To42 is now a {type(pings0To42)} where each element is a {type(pings0To42[0])}\")"
   ]
  },
  {
   "cell_type": "code",
   "execution_count": 10,
   "metadata": {
    "execution": {
     "iopub.execute_input": "2025-06-13T12:59:39.936939Z",
     "iopub.status.busy": "2025-06-13T12:59:39.936823Z",
     "iopub.status.idle": "2025-06-13T12:59:39.947561Z",
     "shell.execute_reply": "2025-06-13T12:59:39.947257Z",
     "shell.execute_reply.started": "2025-06-13T12:59:39.936930Z"
    }
   },
   "outputs": [
    {
     "name": "stdout",
     "output_type": "stream",
     "text": [
      "pingsWithWC is a <class 'list'> where each element is a <class 'themachinethatgoesping.echosounders_cppy.kongsbergall.filetypes.KongsbergAllPing'>\n"
     ]
    }
   ],
   "source": [
    "# But you can also directly create lists of pings selected from a Ping Container by filtering for a specific critiera, for example pings containing watercolumn data\n",
    "pingsWithWC = theping.pingprocessing.filter_pings.by_features(pingContainer,['watercolumn.amplitudes'])\n",
    "print(f\"pingsWithWC is a {type(pingsWithWC)} where each element is a {type(pingsWithWC[0])}\")"
   ]
  },
  {
   "cell_type": "markdown",
   "metadata": {},
   "source": [
    "### 4. Get datagrams from all files"
   ]
  },
  {
   "cell_type": "code",
   "execution_count": 11,
   "metadata": {
    "execution": {
     "iopub.execute_input": "2025-06-13T12:59:39.948007Z",
     "iopub.status.busy": "2025-06-13T12:59:39.947896Z",
     "iopub.status.idle": "2025-06-13T12:59:39.956499Z",
     "shell.execute_reply": "2025-06-13T12:59:39.956206Z",
     "shell.execute_reply.started": "2025-06-13T12:59:39.947997Z"
    }
   },
   "outputs": [
    {
     "name": "stdout",
     "output_type": "stream",
     "text": [
      "DatagramContainer\n",
      "#################\n",
      "-\n",
      "Time info (Datagrams) \n",
      "------------------------ \n",
      "- Start time: 21/08/2012 17:09:42.36 \n",
      "- End time:   26/07/2024 15:02:51.40 \n",
      "- Sorted:     no                     \n",
      "\n",
      " Contained datagrams \n",
      "---------------------       \n",
      "- Total:                                       729 \n",
      "- Datagrams [PUIDOutput]:                      3   [30]\n",
      "- Datagrams [PUStatusOutput]:                  9   [31]\n",
      "- Datagrams [ExtraParameters]:                 3   [33]\n",
      "- Datagrams [AttitudeDatagram]:                28  [41]\n",
      "- Datagrams [ClockDatagram]:                   17  [43]\n",
      "- Datagrams [SurfaceSoundSpeedDatagram]:       1   [47]\n",
      "- Datagrams [InstallationParametersStart]:     18  [49]\n",
      "- Datagrams [RawRangeAndAngle]:                80  [4e]\n",
      "- Datagrams [QualityFactorDatagram]:           6   [4f]\n",
      "- Datagrams [PositionDatagram]:                31  [50]\n",
      "- Datagrams [RuntimeParameters]:               38  [52]\n",
      "- Datagrams [SoundSpeedProfileDatagram]:       18  [55]\n",
      "- Datagrams [XYZDatagram]:                     93  [58]\n",
      "- Datagrams [SeabedImageData]:                 80  [59]\n",
      "- Datagrams [DepthOrHeightDatagram]:           11  [68]\n",
      "- Datagrams [WatercolumnDatagram]:             172 [6b]\n",
      "- Datagrams [NetworkAttitudeVelocityDatagram]: 121 [6e]\n"
     ]
    }
   ],
   "source": [
    "print(fileHandler.datagram_interface.datagrams())"
   ]
  },
  {
   "cell_type": "code",
   "execution_count": 12,
   "metadata": {
    "execution": {
     "iopub.execute_input": "2025-06-13T12:59:39.957022Z",
     "iopub.status.busy": "2025-06-13T12:59:39.956898Z",
     "iopub.status.idle": "2025-06-13T12:59:39.981636Z",
     "shell.execute_reply": "2025-06-13T12:59:39.981371Z",
     "shell.execute_reply.started": "2025-06-13T12:59:39.957012Z"
    }
   },
   "outputs": [
    {
     "data": {
      "application/vnd.jupyter.widget-view+json": {
       "model_id": "ac45a190e774404298137fce37fd50da",
       "version_major": 2,
       "version_minor": 0
      },
      "text/plain": [
       "  0%|          | 0/729 [00:00<?, ?it/s]"
      ]
     },
     "metadata": {},
     "output_type": "display_data"
    },
    {
     "data": {
      "application/vnd.jupyter.widget-view+json": {
       "model_id": "495edeabbd454a0d9876dd8a564dd9b6",
       "version_major": 2,
       "version_minor": 0
      },
      "text/plain": [
       "  0%|          | 0/38 [00:00<?, ?it/s]"
      ]
     },
     "metadata": {},
     "output_type": "display_data"
    }
   ],
   "source": [
    "# datagram_interface.datagrams() is an iterator so you can loop over all datagrams with:\n",
    "for d in tqdm(fileHandler.datagram_interface.datagrams()):\n",
    "    pass\n",
    "\n",
    "# or loop over specific datagram types with\n",
    "for d in tqdm(fileHandler.datagram_interface.datagrams(\"RuntimeParameters\")):\n",
    "    pass"
   ]
  },
  {
   "cell_type": "code",
   "execution_count": 13,
   "metadata": {
    "execution": {
     "iopub.execute_input": "2025-06-13T12:59:39.982181Z",
     "iopub.status.busy": "2025-06-13T12:59:39.981951Z",
     "iopub.status.idle": "2025-06-13T12:59:39.984324Z",
     "shell.execute_reply": "2025-06-13T12:59:39.984076Z",
     "shell.execute_reply.started": "2025-06-13T12:59:39.982171Z"
    }
   },
   "outputs": [
    {
     "name": "stdout",
     "output_type": "stream",
     "text": [
      "RuntimeParameters\n",
      "#################\n",
      "- bytes:               52       \n",
      "- stx:                 0x02     \n",
      "- datagram_identifier: 0x52     [RuntimeParameters]\n",
      "- model_number:        EM2040   [2040]\n",
      "- date:                20160413 [YYYYMMDD]\n",
      "- time_since_midnight: 67234243 [ms]\n",
      "\n",
      " date/time \n",
      "-----------  \n",
      "- timestamp: 1460.573e⁶   [s]\n",
      "- date:      13/04/2016   [MM/DD/YYYY]\n",
      "- time:      18:40:34.243 [HH:MM:SS]\n",
      "\n",
      " datagram content \n",
      "------------------             \n",
      "- ping_counter:                         5371       \n",
      "- system_serial_number:                 213        \n",
      "- operator_station_status:              0          \n",
      "- processing_unit_status:               0          \n",
      "- bsp_status:                           0          \n",
      "- sonar_head_or_transceiver_status:     0          \n",
      "- mode:                                 0b00000001 \n",
      "- filter_identifier:                    0b01101101 \n",
      "- minimum_depth:                        1          [m]\n",
      "- maximum_depth:                        50         [m]\n",
      "- absorption_coefficient:               7074       [0.01 db/km]\n",
      "- transmit_pulse_length:                600        [μs]\n",
      "- transmit_beamwidth:                   5          [0.1°]\n",
      "- transmit_power_relative_maximum:      0          [dB]\n",
      "- receive_bandwidth_degree:             10         [0.1°]\n",
      "- receive_bandwidth_50hz:               255        [50Hz]\n",
      "- mode2_or_receiver_fixed_gain_setting: 0b00001001 \n",
      "- tvg_law_crossover_angle:              10         [°]\n",
      "- source_of_sound_speed_at_transducer:  0b00000010 \n",
      "- maximum_port_swath_width:             300        [m]\n",
      "- beam_spacing:                         0b00000011 \n",
      "- maximum_port_coverage:                70         [°]\n",
      "- yaw_and_pitch_stabilization_mode:     0b00000100 \n",
      "- maximum_starboard_coverage:           70         [°]\n",
      "- maximum_starboard_swath_width:        300        [m]\n",
      "- transmit_along_tilt:                  0          [0.1°]\n",
      "- filter_identifier2:                   0b00000000 \n",
      "- etx:                                  0x03       \n",
      "- checksum:                             2590       \n",
      "\n",
      " processed \n",
      "-----------                               \n",
      "- absorption_coefficient_in_db_per_meter: 70.740e⁻³    [db/m]\n",
      "- transmit_pulse_length_in_seconds:       0.600e⁻³     [s]\n",
      "- transmit_beamwidth_in_degrees:          0.500        [°]\n",
      "- receive_bandwidth_in_degrees:           1.000        [°]\n",
      "- receive_bandwidth_in_hertz:             12.750e³     [Hz]\n",
      "- transmit_along_tilt_in_degrees:         0.000        [°]\n",
      "\n",
      " decoded: 'mode' [00000001] \n",
      "---------------------------- \n",
      "- mode_as_ping_mode:       300 kHz [opt(string)]\n",
      "- mode_as_tx_pulse_form:   CW      [opt(string)]\n",
      "- mode_as_dual_swath_mode: Off     [opt(string)]\n",
      "\n",
      " decoded: 'mode2' [00001001] \n",
      "----------------------------- \n",
      "- mode2_as_rx_or_sonar_head_use:          RX 1 (port) active [opt(string)]\n",
      "- mode2_as_pulselength:                   Long CW            [opt(string)]\n",
      "- mode2_as_receive_fixed_gain_setting_dB: -None-             [opt(dB)]\n",
      "\n",
      " decoded: 'filter_identifier' [01101101] \n",
      "----------------------------------------- \n",
      "- filter_identifier_as_spike_filter:        Weak   [string]\n",
      "- filter_identifier_as_slope_filter:        On     [string]\n",
      "- filter_identifier_as_range_gates_size:    Normal [opt(string)]\n",
      "- filter_identifier_as_aeration_filter:     On     [string]\n",
      "- filter_identifier_as_interference_filter: On     [string]\n",
      "\n",
      " decoded: 'filter_identifier2' [00000000] \n",
      "------------------------------------------ \n",
      "- filter_identifier2_as_penetration_filter: Weak               [string]\n",
      "- filter_identifier2_as_detect_mode:        Minimum depth      [string]\n",
      "- filter_identifier2_as_phase_ramp:         Long phase ramp    [opt(string)]\n",
      "- filter_identifier2_as_special_tvg:        Normal TVG         [string]\n",
      "- filter_identifier2_as_special_amp_detect: Special amp detect [string]\n",
      "\n",
      " decoded: 'source_of_sound_speed_at_transducer' [00000010] \n",
      "----------------------------------------------------------- \n",
      "- source_of_sound_speed_at_transducer_as_string: Interpolated from currently used sound speed profile [opt(string)]\n",
      "- extra_detections_enabled:                      false                                                [bool]\n",
      "- sonar_mode_enabled:                            false                                                [bool]\n",
      "- passive_mode_enabled:                          false                                                [bool]\n",
      "- 3d_scanning_enabled:                           false                                                [bool]\n",
      "\n",
      " decoded: 'beam_spacing' [00000011] \n",
      "------------------------------------ \n",
      "- beam_spacing_as_string: High density equidistant [opt(string)]\n",
      "\n",
      " decoded: 'yaw_and_pitch_stabilization_mode' [00000100] \n",
      "-------------------------------------------------------- \n",
      "- yaw_and_pitch_stabilization_mode_as_yaw_stabilization:   No yaw stabilization [string]\n",
      "- yaw_and_pitch_stabilization_mode_as_heading_filter:      -None-               [opt(string)]\n",
      "- yaw_and_pitch_stabilization_mode_as_pitch_stibilization: Off                  [string]\n"
     ]
    }
   ],
   "source": [
    "# index to access a specific datagram\n",
    "d  = fileHandler.datagram_interface.datagrams(\"RuntimeParameters\")[0]\n",
    "print(d)"
   ]
  },
  {
   "cell_type": "code",
   "execution_count": 14,
   "metadata": {
    "execution": {
     "iopub.execute_input": "2025-06-13T12:59:39.984875Z",
     "iopub.status.busy": "2025-06-13T12:59:39.984641Z",
     "iopub.status.idle": "2025-06-13T12:59:39.992802Z",
     "shell.execute_reply": "2025-06-13T12:59:39.992520Z",
     "shell.execute_reply.started": "2025-06-13T12:59:39.984864Z"
    }
   },
   "outputs": [
    {
     "name": "stdout",
     "output_type": "stream",
     "text": [
      "Model number: 2040\n",
      "Mode: 1\n",
      "System serial number: 213\n",
      "Transmit pulse length (raw): 600\n",
      "Transmit pulse length (in sec): 0.0005999999702908099\n"
     ]
    }
   ],
   "source": [
    "# and use \"get_\" methods to get data of interest from a datagram\n",
    "print(f\"Model number: {d.get_model_number()}\")\n",
    "print(f\"Mode: {d.get_mode()}\")\n",
    "print(f\"System serial number: {d.get_system_serial_number()}\")\n",
    "print(f\"Transmit pulse length (raw): {d.get_transmit_pulse_length()}\")\n",
    "print(f\"Transmit pulse length (in sec): {d.get_transmit_pulse_length_in_seconds()}\")"
   ]
  },
  {
   "cell_type": "code",
   "execution_count": 15,
   "metadata": {
    "execution": {
     "iopub.execute_input": "2025-06-13T12:59:39.993257Z",
     "iopub.status.busy": "2025-06-13T12:59:39.993121Z",
     "iopub.status.idle": "2025-06-13T12:59:40.001737Z",
     "shell.execute_reply": "2025-06-13T12:59:40.001478Z",
     "shell.execute_reply.started": "2025-06-13T12:59:39.993247Z"
    }
   },
   "outputs": [
    {
     "name": "stdout",
     "output_type": "stream",
     "text": [
      "Transmit pulse length (in sec) for this ping: 0.0005999999702908099\n"
     ]
    }
   ],
   "source": [
    "# Note you can also access runtime parameters applying to a given ping\n",
    "ping = fileHandler.get_pings()[0]\n",
    "rp = ping.file_data.get_runtime_parameters()\n",
    "print(f\"Transmit pulse length (in sec) for this ping: {d.get_transmit_pulse_length_in_seconds()}\")"
   ]
  },
  {
   "cell_type": "markdown",
   "metadata": {},
   "source": [
    "### 4. Access datagrams in individual files"
   ]
  },
  {
   "cell_type": "code",
   "execution_count": 16,
   "metadata": {
    "execution": {
     "iopub.execute_input": "2025-06-13T12:59:40.002187Z",
     "iopub.status.busy": "2025-06-13T12:59:40.002016Z",
     "iopub.status.idle": "2025-06-13T12:59:40.038982Z",
     "shell.execute_reply": "2025-06-13T12:59:40.038728Z",
     "shell.execute_reply.started": "2025-06-13T12:59:40.002178Z"
    }
   },
   "outputs": [
    {
     "name": "stdout",
     "output_type": "stream",
     "text": [
      "indexing file ⠐ 100% [00m:00s<00m:00s]           \n",
      "indexing file ⠠ 100% [00m:00s<00m:00s] [Found: 10 datagrams]                     \n",
      "Initializing ping interface ⠐ 0% [00m:00s<00m:00s] [Done]                                              \n",
      "indexing file ⠐ 83% [00m:00s<00m:00s] [Found: 10 datagrams]                     \n",
      "Initializing ping interface ⠐ 0% [00m:00s<00m:00s] [Done]                                              \n"
     ]
    }
   ],
   "source": [
    "# you can create filehandlers of individual files\n",
    "file = files[0]\n",
    "fileHandler = theping.echosounders.kongsbergall.KongsbergAllFileHandler(file)\n",
    "\n",
    "# you can reuse cache created for the list of files on an individual file\n",
    "cache = theping.echosounders.index_functions.get_index_paths(files)\n",
    "fileHandler = theping.echosounders.kongsbergall.KongsbergAllFileHandler(file, index_paths = cache)"
   ]
  },
  {
   "cell_type": "code",
   "execution_count": 17,
   "metadata": {
    "execution": {
     "iopub.execute_input": "2025-06-13T12:59:40.039461Z",
     "iopub.status.busy": "2025-06-13T12:59:40.039323Z",
     "iopub.status.idle": "2025-06-13T12:59:40.053237Z",
     "shell.execute_reply": "2025-06-13T12:59:40.052952Z",
     "shell.execute_reply.started": "2025-06-13T12:59:40.039450Z"
    }
   },
   "outputs": [
    {
     "name": "stdout",
     "output_type": "stream",
     "text": [
      "indexing files ⢀ 98% [00m:00s<00m:00s] [Found: 729 datagrams in 18 files (10MB)]                                         \n",
      "Initializing ping interface ⢀ 90% [00m:00s<00m:00s] [Done]                                              \n"
     ]
    },
    {
     "name": "stderr",
     "output_type": "stream",
     "text": [
      "WARNING: get_depth_sensor_offsets: Only DSH (Depth (pressure) sensor heave) == NI is supported yet, but DSH is IN\n",
      "WARNING: get_depth_sensor_offsets: Only DSH (Depth (pressure) sensor heave) == NI is supported yet, but DSH is IN\n"
     ]
    }
   ],
   "source": [
    "\n",
    "#if you have a big filehandler for many files, you can still access datagrams file by file\n",
    "fileHandler = theping.echosounders.kongsbergall.KongsbergAllFileHandler(files, index_paths = cache)\n",
    "\n",
    "#get first runtime parameters datagram of each file\n",
    "rps = {}\n",
    "for datainterface in fileHandler.datagramdata_interface.per_primary_file():\n",
    "    if len(datainterface.datagrams('RuntimeParameters')) > 0:\n",
    "        rp = datainterface.datagrams('RuntimeParameters')[0]\n",
    "        rps[datainterface.get_file_path()] = rp\n",
    "    else:\n",
    "        print('No runtime parameters in', datainterface.get_file_path())\n",
    "    "
   ]
  },
  {
   "cell_type": "code",
   "execution_count": 18,
   "metadata": {
    "execution": {
     "iopub.execute_input": "2025-06-13T12:59:40.053670Z",
     "iopub.status.busy": "2025-06-13T12:59:40.053560Z",
     "iopub.status.idle": "2025-06-13T12:59:40.055875Z",
     "shell.execute_reply": "2025-06-13T12:59:40.055613Z",
     "shell.execute_reply.started": "2025-06-13T12:59:40.053660Z"
    }
   },
   "outputs": [
    {
     "name": "stdout",
     "output_type": "stream",
     "text": [
      "../unittest_data/kongsberg/simon/-8780057642499202963.all sonarmode: False\n",
      "../unittest_data/kongsberg/a/y/-7609271985000766481.all sonarmode: False\n",
      "../unittest_data/kongsberg/a/f/ALL/4590722669055497039.all sonarmode: False\n",
      "../unittest_data/kongsberg/a/c/2720871266855321420.all sonarmode: False\n",
      "../unittest_data/kongsberg/e/5556426203143536656.all sonarmode: True\n",
      "../unittest_data/kongsberg/e/6340811117880500921.all sonarmode: True\n",
      "../unittest_data/kongsberg/g/4467916373654671126.all sonarmode: False\n",
      "../unittest_data/kongsberg/turbeams/2353008643552583898.all sonarmode: False\n",
      "../unittest_data/kongsberg/turbeams/-5459828243338449053.all sonarmode: False\n",
      "../unittest_data/kongsberg/he/8194075547798063212.all sonarmode: False\n"
     ]
    }
   ],
   "source": [
    "for k,v in rps.items():\n",
    "    print(k, 'sonarmode:',v.get_sonar_mode_enabled())"
   ]
  },
  {
   "cell_type": "code",
   "execution_count": 19,
   "metadata": {
    "execution": {
     "iopub.execute_input": "2025-06-13T12:59:40.056362Z",
     "iopub.status.busy": "2025-06-13T12:59:40.056172Z",
     "iopub.status.idle": "2025-06-13T12:59:40.065507Z",
     "shell.execute_reply": "2025-06-13T12:59:40.065142Z",
     "shell.execute_reply.started": "2025-06-13T12:59:40.056351Z"
    }
   },
   "outputs": [
    {
     "name": "stdout",
     "output_type": "stream",
     "text": [
      "../unittest_data/kongsberg/simon/-8780057642499202963.all sonarmode: EM2040 300 kHz\n",
      "../unittest_data/kongsberg/a/y/-7609271985000766481.all sonarmode: EM2040C 400 kHz\n",
      "../unittest_data/kongsberg/a/f/ALL/4590722669055497039.all sonarmode: EM710 Shallow\n",
      "../unittest_data/kongsberg/a/c/2720871266855321420.all sonarmode: EM2040 300 kHz\n",
      "../unittest_data/kongsberg/e/5556426203143536656.all sonarmode: EM2040 400 kHz\n",
      "../unittest_data/kongsberg/e/6340811117880500921.all sonarmode: EM2040 400 kHz\n",
      "../unittest_data/kongsberg/g/4467916373654671126.all sonarmode: EM710 Shallow\n",
      "../unittest_data/kongsberg/turbeams/2353008643552583898.all sonarmode: EM2040 300 kHz\n",
      "../unittest_data/kongsberg/turbeams/-5459828243338449053.all sonarmode: EM2040 400 kHz\n",
      "../unittest_data/kongsberg/he/8194075547798063212.all sonarmode: EM710 Shallow\n"
     ]
    }
   ],
   "source": [
    "for k,v in rps.items():\n",
    "    print(k, 'sonarmode:', v.get_model_number_as_string(),v.get_mode_as_ping_mode())"
   ]
  }
 ],
 "metadata": {
  "kernelspec": {
   "display_name": "Python 3 (ipykernel)",
   "language": "python",
   "name": "python3"
  },
  "language_info": {
   "codemirror_mode": {
    "name": "ipython",
    "version": 3
   },
   "file_extension": ".py",
   "mimetype": "text/x-python",
   "name": "python",
   "nbconvert_exporter": "python",
   "pygments_lexer": "ipython3",
   "version": "3.13.3"
  },
  "widgets": {
   "application/vnd.jupyter.widget-state+json": {
    "state": {
     "003ad5df28994808956999f712cc4e9b": {
      "model_module": "@jupyter-widgets/base",
      "model_module_version": "2.0.0",
      "model_name": "LayoutModel",
      "state": {}
     },
     "07a28bb4e56a42a783943654d626b4d9": {
      "model_module": "@jupyter-widgets/base",
      "model_module_version": "2.0.0",
      "model_name": "LayoutModel",
      "state": {}
     },
     "0d85bc5f01374bae98d8395404a24151": {
      "model_module": "@jupyter-widgets/controls",
      "model_module_version": "2.0.0",
      "model_name": "HTMLStyleModel",
      "state": {
       "description_width": "",
       "font_size": null,
       "text_color": null
      }
     },
     "0e19646875914bbeada7074f230ce781": {
      "model_module": "@jupyter-widgets/controls",
      "model_module_version": "2.0.0",
      "model_name": "HTMLModel",
      "state": {
       "layout": "IPY_MODEL_50e2935148a645c0bfb5364a04a47ea2",
       "style": "IPY_MODEL_3bb8e2c03f8046bbb49819236e09340a",
       "value": "removing duplicates: 100%"
      }
     },
     "0e2eb244f5f3446bb937dda2347ef562": {
      "model_module": "@jupyter-widgets/controls",
      "model_module_version": "2.0.0",
      "model_name": "FloatProgressModel",
      "state": {
       "bar_style": "success",
       "layout": "IPY_MODEL_003ad5df28994808956999f712cc4e9b",
       "max": 729,
       "style": "IPY_MODEL_ce2804fced8c4ba2a26006b4dfca2af6",
       "value": 729
      }
     },
     "133b5d48a7aa4c8392759e5116a4e444": {
      "model_module": "@jupyter-widgets/controls",
      "model_module_version": "2.0.0",
      "model_name": "HTMLStyleModel",
      "state": {
       "description_width": "",
       "font_size": null,
       "text_color": null
      }
     },
     "138fb639d5f54fc1a8fe1ed3d90cda82": {
      "model_module": "@jupyter-widgets/controls",
      "model_module_version": "2.0.0",
      "model_name": "ProgressStyleModel",
      "state": {
       "description_width": ""
      }
     },
     "17c773651f214247844e4a809a694080": {
      "model_module": "@jupyter-widgets/controls",
      "model_module_version": "2.0.0",
      "model_name": "HTMLModel",
      "state": {
       "layout": "IPY_MODEL_ad74431947dd41cca98edee4a1f55837",
       "style": "IPY_MODEL_82602e3ff92e4e53aeb2829a5bca729f",
       "value": "removing duplicates: 100%"
      }
     },
     "1e2e56f82032475582c4d74179185701": {
      "model_module": "@jupyter-widgets/controls",
      "model_module_version": "2.0.0",
      "model_name": "HTMLModel",
      "state": {
       "layout": "IPY_MODEL_2614ab4df1ac458894eaf876d32d5ff0",
       "style": "IPY_MODEL_81bd52f1c3144d95a4d808667d3127e9",
       "value": " 18/18 [00:00&lt;00:00, 8337.66it/s]"
      }
     },
     "2614ab4df1ac458894eaf876d32d5ff0": {
      "model_module": "@jupyter-widgets/base",
      "model_module_version": "2.0.0",
      "model_name": "LayoutModel",
      "state": {}
     },
     "2baea58e954242a582746069dd8b1c38": {
      "model_module": "@jupyter-widgets/base",
      "model_module_version": "2.0.0",
      "model_name": "LayoutModel",
      "state": {}
     },
     "3004f53548594b578be099f981ef2149": {
      "model_module": "@jupyter-widgets/base",
      "model_module_version": "2.0.0",
      "model_name": "LayoutModel",
      "state": {}
     },
     "33b9906e9fd344e4a76df78bf361ce86": {
      "model_module": "@jupyter-widgets/controls",
      "model_module_version": "2.0.0",
      "model_name": "HTMLModel",
      "state": {
       "layout": "IPY_MODEL_46e35f9915de48b786ef167f03ce8023",
       "style": "IPY_MODEL_3f10a3c66149423ea5871fb8e81a6c10",
       "value": "100%"
      }
     },
     "37a66733be6741168960dea79ad254da": {
      "model_module": "@jupyter-widgets/controls",
      "model_module_version": "2.0.0",
      "model_name": "FloatProgressModel",
      "state": {
       "bar_style": "success",
       "layout": "IPY_MODEL_80e57ea716404727ac83f61a27394ae0",
       "max": 18,
       "style": "IPY_MODEL_ed0b795bf98a491780d48317281779ba",
       "value": 18
      }
     },
     "3bb8e2c03f8046bbb49819236e09340a": {
      "model_module": "@jupyter-widgets/controls",
      "model_module_version": "2.0.0",
      "model_name": "HTMLStyleModel",
      "state": {
       "description_width": "",
       "font_size": null,
       "text_color": null
      }
     },
     "3ce54a81d2cc4c1f9bfe8cde2877fe41": {
      "model_module": "@jupyter-widgets/base",
      "model_module_version": "2.0.0",
      "model_name": "LayoutModel",
      "state": {}
     },
     "3e2e0fbe0cc14db1b23877a29891c76f": {
      "model_module": "@jupyter-widgets/controls",
      "model_module_version": "2.0.0",
      "model_name": "HTMLModel",
      "state": {
       "layout": "IPY_MODEL_6902ec8433e7427a93b8a176f65bab0b",
       "style": "IPY_MODEL_abb7aef21214416699b2375c18b7c53d",
       "value": "removing duplicates: 100%"
      }
     },
     "3f10a3c66149423ea5871fb8e81a6c10": {
      "model_module": "@jupyter-widgets/controls",
      "model_module_version": "2.0.0",
      "model_name": "HTMLStyleModel",
      "state": {
       "description_width": "",
       "font_size": null,
       "text_color": null
      }
     },
     "419c23968a5442f8b1587899a1e7f4be": {
      "model_module": "@jupyter-widgets/controls",
      "model_module_version": "2.0.0",
      "model_name": "HTMLStyleModel",
      "state": {
       "description_width": "",
       "font_size": null,
       "text_color": null
      }
     },
     "448ca4ac79fc48c6a613d615ba16d568": {
      "model_module": "@jupyter-widgets/base",
      "model_module_version": "2.0.0",
      "model_name": "LayoutModel",
      "state": {}
     },
     "46e35f9915de48b786ef167f03ce8023": {
      "model_module": "@jupyter-widgets/base",
      "model_module_version": "2.0.0",
      "model_name": "LayoutModel",
      "state": {}
     },
     "471f109c71c4439bb969845bb5f6083d": {
      "model_module": "@jupyter-widgets/controls",
      "model_module_version": "2.0.0",
      "model_name": "ProgressStyleModel",
      "state": {
       "description_width": ""
      }
     },
     "495edeabbd454a0d9876dd8a564dd9b6": {
      "model_module": "@jupyter-widgets/controls",
      "model_module_version": "2.0.0",
      "model_name": "HBoxModel",
      "state": {
       "children": [
        "IPY_MODEL_33b9906e9fd344e4a76df78bf361ce86",
        "IPY_MODEL_5ff6a162d77d461c808a8502ce575879",
        "IPY_MODEL_67b8659cb1224e45b653e1c464307ab3"
       ],
       "layout": "IPY_MODEL_670b2eac2dbc434c9b1ed8833d0c2d39"
      }
     },
     "5063d6e25ef645118cd2ede1e1a1a995": {
      "model_module": "@jupyter-widgets/controls",
      "model_module_version": "2.0.0",
      "model_name": "HBoxModel",
      "state": {
       "children": [
        "IPY_MODEL_3e2e0fbe0cc14db1b23877a29891c76f",
        "IPY_MODEL_635ba9c28dee49c7b9ee91967bccde84",
        "IPY_MODEL_1e2e56f82032475582c4d74179185701"
       ],
       "layout": "IPY_MODEL_7ad04a2a9d0940f8b8334c763cd4736f"
      }
     },
     "50e2935148a645c0bfb5364a04a47ea2": {
      "model_module": "@jupyter-widgets/base",
      "model_module_version": "2.0.0",
      "model_name": "LayoutModel",
      "state": {}
     },
     "53fe6c578f5942fa813e2e9b579ac76f": {
      "model_module": "@jupyter-widgets/controls",
      "model_module_version": "2.0.0",
      "model_name": "HTMLModel",
      "state": {
       "layout": "IPY_MODEL_d5651b0d08e74a2d878a63920eb6b344",
       "style": "IPY_MODEL_133b5d48a7aa4c8392759e5116a4e444",
       "value": " 18/18 [00:00&lt;00:00, 6941.66it/s]"
      }
     },
     "59df1a966a3c46819e7ecd258f2bec64": {
      "model_module": "@jupyter-widgets/controls",
      "model_module_version": "2.0.0",
      "model_name": "HBoxModel",
      "state": {
       "children": [
        "IPY_MODEL_17c773651f214247844e4a809a694080",
        "IPY_MODEL_8992216320ae4bf7ad20481b376ce26e",
        "IPY_MODEL_c7f08338fa4b4cee95cecd23d03a15b8"
       ],
       "layout": "IPY_MODEL_2baea58e954242a582746069dd8b1c38"
      }
     },
     "5ff6a162d77d461c808a8502ce575879": {
      "model_module": "@jupyter-widgets/controls",
      "model_module_version": "2.0.0",
      "model_name": "FloatProgressModel",
      "state": {
       "bar_style": "success",
       "layout": "IPY_MODEL_b7a49d5a3a2d4005b66df4bdf9b896cf",
       "max": 38,
       "style": "IPY_MODEL_f476b8aa632541d5bed5bd8ee07829ae",
       "value": 38
      }
     },
     "635ba9c28dee49c7b9ee91967bccde84": {
      "model_module": "@jupyter-widgets/controls",
      "model_module_version": "2.0.0",
      "model_name": "FloatProgressModel",
      "state": {
       "bar_style": "success",
       "layout": "IPY_MODEL_df481720025645aabe7129182fb94969",
       "max": 18,
       "style": "IPY_MODEL_138fb639d5f54fc1a8fe1ed3d90cda82",
       "value": 18
      }
     },
     "670b2eac2dbc434c9b1ed8833d0c2d39": {
      "model_module": "@jupyter-widgets/base",
      "model_module_version": "2.0.0",
      "model_name": "LayoutModel",
      "state": {}
     },
     "67b8659cb1224e45b653e1c464307ab3": {
      "model_module": "@jupyter-widgets/controls",
      "model_module_version": "2.0.0",
      "model_name": "HTMLModel",
      "state": {
       "layout": "IPY_MODEL_a759d5d2b094473a9a84e250638656c6",
       "style": "IPY_MODEL_795d601bdd6642b28ff6991938b6ee0a",
       "value": " 38/38 [00:00&lt;00:00, 10851.28it/s]"
      }
     },
     "6902ec8433e7427a93b8a176f65bab0b": {
      "model_module": "@jupyter-widgets/base",
      "model_module_version": "2.0.0",
      "model_name": "LayoutModel",
      "state": {}
     },
     "795d601bdd6642b28ff6991938b6ee0a": {
      "model_module": "@jupyter-widgets/controls",
      "model_module_version": "2.0.0",
      "model_name": "HTMLStyleModel",
      "state": {
       "description_width": "",
       "font_size": null,
       "text_color": null
      }
     },
     "7ad04a2a9d0940f8b8334c763cd4736f": {
      "model_module": "@jupyter-widgets/base",
      "model_module_version": "2.0.0",
      "model_name": "LayoutModel",
      "state": {}
     },
     "7b6f1aa6a04245e6ae7f28c0f56825a7": {
      "model_module": "@jupyter-widgets/controls",
      "model_module_version": "2.0.0",
      "model_name": "HTMLStyleModel",
      "state": {
       "description_width": "",
       "font_size": null,
       "text_color": null
      }
     },
     "80e57ea716404727ac83f61a27394ae0": {
      "model_module": "@jupyter-widgets/base",
      "model_module_version": "2.0.0",
      "model_name": "LayoutModel",
      "state": {}
     },
     "81bd52f1c3144d95a4d808667d3127e9": {
      "model_module": "@jupyter-widgets/controls",
      "model_module_version": "2.0.0",
      "model_name": "HTMLStyleModel",
      "state": {
       "description_width": "",
       "font_size": null,
       "text_color": null
      }
     },
     "82602e3ff92e4e53aeb2829a5bca729f": {
      "model_module": "@jupyter-widgets/controls",
      "model_module_version": "2.0.0",
      "model_name": "HTMLStyleModel",
      "state": {
       "description_width": "",
       "font_size": null,
       "text_color": null
      }
     },
     "890d4ab2f4fb4bac867db2c5e442a075": {
      "model_module": "@jupyter-widgets/controls",
      "model_module_version": "2.0.0",
      "model_name": "HBoxModel",
      "state": {
       "children": [
        "IPY_MODEL_0e19646875914bbeada7074f230ce781",
        "IPY_MODEL_37a66733be6741168960dea79ad254da",
        "IPY_MODEL_53fe6c578f5942fa813e2e9b579ac76f"
       ],
       "layout": "IPY_MODEL_f1dd911d98a44ffba563add1639c9422"
      }
     },
     "8992216320ae4bf7ad20481b376ce26e": {
      "model_module": "@jupyter-widgets/controls",
      "model_module_version": "2.0.0",
      "model_name": "FloatProgressModel",
      "state": {
       "bar_style": "success",
       "layout": "IPY_MODEL_3004f53548594b578be099f981ef2149",
       "max": 6,
       "style": "IPY_MODEL_471f109c71c4439bb969845bb5f6083d",
       "value": 6
      }
     },
     "a759d5d2b094473a9a84e250638656c6": {
      "model_module": "@jupyter-widgets/base",
      "model_module_version": "2.0.0",
      "model_name": "LayoutModel",
      "state": {}
     },
     "abb7aef21214416699b2375c18b7c53d": {
      "model_module": "@jupyter-widgets/controls",
      "model_module_version": "2.0.0",
      "model_name": "HTMLStyleModel",
      "state": {
       "description_width": "",
       "font_size": null,
       "text_color": null
      }
     },
     "ac45a190e774404298137fce37fd50da": {
      "model_module": "@jupyter-widgets/controls",
      "model_module_version": "2.0.0",
      "model_name": "HBoxModel",
      "state": {
       "children": [
        "IPY_MODEL_d5bc331d3b9c428685da77ee89b325a1",
        "IPY_MODEL_0e2eb244f5f3446bb937dda2347ef562",
        "IPY_MODEL_c34b3900b1804398a2b1ae1141135f82"
       ],
       "layout": "IPY_MODEL_448ca4ac79fc48c6a613d615ba16d568"
      }
     },
     "ad74431947dd41cca98edee4a1f55837": {
      "model_module": "@jupyter-widgets/base",
      "model_module_version": "2.0.0",
      "model_name": "LayoutModel",
      "state": {}
     },
     "b5856081412f49259d71bb47c50ab29c": {
      "model_module": "@jupyter-widgets/base",
      "model_module_version": "2.0.0",
      "model_name": "LayoutModel",
      "state": {}
     },
     "b7a49d5a3a2d4005b66df4bdf9b896cf": {
      "model_module": "@jupyter-widgets/base",
      "model_module_version": "2.0.0",
      "model_name": "LayoutModel",
      "state": {}
     },
     "c34b3900b1804398a2b1ae1141135f82": {
      "model_module": "@jupyter-widgets/controls",
      "model_module_version": "2.0.0",
      "model_name": "HTMLModel",
      "state": {
       "layout": "IPY_MODEL_b5856081412f49259d71bb47c50ab29c",
       "style": "IPY_MODEL_0d85bc5f01374bae98d8395404a24151",
       "value": " 729/729 [00:00&lt;00:00, 62200.41it/s]"
      }
     },
     "c7f08338fa4b4cee95cecd23d03a15b8": {
      "model_module": "@jupyter-widgets/controls",
      "model_module_version": "2.0.0",
      "model_name": "HTMLModel",
      "state": {
       "layout": "IPY_MODEL_3ce54a81d2cc4c1f9bfe8cde2877fe41",
       "style": "IPY_MODEL_7b6f1aa6a04245e6ae7f28c0f56825a7",
       "value": " 6/6 [00:00&lt;00:00, 3175.90it/s]"
      }
     },
     "ce2804fced8c4ba2a26006b4dfca2af6": {
      "model_module": "@jupyter-widgets/controls",
      "model_module_version": "2.0.0",
      "model_name": "ProgressStyleModel",
      "state": {
       "description_width": ""
      }
     },
     "d5651b0d08e74a2d878a63920eb6b344": {
      "model_module": "@jupyter-widgets/base",
      "model_module_version": "2.0.0",
      "model_name": "LayoutModel",
      "state": {}
     },
     "d5bc331d3b9c428685da77ee89b325a1": {
      "model_module": "@jupyter-widgets/controls",
      "model_module_version": "2.0.0",
      "model_name": "HTMLModel",
      "state": {
       "layout": "IPY_MODEL_07a28bb4e56a42a783943654d626b4d9",
       "style": "IPY_MODEL_419c23968a5442f8b1587899a1e7f4be",
       "value": "100%"
      }
     },
     "df481720025645aabe7129182fb94969": {
      "model_module": "@jupyter-widgets/base",
      "model_module_version": "2.0.0",
      "model_name": "LayoutModel",
      "state": {}
     },
     "ed0b795bf98a491780d48317281779ba": {
      "model_module": "@jupyter-widgets/controls",
      "model_module_version": "2.0.0",
      "model_name": "ProgressStyleModel",
      "state": {
       "description_width": ""
      }
     },
     "f1dd911d98a44ffba563add1639c9422": {
      "model_module": "@jupyter-widgets/base",
      "model_module_version": "2.0.0",
      "model_name": "LayoutModel",
      "state": {}
     },
     "f476b8aa632541d5bed5bd8ee07829ae": {
      "model_module": "@jupyter-widgets/controls",
      "model_module_version": "2.0.0",
      "model_name": "ProgressStyleModel",
      "state": {
       "description_width": ""
      }
     }
    },
    "version_major": 2,
    "version_minor": 0
   }
  }
 },
 "nbformat": 4,
 "nbformat_minor": 4
}
