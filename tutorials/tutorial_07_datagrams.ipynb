{
 "cells": [
  {
   "cell_type": "code",
   "execution_count": 1,
   "id": "08ff223e-100f-4605-b3a9-4a4351f2da13",
   "metadata": {
    "execution": {
     "iopub.execute_input": "2025-06-13T13:01:27.853704Z",
     "iopub.status.busy": "2025-06-13T13:01:27.853453Z",
     "iopub.status.idle": "2025-06-13T13:01:28.766550Z",
     "shell.execute_reply": "2025-06-13T13:01:28.766279Z",
     "shell.execute_reply.started": "2025-06-13T13:01:27.853685Z"
    }
   },
   "outputs": [
    {
     "name": "stdout",
     "output_type": "stream",
     "text": [
      "Found 18 files\n",
      "indexing files ⠐ 100% [00m:00s<00m:00s] [..0871266855321420.all (1/18)]                               \n",
      "indexing files ⠠ 100% [00m:00s<00m:00s] [..3008643552583898.wcd (18/18)]                                \n",
      "indexing files ⢀ 100% [00m:00s<00m:00s] [Found: 729 datagrams in 18 files (10MB)]                                         \n",
      "Initializing ping interface ⢀ 90% [00m:00s<00m:00s] [Done]                                              \n"
     ]
    },
    {
     "name": "stderr",
     "output_type": "stream",
     "text": [
      "WARNING: get_depth_sensor_offsets: Only DSH (Depth (pressure) sensor heave) == NI is supported yet, but DSH is IN\n",
      "WARNING: get_depth_sensor_offsets: Only DSH (Depth (pressure) sensor heave) == NI is supported yet, but DSH is IN\n"
     ]
    }
   ],
   "source": [
    "%matplotlib widget\n",
    "import os\n",
    "\n",
    "from matplotlib import pyplot as plt\n",
    "from themachinethatgoesping.echosounders import index_functions\n",
    "from themachinethatgoesping.echosounders import kongsbergall\n",
    "from tqdm.auto import tqdm\n",
    "\n",
    "folders = []\n",
    "folders.append(\"../unittest_data\")\n",
    "\n",
    "# list raw data files\n",
    "files = index_functions.find_files(folders, [\".all\",\"wcd\"])\n",
    "files.sort()\n",
    "\n",
    "# load files' data\n",
    "fh = kongsbergall.KongsbergAllFileHandler(files)\n"
   ]
  },
  {
   "cell_type": "code",
   "execution_count": 2,
   "id": "2c1755b9-bfc4-4ab6-9e60-70313cf1ad64",
   "metadata": {
    "execution": {
     "iopub.execute_input": "2025-06-13T13:01:28.767120Z",
     "iopub.status.busy": "2025-06-13T13:01:28.766892Z",
     "iopub.status.idle": "2025-06-13T13:01:28.769354Z",
     "shell.execute_reply": "2025-06-13T13:01:28.769122Z",
     "shell.execute_reply.started": "2025-06-13T13:01:28.767108Z"
    }
   },
   "outputs": [
    {
     "name": "stdout",
     "output_type": "stream",
     "text": [
      "['../unittest_data/kongsberg/a/y/-7609271985000766481.all', '../unittest_data/kongsberg/a/y/-7609271985000766481.wcd']\n",
      "../unittest_data/kongsberg/a/y/-7609271985000766481.all\n"
     ]
    }
   ],
   "source": [
    "#get file paths from pings\n",
    "ping = fh.get_pings()[10]\n",
    "\n",
    "#all files used for a ping (relevant if .all and .wcd are used)\n",
    "files = ping.file_data.get_file_paths()\n",
    "print(files)\n",
    "\n",
    "#primary file is always the .all (except if there is no .all file)\n",
    "file = ping.file_data.get_primary_file_path()\n",
    "print(file)\n",
    "\n",
    "\n"
   ]
  },
  {
   "cell_type": "code",
   "execution_count": 3,
   "id": "ef81c24d-89c9-4726-8731-20e56526fb61",
   "metadata": {
    "execution": {
     "iopub.execute_input": "2025-06-13T13:01:28.769796Z",
     "iopub.status.busy": "2025-06-13T13:01:28.769637Z",
     "iopub.status.idle": "2025-06-13T13:01:28.781442Z",
     "shell.execute_reply": "2025-06-13T13:01:28.781206Z",
     "shell.execute_reply.started": "2025-06-13T13:01:28.769786Z"
    }
   },
   "outputs": [
    {
     "name": "stdout",
     "output_type": "stream",
     "text": [
      "indexing file ⠐ 100% [00m:00s<00m:00s]           \n",
      "indexing file ⠠ 100% [00m:00s<00m:00s] [Found: 127 datagrams]                      \n",
      "Initializing ping interface ⠐ 0% [00m:00s<00m:00s] [Done]                                              \n"
     ]
    }
   ],
   "source": [
    "#open for a single file\n",
    "fh = kongsbergall.KongsbergAllFileHandler(file)"
   ]
  },
  {
   "cell_type": "code",
   "execution_count": 4,
   "id": "def3c9a9-6b63-4964-84ea-80e03f0b200f",
   "metadata": {
    "execution": {
     "iopub.execute_input": "2025-06-13T13:01:28.782104Z",
     "iopub.status.busy": "2025-06-13T13:01:28.781913Z",
     "iopub.status.idle": "2025-06-13T13:01:28.788256Z",
     "shell.execute_reply": "2025-06-13T13:01:28.788017Z",
     "shell.execute_reply.started": "2025-06-13T13:01:28.782093Z"
    }
   },
   "outputs": [
    {
     "name": "stdout",
     "output_type": "stream",
     "text": [
      "DatagramContainer\n",
      "#################\n",
      "-\n",
      "Time info (Datagrams) \n",
      "------------------------ \n",
      "- Start time: 13/02/2014 08:12:41.58 \n",
      "- End time:   13/02/2014 08:12:42.78 \n",
      "- Sorted:     no                     \n",
      "\n",
      " Contained datagrams \n",
      "---------------------       \n",
      "- Total:                                       127 \n",
      "- Datagrams [PUStatusOutput]:                  1   [31]\n",
      "- Datagrams [AttitudeDatagram]:                1   [41]\n",
      "- Datagrams [ClockDatagram]:                   1   [43]\n",
      "- Datagrams [InstallationParametersStart]:     1   [49]\n",
      "- Datagrams [RawRangeAndAngle]:                35  [4e]\n",
      "- Datagrams [PositionDatagram]:                1   [50]\n",
      "- Datagrams [RuntimeParameters]:               3   [52]\n",
      "- Datagrams [SoundSpeedProfileDatagram]:       1   [55]\n",
      "- Datagrams [XYZDatagram]:                     35  [58]\n",
      "- Datagrams [SeabedImageData]:                 35  [59]\n",
      "- Datagrams [DepthOrHeightDatagram]:           1   [68]\n",
      "- Datagrams [NetworkAttitudeVelocityDatagram]: 12  [6e]\n"
     ]
    }
   ],
   "source": [
    "#display all datagrams\n",
    "print(fh.datagram_interface.datagrams())"
   ]
  },
  {
   "cell_type": "code",
   "execution_count": 5,
   "id": "50d497f5-59b5-456a-9ee6-9c3150389546",
   "metadata": {
    "execution": {
     "iopub.execute_input": "2025-06-13T13:01:28.788602Z",
     "iopub.status.busy": "2025-06-13T13:01:28.788513Z",
     "iopub.status.idle": "2025-06-13T13:01:28.800984Z",
     "shell.execute_reply": "2025-06-13T13:01:28.800756Z",
     "shell.execute_reply.started": "2025-06-13T13:01:28.788593Z"
    }
   },
   "outputs": [
    {
     "data": {
      "application/vnd.jupyter.widget-view+json": {
       "model_id": "e7a85c1f007041cd9705c2c1138bf852",
       "version_major": 2,
       "version_minor": 0
      },
      "text/plain": [
       "  0%|          | 0/127 [00:00<?, ?it/s]"
      ]
     },
     "metadata": {},
     "output_type": "display_data"
    },
    {
     "name": "stdout",
     "output_type": "stream",
     "text": [
      "t_KongsbergAllDatagramIdentifier.InstallationParametersStart\n"
     ]
    }
   ],
   "source": [
    "#loop through all datagrams\n",
    "for d in tqdm(fh.datagram_interface.datagrams()):\n",
    "    print(d.get_datagram_identifier())\n",
    "    break"
   ]
  },
  {
   "cell_type": "code",
   "execution_count": 6,
   "id": "37d4a4ee-f894-4938-9c65-44e77abcb747",
   "metadata": {
    "execution": {
     "iopub.execute_input": "2025-06-13T13:01:28.801882Z",
     "iopub.status.busy": "2025-06-13T13:01:28.801682Z",
     "iopub.status.idle": "2025-06-13T13:01:28.811099Z",
     "shell.execute_reply": "2025-06-13T13:01:28.810863Z",
     "shell.execute_reply.started": "2025-06-13T13:01:28.801872Z"
    }
   },
   "outputs": [
    {
     "data": {
      "application/vnd.jupyter.widget-view+json": {
       "model_id": "d697804d0e2c434295a55436c229eaa8",
       "version_major": 2,
       "version_minor": 0
      },
      "text/plain": [
       "  0%|          | 0/35 [00:00<?, ?it/s]"
      ]
     },
     "metadata": {},
     "output_type": "display_data"
    },
    {
     "name": "stdout",
     "output_type": "stream",
     "text": [
      "t_KongsbergAllDatagramIdentifier.XYZDatagram\n"
     ]
    }
   ],
   "source": [
    "#loop through all XYZDatagrams\n",
    "\n",
    "for d in tqdm(fh.datagram_interface.datagrams(\"XYZDatagram\")):\n",
    "    print(d.get_datagram_identifier())\n",
    "    break"
   ]
  },
  {
   "cell_type": "code",
   "execution_count": 7,
   "id": "5fd89605-f09f-4c8b-89c8-7c24935460c1",
   "metadata": {
    "execution": {
     "iopub.execute_input": "2025-06-13T13:01:28.811466Z",
     "iopub.status.busy": "2025-06-13T13:01:28.811375Z",
     "iopub.status.idle": "2025-06-13T13:01:28.821393Z",
     "shell.execute_reply": "2025-06-13T13:01:28.821170Z",
     "shell.execute_reply.started": "2025-06-13T13:01:28.811458Z"
    }
   },
   "outputs": [
    {
     "name": "stdout",
     "output_type": "stream",
     "text": [
      "InstallationParameters\n",
      "######################\n",
      "- bytes:               875      \n",
      "- stx:                 0x02     \n",
      "- datagram_identifier: 0x49     [InstallationParametersStart]\n",
      "- model_number:        EM2040C  [2045]\n",
      "- date:                20140213 [YYYYMMDD]\n",
      "- time_since_midnight: 29561718 [ms]\n",
      "\n",
      " date/time \n",
      "-----------  \n",
      "- timestamp: 1392.279e⁶   [s]\n",
      "- date:      13/02/2014   [MM/DD/YYYY]\n",
      "- time:      08:12:41.718 [HH:MM:SS]\n",
      "\n",
      " datagram content \n",
      "------------------   \n",
      "- installation_parameters_counter: 108   \n",
      "- system_serial_number:            102   \n",
      "- secondary_system_serial_number:  0     \n",
      "- etx:                             0x03  \n",
      "- checksum:                        52328 \n",
      "\n",
      " substructures \n",
      "---------------                                                 \n",
      "- installation_parameters: WLZ=-0.600,SMH=102,S1X=0.000,S1Y=0.000,S1Z=0.000,S... \n",
      "\n",
      " processed (installation parameter fields) \n",
      "------------------------------------------- \n",
      "- AHE: 2                              [Active heave sensor]\n",
      "- AHS: 2                              [Active heading sensor]\n",
      "- APS: 0                              [Active position system number]\n",
      "- ARO: 2                              [Active roll/pitch sensor]\n",
      "- BSV: 1.1.9 121219                   [BSP software version]\n",
      "- CLO: 0                              [Clock offset in seconds]\n",
      "- CLS: 1                              [Clock source]\n",
      "- DDS: 3.5.5 120914                   [DDS software version]\n",
      "- DSD: 0                              [Depth (pressure) sensor time delay in millisec]\n",
      "- DSF: 1.000000                       [Depth (pressure) sensor scale factor]\n",
      "- DSH: NI                             [Depth (pressure) sensor heave]\n",
      "- DSO: 0.000000                       [Depth (pressure) sensor offset]\n",
      "- DSV: 3.1.6 130104                   [Datagram format version]\n",
      "- DSX: 0.000                          [Depth (pressure) sensor along location in m]\n",
      "- DSY: 0.000                          [Depth (pressure) sensor athwart location in m]\n",
      "- DSZ: 0.000                          [Depth (pressure) sensor vertical location in m]\n",
      "- GCG: 0.000                          [Gyrocompass heading offset in degrees]\n",
      "- GO1: 0.00                           [System (sonar head 1) gain offset]\n",
      "- MAS: 1.000                          [Roll scaling factor]\n",
      "- MRP: RP                             [Attitude sensor 1 roll reference plane]\n",
      "- MSD: 0                              [Attitude sensor 1 time delay in milliseconds]\n",
      "- MSG: 1.000                          [Attitude sensor 1 HEADING offset in degrees]\n",
      "- MSP: -0.500                         [Attitude sensor 1 pitch offset in degrees]\n",
      "- MSR: -0.170                         [Attitude sensor 1 roll offset in degrees]\n",
      "- MSX: 0.000                          [Attitude sensor 1 along location in m]\n",
      "- MSY: 0.000                          [Attitude sensor 1 athwart location in m]\n",
      "- MSZ: 0.000                          [Attitude sensor 1 vertical location in m]\n",
      "- NRP: RP                             [Attitude sensor 2 roll reference plane]\n",
      "- NSD: 0                              [Attitude sensor 2 time delay in milliseconds]\n",
      "- NSG: 0.000                          [Attitude sensor 2 HEADING offset in degrees]\n",
      "- NSP: 0.000                          [Attitude sensor 2 pitch offset in degrees]\n",
      "- NSR: 0.000                          [Attitude sensor 2 roll offset in degrees]\n",
      "- NSX: 0.000                          [Attitude sensor 2 along location in m]\n",
      "- NSY: 0.000                          [Attitude sensor 2 athwart location in m]\n",
      "- NSZ: 0.000                          [Attitude sensor 2 vertical location in m]\n",
      "- OSV: SIS 4.0.1                      [Operator station software version]\n",
      "- P1D: 0.000                          [Position system 1 time delay in seconds]\n",
      "- P1G: WGS84                          [Position system 1 geodetic datum]\n",
      "- P1M: 0                              [Position system 1 motion compensation]\n",
      "- P1Q: 1                              [Position system 1, quality check of position, 0=off, 1=on]\n",
      "- P1T: 0                              [Position system 1 time stamp used]\n",
      "- P1X: 0.000                          [Position system 1 along location in m]\n",
      "- P1Y: 0.000                          [Position system 1 athwart location in m]\n",
      "- P1Z: 0.000                          [Position system 1 vertical location in m]\n",
      "- P2D: 0.000                          [Position system 2 time delay in seconds]\n",
      "- P2G: WGS84                          [Position system 2 geodetic datum]\n",
      "- P2M: 0                              [Position system 2 motion compensation]\n",
      "- P2Q: 1                              [Position system 2, quality check of position, 0=off, 2=on]\n",
      "- P2T: 0                              [Position system 2 time stamp used]\n",
      "- P2X: 0.000                          [Position system 2 along location in m]\n",
      "- P2Y: 0.000                          [Position system 2 athwart location in m]\n",
      "- P2Z: 0.000                          [Position system 2 vertical location in m]\n",
      "- P3D: 0.000                          [Position system 3 time delay in seconds]\n",
      "- P3G: WGS84                          [Position system 3 geodetic datum]\n",
      "- P3M: 0                              [Position system 3 motion compensation]\n",
      "- P3Q: 1                              [Position system 3, quality check of position, 0=off, 1=on]\n",
      "- P3S: 1                              [Position system 3 on serial line or Ethernet]\n",
      "- P3T: 0                              [Position system 3 time stamp used]\n",
      "- P3X: 0.000                          [Position system 3 along location in m]\n",
      "- P3Y: 0.000                          [Position system 3 athwart location in m]\n",
      "- P3Z: 0.000                          [Position system 3 vertical location in m]\n",
      "- PPS: 1                              [1PPS clock synchronization]\n",
      "- PSV: 1.0.7 130307                   [Processing unit software version]\n",
      "- R1S: 102                            [RX no. 1, serial number]\n",
      "- RFN: 0108_20140213_081236_Yolla.all [Raw File Name]\n",
      "- RSV: 1.00 120928                    [Receiver (sonar head 2) software version]\n",
      "- S1H: 359.610                        [Transducer 1 heading in degrees]\n",
      "- S1P: 0.000                          [Transducer 1 pitch in degrees]\n",
      "- S1R: 0.000                          [Transducer 1 roll in degrees re horizontal]\n",
      "- S1S: 2                              [TX array size (0=0.5°, 1=1°, 2=2°)]\n",
      "- S1X: 0.000                          [Transducer 1 along location in m]\n",
      "- S1Y: 0.000                          [Transducer 1 athwart location in m]\n",
      "- S1Z: 0.000                          [Transducer 1 vertical location in m]\n",
      "- SID: 20140213_Kelp_pilot_survey     [Survey identifier]\n",
      "- SMH: 102                            [System main head serial number]\n",
      "- TSV: 1.00 120928                    [Transmitter (sonar head no1) software version]\n",
      "- TXS: 102                            [TX serial number]\n",
      "- VSE: 2                              [Attitude velocity sensor 1 Ethernet port]\n",
      "- VSI: 192.168.53.56                  [Ethernet 2 address]\n",
      "- VSM: 255.255.255.0                  [Ethernet 2 IP network mask]\n",
      "- VSN: 1                              [Active attitude velocity sensor]\n",
      "- VSU: 5602                           [Attitude velocity sensor 1 UDP port address (UDP5)]\n",
      "- VTE: 0                              [Attitude velocity sensor 2 Ethernet port]\n",
      "- VTU: 3000                           [Attitude velocity sensor 2 UDP port address (UDP6)]\n",
      "- WLZ: -0.600                         [Water line vertical location in m]\n"
     ]
    }
   ],
   "source": [
    "#get the first installationparametersstart datagrams\n",
    "d  = fh.datagram_interface.datagrams(\"InstallationParametersStart\")[0]\n",
    "print(d)"
   ]
  },
  {
   "cell_type": "code",
   "execution_count": 8,
   "id": "bacd4ddc-ee0a-4969-baeb-fdc7975385a6",
   "metadata": {
    "execution": {
     "iopub.execute_input": "2025-06-13T13:01:28.821771Z",
     "iopub.status.busy": "2025-06-13T13:01:28.821681Z",
     "iopub.status.idle": "2025-06-13T13:01:28.842848Z",
     "shell.execute_reply": "2025-06-13T13:01:28.842592Z",
     "shell.execute_reply.started": "2025-06-13T13:01:28.821762Z"
    }
   },
   "outputs": [
    {
     "name": "stdout",
     "output_type": "stream",
     "text": [
      "t_KongsbergAllActiveSensor.MotionSensor1\n"
     ]
    }
   ],
   "source": [
    "#get the data as string (as described in the file format)\n",
    "print(d.get_active_heave_sensor())"
   ]
  },
  {
   "cell_type": "code",
   "execution_count": 9,
   "id": "e3590057-8811-4411-8b49-84eeada253de",
   "metadata": {
    "execution": {
     "iopub.execute_input": "2025-06-13T13:01:28.843222Z",
     "iopub.status.busy": "2025-06-13T13:01:28.843125Z",
     "iopub.status.idle": "2025-06-13T13:01:28.861642Z",
     "shell.execute_reply": "2025-06-13T13:01:28.861352Z",
     "shell.execute_reply.started": "2025-06-13T13:01:28.843212Z"
    }
   },
   "outputs": [
    {
     "data": {
      "text/plain": [
       "2045"
      ]
     },
     "execution_count": 9,
     "metadata": {},
     "output_type": "execute_result"
    }
   ],
   "source": [
    "d.get_model_number()"
   ]
  },
  {
   "cell_type": "code",
   "execution_count": 10,
   "id": "6c7170d5-9817-478a-a49d-caed48e906df",
   "metadata": {
    "execution": {
     "iopub.execute_input": "2025-06-13T13:01:28.862036Z",
     "iopub.status.busy": "2025-06-13T13:01:28.861937Z",
     "iopub.status.idle": "2025-06-13T13:01:28.873263Z",
     "shell.execute_reply": "2025-06-13T13:01:28.873037Z",
     "shell.execute_reply.started": "2025-06-13T13:01:28.862027Z"
    }
   },
   "outputs": [
    {
     "data": {
      "application/vnd.jupyter.widget-view+json": {
       "model_id": "86f185a647a84fc89028f6d3a6c0a1cc",
       "version_major": 2,
       "version_minor": 0
      },
      "text/plain": [
       "  0%|          | 0/3 [00:00<?, ?it/s]"
      ]
     },
     "metadata": {},
     "output_type": "display_data"
    },
    {
     "name": "stdout",
     "output_type": "stream",
     "text": [
      "t_KongsbergAllDatagramIdentifier.RuntimeParameters\n",
      "RuntimeParameters\n",
      "#################\n",
      "- bytes:               52       \n",
      "- stx:                 0x02     \n",
      "- datagram_identifier: 0x52     [RuntimeParameters]\n",
      "- model_number:        EM2040C  [2045]\n",
      "- date:                20140213 [YYYYMMDD]\n",
      "- time_since_midnight: 29561718 [ms]\n",
      "\n",
      " date/time \n",
      "-----------  \n",
      "- timestamp: 1392.279e⁶   [s]\n",
      "- date:      13/02/2014   [MM/DD/YYYY]\n",
      "- time:      08:12:41.718 [HH:MM:SS]\n",
      "\n",
      " datagram content \n",
      "------------------             \n",
      "- ping_counter:                         9664       \n",
      "- system_serial_number:                 102        \n",
      "- operator_station_status:              0          \n",
      "- processing_unit_status:               0          \n",
      "- bsp_status:                           0          \n",
      "- sonar_head_or_transceiver_status:     0          \n",
      "- mode:                                 0b00010110 \n",
      "- filter_identifier:                    0b01001110 \n",
      "- minimum_depth:                        0          [m]\n",
      "- maximum_depth:                        20         [m]\n",
      "- absorption_coefficient:               9426       [0.01 db/km]\n",
      "- transmit_pulse_length:                100        [μs]\n",
      "- transmit_beamwidth:                   13         [0.1°]\n",
      "- transmit_power_relative_maximum:      -20        [dB]\n",
      "- receive_bandwidth_degree:             13         [0.1°]\n",
      "- receive_bandwidth_50hz:               255        [50Hz]\n",
      "- mode2_or_receiver_fixed_gain_setting: 0b00100001 \n",
      "- tvg_law_crossover_angle:              10         [°]\n",
      "- source_of_sound_speed_at_transducer:  0b00000000 \n",
      "- maximum_port_swath_width:             500        [m]\n",
      "- beam_spacing:                         0b00000011 \n",
      "- maximum_port_coverage:                60         [°]\n",
      "- yaw_and_pitch_stabilization_mode:     0b10000100 \n",
      "- maximum_starboard_coverage:           60         [°]\n",
      "- maximum_starboard_swath_width:        500        [m]\n",
      "- transmit_along_tilt:                  0          [0.1°]\n",
      "- filter_identifier2:                   0b00010000 \n",
      "- etx:                                  0x03       \n",
      "- checksum:                             3106       \n",
      "\n",
      " processed \n",
      "-----------                               \n",
      "- absorption_coefficient_in_db_per_meter: 94.260e⁻³    [db/m]\n",
      "- transmit_pulse_length_in_seconds:       0.100e⁻³     [s]\n",
      "- transmit_beamwidth_in_degrees:          1.300        [°]\n",
      "- receive_bandwidth_in_degrees:           1.300        [°]\n",
      "- receive_bandwidth_in_hertz:             12.750e³     [Hz]\n",
      "- transmit_along_tilt_in_degrees:         0.000        [°]\n",
      "\n",
      " decoded: 'mode' [00010110] \n",
      "---------------------------- \n",
      "- mode_as_ping_mode:       400 kHz [opt(string)]\n",
      "- mode_as_tx_pulse_form:   CW      [opt(string)]\n",
      "- mode_as_dual_swath_mode: Off     [opt(string)]\n",
      "\n",
      " decoded: 'mode2' [00100001] \n",
      "----------------------------- \n",
      "- mode2_as_rx_or_sonar_head_use:          SH 1 (port) active [opt(string)]\n",
      "- mode2_as_pulselength:                   Medium CW          [opt(string)]\n",
      "- mode2_as_receive_fixed_gain_setting_dB: -None-             [opt(dB)]\n",
      "\n",
      " decoded: 'filter_identifier' [01001110] \n",
      "----------------------------------------- \n",
      "- filter_identifier_as_spike_filter:        Medium [string]\n",
      "- filter_identifier_as_slope_filter:        On     [string]\n",
      "- filter_identifier_as_range_gates_size:    Normal [opt(string)]\n",
      "- filter_identifier_as_aeration_filter:     Off    [string]\n",
      "- filter_identifier_as_interference_filter: On     [string]\n",
      "\n",
      " decoded: 'filter_identifier2' [00010000] \n",
      "------------------------------------------ \n",
      "- filter_identifier2_as_penetration_filter: Medium             [string]\n",
      "- filter_identifier2_as_detect_mode:        Minimum depth      [string]\n",
      "- filter_identifier2_as_phase_ramp:         Short phase ramp   [opt(string)]\n",
      "- filter_identifier2_as_special_tvg:        Normal TVG         [string]\n",
      "- filter_identifier2_as_special_amp_detect: Special amp detect [string]\n",
      "\n",
      " decoded: 'source_of_sound_speed_at_transducer' [00000000] \n",
      "----------------------------------------------------------- \n",
      "- source_of_sound_speed_at_transducer_as_string: From real time sensor [opt(string)]\n",
      "- extra_detections_enabled:                      false                 [bool]\n",
      "- sonar_mode_enabled:                            false                 [bool]\n",
      "- passive_mode_enabled:                          false                 [bool]\n",
      "- 3d_scanning_enabled:                           false                 [bool]\n",
      "\n",
      " decoded: 'beam_spacing' [00000011] \n",
      "------------------------------------ \n",
      "- beam_spacing_as_string: High density equidistant [opt(string)]\n",
      "\n",
      " decoded: 'yaw_and_pitch_stabilization_mode' [10000100] \n",
      "-------------------------------------------------------- \n",
      "- yaw_and_pitch_stabilization_mode_as_yaw_stabilization:   No yaw stabilization [string]\n",
      "- yaw_and_pitch_stabilization_mode_as_heading_filter:      -None-               [opt(string)]\n",
      "- yaw_and_pitch_stabilization_mode_as_pitch_stibilization: On                   [string]\n"
     ]
    },
    {
     "data": {
      "text/plain": [
       "22"
      ]
     },
     "execution_count": 10,
     "metadata": {},
     "output_type": "execute_result"
    }
   ],
   "source": [
    "#get runtime parametser\n",
    "for d in tqdm(fh.datagram_interface.datagrams(\"RuntimeParameters\")):\n",
    "    print(d.get_datagram_identifier())\n",
    "    break\n",
    "print(d)\n",
    "d.get_mode()"
   ]
  },
  {
   "cell_type": "code",
   "execution_count": 11,
   "id": "1d31a939-b601-490f-8d2f-000c54eb92cc",
   "metadata": {
    "execution": {
     "iopub.execute_input": "2025-06-13T13:01:28.873639Z",
     "iopub.status.busy": "2025-06-13T13:01:28.873547Z",
     "iopub.status.idle": "2025-06-13T13:01:28.879678Z",
     "shell.execute_reply": "2025-06-13T13:01:28.879439Z",
     "shell.execute_reply.started": "2025-06-13T13:01:28.873631Z"
    }
   },
   "outputs": [
    {
     "name": "stdout",
     "output_type": "stream",
     "text": [
      "100\n",
      "9.999999747378752e-05\n"
     ]
    }
   ],
   "source": [
    "#raw\n",
    "print(d.get_transmit_pulse_length())\n",
    "\n",
    "#processed\n",
    "print(d.get_transmit_pulse_length_in_seconds())"
   ]
  },
  {
   "cell_type": "code",
   "execution_count": 12,
   "id": "8c71b508-e6a6-492b-9cd0-9b04eb339c38",
   "metadata": {
    "execution": {
     "iopub.execute_input": "2025-06-13T13:01:28.880095Z",
     "iopub.status.busy": "2025-06-13T13:01:28.879990Z",
     "iopub.status.idle": "2025-06-13T13:01:28.888467Z",
     "shell.execute_reply": "2025-06-13T13:01:28.888245Z",
     "shell.execute_reply.started": "2025-06-13T13:01:28.880085Z"
    }
   },
   "outputs": [
    {
     "name": "stdout",
     "output_type": "stream",
     "text": [
      "RuntimeParameters\n",
      "#################\n",
      "- bytes:               52       \n",
      "- stx:                 0x02     \n",
      "- datagram_identifier: 0x52     [RuntimeParameters]\n",
      "- model_number:        EM2040C  [2045]\n",
      "- date:                20140213 [YYYYMMDD]\n",
      "- time_since_midnight: 29561718 [ms]\n",
      "\n",
      " date/time \n",
      "-----------  \n",
      "- timestamp: 1392.279e⁶   [s]\n",
      "- date:      13/02/2014   [MM/DD/YYYY]\n",
      "- time:      08:12:41.718 [HH:MM:SS]\n",
      "\n",
      " datagram content \n",
      "------------------             \n",
      "- ping_counter:                         9664       \n",
      "- system_serial_number:                 102        \n",
      "- operator_station_status:              0          \n",
      "- processing_unit_status:               0          \n",
      "- bsp_status:                           0          \n",
      "- sonar_head_or_transceiver_status:     0          \n",
      "- mode:                                 0b00010110 \n",
      "- filter_identifier:                    0b01001110 \n",
      "- minimum_depth:                        0          [m]\n",
      "- maximum_depth:                        20         [m]\n",
      "- absorption_coefficient:               9426       [0.01 db/km]\n",
      "- transmit_pulse_length:                100        [μs]\n",
      "- transmit_beamwidth:                   13         [0.1°]\n",
      "- transmit_power_relative_maximum:      -20        [dB]\n",
      "- receive_bandwidth_degree:             13         [0.1°]\n",
      "- receive_bandwidth_50hz:               255        [50Hz]\n",
      "- mode2_or_receiver_fixed_gain_setting: 0b00100001 \n",
      "- tvg_law_crossover_angle:              10         [°]\n",
      "- source_of_sound_speed_at_transducer:  0b00000000 \n",
      "- maximum_port_swath_width:             500        [m]\n",
      "- beam_spacing:                         0b00000011 \n",
      "- maximum_port_coverage:                60         [°]\n",
      "- yaw_and_pitch_stabilization_mode:     0b10000100 \n",
      "- maximum_starboard_coverage:           60         [°]\n",
      "- maximum_starboard_swath_width:        500        [m]\n",
      "- transmit_along_tilt:                  0          [0.1°]\n",
      "- filter_identifier2:                   0b00010000 \n",
      "- etx:                                  0x03       \n",
      "- checksum:                             3106       \n",
      "\n",
      " processed \n",
      "-----------                               \n",
      "- absorption_coefficient_in_db_per_meter: 94.260e⁻³    [db/m]\n",
      "- transmit_pulse_length_in_seconds:       0.100e⁻³     [s]\n",
      "- transmit_beamwidth_in_degrees:          1.300        [°]\n",
      "- receive_bandwidth_in_degrees:           1.300        [°]\n",
      "- receive_bandwidth_in_hertz:             12.750e³     [Hz]\n",
      "- transmit_along_tilt_in_degrees:         0.000        [°]\n",
      "\n",
      " decoded: 'mode' [00010110] \n",
      "---------------------------- \n",
      "- mode_as_ping_mode:       400 kHz [opt(string)]\n",
      "- mode_as_tx_pulse_form:   CW      [opt(string)]\n",
      "- mode_as_dual_swath_mode: Off     [opt(string)]\n",
      "\n",
      " decoded: 'mode2' [00100001] \n",
      "----------------------------- \n",
      "- mode2_as_rx_or_sonar_head_use:          SH 1 (port) active [opt(string)]\n",
      "- mode2_as_pulselength:                   Medium CW          [opt(string)]\n",
      "- mode2_as_receive_fixed_gain_setting_dB: -None-             [opt(dB)]\n",
      "\n",
      " decoded: 'filter_identifier' [01001110] \n",
      "----------------------------------------- \n",
      "- filter_identifier_as_spike_filter:        Medium [string]\n",
      "- filter_identifier_as_slope_filter:        On     [string]\n",
      "- filter_identifier_as_range_gates_size:    Normal [opt(string)]\n",
      "- filter_identifier_as_aeration_filter:     Off    [string]\n",
      "- filter_identifier_as_interference_filter: On     [string]\n",
      "\n",
      " decoded: 'filter_identifier2' [00010000] \n",
      "------------------------------------------ \n",
      "- filter_identifier2_as_penetration_filter: Medium             [string]\n",
      "- filter_identifier2_as_detect_mode:        Minimum depth      [string]\n",
      "- filter_identifier2_as_phase_ramp:         Short phase ramp   [opt(string)]\n",
      "- filter_identifier2_as_special_tvg:        Normal TVG         [string]\n",
      "- filter_identifier2_as_special_amp_detect: Special amp detect [string]\n",
      "\n",
      " decoded: 'source_of_sound_speed_at_transducer' [00000000] \n",
      "----------------------------------------------------------- \n",
      "- source_of_sound_speed_at_transducer_as_string: From real time sensor [opt(string)]\n",
      "- extra_detections_enabled:                      false                 [bool]\n",
      "- sonar_mode_enabled:                            false                 [bool]\n",
      "- passive_mode_enabled:                          false                 [bool]\n",
      "- 3d_scanning_enabled:                           false                 [bool]\n",
      "\n",
      " decoded: 'beam_spacing' [00000011] \n",
      "------------------------------------ \n",
      "- beam_spacing_as_string: High density equidistant [opt(string)]\n",
      "\n",
      " decoded: 'yaw_and_pitch_stabilization_mode' [10000100] \n",
      "-------------------------------------------------------- \n",
      "- yaw_and_pitch_stabilization_mode_as_yaw_stabilization:   No yaw stabilization [string]\n",
      "- yaw_and_pitch_stabilization_mode_as_heading_filter:      -None-               [opt(string)]\n",
      "- yaw_and_pitch_stabilization_mode_as_pitch_stibilization: On                   [string]\n"
     ]
    }
   ],
   "source": [
    "ping = fh.get_pings()[0]\n",
    "\n",
    "rp = ping.file_data.get_runtime_parameters()\n",
    "print(rp)"
   ]
  },
  {
   "cell_type": "code",
   "execution_count": 13,
   "id": "06fd6a01-0f40-478b-9b28-06ea4f68c8d7",
   "metadata": {
    "execution": {
     "iopub.execute_input": "2025-06-13T13:01:28.888822Z",
     "iopub.status.busy": "2025-06-13T13:01:28.888732Z",
     "iopub.status.idle": "2025-06-13T13:01:28.897815Z",
     "shell.execute_reply": "2025-06-13T13:01:28.897591Z",
     "shell.execute_reply.started": "2025-06-13T13:01:28.888813Z"
    }
   },
   "outputs": [
    {
     "data": {
      "text/plain": [
       "'10110'"
      ]
     },
     "execution_count": 13,
     "metadata": {},
     "output_type": "execute_result"
    }
   ],
   "source": [
    "f'{rp.get_mode():b}'"
   ]
  },
  {
   "cell_type": "code",
   "execution_count": null,
   "id": "b96639fe-b55c-4b7d-8482-131a5ffe7747",
   "metadata": {},
   "outputs": [],
   "source": []
  }
 ],
 "metadata": {
  "kernelspec": {
   "display_name": "Python 3 (ipykernel)",
   "language": "python",
   "name": "python3"
  },
  "language_info": {
   "codemirror_mode": {
    "name": "ipython",
    "version": 3
   },
   "file_extension": ".py",
   "mimetype": "text/x-python",
   "name": "python",
   "nbconvert_exporter": "python",
   "pygments_lexer": "ipython3",
   "version": "3.13.3"
  },
  "widgets": {
   "application/vnd.jupyter.widget-state+json": {
    "state": {
     "05f66f6853ad4f9189b4ac672f13aaf6": {
      "model_module": "@jupyter-widgets/controls",
      "model_module_version": "2.0.0",
      "model_name": "HTMLStyleModel",
      "state": {
       "description_width": "",
       "font_size": null,
       "text_color": null
      }
     },
     "07d42080dc02493abeac57736ba1d050": {
      "model_module": "@jupyter-widgets/controls",
      "model_module_version": "2.0.0",
      "model_name": "HTMLStyleModel",
      "state": {
       "description_width": "",
       "font_size": null,
       "text_color": null
      }
     },
     "0a8ec9c5379542ce9dcdf0bb091209c0": {
      "model_module": "@jupyter-widgets/controls",
      "model_module_version": "2.0.0",
      "model_name": "HTMLStyleModel",
      "state": {
       "description_width": "",
       "font_size": null,
       "text_color": null
      }
     },
     "1acbaee1773e43e885f9f4e78267d151": {
      "model_module": "@jupyter-widgets/controls",
      "model_module_version": "2.0.0",
      "model_name": "HTMLModel",
      "state": {
       "layout": "IPY_MODEL_60d805a44ee24a4dbd2e326e1c95d709",
       "style": "IPY_MODEL_affde48b184e419fa1d3b8977a4a90d4",
       "value": " 0/3 [00:00&lt;?, ?it/s]"
      }
     },
     "1acd1fbc216c41339fa4d0e57ec46fa0": {
      "model_module": "@jupyter-widgets/base",
      "model_module_version": "2.0.0",
      "model_name": "LayoutModel",
      "state": {}
     },
     "1b0a052bfd81443b92ae32ffc74c0003": {
      "model_module": "@jupyter-widgets/controls",
      "model_module_version": "2.0.0",
      "model_name": "HBoxModel",
      "state": {
       "children": [
        "IPY_MODEL_fbd8f7050410417ea38f4a1dd6ad409e",
        "IPY_MODEL_6d2324fa663a4a3f859931d3b3745e97",
        "IPY_MODEL_75d370c6058f4803bb0eb88604171f78"
       ],
       "layout": "IPY_MODEL_5ca0a94b12c04aa68589f0bc129540e9"
      }
     },
     "1be541eec64a4a08878d5044585e9ae1": {
      "model_module": "@jupyter-widgets/controls",
      "model_module_version": "2.0.0",
      "model_name": "ProgressStyleModel",
      "state": {
       "description_width": ""
      }
     },
     "2c4c87bb73f442ed9b4bd23c9b605bf0": {
      "model_module": "@jupyter-widgets/controls",
      "model_module_version": "2.0.0",
      "model_name": "HTMLModel",
      "state": {
       "layout": "IPY_MODEL_85b05d6dc1aa42ecbe324717b851cd78",
       "style": "IPY_MODEL_6a35a28c9ffe4c38a596034e4b7bb0e5",
       "value": "  0%"
      }
     },
     "2f13bf87aeaf4fa79536d83386f5a1dd": {
      "model_module": "@jupyter-widgets/controls",
      "model_module_version": "2.0.0",
      "model_name": "ProgressStyleModel",
      "state": {
       "description_width": ""
      }
     },
     "321bcbdf32944c078f35c6cc56a65ea2": {
      "model_module": "@jupyter-widgets/controls",
      "model_module_version": "2.0.0",
      "model_name": "ProgressStyleModel",
      "state": {
       "description_width": ""
      }
     },
     "3582aaef897f4930a0edc56d832c4d70": {
      "model_module": "@jupyter-widgets/controls",
      "model_module_version": "2.0.0",
      "model_name": "HTMLStyleModel",
      "state": {
       "description_width": "",
       "font_size": null,
       "text_color": null
      }
     },
     "368bcc2cc5bf46be996ec9dabb707b92": {
      "model_module": "@jupyter-widgets/controls",
      "model_module_version": "2.0.0",
      "model_name": "HTMLStyleModel",
      "state": {
       "description_width": "",
       "font_size": null,
       "text_color": null
      }
     },
     "4733e3cf23e94e3ba1713417fb686cef": {
      "model_module": "@jupyter-widgets/controls",
      "model_module_version": "2.0.0",
      "model_name": "HTMLStyleModel",
      "state": {
       "description_width": "",
       "font_size": null,
       "text_color": null
      }
     },
     "4bc3779d2875489cacb1c3a32853a1bf": {
      "model_module": "@jupyter-widgets/base",
      "model_module_version": "2.0.0",
      "model_name": "LayoutModel",
      "state": {}
     },
     "511e2706586d4c8cacd6aa63f34737f5": {
      "model_module": "@jupyter-widgets/base",
      "model_module_version": "2.0.0",
      "model_name": "LayoutModel",
      "state": {}
     },
     "5a28369f279a49d185872389adb19e02": {
      "model_module": "@jupyter-widgets/base",
      "model_module_version": "2.0.0",
      "model_name": "LayoutModel",
      "state": {}
     },
     "5ca0a94b12c04aa68589f0bc129540e9": {
      "model_module": "@jupyter-widgets/base",
      "model_module_version": "2.0.0",
      "model_name": "LayoutModel",
      "state": {}
     },
     "60d805a44ee24a4dbd2e326e1c95d709": {
      "model_module": "@jupyter-widgets/base",
      "model_module_version": "2.0.0",
      "model_name": "LayoutModel",
      "state": {}
     },
     "64ce3882e0a04b53a09e72cb15067d70": {
      "model_module": "@jupyter-widgets/base",
      "model_module_version": "2.0.0",
      "model_name": "LayoutModel",
      "state": {}
     },
     "6884b88ed5854f5898a0a5f15b6b98b6": {
      "model_module": "@jupyter-widgets/controls",
      "model_module_version": "2.0.0",
      "model_name": "ProgressStyleModel",
      "state": {
       "description_width": ""
      }
     },
     "6a35a28c9ffe4c38a596034e4b7bb0e5": {
      "model_module": "@jupyter-widgets/controls",
      "model_module_version": "2.0.0",
      "model_name": "HTMLStyleModel",
      "state": {
       "description_width": "",
       "font_size": null,
       "text_color": null
      }
     },
     "6d2324fa663a4a3f859931d3b3745e97": {
      "model_module": "@jupyter-widgets/controls",
      "model_module_version": "2.0.0",
      "model_name": "FloatProgressModel",
      "state": {
       "bar_style": "success",
       "layout": "IPY_MODEL_9edd68a5cd16493c82b74bc02d70684b",
       "max": 18,
       "style": "IPY_MODEL_1be541eec64a4a08878d5044585e9ae1",
       "value": 18
      }
     },
     "75d370c6058f4803bb0eb88604171f78": {
      "model_module": "@jupyter-widgets/controls",
      "model_module_version": "2.0.0",
      "model_name": "HTMLModel",
      "state": {
       "layout": "IPY_MODEL_e5674d6d6f5847ff895d442867ac0e04",
       "style": "IPY_MODEL_3582aaef897f4930a0edc56d832c4d70",
       "value": " 18/18 [00:00&lt;00:00, 8010.34it/s]"
      }
     },
     "793a182a14124a8a986356a7661e19cb": {
      "model_module": "@jupyter-widgets/controls",
      "model_module_version": "2.0.0",
      "model_name": "HTMLModel",
      "state": {
       "layout": "IPY_MODEL_511e2706586d4c8cacd6aa63f34737f5",
       "style": "IPY_MODEL_368bcc2cc5bf46be996ec9dabb707b92",
       "value": "  0%"
      }
     },
     "7dd272e3fc1d4e4ea99c5ac4a5f43e72": {
      "model_module": "@jupyter-widgets/base",
      "model_module_version": "2.0.0",
      "model_name": "LayoutModel",
      "state": {}
     },
     "7f769ed5d1e24de785cc96ea7af05055": {
      "model_module": "@jupyter-widgets/controls",
      "model_module_version": "2.0.0",
      "model_name": "FloatProgressModel",
      "state": {
       "bar_style": "danger",
       "layout": "IPY_MODEL_1acd1fbc216c41339fa4d0e57ec46fa0",
       "max": 35,
       "style": "IPY_MODEL_321bcbdf32944c078f35c6cc56a65ea2"
      }
     },
     "85b05d6dc1aa42ecbe324717b851cd78": {
      "model_module": "@jupyter-widgets/base",
      "model_module_version": "2.0.0",
      "model_name": "LayoutModel",
      "state": {}
     },
     "86f185a647a84fc89028f6d3a6c0a1cc": {
      "model_module": "@jupyter-widgets/controls",
      "model_module_version": "2.0.0",
      "model_name": "HBoxModel",
      "state": {
       "children": [
        "IPY_MODEL_793a182a14124a8a986356a7661e19cb",
        "IPY_MODEL_d24555c02ecc490f912d2bd518d9ef00",
        "IPY_MODEL_1acbaee1773e43e885f9f4e78267d151"
       ],
       "layout": "IPY_MODEL_c903bdd79b4b4b3e8290dd7b9ac58e17"
      }
     },
     "9659f7cb32e6459c941cb9d863d10796": {
      "model_module": "@jupyter-widgets/base",
      "model_module_version": "2.0.0",
      "model_name": "LayoutModel",
      "state": {}
     },
     "9edd68a5cd16493c82b74bc02d70684b": {
      "model_module": "@jupyter-widgets/base",
      "model_module_version": "2.0.0",
      "model_name": "LayoutModel",
      "state": {}
     },
     "affde48b184e419fa1d3b8977a4a90d4": {
      "model_module": "@jupyter-widgets/controls",
      "model_module_version": "2.0.0",
      "model_name": "HTMLStyleModel",
      "state": {
       "description_width": "",
       "font_size": null,
       "text_color": null
      }
     },
     "b0dfc5ccb96e44a5a1111836276207fb": {
      "model_module": "@jupyter-widgets/controls",
      "model_module_version": "2.0.0",
      "model_name": "HTMLModel",
      "state": {
       "layout": "IPY_MODEL_cd8f6449c79d43589fd6eec39c6c24bf",
       "style": "IPY_MODEL_05f66f6853ad4f9189b4ac672f13aaf6",
       "value": "  0%"
      }
     },
     "c903bdd79b4b4b3e8290dd7b9ac58e17": {
      "model_module": "@jupyter-widgets/base",
      "model_module_version": "2.0.0",
      "model_name": "LayoutModel",
      "state": {}
     },
     "caa6ca2fc6e1495ba584b7f046abef73": {
      "model_module": "@jupyter-widgets/controls",
      "model_module_version": "2.0.0",
      "model_name": "HTMLModel",
      "state": {
       "layout": "IPY_MODEL_5a28369f279a49d185872389adb19e02",
       "style": "IPY_MODEL_07d42080dc02493abeac57736ba1d050",
       "value": " 0/35 [00:00&lt;?, ?it/s]"
      }
     },
     "cd8f6449c79d43589fd6eec39c6c24bf": {
      "model_module": "@jupyter-widgets/base",
      "model_module_version": "2.0.0",
      "model_name": "LayoutModel",
      "state": {}
     },
     "ce643b63ee7d4f87aaeb9ec9f55b768d": {
      "model_module": "@jupyter-widgets/controls",
      "model_module_version": "2.0.0",
      "model_name": "HTMLModel",
      "state": {
       "layout": "IPY_MODEL_e9a12e7a02ad4148abe712fb00c48084",
       "style": "IPY_MODEL_0a8ec9c5379542ce9dcdf0bb091209c0",
       "value": " 0/127 [00:00&lt;?, ?it/s]"
      }
     },
     "d24555c02ecc490f912d2bd518d9ef00": {
      "model_module": "@jupyter-widgets/controls",
      "model_module_version": "2.0.0",
      "model_name": "FloatProgressModel",
      "state": {
       "bar_style": "danger",
       "layout": "IPY_MODEL_9659f7cb32e6459c941cb9d863d10796",
       "max": 3,
       "style": "IPY_MODEL_6884b88ed5854f5898a0a5f15b6b98b6"
      }
     },
     "d578e2a978d5455ea74ef76ed2c3dc42": {
      "model_module": "@jupyter-widgets/controls",
      "model_module_version": "2.0.0",
      "model_name": "FloatProgressModel",
      "state": {
       "bar_style": "danger",
       "layout": "IPY_MODEL_e4d72944dd5f41ebb4930d9ec3cc4acb",
       "max": 127,
       "style": "IPY_MODEL_2f13bf87aeaf4fa79536d83386f5a1dd"
      }
     },
     "d697804d0e2c434295a55436c229eaa8": {
      "model_module": "@jupyter-widgets/controls",
      "model_module_version": "2.0.0",
      "model_name": "HBoxModel",
      "state": {
       "children": [
        "IPY_MODEL_b0dfc5ccb96e44a5a1111836276207fb",
        "IPY_MODEL_7f769ed5d1e24de785cc96ea7af05055",
        "IPY_MODEL_caa6ca2fc6e1495ba584b7f046abef73"
       ],
       "layout": "IPY_MODEL_4bc3779d2875489cacb1c3a32853a1bf"
      }
     },
     "e4d72944dd5f41ebb4930d9ec3cc4acb": {
      "model_module": "@jupyter-widgets/base",
      "model_module_version": "2.0.0",
      "model_name": "LayoutModel",
      "state": {}
     },
     "e5674d6d6f5847ff895d442867ac0e04": {
      "model_module": "@jupyter-widgets/base",
      "model_module_version": "2.0.0",
      "model_name": "LayoutModel",
      "state": {}
     },
     "e7a85c1f007041cd9705c2c1138bf852": {
      "model_module": "@jupyter-widgets/controls",
      "model_module_version": "2.0.0",
      "model_name": "HBoxModel",
      "state": {
       "children": [
        "IPY_MODEL_2c4c87bb73f442ed9b4bd23c9b605bf0",
        "IPY_MODEL_d578e2a978d5455ea74ef76ed2c3dc42",
        "IPY_MODEL_ce643b63ee7d4f87aaeb9ec9f55b768d"
       ],
       "layout": "IPY_MODEL_7dd272e3fc1d4e4ea99c5ac4a5f43e72"
      }
     },
     "e9a12e7a02ad4148abe712fb00c48084": {
      "model_module": "@jupyter-widgets/base",
      "model_module_version": "2.0.0",
      "model_name": "LayoutModel",
      "state": {}
     },
     "fbd8f7050410417ea38f4a1dd6ad409e": {
      "model_module": "@jupyter-widgets/controls",
      "model_module_version": "2.0.0",
      "model_name": "HTMLModel",
      "state": {
       "layout": "IPY_MODEL_64ce3882e0a04b53a09e72cb15067d70",
       "style": "IPY_MODEL_4733e3cf23e94e3ba1713417fb686cef",
       "value": "removing duplicates: 100%"
      }
     }
    },
    "version_major": 2,
    "version_minor": 0
   }
  }
 },
 "nbformat": 4,
 "nbformat_minor": 5
}
