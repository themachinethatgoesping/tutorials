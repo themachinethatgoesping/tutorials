{
 "cells": [
  {
   "cell_type": "markdown",
   "metadata": {},
   "source": [
    "# Tutorial 3: WCI Viewer widget\n",
    "### `themachinethatgoesping` tutorial series\n",
    "\n",
    "`themachinethatgoesping` concepts covered:\n",
    "- Start WCI viewer"
   ]
  },
  {
   "cell_type": "code",
   "execution_count": 1,
   "metadata": {
    "execution": {
     "iopub.execute_input": "2025-06-13T12:59:58.685837Z",
     "iopub.status.busy": "2025-06-13T12:59:58.685681Z",
     "iopub.status.idle": "2025-06-13T12:59:59.626475Z",
     "shell.execute_reply": "2025-06-13T12:59:59.626087Z",
     "shell.execute_reply.started": "2025-06-13T12:59:58.685825Z"
    }
   },
   "outputs": [],
   "source": [
    "%matplotlib widget\n",
    "\n",
    "import numpy as np\n",
    "import themachinethatgoesping as theping\n",
    "from matplotlib import pyplot as plt\n",
    "from tqdm.auto import tqdm"
   ]
  },
  {
   "cell_type": "code",
   "execution_count": 2,
   "metadata": {
    "execution": {
     "iopub.execute_input": "2025-06-13T12:59:59.627308Z",
     "iopub.status.busy": "2025-06-13T12:59:59.626877Z",
     "iopub.status.idle": "2025-06-13T12:59:59.649359Z",
     "shell.execute_reply": "2025-06-13T12:59:59.649077Z",
     "shell.execute_reply.started": "2025-06-13T12:59:59.627296Z"
    }
   },
   "outputs": [
    {
     "name": "stdout",
     "output_type": "stream",
     "text": [
      "Found 18 files\n",
      "indexing files ⠐ 100% [00m:00s<00m:00s] [..0871266855321420.all (1/18)]                               \n",
      "indexing files ⠠ 100% [00m:00s<00m:00s] [..3008643552583898.wcd (18/18)]                                \n",
      "indexing files ⢀ 100% [00m:00s<00m:00s] [Found: 729 datagrams in 18 files (10MB)]                                         \n",
      "Initializing ping interface ⢀ 90% [00m:00s<00m:00s] [Done]                                              \n"
     ]
    },
    {
     "name": "stderr",
     "output_type": "stream",
     "text": [
      "WARNING: get_depth_sensor_offsets: Only DSH (Depth (pressure) sensor heave) == NI is supported yet, but DSH is IN\n",
      "WARNING: get_depth_sensor_offsets: Only DSH (Depth (pressure) sensor heave) == NI is supported yet, but DSH is IN\n"
     ]
    }
   ],
   "source": [
    "# data folder\n",
    "folder = '../unittest_data'\n",
    "\n",
    "# find all Kongsberg files in the list of folders\n",
    "files = theping.echosounders.index_functions.find_files(folder,['.all','.wcd'])\n",
    "files.sort()\n",
    "\n",
    "# create the file handler\n",
    "fileHandler = theping.echosounders.kongsbergall.KongsbergAllFileHandler(files)\n",
    "\n",
    "# get pings that contain WCD\n",
    "pings = theping.pingprocessing.filter_pings.by_features(fileHandler.get_pings(),['watercolumn.amplitudes'])"
   ]
  },
  {
   "cell_type": "markdown",
   "metadata": {},
   "source": [
    "### Start WCI viewer\n",
    "\n",
    "Built-in widget to view and explore water-column data"
   ]
  },
  {
   "cell_type": "code",
   "execution_count": 3,
   "metadata": {
    "execution": {
     "iopub.execute_input": "2025-06-13T12:59:59.649838Z",
     "iopub.status.busy": "2025-06-13T12:59:59.649695Z",
     "iopub.status.idle": "2025-06-13T13:00:00.010807Z",
     "shell.execute_reply": "2025-06-13T13:00:00.010452Z",
     "shell.execute_reply.started": "2025-06-13T12:59:59.649828Z"
    }
   },
   "outputs": [
    {
     "data": {
      "application/vnd.jupyter.widget-view+json": {
       "model_id": "4775f3a1e0554a49b96c97108d750572",
       "version_major": 2,
       "version_minor": 0
      },
      "text/plain": [
       "VBox(children=(Canvas(toolbar=Toolbar(toolitems=[('Home', 'Reset original view', 'home', 'home'), ('Back', 'Ba…"
      ]
     },
     "metadata": {},
     "output_type": "display_data"
    }
   ],
   "source": [
    "# check data with the WCI Viewer\n",
    "viewer = theping.pingprocessing.widgets.WCIViewer(pings)\n",
    "viewer.w_index.value = 60 # select ping nr 60 at start"
   ]
  },
  {
   "cell_type": "markdown",
   "metadata": {},
   "source": [
    "Basic usage:\n",
    "* Switch display between beam-vs-sample view and wedge view with the `wci_render` dropdown menu\n",
    "* Swith xy aspect with the `aspect` dropdown menu. Choose between `auto` (stretch) or `equal` (equal x and y dimensions)\n",
    "* Change ping number with the `ping nr` slider\n",
    "* Click the `fix x/y` button to fix the x/y axis limits to the current view. Click on `unfix x/y` to revert to automatic axis limits\n",
    "* Change the variable displayed with the `wci value` dropdown menu"
   ]
  },
  {
   "cell_type": "markdown",
   "metadata": {},
   "source": [
    "---------------------\n",
    "### Dual head support\n",
    "\n",
    "If you have dual head systems you can group the ping data before displaying them.\n",
    "The viewer will display the date without overlap."
   ]
  },
  {
   "cell_type": "code",
   "execution_count": 4,
   "metadata": {
    "execution": {
     "iopub.execute_input": "2025-06-13T13:00:00.011345Z",
     "iopub.status.busy": "2025-06-13T13:00:00.011202Z",
     "iopub.status.idle": "2025-06-13T13:00:00.292909Z",
     "shell.execute_reply": "2025-06-13T13:00:00.292610Z",
     "shell.execute_reply.started": "2025-06-13T13:00:00.011335Z"
    }
   },
   "outputs": [
    {
     "name": "stdout",
     "output_type": "stream",
     "text": [
      "<class 'list'>\n"
     ]
    },
    {
     "data": {
      "application/vnd.jupyter.widget-view+json": {
       "model_id": "3ff39a412d044b33bd0d061ecb62b057",
       "version_major": 2,
       "version_minor": 0
      },
      "text/plain": [
       "VBox(children=(Canvas(toolbar=Toolbar(toolitems=[('Home', 'Reset original view', 'home', 'home'), ('Back', 'Ba…"
      ]
     },
     "metadata": {},
     "output_type": "display_data"
    }
   ],
   "source": [
    "# Note if you have dual head systems you can group head data\n",
    "grouped_pings = theping.pingprocessing.group_pings.dual_head(pings)\n",
    "print(type(grouped_pings))\n",
    "viewer = theping.pingprocessing.widgets.WCIViewer(grouped_pings,name = 'WCI (Dual head grouped)')\n",
    "viewer.w_index.value = 60 # select ping nr 60 at start"
   ]
  },
  {
   "cell_type": "code",
   "execution_count": null,
   "metadata": {},
   "outputs": [],
   "source": []
  }
 ],
 "metadata": {
  "kernelspec": {
   "display_name": "Python 3 (ipykernel)",
   "language": "python",
   "name": "python3"
  },
  "language_info": {
   "codemirror_mode": {
    "name": "ipython",
    "version": 3
   },
   "file_extension": ".py",
   "mimetype": "text/x-python",
   "name": "python",
   "nbconvert_exporter": "python",
   "pygments_lexer": "ipython3",
   "version": "3.13.3"
  },
  "widgets": {
   "application/vnd.jupyter.widget-state+json": {
    "state": {
     "0215b523a389413cac333778563c34c0": {
      "model_module": "@jupyter-widgets/controls",
      "model_module_version": "2.0.0",
      "model_name": "DescriptionStyleModel",
      "state": {
       "description_width": ""
      }
     },
     "03468d46f72a4fad880acabda45ed7d2": {
      "model_module": "@jupyter-widgets/controls",
      "model_module_version": "2.0.0",
      "model_name": "ButtonModel",
      "state": {
       "description": "unfix x/y",
       "layout": "IPY_MODEL_d4cffb12a81446eabbfb6d213b4fa60a",
       "style": "IPY_MODEL_a8c915a401b446958356920b9c61488d",
       "tooltip": null
      }
     },
     "04a4554843c24f00a1904bfe13d5c57e": {
      "model_module": "@jupyter-widgets/base",
      "model_module_version": "2.0.0",
      "model_name": "LayoutModel",
      "state": {
       "width": "10%"
      }
     },
     "057d25eead014efd97790fcc1455c6bd": {
      "model_module": "@jupyter-widgets/controls",
      "model_module_version": "2.0.0",
      "model_name": "IntSliderModel",
      "state": {
       "behavior": "drag-tap",
       "description": "horizontal pixels",
       "layout": "IPY_MODEL_2bfba2a4760745138c95ed74e8c19061",
       "max": 2048,
       "min": 2,
       "style": "IPY_MODEL_dec8123dfe3f4cae8226d6339ecff99a",
       "value": 1024
      }
     },
     "0769d50185fa42f1bf0c7edbaf8ecd7d": {
      "model_module": "@jupyter-widgets/base",
      "model_module_version": "2.0.0",
      "model_name": "LayoutModel",
      "state": {}
     },
     "07ab27bc39c3479b9acddfa2b3863d22": {
      "model_module": "@jupyter-widgets/controls",
      "model_module_version": "2.0.0",
      "model_name": "DropdownModel",
      "state": {
       "_options_labels": [
        "linear",
        "beamsample"
       ],
       "description": "wci render",
       "index": 0,
       "layout": "IPY_MODEL_c260c9c5f7794cf6b59a7f66748b3c5a",
       "style": "IPY_MODEL_885b016982e7472096a20c27bb6c4234"
      }
     },
     "08d4d30babf142cba7b7c668768eb913": {
      "model_module": "@jupyter-widgets/base",
      "model_module_version": "2.0.0",
      "model_name": "LayoutModel",
      "state": {
       "width": "50%"
      }
     },
     "0bca5d6a0b6f4d5394eeed1803fbc5af": {
      "model_module": "@jupyter-widgets/controls",
      "model_module_version": "2.0.0",
      "model_name": "DropdownModel",
      "state": {
       "_options_labels": [
        "auto",
        "equal"
       ],
       "description": "aspect",
       "index": 1,
       "layout": "IPY_MODEL_a14d8f73432e4fc38d223adf4ec83b14",
       "style": "IPY_MODEL_52345f1c872a402c9c74d6fbe434e8cc"
      }
     },
     "0c7595e9eb00429891db4b1e39ab2e7f": {
      "model_module": "@jupyter-widgets/controls",
      "model_module_version": "2.0.0",
      "model_name": "HBoxModel",
      "state": {
       "children": [
        "IPY_MODEL_74ab3509dbba4dff87ea82124b607f83",
        "IPY_MODEL_03468d46f72a4fad880acabda45ed7d2",
        "IPY_MODEL_facd6d98456440bbb4a3487be108ec74",
        "IPY_MODEL_be3e8cfee6094ca5bcb1a21f96e7ea0a"
       ],
       "layout": "IPY_MODEL_fab3fac2f63744f6bef9acc9a1157443"
      }
     },
     "0e66f68a185f410290a29f2a4a4c71bc": {
      "model_module": "@jupyter-widgets/base",
      "model_module_version": "2.0.0",
      "model_name": "LayoutModel",
      "state": {}
     },
     "117ab6242f104c248467376a762ec62f": {
      "model_module": "@jupyter-widgets/base",
      "model_module_version": "2.0.0",
      "model_name": "LayoutModel",
      "state": {}
     },
     "148d9ab5626b49129f2120ed6f330d7c": {
      "model_module": "@jupyter-widgets/controls",
      "model_module_version": "2.0.0",
      "model_name": "DescriptionStyleModel",
      "state": {
       "description_width": ""
      }
     },
     "191fb71429d94d229701f380a6138bf3": {
      "model_module": "@jupyter-widgets/base",
      "model_module_version": "2.0.0",
      "model_name": "LayoutModel",
      "state": {}
     },
     "1a186911003442f8af87ae34af0eb07f": {
      "model_module": "@jupyter-widgets/controls",
      "model_module_version": "2.0.0",
      "model_name": "HBoxModel",
      "state": {
       "children": [
        "IPY_MODEL_f2e3892552d24509a8b37e532b46790e",
        "IPY_MODEL_5d394641a8e7424ca6285a607959850f",
        "IPY_MODEL_e0321e57cd414217be1d1de1fa54483d",
        "IPY_MODEL_356f110e0ad8433a99357acddadb7a2d"
       ],
       "layout": "IPY_MODEL_69532fb68500407b8dc686416866cc69"
      }
     },
     "1a3f4b6af9d2432dbfffc3e6924d783a": {
      "model_module": "@jupyter-widgets/controls",
      "model_module_version": "2.0.0",
      "model_name": "TextModel",
      "state": {
       "layout": "IPY_MODEL_5e699da30c994bb38a9f63f4ae984fb3",
       "style": "IPY_MODEL_3cd9e8614bea4ae49e1d5c76eb76c5f6",
       "value": "2014-02-13"
      }
     },
     "1a9a13e6c4eb4e6d9ab4264d40b3e6b9": {
      "model_module": "@jupyter-widgets/base",
      "model_module_version": "2.0.0",
      "model_name": "LayoutModel",
      "state": {}
     },
     "1b8aff668ffe41c8bfc691e334d63757": {
      "model_module": "@jupyter-widgets/controls",
      "model_module_version": "2.0.0",
      "model_name": "VBoxModel",
      "state": {
       "children": [
        "IPY_MODEL_7bc4702af76143909dda8709d0864fbe",
        "IPY_MODEL_6b6a45198a8e40aa9f9860e369ff7e01"
       ],
       "layout": "IPY_MODEL_9bcaf8cddd60415283c7d473f569ef5e"
      }
     },
     "1ddd29e1f05f44f0abaa56dd3bfa631d": {
      "model_module": "@jupyter-widgets/controls",
      "model_module_version": "2.0.0",
      "model_name": "HTMLStyleModel",
      "state": {
       "description_width": "",
       "font_size": null,
       "text_color": null
      }
     },
     "1fccc3c418074227b8bc4889c9839b91": {
      "model_module": "@jupyter-widgets/controls",
      "model_module_version": "2.0.0",
      "model_name": "SliderStyleModel",
      "state": {
       "description_width": ""
      }
     },
     "2014c263791642e6bee5e94c51979a00": {
      "model_module": "@jupyter-widgets/controls",
      "model_module_version": "2.0.0",
      "model_name": "SliderStyleModel",
      "state": {
       "description_width": ""
      }
     },
     "20a9e66cc1cb47dd96ad4aca8bfee36b": {
      "model_module": "@jupyter-widgets/controls",
      "model_module_version": "2.0.0",
      "model_name": "HBoxModel",
      "state": {
       "layout": "IPY_MODEL_c8aa9b7ff21d49519c8bb9e18a78647f"
      }
     },
     "22e8cae962874521a21c8ea59e4b286c": {
      "model_module": "@jupyter-widgets/controls",
      "model_module_version": "2.0.0",
      "model_name": "CheckboxStyleModel",
      "state": {
       "description_width": ""
      }
     },
     "2348636949df4b8097b0ef9e3658a35f": {
      "model_module": "@jupyter-widgets/controls",
      "model_module_version": "2.0.0",
      "model_name": "DescriptionStyleModel",
      "state": {
       "description_width": ""
      }
     },
     "23e530128db9454d9666090ed93b6cda": {
      "model_module": "@jupyter-widgets/controls",
      "model_module_version": "2.0.0",
      "model_name": "TextModel",
      "state": {
       "description": "proc rate",
       "layout": "IPY_MODEL_e438704d7f914f1591eed4c4c998e775",
       "style": "IPY_MODEL_ce900fe6fa9e4e609d6e014784e94eb5",
       "value": "r1: 35.9 / r2: 7.1 / r3: [6.0] Hz"
      }
     },
     "25a5bfc2eaef41459636ef9429765a65": {
      "model_module": "@jupyter-widgets/base",
      "model_module_version": "2.0.0",
      "model_name": "LayoutModel",
      "state": {
       "width": "10%"
      }
     },
     "28968e192ed1445cbab1264c146530a6": {
      "model_module": "@jupyter-widgets/base",
      "model_module_version": "2.0.0",
      "model_name": "LayoutModel",
      "state": {}
     },
     "2a3ffebfc09e4526858500e0ed1c18d2": {
      "model_module": "@jupyter-widgets/controls",
      "model_module_version": "2.0.0",
      "model_name": "DescriptionStyleModel",
      "state": {
       "description_width": ""
      }
     },
     "2aea915e4be948f7ba51f6d1b4006234": {
      "model_module": "@jupyter-widgets/base",
      "model_module_version": "2.0.0",
      "model_name": "LayoutModel",
      "state": {}
     },
     "2aff8c28a0694bddb89f3597b1b17294": {
      "model_module": "@jupyter-widgets/controls",
      "model_module_version": "2.0.0",
      "model_name": "CheckboxModel",
      "state": {
       "description": "stack_linear",
       "disabled": false,
       "layout": "IPY_MODEL_f24eda84781a4af3bcec2f6e883d5271",
       "style": "IPY_MODEL_22e8cae962874521a21c8ea59e4b286c",
       "value": true
      }
     },
     "2b1a35211b8e4474b3501789f70eae72": {
      "model_module": "@jupyter-widgets/controls",
      "model_module_version": "2.0.0",
      "model_name": "TextStyleModel",
      "state": {
       "description_width": "",
       "font_size": null,
       "text_color": null
      }
     },
     "2b878ff8696246f586fb2d6718e3bb84": {
      "model_module": "@jupyter-widgets/controls",
      "model_module_version": "2.0.0",
      "model_name": "HBoxModel",
      "state": {
       "children": [
        "IPY_MODEL_3fde8fba58bf4d3ea65d4ef2aa59a954",
        "IPY_MODEL_985a220352724a67a70e3c473acdec02",
        "IPY_MODEL_0bca5d6a0b6f4d5394eeed1803fbc5af",
        "IPY_MODEL_fc5eb3335f5f4c02b8286d71c378e874"
       ],
       "layout": "IPY_MODEL_0769d50185fa42f1bf0c7edbaf8ecd7d"
      }
     },
     "2bfba2a4760745138c95ed74e8c19061": {
      "model_module": "@jupyter-widgets/base",
      "model_module_version": "2.0.0",
      "model_name": "LayoutModel",
      "state": {}
     },
     "2bfd60d2dda2471f8acaf47a4d86dac4": {
      "model_module": "jupyter-matplotlib",
      "model_module_version": "^0.11",
      "model_name": "MPLCanvasModel",
      "state": {
       "_cursor": "default",
       "_data_url": "data:image/png;base64,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",
       "_figure_label": "WCI (Dual head grouped)",
       "_image_mode": "diff",
       "_model_module_version": "^0.11",
       "_size": [
        1000,
        400
       ],
       "_view_module_version": "^0.11",
       "layout": "IPY_MODEL_117ab6242f104c248467376a762ec62f",
       "toolbar": "IPY_MODEL_c033997896334a899a642c23ce3d12dd",
       "toolbar_position": "left"
      }
     },
     "312398ddf97d4ca08ef2546ba199a355": {
      "model_module": "@jupyter-widgets/controls",
      "model_module_version": "2.0.0",
      "model_name": "DescriptionStyleModel",
      "state": {
       "description_width": ""
      }
     },
     "312eb003637a4ed7aee3abddf921c675": {
      "model_module": "@jupyter-widgets/controls",
      "model_module_version": "2.0.0",
      "model_name": "HTMLModel",
      "state": {
       "layout": "IPY_MODEL_5621696fd7d642a2a915559ec3d020da",
       "style": "IPY_MODEL_1ddd29e1f05f44f0abaa56dd3bfa631d",
       "value": "removing duplicates: 100%"
      }
     },
     "3186e332f1944acf82be41a6c3ca154f": {
      "model_module": "@jupyter-widgets/base",
      "model_module_version": "2.0.0",
      "model_name": "LayoutModel",
      "state": {}
     },
     "34b6e2a6759e42f4b0cf6b3c2cffdfff": {
      "model_module": "@jupyter-widgets/controls",
      "model_module_version": "2.0.0",
      "model_name": "IntTextModel",
      "state": {
       "description": "stack step:",
       "layout": "IPY_MODEL_e44d50941a104a23bb5853895fe7cf5e",
       "step": 1,
       "style": "IPY_MODEL_78d04dc692a3478ca302179ef2493467",
       "value": 1
      }
     },
     "356f110e0ad8433a99357acddadb7a2d": {
      "model_module": "@jupyter-widgets/controls",
      "model_module_version": "2.0.0",
      "model_name": "IntSliderModel",
      "state": {
       "behavior": "drag-tap",
       "description": "horizontal pixels",
       "layout": "IPY_MODEL_463fcf0afcbc4a77a3dd761f702990ca",
       "max": 2048,
       "min": 2,
       "style": "IPY_MODEL_e4b74599a2a349589036c08a2de72b21",
       "value": 1024
      }
     },
     "388031c1999240278238c244743f1b8a": {
      "model_module": "@jupyter-widgets/controls",
      "model_module_version": "2.0.0",
      "model_name": "TextStyleModel",
      "state": {
       "description_width": "",
       "font_size": null,
       "text_color": null
      }
     },
     "39380ff6ddc147dabd523b50cf8e391f": {
      "model_module": "@jupyter-widgets/controls",
      "model_module_version": "2.0.0",
      "model_name": "DropdownModel",
      "state": {
       "_options_labels": [
        "antialiased",
        "none",
        "nearest",
        "bilinear",
        "bicubic",
        "spline16",
        "spline36",
        "hanning",
        "hamming",
        "hermite",
        "kaiser",
        "quadric",
        "catrom",
        "gaussian",
        "bessel",
        "mitchell",
        "sinc",
        "lanczos",
        "blackman"
       ],
       "description": "interpolation",
       "index": 2,
       "layout": "IPY_MODEL_ffd4fc031fb4459bb1e27bf3e6f9e5b6",
       "style": "IPY_MODEL_66d0977d4f784bd898365ae460cf5e9c"
      }
     },
     "3b83351ebe8f4c0c857fa8334870e456": {
      "model_module": "@jupyter-widgets/base",
      "model_module_version": "2.0.0",
      "model_name": "LayoutModel",
      "state": {}
     },
     "3bd730e8c3cf40c09906cf833cf77c44": {
      "model_module": "@jupyter-widgets/controls",
      "model_module_version": "2.0.0",
      "model_name": "TextModel",
      "state": {
       "layout": "IPY_MODEL_25a5bfc2eaef41459636ef9429765a65",
       "style": "IPY_MODEL_4f7b378d434141a19c92f70f5eb5f71a",
       "value": "2023-03-18"
      }
     },
     "3c1df12b6165420984253c4be850bbb8": {
      "model_module": "@jupyter-widgets/base",
      "model_module_version": "2.0.0",
      "model_name": "LayoutModel",
      "state": {}
     },
     "3cd9e8614bea4ae49e1d5c76eb76c5f6": {
      "model_module": "@jupyter-widgets/controls",
      "model_module_version": "2.0.0",
      "model_name": "TextStyleModel",
      "state": {
       "description_width": "",
       "font_size": null,
       "text_color": null
      }
     },
     "3cf68185dec2490fa70f7b1f832decf8": {
      "model_module": "@jupyter-widgets/base",
      "model_module_version": "2.0.0",
      "model_name": "LayoutModel",
      "state": {
       "width": "50%"
      }
     },
     "3fde8fba58bf4d3ea65d4ef2aa59a954": {
      "model_module": "@jupyter-widgets/controls",
      "model_module_version": "2.0.0",
      "model_name": "FloatSliderModel",
      "state": {
       "behavior": "drag-tap",
       "description": "vmin",
       "layout": "IPY_MODEL_cd81a30821ae4fe8ab02377ce3042512",
       "min": -150,
       "step": 5,
       "style": "IPY_MODEL_f0bfd64fe9e74705912e122185dedd88",
       "value": -90
      }
     },
     "3ff39a412d044b33bd0d061ecb62b057": {
      "model_module": "@jupyter-widgets/controls",
      "model_module_version": "2.0.0",
      "model_name": "VBoxModel",
      "state": {
       "children": [
        "IPY_MODEL_2bfd60d2dda2471f8acaf47a4d86dac4",
        "IPY_MODEL_d7f555b1183d4b2092078c243b0bb09d",
        "IPY_MODEL_d93a391ccf8d42bfa0e8164bfc7e462a",
        "IPY_MODEL_2b878ff8696246f586fb2d6718e3bb84",
        "IPY_MODEL_f4ae2e4d097245459453f694c6fc026c",
        "IPY_MODEL_6cabff941fde4e41bbf47934cf5886d6"
       ],
       "layout": "IPY_MODEL_ad6de1e18a40475a8fce01a92f287b05"
      }
     },
     "442899c3841a496293238afa9a84019e": {
      "model_module": "@jupyter-widgets/base",
      "model_module_version": "2.0.0",
      "model_name": "LayoutModel",
      "state": {}
     },
     "463fcf0afcbc4a77a3dd761f702990ca": {
      "model_module": "@jupyter-widgets/base",
      "model_module_version": "2.0.0",
      "model_name": "LayoutModel",
      "state": {}
     },
     "4775f3a1e0554a49b96c97108d750572": {
      "model_module": "@jupyter-widgets/controls",
      "model_module_version": "2.0.0",
      "model_name": "VBoxModel",
      "state": {
       "children": [
        "IPY_MODEL_f2f23488d48f4f0d91f0ab534e7d3feb",
        "IPY_MODEL_1b8aff668ffe41c8bfc691e334d63757",
        "IPY_MODEL_1a186911003442f8af87ae34af0eb07f",
        "IPY_MODEL_fc6ba652d55342fe89a7673fa5b83b4c",
        "IPY_MODEL_6488801842d64457bbe3c69af4043cca",
        "IPY_MODEL_b3154f9baad74d9e85b1a6ac51be7908"
       ],
       "layout": "IPY_MODEL_442899c3841a496293238afa9a84019e"
      }
     },
     "48135e30fc0346aab4bd1060b7f75e22": {
      "model_module": "@jupyter-widgets/controls",
      "model_module_version": "2.0.0",
      "model_name": "IntSliderModel",
      "state": {
       "behavior": "drag-tap",
       "description": "ping nr",
       "layout": "IPY_MODEL_08d4d30babf142cba7b7c668768eb913",
       "max": 73,
       "style": "IPY_MODEL_2014c263791642e6bee5e94c51979a00",
       "value": 60
      }
     },
     "49d4d240eb9348baa37c0e7607f9d2e7": {
      "model_module": "@jupyter-widgets/controls",
      "model_module_version": "2.0.0",
      "model_name": "HBoxModel",
      "state": {
       "children": [
        "IPY_MODEL_f3d3e9ac767547eb87287c5c6620aa5a"
       ],
       "layout": "IPY_MODEL_d3b24f61839f4259a90f45688c387df7"
      }
     },
     "4a35a370322743b8b6d2028e1c90b82e": {
      "model_module": "@jupyter-widgets/base",
      "model_module_version": "2.0.0",
      "model_name": "LayoutModel",
      "state": {}
     },
     "4a76e82583a848fba1c29a40bb8ae69e": {
      "model_module": "@jupyter-widgets/controls",
      "model_module_version": "2.0.0",
      "model_name": "TextStyleModel",
      "state": {
       "description_width": "",
       "font_size": null,
       "text_color": null
      }
     },
     "4baabef3ff8248229e36351203683835": {
      "model_module": "jupyter-matplotlib",
      "model_module_version": "^0.11",
      "model_name": "ToolbarModel",
      "state": {
       "_model_module_version": "^0.11",
       "_view_module_version": "^0.11",
       "collapsed": true,
       "layout": "IPY_MODEL_bd5778ed281a4e33b0beff8a3c4dd6c2",
       "orientation": "vertical",
       "toolitems": [
        [
         "Home",
         "Reset original view",
         "home",
         "home"
        ],
        [
         "Back",
         "Back to previous view",
         "arrow-left",
         "back"
        ],
        [
         "Forward",
         "Forward to next view",
         "arrow-right",
         "forward"
        ],
        [
         "Pan",
         "Left button pans, Right button zooms\nx/y fixes axis, CTRL fixes aspect",
         "arrows",
         "pan"
        ],
        [
         "Zoom",
         "Zoom to rectangle\nx/y fixes axis",
         "square-o",
         "zoom"
        ],
        [
         "Download",
         "Download plot",
         "floppy-o",
         "save_figure"
        ]
       ]
      }
     },
     "4da6c53d5ae947488b5dd74e00d4f13a": {
      "model_module": "@jupyter-widgets/base",
      "model_module_version": "2.0.0",
      "model_name": "LayoutModel",
      "state": {
       "width": "15%"
      }
     },
     "4f7b378d434141a19c92f70f5eb5f71a": {
      "model_module": "@jupyter-widgets/controls",
      "model_module_version": "2.0.0",
      "model_name": "TextStyleModel",
      "state": {
       "description_width": "",
       "font_size": null,
       "text_color": null
      }
     },
     "519e7ac52c904e228f95a5654e454170": {
      "model_module": "@jupyter-widgets/controls",
      "model_module_version": "2.0.0",
      "model_name": "DescriptionStyleModel",
      "state": {
       "description_width": ""
      }
     },
     "52345f1c872a402c9c74d6fbe434e8cc": {
      "model_module": "@jupyter-widgets/controls",
      "model_module_version": "2.0.0",
      "model_name": "DescriptionStyleModel",
      "state": {
       "description_width": ""
      }
     },
     "5621696fd7d642a2a915559ec3d020da": {
      "model_module": "@jupyter-widgets/base",
      "model_module_version": "2.0.0",
      "model_name": "LayoutModel",
      "state": {}
     },
     "576e3f22e7f543199546d59f3431becc": {
      "model_module": "@jupyter-widgets/controls",
      "model_module_version": "2.0.0",
      "model_name": "DescriptionStyleModel",
      "state": {
       "description_width": ""
      }
     },
     "5c4daf9f4fa7415a9e93d05fcc120246": {
      "model_module": "@jupyter-widgets/controls",
      "model_module_version": "2.0.0",
      "model_name": "DescriptionStyleModel",
      "state": {
       "description_width": ""
      }
     },
     "5d394641a8e7424ca6285a607959850f": {
      "model_module": "@jupyter-widgets/controls",
      "model_module_version": "2.0.0",
      "model_name": "DropdownModel",
      "state": {
       "_options_labels": [
        "sv/av/pv/rv",
        "sv/av/pv",
        "sv/av",
        "sp/ap/pp/rp",
        "sp/ap/pp",
        "sp/ap",
        "power/amp",
        "av",
        "ap",
        "amp",
        "sv",
        "sp",
        "pv",
        "pp",
        "rv",
        "rp",
        "power"
       ],
       "description": "wci value",
       "index": 0,
       "layout": "IPY_MODEL_f6118508c4b745ac9cbc16b28dacf381",
       "style": "IPY_MODEL_312398ddf97d4ca08ef2546ba199a355"
      }
     },
     "5e052aa16a7747f58dc9ee5a69d946fe": {
      "model_module": "@jupyter-widgets/controls",
      "model_module_version": "2.0.0",
      "model_name": "ButtonModel",
      "state": {
       "description": "unfix x/y",
       "layout": "IPY_MODEL_b63f8cd1349f4835ab6b129101e1cf62",
       "style": "IPY_MODEL_eef1735b79fd4601bb51e5bb48c51fb7",
       "tooltip": null
      }
     },
     "5e318a470efd4ed887302f6b32a14e68": {
      "model_module": "@jupyter-widgets/controls",
      "model_module_version": "2.0.0",
      "model_name": "IntTextModel",
      "state": {
       "description": "mp_cores:",
       "layout": "IPY_MODEL_afe626a951b74155b21e8e35d9e37f2c",
       "step": 1,
       "style": "IPY_MODEL_2a3ffebfc09e4526858500e0ed1c18d2",
       "value": 1
      }
     },
     "5e699da30c994bb38a9f63f4ae984fb3": {
      "model_module": "@jupyter-widgets/base",
      "model_module_version": "2.0.0",
      "model_name": "LayoutModel",
      "state": {
       "width": "10%"
      }
     },
     "61bae36b55274e78a04ecb9e58044444": {
      "model_module": "@jupyter-widgets/controls",
      "model_module_version": "2.0.0",
      "model_name": "HTMLStyleModel",
      "state": {
       "description_width": "",
       "font_size": null,
       "text_color": null
      }
     },
     "61f78d4615674ae786bfbf6637a64a70": {
      "model_module": "@jupyter-widgets/base",
      "model_module_version": "2.0.0",
      "model_name": "LayoutModel",
      "state": {}
     },
     "63d31deedb2747b4b2dbc4a3e7c16874": {
      "model_module": "@jupyter-widgets/controls",
      "model_module_version": "2.0.0",
      "model_name": "ButtonStyleModel",
      "state": {
       "font_family": null,
       "font_size": null,
       "font_style": null,
       "font_variant": null,
       "font_weight": null,
       "text_color": null,
       "text_decoration": null
      }
     },
     "6488801842d64457bbe3c69af4043cca": {
      "model_module": "@jupyter-widgets/controls",
      "model_module_version": "2.0.0",
      "model_name": "HBoxModel",
      "state": {
       "children": [
        "IPY_MODEL_48135e30fc0346aab4bd1060b7f75e22",
        "IPY_MODEL_3bd730e8c3cf40c09906cf833cf77c44",
        "IPY_MODEL_a0c4738ae0be41b8bb587ca6f3a60c99",
        "IPY_MODEL_840268a33b444aefbe895c8e6587cc08",
        "IPY_MODEL_9c1dce8cbfc542378163242ce2a3c361",
        "IPY_MODEL_a91fdd4a89ea4593ac7c706fbbd6f985"
       ],
       "layout": "IPY_MODEL_28968e192ed1445cbab1264c146530a6"
      }
     },
     "66d0977d4f784bd898365ae460cf5e9c": {
      "model_module": "@jupyter-widgets/controls",
      "model_module_version": "2.0.0",
      "model_name": "DescriptionStyleModel",
      "state": {
       "description_width": ""
      }
     },
     "67a2e56f34c84f1eba4504bf84d9b2f2": {
      "model_module": "@jupyter-widgets/base",
      "model_module_version": "2.0.0",
      "model_name": "LayoutModel",
      "state": {}
     },
     "69532fb68500407b8dc686416866cc69": {
      "model_module": "@jupyter-widgets/base",
      "model_module_version": "2.0.0",
      "model_name": "LayoutModel",
      "state": {}
     },
     "6b6a45198a8e40aa9f9860e369ff7e01": {
      "model_module": "@jupyter-widgets/controls",
      "model_module_version": "2.0.0",
      "model_name": "HBoxModel",
      "state": {
       "children": [
        "IPY_MODEL_93cdec63ffd64896a1c8dbd2bbf07e0a",
        "IPY_MODEL_5e052aa16a7747f58dc9ee5a69d946fe",
        "IPY_MODEL_750678b0c6c84c5eac15fe10134b5b51",
        "IPY_MODEL_23e530128db9454d9666090ed93b6cda"
       ],
       "layout": "IPY_MODEL_b6d4b54ca46441eb8959a7e66a9c51c8"
      }
     },
     "6ba012eff9564047afb1162f7b561851": {
      "model_module": "@jupyter-widgets/base",
      "model_module_version": "2.0.0",
      "model_name": "LayoutModel",
      "state": {}
     },
     "6cabff941fde4e41bbf47934cf5886d6": {
      "model_module": "@jupyter-widgets/output",
      "model_module_version": "1.0.0",
      "model_name": "OutputModel",
      "state": {
       "layout": "IPY_MODEL_7189c943e91243edaf0a3e57e6f0d259"
      }
     },
     "6d70f007448e46b3a6e4f16a41a65afc": {
      "model_module": "@jupyter-widgets/controls",
      "model_module_version": "2.0.0",
      "model_name": "SliderStyleModel",
      "state": {
       "description_width": ""
      }
     },
     "7189c943e91243edaf0a3e57e6f0d259": {
      "model_module": "@jupyter-widgets/base",
      "model_module_version": "2.0.0",
      "model_name": "LayoutModel",
      "state": {}
     },
     "74ab3509dbba4dff87ea82124b607f83": {
      "model_module": "@jupyter-widgets/controls",
      "model_module_version": "2.0.0",
      "model_name": "ButtonModel",
      "state": {
       "button_style": "warning",
       "description": "fix x/y",
       "layout": "IPY_MODEL_e500c57918fb48d694cd1cd765f4355d",
       "style": "IPY_MODEL_e8cc8f1d7f964d1383a89ba4b93981ee",
       "tooltip": null
      }
     },
     "750678b0c6c84c5eac15fe10134b5b51": {
      "model_module": "@jupyter-widgets/controls",
      "model_module_version": "2.0.0",
      "model_name": "TextModel",
      "state": {
       "description": "proc time",
       "layout": "IPY_MODEL_a8cfbcaf79ae43d7b1a1b292813a0bd6",
       "style": "IPY_MODEL_4a76e82583a848fba1c29a40bb8ae69e",
       "value": "0.028 / 0.14 / [0.168] s"
      }
     },
     "7653bba3360844beba0a7ab29c1a42d1": {
      "model_module": "@jupyter-widgets/base",
      "model_module_version": "2.0.0",
      "model_name": "LayoutModel",
      "state": {
       "width": "15%"
      }
     },
     "78d04dc692a3478ca302179ef2493467": {
      "model_module": "@jupyter-widgets/controls",
      "model_module_version": "2.0.0",
      "model_name": "DescriptionStyleModel",
      "state": {
       "description_width": ""
      }
     },
     "794c795519c34393bb4c1f9b11ae1c1d": {
      "model_module": "@jupyter-widgets/controls",
      "model_module_version": "2.0.0",
      "model_name": "HBoxModel",
      "state": {
       "children": [
        "IPY_MODEL_312eb003637a4ed7aee3abddf921c675",
        "IPY_MODEL_c3d6264f8c9942219e54161be3289cf1",
        "IPY_MODEL_9187c35ea34b4d66a395a35f45ff7b2f"
       ],
       "layout": "IPY_MODEL_61f78d4615674ae786bfbf6637a64a70"
      }
     },
     "79b275b5d52c485283b83155cc14fa7b": {
      "model_module": "@jupyter-widgets/base",
      "model_module_version": "2.0.0",
      "model_name": "LayoutModel",
      "state": {}
     },
     "7ac145fa98204d8bb61ecd67426f698e": {
      "model_module": "@jupyter-widgets/controls",
      "model_module_version": "2.0.0",
      "model_name": "DescriptionStyleModel",
      "state": {
       "description_width": ""
      }
     },
     "7bc4702af76143909dda8709d0864fbe": {
      "model_module": "@jupyter-widgets/controls",
      "model_module_version": "2.0.0",
      "model_name": "HBoxModel",
      "state": {
       "children": [
        "IPY_MODEL_20a9e66cc1cb47dd96ad4aca8bfee36b"
       ],
       "layout": "IPY_MODEL_67a2e56f34c84f1eba4504bf84d9b2f2"
      }
     },
     "7bf5b482445e4cc694fc0bcb3ea53492": {
      "model_module": "@jupyter-widgets/base",
      "model_module_version": "2.0.0",
      "model_name": "LayoutModel",
      "state": {}
     },
     "805bab58e7194229906d5eb2a02e62b2": {
      "model_module": "@jupyter-widgets/base",
      "model_module_version": "2.0.0",
      "model_name": "LayoutModel",
      "state": {}
     },
     "8164fe33e2624d2c8e2e0e6467ee7177": {
      "model_module": "@jupyter-widgets/controls",
      "model_module_version": "2.0.0",
      "model_name": "FloatSliderModel",
      "state": {
       "behavior": "drag-tap",
       "description": "vmax",
       "layout": "IPY_MODEL_1a9a13e6c4eb4e6d9ab4264d40b3e6b9",
       "min": -150,
       "step": 5,
       "style": "IPY_MODEL_1fccc3c418074227b8bc4889c9839b91",
       "value": -25
      }
     },
     "840268a33b444aefbe895c8e6587cc08": {
      "model_module": "@jupyter-widgets/controls",
      "model_module_version": "2.0.0",
      "model_name": "IntTextModel",
      "state": {
       "description": "stack:",
       "layout": "IPY_MODEL_e9c5e9c99b5341fba2d348fbefc9ea7b",
       "step": 1,
       "style": "IPY_MODEL_148d9ab5626b49129f2120ed6f330d7c",
       "value": 1
      }
     },
     "885b016982e7472096a20c27bb6c4234": {
      "model_module": "@jupyter-widgets/controls",
      "model_module_version": "2.0.0",
      "model_name": "DescriptionStyleModel",
      "state": {
       "description_width": ""
      }
     },
     "885eb3c4a7d24514966a37407c17f737": {
      "model_module": "@jupyter-widgets/base",
      "model_module_version": "2.0.0",
      "model_name": "LayoutModel",
      "state": {}
     },
     "8a52accd4c244d3da23f01ea457e5311": {
      "model_module": "@jupyter-widgets/controls",
      "model_module_version": "2.0.0",
      "model_name": "DropdownModel",
      "state": {
       "_options_labels": [
        "sv/av/pv/rv",
        "sv/av/pv",
        "sv/av",
        "sp/ap/pp/rp",
        "sp/ap/pp",
        "sp/ap",
        "power/amp",
        "av",
        "ap",
        "amp",
        "sv",
        "sp",
        "pv",
        "pp",
        "rv",
        "rp",
        "power"
       ],
       "description": "wci value",
       "index": 0,
       "layout": "IPY_MODEL_f626cd63fe3e4853aadf9127cd9c59fb",
       "style": "IPY_MODEL_576e3f22e7f543199546d59f3431becc"
      }
     },
     "9187c35ea34b4d66a395a35f45ff7b2f": {
      "model_module": "@jupyter-widgets/controls",
      "model_module_version": "2.0.0",
      "model_name": "HTMLModel",
      "state": {
       "layout": "IPY_MODEL_c3363c2045114224a2471a4f3c6f39ce",
       "style": "IPY_MODEL_61bae36b55274e78a04ecb9e58044444",
       "value": " 18/18 [00:00&lt;00:00, 7106.98it/s]"
      }
     },
     "9263a238fe1a43fa980570b2ff55e9ef": {
      "model_module": "@jupyter-widgets/controls",
      "model_module_version": "2.0.0",
      "model_name": "IntSliderModel",
      "state": {
       "behavior": "drag-tap",
       "description": "ping nr",
       "layout": "IPY_MODEL_3cf68185dec2490fa70f7b1f832decf8",
       "max": 66,
       "style": "IPY_MODEL_c821055c32d441a29989534cac557acc",
       "value": 33
      }
     },
     "93cdec63ffd64896a1c8dbd2bbf07e0a": {
      "model_module": "@jupyter-widgets/controls",
      "model_module_version": "2.0.0",
      "model_name": "ButtonModel",
      "state": {
       "button_style": "warning",
       "description": "fix x/y",
       "layout": "IPY_MODEL_3b83351ebe8f4c0c857fa8334870e456",
       "style": "IPY_MODEL_63d31deedb2747b4b2dbc4a3e7c16874",
       "tooltip": null
      }
     },
     "93f82ebf2d52469b903f569423d67265": {
      "model_module": "@jupyter-widgets/controls",
      "model_module_version": "2.0.0",
      "model_name": "TextStyleModel",
      "state": {
       "description_width": "",
       "font_size": null,
       "text_color": null
      }
     },
     "985a220352724a67a70e3c473acdec02": {
      "model_module": "@jupyter-widgets/controls",
      "model_module_version": "2.0.0",
      "model_name": "FloatSliderModel",
      "state": {
       "behavior": "drag-tap",
       "description": "vmax",
       "layout": "IPY_MODEL_9ddf01f37bd94b4588da8fcad9fd5069",
       "min": -150,
       "step": 5,
       "style": "IPY_MODEL_6d70f007448e46b3a6e4f16a41a65afc",
       "value": -25
      }
     },
     "98e992cb9c614685a1f13e7e9a2fa63e": {
      "model_module": "@jupyter-widgets/base",
      "model_module_version": "2.0.0",
      "model_name": "LayoutModel",
      "state": {
       "width": "10%"
      }
     },
     "9bcaf8cddd60415283c7d473f569ef5e": {
      "model_module": "@jupyter-widgets/base",
      "model_module_version": "2.0.0",
      "model_name": "LayoutModel",
      "state": {}
     },
     "9c1dce8cbfc542378163242ce2a3c361": {
      "model_module": "@jupyter-widgets/controls",
      "model_module_version": "2.0.0",
      "model_name": "IntTextModel",
      "state": {
       "description": "stack step:",
       "layout": "IPY_MODEL_4da6c53d5ae947488b5dd74e00d4f13a",
       "step": 1,
       "style": "IPY_MODEL_7ac145fa98204d8bb61ecd67426f698e",
       "value": 1
      }
     },
     "9ddf01f37bd94b4588da8fcad9fd5069": {
      "model_module": "@jupyter-widgets/base",
      "model_module_version": "2.0.0",
      "model_name": "LayoutModel",
      "state": {}
     },
     "9eb8500ed5644ad48fb71511bcdfc584": {
      "model_module": "@jupyter-widgets/controls",
      "model_module_version": "2.0.0",
      "model_name": "IntTextModel",
      "state": {
       "description": "stack:",
       "layout": "IPY_MODEL_dec5d401a91e4d20854bfc0485b9333f",
       "step": 1,
       "style": "IPY_MODEL_2348636949df4b8097b0ef9e3658a35f",
       "value": 1
      }
     },
     "a0c4738ae0be41b8bb587ca6f3a60c99": {
      "model_module": "@jupyter-widgets/controls",
      "model_module_version": "2.0.0",
      "model_name": "TextModel",
      "state": {
       "layout": "IPY_MODEL_98e992cb9c614685a1f13e7e9a2fa63e",
       "style": "IPY_MODEL_ea74612788c249629c220935806b4a74",
       "value": "17:37:53"
      }
     },
     "a14d8f73432e4fc38d223adf4ec83b14": {
      "model_module": "@jupyter-widgets/base",
      "model_module_version": "2.0.0",
      "model_name": "LayoutModel",
      "state": {}
     },
     "a7f5e65f12c14d60acbe290294fe308b": {
      "model_module": "@jupyter-widgets/base",
      "model_module_version": "2.0.0",
      "model_name": "LayoutModel",
      "state": {}
     },
     "a8c915a401b446958356920b9c61488d": {
      "model_module": "@jupyter-widgets/controls",
      "model_module_version": "2.0.0",
      "model_name": "ButtonStyleModel",
      "state": {
       "font_family": null,
       "font_size": null,
       "font_style": null,
       "font_variant": null,
       "font_weight": null,
       "text_color": null,
       "text_decoration": null
      }
     },
     "a8cfbcaf79ae43d7b1a1b292813a0bd6": {
      "model_module": "@jupyter-widgets/base",
      "model_module_version": "2.0.0",
      "model_name": "LayoutModel",
      "state": {}
     },
     "a91fdd4a89ea4593ac7c706fbbd6f985": {
      "model_module": "@jupyter-widgets/controls",
      "model_module_version": "2.0.0",
      "model_name": "IntTextModel",
      "state": {
       "description": "mp_cores:",
       "layout": "IPY_MODEL_7653bba3360844beba0a7ab29c1a42d1",
       "step": 1,
       "style": "IPY_MODEL_519e7ac52c904e228f95a5654e454170",
       "value": 1
      }
     },
     "ad6de1e18a40475a8fce01a92f287b05": {
      "model_module": "@jupyter-widgets/base",
      "model_module_version": "2.0.0",
      "model_name": "LayoutModel",
      "state": {}
     },
     "afe626a951b74155b21e8e35d9e37f2c": {
      "model_module": "@jupyter-widgets/base",
      "model_module_version": "2.0.0",
      "model_name": "LayoutModel",
      "state": {
       "width": "15%"
      }
     },
     "b3154f9baad74d9e85b1a6ac51be7908": {
      "model_module": "@jupyter-widgets/output",
      "model_module_version": "1.0.0",
      "model_name": "OutputModel",
      "state": {
       "layout": "IPY_MODEL_79b275b5d52c485283b83155cc14fa7b"
      }
     },
     "b474713a44554158bd67ac7941b9a9bd": {
      "model_module": "@jupyter-widgets/base",
      "model_module_version": "2.0.0",
      "model_name": "LayoutModel",
      "state": {}
     },
     "b63f8cd1349f4835ab6b129101e1cf62": {
      "model_module": "@jupyter-widgets/base",
      "model_module_version": "2.0.0",
      "model_name": "LayoutModel",
      "state": {}
     },
     "b6d4b54ca46441eb8959a7e66a9c51c8": {
      "model_module": "@jupyter-widgets/base",
      "model_module_version": "2.0.0",
      "model_name": "LayoutModel",
      "state": {}
     },
     "b81d12c8e9c94bfd9bff9f076afc03cd": {
      "model_module": "@jupyter-widgets/controls",
      "model_module_version": "2.0.0",
      "model_name": "CheckboxStyleModel",
      "state": {
       "description_width": ""
      }
     },
     "bd5778ed281a4e33b0beff8a3c4dd6c2": {
      "model_module": "@jupyter-widgets/base",
      "model_module_version": "2.0.0",
      "model_name": "LayoutModel",
      "state": {}
     },
     "be3e8cfee6094ca5bcb1a21f96e7ea0a": {
      "model_module": "@jupyter-widgets/controls",
      "model_module_version": "2.0.0",
      "model_name": "TextModel",
      "state": {
       "description": "proc rate",
       "layout": "IPY_MODEL_c9da19d300294fde895ac85191fedf4d",
       "style": "IPY_MODEL_388031c1999240278238c244743f1b8a",
       "value": "r1: 34.8 / r2: 9.2 / r3: [7.3] Hz"
      }
     },
     "c033997896334a899a642c23ce3d12dd": {
      "model_module": "jupyter-matplotlib",
      "model_module_version": "^0.11",
      "model_name": "ToolbarModel",
      "state": {
       "_model_module_version": "^0.11",
       "_view_module_version": "^0.11",
       "collapsed": true,
       "layout": "IPY_MODEL_c7e92b12c3454db999403abc56bddaa4",
       "orientation": "vertical",
       "toolitems": [
        [
         "Home",
         "Reset original view",
         "home",
         "home"
        ],
        [
         "Back",
         "Back to previous view",
         "arrow-left",
         "back"
        ],
        [
         "Forward",
         "Forward to next view",
         "arrow-right",
         "forward"
        ],
        [
         "Pan",
         "Left button pans, Right button zooms\nx/y fixes axis, CTRL fixes aspect",
         "arrows",
         "pan"
        ],
        [
         "Zoom",
         "Zoom to rectangle\nx/y fixes axis",
         "square-o",
         "zoom"
        ],
        [
         "Download",
         "Download plot",
         "floppy-o",
         "save_figure"
        ]
       ]
      }
     },
     "c260c9c5f7794cf6b59a7f66748b3c5a": {
      "model_module": "@jupyter-widgets/base",
      "model_module_version": "2.0.0",
      "model_name": "LayoutModel",
      "state": {}
     },
     "c3363c2045114224a2471a4f3c6f39ce": {
      "model_module": "@jupyter-widgets/base",
      "model_module_version": "2.0.0",
      "model_name": "LayoutModel",
      "state": {}
     },
     "c39cce7de51845f2a7f3b66da7b070ac": {
      "model_module": "@jupyter-widgets/base",
      "model_module_version": "2.0.0",
      "model_name": "LayoutModel",
      "state": {}
     },
     "c3d6264f8c9942219e54161be3289cf1": {
      "model_module": "@jupyter-widgets/controls",
      "model_module_version": "2.0.0",
      "model_name": "FloatProgressModel",
      "state": {
       "bar_style": "success",
       "layout": "IPY_MODEL_c39cce7de51845f2a7f3b66da7b070ac",
       "max": 18,
       "style": "IPY_MODEL_de34c5f68a6247e298e8b4ed50482fbe",
       "value": 18
      }
     },
     "c7e92b12c3454db999403abc56bddaa4": {
      "model_module": "@jupyter-widgets/base",
      "model_module_version": "2.0.0",
      "model_name": "LayoutModel",
      "state": {}
     },
     "c821055c32d441a29989534cac557acc": {
      "model_module": "@jupyter-widgets/controls",
      "model_module_version": "2.0.0",
      "model_name": "SliderStyleModel",
      "state": {
       "description_width": ""
      }
     },
     "c8aa9b7ff21d49519c8bb9e18a78647f": {
      "model_module": "@jupyter-widgets/base",
      "model_module_version": "2.0.0",
      "model_name": "LayoutModel",
      "state": {}
     },
     "c9da19d300294fde895ac85191fedf4d": {
      "model_module": "@jupyter-widgets/base",
      "model_module_version": "2.0.0",
      "model_name": "LayoutModel",
      "state": {}
     },
     "ca664c25e2704cf68ed49b3ad96ecac6": {
      "model_module": "@jupyter-widgets/controls",
      "model_module_version": "2.0.0",
      "model_name": "SliderStyleModel",
      "state": {
       "description_width": ""
      }
     },
     "cd81a30821ae4fe8ab02377ce3042512": {
      "model_module": "@jupyter-widgets/base",
      "model_module_version": "2.0.0",
      "model_name": "LayoutModel",
      "state": {}
     },
     "ce900fe6fa9e4e609d6e014784e94eb5": {
      "model_module": "@jupyter-widgets/controls",
      "model_module_version": "2.0.0",
      "model_name": "TextStyleModel",
      "state": {
       "description_width": "",
       "font_size": null,
       "text_color": null
      }
     },
     "d3b24f61839f4259a90f45688c387df7": {
      "model_module": "@jupyter-widgets/base",
      "model_module_version": "2.0.0",
      "model_name": "LayoutModel",
      "state": {}
     },
     "d4cffb12a81446eabbfb6d213b4fa60a": {
      "model_module": "@jupyter-widgets/base",
      "model_module_version": "2.0.0",
      "model_name": "LayoutModel",
      "state": {}
     },
     "d79027732d9c4e73b98f9569052ec855": {
      "model_module": "@jupyter-widgets/controls",
      "model_module_version": "2.0.0",
      "model_name": "DescriptionStyleModel",
      "state": {
       "description_width": ""
      }
     },
     "d7f555b1183d4b2092078c243b0bb09d": {
      "model_module": "@jupyter-widgets/controls",
      "model_module_version": "2.0.0",
      "model_name": "VBoxModel",
      "state": {
       "children": [
        "IPY_MODEL_49d4d240eb9348baa37c0e7607f9d2e7",
        "IPY_MODEL_0c7595e9eb00429891db4b1e39ab2e7f"
       ],
       "layout": "IPY_MODEL_191fb71429d94d229701f380a6138bf3"
      }
     },
     "d93a391ccf8d42bfa0e8164bfc7e462a": {
      "model_module": "@jupyter-widgets/controls",
      "model_module_version": "2.0.0",
      "model_name": "HBoxModel",
      "state": {
       "children": [
        "IPY_MODEL_2aff8c28a0694bddb89f3597b1b17294",
        "IPY_MODEL_8a52accd4c244d3da23f01ea457e5311",
        "IPY_MODEL_07ab27bc39c3479b9acddfa2b3863d22",
        "IPY_MODEL_057d25eead014efd97790fcc1455c6bd"
       ],
       "layout": "IPY_MODEL_a7f5e65f12c14d60acbe290294fe308b"
      }
     },
     "de34c5f68a6247e298e8b4ed50482fbe": {
      "model_module": "@jupyter-widgets/controls",
      "model_module_version": "2.0.0",
      "model_name": "ProgressStyleModel",
      "state": {
       "description_width": ""
      }
     },
     "dec5d401a91e4d20854bfc0485b9333f": {
      "model_module": "@jupyter-widgets/base",
      "model_module_version": "2.0.0",
      "model_name": "LayoutModel",
      "state": {
       "width": "15%"
      }
     },
     "dec8123dfe3f4cae8226d6339ecff99a": {
      "model_module": "@jupyter-widgets/controls",
      "model_module_version": "2.0.0",
      "model_name": "SliderStyleModel",
      "state": {
       "description_width": ""
      }
     },
     "e0321e57cd414217be1d1de1fa54483d": {
      "model_module": "@jupyter-widgets/controls",
      "model_module_version": "2.0.0",
      "model_name": "DropdownModel",
      "state": {
       "_options_labels": [
        "linear",
        "beamsample"
       ],
       "description": "wci render",
       "index": 0,
       "layout": "IPY_MODEL_4a35a370322743b8b6d2028e1c90b82e",
       "style": "IPY_MODEL_5c4daf9f4fa7415a9e93d05fcc120246"
      }
     },
     "e2e3a8dd1dfb4ce7b58283371c027026": {
      "model_module": "@jupyter-widgets/controls",
      "model_module_version": "2.0.0",
      "model_name": "FloatSliderModel",
      "state": {
       "behavior": "drag-tap",
       "description": "vmin",
       "layout": "IPY_MODEL_6ba012eff9564047afb1162f7b561851",
       "min": -150,
       "step": 5,
       "style": "IPY_MODEL_ca664c25e2704cf68ed49b3ad96ecac6",
       "value": -90
      }
     },
     "e438704d7f914f1591eed4c4c998e775": {
      "model_module": "@jupyter-widgets/base",
      "model_module_version": "2.0.0",
      "model_name": "LayoutModel",
      "state": {}
     },
     "e44d50941a104a23bb5853895fe7cf5e": {
      "model_module": "@jupyter-widgets/base",
      "model_module_version": "2.0.0",
      "model_name": "LayoutModel",
      "state": {
       "width": "15%"
      }
     },
     "e4b74599a2a349589036c08a2de72b21": {
      "model_module": "@jupyter-widgets/controls",
      "model_module_version": "2.0.0",
      "model_name": "SliderStyleModel",
      "state": {
       "description_width": ""
      }
     },
     "e500c57918fb48d694cd1cd765f4355d": {
      "model_module": "@jupyter-widgets/base",
      "model_module_version": "2.0.0",
      "model_name": "LayoutModel",
      "state": {}
     },
     "e8cc8f1d7f964d1383a89ba4b93981ee": {
      "model_module": "@jupyter-widgets/controls",
      "model_module_version": "2.0.0",
      "model_name": "ButtonStyleModel",
      "state": {
       "font_family": null,
       "font_size": null,
       "font_style": null,
       "font_variant": null,
       "font_weight": null,
       "text_color": null,
       "text_decoration": null
      }
     },
     "e9c5e9c99b5341fba2d348fbefc9ea7b": {
      "model_module": "@jupyter-widgets/base",
      "model_module_version": "2.0.0",
      "model_name": "LayoutModel",
      "state": {
       "width": "15%"
      }
     },
     "ea74612788c249629c220935806b4a74": {
      "model_module": "@jupyter-widgets/controls",
      "model_module_version": "2.0.0",
      "model_name": "TextStyleModel",
      "state": {
       "description_width": "",
       "font_size": null,
       "text_color": null
      }
     },
     "ecbb11c04e9a43f89c3a749067883775": {
      "model_module": "@jupyter-widgets/controls",
      "model_module_version": "2.0.0",
      "model_name": "TextModel",
      "state": {
       "layout": "IPY_MODEL_04a4554843c24f00a1904bfe13d5c57e",
       "style": "IPY_MODEL_2b1a35211b8e4474b3501789f70eae72",
       "value": "08:12:42"
      }
     },
     "eef1735b79fd4601bb51e5bb48c51fb7": {
      "model_module": "@jupyter-widgets/controls",
      "model_module_version": "2.0.0",
      "model_name": "ButtonStyleModel",
      "state": {
       "font_family": null,
       "font_size": null,
       "font_style": null,
       "font_variant": null,
       "font_weight": null,
       "text_color": null,
       "text_decoration": null
      }
     },
     "f0bfd64fe9e74705912e122185dedd88": {
      "model_module": "@jupyter-widgets/controls",
      "model_module_version": "2.0.0",
      "model_name": "SliderStyleModel",
      "state": {
       "description_width": ""
      }
     },
     "f10c75c004bc4eae90d5e3d51c404fc1": {
      "model_module": "@jupyter-widgets/controls",
      "model_module_version": "2.0.0",
      "model_name": "DropdownModel",
      "state": {
       "_options_labels": [
        "auto",
        "equal"
       ],
       "description": "aspect",
       "index": 1,
       "layout": "IPY_MODEL_3c1df12b6165420984253c4be850bbb8",
       "style": "IPY_MODEL_0215b523a389413cac333778563c34c0"
      }
     },
     "f24eda84781a4af3bcec2f6e883d5271": {
      "model_module": "@jupyter-widgets/base",
      "model_module_version": "2.0.0",
      "model_name": "LayoutModel",
      "state": {}
     },
     "f2e3892552d24509a8b37e532b46790e": {
      "model_module": "@jupyter-widgets/controls",
      "model_module_version": "2.0.0",
      "model_name": "CheckboxModel",
      "state": {
       "description": "stack_linear",
       "disabled": false,
       "layout": "IPY_MODEL_b474713a44554158bd67ac7941b9a9bd",
       "style": "IPY_MODEL_b81d12c8e9c94bfd9bff9f076afc03cd",
       "value": true
      }
     },
     "f2f23488d48f4f0d91f0ab534e7d3feb": {
      "model_module": "jupyter-matplotlib",
      "model_module_version": "^0.11",
      "model_name": "MPLCanvasModel",
      "state": {
       "_cursor": "default",
       "_data_url": "data:image/png;base64,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",
       "_figure_label": "WCI",
       "_message": "(x, y) = (31.9, 30.4)\n[-64.1]",
       "_model_module_version": "^0.11",
       "_size": [
        1000,
        400
       ],
       "_view_module_version": "^0.11",
       "layout": "IPY_MODEL_805bab58e7194229906d5eb2a02e62b2",
       "toolbar": "IPY_MODEL_4baabef3ff8248229e36351203683835",
       "toolbar_position": "left"
      }
     },
     "f3d3e9ac767547eb87287c5c6620aa5a": {
      "model_module": "@jupyter-widgets/controls",
      "model_module_version": "2.0.0",
      "model_name": "HBoxModel",
      "state": {
       "layout": "IPY_MODEL_2aea915e4be948f7ba51f6d1b4006234"
      }
     },
     "f4ae2e4d097245459453f694c6fc026c": {
      "model_module": "@jupyter-widgets/controls",
      "model_module_version": "2.0.0",
      "model_name": "HBoxModel",
      "state": {
       "children": [
        "IPY_MODEL_9263a238fe1a43fa980570b2ff55e9ef",
        "IPY_MODEL_1a3f4b6af9d2432dbfffc3e6924d783a",
        "IPY_MODEL_ecbb11c04e9a43f89c3a749067883775",
        "IPY_MODEL_9eb8500ed5644ad48fb71511bcdfc584",
        "IPY_MODEL_34b6e2a6759e42f4b0cf6b3c2cffdfff",
        "IPY_MODEL_5e318a470efd4ed887302f6b32a14e68"
       ],
       "layout": "IPY_MODEL_0e66f68a185f410290a29f2a4a4c71bc"
      }
     },
     "f6118508c4b745ac9cbc16b28dacf381": {
      "model_module": "@jupyter-widgets/base",
      "model_module_version": "2.0.0",
      "model_name": "LayoutModel",
      "state": {}
     },
     "f626cd63fe3e4853aadf9127cd9c59fb": {
      "model_module": "@jupyter-widgets/base",
      "model_module_version": "2.0.0",
      "model_name": "LayoutModel",
      "state": {}
     },
     "fab3fac2f63744f6bef9acc9a1157443": {
      "model_module": "@jupyter-widgets/base",
      "model_module_version": "2.0.0",
      "model_name": "LayoutModel",
      "state": {}
     },
     "facd6d98456440bbb4a3487be108ec74": {
      "model_module": "@jupyter-widgets/controls",
      "model_module_version": "2.0.0",
      "model_name": "TextModel",
      "state": {
       "description": "proc time",
       "layout": "IPY_MODEL_7bf5b482445e4cc694fc0bcb3ea53492",
       "style": "IPY_MODEL_93f82ebf2d52469b903f569423d67265",
       "value": "0.029 / 0.108 / [0.137] s"
      }
     },
     "fc5eb3335f5f4c02b8286d71c378e874": {
      "model_module": "@jupyter-widgets/controls",
      "model_module_version": "2.0.0",
      "model_name": "DropdownModel",
      "state": {
       "_options_labels": [
        "antialiased",
        "none",
        "nearest",
        "bilinear",
        "bicubic",
        "spline16",
        "spline36",
        "hanning",
        "hamming",
        "hermite",
        "kaiser",
        "quadric",
        "catrom",
        "gaussian",
        "bessel",
        "mitchell",
        "sinc",
        "lanczos",
        "blackman"
       ],
       "description": "interpolation",
       "index": 2,
       "layout": "IPY_MODEL_3186e332f1944acf82be41a6c3ca154f",
       "style": "IPY_MODEL_d79027732d9c4e73b98f9569052ec855"
      }
     },
     "fc6ba652d55342fe89a7673fa5b83b4c": {
      "model_module": "@jupyter-widgets/controls",
      "model_module_version": "2.0.0",
      "model_name": "HBoxModel",
      "state": {
       "children": [
        "IPY_MODEL_e2e3a8dd1dfb4ce7b58283371c027026",
        "IPY_MODEL_8164fe33e2624d2c8e2e0e6467ee7177",
        "IPY_MODEL_f10c75c004bc4eae90d5e3d51c404fc1",
        "IPY_MODEL_39380ff6ddc147dabd523b50cf8e391f"
       ],
       "layout": "IPY_MODEL_885eb3c4a7d24514966a37407c17f737"
      }
     },
     "ffd4fc031fb4459bb1e27bf3e6f9e5b6": {
      "model_module": "@jupyter-widgets/base",
      "model_module_version": "2.0.0",
      "model_name": "LayoutModel",
      "state": {}
     }
    },
    "version_major": 2,
    "version_minor": 0
   }
  }
 },
 "nbformat": 4,
 "nbformat_minor": 4
}
